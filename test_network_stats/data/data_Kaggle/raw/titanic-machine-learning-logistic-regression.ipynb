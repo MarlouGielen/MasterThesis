{
 "cells": [
  {
   "cell_type": "markdown",
   "id": "79d0cf6e",
   "metadata": {
    "papermill": {
     "duration": 0.010843,
     "end_time": "2023-09-25T15:26:06.095584",
     "exception": false,
     "start_time": "2023-09-25T15:26:06.084741",
     "status": "completed"
    },
    "tags": []
   },
   "source": [
    "<div style=\"text-align: center; background-color: #ccffcc; color: #006600; padding: 20px; border-radius: 5px;\">\n",
    "    <h2 style=\"margin: 0; font-size: 13px;\">Don't forget to upvote if you liked the notebook</h2>\n",
    "</div>\n"
   ]
  },
  {
   "cell_type": "markdown",
   "id": "3ee80dda",
   "metadata": {
    "papermill": {
     "duration": 0.010861,
     "end_time": "2023-09-25T15:26:06.116947",
     "exception": false,
     "start_time": "2023-09-25T15:26:06.106086",
     "status": "completed"
    },
    "tags": []
   },
   "source": [
    "## Import Packages"
   ]
  },
  {
   "cell_type": "code",
   "execution_count": 1,
   "id": "f44456b6",
   "metadata": {
    "execution": {
     "iopub.execute_input": "2023-09-25T15:26:06.141180Z",
     "iopub.status.busy": "2023-09-25T15:26:06.140507Z",
     "iopub.status.idle": "2023-09-25T15:26:08.051950Z",
     "shell.execute_reply": "2023-09-25T15:26:08.050627Z"
    },
    "papermill": {
     "duration": 1.926603,
     "end_time": "2023-09-25T15:26:08.054315",
     "exception": false,
     "start_time": "2023-09-25T15:26:06.127712",
     "status": "completed"
    },
    "tags": []
   },
   "outputs": [
    {
     "name": "stderr",
     "output_type": "stream",
     "text": [
      "/opt/conda/lib/python3.10/site-packages/scipy/__init__.py:146: UserWarning: A NumPy version >=1.16.5 and <1.23.0 is required for this version of SciPy (detected version 1.23.5\n",
      "  warnings.warn(f\"A NumPy version >={np_minversion} and <{np_maxversion}\"\n"
     ]
    }
   ],
   "source": [
    "import pandas as pd\n",
    "import numpy as np\n",
    "from matplotlib import pyplot as plt\n",
    "import seaborn as sns\n",
    "from sklearn.metrics import accuracy_score\n",
    "from sklearn.preprocessing import LabelEncoder, OneHotEncoder, StandardScaler\n",
    "from sklearn.impute import KNNImputer"
   ]
  },
  {
   "cell_type": "markdown",
   "id": "756af645",
   "metadata": {
    "papermill": {
     "duration": 0.010973,
     "end_time": "2023-09-25T15:26:08.077140",
     "exception": false,
     "start_time": "2023-09-25T15:26:08.066167",
     "status": "completed"
    },
    "tags": []
   },
   "source": [
    "## Loading the data"
   ]
  },
  {
   "cell_type": "code",
   "execution_count": 2,
   "id": "2f9e0cdb",
   "metadata": {
    "execution": {
     "iopub.execute_input": "2023-09-25T15:26:08.099496Z",
     "iopub.status.busy": "2023-09-25T15:26:08.098969Z",
     "iopub.status.idle": "2023-09-25T15:26:08.125798Z",
     "shell.execute_reply": "2023-09-25T15:26:08.124848Z"
    },
    "papermill": {
     "duration": 0.040833,
     "end_time": "2023-09-25T15:26:08.128125",
     "exception": false,
     "start_time": "2023-09-25T15:26:08.087292",
     "status": "completed"
    },
    "tags": []
   },
   "outputs": [],
   "source": [
    "train_data=pd.read_csv(\"/kaggle/input/titanic/train.csv\")\n",
    "test_data=pd.read_csv(\"/kaggle/input/titanic/test.csv\")"
   ]
  },
  {
   "cell_type": "code",
   "execution_count": 3,
   "id": "a0004709",
   "metadata": {
    "execution": {
     "iopub.execute_input": "2023-09-25T15:26:08.152196Z",
     "iopub.status.busy": "2023-09-25T15:26:08.151818Z",
     "iopub.status.idle": "2023-09-25T15:26:08.174135Z",
     "shell.execute_reply": "2023-09-25T15:26:08.173225Z"
    },
    "papermill": {
     "duration": 0.037316,
     "end_time": "2023-09-25T15:26:08.176116",
     "exception": false,
     "start_time": "2023-09-25T15:26:08.138800",
     "status": "completed"
    },
    "tags": []
   },
   "outputs": [
    {
     "data": {
      "text/html": [
       "<div>\n",
       "<style scoped>\n",
       "    .dataframe tbody tr th:only-of-type {\n",
       "        vertical-align: middle;\n",
       "    }\n",
       "\n",
       "    .dataframe tbody tr th {\n",
       "        vertical-align: top;\n",
       "    }\n",
       "\n",
       "    .dataframe thead th {\n",
       "        text-align: right;\n",
       "    }\n",
       "</style>\n",
       "<table border=\"1\" class=\"dataframe\">\n",
       "  <thead>\n",
       "    <tr style=\"text-align: right;\">\n",
       "      <th></th>\n",
       "      <th>PassengerId</th>\n",
       "      <th>Survived</th>\n",
       "      <th>Pclass</th>\n",
       "      <th>Name</th>\n",
       "      <th>Sex</th>\n",
       "      <th>Age</th>\n",
       "      <th>SibSp</th>\n",
       "      <th>Parch</th>\n",
       "      <th>Ticket</th>\n",
       "      <th>Fare</th>\n",
       "      <th>Cabin</th>\n",
       "      <th>Embarked</th>\n",
       "    </tr>\n",
       "  </thead>\n",
       "  <tbody>\n",
       "    <tr>\n",
       "      <th>0</th>\n",
       "      <td>1</td>\n",
       "      <td>0</td>\n",
       "      <td>3</td>\n",
       "      <td>Braund, Mr. Owen Harris</td>\n",
       "      <td>male</td>\n",
       "      <td>22.0</td>\n",
       "      <td>1</td>\n",
       "      <td>0</td>\n",
       "      <td>A/5 21171</td>\n",
       "      <td>7.2500</td>\n",
       "      <td>NaN</td>\n",
       "      <td>S</td>\n",
       "    </tr>\n",
       "    <tr>\n",
       "      <th>1</th>\n",
       "      <td>2</td>\n",
       "      <td>1</td>\n",
       "      <td>1</td>\n",
       "      <td>Cumings, Mrs. John Bradley (Florence Briggs Th...</td>\n",
       "      <td>female</td>\n",
       "      <td>38.0</td>\n",
       "      <td>1</td>\n",
       "      <td>0</td>\n",
       "      <td>PC 17599</td>\n",
       "      <td>71.2833</td>\n",
       "      <td>C85</td>\n",
       "      <td>C</td>\n",
       "    </tr>\n",
       "    <tr>\n",
       "      <th>2</th>\n",
       "      <td>3</td>\n",
       "      <td>1</td>\n",
       "      <td>3</td>\n",
       "      <td>Heikkinen, Miss. Laina</td>\n",
       "      <td>female</td>\n",
       "      <td>26.0</td>\n",
       "      <td>0</td>\n",
       "      <td>0</td>\n",
       "      <td>STON/O2. 3101282</td>\n",
       "      <td>7.9250</td>\n",
       "      <td>NaN</td>\n",
       "      <td>S</td>\n",
       "    </tr>\n",
       "    <tr>\n",
       "      <th>3</th>\n",
       "      <td>4</td>\n",
       "      <td>1</td>\n",
       "      <td>1</td>\n",
       "      <td>Futrelle, Mrs. Jacques Heath (Lily May Peel)</td>\n",
       "      <td>female</td>\n",
       "      <td>35.0</td>\n",
       "      <td>1</td>\n",
       "      <td>0</td>\n",
       "      <td>113803</td>\n",
       "      <td>53.1000</td>\n",
       "      <td>C123</td>\n",
       "      <td>S</td>\n",
       "    </tr>\n",
       "    <tr>\n",
       "      <th>4</th>\n",
       "      <td>5</td>\n",
       "      <td>0</td>\n",
       "      <td>3</td>\n",
       "      <td>Allen, Mr. William Henry</td>\n",
       "      <td>male</td>\n",
       "      <td>35.0</td>\n",
       "      <td>0</td>\n",
       "      <td>0</td>\n",
       "      <td>373450</td>\n",
       "      <td>8.0500</td>\n",
       "      <td>NaN</td>\n",
       "      <td>S</td>\n",
       "    </tr>\n",
       "  </tbody>\n",
       "</table>\n",
       "</div>"
      ],
      "text/plain": [
       "   PassengerId  Survived  Pclass  \\\n",
       "0            1         0       3   \n",
       "1            2         1       1   \n",
       "2            3         1       3   \n",
       "3            4         1       1   \n",
       "4            5         0       3   \n",
       "\n",
       "                                                Name     Sex   Age  SibSp  \\\n",
       "0                            Braund, Mr. Owen Harris    male  22.0      1   \n",
       "1  Cumings, Mrs. John Bradley (Florence Briggs Th...  female  38.0      1   \n",
       "2                             Heikkinen, Miss. Laina  female  26.0      0   \n",
       "3       Futrelle, Mrs. Jacques Heath (Lily May Peel)  female  35.0      1   \n",
       "4                           Allen, Mr. William Henry    male  35.0      0   \n",
       "\n",
       "   Parch            Ticket     Fare Cabin Embarked  \n",
       "0      0         A/5 21171   7.2500   NaN        S  \n",
       "1      0          PC 17599  71.2833   C85        C  \n",
       "2      0  STON/O2. 3101282   7.9250   NaN        S  \n",
       "3      0            113803  53.1000  C123        S  \n",
       "4      0            373450   8.0500   NaN        S  "
      ]
     },
     "execution_count": 3,
     "metadata": {},
     "output_type": "execute_result"
    }
   ],
   "source": [
    "train_data.head()"
   ]
  },
  {
   "cell_type": "code",
   "execution_count": 4,
   "id": "5422d970",
   "metadata": {
    "execution": {
     "iopub.execute_input": "2023-09-25T15:26:08.199485Z",
     "iopub.status.busy": "2023-09-25T15:26:08.199128Z",
     "iopub.status.idle": "2023-09-25T15:26:08.205480Z",
     "shell.execute_reply": "2023-09-25T15:26:08.204355Z"
    },
    "papermill": {
     "duration": 0.019847,
     "end_time": "2023-09-25T15:26:08.207142",
     "exception": false,
     "start_time": "2023-09-25T15:26:08.187295",
     "status": "completed"
    },
    "tags": []
   },
   "outputs": [
    {
     "data": {
      "text/plain": [
       "(891, 12)"
      ]
     },
     "execution_count": 4,
     "metadata": {},
     "output_type": "execute_result"
    }
   ],
   "source": [
    "train_data.shape"
   ]
  },
  {
   "cell_type": "code",
   "execution_count": 5,
   "id": "4156a9f7",
   "metadata": {
    "execution": {
     "iopub.execute_input": "2023-09-25T15:26:08.230193Z",
     "iopub.status.busy": "2023-09-25T15:26:08.229806Z",
     "iopub.status.idle": "2023-09-25T15:26:08.255672Z",
     "shell.execute_reply": "2023-09-25T15:26:08.253373Z"
    },
    "papermill": {
     "duration": 0.040211,
     "end_time": "2023-09-25T15:26:08.258071",
     "exception": false,
     "start_time": "2023-09-25T15:26:08.217860",
     "status": "completed"
    },
    "tags": []
   },
   "outputs": [
    {
     "name": "stdout",
     "output_type": "stream",
     "text": [
      "<class 'pandas.core.frame.DataFrame'>\n",
      "RangeIndex: 891 entries, 0 to 890\n",
      "Data columns (total 12 columns):\n",
      " #   Column       Non-Null Count  Dtype  \n",
      "---  ------       --------------  -----  \n",
      " 0   PassengerId  891 non-null    int64  \n",
      " 1   Survived     891 non-null    int64  \n",
      " 2   Pclass       891 non-null    int64  \n",
      " 3   Name         891 non-null    object \n",
      " 4   Sex          891 non-null    object \n",
      " 5   Age          714 non-null    float64\n",
      " 6   SibSp        891 non-null    int64  \n",
      " 7   Parch        891 non-null    int64  \n",
      " 8   Ticket       891 non-null    object \n",
      " 9   Fare         891 non-null    float64\n",
      " 10  Cabin        204 non-null    object \n",
      " 11  Embarked     889 non-null    object \n",
      "dtypes: float64(2), int64(5), object(5)\n",
      "memory usage: 83.7+ KB\n"
     ]
    }
   ],
   "source": [
    "train_data.info()"
   ]
  },
  {
   "cell_type": "code",
   "execution_count": 6,
   "id": "2dc12fc6",
   "metadata": {
    "execution": {
     "iopub.execute_input": "2023-09-25T15:26:08.281145Z",
     "iopub.status.busy": "2023-09-25T15:26:08.280768Z",
     "iopub.status.idle": "2023-09-25T15:26:08.288423Z",
     "shell.execute_reply": "2023-09-25T15:26:08.287394Z"
    },
    "papermill": {
     "duration": 0.021314,
     "end_time": "2023-09-25T15:26:08.290397",
     "exception": false,
     "start_time": "2023-09-25T15:26:08.269083",
     "status": "completed"
    },
    "tags": []
   },
   "outputs": [
    {
     "data": {
      "text/plain": [
       "0    549\n",
       "1    342\n",
       "Name: Survived, dtype: int64"
      ]
     },
     "execution_count": 6,
     "metadata": {},
     "output_type": "execute_result"
    }
   ],
   "source": [
    "train_data['Survived'].value_counts()"
   ]
  },
  {
   "cell_type": "markdown",
   "id": "b1b7dffb",
   "metadata": {
    "papermill": {
     "duration": 0.010522,
     "end_time": "2023-09-25T15:26:08.311422",
     "exception": false,
     "start_time": "2023-09-25T15:26:08.300900",
     "status": "completed"
    },
    "tags": []
   },
   "source": [
    "## Target Variable (Dependent Variable):\n",
    "The target variable, also known as the dependent variable or objective variable, is the variable that you want to predict or explain. It is the outcome or result that you are interested in understanding or forecasting. \n",
    "Survived or Not ( consider 0 is not Survived & 1 is Survived)\n",
    "\n",
    "## Independent Variables:\n",
    "Independent variables, also known as predictor variables or features, are the variables that are used to explain or predict the target variable. They are the inputs to your prediction model and are assumed to influence or have a relationship with the target variable.\n",
    "Other variables such as Pclass, age etc."
   ]
  },
  {
   "cell_type": "code",
   "execution_count": 7,
   "id": "719f110e",
   "metadata": {
    "execution": {
     "iopub.execute_input": "2023-09-25T15:26:08.336444Z",
     "iopub.status.busy": "2023-09-25T15:26:08.335844Z",
     "iopub.status.idle": "2023-09-25T15:26:08.343823Z",
     "shell.execute_reply": "2023-09-25T15:26:08.342213Z"
    },
    "papermill": {
     "duration": 0.022747,
     "end_time": "2023-09-25T15:26:08.346119",
     "exception": false,
     "start_time": "2023-09-25T15:26:08.323372",
     "status": "completed"
    },
    "tags": []
   },
   "outputs": [
    {
     "data": {
      "text/plain": [
       "Int64Index([0, 1], dtype='int64')"
      ]
     },
     "execution_count": 7,
     "metadata": {},
     "output_type": "execute_result"
    }
   ],
   "source": [
    "train_data['Survived'].value_counts().keys()\n",
    "\n",
    "# Here this shows the categorical value which '0' and '1' , so if we want only categories we use .keys() method"
   ]
  },
  {
   "cell_type": "markdown",
   "id": "bcfdb5c6",
   "metadata": {
    "papermill": {
     "duration": 0.010286,
     "end_time": "2023-09-25T15:26:08.367461",
     "exception": false,
     "start_time": "2023-09-25T15:26:08.357175",
     "status": "completed"
    },
    "tags": []
   },
   "source": [
    " Here this shows the categorical value which '0' and '1' , so if we want only categories we use .keys() method"
   ]
  },
  {
   "cell_type": "markdown",
   "id": "8388bc3a",
   "metadata": {
    "papermill": {
     "duration": 0.010144,
     "end_time": "2023-09-25T15:26:08.387902",
     "exception": false,
     "start_time": "2023-09-25T15:26:08.377758",
     "status": "completed"
    },
    "tags": []
   },
   "source": [
    "## Visualization Using Matplotlib"
   ]
  },
  {
   "cell_type": "code",
   "execution_count": 8,
   "id": "46bc53e3",
   "metadata": {
    "execution": {
     "iopub.execute_input": "2023-09-25T15:26:08.411081Z",
     "iopub.status.busy": "2023-09-25T15:26:08.410417Z",
     "iopub.status.idle": "2023-09-25T15:26:08.605441Z",
     "shell.execute_reply": "2023-09-25T15:26:08.604227Z"
    },
    "papermill": {
     "duration": 0.209562,
     "end_time": "2023-09-25T15:26:08.608058",
     "exception": false,
     "start_time": "2023-09-25T15:26:08.398496",
     "status": "completed"
    },
    "scrolled": true,
    "tags": []
   },
   "outputs": [
    {
     "data": {
      "image/png": "[encoded data removed]",
      "text/plain": [
       "<Figure size 500x500 with 1 Axes>"
      ]
     },
     "metadata": {},
     "output_type": "display_data"
    }
   ],
   "source": [
    "plt.figure(figsize=(5,5))\n",
    "\n",
    "plt.bar(list(train_data[\"Survived\"].value_counts().keys()),list(train_data[\"Survived\"].value_counts()),color=[\"r\",\"g\"])\n",
    "\n",
    "plt.show()"
   ]
  },
  {
   "cell_type": "markdown",
   "id": "4f880936",
   "metadata": {
    "papermill": {
     "duration": 0.010737,
     "end_time": "2023-09-25T15:26:08.630208",
     "exception": false,
     "start_time": "2023-09-25T15:26:08.619471",
     "status": "completed"
    },
    "tags": []
   },
   "source": [
    "## Pclass - Ticket class 1st , 2nd and 3rd"
   ]
  },
  {
   "cell_type": "code",
   "execution_count": 9,
   "id": "2dd42721",
   "metadata": {
    "execution": {
     "iopub.execute_input": "2023-09-25T15:26:08.654104Z",
     "iopub.status.busy": "2023-09-25T15:26:08.653708Z",
     "iopub.status.idle": "2023-09-25T15:26:08.662145Z",
     "shell.execute_reply": "2023-09-25T15:26:08.661125Z"
    },
    "papermill": {
     "duration": 0.022884,
     "end_time": "2023-09-25T15:26:08.664201",
     "exception": false,
     "start_time": "2023-09-25T15:26:08.641317",
     "status": "completed"
    },
    "tags": []
   },
   "outputs": [
    {
     "data": {
      "text/plain": [
       "3    491\n",
       "1    216\n",
       "2    184\n",
       "Name: Pclass, dtype: int64"
      ]
     },
     "execution_count": 9,
     "metadata": {},
     "output_type": "execute_result"
    }
   ],
   "source": [
    "train_data['Pclass'].value_counts()"
   ]
  },
  {
   "cell_type": "code",
   "execution_count": 10,
   "id": "4f49920e",
   "metadata": {
    "execution": {
     "iopub.execute_input": "2023-09-25T15:26:08.690063Z",
     "iopub.status.busy": "2023-09-25T15:26:08.688984Z",
     "iopub.status.idle": "2023-09-25T15:26:08.697122Z",
     "shell.execute_reply": "2023-09-25T15:26:08.696101Z"
    },
    "papermill": {
     "duration": 0.023328,
     "end_time": "2023-09-25T15:26:08.699212",
     "exception": false,
     "start_time": "2023-09-25T15:26:08.675884",
     "status": "completed"
    },
    "tags": []
   },
   "outputs": [
    {
     "data": {
      "text/plain": [
       "Int64Index([3, 1, 2], dtype='int64')"
      ]
     },
     "execution_count": 10,
     "metadata": {},
     "output_type": "execute_result"
    }
   ],
   "source": [
    "train_data['Pclass'].value_counts().keys()"
   ]
  },
  {
   "cell_type": "code",
   "execution_count": 11,
   "id": "4989fc44",
   "metadata": {
    "execution": {
     "iopub.execute_input": "2023-09-25T15:26:08.723587Z",
     "iopub.status.busy": "2023-09-25T15:26:08.723233Z",
     "iopub.status.idle": "2023-09-25T15:26:08.884085Z",
     "shell.execute_reply": "2023-09-25T15:26:08.882737Z"
    },
    "papermill": {
     "duration": 0.175724,
     "end_time": "2023-09-25T15:26:08.886443",
     "exception": false,
     "start_time": "2023-09-25T15:26:08.710719",
     "status": "completed"
    },
    "tags": []
   },
   "outputs": [
    {
     "data": {
      "image/png": "[encoded data removed]",
      "text/plain": [
       "<Figure size 500x500 with 1 Axes>"
      ]
     },
     "metadata": {},
     "output_type": "display_data"
    }
   ],
   "source": [
    "plt.figure(figsize=(5,5))\n",
    "\n",
    "plt.bar(list(train_data[\"Pclass\"].value_counts().keys()),list(train_data[\"Pclass\"].value_counts()),color=[\"blue\",\"orange\",\"green\"])\n",
    "\n",
    "plt.show()"
   ]
  },
  {
   "cell_type": "code",
   "execution_count": 12,
   "id": "d428aab3",
   "metadata": {
    "execution": {
     "iopub.execute_input": "2023-09-25T15:26:08.910796Z",
     "iopub.status.busy": "2023-09-25T15:26:08.910445Z",
     "iopub.status.idle": "2023-09-25T15:26:08.917754Z",
     "shell.execute_reply": "2023-09-25T15:26:08.916884Z"
    },
    "papermill": {
     "duration": 0.021297,
     "end_time": "2023-09-25T15:26:08.919454",
     "exception": false,
     "start_time": "2023-09-25T15:26:08.898157",
     "status": "completed"
    },
    "tags": []
   },
   "outputs": [
    {
     "data": {
      "text/plain": [
       "male      577\n",
       "female    314\n",
       "Name: Sex, dtype: int64"
      ]
     },
     "execution_count": 12,
     "metadata": {},
     "output_type": "execute_result"
    }
   ],
   "source": [
    "train_data['Sex'].value_counts()"
   ]
  },
  {
   "cell_type": "code",
   "execution_count": 13,
   "id": "b0c72cda",
   "metadata": {
    "execution": {
     "iopub.execute_input": "2023-09-25T15:26:08.944052Z",
     "iopub.status.busy": "2023-09-25T15:26:08.943423Z",
     "iopub.status.idle": "2023-09-25T15:26:08.950000Z",
     "shell.execute_reply": "2023-09-25T15:26:08.949370Z"
    },
    "papermill": {
     "duration": 0.020754,
     "end_time": "2023-09-25T15:26:08.951654",
     "exception": false,
     "start_time": "2023-09-25T15:26:08.930900",
     "status": "completed"
    },
    "tags": []
   },
   "outputs": [
    {
     "data": {
      "text/plain": [
       "Index(['male', 'female'], dtype='object')"
      ]
     },
     "execution_count": 13,
     "metadata": {},
     "output_type": "execute_result"
    }
   ],
   "source": [
    "train_data['Sex'].value_counts().keys()"
   ]
  },
  {
   "cell_type": "code",
   "execution_count": 14,
   "id": "399b55d3",
   "metadata": {
    "execution": {
     "iopub.execute_input": "2023-09-25T15:26:08.976294Z",
     "iopub.status.busy": "2023-09-25T15:26:08.975530Z",
     "iopub.status.idle": "2023-09-25T15:26:09.092346Z",
     "shell.execute_reply": "2023-09-25T15:26:09.091464Z"
    },
    "papermill": {
     "duration": 0.131138,
     "end_time": "2023-09-25T15:26:09.094271",
     "exception": false,
     "start_time": "2023-09-25T15:26:08.963133",
     "status": "completed"
    },
    "tags": []
   },
   "outputs": [
    {
     "data": {
      "image/png": "[encoded data removed]",
      "text/plain": [
       "<Figure size 500x500 with 1 Axes>"
      ]
     },
     "metadata": {},
     "output_type": "display_data"
    }
   ],
   "source": [
    "plt.figure(figsize=(5,5))\n",
    "\n",
    "plt.bar(list(train_data[\"Sex\"].value_counts().keys()),list(train_data[\"Sex\"].value_counts()),color=[\"orange\",\"green\"])\n",
    "\n",
    "plt.show()"
   ]
  },
  {
   "cell_type": "code",
   "execution_count": 15,
   "id": "86b09729",
   "metadata": {
    "execution": {
     "iopub.execute_input": "2023-09-25T15:26:09.125383Z",
     "iopub.status.busy": "2023-09-25T15:26:09.125012Z",
     "iopub.status.idle": "2023-09-25T15:26:09.355996Z",
     "shell.execute_reply": "2023-09-25T15:26:09.355264Z"
    },
    "papermill": {
     "duration": 0.248311,
     "end_time": "2023-09-25T15:26:09.357620",
     "exception": false,
     "start_time": "2023-09-25T15:26:09.109309",
     "status": "completed"
    },
    "tags": []
   },
   "outputs": [
    {
     "data": {
      "image/png": "[encoded data removed]",
      "text/plain": [
       "<Figure size 500x700 with 1 Axes>"
      ]
     },
     "metadata": {},
     "output_type": "display_data"
    }
   ],
   "source": [
    "plt.figure(figsize=(5,7))\n",
    "plt.hist(train_data[\"Age\"],color=\"grey\")\n",
    "plt.title(\"Distribution of Age\")\n",
    "plt.xlabel(\"Age\")\n",
    "plt.show()"
   ]
  },
  {
   "cell_type": "markdown",
   "id": "323f6fc8",
   "metadata": {
    "papermill": {
     "duration": 0.011357,
     "end_time": "2023-09-25T15:26:09.380842",
     "exception": false,
     "start_time": "2023-09-25T15:26:09.369485",
     "status": "completed"
    },
    "tags": []
   },
   "source": [
    "## Data Visualization using Seaborn"
   ]
  },
  {
   "cell_type": "code",
   "execution_count": 16,
   "id": "f24e6834",
   "metadata": {
    "execution": {
     "iopub.execute_input": "2023-09-25T15:26:09.407813Z",
     "iopub.status.busy": "2023-09-25T15:26:09.407056Z",
     "iopub.status.idle": "2023-09-25T15:26:09.550894Z",
     "shell.execute_reply": "2023-09-25T15:26:09.550181Z"
    },
    "papermill": {
     "duration": 0.159123,
     "end_time": "2023-09-25T15:26:09.552841",
     "exception": false,
     "start_time": "2023-09-25T15:26:09.393718",
     "status": "completed"
    },
    "tags": []
   },
   "outputs": [
    {
     "data": {
      "text/plain": [
       "<Axes: xlabel='Survived', ylabel='count'>"
      ]
     },
     "execution_count": 16,
     "metadata": {},
     "output_type": "execute_result"
    },
    {
     "data": {
      "image/png": "[encoded data removed]",
      "text/plain": [
       "<Figure size 640x480 with 1 Axes>"
      ]
     },
     "metadata": {},
     "output_type": "display_data"
    }
   ],
   "source": [
    "sns.countplot(x=\"Survived\",data=train_data)"
   ]
  },
  {
   "cell_type": "code",
   "execution_count": 17,
   "id": "b0615d1b",
   "metadata": {
    "execution": {
     "iopub.execute_input": "2023-09-25T15:26:09.581526Z",
     "iopub.status.busy": "2023-09-25T15:26:09.580954Z",
     "iopub.status.idle": "2023-09-25T15:26:09.913573Z",
     "shell.execute_reply": "2023-09-25T15:26:09.912173Z"
    },
    "papermill": {
     "duration": 0.348553,
     "end_time": "2023-09-25T15:26:09.915877",
     "exception": false,
     "start_time": "2023-09-25T15:26:09.567324",
     "status": "completed"
    },
    "tags": []
   },
   "outputs": [
    {
     "data": {
      "text/plain": [
       "<Axes: xlabel='Count', ylabel='Age'>"
      ]
     },
     "execution_count": 17,
     "metadata": {},
     "output_type": "execute_result"
    },
    {
     "data": {
      "image/png": "[encoded data removed]",
      "text/plain": [
       "<Figure size 640x480 with 1 Axes>"
      ]
     },
     "metadata": {},
     "output_type": "display_data"
    }
   ],
   "source": [
    "sns.histplot(y=train_data[\"Age\"],hue=train_data[\"Survived\"],multiple=\"stack\")"
   ]
  },
  {
   "cell_type": "code",
   "execution_count": 18,
   "id": "456b4129",
   "metadata": {
    "execution": {
     "iopub.execute_input": "2023-09-25T15:26:09.942951Z",
     "iopub.status.busy": "2023-09-25T15:26:09.942593Z",
     "iopub.status.idle": "2023-09-25T15:26:10.207223Z",
     "shell.execute_reply": "2023-09-25T15:26:10.205958Z"
    },
    "papermill": {
     "duration": 0.281111,
     "end_time": "2023-09-25T15:26:10.209919",
     "exception": false,
     "start_time": "2023-09-25T15:26:09.928808",
     "status": "completed"
    },
    "tags": []
   },
   "outputs": [
    {
     "data": {
      "text/plain": [
       "<Axes: xlabel='Sex', ylabel='Age'>"
      ]
     },
     "execution_count": 18,
     "metadata": {},
     "output_type": "execute_result"
    },
    {
     "data": {
      "image/png": "[encoded data removed]",
      "text/plain": [
       "<Figure size 640x480 with 1 Axes>"
      ]
     },
     "metadata": {},
     "output_type": "display_data"
    }
   ],
   "source": [
    "sns.barplot(x='Sex',y='Age',data=train_data)\n",
    "\n",
    "#sns.barplot(x='category_variable', y='numeric_variable', data=data)"
   ]
  },
  {
   "cell_type": "code",
   "execution_count": 19,
   "id": "867be35f",
   "metadata": {
    "execution": {
     "iopub.execute_input": "2023-09-25T15:26:10.239660Z",
     "iopub.status.busy": "2023-09-25T15:26:10.239312Z",
     "iopub.status.idle": "2023-09-25T15:26:10.500975Z",
     "shell.execute_reply": "2023-09-25T15:26:10.500065Z"
    },
    "papermill": {
     "duration": 0.280055,
     "end_time": "2023-09-25T15:26:10.504380",
     "exception": false,
     "start_time": "2023-09-25T15:26:10.224325",
     "status": "completed"
    },
    "tags": []
   },
   "outputs": [
    {
     "data": {
      "text/plain": [
       "<Axes: xlabel='Survived', ylabel='Age'>"
      ]
     },
     "execution_count": 19,
     "metadata": {},
     "output_type": "execute_result"
    },
    {
     "data": {
      "image/png": "[encoded data removed]",
      "text/plain": [
       "<Figure size 640x480 with 1 Axes>"
      ]
     },
     "metadata": {},
     "output_type": "display_data"
    }
   ],
   "source": [
    "\n",
    "sns.barplot(x='Survived',y='Age',data=train_data)"
   ]
  },
  {
   "cell_type": "code",
   "execution_count": 20,
   "id": "70a3084d",
   "metadata": {
    "execution": {
     "iopub.execute_input": "2023-09-25T15:26:10.533141Z",
     "iopub.status.busy": "2023-09-25T15:26:10.532769Z",
     "iopub.status.idle": "2023-09-25T15:26:10.769577Z",
     "shell.execute_reply": "2023-09-25T15:26:10.768197Z"
    },
    "papermill": {
     "duration": 0.253538,
     "end_time": "2023-09-25T15:26:10.771650",
     "exception": false,
     "start_time": "2023-09-25T15:26:10.518112",
     "status": "completed"
    },
    "tags": []
   },
   "outputs": [
    {
     "data": {
      "text/plain": [
       "<Axes: xlabel='Pclass', ylabel='Age'>"
      ]
     },
     "execution_count": 20,
     "metadata": {},
     "output_type": "execute_result"
    },
    {
     "data": {
      "image/png": "[encoded data removed]",
      "text/plain": [
       "<Figure size 640x480 with 1 Axes>"
      ]
     },
     "metadata": {},
     "output_type": "display_data"
    }
   ],
   "source": [
    "sns.stripplot(x='Pclass', y='Age', data=train_data)"
   ]
  },
  {
   "cell_type": "code",
   "execution_count": 21,
   "id": "50534ca1",
   "metadata": {
    "execution": {
     "iopub.execute_input": "2023-09-25T15:26:10.800716Z",
     "iopub.status.busy": "2023-09-25T15:26:10.800321Z",
     "iopub.status.idle": "2023-09-25T15:26:10.829537Z",
     "shell.execute_reply": "2023-09-25T15:26:10.828320Z"
    },
    "papermill": {
     "duration": 0.046696,
     "end_time": "2023-09-25T15:26:10.832243",
     "exception": false,
     "start_time": "2023-09-25T15:26:10.785547",
     "status": "completed"
    },
    "tags": []
   },
   "outputs": [
    {
     "data": {
      "text/html": [
       "<div>\n",
       "<style scoped>\n",
       "    .dataframe tbody tr th:only-of-type {\n",
       "        vertical-align: middle;\n",
       "    }\n",
       "\n",
       "    .dataframe tbody tr th {\n",
       "        vertical-align: top;\n",
       "    }\n",
       "\n",
       "    .dataframe thead th {\n",
       "        text-align: right;\n",
       "    }\n",
       "</style>\n",
       "<table border=\"1\" class=\"dataframe\">\n",
       "  <thead>\n",
       "    <tr style=\"text-align: right;\">\n",
       "      <th></th>\n",
       "      <th>PassengerId</th>\n",
       "      <th>Survived</th>\n",
       "      <th>Pclass</th>\n",
       "      <th>Age</th>\n",
       "      <th>SibSp</th>\n",
       "      <th>Parch</th>\n",
       "      <th>Fare</th>\n",
       "    </tr>\n",
       "  </thead>\n",
       "  <tbody>\n",
       "    <tr>\n",
       "      <th>count</th>\n",
       "      <td>891.000000</td>\n",
       "      <td>891.000000</td>\n",
       "      <td>891.000000</td>\n",
       "      <td>714.000000</td>\n",
       "      <td>891.000000</td>\n",
       "      <td>891.000000</td>\n",
       "      <td>891.000000</td>\n",
       "    </tr>\n",
       "    <tr>\n",
       "      <th>mean</th>\n",
       "      <td>446.000000</td>\n",
       "      <td>0.383838</td>\n",
       "      <td>2.308642</td>\n",
       "      <td>29.699118</td>\n",
       "      <td>0.523008</td>\n",
       "      <td>0.381594</td>\n",
       "      <td>32.204208</td>\n",
       "    </tr>\n",
       "    <tr>\n",
       "      <th>std</th>\n",
       "      <td>257.353842</td>\n",
       "      <td>0.486592</td>\n",
       "      <td>0.836071</td>\n",
       "      <td>14.526497</td>\n",
       "      <td>1.102743</td>\n",
       "      <td>0.806057</td>\n",
       "      <td>49.693429</td>\n",
       "    </tr>\n",
       "    <tr>\n",
       "      <th>min</th>\n",
       "      <td>1.000000</td>\n",
       "      <td>0.000000</td>\n",
       "      <td>1.000000</td>\n",
       "      <td>0.420000</td>\n",
       "      <td>0.000000</td>\n",
       "      <td>0.000000</td>\n",
       "      <td>0.000000</td>\n",
       "    </tr>\n",
       "    <tr>\n",
       "      <th>25%</th>\n",
       "      <td>223.500000</td>\n",
       "      <td>0.000000</td>\n",
       "      <td>2.000000</td>\n",
       "      <td>20.125000</td>\n",
       "      <td>0.000000</td>\n",
       "      <td>0.000000</td>\n",
       "      <td>7.910400</td>\n",
       "    </tr>\n",
       "    <tr>\n",
       "      <th>50%</th>\n",
       "      <td>446.000000</td>\n",
       "      <td>0.000000</td>\n",
       "      <td>3.000000</td>\n",
       "      <td>28.000000</td>\n",
       "      <td>0.000000</td>\n",
       "      <td>0.000000</td>\n",
       "      <td>14.454200</td>\n",
       "    </tr>\n",
       "    <tr>\n",
       "      <th>75%</th>\n",
       "      <td>668.500000</td>\n",
       "      <td>1.000000</td>\n",
       "      <td>3.000000</td>\n",
       "      <td>38.000000</td>\n",
       "      <td>1.000000</td>\n",
       "      <td>0.000000</td>\n",
       "      <td>31.000000</td>\n",
       "    </tr>\n",
       "    <tr>\n",
       "      <th>max</th>\n",
       "      <td>891.000000</td>\n",
       "      <td>1.000000</td>\n",
       "      <td>3.000000</td>\n",
       "      <td>80.000000</td>\n",
       "      <td>8.000000</td>\n",
       "      <td>6.000000</td>\n",
       "      <td>512.329200</td>\n",
       "    </tr>\n",
       "  </tbody>\n",
       "</table>\n",
       "</div>"
      ],
      "text/plain": [
       "       PassengerId    Survived      Pclass         Age       SibSp  \\\n",
       "count   891.000000  891.000000  891.000000  714.000000  891.000000   \n",
       "mean    446.000000    0.383838    2.308642   29.699118    0.523008   \n",
       "std     257.353842    0.486592    0.836071   14.526497    1.102743   \n",
       "min       1.000000    0.000000    1.000000    0.420000    0.000000   \n",
       "25%     223.500000    0.000000    2.000000   20.125000    0.000000   \n",
       "50%     446.000000    0.000000    3.000000   28.000000    0.000000   \n",
       "75%     668.500000    1.000000    3.000000   38.000000    1.000000   \n",
       "max     891.000000    1.000000    3.000000   80.000000    8.000000   \n",
       "\n",
       "            Parch        Fare  \n",
       "count  891.000000  891.000000  \n",
       "mean     0.381594   32.204208  \n",
       "std      0.806057   49.693429  \n",
       "min      0.000000    0.000000  \n",
       "25%      0.000000    7.910400  \n",
       "50%      0.000000   14.454200  \n",
       "75%      0.000000   31.000000  \n",
       "max      6.000000  512.329200  "
      ]
     },
     "execution_count": 21,
     "metadata": {},
     "output_type": "execute_result"
    }
   ],
   "source": [
    "train_data.describe()"
   ]
  },
  {
   "cell_type": "markdown",
   "id": "98f2373a",
   "metadata": {
    "papermill": {
     "duration": 0.014518,
     "end_time": "2023-09-25T15:26:10.860987",
     "exception": false,
     "start_time": "2023-09-25T15:26:10.846469",
     "status": "completed"
    },
    "tags": []
   },
   "source": [
    "## Preprocess the training data"
   ]
  },
  {
   "cell_type": "code",
   "execution_count": 22,
   "id": "b51b3720",
   "metadata": {
    "execution": {
     "iopub.execute_input": "2023-09-25T15:26:10.891301Z",
     "iopub.status.busy": "2023-09-25T15:26:10.890898Z",
     "iopub.status.idle": "2023-09-25T15:26:10.897926Z",
     "shell.execute_reply": "2023-09-25T15:26:10.897048Z"
    },
    "papermill": {
     "duration": 0.02504,
     "end_time": "2023-09-25T15:26:10.900567",
     "exception": false,
     "start_time": "2023-09-25T15:26:10.875527",
     "status": "completed"
    },
    "tags": []
   },
   "outputs": [],
   "source": [
    "train_data.drop(['PassengerId', 'Name', 'Ticket', 'Embarked'], axis=1, inplace=True)\n",
    "train_data['Sex'] = LabelEncoder().fit_transform(train_data['Sex'])"
   ]
  },
  {
   "cell_type": "markdown",
   "id": "73071fac",
   "metadata": {
    "papermill": {
     "duration": 0.013996,
     "end_time": "2023-09-25T15:26:10.929393",
     "exception": false,
     "start_time": "2023-09-25T15:26:10.915397",
     "status": "completed"
    },
    "tags": []
   },
   "source": [
    "## Preprocess the test data"
   ]
  },
  {
   "cell_type": "code",
   "execution_count": 23,
   "id": "9dc4c943",
   "metadata": {
    "execution": {
     "iopub.execute_input": "2023-09-25T15:26:10.959328Z",
     "iopub.status.busy": "2023-09-25T15:26:10.958941Z",
     "iopub.status.idle": "2023-09-25T15:26:10.965674Z",
     "shell.execute_reply": "2023-09-25T15:26:10.964328Z"
    },
    "papermill": {
     "duration": 0.024419,
     "end_time": "2023-09-25T15:26:10.967953",
     "exception": false,
     "start_time": "2023-09-25T15:26:10.943534",
     "status": "completed"
    },
    "tags": []
   },
   "outputs": [],
   "source": [
    "test_data.drop(['PassengerId', 'Name', 'Ticket', 'Embarked'], axis=1, inplace=True)\n",
    "test_data['Sex'] = LabelEncoder().fit_transform(test_data['Sex'])"
   ]
  },
  {
   "cell_type": "markdown",
   "id": "3fd1d564",
   "metadata": {
    "papermill": {
     "duration": 0.015012,
     "end_time": "2023-09-25T15:26:10.997056",
     "exception": false,
     "start_time": "2023-09-25T15:26:10.982044",
     "status": "completed"
    },
    "tags": []
   },
   "source": [
    "## Extract the first letter of the 'Cabin' column and encode it using one-hot encoding"
   ]
  },
  {
   "cell_type": "code",
   "execution_count": 24,
   "id": "3ae706da",
   "metadata": {
    "execution": {
     "iopub.execute_input": "2023-09-25T15:26:11.026980Z",
     "iopub.status.busy": "2023-09-25T15:26:11.026387Z",
     "iopub.status.idle": "2023-09-25T15:26:11.034631Z",
     "shell.execute_reply": "2023-09-25T15:26:11.033567Z"
    },
    "papermill": {
     "duration": 0.025858,
     "end_time": "2023-09-25T15:26:11.036993",
     "exception": false,
     "start_time": "2023-09-25T15:26:11.011135",
     "status": "completed"
    },
    "tags": []
   },
   "outputs": [],
   "source": [
    "train_data['Cabin'] = train_data['Cabin'].str[0]\n",
    "train_data = pd.get_dummies(train_data, columns=['Cabin'])"
   ]
  },
  {
   "cell_type": "code",
   "execution_count": 25,
   "id": "568b2d91",
   "metadata": {
    "execution": {
     "iopub.execute_input": "2023-09-25T15:26:11.067902Z",
     "iopub.status.busy": "2023-09-25T15:26:11.067254Z",
     "iopub.status.idle": "2023-09-25T15:26:11.078400Z",
     "shell.execute_reply": "2023-09-25T15:26:11.077046Z"
    },
    "papermill": {
     "duration": 0.029283,
     "end_time": "2023-09-25T15:26:11.080629",
     "exception": false,
     "start_time": "2023-09-25T15:26:11.051346",
     "status": "completed"
    },
    "tags": []
   },
   "outputs": [
    {
     "name": "stdout",
     "output_type": "stream",
     "text": [
      "<class 'pandas.core.frame.DataFrame'>\n",
      "RangeIndex: 891 entries, 0 to 890\n",
      "Data columns (total 15 columns):\n",
      " #   Column    Non-Null Count  Dtype  \n",
      "---  ------    --------------  -----  \n",
      " 0   Survived  891 non-null    int64  \n",
      " 1   Pclass    891 non-null    int64  \n",
      " 2   Sex       891 non-null    int64  \n",
      " 3   Age       714 non-null    float64\n",
      " 4   SibSp     891 non-null    int64  \n",
      " 5   Parch     891 non-null    int64  \n",
      " 6   Fare      891 non-null    float64\n",
      " 7   Cabin_A   891 non-null    uint8  \n",
      " 8   Cabin_B   891 non-null    uint8  \n",
      " 9   Cabin_C   891 non-null    uint8  \n",
      " 10  Cabin_D   891 non-null    uint8  \n",
      " 11  Cabin_E   891 non-null    uint8  \n",
      " 12  Cabin_F   891 non-null    uint8  \n",
      " 13  Cabin_G   891 non-null    uint8  \n",
      " 14  Cabin_T   891 non-null    uint8  \n",
      "dtypes: float64(2), int64(5), uint8(8)\n",
      "memory usage: 55.8 KB\n"
     ]
    }
   ],
   "source": [
    "train_data.info()"
   ]
  },
  {
   "cell_type": "markdown",
   "id": "3a50fdcc",
   "metadata": {
    "papermill": {
     "duration": 0.013934,
     "end_time": "2023-09-25T15:26:11.108911",
     "exception": false,
     "start_time": "2023-09-25T15:26:11.094977",
     "status": "completed"
    },
    "tags": []
   },
   "source": [
    "## Handling Missing values of Training Dataset"
   ]
  },
  {
   "cell_type": "code",
   "execution_count": 26,
   "id": "4171de4b",
   "metadata": {
    "execution": {
     "iopub.execute_input": "2023-09-25T15:26:11.139470Z",
     "iopub.status.busy": "2023-09-25T15:26:11.138169Z",
     "iopub.status.idle": "2023-09-25T15:26:11.164908Z",
     "shell.execute_reply": "2023-09-25T15:26:11.164049Z"
    },
    "papermill": {
     "duration": 0.04446,
     "end_time": "2023-09-25T15:26:11.167449",
     "exception": false,
     "start_time": "2023-09-25T15:26:11.122989",
     "status": "completed"
    },
    "tags": []
   },
   "outputs": [],
   "source": [
    "imputer = KNNImputer(n_neighbors=5)\n",
    "train_data[['Age', 'Fare']] = imputer.fit_transform(train_data[['Age', 'Fare']])\n",
    "\n"
   ]
  },
  {
   "cell_type": "markdown",
   "id": "3f853eb4",
   "metadata": {
    "papermill": {
     "duration": 0.017957,
     "end_time": "2023-09-25T15:26:11.204170",
     "exception": false,
     "start_time": "2023-09-25T15:26:11.186213",
     "status": "completed"
    },
    "tags": []
   },
   "source": [
    "## Handling Missing values of Test Dataset"
   ]
  },
  {
   "cell_type": "code",
   "execution_count": 27,
   "id": "fe98a38f",
   "metadata": {
    "execution": {
     "iopub.execute_input": "2023-09-25T15:26:11.242153Z",
     "iopub.status.busy": "2023-09-25T15:26:11.241778Z",
     "iopub.status.idle": "2023-09-25T15:26:11.254113Z",
     "shell.execute_reply": "2023-09-25T15:26:11.253347Z"
    },
    "papermill": {
     "duration": 0.033821,
     "end_time": "2023-09-25T15:26:11.256165",
     "exception": false,
     "start_time": "2023-09-25T15:26:11.222344",
     "status": "completed"
    },
    "tags": []
   },
   "outputs": [],
   "source": [
    "\n",
    "test_data[['Age', 'Fare']] = imputer.fit_transform(test_data[['Age', 'Fare']])"
   ]
  },
  {
   "cell_type": "markdown",
   "id": "bae7669d",
   "metadata": {
    "papermill": {
     "duration": 0.0143,
     "end_time": "2023-09-25T15:26:11.288807",
     "exception": false,
     "start_time": "2023-09-25T15:26:11.274507",
     "status": "completed"
    },
    "tags": []
   },
   "source": [
    "## Align the columns in the test data with the training data"
   ]
  },
  {
   "cell_type": "code",
   "execution_count": 28,
   "id": "986a9932",
   "metadata": {
    "execution": {
     "iopub.execute_input": "2023-09-25T15:26:11.318556Z",
     "iopub.status.busy": "2023-09-25T15:26:11.318218Z",
     "iopub.status.idle": "2023-09-25T15:26:11.328365Z",
     "shell.execute_reply": "2023-09-25T15:26:11.327290Z"
    },
    "papermill": {
     "duration": 0.027714,
     "end_time": "2023-09-25T15:26:11.330671",
     "exception": false,
     "start_time": "2023-09-25T15:26:11.302957",
     "status": "completed"
    },
    "tags": []
   },
   "outputs": [],
   "source": [
    "test_data['Cabin'] = test_data['Cabin'].str[0]\n",
    "test_data = pd.get_dummies(test_data, columns=['Cabin'])\n",
    "missing_columns = set(train_data.columns) - set(test_data.columns)\n",
    "for column in missing_columns:\n",
    "    test_data[column] = 0"
   ]
  },
  {
   "cell_type": "code",
   "execution_count": 29,
   "id": "7b303a05",
   "metadata": {
    "execution": {
     "iopub.execute_input": "2023-09-25T15:26:11.361540Z",
     "iopub.status.busy": "2023-09-25T15:26:11.361165Z",
     "iopub.status.idle": "2023-09-25T15:26:11.373825Z",
     "shell.execute_reply": "2023-09-25T15:26:11.372444Z"
    },
    "papermill": {
     "duration": 0.03029,
     "end_time": "2023-09-25T15:26:11.375865",
     "exception": false,
     "start_time": "2023-09-25T15:26:11.345575",
     "status": "completed"
    },
    "tags": []
   },
   "outputs": [
    {
     "name": "stdout",
     "output_type": "stream",
     "text": [
      "<class 'pandas.core.frame.DataFrame'>\n",
      "RangeIndex: 891 entries, 0 to 890\n",
      "Data columns (total 15 columns):\n",
      " #   Column    Non-Null Count  Dtype  \n",
      "---  ------    --------------  -----  \n",
      " 0   Survived  891 non-null    int64  \n",
      " 1   Pclass    891 non-null    int64  \n",
      " 2   Sex       891 non-null    int64  \n",
      " 3   Age       891 non-null    float64\n",
      " 4   SibSp     891 non-null    int64  \n",
      " 5   Parch     891 non-null    int64  \n",
      " 6   Fare      891 non-null    float64\n",
      " 7   Cabin_A   891 non-null    uint8  \n",
      " 8   Cabin_B   891 non-null    uint8  \n",
      " 9   Cabin_C   891 non-null    uint8  \n",
      " 10  Cabin_D   891 non-null    uint8  \n",
      " 11  Cabin_E   891 non-null    uint8  \n",
      " 12  Cabin_F   891 non-null    uint8  \n",
      " 13  Cabin_G   891 non-null    uint8  \n",
      " 14  Cabin_T   891 non-null    uint8  \n",
      "dtypes: float64(2), int64(5), uint8(8)\n",
      "memory usage: 55.8 KB\n"
     ]
    }
   ],
   "source": [
    "train_data.info()"
   ]
  },
  {
   "cell_type": "markdown",
   "id": "3cbea5e6",
   "metadata": {
    "papermill": {
     "duration": 0.013476,
     "end_time": "2023-09-25T15:26:11.403391",
     "exception": false,
     "start_time": "2023-09-25T15:26:11.389915",
     "status": "completed"
    },
    "tags": []
   },
   "source": [
    "## Building Dependent and Independent variable"
   ]
  },
  {
   "cell_type": "code",
   "execution_count": 30,
   "id": "84da9653",
   "metadata": {
    "execution": {
     "iopub.execute_input": "2023-09-25T15:26:11.432788Z",
     "iopub.status.busy": "2023-09-25T15:26:11.432173Z",
     "iopub.status.idle": "2023-09-25T15:26:11.438416Z",
     "shell.execute_reply": "2023-09-25T15:26:11.437352Z"
    },
    "papermill": {
     "duration": 0.02362,
     "end_time": "2023-09-25T15:26:11.440710",
     "exception": false,
     "start_time": "2023-09-25T15:26:11.417090",
     "status": "completed"
    },
    "tags": []
   },
   "outputs": [],
   "source": [
    "X_train = train_data.drop('Survived', axis=1)\n",
    "y_train = train_data['Survived']"
   ]
  },
  {
   "cell_type": "markdown",
   "id": "37656bcb",
   "metadata": {
    "papermill": {
     "duration": 0.013821,
     "end_time": "2023-09-25T15:26:11.468652",
     "exception": false,
     "start_time": "2023-09-25T15:26:11.454831",
     "status": "completed"
    },
    "tags": []
   },
   "source": [
    "## Building model  (LogisticRegression)"
   ]
  },
  {
   "cell_type": "markdown",
   "id": "2c5a68d5",
   "metadata": {
    "papermill": {
     "duration": 0.013884,
     "end_time": "2023-09-25T15:26:11.496698",
     "exception": false,
     "start_time": "2023-09-25T15:26:11.482814",
     "status": "completed"
    },
    "tags": []
   },
   "source": [
    "## Scale the numerical features"
   ]
  },
  {
   "cell_type": "code",
   "execution_count": 31,
   "id": "f440170d",
   "metadata": {
    "execution": {
     "iopub.execute_input": "2023-09-25T15:26:11.527549Z",
     "iopub.status.busy": "2023-09-25T15:26:11.526173Z",
     "iopub.status.idle": "2023-09-25T15:26:11.538684Z",
     "shell.execute_reply": "2023-09-25T15:26:11.537309Z"
    },
    "papermill": {
     "duration": 0.030636,
     "end_time": "2023-09-25T15:26:11.541356",
     "exception": false,
     "start_time": "2023-09-25T15:26:11.510720",
     "status": "completed"
    },
    "tags": []
   },
   "outputs": [],
   "source": [
    "scaler = StandardScaler()\n",
    "train_data[['Age', 'Fare']] = scaler.fit_transform(train_data[['Age', 'Fare']])\n",
    "test_data[['Age', 'Fare']] = scaler.transform(test_data[['Age', 'Fare']])"
   ]
  },
  {
   "cell_type": "code",
   "execution_count": 32,
   "id": "54689cb4",
   "metadata": {
    "execution": {
     "iopub.execute_input": "2023-09-25T15:26:11.571976Z",
     "iopub.status.busy": "2023-09-25T15:26:11.571606Z",
     "iopub.status.idle": "2023-09-25T15:26:11.576429Z",
     "shell.execute_reply": "2023-09-25T15:26:11.575575Z"
    },
    "papermill": {
     "duration": 0.023118,
     "end_time": "2023-09-25T15:26:11.578781",
     "exception": false,
     "start_time": "2023-09-25T15:26:11.555663",
     "status": "completed"
    },
    "tags": []
   },
   "outputs": [],
   "source": [
    "from sklearn.linear_model import LogisticRegression\n",
    "from sklearn.preprocessing import LabelEncoder, OneHotEncoder, StandardScaler"
   ]
  },
  {
   "cell_type": "code",
   "execution_count": 33,
   "id": "8b9de340",
   "metadata": {
    "execution": {
     "iopub.execute_input": "2023-09-25T15:26:11.608898Z",
     "iopub.status.busy": "2023-09-25T15:26:11.608516Z",
     "iopub.status.idle": "2023-09-25T15:26:11.613897Z",
     "shell.execute_reply": "2023-09-25T15:26:11.612224Z"
    },
    "papermill": {
     "duration": 0.023311,
     "end_time": "2023-09-25T15:26:11.616525",
     "exception": false,
     "start_time": "2023-09-25T15:26:11.593214",
     "status": "completed"
    },
    "tags": []
   },
   "outputs": [],
   "source": [
    "model = LogisticRegression(max_iter=1000)"
   ]
  },
  {
   "cell_type": "code",
   "execution_count": 34,
   "id": "9352058a",
   "metadata": {
    "execution": {
     "iopub.execute_input": "2023-09-25T15:26:11.646731Z",
     "iopub.status.busy": "2023-09-25T15:26:11.646148Z",
     "iopub.status.idle": "2023-09-25T15:26:11.713539Z",
     "shell.execute_reply": "2023-09-25T15:26:11.712353Z"
    },
    "papermill": {
     "duration": 0.085772,
     "end_time": "2023-09-25T15:26:11.716706",
     "exception": false,
     "start_time": "2023-09-25T15:26:11.630934",
     "status": "completed"
    },
    "tags": []
   },
   "outputs": [
    {
     "data": {
      "text/html": [
       "<style>#sk-container-id-1 {color: black;background-color: white;}#sk-container-id-1 pre{padding: 0;}#sk-container-id-1 div.sk-toggleable {background-color: white;}#sk-container-id-1 label.sk-toggleable__label {cursor: pointer;display: block;width: 100%;margin-bottom: 0;padding: 0.3em;box-sizing: border-box;text-align: center;}#sk-container-id-1 label.sk-toggleable__label-arrow:before {content: \"▸\";float: left;margin-right: 0.25em;color: #696969;}#sk-container-id-1 label.sk-toggleable__label-arrow:hover:before {color: black;}#sk-container-id-1 div.sk-estimator:hover label.sk-toggleable__label-arrow:before {color: black;}#sk-container-id-1 div.sk-toggleable__content {max-height: 0;max-width: 0;overflow: hidden;text-align: left;background-color: #f0f8ff;}#sk-container-id-1 div.sk-toggleable__content pre {margin: 0.2em;color: black;border-radius: 0.25em;background-color: #f0f8ff;}#sk-container-id-1 input.sk-toggleable__control:checked~div.sk-toggleable__content {max-height: 200px;max-width: 100%;overflow: auto;}#sk-container-id-1 input.sk-toggleable__control:checked~label.sk-toggleable__label-arrow:before {content: \"▾\";}#sk-container-id-1 div.sk-estimator input.sk-toggleable__control:checked~label.sk-toggleable__label {background-color: #d4ebff;}#sk-container-id-1 div.sk-label input.sk-toggleable__control:checked~label.sk-toggleable__label {background-color: #d4ebff;}#sk-container-id-1 input.sk-hidden--visually {border: 0;clip: rect(1px 1px 1px 1px);clip: rect(1px, 1px, 1px, 1px);height: 1px;margin: -1px;overflow: hidden;padding: 0;position: absolute;width: 1px;}#sk-container-id-1 div.sk-estimator {font-family: monospace;background-color: #f0f8ff;border: 1px dotted black;border-radius: 0.25em;box-sizing: border-box;margin-bottom: 0.5em;}#sk-container-id-1 div.sk-estimator:hover {background-color: #d4ebff;}#sk-container-id-1 div.sk-parallel-item::after {content: \"\";width: 100%;border-bottom: 1px solid gray;flex-grow: 1;}#sk-container-id-1 div.sk-label:hover label.sk-toggleable__label {background-color: #d4ebff;}#sk-container-id-1 div.sk-serial::before {content: \"\";position: absolute;border-left: 1px solid gray;box-sizing: border-box;top: 0;bottom: 0;left: 50%;z-index: 0;}#sk-container-id-1 div.sk-serial {display: flex;flex-direction: column;align-items: center;background-color: white;padding-right: 0.2em;padding-left: 0.2em;position: relative;}#sk-container-id-1 div.sk-item {position: relative;z-index: 1;}#sk-container-id-1 div.sk-parallel {display: flex;align-items: stretch;justify-content: center;background-color: white;position: relative;}#sk-container-id-1 div.sk-item::before, #sk-container-id-1 div.sk-parallel-item::before {content: \"\";position: absolute;border-left: 1px solid gray;box-sizing: border-box;top: 0;bottom: 0;left: 50%;z-index: -1;}#sk-container-id-1 div.sk-parallel-item {display: flex;flex-direction: column;z-index: 1;position: relative;background-color: white;}#sk-container-id-1 div.sk-parallel-item:first-child::after {align-self: flex-end;width: 50%;}#sk-container-id-1 div.sk-parallel-item:last-child::after {align-self: flex-start;width: 50%;}#sk-container-id-1 div.sk-parallel-item:only-child::after {width: 0;}#sk-container-id-1 div.sk-dashed-wrapped {border: 1px dashed gray;margin: 0 0.4em 0.5em 0.4em;box-sizing: border-box;padding-bottom: 0.4em;background-color: white;}#sk-container-id-1 div.sk-label label {font-family: monospace;font-weight: bold;display: inline-block;line-height: 1.2em;}#sk-container-id-1 div.sk-label-container {text-align: center;}#sk-container-id-1 div.sk-container {/* jupyter's `normalize.less` sets `[hidden] { display: none; }` but bootstrap.min.css set `[hidden] { display: none !important; }` so we also need the `!important` here to be able to override the default hidden behavior on the sphinx rendered scikit-learn.org. See: https://github.com/scikit-learn/scikit-learn/issues/21755 */display: inline-block !important;position: relative;}#sk-container-id-1 div.sk-text-repr-fallback {display: none;}</style><div id=\"sk-container-id-1\" class=\"sk-top-container\"><div class=\"sk-text-repr-fallback\"><pre>LogisticRegression(max_iter=1000)</pre><b>In a Jupyter environment, please rerun this cell to show the HTML representation or trust the notebook. <br />On GitHub, the HTML representation is unable to render, please try loading this page with nbviewer.org.</b></div><div class=\"sk-container\" hidden><div class=\"sk-item\"><div class=\"sk-estimator sk-toggleable\"><input class=\"sk-toggleable__control sk-hidden--visually\" id=\"sk-estimator-id-1\" type=\"checkbox\" checked><label for=\"sk-estimator-id-1\" class=\"sk-toggleable__label sk-toggleable__label-arrow\">LogisticRegression</label><div class=\"sk-toggleable__content\"><pre>LogisticRegression(max_iter=1000)</pre></div></div></div></div></div>"
      ],
      "text/plain": [
       "LogisticRegression(max_iter=1000)"
      ]
     },
     "execution_count": 34,
     "metadata": {},
     "output_type": "execute_result"
    }
   ],
   "source": [
    "model.fit(X_train, y_train)"
   ]
  },
  {
   "cell_type": "markdown",
   "id": "65b56435",
   "metadata": {
    "papermill": {
     "duration": 0.018541,
     "end_time": "2023-09-25T15:26:11.754751",
     "exception": false,
     "start_time": "2023-09-25T15:26:11.736210",
     "status": "completed"
    },
    "tags": []
   },
   "source": [
    "## Predicting values on training data"
   ]
  },
  {
   "cell_type": "code",
   "execution_count": 35,
   "id": "f9ceeb4c",
   "metadata": {
    "execution": {
     "iopub.execute_input": "2023-09-25T15:26:11.795289Z",
     "iopub.status.busy": "2023-09-25T15:26:11.794496Z",
     "iopub.status.idle": "2023-09-25T15:26:11.801254Z",
     "shell.execute_reply": "2023-09-25T15:26:11.800493Z"
    },
    "papermill": {
     "duration": 0.030271,
     "end_time": "2023-09-25T15:26:11.804352",
     "exception": false,
     "start_time": "2023-09-25T15:26:11.774081",
     "status": "completed"
    },
    "tags": []
   },
   "outputs": [],
   "source": [
    "y_train_pred = model.predict(X_train)"
   ]
  },
  {
   "cell_type": "markdown",
   "id": "951dcf67",
   "metadata": {
    "papermill": {
     "duration": 0.018881,
     "end_time": "2023-09-25T15:26:11.842300",
     "exception": false,
     "start_time": "2023-09-25T15:26:11.823419",
     "status": "completed"
    },
    "tags": []
   },
   "source": [
    "## Calculate accuracy on the training data"
   ]
  },
  {
   "cell_type": "code",
   "execution_count": 36,
   "id": "01cee22c",
   "metadata": {
    "execution": {
     "iopub.execute_input": "2023-09-25T15:26:11.883859Z",
     "iopub.status.busy": "2023-09-25T15:26:11.882759Z",
     "iopub.status.idle": "2023-09-25T15:26:11.888775Z",
     "shell.execute_reply": "2023-09-25T15:26:11.888017Z"
    },
    "papermill": {
     "duration": 0.030723,
     "end_time": "2023-09-25T15:26:11.893102",
     "exception": false,
     "start_time": "2023-09-25T15:26:11.862379",
     "status": "completed"
    },
    "tags": []
   },
   "outputs": [
    {
     "name": "stdout",
     "output_type": "stream",
     "text": [
      "Accuracy: 0.8125701459034792\n"
     ]
    }
   ],
   "source": [
    "train_accuracy = accuracy_score(y_train, y_train_pred)\n",
    "print(\"Accuracy:\", train_accuracy)"
   ]
  },
  {
   "cell_type": "markdown",
   "id": "bb0453b8",
   "metadata": {
    "papermill": {
     "duration": 0.015566,
     "end_time": "2023-09-25T15:26:11.927952",
     "exception": false,
     "start_time": "2023-09-25T15:26:11.912386",
     "status": "completed"
    },
    "tags": []
   },
   "source": [
    "## Predicting values on test data"
   ]
  },
  {
   "cell_type": "code",
   "execution_count": 37,
   "id": "4dd891ce",
   "metadata": {
    "execution": {
     "iopub.execute_input": "2023-09-25T15:26:11.959050Z",
     "iopub.status.busy": "2023-09-25T15:26:11.958702Z",
     "iopub.status.idle": "2023-09-25T15:26:11.965399Z",
     "shell.execute_reply": "2023-09-25T15:26:11.963566Z"
    },
    "papermill": {
     "duration": 0.025219,
     "end_time": "2023-09-25T15:26:11.968011",
     "exception": false,
     "start_time": "2023-09-25T15:26:11.942792",
     "status": "completed"
    },
    "tags": []
   },
   "outputs": [],
   "source": [
    "test_data.drop('Survived', axis=1, inplace=True)"
   ]
  },
  {
   "cell_type": "code",
   "execution_count": 38,
   "id": "454b81f0",
   "metadata": {
    "execution": {
     "iopub.execute_input": "2023-09-25T15:26:11.998692Z",
     "iopub.status.busy": "2023-09-25T15:26:11.998251Z",
     "iopub.status.idle": "2023-09-25T15:26:12.005187Z",
     "shell.execute_reply": "2023-09-25T15:26:12.004331Z"
    },
    "papermill": {
     "duration": 0.024866,
     "end_time": "2023-09-25T15:26:12.007568",
     "exception": false,
     "start_time": "2023-09-25T15:26:11.982702",
     "status": "completed"
    },
    "tags": []
   },
   "outputs": [],
   "source": [
    "predictions = model.predict(test_data)"
   ]
  },
  {
   "cell_type": "code",
   "execution_count": 39,
   "id": "82251f13",
   "metadata": {
    "execution": {
     "iopub.execute_input": "2023-09-25T15:26:12.040279Z",
     "iopub.status.busy": "2023-09-25T15:26:12.039873Z",
     "iopub.status.idle": "2023-09-25T15:26:12.048579Z",
     "shell.execute_reply": "2023-09-25T15:26:12.047387Z"
    },
    "papermill": {
     "duration": 0.028015,
     "end_time": "2023-09-25T15:26:12.050972",
     "exception": false,
     "start_time": "2023-09-25T15:26:12.022957",
     "status": "completed"
    },
    "tags": []
   },
   "outputs": [],
   "source": [
    "passenger_ids = pd.read_csv('/kaggle/input/titanic/test.csv')['PassengerId']\n",
    "output = pd.DataFrame({'PassengerId': passenger_ids, 'Survived': predictions})"
   ]
  },
  {
   "cell_type": "code",
   "execution_count": 40,
   "id": "3996a73b",
   "metadata": {
    "execution": {
     "iopub.execute_input": "2023-09-25T15:26:12.082643Z",
     "iopub.status.busy": "2023-09-25T15:26:12.081495Z",
     "iopub.status.idle": "2023-09-25T15:26:12.088989Z",
     "shell.execute_reply": "2023-09-25T15:26:12.088096Z"
    },
    "papermill": {
     "duration": 0.025603,
     "end_time": "2023-09-25T15:26:12.091192",
     "exception": false,
     "start_time": "2023-09-25T15:26:12.065589",
     "status": "completed"
    },
    "tags": []
   },
   "outputs": [
    {
     "name": "stdout",
     "output_type": "stream",
     "text": [
      "     PassengerId  Survived\n",
      "0            892         0\n",
      "1            893         1\n",
      "2            894         0\n",
      "3            895         0\n",
      "4            896         1\n",
      "..           ...       ...\n",
      "413         1305         0\n",
      "414         1306         1\n",
      "415         1307         0\n",
      "416         1308         0\n",
      "417         1309         0\n",
      "\n",
      "[418 rows x 2 columns]\n"
     ]
    }
   ],
   "source": [
    "print(output)"
   ]
  },
  {
   "cell_type": "markdown",
   "id": "a1954d24",
   "metadata": {
    "papermill": {
     "duration": 0.014844,
     "end_time": "2023-09-25T15:26:12.120936",
     "exception": false,
     "start_time": "2023-09-25T15:26:12.106092",
     "status": "completed"
    },
    "tags": []
   },
   "source": []
  }
 ],
 "metadata": {
  "kernelspec": {
   "display_name": "Python 3",
   "language": "python",
   "name": "python3"
  },
  "language_info": {
   "codemirror_mode": {
    "name": "ipython",
    "version": 3
   },
   "file_extension": ".py",
   "mimetype": "text/x-python",
   "name": "python",
   "nbconvert_exporter": "python",
   "pygments_lexer": "ipython3",
   "version": "3.10.12"
  },
  "papermill": {
   "default_parameters": {},
   "duration": 16.353539,
   "end_time": "2023-09-25T15:26:13.058516",
   "environment_variables": {},
   "exception": null,
   "input_path": "__notebook__.ipynb",
   "output_path": "__notebook__.ipynb",
   "parameters": {},
   "start_time": "2023-09-25T15:25:56.704977",
   "version": "2.4.0"
  }
 },
 "nbformat": 4,
 "nbformat_minor": 5
}
