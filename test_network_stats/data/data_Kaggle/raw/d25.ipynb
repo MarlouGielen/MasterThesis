{
 "cells": [
  {
   "cell_type": "code",
   "execution_count": 1,
   "id": "ef8e9f00",
   "metadata": {
    "_cell_guid": "b1076dfc-b9ad-4769-8c92-a6c4dae69d19",
    "_uuid": "8f2839f25d086af736a60e9eeb907d3b93b6e0e5",
    "execution": {
     "iopub.execute_input": "2023-11-25T16:31:27.512960Z",
     "iopub.status.busy": "2023-11-25T16:31:27.512468Z",
     "iopub.status.idle": "2023-11-25T16:31:27.914321Z",
     "shell.execute_reply": "2023-11-25T16:31:27.912872Z"
    },
    "papermill": {
     "duration": 0.421884,
     "end_time": "2023-11-25T16:31:27.916749",
     "exception": false,
     "start_time": "2023-11-25T16:31:27.494865",
     "status": "completed"
    },
    "tags": []
   },
   "outputs": [
    {
     "name": "stdout",
     "output_type": "stream",
     "text": [
      "/kaggle/input/titanic/train.csv\n",
      "/kaggle/input/titanic/test.csv\n",
      "/kaggle/input/titanic/gender_submission.csv\n"
     ]
    }
   ],
   "source": [
    "import numpy as np # linear algebra\n",
    "import pandas as pd # data processing, CSV file I/O (e.g. pd.read_csv)\n",
    "import warnings\n",
    "warnings.filterwarnings(\"ignore\", category=DeprecationWarning)\n",
    "import os\n",
    "for dirname, _, filenames in os.walk('/kaggle/input'):\n",
    "    for filename in filenames:\n",
    "        print(os.path.join(dirname, filename))\n"
   ]
  },
  {
   "cell_type": "markdown",
   "id": "f6517a1f",
   "metadata": {
    "papermill": {
     "duration": 0.011905,
     "end_time": "2023-11-25T16:31:27.940994",
     "exception": false,
     "start_time": "2023-11-25T16:31:27.929089",
     "status": "completed"
    },
    "tags": []
   },
   "source": [
    "# 0. Background\n",
    "\n",
    "\n",
    "## Introduction\n",
    "The Titanic: Machine Learning from Disaster competition represents an engaging challenge that merges historical significance with predictive analytics. It provides an opportunity for data science enthusiasts and experts to apply machine learning techniques to a dataset that is both rich in history and complexity.\n",
    "\n",
    "## Problem Definition\n",
    "The competition's objective is to predict survival on the Titanic, the passenger liner that sank in 1912 after colliding with an iceberg. The event holds substantial historical significance due to the loss of life, particularly because it reflected the societal norms of the era, such as class distinctions. The task of predicting survival is not merely an academic exercise but also a reflection on the human aspects behind data, underscoring the potential of machine learning in understanding human factors in historical events.\n",
    "\n",
    "## Expected Outputs\n",
    "The expected output is a predictive model capable of determining the survival outcome for each passenger in the test set. Participants must submit a CSV file with two columns: `PassengerId` and `Survived`. The `Survived` column should contain the binary predictions: 1 for survived and 0 for did not survive. The model's performance is measured based on the accuracy of these predictions.\n",
    "\n",
    "## Dataset\n",
    "The provided dataset consists of several attributes for each passenger aboard the Titanic:\n",
    "\n",
    "  - `PassengerId`: Unique identifier for each passenger.\n",
    "  - `Survived`: Survival status (0 = No, 1 = Yes).\n",
    "  - `Pclass`: Passenger class (1 = 1st, 2 = 2nd, 3 = 3rd).\n",
    "  - `Name`: Name of the passenger.\n",
    "  - `Sex`: Gender of the passenger (male or female).\n",
    "  - `Age`: Age of the passenger. Some entries are NaN, indicating missing values.\n",
    "  - `SibSp`: Number of siblings or spouses aboard.\n",
    "  - `Parch`: Number of parents or children aboard.\n",
    "  - `Ticket`: Ticket number.\n",
    "  - `Fare`: Passenger fare.\n",
    "  - `Cabin`: Cabin number. Contains NaN values, which represent missing data.\n",
    "  - `Embarked`: Port of Embarkation (C = Cherbourg, Q = Queenstown, S = Southampton).\n",
    "\n",
    "The dataset will be used to train machine learning models that can discern patterns and associations between the features and the likelihood of survival.\n",
    "\n",
    "## Problem Type\n",
    "The challenge is a binary classification problem, a type of supervised learning where the aim is to categorize the passengers into two groups: those who survived and those who did not. The nature of the `Survived` variable as a binary indicator makes it a clear case of classification rather than regression, which would predict continuous outcomes.\n",
    "\n",
    "## Conclusion\n",
    "The Titanic Kaggle competition is a testbed for machine learning methodologies, offering insights into the social fabric of the early 20th century while advancing the field of data science. It presents a problem that is both historically enriching and technically stimulating, with the potential to develop predictive models that are not only accurate but also interpretative of the human stories behind the data.\n",
    "I will use a dataset containing information about those on board to develop a machine learning model that attempts to predict who survived."
   ]
  },
  {
   "cell_type": "markdown",
   "id": "b7896caa",
   "metadata": {
    "papermill": {
     "duration": 0.011569,
     "end_time": "2023-11-25T16:31:27.964416",
     "exception": false,
     "start_time": "2023-11-25T16:31:27.952847",
     "status": "completed"
    },
    "tags": []
   },
   "source": [
    "# 1. Reading the data"
   ]
  },
  {
   "cell_type": "code",
   "execution_count": 2,
   "id": "a230928c",
   "metadata": {
    "execution": {
     "iopub.execute_input": "2023-11-25T16:31:27.990802Z",
     "iopub.status.busy": "2023-11-25T16:31:27.989878Z",
     "iopub.status.idle": "2023-11-25T16:31:29.360142Z",
     "shell.execute_reply": "2023-11-25T16:31:29.358819Z"
    },
    "papermill": {
     "duration": 1.386875,
     "end_time": "2023-11-25T16:31:29.363254",
     "exception": false,
     "start_time": "2023-11-25T16:31:27.976379",
     "status": "completed"
    },
    "tags": []
   },
   "outputs": [],
   "source": [
    "# temel kütüphaneler\n",
    "import numpy as np\n",
    "import pandas as pd\n",
    "import matplotlib.pyplot as plt\n",
    "import seaborn as sns"
   ]
  },
  {
   "cell_type": "code",
   "execution_count": 3,
   "id": "994fe14a",
   "metadata": {
    "execution": {
     "iopub.execute_input": "2023-11-25T16:31:29.390802Z",
     "iopub.status.busy": "2023-11-25T16:31:29.390363Z",
     "iopub.status.idle": "2023-11-25T16:31:29.460950Z",
     "shell.execute_reply": "2023-11-25T16:31:29.460124Z"
    },
    "papermill": {
     "duration": 0.087521,
     "end_time": "2023-11-25T16:31:29.463071",
     "exception": false,
     "start_time": "2023-11-25T16:31:29.375550",
     "status": "completed"
    },
    "tags": []
   },
   "outputs": [
    {
     "data": {
      "text/html": [
       "<div>\n",
       "<style scoped>\n",
       "    .dataframe tbody tr th:only-of-type {\n",
       "        vertical-align: middle;\n",
       "    }\n",
       "\n",
       "    .dataframe tbody tr th {\n",
       "        vertical-align: top;\n",
       "    }\n",
       "\n",
       "    .dataframe thead th {\n",
       "        text-align: right;\n",
       "    }\n",
       "</style>\n",
       "<table border=\"1\" class=\"dataframe\">\n",
       "  <thead>\n",
       "    <tr style=\"text-align: right;\">\n",
       "      <th></th>\n",
       "      <th>PassengerId</th>\n",
       "      <th>Survived</th>\n",
       "      <th>Pclass</th>\n",
       "      <th>Name</th>\n",
       "      <th>Sex</th>\n",
       "      <th>Age</th>\n",
       "      <th>SibSp</th>\n",
       "      <th>Parch</th>\n",
       "      <th>Ticket</th>\n",
       "      <th>Fare</th>\n",
       "      <th>Cabin</th>\n",
       "      <th>Embarked</th>\n",
       "    </tr>\n",
       "  </thead>\n",
       "  <tbody>\n",
       "    <tr>\n",
       "      <th>0</th>\n",
       "      <td>1</td>\n",
       "      <td>0</td>\n",
       "      <td>3</td>\n",
       "      <td>Braund, Mr. Owen Harris</td>\n",
       "      <td>male</td>\n",
       "      <td>22.0</td>\n",
       "      <td>1</td>\n",
       "      <td>0</td>\n",
       "      <td>A/5 21171</td>\n",
       "      <td>7.2500</td>\n",
       "      <td>NaN</td>\n",
       "      <td>S</td>\n",
       "    </tr>\n",
       "    <tr>\n",
       "      <th>1</th>\n",
       "      <td>2</td>\n",
       "      <td>1</td>\n",
       "      <td>1</td>\n",
       "      <td>Cumings, Mrs. John Bradley (Florence Briggs Th...</td>\n",
       "      <td>female</td>\n",
       "      <td>38.0</td>\n",
       "      <td>1</td>\n",
       "      <td>0</td>\n",
       "      <td>PC 17599</td>\n",
       "      <td>71.2833</td>\n",
       "      <td>C85</td>\n",
       "      <td>C</td>\n",
       "    </tr>\n",
       "    <tr>\n",
       "      <th>2</th>\n",
       "      <td>3</td>\n",
       "      <td>1</td>\n",
       "      <td>3</td>\n",
       "      <td>Heikkinen, Miss. Laina</td>\n",
       "      <td>female</td>\n",
       "      <td>26.0</td>\n",
       "      <td>0</td>\n",
       "      <td>0</td>\n",
       "      <td>STON/O2. 3101282</td>\n",
       "      <td>7.9250</td>\n",
       "      <td>NaN</td>\n",
       "      <td>S</td>\n",
       "    </tr>\n",
       "    <tr>\n",
       "      <th>3</th>\n",
       "      <td>4</td>\n",
       "      <td>1</td>\n",
       "      <td>1</td>\n",
       "      <td>Futrelle, Mrs. Jacques Heath (Lily May Peel)</td>\n",
       "      <td>female</td>\n",
       "      <td>35.0</td>\n",
       "      <td>1</td>\n",
       "      <td>0</td>\n",
       "      <td>113803</td>\n",
       "      <td>53.1000</td>\n",
       "      <td>C123</td>\n",
       "      <td>S</td>\n",
       "    </tr>\n",
       "    <tr>\n",
       "      <th>4</th>\n",
       "      <td>5</td>\n",
       "      <td>0</td>\n",
       "      <td>3</td>\n",
       "      <td>Allen, Mr. William Henry</td>\n",
       "      <td>male</td>\n",
       "      <td>35.0</td>\n",
       "      <td>0</td>\n",
       "      <td>0</td>\n",
       "      <td>373450</td>\n",
       "      <td>8.0500</td>\n",
       "      <td>NaN</td>\n",
       "      <td>S</td>\n",
       "    </tr>\n",
       "    <tr>\n",
       "      <th>...</th>\n",
       "      <td>...</td>\n",
       "      <td>...</td>\n",
       "      <td>...</td>\n",
       "      <td>...</td>\n",
       "      <td>...</td>\n",
       "      <td>...</td>\n",
       "      <td>...</td>\n",
       "      <td>...</td>\n",
       "      <td>...</td>\n",
       "      <td>...</td>\n",
       "      <td>...</td>\n",
       "      <td>...</td>\n",
       "    </tr>\n",
       "    <tr>\n",
       "      <th>886</th>\n",
       "      <td>887</td>\n",
       "      <td>0</td>\n",
       "      <td>2</td>\n",
       "      <td>Montvila, Rev. Juozas</td>\n",
       "      <td>male</td>\n",
       "      <td>27.0</td>\n",
       "      <td>0</td>\n",
       "      <td>0</td>\n",
       "      <td>211536</td>\n",
       "      <td>13.0000</td>\n",
       "      <td>NaN</td>\n",
       "      <td>S</td>\n",
       "    </tr>\n",
       "    <tr>\n",
       "      <th>887</th>\n",
       "      <td>888</td>\n",
       "      <td>1</td>\n",
       "      <td>1</td>\n",
       "      <td>Graham, Miss. Margaret Edith</td>\n",
       "      <td>female</td>\n",
       "      <td>19.0</td>\n",
       "      <td>0</td>\n",
       "      <td>0</td>\n",
       "      <td>112053</td>\n",
       "      <td>30.0000</td>\n",
       "      <td>B42</td>\n",
       "      <td>S</td>\n",
       "    </tr>\n",
       "    <tr>\n",
       "      <th>888</th>\n",
       "      <td>889</td>\n",
       "      <td>0</td>\n",
       "      <td>3</td>\n",
       "      <td>Johnston, Miss. Catherine Helen \"Carrie\"</td>\n",
       "      <td>female</td>\n",
       "      <td>NaN</td>\n",
       "      <td>1</td>\n",
       "      <td>2</td>\n",
       "      <td>W./C. 6607</td>\n",
       "      <td>23.4500</td>\n",
       "      <td>NaN</td>\n",
       "      <td>S</td>\n",
       "    </tr>\n",
       "    <tr>\n",
       "      <th>889</th>\n",
       "      <td>890</td>\n",
       "      <td>1</td>\n",
       "      <td>1</td>\n",
       "      <td>Behr, Mr. Karl Howell</td>\n",
       "      <td>male</td>\n",
       "      <td>26.0</td>\n",
       "      <td>0</td>\n",
       "      <td>0</td>\n",
       "      <td>111369</td>\n",
       "      <td>30.0000</td>\n",
       "      <td>C148</td>\n",
       "      <td>C</td>\n",
       "    </tr>\n",
       "    <tr>\n",
       "      <th>890</th>\n",
       "      <td>891</td>\n",
       "      <td>0</td>\n",
       "      <td>3</td>\n",
       "      <td>Dooley, Mr. Patrick</td>\n",
       "      <td>male</td>\n",
       "      <td>32.0</td>\n",
       "      <td>0</td>\n",
       "      <td>0</td>\n",
       "      <td>370376</td>\n",
       "      <td>7.7500</td>\n",
       "      <td>NaN</td>\n",
       "      <td>Q</td>\n",
       "    </tr>\n",
       "  </tbody>\n",
       "</table>\n",
       "<p>891 rows × 12 columns</p>\n",
       "</div>"
      ],
      "text/plain": [
       "     PassengerId  Survived  Pclass  \\\n",
       "0              1         0       3   \n",
       "1              2         1       1   \n",
       "2              3         1       3   \n",
       "3              4         1       1   \n",
       "4              5         0       3   \n",
       "..           ...       ...     ...   \n",
       "886          887         0       2   \n",
       "887          888         1       1   \n",
       "888          889         0       3   \n",
       "889          890         1       1   \n",
       "890          891         0       3   \n",
       "\n",
       "                                                  Name     Sex   Age  SibSp  \\\n",
       "0                              Braund, Mr. Owen Harris    male  22.0      1   \n",
       "1    Cumings, Mrs. John Bradley (Florence Briggs Th...  female  38.0      1   \n",
       "2                               Heikkinen, Miss. Laina  female  26.0      0   \n",
       "3         Futrelle, Mrs. Jacques Heath (Lily May Peel)  female  35.0      1   \n",
       "4                             Allen, Mr. William Henry    male  35.0      0   \n",
       "..                                                 ...     ...   ...    ...   \n",
       "886                              Montvila, Rev. Juozas    male  27.0      0   \n",
       "887                       Graham, Miss. Margaret Edith  female  19.0      0   \n",
       "888           Johnston, Miss. Catherine Helen \"Carrie\"  female   NaN      1   \n",
       "889                              Behr, Mr. Karl Howell    male  26.0      0   \n",
       "890                                Dooley, Mr. Patrick    male  32.0      0   \n",
       "\n",
       "     Parch            Ticket     Fare Cabin Embarked  \n",
       "0        0         A/5 21171   7.2500   NaN        S  \n",
       "1        0          PC 17599  71.2833   C85        C  \n",
       "2        0  STON/O2. 3101282   7.9250   NaN        S  \n",
       "3        0            113803  53.1000  C123        S  \n",
       "4        0            373450   8.0500   NaN        S  \n",
       "..     ...               ...      ...   ...      ...  \n",
       "886      0            211536  13.0000   NaN        S  \n",
       "887      0            112053  30.0000   B42        S  \n",
       "888      2        W./C. 6607  23.4500   NaN        S  \n",
       "889      0            111369  30.0000  C148        C  \n",
       "890      0            370376   7.7500   NaN        Q  \n",
       "\n",
       "[891 rows x 12 columns]"
      ]
     },
     "execution_count": 3,
     "metadata": {},
     "output_type": "execute_result"
    }
   ],
   "source": [
    "test_df = pd.read_csv('/kaggle/input/titanic/test.csv')\n",
    "df = pd.read_csv('/kaggle/input/titanic/train.csv')\n",
    "df"
   ]
  },
  {
   "cell_type": "markdown",
   "id": "b729ea28",
   "metadata": {
    "papermill": {
     "duration": 0.012331,
     "end_time": "2023-11-25T16:31:29.489050",
     "exception": false,
     "start_time": "2023-11-25T16:31:29.476719",
     "status": "completed"
    },
    "tags": []
   },
   "source": [
    "Here's a description of the data as displayed in the DataFrame:\n",
    "\n",
    "- **Columns in the DataFrame:**\n",
    "  - `PassengerId`: Unique identifier for each passenger.\n",
    "  - `Survived`: Survival status (0 = No, 1 = Yes).\n",
    "  - `Pclass`: Passenger class (1 = 1st, 2 = 2nd, 3 = 3rd).\n",
    "  - `Name`: Name of the passenger.\n",
    "  - `Sex`: Gender of the passenger (male or female).\n",
    "  - `Age`: Age of the passenger. Some entries are NaN, indicating missing values.\n",
    "  - `SibSp`: Number of siblings or spouses aboard.\n",
    "  - `Parch`: Number of parents or children aboard.\n",
    "  - `Ticket`: Ticket number.\n",
    "  - `Fare`: Passenger fare.\n",
    "  - `Cabin`: Cabin number. Contains NaN values, which represent missing data.\n",
    "  - `Embarked`: Port of Embarkation (C = Cherbourg, Q = Queenstown, S = Southampton).\n",
    "\n",
    "- **Sample Data:**\n",
    "  - The first row corresponds to a male passenger with a `PassengerId` of 1, who did not survive, was in 3rd class, and embarked from Southampton (`Embarked` = S).\n",
    "  - The third row shows a female passenger, `PassengerId` 3, who survived, was in 3rd class, and also embarked from Southampton.\n",
    "  - There are some missing data points, indicated by `NaN` (not a number), especially in the `Age` and `Cabin` columns, which will require careful handling during data preprocessing for any machine learning tasks.\n",
    "\n",
    "- **Data Use:**\n",
    "  - `Survived` is the target variable for the prediction model.\n",
    "  - Other columns serve as features to train machine learning models to predict the target variable. Features like `Name` and `Ticket` might be used for feature engineering, while `Cabin` and `Age` would need to deal with missing values.\n",
    "\n",
    "This data is  used to train classification models to predict the `Survived` column, which is a binary outcome indicating whether a passenger survived the Titanic disaster."
   ]
  },
  {
   "cell_type": "markdown",
   "id": "527153a0",
   "metadata": {
    "papermill": {
     "duration": 0.012266,
     "end_time": "2023-11-25T16:31:29.514084",
     "exception": false,
     "start_time": "2023-11-25T16:31:29.501818",
     "status": "completed"
    },
    "tags": []
   },
   "source": [
    "# 2.Exploratory Data Analysis (EDA) "
   ]
  },
  {
   "cell_type": "markdown",
   "id": "0fc89721",
   "metadata": {
    "papermill": {
     "duration": 0.012248,
     "end_time": "2023-11-25T16:31:29.539357",
     "exception": false,
     "start_time": "2023-11-25T16:31:29.527109",
     "status": "completed"
    },
    "tags": []
   },
   "source": [
    "# 2.1 Pclass\n",
    "\n",
    "\"Pclass\" signifies the accommodation category for travelers on the Titanic, reflective of their socio-economic stature. \n",
    "\n",
    "- 1st Class: This tier was the domain of the affluent and illustrious—magnates, celebrities, or distinguished personas. It offered spacious quarters and superior dining and amenities.\n",
    "\n",
    "- 2nd Class: Serving as a mid-level option, it was less opulent than 1st Class but provided a comfortable journey for middle-class travelers. The cabins were more compact, and there were fewer luxuries.\n",
    "\n",
    "- 3rd Class: This was the most basic level of travel, primarily for individuals of modest means, often immigrants or those with lesser financial resources. Accommodations were more confined, with basic amenities.\n",
    "\n",
    "The Pclass is indicative of the passengers' financial and social ranking. It is a critical factor in survival analysis due to the potential influence of class on emergency response and evacuation procedures during the disaster."
   ]
  },
  {
   "cell_type": "code",
   "execution_count": 4,
   "id": "fe204568",
   "metadata": {
    "execution": {
     "iopub.execute_input": "2023-11-25T16:31:29.566559Z",
     "iopub.status.busy": "2023-11-25T16:31:29.565942Z",
     "iopub.status.idle": "2023-11-25T16:31:29.941072Z",
     "shell.execute_reply": "2023-11-25T16:31:29.939944Z"
    },
    "papermill": {
     "duration": 0.391673,
     "end_time": "2023-11-25T16:31:29.943560",
     "exception": false,
     "start_time": "2023-11-25T16:31:29.551887",
     "status": "completed"
    },
    "tags": []
   },
   "outputs": [
    {
     "data": {
      "image/png": "[encoded data removed]",
      "text/plain": [
       "<Figure size 800x600 with 1 Axes>"
      ]
     },
     "metadata": {},
     "output_type": "display_data"
    }
   ],
   "source": [
    "plt.figure(figsize=(8, 6))\n",
    "ax = sns.countplot(data=df, x='Pclass')\n",
    "\n",
    "for p in ax.patches:\n",
    "    ax.annotate(format(p.get_height(), '.0f'), \n",
    "                (p.get_x() + p.get_width() / 2., p.get_height()), \n",
    "                ha = 'center', va = 'center', \n",
    "                xytext = (0, 10), \n",
    "                textcoords = 'offset points')\n",
    "\n",
    "plt.title('Distribution of Passenger Classes')\n",
    "plt.xlabel('Passenger Class')\n",
    "plt.ylabel('Count')\n",
    "plt.show()"
   ]
  },
  {
   "cell_type": "markdown",
   "id": "d2e968f6",
   "metadata": {
    "papermill": {
     "duration": 0.012502,
     "end_time": "2023-11-25T16:31:29.968975",
     "exception": false,
     "start_time": "2023-11-25T16:31:29.956473",
     "status": "completed"
    },
    "tags": []
   },
   "source": [
    "Here are some observations and comments based on the chart:\n",
    "\n",
    "1. **Third Class is the Most Populous:** With 491 passengers, the Third Class had the highest number of passengers compared to the other classes. This reflects the economic demographics of the time, where a larger portion of the population were of lower socio-economic status, which also correlates with the common practice of ships carrying more third-class passengers to maximize ticket sales.\n",
    "\n",
    "2. **First Class has More Passengers than Second:** There were 216 passengers in First Class and slightly fewer, 184, in Second Class. This could indicate that the Titanic was quite luxurious and attracted a significant number of affluent passengers who could afford the higher fare for better accommodations and services.\n",
    "\n",
    "3. **Economic Implications:** The distribution shows the economic stratification of society at the time. A substantial number of people were traveling in Third Class, possibly in hope of starting a new life in America, which was a common reason for travel among immigrants during that period.\n",
    "\n",
    "4. **Implications for Survival Analysis:** Given the larger number of Third Class passengers, if resources and lifeboats were limited and preferentially allocated to higher classes, this could have significantly influenced survival rates. Historical accounts suggest that First Class passengers had better access to lifeboats, which is an important aspect to consider in survival analysis.\n",
    "\n",
    "5. **Data Visualization Insights:** The bar chart effectively communicates the difference in class sizes, which is crucial for data exploration in predictive modeling. It's a good practice to visualize data this way to understand the underlying distributions before applying machine learning algorithms.\n",
    "\n",
    "6. **Potential Bias in Model Training:** When training machine learning models on this data, the imbalance in class distribution may introduce bias. Models might perform better at predicting survival for Third Class passengers simply because there are more data points for that class.\n",
    "\n",
    "Overall, the visualization underscores the importance of considering passenger class as a feature in predictive models and as a factor in historical analyses of the Titanic disaster."
   ]
  },
  {
   "cell_type": "markdown",
   "id": "f0580ba8",
   "metadata": {
    "papermill": {
     "duration": 0.013393,
     "end_time": "2023-11-25T16:31:29.995297",
     "exception": false,
     "start_time": "2023-11-25T16:31:29.981904",
     "status": "completed"
    },
    "tags": []
   },
   "source": [
    "# 2.2 Sex"
   ]
  },
  {
   "cell_type": "code",
   "execution_count": 5,
   "id": "a7a9d62e",
   "metadata": {
    "execution": {
     "iopub.execute_input": "2023-11-25T16:31:30.091710Z",
     "iopub.status.busy": "2023-11-25T16:31:30.091261Z",
     "iopub.status.idle": "2023-11-25T16:31:30.332960Z",
     "shell.execute_reply": "2023-11-25T16:31:30.331734Z"
    },
    "papermill": {
     "duration": 0.325484,
     "end_time": "2023-11-25T16:31:30.335419",
     "exception": false,
     "start_time": "2023-11-25T16:31:30.009935",
     "status": "completed"
    },
    "tags": []
   },
   "outputs": [
    {
     "data": {
      "image/png": "[encoded data removed]",
      "text/plain": [
       "<Figure size 800x600 with 1 Axes>"
      ]
     },
     "metadata": {},
     "output_type": "display_data"
    }
   ],
   "source": [
    "plt.figure(figsize=(8, 6))\n",
    "ax = sns.countplot(data=df, x='Sex')\n",
    "\n",
    "for p in ax.patches:\n",
    "    ax.annotate(format(p.get_height(), '.0f'), \n",
    "                (p.get_x() + p.get_width() / 2., p.get_height()), \n",
    "                ha = 'center', va = 'center', \n",
    "                xytext = (0, 10), \n",
    "                textcoords = 'offset points')\n",
    "\n",
    "plt.title('Distribution of Sex')\n",
    "plt.xlabel('Sex of Passengers')\n",
    "plt.ylabel('Count')\n",
    "plt.show()"
   ]
  },
  {
   "cell_type": "markdown",
   "id": "accd48f1",
   "metadata": {
    "papermill": {
     "duration": 0.013156,
     "end_time": "2023-11-25T16:31:30.362280",
     "exception": false,
     "start_time": "2023-11-25T16:31:30.349124",
     "status": "completed"
    },
    "tags": []
   },
   "source": [
    " Here are some insights and comments regarding the chart:\n",
    "\n",
    "1. **Gender Disparity:** The chart illustrates that there were considerably more male passengers (577) than female passengers (314) on the Titanic. This reflects the gender demographics of passengers who were traveling at that time.\n",
    "\n",
    "2. **Implications for Survival Predictions:** Historical records indicate that the protocol of \"women and children first\" was often followed during maritime disasters. Therefore, despite being outnumbered, female passengers might have had a higher survival rate compared to males, which is a critical consideration for predictive modeling.\n",
    "\n",
    "3. **Visualization Effectiveness:** The bar chart clearly demonstrates the disparity in numbers between male and female passengers. Such visualizations are important in exploratory data analysis as they provide immediate insights into the dataset's structure before any statistical modeling.\n",
    "\n",
    "4. **Influence on Model Training:** The imbalance shown here may influence the performance of machine learning models. If the model is not adjusted to account for this imbalance, it may become biased towards predicting the survival of males, simply because there are more male passengers in the dataset.\n",
    "\n",
    "5. **Historical Context:** The higher number of males might be reflective of the societal norms of the time, where men were more likely to travel alone for business or emigration purposes, while women often traveled with families.\n",
    "\n",
    "6. **Data Preparation Considerations:** When preparing the dataset for machine learning, it might be beneficial to consider techniques like stratification to ensure that both genders are adequately represented in the training and validation sets.\n",
    "\n"
   ]
  },
  {
   "cell_type": "code",
   "execution_count": 6,
   "id": "9f54e82c",
   "metadata": {
    "execution": {
     "iopub.execute_input": "2023-11-25T16:31:30.391396Z",
     "iopub.status.busy": "2023-11-25T16:31:30.390773Z",
     "iopub.status.idle": "2023-11-25T16:31:30.641119Z",
     "shell.execute_reply": "2023-11-25T16:31:30.639700Z"
    },
    "papermill": {
     "duration": 0.267712,
     "end_time": "2023-11-25T16:31:30.643478",
     "exception": false,
     "start_time": "2023-11-25T16:31:30.375766",
     "status": "completed"
    },
    "tags": []
   },
   "outputs": [
    {
     "data": {
      "image/png": "[encoded data removed]",
      "text/plain": [
       "<Figure size 640x480 with 1 Axes>"
      ]
     },
     "metadata": {},
     "output_type": "display_data"
    }
   ],
   "source": [
    "# Calculate the mean survival rates by sex\n",
    "survival_rates = df.groupby('Sex')['Survived'].mean().reset_index()\n",
    "\n",
    "# Create the bar plot\n",
    "sns.barplot(x='Sex', y='Survived', data=survival_rates)\n",
    "\n",
    "# Adding the actual survival rates on top of the bars\n",
    "for index, value in enumerate(survival_rates['Survived']):\n",
    "    plt.text(index, value, f'{value:.4f}', ha='center', va='bottom')\n",
    "\n",
    "# Set the title and labels for the plot\n",
    "plt.title('Survival Rates by Sex')\n",
    "plt.ylabel('Average Survival Rate')\n",
    "plt.xlabel('Sex')\n",
    "\n",
    "# Display the plot\n",
    "plt.show()"
   ]
  },
  {
   "cell_type": "markdown",
   "id": "e5cb707d",
   "metadata": {
    "papermill": {
     "duration": 0.013876,
     "end_time": "2023-11-25T16:31:30.671462",
     "exception": false,
     "start_time": "2023-11-25T16:31:30.657586",
     "status": "completed"
    },
    "tags": []
   },
   "source": [
    "Here are some comments and interpretations based on the chart:\n",
    "\n",
    "1. **Significant Gender-Based Survival Disparity:** The bar chart highlights a stark difference in survival rates between females and males. Female passengers had a much higher survival rate of approximately 74.2%, while the survival rate for male passengers was markedly lower at about 18.9%.\n",
    "\n"
   ]
  },
  {
   "cell_type": "markdown",
   "id": "2ef5f7f4",
   "metadata": {
    "papermill": {
     "duration": 0.014886,
     "end_time": "2023-11-25T16:31:30.700541",
     "exception": false,
     "start_time": "2023-11-25T16:31:30.685655",
     "status": "completed"
    },
    "tags": []
   },
   "source": [
    "# 2.3. Age"
   ]
  },
  {
   "cell_type": "code",
   "execution_count": 7,
   "id": "8a0afabf",
   "metadata": {
    "execution": {
     "iopub.execute_input": "2023-11-25T16:31:30.733465Z",
     "iopub.status.busy": "2023-11-25T16:31:30.732650Z",
     "iopub.status.idle": "2023-11-25T16:31:31.073092Z",
     "shell.execute_reply": "2023-11-25T16:31:31.071963Z"
    },
    "papermill": {
     "duration": 0.36062,
     "end_time": "2023-11-25T16:31:31.076125",
     "exception": false,
     "start_time": "2023-11-25T16:31:30.715505",
     "status": "completed"
    },
    "tags": []
   },
   "outputs": [
    {
     "data": {
      "image/png": "[encoded data removed]",
      "text/plain": [
       "<Figure size 640x480 with 1 Axes>"
      ]
     },
     "metadata": {},
     "output_type": "display_data"
    }
   ],
   "source": [
    "sns.histplot(x=\"Age\", hue=\"Survived\", palette=\"mako\", data=df[[\"Age\",\"Survived\"]])\n",
    "plt.title(\"Age Distribution\", color='black', fontsize=14) \n",
    "plt.yticks([])\n",
    "plt.box(False)\n",
    "plt.show()"
   ]
  },
  {
   "cell_type": "markdown",
   "id": "59b68458",
   "metadata": {
    "papermill": {
     "duration": 0.014497,
     "end_time": "2023-11-25T16:31:31.105943",
     "exception": false,
     "start_time": "2023-11-25T16:31:31.091446",
     "status": "completed"
    },
    "tags": []
   },
   "source": [
    "Here are some comments and insights based on the chart:\n",
    "\n",
    "1. **Bimodal Distribution:** The age distribution appears to be bimodal, with two peaks suggesting that younger adults and children were the most common age groups among the passengers.\n",
    "\n",
    "2. **Higher Survival Rate Among Younger Passengers:** The lighter-colored bars, which represent the passengers who survived, seem more prominent in the lower age groups, suggesting that younger passengers had a higher survival rate.\n",
    "\n",
    "3. **Declining Survival with Age:** There is a noticeable decline in survival rate as age increases, particularly noticeable in passengers older than 30 years old.\n",
    "\n",
    "4. **Children's Survival:** The survival rate for very young passengers (children) seems to be high, which could be attributed to the \"women and children first\" policy during lifeboat loading.\n",
    "\n",
    "5. **Effective Visualization:** This stacked histogram effectively conveys the relationship between age and survival. It allows for easy comparison between the number of survivors and non-survivors within each age group.\n",
    "\n",
    "6. **Insights for Model Training:** For predictive modeling, this visualization suggests that age could be an important feature, potentially requiring more nuanced treatment such as binning into categorical age groups or creating age-related interaction features.\n",
    "\n"
   ]
  },
  {
   "cell_type": "markdown",
   "id": "974ca4a6",
   "metadata": {
    "papermill": {
     "duration": 0.014212,
     "end_time": "2023-11-25T16:31:31.136771",
     "exception": false,
     "start_time": "2023-11-25T16:31:31.122559",
     "status": "completed"
    },
    "tags": []
   },
   "source": [
    "# 2.4. SibSp"
   ]
  },
  {
   "cell_type": "code",
   "execution_count": 8,
   "id": "ec6c3c26",
   "metadata": {
    "execution": {
     "iopub.execute_input": "2023-11-25T16:31:31.167684Z",
     "iopub.status.busy": "2023-11-25T16:31:31.166723Z",
     "iopub.status.idle": "2023-11-25T16:31:31.473096Z",
     "shell.execute_reply": "2023-11-25T16:31:31.471976Z"
    },
    "papermill": {
     "duration": 0.324343,
     "end_time": "2023-11-25T16:31:31.475426",
     "exception": false,
     "start_time": "2023-11-25T16:31:31.151083",
     "status": "completed"
    },
    "tags": []
   },
   "outputs": [
    {
     "data": {
      "image/png": "[encoded data removed]",
      "text/plain": [
       "<Figure size 1000x600 with 1 Axes>"
      ]
     },
     "metadata": {},
     "output_type": "display_data"
    }
   ],
   "source": [
    "plt.figure(figsize=(10, 6))\n",
    "ax = sns.countplot(data=df, x='SibSp')\n",
    "\n",
    "for p in ax.patches:\n",
    "    ax.annotate(format(p.get_height(), '.0f'), \n",
    "                (p.get_x() + p.get_width() / 2., p.get_height()), \n",
    "                ha = 'center', va = 'center', \n",
    "                xytext = (0, 10), \n",
    "                textcoords = 'offset points')\n",
    "\n",
    "plt.title('Distribution of Siblings Amount')\n",
    "plt.xlabel('Title of Passengers')\n",
    "plt.ylabel('Count')\n",
    "plt.show()"
   ]
  },
  {
   "cell_type": "markdown",
   "id": "fe490e37",
   "metadata": {
    "papermill": {
     "duration": 0.015664,
     "end_time": "2023-11-25T16:31:31.506102",
     "exception": false,
     "start_time": "2023-11-25T16:31:31.490438",
     "status": "completed"
    },
    "tags": []
   },
   "source": [
    "Here are some observations and insights from the chart:\n",
    "\n",
    "1. **Most Passengers Traveled Alone:** A significant majority of passengers, indicated by the tallest bar with a count of 608, did not have siblings or spouses on board. This suggests that solo travel was common.\n",
    "\n",
    "2. **Smaller Family Units:** The second bar, with a count of 209, shows that a substantial number of passengers traveled with one sibling or spouse, indicating smaller family units or couples without children.\n",
    "\n",
    "3. **Rarity of Large Families:** Very few passengers traveled with more than two siblings or spouses. The counts for passengers with three or more siblings/spouses are markedly lower, which highlights the rarity of large families or sibling groups traveling together.\n",
    "\n",
    "4. **Exceptional Cases:** There are a few exceptional cases of passengers with large numbers of siblings/spouses on board, such as 5 or 8, which are very uncommon. These could potentially represent larger family groups or possibly group tickets.\n",
    "\n",
    "5. **Potential Impact on Survival:** The number of siblings/spouses could have implications for survival rates, as those with family aboard might have sought one another out during the disaster, potentially affecting their likelihood of reaching the lifeboats.\n",
    "\n",
    "\n",
    "This chart provides a clear visual representation of the distribution of family sizes aboard the Titanic, with the majority being individuals or couples."
   ]
  },
  {
   "cell_type": "markdown",
   "id": "3bf8affe",
   "metadata": {
    "papermill": {
     "duration": 0.014649,
     "end_time": "2023-11-25T16:31:31.537221",
     "exception": false,
     "start_time": "2023-11-25T16:31:31.522572",
     "status": "completed"
    },
    "tags": []
   },
   "source": [
    "**Let's examine the survival rate according to the number of siblings or spouses.**\n"
   ]
  },
  {
   "cell_type": "code",
   "execution_count": 9,
   "id": "2b7eb47f",
   "metadata": {
    "execution": {
     "iopub.execute_input": "2023-11-25T16:31:31.569362Z",
     "iopub.status.busy": "2023-11-25T16:31:31.568954Z",
     "iopub.status.idle": "2023-11-25T16:31:31.870830Z",
     "shell.execute_reply": "2023-11-25T16:31:31.869909Z"
    },
    "papermill": {
     "duration": 0.321182,
     "end_time": "2023-11-25T16:31:31.873175",
     "exception": false,
     "start_time": "2023-11-25T16:31:31.551993",
     "status": "completed"
    },
    "tags": []
   },
   "outputs": [
    {
     "data": {
      "image/png": "[encoded data removed]",
      "text/plain": [
       "<Figure size 800x600 with 1 Axes>"
      ]
     },
     "metadata": {},
     "output_type": "display_data"
    }
   ],
   "source": [
    "survival_by_sibsp = df.groupby('SibSp')['Survived'].mean()\n",
    "\n",
    "plt.figure(figsize=(8, 6))\n",
    "ax = sns.barplot(x=survival_by_sibsp.index, y=survival_by_sibsp.values)\n",
    "plt.title('Survival Rate by SibSp')\n",
    "plt.xlabel('Number of Siblings/Spouses')\n",
    "plt.ylabel('Survival Rate')\n",
    "\n",
    "total = float(len(df))\n",
    "for p in ax.patches:\n",
    "    height = p.get_height()\n",
    "    ax.text(p.get_x() + p.get_width() / 2., height + 0.02, '{:.1%}'.format(height), ha=\"center\")\n",
    "\n",
    "plt.show()"
   ]
  },
  {
   "cell_type": "markdown",
   "id": "cc9769e2",
   "metadata": {
    "papermill": {
     "duration": 0.015464,
     "end_time": "2023-11-25T16:31:31.904455",
     "exception": false,
     "start_time": "2023-11-25T16:31:31.888991",
     "status": "completed"
    },
    "tags": []
   },
   "source": [
    "Here are some key takeaways from the chart:\n",
    "\n",
    "1. **Varied Survival Rates:** The survival rates differ across the number of siblings/spouses. Passengers without any siblings or spouses on board had a survival rate of 34.5%, while those with one sibling/spouse had a higher survival rate of 53.6%.\n",
    "\n",
    "2. **Decreasing Trend with More Siblings/Spouses:** As the number of siblings/spouses increases, there's a general trend of decreasing survival rates. This is evident from the drop to 46.4% for passengers with two siblings/spouses, 25% for those with three, and even lower for four.\n",
    "\n",
    "3. **Zero Survival for Larger Families:** There are no survivors among the passengers who had five or eight siblings/spouses on board, as indicated by the 0.0% survival rate for these groups.\n",
    "\n",
    "4. **Highest Survival for Smaller Families:** The highest survival rate is observed among passengers with one sibling/spouse, which could suggest that those with a single family member to look out for could more easily maneuver and access life-saving resources.\n",
    "\n",
    "5. **Potential Outliers:** The passengers with a very high number of siblings/spouses (such as 5 and 8) are outliers with a survival rate of 0%. This might reflect the difficulty of larger groups to secure a place on lifeboats or could also indicate data entry errors or exceptional cases that warrant further investigation.\n",
    "\n",
    "\n",
    "This chart provides insight into the dynamics of survival aboard the Titanic and indicates that the presence of family members could have both aided and hindered survival chances, depending on the size of the family."
   ]
  },
  {
   "cell_type": "markdown",
   "id": "13fc322c",
   "metadata": {
    "papermill": {
     "duration": 0.01553,
     "end_time": "2023-11-25T16:31:31.936008",
     "exception": false,
     "start_time": "2023-11-25T16:31:31.920478",
     "status": "completed"
    },
    "tags": []
   },
   "source": [
    "# 2.5. Ticket"
   ]
  },
  {
   "cell_type": "markdown",
   "id": "c05f8f79",
   "metadata": {
    "papermill": {
     "duration": 0.015834,
     "end_time": "2023-11-25T16:31:31.967358",
     "exception": false,
     "start_time": "2023-11-25T16:31:31.951524",
     "status": "completed"
    },
    "tags": []
   },
   "source": [
    "Let's examine the tickets. Individuals who bought identical tickets are regarded as a collective unit and are attributed to a newly created attribute named 'Group_Size'."
   ]
  },
  {
   "cell_type": "code",
   "execution_count": 10,
   "id": "091cd80d",
   "metadata": {
    "execution": {
     "iopub.execute_input": "2023-11-25T16:31:32.002414Z",
     "iopub.status.busy": "2023-11-25T16:31:32.001375Z",
     "iopub.status.idle": "2023-11-25T16:31:32.014823Z",
     "shell.execute_reply": "2023-11-25T16:31:32.013865Z"
    },
    "papermill": {
     "duration": 0.033137,
     "end_time": "2023-11-25T16:31:32.017040",
     "exception": false,
     "start_time": "2023-11-25T16:31:31.983903",
     "status": "completed"
    },
    "tags": []
   },
   "outputs": [
    {
     "data": {
      "text/plain": [
       "Ticket\n",
       "347082      7\n",
       "CA. 2343    7\n",
       "1601        7\n",
       "3101295     6\n",
       "CA 2144     6\n",
       "           ..\n",
       "9234        1\n",
       "19988       1\n",
       "2693        1\n",
       "PC 17612    1\n",
       "370376      1\n",
       "Name: count, Length: 681, dtype: int64"
      ]
     },
     "execution_count": 10,
     "metadata": {},
     "output_type": "execute_result"
    }
   ],
   "source": [
    "df[\"Ticket\"].value_counts()"
   ]
  },
  {
   "cell_type": "code",
   "execution_count": 11,
   "id": "5d3999a0",
   "metadata": {
    "execution": {
     "iopub.execute_input": "2023-11-25T16:31:32.051950Z",
     "iopub.status.busy": "2023-11-25T16:31:32.051231Z",
     "iopub.status.idle": "2023-11-25T16:31:32.063502Z",
     "shell.execute_reply": "2023-11-25T16:31:32.062146Z"
    },
    "papermill": {
     "duration": 0.032672,
     "end_time": "2023-11-25T16:31:32.066057",
     "exception": false,
     "start_time": "2023-11-25T16:31:32.033385",
     "status": "completed"
    },
    "tags": []
   },
   "outputs": [
    {
     "data": {
      "text/plain": [
       "0      1\n",
       "1      1\n",
       "2      1\n",
       "3      2\n",
       "4      1\n",
       "      ..\n",
       "886    1\n",
       "887    1\n",
       "888    2\n",
       "889    1\n",
       "890    1\n",
       "Name: Group_Size, Length: 891, dtype: int64"
      ]
     },
     "execution_count": 11,
     "metadata": {},
     "output_type": "execute_result"
    }
   ],
   "source": [
    "newdf = df.copy()\n",
    "\n",
    "newdf[\"Group_Size\"] = newdf.groupby(\"Ticket\")[\"PassengerId\"].transform(\"count\")\n",
    "newdf[\"Group_Size\"] "
   ]
  },
  {
   "cell_type": "code",
   "execution_count": 12,
   "id": "2904ee7f",
   "metadata": {
    "execution": {
     "iopub.execute_input": "2023-11-25T16:31:32.101439Z",
     "iopub.status.busy": "2023-11-25T16:31:32.100344Z",
     "iopub.status.idle": "2023-11-25T16:31:32.398007Z",
     "shell.execute_reply": "2023-11-25T16:31:32.396934Z"
    },
    "papermill": {
     "duration": 0.317797,
     "end_time": "2023-11-25T16:31:32.400146",
     "exception": false,
     "start_time": "2023-11-25T16:31:32.082349",
     "status": "completed"
    },
    "tags": []
   },
   "outputs": [
    {
     "data": {
      "image/png": "[encoded data removed]",
      "text/plain": [
       "<Figure size 1000x600 with 1 Axes>"
      ]
     },
     "metadata": {},
     "output_type": "display_data"
    }
   ],
   "source": [
    "plt.figure(figsize=(10, 6))\n",
    "ax = sns.countplot(data=newdf, x='Group_Size')\n",
    "\n",
    "for p in ax.patches:\n",
    "    ax.annotate(format(p.get_height(), '.0f'), \n",
    "                (p.get_x() + p.get_width() / 2., p.get_height()), \n",
    "                ha = 'center', va = 'center', \n",
    "                xytext = (0, 10), \n",
    "                textcoords = 'offset points')\n",
    "\n",
    "plt.title('Distribution of Group Size')\n",
    "plt.xlabel('Group Size of Passengers')\n",
    "plt.ylabel('Count')\n",
    "plt.show()"
   ]
  },
  {
   "cell_type": "markdown",
   "id": "5305a741",
   "metadata": {
    "papermill": {
     "duration": 0.016017,
     "end_time": "2023-11-25T16:31:32.432957",
     "exception": false,
     "start_time": "2023-11-25T16:31:32.416940",
     "status": "completed"
    },
    "tags": []
   },
   "source": [
    " Here are some observations from the chart:\n",
    "\n",
    "1. **Solo Travelers:** The largest bar represents individuals traveling alone (group size of 1), with a count of 547. This indicates that the majority of passengers on the Titanic purchased tickets individually rather than as part of a group.\n",
    "\n",
    "2. **Small Groups:** The second-largest bar represents groups of two, with a count of 188, suggesting that traveling in pairs was also common. This could include couples or two friends/family members traveling together.\n",
    "\n",
    "3. **Declining Numbers with Larger Groups:** As the group size increases, the number of such groups decreases significantly. For example, there are only 63 groups of size 3, and even fewer as the size increases.\n",
    "\n",
    "4. **Larger Groups are Less Common:** Very large groups (such as those with sizes 5, 6, or 7) are much less common, as indicated by the relatively small bar heights for these group sizes.\n",
    "\n",
    "5. **Potential Family or Tour Groups:** Some of the larger group sizes, like 7, with a count of 21, could indicate families traveling together or organized tour groups.\n",
    "\n",
    "6. **Implications for Survival Analysis:** The group size may have had an impact on survival rates, as those in larger groups might have had different dynamics when it came to evacuation procedures compared to those traveling alone or in pairs.\n",
    "\n",
    "This visualization provides a clear representation of how passengers were distributed by group size, which can be a useful feature for understanding social dynamics on the Titanic and for predictive modeling of survival."
   ]
  },
  {
   "cell_type": "markdown",
   "id": "0a8aa3b2",
   "metadata": {
    "papermill": {
     "duration": 0.0174,
     "end_time": "2023-11-25T16:31:32.467125",
     "exception": false,
     "start_time": "2023-11-25T16:31:32.449725",
     "status": "completed"
    },
    "tags": []
   },
   "source": [
    "# 2.6. Cabin"
   ]
  },
  {
   "cell_type": "markdown",
   "id": "2bcad0fe",
   "metadata": {
    "papermill": {
     "duration": 0.016074,
     "end_time": "2023-11-25T16:31:32.499524",
     "exception": false,
     "start_time": "2023-11-25T16:31:32.483450",
     "status": "completed"
    },
    "tags": []
   },
   "source": [
    "First, the following steps were performed:\n",
    "\n",
    "1. Missing values in the 'Cabin' column were filled with the string \"Unknown\".\n",
    "2. Only the first letter of each cabin entry was retained to categorize the cabins.\n",
    "3. A count plot was created to show the count of passengers who did and did not survive, separated by cabin category.\n"
   ]
  },
  {
   "cell_type": "code",
   "execution_count": 13,
   "id": "8456890e",
   "metadata": {
    "execution": {
     "iopub.execute_input": "2023-11-25T16:31:32.539250Z",
     "iopub.status.busy": "2023-11-25T16:31:32.538871Z",
     "iopub.status.idle": "2023-11-25T16:31:32.938818Z",
     "shell.execute_reply": "2023-11-25T16:31:32.937667Z"
    },
    "papermill": {
     "duration": 0.424636,
     "end_time": "2023-11-25T16:31:32.941291",
     "exception": false,
     "start_time": "2023-11-25T16:31:32.516655",
     "status": "completed"
    },
    "tags": []
   },
   "outputs": [
    {
     "data": {
      "image/png": "[encoded data removed]",
      "text/plain": [
       "<Figure size 640x480 with 1 Axes>"
      ]
     },
     "metadata": {},
     "output_type": "display_data"
    }
   ],
   "source": [
    "newdf = df.copy()\n",
    "newdf[\"Cabin\"].fillna(\"Unknown\",inplace=True)\n",
    "newdf[\"Cabin\"] = newdf[\"Cabin\"].str[0]\n",
    "sns.set(style=\"darkgrid\")\n",
    "sns.countplot( x='Survived', data=newdf, hue=\"Cabin\", palette=\"Set1\");"
   ]
  },
  {
   "cell_type": "markdown",
   "id": "b36f61d5",
   "metadata": {
    "papermill": {
     "duration": 0.016081,
     "end_time": "2023-11-25T16:31:32.973685",
     "exception": false,
     "start_time": "2023-11-25T16:31:32.957604",
     "status": "completed"
    },
    "tags": []
   },
   "source": [
    "\n",
    "Here are some observations based on the count plot in the image:\n",
    "\n",
    "- The majority of passengers have an unknown cabin designation, denoted as 'U', with a high non-survival rate.\n",
    "- Passengers from cabin categories 'C', 'E', 'G', 'D', 'A', 'B', 'F', and 'T' are also represented, with varying counts of survival and non-survival.\n",
    "- Cabin 'C' has the second-highest count among those who did not survive and a significant count of survivors.\n",
    "- Cabins 'E' and 'D' show a relatively higher survival rate compared to non-survival.\n",
    "- The 'T' cabin category has a very low count, which may indicate it's an outlier or a special case.\n",
    "\n",
    "This visualization suggests that cabin location may have played a role in the passengers' likelihood of survival, which could be related to the proximity to lifeboats or other escape routes. It's worth noting that the high number of unknown cabins can affect the overall analysis and interpretations drawn from this data."
   ]
  },
  {
   "cell_type": "markdown",
   "id": "ddb98da6",
   "metadata": {
    "papermill": {
     "duration": 0.016252,
     "end_time": "2023-11-25T16:31:33.006385",
     "exception": false,
     "start_time": "2023-11-25T16:31:32.990133",
     "status": "completed"
    },
    "tags": []
   },
   "source": [
    "# 2.7. Embarked"
   ]
  },
  {
   "cell_type": "code",
   "execution_count": 14,
   "id": "f22cdb23",
   "metadata": {
    "execution": {
     "iopub.execute_input": "2023-11-25T16:31:33.043338Z",
     "iopub.status.busy": "2023-11-25T16:31:33.042729Z",
     "iopub.status.idle": "2023-11-25T16:31:33.351700Z",
     "shell.execute_reply": "2023-11-25T16:31:33.350537Z"
    },
    "papermill": {
     "duration": 0.329746,
     "end_time": "2023-11-25T16:31:33.354044",
     "exception": false,
     "start_time": "2023-11-25T16:31:33.024298",
     "status": "completed"
    },
    "tags": []
   },
   "outputs": [
    {
     "data": {
      "image/png": "[encoded data removed]",
      "text/plain": [
       "<Figure size 640x480 with 1 Axes>"
      ]
     },
     "metadata": {},
     "output_type": "display_data"
    }
   ],
   "source": [
    "sns.set(style=\"darkgrid\")\n",
    "sns.countplot( x='Survived', data=df, hue=\"Embarked\", palette=\"Set1\");"
   ]
  },
  {
   "cell_type": "markdown",
   "id": "1f4121cd",
   "metadata": {
    "papermill": {
     "duration": 0.016597,
     "end_time": "2023-11-25T16:31:33.387360",
     "exception": false,
     "start_time": "2023-11-25T16:31:33.370763",
     "status": "completed"
    },
    "tags": []
   },
   "source": [
    "It represents the survival of passengers based on the port where they embarked on the Titanic, with \"S\" for Southampton, \"C\" for Cherbourg, and \"Q\" for Queenstown.\n",
    "\n",
    "Here are some observations from the chart:\n",
    "\n",
    "- A larger number of passengers embarked from Southampton (S), with a higher count of those who did not survive (0) compared to those who did (1).\n",
    "- For passengers who embarked from Cherbourg (C), the survival count is relatively high compared to the non-survival count.\n",
    "- Queenstown (Q) had the fewest passengers, with a non-survival rate that appears to be slightly higher than the survival rate.\n",
    "- The survival rate of passengers from Cherbourg stands out as being higher than that of the other two ports.\n",
    "\n",
    "This chart could suggest that passengers embarking from different ports had different survival rates, possibly due to various factors such as the socioeconomic status of passengers, which could correlate with their point of embarkation, or perhaps the location on the ship where passengers from different ports were accommodated."
   ]
  },
  {
   "cell_type": "markdown",
   "id": "2edf46e4",
   "metadata": {
    "papermill": {
     "duration": 0.016631,
     "end_time": "2023-11-25T16:31:33.420793",
     "exception": false,
     "start_time": "2023-11-25T16:31:33.404162",
     "status": "completed"
    },
    "tags": []
   },
   "source": [
    "# 2.8. And Target Distribution"
   ]
  },
  {
   "cell_type": "code",
   "execution_count": 15,
   "id": "4f374781",
   "metadata": {
    "execution": {
     "iopub.execute_input": "2023-11-25T16:31:33.458027Z",
     "iopub.status.busy": "2023-11-25T16:31:33.457371Z",
     "iopub.status.idle": "2023-11-25T16:31:33.769392Z",
     "shell.execute_reply": "2023-11-25T16:31:33.767862Z"
    },
    "papermill": {
     "duration": 0.333726,
     "end_time": "2023-11-25T16:31:33.772013",
     "exception": false,
     "start_time": "2023-11-25T16:31:33.438287",
     "status": "completed"
    },
    "tags": []
   },
   "outputs": [
    {
     "data": {
      "image/png": "[encoded data removed]",
      "text/plain": [
       "<Figure size 640x480 with 1 Axes>"
      ]
     },
     "metadata": {},
     "output_type": "display_data"
    }
   ],
   "source": [
    "sns.set(style=\"darkgrid\")\n",
    "sns.countplot( x='Survived', data=df, hue=\"Survived\", palette=\"Set1\");"
   ]
  },
  {
   "cell_type": "markdown",
   "id": "7faf815b",
   "metadata": {
    "papermill": {
     "duration": 0.018216,
     "end_time": "2023-11-25T16:31:33.809138",
     "exception": false,
     "start_time": "2023-11-25T16:31:33.790922",
     "status": "completed"
    },
    "tags": []
   },
   "source": [
    " In this chart:\n",
    "\n",
    "- The red bar represents passengers who did not survive (0).\n",
    "- The blue bar represents passengers who did survive (1).\n",
    "\n",
    "Observations from the chart are:\n",
    "\n",
    "- There are more non-survivors than survivors, with the non-survivors' bar being significantly taller.\n",
    "- This imbalance in the target variable distribution may suggest a need for stratified sampling or other techniques to address class imbalance when training machine learning models.\n",
    "- The visualization gives a clear representation of the binary classification nature of the problem, where the goal is to predict one of these two possible outcomes."
   ]
  },
  {
   "cell_type": "markdown",
   "id": "514ba983",
   "metadata": {
    "papermill": {
     "duration": 0.017531,
     "end_time": "2023-11-25T16:31:33.845287",
     "exception": false,
     "start_time": "2023-11-25T16:31:33.827756",
     "status": "completed"
    },
    "tags": []
   },
   "source": [
    "# 3. Data Cleaning"
   ]
  },
  {
   "cell_type": "code",
   "execution_count": 16,
   "id": "0457a2cf",
   "metadata": {
    "execution": {
     "iopub.execute_input": "2023-11-25T16:31:33.883012Z",
     "iopub.status.busy": "2023-11-25T16:31:33.881975Z",
     "iopub.status.idle": "2023-11-25T16:31:33.908074Z",
     "shell.execute_reply": "2023-11-25T16:31:33.907151Z"
    },
    "papermill": {
     "duration": 0.047553,
     "end_time": "2023-11-25T16:31:33.910420",
     "exception": false,
     "start_time": "2023-11-25T16:31:33.862867",
     "status": "completed"
    },
    "tags": []
   },
   "outputs": [
    {
     "name": "stdout",
     "output_type": "stream",
     "text": [
      "Your selected dataframe has 12 columns and 891 Rows.\n",
      "There are 3columns that have missing values.\n"
     ]
    },
    {
     "data": {
      "text/html": [
       "<div>\n",
       "<style scoped>\n",
       "    .dataframe tbody tr th:only-of-type {\n",
       "        vertical-align: middle;\n",
       "    }\n",
       "\n",
       "    .dataframe tbody tr th {\n",
       "        vertical-align: top;\n",
       "    }\n",
       "\n",
       "    .dataframe thead th {\n",
       "        text-align: right;\n",
       "    }\n",
       "</style>\n",
       "<table border=\"1\" class=\"dataframe\">\n",
       "  <thead>\n",
       "    <tr style=\"text-align: right;\">\n",
       "      <th></th>\n",
       "      <th>Zero Values</th>\n",
       "      <th>Missing Values</th>\n",
       "      <th>% of Total Values</th>\n",
       "      <th>Total Zero Missing Values</th>\n",
       "      <th>% Total Zero Missing Values</th>\n",
       "      <th>Data Type</th>\n",
       "    </tr>\n",
       "  </thead>\n",
       "  <tbody>\n",
       "    <tr>\n",
       "      <th>Cabin</th>\n",
       "      <td>0</td>\n",
       "      <td>687</td>\n",
       "      <td>77.1</td>\n",
       "      <td>687</td>\n",
       "      <td>77.1</td>\n",
       "      <td>object</td>\n",
       "    </tr>\n",
       "    <tr>\n",
       "      <th>Age</th>\n",
       "      <td>0</td>\n",
       "      <td>177</td>\n",
       "      <td>19.9</td>\n",
       "      <td>177</td>\n",
       "      <td>19.9</td>\n",
       "      <td>float64</td>\n",
       "    </tr>\n",
       "    <tr>\n",
       "      <th>Embarked</th>\n",
       "      <td>0</td>\n",
       "      <td>2</td>\n",
       "      <td>0.2</td>\n",
       "      <td>2</td>\n",
       "      <td>0.2</td>\n",
       "      <td>object</td>\n",
       "    </tr>\n",
       "  </tbody>\n",
       "</table>\n",
       "</div>"
      ],
      "text/plain": [
       "          Zero Values  Missing Values  % of Total Values  \\\n",
       "Cabin               0             687               77.1   \n",
       "Age                 0             177               19.9   \n",
       "Embarked            0               2                0.2   \n",
       "\n",
       "          Total Zero Missing Values  % Total Zero Missing Values Data Type  \n",
       "Cabin                           687                         77.1    object  \n",
       "Age                             177                         19.9   float64  \n",
       "Embarked                          2                          0.2    object  "
      ]
     },
     "execution_count": 16,
     "metadata": {},
     "output_type": "execute_result"
    }
   ],
   "source": [
    "def missing_zero_values_table(df):\n",
    "    zero_val = (df == 0.00).astype(int).sum(axis=0)\n",
    "    mis_val = df.isnull().sum()\n",
    "    mis_val_percent = 100 * df.isnull().sum() / len(df)\n",
    "    mz_table = pd.concat([zero_val, mis_val, mis_val_percent], axis=1)\n",
    "    mz_table = mz_table.rename(\n",
    "    columns = {0 : 'Zero Values', 1 : 'Missing Values', 2 : '% of Total Values'})\n",
    "    mz_table['Total Zero Missing Values'] = mz_table['Zero Values'] + mz_table['Missing Values']\n",
    "    mz_table['% Total Zero Missing Values'] = 100 * mz_table['Total Zero Missing Values'] / len(df)\n",
    "    mz_table['Data Type'] = df.dtypes\n",
    "    mz_table = mz_table[ mz_table.iloc[:,1] != 0].sort_values('% of Total Values', ascending=False).round(1)\n",
    "    print (\"Your selected dataframe has \" + str(df.shape[1]) + \" columns and \" + str(df.shape[0]) + \" Rows.\\n\"\n",
    "           \"There are \" + str(mz_table.shape[0]) +\n",
    "            \"columns that have missing values.\")\n",
    "    return mz_table\n",
    "\n",
    "\n",
    "missing_zero_values_table(df)"
   ]
  },
  {
   "cell_type": "code",
   "execution_count": 17,
   "id": "b3d83f13",
   "metadata": {
    "execution": {
     "iopub.execute_input": "2023-11-25T16:31:33.948843Z",
     "iopub.status.busy": "2023-11-25T16:31:33.947865Z",
     "iopub.status.idle": "2023-11-25T16:31:33.973445Z",
     "shell.execute_reply": "2023-11-25T16:31:33.971895Z"
    },
    "papermill": {
     "duration": 0.048312,
     "end_time": "2023-11-25T16:31:33.977079",
     "exception": false,
     "start_time": "2023-11-25T16:31:33.928767",
     "status": "completed"
    },
    "tags": []
   },
   "outputs": [
    {
     "name": "stdout",
     "output_type": "stream",
     "text": [
      "Your selected dataframe has 11 columns and 418 Rows.\n",
      "There are 3columns that have missing values.\n"
     ]
    },
    {
     "data": {
      "text/html": [
       "<div>\n",
       "<style scoped>\n",
       "    .dataframe tbody tr th:only-of-type {\n",
       "        vertical-align: middle;\n",
       "    }\n",
       "\n",
       "    .dataframe tbody tr th {\n",
       "        vertical-align: top;\n",
       "    }\n",
       "\n",
       "    .dataframe thead th {\n",
       "        text-align: right;\n",
       "    }\n",
       "</style>\n",
       "<table border=\"1\" class=\"dataframe\">\n",
       "  <thead>\n",
       "    <tr style=\"text-align: right;\">\n",
       "      <th></th>\n",
       "      <th>Zero Values</th>\n",
       "      <th>Missing Values</th>\n",
       "      <th>% of Total Values</th>\n",
       "      <th>Total Zero Missing Values</th>\n",
       "      <th>% Total Zero Missing Values</th>\n",
       "      <th>Data Type</th>\n",
       "    </tr>\n",
       "  </thead>\n",
       "  <tbody>\n",
       "    <tr>\n",
       "      <th>Cabin</th>\n",
       "      <td>0</td>\n",
       "      <td>327</td>\n",
       "      <td>78.2</td>\n",
       "      <td>327</td>\n",
       "      <td>78.2</td>\n",
       "      <td>object</td>\n",
       "    </tr>\n",
       "    <tr>\n",
       "      <th>Age</th>\n",
       "      <td>0</td>\n",
       "      <td>86</td>\n",
       "      <td>20.6</td>\n",
       "      <td>86</td>\n",
       "      <td>20.6</td>\n",
       "      <td>float64</td>\n",
       "    </tr>\n",
       "    <tr>\n",
       "      <th>Fare</th>\n",
       "      <td>2</td>\n",
       "      <td>1</td>\n",
       "      <td>0.2</td>\n",
       "      <td>3</td>\n",
       "      <td>0.7</td>\n",
       "      <td>float64</td>\n",
       "    </tr>\n",
       "  </tbody>\n",
       "</table>\n",
       "</div>"
      ],
      "text/plain": [
       "       Zero Values  Missing Values  % of Total Values  \\\n",
       "Cabin            0             327               78.2   \n",
       "Age              0              86               20.6   \n",
       "Fare             2               1                0.2   \n",
       "\n",
       "       Total Zero Missing Values  % Total Zero Missing Values Data Type  \n",
       "Cabin                        327                         78.2    object  \n",
       "Age                           86                         20.6   float64  \n",
       "Fare                           3                          0.7   float64  "
      ]
     },
     "execution_count": 17,
     "metadata": {},
     "output_type": "execute_result"
    }
   ],
   "source": [
    "missing_zero_values_table(test_df)"
   ]
  },
  {
   "cell_type": "markdown",
   "id": "51e84189",
   "metadata": {
    "papermill": {
     "duration": 0.01874,
     "end_time": "2023-11-25T16:31:34.019365",
     "exception": false,
     "start_time": "2023-11-25T16:31:34.000625",
     "status": "completed"
    },
    "tags": []
   },
   "source": [
    "`missing_zero_values_table` analyzes the dataframes for zero values and missing values.\n",
    "\n",
    "Here's a summary of the missing data information provided in the tables:\n",
    "\n",
    "**Training DataFrame:**\n",
    "- Contains 13 columns and 891 rows.\n",
    "- Three columns have missing values:\n",
    "  - `Cabin`: 687 missing values, which is 77.1% of the total number of rows.\n",
    "  - `Age`: 177 missing values, 19.9% of the rows.\n",
    "  - `Embarked`: 2 missing values, 0.2% of the rows.\n",
    "\n",
    "**Test DataFrame:**\n",
    "- Contains 11 columns and 418 rows.\n",
    "- Three columns have missing values:\n",
    "  - `Cabin`: 327 missing values, 78.2% of the rows.\n",
    "  - `Age`: 86 missing values, 20.6% of the rows.\n",
    "  - `Fare`: 1 missing value, 0.2% of the rows, and also 2 zero values.\n",
    "\n",
    "From this information, we can deduce that:\n",
    "\n",
    "- The `Cabin` column has a very high percentage of missing values in both datasets, suggesting that it may not be a reliable feature for machine learning models unless some form of imputation or feature engineering is done.\n",
    "- The `Age` column has a significant, but much smaller, percentage of missing values. Imputation strategies such as median age could be considered.\n",
    "- The `Embarked` column in the training set and the `Fare` column in the test set have a very small number of missing values and could be filled with the most common value or the median, respectively.\n",
    "- The presence of two zero values in the `Fare` column of the test set might indicate either free tickets or data entry errors and might require further investigation or a decision on a case-by-case basis.\n",
    "\n",
    "To clean this data, you would typically fill in the missing values with appropriate statistics (like the median or mode), or possibly infer missing values based on other data. For categorical data like `Cabin` and `Embarked`, you might consider filling in missing values with the most common category, or creating a new category for missing data. For numerical data like `Age` and `Fare`, you might use a measure of central tendency (mean, median) or employ a model-based imputation method."
   ]
  },
  {
   "cell_type": "code",
   "execution_count": 18,
   "id": "06a42c25",
   "metadata": {
    "execution": {
     "iopub.execute_input": "2023-11-25T16:31:34.061014Z",
     "iopub.status.busy": "2023-11-25T16:31:34.060124Z",
     "iopub.status.idle": "2023-11-25T16:31:34.068974Z",
     "shell.execute_reply": "2023-11-25T16:31:34.068160Z"
    },
    "papermill": {
     "duration": 0.031156,
     "end_time": "2023-11-25T16:31:34.071297",
     "exception": false,
     "start_time": "2023-11-25T16:31:34.040141",
     "status": "completed"
    },
    "tags": []
   },
   "outputs": [],
   "source": [
    "def clean_data(data):\n",
    "    data['Fare'] = data['Fare'].fillna(data['Fare'].dropna().median())\n",
    "    data['Age'] =  data['Age'].fillna(data['Age'].dropna().median())\n",
    "    \n",
    "    data.loc[data['Sex'] == 'male', 'Sex'] = 0\n",
    "    data.loc[data['Sex'] =='female',  'Sex'] = 1\n",
    "    \n",
    "    data['Embarked'] = data['Embarked'].fillna('S')\n",
    "    data.loc[data[\"Embarked\"] == 'S', 'Embarked'] = 0\n",
    "    data.loc[data['Embarked'] == 'C', 'Embarked'] = 1\n",
    "    data.loc[data['Embarked'] == 'Q', 'Embarked'] =2\n",
    "    \n",
    "    data.drop([\"Cabin\"],axis=1,inplace=True)"
   ]
  },
  {
   "cell_type": "code",
   "execution_count": 19,
   "id": "3ee6dc48",
   "metadata": {
    "execution": {
     "iopub.execute_input": "2023-11-25T16:31:34.111370Z",
     "iopub.status.busy": "2023-11-25T16:31:34.110694Z",
     "iopub.status.idle": "2023-11-25T16:31:34.128376Z",
     "shell.execute_reply": "2023-11-25T16:31:34.127533Z"
    },
    "papermill": {
     "duration": 0.041504,
     "end_time": "2023-11-25T16:31:34.130844",
     "exception": false,
     "start_time": "2023-11-25T16:31:34.089340",
     "status": "completed"
    },
    "tags": []
   },
   "outputs": [],
   "source": [
    "clean_data(df)\n",
    "clean_data(test_df)"
   ]
  },
  {
   "cell_type": "markdown",
   "id": "12dd4170",
   "metadata": {
    "papermill": {
     "duration": 0.01815,
     "end_time": "2023-11-25T16:31:34.167151",
     "exception": false,
     "start_time": "2023-11-25T16:31:34.149001",
     "status": "completed"
    },
    "tags": []
   },
   "source": [
    "`clean_data`  is written to perform several data cleaning operations on a pandas DataFrame. Below is a description of what each line of code within the function does:\n",
    "\n",
    "1. `data['Fare'] = data['Fare'].fillna(data['Fare'].dropna().median())`: This line fills any missing (NaN) values in the 'Fare' column with the median fare calculated from the non-missing values.\n",
    "\n",
    "2. `data['Age'] = data['Age'].fillna(data['Age'].dropna().median())`: This line fills any missing (NaN) values in the 'Age' column with the median age calculated from the non-missing values.\n",
    "\n",
    "3. `data.loc[data['Sex'] == 'male', 'Sex'] = 0`: This line converts the categorical 'Sex' data into numerical form, replacing 'male' with 0.\n",
    "\n",
    "4. `data.loc[data['Sex'] == 'female', 'Sex'] = 1`: Similarly, this line replaces 'female' with 1 in the 'Sex' column.\n",
    "\n",
    "5. `data['Embarked'] = data['Embarked'].fillna('S')`: This line fills any missing values in the 'Embarked' column with 'S', which likely stands for Southampton, the most common port of embarkation.\n",
    "\n",
    "6. `data.loc[data['Embarked'] == 'S', 'Embarked'] = 0`: This line assigns a numeric value of 0 to all instances where the embarkation port is 'S'.\n",
    "\n",
    "7. `data.loc[data['Embarked'] == 'C', 'Embarked'] = 1`: This line assigns a numeric value of 1 to all instances where the embarkation port is 'C'.\n",
    "\n",
    "8. `data.loc[data['Embarked'] == 'Q', 'Embarked'] = 2`: This line assigns a numeric value of 2 to all instances where the embarkation port is 'Q'.\n",
    "\n",
    "9. `data.drop([\"Cabin\"], axis=1, inplace=True)`: This line removes the 'Cabin' column from the DataFrame entirely, which might be due to the high percentage of missing values as shown in the one, making it potentially less useful for predictive modeling.\n",
    "\n",
    "Overall, this function handles missing values, converts categorical variables to numerical, and drops a column with excessive missing data, which are common steps in preparing data for machine learning algorithms."
   ]
  },
  {
   "cell_type": "markdown",
   "id": "6b1661a6",
   "metadata": {
    "papermill": {
     "duration": 0.018251,
     "end_time": "2023-11-25T16:31:34.204298",
     "exception": false,
     "start_time": "2023-11-25T16:31:34.186047",
     "status": "completed"
    },
    "tags": []
   },
   "source": [
    "# 4. Creating a Model"
   ]
  },
  {
   "cell_type": "markdown",
   "id": "d39e109f",
   "metadata": {
    "papermill": {
     "duration": 0.0181,
     "end_time": "2023-11-25T16:31:34.242220",
     "exception": false,
     "start_time": "2023-11-25T16:31:34.224120",
     "status": "completed"
    },
    "tags": []
   },
   "source": [
    "# 4.1. Train-Test Split"
   ]
  },
  {
   "cell_type": "code",
   "execution_count": 20,
   "id": "66b937e0",
   "metadata": {
    "execution": {
     "iopub.execute_input": "2023-11-25T16:31:34.280972Z",
     "iopub.status.busy": "2023-11-25T16:31:34.280253Z",
     "iopub.status.idle": "2023-11-25T16:31:34.616080Z",
     "shell.execute_reply": "2023-11-25T16:31:34.615037Z"
    },
    "papermill": {
     "duration": 0.358197,
     "end_time": "2023-11-25T16:31:34.618647",
     "exception": false,
     "start_time": "2023-11-25T16:31:34.260450",
     "status": "completed"
    },
    "tags": []
   },
   "outputs": [],
   "source": [
    "from sklearn.model_selection import train_test_split\n",
    "from sklearn.metrics import accuracy_score\n",
    "\n",
    "df[\"Survived\"] = df[\"Survived\"].astype(int)\n",
    "X = df[['Pclass', 'Sex', 'Age', 'SibSp', 'Parch', 'Fare', 'Embarked']].values\n",
    "y = df[\"Survived\"].values\n",
    "\n",
    "\n",
    "X_train, X_test, y_train, y_test = train_test_split(X, y,test_size=0.1,stratify=y, random_state = 105)"
   ]
  },
  {
   "cell_type": "code",
   "execution_count": 21,
   "id": "eb061327",
   "metadata": {
    "execution": {
     "iopub.execute_input": "2023-11-25T16:31:34.656852Z",
     "iopub.status.busy": "2023-11-25T16:31:34.656463Z",
     "iopub.status.idle": "2023-11-25T16:31:34.664842Z",
     "shell.execute_reply": "2023-11-25T16:31:34.663799Z"
    },
    "papermill": {
     "duration": 0.031637,
     "end_time": "2023-11-25T16:31:34.668079",
     "exception": false,
     "start_time": "2023-11-25T16:31:34.636442",
     "status": "completed"
    },
    "tags": []
   },
   "outputs": [
    {
     "data": {
      "text/plain": [
       "array([[2, 1, 17.0, ..., 0, 10.5, 0],\n",
       "       [3, 1, 14.0, ..., 0, 11.2417, 1],\n",
       "       [1, 0, 51.0, ..., 0, 26.55, 0],\n",
       "       ...,\n",
       "       [1, 0, 45.0, ..., 0, 26.55, 0],\n",
       "       [3, 0, 27.0, ..., 0, 6.975, 0],\n",
       "       [3, 0, 21.0, ..., 0, 8.4333, 0]], dtype=object)"
      ]
     },
     "execution_count": 21,
     "metadata": {},
     "output_type": "execute_result"
    }
   ],
   "source": [
    "X_train"
   ]
  },
  {
   "cell_type": "code",
   "execution_count": 22,
   "id": "38e4feec",
   "metadata": {
    "execution": {
     "iopub.execute_input": "2023-11-25T16:31:34.707834Z",
     "iopub.status.busy": "2023-11-25T16:31:34.707434Z",
     "iopub.status.idle": "2023-11-25T16:31:34.716854Z",
     "shell.execute_reply": "2023-11-25T16:31:34.715716Z"
    },
    "papermill": {
     "duration": 0.032227,
     "end_time": "2023-11-25T16:31:34.719179",
     "exception": false,
     "start_time": "2023-11-25T16:31:34.686952",
     "status": "completed"
    },
    "tags": []
   },
   "outputs": [
    {
     "data": {
      "text/plain": [
       "array([1, 1, 1, 0, 0, 0, 1, 1, 1, 1, 1, 0, 0, 0, 1, 0, 0, 1, 0, 0, 1, 1,\n",
       "       0, 1, 0, 0, 0, 1, 1, 0, 1, 0, 0, 0, 0, 0, 0, 1, 1, 1, 0, 0, 0, 1,\n",
       "       1, 0, 1, 0, 0, 0, 0, 0, 0, 0, 0, 0, 1, 1, 0, 0, 1, 0, 0, 0, 0, 1,\n",
       "       1, 1, 0, 0, 0, 0, 0, 0, 0, 1, 0, 0, 1, 1, 0, 0, 1, 0, 0, 0, 0, 0,\n",
       "       1, 1, 0, 1, 1, 0, 1, 1, 1, 0, 1, 0, 0, 1, 1, 1, 0, 0, 1, 0, 0, 1,\n",
       "       1, 0, 0, 0, 0, 1, 0, 0, 0, 1, 0, 0, 0, 0, 0, 0, 1, 0, 0, 1, 0, 0,\n",
       "       0, 0, 0, 1, 1, 0, 0, 1, 0, 1, 1, 0, 1, 0, 1, 0, 1, 1, 0, 1, 0, 0,\n",
       "       0, 0, 1, 0, 1, 1, 0, 0, 0, 1, 0, 1, 0, 0, 1, 0, 0, 0, 0, 0, 0, 0,\n",
       "       0, 0, 1, 1, 0, 0, 1, 0, 0, 0, 1, 0, 0, 0, 1, 0, 1, 0, 0, 0, 0, 1,\n",
       "       1, 0, 1, 1, 0, 0, 0, 1, 1, 1, 0, 0, 1, 0, 0, 0, 0, 1, 1, 1, 0, 0,\n",
       "       1, 1, 0, 0, 1, 1, 0, 1, 0, 0, 0, 1, 1, 1, 1, 0, 0, 1, 0, 0, 0, 0,\n",
       "       1, 0, 0, 0, 1, 0, 0, 1, 0, 0, 1, 0, 0, 1, 1, 0, 0, 0, 1, 1, 1, 1,\n",
       "       0, 0, 1, 1, 0, 0, 1, 0, 0, 0, 0, 0, 0, 1, 1, 1, 1, 0, 1, 1, 1, 1,\n",
       "       0, 0, 1, 0, 0, 1, 0, 1, 0, 0, 0, 0, 1, 0, 1, 0, 0, 0, 1, 1, 1, 0,\n",
       "       0, 0, 0, 0, 0, 1, 0, 0, 0, 1, 1, 0, 0, 1, 1, 0, 0, 1, 0, 1, 0, 0,\n",
       "       1, 0, 0, 0, 0, 1, 1, 0, 0, 0, 1, 1, 1, 0, 1, 0, 1, 1, 1, 1, 0, 0,\n",
       "       0, 0, 0, 1, 0, 0, 0, 0, 0, 0, 1, 1, 1, 0, 0, 0, 1, 1, 0, 1, 1, 0,\n",
       "       0, 1, 0, 0, 1, 0, 0, 1, 0, 0, 0, 0, 0, 1, 1, 1, 0, 0, 1, 0, 0, 0,\n",
       "       0, 1, 0, 1, 0, 1, 0, 1, 1, 0, 1, 1, 0, 0, 0, 0, 0, 0, 0, 1, 0, 0,\n",
       "       0, 0, 1, 1, 0, 1, 0, 1, 0, 0, 1, 1, 1, 1, 1, 0, 1, 0, 1, 0, 0, 0,\n",
       "       0, 0, 0, 1, 0, 0, 0, 0, 0, 1, 0, 1, 0, 1, 1, 0, 1, 1, 0, 0, 0, 1,\n",
       "       0, 0, 0, 0, 0, 0, 1, 0, 0, 1, 1, 1, 0, 0, 0, 0, 1, 1, 0, 0, 0, 0,\n",
       "       1, 1, 0, 0, 0, 0, 1, 0, 0, 1, 1, 0, 0, 0, 1, 1, 1, 0, 0, 1, 1, 1,\n",
       "       0, 0, 1, 0, 0, 0, 0, 1, 0, 1, 1, 1, 1, 1, 1, 0, 0, 0, 1, 0, 1, 1,\n",
       "       0, 1, 1, 0, 1, 0, 0, 1, 0, 1, 1, 0, 0, 0, 0, 1, 1, 0, 0, 1, 1, 0,\n",
       "       0, 0, 1, 0, 0, 0, 0, 1, 0, 0, 1, 0, 1, 1, 1, 0, 0, 0, 0, 0, 0, 0,\n",
       "       1, 0, 0, 0, 0, 1, 1, 1, 0, 0, 0, 0, 0, 0, 0, 0, 1, 1, 1, 0, 0, 1,\n",
       "       1, 0, 0, 0, 0, 1, 0, 0, 0, 1, 0, 0, 0, 1, 0, 1, 0, 1, 0, 0, 1, 0,\n",
       "       0, 0, 1, 0, 0, 0, 1, 0, 0, 0, 0, 1, 1, 0, 1, 1, 0, 1, 0, 1, 0, 1,\n",
       "       1, 0, 1, 1, 0, 0, 0, 0, 0, 1, 1, 1, 0, 1, 0, 0, 0, 0, 1, 0, 1, 1,\n",
       "       0, 0, 0, 0, 0, 0, 1, 1, 1, 1, 0, 0, 1, 0, 0, 0, 1, 0, 1, 0, 1, 0,\n",
       "       1, 0, 0, 1, 0, 0, 0, 1, 1, 1, 0, 0, 0, 1, 0, 0, 0, 0, 1, 0, 0, 0,\n",
       "       0, 1, 0, 0, 1, 1, 0, 0, 0, 1, 1, 1, 0, 1, 1, 0, 0, 0, 0, 0, 0, 0,\n",
       "       0, 1, 1, 0, 1, 0, 1, 0, 0, 0, 0, 0, 0, 0, 1, 1, 0, 1, 0, 0, 1, 0,\n",
       "       0, 0, 0, 0, 0, 0, 1, 0, 0, 0, 0, 0, 0, 0, 1, 1, 0, 0, 0, 1, 0, 0,\n",
       "       0, 1, 1, 0, 0, 0, 1, 0, 0, 0, 0, 0, 0, 1, 1, 0, 0, 1, 1, 0, 0, 1,\n",
       "       0, 0, 1, 0, 1, 0, 1, 1, 0])"
      ]
     },
     "execution_count": 22,
     "metadata": {},
     "output_type": "execute_result"
    }
   ],
   "source": [
    "y_train"
   ]
  },
  {
   "cell_type": "markdown",
   "id": "7bad157b",
   "metadata": {
    "papermill": {
     "duration": 0.019111,
     "end_time": "2023-11-25T16:31:34.757093",
     "exception": false,
     "start_time": "2023-11-25T16:31:34.737982",
     "status": "completed"
    },
    "tags": []
   },
   "source": [
    "# 4.2. Hyperparameter search\n",
    "\n",
    "Each dictionary is named after the classifier it is intended for and includes a set of parameters and the range of values to be tested for each. The classifiers and their respective hyperparameters are as follows:\n",
    "\n",
    "1. **Decision Tree Classifier (`dt_hyperparameters`)**:\n",
    "   - `min_samples_split`: A range of values from 10 to 500, with a step of 20.\n",
    "   - `max_depth`: A range of values from 1 to 20, with a step of 2.\n",
    "\n",
    "2. **Support Vector Machine (`svc_hyperparameters`)**:\n",
    "   - `kernel`: A fixed value of 'rbf' indicating the use of the radial basis function kernel.\n",
    "   - `gamma`: A list of potential values `[0.001, 0.01, 0.1]`.\n",
    "   - `C`: A list of potential regularization parameter values `[1, 10, 50, 100, 250, 500]`.\n",
    "\n",
    "3. **Random Forest Classifier (`rf_hyperparameters`)**:\n",
    "   - `max_depth`: A list of potential values `[1, 3, 5,7]`.\n",
    "   - `min_samples_leaf`: A list of potential values `[1, 3, 5]`.\n",
    "   - `n_estimators`: The number of trees in the forest with values `[50, 100, 150]`.\n",
    "\n",
    "4. **K Nearest Neighbors (`knn_hyperparameters`)**:\n",
    "   - `n_neighbors`: A list of potential values `[1, 3, 5, 7]`.\n",
    "   - `metric`: A single value 'manhattan', which is a type of distance measurement.\n",
    "\n",
    "Finally, a list called `classifier_param` is defined which aggregates the dictionaries of hyperparameters for each classifier.\n",
    "\n",
    "This setup will be used in combination with a grid search cross-validation procedure, where each combination of parameters for each classifier will be tested to find the best performing model based on some evaluation metric. "
   ]
  },
  {
   "cell_type": "code",
   "execution_count": 23,
   "id": "57849812",
   "metadata": {
    "execution": {
     "iopub.execute_input": "2023-11-25T16:31:34.799793Z",
     "iopub.status.busy": "2023-11-25T16:31:34.799047Z",
     "iopub.status.idle": "2023-11-25T16:31:34.805928Z",
     "shell.execute_reply": "2023-11-25T16:31:34.805050Z"
    },
    "papermill": {
     "duration": 0.031064,
     "end_time": "2023-11-25T16:31:34.808261",
     "exception": false,
     "start_time": "2023-11-25T16:31:34.777197",
     "status": "completed"
    },
    "tags": []
   },
   "outputs": [],
   "source": [
    "dt_hyperparameters= {\"min_samples_split\" : range(10,500,20),\n",
    "                \"max_depth\": range(1,20,2)}\n",
    "\n",
    "svc_hyperparameters= {\"kernel\" : [\"rbf\"],\n",
    "                 \"gamma\": [0.001, 0.01, 0.1],\n",
    "                 \"C\": [1,10,50,100,250,500]}\n",
    "\n",
    "\n",
    "rf_hyperparameters= {\"max_depth\":[1,3,5,7],\n",
    "                \"min_samples_leaf\":[1,3,5],\n",
    "                \"n_estimators\":[50,100,150]}\n",
    "\n",
    "knn_hyperparameters= {\"n_neighbors\": [1,3,5,7],\n",
    "                 \"metric\":[\"manhattan\"]} \n",
    "             \n",
    "classifier_param = [\n",
    "                    dt_hyperparameters,\n",
    "                   svc_hyperparameters,\n",
    "                   rf_hyperparameters,\n",
    "                   knn_hyperparameters]"
   ]
  },
  {
   "cell_type": "code",
   "execution_count": 24,
   "id": "c46f3e67",
   "metadata": {
    "execution": {
     "iopub.execute_input": "2023-11-25T16:31:34.847079Z",
     "iopub.status.busy": "2023-11-25T16:31:34.846653Z",
     "iopub.status.idle": "2023-11-25T16:32:12.075680Z",
     "shell.execute_reply": "2023-11-25T16:32:12.074290Z"
    },
    "papermill": {
     "duration": 37.268255,
     "end_time": "2023-11-25T16:32:12.094950",
     "exception": false,
     "start_time": "2023-11-25T16:31:34.826695",
     "status": "completed"
    },
    "tags": []
   },
   "outputs": [
    {
     "name": "stdout",
     "output_type": "stream",
     "text": [
      "Fitting 10 folds for each of 250 candidates, totalling 2500 fits\n",
      "Fitting 10 folds for each of 18 candidates, totalling 180 fits\n",
      "Fitting 10 folds for each of 36 candidates, totalling 360 fits\n",
      "Fitting 10 folds for each of 4 candidates, totalling 40 fits\n"
     ]
    }
   ],
   "source": [
    "# eğitim için\n",
    "from sklearn.svm import SVC\n",
    "from sklearn.ensemble import RandomForestClassifier\n",
    "from sklearn.neighbors import KNeighborsClassifier\n",
    "from sklearn.tree import DecisionTreeClassifier\n",
    "from sklearn.model_selection import train_test_split\n",
    "from sklearn.model_selection import StratifiedKFold\n",
    "from sklearn.model_selection import GridSearchCV\n",
    "\n",
    "from sklearn.exceptions import ConvergenceWarning\n",
    "# Suppress ConvergenceWarning\n",
    "warnings.simplefilter('ignore', ConvergenceWarning)\n",
    "\n",
    "random_state=45\n",
    "classifier = [\n",
    "             DecisionTreeClassifier(random_state = random_state),\n",
    "             SVC(),\n",
    "             RandomForestClassifier(random_state = random_state),\n",
    "             KNeighborsClassifier()]\n",
    "\n",
    "\n",
    "cv_result = []\n",
    "real_test_result = []\n",
    "best_estimators = []\n",
    "for i in range(len(classifier)):\n",
    "    clf = GridSearchCV(classifier[i], param_grid=classifier_param[i], cv = StratifiedKFold(n_splits = 10), scoring = \"accuracy\", n_jobs = -1,verbose = 1)\n",
    "    clf.fit(X_train,y_train)\n",
    "    cv_result.append(clf.best_score_)\n",
    "    best_estimators.append(clf.best_estimator_)\n",
    "    real_test_result.append(clf.score(X_test, y_test)) "
   ]
  },
  {
   "cell_type": "code",
   "execution_count": 25,
   "id": "b71d36af",
   "metadata": {
    "execution": {
     "iopub.execute_input": "2023-11-25T16:32:12.136707Z",
     "iopub.status.busy": "2023-11-25T16:32:12.135311Z",
     "iopub.status.idle": "2023-11-25T16:32:12.146221Z",
     "shell.execute_reply": "2023-11-25T16:32:12.145343Z"
    },
    "papermill": {
     "duration": 0.034171,
     "end_time": "2023-11-25T16:32:12.148789",
     "exception": false,
     "start_time": "2023-11-25T16:32:12.114618",
     "status": "completed"
    },
    "tags": []
   },
   "outputs": [
    {
     "data": {
      "text/plain": [
       "[DecisionTreeClassifier(max_depth=7, min_samples_split=10, random_state=45),\n",
       " SVC(C=500, gamma=0.001),\n",
       " RandomForestClassifier(max_depth=3, min_samples_leaf=3, n_estimators=50,\n",
       "                        random_state=45),\n",
       " KNeighborsClassifier(metric='manhattan', n_neighbors=7)]"
      ]
     },
     "execution_count": 25,
     "metadata": {},
     "output_type": "execute_result"
    }
   ],
   "source": [
    "best_estimators"
   ]
  },
  {
   "cell_type": "markdown",
   "id": "d68e892e",
   "metadata": {
    "papermill": {
     "duration": 0.019317,
     "end_time": "2023-11-25T16:32:12.188600",
     "exception": false,
     "start_time": "2023-11-25T16:32:12.169283",
     "status": "completed"
    },
    "tags": []
   },
   "source": [
    "These appear to be the best-performing models as determined by a hyperparameter tuning process such as grid search or random search. Here's a summary of the models and their corresponding best hyperparameters:\n",
    "\n",
    "1. **DecisionTreeClassifier**: Found to perform best with a maximum depth of 7 (`max_depth=7`) and a minimum number of samples required to split an internal node (`min_samples_split=10`). A `random_state` has been set to 45, which is used for initializing the internal random number generator, ensuring reproducibility of the results.\n",
    "\n",
    "2. **SVC (Support Vector Classifier)**: The optimal hyperparameters for the support vector machine include a regularization parameter `C` set to 500 and a kernel coefficient `gamma` set to 0.001. The kernel is not explicitly mentioned, but since 'rbf' was part of the search space in the hyperparameter search snippet, it is likely that the radial basis function kernel is used.\n",
    "\n",
    "3. **RandomForestClassifier**: For the random forest, the best parameters include a maximum depth of 3 (`max_depth=3`), a minimum number of samples required to be at a leaf node (`min_samples_leaf=3`), and the number of trees in the forest (`n_estimators=50`). The `random_state` is again set to 45 for reproducibility.\n",
    "\n",
    "4. **KNeighborsClassifier**: This model is configured to use 7 neighbors (`n_neighbors=7`) and the Manhattan distance metric for its operation.\n",
    "\n",
    "These models are typically stored in a list after the completion of hyperparameter tuning to easily access the best version of each classifier for further evaluation, ensemble methods, or deployment."
   ]
  },
  {
   "cell_type": "markdown",
   "id": "efecd1c9",
   "metadata": {
    "papermill": {
     "duration": 0.020207,
     "end_time": "2023-11-25T16:32:12.229258",
     "exception": false,
     "start_time": "2023-11-25T16:32:12.209051",
     "status": "completed"
    },
    "tags": []
   },
   "source": [
    "And, the resulting DataFrame cv_results is displayed below the code snippet, showing each classifier along with its corresponding cross-validation mean and test result. The scores are as follows:"
   ]
  },
  {
   "cell_type": "code",
   "execution_count": 26,
   "id": "f313280b",
   "metadata": {
    "execution": {
     "iopub.execute_input": "2023-11-25T16:32:12.268948Z",
     "iopub.status.busy": "2023-11-25T16:32:12.268551Z",
     "iopub.status.idle": "2023-11-25T16:32:12.280950Z",
     "shell.execute_reply": "2023-11-25T16:32:12.279920Z"
    },
    "papermill": {
     "duration": 0.034536,
     "end_time": "2023-11-25T16:32:12.283292",
     "exception": false,
     "start_time": "2023-11-25T16:32:12.248756",
     "status": "completed"
    },
    "tags": []
   },
   "outputs": [
    {
     "data": {
      "text/html": [
       "<div>\n",
       "<style scoped>\n",
       "    .dataframe tbody tr th:only-of-type {\n",
       "        vertical-align: middle;\n",
       "    }\n",
       "\n",
       "    .dataframe tbody tr th {\n",
       "        vertical-align: top;\n",
       "    }\n",
       "\n",
       "    .dataframe thead th {\n",
       "        text-align: right;\n",
       "    }\n",
       "</style>\n",
       "<table border=\"1\" class=\"dataframe\">\n",
       "  <thead>\n",
       "    <tr style=\"text-align: right;\">\n",
       "      <th></th>\n",
       "      <th>Machine Learning Models</th>\n",
       "      <th>Cross Validation Mean</th>\n",
       "      <th>Test Result</th>\n",
       "    </tr>\n",
       "  </thead>\n",
       "  <tbody>\n",
       "    <tr>\n",
       "      <th>0</th>\n",
       "      <td>Decision Tree Classifier</td>\n",
       "      <td>0.820293</td>\n",
       "      <td>0.866667</td>\n",
       "    </tr>\n",
       "    <tr>\n",
       "      <th>1</th>\n",
       "      <td>Support Vector Machines</td>\n",
       "      <td>0.806512</td>\n",
       "      <td>0.833333</td>\n",
       "    </tr>\n",
       "    <tr>\n",
       "      <th>2</th>\n",
       "      <td>Random Forest Classifier</td>\n",
       "      <td>0.824012</td>\n",
       "      <td>0.844444</td>\n",
       "    </tr>\n",
       "    <tr>\n",
       "      <th>3</th>\n",
       "      <td>K Nearest Neighbors Classifier</td>\n",
       "      <td>0.744136</td>\n",
       "      <td>0.744444</td>\n",
       "    </tr>\n",
       "  </tbody>\n",
       "</table>\n",
       "</div>"
      ],
      "text/plain": [
       "          Machine Learning Models  Cross Validation Mean  Test Result\n",
       "0        Decision Tree Classifier               0.820293     0.866667\n",
       "1         Support Vector Machines               0.806512     0.833333\n",
       "2        Random Forest Classifier               0.824012     0.844444\n",
       "3  K Nearest Neighbors Classifier               0.744136     0.744444"
      ]
     },
     "execution_count": 26,
     "metadata": {},
     "output_type": "execute_result"
    }
   ],
   "source": [
    "cv_results = pd.DataFrame({ \"Machine Learning Models\":\n",
    "                                               [\"Decision Tree Classifier\", \n",
    "                                                \"Support Vector Machines\",\n",
    "                                                \"Random Forest Classifier\",\n",
    "                                                 \"K Nearest Neighbors Classifier\"],\n",
    "                           \"Cross Validation Mean\": cv_result, \n",
    "                           \"Test Result\": real_test_result})\n",
    "cv_results\n"
   ]
  },
  {
   "cell_type": "markdown",
   "id": "c6a0311d",
   "metadata": {
    "papermill": {
     "duration": 0.018796,
     "end_time": "2023-11-25T16:32:12.320985",
     "exception": false,
     "start_time": "2023-11-25T16:32:12.302189",
     "status": "completed"
    },
    "tags": []
   },
   "source": [
    "# 4.3. Utilizing Ensemble Learning to Enhance Predictive Accuracy\n",
    "\n",
    "The provided code snippet is implementing a voting ensemble machine learning model that combines the predictions from three different classifiers: Decision Tree, Random Forest, and K Nearest Neighbors. Each classifier has been previously tuned to find its best hyperparameters. The ensemble model is trained on a dataset, then used to make predictions on a test set. The accuracy of the model on the test set is calculated and printed, resulting in an accuracy of about 87.77%. This high accuracy indicates that the ensemble method is effective for the given prediction task."
   ]
  },
  {
   "cell_type": "code",
   "execution_count": 27,
   "id": "4f2da447",
   "metadata": {
    "execution": {
     "iopub.execute_input": "2023-11-25T16:32:12.360258Z",
     "iopub.status.busy": "2023-11-25T16:32:12.359862Z",
     "iopub.status.idle": "2023-11-25T16:32:12.483242Z",
     "shell.execute_reply": "2023-11-25T16:32:12.481913Z"
    },
    "papermill": {
     "duration": 0.146508,
     "end_time": "2023-11-25T16:32:12.486023",
     "exception": false,
     "start_time": "2023-11-25T16:32:12.339515",
     "status": "completed"
    },
    "tags": []
   },
   "outputs": [
    {
     "name": "stdout",
     "output_type": "stream",
     "text": [
      "Accuracy:  0.8777777777777778\n"
     ]
    }
   ],
   "source": [
    "from sklearn.ensemble import VotingClassifier\n",
    "voting = VotingClassifier(estimators=[\n",
    "                                      ('Decision Tree Classifier', best_estimators[0]), \n",
    "                                      ('Random Forest Classifier', best_estimators[2]),\n",
    "                                      ('K Nearest Neighbors Classifier', best_estimators[3])])\n",
    "voting.fit(X_train,y_train)\n",
    "voting_pred = voting.predict(X_test)\n",
    "\n",
    "print('Accuracy: ', accuracy_score(y_test, voting_pred))"
   ]
  },
  {
   "cell_type": "markdown",
   "id": "050c95fa",
   "metadata": {
    "papermill": {
     "duration": 0.020854,
     "end_time": "2023-11-25T16:32:12.528077",
     "exception": false,
     "start_time": "2023-11-25T16:32:12.507223",
     "status": "completed"
    },
    "tags": []
   },
   "source": [
    "# 5. Making Predictions on the Original Test Set for the Leaderboard Submission"
   ]
  },
  {
   "cell_type": "code",
   "execution_count": 28,
   "id": "5ce8475d",
   "metadata": {
    "execution": {
     "iopub.execute_input": "2023-11-25T16:32:12.571926Z",
     "iopub.status.busy": "2023-11-25T16:32:12.570773Z",
     "iopub.status.idle": "2023-11-25T16:32:12.640426Z",
     "shell.execute_reply": "2023-11-25T16:32:12.639549Z"
    },
    "papermill": {
     "duration": 0.095408,
     "end_time": "2023-11-25T16:32:12.642771",
     "exception": false,
     "start_time": "2023-11-25T16:32:12.547363",
     "status": "completed"
    },
    "tags": []
   },
   "outputs": [
    {
     "data": {
      "text/html": [
       "<div>\n",
       "<style scoped>\n",
       "    .dataframe tbody tr th:only-of-type {\n",
       "        vertical-align: middle;\n",
       "    }\n",
       "\n",
       "    .dataframe tbody tr th {\n",
       "        vertical-align: top;\n",
       "    }\n",
       "\n",
       "    .dataframe thead th {\n",
       "        text-align: right;\n",
       "    }\n",
       "</style>\n",
       "<table border=\"1\" class=\"dataframe\">\n",
       "  <thead>\n",
       "    <tr style=\"text-align: right;\">\n",
       "      <th></th>\n",
       "      <th>PassengerId</th>\n",
       "      <th>Survived</th>\n",
       "    </tr>\n",
       "  </thead>\n",
       "  <tbody>\n",
       "    <tr>\n",
       "      <th>0</th>\n",
       "      <td>892</td>\n",
       "      <td>0</td>\n",
       "    </tr>\n",
       "    <tr>\n",
       "      <th>1</th>\n",
       "      <td>893</td>\n",
       "      <td>0</td>\n",
       "    </tr>\n",
       "    <tr>\n",
       "      <th>2</th>\n",
       "      <td>894</td>\n",
       "      <td>0</td>\n",
       "    </tr>\n",
       "    <tr>\n",
       "      <th>3</th>\n",
       "      <td>895</td>\n",
       "      <td>0</td>\n",
       "    </tr>\n",
       "    <tr>\n",
       "      <th>4</th>\n",
       "      <td>896</td>\n",
       "      <td>1</td>\n",
       "    </tr>\n",
       "    <tr>\n",
       "      <th>...</th>\n",
       "      <td>...</td>\n",
       "      <td>...</td>\n",
       "    </tr>\n",
       "    <tr>\n",
       "      <th>413</th>\n",
       "      <td>1305</td>\n",
       "      <td>0</td>\n",
       "    </tr>\n",
       "    <tr>\n",
       "      <th>414</th>\n",
       "      <td>1306</td>\n",
       "      <td>1</td>\n",
       "    </tr>\n",
       "    <tr>\n",
       "      <th>415</th>\n",
       "      <td>1307</td>\n",
       "      <td>0</td>\n",
       "    </tr>\n",
       "    <tr>\n",
       "      <th>416</th>\n",
       "      <td>1308</td>\n",
       "      <td>0</td>\n",
       "    </tr>\n",
       "    <tr>\n",
       "      <th>417</th>\n",
       "      <td>1309</td>\n",
       "      <td>0</td>\n",
       "    </tr>\n",
       "  </tbody>\n",
       "</table>\n",
       "<p>418 rows × 2 columns</p>\n",
       "</div>"
      ],
      "text/plain": [
       "     PassengerId  Survived\n",
       "0            892         0\n",
       "1            893         0\n",
       "2            894         0\n",
       "3            895         0\n",
       "4            896         1\n",
       "..           ...       ...\n",
       "413         1305         0\n",
       "414         1306         1\n",
       "415         1307         0\n",
       "416         1308         0\n",
       "417         1309         0\n",
       "\n",
       "[418 rows x 2 columns]"
      ]
     },
     "execution_count": 28,
     "metadata": {},
     "output_type": "execute_result"
    }
   ],
   "source": [
    "submission= pd.read_csv(\"/kaggle/input/titanic/gender_submission.csv\")\n",
    "test =  test_df[['Pclass', 'Sex', 'Age', 'SibSp', 'Parch', 'Fare', 'Embarked']].values\n",
    "submission[\"Survived\"]=voting.predict(test)\n",
    "submission.to_csv('submission.csv',index=False)\n",
    "submission"
   ]
  }
 ],
 "metadata": {
  "kaggle": {
   "accelerator": "none",
   "dataSources": [
    {
     "databundleVersionId": 26502,
     "sourceId": 3136,
     "sourceType": "competition"
    }
   ],
   "dockerImageVersionId": 30587,
   "isGpuEnabled": false,
   "isInternetEnabled": true,
   "language": "python",
   "sourceType": "notebook"
  },
  "kernelspec": {
   "display_name": "Python 3",
   "language": "python",
   "name": "python3"
  },
  "language_info": {
   "codemirror_mode": {
    "name": "ipython",
    "version": 3
   },
   "file_extension": ".py",
   "mimetype": "text/x-python",
   "name": "python",
   "nbconvert_exporter": "python",
   "pygments_lexer": "ipython3",
   "version": "3.10.12"
  },
  "papermill": {
   "default_parameters": {},
   "duration": 51.035369,
   "end_time": "2023-11-25T16:32:15.282698",
   "environment_variables": {},
   "exception": null,
   "input_path": "__notebook__.ipynb",
   "output_path": "__notebook__.ipynb",
   "parameters": {},
   "start_time": "2023-11-25T16:31:24.247329",
   "version": "2.4.0"
  }
 },
 "nbformat": 4,
 "nbformat_minor": 5
}
