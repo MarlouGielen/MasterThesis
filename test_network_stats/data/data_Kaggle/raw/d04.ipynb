{
 "cells": [
  {
   "cell_type": "code",
   "execution_count": 1,
   "id": "6e80e883",
   "metadata": {
    "_cell_guid": "b1076dfc-b9ad-4769-8c92-a6c4dae69d19",
    "_uuid": "8f2839f25d086af736a60e9eeb907d3b93b6e0e5",
    "execution": {
     "iopub.execute_input": "2023-12-01T10:02:43.500651Z",
     "iopub.status.busy": "2023-12-01T10:02:43.499540Z",
     "iopub.status.idle": "2023-12-01T10:02:44.346989Z",
     "shell.execute_reply": "2023-12-01T10:02:44.344813Z"
    },
    "papermill": {
     "duration": 0.862663,
     "end_time": "2023-12-01T10:02:44.349090",
     "exception": false,
     "start_time": "2023-12-01T10:02:43.486427",
     "status": "completed"
    },
    "tags": []
   },
   "outputs": [
    {
     "name": "stdout",
     "output_type": "stream",
     "text": [
      "/kaggle/input/titanic/train.csv\n",
      "/kaggle/input/titanic/test.csv\n",
      "/kaggle/input/titanic/gender_submission.csv\n"
     ]
    }
   ],
   "source": [
    "# This Python 3 environment comes with many helpful analytics libraries installed\n",
    "# It is defined by the kaggle/python Docker image: https://github.com/kaggle/docker-python\n",
    "# For example, here's several helpful packages to load\n",
    "\n",
    "import numpy as np # linear algebra\n",
    "import pandas as pd # data processing, CSV file I/O (e.g. pd.read_csv)\n",
    "\n",
    "# Input data files are available in the read-only \"../input/\" directory\n",
    "# For example, running this (by clicking run or pressing Shift+Enter) will list all files under the input directory\n",
    "\n",
    "import os\n",
    "for dirname, _, filenames in os.walk('/kaggle/input'):\n",
    "    for filename in filenames:\n",
    "        print(os.path.join(dirname, filename))\n",
    "\n",
    "# You can write up to 20GB to the current directory (/kaggle/working/) that gets preserved as output when you create a version using \"Save & Run All\" \n",
    "# You can also write temporary files to /kaggle/temp/, but they won't be saved outside of the current session"
   ]
  },
  {
   "cell_type": "code",
   "execution_count": 2,
   "id": "84d80ed2",
   "metadata": {
    "execution": {
     "iopub.execute_input": "2023-12-01T10:02:44.373449Z",
     "iopub.status.busy": "2023-12-01T10:02:44.373011Z",
     "iopub.status.idle": "2023-12-01T10:02:44.396391Z",
     "shell.execute_reply": "2023-12-01T10:02:44.395024Z"
    },
    "papermill": {
     "duration": 0.038464,
     "end_time": "2023-12-01T10:02:44.398917",
     "exception": false,
     "start_time": "2023-12-01T10:02:44.360453",
     "status": "completed"
    },
    "tags": []
   },
   "outputs": [],
   "source": [
    "df=pd.read_csv('/kaggle/input/titanic/train.csv')"
   ]
  },
  {
   "cell_type": "code",
   "execution_count": 3,
   "id": "a0c4e74c",
   "metadata": {
    "execution": {
     "iopub.execute_input": "2023-12-01T10:02:44.423579Z",
     "iopub.status.busy": "2023-12-01T10:02:44.423242Z",
     "iopub.status.idle": "2023-12-01T10:02:44.450086Z",
     "shell.execute_reply": "2023-12-01T10:02:44.448703Z"
    },
    "papermill": {
     "duration": 0.041616,
     "end_time": "2023-12-01T10:02:44.452079",
     "exception": false,
     "start_time": "2023-12-01T10:02:44.410463",
     "status": "completed"
    },
    "tags": []
   },
   "outputs": [
    {
     "data": {
      "text/html": [
       "<div>\n",
       "<style scoped>\n",
       "    .dataframe tbody tr th:only-of-type {\n",
       "        vertical-align: middle;\n",
       "    }\n",
       "\n",
       "    .dataframe tbody tr th {\n",
       "        vertical-align: top;\n",
       "    }\n",
       "\n",
       "    .dataframe thead th {\n",
       "        text-align: right;\n",
       "    }\n",
       "</style>\n",
       "<table border=\"1\" class=\"dataframe\">\n",
       "  <thead>\n",
       "    <tr style=\"text-align: right;\">\n",
       "      <th></th>\n",
       "      <th>PassengerId</th>\n",
       "      <th>Survived</th>\n",
       "      <th>Pclass</th>\n",
       "      <th>Name</th>\n",
       "      <th>Sex</th>\n",
       "      <th>Age</th>\n",
       "      <th>SibSp</th>\n",
       "      <th>Parch</th>\n",
       "      <th>Ticket</th>\n",
       "      <th>Fare</th>\n",
       "      <th>Cabin</th>\n",
       "      <th>Embarked</th>\n",
       "    </tr>\n",
       "  </thead>\n",
       "  <tbody>\n",
       "    <tr>\n",
       "      <th>0</th>\n",
       "      <td>1</td>\n",
       "      <td>0</td>\n",
       "      <td>3</td>\n",
       "      <td>Braund, Mr. Owen Harris</td>\n",
       "      <td>male</td>\n",
       "      <td>22.0</td>\n",
       "      <td>1</td>\n",
       "      <td>0</td>\n",
       "      <td>A/5 21171</td>\n",
       "      <td>7.2500</td>\n",
       "      <td>NaN</td>\n",
       "      <td>S</td>\n",
       "    </tr>\n",
       "    <tr>\n",
       "      <th>1</th>\n",
       "      <td>2</td>\n",
       "      <td>1</td>\n",
       "      <td>1</td>\n",
       "      <td>Cumings, Mrs. John Bradley (Florence Briggs Th...</td>\n",
       "      <td>female</td>\n",
       "      <td>38.0</td>\n",
       "      <td>1</td>\n",
       "      <td>0</td>\n",
       "      <td>PC 17599</td>\n",
       "      <td>71.2833</td>\n",
       "      <td>C85</td>\n",
       "      <td>C</td>\n",
       "    </tr>\n",
       "    <tr>\n",
       "      <th>2</th>\n",
       "      <td>3</td>\n",
       "      <td>1</td>\n",
       "      <td>3</td>\n",
       "      <td>Heikkinen, Miss. Laina</td>\n",
       "      <td>female</td>\n",
       "      <td>26.0</td>\n",
       "      <td>0</td>\n",
       "      <td>0</td>\n",
       "      <td>STON/O2. 3101282</td>\n",
       "      <td>7.9250</td>\n",
       "      <td>NaN</td>\n",
       "      <td>S</td>\n",
       "    </tr>\n",
       "    <tr>\n",
       "      <th>3</th>\n",
       "      <td>4</td>\n",
       "      <td>1</td>\n",
       "      <td>1</td>\n",
       "      <td>Futrelle, Mrs. Jacques Heath (Lily May Peel)</td>\n",
       "      <td>female</td>\n",
       "      <td>35.0</td>\n",
       "      <td>1</td>\n",
       "      <td>0</td>\n",
       "      <td>113803</td>\n",
       "      <td>53.1000</td>\n",
       "      <td>C123</td>\n",
       "      <td>S</td>\n",
       "    </tr>\n",
       "    <tr>\n",
       "      <th>4</th>\n",
       "      <td>5</td>\n",
       "      <td>0</td>\n",
       "      <td>3</td>\n",
       "      <td>Allen, Mr. William Henry</td>\n",
       "      <td>male</td>\n",
       "      <td>35.0</td>\n",
       "      <td>0</td>\n",
       "      <td>0</td>\n",
       "      <td>373450</td>\n",
       "      <td>8.0500</td>\n",
       "      <td>NaN</td>\n",
       "      <td>S</td>\n",
       "    </tr>\n",
       "  </tbody>\n",
       "</table>\n",
       "</div>"
      ],
      "text/plain": [
       "   PassengerId  Survived  Pclass  \\\n",
       "0            1         0       3   \n",
       "1            2         1       1   \n",
       "2            3         1       3   \n",
       "3            4         1       1   \n",
       "4            5         0       3   \n",
       "\n",
       "                                                Name     Sex   Age  SibSp  \\\n",
       "0                            Braund, Mr. Owen Harris    male  22.0      1   \n",
       "1  Cumings, Mrs. John Bradley (Florence Briggs Th...  female  38.0      1   \n",
       "2                             Heikkinen, Miss. Laina  female  26.0      0   \n",
       "3       Futrelle, Mrs. Jacques Heath (Lily May Peel)  female  35.0      1   \n",
       "4                           Allen, Mr. William Henry    male  35.0      0   \n",
       "\n",
       "   Parch            Ticket     Fare Cabin Embarked  \n",
       "0      0         A/5 21171   7.2500   NaN        S  \n",
       "1      0          PC 17599  71.2833   C85        C  \n",
       "2      0  STON/O2. 3101282   7.9250   NaN        S  \n",
       "3      0            113803  53.1000  C123        S  \n",
       "4      0            373450   8.0500   NaN        S  "
      ]
     },
     "execution_count": 3,
     "metadata": {},
     "output_type": "execute_result"
    }
   ],
   "source": [
    "df.head()"
   ]
  },
  {
   "cell_type": "code",
   "execution_count": 4,
   "id": "80b8224a",
   "metadata": {
    "execution": {
     "iopub.execute_input": "2023-12-01T10:02:44.476359Z",
     "iopub.status.busy": "2023-12-01T10:02:44.476056Z",
     "iopub.status.idle": "2023-12-01T10:02:45.974009Z",
     "shell.execute_reply": "2023-12-01T10:02:45.972915Z"
    },
    "papermill": {
     "duration": 1.513321,
     "end_time": "2023-12-01T10:02:45.976963",
     "exception": false,
     "start_time": "2023-12-01T10:02:44.463642",
     "status": "completed"
    },
    "tags": []
   },
   "outputs": [],
   "source": [
    "import matplotlib.pyplot as plt \n",
    "import seaborn as sns \n"
   ]
  },
  {
   "cell_type": "raw",
   "id": "6e88ed0c",
   "metadata": {
    "execution": {
     "iopub.execute_input": "2023-09-12T09:03:31.757402Z",
     "iopub.status.busy": "2023-09-12T09:03:31.756195Z",
     "iopub.status.idle": "2023-09-12T09:03:31.767162Z",
     "shell.execute_reply": "2023-09-12T09:03:31.766263Z",
     "shell.execute_reply.started": "2023-09-12T09:03:31.757353Z"
    },
    "papermill": {
     "duration": 0.014057,
     "end_time": "2023-12-01T10:02:46.004308",
     "exception": false,
     "start_time": "2023-12-01T10:02:45.990251",
     "status": "completed"
    },
    "tags": []
   },
   "source": [
    "df.isnull().sum()"
   ]
  },
  {
   "cell_type": "code",
   "execution_count": 5,
   "id": "aef79ff3",
   "metadata": {
    "execution": {
     "iopub.execute_input": "2023-12-01T10:02:46.032059Z",
     "iopub.status.busy": "2023-12-01T10:02:46.031497Z",
     "iopub.status.idle": "2023-12-01T10:02:46.247453Z",
     "shell.execute_reply": "2023-12-01T10:02:46.246489Z"
    },
    "papermill": {
     "duration": 0.232253,
     "end_time": "2023-12-01T10:02:46.249634",
     "exception": false,
     "start_time": "2023-12-01T10:02:46.017381",
     "status": "completed"
    },
    "tags": []
   },
   "outputs": [
    {
     "data": {
      "text/plain": [
       "<Axes: >"
      ]
     },
     "execution_count": 5,
     "metadata": {},
     "output_type": "execute_result"
    },
    {
     "data": {
      "image/png": "[encoded data removed]",
      "text/plain": [
       "<Figure size 640x480 with 1 Axes>"
      ]
     },
     "metadata": {},
     "output_type": "display_data"
    }
   ],
   "source": [
    "sns.heatmap(df.isnull(),yticklabels=False,cbar=False,cmap='viridis')"
   ]
  },
  {
   "cell_type": "code",
   "execution_count": 6,
   "id": "ad3f8545",
   "metadata": {
    "execution": {
     "iopub.execute_input": "2023-12-01T10:02:46.275908Z",
     "iopub.status.busy": "2023-12-01T10:02:46.275539Z",
     "iopub.status.idle": "2023-12-01T10:02:46.484045Z",
     "shell.execute_reply": "2023-12-01T10:02:46.483089Z"
    },
    "papermill": {
     "duration": 0.223992,
     "end_time": "2023-12-01T10:02:46.485902",
     "exception": false,
     "start_time": "2023-12-01T10:02:46.261910",
     "status": "completed"
    },
    "tags": []
   },
   "outputs": [
    {
     "data": {
      "text/plain": [
       "<Axes: xlabel='Survived', ylabel='count'>"
      ]
     },
     "execution_count": 6,
     "metadata": {},
     "output_type": "execute_result"
    },
    {
     "data": {
      "image/png": "[encoded data removed]",
      "text/plain": [
       "<Figure size 640x480 with 1 Axes>"
      ]
     },
     "metadata": {},
     "output_type": "display_data"
    }
   ],
   "source": [
    "sns.countplot(x='Survived',hue='Sex',data=df)"
   ]
  },
  {
   "cell_type": "code",
   "execution_count": 7,
   "id": "cad5d00b",
   "metadata": {
    "execution": {
     "iopub.execute_input": "2023-12-01T10:02:46.512874Z",
     "iopub.status.busy": "2023-12-01T10:02:46.512181Z",
     "iopub.status.idle": "2023-12-01T10:02:46.720141Z",
     "shell.execute_reply": "2023-12-01T10:02:46.718924Z"
    },
    "papermill": {
     "duration": 0.224734,
     "end_time": "2023-12-01T10:02:46.722819",
     "exception": false,
     "start_time": "2023-12-01T10:02:46.498085",
     "status": "completed"
    },
    "tags": []
   },
   "outputs": [
    {
     "data": {
      "text/plain": [
       "<Axes: xlabel='Survived', ylabel='count'>"
      ]
     },
     "execution_count": 7,
     "metadata": {},
     "output_type": "execute_result"
    },
    {
     "data": {
      "image/png": "[encoded data removed]",
      "text/plain": [
       "<Figure size 640x480 with 1 Axes>"
      ]
     },
     "metadata": {},
     "output_type": "display_data"
    }
   ],
   "source": [
    "sns.countplot(x='Survived',hue='Pclass',data=df)"
   ]
  },
  {
   "cell_type": "code",
   "execution_count": 8,
   "id": "064050b7",
   "metadata": {
    "execution": {
     "iopub.execute_input": "2023-12-01T10:02:46.751103Z",
     "iopub.status.busy": "2023-12-01T10:02:46.750710Z",
     "iopub.status.idle": "2023-12-01T10:02:47.112572Z",
     "shell.execute_reply": "2023-12-01T10:02:47.111035Z"
    },
    "papermill": {
     "duration": 0.378972,
     "end_time": "2023-12-01T10:02:47.115174",
     "exception": false,
     "start_time": "2023-12-01T10:02:46.736202",
     "status": "completed"
    },
    "tags": []
   },
   "outputs": [
    {
     "name": "stderr",
     "output_type": "stream",
     "text": [
      "/opt/conda/lib/python3.10/site-packages/seaborn/axisgrid.py:118: UserWarning: The figure layout has changed to tight\n",
      "  self._figure.tight_layout(*args, **kwargs)\n"
     ]
    },
    {
     "data": {
      "text/plain": [
       "<seaborn.axisgrid.FacetGrid at 0x7eed99116b00>"
      ]
     },
     "execution_count": 8,
     "metadata": {},
     "output_type": "execute_result"
    },
    {
     "data": {
      "image/png": "[encoded data removed]",
      "text/plain": [
       "<Figure size 500x500 with 1 Axes>"
      ]
     },
     "metadata": {},
     "output_type": "display_data"
    }
   ],
   "source": [
    "sns.displot(df['Age'].dropna(),bins=30)"
   ]
  },
  {
   "cell_type": "code",
   "execution_count": 9,
   "id": "f9567cbd",
   "metadata": {
    "execution": {
     "iopub.execute_input": "2023-12-01T10:02:47.142911Z",
     "iopub.status.busy": "2023-12-01T10:02:47.142566Z",
     "iopub.status.idle": "2023-12-01T10:02:47.167091Z",
     "shell.execute_reply": "2023-12-01T10:02:47.165239Z"
    },
    "papermill": {
     "duration": 0.040973,
     "end_time": "2023-12-01T10:02:47.169234",
     "exception": false,
     "start_time": "2023-12-01T10:02:47.128261",
     "status": "completed"
    },
    "tags": []
   },
   "outputs": [
    {
     "name": "stdout",
     "output_type": "stream",
     "text": [
      "<class 'pandas.core.frame.DataFrame'>\n",
      "RangeIndex: 891 entries, 0 to 890\n",
      "Data columns (total 12 columns):\n",
      " #   Column       Non-Null Count  Dtype  \n",
      "---  ------       --------------  -----  \n",
      " 0   PassengerId  891 non-null    int64  \n",
      " 1   Survived     891 non-null    int64  \n",
      " 2   Pclass       891 non-null    int64  \n",
      " 3   Name         891 non-null    object \n",
      " 4   Sex          891 non-null    object \n",
      " 5   Age          714 non-null    float64\n",
      " 6   SibSp        891 non-null    int64  \n",
      " 7   Parch        891 non-null    int64  \n",
      " 8   Ticket       891 non-null    object \n",
      " 9   Fare         891 non-null    float64\n",
      " 10  Cabin        204 non-null    object \n",
      " 11  Embarked     889 non-null    object \n",
      "dtypes: float64(2), int64(5), object(5)\n",
      "memory usage: 83.7+ KB\n"
     ]
    }
   ],
   "source": [
    "df.info()"
   ]
  },
  {
   "cell_type": "code",
   "execution_count": 10,
   "id": "2d7933f4",
   "metadata": {
    "execution": {
     "iopub.execute_input": "2023-12-01T10:02:47.197761Z",
     "iopub.status.busy": "2023-12-01T10:02:47.197392Z",
     "iopub.status.idle": "2023-12-01T10:02:47.403834Z",
     "shell.execute_reply": "2023-12-01T10:02:47.402345Z"
    },
    "papermill": {
     "duration": 0.223604,
     "end_time": "2023-12-01T10:02:47.406419",
     "exception": false,
     "start_time": "2023-12-01T10:02:47.182815",
     "status": "completed"
    },
    "tags": []
   },
   "outputs": [
    {
     "data": {
      "text/plain": [
       "<Axes: xlabel='SibSp', ylabel='count'>"
      ]
     },
     "execution_count": 10,
     "metadata": {},
     "output_type": "execute_result"
    },
    {
     "data": {
      "image/png": "[encoded data removed]",
      "text/plain": [
       "<Figure size 640x480 with 1 Axes>"
      ]
     },
     "metadata": {},
     "output_type": "display_data"
    }
   ],
   "source": [
    "sns.countplot(x='SibSp',data=df)"
   ]
  },
  {
   "cell_type": "code",
   "execution_count": 11,
   "id": "bbc8dcf5",
   "metadata": {
    "execution": {
     "iopub.execute_input": "2023-12-01T10:02:47.489796Z",
     "iopub.status.busy": "2023-12-01T10:02:47.489469Z",
     "iopub.status.idle": "2023-12-01T10:02:47.820993Z",
     "shell.execute_reply": "2023-12-01T10:02:47.819904Z"
    },
    "papermill": {
     "duration": 0.347889,
     "end_time": "2023-12-01T10:02:47.822784",
     "exception": false,
     "start_time": "2023-12-01T10:02:47.474895",
     "status": "completed"
    },
    "tags": []
   },
   "outputs": [
    {
     "name": "stderr",
     "output_type": "stream",
     "text": [
      "/opt/conda/lib/python3.10/site-packages/seaborn/axisgrid.py:118: UserWarning: The figure layout has changed to tight\n",
      "  self._figure.tight_layout(*args, **kwargs)\n"
     ]
    },
    {
     "data": {
      "text/plain": [
       "<seaborn.axisgrid.FacetGrid at 0x7eed991586a0>"
      ]
     },
     "execution_count": 11,
     "metadata": {},
     "output_type": "execute_result"
    },
    {
     "data": {
      "image/png": "[encoded data removed]",
      "text/plain": [
       "<Figure size 500x500 with 1 Axes>"
      ]
     },
     "metadata": {},
     "output_type": "display_data"
    }
   ],
   "source": [
    "sns.displot(df['Fare'],bins=40)"
   ]
  },
  {
   "cell_type": "code",
   "execution_count": 12,
   "id": "c64b84b3",
   "metadata": {
    "execution": {
     "iopub.execute_input": "2023-12-01T10:02:47.851881Z",
     "iopub.status.busy": "2023-12-01T10:02:47.851218Z",
     "iopub.status.idle": "2023-12-01T10:02:48.047265Z",
     "shell.execute_reply": "2023-12-01T10:02:48.045887Z"
    },
    "papermill": {
     "duration": 0.21374,
     "end_time": "2023-12-01T10:02:48.050167",
     "exception": false,
     "start_time": "2023-12-01T10:02:47.836427",
     "status": "completed"
    },
    "tags": []
   },
   "outputs": [
    {
     "data": {
      "text/plain": [
       "<Axes: xlabel='Pclass', ylabel='Age'>"
      ]
     },
     "execution_count": 12,
     "metadata": {},
     "output_type": "execute_result"
    },
    {
     "data": {
      "image/png": "[encoded data removed]",
      "text/plain": [
       "<Figure size 640x480 with 1 Axes>"
      ]
     },
     "metadata": {},
     "output_type": "display_data"
    }
   ],
   "source": [
    "sns.boxplot(data=df,x='Pclass',y='Age')"
   ]
  },
  {
   "cell_type": "code",
   "execution_count": 13,
   "id": "aa255b6e",
   "metadata": {
    "execution": {
     "iopub.execute_input": "2023-12-01T10:02:48.080898Z",
     "iopub.status.busy": "2023-12-01T10:02:48.080521Z",
     "iopub.status.idle": "2023-12-01T10:02:48.087222Z",
     "shell.execute_reply": "2023-12-01T10:02:48.085408Z"
    },
    "papermill": {
     "duration": 0.02487,
     "end_time": "2023-12-01T10:02:48.089755",
     "exception": false,
     "start_time": "2023-12-01T10:02:48.064885",
     "status": "completed"
    },
    "tags": []
   },
   "outputs": [],
   "source": [
    "def impute_age(cols):\n",
    "    Age=cols[0]\n",
    "    Pclass=cols[1]\n",
    "    \n",
    "    if pd.isnull(Age):\n",
    "        if Pclass == 1:\n",
    "            return 37\n",
    "        elif Pclass== 2:\n",
    "            return 29\n",
    "        else:\n",
    "            return 24\n",
    "    else:\n",
    "        return Age"
   ]
  },
  {
   "cell_type": "code",
   "execution_count": 14,
   "id": "0a4ff6d3",
   "metadata": {
    "execution": {
     "iopub.execute_input": "2023-12-01T10:02:48.120104Z",
     "iopub.status.busy": "2023-12-01T10:02:48.119765Z",
     "iopub.status.idle": "2023-12-01T10:02:48.137122Z",
     "shell.execute_reply": "2023-12-01T10:02:48.136013Z"
    },
    "papermill": {
     "duration": 0.034784,
     "end_time": "2023-12-01T10:02:48.139064",
     "exception": false,
     "start_time": "2023-12-01T10:02:48.104280",
     "status": "completed"
    },
    "tags": []
   },
   "outputs": [],
   "source": [
    "df['Age']=df[['Age','Pclass']].apply(impute_age,axis=1)"
   ]
  },
  {
   "cell_type": "code",
   "execution_count": 15,
   "id": "72415fd2",
   "metadata": {
    "execution": {
     "iopub.execute_input": "2023-12-01T10:02:48.168697Z",
     "iopub.status.busy": "2023-12-01T10:02:48.168276Z",
     "iopub.status.idle": "2023-12-01T10:02:48.347397Z",
     "shell.execute_reply": "2023-12-01T10:02:48.346401Z"
    },
    "papermill": {
     "duration": 0.196484,
     "end_time": "2023-12-01T10:02:48.349711",
     "exception": false,
     "start_time": "2023-12-01T10:02:48.153227",
     "status": "completed"
    },
    "tags": []
   },
   "outputs": [
    {
     "data": {
      "text/plain": [
       "<Axes: >"
      ]
     },
     "execution_count": 15,
     "metadata": {},
     "output_type": "execute_result"
    },
    {
     "data": {
      "image/png": "[encoded data removed]",
      "text/plain": [
       "<Figure size 640x480 with 1 Axes>"
      ]
     },
     "metadata": {},
     "output_type": "display_data"
    }
   ],
   "source": [
    "sns.heatmap(df.isnull(),yticklabels=False,cbar=False,cmap='viridis')"
   ]
  },
  {
   "cell_type": "markdown",
   "id": "f39d0511",
   "metadata": {
    "papermill": {
     "duration": 0.014492,
     "end_time": "2023-12-01T10:02:48.378992",
     "exception": false,
     "start_time": "2023-12-01T10:02:48.364500",
     "status": "completed"
    },
    "tags": []
   },
   "source": [
    "# We are going to drop   Cabin Coloumn because we can not find more useful feature for our model.\n",
    "# We can transform Cabin into new feature like \"is Cabin is known or Unknown \"but we can't get more useful for our model because there  is lots of missing data."
   ]
  },
  {
   "cell_type": "code",
   "execution_count": 16,
   "id": "e7cb5f86",
   "metadata": {
    "execution": {
     "iopub.execute_input": "2023-12-01T10:02:48.410027Z",
     "iopub.status.busy": "2023-12-01T10:02:48.409669Z",
     "iopub.status.idle": "2023-12-01T10:02:48.415453Z",
     "shell.execute_reply": "2023-12-01T10:02:48.414452Z"
    },
    "papermill": {
     "duration": 0.024158,
     "end_time": "2023-12-01T10:02:48.417773",
     "exception": false,
     "start_time": "2023-12-01T10:02:48.393615",
     "status": "completed"
    },
    "tags": []
   },
   "outputs": [],
   "source": [
    "df.drop('Cabin',axis=1,inplace=True)"
   ]
  },
  {
   "cell_type": "code",
   "execution_count": 17,
   "id": "29b5f464",
   "metadata": {
    "execution": {
     "iopub.execute_input": "2023-12-01T10:02:48.448863Z",
     "iopub.status.busy": "2023-12-01T10:02:48.448417Z",
     "iopub.status.idle": "2023-12-01T10:02:48.623493Z",
     "shell.execute_reply": "2023-12-01T10:02:48.622296Z"
    },
    "papermill": {
     "duration": 0.193402,
     "end_time": "2023-12-01T10:02:48.625969",
     "exception": false,
     "start_time": "2023-12-01T10:02:48.432567",
     "status": "completed"
    },
    "tags": []
   },
   "outputs": [
    {
     "data": {
      "text/plain": [
       "<Axes: >"
      ]
     },
     "execution_count": 17,
     "metadata": {},
     "output_type": "execute_result"
    },
    {
     "data": {
      "image/png": "[encoded data removed]",
      "text/plain": [
       "<Figure size 640x480 with 1 Axes>"
      ]
     },
     "metadata": {},
     "output_type": "display_data"
    }
   ],
   "source": [
    "sns.heatmap(df.isnull(),yticklabels=False,cbar=False,cmap='viridis')"
   ]
  },
  {
   "cell_type": "code",
   "execution_count": 18,
   "id": "77fd7fbd",
   "metadata": {
    "execution": {
     "iopub.execute_input": "2023-12-01T10:02:48.657750Z",
     "iopub.status.busy": "2023-12-01T10:02:48.657351Z",
     "iopub.status.idle": "2023-12-01T10:02:48.666205Z",
     "shell.execute_reply": "2023-12-01T10:02:48.664244Z"
    },
    "papermill": {
     "duration": 0.027774,
     "end_time": "2023-12-01T10:02:48.668706",
     "exception": false,
     "start_time": "2023-12-01T10:02:48.640932",
     "status": "completed"
    },
    "tags": []
   },
   "outputs": [],
   "source": [
    "df.dropna(inplace=True)"
   ]
  },
  {
   "cell_type": "code",
   "execution_count": 19,
   "id": "92c6c141",
   "metadata": {
    "execution": {
     "iopub.execute_input": "2023-12-01T10:02:48.703496Z",
     "iopub.status.busy": "2023-12-01T10:02:48.703082Z",
     "iopub.status.idle": "2023-12-01T10:02:48.710394Z",
     "shell.execute_reply": "2023-12-01T10:02:48.708630Z"
    },
    "papermill": {
     "duration": 0.028043,
     "end_time": "2023-12-01T10:02:48.712659",
     "exception": false,
     "start_time": "2023-12-01T10:02:48.684616",
     "status": "completed"
    },
    "tags": []
   },
   "outputs": [],
   "source": [
    "sex=pd.get_dummies(df['Sex'],dtype=float, drop_first = True)"
   ]
  },
  {
   "cell_type": "code",
   "execution_count": 20,
   "id": "fed2e1f2",
   "metadata": {
    "execution": {
     "iopub.execute_input": "2023-12-01T10:02:48.745271Z",
     "iopub.status.busy": "2023-12-01T10:02:48.744532Z",
     "iopub.status.idle": "2023-12-01T10:02:48.750398Z",
     "shell.execute_reply": "2023-12-01T10:02:48.749230Z"
    },
    "papermill": {
     "duration": 0.024259,
     "end_time": "2023-12-01T10:02:48.752207",
     "exception": false,
     "start_time": "2023-12-01T10:02:48.727948",
     "status": "completed"
    },
    "tags": []
   },
   "outputs": [],
   "source": [
    "embark=pd.get_dummies(df['Embarked'],dtype=float, drop_first = True)"
   ]
  },
  {
   "cell_type": "code",
   "execution_count": 21,
   "id": "a311466c",
   "metadata": {
    "execution": {
     "iopub.execute_input": "2023-12-01T10:02:48.784959Z",
     "iopub.status.busy": "2023-12-01T10:02:48.783685Z",
     "iopub.status.idle": "2023-12-01T10:02:48.790981Z",
     "shell.execute_reply": "2023-12-01T10:02:48.789625Z"
    },
    "papermill": {
     "duration": 0.026132,
     "end_time": "2023-12-01T10:02:48.793427",
     "exception": false,
     "start_time": "2023-12-01T10:02:48.767295",
     "status": "completed"
    },
    "tags": []
   },
   "outputs": [],
   "source": [
    "df=pd.concat([df,sex,embark],axis=1)"
   ]
  },
  {
   "cell_type": "code",
   "execution_count": 22,
   "id": "e349416f",
   "metadata": {
    "execution": {
     "iopub.execute_input": "2023-12-01T10:02:48.827520Z",
     "iopub.status.busy": "2023-12-01T10:02:48.826215Z",
     "iopub.status.idle": "2023-12-01T10:02:48.833412Z",
     "shell.execute_reply": "2023-12-01T10:02:48.832303Z"
    },
    "papermill": {
     "duration": 0.026026,
     "end_time": "2023-12-01T10:02:48.835418",
     "exception": false,
     "start_time": "2023-12-01T10:02:48.809392",
     "status": "completed"
    },
    "tags": []
   },
   "outputs": [],
   "source": [
    "df.drop(['Sex','Embarked','Name','Ticket'],axis=1,inplace=True)"
   ]
  },
  {
   "cell_type": "code",
   "execution_count": 23,
   "id": "5b3009e4",
   "metadata": {
    "execution": {
     "iopub.execute_input": "2023-12-01T10:02:48.867540Z",
     "iopub.status.busy": "2023-12-01T10:02:48.866271Z",
     "iopub.status.idle": "2023-12-01T10:02:48.881289Z",
     "shell.execute_reply": "2023-12-01T10:02:48.880358Z"
    },
    "papermill": {
     "duration": 0.033528,
     "end_time": "2023-12-01T10:02:48.883957",
     "exception": false,
     "start_time": "2023-12-01T10:02:48.850429",
     "status": "completed"
    },
    "tags": []
   },
   "outputs": [
    {
     "data": {
      "text/html": [
       "<div>\n",
       "<style scoped>\n",
       "    .dataframe tbody tr th:only-of-type {\n",
       "        vertical-align: middle;\n",
       "    }\n",
       "\n",
       "    .dataframe tbody tr th {\n",
       "        vertical-align: top;\n",
       "    }\n",
       "\n",
       "    .dataframe thead th {\n",
       "        text-align: right;\n",
       "    }\n",
       "</style>\n",
       "<table border=\"1\" class=\"dataframe\">\n",
       "  <thead>\n",
       "    <tr style=\"text-align: right;\">\n",
       "      <th></th>\n",
       "      <th>PassengerId</th>\n",
       "      <th>Survived</th>\n",
       "      <th>Pclass</th>\n",
       "      <th>Age</th>\n",
       "      <th>SibSp</th>\n",
       "      <th>Parch</th>\n",
       "      <th>Fare</th>\n",
       "      <th>male</th>\n",
       "      <th>Q</th>\n",
       "      <th>S</th>\n",
       "    </tr>\n",
       "  </thead>\n",
       "  <tbody>\n",
       "    <tr>\n",
       "      <th>0</th>\n",
       "      <td>1</td>\n",
       "      <td>0</td>\n",
       "      <td>3</td>\n",
       "      <td>22.0</td>\n",
       "      <td>1</td>\n",
       "      <td>0</td>\n",
       "      <td>7.2500</td>\n",
       "      <td>1.0</td>\n",
       "      <td>0.0</td>\n",
       "      <td>1.0</td>\n",
       "    </tr>\n",
       "    <tr>\n",
       "      <th>1</th>\n",
       "      <td>2</td>\n",
       "      <td>1</td>\n",
       "      <td>1</td>\n",
       "      <td>38.0</td>\n",
       "      <td>1</td>\n",
       "      <td>0</td>\n",
       "      <td>71.2833</td>\n",
       "      <td>0.0</td>\n",
       "      <td>0.0</td>\n",
       "      <td>0.0</td>\n",
       "    </tr>\n",
       "    <tr>\n",
       "      <th>2</th>\n",
       "      <td>3</td>\n",
       "      <td>1</td>\n",
       "      <td>3</td>\n",
       "      <td>26.0</td>\n",
       "      <td>0</td>\n",
       "      <td>0</td>\n",
       "      <td>7.9250</td>\n",
       "      <td>0.0</td>\n",
       "      <td>0.0</td>\n",
       "      <td>1.0</td>\n",
       "    </tr>\n",
       "    <tr>\n",
       "      <th>3</th>\n",
       "      <td>4</td>\n",
       "      <td>1</td>\n",
       "      <td>1</td>\n",
       "      <td>35.0</td>\n",
       "      <td>1</td>\n",
       "      <td>0</td>\n",
       "      <td>53.1000</td>\n",
       "      <td>0.0</td>\n",
       "      <td>0.0</td>\n",
       "      <td>1.0</td>\n",
       "    </tr>\n",
       "    <tr>\n",
       "      <th>4</th>\n",
       "      <td>5</td>\n",
       "      <td>0</td>\n",
       "      <td>3</td>\n",
       "      <td>35.0</td>\n",
       "      <td>0</td>\n",
       "      <td>0</td>\n",
       "      <td>8.0500</td>\n",
       "      <td>1.0</td>\n",
       "      <td>0.0</td>\n",
       "      <td>1.0</td>\n",
       "    </tr>\n",
       "  </tbody>\n",
       "</table>\n",
       "</div>"
      ],
      "text/plain": [
       "   PassengerId  Survived  Pclass   Age  SibSp  Parch     Fare  male    Q    S\n",
       "0            1         0       3  22.0      1      0   7.2500   1.0  0.0  1.0\n",
       "1            2         1       1  38.0      1      0  71.2833   0.0  0.0  0.0\n",
       "2            3         1       3  26.0      0      0   7.9250   0.0  0.0  1.0\n",
       "3            4         1       1  35.0      1      0  53.1000   0.0  0.0  1.0\n",
       "4            5         0       3  35.0      0      0   8.0500   1.0  0.0  1.0"
      ]
     },
     "execution_count": 23,
     "metadata": {},
     "output_type": "execute_result"
    }
   ],
   "source": [
    "df.head()"
   ]
  },
  {
   "cell_type": "code",
   "execution_count": 24,
   "id": "cc772429",
   "metadata": {
    "execution": {
     "iopub.execute_input": "2023-12-01T10:02:48.917183Z",
     "iopub.status.busy": "2023-12-01T10:02:48.916305Z",
     "iopub.status.idle": "2023-12-01T10:02:48.923207Z",
     "shell.execute_reply": "2023-12-01T10:02:48.921809Z"
    },
    "papermill": {
     "duration": 0.026234,
     "end_time": "2023-12-01T10:02:48.926265",
     "exception": false,
     "start_time": "2023-12-01T10:02:48.900031",
     "status": "completed"
    },
    "tags": []
   },
   "outputs": [],
   "source": [
    "df.drop(['PassengerId'],axis=1,inplace=True)"
   ]
  },
  {
   "cell_type": "markdown",
   "id": "c207184a",
   "metadata": {
    "papermill": {
     "duration": 0.014928,
     "end_time": "2023-12-01T10:02:48.957090",
     "exception": false,
     "start_time": "2023-12-01T10:02:48.942162",
     "status": "completed"
    },
    "tags": []
   },
   "source": [
    "# WE can convert Pclass coloumn using get_dummies because it is also an catorigal coloumn"
   ]
  },
  {
   "cell_type": "code",
   "execution_count": 25,
   "id": "b8b0975f",
   "metadata": {
    "execution": {
     "iopub.execute_input": "2023-12-01T10:02:48.990227Z",
     "iopub.status.busy": "2023-12-01T10:02:48.988984Z",
     "iopub.status.idle": "2023-12-01T10:02:49.002713Z",
     "shell.execute_reply": "2023-12-01T10:02:49.001146Z"
    },
    "papermill": {
     "duration": 0.032792,
     "end_time": "2023-12-01T10:02:49.005193",
     "exception": false,
     "start_time": "2023-12-01T10:02:48.972401",
     "status": "completed"
    },
    "tags": []
   },
   "outputs": [],
   "source": [
    "df_test=pd.read_csv('/kaggle/input/titanic/test.csv')"
   ]
  },
  {
   "cell_type": "code",
   "execution_count": 26,
   "id": "793358db",
   "metadata": {
    "execution": {
     "iopub.execute_input": "2023-12-01T10:02:49.037584Z",
     "iopub.status.busy": "2023-12-01T10:02:49.036613Z",
     "iopub.status.idle": "2023-12-01T10:02:49.052681Z",
     "shell.execute_reply": "2023-12-01T10:02:49.050536Z"
    },
    "papermill": {
     "duration": 0.034928,
     "end_time": "2023-12-01T10:02:49.055208",
     "exception": false,
     "start_time": "2023-12-01T10:02:49.020280",
     "status": "completed"
    },
    "tags": []
   },
   "outputs": [
    {
     "data": {
      "text/html": [
       "<div>\n",
       "<style scoped>\n",
       "    .dataframe tbody tr th:only-of-type {\n",
       "        vertical-align: middle;\n",
       "    }\n",
       "\n",
       "    .dataframe tbody tr th {\n",
       "        vertical-align: top;\n",
       "    }\n",
       "\n",
       "    .dataframe thead th {\n",
       "        text-align: right;\n",
       "    }\n",
       "</style>\n",
       "<table border=\"1\" class=\"dataframe\">\n",
       "  <thead>\n",
       "    <tr style=\"text-align: right;\">\n",
       "      <th></th>\n",
       "      <th>PassengerId</th>\n",
       "      <th>Pclass</th>\n",
       "      <th>Name</th>\n",
       "      <th>Sex</th>\n",
       "      <th>Age</th>\n",
       "      <th>SibSp</th>\n",
       "      <th>Parch</th>\n",
       "      <th>Ticket</th>\n",
       "      <th>Fare</th>\n",
       "      <th>Cabin</th>\n",
       "      <th>Embarked</th>\n",
       "    </tr>\n",
       "  </thead>\n",
       "  <tbody>\n",
       "    <tr>\n",
       "      <th>0</th>\n",
       "      <td>892</td>\n",
       "      <td>3</td>\n",
       "      <td>Kelly, Mr. James</td>\n",
       "      <td>male</td>\n",
       "      <td>34.5</td>\n",
       "      <td>0</td>\n",
       "      <td>0</td>\n",
       "      <td>330911</td>\n",
       "      <td>7.8292</td>\n",
       "      <td>NaN</td>\n",
       "      <td>Q</td>\n",
       "    </tr>\n",
       "    <tr>\n",
       "      <th>1</th>\n",
       "      <td>893</td>\n",
       "      <td>3</td>\n",
       "      <td>Wilkes, Mrs. James (Ellen Needs)</td>\n",
       "      <td>female</td>\n",
       "      <td>47.0</td>\n",
       "      <td>1</td>\n",
       "      <td>0</td>\n",
       "      <td>363272</td>\n",
       "      <td>7.0000</td>\n",
       "      <td>NaN</td>\n",
       "      <td>S</td>\n",
       "    </tr>\n",
       "    <tr>\n",
       "      <th>2</th>\n",
       "      <td>894</td>\n",
       "      <td>2</td>\n",
       "      <td>Myles, Mr. Thomas Francis</td>\n",
       "      <td>male</td>\n",
       "      <td>62.0</td>\n",
       "      <td>0</td>\n",
       "      <td>0</td>\n",
       "      <td>240276</td>\n",
       "      <td>9.6875</td>\n",
       "      <td>NaN</td>\n",
       "      <td>Q</td>\n",
       "    </tr>\n",
       "    <tr>\n",
       "      <th>3</th>\n",
       "      <td>895</td>\n",
       "      <td>3</td>\n",
       "      <td>Wirz, Mr. Albert</td>\n",
       "      <td>male</td>\n",
       "      <td>27.0</td>\n",
       "      <td>0</td>\n",
       "      <td>0</td>\n",
       "      <td>315154</td>\n",
       "      <td>8.6625</td>\n",
       "      <td>NaN</td>\n",
       "      <td>S</td>\n",
       "    </tr>\n",
       "    <tr>\n",
       "      <th>4</th>\n",
       "      <td>896</td>\n",
       "      <td>3</td>\n",
       "      <td>Hirvonen, Mrs. Alexander (Helga E Lindqvist)</td>\n",
       "      <td>female</td>\n",
       "      <td>22.0</td>\n",
       "      <td>1</td>\n",
       "      <td>1</td>\n",
       "      <td>3101298</td>\n",
       "      <td>12.2875</td>\n",
       "      <td>NaN</td>\n",
       "      <td>S</td>\n",
       "    </tr>\n",
       "  </tbody>\n",
       "</table>\n",
       "</div>"
      ],
      "text/plain": [
       "   PassengerId  Pclass                                          Name     Sex  \\\n",
       "0          892       3                              Kelly, Mr. James    male   \n",
       "1          893       3              Wilkes, Mrs. James (Ellen Needs)  female   \n",
       "2          894       2                     Myles, Mr. Thomas Francis    male   \n",
       "3          895       3                              Wirz, Mr. Albert    male   \n",
       "4          896       3  Hirvonen, Mrs. Alexander (Helga E Lindqvist)  female   \n",
       "\n",
       "    Age  SibSp  Parch   Ticket     Fare Cabin Embarked  \n",
       "0  34.5      0      0   330911   7.8292   NaN        Q  \n",
       "1  47.0      1      0   363272   7.0000   NaN        S  \n",
       "2  62.0      0      0   240276   9.6875   NaN        Q  \n",
       "3  27.0      0      0   315154   8.6625   NaN        S  \n",
       "4  22.0      1      1  3101298  12.2875   NaN        S  "
      ]
     },
     "execution_count": 26,
     "metadata": {},
     "output_type": "execute_result"
    }
   ],
   "source": [
    "df_test.head()"
   ]
  },
  {
   "cell_type": "code",
   "execution_count": 27,
   "id": "fc695095",
   "metadata": {
    "execution": {
     "iopub.execute_input": "2023-12-01T10:02:49.088767Z",
     "iopub.status.busy": "2023-12-01T10:02:49.087757Z",
     "iopub.status.idle": "2023-12-01T10:02:49.260116Z",
     "shell.execute_reply": "2023-12-01T10:02:49.258838Z"
    },
    "papermill": {
     "duration": 0.191863,
     "end_time": "2023-12-01T10:02:49.262657",
     "exception": false,
     "start_time": "2023-12-01T10:02:49.070794",
     "status": "completed"
    },
    "tags": []
   },
   "outputs": [
    {
     "data": {
      "text/plain": [
       "<Axes: >"
      ]
     },
     "execution_count": 27,
     "metadata": {},
     "output_type": "execute_result"
    },
    {
     "data": {
      "image/png": "[encoded data removed]",
      "text/plain": [
       "<Figure size 640x480 with 1 Axes>"
      ]
     },
     "metadata": {},
     "output_type": "display_data"
    }
   ],
   "source": [
    "sns.heatmap(df_test.isnull(),yticklabels=False,cbar=False,cmap='viridis')"
   ]
  },
  {
   "cell_type": "code",
   "execution_count": 28,
   "id": "538599bf",
   "metadata": {
    "execution": {
     "iopub.execute_input": "2023-12-01T10:02:49.296073Z",
     "iopub.status.busy": "2023-12-01T10:02:49.295716Z",
     "iopub.status.idle": "2023-12-01T10:02:49.308385Z",
     "shell.execute_reply": "2023-12-01T10:02:49.306703Z"
    },
    "papermill": {
     "duration": 0.032313,
     "end_time": "2023-12-01T10:02:49.310517",
     "exception": false,
     "start_time": "2023-12-01T10:02:49.278204",
     "status": "completed"
    },
    "tags": []
   },
   "outputs": [
    {
     "name": "stdout",
     "output_type": "stream",
     "text": [
      "<class 'pandas.core.frame.DataFrame'>\n",
      "RangeIndex: 418 entries, 0 to 417\n",
      "Data columns (total 11 columns):\n",
      " #   Column       Non-Null Count  Dtype  \n",
      "---  ------       --------------  -----  \n",
      " 0   PassengerId  418 non-null    int64  \n",
      " 1   Pclass       418 non-null    int64  \n",
      " 2   Name         418 non-null    object \n",
      " 3   Sex          418 non-null    object \n",
      " 4   Age          332 non-null    float64\n",
      " 5   SibSp        418 non-null    int64  \n",
      " 6   Parch        418 non-null    int64  \n",
      " 7   Ticket       418 non-null    object \n",
      " 8   Fare         417 non-null    float64\n",
      " 9   Cabin        91 non-null     object \n",
      " 10  Embarked     418 non-null    object \n",
      "dtypes: float64(2), int64(4), object(5)\n",
      "memory usage: 36.0+ KB\n"
     ]
    }
   ],
   "source": [
    "df_test.info()"
   ]
  },
  {
   "cell_type": "code",
   "execution_count": 29,
   "id": "ce3032a1",
   "metadata": {
    "execution": {
     "iopub.execute_input": "2023-12-01T10:02:49.345633Z",
     "iopub.status.busy": "2023-12-01T10:02:49.344322Z",
     "iopub.status.idle": "2023-12-01T10:02:49.532214Z",
     "shell.execute_reply": "2023-12-01T10:02:49.531489Z"
    },
    "papermill": {
     "duration": 0.208604,
     "end_time": "2023-12-01T10:02:49.535180",
     "exception": false,
     "start_time": "2023-12-01T10:02:49.326576",
     "status": "completed"
    },
    "tags": []
   },
   "outputs": [
    {
     "data": {
      "text/plain": [
       "<Axes: xlabel='Pclass', ylabel='Age'>"
      ]
     },
     "execution_count": 29,
     "metadata": {},
     "output_type": "execute_result"
    },
    {
     "data": {
      "image/png": "[encoded data removed]",
      "text/plain": [
       "<Figure size 640x480 with 1 Axes>"
      ]
     },
     "metadata": {},
     "output_type": "display_data"
    }
   ],
   "source": [
    "sns.boxplot(data=df_test,x='Pclass',y='Age')"
   ]
  },
  {
   "cell_type": "code",
   "execution_count": 30,
   "id": "8ffe00ea",
   "metadata": {
    "execution": {
     "iopub.execute_input": "2023-12-01T10:02:49.571796Z",
     "iopub.status.busy": "2023-12-01T10:02:49.571125Z",
     "iopub.status.idle": "2023-12-01T10:02:49.576853Z",
     "shell.execute_reply": "2023-12-01T10:02:49.575818Z"
    },
    "papermill": {
     "duration": 0.027377,
     "end_time": "2023-12-01T10:02:49.578970",
     "exception": false,
     "start_time": "2023-12-01T10:02:49.551593",
     "status": "completed"
    },
    "tags": []
   },
   "outputs": [],
   "source": [
    "def impute_test_age(cols):\n",
    "    Age=cols[0]\n",
    "    Pclass=cols[1]\n",
    "    \n",
    "    if pd.isnull(Age):\n",
    "        if Pclass == 1:\n",
    "            return 42\n",
    "        elif Pclass== 2:\n",
    "            return 28\n",
    "        else:\n",
    "            return 25\n",
    "    else:\n",
    "        return Age"
   ]
  },
  {
   "cell_type": "code",
   "execution_count": 31,
   "id": "118a9502",
   "metadata": {
    "execution": {
     "iopub.execute_input": "2023-12-01T10:02:49.612787Z",
     "iopub.status.busy": "2023-12-01T10:02:49.612436Z",
     "iopub.status.idle": "2023-12-01T10:02:49.623464Z",
     "shell.execute_reply": "2023-12-01T10:02:49.622021Z"
    },
    "papermill": {
     "duration": 0.030691,
     "end_time": "2023-12-01T10:02:49.625845",
     "exception": false,
     "start_time": "2023-12-01T10:02:49.595154",
     "status": "completed"
    },
    "tags": []
   },
   "outputs": [],
   "source": [
    "df_test['Age']=df_test[['Age','Pclass']].apply(impute_test_age,axis=1)"
   ]
  },
  {
   "cell_type": "code",
   "execution_count": 32,
   "id": "e060c7b6",
   "metadata": {
    "execution": {
     "iopub.execute_input": "2023-12-01T10:02:49.659033Z",
     "iopub.status.busy": "2023-12-01T10:02:49.658141Z",
     "iopub.status.idle": "2023-12-01T10:02:49.822831Z",
     "shell.execute_reply": "2023-12-01T10:02:49.821279Z"
    },
    "papermill": {
     "duration": 0.184051,
     "end_time": "2023-12-01T10:02:49.825561",
     "exception": false,
     "start_time": "2023-12-01T10:02:49.641510",
     "status": "completed"
    },
    "tags": []
   },
   "outputs": [
    {
     "data": {
      "text/plain": [
       "<Axes: >"
      ]
     },
     "execution_count": 32,
     "metadata": {},
     "output_type": "execute_result"
    },
    {
     "data": {
      "image/png": "[encoded data removed]",
      "text/plain": [
       "<Figure size 640x480 with 1 Axes>"
      ]
     },
     "metadata": {},
     "output_type": "display_data"
    }
   ],
   "source": [
    "sns.heatmap(df_test.isnull(),yticklabels=False,cbar=False,cmap='viridis')"
   ]
  },
  {
   "cell_type": "code",
   "execution_count": 33,
   "id": "9918a92b",
   "metadata": {
    "execution": {
     "iopub.execute_input": "2023-12-01T10:02:49.859413Z",
     "iopub.status.busy": "2023-12-01T10:02:49.859014Z",
     "iopub.status.idle": "2023-12-01T10:02:49.865539Z",
     "shell.execute_reply": "2023-12-01T10:02:49.864395Z"
    },
    "papermill": {
     "duration": 0.025533,
     "end_time": "2023-12-01T10:02:49.867443",
     "exception": false,
     "start_time": "2023-12-01T10:02:49.841910",
     "status": "completed"
    },
    "tags": []
   },
   "outputs": [],
   "source": [
    "df_test.drop('Cabin',inplace=True,axis=1)"
   ]
  },
  {
   "cell_type": "code",
   "execution_count": 34,
   "id": "2ba1d13a",
   "metadata": {
    "execution": {
     "iopub.execute_input": "2023-12-01T10:02:49.900643Z",
     "iopub.status.busy": "2023-12-01T10:02:49.900298Z",
     "iopub.status.idle": "2023-12-01T10:02:49.907439Z",
     "shell.execute_reply": "2023-12-01T10:02:49.906047Z"
    },
    "papermill": {
     "duration": 0.026315,
     "end_time": "2023-12-01T10:02:49.909592",
     "exception": false,
     "start_time": "2023-12-01T10:02:49.883277",
     "status": "completed"
    },
    "tags": []
   },
   "outputs": [],
   "source": [
    "mean_fare=df_test[['Fare']].mean()"
   ]
  },
  {
   "cell_type": "code",
   "execution_count": 35,
   "id": "a5401e7d",
   "metadata": {
    "execution": {
     "iopub.execute_input": "2023-12-01T10:02:49.943510Z",
     "iopub.status.busy": "2023-12-01T10:02:49.942955Z",
     "iopub.status.idle": "2023-12-01T10:02:49.949475Z",
     "shell.execute_reply": "2023-12-01T10:02:49.948798Z"
    },
    "papermill": {
     "duration": 0.025459,
     "end_time": "2023-12-01T10:02:49.951699",
     "exception": false,
     "start_time": "2023-12-01T10:02:49.926240",
     "status": "completed"
    },
    "tags": []
   },
   "outputs": [
    {
     "data": {
      "text/plain": [
       "Fare    35.627188\n",
       "dtype: float64"
      ]
     },
     "execution_count": 35,
     "metadata": {},
     "output_type": "execute_result"
    }
   ],
   "source": [
    "mean_fare"
   ]
  },
  {
   "cell_type": "code",
   "execution_count": 36,
   "id": "e8f5934e",
   "metadata": {
    "execution": {
     "iopub.execute_input": "2023-12-01T10:02:49.987116Z",
     "iopub.status.busy": "2023-12-01T10:02:49.986169Z",
     "iopub.status.idle": "2023-12-01T10:02:49.991577Z",
     "shell.execute_reply": "2023-12-01T10:02:49.990457Z"
    },
    "papermill": {
     "duration": 0.025566,
     "end_time": "2023-12-01T10:02:49.994033",
     "exception": false,
     "start_time": "2023-12-01T10:02:49.968467",
     "status": "completed"
    },
    "tags": []
   },
   "outputs": [],
   "source": [
    "df_test.fillna(mean_fare,inplace=True)"
   ]
  },
  {
   "cell_type": "code",
   "execution_count": 37,
   "id": "fec44683",
   "metadata": {
    "execution": {
     "iopub.execute_input": "2023-12-01T10:02:50.029155Z",
     "iopub.status.busy": "2023-12-01T10:02:50.028760Z",
     "iopub.status.idle": "2023-12-01T10:02:50.035331Z",
     "shell.execute_reply": "2023-12-01T10:02:50.034027Z"
    },
    "papermill": {
     "duration": 0.02784,
     "end_time": "2023-12-01T10:02:50.038146",
     "exception": false,
     "start_time": "2023-12-01T10:02:50.010306",
     "status": "completed"
    },
    "tags": []
   },
   "outputs": [],
   "source": [
    "sex_test=pd.get_dummies(df_test['Sex'],dtype=float, drop_first = True)"
   ]
  },
  {
   "cell_type": "code",
   "execution_count": 38,
   "id": "d0091892",
   "metadata": {
    "execution": {
     "iopub.execute_input": "2023-12-01T10:02:50.071991Z",
     "iopub.status.busy": "2023-12-01T10:02:50.071614Z",
     "iopub.status.idle": "2023-12-01T10:02:50.078325Z",
     "shell.execute_reply": "2023-12-01T10:02:50.077466Z"
    },
    "papermill": {
     "duration": 0.025477,
     "end_time": "2023-12-01T10:02:50.080070",
     "exception": false,
     "start_time": "2023-12-01T10:02:50.054593",
     "status": "completed"
    },
    "tags": []
   },
   "outputs": [],
   "source": [
    "embark_test=pd.get_dummies(df_test['Embarked'],dtype=float, drop_first = True)"
   ]
  },
  {
   "cell_type": "code",
   "execution_count": 39,
   "id": "11cec32d",
   "metadata": {
    "execution": {
     "iopub.execute_input": "2023-12-01T10:02:50.113384Z",
     "iopub.status.busy": "2023-12-01T10:02:50.113042Z",
     "iopub.status.idle": "2023-12-01T10:02:50.119458Z",
     "shell.execute_reply": "2023-12-01T10:02:50.118092Z"
    },
    "papermill": {
     "duration": 0.025972,
     "end_time": "2023-12-01T10:02:50.122110",
     "exception": false,
     "start_time": "2023-12-01T10:02:50.096138",
     "status": "completed"
    },
    "tags": []
   },
   "outputs": [],
   "source": [
    "df_test=pd.concat([df_test,sex_test,embark_test],axis=1)"
   ]
  },
  {
   "cell_type": "code",
   "execution_count": 40,
   "id": "4914993f",
   "metadata": {
    "execution": {
     "iopub.execute_input": "2023-12-01T10:02:50.156112Z",
     "iopub.status.busy": "2023-12-01T10:02:50.155776Z",
     "iopub.status.idle": "2023-12-01T10:02:50.171967Z",
     "shell.execute_reply": "2023-12-01T10:02:50.171002Z"
    },
    "papermill": {
     "duration": 0.035509,
     "end_time": "2023-12-01T10:02:50.173856",
     "exception": false,
     "start_time": "2023-12-01T10:02:50.138347",
     "status": "completed"
    },
    "tags": []
   },
   "outputs": [
    {
     "data": {
      "text/html": [
       "<div>\n",
       "<style scoped>\n",
       "    .dataframe tbody tr th:only-of-type {\n",
       "        vertical-align: middle;\n",
       "    }\n",
       "\n",
       "    .dataframe tbody tr th {\n",
       "        vertical-align: top;\n",
       "    }\n",
       "\n",
       "    .dataframe thead th {\n",
       "        text-align: right;\n",
       "    }\n",
       "</style>\n",
       "<table border=\"1\" class=\"dataframe\">\n",
       "  <thead>\n",
       "    <tr style=\"text-align: right;\">\n",
       "      <th></th>\n",
       "      <th>PassengerId</th>\n",
       "      <th>Pclass</th>\n",
       "      <th>Name</th>\n",
       "      <th>Sex</th>\n",
       "      <th>Age</th>\n",
       "      <th>SibSp</th>\n",
       "      <th>Parch</th>\n",
       "      <th>Ticket</th>\n",
       "      <th>Fare</th>\n",
       "      <th>Embarked</th>\n",
       "      <th>male</th>\n",
       "      <th>Q</th>\n",
       "      <th>S</th>\n",
       "    </tr>\n",
       "  </thead>\n",
       "  <tbody>\n",
       "    <tr>\n",
       "      <th>0</th>\n",
       "      <td>892</td>\n",
       "      <td>3</td>\n",
       "      <td>Kelly, Mr. James</td>\n",
       "      <td>male</td>\n",
       "      <td>34.5</td>\n",
       "      <td>0</td>\n",
       "      <td>0</td>\n",
       "      <td>330911</td>\n",
       "      <td>7.8292</td>\n",
       "      <td>Q</td>\n",
       "      <td>1.0</td>\n",
       "      <td>1.0</td>\n",
       "      <td>0.0</td>\n",
       "    </tr>\n",
       "    <tr>\n",
       "      <th>1</th>\n",
       "      <td>893</td>\n",
       "      <td>3</td>\n",
       "      <td>Wilkes, Mrs. James (Ellen Needs)</td>\n",
       "      <td>female</td>\n",
       "      <td>47.0</td>\n",
       "      <td>1</td>\n",
       "      <td>0</td>\n",
       "      <td>363272</td>\n",
       "      <td>7.0000</td>\n",
       "      <td>S</td>\n",
       "      <td>0.0</td>\n",
       "      <td>0.0</td>\n",
       "      <td>1.0</td>\n",
       "    </tr>\n",
       "    <tr>\n",
       "      <th>2</th>\n",
       "      <td>894</td>\n",
       "      <td>2</td>\n",
       "      <td>Myles, Mr. Thomas Francis</td>\n",
       "      <td>male</td>\n",
       "      <td>62.0</td>\n",
       "      <td>0</td>\n",
       "      <td>0</td>\n",
       "      <td>240276</td>\n",
       "      <td>9.6875</td>\n",
       "      <td>Q</td>\n",
       "      <td>1.0</td>\n",
       "      <td>1.0</td>\n",
       "      <td>0.0</td>\n",
       "    </tr>\n",
       "    <tr>\n",
       "      <th>3</th>\n",
       "      <td>895</td>\n",
       "      <td>3</td>\n",
       "      <td>Wirz, Mr. Albert</td>\n",
       "      <td>male</td>\n",
       "      <td>27.0</td>\n",
       "      <td>0</td>\n",
       "      <td>0</td>\n",
       "      <td>315154</td>\n",
       "      <td>8.6625</td>\n",
       "      <td>S</td>\n",
       "      <td>1.0</td>\n",
       "      <td>0.0</td>\n",
       "      <td>1.0</td>\n",
       "    </tr>\n",
       "    <tr>\n",
       "      <th>4</th>\n",
       "      <td>896</td>\n",
       "      <td>3</td>\n",
       "      <td>Hirvonen, Mrs. Alexander (Helga E Lindqvist)</td>\n",
       "      <td>female</td>\n",
       "      <td>22.0</td>\n",
       "      <td>1</td>\n",
       "      <td>1</td>\n",
       "      <td>3101298</td>\n",
       "      <td>12.2875</td>\n",
       "      <td>S</td>\n",
       "      <td>0.0</td>\n",
       "      <td>0.0</td>\n",
       "      <td>1.0</td>\n",
       "    </tr>\n",
       "  </tbody>\n",
       "</table>\n",
       "</div>"
      ],
      "text/plain": [
       "   PassengerId  Pclass                                          Name     Sex  \\\n",
       "0          892       3                              Kelly, Mr. James    male   \n",
       "1          893       3              Wilkes, Mrs. James (Ellen Needs)  female   \n",
       "2          894       2                     Myles, Mr. Thomas Francis    male   \n",
       "3          895       3                              Wirz, Mr. Albert    male   \n",
       "4          896       3  Hirvonen, Mrs. Alexander (Helga E Lindqvist)  female   \n",
       "\n",
       "    Age  SibSp  Parch   Ticket     Fare Embarked  male    Q    S  \n",
       "0  34.5      0      0   330911   7.8292        Q   1.0  1.0  0.0  \n",
       "1  47.0      1      0   363272   7.0000        S   0.0  0.0  1.0  \n",
       "2  62.0      0      0   240276   9.6875        Q   1.0  1.0  0.0  \n",
       "3  27.0      0      0   315154   8.6625        S   1.0  0.0  1.0  \n",
       "4  22.0      1      1  3101298  12.2875        S   0.0  0.0  1.0  "
      ]
     },
     "execution_count": 40,
     "metadata": {},
     "output_type": "execute_result"
    }
   ],
   "source": [
    "df_test.head()"
   ]
  },
  {
   "cell_type": "code",
   "execution_count": 41,
   "id": "40ac5201",
   "metadata": {
    "execution": {
     "iopub.execute_input": "2023-12-01T10:02:50.209276Z",
     "iopub.status.busy": "2023-12-01T10:02:50.208918Z",
     "iopub.status.idle": "2023-12-01T10:02:50.213169Z",
     "shell.execute_reply": "2023-12-01T10:02:50.212230Z"
    },
    "papermill": {
     "duration": 0.024587,
     "end_time": "2023-12-01T10:02:50.215134",
     "exception": false,
     "start_time": "2023-12-01T10:02:50.190547",
     "status": "completed"
    },
    "tags": []
   },
   "outputs": [],
   "source": [
    "test_id=df_test['PassengerId']"
   ]
  },
  {
   "cell_type": "code",
   "execution_count": 42,
   "id": "854ae4b4",
   "metadata": {
    "execution": {
     "iopub.execute_input": "2023-12-01T10:02:50.251150Z",
     "iopub.status.busy": "2023-12-01T10:02:50.250695Z",
     "iopub.status.idle": "2023-12-01T10:02:50.257382Z",
     "shell.execute_reply": "2023-12-01T10:02:50.256297Z"
    },
    "papermill": {
     "duration": 0.027365,
     "end_time": "2023-12-01T10:02:50.259696",
     "exception": false,
     "start_time": "2023-12-01T10:02:50.232331",
     "status": "completed"
    },
    "tags": []
   },
   "outputs": [],
   "source": [
    "df_test.drop(['Sex','Embarked','Name','Ticket','PassengerId'],axis=1,inplace=True)"
   ]
  },
  {
   "cell_type": "code",
   "execution_count": 43,
   "id": "e102cb06",
   "metadata": {
    "execution": {
     "iopub.execute_input": "2023-12-01T10:02:50.296537Z",
     "iopub.status.busy": "2023-12-01T10:02:50.296160Z",
     "iopub.status.idle": "2023-12-01T10:02:50.312011Z",
     "shell.execute_reply": "2023-12-01T10:02:50.310987Z"
    },
    "papermill": {
     "duration": 0.03721,
     "end_time": "2023-12-01T10:02:50.314028",
     "exception": false,
     "start_time": "2023-12-01T10:02:50.276818",
     "status": "completed"
    },
    "tags": []
   },
   "outputs": [
    {
     "data": {
      "text/html": [
       "<div>\n",
       "<style scoped>\n",
       "    .dataframe tbody tr th:only-of-type {\n",
       "        vertical-align: middle;\n",
       "    }\n",
       "\n",
       "    .dataframe tbody tr th {\n",
       "        vertical-align: top;\n",
       "    }\n",
       "\n",
       "    .dataframe thead th {\n",
       "        text-align: right;\n",
       "    }\n",
       "</style>\n",
       "<table border=\"1\" class=\"dataframe\">\n",
       "  <thead>\n",
       "    <tr style=\"text-align: right;\">\n",
       "      <th></th>\n",
       "      <th>Pclass</th>\n",
       "      <th>Age</th>\n",
       "      <th>SibSp</th>\n",
       "      <th>Parch</th>\n",
       "      <th>Fare</th>\n",
       "      <th>male</th>\n",
       "      <th>Q</th>\n",
       "      <th>S</th>\n",
       "    </tr>\n",
       "  </thead>\n",
       "  <tbody>\n",
       "    <tr>\n",
       "      <th>0</th>\n",
       "      <td>3</td>\n",
       "      <td>34.5</td>\n",
       "      <td>0</td>\n",
       "      <td>0</td>\n",
       "      <td>7.8292</td>\n",
       "      <td>1.0</td>\n",
       "      <td>1.0</td>\n",
       "      <td>0.0</td>\n",
       "    </tr>\n",
       "    <tr>\n",
       "      <th>1</th>\n",
       "      <td>3</td>\n",
       "      <td>47.0</td>\n",
       "      <td>1</td>\n",
       "      <td>0</td>\n",
       "      <td>7.0000</td>\n",
       "      <td>0.0</td>\n",
       "      <td>0.0</td>\n",
       "      <td>1.0</td>\n",
       "    </tr>\n",
       "    <tr>\n",
       "      <th>2</th>\n",
       "      <td>2</td>\n",
       "      <td>62.0</td>\n",
       "      <td>0</td>\n",
       "      <td>0</td>\n",
       "      <td>9.6875</td>\n",
       "      <td>1.0</td>\n",
       "      <td>1.0</td>\n",
       "      <td>0.0</td>\n",
       "    </tr>\n",
       "    <tr>\n",
       "      <th>3</th>\n",
       "      <td>3</td>\n",
       "      <td>27.0</td>\n",
       "      <td>0</td>\n",
       "      <td>0</td>\n",
       "      <td>8.6625</td>\n",
       "      <td>1.0</td>\n",
       "      <td>0.0</td>\n",
       "      <td>1.0</td>\n",
       "    </tr>\n",
       "    <tr>\n",
       "      <th>4</th>\n",
       "      <td>3</td>\n",
       "      <td>22.0</td>\n",
       "      <td>1</td>\n",
       "      <td>1</td>\n",
       "      <td>12.2875</td>\n",
       "      <td>0.0</td>\n",
       "      <td>0.0</td>\n",
       "      <td>1.0</td>\n",
       "    </tr>\n",
       "  </tbody>\n",
       "</table>\n",
       "</div>"
      ],
      "text/plain": [
       "   Pclass   Age  SibSp  Parch     Fare  male    Q    S\n",
       "0       3  34.5      0      0   7.8292   1.0  1.0  0.0\n",
       "1       3  47.0      1      0   7.0000   0.0  0.0  1.0\n",
       "2       2  62.0      0      0   9.6875   1.0  1.0  0.0\n",
       "3       3  27.0      0      0   8.6625   1.0  0.0  1.0\n",
       "4       3  22.0      1      1  12.2875   0.0  0.0  1.0"
      ]
     },
     "execution_count": 43,
     "metadata": {},
     "output_type": "execute_result"
    }
   ],
   "source": [
    "df_test.head()"
   ]
  },
  {
   "cell_type": "code",
   "execution_count": 44,
   "id": "b8749d4f",
   "metadata": {
    "execution": {
     "iopub.execute_input": "2023-12-01T10:02:50.349610Z",
     "iopub.status.busy": "2023-12-01T10:02:50.349279Z",
     "iopub.status.idle": "2023-12-01T10:02:50.355185Z",
     "shell.execute_reply": "2023-12-01T10:02:50.354246Z"
    },
    "papermill": {
     "duration": 0.026162,
     "end_time": "2023-12-01T10:02:50.357632",
     "exception": false,
     "start_time": "2023-12-01T10:02:50.331470",
     "status": "completed"
    },
    "tags": []
   },
   "outputs": [],
   "source": [
    "X=df.drop('Survived',axis=1)\n",
    "y=df['Survived']"
   ]
  },
  {
   "cell_type": "code",
   "execution_count": 45,
   "id": "830d4a00",
   "metadata": {
    "execution": {
     "iopub.execute_input": "2023-12-01T10:02:50.395019Z",
     "iopub.status.busy": "2023-12-01T10:02:50.394677Z",
     "iopub.status.idle": "2023-12-01T10:02:50.961299Z",
     "shell.execute_reply": "2023-12-01T10:02:50.960464Z"
    },
    "papermill": {
     "duration": 0.588396,
     "end_time": "2023-12-01T10:02:50.963820",
     "exception": false,
     "start_time": "2023-12-01T10:02:50.375424",
     "status": "completed"
    },
    "tags": []
   },
   "outputs": [],
   "source": [
    "from sklearn.linear_model import LogisticRegression"
   ]
  },
  {
   "cell_type": "code",
   "execution_count": 46,
   "id": "1d189129",
   "metadata": {
    "execution": {
     "iopub.execute_input": "2023-12-01T10:02:50.999820Z",
     "iopub.status.busy": "2023-12-01T10:02:50.999207Z",
     "iopub.status.idle": "2023-12-01T10:02:51.003367Z",
     "shell.execute_reply": "2023-12-01T10:02:51.002483Z"
    },
    "papermill": {
     "duration": 0.024165,
     "end_time": "2023-12-01T10:02:51.005064",
     "exception": false,
     "start_time": "2023-12-01T10:02:50.980899",
     "status": "completed"
    },
    "tags": []
   },
   "outputs": [],
   "source": [
    "logmodel=LogisticRegression(max_iter=1000,random_state=0)"
   ]
  },
  {
   "cell_type": "code",
   "execution_count": 47,
   "id": "89958492",
   "metadata": {
    "execution": {
     "iopub.execute_input": "2023-12-01T10:02:51.040287Z",
     "iopub.status.busy": "2023-12-01T10:02:51.039691Z",
     "iopub.status.idle": "2023-12-01T10:02:51.087444Z",
     "shell.execute_reply": "2023-12-01T10:02:51.086472Z"
    },
    "papermill": {
     "duration": 0.068589,
     "end_time": "2023-12-01T10:02:51.090027",
     "exception": false,
     "start_time": "2023-12-01T10:02:51.021438",
     "status": "completed"
    },
    "tags": []
   },
   "outputs": [
    {
     "data": {
      "text/html": [
       "<style>#sk-container-id-1 {color: black;background-color: white;}#sk-container-id-1 pre{padding: 0;}#sk-container-id-1 div.sk-toggleable {background-color: white;}#sk-container-id-1 label.sk-toggleable__label {cursor: pointer;display: block;width: 100%;margin-bottom: 0;padding: 0.3em;box-sizing: border-box;text-align: center;}#sk-container-id-1 label.sk-toggleable__label-arrow:before {content: \"▸\";float: left;margin-right: 0.25em;color: #696969;}#sk-container-id-1 label.sk-toggleable__label-arrow:hover:before {color: black;}#sk-container-id-1 div.sk-estimator:hover label.sk-toggleable__label-arrow:before {color: black;}#sk-container-id-1 div.sk-toggleable__content {max-height: 0;max-width: 0;overflow: hidden;text-align: left;background-color: #f0f8ff;}#sk-container-id-1 div.sk-toggleable__content pre {margin: 0.2em;color: black;border-radius: 0.25em;background-color: #f0f8ff;}#sk-container-id-1 input.sk-toggleable__control:checked~div.sk-toggleable__content {max-height: 200px;max-width: 100%;overflow: auto;}#sk-container-id-1 input.sk-toggleable__control:checked~label.sk-toggleable__label-arrow:before {content: \"▾\";}#sk-container-id-1 div.sk-estimator input.sk-toggleable__control:checked~label.sk-toggleable__label {background-color: #d4ebff;}#sk-container-id-1 div.sk-label input.sk-toggleable__control:checked~label.sk-toggleable__label {background-color: #d4ebff;}#sk-container-id-1 input.sk-hidden--visually {border: 0;clip: rect(1px 1px 1px 1px);clip: rect(1px, 1px, 1px, 1px);height: 1px;margin: -1px;overflow: hidden;padding: 0;position: absolute;width: 1px;}#sk-container-id-1 div.sk-estimator {font-family: monospace;background-color: #f0f8ff;border: 1px dotted black;border-radius: 0.25em;box-sizing: border-box;margin-bottom: 0.5em;}#sk-container-id-1 div.sk-estimator:hover {background-color: #d4ebff;}#sk-container-id-1 div.sk-parallel-item::after {content: \"\";width: 100%;border-bottom: 1px solid gray;flex-grow: 1;}#sk-container-id-1 div.sk-label:hover label.sk-toggleable__label {background-color: #d4ebff;}#sk-container-id-1 div.sk-serial::before {content: \"\";position: absolute;border-left: 1px solid gray;box-sizing: border-box;top: 0;bottom: 0;left: 50%;z-index: 0;}#sk-container-id-1 div.sk-serial {display: flex;flex-direction: column;align-items: center;background-color: white;padding-right: 0.2em;padding-left: 0.2em;position: relative;}#sk-container-id-1 div.sk-item {position: relative;z-index: 1;}#sk-container-id-1 div.sk-parallel {display: flex;align-items: stretch;justify-content: center;background-color: white;position: relative;}#sk-container-id-1 div.sk-item::before, #sk-container-id-1 div.sk-parallel-item::before {content: \"\";position: absolute;border-left: 1px solid gray;box-sizing: border-box;top: 0;bottom: 0;left: 50%;z-index: -1;}#sk-container-id-1 div.sk-parallel-item {display: flex;flex-direction: column;z-index: 1;position: relative;background-color: white;}#sk-container-id-1 div.sk-parallel-item:first-child::after {align-self: flex-end;width: 50%;}#sk-container-id-1 div.sk-parallel-item:last-child::after {align-self: flex-start;width: 50%;}#sk-container-id-1 div.sk-parallel-item:only-child::after {width: 0;}#sk-container-id-1 div.sk-dashed-wrapped {border: 1px dashed gray;margin: 0 0.4em 0.5em 0.4em;box-sizing: border-box;padding-bottom: 0.4em;background-color: white;}#sk-container-id-1 div.sk-label label {font-family: monospace;font-weight: bold;display: inline-block;line-height: 1.2em;}#sk-container-id-1 div.sk-label-container {text-align: center;}#sk-container-id-1 div.sk-container {/* jupyter's `normalize.less` sets `[hidden] { display: none; }` but bootstrap.min.css set `[hidden] { display: none !important; }` so we also need the `!important` here to be able to override the default hidden behavior on the sphinx rendered scikit-learn.org. See: https://github.com/scikit-learn/scikit-learn/issues/21755 */display: inline-block !important;position: relative;}#sk-container-id-1 div.sk-text-repr-fallback {display: none;}</style><div id=\"sk-container-id-1\" class=\"sk-top-container\"><div class=\"sk-text-repr-fallback\"><pre>LogisticRegression(max_iter=1000, random_state=0)</pre><b>In a Jupyter environment, please rerun this cell to show the HTML representation or trust the notebook. <br />On GitHub, the HTML representation is unable to render, please try loading this page with nbviewer.org.</b></div><div class=\"sk-container\" hidden><div class=\"sk-item\"><div class=\"sk-estimator sk-toggleable\"><input class=\"sk-toggleable__control sk-hidden--visually\" id=\"sk-estimator-id-1\" type=\"checkbox\" checked><label for=\"sk-estimator-id-1\" class=\"sk-toggleable__label sk-toggleable__label-arrow\">LogisticRegression</label><div class=\"sk-toggleable__content\"><pre>LogisticRegression(max_iter=1000, random_state=0)</pre></div></div></div></div></div>"
      ],
      "text/plain": [
       "LogisticRegression(max_iter=1000, random_state=0)"
      ]
     },
     "execution_count": 47,
     "metadata": {},
     "output_type": "execute_result"
    }
   ],
   "source": [
    "logmodel.fit(X,y)"
   ]
  },
  {
   "cell_type": "code",
   "execution_count": 48,
   "id": "ec771d95",
   "metadata": {
    "execution": {
     "iopub.execute_input": "2023-12-01T10:02:51.127964Z",
     "iopub.status.busy": "2023-12-01T10:02:51.127595Z",
     "iopub.status.idle": "2023-12-01T10:02:51.133451Z",
     "shell.execute_reply": "2023-12-01T10:02:51.132794Z"
    },
    "papermill": {
     "duration": 0.027547,
     "end_time": "2023-12-01T10:02:51.135349",
     "exception": false,
     "start_time": "2023-12-01T10:02:51.107802",
     "status": "completed"
    },
    "tags": []
   },
   "outputs": [],
   "source": [
    "predictions=logmodel.predict(df_test)"
   ]
  },
  {
   "cell_type": "code",
   "execution_count": 49,
   "id": "b83467cc",
   "metadata": {
    "execution": {
     "iopub.execute_input": "2023-12-01T10:02:51.171119Z",
     "iopub.status.busy": "2023-12-01T10:02:51.170760Z",
     "iopub.status.idle": "2023-12-01T10:02:51.368767Z",
     "shell.execute_reply": "2023-12-01T10:02:51.367715Z"
    },
    "papermill": {
     "duration": 0.218504,
     "end_time": "2023-12-01T10:02:51.370949",
     "exception": false,
     "start_time": "2023-12-01T10:02:51.152445",
     "status": "completed"
    },
    "tags": []
   },
   "outputs": [],
   "source": [
    "from xgboost import XGBClassifier\n",
    "    "
   ]
  },
  {
   "cell_type": "code",
   "execution_count": 50,
   "id": "272da3ab",
   "metadata": {
    "execution": {
     "iopub.execute_input": "2023-12-01T10:02:51.407526Z",
     "iopub.status.busy": "2023-12-01T10:02:51.406935Z",
     "iopub.status.idle": "2023-12-01T10:02:51.522487Z",
     "shell.execute_reply": "2023-12-01T10:02:51.521586Z"
    },
    "papermill": {
     "duration": 0.136124,
     "end_time": "2023-12-01T10:02:51.524386",
     "exception": false,
     "start_time": "2023-12-01T10:02:51.388262",
     "status": "completed"
    },
    "tags": []
   },
   "outputs": [
    {
     "data": {
      "text/html": [
       "<style>#sk-container-id-2 {color: black;background-color: white;}#sk-container-id-2 pre{padding: 0;}#sk-container-id-2 div.sk-toggleable {background-color: white;}#sk-container-id-2 label.sk-toggleable__label {cursor: pointer;display: block;width: 100%;margin-bottom: 0;padding: 0.3em;box-sizing: border-box;text-align: center;}#sk-container-id-2 label.sk-toggleable__label-arrow:before {content: \"▸\";float: left;margin-right: 0.25em;color: #696969;}#sk-container-id-2 label.sk-toggleable__label-arrow:hover:before {color: black;}#sk-container-id-2 div.sk-estimator:hover label.sk-toggleable__label-arrow:before {color: black;}#sk-container-id-2 div.sk-toggleable__content {max-height: 0;max-width: 0;overflow: hidden;text-align: left;background-color: #f0f8ff;}#sk-container-id-2 div.sk-toggleable__content pre {margin: 0.2em;color: black;border-radius: 0.25em;background-color: #f0f8ff;}#sk-container-id-2 input.sk-toggleable__control:checked~div.sk-toggleable__content {max-height: 200px;max-width: 100%;overflow: auto;}#sk-container-id-2 input.sk-toggleable__control:checked~label.sk-toggleable__label-arrow:before {content: \"▾\";}#sk-container-id-2 div.sk-estimator input.sk-toggleable__control:checked~label.sk-toggleable__label {background-color: #d4ebff;}#sk-container-id-2 div.sk-label input.sk-toggleable__control:checked~label.sk-toggleable__label {background-color: #d4ebff;}#sk-container-id-2 input.sk-hidden--visually {border: 0;clip: rect(1px 1px 1px 1px);clip: rect(1px, 1px, 1px, 1px);height: 1px;margin: -1px;overflow: hidden;padding: 0;position: absolute;width: 1px;}#sk-container-id-2 div.sk-estimator {font-family: monospace;background-color: #f0f8ff;border: 1px dotted black;border-radius: 0.25em;box-sizing: border-box;margin-bottom: 0.5em;}#sk-container-id-2 div.sk-estimator:hover {background-color: #d4ebff;}#sk-container-id-2 div.sk-parallel-item::after {content: \"\";width: 100%;border-bottom: 1px solid gray;flex-grow: 1;}#sk-container-id-2 div.sk-label:hover label.sk-toggleable__label {background-color: #d4ebff;}#sk-container-id-2 div.sk-serial::before {content: \"\";position: absolute;border-left: 1px solid gray;box-sizing: border-box;top: 0;bottom: 0;left: 50%;z-index: 0;}#sk-container-id-2 div.sk-serial {display: flex;flex-direction: column;align-items: center;background-color: white;padding-right: 0.2em;padding-left: 0.2em;position: relative;}#sk-container-id-2 div.sk-item {position: relative;z-index: 1;}#sk-container-id-2 div.sk-parallel {display: flex;align-items: stretch;justify-content: center;background-color: white;position: relative;}#sk-container-id-2 div.sk-item::before, #sk-container-id-2 div.sk-parallel-item::before {content: \"\";position: absolute;border-left: 1px solid gray;box-sizing: border-box;top: 0;bottom: 0;left: 50%;z-index: -1;}#sk-container-id-2 div.sk-parallel-item {display: flex;flex-direction: column;z-index: 1;position: relative;background-color: white;}#sk-container-id-2 div.sk-parallel-item:first-child::after {align-self: flex-end;width: 50%;}#sk-container-id-2 div.sk-parallel-item:last-child::after {align-self: flex-start;width: 50%;}#sk-container-id-2 div.sk-parallel-item:only-child::after {width: 0;}#sk-container-id-2 div.sk-dashed-wrapped {border: 1px dashed gray;margin: 0 0.4em 0.5em 0.4em;box-sizing: border-box;padding-bottom: 0.4em;background-color: white;}#sk-container-id-2 div.sk-label label {font-family: monospace;font-weight: bold;display: inline-block;line-height: 1.2em;}#sk-container-id-2 div.sk-label-container {text-align: center;}#sk-container-id-2 div.sk-container {/* jupyter's `normalize.less` sets `[hidden] { display: none; }` but bootstrap.min.css set `[hidden] { display: none !important; }` so we also need the `!important` here to be able to override the default hidden behavior on the sphinx rendered scikit-learn.org. See: https://github.com/scikit-learn/scikit-learn/issues/21755 */display: inline-block !important;position: relative;}#sk-container-id-2 div.sk-text-repr-fallback {display: none;}</style><div id=\"sk-container-id-2\" class=\"sk-top-container\"><div class=\"sk-text-repr-fallback\"><pre>XGBClassifier(base_score=None, booster=None, callbacks=None,\n",
       "              colsample_bylevel=None, colsample_bynode=None,\n",
       "              colsample_bytree=None, early_stopping_rounds=None,\n",
       "              enable_categorical=False, eval_metric=None, feature_types=None,\n",
       "              gamma=None, gpu_id=None, grow_policy=None, importance_type=None,\n",
       "              interaction_constraints=None, learning_rate=None, max_bin=None,\n",
       "              max_cat_threshold=None, max_cat_to_onehot=None,\n",
       "              max_delta_step=None, max_depth=None, max_leaves=None,\n",
       "              min_child_weight=None, missing=nan, monotone_constraints=None,\n",
       "              n_estimators=100, n_jobs=None, num_parallel_tree=None,\n",
       "              predictor=None, random_state=None, ...)</pre><b>In a Jupyter environment, please rerun this cell to show the HTML representation or trust the notebook. <br />On GitHub, the HTML representation is unable to render, please try loading this page with nbviewer.org.</b></div><div class=\"sk-container\" hidden><div class=\"sk-item\"><div class=\"sk-estimator sk-toggleable\"><input class=\"sk-toggleable__control sk-hidden--visually\" id=\"sk-estimator-id-2\" type=\"checkbox\" checked><label for=\"sk-estimator-id-2\" class=\"sk-toggleable__label sk-toggleable__label-arrow\">XGBClassifier</label><div class=\"sk-toggleable__content\"><pre>XGBClassifier(base_score=None, booster=None, callbacks=None,\n",
       "              colsample_bylevel=None, colsample_bynode=None,\n",
       "              colsample_bytree=None, early_stopping_rounds=None,\n",
       "              enable_categorical=False, eval_metric=None, feature_types=None,\n",
       "              gamma=None, gpu_id=None, grow_policy=None, importance_type=None,\n",
       "              interaction_constraints=None, learning_rate=None, max_bin=None,\n",
       "              max_cat_threshold=None, max_cat_to_onehot=None,\n",
       "              max_delta_step=None, max_depth=None, max_leaves=None,\n",
       "              min_child_weight=None, missing=nan, monotone_constraints=None,\n",
       "              n_estimators=100, n_jobs=None, num_parallel_tree=None,\n",
       "              predictor=None, random_state=None, ...)</pre></div></div></div></div></div>"
      ],
      "text/plain": [
       "XGBClassifier(base_score=None, booster=None, callbacks=None,\n",
       "              colsample_bylevel=None, colsample_bynode=None,\n",
       "              colsample_bytree=None, early_stopping_rounds=None,\n",
       "              enable_categorical=False, eval_metric=None, feature_types=None,\n",
       "              gamma=None, gpu_id=None, grow_policy=None, importance_type=None,\n",
       "              interaction_constraints=None, learning_rate=None, max_bin=None,\n",
       "              max_cat_threshold=None, max_cat_to_onehot=None,\n",
       "              max_delta_step=None, max_depth=None, max_leaves=None,\n",
       "              min_child_weight=None, missing=nan, monotone_constraints=None,\n",
       "              n_estimators=100, n_jobs=None, num_parallel_tree=None,\n",
       "              predictor=None, random_state=None, ...)"
      ]
     },
     "execution_count": 50,
     "metadata": {},
     "output_type": "execute_result"
    }
   ],
   "source": [
    "XGB_model = XGBClassifier()\n",
    "XGB_model.fit(X,y)\n",
    "    "
   ]
  },
  {
   "cell_type": "code",
   "execution_count": 51,
   "id": "8aa9ddec",
   "metadata": {
    "execution": {
     "iopub.execute_input": "2023-12-01T10:02:51.561304Z",
     "iopub.status.busy": "2023-12-01T10:02:51.560638Z",
     "iopub.status.idle": "2023-12-01T10:02:51.568397Z",
     "shell.execute_reply": "2023-12-01T10:02:51.567714Z"
    },
    "papermill": {
     "duration": 0.029127,
     "end_time": "2023-12-01T10:02:51.570799",
     "exception": false,
     "start_time": "2023-12-01T10:02:51.541672",
     "status": "completed"
    },
    "tags": []
   },
   "outputs": [],
   "source": [
    "XGB_pred=XGB_model.predict(df_test) "
   ]
  },
  {
   "cell_type": "code",
   "execution_count": 52,
   "id": "fd63a55a",
   "metadata": {
    "execution": {
     "iopub.execute_input": "2023-12-01T10:02:51.607408Z",
     "iopub.status.busy": "2023-12-01T10:02:51.606943Z",
     "iopub.status.idle": "2023-12-01T10:02:51.612714Z",
     "shell.execute_reply": "2023-12-01T10:02:51.611106Z"
    },
    "papermill": {
     "duration": 0.026826,
     "end_time": "2023-12-01T10:02:51.615356",
     "exception": false,
     "start_time": "2023-12-01T10:02:51.588530",
     "status": "completed"
    },
    "tags": []
   },
   "outputs": [],
   "source": [
    "#from sklearn.metrics import classification_report,confusion_matrix"
   ]
  },
  {
   "cell_type": "code",
   "execution_count": 53,
   "id": "8b57301d",
   "metadata": {
    "execution": {
     "iopub.execute_input": "2023-12-01T10:02:51.651518Z",
     "iopub.status.busy": "2023-12-01T10:02:51.651140Z",
     "iopub.status.idle": "2023-12-01T10:02:51.656574Z",
     "shell.execute_reply": "2023-12-01T10:02:51.655141Z"
    },
    "papermill": {
     "duration": 0.026607,
     "end_time": "2023-12-01T10:02:51.659423",
     "exception": false,
     "start_time": "2023-12-01T10:02:51.632816",
     "status": "completed"
    },
    "tags": []
   },
   "outputs": [],
   "source": [
    "#print(classification_report(y,predictions))"
   ]
  },
  {
   "cell_type": "code",
   "execution_count": 54,
   "id": "5f376eea",
   "metadata": {
    "execution": {
     "iopub.execute_input": "2023-12-01T10:02:51.697933Z",
     "iopub.status.busy": "2023-12-01T10:02:51.697575Z",
     "iopub.status.idle": "2023-12-01T10:02:51.702836Z",
     "shell.execute_reply": "2023-12-01T10:02:51.701380Z"
    },
    "papermill": {
     "duration": 0.02796,
     "end_time": "2023-12-01T10:02:51.705520",
     "exception": false,
     "start_time": "2023-12-01T10:02:51.677560",
     "status": "completed"
    },
    "tags": []
   },
   "outputs": [],
   "source": [
    "df_submission=pd.DataFrame({\"PassengerId\":test_id.values,\"Survived\":XGB_pred})"
   ]
  },
  {
   "cell_type": "code",
   "execution_count": 55,
   "id": "d2f3b1c0",
   "metadata": {
    "execution": {
     "iopub.execute_input": "2023-12-01T10:02:51.745853Z",
     "iopub.status.busy": "2023-12-01T10:02:51.744289Z",
     "iopub.status.idle": "2023-12-01T10:02:51.754300Z",
     "shell.execute_reply": "2023-12-01T10:02:51.753276Z"
    },
    "papermill": {
     "duration": 0.031463,
     "end_time": "2023-12-01T10:02:51.756355",
     "exception": false,
     "start_time": "2023-12-01T10:02:51.724892",
     "status": "completed"
    },
    "tags": []
   },
   "outputs": [],
   "source": [
    "df_submission.to_csv(\"submission.csv\",index=False)"
   ]
  },
  {
   "cell_type": "code",
   "execution_count": 56,
   "id": "82f1afe9",
   "metadata": {
    "execution": {
     "iopub.execute_input": "2023-12-01T10:02:51.791978Z",
     "iopub.status.busy": "2023-12-01T10:02:51.791476Z",
     "iopub.status.idle": "2023-12-01T10:02:51.796176Z",
     "shell.execute_reply": "2023-12-01T10:02:51.795248Z"
    },
    "papermill": {
     "duration": 0.024664,
     "end_time": "2023-12-01T10:02:51.798058",
     "exception": false,
     "start_time": "2023-12-01T10:02:51.773394",
     "status": "completed"
    },
    "tags": []
   },
   "outputs": [
    {
     "name": "stdout",
     "output_type": "stream",
     "text": [
      "Your submission was successfully saved!\n"
     ]
    }
   ],
   "source": [
    "print(\"Your submission was successfully saved!\")"
   ]
  },
  {
   "cell_type": "code",
   "execution_count": null,
   "id": "18d1ba69",
   "metadata": {
    "papermill": {
     "duration": 0.018167,
     "end_time": "2023-12-01T10:02:51.833666",
     "exception": false,
     "start_time": "2023-12-01T10:02:51.815499",
     "status": "completed"
    },
    "tags": []
   },
   "outputs": [],
   "source": []
  }
 ],
 "metadata": {
  "kaggle": {
   "accelerator": "none",
   "dataSources": [
    {
     "databundleVersionId": 26502,
     "sourceId": 3136,
     "sourceType": "competition"
    }
   ],
   "dockerImageVersionId": 30558,
   "isGpuEnabled": false,
   "isInternetEnabled": true,
   "language": "python",
   "sourceType": "notebook"
  },
  "kernelspec": {
   "display_name": "Python 3",
   "language": "python",
   "name": "python3"
  },
  "language_info": {
   "codemirror_mode": {
    "name": "ipython",
    "version": 3
   },
   "file_extension": ".py",
   "mimetype": "text/x-python",
   "name": "python",
   "nbconvert_exporter": "python",
   "pygments_lexer": "ipython3",
   "version": "3.10.12"
  },
  "papermill": {
   "default_parameters": {},
   "duration": 12.830924,
   "end_time": "2023-12-01T10:02:52.472356",
   "environment_variables": {},
   "exception": null,
   "input_path": "__notebook__.ipynb",
   "output_path": "__notebook__.ipynb",
   "parameters": {},
   "start_time": "2023-12-01T10:02:39.641432",
   "version": "2.4.0"
  }
 },
 "nbformat": 4,
 "nbformat_minor": 5
}
