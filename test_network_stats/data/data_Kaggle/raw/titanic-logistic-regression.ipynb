{
 "cells": [
  {
   "cell_type": "code",
   "execution_count": 1,
   "id": "c46d7ee1",
   "metadata": {
    "_cell_guid": "b1076dfc-b9ad-4769-8c92-a6c4dae69d19",
    "_uuid": "8f2839f25d086af736a60e9eeb907d3b93b6e0e5",
    "execution": {
     "iopub.execute_input": "2024-07-31T20:05:32.763011Z",
     "iopub.status.busy": "2024-07-31T20:05:32.762599Z",
     "iopub.status.idle": "2024-07-31T20:05:34.863048Z",
     "shell.execute_reply": "2024-07-31T20:05:34.861978Z"
    },
    "papermill": {
     "duration": 2.114135,
     "end_time": "2024-07-31T20:05:34.865564",
     "exception": false,
     "start_time": "2024-07-31T20:05:32.751429",
     "status": "completed"
    },
    "tags": []
   },
   "outputs": [],
   "source": [
    "import numpy as np \n",
    "import pandas as pd\n",
    "import matplotlib.pyplot as plt\n",
    "import seaborn as sns\n",
    "import scipy.stats as stats"
   ]
  },
  {
   "cell_type": "code",
   "execution_count": 2,
   "id": "93a2fe09",
   "metadata": {
    "execution": {
     "iopub.execute_input": "2024-07-31T20:05:34.886582Z",
     "iopub.status.busy": "2024-07-31T20:05:34.885725Z",
     "iopub.status.idle": "2024-07-31T20:05:34.906979Z",
     "shell.execute_reply": "2024-07-31T20:05:34.906105Z"
    },
    "papermill": {
     "duration": 0.034457,
     "end_time": "2024-07-31T20:05:34.909691",
     "exception": false,
     "start_time": "2024-07-31T20:05:34.875234",
     "status": "completed"
    },
    "tags": []
   },
   "outputs": [],
   "source": [
    "data = pd.read_csv('/kaggle/input/titanic/train.csv')"
   ]
  },
  {
   "cell_type": "code",
   "execution_count": 3,
   "id": "2dcecaa2",
   "metadata": {
    "execution": {
     "iopub.execute_input": "2024-07-31T20:05:34.931084Z",
     "iopub.status.busy": "2024-07-31T20:05:34.930096Z",
     "iopub.status.idle": "2024-07-31T20:05:34.957637Z",
     "shell.execute_reply": "2024-07-31T20:05:34.956610Z"
    },
    "papermill": {
     "duration": 0.040561,
     "end_time": "2024-07-31T20:05:34.959833",
     "exception": false,
     "start_time": "2024-07-31T20:05:34.919272",
     "status": "completed"
    },
    "tags": []
   },
   "outputs": [
    {
     "data": {
      "text/html": [
       "<div>\n",
       "<style scoped>\n",
       "    .dataframe tbody tr th:only-of-type {\n",
       "        vertical-align: middle;\n",
       "    }\n",
       "\n",
       "    .dataframe tbody tr th {\n",
       "        vertical-align: top;\n",
       "    }\n",
       "\n",
       "    .dataframe thead th {\n",
       "        text-align: right;\n",
       "    }\n",
       "</style>\n",
       "<table border=\"1\" class=\"dataframe\">\n",
       "  <thead>\n",
       "    <tr style=\"text-align: right;\">\n",
       "      <th></th>\n",
       "      <th>PassengerId</th>\n",
       "      <th>Survived</th>\n",
       "      <th>Pclass</th>\n",
       "      <th>Name</th>\n",
       "      <th>Sex</th>\n",
       "      <th>Age</th>\n",
       "      <th>SibSp</th>\n",
       "      <th>Parch</th>\n",
       "      <th>Ticket</th>\n",
       "      <th>Fare</th>\n",
       "      <th>Cabin</th>\n",
       "      <th>Embarked</th>\n",
       "    </tr>\n",
       "  </thead>\n",
       "  <tbody>\n",
       "    <tr>\n",
       "      <th>0</th>\n",
       "      <td>1</td>\n",
       "      <td>0</td>\n",
       "      <td>3</td>\n",
       "      <td>Braund, Mr. Owen Harris</td>\n",
       "      <td>male</td>\n",
       "      <td>22.0</td>\n",
       "      <td>1</td>\n",
       "      <td>0</td>\n",
       "      <td>A/5 21171</td>\n",
       "      <td>7.2500</td>\n",
       "      <td>NaN</td>\n",
       "      <td>S</td>\n",
       "    </tr>\n",
       "    <tr>\n",
       "      <th>1</th>\n",
       "      <td>2</td>\n",
       "      <td>1</td>\n",
       "      <td>1</td>\n",
       "      <td>Cumings, Mrs. John Bradley (Florence Briggs Th...</td>\n",
       "      <td>female</td>\n",
       "      <td>38.0</td>\n",
       "      <td>1</td>\n",
       "      <td>0</td>\n",
       "      <td>PC 17599</td>\n",
       "      <td>71.2833</td>\n",
       "      <td>C85</td>\n",
       "      <td>C</td>\n",
       "    </tr>\n",
       "    <tr>\n",
       "      <th>2</th>\n",
       "      <td>3</td>\n",
       "      <td>1</td>\n",
       "      <td>3</td>\n",
       "      <td>Heikkinen, Miss. Laina</td>\n",
       "      <td>female</td>\n",
       "      <td>26.0</td>\n",
       "      <td>0</td>\n",
       "      <td>0</td>\n",
       "      <td>STON/O2. 3101282</td>\n",
       "      <td>7.9250</td>\n",
       "      <td>NaN</td>\n",
       "      <td>S</td>\n",
       "    </tr>\n",
       "    <tr>\n",
       "      <th>3</th>\n",
       "      <td>4</td>\n",
       "      <td>1</td>\n",
       "      <td>1</td>\n",
       "      <td>Futrelle, Mrs. Jacques Heath (Lily May Peel)</td>\n",
       "      <td>female</td>\n",
       "      <td>35.0</td>\n",
       "      <td>1</td>\n",
       "      <td>0</td>\n",
       "      <td>113803</td>\n",
       "      <td>53.1000</td>\n",
       "      <td>C123</td>\n",
       "      <td>S</td>\n",
       "    </tr>\n",
       "    <tr>\n",
       "      <th>4</th>\n",
       "      <td>5</td>\n",
       "      <td>0</td>\n",
       "      <td>3</td>\n",
       "      <td>Allen, Mr. William Henry</td>\n",
       "      <td>male</td>\n",
       "      <td>35.0</td>\n",
       "      <td>0</td>\n",
       "      <td>0</td>\n",
       "      <td>373450</td>\n",
       "      <td>8.0500</td>\n",
       "      <td>NaN</td>\n",
       "      <td>S</td>\n",
       "    </tr>\n",
       "  </tbody>\n",
       "</table>\n",
       "</div>"
      ],
      "text/plain": [
       "   PassengerId  Survived  Pclass  \\\n",
       "0            1         0       3   \n",
       "1            2         1       1   \n",
       "2            3         1       3   \n",
       "3            4         1       1   \n",
       "4            5         0       3   \n",
       "\n",
       "                                                Name     Sex   Age  SibSp  \\\n",
       "0                            Braund, Mr. Owen Harris    male  22.0      1   \n",
       "1  Cumings, Mrs. John Bradley (Florence Briggs Th...  female  38.0      1   \n",
       "2                             Heikkinen, Miss. Laina  female  26.0      0   \n",
       "3       Futrelle, Mrs. Jacques Heath (Lily May Peel)  female  35.0      1   \n",
       "4                           Allen, Mr. William Henry    male  35.0      0   \n",
       "\n",
       "   Parch            Ticket     Fare Cabin Embarked  \n",
       "0      0         A/5 21171   7.2500   NaN        S  \n",
       "1      0          PC 17599  71.2833   C85        C  \n",
       "2      0  STON/O2. 3101282   7.9250   NaN        S  \n",
       "3      0            113803  53.1000  C123        S  \n",
       "4      0            373450   8.0500   NaN        S  "
      ]
     },
     "execution_count": 3,
     "metadata": {},
     "output_type": "execute_result"
    }
   ],
   "source": [
    "data.head()"
   ]
  },
  {
   "cell_type": "markdown",
   "id": "41253d29",
   "metadata": {
    "papermill": {
     "duration": 0.009324,
     "end_time": "2024-07-31T20:05:34.978925",
     "exception": false,
     "start_time": "2024-07-31T20:05:34.969601",
     "status": "completed"
    },
    "tags": []
   },
   "source": [
    "## Preprocessing"
   ]
  },
  {
   "cell_type": "code",
   "execution_count": 4,
   "id": "c92f0fdc",
   "metadata": {
    "execution": {
     "iopub.execute_input": "2024-07-31T20:05:35.001058Z",
     "iopub.status.busy": "2024-07-31T20:05:35.000154Z",
     "iopub.status.idle": "2024-07-31T20:05:35.011965Z",
     "shell.execute_reply": "2024-07-31T20:05:35.010997Z"
    },
    "papermill": {
     "duration": 0.024774,
     "end_time": "2024-07-31T20:05:35.014205",
     "exception": false,
     "start_time": "2024-07-31T20:05:34.989431",
     "status": "completed"
    },
    "tags": []
   },
   "outputs": [
    {
     "data": {
      "text/plain": [
       "PassengerId    891\n",
       "Survived       891\n",
       "Pclass         891\n",
       "Name           891\n",
       "Sex            891\n",
       "Age            714\n",
       "SibSp          891\n",
       "Parch          891\n",
       "Ticket         891\n",
       "Fare           891\n",
       "Cabin          204\n",
       "Embarked       889\n",
       "dtype: int64"
      ]
     },
     "execution_count": 4,
     "metadata": {},
     "output_type": "execute_result"
    }
   ],
   "source": [
    "data.count()"
   ]
  },
  {
   "cell_type": "code",
   "execution_count": 5,
   "id": "27e6c567",
   "metadata": {
    "execution": {
     "iopub.execute_input": "2024-07-31T20:05:35.035752Z",
     "iopub.status.busy": "2024-07-31T20:05:35.034827Z",
     "iopub.status.idle": "2024-07-31T20:05:35.043563Z",
     "shell.execute_reply": "2024-07-31T20:05:35.042573Z"
    },
    "papermill": {
     "duration": 0.021766,
     "end_time": "2024-07-31T20:05:35.045775",
     "exception": false,
     "start_time": "2024-07-31T20:05:35.024009",
     "status": "completed"
    },
    "tags": []
   },
   "outputs": [
    {
     "data": {
      "text/plain": [
       "PassengerId      0\n",
       "Survived         0\n",
       "Pclass           0\n",
       "Name             0\n",
       "Sex              0\n",
       "Age            177\n",
       "SibSp            0\n",
       "Parch            0\n",
       "Ticket           0\n",
       "Fare             0\n",
       "Cabin          687\n",
       "Embarked         2\n",
       "dtype: int64"
      ]
     },
     "execution_count": 5,
     "metadata": {},
     "output_type": "execute_result"
    }
   ],
   "source": [
    "data.isna().sum()"
   ]
  },
  {
   "cell_type": "code",
   "execution_count": 6,
   "id": "20bed91c",
   "metadata": {
    "execution": {
     "iopub.execute_input": "2024-07-31T20:05:35.067110Z",
     "iopub.status.busy": "2024-07-31T20:05:35.066721Z",
     "iopub.status.idle": "2024-07-31T20:05:35.079630Z",
     "shell.execute_reply": "2024-07-31T20:05:35.078621Z"
    },
    "papermill": {
     "duration": 0.026493,
     "end_time": "2024-07-31T20:05:35.082012",
     "exception": false,
     "start_time": "2024-07-31T20:05:35.055519",
     "status": "completed"
    },
    "tags": []
   },
   "outputs": [
    {
     "data": {
      "text/plain": [
       "0"
      ]
     },
     "execution_count": 6,
     "metadata": {},
     "output_type": "execute_result"
    }
   ],
   "source": [
    "data.duplicated().sum()"
   ]
  },
  {
   "cell_type": "code",
   "execution_count": 7,
   "id": "0b7d7bdd",
   "metadata": {
    "execution": {
     "iopub.execute_input": "2024-07-31T20:05:35.104408Z",
     "iopub.status.busy": "2024-07-31T20:05:35.103589Z",
     "iopub.status.idle": "2024-07-31T20:05:35.114178Z",
     "shell.execute_reply": "2024-07-31T20:05:35.113161Z"
    },
    "papermill": {
     "duration": 0.024207,
     "end_time": "2024-07-31T20:05:35.116415",
     "exception": false,
     "start_time": "2024-07-31T20:05:35.092208",
     "status": "completed"
    },
    "tags": []
   },
   "outputs": [
    {
     "data": {
      "text/plain": [
       "Survived\n",
       "0    549\n",
       "1    342\n",
       "Name: count, dtype: int64"
      ]
     },
     "execution_count": 7,
     "metadata": {},
     "output_type": "execute_result"
    }
   ],
   "source": [
    "data['Survived'].value_counts()"
   ]
  },
  {
   "cell_type": "code",
   "execution_count": 8,
   "id": "27c2b851",
   "metadata": {
    "execution": {
     "iopub.execute_input": "2024-07-31T20:05:35.138467Z",
     "iopub.status.busy": "2024-07-31T20:05:35.137660Z",
     "iopub.status.idle": "2024-07-31T20:05:35.145295Z",
     "shell.execute_reply": "2024-07-31T20:05:35.144340Z"
    },
    "papermill": {
     "duration": 0.021218,
     "end_time": "2024-07-31T20:05:35.147655",
     "exception": false,
     "start_time": "2024-07-31T20:05:35.126437",
     "status": "completed"
    },
    "tags": []
   },
   "outputs": [
    {
     "data": {
      "text/plain": [
       "Pclass\n",
       "3    491\n",
       "1    216\n",
       "2    184\n",
       "Name: count, dtype: int64"
      ]
     },
     "execution_count": 8,
     "metadata": {},
     "output_type": "execute_result"
    }
   ],
   "source": [
    "data['Pclass'].value_counts()"
   ]
  },
  {
   "cell_type": "code",
   "execution_count": 9,
   "id": "77515ae9",
   "metadata": {
    "execution": {
     "iopub.execute_input": "2024-07-31T20:05:35.169976Z",
     "iopub.status.busy": "2024-07-31T20:05:35.169557Z",
     "iopub.status.idle": "2024-07-31T20:05:35.179047Z",
     "shell.execute_reply": "2024-07-31T20:05:35.178024Z"
    },
    "papermill": {
     "duration": 0.023173,
     "end_time": "2024-07-31T20:05:35.181140",
     "exception": false,
     "start_time": "2024-07-31T20:05:35.157967",
     "status": "completed"
    },
    "tags": []
   },
   "outputs": [
    {
     "data": {
      "text/plain": [
       "-0.3384810359610148"
      ]
     },
     "execution_count": 9,
     "metadata": {},
     "output_type": "execute_result"
    }
   ],
   "source": [
    "data['Survived'].corr(data['Pclass'])"
   ]
  },
  {
   "cell_type": "code",
   "execution_count": 10,
   "id": "35f99d62",
   "metadata": {
    "execution": {
     "iopub.execute_input": "2024-07-31T20:05:35.203675Z",
     "iopub.status.busy": "2024-07-31T20:05:35.202777Z",
     "iopub.status.idle": "2024-07-31T20:05:35.210261Z",
     "shell.execute_reply": "2024-07-31T20:05:35.209241Z"
    },
    "papermill": {
     "duration": 0.021179,
     "end_time": "2024-07-31T20:05:35.212554",
     "exception": false,
     "start_time": "2024-07-31T20:05:35.191375",
     "status": "completed"
    },
    "tags": []
   },
   "outputs": [
    {
     "data": {
      "text/plain": [
       "891"
      ]
     },
     "execution_count": 10,
     "metadata": {},
     "output_type": "execute_result"
    }
   ],
   "source": [
    "data['Name'].nunique()"
   ]
  },
  {
   "cell_type": "code",
   "execution_count": 11,
   "id": "d060df2b",
   "metadata": {
    "execution": {
     "iopub.execute_input": "2024-07-31T20:05:35.235684Z",
     "iopub.status.busy": "2024-07-31T20:05:35.235295Z",
     "iopub.status.idle": "2024-07-31T20:05:35.244091Z",
     "shell.execute_reply": "2024-07-31T20:05:35.242918Z"
    },
    "papermill": {
     "duration": 0.02285,
     "end_time": "2024-07-31T20:05:35.246372",
     "exception": false,
     "start_time": "2024-07-31T20:05:35.223522",
     "status": "completed"
    },
    "tags": []
   },
   "outputs": [
    {
     "name": "stdout",
     "output_type": "stream",
     "text": [
      "mean 29.69911764705882\n",
      "median 28.0\n"
     ]
    }
   ],
   "source": [
    "print('mean',data['Age'].mean())\n",
    "print('median',data['Age'].median())"
   ]
  },
  {
   "cell_type": "code",
   "execution_count": 12,
   "id": "d1e2bf8c",
   "metadata": {
    "execution": {
     "iopub.execute_input": "2024-07-31T20:05:35.269710Z",
     "iopub.status.busy": "2024-07-31T20:05:35.268743Z",
     "iopub.status.idle": "2024-07-31T20:05:36.033877Z",
     "shell.execute_reply": "2024-07-31T20:05:36.032784Z"
    },
    "papermill": {
     "duration": 0.779272,
     "end_time": "2024-07-31T20:05:36.036243",
     "exception": false,
     "start_time": "2024-07-31T20:05:35.256971",
     "status": "completed"
    },
    "tags": []
   },
   "outputs": [
    {
     "name": "stderr",
     "output_type": "stream",
     "text": [
      "/opt/conda/lib/python3.10/site-packages/seaborn/_oldcore.py:1119: FutureWarning: use_inf_as_na option is deprecated and will be removed in a future version. Convert inf values to NaN before operating instead.\n",
      "  with pd.option_context('mode.use_inf_as_na', True):\n"
     ]
    },
    {
     "data": {
      "image/png": "[encoded data removed]",
      "text/plain": [
       "<Figure size 1000x600 with 1 Axes>"
      ]
     },
     "metadata": {},
     "output_type": "display_data"
    },
    {
     "data": {
      "image/png": "[encoded data removed]",
      "text/plain": [
       "<Figure size 1000x600 with 1 Axes>"
      ]
     },
     "metadata": {},
     "output_type": "display_data"
    }
   ],
   "source": [
    "\n",
    "\n",
    "# Histogram\n",
    "plt.figure(figsize=(10, 6))\n",
    "sns.histplot(data['Age'], kde=True)\n",
    "plt.title('Histogram of the Column')\n",
    "plt.xlabel('Value')\n",
    "plt.ylabel('Frequency')\n",
    "plt.show()\n",
    "\n",
    "# Q-Q plot\n",
    "plt.figure(figsize=(10, 6))\n",
    "stats.probplot(data['Age'], dist=\"norm\", plot=plt)\n",
    "plt.title('Q-Q Plot')\n",
    "plt.show()"
   ]
  },
  {
   "cell_type": "code",
   "execution_count": 13,
   "id": "073a8166",
   "metadata": {
    "execution": {
     "iopub.execute_input": "2024-07-31T20:05:36.062202Z",
     "iopub.status.busy": "2024-07-31T20:05:36.061679Z",
     "iopub.status.idle": "2024-07-31T20:05:36.067649Z",
     "shell.execute_reply": "2024-07-31T20:05:36.066767Z"
    },
    "papermill": {
     "duration": 0.021815,
     "end_time": "2024-07-31T20:05:36.070378",
     "exception": false,
     "start_time": "2024-07-31T20:05:36.048563",
     "status": "completed"
    },
    "tags": []
   },
   "outputs": [
    {
     "name": "stdout",
     "output_type": "stream",
     "text": [
      "Age have 19.865319865319865% nulls\n"
     ]
    }
   ],
   "source": [
    "n = 891\n",
    "nulls = data['Age'].isna().sum()\n",
    "print(f'Age have {(nulls/n)*100}% nulls')"
   ]
  },
  {
   "cell_type": "code",
   "execution_count": 14,
   "id": "a1c954c9",
   "metadata": {
    "execution": {
     "iopub.execute_input": "2024-07-31T20:05:36.095656Z",
     "iopub.status.busy": "2024-07-31T20:05:36.095307Z",
     "iopub.status.idle": "2024-07-31T20:05:36.103233Z",
     "shell.execute_reply": "2024-07-31T20:05:36.102194Z"
    },
    "papermill": {
     "duration": 0.023217,
     "end_time": "2024-07-31T20:05:36.105379",
     "exception": false,
     "start_time": "2024-07-31T20:05:36.082162",
     "status": "completed"
    },
    "tags": []
   },
   "outputs": [
    {
     "data": {
      "text/plain": [
       "-0.07722109457217768"
      ]
     },
     "execution_count": 14,
     "metadata": {},
     "output_type": "execute_result"
    }
   ],
   "source": [
    "data['Survived'].corr(data['Age'])"
   ]
  },
  {
   "cell_type": "code",
   "execution_count": 15,
   "id": "d3fc34bd",
   "metadata": {
    "execution": {
     "iopub.execute_input": "2024-07-31T20:05:36.130772Z",
     "iopub.status.busy": "2024-07-31T20:05:36.130380Z",
     "iopub.status.idle": "2024-07-31T20:05:36.137046Z",
     "shell.execute_reply": "2024-07-31T20:05:36.135917Z"
    },
    "papermill": {
     "duration": 0.022196,
     "end_time": "2024-07-31T20:05:36.139426",
     "exception": false,
     "start_time": "2024-07-31T20:05:36.117230",
     "status": "completed"
    },
    "tags": []
   },
   "outputs": [
    {
     "name": "stdout",
     "output_type": "stream",
     "text": [
      "mean:  0.5230078563411896\n",
      "median:  0.0\n"
     ]
    }
   ],
   "source": [
    "print('mean: ',data['SibSp'].mean())\n",
    "print('median: ',data['SibSp'].median())"
   ]
  },
  {
   "cell_type": "code",
   "execution_count": 16,
   "id": "e431bd9e",
   "metadata": {
    "execution": {
     "iopub.execute_input": "2024-07-31T20:05:36.165051Z",
     "iopub.status.busy": "2024-07-31T20:05:36.164377Z",
     "iopub.status.idle": "2024-07-31T20:05:36.172117Z",
     "shell.execute_reply": "2024-07-31T20:05:36.171142Z"
    },
    "papermill": {
     "duration": 0.023203,
     "end_time": "2024-07-31T20:05:36.174499",
     "exception": false,
     "start_time": "2024-07-31T20:05:36.151296",
     "status": "completed"
    },
    "tags": []
   },
   "outputs": [
    {
     "data": {
      "text/plain": [
       "SibSp\n",
       "0    608\n",
       "1    209\n",
       "2     28\n",
       "4     18\n",
       "3     16\n",
       "8      7\n",
       "5      5\n",
       "Name: count, dtype: int64"
      ]
     },
     "execution_count": 16,
     "metadata": {},
     "output_type": "execute_result"
    }
   ],
   "source": [
    "data['SibSp'].value_counts()"
   ]
  },
  {
   "cell_type": "code",
   "execution_count": 17,
   "id": "22c085c5",
   "metadata": {
    "execution": {
     "iopub.execute_input": "2024-07-31T20:05:36.200667Z",
     "iopub.status.busy": "2024-07-31T20:05:36.199937Z",
     "iopub.status.idle": "2024-07-31T20:05:36.207751Z",
     "shell.execute_reply": "2024-07-31T20:05:36.206762Z"
    },
    "papermill": {
     "duration": 0.023388,
     "end_time": "2024-07-31T20:05:36.209924",
     "exception": false,
     "start_time": "2024-07-31T20:05:36.186536",
     "status": "completed"
    },
    "tags": []
   },
   "outputs": [
    {
     "data": {
      "text/plain": [
       "-0.03532249888573564"
      ]
     },
     "execution_count": 17,
     "metadata": {},
     "output_type": "execute_result"
    }
   ],
   "source": [
    "data['Survived'].corr(data['SibSp'])"
   ]
  },
  {
   "cell_type": "code",
   "execution_count": 18,
   "id": "1ed22a32",
   "metadata": {
    "execution": {
     "iopub.execute_input": "2024-07-31T20:05:36.235637Z",
     "iopub.status.busy": "2024-07-31T20:05:36.235250Z",
     "iopub.status.idle": "2024-07-31T20:05:36.241443Z",
     "shell.execute_reply": "2024-07-31T20:05:36.240498Z"
    },
    "papermill": {
     "duration": 0.021625,
     "end_time": "2024-07-31T20:05:36.243646",
     "exception": false,
     "start_time": "2024-07-31T20:05:36.222021",
     "status": "completed"
    },
    "tags": []
   },
   "outputs": [
    {
     "name": "stdout",
     "output_type": "stream",
     "text": [
      "mean:  0.38159371492704824\n",
      "median:  0.0\n"
     ]
    }
   ],
   "source": [
    "print('mean: ',data['Parch'].mean())\n",
    "print('median: ',data['Parch'].median())"
   ]
  },
  {
   "cell_type": "code",
   "execution_count": 19,
   "id": "97e44867",
   "metadata": {
    "execution": {
     "iopub.execute_input": "2024-07-31T20:05:36.269560Z",
     "iopub.status.busy": "2024-07-31T20:05:36.269182Z",
     "iopub.status.idle": "2024-07-31T20:05:36.277147Z",
     "shell.execute_reply": "2024-07-31T20:05:36.276091Z"
    },
    "papermill": {
     "duration": 0.023468,
     "end_time": "2024-07-31T20:05:36.279293",
     "exception": false,
     "start_time": "2024-07-31T20:05:36.255825",
     "status": "completed"
    },
    "tags": []
   },
   "outputs": [
    {
     "data": {
      "text/plain": [
       "Parch\n",
       "0    678\n",
       "1    118\n",
       "2     80\n",
       "5      5\n",
       "3      5\n",
       "4      4\n",
       "6      1\n",
       "Name: count, dtype: int64"
      ]
     },
     "execution_count": 19,
     "metadata": {},
     "output_type": "execute_result"
    }
   ],
   "source": [
    "data['Parch'].value_counts()"
   ]
  },
  {
   "cell_type": "code",
   "execution_count": 20,
   "id": "de51a846",
   "metadata": {
    "execution": {
     "iopub.execute_input": "2024-07-31T20:05:36.305440Z",
     "iopub.status.busy": "2024-07-31T20:05:36.305066Z",
     "iopub.status.idle": "2024-07-31T20:05:36.313007Z",
     "shell.execute_reply": "2024-07-31T20:05:36.312029Z"
    },
    "papermill": {
     "duration": 0.023595,
     "end_time": "2024-07-31T20:05:36.315095",
     "exception": false,
     "start_time": "2024-07-31T20:05:36.291500",
     "status": "completed"
    },
    "tags": []
   },
   "outputs": [
    {
     "data": {
      "text/plain": [
       "0.08162940708348371"
      ]
     },
     "execution_count": 20,
     "metadata": {},
     "output_type": "execute_result"
    }
   ],
   "source": [
    "data['Survived'].corr(data['Parch'])"
   ]
  },
  {
   "cell_type": "code",
   "execution_count": 21,
   "id": "a72735e2",
   "metadata": {
    "execution": {
     "iopub.execute_input": "2024-07-31T20:05:36.341603Z",
     "iopub.status.busy": "2024-07-31T20:05:36.340921Z",
     "iopub.status.idle": "2024-07-31T20:05:36.348843Z",
     "shell.execute_reply": "2024-07-31T20:05:36.347850Z"
    },
    "papermill": {
     "duration": 0.023576,
     "end_time": "2024-07-31T20:05:36.351025",
     "exception": false,
     "start_time": "2024-07-31T20:05:36.327449",
     "status": "completed"
    },
    "tags": []
   },
   "outputs": [
    {
     "data": {
      "text/plain": [
       "0.41483769862015557"
      ]
     },
     "execution_count": 21,
     "metadata": {},
     "output_type": "execute_result"
    }
   ],
   "source": [
    "data['SibSp'].corr(data['Parch'])"
   ]
  },
  {
   "cell_type": "code",
   "execution_count": 22,
   "id": "90b5391e",
   "metadata": {
    "execution": {
     "iopub.execute_input": "2024-07-31T20:05:36.378108Z",
     "iopub.status.busy": "2024-07-31T20:05:36.377172Z",
     "iopub.status.idle": "2024-07-31T20:05:36.383824Z",
     "shell.execute_reply": "2024-07-31T20:05:36.382702Z"
    },
    "papermill": {
     "duration": 0.022533,
     "end_time": "2024-07-31T20:05:36.386076",
     "exception": false,
     "start_time": "2024-07-31T20:05:36.363543",
     "status": "completed"
    },
    "tags": []
   },
   "outputs": [
    {
     "name": "stdout",
     "output_type": "stream",
     "text": [
      "mean:  32.204207968574636\n",
      "median:  14.4542\n"
     ]
    }
   ],
   "source": [
    "print('mean: ',data['Fare'].mean())\n",
    "print('median: ',data['Fare'].median())"
   ]
  },
  {
   "cell_type": "code",
   "execution_count": 23,
   "id": "3e58b2cb",
   "metadata": {
    "execution": {
     "iopub.execute_input": "2024-07-31T20:05:36.413174Z",
     "iopub.status.busy": "2024-07-31T20:05:36.412627Z",
     "iopub.status.idle": "2024-07-31T20:05:37.145971Z",
     "shell.execute_reply": "2024-07-31T20:05:37.144816Z"
    },
    "papermill": {
     "duration": 0.749582,
     "end_time": "2024-07-31T20:05:37.148461",
     "exception": false,
     "start_time": "2024-07-31T20:05:36.398879",
     "status": "completed"
    },
    "tags": []
   },
   "outputs": [
    {
     "name": "stderr",
     "output_type": "stream",
     "text": [
      "/opt/conda/lib/python3.10/site-packages/seaborn/_oldcore.py:1119: FutureWarning: use_inf_as_na option is deprecated and will be removed in a future version. Convert inf values to NaN before operating instead.\n",
      "  with pd.option_context('mode.use_inf_as_na', True):\n"
     ]
    },
    {
     "data": {
      "image/png": "[encoded data removed]",
      "text/plain": [
       "<Figure size 1000x600 with 1 Axes>"
      ]
     },
     "metadata": {},
     "output_type": "display_data"
    },
    {
     "data": {
      "image/png": "[encoded data removed]",
      "text/plain": [
       "<Figure size 1000x600 with 1 Axes>"
      ]
     },
     "metadata": {},
     "output_type": "display_data"
    }
   ],
   "source": [
    "# Histogram\n",
    "plt.figure(figsize=(10, 6))\n",
    "sns.histplot(data['Fare'], kde=True)\n",
    "plt.title('Histogram of Fare')\n",
    "plt.xlabel('Value')\n",
    "plt.ylabel('Frequency')\n",
    "plt.show()\n",
    "\n",
    "# Q-Q plot\n",
    "plt.figure(figsize=(10, 6))\n",
    "stats.probplot(data['Fare'], dist=\"norm\", plot=plt)\n",
    "plt.title('Q-Q Plot')\n",
    "plt.show()"
   ]
  },
  {
   "cell_type": "code",
   "execution_count": 24,
   "id": "09783de2",
   "metadata": {
    "execution": {
     "iopub.execute_input": "2024-07-31T20:05:37.237571Z",
     "iopub.status.busy": "2024-07-31T20:05:37.237179Z",
     "iopub.status.idle": "2024-07-31T20:05:37.246493Z",
     "shell.execute_reply": "2024-07-31T20:05:37.245299Z"
    },
    "papermill": {
     "duration": 0.026452,
     "end_time": "2024-07-31T20:05:37.248653",
     "exception": false,
     "start_time": "2024-07-31T20:05:37.222201",
     "status": "completed"
    },
    "tags": []
   },
   "outputs": [
    {
     "data": {
      "text/plain": [
       "Cabin\n",
       "B96 B98        4\n",
       "G6             4\n",
       "C23 C25 C27    4\n",
       "C22 C26        3\n",
       "F33            3\n",
       "              ..\n",
       "E34            1\n",
       "C7             1\n",
       "C54            1\n",
       "E36            1\n",
       "C148           1\n",
       "Name: count, Length: 147, dtype: int64"
      ]
     },
     "execution_count": 24,
     "metadata": {},
     "output_type": "execute_result"
    }
   ],
   "source": [
    "data['Cabin'].value_counts()"
   ]
  },
  {
   "cell_type": "code",
   "execution_count": 25,
   "id": "46d135c6",
   "metadata": {
    "execution": {
     "iopub.execute_input": "2024-07-31T20:05:37.278004Z",
     "iopub.status.busy": "2024-07-31T20:05:37.277604Z",
     "iopub.status.idle": "2024-07-31T20:05:37.284592Z",
     "shell.execute_reply": "2024-07-31T20:05:37.283588Z"
    },
    "papermill": {
     "duration": 0.024409,
     "end_time": "2024-07-31T20:05:37.286911",
     "exception": false,
     "start_time": "2024-07-31T20:05:37.262502",
     "status": "completed"
    },
    "tags": []
   },
   "outputs": [
    {
     "data": {
      "text/plain": [
       "147"
      ]
     },
     "execution_count": 25,
     "metadata": {},
     "output_type": "execute_result"
    }
   ],
   "source": [
    "data['Cabin'].nunique()"
   ]
  },
  {
   "cell_type": "code",
   "execution_count": 26,
   "id": "5d08952d",
   "metadata": {
    "execution": {
     "iopub.execute_input": "2024-07-31T20:05:37.317235Z",
     "iopub.status.busy": "2024-07-31T20:05:37.316370Z",
     "iopub.status.idle": "2024-07-31T20:05:37.322800Z",
     "shell.execute_reply": "2024-07-31T20:05:37.321750Z"
    },
    "papermill": {
     "duration": 0.024236,
     "end_time": "2024-07-31T20:05:37.325282",
     "exception": false,
     "start_time": "2024-07-31T20:05:37.301046",
     "status": "completed"
    },
    "tags": []
   },
   "outputs": [
    {
     "name": "stdout",
     "output_type": "stream",
     "text": [
      "Cabin have 77.10437710437711% nulls\n"
     ]
    }
   ],
   "source": [
    "n = 891\n",
    "nulls = data['Cabin'].isna().sum()\n",
    "print(f'Cabin have {(nulls/n)*100}% nulls')"
   ]
  },
  {
   "cell_type": "code",
   "execution_count": 27,
   "id": "0ee1797a",
   "metadata": {
    "execution": {
     "iopub.execute_input": "2024-07-31T20:05:37.355495Z",
     "iopub.status.busy": "2024-07-31T20:05:37.354563Z",
     "iopub.status.idle": "2024-07-31T20:05:37.363227Z",
     "shell.execute_reply": "2024-07-31T20:05:37.362220Z"
    },
    "papermill": {
     "duration": 0.025838,
     "end_time": "2024-07-31T20:05:37.365229",
     "exception": false,
     "start_time": "2024-07-31T20:05:37.339391",
     "status": "completed"
    },
    "tags": []
   },
   "outputs": [
    {
     "data": {
      "text/plain": [
       "Embarked\n",
       "S    644\n",
       "C    168\n",
       "Q     77\n",
       "Name: count, dtype: int64"
      ]
     },
     "execution_count": 27,
     "metadata": {},
     "output_type": "execute_result"
    }
   ],
   "source": [
    "data['Embarked'].value_counts()"
   ]
  },
  {
   "cell_type": "code",
   "execution_count": 28,
   "id": "8e3e35e4",
   "metadata": {
    "execution": {
     "iopub.execute_input": "2024-07-31T20:05:37.395088Z",
     "iopub.status.busy": "2024-07-31T20:05:37.394651Z",
     "iopub.status.idle": "2024-07-31T20:05:37.400984Z",
     "shell.execute_reply": "2024-07-31T20:05:37.399875Z"
    },
    "papermill": {
     "duration": 0.024081,
     "end_time": "2024-07-31T20:05:37.403398",
     "exception": false,
     "start_time": "2024-07-31T20:05:37.379317",
     "status": "completed"
    },
    "tags": []
   },
   "outputs": [
    {
     "name": "stdout",
     "output_type": "stream",
     "text": [
      "Embarked have 0.22446689113355783% nulls\n"
     ]
    }
   ],
   "source": [
    "n = 891\n",
    "nulls = data['Embarked'].isna().sum()\n",
    "print(f'Embarked have {(nulls/n)*100}% nulls')"
   ]
  },
  {
   "cell_type": "code",
   "execution_count": 29,
   "id": "299cd9bc",
   "metadata": {
    "execution": {
     "iopub.execute_input": "2024-07-31T20:05:37.433855Z",
     "iopub.status.busy": "2024-07-31T20:05:37.433453Z",
     "iopub.status.idle": "2024-07-31T20:05:37.441869Z",
     "shell.execute_reply": "2024-07-31T20:05:37.440842Z"
    },
    "papermill": {
     "duration": 0.026419,
     "end_time": "2024-07-31T20:05:37.444219",
     "exception": false,
     "start_time": "2024-07-31T20:05:37.417800",
     "status": "completed"
    },
    "tags": []
   },
   "outputs": [
    {
     "data": {
      "text/plain": [
       "-0.005006660767066504"
      ]
     },
     "execution_count": 29,
     "metadata": {},
     "output_type": "execute_result"
    }
   ],
   "source": [
    "data['Survived'].corr(data['PassengerId'])"
   ]
  },
  {
   "cell_type": "code",
   "execution_count": 30,
   "id": "7d5bd16f",
   "metadata": {
    "execution": {
     "iopub.execute_input": "2024-07-31T20:05:37.475438Z",
     "iopub.status.busy": "2024-07-31T20:05:37.474518Z",
     "iopub.status.idle": "2024-07-31T20:05:37.491201Z",
     "shell.execute_reply": "2024-07-31T20:05:37.490111Z"
    },
    "papermill": {
     "duration": 0.034753,
     "end_time": "2024-07-31T20:05:37.493399",
     "exception": false,
     "start_time": "2024-07-31T20:05:37.458646",
     "status": "completed"
    },
    "tags": []
   },
   "outputs": [
    {
     "data": {
      "text/html": [
       "<div>\n",
       "<style scoped>\n",
       "    .dataframe tbody tr th:only-of-type {\n",
       "        vertical-align: middle;\n",
       "    }\n",
       "\n",
       "    .dataframe tbody tr th {\n",
       "        vertical-align: top;\n",
       "    }\n",
       "\n",
       "    .dataframe thead th {\n",
       "        text-align: right;\n",
       "    }\n",
       "</style>\n",
       "<table border=\"1\" class=\"dataframe\">\n",
       "  <thead>\n",
       "    <tr style=\"text-align: right;\">\n",
       "      <th></th>\n",
       "      <th>PassengerId</th>\n",
       "      <th>Survived</th>\n",
       "      <th>Pclass</th>\n",
       "      <th>Name</th>\n",
       "      <th>Sex</th>\n",
       "      <th>Age</th>\n",
       "      <th>SibSp</th>\n",
       "      <th>Parch</th>\n",
       "      <th>Ticket</th>\n",
       "      <th>Fare</th>\n",
       "      <th>Cabin</th>\n",
       "      <th>Embarked</th>\n",
       "    </tr>\n",
       "  </thead>\n",
       "  <tbody>\n",
       "    <tr>\n",
       "      <th>0</th>\n",
       "      <td>1</td>\n",
       "      <td>0</td>\n",
       "      <td>3</td>\n",
       "      <td>Braund, Mr. Owen Harris</td>\n",
       "      <td>male</td>\n",
       "      <td>22.0</td>\n",
       "      <td>1</td>\n",
       "      <td>0</td>\n",
       "      <td>A/5 21171</td>\n",
       "      <td>7.2500</td>\n",
       "      <td>NaN</td>\n",
       "      <td>S</td>\n",
       "    </tr>\n",
       "    <tr>\n",
       "      <th>1</th>\n",
       "      <td>2</td>\n",
       "      <td>1</td>\n",
       "      <td>1</td>\n",
       "      <td>Cumings, Mrs. John Bradley (Florence Briggs Th...</td>\n",
       "      <td>female</td>\n",
       "      <td>38.0</td>\n",
       "      <td>1</td>\n",
       "      <td>0</td>\n",
       "      <td>PC 17599</td>\n",
       "      <td>71.2833</td>\n",
       "      <td>C85</td>\n",
       "      <td>C</td>\n",
       "    </tr>\n",
       "    <tr>\n",
       "      <th>2</th>\n",
       "      <td>3</td>\n",
       "      <td>1</td>\n",
       "      <td>3</td>\n",
       "      <td>Heikkinen, Miss. Laina</td>\n",
       "      <td>female</td>\n",
       "      <td>26.0</td>\n",
       "      <td>0</td>\n",
       "      <td>0</td>\n",
       "      <td>STON/O2. 3101282</td>\n",
       "      <td>7.9250</td>\n",
       "      <td>NaN</td>\n",
       "      <td>S</td>\n",
       "    </tr>\n",
       "    <tr>\n",
       "      <th>3</th>\n",
       "      <td>4</td>\n",
       "      <td>1</td>\n",
       "      <td>1</td>\n",
       "      <td>Futrelle, Mrs. Jacques Heath (Lily May Peel)</td>\n",
       "      <td>female</td>\n",
       "      <td>35.0</td>\n",
       "      <td>1</td>\n",
       "      <td>0</td>\n",
       "      <td>113803</td>\n",
       "      <td>53.1000</td>\n",
       "      <td>C123</td>\n",
       "      <td>S</td>\n",
       "    </tr>\n",
       "    <tr>\n",
       "      <th>4</th>\n",
       "      <td>5</td>\n",
       "      <td>0</td>\n",
       "      <td>3</td>\n",
       "      <td>Allen, Mr. William Henry</td>\n",
       "      <td>male</td>\n",
       "      <td>35.0</td>\n",
       "      <td>0</td>\n",
       "      <td>0</td>\n",
       "      <td>373450</td>\n",
       "      <td>8.0500</td>\n",
       "      <td>NaN</td>\n",
       "      <td>S</td>\n",
       "    </tr>\n",
       "  </tbody>\n",
       "</table>\n",
       "</div>"
      ],
      "text/plain": [
       "   PassengerId  Survived  Pclass  \\\n",
       "0            1         0       3   \n",
       "1            2         1       1   \n",
       "2            3         1       3   \n",
       "3            4         1       1   \n",
       "4            5         0       3   \n",
       "\n",
       "                                                Name     Sex   Age  SibSp  \\\n",
       "0                            Braund, Mr. Owen Harris    male  22.0      1   \n",
       "1  Cumings, Mrs. John Bradley (Florence Briggs Th...  female  38.0      1   \n",
       "2                             Heikkinen, Miss. Laina  female  26.0      0   \n",
       "3       Futrelle, Mrs. Jacques Heath (Lily May Peel)  female  35.0      1   \n",
       "4                           Allen, Mr. William Henry    male  35.0      0   \n",
       "\n",
       "   Parch            Ticket     Fare Cabin Embarked  \n",
       "0      0         A/5 21171   7.2500   NaN        S  \n",
       "1      0          PC 17599  71.2833   C85        C  \n",
       "2      0  STON/O2. 3101282   7.9250   NaN        S  \n",
       "3      0            113803  53.1000  C123        S  \n",
       "4      0            373450   8.0500   NaN        S  "
      ]
     },
     "execution_count": 30,
     "metadata": {},
     "output_type": "execute_result"
    }
   ],
   "source": [
    "data.head()"
   ]
  },
  {
   "cell_type": "markdown",
   "id": "04922b32",
   "metadata": {
    "papermill": {
     "duration": 0.016249,
     "end_time": "2024-07-31T20:05:37.524416",
     "exception": false,
     "start_time": "2024-07-31T20:05:37.508167",
     "status": "completed"
    },
    "tags": []
   },
   "source": [
    "#### Findings from pre-processing\n",
    "\n",
    "- no duplicated values\n",
    "\n",
    "- 549 people didn't survived while 342 survived that shows class imbalance. \n",
    "\n",
    "- passenger ID can be drop due to very low correlation that is -0.005\n",
    "\n",
    "- name has all unique values, it needs to be encode. As it contains high cardinality so one hot and label encoder cannot be used.\n",
    "\n",
    "- Age is right skewed. it needs to be normalize. Age also have 19% nulls. \n",
    "\n",
    "- SibSp and Parch have very low co-relation with survived\n",
    "\n",
    "- Fare is also positively skewed \n",
    "\n",
    "- Cabin have 77% nulls. there is no point to fill those nulls.\n",
    "\n",
    "- Embarked have 0.2% nulls. and it needs to encode using one-hot encoding as it is nominal data."
   ]
  },
  {
   "cell_type": "markdown",
   "id": "295c347c",
   "metadata": {
    "papermill": {
     "duration": 0.014343,
     "end_time": "2024-07-31T20:05:37.553493",
     "exception": false,
     "start_time": "2024-07-31T20:05:37.539150",
     "status": "completed"
    },
    "tags": []
   },
   "source": [
    "## Feature engineering and model training"
   ]
  },
  {
   "cell_type": "code",
   "execution_count": 31,
   "id": "bdb65049",
   "metadata": {
    "execution": {
     "iopub.execute_input": "2024-07-31T20:05:37.584102Z",
     "iopub.status.busy": "2024-07-31T20:05:37.583667Z",
     "iopub.status.idle": "2024-07-31T20:05:38.227076Z",
     "shell.execute_reply": "2024-07-31T20:05:38.226146Z"
    },
    "papermill": {
     "duration": 0.661627,
     "end_time": "2024-07-31T20:05:38.229613",
     "exception": false,
     "start_time": "2024-07-31T20:05:37.567986",
     "status": "completed"
    },
    "tags": []
   },
   "outputs": [],
   "source": [
    "from sklearn.feature_extraction import FeatureHasher\n",
    "from sklearn.preprocessing import PowerTransformer, OneHotEncoder\n",
    "from sklearn.impute import SimpleImputer\n",
    "from sklearn.model_selection import train_test_split\n",
    "from sklearn.linear_model import LogisticRegression\n",
    "from sklearn.metrics import classification_report\n",
    "from imblearn.over_sampling import SMOTE\n",
    "from sklearn.preprocessing import LabelEncoder"
   ]
  },
  {
   "cell_type": "code",
   "execution_count": 32,
   "id": "ecb8e8d3",
   "metadata": {
    "execution": {
     "iopub.execute_input": "2024-07-31T20:05:38.263149Z",
     "iopub.status.busy": "2024-07-31T20:05:38.262155Z",
     "iopub.status.idle": "2024-07-31T20:05:38.270028Z",
     "shell.execute_reply": "2024-07-31T20:05:38.268998Z"
    },
    "papermill": {
     "duration": 0.026675,
     "end_time": "2024-07-31T20:05:38.272229",
     "exception": false,
     "start_time": "2024-07-31T20:05:38.245554",
     "status": "completed"
    },
    "tags": []
   },
   "outputs": [],
   "source": [
    "data.drop(columns=['Cabin','PassengerId','Name','Ticket'],inplace =True)"
   ]
  },
  {
   "cell_type": "code",
   "execution_count": 33,
   "id": "ec7bb74a",
   "metadata": {
    "execution": {
     "iopub.execute_input": "2024-07-31T20:05:38.303880Z",
     "iopub.status.busy": "2024-07-31T20:05:38.302721Z",
     "iopub.status.idle": "2024-07-31T20:05:38.309158Z",
     "shell.execute_reply": "2024-07-31T20:05:38.308061Z"
    },
    "papermill": {
     "duration": 0.024285,
     "end_time": "2024-07-31T20:05:38.311288",
     "exception": false,
     "start_time": "2024-07-31T20:05:38.287003",
     "status": "completed"
    },
    "tags": []
   },
   "outputs": [],
   "source": [
    "X = data.drop('Survived', axis=1)\n",
    "y = data['Survived']"
   ]
  },
  {
   "cell_type": "code",
   "execution_count": 34,
   "id": "a2e381f2",
   "metadata": {
    "execution": {
     "iopub.execute_input": "2024-07-31T20:05:38.341917Z",
     "iopub.status.busy": "2024-07-31T20:05:38.341557Z",
     "iopub.status.idle": "2024-07-31T20:05:38.362372Z",
     "shell.execute_reply": "2024-07-31T20:05:38.361517Z"
    },
    "papermill": {
     "duration": 0.038784,
     "end_time": "2024-07-31T20:05:38.364674",
     "exception": false,
     "start_time": "2024-07-31T20:05:38.325890",
     "status": "completed"
    },
    "tags": []
   },
   "outputs": [],
   "source": [
    "numeric_features = ['Age', 'Fare']\n",
    "numeric_transformer = SimpleImputer(strategy='mean')\n",
    "X[numeric_features] = numeric_transformer.fit_transform(X[numeric_features])\n",
    "\n",
    "\n",
    "\n",
    "power_transformer = PowerTransformer(method='yeo-johnson')\n",
    "X[numeric_features] = power_transformer.fit_transform(X[numeric_features])"
   ]
  },
  {
   "cell_type": "code",
   "execution_count": 35,
   "id": "d280075b",
   "metadata": {
    "execution": {
     "iopub.execute_input": "2024-07-31T20:05:38.395847Z",
     "iopub.status.busy": "2024-07-31T20:05:38.394887Z",
     "iopub.status.idle": "2024-07-31T20:05:38.412751Z",
     "shell.execute_reply": "2024-07-31T20:05:38.411677Z"
    },
    "papermill": {
     "duration": 0.036001,
     "end_time": "2024-07-31T20:05:38.415253",
     "exception": false,
     "start_time": "2024-07-31T20:05:38.379252",
     "status": "completed"
    },
    "tags": []
   },
   "outputs": [
    {
     "name": "stderr",
     "output_type": "stream",
     "text": [
      "/opt/conda/lib/python3.10/site-packages/sklearn/preprocessing/_encoders.py:868: FutureWarning: `sparse` was renamed to `sparse_output` in version 1.2 and will be removed in 1.4. `sparse_output` is ignored unless you leave `sparse` to its default value.\n",
      "  warnings.warn(\n"
     ]
    }
   ],
   "source": [
    "categorical_features = ['Embarked']\n",
    "categorical_transformer = OneHotEncoder(handle_unknown='ignore', sparse=False)\n",
    "encoded_cat_features = categorical_transformer.fit_transform(X[categorical_features])\n",
    "\n",
    "encoded_cat_df = pd.DataFrame(encoded_cat_features, columns=categorical_transformer.get_feature_names_out(categorical_features))\n",
    "\n",
    "X = X.drop(categorical_features, axis=1)\n",
    "X = pd.concat([X, encoded_cat_df], axis=1)"
   ]
  },
  {
   "cell_type": "code",
   "execution_count": 36,
   "id": "149b8e78",
   "metadata": {
    "execution": {
     "iopub.execute_input": "2024-07-31T20:05:38.446588Z",
     "iopub.status.busy": "2024-07-31T20:05:38.445864Z",
     "iopub.status.idle": "2024-07-31T20:05:38.451994Z",
     "shell.execute_reply": "2024-07-31T20:05:38.450877Z"
    },
    "papermill": {
     "duration": 0.02437,
     "end_time": "2024-07-31T20:05:38.454201",
     "exception": false,
     "start_time": "2024-07-31T20:05:38.429831",
     "status": "completed"
    },
    "tags": []
   },
   "outputs": [],
   "source": [
    "label_encoder = LabelEncoder()\n",
    "\n",
    "X['Sex'] = label_encoder.fit_transform(X['Sex'])"
   ]
  },
  {
   "cell_type": "code",
   "execution_count": 37,
   "id": "0c19a1a1",
   "metadata": {
    "execution": {
     "iopub.execute_input": "2024-07-31T20:05:38.486983Z",
     "iopub.status.busy": "2024-07-31T20:05:38.486111Z",
     "iopub.status.idle": "2024-07-31T20:05:38.499024Z",
     "shell.execute_reply": "2024-07-31T20:05:38.497348Z"
    },
    "papermill": {
     "duration": 0.034353,
     "end_time": "2024-07-31T20:05:38.503081",
     "exception": false,
     "start_time": "2024-07-31T20:05:38.468728",
     "status": "completed"
    },
    "tags": []
   },
   "outputs": [],
   "source": [
    "X_train,X_test,y_train,y_test = train_test_split(X,y,test_size=0.2,random_state=42)"
   ]
  },
  {
   "cell_type": "code",
   "execution_count": 38,
   "id": "8e5448e6",
   "metadata": {
    "execution": {
     "iopub.execute_input": "2024-07-31T20:05:38.542711Z",
     "iopub.status.busy": "2024-07-31T20:05:38.541888Z",
     "iopub.status.idle": "2024-07-31T20:05:38.557139Z",
     "shell.execute_reply": "2024-07-31T20:05:38.556071Z"
    },
    "papermill": {
     "duration": 0.039752,
     "end_time": "2024-07-31T20:05:38.560099",
     "exception": false,
     "start_time": "2024-07-31T20:05:38.520347",
     "status": "completed"
    },
    "tags": []
   },
   "outputs": [],
   "source": [
    "smote = SMOTE(random_state=42)\n",
    "X_train_resampled, y_train_resampled = smote.fit_resample(X_train, y_train)"
   ]
  },
  {
   "cell_type": "code",
   "execution_count": 39,
   "id": "e952852e",
   "metadata": {
    "execution": {
     "iopub.execute_input": "2024-07-31T20:05:38.591714Z",
     "iopub.status.busy": "2024-07-31T20:05:38.590845Z",
     "iopub.status.idle": "2024-07-31T20:05:38.617095Z",
     "shell.execute_reply": "2024-07-31T20:05:38.615914Z"
    },
    "papermill": {
     "duration": 0.044779,
     "end_time": "2024-07-31T20:05:38.619518",
     "exception": false,
     "start_time": "2024-07-31T20:05:38.574739",
     "status": "completed"
    },
    "tags": []
   },
   "outputs": [
    {
     "data": {
      "text/html": [
       "<style>#sk-container-id-1 {color: black;background-color: white;}#sk-container-id-1 pre{padding: 0;}#sk-container-id-1 div.sk-toggleable {background-color: white;}#sk-container-id-1 label.sk-toggleable__label {cursor: pointer;display: block;width: 100%;margin-bottom: 0;padding: 0.3em;box-sizing: border-box;text-align: center;}#sk-container-id-1 label.sk-toggleable__label-arrow:before {content: \"▸\";float: left;margin-right: 0.25em;color: #696969;}#sk-container-id-1 label.sk-toggleable__label-arrow:hover:before {color: black;}#sk-container-id-1 div.sk-estimator:hover label.sk-toggleable__label-arrow:before {color: black;}#sk-container-id-1 div.sk-toggleable__content {max-height: 0;max-width: 0;overflow: hidden;text-align: left;background-color: #f0f8ff;}#sk-container-id-1 div.sk-toggleable__content pre {margin: 0.2em;color: black;border-radius: 0.25em;background-color: #f0f8ff;}#sk-container-id-1 input.sk-toggleable__control:checked~div.sk-toggleable__content {max-height: 200px;max-width: 100%;overflow: auto;}#sk-container-id-1 input.sk-toggleable__control:checked~label.sk-toggleable__label-arrow:before {content: \"▾\";}#sk-container-id-1 div.sk-estimator input.sk-toggleable__control:checked~label.sk-toggleable__label {background-color: #d4ebff;}#sk-container-id-1 div.sk-label input.sk-toggleable__control:checked~label.sk-toggleable__label {background-color: #d4ebff;}#sk-container-id-1 input.sk-hidden--visually {border: 0;clip: rect(1px 1px 1px 1px);clip: rect(1px, 1px, 1px, 1px);height: 1px;margin: -1px;overflow: hidden;padding: 0;position: absolute;width: 1px;}#sk-container-id-1 div.sk-estimator {font-family: monospace;background-color: #f0f8ff;border: 1px dotted black;border-radius: 0.25em;box-sizing: border-box;margin-bottom: 0.5em;}#sk-container-id-1 div.sk-estimator:hover {background-color: #d4ebff;}#sk-container-id-1 div.sk-parallel-item::after {content: \"\";width: 100%;border-bottom: 1px solid gray;flex-grow: 1;}#sk-container-id-1 div.sk-label:hover label.sk-toggleable__label {background-color: #d4ebff;}#sk-container-id-1 div.sk-serial::before {content: \"\";position: absolute;border-left: 1px solid gray;box-sizing: border-box;top: 0;bottom: 0;left: 50%;z-index: 0;}#sk-container-id-1 div.sk-serial {display: flex;flex-direction: column;align-items: center;background-color: white;padding-right: 0.2em;padding-left: 0.2em;position: relative;}#sk-container-id-1 div.sk-item {position: relative;z-index: 1;}#sk-container-id-1 div.sk-parallel {display: flex;align-items: stretch;justify-content: center;background-color: white;position: relative;}#sk-container-id-1 div.sk-item::before, #sk-container-id-1 div.sk-parallel-item::before {content: \"\";position: absolute;border-left: 1px solid gray;box-sizing: border-box;top: 0;bottom: 0;left: 50%;z-index: -1;}#sk-container-id-1 div.sk-parallel-item {display: flex;flex-direction: column;z-index: 1;position: relative;background-color: white;}#sk-container-id-1 div.sk-parallel-item:first-child::after {align-self: flex-end;width: 50%;}#sk-container-id-1 div.sk-parallel-item:last-child::after {align-self: flex-start;width: 50%;}#sk-container-id-1 div.sk-parallel-item:only-child::after {width: 0;}#sk-container-id-1 div.sk-dashed-wrapped {border: 1px dashed gray;margin: 0 0.4em 0.5em 0.4em;box-sizing: border-box;padding-bottom: 0.4em;background-color: white;}#sk-container-id-1 div.sk-label label {font-family: monospace;font-weight: bold;display: inline-block;line-height: 1.2em;}#sk-container-id-1 div.sk-label-container {text-align: center;}#sk-container-id-1 div.sk-container {/* jupyter's `normalize.less` sets `[hidden] { display: none; }` but bootstrap.min.css set `[hidden] { display: none !important; }` so we also need the `!important` here to be able to override the default hidden behavior on the sphinx rendered scikit-learn.org. See: https://github.com/scikit-learn/scikit-learn/issues/21755 */display: inline-block !important;position: relative;}#sk-container-id-1 div.sk-text-repr-fallback {display: none;}</style><div id=\"sk-container-id-1\" class=\"sk-top-container\"><div class=\"sk-text-repr-fallback\"><pre>LogisticRegression(max_iter=1000, random_state=42)</pre><b>In a Jupyter environment, please rerun this cell to show the HTML representation or trust the notebook. <br />On GitHub, the HTML representation is unable to render, please try loading this page with nbviewer.org.</b></div><div class=\"sk-container\" hidden><div class=\"sk-item\"><div class=\"sk-estimator sk-toggleable\"><input class=\"sk-toggleable__control sk-hidden--visually\" id=\"sk-estimator-id-1\" type=\"checkbox\" checked><label for=\"sk-estimator-id-1\" class=\"sk-toggleable__label sk-toggleable__label-arrow\">LogisticRegression</label><div class=\"sk-toggleable__content\"><pre>LogisticRegression(max_iter=1000, random_state=42)</pre></div></div></div></div></div>"
      ],
      "text/plain": [
       "LogisticRegression(max_iter=1000, random_state=42)"
      ]
     },
     "execution_count": 39,
     "metadata": {},
     "output_type": "execute_result"
    }
   ],
   "source": [
    "model = LogisticRegression(max_iter=1000, random_state=42)\n",
    "model.fit(X_train_resampled, y_train_resampled)"
   ]
  },
  {
   "cell_type": "code",
   "execution_count": 40,
   "id": "eafe6e85",
   "metadata": {
    "execution": {
     "iopub.execute_input": "2024-07-31T20:05:38.657684Z",
     "iopub.status.busy": "2024-07-31T20:05:38.656815Z",
     "iopub.status.idle": "2024-07-31T20:05:38.665648Z",
     "shell.execute_reply": "2024-07-31T20:05:38.664302Z"
    },
    "papermill": {
     "duration": 0.032809,
     "end_time": "2024-07-31T20:05:38.668523",
     "exception": false,
     "start_time": "2024-07-31T20:05:38.635714",
     "status": "completed"
    },
    "tags": []
   },
   "outputs": [],
   "source": [
    "y_pred = model.predict(X_test)"
   ]
  },
  {
   "cell_type": "code",
   "execution_count": 41,
   "id": "ab95c10a",
   "metadata": {
    "execution": {
     "iopub.execute_input": "2024-07-31T20:05:38.709916Z",
     "iopub.status.busy": "2024-07-31T20:05:38.709407Z",
     "iopub.status.idle": "2024-07-31T20:05:38.738466Z",
     "shell.execute_reply": "2024-07-31T20:05:38.737529Z"
    },
    "papermill": {
     "duration": 0.053633,
     "end_time": "2024-07-31T20:05:38.741365",
     "exception": false,
     "start_time": "2024-07-31T20:05:38.687732",
     "status": "completed"
    },
    "tags": []
   },
   "outputs": [
    {
     "data": {
      "text/html": [
       "<div>\n",
       "<style scoped>\n",
       "    .dataframe tbody tr th:only-of-type {\n",
       "        vertical-align: middle;\n",
       "    }\n",
       "\n",
       "    .dataframe tbody tr th {\n",
       "        vertical-align: top;\n",
       "    }\n",
       "\n",
       "    .dataframe thead th {\n",
       "        text-align: right;\n",
       "    }\n",
       "</style>\n",
       "<table border=\"1\" class=\"dataframe\">\n",
       "  <thead>\n",
       "    <tr style=\"text-align: right;\">\n",
       "      <th></th>\n",
       "      <th>precision</th>\n",
       "      <th>recall</th>\n",
       "      <th>f1-score</th>\n",
       "      <th>support</th>\n",
       "    </tr>\n",
       "  </thead>\n",
       "  <tbody>\n",
       "    <tr>\n",
       "      <th>0</th>\n",
       "      <td>0.876289</td>\n",
       "      <td>0.809524</td>\n",
       "      <td>0.841584</td>\n",
       "      <td>105.000000</td>\n",
       "    </tr>\n",
       "    <tr>\n",
       "      <th>1</th>\n",
       "      <td>0.756098</td>\n",
       "      <td>0.837838</td>\n",
       "      <td>0.794872</td>\n",
       "      <td>74.000000</td>\n",
       "    </tr>\n",
       "    <tr>\n",
       "      <th>accuracy</th>\n",
       "      <td>0.821229</td>\n",
       "      <td>0.821229</td>\n",
       "      <td>0.821229</td>\n",
       "      <td>0.821229</td>\n",
       "    </tr>\n",
       "    <tr>\n",
       "      <th>macro avg</th>\n",
       "      <td>0.816193</td>\n",
       "      <td>0.823681</td>\n",
       "      <td>0.818228</td>\n",
       "      <td>179.000000</td>\n",
       "    </tr>\n",
       "    <tr>\n",
       "      <th>weighted avg</th>\n",
       "      <td>0.826601</td>\n",
       "      <td>0.821229</td>\n",
       "      <td>0.822273</td>\n",
       "      <td>179.000000</td>\n",
       "    </tr>\n",
       "  </tbody>\n",
       "</table>\n",
       "</div>"
      ],
      "text/plain": [
       "              precision    recall  f1-score     support\n",
       "0              0.876289  0.809524  0.841584  105.000000\n",
       "1              0.756098  0.837838  0.794872   74.000000\n",
       "accuracy       0.821229  0.821229  0.821229    0.821229\n",
       "macro avg      0.816193  0.823681  0.818228  179.000000\n",
       "weighted avg   0.826601  0.821229  0.822273  179.000000"
      ]
     },
     "execution_count": 41,
     "metadata": {},
     "output_type": "execute_result"
    }
   ],
   "source": [
    "report = classification_report(y_test, y_pred, output_dict=True)\n",
    "\n",
    "pd.DataFrame(report).transpose()"
   ]
  }
 ],
 "metadata": {
  "kaggle": {
   "accelerator": "none",
   "dataSources": [
    {
     "databundleVersionId": 26502,
     "sourceId": 3136,
     "sourceType": "competition"
    }
   ],
   "dockerImageVersionId": 30746,
   "isGpuEnabled": false,
   "isInternetEnabled": true,
   "language": "python",
   "sourceType": "notebook"
  },
  "kernelspec": {
   "display_name": "Python 3",
   "language": "python",
   "name": "python3"
  },
  "language_info": {
   "codemirror_mode": {
    "name": "ipython",
    "version": 3
   },
   "file_extension": ".py",
   "mimetype": "text/x-python",
   "name": "python",
   "nbconvert_exporter": "python",
   "pygments_lexer": "ipython3",
   "version": "3.10.13"
  },
  "papermill": {
   "default_parameters": {},
   "duration": 9.38656,
   "end_time": "2024-07-31T20:05:39.384384",
   "environment_variables": {},
   "exception": null,
   "input_path": "__notebook__.ipynb",
   "output_path": "__notebook__.ipynb",
   "parameters": {},
   "start_time": "2024-07-31T20:05:29.997824",
   "version": "2.5.0"
  }
 },
 "nbformat": 4,
 "nbformat_minor": 5
}
