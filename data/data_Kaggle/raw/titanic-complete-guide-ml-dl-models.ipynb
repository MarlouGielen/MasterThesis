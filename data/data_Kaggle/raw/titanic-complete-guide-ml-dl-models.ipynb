{
 "cells": [
  {
   "cell_type": "markdown",
   "id": "354cf1fc",
   "metadata": {
    "papermill": {
     "duration": 0.175831,
     "end_time": "2022-01-19T04:26:26.667072",
     "exception": false,
     "start_time": "2022-01-19T04:26:26.491241",
     "status": "completed"
    },
    "tags": []
   },
   "source": [
    "<p style=\"background-color:#BCDBF9;color:black;font-size:22px;text-align:center;border-radius:9px 9px;font-weight:bold;border:2px solid blue;\">Titanic - Machine Learning from Disaster 🚢🌊</p>\n",
    "\n",
    "<center><img src=\"https://github.com/Isharaneranjana/kaggle_gif/blob/main/descriptive%20Analysis%20(1).gif?raw=true\" style=\"width:100%;height:390px;\"></center>"
   ]
  },
  {
   "cell_type": "markdown",
   "id": "5366356f",
   "metadata": {
    "papermill": {
     "duration": 0.112464,
     "end_time": "2022-01-19T04:26:26.895193",
     "exception": false,
     "start_time": "2022-01-19T04:26:26.782729",
     "status": "completed"
    },
    "tags": []
   },
   "source": [
    "##  <p style=\"background-color:#BCDBF9;color:black;font-size:19px;text-align:center;border-radius:12px 10px;border:2px solid blue;\">🧿 Introduction</p>\n",
    "\n",
    "<font size=\"4\" color=\"black\"> The sinking of the Titanic is one of the most infamous shipwrecks in history. </font>\n",
    "\n",
    "<font size=\"4\" color=\"black\">On April 15, 1912, during her maiden voyage, the widely considered “unsinkable” RMS Titanic sank after colliding with an iceberg. Unfortunately, there weren’t enough lifeboats for everyone onboard, resulting in the death of 1502 out of 2224 passengers and crew.</font>\n",
    "\n",
    "<font size=\"4\" color=\"#01559A\">While there was some element of luck involved in surviving, it seems some groups of people were more likely to survive than others. Let's find out the factors which help to survive.</font>"
   ]
  },
  {
   "cell_type": "markdown",
   "id": "35e76808",
   "metadata": {
    "papermill": {
     "duration": 0.112947,
     "end_time": "2022-01-19T04:26:27.150759",
     "exception": false,
     "start_time": "2022-01-19T04:26:27.037812",
     "status": "completed"
    },
    "tags": []
   },
   "source": [
    "##  <p style=\"background-color:#BCDBF9;color:black;font-size:19px;text-align:center;border-radius:12px 10px;border:2px solid blue;\"> 🏊‍♂️ Objectives</p>\n",
    "\n",
    "* <p><font size=\"4\" color=\"blue\">Explore the factors which decided the survival of passengers.</font></p>\n",
    "* <p><font size=\"4\" color=\"blue\"> predict the survival of passengers on Titanic using machine learning and deep learning.</font></p>"
   ]
  },
  {
   "cell_type": "markdown",
   "id": "1e3f155d",
   "metadata": {
    "papermill": {
     "duration": 0.112855,
     "end_time": "2022-01-19T04:26:27.375792",
     "exception": false,
     "start_time": "2022-01-19T04:26:27.262937",
     "status": "completed"
    },
    "tags": []
   },
   "source": [
    "\n",
    "## <p style=\"background-color:#BCDBF9;color:black;font-size:19px;text-align:center;border-radius:12px 10px;border:2px solid blue;\"> 🛳  Description of the Dataset </p>\n",
    "\n",
    "\n",
    "<font size=\"4\">The dataset contains ten variables and 891 passenger details. Survived is the response variable for the study. </font>\n",
    "<p></p>\n",
    "\n",
    "\n",
    "<table style=\"border-collapse: collapse;font-size: 15px; width:800px;\">\n",
    "  <tr>\n",
    "    <th style=\"background-color:#D3DBDD;\">Variable Name </th>\n",
    "    <th style=\"width:500px; background-color:#D3DBDD;\">Description</th>\n",
    "    <th style=\"background-color:#D3DBDD;\">Type</th>\n",
    "  </tr>\n",
    "  <tr>\n",
    "    <td>survival</td>\n",
    "    <td>Did Survive the incident?</td>\n",
    "    <td>Categoricol</td>\n",
    "  </tr>\n",
    "  <tr>\n",
    "    <td>pclass </td>\n",
    "    <td>Class of the ticket</td>\n",
    "    <td>Categoricol</td>\n",
    "  </tr>\n",
    "  <tr>\n",
    "    <td>sex </td>\n",
    "    <td>Gender </td>\n",
    "    <td>Categoricol</td>\n",
    "  </tr>\n",
    "  <tr>\n",
    "    <td>Age </td>\n",
    "    <td>Age of the passenger</td>\n",
    "    <td>Numeric</td>\n",
    "  </tr>\n",
    "  <tr>\n",
    "    <td>sibsp </td>\n",
    "    <td>no of siblings / spouses aboard the Titanic </td>\n",
    "    <td>Numeric</td>\n",
    "  </tr>\n",
    "  <tr>\n",
    "    <td>parch</td>\n",
    "    <td>no of parents / children aboard the Titanic</td>\n",
    "    <td>Numeric</td>\n",
    "  </tr>\n",
    "  <tr>\n",
    "    <td>ticket</td>\n",
    "    <td>Unique ticket number</td>\n",
    "    <td>Categoricol</td>\n",
    "  </tr>\n",
    "  <tr>\n",
    "    <td>fare</td>\n",
    "    <td>Passenger fare </td>\n",
    "    <td>Numeric</td>\n",
    "  </tr>\n",
    "  <tr>\n",
    "    <td>cabin</td>\n",
    "    <td>cabin number </td>\n",
    "    <td>Categoricol</td>\n",
    "  </tr>\n",
    "  <tr>\n",
    "    <td>Embarked</td>\n",
    "    <td>Port of Embarkation</td>\n",
    "    <td>Categoricol</td>\n",
    "  </tr>\n",
    "</table>\n"
   ]
  },
  {
   "cell_type": "code",
   "execution_count": 1,
   "id": "b12a00d1",
   "metadata": {
    "_cell_guid": "b1076dfc-b9ad-4769-8c92-a6c4dae69d19",
    "_kg_hide-input": false,
    "_uuid": "8f2839f25d086af736a60e9eeb907d3b93b6e0e5",
    "execution": {
     "iopub.execute_input": "2022-01-19T04:26:27.612499Z",
     "iopub.status.busy": "2022-01-19T04:26:27.611804Z",
     "iopub.status.idle": "2022-01-19T04:26:28.449747Z",
     "shell.execute_reply": "2022-01-19T04:26:28.448930Z",
     "shell.execute_reply.started": "2021-12-30T12:30:59.707025Z"
    },
    "papermill": {
     "duration": 0.960921,
     "end_time": "2022-01-19T04:26:28.449914",
     "exception": false,
     "start_time": "2022-01-19T04:26:27.488993",
     "status": "completed"
    },
    "tags": []
   },
   "outputs": [],
   "source": [
    "#importing libraries\n",
    "import numpy as np\n",
    "import pandas as pd\n",
    "import matplotlib.pyplot as plt\n",
    "import seaborn as sns"
   ]
  },
  {
   "cell_type": "markdown",
   "id": "f8169cb7",
   "metadata": {
    "papermill": {
     "duration": 0.113035,
     "end_time": "2022-01-19T04:26:28.676300",
     "exception": false,
     "start_time": "2022-01-19T04:26:28.563265",
     "status": "completed"
    },
    "tags": []
   },
   "source": [
    "#### 🚤 Loading the ... dataset "
   ]
  },
  {
   "cell_type": "code",
   "execution_count": 2,
   "id": "7b5d9256",
   "metadata": {
    "_kg_hide-input": true,
    "execution": {
     "iopub.execute_input": "2022-01-19T04:26:28.908500Z",
     "iopub.status.busy": "2022-01-19T04:26:28.907830Z",
     "iopub.status.idle": "2022-01-19T04:26:28.914092Z",
     "shell.execute_reply": "2022-01-19T04:26:28.914601Z",
     "shell.execute_reply.started": "2021-12-30T12:31:00.591786Z"
    },
    "papermill": {
     "duration": 0.125839,
     "end_time": "2022-01-19T04:26:28.914779",
     "exception": false,
     "start_time": "2022-01-19T04:26:28.788940",
     "status": "completed"
    },
    "tags": []
   },
   "outputs": [
    {
     "name": "stdout",
     "output_type": "stream",
     "text": [
      "/kaggle/input/titanic/train.csv\n",
      "/kaggle/input/titanic/test.csv\n",
      "/kaggle/input/titanic/gender_submission.csv\n"
     ]
    }
   ],
   "source": [
    "import os\n",
    "for dirname, _, filenames in os.walk('/kaggle/input'):\n",
    "    for filename in filenames:\n",
    "        print(os.path.join(dirname, filename))\n",
    "import warnings\n",
    "warnings.filterwarnings(\"ignore\")"
   ]
  },
  {
   "cell_type": "code",
   "execution_count": 3,
   "id": "4afe5cfd",
   "metadata": {
    "execution": {
     "iopub.execute_input": "2022-01-19T04:26:29.148377Z",
     "iopub.status.busy": "2022-01-19T04:26:29.147679Z",
     "iopub.status.idle": "2022-01-19T04:26:29.176098Z",
     "shell.execute_reply": "2022-01-19T04:26:29.175260Z",
     "shell.execute_reply.started": "2021-12-30T12:31:00.602896Z"
    },
    "papermill": {
     "duration": 0.147107,
     "end_time": "2022-01-19T04:26:29.176255",
     "exception": false,
     "start_time": "2022-01-19T04:26:29.029148",
     "status": "completed"
    },
    "tags": []
   },
   "outputs": [],
   "source": [
    "train = pd.read_csv('/kaggle/input/titanic/train.csv')\n",
    "test = pd.read_csv('/kaggle/input/titanic/test.csv')"
   ]
  },
  {
   "cell_type": "markdown",
   "id": "ab722b21",
   "metadata": {
    "papermill": {
     "duration": 0.113177,
     "end_time": "2022-01-19T04:26:29.401679",
     "exception": false,
     "start_time": "2022-01-19T04:26:29.288502",
     "status": "completed"
    },
    "tags": []
   },
   "source": [
    "#### dataset size"
   ]
  },
  {
   "cell_type": "code",
   "execution_count": 4,
   "id": "e7afa392",
   "metadata": {
    "_kg_hide-input": true,
    "execution": {
     "iopub.execute_input": "2022-01-19T04:26:29.631190Z",
     "iopub.status.busy": "2022-01-19T04:26:29.630306Z",
     "iopub.status.idle": "2022-01-19T04:26:29.633775Z",
     "shell.execute_reply": "2022-01-19T04:26:29.634257Z",
     "shell.execute_reply.started": "2021-12-30T12:31:00.634648Z"
    },
    "papermill": {
     "duration": 0.120235,
     "end_time": "2022-01-19T04:26:29.634446",
     "exception": false,
     "start_time": "2022-01-19T04:26:29.514211",
     "status": "completed"
    },
    "tags": []
   },
   "outputs": [
    {
     "name": "stdout",
     "output_type": "stream",
     "text": [
      "training set dimensions:  (891, 12)\n",
      "test set dimensions:  (418, 11)\n"
     ]
    }
   ],
   "source": [
    "print(\"training set dimensions: \",train.shape)\n",
    "print(\"test set dimensions: \",test.shape)"
   ]
  },
  {
   "cell_type": "code",
   "execution_count": 5,
   "id": "091e1954",
   "metadata": {
    "execution": {
     "iopub.execute_input": "2022-01-19T04:26:29.866743Z",
     "iopub.status.busy": "2022-01-19T04:26:29.865743Z",
     "iopub.status.idle": "2022-01-19T04:26:29.890434Z",
     "shell.execute_reply": "2022-01-19T04:26:29.890946Z",
     "shell.execute_reply.started": "2021-12-30T12:31:00.642837Z"
    },
    "papermill": {
     "duration": 0.144339,
     "end_time": "2022-01-19T04:26:29.891130",
     "exception": false,
     "start_time": "2022-01-19T04:26:29.746791",
     "status": "completed"
    },
    "tags": []
   },
   "outputs": [
    {
     "data": {
      "text/html": [
       "<div>\n",
       "<style scoped>\n",
       "    .dataframe tbody tr th:only-of-type {\n",
       "        vertical-align: middle;\n",
       "    }\n",
       "\n",
       "    .dataframe tbody tr th {\n",
       "        vertical-align: top;\n",
       "    }\n",
       "\n",
       "    .dataframe thead th {\n",
       "        text-align: right;\n",
       "    }\n",
       "</style>\n",
       "<table border=\"1\" class=\"dataframe\">\n",
       "  <thead>\n",
       "    <tr style=\"text-align: right;\">\n",
       "      <th></th>\n",
       "      <th>PassengerId</th>\n",
       "      <th>Survived</th>\n",
       "      <th>Pclass</th>\n",
       "      <th>Name</th>\n",
       "      <th>Sex</th>\n",
       "      <th>Age</th>\n",
       "      <th>SibSp</th>\n",
       "      <th>Parch</th>\n",
       "      <th>Ticket</th>\n",
       "      <th>Fare</th>\n",
       "      <th>Cabin</th>\n",
       "      <th>Embarked</th>\n",
       "    </tr>\n",
       "  </thead>\n",
       "  <tbody>\n",
       "    <tr>\n",
       "      <th>0</th>\n",
       "      <td>1</td>\n",
       "      <td>0</td>\n",
       "      <td>3</td>\n",
       "      <td>Braund, Mr. Owen Harris</td>\n",
       "      <td>male</td>\n",
       "      <td>22.0</td>\n",
       "      <td>1</td>\n",
       "      <td>0</td>\n",
       "      <td>A/5 21171</td>\n",
       "      <td>7.2500</td>\n",
       "      <td>NaN</td>\n",
       "      <td>S</td>\n",
       "    </tr>\n",
       "    <tr>\n",
       "      <th>1</th>\n",
       "      <td>2</td>\n",
       "      <td>1</td>\n",
       "      <td>1</td>\n",
       "      <td>Cumings, Mrs. John Bradley (Florence Briggs Th...</td>\n",
       "      <td>female</td>\n",
       "      <td>38.0</td>\n",
       "      <td>1</td>\n",
       "      <td>0</td>\n",
       "      <td>PC 17599</td>\n",
       "      <td>71.2833</td>\n",
       "      <td>C85</td>\n",
       "      <td>C</td>\n",
       "    </tr>\n",
       "    <tr>\n",
       "      <th>2</th>\n",
       "      <td>3</td>\n",
       "      <td>1</td>\n",
       "      <td>3</td>\n",
       "      <td>Heikkinen, Miss. Laina</td>\n",
       "      <td>female</td>\n",
       "      <td>26.0</td>\n",
       "      <td>0</td>\n",
       "      <td>0</td>\n",
       "      <td>STON/O2. 3101282</td>\n",
       "      <td>7.9250</td>\n",
       "      <td>NaN</td>\n",
       "      <td>S</td>\n",
       "    </tr>\n",
       "    <tr>\n",
       "      <th>3</th>\n",
       "      <td>4</td>\n",
       "      <td>1</td>\n",
       "      <td>1</td>\n",
       "      <td>Futrelle, Mrs. Jacques Heath (Lily May Peel)</td>\n",
       "      <td>female</td>\n",
       "      <td>35.0</td>\n",
       "      <td>1</td>\n",
       "      <td>0</td>\n",
       "      <td>113803</td>\n",
       "      <td>53.1000</td>\n",
       "      <td>C123</td>\n",
       "      <td>S</td>\n",
       "    </tr>\n",
       "    <tr>\n",
       "      <th>4</th>\n",
       "      <td>5</td>\n",
       "      <td>0</td>\n",
       "      <td>3</td>\n",
       "      <td>Allen, Mr. William Henry</td>\n",
       "      <td>male</td>\n",
       "      <td>35.0</td>\n",
       "      <td>0</td>\n",
       "      <td>0</td>\n",
       "      <td>373450</td>\n",
       "      <td>8.0500</td>\n",
       "      <td>NaN</td>\n",
       "      <td>S</td>\n",
       "    </tr>\n",
       "  </tbody>\n",
       "</table>\n",
       "</div>"
      ],
      "text/plain": [
       "   PassengerId  Survived  Pclass  \\\n",
       "0            1         0       3   \n",
       "1            2         1       1   \n",
       "2            3         1       3   \n",
       "3            4         1       1   \n",
       "4            5         0       3   \n",
       "\n",
       "                                                Name     Sex   Age  SibSp  \\\n",
       "0                            Braund, Mr. Owen Harris    male  22.0      1   \n",
       "1  Cumings, Mrs. John Bradley (Florence Briggs Th...  female  38.0      1   \n",
       "2                             Heikkinen, Miss. Laina  female  26.0      0   \n",
       "3       Futrelle, Mrs. Jacques Heath (Lily May Peel)  female  35.0      1   \n",
       "4                           Allen, Mr. William Henry    male  35.0      0   \n",
       "\n",
       "   Parch            Ticket     Fare Cabin Embarked  \n",
       "0      0         A/5 21171   7.2500   NaN        S  \n",
       "1      0          PC 17599  71.2833   C85        C  \n",
       "2      0  STON/O2. 3101282   7.9250   NaN        S  \n",
       "3      0            113803  53.1000  C123        S  \n",
       "4      0            373450   8.0500   NaN        S  "
      ]
     },
     "execution_count": 5,
     "metadata": {},
     "output_type": "execute_result"
    }
   ],
   "source": [
    "train.head()\n"
   ]
  },
  {
   "cell_type": "code",
   "execution_count": 6,
   "id": "cdbe1b20",
   "metadata": {
    "execution": {
     "iopub.execute_input": "2022-01-19T04:26:30.128736Z",
     "iopub.status.busy": "2022-01-19T04:26:30.127717Z",
     "iopub.status.idle": "2022-01-19T04:26:30.134729Z",
     "shell.execute_reply": "2022-01-19T04:26:30.135346Z",
     "shell.execute_reply.started": "2021-12-30T12:31:00.671073Z"
    },
    "papermill": {
     "duration": 0.126364,
     "end_time": "2022-01-19T04:26:30.135516",
     "exception": false,
     "start_time": "2022-01-19T04:26:30.009152",
     "status": "completed"
    },
    "tags": []
   },
   "outputs": [
    {
     "data": {
      "text/plain": [
       "PassengerId      int64\n",
       "Survived         int64\n",
       "Pclass           int64\n",
       "Name            object\n",
       "Sex             object\n",
       "Age            float64\n",
       "SibSp            int64\n",
       "Parch            int64\n",
       "Ticket          object\n",
       "Fare           float64\n",
       "Cabin           object\n",
       "Embarked        object\n",
       "dtype: object"
      ]
     },
     "execution_count": 6,
     "metadata": {},
     "output_type": "execute_result"
    }
   ],
   "source": [
    "train.dtypes"
   ]
  },
  {
   "cell_type": "code",
   "execution_count": 7,
   "id": "fb873711",
   "metadata": {
    "execution": {
     "iopub.execute_input": "2022-01-19T04:26:30.366906Z",
     "iopub.status.busy": "2022-01-19T04:26:30.365877Z",
     "iopub.status.idle": "2022-01-19T04:26:30.388524Z",
     "shell.execute_reply": "2022-01-19T04:26:30.387928Z",
     "shell.execute_reply.started": "2021-12-30T12:31:00.679435Z"
    },
    "papermill": {
     "duration": 0.139672,
     "end_time": "2022-01-19T04:26:30.388664",
     "exception": false,
     "start_time": "2022-01-19T04:26:30.248992",
     "status": "completed"
    },
    "tags": []
   },
   "outputs": [
    {
     "name": "stdout",
     "output_type": "stream",
     "text": [
      "<class 'pandas.core.frame.DataFrame'>\n",
      "RangeIndex: 891 entries, 0 to 890\n",
      "Data columns (total 12 columns):\n",
      " #   Column       Non-Null Count  Dtype  \n",
      "---  ------       --------------  -----  \n",
      " 0   PassengerId  891 non-null    int64  \n",
      " 1   Survived     891 non-null    int64  \n",
      " 2   Pclass       891 non-null    int64  \n",
      " 3   Name         891 non-null    object \n",
      " 4   Sex          891 non-null    object \n",
      " 5   Age          714 non-null    float64\n",
      " 6   SibSp        891 non-null    int64  \n",
      " 7   Parch        891 non-null    int64  \n",
      " 8   Ticket       891 non-null    object \n",
      " 9   Fare         891 non-null    float64\n",
      " 10  Cabin        204 non-null    object \n",
      " 11  Embarked     889 non-null    object \n",
      "dtypes: float64(2), int64(5), object(5)\n",
      "memory usage: 83.7+ KB\n"
     ]
    }
   ],
   "source": [
    "train.info()"
   ]
  },
  {
   "cell_type": "markdown",
   "id": "186b59a6",
   "metadata": {
    "papermill": {
     "duration": 0.11371,
     "end_time": "2022-01-19T04:26:30.616151",
     "exception": false,
     "start_time": "2022-01-19T04:26:30.502441",
     "status": "completed"
    },
    "tags": []
   },
   "source": [
    "#### checking missing values in the training set."
   ]
  },
  {
   "cell_type": "code",
   "execution_count": 8,
   "id": "f43ee927",
   "metadata": {
    "_kg_hide-input": true,
    "execution": {
     "iopub.execute_input": "2022-01-19T04:26:30.848745Z",
     "iopub.status.busy": "2022-01-19T04:26:30.847599Z",
     "iopub.status.idle": "2022-01-19T04:26:31.212547Z",
     "shell.execute_reply": "2022-01-19T04:26:31.211957Z",
     "shell.execute_reply.started": "2021-12-30T12:31:00.709929Z"
    },
    "papermill": {
     "duration": 0.4824,
     "end_time": "2022-01-19T04:26:31.212702",
     "exception": false,
     "start_time": "2022-01-19T04:26:30.730302",
     "status": "completed"
    },
    "tags": []
   },
   "outputs": [
    {
     "data": {
      "text/plain": [
       "<AxesSubplot:>"
      ]
     },
     "execution_count": 8,
     "metadata": {},
     "output_type": "execute_result"
    },
    {
     "data": {
      "image/png": "[encoded data removed]",
      "text/plain": [
       "<Figure size 432x288 with 1 Axes>"
      ]
     },
     "metadata": {
      "needs_background": "light"
     },
     "output_type": "display_data"
    }
   ],
   "source": [
    "sns.heatmap(train.isnull(),yticklabels=False,cbar=False,cmap=\"Blues_r\")"
   ]
  },
  {
   "cell_type": "markdown",
   "id": "be8eaa69",
   "metadata": {
    "papermill": {
     "duration": 0.116212,
     "end_time": "2022-01-19T04:26:31.450626",
     "exception": false,
     "start_time": "2022-01-19T04:26:31.334414",
     "status": "completed"
    },
    "tags": []
   },
   "source": [
    "<font size=\"4\" color=\"black\"> There are some missing values in the dataset. So we need to remove or impute them.</font>"
   ]
  },
  {
   "cell_type": "markdown",
   "id": "47f8b4f8",
   "metadata": {
    "papermill": {
     "duration": 0.114897,
     "end_time": "2022-01-19T04:26:31.680646",
     "exception": false,
     "start_time": "2022-01-19T04:26:31.565749",
     "status": "completed"
    },
    "tags": []
   },
   "source": [
    "#### let's check for categorical variables and there categories."
   ]
  },
  {
   "cell_type": "code",
   "execution_count": 9,
   "id": "75fcf6c7",
   "metadata": {
    "_kg_hide-input": true,
    "execution": {
     "iopub.execute_input": "2022-01-19T04:26:31.920486Z",
     "iopub.status.busy": "2022-01-19T04:26:31.919350Z",
     "iopub.status.idle": "2022-01-19T04:26:31.931887Z",
     "shell.execute_reply": "2022-01-19T04:26:31.932503Z",
     "shell.execute_reply.started": "2021-12-30T12:31:00.967321Z"
    },
    "papermill": {
     "duration": 0.135238,
     "end_time": "2022-01-19T04:26:31.932690",
     "exception": false,
     "start_time": "2022-01-19T04:26:31.797452",
     "status": "completed"
    },
    "tags": []
   },
   "outputs": [
    {
     "name": "stdout",
     "output_type": "stream",
     "text": [
      "The dataset contains 5 categorical columns\n",
      "Name : 891 labels\n",
      "Sex : 2 labels\n",
      "Ticket : 681 labels\n",
      "Cabin : 148 labels\n",
      "Embarked : 4 labels\n"
     ]
    }
   ],
   "source": [
    "categorical_cols= train.select_dtypes(include=['object'])\n",
    "print(f'The dataset contains {len(categorical_cols.columns.tolist())} categorical columns')\n",
    "for cols in categorical_cols.columns:\n",
    "    print(cols,':', len(categorical_cols[cols].unique()),'labels')"
   ]
  },
  {
   "cell_type": "markdown",
   "id": "24a673a7",
   "metadata": {
    "papermill": {
     "duration": 0.117282,
     "end_time": "2022-01-19T04:26:32.167725",
     "exception": false,
     "start_time": "2022-01-19T04:26:32.050443",
     "status": "completed"
    },
    "tags": []
   },
   "source": [
    "##  <p style=\"background-color:#BCDBF9;color:black;font-size:19px;text-align:center;border-radius:12px 10px;border:2px solid blue;\"> 📊 Descriptive Analysis </p>"
   ]
  },
  {
   "cell_type": "markdown",
   "id": "0cfc02ba",
   "metadata": {
    "papermill": {
     "duration": 0.116161,
     "end_time": "2022-01-19T04:26:32.401144",
     "exception": false,
     "start_time": "2022-01-19T04:26:32.284983",
     "status": "completed"
    },
    "tags": []
   },
   "source": [
    "#### some of the important results of descriptive analysis is shown below.All the plots are created using plotly."
   ]
  },
  {
   "cell_type": "markdown",
   "id": "dbd936bf",
   "metadata": {
    "papermill": {
     "duration": 0.115102,
     "end_time": "2022-01-19T04:26:32.632215",
     "exception": false,
     "start_time": "2022-01-19T04:26:32.517113",
     "status": "completed"
    },
    "tags": []
   },
   "source": [
    "#### <u>Univariate Analysis</u>"
   ]
  },
  {
   "cell_type": "code",
   "execution_count": 10,
   "id": "ced5562e",
   "metadata": {
    "_kg_hide-input": true,
    "execution": {
     "iopub.execute_input": "2022-01-19T04:26:32.871761Z",
     "iopub.status.busy": "2022-01-19T04:26:32.871067Z",
     "iopub.status.idle": "2022-01-19T04:26:33.001829Z",
     "shell.execute_reply": "2022-01-19T04:26:33.001285Z",
     "shell.execute_reply.started": "2021-12-30T12:31:00.980671Z"
    },
    "papermill": {
     "duration": 0.253594,
     "end_time": "2022-01-19T04:26:33.001976",
     "exception": false,
     "start_time": "2022-01-19T04:26:32.748382",
     "status": "completed"
    },
    "tags": []
   },
   "outputs": [
    {
     "data": {
      "text/html": [
       "        <script type=\"text/javascript\">\n",
       "        window.PlotlyConfig = {MathJaxConfig: 'local'};\n",
       "        if (window.MathJax) {MathJax.Hub.Config({SVG: {font: \"STIX-Web\"}});}\n",
       "        if (typeof require !== 'undefined') {\n",
       "        require.undef(\"plotly\");\n",
       "        requirejs.config({\n",
       "            paths: {\n",
       "                'plotly': ['https://cdn.plot.ly/plotly-2.4.2.min']\n",
       "            }\n",
       "        });\n",
       "        require(['plotly'], function(Plotly) {\n",
       "            window._Plotly = Plotly;\n",
       "        });\n",
       "        }\n",
       "        </script>\n",
       "        "
      ]
     },
     "metadata": {},
     "output_type": "display_data"
    },
    {
     "data": {
      "text/html": [
       "<div>                            <div id=\"cfbc9b35-1020-4815-8709-b8066bc476ca\" class=\"plotly-graph-div\" style=\"height:525px; width:100%;\"></div>            <script type=\"text/javascript\">                require([\"plotly\"], function(Plotly) {                    window.PLOTLYENV=window.PLOTLYENV || {};                                    if (document.getElementById(\"cfbc9b35-1020-4815-8709-b8066bc476ca\")) {                    Plotly.newPlot(                        \"cfbc9b35-1020-4815-8709-b8066bc476ca\",                        [{\"hole\":0.3,\"labels\":[\"Southampton\",\"Cherbourg\",\"Queenstown\"],\"marker\":{\"colors\":[\"#D3DBDD\",\"navy\",\"#57A7F3\"]},\"pull\":[0,0,0.06,0],\"type\":\"pie\",\"values\":[644,168,77]}],                        {\"template\":{\"data\":{\"bar\":[{\"error_x\":{\"color\":\"#2a3f5f\"},\"error_y\":{\"color\":\"#2a3f5f\"},\"marker\":{\"line\":{\"color\":\"#E5ECF6\",\"width\":0.5},\"pattern\":{\"fillmode\":\"overlay\",\"size\":10,\"solidity\":0.2}},\"type\":\"bar\"}],\"barpolar\":[{\"marker\":{\"line\":{\"color\":\"#E5ECF6\",\"width\":0.5},\"pattern\":{\"fillmode\":\"overlay\",\"size\":10,\"solidity\":0.2}},\"type\":\"barpolar\"}],\"carpet\":[{\"aaxis\":{\"endlinecolor\":\"#2a3f5f\",\"gridcolor\":\"white\",\"linecolor\":\"white\",\"minorgridcolor\":\"white\",\"startlinecolor\":\"#2a3f5f\"},\"baxis\":{\"endlinecolor\":\"#2a3f5f\",\"gridcolor\":\"white\",\"linecolor\":\"white\",\"minorgridcolor\":\"white\",\"startlinecolor\":\"#2a3f5f\"},\"type\":\"carpet\"}],\"choropleth\":[{\"colorbar\":{\"outlinewidth\":0,\"ticks\":\"\"},\"type\":\"choropleth\"}],\"contour\":[{\"colorbar\":{\"outlinewidth\":0,\"ticks\":\"\"},\"colorscale\":[[0.0,\"#0d0887\"],[0.1111111111111111,\"#46039f\"],[0.2222222222222222,\"#7201a8\"],[0.3333333333333333,\"#9c179e\"],[0.4444444444444444,\"#bd3786\"],[0.5555555555555556,\"#d8576b\"],[0.6666666666666666,\"#ed7953\"],[0.7777777777777778,\"#fb9f3a\"],[0.8888888888888888,\"#fdca26\"],[1.0,\"#f0f921\"]],\"type\":\"contour\"}],\"contourcarpet\":[{\"colorbar\":{\"outlinewidth\":0,\"ticks\":\"\"},\"type\":\"contourcarpet\"}],\"heatmap\":[{\"colorbar\":{\"outlinewidth\":0,\"ticks\":\"\"},\"colorscale\":[[0.0,\"#0d0887\"],[0.1111111111111111,\"#46039f\"],[0.2222222222222222,\"#7201a8\"],[0.3333333333333333,\"#9c179e\"],[0.4444444444444444,\"#bd3786\"],[0.5555555555555556,\"#d8576b\"],[0.6666666666666666,\"#ed7953\"],[0.7777777777777778,\"#fb9f3a\"],[0.8888888888888888,\"#fdca26\"],[1.0,\"#f0f921\"]],\"type\":\"heatmap\"}],\"heatmapgl\":[{\"colorbar\":{\"outlinewidth\":0,\"ticks\":\"\"},\"colorscale\":[[0.0,\"#0d0887\"],[0.1111111111111111,\"#46039f\"],[0.2222222222222222,\"#7201a8\"],[0.3333333333333333,\"#9c179e\"],[0.4444444444444444,\"#bd3786\"],[0.5555555555555556,\"#d8576b\"],[0.6666666666666666,\"#ed7953\"],[0.7777777777777778,\"#fb9f3a\"],[0.8888888888888888,\"#fdca26\"],[1.0,\"#f0f921\"]],\"type\":\"heatmapgl\"}],\"histogram\":[{\"marker\":{\"pattern\":{\"fillmode\":\"overlay\",\"size\":10,\"solidity\":0.2}},\"type\":\"histogram\"}],\"histogram2d\":[{\"colorbar\":{\"outlinewidth\":0,\"ticks\":\"\"},\"colorscale\":[[0.0,\"#0d0887\"],[0.1111111111111111,\"#46039f\"],[0.2222222222222222,\"#7201a8\"],[0.3333333333333333,\"#9c179e\"],[0.4444444444444444,\"#bd3786\"],[0.5555555555555556,\"#d8576b\"],[0.6666666666666666,\"#ed7953\"],[0.7777777777777778,\"#fb9f3a\"],[0.8888888888888888,\"#fdca26\"],[1.0,\"#f0f921\"]],\"type\":\"histogram2d\"}],\"histogram2dcontour\":[{\"colorbar\":{\"outlinewidth\":0,\"ticks\":\"\"},\"colorscale\":[[0.0,\"#0d0887\"],[0.1111111111111111,\"#46039f\"],[0.2222222222222222,\"#7201a8\"],[0.3333333333333333,\"#9c179e\"],[0.4444444444444444,\"#bd3786\"],[0.5555555555555556,\"#d8576b\"],[0.6666666666666666,\"#ed7953\"],[0.7777777777777778,\"#fb9f3a\"],[0.8888888888888888,\"#fdca26\"],[1.0,\"#f0f921\"]],\"type\":\"histogram2dcontour\"}],\"mesh3d\":[{\"colorbar\":{\"outlinewidth\":0,\"ticks\":\"\"},\"type\":\"mesh3d\"}],\"parcoords\":[{\"line\":{\"colorbar\":{\"outlinewidth\":0,\"ticks\":\"\"}},\"type\":\"parcoords\"}],\"pie\":[{\"automargin\":true,\"type\":\"pie\"}],\"scatter\":[{\"marker\":{\"colorbar\":{\"outlinewidth\":0,\"ticks\":\"\"}},\"type\":\"scatter\"}],\"scatter3d\":[{\"line\":{\"colorbar\":{\"outlinewidth\":0,\"ticks\":\"\"}},\"marker\":{\"colorbar\":{\"outlinewidth\":0,\"ticks\":\"\"}},\"type\":\"scatter3d\"}],\"scattercarpet\":[{\"marker\":{\"colorbar\":{\"outlinewidth\":0,\"ticks\":\"\"}},\"type\":\"scattercarpet\"}],\"scattergeo\":[{\"marker\":{\"colorbar\":{\"outlinewidth\":0,\"ticks\":\"\"}},\"type\":\"scattergeo\"}],\"scattergl\":[{\"marker\":{\"colorbar\":{\"outlinewidth\":0,\"ticks\":\"\"}},\"type\":\"scattergl\"}],\"scattermapbox\":[{\"marker\":{\"colorbar\":{\"outlinewidth\":0,\"ticks\":\"\"}},\"type\":\"scattermapbox\"}],\"scatterpolar\":[{\"marker\":{\"colorbar\":{\"outlinewidth\":0,\"ticks\":\"\"}},\"type\":\"scatterpolar\"}],\"scatterpolargl\":[{\"marker\":{\"colorbar\":{\"outlinewidth\":0,\"ticks\":\"\"}},\"type\":\"scatterpolargl\"}],\"scatterternary\":[{\"marker\":{\"colorbar\":{\"outlinewidth\":0,\"ticks\":\"\"}},\"type\":\"scatterternary\"}],\"surface\":[{\"colorbar\":{\"outlinewidth\":0,\"ticks\":\"\"},\"colorscale\":[[0.0,\"#0d0887\"],[0.1111111111111111,\"#46039f\"],[0.2222222222222222,\"#7201a8\"],[0.3333333333333333,\"#9c179e\"],[0.4444444444444444,\"#bd3786\"],[0.5555555555555556,\"#d8576b\"],[0.6666666666666666,\"#ed7953\"],[0.7777777777777778,\"#fb9f3a\"],[0.8888888888888888,\"#fdca26\"],[1.0,\"#f0f921\"]],\"type\":\"surface\"}],\"table\":[{\"cells\":{\"fill\":{\"color\":\"#EBF0F8\"},\"line\":{\"color\":\"white\"}},\"header\":{\"fill\":{\"color\":\"#C8D4E3\"},\"line\":{\"color\":\"white\"}},\"type\":\"table\"}]},\"layout\":{\"annotationdefaults\":{\"arrowcolor\":\"#2a3f5f\",\"arrowhead\":0,\"arrowwidth\":1},\"autotypenumbers\":\"strict\",\"coloraxis\":{\"colorbar\":{\"outlinewidth\":0,\"ticks\":\"\"}},\"colorscale\":{\"diverging\":[[0,\"#8e0152\"],[0.1,\"#c51b7d\"],[0.2,\"#de77ae\"],[0.3,\"#f1b6da\"],[0.4,\"#fde0ef\"],[0.5,\"#f7f7f7\"],[0.6,\"#e6f5d0\"],[0.7,\"#b8e186\"],[0.8,\"#7fbc41\"],[0.9,\"#4d9221\"],[1,\"#276419\"]],\"sequential\":[[0.0,\"#0d0887\"],[0.1111111111111111,\"#46039f\"],[0.2222222222222222,\"#7201a8\"],[0.3333333333333333,\"#9c179e\"],[0.4444444444444444,\"#bd3786\"],[0.5555555555555556,\"#d8576b\"],[0.6666666666666666,\"#ed7953\"],[0.7777777777777778,\"#fb9f3a\"],[0.8888888888888888,\"#fdca26\"],[1.0,\"#f0f921\"]],\"sequentialminus\":[[0.0,\"#0d0887\"],[0.1111111111111111,\"#46039f\"],[0.2222222222222222,\"#7201a8\"],[0.3333333333333333,\"#9c179e\"],[0.4444444444444444,\"#bd3786\"],[0.5555555555555556,\"#d8576b\"],[0.6666666666666666,\"#ed7953\"],[0.7777777777777778,\"#fb9f3a\"],[0.8888888888888888,\"#fdca26\"],[1.0,\"#f0f921\"]]},\"colorway\":[\"#636efa\",\"#EF553B\",\"#00cc96\",\"#ab63fa\",\"#FFA15A\",\"#19d3f3\",\"#FF6692\",\"#B6E880\",\"#FF97FF\",\"#FECB52\"],\"font\":{\"color\":\"#2a3f5f\"},\"geo\":{\"bgcolor\":\"white\",\"lakecolor\":\"white\",\"landcolor\":\"#E5ECF6\",\"showlakes\":true,\"showland\":true,\"subunitcolor\":\"white\"},\"hoverlabel\":{\"align\":\"left\"},\"hovermode\":\"closest\",\"mapbox\":{\"style\":\"light\"},\"paper_bgcolor\":\"white\",\"plot_bgcolor\":\"#E5ECF6\",\"polar\":{\"angularaxis\":{\"gridcolor\":\"white\",\"linecolor\":\"white\",\"ticks\":\"\"},\"bgcolor\":\"#E5ECF6\",\"radialaxis\":{\"gridcolor\":\"white\",\"linecolor\":\"white\",\"ticks\":\"\"}},\"scene\":{\"xaxis\":{\"backgroundcolor\":\"#E5ECF6\",\"gridcolor\":\"white\",\"gridwidth\":2,\"linecolor\":\"white\",\"showbackground\":true,\"ticks\":\"\",\"zerolinecolor\":\"white\"},\"yaxis\":{\"backgroundcolor\":\"#E5ECF6\",\"gridcolor\":\"white\",\"gridwidth\":2,\"linecolor\":\"white\",\"showbackground\":true,\"ticks\":\"\",\"zerolinecolor\":\"white\"},\"zaxis\":{\"backgroundcolor\":\"#E5ECF6\",\"gridcolor\":\"white\",\"gridwidth\":2,\"linecolor\":\"white\",\"showbackground\":true,\"ticks\":\"\",\"zerolinecolor\":\"white\"}},\"shapedefaults\":{\"line\":{\"color\":\"#2a3f5f\"}},\"ternary\":{\"aaxis\":{\"gridcolor\":\"white\",\"linecolor\":\"white\",\"ticks\":\"\"},\"baxis\":{\"gridcolor\":\"white\",\"linecolor\":\"white\",\"ticks\":\"\"},\"bgcolor\":\"#E5ECF6\",\"caxis\":{\"gridcolor\":\"white\",\"linecolor\":\"white\",\"ticks\":\"\"}},\"title\":{\"x\":0.05},\"xaxis\":{\"automargin\":true,\"gridcolor\":\"white\",\"linecolor\":\"white\",\"ticks\":\"\",\"title\":{\"standoff\":15},\"zerolinecolor\":\"white\",\"zerolinewidth\":2},\"yaxis\":{\"automargin\":true,\"gridcolor\":\"white\",\"linecolor\":\"white\",\"ticks\":\"\",\"title\":{\"standoff\":15},\"zerolinecolor\":\"white\",\"zerolinewidth\":2}}},\"title\":{\"text\":\"Port of embarkation\"}},                        {\"responsive\": true}                    ).then(function(){\n",
       "                            \n",
       "var gd = document.getElementById('cfbc9b35-1020-4815-8709-b8066bc476ca');\n",
       "var x = new MutationObserver(function (mutations, observer) {{\n",
       "        var display = window.getComputedStyle(gd).display;\n",
       "        if (!display || display === 'none') {{\n",
       "            console.log([gd, 'removed!']);\n",
       "            Plotly.purge(gd);\n",
       "            observer.disconnect();\n",
       "        }}\n",
       "}});\n",
       "\n",
       "// Listen for the removal of the full notebook cells\n",
       "var notebookContainer = gd.closest('#notebook-container');\n",
       "if (notebookContainer) {{\n",
       "    x.observe(notebookContainer, {childList: true});\n",
       "}}\n",
       "\n",
       "// Listen for the clearing of the current output cell\n",
       "var outputEl = gd.closest('.output');\n",
       "if (outputEl) {{\n",
       "    x.observe(outputEl, {childList: true});\n",
       "}}\n",
       "\n",
       "                        })                };                });            </script>        </div>"
      ]
     },
     "metadata": {},
     "output_type": "display_data"
    }
   ],
   "source": [
    "import plotly.graph_objects as go\n",
    "\n",
    "night_colors = ['#D3DBDD',  'navy',  '#57A7F3']\n",
    "labels = [x for x in train.Embarked.value_counts().index]\n",
    "values = train.Embarked.value_counts()\n",
    "\n",
    "# Use `hole` to create a donut-like pie chart\n",
    "fig=go.Figure(data=[go.Pie(labels=[\"Southampton\",\"Cherbourg\",\"Queenstown\"],values=values,hole=.3,pull=[0,0,0.06,0])])\n",
    "\n",
    "fig.update_layout(\n",
    "    title_text=\"Port of embarkation\")\n",
    "fig.update_traces(marker=dict(colors=night_colors))\n",
    "fig.show()"
   ]
  },
  {
   "cell_type": "markdown",
   "id": "38bccebd",
   "metadata": {
    "papermill": {
     "duration": 0.117498,
     "end_time": "2022-01-19T04:26:33.238130",
     "exception": false,
     "start_time": "2022-01-19T04:26:33.120632",
     "status": "completed"
    },
    "tags": []
   },
   "source": [
    "<font size=\"4\" color=\"black\"> The majority of the passenegers from southampton and least number of passengers from Queenstown.</font>"
   ]
  },
  {
   "cell_type": "code",
   "execution_count": 11,
   "id": "f264c0a3",
   "metadata": {
    "_kg_hide-input": true,
    "execution": {
     "iopub.execute_input": "2022-01-19T04:26:33.479296Z",
     "iopub.status.busy": "2022-01-19T04:26:33.478361Z",
     "iopub.status.idle": "2022-01-19T04:26:33.493250Z",
     "shell.execute_reply": "2022-01-19T04:26:33.493870Z",
     "shell.execute_reply.started": "2021-12-30T12:31:01.316506Z"
    },
    "papermill": {
     "duration": 0.136468,
     "end_time": "2022-01-19T04:26:33.494049",
     "exception": false,
     "start_time": "2022-01-19T04:26:33.357581",
     "status": "completed"
    },
    "tags": []
   },
   "outputs": [
    {
     "data": {
      "text/html": [
       "<div>                            <div id=\"841f3d78-e068-4d85-9c5e-3307197570a9\" class=\"plotly-graph-div\" style=\"height:525px; width:100%;\"></div>            <script type=\"text/javascript\">                require([\"plotly\"], function(Plotly) {                    window.PLOTLYENV=window.PLOTLYENV || {};                                    if (document.getElementById(\"841f3d78-e068-4d85-9c5e-3307197570a9\")) {                    Plotly.newPlot(                        \"841f3d78-e068-4d85-9c5e-3307197570a9\",                        [{\"hole\":0.3,\"labels\":[\"male\",\"female\"],\"marker\":{\"colors\":[\"#D3DBDD\",\"navy\",\"#57A7F3\"]},\"pull\":[0.03,0],\"type\":\"pie\",\"values\":[577,314]}],                        {\"template\":{\"data\":{\"bar\":[{\"error_x\":{\"color\":\"#2a3f5f\"},\"error_y\":{\"color\":\"#2a3f5f\"},\"marker\":{\"line\":{\"color\":\"#E5ECF6\",\"width\":0.5},\"pattern\":{\"fillmode\":\"overlay\",\"size\":10,\"solidity\":0.2}},\"type\":\"bar\"}],\"barpolar\":[{\"marker\":{\"line\":{\"color\":\"#E5ECF6\",\"width\":0.5},\"pattern\":{\"fillmode\":\"overlay\",\"size\":10,\"solidity\":0.2}},\"type\":\"barpolar\"}],\"carpet\":[{\"aaxis\":{\"endlinecolor\":\"#2a3f5f\",\"gridcolor\":\"white\",\"linecolor\":\"white\",\"minorgridcolor\":\"white\",\"startlinecolor\":\"#2a3f5f\"},\"baxis\":{\"endlinecolor\":\"#2a3f5f\",\"gridcolor\":\"white\",\"linecolor\":\"white\",\"minorgridcolor\":\"white\",\"startlinecolor\":\"#2a3f5f\"},\"type\":\"carpet\"}],\"choropleth\":[{\"colorbar\":{\"outlinewidth\":0,\"ticks\":\"\"},\"type\":\"choropleth\"}],\"contour\":[{\"colorbar\":{\"outlinewidth\":0,\"ticks\":\"\"},\"colorscale\":[[0.0,\"#0d0887\"],[0.1111111111111111,\"#46039f\"],[0.2222222222222222,\"#7201a8\"],[0.3333333333333333,\"#9c179e\"],[0.4444444444444444,\"#bd3786\"],[0.5555555555555556,\"#d8576b\"],[0.6666666666666666,\"#ed7953\"],[0.7777777777777778,\"#fb9f3a\"],[0.8888888888888888,\"#fdca26\"],[1.0,\"#f0f921\"]],\"type\":\"contour\"}],\"contourcarpet\":[{\"colorbar\":{\"outlinewidth\":0,\"ticks\":\"\"},\"type\":\"contourcarpet\"}],\"heatmap\":[{\"colorbar\":{\"outlinewidth\":0,\"ticks\":\"\"},\"colorscale\":[[0.0,\"#0d0887\"],[0.1111111111111111,\"#46039f\"],[0.2222222222222222,\"#7201a8\"],[0.3333333333333333,\"#9c179e\"],[0.4444444444444444,\"#bd3786\"],[0.5555555555555556,\"#d8576b\"],[0.6666666666666666,\"#ed7953\"],[0.7777777777777778,\"#fb9f3a\"],[0.8888888888888888,\"#fdca26\"],[1.0,\"#f0f921\"]],\"type\":\"heatmap\"}],\"heatmapgl\":[{\"colorbar\":{\"outlinewidth\":0,\"ticks\":\"\"},\"colorscale\":[[0.0,\"#0d0887\"],[0.1111111111111111,\"#46039f\"],[0.2222222222222222,\"#7201a8\"],[0.3333333333333333,\"#9c179e\"],[0.4444444444444444,\"#bd3786\"],[0.5555555555555556,\"#d8576b\"],[0.6666666666666666,\"#ed7953\"],[0.7777777777777778,\"#fb9f3a\"],[0.8888888888888888,\"#fdca26\"],[1.0,\"#f0f921\"]],\"type\":\"heatmapgl\"}],\"histogram\":[{\"marker\":{\"pattern\":{\"fillmode\":\"overlay\",\"size\":10,\"solidity\":0.2}},\"type\":\"histogram\"}],\"histogram2d\":[{\"colorbar\":{\"outlinewidth\":0,\"ticks\":\"\"},\"colorscale\":[[0.0,\"#0d0887\"],[0.1111111111111111,\"#46039f\"],[0.2222222222222222,\"#7201a8\"],[0.3333333333333333,\"#9c179e\"],[0.4444444444444444,\"#bd3786\"],[0.5555555555555556,\"#d8576b\"],[0.6666666666666666,\"#ed7953\"],[0.7777777777777778,\"#fb9f3a\"],[0.8888888888888888,\"#fdca26\"],[1.0,\"#f0f921\"]],\"type\":\"histogram2d\"}],\"histogram2dcontour\":[{\"colorbar\":{\"outlinewidth\":0,\"ticks\":\"\"},\"colorscale\":[[0.0,\"#0d0887\"],[0.1111111111111111,\"#46039f\"],[0.2222222222222222,\"#7201a8\"],[0.3333333333333333,\"#9c179e\"],[0.4444444444444444,\"#bd3786\"],[0.5555555555555556,\"#d8576b\"],[0.6666666666666666,\"#ed7953\"],[0.7777777777777778,\"#fb9f3a\"],[0.8888888888888888,\"#fdca26\"],[1.0,\"#f0f921\"]],\"type\":\"histogram2dcontour\"}],\"mesh3d\":[{\"colorbar\":{\"outlinewidth\":0,\"ticks\":\"\"},\"type\":\"mesh3d\"}],\"parcoords\":[{\"line\":{\"colorbar\":{\"outlinewidth\":0,\"ticks\":\"\"}},\"type\":\"parcoords\"}],\"pie\":[{\"automargin\":true,\"type\":\"pie\"}],\"scatter\":[{\"marker\":{\"colorbar\":{\"outlinewidth\":0,\"ticks\":\"\"}},\"type\":\"scatter\"}],\"scatter3d\":[{\"line\":{\"colorbar\":{\"outlinewidth\":0,\"ticks\":\"\"}},\"marker\":{\"colorbar\":{\"outlinewidth\":0,\"ticks\":\"\"}},\"type\":\"scatter3d\"}],\"scattercarpet\":[{\"marker\":{\"colorbar\":{\"outlinewidth\":0,\"ticks\":\"\"}},\"type\":\"scattercarpet\"}],\"scattergeo\":[{\"marker\":{\"colorbar\":{\"outlinewidth\":0,\"ticks\":\"\"}},\"type\":\"scattergeo\"}],\"scattergl\":[{\"marker\":{\"colorbar\":{\"outlinewidth\":0,\"ticks\":\"\"}},\"type\":\"scattergl\"}],\"scattermapbox\":[{\"marker\":{\"colorbar\":{\"outlinewidth\":0,\"ticks\":\"\"}},\"type\":\"scattermapbox\"}],\"scatterpolar\":[{\"marker\":{\"colorbar\":{\"outlinewidth\":0,\"ticks\":\"\"}},\"type\":\"scatterpolar\"}],\"scatterpolargl\":[{\"marker\":{\"colorbar\":{\"outlinewidth\":0,\"ticks\":\"\"}},\"type\":\"scatterpolargl\"}],\"scatterternary\":[{\"marker\":{\"colorbar\":{\"outlinewidth\":0,\"ticks\":\"\"}},\"type\":\"scatterternary\"}],\"surface\":[{\"colorbar\":{\"outlinewidth\":0,\"ticks\":\"\"},\"colorscale\":[[0.0,\"#0d0887\"],[0.1111111111111111,\"#46039f\"],[0.2222222222222222,\"#7201a8\"],[0.3333333333333333,\"#9c179e\"],[0.4444444444444444,\"#bd3786\"],[0.5555555555555556,\"#d8576b\"],[0.6666666666666666,\"#ed7953\"],[0.7777777777777778,\"#fb9f3a\"],[0.8888888888888888,\"#fdca26\"],[1.0,\"#f0f921\"]],\"type\":\"surface\"}],\"table\":[{\"cells\":{\"fill\":{\"color\":\"#EBF0F8\"},\"line\":{\"color\":\"white\"}},\"header\":{\"fill\":{\"color\":\"#C8D4E3\"},\"line\":{\"color\":\"white\"}},\"type\":\"table\"}]},\"layout\":{\"annotationdefaults\":{\"arrowcolor\":\"#2a3f5f\",\"arrowhead\":0,\"arrowwidth\":1},\"autotypenumbers\":\"strict\",\"coloraxis\":{\"colorbar\":{\"outlinewidth\":0,\"ticks\":\"\"}},\"colorscale\":{\"diverging\":[[0,\"#8e0152\"],[0.1,\"#c51b7d\"],[0.2,\"#de77ae\"],[0.3,\"#f1b6da\"],[0.4,\"#fde0ef\"],[0.5,\"#f7f7f7\"],[0.6,\"#e6f5d0\"],[0.7,\"#b8e186\"],[0.8,\"#7fbc41\"],[0.9,\"#4d9221\"],[1,\"#276419\"]],\"sequential\":[[0.0,\"#0d0887\"],[0.1111111111111111,\"#46039f\"],[0.2222222222222222,\"#7201a8\"],[0.3333333333333333,\"#9c179e\"],[0.4444444444444444,\"#bd3786\"],[0.5555555555555556,\"#d8576b\"],[0.6666666666666666,\"#ed7953\"],[0.7777777777777778,\"#fb9f3a\"],[0.8888888888888888,\"#fdca26\"],[1.0,\"#f0f921\"]],\"sequentialminus\":[[0.0,\"#0d0887\"],[0.1111111111111111,\"#46039f\"],[0.2222222222222222,\"#7201a8\"],[0.3333333333333333,\"#9c179e\"],[0.4444444444444444,\"#bd3786\"],[0.5555555555555556,\"#d8576b\"],[0.6666666666666666,\"#ed7953\"],[0.7777777777777778,\"#fb9f3a\"],[0.8888888888888888,\"#fdca26\"],[1.0,\"#f0f921\"]]},\"colorway\":[\"#636efa\",\"#EF553B\",\"#00cc96\",\"#ab63fa\",\"#FFA15A\",\"#19d3f3\",\"#FF6692\",\"#B6E880\",\"#FF97FF\",\"#FECB52\"],\"font\":{\"color\":\"#2a3f5f\"},\"geo\":{\"bgcolor\":\"white\",\"lakecolor\":\"white\",\"landcolor\":\"#E5ECF6\",\"showlakes\":true,\"showland\":true,\"subunitcolor\":\"white\"},\"hoverlabel\":{\"align\":\"left\"},\"hovermode\":\"closest\",\"mapbox\":{\"style\":\"light\"},\"paper_bgcolor\":\"white\",\"plot_bgcolor\":\"#E5ECF6\",\"polar\":{\"angularaxis\":{\"gridcolor\":\"white\",\"linecolor\":\"white\",\"ticks\":\"\"},\"bgcolor\":\"#E5ECF6\",\"radialaxis\":{\"gridcolor\":\"white\",\"linecolor\":\"white\",\"ticks\":\"\"}},\"scene\":{\"xaxis\":{\"backgroundcolor\":\"#E5ECF6\",\"gridcolor\":\"white\",\"gridwidth\":2,\"linecolor\":\"white\",\"showbackground\":true,\"ticks\":\"\",\"zerolinecolor\":\"white\"},\"yaxis\":{\"backgroundcolor\":\"#E5ECF6\",\"gridcolor\":\"white\",\"gridwidth\":2,\"linecolor\":\"white\",\"showbackground\":true,\"ticks\":\"\",\"zerolinecolor\":\"white\"},\"zaxis\":{\"backgroundcolor\":\"#E5ECF6\",\"gridcolor\":\"white\",\"gridwidth\":2,\"linecolor\":\"white\",\"showbackground\":true,\"ticks\":\"\",\"zerolinecolor\":\"white\"}},\"shapedefaults\":{\"line\":{\"color\":\"#2a3f5f\"}},\"ternary\":{\"aaxis\":{\"gridcolor\":\"white\",\"linecolor\":\"white\",\"ticks\":\"\"},\"baxis\":{\"gridcolor\":\"white\",\"linecolor\":\"white\",\"ticks\":\"\"},\"bgcolor\":\"#E5ECF6\",\"caxis\":{\"gridcolor\":\"white\",\"linecolor\":\"white\",\"ticks\":\"\"}},\"title\":{\"x\":0.05},\"xaxis\":{\"automargin\":true,\"gridcolor\":\"white\",\"linecolor\":\"white\",\"ticks\":\"\",\"title\":{\"standoff\":15},\"zerolinecolor\":\"white\",\"zerolinewidth\":2},\"yaxis\":{\"automargin\":true,\"gridcolor\":\"white\",\"linecolor\":\"white\",\"ticks\":\"\",\"title\":{\"standoff\":15},\"zerolinecolor\":\"white\",\"zerolinewidth\":2}}},\"title\":{\"text\":\"Gender \"}},                        {\"responsive\": true}                    ).then(function(){\n",
       "                            \n",
       "var gd = document.getElementById('841f3d78-e068-4d85-9c5e-3307197570a9');\n",
       "var x = new MutationObserver(function (mutations, observer) {{\n",
       "        var display = window.getComputedStyle(gd).display;\n",
       "        if (!display || display === 'none') {{\n",
       "            console.log([gd, 'removed!']);\n",
       "            Plotly.purge(gd);\n",
       "            observer.disconnect();\n",
       "        }}\n",
       "}});\n",
       "\n",
       "// Listen for the removal of the full notebook cells\n",
       "var notebookContainer = gd.closest('#notebook-container');\n",
       "if (notebookContainer) {{\n",
       "    x.observe(notebookContainer, {childList: true});\n",
       "}}\n",
       "\n",
       "// Listen for the clearing of the current output cell\n",
       "var outputEl = gd.closest('.output');\n",
       "if (outputEl) {{\n",
       "    x.observe(outputEl, {childList: true});\n",
       "}}\n",
       "\n",
       "                        })                };                });            </script>        </div>"
      ]
     },
     "metadata": {},
     "output_type": "display_data"
    }
   ],
   "source": [
    "labels = [x for x in train.Sex.value_counts().index]\n",
    "values = train.Sex.value_counts()\n",
    "\n",
    "# Use `hole` to create a donut-like pie chart\n",
    "fig = go.Figure(data=[go.Pie(labels=labels, values=values, hole=.3,pull=[0.03, 0])])\n",
    "\n",
    "fig.update_layout(\n",
    "    title_text=\"Gender \")\n",
    "fig.update_traces(marker=dict(colors=night_colors))\n",
    "fig.show()"
   ]
  },
  {
   "cell_type": "markdown",
   "id": "050f64b3",
   "metadata": {
    "papermill": {
     "duration": 0.122876,
     "end_time": "2022-01-19T04:26:33.735363",
     "exception": false,
     "start_time": "2022-01-19T04:26:33.612487",
     "status": "completed"
    },
    "tags": []
   },
   "source": [
    "<font size=\"4\" color=\"black\"> There were 64.8% male passengers on the ship which is significantly greater than female passengers.</font> "
   ]
  },
  {
   "cell_type": "code",
   "execution_count": 12,
   "id": "2a60a021",
   "metadata": {
    "_kg_hide-input": true,
    "execution": {
     "iopub.execute_input": "2022-01-19T04:26:33.977293Z",
     "iopub.status.busy": "2022-01-19T04:26:33.976342Z",
     "iopub.status.idle": "2022-01-19T04:26:36.804999Z",
     "shell.execute_reply": "2022-01-19T04:26:36.804426Z",
     "shell.execute_reply.started": "2021-12-30T12:31:01.333131Z"
    },
    "papermill": {
     "duration": 2.951917,
     "end_time": "2022-01-19T04:26:36.805152",
     "exception": false,
     "start_time": "2022-01-19T04:26:33.853235",
     "status": "completed"
    },
    "tags": []
   },
   "outputs": [
    {
     "data": {
      "text/html": [
       "<div>                            <div id=\"92d3f8ef-a501-44c3-89cd-f30990d8882a\" class=\"plotly-graph-div\" style=\"height:525px; width:100%;\"></div>            <script type=\"text/javascript\">                require([\"plotly\"], function(Plotly) {                    window.PLOTLYENV=window.PLOTLYENV || {};                                    if (document.getElementById(\"92d3f8ef-a501-44c3-89cd-f30990d8882a\")) {                    Plotly.newPlot(                        \"92d3f8ef-a501-44c3-89cd-f30990d8882a\",                        [{\"autobinx\":false,\"histnorm\":\"probability density\",\"legendgroup\":\"Age\",\"marker\":{\"color\":\"#57A7F3\"},\"name\":\"Age\",\"opacity\":0.7,\"type\":\"histogram\",\"x\":[22.0,38.0,26.0,35.0,35.0,54.0,2.0,27.0,14.0,4.0,58.0,20.0,39.0,14.0,55.0,2.0,31.0,35.0,34.0,15.0,28.0,8.0,38.0,19.0,40.0,66.0,28.0,42.0,21.0,18.0,14.0,40.0,27.0,3.0,19.0,18.0,7.0,21.0,49.0,29.0,65.0,21.0,28.5,5.0,11.0,22.0,38.0,45.0,4.0,29.0,19.0,17.0,26.0,32.0,16.0,21.0,26.0,32.0,25.0,0.83,30.0,22.0,29.0,28.0,17.0,33.0,16.0,23.0,24.0,29.0,20.0,46.0,26.0,59.0,71.0,23.0,34.0,34.0,28.0,21.0,33.0,37.0,28.0,21.0,38.0,47.0,14.5,22.0,20.0,17.0,21.0,70.5,29.0,24.0,2.0,21.0,32.5,32.5,54.0,12.0,24.0,45.0,33.0,20.0,47.0,29.0,25.0,23.0,19.0,37.0,16.0,24.0,22.0,24.0,19.0,18.0,19.0,27.0,9.0,36.5,42.0,51.0,22.0,55.5,40.5,51.0,16.0,30.0,44.0,40.0,26.0,17.0,1.0,9.0,45.0,28.0,61.0,4.0,1.0,21.0,56.0,18.0,50.0,30.0,36.0,9.0,1.0,4.0,45.0,40.0,36.0,32.0,19.0,19.0,3.0,44.0,58.0,42.0,24.0,28.0,34.0,45.5,18.0,2.0,32.0,26.0,16.0,40.0,24.0,35.0,22.0,30.0,31.0,27.0,42.0,32.0,30.0,16.0,27.0,51.0,38.0,22.0,19.0,20.5,18.0,35.0,29.0,59.0,5.0,24.0,44.0,8.0,19.0,33.0,29.0,22.0,30.0,44.0,25.0,24.0,37.0,54.0,29.0,62.0,30.0,41.0,29.0,30.0,35.0,50.0,3.0,52.0,40.0,36.0,16.0,25.0,58.0,35.0,25.0,41.0,37.0,63.0,45.0,7.0,35.0,65.0,28.0,16.0,19.0,33.0,30.0,22.0,42.0,22.0,26.0,19.0,36.0,24.0,24.0,23.5,2.0,50.0,19.0,0.92,17.0,30.0,30.0,24.0,18.0,26.0,28.0,43.0,26.0,24.0,54.0,31.0,40.0,22.0,27.0,30.0,22.0,36.0,61.0,36.0,31.0,16.0,45.5,38.0,16.0,29.0,41.0,45.0,45.0,2.0,24.0,28.0,25.0,36.0,24.0,40.0,3.0,42.0,23.0,15.0,25.0,28.0,22.0,38.0,40.0,29.0,45.0,35.0,30.0,60.0,24.0,25.0,18.0,19.0,22.0,3.0,22.0,27.0,20.0,19.0,42.0,1.0,32.0,35.0,18.0,1.0,36.0,17.0,36.0,21.0,28.0,23.0,24.0,22.0,31.0,46.0,23.0,28.0,39.0,26.0,21.0,28.0,20.0,34.0,51.0,3.0,21.0,33.0,44.0,34.0,18.0,30.0,10.0,21.0,29.0,28.0,18.0,28.0,19.0,32.0,28.0,42.0,17.0,50.0,14.0,21.0,24.0,64.0,31.0,45.0,20.0,25.0,28.0,4.0,13.0,34.0,5.0,52.0,36.0,30.0,49.0,29.0,65.0,50.0,48.0,34.0,47.0,48.0,38.0,56.0,0.75,38.0,33.0,23.0,22.0,34.0,29.0,22.0,2.0,9.0,50.0,63.0,25.0,35.0,58.0,30.0,9.0,21.0,55.0,71.0,21.0,54.0,25.0,24.0,17.0,21.0,37.0,16.0,18.0,33.0,28.0,26.0,29.0,36.0,54.0,24.0,47.0,34.0,36.0,32.0,30.0,22.0,44.0,40.5,50.0,39.0,23.0,2.0,17.0,30.0,7.0,45.0,30.0,22.0,36.0,9.0,11.0,32.0,50.0,64.0,19.0,33.0,8.0,17.0,27.0,22.0,22.0,62.0,48.0,39.0,36.0,40.0,28.0,24.0,19.0,29.0,32.0,62.0,53.0,36.0,16.0,19.0,34.0,39.0,32.0,25.0,39.0,54.0,36.0,18.0,47.0,60.0,22.0,35.0,52.0,47.0,37.0,36.0,49.0,49.0,24.0,44.0,35.0,36.0,30.0,27.0,22.0,40.0,39.0,35.0,24.0,34.0,26.0,4.0,26.0,27.0,42.0,20.0,21.0,21.0,61.0,57.0,21.0,26.0,80.0,51.0,32.0,9.0,28.0,32.0,31.0,41.0,20.0,24.0,2.0,0.75,48.0,19.0,56.0,23.0,18.0,21.0,18.0,24.0,32.0,23.0,58.0,50.0,40.0,47.0,36.0,20.0,32.0,25.0,43.0,40.0,31.0,70.0,31.0,18.0,24.5,18.0,43.0,36.0,27.0,20.0,14.0,60.0,25.0,14.0,19.0,18.0,15.0,31.0,4.0,25.0,60.0,52.0,44.0,49.0,42.0,18.0,35.0,18.0,25.0,26.0,39.0,45.0,42.0,22.0,24.0,48.0,29.0,52.0,19.0,38.0,27.0,33.0,6.0,17.0,34.0,50.0,27.0,20.0,30.0,25.0,25.0,29.0,11.0,23.0,23.0,28.5,48.0,35.0,36.0,21.0,24.0,31.0,70.0,16.0,30.0,19.0,31.0,4.0,6.0,33.0,23.0,48.0,0.67,28.0,18.0,34.0,33.0,41.0,20.0,36.0,16.0,51.0,30.5,32.0,24.0,48.0,57.0,54.0,18.0,5.0,43.0,13.0,17.0,29.0,25.0,25.0,18.0,8.0,1.0,46.0,16.0,25.0,39.0,49.0,31.0,30.0,30.0,34.0,31.0,11.0,0.42,27.0,31.0,39.0,18.0,39.0,33.0,26.0,39.0,35.0,6.0,30.5,23.0,31.0,43.0,10.0,52.0,27.0,38.0,27.0,2.0,1.0,62.0,15.0,0.83,23.0,18.0,39.0,21.0,32.0,20.0,16.0,30.0,34.5,17.0,42.0,35.0,28.0,4.0,74.0,9.0,16.0,44.0,18.0,45.0,51.0,24.0,41.0,21.0,48.0,24.0,42.0,27.0,31.0,4.0,26.0,47.0,33.0,47.0,28.0,15.0,20.0,19.0,56.0,25.0,33.0,22.0,28.0,25.0,39.0,27.0,19.0,26.0,32.0],\"xaxis\":\"x\",\"xbins\":{\"end\":80.0,\"size\":1,\"start\":0.42},\"yaxis\":\"y\"},{\"legendgroup\":\"Age\",\"marker\":{\"color\":\"#57A7F3\"},\"mode\":\"lines\",\"name\":\"Age\",\"showlegend\":false,\"type\":\"scatter\",\"x\":[0.42,0.57916,0.73832,0.89748,1.05664,1.2158,1.37496,1.53412,1.69328,1.85244,2.0116,2.17076,2.32992,2.48908,2.64824,2.8074,2.96656,3.12572,3.2848800000000002,3.4440399999999998,3.6031999999999997,3.76236,3.92152,4.08068,4.23984,4.399,4.55816,4.71732,4.87648,5.03564,5.1948,5.35396,5.51312,5.67228,5.83144,5.9906,6.149760000000001,6.30892,6.46808,6.62724,6.7863999999999995,6.9455599999999995,7.10472,7.26388,7.42304,7.582199999999999,7.741359999999999,7.900519999999999,8.05968,8.21884,8.378,8.53716,8.69632,8.85548,9.01464,9.1738,9.33296,9.492119999999998,9.65128,9.81044,9.9696,10.12876,10.28792,10.44708,10.60624,10.7654,10.92456,11.08372,11.24288,11.40204,11.5612,11.720360000000001,11.879520000000001,12.03868,12.19784,12.357,12.51616,12.67532,12.83448,12.99364,13.1528,13.31196,13.471119999999999,13.630279999999999,13.78944,13.9486,14.10776,14.26692,14.42608,14.585239999999999,14.744399999999999,14.903559999999999,15.062719999999999,15.221879999999999,15.381039999999999,15.540199999999999,15.69936,15.85852,16.017680000000002,16.176840000000002,16.336000000000002,16.495160000000002,16.654320000000002,16.813480000000002,16.972640000000002,17.131800000000002,17.290960000000002,17.450120000000002,17.609280000000002,17.768440000000002,17.9276,18.08676,18.24592,18.405079999999998,18.564239999999998,18.723399999999998,18.88256,19.04172,19.20088,19.36004,19.5192,19.67836,19.83752,19.99668,20.15584,20.315,20.47416,20.63332,20.79248,20.95164,21.1108,21.26996,21.42912,21.58828,21.74744,21.9066,22.06576,22.22492,22.38408,22.54324,22.7024,22.861560000000004,23.020720000000004,23.179880000000004,23.339040000000004,23.498200000000004,23.65736,23.81652,23.97568,24.13484,24.294,24.45316,24.61232,24.77148,24.93064,25.0898,25.24896,25.40812,25.56728,25.72644,25.8856,26.04476,26.20392,26.36308,26.52224,26.6814,26.84056,26.999720000000003,27.158880000000003,27.318040000000003,27.477200000000003,27.636360000000003,27.795520000000003,27.954680000000003,28.113840000000003,28.273000000000003,28.432160000000003,28.591320000000003,28.75048,28.90964,29.0688,29.22796,29.38712,29.54628,29.70544,29.8646,30.02376,30.18292,30.34208,30.50124,30.6604,30.81956,30.978720000000003,31.137880000000003,31.297040000000003,31.456200000000003,31.615360000000003,31.774520000000003,31.933680000000003,32.09284,32.252,32.41116,32.57032,32.72948,32.88864,33.0478,33.20696,33.36612,33.52528,33.68444,33.8436,34.00276,34.16192,34.32108,34.48024,34.6394,34.79856,34.95772,35.11688,35.27604,35.4352,35.59436,35.75352,35.91268,36.07184,36.231,36.390159999999995,36.54932,36.708479999999994,36.86764,37.026799999999994,37.18596,37.34512,37.50428,37.66344,37.8226,37.98176,38.14092,38.30008,38.45924,38.6184,38.77756,38.93672,39.09588,39.25504,39.4142,39.57336,39.73252,39.89168,40.05084,40.21,40.36916,40.52832,40.68748,40.84664,41.0058,41.16496,41.32412000000001,41.48328,41.64244,41.8016,41.96076,42.11992,42.27908,42.43824,42.5974,42.75656,42.91572,43.07488,43.23404,43.3932,43.55236,43.71152,43.87068,44.02984,44.189,44.34816,44.50732,44.66648,44.82564,44.9848,45.14396,45.30312000000001,45.46228,45.62144000000001,45.7806,45.93976000000001,46.09892,46.25808000000001,46.41724,46.57640000000001,46.73556,46.89472,47.05388,47.21304,47.3722,47.53136,47.69052,47.84968,48.00884,48.168,48.32716,48.48632,48.64548,48.80464,48.9638,49.12296,49.28212,49.44128,49.600440000000006,49.7596,49.918760000000006,50.07792,50.237080000000006,50.39624,50.555400000000006,50.71456,50.873720000000006,51.03288,51.192040000000006,51.3512,51.510360000000006,51.66952,51.82868,51.98784,52.147,52.30616,52.46532,52.62448,52.78364,52.9428,53.10196,53.26112,53.42028,53.579440000000005,53.7386,53.897760000000005,54.05692,54.216080000000005,54.37524,54.534400000000005,54.69356,54.852720000000005,55.01188,55.171040000000005,55.3302,55.489360000000005,55.64852,55.807680000000005,55.96684,56.126000000000005,56.28516,56.444320000000005,56.60348,56.762640000000005,56.9218,57.08096,57.24012,57.39928,57.558440000000004,57.7176,57.876760000000004,58.03592,58.195080000000004,58.35424,58.513400000000004,58.67256,58.831720000000004,58.99088,59.150040000000004,59.3092,59.468360000000004,59.62752,59.786680000000004,59.94584,60.105000000000004,60.26416,60.423320000000004,60.58248,60.741640000000004,60.9008,61.059960000000004,61.21912,61.378280000000004,61.537440000000004,61.696600000000004,61.855760000000004,62.01492,62.174080000000004,62.333239999999996,62.4924,62.651559999999996,62.81072,62.969879999999996,63.12904,63.288199999999996,63.44736,63.606519999999996,63.76568,63.924839999999996,64.084,64.24315999999999,64.40232,64.56148,64.72064,64.8798,65.03896,65.19812,65.35728,65.51644,65.6756,65.83476,65.99392,66.15308,66.31224,66.4714,66.63056,66.78972,66.94888,67.10803999999999,67.2672,67.42636,67.58552,67.74467999999999,67.90384,68.063,68.22216,68.38131999999999,68.54048,68.69964,68.8588,69.01795999999999,69.17712,69.33628,69.49544,69.65459999999999,69.81376,69.97292,70.13208,70.29124,70.4504,70.60956,70.76872,70.92788,71.08704,71.2462,71.40536,71.56452,71.72368,71.88284,72.042,72.20116,72.36031999999999,72.51948,72.67864,72.8378,72.99695999999999,73.15612,73.31528,73.47444,73.63359999999999,73.79276,73.95192,74.11108,74.27024,74.4294,74.58856,74.74772,74.90688,75.06604,75.2252,75.38436,75.54352,75.70268,75.86184,76.021,76.18016,76.33932,76.49848,76.65764,76.8168,76.97596,77.13512,77.29428,77.45344,77.61259999999999,77.77176,77.93092,78.09008,78.24924,78.4084,78.56756,78.72672,78.88588,79.04504,79.2042,79.36336,79.52252,79.68168,79.84084],\"xaxis\":\"x\",\"y\":[0.005709426317874258,0.005842364372311964,0.00597121675930296,0.006095672425124251,0.006215439174474732,0.00633024551930831,0.006439842391322168,0.006544004704095993,0.006642532752605729,0.006735253439716993,0.0068220213212738905,0.006902719463504154,0.006977260108635788,0.007045585146825771,0.007107666394706483,0.007163505683029732,0.007213134757990635,0.007256615002823084,0.0072940369881342015,0.007325519861165331,0.007351210585704809,0.00737128304570744,0.007385937026783323,0.007395397090583769,0.007399911357727831,0.007399750215269518,0.007395204964801818,0.007386586427131955,0.0073742235190471205,0.0073584618170341315,0.007339662121933598,0.007318199037417905,0.0072944595739062226,0.007268841788090623,0.00724175346667891,0.0072136108612846014,0.007184837479651802,0.007155862936619086,0.007127121866439912,0.007099052896316365,0.007072097679305547,0.007046699983149644,0.0070233048300952445,0.007002357681429617,0.006984303659297261,0.006969586797387695,0.006958649311327556,0.006951930879073706,0.006949867921306699,0.006952892871763366,0.006961433427631744,0.0069759117705524,0.006996743749423439,0.007024338017080179,0.007059095113997902,0.007101406493430153,0.007151653483822762,0.007210206185910159,0.007277422303577958,0.007353645909335502,0.007439206147052262,0.0075344158764412755,0.007639570265588971,0.007754945339601244,0.00788079649512824,0.008017356992118538,0.008164836435600651,0.008323419261579569,0.008493263242235394,0.00867449802650456,0.008867223732791819,0.009071509610989183,0.009287392791155162,0.00951487713612922,0.009753932215018564,0.010004492413897637,0.010266456199214331,0.010539685548306138,0.010824005560110404,0.011119204257620922,0.01142503259192061,0.011741204655725698,0.012067398112341829,0.012403254843780461,0.012748381819547256,0.013102352185320472,0.01346470656842382,0.013834954594690746,0.014212576609051689,0.01459702558998411,0.01498772924587133,0.015384092279358282,0.015785498803989512,0.016191314895790104,0.01660089126103463,0.017013566000248018,0.01742866744752074,0.017845517063503027,0.01826343235998146,0.01868172983373559,0.019099727887426435,0.01951674971557406,0.019932126134234743,0.020345198333776036,0.020755320535153696,0.021161862531308365,0.021564212096688757,0.02196177724946537,0.02235398835268375,0.022740300042407624,0.023120192972782082,0.023493175369882,0.02385878438817718,0.024216587265409883,0.024566182273616205,0.024907199465915433,0.025239301220501227,0.025562182584990725,0.02587557142589111,0.026179228389418205,0.026472946681233865,0.026756551673848526,0.027029900351450947,0.0272928806027805,0.027545410373349566,0.02778743668884058,0.028018934561872724,0.02823990579454869,0.02845037768925723,0.02865040168015778,0.028840051897590025,0.02901942367738141,0.029188632026649484,0.02934781005726748,0.029497107397660254,0.02963668859306256,0.02976673150380528,0.029887425710623236,0.029998970935387854,0.03010157548510609,0.030195454726462297,0.03028082959765582,0.030357925163773912,0.03042696922147708,0.030488190958319596,0.030541819671623914,0.0305880835514427,0.03062720853177196,0.03065941721384723,0.03068492786500992,0.030703953496306603,0.030716701021654098,0.030723370501055013,0.030724154469991216,0.03071923735673942,0.030708794988939248,0.030692994190301106,0.030671992467858896,0.030645937789659402,0.030614968452228157,0.03057921303656782,0.030538790450835605,0.030493810057210947,0.03044437187981971,0.030390566889928947,0.030332477363976384,0.03027017730937543,0.030203732952428602,0.030133203282125338,0.030058640643092546,0.02998009137052401,0.029897596459544363,0.02981119226118673,0.029720911196972156,0.02962678248399121,0.02952883286241286,0.029427087317463733,0.029321569788164553,0.02921230385544834,0.029099313402730774,0.02898262324254612,0.028862259703488696,0.028738251172405384,0.02861062858755619,0.028479425879277206,0.028344680355538027,0.02820643303065983,0.028064728896338008,0.027919617134978376,0.02777115127619157,0.027619389298081796,0.027464393675696357,0.027306231379666698,0.027144973828644198,0.026980696799628244,0.02681348030066343,0.026643408410674106,0.026470569091379893,0.026295053976312658,0.026116958141924197,0.0259363798656507,0.025753420375580902,0.02556818359607648,0.025380775893323434,0.025191305824361257,0.024999883892660325,0.024806622312805972,0.02461163478631614,0.024415036290081606,0.024216942878386244,0.02401747149895424,0.023816739822985572,0.0236148660887051,0.023411968957556453,0.023208167381834493,0.02300358048228271,0.022798327433965444,0.022592527358587935,0.022386299221355956,0.02217976173045805,0.021973033237294114,0.02176623163568064,0.02155947425841048,0.021352877769735403,0.021146558052562693,0.020940630089408205,0.020735207836405704,0.020530404089949224,0.020326330345807456,0.020123096650813264,0.01992081144746963,0.019719581412038573,0.019519511286865136,0.019320703707856414,0.019123259028154514,0.018927275139139346,0.018732847289945582,0.018540067906700763,0.018349026412676144,0.018159809050497633,0.017972498707491832,0.017787174745152658,0.017603912833601083,0.017422784791789853,0.017243858434078378,0.017067197423671812,0.016892861133295356,0.016720904513356998,0.01655137796775013,0.01638432723736062,0.01621979329127511,0.016057812225644487,0.015898415170131925,0.01574162820187808,0.015587472266940672,0.015435963109211628,0.015287111206884715,0.015140921716628675,0.014997394425725917,0.014856523712543939,0.014718298515831858,0.014582702313453688,0.014449713111296504,0.014319303443210632,0.014191440382948759,0.014066085569169856,0.013943195244657659,0.013822720310966046,0.013704606399745327,0.013588793962023579,0.0134752183767053,0.013363810079516678,0.013254494713562623,0.013147193302566267,0.013041822447742324,0.012938294549108305,0.012836518051859628,0.012736397718237468,0.01263783492509462,0.012540727987121199,0.01244497250543209,0.012350461740941,0.012257087011660728,0.012164738112772277,0.012073303758007248,0.011982672040587708,0.011892730911670172,0.01180336867395195,0.011714474487819761,0.011625938887156398,0.011537654301679048,0.011449515582461057,0.011361420527094537,0.011273270400787247,0.011184970449556624,0.011096430401588347,0.011007564952771155,0.010918294232405704,0.01082854424511113,0.010738247285027161,0.010647342318524199,0.010555775331796623,0.010463499639919696,0.01037047615419943,0.010276673604936294,0.010182068717052545,0.010086646336399302,0.009990399504958425,0.009893329483580338,0.009795445721349947,0.009696765771140996,0.009597315151401869,0.00949712715470266,0.009396242604063687,0.00929470955856943,0.009192582970242296,0.00908992429460684,0.008986801057802746,0.008883286383508172,0.008779458483298428,0.008675400114394376,0.008571198009035334,0.008466942279950278,0.008362725806586271,0.008258643606889158,0.00815479219951512,0.008051268961381194,0.007948171485442227,0.007845596943508722,0.007743641458799678,0.007642399492758022,0.00754196325044723,0.007442422108601864,0.0073438620701235776,0.0072463652485057475,0.007150009385336963,0.007054867403683325,0.00696100699978443,0.006868490275128061,0.0067773734105930575,0.006687706383978161,0.006599532731870285,0.006512889356449455,0.006427806377489244,0.006344307029487488,0.006262407603560045,0.006182117433448972,0.006103438924739296,0.006026367626144003,0.005950892341508795,0.005876995281001322,0.005804652249788555,0.005733832872365437,0.005664500850578841,0.005596614253290372,0.005530125835538201,0.0054649833849891435,0.0054011300934166725,0.00533850495089468,0.005277043160359853,0.005216676570164962,0.005157334122218924,0.005098942313287893,0.005041425667008673,0.00498470721414792,0.004928708978619205,0.004873352466751225,0.004818559157280462,0.004764250989522123,0.00471035084715598,0.004656783035046826,0.004603473746507498,0.004550351518405035,0.004497347671509397,0.0044443967334925,0.004391436842003572,0.004338410125278295,0.004285263057784168,0.004231946788468477,0.004178417439254532,0.004124636371534675,0.0040705704185308176,0.004016192081540287,0.003961479688254404,0.00390641751153314,0.0038509958472387924,0.0037952110499769763,0.003739065525862129,0.0036825676817174363,0.0036257318304330497,0.0035685780525404986,0.0035111320144117215,0.0034534247438572164,0.003395492364273543,0.003337375788873944,0.003279120376922279,0.003220775554275405,0.003162394400917443,0.003104033208536734,0.0030457510115472737,0.0029876090952847445,0.002929670485410603,0.0028719994228267125,0.0028146608286370957,0.002757719763884471,0.0027012408889354887,0.0026452879274845463,0.0025899231401891563,0.0025352068129379833,0.002481196764682465,0.002427947879634975,0.002375511668449088,0.0023239358627521,0.002273264047097462,0.0022235353320480254,0.0021747840716928287,0.0021270396284449374,0.002080326187470927,0.002034662622568695,0.0019900624147474308,0.001946533624177543,0.0019040789155774717,0.0018626956364964367,0.0018223759473458957,0.0017831070014354725,0.0017448711726911253,0.0017076463281810114,0.0016714061420573993,0.001636120447047672,0.0016017556192011665,0.001568274991227637,0.0015356392894531018,0.0015038070891738769,0.0014727352830136403,0.0014423795567833659,0.0014126948673120903,0.0013836359167568736,0.0013551576180128055,0.0013272155460260639,0.0012997663700620192,0.0012727682622914688,0.001246181278426629,0.0012199677065585278,0.0011940923808117997,0.0011685229569347773,0.0011432301474740985,0.0011181879147357334,0.0010933736203002195,0.0010687681304303348,0.001044355877276464,0.0010201248763403554,0.000996066701194103,0.0009721764169610307,0.00094845247454192,0.0009248965680081115,0.0009015134579767554,0.0008783107641293504,0.0008552987303284898,0.0008324899660274635,0.0008098991678509556,0.0007875428253522487,0.0007654389150226986,0.0007436065866442778,0.0007220658460368221,0.0007008372381615131,0.0006799415344032923,0.0006593994276718045,0.0006392312387367708,0.0006194566369542179,0.0006000943782495396,0.0005811620629070012,0.0005626759153783915,0.0005446505879712143,0.0005270989899144351,0.0005100321429325232,0.0004934590640912729,0.00047738667631645266,0.0004618197466332141,0.0004467608518343717,0.0004322103709631555,0.0004181665036939644,0.00040462531341612116,0.0003915807935730738,0.0003790249555850235,0.0003669479364881771,0.00035533812425988235,0.00034418229866661044,0.0003334657853713798,0.0003231726209686152,0.00031328572657734024,0.00030378708761689694,0.0002946579374121699,0.0002858789423258744,0.00027743038619226296,0.0002692923519274873,0.0002614448983146813,0.00025386823010416996,0.0002465428597285566,0.0002394497591060854,0.00023257050019095924],\"yaxis\":\"y\"},{\"legendgroup\":\"Age\",\"marker\":{\"color\":\"#57A7F3\",\"symbol\":\"line-ns-open\"},\"mode\":\"markers\",\"name\":\"Age\",\"showlegend\":false,\"type\":\"scatter\",\"x\":[22.0,38.0,26.0,35.0,35.0,54.0,2.0,27.0,14.0,4.0,58.0,20.0,39.0,14.0,55.0,2.0,31.0,35.0,34.0,15.0,28.0,8.0,38.0,19.0,40.0,66.0,28.0,42.0,21.0,18.0,14.0,40.0,27.0,3.0,19.0,18.0,7.0,21.0,49.0,29.0,65.0,21.0,28.5,5.0,11.0,22.0,38.0,45.0,4.0,29.0,19.0,17.0,26.0,32.0,16.0,21.0,26.0,32.0,25.0,0.83,30.0,22.0,29.0,28.0,17.0,33.0,16.0,23.0,24.0,29.0,20.0,46.0,26.0,59.0,71.0,23.0,34.0,34.0,28.0,21.0,33.0,37.0,28.0,21.0,38.0,47.0,14.5,22.0,20.0,17.0,21.0,70.5,29.0,24.0,2.0,21.0,32.5,32.5,54.0,12.0,24.0,45.0,33.0,20.0,47.0,29.0,25.0,23.0,19.0,37.0,16.0,24.0,22.0,24.0,19.0,18.0,19.0,27.0,9.0,36.5,42.0,51.0,22.0,55.5,40.5,51.0,16.0,30.0,44.0,40.0,26.0,17.0,1.0,9.0,45.0,28.0,61.0,4.0,1.0,21.0,56.0,18.0,50.0,30.0,36.0,9.0,1.0,4.0,45.0,40.0,36.0,32.0,19.0,19.0,3.0,44.0,58.0,42.0,24.0,28.0,34.0,45.5,18.0,2.0,32.0,26.0,16.0,40.0,24.0,35.0,22.0,30.0,31.0,27.0,42.0,32.0,30.0,16.0,27.0,51.0,38.0,22.0,19.0,20.5,18.0,35.0,29.0,59.0,5.0,24.0,44.0,8.0,19.0,33.0,29.0,22.0,30.0,44.0,25.0,24.0,37.0,54.0,29.0,62.0,30.0,41.0,29.0,30.0,35.0,50.0,3.0,52.0,40.0,36.0,16.0,25.0,58.0,35.0,25.0,41.0,37.0,63.0,45.0,7.0,35.0,65.0,28.0,16.0,19.0,33.0,30.0,22.0,42.0,22.0,26.0,19.0,36.0,24.0,24.0,23.5,2.0,50.0,19.0,0.92,17.0,30.0,30.0,24.0,18.0,26.0,28.0,43.0,26.0,24.0,54.0,31.0,40.0,22.0,27.0,30.0,22.0,36.0,61.0,36.0,31.0,16.0,45.5,38.0,16.0,29.0,41.0,45.0,45.0,2.0,24.0,28.0,25.0,36.0,24.0,40.0,3.0,42.0,23.0,15.0,25.0,28.0,22.0,38.0,40.0,29.0,45.0,35.0,30.0,60.0,24.0,25.0,18.0,19.0,22.0,3.0,22.0,27.0,20.0,19.0,42.0,1.0,32.0,35.0,18.0,1.0,36.0,17.0,36.0,21.0,28.0,23.0,24.0,22.0,31.0,46.0,23.0,28.0,39.0,26.0,21.0,28.0,20.0,34.0,51.0,3.0,21.0,33.0,44.0,34.0,18.0,30.0,10.0,21.0,29.0,28.0,18.0,28.0,19.0,32.0,28.0,42.0,17.0,50.0,14.0,21.0,24.0,64.0,31.0,45.0,20.0,25.0,28.0,4.0,13.0,34.0,5.0,52.0,36.0,30.0,49.0,29.0,65.0,50.0,48.0,34.0,47.0,48.0,38.0,56.0,0.75,38.0,33.0,23.0,22.0,34.0,29.0,22.0,2.0,9.0,50.0,63.0,25.0,35.0,58.0,30.0,9.0,21.0,55.0,71.0,21.0,54.0,25.0,24.0,17.0,21.0,37.0,16.0,18.0,33.0,28.0,26.0,29.0,36.0,54.0,24.0,47.0,34.0,36.0,32.0,30.0,22.0,44.0,40.5,50.0,39.0,23.0,2.0,17.0,30.0,7.0,45.0,30.0,22.0,36.0,9.0,11.0,32.0,50.0,64.0,19.0,33.0,8.0,17.0,27.0,22.0,22.0,62.0,48.0,39.0,36.0,40.0,28.0,24.0,19.0,29.0,32.0,62.0,53.0,36.0,16.0,19.0,34.0,39.0,32.0,25.0,39.0,54.0,36.0,18.0,47.0,60.0,22.0,35.0,52.0,47.0,37.0,36.0,49.0,49.0,24.0,44.0,35.0,36.0,30.0,27.0,22.0,40.0,39.0,35.0,24.0,34.0,26.0,4.0,26.0,27.0,42.0,20.0,21.0,21.0,61.0,57.0,21.0,26.0,80.0,51.0,32.0,9.0,28.0,32.0,31.0,41.0,20.0,24.0,2.0,0.75,48.0,19.0,56.0,23.0,18.0,21.0,18.0,24.0,32.0,23.0,58.0,50.0,40.0,47.0,36.0,20.0,32.0,25.0,43.0,40.0,31.0,70.0,31.0,18.0,24.5,18.0,43.0,36.0,27.0,20.0,14.0,60.0,25.0,14.0,19.0,18.0,15.0,31.0,4.0,25.0,60.0,52.0,44.0,49.0,42.0,18.0,35.0,18.0,25.0,26.0,39.0,45.0,42.0,22.0,24.0,48.0,29.0,52.0,19.0,38.0,27.0,33.0,6.0,17.0,34.0,50.0,27.0,20.0,30.0,25.0,25.0,29.0,11.0,23.0,23.0,28.5,48.0,35.0,36.0,21.0,24.0,31.0,70.0,16.0,30.0,19.0,31.0,4.0,6.0,33.0,23.0,48.0,0.67,28.0,18.0,34.0,33.0,41.0,20.0,36.0,16.0,51.0,30.5,32.0,24.0,48.0,57.0,54.0,18.0,5.0,43.0,13.0,17.0,29.0,25.0,25.0,18.0,8.0,1.0,46.0,16.0,25.0,39.0,49.0,31.0,30.0,30.0,34.0,31.0,11.0,0.42,27.0,31.0,39.0,18.0,39.0,33.0,26.0,39.0,35.0,6.0,30.5,23.0,31.0,43.0,10.0,52.0,27.0,38.0,27.0,2.0,1.0,62.0,15.0,0.83,23.0,18.0,39.0,21.0,32.0,20.0,16.0,30.0,34.5,17.0,42.0,35.0,28.0,4.0,74.0,9.0,16.0,44.0,18.0,45.0,51.0,24.0,41.0,21.0,48.0,24.0,42.0,27.0,31.0,4.0,26.0,47.0,33.0,47.0,28.0,15.0,20.0,19.0,56.0,25.0,33.0,22.0,28.0,25.0,39.0,27.0,19.0,26.0,32.0],\"xaxis\":\"x\",\"y\":[\"Age\",\"Age\",\"Age\",\"Age\",\"Age\",\"Age\",\"Age\",\"Age\",\"Age\",\"Age\",\"Age\",\"Age\",\"Age\",\"Age\",\"Age\",\"Age\",\"Age\",\"Age\",\"Age\",\"Age\",\"Age\",\"Age\",\"Age\",\"Age\",\"Age\",\"Age\",\"Age\",\"Age\",\"Age\",\"Age\",\"Age\",\"Age\",\"Age\",\"Age\",\"Age\",\"Age\",\"Age\",\"Age\",\"Age\",\"Age\",\"Age\",\"Age\",\"Age\",\"Age\",\"Age\",\"Age\",\"Age\",\"Age\",\"Age\",\"Age\",\"Age\",\"Age\",\"Age\",\"Age\",\"Age\",\"Age\",\"Age\",\"Age\",\"Age\",\"Age\",\"Age\",\"Age\",\"Age\",\"Age\",\"Age\",\"Age\",\"Age\",\"Age\",\"Age\",\"Age\",\"Age\",\"Age\",\"Age\",\"Age\",\"Age\",\"Age\",\"Age\",\"Age\",\"Age\",\"Age\",\"Age\",\"Age\",\"Age\",\"Age\",\"Age\",\"Age\",\"Age\",\"Age\",\"Age\",\"Age\",\"Age\",\"Age\",\"Age\",\"Age\",\"Age\",\"Age\",\"Age\",\"Age\",\"Age\",\"Age\",\"Age\",\"Age\",\"Age\",\"Age\",\"Age\",\"Age\",\"Age\",\"Age\",\"Age\",\"Age\",\"Age\",\"Age\",\"Age\",\"Age\",\"Age\",\"Age\",\"Age\",\"Age\",\"Age\",\"Age\",\"Age\",\"Age\",\"Age\",\"Age\",\"Age\",\"Age\",\"Age\",\"Age\",\"Age\",\"Age\",\"Age\",\"Age\",\"Age\",\"Age\",\"Age\",\"Age\",\"Age\",\"Age\",\"Age\",\"Age\",\"Age\",\"Age\",\"Age\",\"Age\",\"Age\",\"Age\",\"Age\",\"Age\",\"Age\",\"Age\",\"Age\",\"Age\",\"Age\",\"Age\",\"Age\",\"Age\",\"Age\",\"Age\",\"Age\",\"Age\",\"Age\",\"Age\",\"Age\",\"Age\",\"Age\",\"Age\",\"Age\",\"Age\",\"Age\",\"Age\",\"Age\",\"Age\",\"Age\",\"Age\",\"Age\",\"Age\",\"Age\",\"Age\",\"Age\",\"Age\",\"Age\",\"Age\",\"Age\",\"Age\",\"Age\",\"Age\",\"Age\",\"Age\",\"Age\",\"Age\",\"Age\",\"Age\",\"Age\",\"Age\",\"Age\",\"Age\",\"Age\",\"Age\",\"Age\",\"Age\",\"Age\",\"Age\",\"Age\",\"Age\",\"Age\",\"Age\",\"Age\",\"Age\",\"Age\",\"Age\",\"Age\",\"Age\",\"Age\",\"Age\",\"Age\",\"Age\",\"Age\",\"Age\",\"Age\",\"Age\",\"Age\",\"Age\",\"Age\",\"Age\",\"Age\",\"Age\",\"Age\",\"Age\",\"Age\",\"Age\",\"Age\",\"Age\",\"Age\",\"Age\",\"Age\",\"Age\",\"Age\",\"Age\",\"Age\",\"Age\",\"Age\",\"Age\",\"Age\",\"Age\",\"Age\",\"Age\",\"Age\",\"Age\",\"Age\",\"Age\",\"Age\",\"Age\",\"Age\",\"Age\",\"Age\",\"Age\",\"Age\",\"Age\",\"Age\",\"Age\",\"Age\",\"Age\",\"Age\",\"Age\",\"Age\",\"Age\",\"Age\",\"Age\",\"Age\",\"Age\",\"Age\",\"Age\",\"Age\",\"Age\",\"Age\",\"Age\",\"Age\",\"Age\",\"Age\",\"Age\",\"Age\",\"Age\",\"Age\",\"Age\",\"Age\",\"Age\",\"Age\",\"Age\",\"Age\",\"Age\",\"Age\",\"Age\",\"Age\",\"Age\",\"Age\",\"Age\",\"Age\",\"Age\",\"Age\",\"Age\",\"Age\",\"Age\",\"Age\",\"Age\",\"Age\",\"Age\",\"Age\",\"Age\",\"Age\",\"Age\",\"Age\",\"Age\",\"Age\",\"Age\",\"Age\",\"Age\",\"Age\",\"Age\",\"Age\",\"Age\",\"Age\",\"Age\",\"Age\",\"Age\",\"Age\",\"Age\",\"Age\",\"Age\",\"Age\",\"Age\",\"Age\",\"Age\",\"Age\",\"Age\",\"Age\",\"Age\",\"Age\",\"Age\",\"Age\",\"Age\",\"Age\",\"Age\",\"Age\",\"Age\",\"Age\",\"Age\",\"Age\",\"Age\",\"Age\",\"Age\",\"Age\",\"Age\",\"Age\",\"Age\",\"Age\",\"Age\",\"Age\",\"Age\",\"Age\",\"Age\",\"Age\",\"Age\",\"Age\",\"Age\",\"Age\",\"Age\",\"Age\",\"Age\",\"Age\",\"Age\",\"Age\",\"Age\",\"Age\",\"Age\",\"Age\",\"Age\",\"Age\",\"Age\",\"Age\",\"Age\",\"Age\",\"Age\",\"Age\",\"Age\",\"Age\",\"Age\",\"Age\",\"Age\",\"Age\",\"Age\",\"Age\",\"Age\",\"Age\",\"Age\",\"Age\",\"Age\",\"Age\",\"Age\",\"Age\",\"Age\",\"Age\",\"Age\",\"Age\",\"Age\",\"Age\",\"Age\",\"Age\",\"Age\",\"Age\",\"Age\",\"Age\",\"Age\",\"Age\",\"Age\",\"Age\",\"Age\",\"Age\",\"Age\",\"Age\",\"Age\",\"Age\",\"Age\",\"Age\",\"Age\",\"Age\",\"Age\",\"Age\",\"Age\",\"Age\",\"Age\",\"Age\",\"Age\",\"Age\",\"Age\",\"Age\",\"Age\",\"Age\",\"Age\",\"Age\",\"Age\",\"Age\",\"Age\",\"Age\",\"Age\",\"Age\",\"Age\",\"Age\",\"Age\",\"Age\",\"Age\",\"Age\",\"Age\",\"Age\",\"Age\",\"Age\",\"Age\",\"Age\",\"Age\",\"Age\",\"Age\",\"Age\",\"Age\",\"Age\",\"Age\",\"Age\",\"Age\",\"Age\",\"Age\",\"Age\",\"Age\",\"Age\",\"Age\",\"Age\",\"Age\",\"Age\",\"Age\",\"Age\",\"Age\",\"Age\",\"Age\",\"Age\",\"Age\",\"Age\",\"Age\",\"Age\",\"Age\",\"Age\",\"Age\",\"Age\",\"Age\",\"Age\",\"Age\",\"Age\",\"Age\",\"Age\",\"Age\",\"Age\",\"Age\",\"Age\",\"Age\",\"Age\",\"Age\",\"Age\",\"Age\",\"Age\",\"Age\",\"Age\",\"Age\",\"Age\",\"Age\",\"Age\",\"Age\",\"Age\",\"Age\",\"Age\",\"Age\",\"Age\",\"Age\",\"Age\",\"Age\",\"Age\",\"Age\",\"Age\",\"Age\",\"Age\",\"Age\",\"Age\",\"Age\",\"Age\",\"Age\",\"Age\",\"Age\",\"Age\",\"Age\",\"Age\",\"Age\",\"Age\",\"Age\",\"Age\",\"Age\",\"Age\",\"Age\",\"Age\",\"Age\",\"Age\",\"Age\",\"Age\",\"Age\",\"Age\",\"Age\",\"Age\",\"Age\",\"Age\",\"Age\",\"Age\",\"Age\",\"Age\",\"Age\",\"Age\",\"Age\",\"Age\",\"Age\",\"Age\",\"Age\",\"Age\",\"Age\",\"Age\",\"Age\",\"Age\",\"Age\",\"Age\",\"Age\",\"Age\",\"Age\",\"Age\",\"Age\",\"Age\",\"Age\",\"Age\",\"Age\",\"Age\",\"Age\",\"Age\",\"Age\",\"Age\",\"Age\",\"Age\",\"Age\",\"Age\",\"Age\",\"Age\",\"Age\",\"Age\",\"Age\",\"Age\",\"Age\",\"Age\",\"Age\",\"Age\",\"Age\",\"Age\",\"Age\",\"Age\",\"Age\",\"Age\",\"Age\",\"Age\",\"Age\",\"Age\",\"Age\",\"Age\",\"Age\",\"Age\",\"Age\",\"Age\",\"Age\",\"Age\",\"Age\",\"Age\",\"Age\",\"Age\",\"Age\",\"Age\",\"Age\",\"Age\",\"Age\",\"Age\",\"Age\",\"Age\",\"Age\",\"Age\",\"Age\",\"Age\",\"Age\",\"Age\",\"Age\",\"Age\",\"Age\",\"Age\",\"Age\",\"Age\",\"Age\",\"Age\",\"Age\",\"Age\",\"Age\",\"Age\",\"Age\",\"Age\",\"Age\",\"Age\",\"Age\",\"Age\",\"Age\",\"Age\",\"Age\",\"Age\",\"Age\",\"Age\",\"Age\",\"Age\",\"Age\",\"Age\",\"Age\",\"Age\",\"Age\",\"Age\",\"Age\",\"Age\",\"Age\",\"Age\",\"Age\",\"Age\",\"Age\",\"Age\",\"Age\",\"Age\",\"Age\",\"Age\",\"Age\",\"Age\",\"Age\",\"Age\",\"Age\",\"Age\",\"Age\",\"Age\",\"Age\",\"Age\",\"Age\",\"Age\",\"Age\",\"Age\",\"Age\",\"Age\",\"Age\",\"Age\",\"Age\",\"Age\",\"Age\",\"Age\",\"Age\",\"Age\",\"Age\",\"Age\",\"Age\",\"Age\",\"Age\",\"Age\",\"Age\",\"Age\",\"Age\",\"Age\",\"Age\"],\"yaxis\":\"y2\"}],                        {\"barmode\":\"overlay\",\"hovermode\":\"closest\",\"legend\":{\"traceorder\":\"reversed\"},\"template\":{\"data\":{\"bar\":[{\"error_x\":{\"color\":\"#2a3f5f\"},\"error_y\":{\"color\":\"#2a3f5f\"},\"marker\":{\"line\":{\"color\":\"#E5ECF6\",\"width\":0.5},\"pattern\":{\"fillmode\":\"overlay\",\"size\":10,\"solidity\":0.2}},\"type\":\"bar\"}],\"barpolar\":[{\"marker\":{\"line\":{\"color\":\"#E5ECF6\",\"width\":0.5},\"pattern\":{\"fillmode\":\"overlay\",\"size\":10,\"solidity\":0.2}},\"type\":\"barpolar\"}],\"carpet\":[{\"aaxis\":{\"endlinecolor\":\"#2a3f5f\",\"gridcolor\":\"white\",\"linecolor\":\"white\",\"minorgridcolor\":\"white\",\"startlinecolor\":\"#2a3f5f\"},\"baxis\":{\"endlinecolor\":\"#2a3f5f\",\"gridcolor\":\"white\",\"linecolor\":\"white\",\"minorgridcolor\":\"white\",\"startlinecolor\":\"#2a3f5f\"},\"type\":\"carpet\"}],\"choropleth\":[{\"colorbar\":{\"outlinewidth\":0,\"ticks\":\"\"},\"type\":\"choropleth\"}],\"contour\":[{\"colorbar\":{\"outlinewidth\":0,\"ticks\":\"\"},\"colorscale\":[[0.0,\"#0d0887\"],[0.1111111111111111,\"#46039f\"],[0.2222222222222222,\"#7201a8\"],[0.3333333333333333,\"#9c179e\"],[0.4444444444444444,\"#bd3786\"],[0.5555555555555556,\"#d8576b\"],[0.6666666666666666,\"#ed7953\"],[0.7777777777777778,\"#fb9f3a\"],[0.8888888888888888,\"#fdca26\"],[1.0,\"#f0f921\"]],\"type\":\"contour\"}],\"contourcarpet\":[{\"colorbar\":{\"outlinewidth\":0,\"ticks\":\"\"},\"type\":\"contourcarpet\"}],\"heatmap\":[{\"colorbar\":{\"outlinewidth\":0,\"ticks\":\"\"},\"colorscale\":[[0.0,\"#0d0887\"],[0.1111111111111111,\"#46039f\"],[0.2222222222222222,\"#7201a8\"],[0.3333333333333333,\"#9c179e\"],[0.4444444444444444,\"#bd3786\"],[0.5555555555555556,\"#d8576b\"],[0.6666666666666666,\"#ed7953\"],[0.7777777777777778,\"#fb9f3a\"],[0.8888888888888888,\"#fdca26\"],[1.0,\"#f0f921\"]],\"type\":\"heatmap\"}],\"heatmapgl\":[{\"colorbar\":{\"outlinewidth\":0,\"ticks\":\"\"},\"colorscale\":[[0.0,\"#0d0887\"],[0.1111111111111111,\"#46039f\"],[0.2222222222222222,\"#7201a8\"],[0.3333333333333333,\"#9c179e\"],[0.4444444444444444,\"#bd3786\"],[0.5555555555555556,\"#d8576b\"],[0.6666666666666666,\"#ed7953\"],[0.7777777777777778,\"#fb9f3a\"],[0.8888888888888888,\"#fdca26\"],[1.0,\"#f0f921\"]],\"type\":\"heatmapgl\"}],\"histogram\":[{\"marker\":{\"pattern\":{\"fillmode\":\"overlay\",\"size\":10,\"solidity\":0.2}},\"type\":\"histogram\"}],\"histogram2d\":[{\"colorbar\":{\"outlinewidth\":0,\"ticks\":\"\"},\"colorscale\":[[0.0,\"#0d0887\"],[0.1111111111111111,\"#46039f\"],[0.2222222222222222,\"#7201a8\"],[0.3333333333333333,\"#9c179e\"],[0.4444444444444444,\"#bd3786\"],[0.5555555555555556,\"#d8576b\"],[0.6666666666666666,\"#ed7953\"],[0.7777777777777778,\"#fb9f3a\"],[0.8888888888888888,\"#fdca26\"],[1.0,\"#f0f921\"]],\"type\":\"histogram2d\"}],\"histogram2dcontour\":[{\"colorbar\":{\"outlinewidth\":0,\"ticks\":\"\"},\"colorscale\":[[0.0,\"#0d0887\"],[0.1111111111111111,\"#46039f\"],[0.2222222222222222,\"#7201a8\"],[0.3333333333333333,\"#9c179e\"],[0.4444444444444444,\"#bd3786\"],[0.5555555555555556,\"#d8576b\"],[0.6666666666666666,\"#ed7953\"],[0.7777777777777778,\"#fb9f3a\"],[0.8888888888888888,\"#fdca26\"],[1.0,\"#f0f921\"]],\"type\":\"histogram2dcontour\"}],\"mesh3d\":[{\"colorbar\":{\"outlinewidth\":0,\"ticks\":\"\"},\"type\":\"mesh3d\"}],\"parcoords\":[{\"line\":{\"colorbar\":{\"outlinewidth\":0,\"ticks\":\"\"}},\"type\":\"parcoords\"}],\"pie\":[{\"automargin\":true,\"type\":\"pie\"}],\"scatter\":[{\"marker\":{\"colorbar\":{\"outlinewidth\":0,\"ticks\":\"\"}},\"type\":\"scatter\"}],\"scatter3d\":[{\"line\":{\"colorbar\":{\"outlinewidth\":0,\"ticks\":\"\"}},\"marker\":{\"colorbar\":{\"outlinewidth\":0,\"ticks\":\"\"}},\"type\":\"scatter3d\"}],\"scattercarpet\":[{\"marker\":{\"colorbar\":{\"outlinewidth\":0,\"ticks\":\"\"}},\"type\":\"scattercarpet\"}],\"scattergeo\":[{\"marker\":{\"colorbar\":{\"outlinewidth\":0,\"ticks\":\"\"}},\"type\":\"scattergeo\"}],\"scattergl\":[{\"marker\":{\"colorbar\":{\"outlinewidth\":0,\"ticks\":\"\"}},\"type\":\"scattergl\"}],\"scattermapbox\":[{\"marker\":{\"colorbar\":{\"outlinewidth\":0,\"ticks\":\"\"}},\"type\":\"scattermapbox\"}],\"scatterpolar\":[{\"marker\":{\"colorbar\":{\"outlinewidth\":0,\"ticks\":\"\"}},\"type\":\"scatterpolar\"}],\"scatterpolargl\":[{\"marker\":{\"colorbar\":{\"outlinewidth\":0,\"ticks\":\"\"}},\"type\":\"scatterpolargl\"}],\"scatterternary\":[{\"marker\":{\"colorbar\":{\"outlinewidth\":0,\"ticks\":\"\"}},\"type\":\"scatterternary\"}],\"surface\":[{\"colorbar\":{\"outlinewidth\":0,\"ticks\":\"\"},\"colorscale\":[[0.0,\"#0d0887\"],[0.1111111111111111,\"#46039f\"],[0.2222222222222222,\"#7201a8\"],[0.3333333333333333,\"#9c179e\"],[0.4444444444444444,\"#bd3786\"],[0.5555555555555556,\"#d8576b\"],[0.6666666666666666,\"#ed7953\"],[0.7777777777777778,\"#fb9f3a\"],[0.8888888888888888,\"#fdca26\"],[1.0,\"#f0f921\"]],\"type\":\"surface\"}],\"table\":[{\"cells\":{\"fill\":{\"color\":\"#EBF0F8\"},\"line\":{\"color\":\"white\"}},\"header\":{\"fill\":{\"color\":\"#C8D4E3\"},\"line\":{\"color\":\"white\"}},\"type\":\"table\"}]},\"layout\":{\"annotationdefaults\":{\"arrowcolor\":\"#2a3f5f\",\"arrowhead\":0,\"arrowwidth\":1},\"autotypenumbers\":\"strict\",\"coloraxis\":{\"colorbar\":{\"outlinewidth\":0,\"ticks\":\"\"}},\"colorscale\":{\"diverging\":[[0,\"#8e0152\"],[0.1,\"#c51b7d\"],[0.2,\"#de77ae\"],[0.3,\"#f1b6da\"],[0.4,\"#fde0ef\"],[0.5,\"#f7f7f7\"],[0.6,\"#e6f5d0\"],[0.7,\"#b8e186\"],[0.8,\"#7fbc41\"],[0.9,\"#4d9221\"],[1,\"#276419\"]],\"sequential\":[[0.0,\"#0d0887\"],[0.1111111111111111,\"#46039f\"],[0.2222222222222222,\"#7201a8\"],[0.3333333333333333,\"#9c179e\"],[0.4444444444444444,\"#bd3786\"],[0.5555555555555556,\"#d8576b\"],[0.6666666666666666,\"#ed7953\"],[0.7777777777777778,\"#fb9f3a\"],[0.8888888888888888,\"#fdca26\"],[1.0,\"#f0f921\"]],\"sequentialminus\":[[0.0,\"#0d0887\"],[0.1111111111111111,\"#46039f\"],[0.2222222222222222,\"#7201a8\"],[0.3333333333333333,\"#9c179e\"],[0.4444444444444444,\"#bd3786\"],[0.5555555555555556,\"#d8576b\"],[0.6666666666666666,\"#ed7953\"],[0.7777777777777778,\"#fb9f3a\"],[0.8888888888888888,\"#fdca26\"],[1.0,\"#f0f921\"]]},\"colorway\":[\"#636efa\",\"#EF553B\",\"#00cc96\",\"#ab63fa\",\"#FFA15A\",\"#19d3f3\",\"#FF6692\",\"#B6E880\",\"#FF97FF\",\"#FECB52\"],\"font\":{\"color\":\"#2a3f5f\"},\"geo\":{\"bgcolor\":\"white\",\"lakecolor\":\"white\",\"landcolor\":\"#E5ECF6\",\"showlakes\":true,\"showland\":true,\"subunitcolor\":\"white\"},\"hoverlabel\":{\"align\":\"left\"},\"hovermode\":\"closest\",\"mapbox\":{\"style\":\"light\"},\"paper_bgcolor\":\"white\",\"plot_bgcolor\":\"#E5ECF6\",\"polar\":{\"angularaxis\":{\"gridcolor\":\"white\",\"linecolor\":\"white\",\"ticks\":\"\"},\"bgcolor\":\"#E5ECF6\",\"radialaxis\":{\"gridcolor\":\"white\",\"linecolor\":\"white\",\"ticks\":\"\"}},\"scene\":{\"xaxis\":{\"backgroundcolor\":\"#E5ECF6\",\"gridcolor\":\"white\",\"gridwidth\":2,\"linecolor\":\"white\",\"showbackground\":true,\"ticks\":\"\",\"zerolinecolor\":\"white\"},\"yaxis\":{\"backgroundcolor\":\"#E5ECF6\",\"gridcolor\":\"white\",\"gridwidth\":2,\"linecolor\":\"white\",\"showbackground\":true,\"ticks\":\"\",\"zerolinecolor\":\"white\"},\"zaxis\":{\"backgroundcolor\":\"#E5ECF6\",\"gridcolor\":\"white\",\"gridwidth\":2,\"linecolor\":\"white\",\"showbackground\":true,\"ticks\":\"\",\"zerolinecolor\":\"white\"}},\"shapedefaults\":{\"line\":{\"color\":\"#2a3f5f\"}},\"ternary\":{\"aaxis\":{\"gridcolor\":\"white\",\"linecolor\":\"white\",\"ticks\":\"\"},\"baxis\":{\"gridcolor\":\"white\",\"linecolor\":\"white\",\"ticks\":\"\"},\"bgcolor\":\"#E5ECF6\",\"caxis\":{\"gridcolor\":\"white\",\"linecolor\":\"white\",\"ticks\":\"\"}},\"title\":{\"x\":0.05},\"xaxis\":{\"automargin\":true,\"gridcolor\":\"white\",\"linecolor\":\"white\",\"ticks\":\"\",\"title\":{\"standoff\":15},\"zerolinecolor\":\"white\",\"zerolinewidth\":2},\"yaxis\":{\"automargin\":true,\"gridcolor\":\"white\",\"linecolor\":\"white\",\"ticks\":\"\",\"title\":{\"standoff\":15},\"zerolinecolor\":\"white\",\"zerolinewidth\":2}}},\"title\":{\"text\":\"Age Distribution\"},\"xaxis\":{\"anchor\":\"y2\",\"domain\":[0.0,1.0],\"zeroline\":false},\"yaxis\":{\"anchor\":\"free\",\"domain\":[0.35,1],\"position\":0.0},\"yaxis2\":{\"anchor\":\"x\",\"domain\":[0,0.25],\"dtick\":1,\"showticklabels\":false}},                        {\"responsive\": true}                    ).then(function(){\n",
       "                            \n",
       "var gd = document.getElementById('92d3f8ef-a501-44c3-89cd-f30990d8882a');\n",
       "var x = new MutationObserver(function (mutations, observer) {{\n",
       "        var display = window.getComputedStyle(gd).display;\n",
       "        if (!display || display === 'none') {{\n",
       "            console.log([gd, 'removed!']);\n",
       "            Plotly.purge(gd);\n",
       "            observer.disconnect();\n",
       "        }}\n",
       "}});\n",
       "\n",
       "// Listen for the removal of the full notebook cells\n",
       "var notebookContainer = gd.closest('#notebook-container');\n",
       "if (notebookContainer) {{\n",
       "    x.observe(notebookContainer, {childList: true});\n",
       "}}\n",
       "\n",
       "// Listen for the clearing of the current output cell\n",
       "var outputEl = gd.closest('.output');\n",
       "if (outputEl) {{\n",
       "    x.observe(outputEl, {childList: true});\n",
       "}}\n",
       "\n",
       "                        })                };                });            </script>        </div>"
      ]
     },
     "metadata": {},
     "output_type": "display_data"
    }
   ],
   "source": [
    "import plotly.figure_factory as ff\n",
    "from plotly.offline import iplot\n",
    "age=train['Age'].dropna()\n",
    "fig = ff.create_distplot([age],['Age'],bin_size=1,)\n",
    "fig.update_traces(marker=dict(color='#57A7F3'))\n",
    "fig.update_layout(\n",
    "    title=\"Age Distribution\",\n",
    ")\n",
    "iplot(fig, filename='Basic Distplot')"
   ]
  },
  {
   "cell_type": "markdown",
   "id": "1f47cc82",
   "metadata": {
    "papermill": {
     "duration": 0.118948,
     "end_time": "2022-01-19T04:26:37.045509",
     "exception": false,
     "start_time": "2022-01-19T04:26:36.926561",
     "status": "completed"
    },
    "tags": []
   },
   "source": [
    "<font size=\"4\" color=\"black\"> Age of the passengers are positively skewed and also there were some missing values in this variable.</font>"
   ]
  },
  {
   "cell_type": "code",
   "execution_count": 13,
   "id": "6f1cebe1",
   "metadata": {
    "_kg_hide-input": true,
    "execution": {
     "iopub.execute_input": "2022-01-19T04:26:37.288062Z",
     "iopub.status.busy": "2022-01-19T04:26:37.287044Z",
     "iopub.status.idle": "2022-01-19T04:26:37.357016Z",
     "shell.execute_reply": "2022-01-19T04:26:37.357525Z",
     "shell.execute_reply.started": "2021-12-30T12:31:04.449638Z"
    },
    "papermill": {
     "duration": 0.192929,
     "end_time": "2022-01-19T04:26:37.357686",
     "exception": false,
     "start_time": "2022-01-19T04:26:37.164757",
     "status": "completed"
    },
    "tags": []
   },
   "outputs": [
    {
     "data": {
      "text/html": [
       "<div>                            <div id=\"05f1c2fa-db7b-4594-8af7-38552a6de43d\" class=\"plotly-graph-div\" style=\"height:525px; width:100%;\"></div>            <script type=\"text/javascript\">                require([\"plotly\"], function(Plotly) {                    window.PLOTLYENV=window.PLOTLYENV || {};                                    if (document.getElementById(\"05f1c2fa-db7b-4594-8af7-38552a6de43d\")) {                    Plotly.newPlot(                        \"05f1c2fa-db7b-4594-8af7-38552a6de43d\",                        [{\"autobinx\":false,\"histnorm\":\"probability density\",\"legendgroup\":\"Fare\",\"marker\":{\"color\":\"#57A7F3\"},\"name\":\"Fare\",\"opacity\":0.7,\"type\":\"histogram\",\"x\":[7.25,71.2833,7.925,53.1,8.05,8.4583,51.8625,21.075,11.1333,30.0708,16.7,26.55,8.05,31.275,7.8542,16.0,29.125,13.0,18.0,7.225,26.0,13.0,8.0292,35.5,21.075,31.3875,7.225,263.0,7.8792,7.8958,27.7208,146.5208,7.75,10.5,82.1708,52.0,7.2292,8.05,18.0,11.2417,9.475,21.0,7.8958,41.5792,7.8792,8.05,15.5,7.75,21.6792,17.8,39.6875,7.8,76.7292,26.0,61.9792,35.5,10.5,7.2292,27.75,46.9,7.2292,80.0,83.475,27.9,27.7208,15.2458,10.5,8.1583,7.925,8.6625,10.5,46.9,73.5,14.4542,56.4958,7.65,7.8958,8.05,29.0,12.475,9.0,9.5,7.7875,47.1,10.5,15.85,34.375,8.05,263.0,8.05,8.05,7.8542,61.175,20.575,7.25,8.05,34.6542,63.3583,23.0,26.0,7.8958,7.8958,77.2875,8.6542,7.925,7.8958,7.65,7.775,7.8958,24.15,52.0,14.4542,8.05,9.825,14.4583,7.925,7.75,21.0,247.5208,31.275,73.5,8.05,30.0708,13.0,77.2875,11.2417,7.75,7.1417,22.3583,6.975,7.8958,7.05,14.5,26.0,13.0,15.0458,26.2833,53.1,9.2167,79.2,15.2458,7.75,15.85,6.75,11.5,36.75,7.7958,34.375,26.0,13.0,12.525,66.6,8.05,14.5,7.3125,61.3792,7.7333,8.05,8.6625,69.55,16.1,15.75,7.775,8.6625,39.6875,20.525,55.0,27.9,25.925,56.4958,33.5,29.125,11.1333,7.925,30.6958,7.8542,25.4667,28.7125,13.0,0.0,69.55,15.05,31.3875,39.0,22.025,50.0,15.5,26.55,15.5,7.8958,13.0,13.0,7.8542,26.0,27.7208,146.5208,7.75,8.4042,7.75,13.0,9.5,69.55,6.4958,7.225,8.05,10.4625,15.85,18.7875,7.75,31.0,7.05,21.0,7.25,13.0,7.75,113.275,7.925,27.0,76.2917,10.5,8.05,13.0,8.05,7.8958,90.0,9.35,10.5,7.25,13.0,25.4667,83.475,7.775,13.5,31.3875,10.5,7.55,26.0,26.25,10.5,12.275,14.4542,15.5,10.5,7.125,7.225,90.0,7.775,14.5,52.5542,26.0,7.25,10.4625,26.55,16.1,20.2125,15.2458,79.2,86.5,512.3292,26.0,7.75,31.3875,79.65,0.0,7.75,10.5,39.6875,7.775,153.4625,135.6333,31.0,0.0,19.5,29.7,7.75,77.9583,7.75,0.0,29.125,20.25,7.75,7.8542,9.5,8.05,26.0,8.6625,9.5,7.8958,13.0,7.75,78.85,91.0792,12.875,8.85,7.8958,27.7208,7.2292,151.55,30.5,247.5208,7.75,23.25,0.0,12.35,8.05,151.55,110.8833,108.9,24.0,56.9292,83.1583,262.375,26.0,7.8958,26.25,7.8542,26.0,14.0,164.8667,134.5,7.25,7.8958,12.35,29.0,69.55,135.6333,6.2375,13.0,20.525,57.9792,23.25,28.5,153.4625,18.0,133.65,7.8958,66.6,134.5,8.05,35.5,26.0,263.0,13.0,13.0,13.0,13.0,13.0,16.1,15.9,8.6625,9.225,35.0,7.2292,17.8,7.225,9.5,55.0,13.0,7.8792,7.8792,27.9,27.7208,14.4542,7.05,15.5,7.25,75.25,7.2292,7.75,69.3,55.4417,6.4958,8.05,135.6333,21.075,82.1708,7.25,211.5,4.0125,7.775,227.525,15.7417,7.925,52.0,7.8958,73.5,46.9,13.0,7.7292,12.0,120.0,7.7958,7.925,113.275,16.7,7.7958,7.8542,26.0,10.5,12.65,7.925,8.05,9.825,15.85,8.6625,21.0,7.75,18.75,7.775,25.4667,7.8958,6.8583,90.0,0.0,7.925,8.05,32.5,13.0,13.0,24.15,7.8958,7.7333,7.875,14.4,20.2125,7.25,26.0,26.0,7.75,8.05,26.55,16.1,26.0,7.125,55.9,120.0,34.375,18.75,263.0,10.5,26.25,9.5,7.775,13.0,8.1125,81.8583,19.5,26.55,19.2583,30.5,27.75,19.9667,27.75,89.1042,8.05,7.8958,26.55,51.8625,10.5,7.75,26.55,8.05,38.5,13.0,8.05,7.05,0.0,26.55,7.725,19.2583,7.25,8.6625,27.75,13.7917,9.8375,52.0,21.0,7.0458,7.5208,12.2875,46.9,0.0,8.05,9.5875,91.0792,25.4667,90.0,29.7,8.05,15.9,19.9667,7.25,30.5,49.5042,8.05,14.4583,78.2667,15.1,151.55,7.7958,8.6625,7.75,7.6292,9.5875,86.5,108.9,26.0,26.55,22.525,56.4958,7.75,8.05,26.2875,59.4,7.4958,34.0208,10.5,24.15,26.0,7.8958,93.5,7.8958,7.225,57.9792,7.2292,7.75,10.5,221.7792,7.925,11.5,26.0,7.2292,7.2292,22.3583,8.6625,26.25,26.55,106.425,14.5,49.5,71.0,31.275,31.275,26.0,106.425,26.0,26.0,13.8625,20.525,36.75,110.8833,26.0,7.8292,7.225,7.775,26.55,39.6,227.525,79.65,17.4,7.75,7.8958,13.5,8.05,8.05,24.15,7.8958,21.075,7.2292,7.8542,10.5,51.4792,26.3875,7.75,8.05,14.5,13.0,55.9,14.4583,7.925,30.0,110.8833,26.0,40.125,8.7125,79.65,15.0,79.2,8.05,8.05,7.125,78.2667,7.25,7.75,26.0,24.15,33.0,0.0,7.225,56.9292,27.0,7.8958,42.4,8.05,26.55,15.55,7.8958,30.5,41.5792,153.4625,31.275,7.05,15.5,7.75,8.05,65.0,14.4,16.1,39.0,10.5,14.4542,52.5542,15.7417,7.8542,16.1,32.3208,12.35,77.9583,7.8958,7.7333,30.0,7.0542,30.5,0.0,27.9,13.0,7.925,26.25,39.6875,16.1,7.8542,69.3,27.9,56.4958,19.2583,76.7292,7.8958,35.5,7.55,7.55,7.8958,23.0,8.4333,7.8292,6.75,73.5,7.8958,15.5,13.0,113.275,133.65,7.225,25.5875,7.4958,7.925,73.5,13.0,7.775,8.05,52.0,39.0,52.0,10.5,13.0,0.0,7.775,8.05,9.8417,46.9,512.3292,8.1375,76.7292,9.225,46.9,39.0,41.5792,39.6875,10.1708,7.7958,211.3375,57.0,13.4167,56.4958,7.225,26.55,13.5,8.05,7.7333,110.8833,7.65,227.525,26.2875,14.4542,7.7417,7.8542,26.0,13.5,26.2875,151.55,15.2458,49.5042,26.55,52.0,9.4833,13.0,7.65,227.525,10.5,15.5,7.775,33.0,7.0542,13.0,13.0,53.1,8.6625,21.0,7.7375,26.0,7.925,211.3375,18.7875,0.0,13.0,13.0,16.1,34.375,512.3292,7.8958,7.8958,30.0,78.85,262.375,16.1,7.925,71.0,20.25,13.0,53.1,7.75,23.0,12.475,9.5,7.8958,65.0,14.5,7.7958,11.5,8.05,86.5,14.5,7.125,7.2292,120.0,7.775,77.9583,39.6,7.75,24.15,8.3625,9.5,7.8542,10.5,7.225,23.0,7.75,7.75,12.475,7.7375,211.3375,7.2292,57.0,30.0,23.45,7.05,7.25,7.4958,29.125,20.575,79.2,7.75,26.0,69.55,30.6958,7.8958,13.0,25.9292,8.6833,7.2292,24.15,13.0,26.25,120.0,8.5167,6.975,7.775,0.0,7.775,13.0,53.1,7.8875,24.15,10.5,31.275,8.05,0.0,7.925,37.0042,6.45,27.9,93.5,8.6625,0.0,12.475,39.6875,6.95,56.4958,37.0042,7.75,80.0,14.4542,18.75,7.2292,7.8542,8.3,83.1583,8.6625,8.05,56.4958,29.7,7.925,10.5,31.0,6.4375,8.6625,7.55,69.55,7.8958,33.0,89.1042,31.275,7.775,15.2458,39.4,26.0,9.35,164.8667,26.55,19.2583,7.2292,14.1083,11.5,25.9292,69.55,13.0,13.0,13.8583,50.4958,9.5,11.1333,7.8958,52.5542,5.0,9.0,24.0,7.225,9.8458,7.8958,7.8958,83.1583,26.0,7.8958,10.5167,10.5,7.05,29.125,13.0,30.0,23.45,30.0,7.75],\"xaxis\":\"x\",\"xbins\":{\"end\":512.3292,\"size\":10,\"start\":0.0},\"yaxis\":\"y\"},{\"legendgroup\":\"Fare\",\"marker\":{\"color\":\"#57A7F3\"},\"mode\":\"lines\",\"name\":\"Fare\",\"showlegend\":false,\"type\":\"scatter\",\"x\":[0.0,1.0246584,2.0493168,3.0739752,4.0986336,5.123292,6.1479504,7.1726088,8.1972672,9.2219256,10.246584,11.2712424,12.2959008,13.3205592,14.3452176,15.369876,16.3945344,17.4191928,18.4438512,19.4685096,20.493168,21.5178264,22.5424848,23.567143200000004,24.5918016,25.61646,26.6411184,27.6657768,28.6904352,29.7150936,30.739752,31.7644104,32.7890688,33.8137272,34.8383856,35.863044,36.8877024,37.9123608,38.9370192,39.9616776,40.986336,42.0109944,43.0356528,44.0603112,45.0849696,46.109628,47.13428640000001,48.15894480000001,49.1836032,50.2082616,51.23292,52.2575784,53.2822368,54.3068952,55.3315536,56.356212,57.3808704,58.4055288,59.4301872,60.4548456,61.479504,62.5041624,63.5288208,64.5534792,65.5781376,66.602796,67.6274544,68.6521128,69.6767712,70.7014296,71.726088,72.7507464,73.7754048,74.80006320000001,75.8247216,76.84938000000001,77.8740384,78.89869680000001,79.9233552,80.94801360000001,81.972672,82.99733040000001,84.0219888,85.04664720000001,86.0713056,87.09596400000001,88.1206224,89.14528080000001,90.1699392,91.19459760000001,92.219256,93.24391440000001,94.26857280000002,95.29323120000001,96.31788960000002,97.34254800000001,98.3672064,99.3918648,100.4165232,101.4411816,102.46584,103.49049839999999,104.5151568,105.53981519999999,106.5644736,107.58913199999999,108.6137904,109.63844879999999,110.6631072,111.6877656,112.712424,113.7370824,114.7617408,115.7863992,116.8110576,117.835716,118.8603744,119.8850328,120.9096912,121.9343496,122.959008,123.9836664,125.0083248,126.0329832,127.0576416,128.0823,129.1069584,130.13161680000002,131.1562752,132.1809336,133.205592,134.2302504,135.2549088,136.2795672,137.3042256,138.328884,139.3535424,140.3782008,141.4028592,142.4275176,143.452176,144.4768344,145.5014928,146.5261512,147.5508096,148.575468,149.60012640000002,150.6247848,151.6494432,152.6741016,153.69876000000002,154.72341839999999,155.7480768,156.7727352,157.79739360000002,158.82205199999999,159.8467104,160.8713688,161.89602720000002,162.92068559999998,163.945344,164.9700024,165.99466080000002,167.01931919999998,168.0439776,169.068636,170.09329440000002,171.1179528,172.1426112,173.1672696,174.19192800000002,175.2165864,176.2412448,177.2659032,178.29056160000002,179.31522,180.3398784,181.3645368,182.38919520000002,183.4138536,184.438512,185.4631704,186.48782880000002,187.5124872,188.53714560000003,189.561804,190.58646240000002,191.6111208,192.63577920000003,193.6604376,194.68509600000002,195.7097544,196.7344128,197.7590712,198.7837296,199.808388,200.8330464,201.8577048,202.8823632,203.9070216,204.93168,205.95633840000002,206.98099679999999,208.0056552,209.0303136,210.05497200000002,211.07963039999999,212.1042888,213.1289472,214.15360560000002,215.17826399999998,216.2029224,217.2275808,218.25223920000002,219.27689759999998,220.301556,221.3262144,222.35087280000002,223.3755312,224.4001896,225.424848,226.44950640000002,227.4741648,228.4988232,229.5234816,230.54814000000002,231.5727984,232.5974568,233.6221152,234.64677360000002,235.671432,236.6960904,237.7207488,238.74540720000002,239.7700656,240.79472400000003,241.8193824,242.84404080000002,243.8686992,244.89335760000003,245.918016,246.94267440000002,247.9673328,248.99199120000003,250.0166496,251.04130800000001,252.0659664,253.09062480000003,254.1152832,255.13994160000001,256.1646,257.1892584,258.2139168,259.2385752,260.26323360000004,261.287892,262.3125504,263.33720880000004,264.3618672,265.38652559999997,266.411184,267.4358424,268.4605008,269.4851592,270.5098176,271.53447600000004,272.5591344,273.58379279999997,274.6084512,275.6331096,276.657768,277.6824264,278.7070848,279.73174320000004,280.7564016,281.78106,282.8057184,283.8303768,284.8550352,285.8796936,286.904352,287.92901040000004,288.9536688,289.9783272,291.0029856,292.027644,293.0523024,294.0769608,295.1016192,296.12627760000004,297.150936,298.1755944,299.20025280000004,300.2249112,301.2495696,302.274228,303.2988864,304.32354480000004,305.3482032,306.3728616,307.39752000000004,308.4221784,309.44683679999997,310.4714952,311.4961536,312.52081200000003,313.5454704,314.5701288,315.59478720000004,316.61944560000006,317.64410399999997,318.6687624,319.6934208,320.71807920000003,321.7427376,322.767396,323.79205440000004,324.81671280000006,325.84137119999997,326.8660296,327.890688,328.9153464,329.9400048,330.9646632,331.98932160000004,333.01398,334.03863839999997,335.0632968,336.0879552,337.1126136,338.137272,339.1619304,340.18658880000004,341.2112472,342.2359056,343.260564,344.2852224,345.3098808,346.3345392,347.3591976,348.38385600000004,349.4085144,350.4331728,351.4578312,352.4824896,353.507148,354.5318064,355.5564648,356.58112320000004,357.6057816,358.63044,359.65509840000004,360.6797568,361.70441519999997,362.7290736,363.753732,364.77839040000003,365.8030488,366.8277072,367.85236560000004,368.877024,369.90168239999997,370.9263408,371.9509992,372.97565760000003,374.000316,375.0249744,376.04963280000004,377.07429120000006,378.09894959999997,379.123608,380.1482664,381.17292480000003,382.1975832,383.2222416,384.24690000000004,385.27155840000006,386.29621679999997,387.3208752,388.3455336,389.37019200000003,390.3948504,391.4195088,392.44416720000004,393.4688256,394.493484,395.5181424,396.5428008,397.5674592,398.5921176,399.616776,400.64143440000004,401.6660928,402.6907512,403.7154096,404.740068,405.7647264,406.7893848,407.8140432,408.83870160000004,409.86336,410.8880184,411.91267680000004,412.9373352,413.96199359999997,414.986652,416.0113104,417.03596880000003,418.0606272,419.0852856,420.10994400000004,421.1346024,422.15926079999997,423.1839192,424.2085776,425.23323600000003,426.2578944,427.2825528,428.30721120000004,429.33186960000006,430.35652799999997,431.3811864,432.4058448,433.43050320000003,434.4551616,435.47982,436.50447840000004,437.52913680000006,438.55379519999997,439.5784536,440.603112,441.62777040000003,442.6524288,443.6770872,444.70174560000004,445.72640400000006,446.7510624,447.7757208,448.8003792,449.82503760000003,450.849696,451.8743544,452.89901280000004,453.92367120000006,454.9483296,455.972988,456.9976464,458.02230480000003,459.0469632,460.0716216,461.09628000000004,462.1209384,463.1455968,464.17025520000004,465.1949136,466.21957199999997,467.2442304,468.2688888,469.29354720000003,470.3182056,471.342864,472.36752240000004,473.3921808,474.41683919999997,475.4414976,476.466156,477.49081440000003,478.5154728,479.5401312,480.56478960000004,481.58944800000006,482.61410639999997,483.6387648,484.6634232,485.68808160000003,486.71274,487.7373984,488.76205680000004,489.78671520000006,490.81137359999997,491.836032,492.8606904,493.88534880000003,494.9100072,495.9346656,496.95932400000004,497.98398240000006,499.00864079999997,500.0332992,501.0579576,502.08261600000003,503.1072744,504.1319328,505.15659120000004,506.18124960000006,507.205908,508.2305664,509.2552248,510.27988320000003,511.3045416],\"xaxis\":\"x\",\"y\":[0.01409776163163583,0.01496018330389395,0.015789822549127915,0.016576682480197197,0.017311181593240528,0.017984383781424168,0.018588213163879163,0.019115645620190403,0.01956086984760969,0.019919412062462616,0.02018822007767392,0.02036570431291553,0.020451735226104335,0.020447598581438704,0.020355911777592346,0.020180506046977215,0.01992628061642952,0.01959903582688285,0.01920529270657852,0.018752106569505347,0.018246881886480958,0.017697194994604593,0.017110630236989513,0.01649463393939354,0.015856389322980332,0.015202714113969241,0.014539981327271752,0.013874062547214934,0.013210292063269465,0.012553449482689558,0.011907757955325383,0.011276894908951623,0.010664012188650242,0.010071762688650922,0.009502330916282081,0.008957465385701606,0.008438511252449056,0.0079464421196167,0.007481890429630087,0.007045176268065235,0.0066363347238722935,0.006255142161250458,0.005901141860480003,0.005573669486246001,0.00527187875824403,0.004994767551660596,0.004741204469186038,0.004509955727009808,0.004299712008750837,0.004109114784110298,0.003936781479056343,0.003781328831768045,0.0036413937776058488,0.0035156512754501213,0.003402828610075069,0.0033017158697803525,0.0032111724912487257,0.0031301299688042705,0.0030575910268510783,0.0029926257371584736,0.002934365213738483,0.0028819936271543495,0.002834739340503536,0.0027918659781072394,0.0027526641959392446,0.0027164448343517107,0.002682534005986594,0.002650270514472531,0.0026190058236652664,0.0025881066145171236,0.0025569597887067546,0.0025249796155499466,0.0024916165805151324,0.0024563673869196574,0.002418785491786166,0.0023784915246349604,0.0023351829440144013,0.0022886423284578456,0.0022387437720574953,0.0021854569542507887,0.002128848572018279,0.002069080953260471,0.002006407805362284,0.001941167185908149,0.0018737719068999436,0.0018046976942966673,0.0017344695169789932,0.0016636465702528566,0.0015928064468388587,0.0015225290521700616,0.001453380820994649,0.0013858997699154915,0.0013205818775278624,0.0012578692228012009,0.001198140236347998,0.0011417023316588981,0.0010887870879398107,0.0010395480566954517,0.0009940611645376247,0.0009523275886713711,0.0009142788927714745,0.0008797841328653818,0.0008486585783394305,0.0008206736447095138,0.0007955676041270628,0.0007730566277653767,0.0007528457214668311,0.0007346391416830336,0.0007181499212992122,0.0007031081920796203,0.0006892680591660724,0.0006764128597048651,0.0006643587182898677,0.000652956392356204,0.0006420914768901036,0.000631683106106557,0.0006216813469055371,0.0006120635225030475,0.0006028297330763535,0.0005939978529553914,0.0005855982812026853,0.0005776687056437179,0.000570249111636238,0.00056337722882972,0.0005570845650095561,0.0005513931291623017,0.0005463128993804062,0.0005418400480801576,0.0005379558996562207,0.0005346265658969208,0.0005318031832369966,0.000529422663446982,0.0005274088651296419,0.0005256740962567938,0.0005241208662961815,0.0005226438183181378,0.0005211317848199717,0.0005194699239630598,0.0005175419038798886,0.0005152321105076944,0.0005124278583981735,0.0005090215840501336,0.0005049129979516298,0.0005000111655831084,0.0004942364803270028,0.0004875224839244158,0.000479817484193527,0.0004710859164034379,0.00046130939492239494,0.00045048740608867474,0.00043863760180692176,0.0004257956658313661,0.0004120147403368988,0.0003973644181550714,0.000381929324707549,0.0003658073318608,0.00034910746234978674,0.0003319475569303008,0.00031445178612680486,0.00029674809377057263,0.00027896566024462855,0.00026123246958524246,0.00024367305676110777,0.00022640650023753508,0.00020954471118397766,0.00019319105533972445,0.00017743932756460662,0.0001623730833567549,0.00014806531688716558,0.00013457846199487088,0.00012196468154774898,0.00011026640187152471,0.00009951704269679676,0.00008974188925575632,0.00008095905166493312,0.00007318045738252003,0.00006641282511839956,0.00006065857287886068,0.000055916618622996495,0.00005218303907494284,0.00004945156035644657,0.000047713863049409454,0.00004695969381807615,0.00004717678553255703,0.00004835059761609615,0.000050463897723379406,0.00005349621444789622,0.00005742319813719306,0.00006221593265733167,0.00006784024472179406,0.00007425605888807676,0.000081416845336784,0.00008926920402946134,0.0000977526228969585,0.00010679943961153175,0.00011633502667713808,0.00012627820860893428,0.0001365419085458763,0.00014703401048703603,0.00015765841319873025,0.00016831624337769287,0.000178907189423014,0.000189330913537655,0.0001994884990059549,0.0002092838912999525,0.00021862529584730625,0.0002274265013345895,0.00023560810465123833,0.00024309862123672788,0.0002498354718934307,0.00025576584334714074,0.00026084742438850066,0.0002650490219199915,0.00026835106151181534,0.0002707459752386901,0.0002722384759770664,0.00027284571254706944,0.0002725972947946726,0.00027153517271122097,0.0002697133497542685,0.00026719740834811834,0.00026406382562114755,0.00026039906007594267,0.00025629839513169507,0.0002518645331150276,0.00024720594286232523,0.0002424349750061651,0.00023766577050416494,0.0002330119992407394,0.00022858447583434376,0.00022448870846012106,0.00022082244305073626,0.0002176732693536694,0.00021511635688352697,0.00021321238787511633,0.00021200575112421442,0.00021152305540156786,0.00021177201428654367,0.00021274074612369608,0.00021439752363808468,0.00021669099775285228,0.00021955090944767404,0.00022288929211864995,0.00022660215484807152,0.00023057162427059453,0.00023466850939222848,0.00023875523994798284,0.00024268911498545115,0.0002463257848119541,0.0002495228768799053,0.00025214366537805216,0.00025406067609204977,0.000255159113346699,0.0002553399953113113,0.000254522888232964,0.0002526481395980125,0.0002496785248268997,0.0002456002415370325,0.000240423208950845,0.0002341806566272498,0.00022692801501963307,0.0002187411488858047,0.00020971400168678293,0.00019995574324337898,0.0001895875326635705,0.0001787390227694515,0.00016754474015532217,0.00015614047622573206,0.00014465981915693532,0.00013323094518230335,0.00012197377078322358,0.00011099754643463614,0.00010039894887790519,0.00009026070394218528,0.00008065074716931636,0.00007162190626743775,0.00006321206888103625,0.00005544478221662096,0.00004833021830211805,0.000041866430370340204,0.000036040822028098654,0.000030831751219051405,0.000026210195006940637,0.00002214140823191301,0.000018586518364636765,0.000015504009605033836,0.000012851060671463797,0.000010584712099115979,8.662849616124046e-6,7.044999824037865e-6,5.6929426461858094e-6,4.5711516309404315e-6,3.647078141542168e-6,2.8912987733383726e-6,2.277547143084244e-6,1.7826516856779369e-6,1.3864005020459847e-6,1.0713528748181902e-6,8.226150503846451e-7,6.275955040526665e-7,4.757523586196136e-7,3.5834308081803125e-7,2.6818416294623154e-7,1.9942630026482737e-7,1.4734865641939442e-7,1.0817419794000107e-7,7.89067794705108e-8,5.718966010881016e-8,4.1184401460916114e-8,2.9468605066002776e-8,2.095065222578289e-8,1.4799473945367046e-8,1.0387365600542119e-8,7.243936660849785e-9,5.019421501807702e-9,3.4557492271692675e-9,2.363959661414106e-9,1.6067450587144149e-9,1.0850824878533276e-9,7.280936179853974e-10,4.854228517838981e-10,3.2155967660938284e-10,2.1164654592655975e-10,1.3841045576449214e-10,8.993621589920103e-11,5.806416933261484e-11,3.7246856471106586e-11,2.373989255238013e-11,1.5034033379881275e-11,9.45975389412695e-12,5.914140904962071e-12,3.673761340213701e-12,2.2674493821079077e-12,1.3905019478662711e-12,8.472525745264666e-13,5.129339518748215e-13,3.085440759825158e-13,1.8440817094593415e-13,1.0950911241362574e-13,6.461412680952641e-14,3.788015925380838e-14,2.20649620251641e-14,1.2770315356078735e-14,7.343567464220808e-15,4.195846257135394e-15,2.3819850829120406e-15,1.343586049162311e-15,7.530067982239807e-16,4.1931389856668237e-16,2.3199923633534594e-16,1.2753834534839551e-16,6.966295870881459e-17,3.780680331078094e-17,2.0386604389644064e-17,1.0922617351992724e-17,5.814540797845538e-18,3.07546646437709e-18,1.616268218354535e-18,8.439616798177261e-19,4.378636302463021e-19,2.257157497254066e-19,1.1560901301433693e-19,5.883399742150991e-20,2.9748964236146385e-20,1.4945903231436274e-20,7.460695274997676e-21,3.700353829701611e-21,1.823534644507138e-21,8.928769361980613e-22,4.34386243295654e-22,2.0997502991245394e-22,1.0084807800092171e-22,4.8126248343942926e-23,2.2821262313897158e-23,1.0756694091911864e-23,5.047312963453132e-24,2.374744964232497e-24,1.1578492102610197e-24,6.646236471554065e-25,5.938716044138427e-25,9.003378406103749e-25,1.7671464407643034e-24,3.709610091e-24,7.866013274601232e-24,1.663050824536394e-23,3.4960692008844684e-23,7.30342412751276e-23,1.5159764368046646e-22,3.12656045491449e-22,6.406891495727e-22,1.3044684749527249e-21,2.638914913871798e-21,5.3042348779327175e-21,1.0593163164375826e-20,2.102006869420036e-20,4.144271074269892e-20,8.118349284804257e-20,1.5801301678701062e-19,3.0557903225557527e-19,5.871645023052432e-19,1.1209896091041264e-18,2.126419451169544e-18,4.007761231385543e-18,7.505165918272513e-18,1.3964465257127807e-17,2.5816292695216618e-17,4.742081317203216e-17,8.654653239622745e-17,1.5694081414453214e-16,2.8276632319690194e-16,5.06203358882617e-16,9.003843021892445e-16,1.5912424681966732e-15,2.794154148395508e-15,4.874947203756847e-15,8.450745557957727e-15,1.4555451761077797e-14,2.490932201678119e-14,4.235490179236337e-14,7.155681558710706e-14,1.2011683657576712e-13,2.003375327229853e-13,3.319909996366103e-13,5.46633008982681e-13,8.942747142095001e-13,1.4536223880144417e-12,2.347674103549222e-12,3.767294486219681e-12,6.006574731711692e-12,9.515459253401566e-12,1.4977460305590856e-11,2.3423519736293025e-11,3.63975110751968e-11,5.619488322466993e-11,8.620399907275385e-11,1.313903919963183e-10,1.989781356534917e-10,2.9940059612019785e-10,4.47615913790486e-10,6.649116313997605e-10,9.813589698033301e-10,1.439121352039876e-9,2.096874756988464e-9,3.0356599470111903e-9,4.3665587100585744e-9,6.2406674592431645e-9,8.861930366057528e-9,1.2503487932334797e-8,1.7528291202627552e-8,2.4414820425882713e-8,3.3788821402195594e-8,4.6462022041936915e-8,6.347880229935537e-8,8.617174662331865e-8,1.1622689126988478e-7,1.5575926967204222e-7,2.073990376061992e-7,2.7438800729406346e-7,3.606858200517632e-7,4.7108423028399257e-7,6.113270572723223e-7,7.882322940795874e-7,1.0098116676164368e-6,1.285381659563979e-6,1.6256586818710968e-6,2.0428298296935432e-6,2.5505895044737953e-6,3.164131322479568e-6,3.900084223865582e-6,4.776381704222029e-6,5.81205373159097e-6,7.026932300256049e-6,8.441263795465538e-6,0.00001007522444899551,0.00001194833915103845,0.00001407880868374923,0.000016482755919717056,0.00001917340747386498,0.00002216023342598887,0.00002544807369425891,0.000029036285038111388,0.000032917947073638524,0.00003707916866624027,0.00004149853722503143,0.0000461467524279592,0.000050986482522163064,0.00005597247546805466,0.00006105194888050738,0.00006616527218954025,0.00007124694209253368,0.00007622683876006109,0.00008103173608588275,0.00008558702533699081,0.00008981859871098847,0.00009365482838790952,0.00009702856844583552,0.00009987910213958256,0.0001021539559817166,0.00010381050505205237,0.00010481730097951781],\"yaxis\":\"y\"},{\"legendgroup\":\"Fare\",\"marker\":{\"color\":\"#57A7F3\",\"symbol\":\"line-ns-open\"},\"mode\":\"markers\",\"name\":\"Fare\",\"showlegend\":false,\"type\":\"scatter\",\"x\":[7.25,71.2833,7.925,53.1,8.05,8.4583,51.8625,21.075,11.1333,30.0708,16.7,26.55,8.05,31.275,7.8542,16.0,29.125,13.0,18.0,7.225,26.0,13.0,8.0292,35.5,21.075,31.3875,7.225,263.0,7.8792,7.8958,27.7208,146.5208,7.75,10.5,82.1708,52.0,7.2292,8.05,18.0,11.2417,9.475,21.0,7.8958,41.5792,7.8792,8.05,15.5,7.75,21.6792,17.8,39.6875,7.8,76.7292,26.0,61.9792,35.5,10.5,7.2292,27.75,46.9,7.2292,80.0,83.475,27.9,27.7208,15.2458,10.5,8.1583,7.925,8.6625,10.5,46.9,73.5,14.4542,56.4958,7.65,7.8958,8.05,29.0,12.475,9.0,9.5,7.7875,47.1,10.5,15.85,34.375,8.05,263.0,8.05,8.05,7.8542,61.175,20.575,7.25,8.05,34.6542,63.3583,23.0,26.0,7.8958,7.8958,77.2875,8.6542,7.925,7.8958,7.65,7.775,7.8958,24.15,52.0,14.4542,8.05,9.825,14.4583,7.925,7.75,21.0,247.5208,31.275,73.5,8.05,30.0708,13.0,77.2875,11.2417,7.75,7.1417,22.3583,6.975,7.8958,7.05,14.5,26.0,13.0,15.0458,26.2833,53.1,9.2167,79.2,15.2458,7.75,15.85,6.75,11.5,36.75,7.7958,34.375,26.0,13.0,12.525,66.6,8.05,14.5,7.3125,61.3792,7.7333,8.05,8.6625,69.55,16.1,15.75,7.775,8.6625,39.6875,20.525,55.0,27.9,25.925,56.4958,33.5,29.125,11.1333,7.925,30.6958,7.8542,25.4667,28.7125,13.0,0.0,69.55,15.05,31.3875,39.0,22.025,50.0,15.5,26.55,15.5,7.8958,13.0,13.0,7.8542,26.0,27.7208,146.5208,7.75,8.4042,7.75,13.0,9.5,69.55,6.4958,7.225,8.05,10.4625,15.85,18.7875,7.75,31.0,7.05,21.0,7.25,13.0,7.75,113.275,7.925,27.0,76.2917,10.5,8.05,13.0,8.05,7.8958,90.0,9.35,10.5,7.25,13.0,25.4667,83.475,7.775,13.5,31.3875,10.5,7.55,26.0,26.25,10.5,12.275,14.4542,15.5,10.5,7.125,7.225,90.0,7.775,14.5,52.5542,26.0,7.25,10.4625,26.55,16.1,20.2125,15.2458,79.2,86.5,512.3292,26.0,7.75,31.3875,79.65,0.0,7.75,10.5,39.6875,7.775,153.4625,135.6333,31.0,0.0,19.5,29.7,7.75,77.9583,7.75,0.0,29.125,20.25,7.75,7.8542,9.5,8.05,26.0,8.6625,9.5,7.8958,13.0,7.75,78.85,91.0792,12.875,8.85,7.8958,27.7208,7.2292,151.55,30.5,247.5208,7.75,23.25,0.0,12.35,8.05,151.55,110.8833,108.9,24.0,56.9292,83.1583,262.375,26.0,7.8958,26.25,7.8542,26.0,14.0,164.8667,134.5,7.25,7.8958,12.35,29.0,69.55,135.6333,6.2375,13.0,20.525,57.9792,23.25,28.5,153.4625,18.0,133.65,7.8958,66.6,134.5,8.05,35.5,26.0,263.0,13.0,13.0,13.0,13.0,13.0,16.1,15.9,8.6625,9.225,35.0,7.2292,17.8,7.225,9.5,55.0,13.0,7.8792,7.8792,27.9,27.7208,14.4542,7.05,15.5,7.25,75.25,7.2292,7.75,69.3,55.4417,6.4958,8.05,135.6333,21.075,82.1708,7.25,211.5,4.0125,7.775,227.525,15.7417,7.925,52.0,7.8958,73.5,46.9,13.0,7.7292,12.0,120.0,7.7958,7.925,113.275,16.7,7.7958,7.8542,26.0,10.5,12.65,7.925,8.05,9.825,15.85,8.6625,21.0,7.75,18.75,7.775,25.4667,7.8958,6.8583,90.0,0.0,7.925,8.05,32.5,13.0,13.0,24.15,7.8958,7.7333,7.875,14.4,20.2125,7.25,26.0,26.0,7.75,8.05,26.55,16.1,26.0,7.125,55.9,120.0,34.375,18.75,263.0,10.5,26.25,9.5,7.775,13.0,8.1125,81.8583,19.5,26.55,19.2583,30.5,27.75,19.9667,27.75,89.1042,8.05,7.8958,26.55,51.8625,10.5,7.75,26.55,8.05,38.5,13.0,8.05,7.05,0.0,26.55,7.725,19.2583,7.25,8.6625,27.75,13.7917,9.8375,52.0,21.0,7.0458,7.5208,12.2875,46.9,0.0,8.05,9.5875,91.0792,25.4667,90.0,29.7,8.05,15.9,19.9667,7.25,30.5,49.5042,8.05,14.4583,78.2667,15.1,151.55,7.7958,8.6625,7.75,7.6292,9.5875,86.5,108.9,26.0,26.55,22.525,56.4958,7.75,8.05,26.2875,59.4,7.4958,34.0208,10.5,24.15,26.0,7.8958,93.5,7.8958,7.225,57.9792,7.2292,7.75,10.5,221.7792,7.925,11.5,26.0,7.2292,7.2292,22.3583,8.6625,26.25,26.55,106.425,14.5,49.5,71.0,31.275,31.275,26.0,106.425,26.0,26.0,13.8625,20.525,36.75,110.8833,26.0,7.8292,7.225,7.775,26.55,39.6,227.525,79.65,17.4,7.75,7.8958,13.5,8.05,8.05,24.15,7.8958,21.075,7.2292,7.8542,10.5,51.4792,26.3875,7.75,8.05,14.5,13.0,55.9,14.4583,7.925,30.0,110.8833,26.0,40.125,8.7125,79.65,15.0,79.2,8.05,8.05,7.125,78.2667,7.25,7.75,26.0,24.15,33.0,0.0,7.225,56.9292,27.0,7.8958,42.4,8.05,26.55,15.55,7.8958,30.5,41.5792,153.4625,31.275,7.05,15.5,7.75,8.05,65.0,14.4,16.1,39.0,10.5,14.4542,52.5542,15.7417,7.8542,16.1,32.3208,12.35,77.9583,7.8958,7.7333,30.0,7.0542,30.5,0.0,27.9,13.0,7.925,26.25,39.6875,16.1,7.8542,69.3,27.9,56.4958,19.2583,76.7292,7.8958,35.5,7.55,7.55,7.8958,23.0,8.4333,7.8292,6.75,73.5,7.8958,15.5,13.0,113.275,133.65,7.225,25.5875,7.4958,7.925,73.5,13.0,7.775,8.05,52.0,39.0,52.0,10.5,13.0,0.0,7.775,8.05,9.8417,46.9,512.3292,8.1375,76.7292,9.225,46.9,39.0,41.5792,39.6875,10.1708,7.7958,211.3375,57.0,13.4167,56.4958,7.225,26.55,13.5,8.05,7.7333,110.8833,7.65,227.525,26.2875,14.4542,7.7417,7.8542,26.0,13.5,26.2875,151.55,15.2458,49.5042,26.55,52.0,9.4833,13.0,7.65,227.525,10.5,15.5,7.775,33.0,7.0542,13.0,13.0,53.1,8.6625,21.0,7.7375,26.0,7.925,211.3375,18.7875,0.0,13.0,13.0,16.1,34.375,512.3292,7.8958,7.8958,30.0,78.85,262.375,16.1,7.925,71.0,20.25,13.0,53.1,7.75,23.0,12.475,9.5,7.8958,65.0,14.5,7.7958,11.5,8.05,86.5,14.5,7.125,7.2292,120.0,7.775,77.9583,39.6,7.75,24.15,8.3625,9.5,7.8542,10.5,7.225,23.0,7.75,7.75,12.475,7.7375,211.3375,7.2292,57.0,30.0,23.45,7.05,7.25,7.4958,29.125,20.575,79.2,7.75,26.0,69.55,30.6958,7.8958,13.0,25.9292,8.6833,7.2292,24.15,13.0,26.25,120.0,8.5167,6.975,7.775,0.0,7.775,13.0,53.1,7.8875,24.15,10.5,31.275,8.05,0.0,7.925,37.0042,6.45,27.9,93.5,8.6625,0.0,12.475,39.6875,6.95,56.4958,37.0042,7.75,80.0,14.4542,18.75,7.2292,7.8542,8.3,83.1583,8.6625,8.05,56.4958,29.7,7.925,10.5,31.0,6.4375,8.6625,7.55,69.55,7.8958,33.0,89.1042,31.275,7.775,15.2458,39.4,26.0,9.35,164.8667,26.55,19.2583,7.2292,14.1083,11.5,25.9292,69.55,13.0,13.0,13.8583,50.4958,9.5,11.1333,7.8958,52.5542,5.0,9.0,24.0,7.225,9.8458,7.8958,7.8958,83.1583,26.0,7.8958,10.5167,10.5,7.05,29.125,13.0,30.0,23.45,30.0,7.75],\"xaxis\":\"x\",\"y\":[\"Fare\",\"Fare\",\"Fare\",\"Fare\",\"Fare\",\"Fare\",\"Fare\",\"Fare\",\"Fare\",\"Fare\",\"Fare\",\"Fare\",\"Fare\",\"Fare\",\"Fare\",\"Fare\",\"Fare\",\"Fare\",\"Fare\",\"Fare\",\"Fare\",\"Fare\",\"Fare\",\"Fare\",\"Fare\",\"Fare\",\"Fare\",\"Fare\",\"Fare\",\"Fare\",\"Fare\",\"Fare\",\"Fare\",\"Fare\",\"Fare\",\"Fare\",\"Fare\",\"Fare\",\"Fare\",\"Fare\",\"Fare\",\"Fare\",\"Fare\",\"Fare\",\"Fare\",\"Fare\",\"Fare\",\"Fare\",\"Fare\",\"Fare\",\"Fare\",\"Fare\",\"Fare\",\"Fare\",\"Fare\",\"Fare\",\"Fare\",\"Fare\",\"Fare\",\"Fare\",\"Fare\",\"Fare\",\"Fare\",\"Fare\",\"Fare\",\"Fare\",\"Fare\",\"Fare\",\"Fare\",\"Fare\",\"Fare\",\"Fare\",\"Fare\",\"Fare\",\"Fare\",\"Fare\",\"Fare\",\"Fare\",\"Fare\",\"Fare\",\"Fare\",\"Fare\",\"Fare\",\"Fare\",\"Fare\",\"Fare\",\"Fare\",\"Fare\",\"Fare\",\"Fare\",\"Fare\",\"Fare\",\"Fare\",\"Fare\",\"Fare\",\"Fare\",\"Fare\",\"Fare\",\"Fare\",\"Fare\",\"Fare\",\"Fare\",\"Fare\",\"Fare\",\"Fare\",\"Fare\",\"Fare\",\"Fare\",\"Fare\",\"Fare\",\"Fare\",\"Fare\",\"Fare\",\"Fare\",\"Fare\",\"Fare\",\"Fare\",\"Fare\",\"Fare\",\"Fare\",\"Fare\",\"Fare\",\"Fare\",\"Fare\",\"Fare\",\"Fare\",\"Fare\",\"Fare\",\"Fare\",\"Fare\",\"Fare\",\"Fare\",\"Fare\",\"Fare\",\"Fare\",\"Fare\",\"Fare\",\"Fare\",\"Fare\",\"Fare\",\"Fare\",\"Fare\",\"Fare\",\"Fare\",\"Fare\",\"Fare\",\"Fare\",\"Fare\",\"Fare\",\"Fare\",\"Fare\",\"Fare\",\"Fare\",\"Fare\",\"Fare\",\"Fare\",\"Fare\",\"Fare\",\"Fare\",\"Fare\",\"Fare\",\"Fare\",\"Fare\",\"Fare\",\"Fare\",\"Fare\",\"Fare\",\"Fare\",\"Fare\",\"Fare\",\"Fare\",\"Fare\",\"Fare\",\"Fare\",\"Fare\",\"Fare\",\"Fare\",\"Fare\",\"Fare\",\"Fare\",\"Fare\",\"Fare\",\"Fare\",\"Fare\",\"Fare\",\"Fare\",\"Fare\",\"Fare\",\"Fare\",\"Fare\",\"Fare\",\"Fare\",\"Fare\",\"Fare\",\"Fare\",\"Fare\",\"Fare\",\"Fare\",\"Fare\",\"Fare\",\"Fare\",\"Fare\",\"Fare\",\"Fare\",\"Fare\",\"Fare\",\"Fare\",\"Fare\",\"Fare\",\"Fare\",\"Fare\",\"Fare\",\"Fare\",\"Fare\",\"Fare\",\"Fare\",\"Fare\",\"Fare\",\"Fare\",\"Fare\",\"Fare\",\"Fare\",\"Fare\",\"Fare\",\"Fare\",\"Fare\",\"Fare\",\"Fare\",\"Fare\",\"Fare\",\"Fare\",\"Fare\",\"Fare\",\"Fare\",\"Fare\",\"Fare\",\"Fare\",\"Fare\",\"Fare\",\"Fare\",\"Fare\",\"Fare\",\"Fare\",\"Fare\",\"Fare\",\"Fare\",\"Fare\",\"Fare\",\"Fare\",\"Fare\",\"Fare\",\"Fare\",\"Fare\",\"Fare\",\"Fare\",\"Fare\",\"Fare\",\"Fare\",\"Fare\",\"Fare\",\"Fare\",\"Fare\",\"Fare\",\"Fare\",\"Fare\",\"Fare\",\"Fare\",\"Fare\",\"Fare\",\"Fare\",\"Fare\",\"Fare\",\"Fare\",\"Fare\",\"Fare\",\"Fare\",\"Fare\",\"Fare\",\"Fare\",\"Fare\",\"Fare\",\"Fare\",\"Fare\",\"Fare\",\"Fare\",\"Fare\",\"Fare\",\"Fare\",\"Fare\",\"Fare\",\"Fare\",\"Fare\",\"Fare\",\"Fare\",\"Fare\",\"Fare\",\"Fare\",\"Fare\",\"Fare\",\"Fare\",\"Fare\",\"Fare\",\"Fare\",\"Fare\",\"Fare\",\"Fare\",\"Fare\",\"Fare\",\"Fare\",\"Fare\",\"Fare\",\"Fare\",\"Fare\",\"Fare\",\"Fare\",\"Fare\",\"Fare\",\"Fare\",\"Fare\",\"Fare\",\"Fare\",\"Fare\",\"Fare\",\"Fare\",\"Fare\",\"Fare\",\"Fare\",\"Fare\",\"Fare\",\"Fare\",\"Fare\",\"Fare\",\"Fare\",\"Fare\",\"Fare\",\"Fare\",\"Fare\",\"Fare\",\"Fare\",\"Fare\",\"Fare\",\"Fare\",\"Fare\",\"Fare\",\"Fare\",\"Fare\",\"Fare\",\"Fare\",\"Fare\",\"Fare\",\"Fare\",\"Fare\",\"Fare\",\"Fare\",\"Fare\",\"Fare\",\"Fare\",\"Fare\",\"Fare\",\"Fare\",\"Fare\",\"Fare\",\"Fare\",\"Fare\",\"Fare\",\"Fare\",\"Fare\",\"Fare\",\"Fare\",\"Fare\",\"Fare\",\"Fare\",\"Fare\",\"Fare\",\"Fare\",\"Fare\",\"Fare\",\"Fare\",\"Fare\",\"Fare\",\"Fare\",\"Fare\",\"Fare\",\"Fare\",\"Fare\",\"Fare\",\"Fare\",\"Fare\",\"Fare\",\"Fare\",\"Fare\",\"Fare\",\"Fare\",\"Fare\",\"Fare\",\"Fare\",\"Fare\",\"Fare\",\"Fare\",\"Fare\",\"Fare\",\"Fare\",\"Fare\",\"Fare\",\"Fare\",\"Fare\",\"Fare\",\"Fare\",\"Fare\",\"Fare\",\"Fare\",\"Fare\",\"Fare\",\"Fare\",\"Fare\",\"Fare\",\"Fare\",\"Fare\",\"Fare\",\"Fare\",\"Fare\",\"Fare\",\"Fare\",\"Fare\",\"Fare\",\"Fare\",\"Fare\",\"Fare\",\"Fare\",\"Fare\",\"Fare\",\"Fare\",\"Fare\",\"Fare\",\"Fare\",\"Fare\",\"Fare\",\"Fare\",\"Fare\",\"Fare\",\"Fare\",\"Fare\",\"Fare\",\"Fare\",\"Fare\",\"Fare\",\"Fare\",\"Fare\",\"Fare\",\"Fare\",\"Fare\",\"Fare\",\"Fare\",\"Fare\",\"Fare\",\"Fare\",\"Fare\",\"Fare\",\"Fare\",\"Fare\",\"Fare\",\"Fare\",\"Fare\",\"Fare\",\"Fare\",\"Fare\",\"Fare\",\"Fare\",\"Fare\",\"Fare\",\"Fare\",\"Fare\",\"Fare\",\"Fare\",\"Fare\",\"Fare\",\"Fare\",\"Fare\",\"Fare\",\"Fare\",\"Fare\",\"Fare\",\"Fare\",\"Fare\",\"Fare\",\"Fare\",\"Fare\",\"Fare\",\"Fare\",\"Fare\",\"Fare\",\"Fare\",\"Fare\",\"Fare\",\"Fare\",\"Fare\",\"Fare\",\"Fare\",\"Fare\",\"Fare\",\"Fare\",\"Fare\",\"Fare\",\"Fare\",\"Fare\",\"Fare\",\"Fare\",\"Fare\",\"Fare\",\"Fare\",\"Fare\",\"Fare\",\"Fare\",\"Fare\",\"Fare\",\"Fare\",\"Fare\",\"Fare\",\"Fare\",\"Fare\",\"Fare\",\"Fare\",\"Fare\",\"Fare\",\"Fare\",\"Fare\",\"Fare\",\"Fare\",\"Fare\",\"Fare\",\"Fare\",\"Fare\",\"Fare\",\"Fare\",\"Fare\",\"Fare\",\"Fare\",\"Fare\",\"Fare\",\"Fare\",\"Fare\",\"Fare\",\"Fare\",\"Fare\",\"Fare\",\"Fare\",\"Fare\",\"Fare\",\"Fare\",\"Fare\",\"Fare\",\"Fare\",\"Fare\",\"Fare\",\"Fare\",\"Fare\",\"Fare\",\"Fare\",\"Fare\",\"Fare\",\"Fare\",\"Fare\",\"Fare\",\"Fare\",\"Fare\",\"Fare\",\"Fare\",\"Fare\",\"Fare\",\"Fare\",\"Fare\",\"Fare\",\"Fare\",\"Fare\",\"Fare\",\"Fare\",\"Fare\",\"Fare\",\"Fare\",\"Fare\",\"Fare\",\"Fare\",\"Fare\",\"Fare\",\"Fare\",\"Fare\",\"Fare\",\"Fare\",\"Fare\",\"Fare\",\"Fare\",\"Fare\",\"Fare\",\"Fare\",\"Fare\",\"Fare\",\"Fare\",\"Fare\",\"Fare\",\"Fare\",\"Fare\",\"Fare\",\"Fare\",\"Fare\",\"Fare\",\"Fare\",\"Fare\",\"Fare\",\"Fare\",\"Fare\",\"Fare\",\"Fare\",\"Fare\",\"Fare\",\"Fare\",\"Fare\",\"Fare\",\"Fare\",\"Fare\",\"Fare\",\"Fare\",\"Fare\",\"Fare\",\"Fare\",\"Fare\",\"Fare\",\"Fare\",\"Fare\",\"Fare\",\"Fare\",\"Fare\",\"Fare\",\"Fare\",\"Fare\",\"Fare\",\"Fare\",\"Fare\",\"Fare\",\"Fare\",\"Fare\",\"Fare\",\"Fare\",\"Fare\",\"Fare\",\"Fare\",\"Fare\",\"Fare\",\"Fare\",\"Fare\",\"Fare\",\"Fare\",\"Fare\",\"Fare\",\"Fare\",\"Fare\",\"Fare\",\"Fare\",\"Fare\",\"Fare\",\"Fare\",\"Fare\",\"Fare\",\"Fare\",\"Fare\",\"Fare\",\"Fare\",\"Fare\",\"Fare\",\"Fare\",\"Fare\",\"Fare\",\"Fare\",\"Fare\",\"Fare\",\"Fare\",\"Fare\",\"Fare\",\"Fare\",\"Fare\",\"Fare\",\"Fare\",\"Fare\",\"Fare\",\"Fare\",\"Fare\",\"Fare\",\"Fare\",\"Fare\",\"Fare\",\"Fare\",\"Fare\",\"Fare\",\"Fare\",\"Fare\",\"Fare\",\"Fare\",\"Fare\",\"Fare\",\"Fare\",\"Fare\",\"Fare\",\"Fare\",\"Fare\",\"Fare\",\"Fare\",\"Fare\",\"Fare\",\"Fare\",\"Fare\",\"Fare\",\"Fare\",\"Fare\",\"Fare\",\"Fare\",\"Fare\",\"Fare\",\"Fare\",\"Fare\",\"Fare\",\"Fare\",\"Fare\",\"Fare\",\"Fare\",\"Fare\",\"Fare\",\"Fare\",\"Fare\",\"Fare\",\"Fare\",\"Fare\",\"Fare\",\"Fare\",\"Fare\",\"Fare\",\"Fare\",\"Fare\",\"Fare\",\"Fare\",\"Fare\",\"Fare\",\"Fare\",\"Fare\",\"Fare\",\"Fare\",\"Fare\",\"Fare\",\"Fare\",\"Fare\",\"Fare\",\"Fare\",\"Fare\",\"Fare\",\"Fare\",\"Fare\",\"Fare\",\"Fare\",\"Fare\",\"Fare\",\"Fare\",\"Fare\",\"Fare\",\"Fare\",\"Fare\",\"Fare\",\"Fare\",\"Fare\",\"Fare\",\"Fare\",\"Fare\",\"Fare\",\"Fare\",\"Fare\",\"Fare\",\"Fare\",\"Fare\",\"Fare\",\"Fare\",\"Fare\",\"Fare\",\"Fare\",\"Fare\",\"Fare\",\"Fare\",\"Fare\",\"Fare\",\"Fare\",\"Fare\",\"Fare\",\"Fare\",\"Fare\",\"Fare\",\"Fare\",\"Fare\",\"Fare\",\"Fare\",\"Fare\",\"Fare\",\"Fare\",\"Fare\",\"Fare\",\"Fare\",\"Fare\",\"Fare\",\"Fare\",\"Fare\",\"Fare\",\"Fare\",\"Fare\",\"Fare\",\"Fare\",\"Fare\",\"Fare\",\"Fare\",\"Fare\",\"Fare\",\"Fare\",\"Fare\",\"Fare\",\"Fare\",\"Fare\",\"Fare\",\"Fare\",\"Fare\",\"Fare\",\"Fare\",\"Fare\",\"Fare\",\"Fare\",\"Fare\",\"Fare\",\"Fare\",\"Fare\",\"Fare\",\"Fare\",\"Fare\",\"Fare\",\"Fare\",\"Fare\",\"Fare\",\"Fare\",\"Fare\",\"Fare\",\"Fare\",\"Fare\",\"Fare\",\"Fare\",\"Fare\",\"Fare\",\"Fare\",\"Fare\",\"Fare\",\"Fare\",\"Fare\",\"Fare\",\"Fare\",\"Fare\",\"Fare\",\"Fare\",\"Fare\",\"Fare\",\"Fare\",\"Fare\",\"Fare\",\"Fare\",\"Fare\",\"Fare\",\"Fare\",\"Fare\",\"Fare\",\"Fare\",\"Fare\",\"Fare\",\"Fare\",\"Fare\",\"Fare\",\"Fare\",\"Fare\",\"Fare\",\"Fare\",\"Fare\",\"Fare\",\"Fare\",\"Fare\",\"Fare\",\"Fare\",\"Fare\",\"Fare\",\"Fare\",\"Fare\",\"Fare\",\"Fare\"],\"yaxis\":\"y2\"}],                        {\"barmode\":\"overlay\",\"hovermode\":\"closest\",\"legend\":{\"traceorder\":\"reversed\"},\"template\":{\"data\":{\"bar\":[{\"error_x\":{\"color\":\"#2a3f5f\"},\"error_y\":{\"color\":\"#2a3f5f\"},\"marker\":{\"line\":{\"color\":\"#E5ECF6\",\"width\":0.5},\"pattern\":{\"fillmode\":\"overlay\",\"size\":10,\"solidity\":0.2}},\"type\":\"bar\"}],\"barpolar\":[{\"marker\":{\"line\":{\"color\":\"#E5ECF6\",\"width\":0.5},\"pattern\":{\"fillmode\":\"overlay\",\"size\":10,\"solidity\":0.2}},\"type\":\"barpolar\"}],\"carpet\":[{\"aaxis\":{\"endlinecolor\":\"#2a3f5f\",\"gridcolor\":\"white\",\"linecolor\":\"white\",\"minorgridcolor\":\"white\",\"startlinecolor\":\"#2a3f5f\"},\"baxis\":{\"endlinecolor\":\"#2a3f5f\",\"gridcolor\":\"white\",\"linecolor\":\"white\",\"minorgridcolor\":\"white\",\"startlinecolor\":\"#2a3f5f\"},\"type\":\"carpet\"}],\"choropleth\":[{\"colorbar\":{\"outlinewidth\":0,\"ticks\":\"\"},\"type\":\"choropleth\"}],\"contour\":[{\"colorbar\":{\"outlinewidth\":0,\"ticks\":\"\"},\"colorscale\":[[0.0,\"#0d0887\"],[0.1111111111111111,\"#46039f\"],[0.2222222222222222,\"#7201a8\"],[0.3333333333333333,\"#9c179e\"],[0.4444444444444444,\"#bd3786\"],[0.5555555555555556,\"#d8576b\"],[0.6666666666666666,\"#ed7953\"],[0.7777777777777778,\"#fb9f3a\"],[0.8888888888888888,\"#fdca26\"],[1.0,\"#f0f921\"]],\"type\":\"contour\"}],\"contourcarpet\":[{\"colorbar\":{\"outlinewidth\":0,\"ticks\":\"\"},\"type\":\"contourcarpet\"}],\"heatmap\":[{\"colorbar\":{\"outlinewidth\":0,\"ticks\":\"\"},\"colorscale\":[[0.0,\"#0d0887\"],[0.1111111111111111,\"#46039f\"],[0.2222222222222222,\"#7201a8\"],[0.3333333333333333,\"#9c179e\"],[0.4444444444444444,\"#bd3786\"],[0.5555555555555556,\"#d8576b\"],[0.6666666666666666,\"#ed7953\"],[0.7777777777777778,\"#fb9f3a\"],[0.8888888888888888,\"#fdca26\"],[1.0,\"#f0f921\"]],\"type\":\"heatmap\"}],\"heatmapgl\":[{\"colorbar\":{\"outlinewidth\":0,\"ticks\":\"\"},\"colorscale\":[[0.0,\"#0d0887\"],[0.1111111111111111,\"#46039f\"],[0.2222222222222222,\"#7201a8\"],[0.3333333333333333,\"#9c179e\"],[0.4444444444444444,\"#bd3786\"],[0.5555555555555556,\"#d8576b\"],[0.6666666666666666,\"#ed7953\"],[0.7777777777777778,\"#fb9f3a\"],[0.8888888888888888,\"#fdca26\"],[1.0,\"#f0f921\"]],\"type\":\"heatmapgl\"}],\"histogram\":[{\"marker\":{\"pattern\":{\"fillmode\":\"overlay\",\"size\":10,\"solidity\":0.2}},\"type\":\"histogram\"}],\"histogram2d\":[{\"colorbar\":{\"outlinewidth\":0,\"ticks\":\"\"},\"colorscale\":[[0.0,\"#0d0887\"],[0.1111111111111111,\"#46039f\"],[0.2222222222222222,\"#7201a8\"],[0.3333333333333333,\"#9c179e\"],[0.4444444444444444,\"#bd3786\"],[0.5555555555555556,\"#d8576b\"],[0.6666666666666666,\"#ed7953\"],[0.7777777777777778,\"#fb9f3a\"],[0.8888888888888888,\"#fdca26\"],[1.0,\"#f0f921\"]],\"type\":\"histogram2d\"}],\"histogram2dcontour\":[{\"colorbar\":{\"outlinewidth\":0,\"ticks\":\"\"},\"colorscale\":[[0.0,\"#0d0887\"],[0.1111111111111111,\"#46039f\"],[0.2222222222222222,\"#7201a8\"],[0.3333333333333333,\"#9c179e\"],[0.4444444444444444,\"#bd3786\"],[0.5555555555555556,\"#d8576b\"],[0.6666666666666666,\"#ed7953\"],[0.7777777777777778,\"#fb9f3a\"],[0.8888888888888888,\"#fdca26\"],[1.0,\"#f0f921\"]],\"type\":\"histogram2dcontour\"}],\"mesh3d\":[{\"colorbar\":{\"outlinewidth\":0,\"ticks\":\"\"},\"type\":\"mesh3d\"}],\"parcoords\":[{\"line\":{\"colorbar\":{\"outlinewidth\":0,\"ticks\":\"\"}},\"type\":\"parcoords\"}],\"pie\":[{\"automargin\":true,\"type\":\"pie\"}],\"scatter\":[{\"marker\":{\"colorbar\":{\"outlinewidth\":0,\"ticks\":\"\"}},\"type\":\"scatter\"}],\"scatter3d\":[{\"line\":{\"colorbar\":{\"outlinewidth\":0,\"ticks\":\"\"}},\"marker\":{\"colorbar\":{\"outlinewidth\":0,\"ticks\":\"\"}},\"type\":\"scatter3d\"}],\"scattercarpet\":[{\"marker\":{\"colorbar\":{\"outlinewidth\":0,\"ticks\":\"\"}},\"type\":\"scattercarpet\"}],\"scattergeo\":[{\"marker\":{\"colorbar\":{\"outlinewidth\":0,\"ticks\":\"\"}},\"type\":\"scattergeo\"}],\"scattergl\":[{\"marker\":{\"colorbar\":{\"outlinewidth\":0,\"ticks\":\"\"}},\"type\":\"scattergl\"}],\"scattermapbox\":[{\"marker\":{\"colorbar\":{\"outlinewidth\":0,\"ticks\":\"\"}},\"type\":\"scattermapbox\"}],\"scatterpolar\":[{\"marker\":{\"colorbar\":{\"outlinewidth\":0,\"ticks\":\"\"}},\"type\":\"scatterpolar\"}],\"scatterpolargl\":[{\"marker\":{\"colorbar\":{\"outlinewidth\":0,\"ticks\":\"\"}},\"type\":\"scatterpolargl\"}],\"scatterternary\":[{\"marker\":{\"colorbar\":{\"outlinewidth\":0,\"ticks\":\"\"}},\"type\":\"scatterternary\"}],\"surface\":[{\"colorbar\":{\"outlinewidth\":0,\"ticks\":\"\"},\"colorscale\":[[0.0,\"#0d0887\"],[0.1111111111111111,\"#46039f\"],[0.2222222222222222,\"#7201a8\"],[0.3333333333333333,\"#9c179e\"],[0.4444444444444444,\"#bd3786\"],[0.5555555555555556,\"#d8576b\"],[0.6666666666666666,\"#ed7953\"],[0.7777777777777778,\"#fb9f3a\"],[0.8888888888888888,\"#fdca26\"],[1.0,\"#f0f921\"]],\"type\":\"surface\"}],\"table\":[{\"cells\":{\"fill\":{\"color\":\"#EBF0F8\"},\"line\":{\"color\":\"white\"}},\"header\":{\"fill\":{\"color\":\"#C8D4E3\"},\"line\":{\"color\":\"white\"}},\"type\":\"table\"}]},\"layout\":{\"annotationdefaults\":{\"arrowcolor\":\"#2a3f5f\",\"arrowhead\":0,\"arrowwidth\":1},\"autotypenumbers\":\"strict\",\"coloraxis\":{\"colorbar\":{\"outlinewidth\":0,\"ticks\":\"\"}},\"colorscale\":{\"diverging\":[[0,\"#8e0152\"],[0.1,\"#c51b7d\"],[0.2,\"#de77ae\"],[0.3,\"#f1b6da\"],[0.4,\"#fde0ef\"],[0.5,\"#f7f7f7\"],[0.6,\"#e6f5d0\"],[0.7,\"#b8e186\"],[0.8,\"#7fbc41\"],[0.9,\"#4d9221\"],[1,\"#276419\"]],\"sequential\":[[0.0,\"#0d0887\"],[0.1111111111111111,\"#46039f\"],[0.2222222222222222,\"#7201a8\"],[0.3333333333333333,\"#9c179e\"],[0.4444444444444444,\"#bd3786\"],[0.5555555555555556,\"#d8576b\"],[0.6666666666666666,\"#ed7953\"],[0.7777777777777778,\"#fb9f3a\"],[0.8888888888888888,\"#fdca26\"],[1.0,\"#f0f921\"]],\"sequentialminus\":[[0.0,\"#0d0887\"],[0.1111111111111111,\"#46039f\"],[0.2222222222222222,\"#7201a8\"],[0.3333333333333333,\"#9c179e\"],[0.4444444444444444,\"#bd3786\"],[0.5555555555555556,\"#d8576b\"],[0.6666666666666666,\"#ed7953\"],[0.7777777777777778,\"#fb9f3a\"],[0.8888888888888888,\"#fdca26\"],[1.0,\"#f0f921\"]]},\"colorway\":[\"#636efa\",\"#EF553B\",\"#00cc96\",\"#ab63fa\",\"#FFA15A\",\"#19d3f3\",\"#FF6692\",\"#B6E880\",\"#FF97FF\",\"#FECB52\"],\"font\":{\"color\":\"#2a3f5f\"},\"geo\":{\"bgcolor\":\"white\",\"lakecolor\":\"white\",\"landcolor\":\"#E5ECF6\",\"showlakes\":true,\"showland\":true,\"subunitcolor\":\"white\"},\"hoverlabel\":{\"align\":\"left\"},\"hovermode\":\"closest\",\"mapbox\":{\"style\":\"light\"},\"paper_bgcolor\":\"white\",\"plot_bgcolor\":\"#E5ECF6\",\"polar\":{\"angularaxis\":{\"gridcolor\":\"white\",\"linecolor\":\"white\",\"ticks\":\"\"},\"bgcolor\":\"#E5ECF6\",\"radialaxis\":{\"gridcolor\":\"white\",\"linecolor\":\"white\",\"ticks\":\"\"}},\"scene\":{\"xaxis\":{\"backgroundcolor\":\"#E5ECF6\",\"gridcolor\":\"white\",\"gridwidth\":2,\"linecolor\":\"white\",\"showbackground\":true,\"ticks\":\"\",\"zerolinecolor\":\"white\"},\"yaxis\":{\"backgroundcolor\":\"#E5ECF6\",\"gridcolor\":\"white\",\"gridwidth\":2,\"linecolor\":\"white\",\"showbackground\":true,\"ticks\":\"\",\"zerolinecolor\":\"white\"},\"zaxis\":{\"backgroundcolor\":\"#E5ECF6\",\"gridcolor\":\"white\",\"gridwidth\":2,\"linecolor\":\"white\",\"showbackground\":true,\"ticks\":\"\",\"zerolinecolor\":\"white\"}},\"shapedefaults\":{\"line\":{\"color\":\"#2a3f5f\"}},\"ternary\":{\"aaxis\":{\"gridcolor\":\"white\",\"linecolor\":\"white\",\"ticks\":\"\"},\"baxis\":{\"gridcolor\":\"white\",\"linecolor\":\"white\",\"ticks\":\"\"},\"bgcolor\":\"#E5ECF6\",\"caxis\":{\"gridcolor\":\"white\",\"linecolor\":\"white\",\"ticks\":\"\"}},\"title\":{\"x\":0.05},\"xaxis\":{\"automargin\":true,\"gridcolor\":\"white\",\"linecolor\":\"white\",\"ticks\":\"\",\"title\":{\"standoff\":15},\"zerolinecolor\":\"white\",\"zerolinewidth\":2},\"yaxis\":{\"automargin\":true,\"gridcolor\":\"white\",\"linecolor\":\"white\",\"ticks\":\"\",\"title\":{\"standoff\":15},\"zerolinecolor\":\"white\",\"zerolinewidth\":2}}},\"title\":{\"text\":\"Fare Distribution\"},\"xaxis\":{\"anchor\":\"y2\",\"domain\":[0.0,1.0],\"zeroline\":false},\"yaxis\":{\"anchor\":\"free\",\"domain\":[0.35,1],\"position\":0.0},\"yaxis2\":{\"anchor\":\"x\",\"domain\":[0,0.25],\"dtick\":1,\"showticklabels\":false}},                        {\"responsive\": true}                    ).then(function(){\n",
       "                            \n",
       "var gd = document.getElementById('05f1c2fa-db7b-4594-8af7-38552a6de43d');\n",
       "var x = new MutationObserver(function (mutations, observer) {{\n",
       "        var display = window.getComputedStyle(gd).display;\n",
       "        if (!display || display === 'none') {{\n",
       "            console.log([gd, 'removed!']);\n",
       "            Plotly.purge(gd);\n",
       "            observer.disconnect();\n",
       "        }}\n",
       "}});\n",
       "\n",
       "// Listen for the removal of the full notebook cells\n",
       "var notebookContainer = gd.closest('#notebook-container');\n",
       "if (notebookContainer) {{\n",
       "    x.observe(notebookContainer, {childList: true});\n",
       "}}\n",
       "\n",
       "// Listen for the clearing of the current output cell\n",
       "var outputEl = gd.closest('.output');\n",
       "if (outputEl) {{\n",
       "    x.observe(outputEl, {childList: true});\n",
       "}}\n",
       "\n",
       "                        })                };                });            </script>        </div>"
      ]
     },
     "metadata": {},
     "output_type": "display_data"
    }
   ],
   "source": [
    "fig = ff.create_distplot([train['Fare']],['Fare'],bin_size=10)\n",
    "fig.update_traces(marker=dict(color='#57A7F3'))\n",
    "fig.update_layout(\n",
    "    title=\"Fare Distribution\",\n",
    ")\n",
    "iplot(fig, filename='Basic Distplot')"
   ]
  },
  {
   "cell_type": "markdown",
   "id": "366fb85d",
   "metadata": {
    "papermill": {
     "duration": 0.117774,
     "end_time": "2022-01-19T04:26:37.594909",
     "exception": false,
     "start_time": "2022-01-19T04:26:37.477135",
     "status": "completed"
    },
    "tags": []
   },
   "source": [
    "<font size=\"4\" color=\"black\"> The distribution of fare is also skewed. we can use log transformation if we want to noramlize these positively skewed distributions.</font>"
   ]
  },
  {
   "cell_type": "code",
   "execution_count": 14,
   "id": "19bb2ac1",
   "metadata": {
    "_kg_hide-input": true,
    "execution": {
     "iopub.execute_input": "2022-01-19T04:26:37.839390Z",
     "iopub.status.busy": "2022-01-19T04:26:37.838454Z",
     "iopub.status.idle": "2022-01-19T04:26:37.852447Z",
     "shell.execute_reply": "2022-01-19T04:26:37.852937Z",
     "shell.execute_reply.started": "2021-12-30T12:31:04.528859Z"
    },
    "papermill": {
     "duration": 0.139923,
     "end_time": "2022-01-19T04:26:37.853100",
     "exception": false,
     "start_time": "2022-01-19T04:26:37.713177",
     "status": "completed"
    },
    "tags": []
   },
   "outputs": [
    {
     "data": {
      "text/html": [
       "<div>                            <div id=\"177cfb15-1972-4009-838d-29de9ce42ce6\" class=\"plotly-graph-div\" style=\"height:525px; width:100%;\"></div>            <script type=\"text/javascript\">                require([\"plotly\"], function(Plotly) {                    window.PLOTLYENV=window.PLOTLYENV || {};                                    if (document.getElementById(\"177cfb15-1972-4009-838d-29de9ce42ce6\")) {                    Plotly.newPlot(                        \"177cfb15-1972-4009-838d-29de9ce42ce6\",                        [{\"hole\":0.3,\"labels\":[\"class 3\",\"class 1\",\"class 2\"],\"marker\":{\"colors\":[\"#D3DBDD\",\"navy\",\"#57A7F3\"]},\"pull\":[0,0,0.04],\"type\":\"pie\",\"values\":[491,216,184]}],                        {\"template\":{\"data\":{\"bar\":[{\"error_x\":{\"color\":\"#2a3f5f\"},\"error_y\":{\"color\":\"#2a3f5f\"},\"marker\":{\"line\":{\"color\":\"#E5ECF6\",\"width\":0.5},\"pattern\":{\"fillmode\":\"overlay\",\"size\":10,\"solidity\":0.2}},\"type\":\"bar\"}],\"barpolar\":[{\"marker\":{\"line\":{\"color\":\"#E5ECF6\",\"width\":0.5},\"pattern\":{\"fillmode\":\"overlay\",\"size\":10,\"solidity\":0.2}},\"type\":\"barpolar\"}],\"carpet\":[{\"aaxis\":{\"endlinecolor\":\"#2a3f5f\",\"gridcolor\":\"white\",\"linecolor\":\"white\",\"minorgridcolor\":\"white\",\"startlinecolor\":\"#2a3f5f\"},\"baxis\":{\"endlinecolor\":\"#2a3f5f\",\"gridcolor\":\"white\",\"linecolor\":\"white\",\"minorgridcolor\":\"white\",\"startlinecolor\":\"#2a3f5f\"},\"type\":\"carpet\"}],\"choropleth\":[{\"colorbar\":{\"outlinewidth\":0,\"ticks\":\"\"},\"type\":\"choropleth\"}],\"contour\":[{\"colorbar\":{\"outlinewidth\":0,\"ticks\":\"\"},\"colorscale\":[[0.0,\"#0d0887\"],[0.1111111111111111,\"#46039f\"],[0.2222222222222222,\"#7201a8\"],[0.3333333333333333,\"#9c179e\"],[0.4444444444444444,\"#bd3786\"],[0.5555555555555556,\"#d8576b\"],[0.6666666666666666,\"#ed7953\"],[0.7777777777777778,\"#fb9f3a\"],[0.8888888888888888,\"#fdca26\"],[1.0,\"#f0f921\"]],\"type\":\"contour\"}],\"contourcarpet\":[{\"colorbar\":{\"outlinewidth\":0,\"ticks\":\"\"},\"type\":\"contourcarpet\"}],\"heatmap\":[{\"colorbar\":{\"outlinewidth\":0,\"ticks\":\"\"},\"colorscale\":[[0.0,\"#0d0887\"],[0.1111111111111111,\"#46039f\"],[0.2222222222222222,\"#7201a8\"],[0.3333333333333333,\"#9c179e\"],[0.4444444444444444,\"#bd3786\"],[0.5555555555555556,\"#d8576b\"],[0.6666666666666666,\"#ed7953\"],[0.7777777777777778,\"#fb9f3a\"],[0.8888888888888888,\"#fdca26\"],[1.0,\"#f0f921\"]],\"type\":\"heatmap\"}],\"heatmapgl\":[{\"colorbar\":{\"outlinewidth\":0,\"ticks\":\"\"},\"colorscale\":[[0.0,\"#0d0887\"],[0.1111111111111111,\"#46039f\"],[0.2222222222222222,\"#7201a8\"],[0.3333333333333333,\"#9c179e\"],[0.4444444444444444,\"#bd3786\"],[0.5555555555555556,\"#d8576b\"],[0.6666666666666666,\"#ed7953\"],[0.7777777777777778,\"#fb9f3a\"],[0.8888888888888888,\"#fdca26\"],[1.0,\"#f0f921\"]],\"type\":\"heatmapgl\"}],\"histogram\":[{\"marker\":{\"pattern\":{\"fillmode\":\"overlay\",\"size\":10,\"solidity\":0.2}},\"type\":\"histogram\"}],\"histogram2d\":[{\"colorbar\":{\"outlinewidth\":0,\"ticks\":\"\"},\"colorscale\":[[0.0,\"#0d0887\"],[0.1111111111111111,\"#46039f\"],[0.2222222222222222,\"#7201a8\"],[0.3333333333333333,\"#9c179e\"],[0.4444444444444444,\"#bd3786\"],[0.5555555555555556,\"#d8576b\"],[0.6666666666666666,\"#ed7953\"],[0.7777777777777778,\"#fb9f3a\"],[0.8888888888888888,\"#fdca26\"],[1.0,\"#f0f921\"]],\"type\":\"histogram2d\"}],\"histogram2dcontour\":[{\"colorbar\":{\"outlinewidth\":0,\"ticks\":\"\"},\"colorscale\":[[0.0,\"#0d0887\"],[0.1111111111111111,\"#46039f\"],[0.2222222222222222,\"#7201a8\"],[0.3333333333333333,\"#9c179e\"],[0.4444444444444444,\"#bd3786\"],[0.5555555555555556,\"#d8576b\"],[0.6666666666666666,\"#ed7953\"],[0.7777777777777778,\"#fb9f3a\"],[0.8888888888888888,\"#fdca26\"],[1.0,\"#f0f921\"]],\"type\":\"histogram2dcontour\"}],\"mesh3d\":[{\"colorbar\":{\"outlinewidth\":0,\"ticks\":\"\"},\"type\":\"mesh3d\"}],\"parcoords\":[{\"line\":{\"colorbar\":{\"outlinewidth\":0,\"ticks\":\"\"}},\"type\":\"parcoords\"}],\"pie\":[{\"automargin\":true,\"type\":\"pie\"}],\"scatter\":[{\"marker\":{\"colorbar\":{\"outlinewidth\":0,\"ticks\":\"\"}},\"type\":\"scatter\"}],\"scatter3d\":[{\"line\":{\"colorbar\":{\"outlinewidth\":0,\"ticks\":\"\"}},\"marker\":{\"colorbar\":{\"outlinewidth\":0,\"ticks\":\"\"}},\"type\":\"scatter3d\"}],\"scattercarpet\":[{\"marker\":{\"colorbar\":{\"outlinewidth\":0,\"ticks\":\"\"}},\"type\":\"scattercarpet\"}],\"scattergeo\":[{\"marker\":{\"colorbar\":{\"outlinewidth\":0,\"ticks\":\"\"}},\"type\":\"scattergeo\"}],\"scattergl\":[{\"marker\":{\"colorbar\":{\"outlinewidth\":0,\"ticks\":\"\"}},\"type\":\"scattergl\"}],\"scattermapbox\":[{\"marker\":{\"colorbar\":{\"outlinewidth\":0,\"ticks\":\"\"}},\"type\":\"scattermapbox\"}],\"scatterpolar\":[{\"marker\":{\"colorbar\":{\"outlinewidth\":0,\"ticks\":\"\"}},\"type\":\"scatterpolar\"}],\"scatterpolargl\":[{\"marker\":{\"colorbar\":{\"outlinewidth\":0,\"ticks\":\"\"}},\"type\":\"scatterpolargl\"}],\"scatterternary\":[{\"marker\":{\"colorbar\":{\"outlinewidth\":0,\"ticks\":\"\"}},\"type\":\"scatterternary\"}],\"surface\":[{\"colorbar\":{\"outlinewidth\":0,\"ticks\":\"\"},\"colorscale\":[[0.0,\"#0d0887\"],[0.1111111111111111,\"#46039f\"],[0.2222222222222222,\"#7201a8\"],[0.3333333333333333,\"#9c179e\"],[0.4444444444444444,\"#bd3786\"],[0.5555555555555556,\"#d8576b\"],[0.6666666666666666,\"#ed7953\"],[0.7777777777777778,\"#fb9f3a\"],[0.8888888888888888,\"#fdca26\"],[1.0,\"#f0f921\"]],\"type\":\"surface\"}],\"table\":[{\"cells\":{\"fill\":{\"color\":\"#EBF0F8\"},\"line\":{\"color\":\"white\"}},\"header\":{\"fill\":{\"color\":\"#C8D4E3\"},\"line\":{\"color\":\"white\"}},\"type\":\"table\"}]},\"layout\":{\"annotationdefaults\":{\"arrowcolor\":\"#2a3f5f\",\"arrowhead\":0,\"arrowwidth\":1},\"autotypenumbers\":\"strict\",\"coloraxis\":{\"colorbar\":{\"outlinewidth\":0,\"ticks\":\"\"}},\"colorscale\":{\"diverging\":[[0,\"#8e0152\"],[0.1,\"#c51b7d\"],[0.2,\"#de77ae\"],[0.3,\"#f1b6da\"],[0.4,\"#fde0ef\"],[0.5,\"#f7f7f7\"],[0.6,\"#e6f5d0\"],[0.7,\"#b8e186\"],[0.8,\"#7fbc41\"],[0.9,\"#4d9221\"],[1,\"#276419\"]],\"sequential\":[[0.0,\"#0d0887\"],[0.1111111111111111,\"#46039f\"],[0.2222222222222222,\"#7201a8\"],[0.3333333333333333,\"#9c179e\"],[0.4444444444444444,\"#bd3786\"],[0.5555555555555556,\"#d8576b\"],[0.6666666666666666,\"#ed7953\"],[0.7777777777777778,\"#fb9f3a\"],[0.8888888888888888,\"#fdca26\"],[1.0,\"#f0f921\"]],\"sequentialminus\":[[0.0,\"#0d0887\"],[0.1111111111111111,\"#46039f\"],[0.2222222222222222,\"#7201a8\"],[0.3333333333333333,\"#9c179e\"],[0.4444444444444444,\"#bd3786\"],[0.5555555555555556,\"#d8576b\"],[0.6666666666666666,\"#ed7953\"],[0.7777777777777778,\"#fb9f3a\"],[0.8888888888888888,\"#fdca26\"],[1.0,\"#f0f921\"]]},\"colorway\":[\"#636efa\",\"#EF553B\",\"#00cc96\",\"#ab63fa\",\"#FFA15A\",\"#19d3f3\",\"#FF6692\",\"#B6E880\",\"#FF97FF\",\"#FECB52\"],\"font\":{\"color\":\"#2a3f5f\"},\"geo\":{\"bgcolor\":\"white\",\"lakecolor\":\"white\",\"landcolor\":\"#E5ECF6\",\"showlakes\":true,\"showland\":true,\"subunitcolor\":\"white\"},\"hoverlabel\":{\"align\":\"left\"},\"hovermode\":\"closest\",\"mapbox\":{\"style\":\"light\"},\"paper_bgcolor\":\"white\",\"plot_bgcolor\":\"#E5ECF6\",\"polar\":{\"angularaxis\":{\"gridcolor\":\"white\",\"linecolor\":\"white\",\"ticks\":\"\"},\"bgcolor\":\"#E5ECF6\",\"radialaxis\":{\"gridcolor\":\"white\",\"linecolor\":\"white\",\"ticks\":\"\"}},\"scene\":{\"xaxis\":{\"backgroundcolor\":\"#E5ECF6\",\"gridcolor\":\"white\",\"gridwidth\":2,\"linecolor\":\"white\",\"showbackground\":true,\"ticks\":\"\",\"zerolinecolor\":\"white\"},\"yaxis\":{\"backgroundcolor\":\"#E5ECF6\",\"gridcolor\":\"white\",\"gridwidth\":2,\"linecolor\":\"white\",\"showbackground\":true,\"ticks\":\"\",\"zerolinecolor\":\"white\"},\"zaxis\":{\"backgroundcolor\":\"#E5ECF6\",\"gridcolor\":\"white\",\"gridwidth\":2,\"linecolor\":\"white\",\"showbackground\":true,\"ticks\":\"\",\"zerolinecolor\":\"white\"}},\"shapedefaults\":{\"line\":{\"color\":\"#2a3f5f\"}},\"ternary\":{\"aaxis\":{\"gridcolor\":\"white\",\"linecolor\":\"white\",\"ticks\":\"\"},\"baxis\":{\"gridcolor\":\"white\",\"linecolor\":\"white\",\"ticks\":\"\"},\"bgcolor\":\"#E5ECF6\",\"caxis\":{\"gridcolor\":\"white\",\"linecolor\":\"white\",\"ticks\":\"\"}},\"title\":{\"x\":0.05},\"xaxis\":{\"automargin\":true,\"gridcolor\":\"white\",\"linecolor\":\"white\",\"ticks\":\"\",\"title\":{\"standoff\":15},\"zerolinecolor\":\"white\",\"zerolinewidth\":2},\"yaxis\":{\"automargin\":true,\"gridcolor\":\"white\",\"linecolor\":\"white\",\"ticks\":\"\",\"title\":{\"standoff\":15},\"zerolinecolor\":\"white\",\"zerolinewidth\":2}}},\"title\":{\"text\":\"Ticket class \"}},                        {\"responsive\": true}                    ).then(function(){\n",
       "                            \n",
       "var gd = document.getElementById('177cfb15-1972-4009-838d-29de9ce42ce6');\n",
       "var x = new MutationObserver(function (mutations, observer) {{\n",
       "        var display = window.getComputedStyle(gd).display;\n",
       "        if (!display || display === 'none') {{\n",
       "            console.log([gd, 'removed!']);\n",
       "            Plotly.purge(gd);\n",
       "            observer.disconnect();\n",
       "        }}\n",
       "}});\n",
       "\n",
       "// Listen for the removal of the full notebook cells\n",
       "var notebookContainer = gd.closest('#notebook-container');\n",
       "if (notebookContainer) {{\n",
       "    x.observe(notebookContainer, {childList: true});\n",
       "}}\n",
       "\n",
       "// Listen for the clearing of the current output cell\n",
       "var outputEl = gd.closest('.output');\n",
       "if (outputEl) {{\n",
       "    x.observe(outputEl, {childList: true});\n",
       "}}\n",
       "\n",
       "                        })                };                });            </script>        </div>"
      ]
     },
     "metadata": {},
     "output_type": "display_data"
    }
   ],
   "source": [
    "labels = [x for x in train.Pclass.value_counts().index]\n",
    "values = train.Pclass.value_counts()\n",
    "\n",
    "# Use `hole` to create a donut-like pie chart\n",
    "fig = go.Figure(data=[go.Pie(labels=['class 3','class 1','class 2'], values=values, hole=.3,pull=[0,0,0.04])])\n",
    "\n",
    "fig.update_layout(\n",
    "    title_text=\"Ticket class \")\n",
    "fig.update_traces(marker=dict(colors=night_colors))\n",
    "fig.show()"
   ]
  },
  {
   "cell_type": "markdown",
   "id": "d51957f0",
   "metadata": {
    "papermill": {
     "duration": 0.124486,
     "end_time": "2022-01-19T04:26:38.119135",
     "exception": false,
     "start_time": "2022-01-19T04:26:37.994649",
     "status": "completed"
    },
    "tags": []
   },
   "source": [
    "<font size=\"4\" color=\"black\"> The majority of the passengers had bought class 3 tickets and class 2 tickets are the less. </font>"
   ]
  },
  {
   "cell_type": "code",
   "execution_count": 15,
   "id": "afe52915",
   "metadata": {
    "_kg_hide-input": true,
    "execution": {
     "iopub.execute_input": "2022-01-19T04:26:38.363369Z",
     "iopub.status.busy": "2022-01-19T04:26:38.362284Z",
     "iopub.status.idle": "2022-01-19T04:26:38.373749Z",
     "shell.execute_reply": "2022-01-19T04:26:38.374212Z",
     "shell.execute_reply.started": "2021-12-30T12:31:04.546708Z"
    },
    "papermill": {
     "duration": 0.135539,
     "end_time": "2022-01-19T04:26:38.374409",
     "exception": false,
     "start_time": "2022-01-19T04:26:38.238870",
     "status": "completed"
    },
    "tags": []
   },
   "outputs": [],
   "source": [
    "import plotly.offline as py\n",
    "def PieChart(column, title, limit):\n",
    "    male = train[train['Sex'] == 'male']\n",
    "    female = train[train['Sex'] == 'female']\n",
    "    count_male = male[column].value_counts()[:limit].reset_index()\n",
    "    count_female = female[column].value_counts()[:limit].reset_index()\n",
    "    color = ['#D3DBDD','navy','#57A7F3', 'lightgrey','orange', 'gold','lightgreen', \n",
    "                            '#D0F9B1','tomato', 'tan']\n",
    "    \n",
    "    trace1 = go.Pie(labels=count_male['index'], \n",
    "                    values=count_male[column], \n",
    "                    name= \"male\", \n",
    "                    hole= .4, \n",
    "                    domain= {'x': [0, .48]},\n",
    "                   marker=dict(colors=color))\n",
    "\n",
    "    trace2 = go.Pie(labels=count_female['index'], \n",
    "                    values=count_female[column], \n",
    "                    name=\"female\", \n",
    "                    hole= .4,  \n",
    "                    domain= {'x': [.52, 1]})\n",
    "    layout = dict(title= title, font=dict(size=13), legend=dict(orientation=\"h\"),\n",
    "                  annotations = [\n",
    "                      dict(\n",
    "                          x=.21, y=.5,\n",
    "                          text='Male', \n",
    "                          showarrow=False,\n",
    "                          font=dict(size=16)\n",
    "                      ),\n",
    "                      dict(\n",
    "                          x=.80, y=.5,\n",
    "                          text='Female', \n",
    "                          showarrow=False,\n",
    "                          font=dict(size=16)\n",
    "                      )\n",
    "        ])\n",
    "\n",
    "    fig = dict(data=[trace1, trace2], layout=layout)\n",
    "    py.iplot(fig)\n"
   ]
  },
  {
   "cell_type": "markdown",
   "id": "f45e5248",
   "metadata": {
    "papermill": {
     "duration": 0.119841,
     "end_time": "2022-01-19T04:26:38.615829",
     "exception": false,
     "start_time": "2022-01-19T04:26:38.495988",
     "status": "completed"
    },
    "tags": []
   },
   "source": [
    "#### <u> Bivariate analysis </u>"
   ]
  },
  {
   "cell_type": "code",
   "execution_count": 16,
   "id": "532dec2a",
   "metadata": {
    "_kg_hide-input": true,
    "execution": {
     "iopub.execute_input": "2022-01-19T04:26:38.867560Z",
     "iopub.status.busy": "2022-01-19T04:26:38.866852Z",
     "iopub.status.idle": "2022-01-19T04:26:38.919876Z",
     "shell.execute_reply": "2022-01-19T04:26:38.919367Z",
     "shell.execute_reply.started": "2021-12-30T12:31:04.560188Z"
    },
    "papermill": {
     "duration": 0.184136,
     "end_time": "2022-01-19T04:26:38.920014",
     "exception": false,
     "start_time": "2022-01-19T04:26:38.735878",
     "status": "completed"
    },
    "tags": []
   },
   "outputs": [
    {
     "data": {
      "text/html": [
       "<div>                            <div id=\"ba424113-bf44-4ab5-90c8-f3c848f735be\" class=\"plotly-graph-div\" style=\"height:525px; width:100%;\"></div>            <script type=\"text/javascript\">                require([\"plotly\"], function(Plotly) {                    window.PLOTLYENV=window.PLOTLYENV || {};                                    if (document.getElementById(\"ba424113-bf44-4ab5-90c8-f3c848f735be\")) {                    Plotly.newPlot(                        \"ba424113-bf44-4ab5-90c8-f3c848f735be\",                        [{\"domain\":{\"x\":[0,0.48]},\"hole\":0.4,\"labels\":[3,1,2],\"marker\":{\"colors\":[\"#D3DBDD\",\"navy\",\"#57A7F3\",\"lightgrey\",\"orange\",\"gold\",\"lightgreen\",\"#D0F9B1\",\"tomato\",\"tan\"]},\"name\":\"male\",\"type\":\"pie\",\"values\":[347,122,108]},{\"domain\":{\"x\":[0.52,1]},\"hole\":0.4,\"labels\":[3,1,2],\"name\":\"female\",\"type\":\"pie\",\"values\":[144,94,76]}],                        {\"annotations\":[{\"font\":{\"size\":16},\"showarrow\":false,\"text\":\"Male\",\"x\":0.21,\"y\":0.5},{\"font\":{\"size\":16},\"showarrow\":false,\"text\":\"Female\",\"x\":0.8,\"y\":0.5}],\"font\":{\"size\":13},\"legend\":{\"orientation\":\"h\"},\"template\":{\"data\":{\"bar\":[{\"error_x\":{\"color\":\"#2a3f5f\"},\"error_y\":{\"color\":\"#2a3f5f\"},\"marker\":{\"line\":{\"color\":\"#E5ECF6\",\"width\":0.5},\"pattern\":{\"fillmode\":\"overlay\",\"size\":10,\"solidity\":0.2}},\"type\":\"bar\"}],\"barpolar\":[{\"marker\":{\"line\":{\"color\":\"#E5ECF6\",\"width\":0.5},\"pattern\":{\"fillmode\":\"overlay\",\"size\":10,\"solidity\":0.2}},\"type\":\"barpolar\"}],\"carpet\":[{\"aaxis\":{\"endlinecolor\":\"#2a3f5f\",\"gridcolor\":\"white\",\"linecolor\":\"white\",\"minorgridcolor\":\"white\",\"startlinecolor\":\"#2a3f5f\"},\"baxis\":{\"endlinecolor\":\"#2a3f5f\",\"gridcolor\":\"white\",\"linecolor\":\"white\",\"minorgridcolor\":\"white\",\"startlinecolor\":\"#2a3f5f\"},\"type\":\"carpet\"}],\"choropleth\":[{\"colorbar\":{\"outlinewidth\":0,\"ticks\":\"\"},\"type\":\"choropleth\"}],\"contour\":[{\"colorbar\":{\"outlinewidth\":0,\"ticks\":\"\"},\"colorscale\":[[0.0,\"#0d0887\"],[0.1111111111111111,\"#46039f\"],[0.2222222222222222,\"#7201a8\"],[0.3333333333333333,\"#9c179e\"],[0.4444444444444444,\"#bd3786\"],[0.5555555555555556,\"#d8576b\"],[0.6666666666666666,\"#ed7953\"],[0.7777777777777778,\"#fb9f3a\"],[0.8888888888888888,\"#fdca26\"],[1.0,\"#f0f921\"]],\"type\":\"contour\"}],\"contourcarpet\":[{\"colorbar\":{\"outlinewidth\":0,\"ticks\":\"\"},\"type\":\"contourcarpet\"}],\"heatmap\":[{\"colorbar\":{\"outlinewidth\":0,\"ticks\":\"\"},\"colorscale\":[[0.0,\"#0d0887\"],[0.1111111111111111,\"#46039f\"],[0.2222222222222222,\"#7201a8\"],[0.3333333333333333,\"#9c179e\"],[0.4444444444444444,\"#bd3786\"],[0.5555555555555556,\"#d8576b\"],[0.6666666666666666,\"#ed7953\"],[0.7777777777777778,\"#fb9f3a\"],[0.8888888888888888,\"#fdca26\"],[1.0,\"#f0f921\"]],\"type\":\"heatmap\"}],\"heatmapgl\":[{\"colorbar\":{\"outlinewidth\":0,\"ticks\":\"\"},\"colorscale\":[[0.0,\"#0d0887\"],[0.1111111111111111,\"#46039f\"],[0.2222222222222222,\"#7201a8\"],[0.3333333333333333,\"#9c179e\"],[0.4444444444444444,\"#bd3786\"],[0.5555555555555556,\"#d8576b\"],[0.6666666666666666,\"#ed7953\"],[0.7777777777777778,\"#fb9f3a\"],[0.8888888888888888,\"#fdca26\"],[1.0,\"#f0f921\"]],\"type\":\"heatmapgl\"}],\"histogram\":[{\"marker\":{\"pattern\":{\"fillmode\":\"overlay\",\"size\":10,\"solidity\":0.2}},\"type\":\"histogram\"}],\"histogram2d\":[{\"colorbar\":{\"outlinewidth\":0,\"ticks\":\"\"},\"colorscale\":[[0.0,\"#0d0887\"],[0.1111111111111111,\"#46039f\"],[0.2222222222222222,\"#7201a8\"],[0.3333333333333333,\"#9c179e\"],[0.4444444444444444,\"#bd3786\"],[0.5555555555555556,\"#d8576b\"],[0.6666666666666666,\"#ed7953\"],[0.7777777777777778,\"#fb9f3a\"],[0.8888888888888888,\"#fdca26\"],[1.0,\"#f0f921\"]],\"type\":\"histogram2d\"}],\"histogram2dcontour\":[{\"colorbar\":{\"outlinewidth\":0,\"ticks\":\"\"},\"colorscale\":[[0.0,\"#0d0887\"],[0.1111111111111111,\"#46039f\"],[0.2222222222222222,\"#7201a8\"],[0.3333333333333333,\"#9c179e\"],[0.4444444444444444,\"#bd3786\"],[0.5555555555555556,\"#d8576b\"],[0.6666666666666666,\"#ed7953\"],[0.7777777777777778,\"#fb9f3a\"],[0.8888888888888888,\"#fdca26\"],[1.0,\"#f0f921\"]],\"type\":\"histogram2dcontour\"}],\"mesh3d\":[{\"colorbar\":{\"outlinewidth\":0,\"ticks\":\"\"},\"type\":\"mesh3d\"}],\"parcoords\":[{\"line\":{\"colorbar\":{\"outlinewidth\":0,\"ticks\":\"\"}},\"type\":\"parcoords\"}],\"pie\":[{\"automargin\":true,\"type\":\"pie\"}],\"scatter\":[{\"marker\":{\"colorbar\":{\"outlinewidth\":0,\"ticks\":\"\"}},\"type\":\"scatter\"}],\"scatter3d\":[{\"line\":{\"colorbar\":{\"outlinewidth\":0,\"ticks\":\"\"}},\"marker\":{\"colorbar\":{\"outlinewidth\":0,\"ticks\":\"\"}},\"type\":\"scatter3d\"}],\"scattercarpet\":[{\"marker\":{\"colorbar\":{\"outlinewidth\":0,\"ticks\":\"\"}},\"type\":\"scattercarpet\"}],\"scattergeo\":[{\"marker\":{\"colorbar\":{\"outlinewidth\":0,\"ticks\":\"\"}},\"type\":\"scattergeo\"}],\"scattergl\":[{\"marker\":{\"colorbar\":{\"outlinewidth\":0,\"ticks\":\"\"}},\"type\":\"scattergl\"}],\"scattermapbox\":[{\"marker\":{\"colorbar\":{\"outlinewidth\":0,\"ticks\":\"\"}},\"type\":\"scattermapbox\"}],\"scatterpolar\":[{\"marker\":{\"colorbar\":{\"outlinewidth\":0,\"ticks\":\"\"}},\"type\":\"scatterpolar\"}],\"scatterpolargl\":[{\"marker\":{\"colorbar\":{\"outlinewidth\":0,\"ticks\":\"\"}},\"type\":\"scatterpolargl\"}],\"scatterternary\":[{\"marker\":{\"colorbar\":{\"outlinewidth\":0,\"ticks\":\"\"}},\"type\":\"scatterternary\"}],\"surface\":[{\"colorbar\":{\"outlinewidth\":0,\"ticks\":\"\"},\"colorscale\":[[0.0,\"#0d0887\"],[0.1111111111111111,\"#46039f\"],[0.2222222222222222,\"#7201a8\"],[0.3333333333333333,\"#9c179e\"],[0.4444444444444444,\"#bd3786\"],[0.5555555555555556,\"#d8576b\"],[0.6666666666666666,\"#ed7953\"],[0.7777777777777778,\"#fb9f3a\"],[0.8888888888888888,\"#fdca26\"],[1.0,\"#f0f921\"]],\"type\":\"surface\"}],\"table\":[{\"cells\":{\"fill\":{\"color\":\"#EBF0F8\"},\"line\":{\"color\":\"white\"}},\"header\":{\"fill\":{\"color\":\"#C8D4E3\"},\"line\":{\"color\":\"white\"}},\"type\":\"table\"}]},\"layout\":{\"annotationdefaults\":{\"arrowcolor\":\"#2a3f5f\",\"arrowhead\":0,\"arrowwidth\":1},\"autotypenumbers\":\"strict\",\"coloraxis\":{\"colorbar\":{\"outlinewidth\":0,\"ticks\":\"\"}},\"colorscale\":{\"diverging\":[[0,\"#8e0152\"],[0.1,\"#c51b7d\"],[0.2,\"#de77ae\"],[0.3,\"#f1b6da\"],[0.4,\"#fde0ef\"],[0.5,\"#f7f7f7\"],[0.6,\"#e6f5d0\"],[0.7,\"#b8e186\"],[0.8,\"#7fbc41\"],[0.9,\"#4d9221\"],[1,\"#276419\"]],\"sequential\":[[0.0,\"#0d0887\"],[0.1111111111111111,\"#46039f\"],[0.2222222222222222,\"#7201a8\"],[0.3333333333333333,\"#9c179e\"],[0.4444444444444444,\"#bd3786\"],[0.5555555555555556,\"#d8576b\"],[0.6666666666666666,\"#ed7953\"],[0.7777777777777778,\"#fb9f3a\"],[0.8888888888888888,\"#fdca26\"],[1.0,\"#f0f921\"]],\"sequentialminus\":[[0.0,\"#0d0887\"],[0.1111111111111111,\"#46039f\"],[0.2222222222222222,\"#7201a8\"],[0.3333333333333333,\"#9c179e\"],[0.4444444444444444,\"#bd3786\"],[0.5555555555555556,\"#d8576b\"],[0.6666666666666666,\"#ed7953\"],[0.7777777777777778,\"#fb9f3a\"],[0.8888888888888888,\"#fdca26\"],[1.0,\"#f0f921\"]]},\"colorway\":[\"#636efa\",\"#EF553B\",\"#00cc96\",\"#ab63fa\",\"#FFA15A\",\"#19d3f3\",\"#FF6692\",\"#B6E880\",\"#FF97FF\",\"#FECB52\"],\"font\":{\"color\":\"#2a3f5f\"},\"geo\":{\"bgcolor\":\"white\",\"lakecolor\":\"white\",\"landcolor\":\"#E5ECF6\",\"showlakes\":true,\"showland\":true,\"subunitcolor\":\"white\"},\"hoverlabel\":{\"align\":\"left\"},\"hovermode\":\"closest\",\"mapbox\":{\"style\":\"light\"},\"paper_bgcolor\":\"white\",\"plot_bgcolor\":\"#E5ECF6\",\"polar\":{\"angularaxis\":{\"gridcolor\":\"white\",\"linecolor\":\"white\",\"ticks\":\"\"},\"bgcolor\":\"#E5ECF6\",\"radialaxis\":{\"gridcolor\":\"white\",\"linecolor\":\"white\",\"ticks\":\"\"}},\"scene\":{\"xaxis\":{\"backgroundcolor\":\"#E5ECF6\",\"gridcolor\":\"white\",\"gridwidth\":2,\"linecolor\":\"white\",\"showbackground\":true,\"ticks\":\"\",\"zerolinecolor\":\"white\"},\"yaxis\":{\"backgroundcolor\":\"#E5ECF6\",\"gridcolor\":\"white\",\"gridwidth\":2,\"linecolor\":\"white\",\"showbackground\":true,\"ticks\":\"\",\"zerolinecolor\":\"white\"},\"zaxis\":{\"backgroundcolor\":\"#E5ECF6\",\"gridcolor\":\"white\",\"gridwidth\":2,\"linecolor\":\"white\",\"showbackground\":true,\"ticks\":\"\",\"zerolinecolor\":\"white\"}},\"shapedefaults\":{\"line\":{\"color\":\"#2a3f5f\"}},\"ternary\":{\"aaxis\":{\"gridcolor\":\"white\",\"linecolor\":\"white\",\"ticks\":\"\"},\"baxis\":{\"gridcolor\":\"white\",\"linecolor\":\"white\",\"ticks\":\"\"},\"bgcolor\":\"#E5ECF6\",\"caxis\":{\"gridcolor\":\"white\",\"linecolor\":\"white\",\"ticks\":\"\"}},\"title\":{\"x\":0.05},\"xaxis\":{\"automargin\":true,\"gridcolor\":\"white\",\"linecolor\":\"white\",\"ticks\":\"\",\"title\":{\"standoff\":15},\"zerolinecolor\":\"white\",\"zerolinewidth\":2},\"yaxis\":{\"automargin\":true,\"gridcolor\":\"white\",\"linecolor\":\"white\",\"ticks\":\"\",\"title\":{\"standoff\":15},\"zerolinecolor\":\"white\",\"zerolinewidth\":2}}},\"title\":{\"text\":\"Ticket class and gender\"}},                        {\"responsive\": true}                    ).then(function(){\n",
       "                            \n",
       "var gd = document.getElementById('ba424113-bf44-4ab5-90c8-f3c848f735be');\n",
       "var x = new MutationObserver(function (mutations, observer) {{\n",
       "        var display = window.getComputedStyle(gd).display;\n",
       "        if (!display || display === 'none') {{\n",
       "            console.log([gd, 'removed!']);\n",
       "            Plotly.purge(gd);\n",
       "            observer.disconnect();\n",
       "        }}\n",
       "}});\n",
       "\n",
       "// Listen for the removal of the full notebook cells\n",
       "var notebookContainer = gd.closest('#notebook-container');\n",
       "if (notebookContainer) {{\n",
       "    x.observe(notebookContainer, {childList: true});\n",
       "}}\n",
       "\n",
       "// Listen for the clearing of the current output cell\n",
       "var outputEl = gd.closest('.output');\n",
       "if (outputEl) {{\n",
       "    x.observe(outputEl, {childList: true});\n",
       "}}\n",
       "\n",
       "                        })                };                });            </script>        </div>"
      ]
     },
     "metadata": {},
     "output_type": "display_data"
    }
   ],
   "source": [
    "PieChart('Pclass', \"Ticket class and gender\", 3)"
   ]
  },
  {
   "cell_type": "markdown",
   "id": "ea98b970",
   "metadata": {
    "papermill": {
     "duration": 0.121971,
     "end_time": "2022-01-19T04:26:39.164112",
     "exception": false,
     "start_time": "2022-01-19T04:26:39.042141",
     "status": "completed"
    },
    "tags": []
   },
   "source": [
    "<font size=\"4\" color=\"black\"> These charts show that from the class 1 passengers majority of them are females and the majority of class 3 passengers are males. This may have an effect to the very low number of male survivers.</font>"
   ]
  },
  {
   "cell_type": "code",
   "execution_count": 17,
   "id": "9dd86a74",
   "metadata": {
    "_kg_hide-input": true,
    "execution": {
     "iopub.execute_input": "2022-01-19T04:26:39.414291Z",
     "iopub.status.busy": "2022-01-19T04:26:39.413350Z",
     "iopub.status.idle": "2022-01-19T04:26:39.452409Z",
     "shell.execute_reply": "2022-01-19T04:26:39.452927Z",
     "shell.execute_reply.started": "2021-12-30T12:31:04.632582Z"
    },
    "papermill": {
     "duration": 0.167146,
     "end_time": "2022-01-19T04:26:39.453101",
     "exception": false,
     "start_time": "2022-01-19T04:26:39.285955",
     "status": "completed"
    },
    "tags": []
   },
   "outputs": [
    {
     "data": {
      "text/html": [
       "<div>                            <div id=\"8fa0ba3d-8707-4de6-b944-3537d2d8b10d\" class=\"plotly-graph-div\" style=\"height:525px; width:100%;\"></div>            <script type=\"text/javascript\">                require([\"plotly\"], function(Plotly) {                    window.PLOTLYENV=window.PLOTLYENV || {};                                    if (document.getElementById(\"8fa0ba3d-8707-4de6-b944-3537d2d8b10d\")) {                    Plotly.newPlot(                        \"8fa0ba3d-8707-4de6-b944-3537d2d8b10d\",                        [{\"domain\":{\"x\":[0,0.48]},\"hole\":0.4,\"labels\":[\"S\",\"C\",\"Q\"],\"marker\":{\"colors\":[\"#D3DBDD\",\"navy\",\"#57A7F3\",\"lightgrey\",\"orange\",\"gold\",\"lightgreen\",\"#D0F9B1\",\"tomato\",\"tan\"]},\"name\":\"male\",\"type\":\"pie\",\"values\":[441,95,41]},{\"domain\":{\"x\":[0.52,1]},\"hole\":0.4,\"labels\":[\"S\",\"C\",\"Q\"],\"name\":\"female\",\"type\":\"pie\",\"values\":[203,73,36]}],                        {\"annotations\":[{\"font\":{\"size\":16},\"showarrow\":false,\"text\":\"Male\",\"x\":0.21,\"y\":0.5},{\"font\":{\"size\":16},\"showarrow\":false,\"text\":\"Female\",\"x\":0.8,\"y\":0.5}],\"font\":{\"size\":13},\"legend\":{\"orientation\":\"h\"},\"template\":{\"data\":{\"bar\":[{\"error_x\":{\"color\":\"#2a3f5f\"},\"error_y\":{\"color\":\"#2a3f5f\"},\"marker\":{\"line\":{\"color\":\"#E5ECF6\",\"width\":0.5},\"pattern\":{\"fillmode\":\"overlay\",\"size\":10,\"solidity\":0.2}},\"type\":\"bar\"}],\"barpolar\":[{\"marker\":{\"line\":{\"color\":\"#E5ECF6\",\"width\":0.5},\"pattern\":{\"fillmode\":\"overlay\",\"size\":10,\"solidity\":0.2}},\"type\":\"barpolar\"}],\"carpet\":[{\"aaxis\":{\"endlinecolor\":\"#2a3f5f\",\"gridcolor\":\"white\",\"linecolor\":\"white\",\"minorgridcolor\":\"white\",\"startlinecolor\":\"#2a3f5f\"},\"baxis\":{\"endlinecolor\":\"#2a3f5f\",\"gridcolor\":\"white\",\"linecolor\":\"white\",\"minorgridcolor\":\"white\",\"startlinecolor\":\"#2a3f5f\"},\"type\":\"carpet\"}],\"choropleth\":[{\"colorbar\":{\"outlinewidth\":0,\"ticks\":\"\"},\"type\":\"choropleth\"}],\"contour\":[{\"colorbar\":{\"outlinewidth\":0,\"ticks\":\"\"},\"colorscale\":[[0.0,\"#0d0887\"],[0.1111111111111111,\"#46039f\"],[0.2222222222222222,\"#7201a8\"],[0.3333333333333333,\"#9c179e\"],[0.4444444444444444,\"#bd3786\"],[0.5555555555555556,\"#d8576b\"],[0.6666666666666666,\"#ed7953\"],[0.7777777777777778,\"#fb9f3a\"],[0.8888888888888888,\"#fdca26\"],[1.0,\"#f0f921\"]],\"type\":\"contour\"}],\"contourcarpet\":[{\"colorbar\":{\"outlinewidth\":0,\"ticks\":\"\"},\"type\":\"contourcarpet\"}],\"heatmap\":[{\"colorbar\":{\"outlinewidth\":0,\"ticks\":\"\"},\"colorscale\":[[0.0,\"#0d0887\"],[0.1111111111111111,\"#46039f\"],[0.2222222222222222,\"#7201a8\"],[0.3333333333333333,\"#9c179e\"],[0.4444444444444444,\"#bd3786\"],[0.5555555555555556,\"#d8576b\"],[0.6666666666666666,\"#ed7953\"],[0.7777777777777778,\"#fb9f3a\"],[0.8888888888888888,\"#fdca26\"],[1.0,\"#f0f921\"]],\"type\":\"heatmap\"}],\"heatmapgl\":[{\"colorbar\":{\"outlinewidth\":0,\"ticks\":\"\"},\"colorscale\":[[0.0,\"#0d0887\"],[0.1111111111111111,\"#46039f\"],[0.2222222222222222,\"#7201a8\"],[0.3333333333333333,\"#9c179e\"],[0.4444444444444444,\"#bd3786\"],[0.5555555555555556,\"#d8576b\"],[0.6666666666666666,\"#ed7953\"],[0.7777777777777778,\"#fb9f3a\"],[0.8888888888888888,\"#fdca26\"],[1.0,\"#f0f921\"]],\"type\":\"heatmapgl\"}],\"histogram\":[{\"marker\":{\"pattern\":{\"fillmode\":\"overlay\",\"size\":10,\"solidity\":0.2}},\"type\":\"histogram\"}],\"histogram2d\":[{\"colorbar\":{\"outlinewidth\":0,\"ticks\":\"\"},\"colorscale\":[[0.0,\"#0d0887\"],[0.1111111111111111,\"#46039f\"],[0.2222222222222222,\"#7201a8\"],[0.3333333333333333,\"#9c179e\"],[0.4444444444444444,\"#bd3786\"],[0.5555555555555556,\"#d8576b\"],[0.6666666666666666,\"#ed7953\"],[0.7777777777777778,\"#fb9f3a\"],[0.8888888888888888,\"#fdca26\"],[1.0,\"#f0f921\"]],\"type\":\"histogram2d\"}],\"histogram2dcontour\":[{\"colorbar\":{\"outlinewidth\":0,\"ticks\":\"\"},\"colorscale\":[[0.0,\"#0d0887\"],[0.1111111111111111,\"#46039f\"],[0.2222222222222222,\"#7201a8\"],[0.3333333333333333,\"#9c179e\"],[0.4444444444444444,\"#bd3786\"],[0.5555555555555556,\"#d8576b\"],[0.6666666666666666,\"#ed7953\"],[0.7777777777777778,\"#fb9f3a\"],[0.8888888888888888,\"#fdca26\"],[1.0,\"#f0f921\"]],\"type\":\"histogram2dcontour\"}],\"mesh3d\":[{\"colorbar\":{\"outlinewidth\":0,\"ticks\":\"\"},\"type\":\"mesh3d\"}],\"parcoords\":[{\"line\":{\"colorbar\":{\"outlinewidth\":0,\"ticks\":\"\"}},\"type\":\"parcoords\"}],\"pie\":[{\"automargin\":true,\"type\":\"pie\"}],\"scatter\":[{\"marker\":{\"colorbar\":{\"outlinewidth\":0,\"ticks\":\"\"}},\"type\":\"scatter\"}],\"scatter3d\":[{\"line\":{\"colorbar\":{\"outlinewidth\":0,\"ticks\":\"\"}},\"marker\":{\"colorbar\":{\"outlinewidth\":0,\"ticks\":\"\"}},\"type\":\"scatter3d\"}],\"scattercarpet\":[{\"marker\":{\"colorbar\":{\"outlinewidth\":0,\"ticks\":\"\"}},\"type\":\"scattercarpet\"}],\"scattergeo\":[{\"marker\":{\"colorbar\":{\"outlinewidth\":0,\"ticks\":\"\"}},\"type\":\"scattergeo\"}],\"scattergl\":[{\"marker\":{\"colorbar\":{\"outlinewidth\":0,\"ticks\":\"\"}},\"type\":\"scattergl\"}],\"scattermapbox\":[{\"marker\":{\"colorbar\":{\"outlinewidth\":0,\"ticks\":\"\"}},\"type\":\"scattermapbox\"}],\"scatterpolar\":[{\"marker\":{\"colorbar\":{\"outlinewidth\":0,\"ticks\":\"\"}},\"type\":\"scatterpolar\"}],\"scatterpolargl\":[{\"marker\":{\"colorbar\":{\"outlinewidth\":0,\"ticks\":\"\"}},\"type\":\"scatterpolargl\"}],\"scatterternary\":[{\"marker\":{\"colorbar\":{\"outlinewidth\":0,\"ticks\":\"\"}},\"type\":\"scatterternary\"}],\"surface\":[{\"colorbar\":{\"outlinewidth\":0,\"ticks\":\"\"},\"colorscale\":[[0.0,\"#0d0887\"],[0.1111111111111111,\"#46039f\"],[0.2222222222222222,\"#7201a8\"],[0.3333333333333333,\"#9c179e\"],[0.4444444444444444,\"#bd3786\"],[0.5555555555555556,\"#d8576b\"],[0.6666666666666666,\"#ed7953\"],[0.7777777777777778,\"#fb9f3a\"],[0.8888888888888888,\"#fdca26\"],[1.0,\"#f0f921\"]],\"type\":\"surface\"}],\"table\":[{\"cells\":{\"fill\":{\"color\":\"#EBF0F8\"},\"line\":{\"color\":\"white\"}},\"header\":{\"fill\":{\"color\":\"#C8D4E3\"},\"line\":{\"color\":\"white\"}},\"type\":\"table\"}]},\"layout\":{\"annotationdefaults\":{\"arrowcolor\":\"#2a3f5f\",\"arrowhead\":0,\"arrowwidth\":1},\"autotypenumbers\":\"strict\",\"coloraxis\":{\"colorbar\":{\"outlinewidth\":0,\"ticks\":\"\"}},\"colorscale\":{\"diverging\":[[0,\"#8e0152\"],[0.1,\"#c51b7d\"],[0.2,\"#de77ae\"],[0.3,\"#f1b6da\"],[0.4,\"#fde0ef\"],[0.5,\"#f7f7f7\"],[0.6,\"#e6f5d0\"],[0.7,\"#b8e186\"],[0.8,\"#7fbc41\"],[0.9,\"#4d9221\"],[1,\"#276419\"]],\"sequential\":[[0.0,\"#0d0887\"],[0.1111111111111111,\"#46039f\"],[0.2222222222222222,\"#7201a8\"],[0.3333333333333333,\"#9c179e\"],[0.4444444444444444,\"#bd3786\"],[0.5555555555555556,\"#d8576b\"],[0.6666666666666666,\"#ed7953\"],[0.7777777777777778,\"#fb9f3a\"],[0.8888888888888888,\"#fdca26\"],[1.0,\"#f0f921\"]],\"sequentialminus\":[[0.0,\"#0d0887\"],[0.1111111111111111,\"#46039f\"],[0.2222222222222222,\"#7201a8\"],[0.3333333333333333,\"#9c179e\"],[0.4444444444444444,\"#bd3786\"],[0.5555555555555556,\"#d8576b\"],[0.6666666666666666,\"#ed7953\"],[0.7777777777777778,\"#fb9f3a\"],[0.8888888888888888,\"#fdca26\"],[1.0,\"#f0f921\"]]},\"colorway\":[\"#636efa\",\"#EF553B\",\"#00cc96\",\"#ab63fa\",\"#FFA15A\",\"#19d3f3\",\"#FF6692\",\"#B6E880\",\"#FF97FF\",\"#FECB52\"],\"font\":{\"color\":\"#2a3f5f\"},\"geo\":{\"bgcolor\":\"white\",\"lakecolor\":\"white\",\"landcolor\":\"#E5ECF6\",\"showlakes\":true,\"showland\":true,\"subunitcolor\":\"white\"},\"hoverlabel\":{\"align\":\"left\"},\"hovermode\":\"closest\",\"mapbox\":{\"style\":\"light\"},\"paper_bgcolor\":\"white\",\"plot_bgcolor\":\"#E5ECF6\",\"polar\":{\"angularaxis\":{\"gridcolor\":\"white\",\"linecolor\":\"white\",\"ticks\":\"\"},\"bgcolor\":\"#E5ECF6\",\"radialaxis\":{\"gridcolor\":\"white\",\"linecolor\":\"white\",\"ticks\":\"\"}},\"scene\":{\"xaxis\":{\"backgroundcolor\":\"#E5ECF6\",\"gridcolor\":\"white\",\"gridwidth\":2,\"linecolor\":\"white\",\"showbackground\":true,\"ticks\":\"\",\"zerolinecolor\":\"white\"},\"yaxis\":{\"backgroundcolor\":\"#E5ECF6\",\"gridcolor\":\"white\",\"gridwidth\":2,\"linecolor\":\"white\",\"showbackground\":true,\"ticks\":\"\",\"zerolinecolor\":\"white\"},\"zaxis\":{\"backgroundcolor\":\"#E5ECF6\",\"gridcolor\":\"white\",\"gridwidth\":2,\"linecolor\":\"white\",\"showbackground\":true,\"ticks\":\"\",\"zerolinecolor\":\"white\"}},\"shapedefaults\":{\"line\":{\"color\":\"#2a3f5f\"}},\"ternary\":{\"aaxis\":{\"gridcolor\":\"white\",\"linecolor\":\"white\",\"ticks\":\"\"},\"baxis\":{\"gridcolor\":\"white\",\"linecolor\":\"white\",\"ticks\":\"\"},\"bgcolor\":\"#E5ECF6\",\"caxis\":{\"gridcolor\":\"white\",\"linecolor\":\"white\",\"ticks\":\"\"}},\"title\":{\"x\":0.05},\"xaxis\":{\"automargin\":true,\"gridcolor\":\"white\",\"linecolor\":\"white\",\"ticks\":\"\",\"title\":{\"standoff\":15},\"zerolinecolor\":\"white\",\"zerolinewidth\":2},\"yaxis\":{\"automargin\":true,\"gridcolor\":\"white\",\"linecolor\":\"white\",\"ticks\":\"\",\"title\":{\"standoff\":15},\"zerolinecolor\":\"white\",\"zerolinewidth\":2}}},\"title\":{\"text\":\"Embarkation and gender\"}},                        {\"responsive\": true}                    ).then(function(){\n",
       "                            \n",
       "var gd = document.getElementById('8fa0ba3d-8707-4de6-b944-3537d2d8b10d');\n",
       "var x = new MutationObserver(function (mutations, observer) {{\n",
       "        var display = window.getComputedStyle(gd).display;\n",
       "        if (!display || display === 'none') {{\n",
       "            console.log([gd, 'removed!']);\n",
       "            Plotly.purge(gd);\n",
       "            observer.disconnect();\n",
       "        }}\n",
       "}});\n",
       "\n",
       "// Listen for the removal of the full notebook cells\n",
       "var notebookContainer = gd.closest('#notebook-container');\n",
       "if (notebookContainer) {{\n",
       "    x.observe(notebookContainer, {childList: true});\n",
       "}}\n",
       "\n",
       "// Listen for the clearing of the current output cell\n",
       "var outputEl = gd.closest('.output');\n",
       "if (outputEl) {{\n",
       "    x.observe(outputEl, {childList: true});\n",
       "}}\n",
       "\n",
       "                        })                };                });            </script>        </div>"
      ]
     },
     "metadata": {},
     "output_type": "display_data"
    }
   ],
   "source": [
    "PieChart('Embarked', \"Embarkation and gender\", 3)"
   ]
  },
  {
   "cell_type": "markdown",
   "id": "e420b163",
   "metadata": {
    "papermill": {
     "duration": 0.122055,
     "end_time": "2022-01-19T04:26:39.698236",
     "exception": false,
     "start_time": "2022-01-19T04:26:39.576181",
     "status": "completed"
    },
    "tags": []
   },
   "source": [
    "<font size=\"4\">  The port of embarkation does not have a significant change with gender of the passenger.</font>"
   ]
  },
  {
   "cell_type": "code",
   "execution_count": 18,
   "id": "578438e0",
   "metadata": {
    "_kg_hide-input": true,
    "execution": {
     "iopub.execute_input": "2022-01-19T04:26:39.953205Z",
     "iopub.status.busy": "2022-01-19T04:26:39.952141Z",
     "iopub.status.idle": "2022-01-19T04:26:39.960423Z",
     "shell.execute_reply": "2022-01-19T04:26:39.960922Z",
     "shell.execute_reply.started": "2021-12-30T12:31:04.676466Z"
    },
    "papermill": {
     "duration": 0.137518,
     "end_time": "2022-01-19T04:26:39.961106",
     "exception": false,
     "start_time": "2022-01-19T04:26:39.823588",
     "status": "completed"
    },
    "tags": []
   },
   "outputs": [],
   "source": [
    "train['Survived']=train['Survived'].astype('category')\n",
    "train['Pclass']=train['Pclass'].astype('category')\n",
    "train['SibSp']=train['SibSp'].astype('category')"
   ]
  },
  {
   "cell_type": "code",
   "execution_count": 19,
   "id": "a953da34",
   "metadata": {
    "_kg_hide-input": true,
    "execution": {
     "iopub.execute_input": "2022-01-19T04:26:40.214833Z",
     "iopub.status.busy": "2022-01-19T04:26:40.213828Z",
     "iopub.status.idle": "2022-01-19T04:26:40.389721Z",
     "shell.execute_reply": "2022-01-19T04:26:40.390228Z",
     "shell.execute_reply.started": "2021-12-30T12:31:04.685597Z"
    },
    "papermill": {
     "duration": 0.302814,
     "end_time": "2022-01-19T04:26:40.390419",
     "exception": false,
     "start_time": "2022-01-19T04:26:40.087605",
     "status": "completed"
    },
    "tags": []
   },
   "outputs": [
    {
     "data": {
      "text/html": [
       "<div>                            <div id=\"c841484e-8736-49df-89e1-2e3af9c6081d\" class=\"plotly-graph-div\" style=\"height:525px; width:100%;\"></div>            <script type=\"text/javascript\">                require([\"plotly\"], function(Plotly) {                    window.PLOTLYENV=window.PLOTLYENV || {};                                    if (document.getElementById(\"c841484e-8736-49df-89e1-2e3af9c6081d\")) {                    Plotly.newPlot(                        \"c841484e-8736-49df-89e1-2e3af9c6081d\",                        [{\"alignmentgroup\":\"True\",\"hovertemplate\":\"Survived=0<br>Sex=%{x}<br>counts=%{y}<extra></extra>\",\"legendgroup\":\"0\",\"marker\":{\"color\":\"#8FCBD8\",\"pattern\":{\"shape\":\"\"}},\"name\":\"0\",\"offsetgroup\":\"0\",\"orientation\":\"v\",\"showlegend\":true,\"textposition\":\"auto\",\"type\":\"bar\",\"x\":[\"female\",\"male\"],\"xaxis\":\"x\",\"y\":[81,468],\"yaxis\":\"y\"},{\"alignmentgroup\":\"True\",\"hovertemplate\":\"Survived=1<br>Sex=%{x}<br>counts=%{y}<extra></extra>\",\"legendgroup\":\"1\",\"marker\":{\"color\":\"#D3DBDD\",\"pattern\":{\"shape\":\"\"}},\"name\":\"1\",\"offsetgroup\":\"1\",\"orientation\":\"v\",\"showlegend\":true,\"textposition\":\"auto\",\"type\":\"bar\",\"x\":[\"female\",\"male\"],\"xaxis\":\"x\",\"y\":[233,109],\"yaxis\":\"y\"}],                        {\"barmode\":\"group\",\"legend\":{\"title\":{\"text\":\"Survived\"},\"tracegroupgap\":0},\"template\":{\"data\":{\"bar\":[{\"error_x\":{\"color\":\"#2a3f5f\"},\"error_y\":{\"color\":\"#2a3f5f\"},\"marker\":{\"line\":{\"color\":\"#E5ECF6\",\"width\":0.5},\"pattern\":{\"fillmode\":\"overlay\",\"size\":10,\"solidity\":0.2}},\"type\":\"bar\"}],\"barpolar\":[{\"marker\":{\"line\":{\"color\":\"#E5ECF6\",\"width\":0.5},\"pattern\":{\"fillmode\":\"overlay\",\"size\":10,\"solidity\":0.2}},\"type\":\"barpolar\"}],\"carpet\":[{\"aaxis\":{\"endlinecolor\":\"#2a3f5f\",\"gridcolor\":\"white\",\"linecolor\":\"white\",\"minorgridcolor\":\"white\",\"startlinecolor\":\"#2a3f5f\"},\"baxis\":{\"endlinecolor\":\"#2a3f5f\",\"gridcolor\":\"white\",\"linecolor\":\"white\",\"minorgridcolor\":\"white\",\"startlinecolor\":\"#2a3f5f\"},\"type\":\"carpet\"}],\"choropleth\":[{\"colorbar\":{\"outlinewidth\":0,\"ticks\":\"\"},\"type\":\"choropleth\"}],\"contour\":[{\"colorbar\":{\"outlinewidth\":0,\"ticks\":\"\"},\"colorscale\":[[0.0,\"#0d0887\"],[0.1111111111111111,\"#46039f\"],[0.2222222222222222,\"#7201a8\"],[0.3333333333333333,\"#9c179e\"],[0.4444444444444444,\"#bd3786\"],[0.5555555555555556,\"#d8576b\"],[0.6666666666666666,\"#ed7953\"],[0.7777777777777778,\"#fb9f3a\"],[0.8888888888888888,\"#fdca26\"],[1.0,\"#f0f921\"]],\"type\":\"contour\"}],\"contourcarpet\":[{\"colorbar\":{\"outlinewidth\":0,\"ticks\":\"\"},\"type\":\"contourcarpet\"}],\"heatmap\":[{\"colorbar\":{\"outlinewidth\":0,\"ticks\":\"\"},\"colorscale\":[[0.0,\"#0d0887\"],[0.1111111111111111,\"#46039f\"],[0.2222222222222222,\"#7201a8\"],[0.3333333333333333,\"#9c179e\"],[0.4444444444444444,\"#bd3786\"],[0.5555555555555556,\"#d8576b\"],[0.6666666666666666,\"#ed7953\"],[0.7777777777777778,\"#fb9f3a\"],[0.8888888888888888,\"#fdca26\"],[1.0,\"#f0f921\"]],\"type\":\"heatmap\"}],\"heatmapgl\":[{\"colorbar\":{\"outlinewidth\":0,\"ticks\":\"\"},\"colorscale\":[[0.0,\"#0d0887\"],[0.1111111111111111,\"#46039f\"],[0.2222222222222222,\"#7201a8\"],[0.3333333333333333,\"#9c179e\"],[0.4444444444444444,\"#bd3786\"],[0.5555555555555556,\"#d8576b\"],[0.6666666666666666,\"#ed7953\"],[0.7777777777777778,\"#fb9f3a\"],[0.8888888888888888,\"#fdca26\"],[1.0,\"#f0f921\"]],\"type\":\"heatmapgl\"}],\"histogram\":[{\"marker\":{\"pattern\":{\"fillmode\":\"overlay\",\"size\":10,\"solidity\":0.2}},\"type\":\"histogram\"}],\"histogram2d\":[{\"colorbar\":{\"outlinewidth\":0,\"ticks\":\"\"},\"colorscale\":[[0.0,\"#0d0887\"],[0.1111111111111111,\"#46039f\"],[0.2222222222222222,\"#7201a8\"],[0.3333333333333333,\"#9c179e\"],[0.4444444444444444,\"#bd3786\"],[0.5555555555555556,\"#d8576b\"],[0.6666666666666666,\"#ed7953\"],[0.7777777777777778,\"#fb9f3a\"],[0.8888888888888888,\"#fdca26\"],[1.0,\"#f0f921\"]],\"type\":\"histogram2d\"}],\"histogram2dcontour\":[{\"colorbar\":{\"outlinewidth\":0,\"ticks\":\"\"},\"colorscale\":[[0.0,\"#0d0887\"],[0.1111111111111111,\"#46039f\"],[0.2222222222222222,\"#7201a8\"],[0.3333333333333333,\"#9c179e\"],[0.4444444444444444,\"#bd3786\"],[0.5555555555555556,\"#d8576b\"],[0.6666666666666666,\"#ed7953\"],[0.7777777777777778,\"#fb9f3a\"],[0.8888888888888888,\"#fdca26\"],[1.0,\"#f0f921\"]],\"type\":\"histogram2dcontour\"}],\"mesh3d\":[{\"colorbar\":{\"outlinewidth\":0,\"ticks\":\"\"},\"type\":\"mesh3d\"}],\"parcoords\":[{\"line\":{\"colorbar\":{\"outlinewidth\":0,\"ticks\":\"\"}},\"type\":\"parcoords\"}],\"pie\":[{\"automargin\":true,\"type\":\"pie\"}],\"scatter\":[{\"marker\":{\"colorbar\":{\"outlinewidth\":0,\"ticks\":\"\"}},\"type\":\"scatter\"}],\"scatter3d\":[{\"line\":{\"colorbar\":{\"outlinewidth\":0,\"ticks\":\"\"}},\"marker\":{\"colorbar\":{\"outlinewidth\":0,\"ticks\":\"\"}},\"type\":\"scatter3d\"}],\"scattercarpet\":[{\"marker\":{\"colorbar\":{\"outlinewidth\":0,\"ticks\":\"\"}},\"type\":\"scattercarpet\"}],\"scattergeo\":[{\"marker\":{\"colorbar\":{\"outlinewidth\":0,\"ticks\":\"\"}},\"type\":\"scattergeo\"}],\"scattergl\":[{\"marker\":{\"colorbar\":{\"outlinewidth\":0,\"ticks\":\"\"}},\"type\":\"scattergl\"}],\"scattermapbox\":[{\"marker\":{\"colorbar\":{\"outlinewidth\":0,\"ticks\":\"\"}},\"type\":\"scattermapbox\"}],\"scatterpolar\":[{\"marker\":{\"colorbar\":{\"outlinewidth\":0,\"ticks\":\"\"}},\"type\":\"scatterpolar\"}],\"scatterpolargl\":[{\"marker\":{\"colorbar\":{\"outlinewidth\":0,\"ticks\":\"\"}},\"type\":\"scatterpolargl\"}],\"scatterternary\":[{\"marker\":{\"colorbar\":{\"outlinewidth\":0,\"ticks\":\"\"}},\"type\":\"scatterternary\"}],\"surface\":[{\"colorbar\":{\"outlinewidth\":0,\"ticks\":\"\"},\"colorscale\":[[0.0,\"#0d0887\"],[0.1111111111111111,\"#46039f\"],[0.2222222222222222,\"#7201a8\"],[0.3333333333333333,\"#9c179e\"],[0.4444444444444444,\"#bd3786\"],[0.5555555555555556,\"#d8576b\"],[0.6666666666666666,\"#ed7953\"],[0.7777777777777778,\"#fb9f3a\"],[0.8888888888888888,\"#fdca26\"],[1.0,\"#f0f921\"]],\"type\":\"surface\"}],\"table\":[{\"cells\":{\"fill\":{\"color\":\"#EBF0F8\"},\"line\":{\"color\":\"white\"}},\"header\":{\"fill\":{\"color\":\"#C8D4E3\"},\"line\":{\"color\":\"white\"}},\"type\":\"table\"}]},\"layout\":{\"annotationdefaults\":{\"arrowcolor\":\"#2a3f5f\",\"arrowhead\":0,\"arrowwidth\":1},\"autotypenumbers\":\"strict\",\"coloraxis\":{\"colorbar\":{\"outlinewidth\":0,\"ticks\":\"\"}},\"colorscale\":{\"diverging\":[[0,\"#8e0152\"],[0.1,\"#c51b7d\"],[0.2,\"#de77ae\"],[0.3,\"#f1b6da\"],[0.4,\"#fde0ef\"],[0.5,\"#f7f7f7\"],[0.6,\"#e6f5d0\"],[0.7,\"#b8e186\"],[0.8,\"#7fbc41\"],[0.9,\"#4d9221\"],[1,\"#276419\"]],\"sequential\":[[0.0,\"#0d0887\"],[0.1111111111111111,\"#46039f\"],[0.2222222222222222,\"#7201a8\"],[0.3333333333333333,\"#9c179e\"],[0.4444444444444444,\"#bd3786\"],[0.5555555555555556,\"#d8576b\"],[0.6666666666666666,\"#ed7953\"],[0.7777777777777778,\"#fb9f3a\"],[0.8888888888888888,\"#fdca26\"],[1.0,\"#f0f921\"]],\"sequentialminus\":[[0.0,\"#0d0887\"],[0.1111111111111111,\"#46039f\"],[0.2222222222222222,\"#7201a8\"],[0.3333333333333333,\"#9c179e\"],[0.4444444444444444,\"#bd3786\"],[0.5555555555555556,\"#d8576b\"],[0.6666666666666666,\"#ed7953\"],[0.7777777777777778,\"#fb9f3a\"],[0.8888888888888888,\"#fdca26\"],[1.0,\"#f0f921\"]]},\"colorway\":[\"#636efa\",\"#EF553B\",\"#00cc96\",\"#ab63fa\",\"#FFA15A\",\"#19d3f3\",\"#FF6692\",\"#B6E880\",\"#FF97FF\",\"#FECB52\"],\"font\":{\"color\":\"#2a3f5f\"},\"geo\":{\"bgcolor\":\"white\",\"lakecolor\":\"white\",\"landcolor\":\"#E5ECF6\",\"showlakes\":true,\"showland\":true,\"subunitcolor\":\"white\"},\"hoverlabel\":{\"align\":\"left\"},\"hovermode\":\"closest\",\"mapbox\":{\"style\":\"light\"},\"paper_bgcolor\":\"white\",\"plot_bgcolor\":\"#E5ECF6\",\"polar\":{\"angularaxis\":{\"gridcolor\":\"white\",\"linecolor\":\"white\",\"ticks\":\"\"},\"bgcolor\":\"#E5ECF6\",\"radialaxis\":{\"gridcolor\":\"white\",\"linecolor\":\"white\",\"ticks\":\"\"}},\"scene\":{\"xaxis\":{\"backgroundcolor\":\"#E5ECF6\",\"gridcolor\":\"white\",\"gridwidth\":2,\"linecolor\":\"white\",\"showbackground\":true,\"ticks\":\"\",\"zerolinecolor\":\"white\"},\"yaxis\":{\"backgroundcolor\":\"#E5ECF6\",\"gridcolor\":\"white\",\"gridwidth\":2,\"linecolor\":\"white\",\"showbackground\":true,\"ticks\":\"\",\"zerolinecolor\":\"white\"},\"zaxis\":{\"backgroundcolor\":\"#E5ECF6\",\"gridcolor\":\"white\",\"gridwidth\":2,\"linecolor\":\"white\",\"showbackground\":true,\"ticks\":\"\",\"zerolinecolor\":\"white\"}},\"shapedefaults\":{\"line\":{\"color\":\"#2a3f5f\"}},\"ternary\":{\"aaxis\":{\"gridcolor\":\"white\",\"linecolor\":\"white\",\"ticks\":\"\"},\"baxis\":{\"gridcolor\":\"white\",\"linecolor\":\"white\",\"ticks\":\"\"},\"bgcolor\":\"#E5ECF6\",\"caxis\":{\"gridcolor\":\"white\",\"linecolor\":\"white\",\"ticks\":\"\"}},\"title\":{\"x\":0.05},\"xaxis\":{\"automargin\":true,\"gridcolor\":\"white\",\"linecolor\":\"white\",\"ticks\":\"\",\"title\":{\"standoff\":15},\"zerolinecolor\":\"white\",\"zerolinewidth\":2},\"yaxis\":{\"automargin\":true,\"gridcolor\":\"white\",\"linecolor\":\"white\",\"ticks\":\"\",\"title\":{\"standoff\":15},\"zerolinecolor\":\"white\",\"zerolinewidth\":2}}},\"title\":{\"text\":\"Survived vs Gender\"},\"xaxis\":{\"anchor\":\"y\",\"domain\":[0.0,1.0],\"title\":{\"text\":\"Sex\"}},\"yaxis\":{\"anchor\":\"x\",\"domain\":[0.0,1.0],\"title\":{\"text\":\"counts\"}}},                        {\"responsive\": true}                    ).then(function(){\n",
       "                            \n",
       "var gd = document.getElementById('c841484e-8736-49df-89e1-2e3af9c6081d');\n",
       "var x = new MutationObserver(function (mutations, observer) {{\n",
       "        var display = window.getComputedStyle(gd).display;\n",
       "        if (!display || display === 'none') {{\n",
       "            console.log([gd, 'removed!']);\n",
       "            Plotly.purge(gd);\n",
       "            observer.disconnect();\n",
       "        }}\n",
       "}});\n",
       "\n",
       "// Listen for the removal of the full notebook cells\n",
       "var notebookContainer = gd.closest('#notebook-container');\n",
       "if (notebookContainer) {{\n",
       "    x.observe(notebookContainer, {childList: true});\n",
       "}}\n",
       "\n",
       "// Listen for the clearing of the current output cell\n",
       "var outputEl = gd.closest('.output');\n",
       "if (outputEl) {{\n",
       "    x.observe(outputEl, {childList: true});\n",
       "}}\n",
       "\n",
       "                        })                };                });            </script>        </div>"
      ]
     },
     "metadata": {},
     "output_type": "display_data"
    }
   ],
   "source": [
    "import plotly.express as px\n",
    "\n",
    "df = train.groupby(by=[\"Survived\", \"Sex\"]).size().reset_index(name=\"counts\")\n",
    "px.bar(data_frame=df, x=\"Sex\", y=\"counts\", color=\"Survived\", barmode=\"group\",color_discrete_sequence =['#8FCBD8','#D3DBDD'],title=\"Survived vs Gender\")"
   ]
  },
  {
   "cell_type": "markdown",
   "id": "f807f444",
   "metadata": {
    "papermill": {
     "duration": 0.123693,
     "end_time": "2022-01-19T04:26:40.639874",
     "exception": false,
     "start_time": "2022-01-19T04:26:40.516181",
     "status": "completed"
    },
    "tags": []
   },
   "source": [
    "<font size=\"4\" color=\"black\"> Out of all the survivers there were many females. this may due to the fact that higher priority given to save the children and women on the ship. and also there would be a high priority to the class 1 passengers. So class of the ticket you are buying will have a significant effect to the survival of tragic incidents.</font>"
   ]
  },
  {
   "cell_type": "code",
   "execution_count": 20,
   "id": "ce1ad1b8",
   "metadata": {
    "_kg_hide-input": true,
    "execution": {
     "iopub.execute_input": "2022-01-19T04:26:40.892659Z",
     "iopub.status.busy": "2022-01-19T04:26:40.891967Z",
     "iopub.status.idle": "2022-01-19T04:26:40.966262Z",
     "shell.execute_reply": "2022-01-19T04:26:40.965629Z",
     "shell.execute_reply.started": "2021-12-30T12:31:04.869086Z"
    },
    "papermill": {
     "duration": 0.202993,
     "end_time": "2022-01-19T04:26:40.966417",
     "exception": false,
     "start_time": "2022-01-19T04:26:40.763424",
     "status": "completed"
    },
    "tags": []
   },
   "outputs": [
    {
     "data": {
      "text/html": [
       "<div>                            <div id=\"18293e6c-ce2e-407e-a547-13050f25bd69\" class=\"plotly-graph-div\" style=\"height:525px; width:100%;\"></div>            <script type=\"text/javascript\">                require([\"plotly\"], function(Plotly) {                    window.PLOTLYENV=window.PLOTLYENV || {};                                    if (document.getElementById(\"18293e6c-ce2e-407e-a547-13050f25bd69\")) {                    Plotly.newPlot(                        \"18293e6c-ce2e-407e-a547-13050f25bd69\",                        [{\"alignmentgroup\":\"True\",\"hovertemplate\":\"Survived=0<br>Pclass=%{x}<br>counts=%{y}<extra></extra>\",\"legendgroup\":\"0\",\"marker\":{\"color\":\"#8FCBD8\",\"pattern\":{\"shape\":\"\"}},\"name\":\"0\",\"offsetgroup\":\"0\",\"orientation\":\"v\",\"showlegend\":true,\"textposition\":\"auto\",\"type\":\"bar\",\"x\":[1,2,3],\"xaxis\":\"x\",\"y\":[80,97,372],\"yaxis\":\"y\"},{\"alignmentgroup\":\"True\",\"hovertemplate\":\"Survived=1<br>Pclass=%{x}<br>counts=%{y}<extra></extra>\",\"legendgroup\":\"1\",\"marker\":{\"color\":\"#D3DBDD\",\"pattern\":{\"shape\":\"\"}},\"name\":\"1\",\"offsetgroup\":\"1\",\"orientation\":\"v\",\"showlegend\":true,\"textposition\":\"auto\",\"type\":\"bar\",\"x\":[1,2,3],\"xaxis\":\"x\",\"y\":[136,87,119],\"yaxis\":\"y\"}],                        {\"barmode\":\"group\",\"legend\":{\"title\":{\"text\":\"Survived\"},\"tracegroupgap\":0},\"template\":{\"data\":{\"bar\":[{\"error_x\":{\"color\":\"#2a3f5f\"},\"error_y\":{\"color\":\"#2a3f5f\"},\"marker\":{\"line\":{\"color\":\"#E5ECF6\",\"width\":0.5},\"pattern\":{\"fillmode\":\"overlay\",\"size\":10,\"solidity\":0.2}},\"type\":\"bar\"}],\"barpolar\":[{\"marker\":{\"line\":{\"color\":\"#E5ECF6\",\"width\":0.5},\"pattern\":{\"fillmode\":\"overlay\",\"size\":10,\"solidity\":0.2}},\"type\":\"barpolar\"}],\"carpet\":[{\"aaxis\":{\"endlinecolor\":\"#2a3f5f\",\"gridcolor\":\"white\",\"linecolor\":\"white\",\"minorgridcolor\":\"white\",\"startlinecolor\":\"#2a3f5f\"},\"baxis\":{\"endlinecolor\":\"#2a3f5f\",\"gridcolor\":\"white\",\"linecolor\":\"white\",\"minorgridcolor\":\"white\",\"startlinecolor\":\"#2a3f5f\"},\"type\":\"carpet\"}],\"choropleth\":[{\"colorbar\":{\"outlinewidth\":0,\"ticks\":\"\"},\"type\":\"choropleth\"}],\"contour\":[{\"colorbar\":{\"outlinewidth\":0,\"ticks\":\"\"},\"colorscale\":[[0.0,\"#0d0887\"],[0.1111111111111111,\"#46039f\"],[0.2222222222222222,\"#7201a8\"],[0.3333333333333333,\"#9c179e\"],[0.4444444444444444,\"#bd3786\"],[0.5555555555555556,\"#d8576b\"],[0.6666666666666666,\"#ed7953\"],[0.7777777777777778,\"#fb9f3a\"],[0.8888888888888888,\"#fdca26\"],[1.0,\"#f0f921\"]],\"type\":\"contour\"}],\"contourcarpet\":[{\"colorbar\":{\"outlinewidth\":0,\"ticks\":\"\"},\"type\":\"contourcarpet\"}],\"heatmap\":[{\"colorbar\":{\"outlinewidth\":0,\"ticks\":\"\"},\"colorscale\":[[0.0,\"#0d0887\"],[0.1111111111111111,\"#46039f\"],[0.2222222222222222,\"#7201a8\"],[0.3333333333333333,\"#9c179e\"],[0.4444444444444444,\"#bd3786\"],[0.5555555555555556,\"#d8576b\"],[0.6666666666666666,\"#ed7953\"],[0.7777777777777778,\"#fb9f3a\"],[0.8888888888888888,\"#fdca26\"],[1.0,\"#f0f921\"]],\"type\":\"heatmap\"}],\"heatmapgl\":[{\"colorbar\":{\"outlinewidth\":0,\"ticks\":\"\"},\"colorscale\":[[0.0,\"#0d0887\"],[0.1111111111111111,\"#46039f\"],[0.2222222222222222,\"#7201a8\"],[0.3333333333333333,\"#9c179e\"],[0.4444444444444444,\"#bd3786\"],[0.5555555555555556,\"#d8576b\"],[0.6666666666666666,\"#ed7953\"],[0.7777777777777778,\"#fb9f3a\"],[0.8888888888888888,\"#fdca26\"],[1.0,\"#f0f921\"]],\"type\":\"heatmapgl\"}],\"histogram\":[{\"marker\":{\"pattern\":{\"fillmode\":\"overlay\",\"size\":10,\"solidity\":0.2}},\"type\":\"histogram\"}],\"histogram2d\":[{\"colorbar\":{\"outlinewidth\":0,\"ticks\":\"\"},\"colorscale\":[[0.0,\"#0d0887\"],[0.1111111111111111,\"#46039f\"],[0.2222222222222222,\"#7201a8\"],[0.3333333333333333,\"#9c179e\"],[0.4444444444444444,\"#bd3786\"],[0.5555555555555556,\"#d8576b\"],[0.6666666666666666,\"#ed7953\"],[0.7777777777777778,\"#fb9f3a\"],[0.8888888888888888,\"#fdca26\"],[1.0,\"#f0f921\"]],\"type\":\"histogram2d\"}],\"histogram2dcontour\":[{\"colorbar\":{\"outlinewidth\":0,\"ticks\":\"\"},\"colorscale\":[[0.0,\"#0d0887\"],[0.1111111111111111,\"#46039f\"],[0.2222222222222222,\"#7201a8\"],[0.3333333333333333,\"#9c179e\"],[0.4444444444444444,\"#bd3786\"],[0.5555555555555556,\"#d8576b\"],[0.6666666666666666,\"#ed7953\"],[0.7777777777777778,\"#fb9f3a\"],[0.8888888888888888,\"#fdca26\"],[1.0,\"#f0f921\"]],\"type\":\"histogram2dcontour\"}],\"mesh3d\":[{\"colorbar\":{\"outlinewidth\":0,\"ticks\":\"\"},\"type\":\"mesh3d\"}],\"parcoords\":[{\"line\":{\"colorbar\":{\"outlinewidth\":0,\"ticks\":\"\"}},\"type\":\"parcoords\"}],\"pie\":[{\"automargin\":true,\"type\":\"pie\"}],\"scatter\":[{\"marker\":{\"colorbar\":{\"outlinewidth\":0,\"ticks\":\"\"}},\"type\":\"scatter\"}],\"scatter3d\":[{\"line\":{\"colorbar\":{\"outlinewidth\":0,\"ticks\":\"\"}},\"marker\":{\"colorbar\":{\"outlinewidth\":0,\"ticks\":\"\"}},\"type\":\"scatter3d\"}],\"scattercarpet\":[{\"marker\":{\"colorbar\":{\"outlinewidth\":0,\"ticks\":\"\"}},\"type\":\"scattercarpet\"}],\"scattergeo\":[{\"marker\":{\"colorbar\":{\"outlinewidth\":0,\"ticks\":\"\"}},\"type\":\"scattergeo\"}],\"scattergl\":[{\"marker\":{\"colorbar\":{\"outlinewidth\":0,\"ticks\":\"\"}},\"type\":\"scattergl\"}],\"scattermapbox\":[{\"marker\":{\"colorbar\":{\"outlinewidth\":0,\"ticks\":\"\"}},\"type\":\"scattermapbox\"}],\"scatterpolar\":[{\"marker\":{\"colorbar\":{\"outlinewidth\":0,\"ticks\":\"\"}},\"type\":\"scatterpolar\"}],\"scatterpolargl\":[{\"marker\":{\"colorbar\":{\"outlinewidth\":0,\"ticks\":\"\"}},\"type\":\"scatterpolargl\"}],\"scatterternary\":[{\"marker\":{\"colorbar\":{\"outlinewidth\":0,\"ticks\":\"\"}},\"type\":\"scatterternary\"}],\"surface\":[{\"colorbar\":{\"outlinewidth\":0,\"ticks\":\"\"},\"colorscale\":[[0.0,\"#0d0887\"],[0.1111111111111111,\"#46039f\"],[0.2222222222222222,\"#7201a8\"],[0.3333333333333333,\"#9c179e\"],[0.4444444444444444,\"#bd3786\"],[0.5555555555555556,\"#d8576b\"],[0.6666666666666666,\"#ed7953\"],[0.7777777777777778,\"#fb9f3a\"],[0.8888888888888888,\"#fdca26\"],[1.0,\"#f0f921\"]],\"type\":\"surface\"}],\"table\":[{\"cells\":{\"fill\":{\"color\":\"#EBF0F8\"},\"line\":{\"color\":\"white\"}},\"header\":{\"fill\":{\"color\":\"#C8D4E3\"},\"line\":{\"color\":\"white\"}},\"type\":\"table\"}]},\"layout\":{\"annotationdefaults\":{\"arrowcolor\":\"#2a3f5f\",\"arrowhead\":0,\"arrowwidth\":1},\"autotypenumbers\":\"strict\",\"coloraxis\":{\"colorbar\":{\"outlinewidth\":0,\"ticks\":\"\"}},\"colorscale\":{\"diverging\":[[0,\"#8e0152\"],[0.1,\"#c51b7d\"],[0.2,\"#de77ae\"],[0.3,\"#f1b6da\"],[0.4,\"#fde0ef\"],[0.5,\"#f7f7f7\"],[0.6,\"#e6f5d0\"],[0.7,\"#b8e186\"],[0.8,\"#7fbc41\"],[0.9,\"#4d9221\"],[1,\"#276419\"]],\"sequential\":[[0.0,\"#0d0887\"],[0.1111111111111111,\"#46039f\"],[0.2222222222222222,\"#7201a8\"],[0.3333333333333333,\"#9c179e\"],[0.4444444444444444,\"#bd3786\"],[0.5555555555555556,\"#d8576b\"],[0.6666666666666666,\"#ed7953\"],[0.7777777777777778,\"#fb9f3a\"],[0.8888888888888888,\"#fdca26\"],[1.0,\"#f0f921\"]],\"sequentialminus\":[[0.0,\"#0d0887\"],[0.1111111111111111,\"#46039f\"],[0.2222222222222222,\"#7201a8\"],[0.3333333333333333,\"#9c179e\"],[0.4444444444444444,\"#bd3786\"],[0.5555555555555556,\"#d8576b\"],[0.6666666666666666,\"#ed7953\"],[0.7777777777777778,\"#fb9f3a\"],[0.8888888888888888,\"#fdca26\"],[1.0,\"#f0f921\"]]},\"colorway\":[\"#636efa\",\"#EF553B\",\"#00cc96\",\"#ab63fa\",\"#FFA15A\",\"#19d3f3\",\"#FF6692\",\"#B6E880\",\"#FF97FF\",\"#FECB52\"],\"font\":{\"color\":\"#2a3f5f\"},\"geo\":{\"bgcolor\":\"white\",\"lakecolor\":\"white\",\"landcolor\":\"#E5ECF6\",\"showlakes\":true,\"showland\":true,\"subunitcolor\":\"white\"},\"hoverlabel\":{\"align\":\"left\"},\"hovermode\":\"closest\",\"mapbox\":{\"style\":\"light\"},\"paper_bgcolor\":\"white\",\"plot_bgcolor\":\"#E5ECF6\",\"polar\":{\"angularaxis\":{\"gridcolor\":\"white\",\"linecolor\":\"white\",\"ticks\":\"\"},\"bgcolor\":\"#E5ECF6\",\"radialaxis\":{\"gridcolor\":\"white\",\"linecolor\":\"white\",\"ticks\":\"\"}},\"scene\":{\"xaxis\":{\"backgroundcolor\":\"#E5ECF6\",\"gridcolor\":\"white\",\"gridwidth\":2,\"linecolor\":\"white\",\"showbackground\":true,\"ticks\":\"\",\"zerolinecolor\":\"white\"},\"yaxis\":{\"backgroundcolor\":\"#E5ECF6\",\"gridcolor\":\"white\",\"gridwidth\":2,\"linecolor\":\"white\",\"showbackground\":true,\"ticks\":\"\",\"zerolinecolor\":\"white\"},\"zaxis\":{\"backgroundcolor\":\"#E5ECF6\",\"gridcolor\":\"white\",\"gridwidth\":2,\"linecolor\":\"white\",\"showbackground\":true,\"ticks\":\"\",\"zerolinecolor\":\"white\"}},\"shapedefaults\":{\"line\":{\"color\":\"#2a3f5f\"}},\"ternary\":{\"aaxis\":{\"gridcolor\":\"white\",\"linecolor\":\"white\",\"ticks\":\"\"},\"baxis\":{\"gridcolor\":\"white\",\"linecolor\":\"white\",\"ticks\":\"\"},\"bgcolor\":\"#E5ECF6\",\"caxis\":{\"gridcolor\":\"white\",\"linecolor\":\"white\",\"ticks\":\"\"}},\"title\":{\"x\":0.05},\"xaxis\":{\"automargin\":true,\"gridcolor\":\"white\",\"linecolor\":\"white\",\"ticks\":\"\",\"title\":{\"standoff\":15},\"zerolinecolor\":\"white\",\"zerolinewidth\":2},\"yaxis\":{\"automargin\":true,\"gridcolor\":\"white\",\"linecolor\":\"white\",\"ticks\":\"\",\"title\":{\"standoff\":15},\"zerolinecolor\":\"white\",\"zerolinewidth\":2}}},\"title\":{\"text\":\"Survived vs Ticket class\"},\"xaxis\":{\"anchor\":\"y\",\"domain\":[0.0,1.0],\"title\":{\"text\":\"Pclass\"}},\"yaxis\":{\"anchor\":\"x\",\"domain\":[0.0,1.0],\"title\":{\"text\":\"counts\"}}},                        {\"responsive\": true}                    ).then(function(){\n",
       "                            \n",
       "var gd = document.getElementById('18293e6c-ce2e-407e-a547-13050f25bd69');\n",
       "var x = new MutationObserver(function (mutations, observer) {{\n",
       "        var display = window.getComputedStyle(gd).display;\n",
       "        if (!display || display === 'none') {{\n",
       "            console.log([gd, 'removed!']);\n",
       "            Plotly.purge(gd);\n",
       "            observer.disconnect();\n",
       "        }}\n",
       "}});\n",
       "\n",
       "// Listen for the removal of the full notebook cells\n",
       "var notebookContainer = gd.closest('#notebook-container');\n",
       "if (notebookContainer) {{\n",
       "    x.observe(notebookContainer, {childList: true});\n",
       "}}\n",
       "\n",
       "// Listen for the clearing of the current output cell\n",
       "var outputEl = gd.closest('.output');\n",
       "if (outputEl) {{\n",
       "    x.observe(outputEl, {childList: true});\n",
       "}}\n",
       "\n",
       "                        })                };                });            </script>        </div>"
      ]
     },
     "metadata": {},
     "output_type": "display_data"
    }
   ],
   "source": [
    "\n",
    "df = train.groupby(by=[\"Survived\", \"Pclass\"]).size().reset_index(name=\"counts\")\n",
    "px.bar(data_frame=df, x=\"Pclass\", y=\"counts\", color=\"Survived\", barmode=\"group\",color_discrete_sequence =['#8FCBD8','#D3DBDD']\n",
    "      ,title=\"Survived vs Ticket class\")"
   ]
  },
  {
   "cell_type": "markdown",
   "id": "af67eb05",
   "metadata": {
    "papermill": {
     "duration": 0.12673,
     "end_time": "2022-01-19T04:26:41.218503",
     "exception": false,
     "start_time": "2022-01-19T04:26:41.091773",
     "status": "completed"
    },
    "tags": []
   },
   "source": [
    "<font size=\"4\" color=\"black\"> This shows the above mentioned fact of given higher priority to the class 1 passengers. hence there are many survivars from class 1 while there are many who could not survive in class 3.</font>"
   ]
  },
  {
   "cell_type": "code",
   "execution_count": 21,
   "id": "05cc66d4",
   "metadata": {
    "_kg_hide-input": true,
    "execution": {
     "iopub.execute_input": "2022-01-19T04:26:41.476322Z",
     "iopub.status.busy": "2022-01-19T04:26:41.474941Z",
     "iopub.status.idle": "2022-01-19T04:26:41.547424Z",
     "shell.execute_reply": "2022-01-19T04:26:41.546915Z",
     "shell.execute_reply.started": "2021-12-30T12:31:04.947871Z"
    },
    "papermill": {
     "duration": 0.204307,
     "end_time": "2022-01-19T04:26:41.547559",
     "exception": false,
     "start_time": "2022-01-19T04:26:41.343252",
     "status": "completed"
    },
    "tags": []
   },
   "outputs": [
    {
     "data": {
      "text/html": [
       "<div>                            <div id=\"9503c853-7492-4366-b064-a46c236962fc\" class=\"plotly-graph-div\" style=\"height:525px; width:100%;\"></div>            <script type=\"text/javascript\">                require([\"plotly\"], function(Plotly) {                    window.PLOTLYENV=window.PLOTLYENV || {};                                    if (document.getElementById(\"9503c853-7492-4366-b064-a46c236962fc\")) {                    Plotly.newPlot(                        \"9503c853-7492-4366-b064-a46c236962fc\",                        [{\"alignmentgroup\":\"True\",\"hovertemplate\":\"Survived=0<br>Embarked=%{x}<br>counts=%{y}<extra></extra>\",\"legendgroup\":\"0\",\"marker\":{\"color\":\"#D3DBDD\",\"pattern\":{\"shape\":\"\"}},\"name\":\"0\",\"offsetgroup\":\"0\",\"orientation\":\"v\",\"showlegend\":true,\"textposition\":\"auto\",\"type\":\"bar\",\"x\":[\"C\",\"Q\",\"S\"],\"xaxis\":\"x\",\"y\":[75,47,427],\"yaxis\":\"y\"},{\"alignmentgroup\":\"True\",\"hovertemplate\":\"Survived=1<br>Embarked=%{x}<br>counts=%{y}<extra></extra>\",\"legendgroup\":\"1\",\"marker\":{\"color\":\"#8FCBD8\",\"pattern\":{\"shape\":\"\"}},\"name\":\"1\",\"offsetgroup\":\"1\",\"orientation\":\"v\",\"showlegend\":true,\"textposition\":\"auto\",\"type\":\"bar\",\"x\":[\"C\",\"Q\",\"S\"],\"xaxis\":\"x\",\"y\":[93,30,217],\"yaxis\":\"y\"}],                        {\"barmode\":\"group\",\"legend\":{\"title\":{\"text\":\"Survived\"},\"tracegroupgap\":0},\"template\":{\"data\":{\"bar\":[{\"error_x\":{\"color\":\"#2a3f5f\"},\"error_y\":{\"color\":\"#2a3f5f\"},\"marker\":{\"line\":{\"color\":\"#E5ECF6\",\"width\":0.5},\"pattern\":{\"fillmode\":\"overlay\",\"size\":10,\"solidity\":0.2}},\"type\":\"bar\"}],\"barpolar\":[{\"marker\":{\"line\":{\"color\":\"#E5ECF6\",\"width\":0.5},\"pattern\":{\"fillmode\":\"overlay\",\"size\":10,\"solidity\":0.2}},\"type\":\"barpolar\"}],\"carpet\":[{\"aaxis\":{\"endlinecolor\":\"#2a3f5f\",\"gridcolor\":\"white\",\"linecolor\":\"white\",\"minorgridcolor\":\"white\",\"startlinecolor\":\"#2a3f5f\"},\"baxis\":{\"endlinecolor\":\"#2a3f5f\",\"gridcolor\":\"white\",\"linecolor\":\"white\",\"minorgridcolor\":\"white\",\"startlinecolor\":\"#2a3f5f\"},\"type\":\"carpet\"}],\"choropleth\":[{\"colorbar\":{\"outlinewidth\":0,\"ticks\":\"\"},\"type\":\"choropleth\"}],\"contour\":[{\"colorbar\":{\"outlinewidth\":0,\"ticks\":\"\"},\"colorscale\":[[0.0,\"#0d0887\"],[0.1111111111111111,\"#46039f\"],[0.2222222222222222,\"#7201a8\"],[0.3333333333333333,\"#9c179e\"],[0.4444444444444444,\"#bd3786\"],[0.5555555555555556,\"#d8576b\"],[0.6666666666666666,\"#ed7953\"],[0.7777777777777778,\"#fb9f3a\"],[0.8888888888888888,\"#fdca26\"],[1.0,\"#f0f921\"]],\"type\":\"contour\"}],\"contourcarpet\":[{\"colorbar\":{\"outlinewidth\":0,\"ticks\":\"\"},\"type\":\"contourcarpet\"}],\"heatmap\":[{\"colorbar\":{\"outlinewidth\":0,\"ticks\":\"\"},\"colorscale\":[[0.0,\"#0d0887\"],[0.1111111111111111,\"#46039f\"],[0.2222222222222222,\"#7201a8\"],[0.3333333333333333,\"#9c179e\"],[0.4444444444444444,\"#bd3786\"],[0.5555555555555556,\"#d8576b\"],[0.6666666666666666,\"#ed7953\"],[0.7777777777777778,\"#fb9f3a\"],[0.8888888888888888,\"#fdca26\"],[1.0,\"#f0f921\"]],\"type\":\"heatmap\"}],\"heatmapgl\":[{\"colorbar\":{\"outlinewidth\":0,\"ticks\":\"\"},\"colorscale\":[[0.0,\"#0d0887\"],[0.1111111111111111,\"#46039f\"],[0.2222222222222222,\"#7201a8\"],[0.3333333333333333,\"#9c179e\"],[0.4444444444444444,\"#bd3786\"],[0.5555555555555556,\"#d8576b\"],[0.6666666666666666,\"#ed7953\"],[0.7777777777777778,\"#fb9f3a\"],[0.8888888888888888,\"#fdca26\"],[1.0,\"#f0f921\"]],\"type\":\"heatmapgl\"}],\"histogram\":[{\"marker\":{\"pattern\":{\"fillmode\":\"overlay\",\"size\":10,\"solidity\":0.2}},\"type\":\"histogram\"}],\"histogram2d\":[{\"colorbar\":{\"outlinewidth\":0,\"ticks\":\"\"},\"colorscale\":[[0.0,\"#0d0887\"],[0.1111111111111111,\"#46039f\"],[0.2222222222222222,\"#7201a8\"],[0.3333333333333333,\"#9c179e\"],[0.4444444444444444,\"#bd3786\"],[0.5555555555555556,\"#d8576b\"],[0.6666666666666666,\"#ed7953\"],[0.7777777777777778,\"#fb9f3a\"],[0.8888888888888888,\"#fdca26\"],[1.0,\"#f0f921\"]],\"type\":\"histogram2d\"}],\"histogram2dcontour\":[{\"colorbar\":{\"outlinewidth\":0,\"ticks\":\"\"},\"colorscale\":[[0.0,\"#0d0887\"],[0.1111111111111111,\"#46039f\"],[0.2222222222222222,\"#7201a8\"],[0.3333333333333333,\"#9c179e\"],[0.4444444444444444,\"#bd3786\"],[0.5555555555555556,\"#d8576b\"],[0.6666666666666666,\"#ed7953\"],[0.7777777777777778,\"#fb9f3a\"],[0.8888888888888888,\"#fdca26\"],[1.0,\"#f0f921\"]],\"type\":\"histogram2dcontour\"}],\"mesh3d\":[{\"colorbar\":{\"outlinewidth\":0,\"ticks\":\"\"},\"type\":\"mesh3d\"}],\"parcoords\":[{\"line\":{\"colorbar\":{\"outlinewidth\":0,\"ticks\":\"\"}},\"type\":\"parcoords\"}],\"pie\":[{\"automargin\":true,\"type\":\"pie\"}],\"scatter\":[{\"marker\":{\"colorbar\":{\"outlinewidth\":0,\"ticks\":\"\"}},\"type\":\"scatter\"}],\"scatter3d\":[{\"line\":{\"colorbar\":{\"outlinewidth\":0,\"ticks\":\"\"}},\"marker\":{\"colorbar\":{\"outlinewidth\":0,\"ticks\":\"\"}},\"type\":\"scatter3d\"}],\"scattercarpet\":[{\"marker\":{\"colorbar\":{\"outlinewidth\":0,\"ticks\":\"\"}},\"type\":\"scattercarpet\"}],\"scattergeo\":[{\"marker\":{\"colorbar\":{\"outlinewidth\":0,\"ticks\":\"\"}},\"type\":\"scattergeo\"}],\"scattergl\":[{\"marker\":{\"colorbar\":{\"outlinewidth\":0,\"ticks\":\"\"}},\"type\":\"scattergl\"}],\"scattermapbox\":[{\"marker\":{\"colorbar\":{\"outlinewidth\":0,\"ticks\":\"\"}},\"type\":\"scattermapbox\"}],\"scatterpolar\":[{\"marker\":{\"colorbar\":{\"outlinewidth\":0,\"ticks\":\"\"}},\"type\":\"scatterpolar\"}],\"scatterpolargl\":[{\"marker\":{\"colorbar\":{\"outlinewidth\":0,\"ticks\":\"\"}},\"type\":\"scatterpolargl\"}],\"scatterternary\":[{\"marker\":{\"colorbar\":{\"outlinewidth\":0,\"ticks\":\"\"}},\"type\":\"scatterternary\"}],\"surface\":[{\"colorbar\":{\"outlinewidth\":0,\"ticks\":\"\"},\"colorscale\":[[0.0,\"#0d0887\"],[0.1111111111111111,\"#46039f\"],[0.2222222222222222,\"#7201a8\"],[0.3333333333333333,\"#9c179e\"],[0.4444444444444444,\"#bd3786\"],[0.5555555555555556,\"#d8576b\"],[0.6666666666666666,\"#ed7953\"],[0.7777777777777778,\"#fb9f3a\"],[0.8888888888888888,\"#fdca26\"],[1.0,\"#f0f921\"]],\"type\":\"surface\"}],\"table\":[{\"cells\":{\"fill\":{\"color\":\"#EBF0F8\"},\"line\":{\"color\":\"white\"}},\"header\":{\"fill\":{\"color\":\"#C8D4E3\"},\"line\":{\"color\":\"white\"}},\"type\":\"table\"}]},\"layout\":{\"annotationdefaults\":{\"arrowcolor\":\"#2a3f5f\",\"arrowhead\":0,\"arrowwidth\":1},\"autotypenumbers\":\"strict\",\"coloraxis\":{\"colorbar\":{\"outlinewidth\":0,\"ticks\":\"\"}},\"colorscale\":{\"diverging\":[[0,\"#8e0152\"],[0.1,\"#c51b7d\"],[0.2,\"#de77ae\"],[0.3,\"#f1b6da\"],[0.4,\"#fde0ef\"],[0.5,\"#f7f7f7\"],[0.6,\"#e6f5d0\"],[0.7,\"#b8e186\"],[0.8,\"#7fbc41\"],[0.9,\"#4d9221\"],[1,\"#276419\"]],\"sequential\":[[0.0,\"#0d0887\"],[0.1111111111111111,\"#46039f\"],[0.2222222222222222,\"#7201a8\"],[0.3333333333333333,\"#9c179e\"],[0.4444444444444444,\"#bd3786\"],[0.5555555555555556,\"#d8576b\"],[0.6666666666666666,\"#ed7953\"],[0.7777777777777778,\"#fb9f3a\"],[0.8888888888888888,\"#fdca26\"],[1.0,\"#f0f921\"]],\"sequentialminus\":[[0.0,\"#0d0887\"],[0.1111111111111111,\"#46039f\"],[0.2222222222222222,\"#7201a8\"],[0.3333333333333333,\"#9c179e\"],[0.4444444444444444,\"#bd3786\"],[0.5555555555555556,\"#d8576b\"],[0.6666666666666666,\"#ed7953\"],[0.7777777777777778,\"#fb9f3a\"],[0.8888888888888888,\"#fdca26\"],[1.0,\"#f0f921\"]]},\"colorway\":[\"#636efa\",\"#EF553B\",\"#00cc96\",\"#ab63fa\",\"#FFA15A\",\"#19d3f3\",\"#FF6692\",\"#B6E880\",\"#FF97FF\",\"#FECB52\"],\"font\":{\"color\":\"#2a3f5f\"},\"geo\":{\"bgcolor\":\"white\",\"lakecolor\":\"white\",\"landcolor\":\"#E5ECF6\",\"showlakes\":true,\"showland\":true,\"subunitcolor\":\"white\"},\"hoverlabel\":{\"align\":\"left\"},\"hovermode\":\"closest\",\"mapbox\":{\"style\":\"light\"},\"paper_bgcolor\":\"white\",\"plot_bgcolor\":\"#E5ECF6\",\"polar\":{\"angularaxis\":{\"gridcolor\":\"white\",\"linecolor\":\"white\",\"ticks\":\"\"},\"bgcolor\":\"#E5ECF6\",\"radialaxis\":{\"gridcolor\":\"white\",\"linecolor\":\"white\",\"ticks\":\"\"}},\"scene\":{\"xaxis\":{\"backgroundcolor\":\"#E5ECF6\",\"gridcolor\":\"white\",\"gridwidth\":2,\"linecolor\":\"white\",\"showbackground\":true,\"ticks\":\"\",\"zerolinecolor\":\"white\"},\"yaxis\":{\"backgroundcolor\":\"#E5ECF6\",\"gridcolor\":\"white\",\"gridwidth\":2,\"linecolor\":\"white\",\"showbackground\":true,\"ticks\":\"\",\"zerolinecolor\":\"white\"},\"zaxis\":{\"backgroundcolor\":\"#E5ECF6\",\"gridcolor\":\"white\",\"gridwidth\":2,\"linecolor\":\"white\",\"showbackground\":true,\"ticks\":\"\",\"zerolinecolor\":\"white\"}},\"shapedefaults\":{\"line\":{\"color\":\"#2a3f5f\"}},\"ternary\":{\"aaxis\":{\"gridcolor\":\"white\",\"linecolor\":\"white\",\"ticks\":\"\"},\"baxis\":{\"gridcolor\":\"white\",\"linecolor\":\"white\",\"ticks\":\"\"},\"bgcolor\":\"#E5ECF6\",\"caxis\":{\"gridcolor\":\"white\",\"linecolor\":\"white\",\"ticks\":\"\"}},\"title\":{\"x\":0.05},\"xaxis\":{\"automargin\":true,\"gridcolor\":\"white\",\"linecolor\":\"white\",\"ticks\":\"\",\"title\":{\"standoff\":15},\"zerolinecolor\":\"white\",\"zerolinewidth\":2},\"yaxis\":{\"automargin\":true,\"gridcolor\":\"white\",\"linecolor\":\"white\",\"ticks\":\"\",\"title\":{\"standoff\":15},\"zerolinecolor\":\"white\",\"zerolinewidth\":2}}},\"title\":{\"text\":\"Survived vs Embarkation\"},\"xaxis\":{\"anchor\":\"y\",\"domain\":[0.0,1.0],\"title\":{\"text\":\"Embarked\"}},\"yaxis\":{\"anchor\":\"x\",\"domain\":[0.0,1.0],\"title\":{\"text\":\"counts\"}}},                        {\"responsive\": true}                    ).then(function(){\n",
       "                            \n",
       "var gd = document.getElementById('9503c853-7492-4366-b064-a46c236962fc');\n",
       "var x = new MutationObserver(function (mutations, observer) {{\n",
       "        var display = window.getComputedStyle(gd).display;\n",
       "        if (!display || display === 'none') {{\n",
       "            console.log([gd, 'removed!']);\n",
       "            Plotly.purge(gd);\n",
       "            observer.disconnect();\n",
       "        }}\n",
       "}});\n",
       "\n",
       "// Listen for the removal of the full notebook cells\n",
       "var notebookContainer = gd.closest('#notebook-container');\n",
       "if (notebookContainer) {{\n",
       "    x.observe(notebookContainer, {childList: true});\n",
       "}}\n",
       "\n",
       "// Listen for the clearing of the current output cell\n",
       "var outputEl = gd.closest('.output');\n",
       "if (outputEl) {{\n",
       "    x.observe(outputEl, {childList: true});\n",
       "}}\n",
       "\n",
       "                        })                };                });            </script>        </div>"
      ]
     },
     "metadata": {},
     "output_type": "display_data"
    }
   ],
   "source": [
    "df = train.groupby(by=[\"Survived\", \"Embarked\"]).size().reset_index(name=\"counts\")\n",
    "px.bar(data_frame=df, x=\"Embarked\", y=\"counts\", color=\"Survived\", barmode=\"group\",\n",
    "       color_discrete_sequence =['#D3DBDD','#8FCBD8'],title=\"Survived vs Embarkation\")"
   ]
  },
  {
   "cell_type": "markdown",
   "id": "da17db83",
   "metadata": {
    "papermill": {
     "duration": 0.125162,
     "end_time": "2022-01-19T04:26:41.796964",
     "exception": false,
     "start_time": "2022-01-19T04:26:41.671802",
     "status": "completed"
    },
    "tags": []
   },
   "source": [
    "<font size=\"4\" color=\"black\"> Although there is a high percentage of survivers in who's port of embarkation is churbog the no of passengers in churbog is low compared to southampton and also this may happen due to the fact that many in churbog are class 1 passengers.</font>"
   ]
  },
  {
   "cell_type": "code",
   "execution_count": 22,
   "id": "f9625b99",
   "metadata": {
    "_kg_hide-input": true,
    "execution": {
     "iopub.execute_input": "2022-01-19T04:26:42.064017Z",
     "iopub.status.busy": "2022-01-19T04:26:42.057131Z",
     "iopub.status.idle": "2022-01-19T04:26:42.133458Z",
     "shell.execute_reply": "2022-01-19T04:26:42.132894Z",
     "shell.execute_reply.started": "2021-12-30T12:31:05.022983Z"
    },
    "papermill": {
     "duration": 0.210344,
     "end_time": "2022-01-19T04:26:42.133597",
     "exception": false,
     "start_time": "2022-01-19T04:26:41.923253",
     "status": "completed"
    },
    "tags": []
   },
   "outputs": [
    {
     "data": {
      "text/html": [
       "<div>                            <div id=\"79144b3b-8912-438c-9cfe-f3e27591cd6b\" class=\"plotly-graph-div\" style=\"height:525px; width:100%;\"></div>            <script type=\"text/javascript\">                require([\"plotly\"], function(Plotly) {                    window.PLOTLYENV=window.PLOTLYENV || {};                                    if (document.getElementById(\"79144b3b-8912-438c-9cfe-f3e27591cd6b\")) {                    Plotly.newPlot(                        \"79144b3b-8912-438c-9cfe-f3e27591cd6b\",                        [{\"alignmentgroup\":\"True\",\"hovertemplate\":\"Pclass=1<br>Embarked=%{x}<br>counts=%{y}<extra></extra>\",\"legendgroup\":\"1\",\"marker\":{\"color\":\"navy\",\"pattern\":{\"shape\":\"\"}},\"name\":\"1\",\"offsetgroup\":\"1\",\"orientation\":\"v\",\"showlegend\":true,\"textposition\":\"auto\",\"type\":\"bar\",\"x\":[\"C\",\"Q\",\"S\"],\"xaxis\":\"x\",\"y\":[85,2,127],\"yaxis\":\"y\"},{\"alignmentgroup\":\"True\",\"hovertemplate\":\"Pclass=2<br>Embarked=%{x}<br>counts=%{y}<extra></extra>\",\"legendgroup\":\"2\",\"marker\":{\"color\":\"#57A7F3\",\"pattern\":{\"shape\":\"\"}},\"name\":\"2\",\"offsetgroup\":\"2\",\"orientation\":\"v\",\"showlegend\":true,\"textposition\":\"auto\",\"type\":\"bar\",\"x\":[\"C\",\"Q\",\"S\"],\"xaxis\":\"x\",\"y\":[17,3,164],\"yaxis\":\"y\"},{\"alignmentgroup\":\"True\",\"hovertemplate\":\"Pclass=3<br>Embarked=%{x}<br>counts=%{y}<extra></extra>\",\"legendgroup\":\"3\",\"marker\":{\"color\":\"#D3DBDD\",\"pattern\":{\"shape\":\"\"}},\"name\":\"3\",\"offsetgroup\":\"3\",\"orientation\":\"v\",\"showlegend\":true,\"textposition\":\"auto\",\"type\":\"bar\",\"x\":[\"C\",\"Q\",\"S\"],\"xaxis\":\"x\",\"y\":[66,72,353],\"yaxis\":\"y\"}],                        {\"barmode\":\"group\",\"legend\":{\"title\":{\"text\":\"Pclass\"},\"tracegroupgap\":0},\"template\":{\"data\":{\"bar\":[{\"error_x\":{\"color\":\"#2a3f5f\"},\"error_y\":{\"color\":\"#2a3f5f\"},\"marker\":{\"line\":{\"color\":\"#E5ECF6\",\"width\":0.5},\"pattern\":{\"fillmode\":\"overlay\",\"size\":10,\"solidity\":0.2}},\"type\":\"bar\"}],\"barpolar\":[{\"marker\":{\"line\":{\"color\":\"#E5ECF6\",\"width\":0.5},\"pattern\":{\"fillmode\":\"overlay\",\"size\":10,\"solidity\":0.2}},\"type\":\"barpolar\"}],\"carpet\":[{\"aaxis\":{\"endlinecolor\":\"#2a3f5f\",\"gridcolor\":\"white\",\"linecolor\":\"white\",\"minorgridcolor\":\"white\",\"startlinecolor\":\"#2a3f5f\"},\"baxis\":{\"endlinecolor\":\"#2a3f5f\",\"gridcolor\":\"white\",\"linecolor\":\"white\",\"minorgridcolor\":\"white\",\"startlinecolor\":\"#2a3f5f\"},\"type\":\"carpet\"}],\"choropleth\":[{\"colorbar\":{\"outlinewidth\":0,\"ticks\":\"\"},\"type\":\"choropleth\"}],\"contour\":[{\"colorbar\":{\"outlinewidth\":0,\"ticks\":\"\"},\"colorscale\":[[0.0,\"#0d0887\"],[0.1111111111111111,\"#46039f\"],[0.2222222222222222,\"#7201a8\"],[0.3333333333333333,\"#9c179e\"],[0.4444444444444444,\"#bd3786\"],[0.5555555555555556,\"#d8576b\"],[0.6666666666666666,\"#ed7953\"],[0.7777777777777778,\"#fb9f3a\"],[0.8888888888888888,\"#fdca26\"],[1.0,\"#f0f921\"]],\"type\":\"contour\"}],\"contourcarpet\":[{\"colorbar\":{\"outlinewidth\":0,\"ticks\":\"\"},\"type\":\"contourcarpet\"}],\"heatmap\":[{\"colorbar\":{\"outlinewidth\":0,\"ticks\":\"\"},\"colorscale\":[[0.0,\"#0d0887\"],[0.1111111111111111,\"#46039f\"],[0.2222222222222222,\"#7201a8\"],[0.3333333333333333,\"#9c179e\"],[0.4444444444444444,\"#bd3786\"],[0.5555555555555556,\"#d8576b\"],[0.6666666666666666,\"#ed7953\"],[0.7777777777777778,\"#fb9f3a\"],[0.8888888888888888,\"#fdca26\"],[1.0,\"#f0f921\"]],\"type\":\"heatmap\"}],\"heatmapgl\":[{\"colorbar\":{\"outlinewidth\":0,\"ticks\":\"\"},\"colorscale\":[[0.0,\"#0d0887\"],[0.1111111111111111,\"#46039f\"],[0.2222222222222222,\"#7201a8\"],[0.3333333333333333,\"#9c179e\"],[0.4444444444444444,\"#bd3786\"],[0.5555555555555556,\"#d8576b\"],[0.6666666666666666,\"#ed7953\"],[0.7777777777777778,\"#fb9f3a\"],[0.8888888888888888,\"#fdca26\"],[1.0,\"#f0f921\"]],\"type\":\"heatmapgl\"}],\"histogram\":[{\"marker\":{\"pattern\":{\"fillmode\":\"overlay\",\"size\":10,\"solidity\":0.2}},\"type\":\"histogram\"}],\"histogram2d\":[{\"colorbar\":{\"outlinewidth\":0,\"ticks\":\"\"},\"colorscale\":[[0.0,\"#0d0887\"],[0.1111111111111111,\"#46039f\"],[0.2222222222222222,\"#7201a8\"],[0.3333333333333333,\"#9c179e\"],[0.4444444444444444,\"#bd3786\"],[0.5555555555555556,\"#d8576b\"],[0.6666666666666666,\"#ed7953\"],[0.7777777777777778,\"#fb9f3a\"],[0.8888888888888888,\"#fdca26\"],[1.0,\"#f0f921\"]],\"type\":\"histogram2d\"}],\"histogram2dcontour\":[{\"colorbar\":{\"outlinewidth\":0,\"ticks\":\"\"},\"colorscale\":[[0.0,\"#0d0887\"],[0.1111111111111111,\"#46039f\"],[0.2222222222222222,\"#7201a8\"],[0.3333333333333333,\"#9c179e\"],[0.4444444444444444,\"#bd3786\"],[0.5555555555555556,\"#d8576b\"],[0.6666666666666666,\"#ed7953\"],[0.7777777777777778,\"#fb9f3a\"],[0.8888888888888888,\"#fdca26\"],[1.0,\"#f0f921\"]],\"type\":\"histogram2dcontour\"}],\"mesh3d\":[{\"colorbar\":{\"outlinewidth\":0,\"ticks\":\"\"},\"type\":\"mesh3d\"}],\"parcoords\":[{\"line\":{\"colorbar\":{\"outlinewidth\":0,\"ticks\":\"\"}},\"type\":\"parcoords\"}],\"pie\":[{\"automargin\":true,\"type\":\"pie\"}],\"scatter\":[{\"marker\":{\"colorbar\":{\"outlinewidth\":0,\"ticks\":\"\"}},\"type\":\"scatter\"}],\"scatter3d\":[{\"line\":{\"colorbar\":{\"outlinewidth\":0,\"ticks\":\"\"}},\"marker\":{\"colorbar\":{\"outlinewidth\":0,\"ticks\":\"\"}},\"type\":\"scatter3d\"}],\"scattercarpet\":[{\"marker\":{\"colorbar\":{\"outlinewidth\":0,\"ticks\":\"\"}},\"type\":\"scattercarpet\"}],\"scattergeo\":[{\"marker\":{\"colorbar\":{\"outlinewidth\":0,\"ticks\":\"\"}},\"type\":\"scattergeo\"}],\"scattergl\":[{\"marker\":{\"colorbar\":{\"outlinewidth\":0,\"ticks\":\"\"}},\"type\":\"scattergl\"}],\"scattermapbox\":[{\"marker\":{\"colorbar\":{\"outlinewidth\":0,\"ticks\":\"\"}},\"type\":\"scattermapbox\"}],\"scatterpolar\":[{\"marker\":{\"colorbar\":{\"outlinewidth\":0,\"ticks\":\"\"}},\"type\":\"scatterpolar\"}],\"scatterpolargl\":[{\"marker\":{\"colorbar\":{\"outlinewidth\":0,\"ticks\":\"\"}},\"type\":\"scatterpolargl\"}],\"scatterternary\":[{\"marker\":{\"colorbar\":{\"outlinewidth\":0,\"ticks\":\"\"}},\"type\":\"scatterternary\"}],\"surface\":[{\"colorbar\":{\"outlinewidth\":0,\"ticks\":\"\"},\"colorscale\":[[0.0,\"#0d0887\"],[0.1111111111111111,\"#46039f\"],[0.2222222222222222,\"#7201a8\"],[0.3333333333333333,\"#9c179e\"],[0.4444444444444444,\"#bd3786\"],[0.5555555555555556,\"#d8576b\"],[0.6666666666666666,\"#ed7953\"],[0.7777777777777778,\"#fb9f3a\"],[0.8888888888888888,\"#fdca26\"],[1.0,\"#f0f921\"]],\"type\":\"surface\"}],\"table\":[{\"cells\":{\"fill\":{\"color\":\"#EBF0F8\"},\"line\":{\"color\":\"white\"}},\"header\":{\"fill\":{\"color\":\"#C8D4E3\"},\"line\":{\"color\":\"white\"}},\"type\":\"table\"}]},\"layout\":{\"annotationdefaults\":{\"arrowcolor\":\"#2a3f5f\",\"arrowhead\":0,\"arrowwidth\":1},\"autotypenumbers\":\"strict\",\"coloraxis\":{\"colorbar\":{\"outlinewidth\":0,\"ticks\":\"\"}},\"colorscale\":{\"diverging\":[[0,\"#8e0152\"],[0.1,\"#c51b7d\"],[0.2,\"#de77ae\"],[0.3,\"#f1b6da\"],[0.4,\"#fde0ef\"],[0.5,\"#f7f7f7\"],[0.6,\"#e6f5d0\"],[0.7,\"#b8e186\"],[0.8,\"#7fbc41\"],[0.9,\"#4d9221\"],[1,\"#276419\"]],\"sequential\":[[0.0,\"#0d0887\"],[0.1111111111111111,\"#46039f\"],[0.2222222222222222,\"#7201a8\"],[0.3333333333333333,\"#9c179e\"],[0.4444444444444444,\"#bd3786\"],[0.5555555555555556,\"#d8576b\"],[0.6666666666666666,\"#ed7953\"],[0.7777777777777778,\"#fb9f3a\"],[0.8888888888888888,\"#fdca26\"],[1.0,\"#f0f921\"]],\"sequentialminus\":[[0.0,\"#0d0887\"],[0.1111111111111111,\"#46039f\"],[0.2222222222222222,\"#7201a8\"],[0.3333333333333333,\"#9c179e\"],[0.4444444444444444,\"#bd3786\"],[0.5555555555555556,\"#d8576b\"],[0.6666666666666666,\"#ed7953\"],[0.7777777777777778,\"#fb9f3a\"],[0.8888888888888888,\"#fdca26\"],[1.0,\"#f0f921\"]]},\"colorway\":[\"#636efa\",\"#EF553B\",\"#00cc96\",\"#ab63fa\",\"#FFA15A\",\"#19d3f3\",\"#FF6692\",\"#B6E880\",\"#FF97FF\",\"#FECB52\"],\"font\":{\"color\":\"#2a3f5f\"},\"geo\":{\"bgcolor\":\"white\",\"lakecolor\":\"white\",\"landcolor\":\"#E5ECF6\",\"showlakes\":true,\"showland\":true,\"subunitcolor\":\"white\"},\"hoverlabel\":{\"align\":\"left\"},\"hovermode\":\"closest\",\"mapbox\":{\"style\":\"light\"},\"paper_bgcolor\":\"white\",\"plot_bgcolor\":\"#E5ECF6\",\"polar\":{\"angularaxis\":{\"gridcolor\":\"white\",\"linecolor\":\"white\",\"ticks\":\"\"},\"bgcolor\":\"#E5ECF6\",\"radialaxis\":{\"gridcolor\":\"white\",\"linecolor\":\"white\",\"ticks\":\"\"}},\"scene\":{\"xaxis\":{\"backgroundcolor\":\"#E5ECF6\",\"gridcolor\":\"white\",\"gridwidth\":2,\"linecolor\":\"white\",\"showbackground\":true,\"ticks\":\"\",\"zerolinecolor\":\"white\"},\"yaxis\":{\"backgroundcolor\":\"#E5ECF6\",\"gridcolor\":\"white\",\"gridwidth\":2,\"linecolor\":\"white\",\"showbackground\":true,\"ticks\":\"\",\"zerolinecolor\":\"white\"},\"zaxis\":{\"backgroundcolor\":\"#E5ECF6\",\"gridcolor\":\"white\",\"gridwidth\":2,\"linecolor\":\"white\",\"showbackground\":true,\"ticks\":\"\",\"zerolinecolor\":\"white\"}},\"shapedefaults\":{\"line\":{\"color\":\"#2a3f5f\"}},\"ternary\":{\"aaxis\":{\"gridcolor\":\"white\",\"linecolor\":\"white\",\"ticks\":\"\"},\"baxis\":{\"gridcolor\":\"white\",\"linecolor\":\"white\",\"ticks\":\"\"},\"bgcolor\":\"#E5ECF6\",\"caxis\":{\"gridcolor\":\"white\",\"linecolor\":\"white\",\"ticks\":\"\"}},\"title\":{\"x\":0.05},\"xaxis\":{\"automargin\":true,\"gridcolor\":\"white\",\"linecolor\":\"white\",\"ticks\":\"\",\"title\":{\"standoff\":15},\"zerolinecolor\":\"white\",\"zerolinewidth\":2},\"yaxis\":{\"automargin\":true,\"gridcolor\":\"white\",\"linecolor\":\"white\",\"ticks\":\"\",\"title\":{\"standoff\":15},\"zerolinecolor\":\"white\",\"zerolinewidth\":2}}},\"title\":{\"text\":\"Ticket class vs Embarkation\"},\"xaxis\":{\"anchor\":\"y\",\"domain\":[0.0,1.0],\"title\":{\"text\":\"Embarked\"}},\"yaxis\":{\"anchor\":\"x\",\"domain\":[0.0,1.0],\"title\":{\"text\":\"counts\"}}},                        {\"responsive\": true}                    ).then(function(){\n",
       "                            \n",
       "var gd = document.getElementById('79144b3b-8912-438c-9cfe-f3e27591cd6b');\n",
       "var x = new MutationObserver(function (mutations, observer) {{\n",
       "        var display = window.getComputedStyle(gd).display;\n",
       "        if (!display || display === 'none') {{\n",
       "            console.log([gd, 'removed!']);\n",
       "            Plotly.purge(gd);\n",
       "            observer.disconnect();\n",
       "        }}\n",
       "}});\n",
       "\n",
       "// Listen for the removal of the full notebook cells\n",
       "var notebookContainer = gd.closest('#notebook-container');\n",
       "if (notebookContainer) {{\n",
       "    x.observe(notebookContainer, {childList: true});\n",
       "}}\n",
       "\n",
       "// Listen for the clearing of the current output cell\n",
       "var outputEl = gd.closest('.output');\n",
       "if (outputEl) {{\n",
       "    x.observe(outputEl, {childList: true});\n",
       "}}\n",
       "\n",
       "                        })                };                });            </script>        </div>"
      ]
     },
     "metadata": {},
     "output_type": "display_data"
    }
   ],
   "source": [
    "df = train.groupby(by=[\"Pclass\", \"Embarked\"]).size().reset_index(name=\"counts\")\n",
    "px.bar(data_frame=df, x=\"Embarked\", y=\"counts\", color=\"Pclass\", barmode=\"group\",color_discrete_sequence =['navy','#57A7F3','#D3DBDD'],\n",
    "      title=\"Ticket class vs Embarkation\")"
   ]
  },
  {
   "cell_type": "markdown",
   "id": "a3bd174b",
   "metadata": {
    "papermill": {
     "duration": 0.143082,
     "end_time": "2022-01-19T04:26:42.407247",
     "exception": false,
     "start_time": "2022-01-19T04:26:42.264165",
     "status": "completed"
    },
    "tags": []
   },
   "source": [
    "<font size=\"4\" color=\"black\"> This shows the above mentioned fact that churbog has higher number of class 1 passengers compared to other classes.</font>"
   ]
  },
  {
   "cell_type": "code",
   "execution_count": 23,
   "id": "f856c7b7",
   "metadata": {
    "_kg_hide-input": false,
    "execution": {
     "iopub.execute_input": "2022-01-19T04:26:42.683297Z",
     "iopub.status.busy": "2022-01-19T04:26:42.682270Z",
     "iopub.status.idle": "2022-01-19T04:26:42.786518Z",
     "shell.execute_reply": "2022-01-19T04:26:42.787020Z",
     "shell.execute_reply.started": "2021-12-30T12:31:05.108275Z"
    },
    "papermill": {
     "duration": 0.242284,
     "end_time": "2022-01-19T04:26:42.787203",
     "exception": false,
     "start_time": "2022-01-19T04:26:42.544919",
     "status": "completed"
    },
    "tags": []
   },
   "outputs": [
    {
     "data": {
      "text/html": [
       "<div>                            <div id=\"6b475463-cafa-48a4-925b-a08aa792ef04\" class=\"plotly-graph-div\" style=\"height:525px; width:100%;\"></div>            <script type=\"text/javascript\">                require([\"plotly\"], function(Plotly) {                    window.PLOTLYENV=window.PLOTLYENV || {};                                    if (document.getElementById(\"6b475463-cafa-48a4-925b-a08aa792ef04\")) {                    Plotly.newPlot(                        \"6b475463-cafa-48a4-925b-a08aa792ef04\",                        [{\"customdata\":[[\"male\"],[\"male\"],[\"male\"],[\"male\"],[\"male\"],[\"male\"],[\"male\"],[\"female\"],[\"male\"],[\"female\"],[\"male\"],[\"female\"],[\"male\"],[\"male\"],[\"male\"],[\"male\"],[\"male\"],[\"male\"],[\"male\"],[\"male\"],[\"female\"],[\"female\"],[\"female\"],[\"male\"],[\"male\"],[\"male\"],[\"male\"],[\"female\"],[\"male\"],[\"male\"],[\"male\"],[\"male\"],[\"male\"],[\"male\"],[\"male\"],[\"male\"],[\"male\"],[\"male\"],[\"male\"],[\"male\"],[\"female\"],[\"male\"],[\"male\"],[\"male\"],[\"male\"],[\"male\"],[\"male\"],[\"male\"],[\"male\"],[\"male\"],[\"male\"],[\"male\"],[\"male\"],[\"male\"],[\"male\"],[\"male\"],[\"male\"],[\"male\"],[\"male\"],[\"female\"],[\"male\"],[\"male\"],[\"male\"],[\"male\"],[\"male\"],[\"male\"],[\"male\"],[\"female\"],[\"male\"],[\"female\"],[\"female\"],[\"male\"],[\"male\"],[\"male\"],[\"male\"],[\"female\"],[\"male\"],[\"male\"],[\"male\"],[\"male\"],[\"male\"],[\"male\"],[\"male\"],[\"male\"],[\"female\"],[\"male\"],[\"male\"],[\"male\"],[\"male\"],[\"male\"],[\"female\"],[\"male\"],[\"male\"],[\"male\"],[\"female\"],[\"male\"],[\"male\"],[\"male\"],[\"male\"],[\"male\"],[\"male\"],[\"male\"],[\"male\"],[\"male\"],[\"male\"],[\"male\"],[\"male\"],[\"male\"],[\"male\"],[\"female\"],[\"male\"],[\"male\"],[\"male\"],[\"male\"],[\"male\"],[\"male\"],[\"male\"],[\"male\"],[\"female\"],[\"male\"],[\"male\"],[\"female\"],[\"male\"],[\"male\"],[\"male\"],[\"male\"],[\"male\"],[\"male\"],[\"male\"],[\"male\"],[\"female\"],[\"male\"],[\"male\"],[\"male\"],[\"male\"],[\"female\"],[\"male\"],[\"male\"],[\"male\"],[\"male\"],[\"male\"],[\"male\"],[\"male\"],[\"male\"],[\"male\"],[\"male\"],[\"male\"],[\"male\"],[\"male\"],[\"female\"],[\"male\"],[\"male\"],[\"male\"],[\"female\"],[\"male\"],[\"male\"],[\"male\"],[\"female\"],[\"male\"],[\"male\"],[\"male\"],[\"male\"],[\"female\"],[\"male\"],[\"male\"],[\"female\"],[\"male\"],[\"male\"],[\"female\"],[\"male\"],[\"male\"],[\"male\"],[\"female\"],[\"male\"],[\"male\"],[\"male\"],[\"male\"],[\"female\"],[\"male\"],[\"male\"],[\"male\"],[\"male\"],[\"male\"],[\"male\"],[\"male\"],[\"male\"],[\"male\"],[\"female\"],[\"male\"],[\"male\"],[\"male\"],[\"female\"],[\"male\"],[\"male\"],[\"male\"],[\"female\"],[\"male\"],[\"male\"],[\"male\"],[\"male\"],[\"male\"],[\"male\"],[\"male\"],[\"male\"],[\"male\"],[\"male\"],[\"male\"],[\"male\"],[\"male\"],[\"male\"],[\"male\"],[\"male\"],[\"male\"],[\"male\"],[\"male\"],[\"male\"],[\"male\"],[\"male\"],[\"male\"],[\"female\"],[\"male\"],[\"male\"],[\"female\"],[\"male\"],[\"male\"],[\"male\"],[\"male\"],[\"male\"],[\"male\"],[\"female\"],[\"male\"],[\"male\"],[\"male\"],[\"male\"],[\"male\"],[\"male\"],[\"male\"],[\"male\"],[\"male\"],[\"male\"],[\"female\"],[\"male\"],[\"male\"],[\"male\"],[\"female\"],[\"male\"],[\"female\"],[\"male\"],[\"male\"],[\"male\"],[\"female\"],[\"male\"],[\"male\"],[\"male\"],[\"female\"],[\"male\"],[\"female\"],[\"male\"],[\"male\"],[\"male\"],[\"female\"],[\"male\"],[\"male\"],[\"male\"],[\"male\"],[\"male\"],[\"female\"],[\"male\"],[\"male\"],[\"male\"],[\"male\"],[\"male\"],[\"male\"],[\"male\"],[\"male\"],[\"male\"],[\"male\"],[\"male\"],[\"male\"],[\"male\"],[\"male\"],[\"male\"],[\"male\"],[\"male\"],[\"male\"],[\"male\"],[\"male\"],[\"female\"],[\"male\"],[\"male\"],[\"male\"],[\"male\"],[\"male\"],[\"male\"],[\"male\"],[\"female\"],[\"male\"],[\"male\"],[\"male\"],[\"male\"],[\"male\"],[\"male\"],[\"male\"],[\"male\"],[\"male\"],[\"female\"],[\"male\"],[\"male\"],[\"female\"],[\"female\"],[\"female\"],[\"male\"],[\"male\"],[\"male\"],[\"male\"],[\"male\"],[\"male\"],[\"male\"],[\"male\"],[\"male\"],[\"male\"],[\"male\"],[\"male\"],[\"male\"],[\"male\"],[\"male\"],[\"male\"],[\"female\"],[\"male\"],[\"male\"],[\"female\"],[\"female\"],[\"male\"],[\"male\"],[\"male\"],[\"male\"],[\"male\"],[\"male\"],[\"male\"],[\"male\"],[\"male\"],[\"male\"],[\"male\"],[\"female\"],[\"male\"],[\"male\"],[\"female\"],[\"male\"],[\"male\"],[\"male\"],[\"female\"],[\"male\"],[\"male\"],[\"male\"],[\"male\"],[\"male\"],[\"male\"],[\"male\"],[\"male\"],[\"female\"],[\"male\"],[\"male\"],[\"male\"],[\"male\"],[\"male\"],[\"male\"],[\"male\"],[\"male\"],[\"male\"],[\"female\"],[\"male\"],[\"male\"],[\"male\"],[\"male\"],[\"female\"],[\"male\"],[\"male\"],[\"male\"],[\"male\"],[\"male\"],[\"male\"],[\"male\"],[\"male\"],[\"male\"],[\"male\"],[\"female\"],[\"male\"],[\"male\"],[\"female\"],[\"male\"],[\"male\"],[\"female\"],[\"male\"],[\"male\"],[\"male\"],[\"male\"],[\"female\"],[\"male\"],[\"male\"],[\"female\"],[\"male\"],[\"male\"],[\"male\"],[\"male\"],[\"male\"],[\"male\"],[\"male\"],[\"male\"],[\"male\"],[\"male\"],[\"male\"],[\"male\"],[\"male\"],[\"male\"],[\"female\"],[\"female\"],[\"male\"],[\"male\"],[\"male\"],[\"male\"],[\"male\"],[\"male\"],[\"male\"],[\"male\"],[\"male\"],[\"male\"],[\"male\"],[\"male\"],[\"male\"],[\"female\"],[\"male\"],[\"male\"],[\"male\"],[\"male\"],[\"male\"],[\"male\"],[\"male\"],[\"male\"],[\"male\"],[\"male\"],[\"male\"],[\"male\"],[\"male\"],[\"male\"],[\"female\"],[\"male\"],[\"male\"],[\"male\"],[\"male\"],[\"male\"],[\"female\"],[\"male\"],[\"male\"],[\"male\"],[\"male\"],[\"male\"],[\"male\"],[\"male\"],[\"male\"],[\"male\"],[\"male\"],[\"male\"],[\"male\"],[\"male\"],[\"male\"],[\"male\"],[\"male\"],[\"male\"],[\"female\"],[\"male\"],[\"male\"],[\"male\"],[\"male\"],[\"female\"],[\"male\"],[\"male\"],[\"male\"],[\"male\"],[\"male\"],[\"male\"],[\"male\"],[\"male\"],[\"male\"],[\"male\"],[\"male\"],[\"male\"],[\"female\"],[\"male\"],[\"male\"],[\"male\"],[\"male\"],[\"female\"],[\"male\"],[\"male\"],[\"male\"],[\"female\"],[\"male\"],[\"male\"],[\"male\"],[\"male\"],[\"female\"],[\"male\"],[\"male\"],[\"female\"],[\"male\"],[\"male\"],[\"male\"],[\"male\"],[\"male\"],[\"male\"],[\"male\"],[\"male\"],[\"male\"],[\"male\"],[\"male\"],[\"male\"],[\"male\"],[\"male\"],[\"male\"],[\"male\"],[\"male\"],[\"male\"],[\"male\"],[\"male\"],[\"male\"],[\"male\"],[\"female\"],[\"female\"],[\"male\"],[\"male\"],[\"male\"],[\"female\"],[\"male\"],[\"male\"],[\"male\"],[\"male\"],[\"male\"],[\"male\"],[\"male\"],[\"male\"],[\"male\"],[\"male\"],[\"female\"],[\"male\"],[\"male\"],[\"female\"],[\"male\"],[\"female\"],[\"male\"]],\"hovertemplate\":\"Survived=0<br>Fare=%{x}<br>Age=%{y}<br>Parch=%{marker.size}<br>Sex=%{customdata[0]}<extra></extra>\",\"legendgroup\":\"0\",\"marker\":{\"color\":\"navy\",\"size\":[0,0,0,0,1,0,5,0,1,0,0,1,0,2,0,0,0,0,0,0,0,0,0,0,0,0,0,0,1,0,1,0,2,0,0,2,0,0,0,0,2,0,0,0,0,0,0,0,3,0,0,0,0,0,2,0,0,0,0,0,0,1,0,0,0,0,0,0,0,0,0,0,0,0,1,2,0,0,0,1,0,0,0,0,0,0,0,0,0,0,2,0,0,1,2,2,0,0,0,2,0,1,0,0,2,1,0,0,1,4,0,0,0,1,0,0,1,1,0,0,0,2,0,2,0,1,0,0,0,1,0,0,2,0,0,1,0,0,0,0,0,0,0,0,0,0,0,0,0,1,0,0,0,0,0,0,0,0,0,0,0,0,0,0,0,1,0,0,2,0,1,0,0,0,1,0,1,0,0,1,0,0,0,0,0,0,0,0,0,0,0,2,0,0,0,1,0,1,0,0,0,2,0,0,1,0,0,0,0,0,0,0,0,0,0,1,0,0,0,0,4,0,1,0,0,0,0,0,0,1,2,0,0,0,0,0,2,0,0,0,0,0,0,0,0,0,0,0,0,0,1,0,0,0,0,0,2,0,0,0,1,1,0,0,0,0,2,4,0,0,0,2,0,0,0,0,0,0,0,0,0,0,0,0,0,0,0,0,0,0,0,0,2,0,0,1,0,0,0,0,0,0,0,0,0,2,0,0,0,0,0,0,0,0,0,0,0,0,0,0,0,0,0,0,1,0,1,0,0,0,2,2,0,0,1,0,0,0,0,0,0,0,0,0,0,0,4,0,0,0,0,0,0,0,0,0,0,0,0,2,0,1,0,0,0,0,0,0,0,5,0,0,0,1,0,0,0,0,0,0,0,0,0,0,0,2,0,1,5,0,0,2,0,0,0,0,0,0,0,1,0,2,0,0,0,0,0,0,0,0,0,0,0,0,6,0,0,2,1,2,1,0,0,0,0,0,0,1,0,1,0,0,0,0,0,0,0,0,0,0,0,0,0,0,0,0,0,0,0,0,3,0,0,0,0,1,1,0,0,0,0,0,0,0,0,0,0,0,0,0,0,0,0,0,0,0,0,0,0,2,0,0,1,0,0,0,2,0,0,0,0,1,0,0,0,0,0,0,0,0,2,0,0,0,1,0,2,0,1,0,0,0,0,0,0,0,0,0,0,0,0,2,0,1,2,0,1,0,0,0,0,2,0,0,0,0,0,0,0,0,0,0,0,0,0,5,0,2,0],\"sizemode\":\"area\",\"sizeref\":0.015,\"symbol\":\"circle\"},\"mode\":\"markers\",\"name\":\"0\",\"orientation\":\"v\",\"showlegend\":true,\"type\":\"scatter\",\"x\":[7.25,8.05,8.4583,51.8625,21.075,8.05,31.275,7.8542,29.125,18.0,26.0,21.075,7.225,263.0,7.8958,27.7208,10.5,82.1708,52.0,8.05,18.0,9.475,21.0,7.8958,8.05,15.5,21.6792,17.8,39.6875,7.8,61.9792,7.2292,46.9,7.2292,83.475,27.9,27.7208,8.1583,8.6625,10.5,46.9,73.5,14.4542,7.65,7.8958,8.05,9.0,47.1,34.375,8.05,8.05,8.05,7.8542,61.175,20.575,7.25,8.05,34.6542,26.0,7.8958,7.8958,77.2875,8.6542,7.925,7.8958,7.8958,52.0,14.4542,8.05,9.825,14.4583,7.925,7.75,21.0,247.5208,31.275,73.5,8.05,30.0708,77.2875,7.75,6.975,7.8958,7.05,14.5,13.0,15.0458,53.1,9.2167,79.2,15.2458,6.75,11.5,36.75,34.375,26.0,13.0,12.525,8.05,14.5,7.3125,61.3792,8.05,8.6625,69.55,16.1,7.775,8.6625,39.6875,27.9,25.925,56.4958,33.5,29.125,7.925,30.6958,7.8542,25.4667,28.7125,13.0,0.0,69.55,15.05,31.3875,50.0,15.5,7.8958,13.0,7.75,8.4042,13.0,9.5,69.55,6.4958,7.225,10.4625,15.85,7.05,7.25,13.0,7.75,27.0,10.5,13.0,8.05,7.8958,9.35,7.25,13.0,25.4667,7.775,13.5,10.5,7.55,26.0,10.5,12.275,14.4542,10.5,7.125,7.225,90.0,7.775,26.0,7.25,10.4625,26.55,16.1,20.2125,7.75,79.65,0.0,7.75,10.5,39.6875,31.0,29.7,7.75,0.0,29.125,7.75,7.8542,9.5,26.0,8.6625,7.8958,12.875,8.85,7.8958,27.7208,7.2292,151.55,0.0,8.05,24.0,26.0,7.8958,26.25,14.0,7.25,7.8958,69.55,6.2375,28.5,153.4625,18.0,7.8958,66.6,35.5,13.0,13.0,13.0,8.6625,9.225,35.0,7.2292,17.8,7.225,9.5,13.0,27.9,27.7208,14.4542,7.05,15.5,7.25,6.4958,8.05,135.6333,21.075,211.5,4.0125,7.775,7.925,7.8958,73.5,46.9,7.7292,7.925,7.7958,7.8542,26.0,10.5,8.05,9.825,15.85,8.6625,21.0,7.75,7.775,25.4667,7.8958,6.8583,0.0,8.05,13.0,24.15,7.8958,7.7333,7.875,14.4,20.2125,7.25,7.75,7.125,55.9,34.375,263.0,10.5,9.5,7.775,27.75,19.9667,27.75,8.05,26.55,7.75,8.05,38.5,13.0,8.05,7.05,0.0,26.55,7.725,7.25,8.6625,9.8375,52.0,21.0,7.0458,7.5208,46.9,0.0,8.05,25.4667,29.7,8.05,19.9667,7.25,30.5,49.5042,8.05,14.4583,15.1,151.55,7.7958,8.6625,7.75,7.6292,9.5875,108.9,22.525,8.05,7.4958,34.0208,24.15,7.8958,7.8958,7.225,7.2292,7.75,221.7792,7.925,11.5,7.2292,7.2292,8.6625,26.55,14.5,31.275,31.275,106.425,26.0,20.525,26.0,7.8292,26.55,227.525,7.75,7.8958,13.5,8.05,8.05,24.15,7.8958,21.075,7.2292,8.05,14.5,14.4583,26.0,40.125,8.7125,15.0,8.05,8.05,7.125,7.25,7.75,26.0,24.15,0.0,7.225,7.8958,42.4,8.05,15.55,7.8958,31.275,7.05,7.75,8.05,14.4,16.1,10.5,14.4542,7.8542,16.1,32.3208,12.35,7.8958,7.7333,7.0542,0.0,27.9,7.925,26.25,39.6875,16.1,7.8542,27.9,7.8958,7.55,7.8958,8.4333,6.75,73.5,7.8958,15.5,13.0,113.275,7.225,25.5875,7.4958,73.5,13.0,7.775,8.05,52.0,10.5,0.0,7.775,8.05,46.9,8.1375,9.225,46.9,39.0,41.5792,39.6875,10.1708,7.7958,7.225,26.55,13.5,8.05,110.8833,7.65,14.4542,7.7417,7.8542,26.0,26.55,9.4833,13.0,7.65,15.5,7.775,7.0542,13.0,13.0,8.6625,26.0,7.925,18.7875,0.0,13.0,13.0,16.1,34.375,7.8958,7.8958,78.85,16.1,71.0,20.25,53.1,7.75,9.5,7.8958,7.7958,11.5,8.05,14.5,7.125,7.775,39.6,7.75,24.15,8.3625,9.5,7.8542,10.5,7.225,7.75,7.75,7.7375,30.0,23.45,7.05,7.25,29.125,79.2,7.75,26.0,69.55,30.6958,7.8958,13.0,7.2292,24.15,13.0,7.775,0.0,7.775,13.0,7.8875,24.15,10.5,31.275,8.05,0.0,7.925,37.0042,6.45,27.9,0.0,39.6875,6.95,56.4958,7.2292,7.8542,8.3,8.6625,8.05,7.925,10.5,6.4375,8.6625,7.55,69.55,7.8958,33.0,31.275,7.775,15.2458,26.0,7.2292,14.1083,11.5,69.55,13.0,50.4958,9.5,7.8958,5.0,9.0,9.8458,7.8958,7.8958,7.8958,10.5167,10.5,7.05,29.125,13.0,23.45,7.75],\"xaxis\":\"x\",\"y\":[22.0,35.0,null,54.0,2.0,20.0,39.0,14.0,2.0,31.0,35.0,8.0,null,19.0,null,40.0,66.0,28.0,42.0,21.0,18.0,40.0,27.0,null,null,null,null,18.0,7.0,21.0,65.0,28.5,11.0,22.0,45.0,4.0,null,19.0,26.0,32.0,16.0,21.0,26.0,25.0,null,null,22.0,28.0,16.0,null,24.0,29.0,20.0,46.0,26.0,59.0,null,71.0,34.0,28.0,null,21.0,33.0,37.0,28.0,38.0,47.0,14.5,22.0,20.0,17.0,21.0,70.5,29.0,24.0,2.0,21.0,null,32.5,54.0,null,45.0,33.0,20.0,47.0,25.0,23.0,37.0,16.0,24.0,null,19.0,18.0,19.0,9.0,36.5,42.0,51.0,55.5,40.5,null,51.0,30.0,null,null,44.0,26.0,17.0,1.0,45.0,null,28.0,61.0,4.0,21.0,56.0,18.0,null,50.0,30.0,36.0,null,null,9.0,null,40.0,36.0,19.0,null,42.0,24.0,28.0,null,34.0,45.5,2.0,32.0,24.0,22.0,30.0,null,42.0,30.0,27.0,51.0,null,22.0,20.5,18.0,null,29.0,59.0,24.0,null,44.0,19.0,33.0,null,29.0,22.0,30.0,44.0,25.0,54.0,null,29.0,62.0,30.0,41.0,null,52.0,40.0,null,36.0,16.0,null,37.0,45.0,null,7.0,65.0,28.0,16.0,null,33.0,22.0,36.0,24.0,24.0,null,23.5,2.0,19.0,null,30.0,26.0,28.0,43.0,54.0,22.0,27.0,null,61.0,45.5,38.0,16.0,null,29.0,45.0,28.0,25.0,36.0,42.0,23.0,null,15.0,25.0,null,28.0,38.0,40.0,29.0,45.0,35.0,null,30.0,18.0,19.0,22.0,3.0,27.0,20.0,19.0,32.0,null,18.0,1.0,null,28.0,22.0,31.0,46.0,23.0,26.0,21.0,28.0,20.0,34.0,51.0,21.0,null,null,null,null,null,30.0,10.0,null,21.0,29.0,28.0,18.0,null,null,17.0,50.0,21.0,64.0,31.0,20.0,25.0,36.0,null,30.0,null,65.0,null,34.0,47.0,48.0,null,38.0,null,56.0,null,null,38.0,22.0,null,34.0,29.0,22.0,9.0,null,50.0,null,58.0,30.0,null,21.0,55.0,71.0,21.0,null,null,25.0,24.0,17.0,21.0,null,37.0,18.0,28.0,null,24.0,47.0,null,32.0,22.0,null,null,40.5,null,39.0,23.0,null,17.0,30.0,45.0,null,9.0,11.0,50.0,64.0,33.0,27.0,null,62.0,null,null,40.0,28.0,null,null,24.0,19.0,29.0,null,16.0,19.0,null,54.0,36.0,null,47.0,22.0,null,35.0,47.0,null,37.0,36.0,49.0,null,null,null,44.0,36.0,30.0,39.0,null,null,35.0,34.0,26.0,26.0,27.0,21.0,21.0,61.0,57.0,26.0,null,51.0,null,9.0,32.0,31.0,41.0,null,20.0,2.0,19.0,null,null,21.0,18.0,24.0,null,32.0,23.0,58.0,40.0,47.0,36.0,32.0,25.0,null,43.0,31.0,70.0,null,18.0,24.5,43.0,null,20.0,14.0,60.0,25.0,14.0,19.0,18.0,25.0,60.0,52.0,44.0,49.0,42.0,18.0,25.0,26.0,39.0,null,29.0,52.0,19.0,null,33.0,17.0,34.0,50.0,20.0,25.0,25.0,11.0,null,23.0,23.0,28.5,48.0,null,null,36.0,24.0,70.0,16.0,19.0,31.0,33.0,23.0,28.0,18.0,34.0,null,41.0,16.0,null,30.5,null,32.0,24.0,48.0,57.0,null,18.0,null,null,29.0,null,25.0,25.0,8.0,46.0,null,16.0,null,null,25.0,39.0,30.0,30.0,34.0,31.0,39.0,18.0,39.0,26.0,39.0,35.0,6.0,30.5,null,23.0,31.0,43.0,10.0,38.0,2.0,null,null,null,23.0,18.0,21.0,null,20.0,16.0,34.5,17.0,42.0,null,35.0,28.0,4.0,74.0,9.0,44.0,null,41.0,21.0,null,24.0,31.0,null,26.0,33.0,47.0,20.0,19.0,null,33.0,22.0,28.0,25.0,39.0,27.0,null,32.0],\"yaxis\":\"y\"},{\"customdata\":[[\"female\"],[\"female\"],[\"female\"],[\"female\"],[\"female\"],[\"female\"],[\"female\"],[\"female\"],[\"male\"],[\"female\"],[\"male\"],[\"female\"],[\"male\"],[\"female\"],[\"female\"],[\"female\"],[\"female\"],[\"male\"],[\"female\"],[\"female\"],[\"female\"],[\"female\"],[\"female\"],[\"female\"],[\"male\"],[\"female\"],[\"female\"],[\"female\"],[\"male\"],[\"female\"],[\"female\"],[\"male\"],[\"male\"],[\"female\"],[\"male\"],[\"female\"],[\"female\"],[\"female\"],[\"female\"],[\"male\"],[\"female\"],[\"female\"],[\"male\"],[\"female\"],[\"female\"],[\"male\"],[\"male\"],[\"female\"],[\"female\"],[\"female\"],[\"female\"],[\"female\"],[\"male\"],[\"female\"],[\"female\"],[\"female\"],[\"male\"],[\"female\"],[\"female\"],[\"male\"],[\"female\"],[\"female\"],[\"male\"],[\"female\"],[\"female\"],[\"male\"],[\"female\"],[\"female\"],[\"female\"],[\"male\"],[\"male\"],[\"female\"],[\"male\"],[\"female\"],[\"female\"],[\"female\"],[\"female\"],[\"male\"],[\"male\"],[\"male\"],[\"female\"],[\"female\"],[\"female\"],[\"female\"],[\"female\"],[\"male\"],[\"female\"],[\"female\"],[\"female\"],[\"female\"],[\"female\"],[\"male\"],[\"male\"],[\"female\"],[\"female\"],[\"male\"],[\"female\"],[\"female\"],[\"female\"],[\"female\"],[\"male\"],[\"male\"],[\"male\"],[\"female\"],[\"female\"],[\"female\"],[\"male\"],[\"female\"],[\"female\"],[\"male\"],[\"female\"],[\"male\"],[\"female\"],[\"female\"],[\"female\"],[\"female\"],[\"female\"],[\"female\"],[\"female\"],[\"female\"],[\"female\"],[\"female\"],[\"female\"],[\"female\"],[\"female\"],[\"female\"],[\"female\"],[\"female\"],[\"female\"],[\"female\"],[\"male\"],[\"male\"],[\"female\"],[\"female\"],[\"female\"],[\"female\"],[\"male\"],[\"female\"],[\"female\"],[\"female\"],[\"female\"],[\"female\"],[\"female\"],[\"female\"],[\"male\"],[\"female\"],[\"female\"],[\"female\"],[\"female\"],[\"female\"],[\"female\"],[\"female\"],[\"male\"],[\"male\"],[\"female\"],[\"female\"],[\"female\"],[\"male\"],[\"male\"],[\"female\"],[\"male\"],[\"female\"],[\"female\"],[\"female\"],[\"female\"],[\"male\"],[\"male\"],[\"female\"],[\"female\"],[\"female\"],[\"female\"],[\"female\"],[\"female\"],[\"male\"],[\"male\"],[\"female\"],[\"male\"],[\"female\"],[\"male\"],[\"male\"],[\"male\"],[\"female\"],[\"female\"],[\"male\"],[\"female\"],[\"female\"],[\"female\"],[\"female\"],[\"female\"],[\"male\"],[\"female\"],[\"male\"],[\"female\"],[\"female\"],[\"female\"],[\"male\"],[\"male\"],[\"male\"],[\"male\"],[\"female\"],[\"female\"],[\"female\"],[\"female\"],[\"female\"],[\"female\"],[\"female\"],[\"female\"],[\"female\"],[\"female\"],[\"female\"],[\"female\"],[\"male\"],[\"female\"],[\"male\"],[\"male\"],[\"male\"],[\"male\"],[\"female\"],[\"female\"],[\"female\"],[\"female\"],[\"male\"],[\"male\"],[\"female\"],[\"male\"],[\"female\"],[\"female\"],[\"female\"],[\"male\"],[\"female\"],[\"female\"],[\"female\"],[\"male\"],[\"female\"],[\"female\"],[\"male\"],[\"female\"],[\"male\"],[\"male\"],[\"female\"],[\"female\"],[\"female\"],[\"female\"],[\"female\"],[\"male\"],[\"male\"],[\"female\"],[\"male\"],[\"male\"],[\"female\"],[\"female\"],[\"male\"],[\"female\"],[\"male\"],[\"male\"],[\"female\"],[\"female\"],[\"female\"],[\"male\"],[\"male\"],[\"female\"],[\"female\"],[\"male\"],[\"female\"],[\"male\"],[\"male\"],[\"female\"],[\"male\"],[\"female\"],[\"male\"],[\"female\"],[\"female\"],[\"male\"],[\"female\"],[\"male\"],[\"female\"],[\"male\"],[\"female\"],[\"male\"],[\"female\"],[\"female\"],[\"female\"],[\"male\"],[\"female\"],[\"female\"],[\"female\"],[\"male\"],[\"male\"],[\"female\"],[\"male\"],[\"female\"],[\"female\"],[\"male\"],[\"female\"],[\"male\"],[\"female\"],[\"male\"],[\"female\"],[\"female\"],[\"female\"],[\"female\"],[\"female\"],[\"female\"],[\"female\"],[\"female\"],[\"male\"],[\"female\"],[\"female\"],[\"female\"],[\"male\"],[\"male\"],[\"male\"],[\"female\"],[\"female\"],[\"male\"],[\"female\"],[\"male\"],[\"male\"],[\"female\"],[\"female\"],[\"male\"],[\"female\"],[\"male\"],[\"male\"],[\"female\"],[\"female\"],[\"female\"],[\"female\"],[\"female\"],[\"male\"],[\"female\"],[\"female\"],[\"female\"],[\"female\"],[\"male\"],[\"female\"],[\"female\"],[\"female\"],[\"female\"],[\"female\"],[\"female\"],[\"male\"]],\"hovertemplate\":\"Survived=1<br>Fare=%{x}<br>Age=%{y}<br>Parch=%{marker.size}<br>Sex=%{customdata[0]}<extra></extra>\",\"legendgroup\":\"1\",\"marker\":{\"color\":\"#57A7F3\",\"size\":[0,0,0,2,0,1,0,0,0,0,0,0,0,5,0,0,0,0,0,2,0,0,0,0,0,0,2,0,1,0,2,0,2,0,0,0,0,0,2,1,1,0,0,0,0,0,0,1,0,2,0,0,0,0,0,0,2,1,1,1,2,0,0,0,0,1,0,0,0,0,0,0,0,0,0,0,0,0,0,0,0,2,2,0,2,1,2,0,0,0,1,2,0,1,0,0,1,0,0,1,0,0,0,0,0,0,0,1,0,0,0,2,0,0,0,0,2,0,0,2,1,0,1,0,0,1,1,0,0,0,0,1,2,0,0,0,1,1,0,0,0,0,0,0,0,0,0,0,2,0,0,0,2,0,0,2,0,0,1,0,0,1,2,0,0,0,0,0,0,2,3,1,0,0,2,1,0,1,0,0,0,0,0,0,1,2,0,1,0,0,0,1,0,0,2,0,0,0,0,0,0,0,0,1,0,1,2,2,0,2,2,0,0,0,1,2,0,0,0,1,0,0,0,0,0,0,0,0,0,1,1,2,1,0,0,0,1,0,0,2,0,0,2,1,0,1,0,0,0,0,0,0,1,0,0,0,1,0,0,0,0,1,0,0,1,0,1,0,1,0,0,0,0,0,0,0,1,0,0,0,0,1,0,0,0,0,0,0,2,0,0,1,1,2,1,0,0,2,0,3,0,1,0,0,0,2,0,0,1,2,1,0,0,1,0,1,2,0,0,0,1,1,0,0,0,0,1,1,1,0,3,0,0,0,1,1,0,0,1,1,0,0],\"sizemode\":\"area\",\"sizeref\":0.015,\"symbol\":\"circle\"},\"mode\":\"markers\",\"name\":\"1\",\"orientation\":\"v\",\"showlegend\":true,\"type\":\"scatter\",\"x\":[71.2833,7.925,53.1,11.1333,30.0708,16.7,26.55,16.0,13.0,7.225,13.0,8.0292,35.5,31.3875,7.8792,146.5208,7.75,7.2292,11.2417,41.5792,7.8792,7.75,76.7292,26.0,35.5,10.5,27.75,80.0,15.2458,10.5,7.925,56.4958,29.0,12.475,9.5,7.7875,10.5,15.85,263.0,63.3583,23.0,7.65,7.775,24.15,13.0,11.2417,7.1417,22.3583,26.0,26.2833,7.75,15.85,7.7958,66.6,7.7333,15.75,20.525,55.0,11.1333,39.0,22.025,15.5,26.55,13.0,7.8542,26.0,27.7208,146.5208,7.75,8.05,18.7875,7.75,31.0,21.0,113.275,7.925,76.2917,8.05,90.0,10.5,83.475,31.3875,26.25,15.5,14.5,52.5542,15.2458,79.2,86.5,512.3292,26.0,31.3875,7.775,153.4625,135.6333,0.0,19.5,7.75,77.9583,20.25,8.05,9.5,13.0,7.75,78.85,91.0792,30.5,247.5208,7.75,23.25,12.35,151.55,110.8833,108.9,56.9292,83.1583,262.375,7.8542,26.0,164.8667,134.5,12.35,29.0,135.6333,13.0,20.525,57.9792,23.25,133.65,134.5,8.05,26.0,263.0,13.0,13.0,16.1,15.9,55.0,7.8792,7.8792,75.25,7.2292,7.75,69.3,55.4417,82.1708,7.25,227.525,15.7417,52.0,13.0,12.0,120.0,7.7958,113.275,16.7,12.65,7.925,18.75,90.0,7.925,32.5,13.0,26.0,26.0,8.05,26.55,16.1,26.0,120.0,18.75,26.25,13.0,8.1125,81.8583,19.5,26.55,19.2583,30.5,89.1042,7.8958,51.8625,10.5,26.55,19.2583,27.75,13.7917,12.2875,9.5875,91.0792,90.0,15.9,78.2667,86.5,26.0,26.55,56.4958,7.75,26.2875,59.4,10.5,26.0,93.5,57.9792,10.5,26.0,22.3583,26.25,106.425,49.5,71.0,26.0,26.0,13.8625,36.75,110.8833,7.225,7.775,39.6,79.65,17.4,7.8542,10.5,51.4792,26.3875,7.75,13.0,55.9,7.925,30.0,110.8833,79.65,79.2,78.2667,33.0,56.9292,27.0,26.55,30.5,41.5792,153.4625,15.5,65.0,39.0,52.5542,15.7417,77.9583,30.0,30.5,13.0,69.3,56.4958,19.2583,76.7292,35.5,7.55,23.0,7.8292,133.65,7.925,52.0,39.0,13.0,9.8417,512.3292,76.7292,211.3375,57.0,13.4167,56.4958,7.7333,227.525,26.2875,13.5,26.2875,151.55,15.2458,49.5042,52.0,227.525,10.5,33.0,53.1,21.0,7.7375,211.3375,512.3292,30.0,262.375,7.925,13.0,23.0,12.475,65.0,14.5,86.5,7.2292,120.0,77.9583,23.0,12.475,211.3375,7.2292,57.0,7.4958,20.575,25.9292,8.6833,26.25,120.0,8.5167,6.975,53.1,93.5,8.6625,12.475,37.0042,7.75,80.0,14.4542,18.75,83.1583,56.4958,29.7,31.0,89.1042,39.4,9.35,164.8667,26.55,19.2583,25.9292,13.0,13.8583,11.1333,52.5542,24.0,7.225,83.1583,26.0,30.0,30.0],\"xaxis\":\"x\",\"y\":[38.0,26.0,35.0,27.0,14.0,4.0,58.0,55.0,null,null,34.0,15.0,28.0,38.0,null,null,null,null,14.0,3.0,19.0,null,49.0,29.0,null,21.0,5.0,38.0,null,29.0,17.0,32.0,0.83,30.0,29.0,null,17.0,33.0,23.0,23.0,34.0,21.0,null,null,32.5,12.0,24.0,null,29.0,19.0,22.0,24.0,27.0,22.0,16.0,40.0,9.0,null,1.0,1.0,4.0,null,45.0,32.0,19.0,3.0,44.0,58.0,null,18.0,26.0,16.0,40.0,35.0,31.0,27.0,32.0,16.0,38.0,19.0,35.0,5.0,8.0,null,24.0,37.0,29.0,null,30.0,35.0,50.0,3.0,25.0,58.0,35.0,25.0,41.0,null,63.0,35.0,19.0,30.0,42.0,22.0,26.0,19.0,null,50.0,null,null,null,0.92,null,17.0,30.0,24.0,18.0,26.0,24.0,31.0,40.0,30.0,22.0,36.0,36.0,31.0,16.0,null,null,41.0,45.0,2.0,24.0,24.0,40.0,null,3.0,22.0,null,null,60.0,null,null,24.0,25.0,null,22.0,42.0,1.0,35.0,36.0,17.0,36.0,21.0,23.0,24.0,28.0,39.0,3.0,33.0,44.0,34.0,18.0,28.0,19.0,32.0,28.0,null,42.0,14.0,24.0,45.0,28.0,null,4.0,13.0,34.0,5.0,52.0,49.0,29.0,null,50.0,48.0,0.75,33.0,23.0,2.0,63.0,25.0,35.0,9.0,54.0,16.0,33.0,null,26.0,29.0,36.0,54.0,34.0,36.0,30.0,44.0,50.0,2.0,null,7.0,30.0,22.0,36.0,32.0,19.0,null,8.0,17.0,22.0,22.0,48.0,39.0,36.0,32.0,62.0,53.0,36.0,null,34.0,39.0,32.0,25.0,39.0,18.0,60.0,52.0,null,49.0,24.0,35.0,27.0,22.0,40.0,null,24.0,4.0,42.0,20.0,21.0,80.0,32.0,28.0,24.0,null,0.75,48.0,56.0,23.0,18.0,null,50.0,20.0,null,40.0,31.0,18.0,36.0,27.0,15.0,31.0,4.0,null,null,18.0,35.0,45.0,42.0,22.0,null,24.0,48.0,38.0,27.0,6.0,27.0,30.0,null,29.0,35.0,null,21.0,31.0,30.0,4.0,6.0,48.0,0.67,33.0,20.0,36.0,51.0,54.0,5.0,43.0,13.0,17.0,18.0,1.0,49.0,31.0,31.0,11.0,0.42,27.0,33.0,52.0,27.0,27.0,1.0,null,62.0,15.0,0.83,39.0,32.0,null,30.0,null,16.0,18.0,45.0,51.0,24.0,48.0,42.0,27.0,4.0,47.0,28.0,15.0,56.0,25.0,19.0,26.0],\"yaxis\":\"y\"}],                        {\"legend\":{\"itemsizing\":\"constant\",\"title\":{\"text\":\"Survived\"},\"tracegroupgap\":0},\"template\":{\"data\":{\"bar\":[{\"error_x\":{\"color\":\"#2a3f5f\"},\"error_y\":{\"color\":\"#2a3f5f\"},\"marker\":{\"line\":{\"color\":\"#E5ECF6\",\"width\":0.5},\"pattern\":{\"fillmode\":\"overlay\",\"size\":10,\"solidity\":0.2}},\"type\":\"bar\"}],\"barpolar\":[{\"marker\":{\"line\":{\"color\":\"#E5ECF6\",\"width\":0.5},\"pattern\":{\"fillmode\":\"overlay\",\"size\":10,\"solidity\":0.2}},\"type\":\"barpolar\"}],\"carpet\":[{\"aaxis\":{\"endlinecolor\":\"#2a3f5f\",\"gridcolor\":\"white\",\"linecolor\":\"white\",\"minorgridcolor\":\"white\",\"startlinecolor\":\"#2a3f5f\"},\"baxis\":{\"endlinecolor\":\"#2a3f5f\",\"gridcolor\":\"white\",\"linecolor\":\"white\",\"minorgridcolor\":\"white\",\"startlinecolor\":\"#2a3f5f\"},\"type\":\"carpet\"}],\"choropleth\":[{\"colorbar\":{\"outlinewidth\":0,\"ticks\":\"\"},\"type\":\"choropleth\"}],\"contour\":[{\"colorbar\":{\"outlinewidth\":0,\"ticks\":\"\"},\"colorscale\":[[0.0,\"#0d0887\"],[0.1111111111111111,\"#46039f\"],[0.2222222222222222,\"#7201a8\"],[0.3333333333333333,\"#9c179e\"],[0.4444444444444444,\"#bd3786\"],[0.5555555555555556,\"#d8576b\"],[0.6666666666666666,\"#ed7953\"],[0.7777777777777778,\"#fb9f3a\"],[0.8888888888888888,\"#fdca26\"],[1.0,\"#f0f921\"]],\"type\":\"contour\"}],\"contourcarpet\":[{\"colorbar\":{\"outlinewidth\":0,\"ticks\":\"\"},\"type\":\"contourcarpet\"}],\"heatmap\":[{\"colorbar\":{\"outlinewidth\":0,\"ticks\":\"\"},\"colorscale\":[[0.0,\"#0d0887\"],[0.1111111111111111,\"#46039f\"],[0.2222222222222222,\"#7201a8\"],[0.3333333333333333,\"#9c179e\"],[0.4444444444444444,\"#bd3786\"],[0.5555555555555556,\"#d8576b\"],[0.6666666666666666,\"#ed7953\"],[0.7777777777777778,\"#fb9f3a\"],[0.8888888888888888,\"#fdca26\"],[1.0,\"#f0f921\"]],\"type\":\"heatmap\"}],\"heatmapgl\":[{\"colorbar\":{\"outlinewidth\":0,\"ticks\":\"\"},\"colorscale\":[[0.0,\"#0d0887\"],[0.1111111111111111,\"#46039f\"],[0.2222222222222222,\"#7201a8\"],[0.3333333333333333,\"#9c179e\"],[0.4444444444444444,\"#bd3786\"],[0.5555555555555556,\"#d8576b\"],[0.6666666666666666,\"#ed7953\"],[0.7777777777777778,\"#fb9f3a\"],[0.8888888888888888,\"#fdca26\"],[1.0,\"#f0f921\"]],\"type\":\"heatmapgl\"}],\"histogram\":[{\"marker\":{\"pattern\":{\"fillmode\":\"overlay\",\"size\":10,\"solidity\":0.2}},\"type\":\"histogram\"}],\"histogram2d\":[{\"colorbar\":{\"outlinewidth\":0,\"ticks\":\"\"},\"colorscale\":[[0.0,\"#0d0887\"],[0.1111111111111111,\"#46039f\"],[0.2222222222222222,\"#7201a8\"],[0.3333333333333333,\"#9c179e\"],[0.4444444444444444,\"#bd3786\"],[0.5555555555555556,\"#d8576b\"],[0.6666666666666666,\"#ed7953\"],[0.7777777777777778,\"#fb9f3a\"],[0.8888888888888888,\"#fdca26\"],[1.0,\"#f0f921\"]],\"type\":\"histogram2d\"}],\"histogram2dcontour\":[{\"colorbar\":{\"outlinewidth\":0,\"ticks\":\"\"},\"colorscale\":[[0.0,\"#0d0887\"],[0.1111111111111111,\"#46039f\"],[0.2222222222222222,\"#7201a8\"],[0.3333333333333333,\"#9c179e\"],[0.4444444444444444,\"#bd3786\"],[0.5555555555555556,\"#d8576b\"],[0.6666666666666666,\"#ed7953\"],[0.7777777777777778,\"#fb9f3a\"],[0.8888888888888888,\"#fdca26\"],[1.0,\"#f0f921\"]],\"type\":\"histogram2dcontour\"}],\"mesh3d\":[{\"colorbar\":{\"outlinewidth\":0,\"ticks\":\"\"},\"type\":\"mesh3d\"}],\"parcoords\":[{\"line\":{\"colorbar\":{\"outlinewidth\":0,\"ticks\":\"\"}},\"type\":\"parcoords\"}],\"pie\":[{\"automargin\":true,\"type\":\"pie\"}],\"scatter\":[{\"marker\":{\"colorbar\":{\"outlinewidth\":0,\"ticks\":\"\"}},\"type\":\"scatter\"}],\"scatter3d\":[{\"line\":{\"colorbar\":{\"outlinewidth\":0,\"ticks\":\"\"}},\"marker\":{\"colorbar\":{\"outlinewidth\":0,\"ticks\":\"\"}},\"type\":\"scatter3d\"}],\"scattercarpet\":[{\"marker\":{\"colorbar\":{\"outlinewidth\":0,\"ticks\":\"\"}},\"type\":\"scattercarpet\"}],\"scattergeo\":[{\"marker\":{\"colorbar\":{\"outlinewidth\":0,\"ticks\":\"\"}},\"type\":\"scattergeo\"}],\"scattergl\":[{\"marker\":{\"colorbar\":{\"outlinewidth\":0,\"ticks\":\"\"}},\"type\":\"scattergl\"}],\"scattermapbox\":[{\"marker\":{\"colorbar\":{\"outlinewidth\":0,\"ticks\":\"\"}},\"type\":\"scattermapbox\"}],\"scatterpolar\":[{\"marker\":{\"colorbar\":{\"outlinewidth\":0,\"ticks\":\"\"}},\"type\":\"scatterpolar\"}],\"scatterpolargl\":[{\"marker\":{\"colorbar\":{\"outlinewidth\":0,\"ticks\":\"\"}},\"type\":\"scatterpolargl\"}],\"scatterternary\":[{\"marker\":{\"colorbar\":{\"outlinewidth\":0,\"ticks\":\"\"}},\"type\":\"scatterternary\"}],\"surface\":[{\"colorbar\":{\"outlinewidth\":0,\"ticks\":\"\"},\"colorscale\":[[0.0,\"#0d0887\"],[0.1111111111111111,\"#46039f\"],[0.2222222222222222,\"#7201a8\"],[0.3333333333333333,\"#9c179e\"],[0.4444444444444444,\"#bd3786\"],[0.5555555555555556,\"#d8576b\"],[0.6666666666666666,\"#ed7953\"],[0.7777777777777778,\"#fb9f3a\"],[0.8888888888888888,\"#fdca26\"],[1.0,\"#f0f921\"]],\"type\":\"surface\"}],\"table\":[{\"cells\":{\"fill\":{\"color\":\"#EBF0F8\"},\"line\":{\"color\":\"white\"}},\"header\":{\"fill\":{\"color\":\"#C8D4E3\"},\"line\":{\"color\":\"white\"}},\"type\":\"table\"}]},\"layout\":{\"annotationdefaults\":{\"arrowcolor\":\"#2a3f5f\",\"arrowhead\":0,\"arrowwidth\":1},\"autotypenumbers\":\"strict\",\"coloraxis\":{\"colorbar\":{\"outlinewidth\":0,\"ticks\":\"\"}},\"colorscale\":{\"diverging\":[[0,\"#8e0152\"],[0.1,\"#c51b7d\"],[0.2,\"#de77ae\"],[0.3,\"#f1b6da\"],[0.4,\"#fde0ef\"],[0.5,\"#f7f7f7\"],[0.6,\"#e6f5d0\"],[0.7,\"#b8e186\"],[0.8,\"#7fbc41\"],[0.9,\"#4d9221\"],[1,\"#276419\"]],\"sequential\":[[0.0,\"#0d0887\"],[0.1111111111111111,\"#46039f\"],[0.2222222222222222,\"#7201a8\"],[0.3333333333333333,\"#9c179e\"],[0.4444444444444444,\"#bd3786\"],[0.5555555555555556,\"#d8576b\"],[0.6666666666666666,\"#ed7953\"],[0.7777777777777778,\"#fb9f3a\"],[0.8888888888888888,\"#fdca26\"],[1.0,\"#f0f921\"]],\"sequentialminus\":[[0.0,\"#0d0887\"],[0.1111111111111111,\"#46039f\"],[0.2222222222222222,\"#7201a8\"],[0.3333333333333333,\"#9c179e\"],[0.4444444444444444,\"#bd3786\"],[0.5555555555555556,\"#d8576b\"],[0.6666666666666666,\"#ed7953\"],[0.7777777777777778,\"#fb9f3a\"],[0.8888888888888888,\"#fdca26\"],[1.0,\"#f0f921\"]]},\"colorway\":[\"#636efa\",\"#EF553B\",\"#00cc96\",\"#ab63fa\",\"#FFA15A\",\"#19d3f3\",\"#FF6692\",\"#B6E880\",\"#FF97FF\",\"#FECB52\"],\"font\":{\"color\":\"#2a3f5f\"},\"geo\":{\"bgcolor\":\"white\",\"lakecolor\":\"white\",\"landcolor\":\"#E5ECF6\",\"showlakes\":true,\"showland\":true,\"subunitcolor\":\"white\"},\"hoverlabel\":{\"align\":\"left\"},\"hovermode\":\"closest\",\"mapbox\":{\"style\":\"light\"},\"paper_bgcolor\":\"white\",\"plot_bgcolor\":\"#E5ECF6\",\"polar\":{\"angularaxis\":{\"gridcolor\":\"white\",\"linecolor\":\"white\",\"ticks\":\"\"},\"bgcolor\":\"#E5ECF6\",\"radialaxis\":{\"gridcolor\":\"white\",\"linecolor\":\"white\",\"ticks\":\"\"}},\"scene\":{\"xaxis\":{\"backgroundcolor\":\"#E5ECF6\",\"gridcolor\":\"white\",\"gridwidth\":2,\"linecolor\":\"white\",\"showbackground\":true,\"ticks\":\"\",\"zerolinecolor\":\"white\"},\"yaxis\":{\"backgroundcolor\":\"#E5ECF6\",\"gridcolor\":\"white\",\"gridwidth\":2,\"linecolor\":\"white\",\"showbackground\":true,\"ticks\":\"\",\"zerolinecolor\":\"white\"},\"zaxis\":{\"backgroundcolor\":\"#E5ECF6\",\"gridcolor\":\"white\",\"gridwidth\":2,\"linecolor\":\"white\",\"showbackground\":true,\"ticks\":\"\",\"zerolinecolor\":\"white\"}},\"shapedefaults\":{\"line\":{\"color\":\"#2a3f5f\"}},\"ternary\":{\"aaxis\":{\"gridcolor\":\"white\",\"linecolor\":\"white\",\"ticks\":\"\"},\"baxis\":{\"gridcolor\":\"white\",\"linecolor\":\"white\",\"ticks\":\"\"},\"bgcolor\":\"#E5ECF6\",\"caxis\":{\"gridcolor\":\"white\",\"linecolor\":\"white\",\"ticks\":\"\"}},\"title\":{\"x\":0.05},\"xaxis\":{\"automargin\":true,\"gridcolor\":\"white\",\"linecolor\":\"white\",\"ticks\":\"\",\"title\":{\"standoff\":15},\"zerolinecolor\":\"white\",\"zerolinewidth\":2},\"yaxis\":{\"automargin\":true,\"gridcolor\":\"white\",\"linecolor\":\"white\",\"ticks\":\"\",\"title\":{\"standoff\":15},\"zerolinecolor\":\"white\",\"zerolinewidth\":2}}},\"title\":{\"text\":\"Age vs Fare\"},\"xaxis\":{\"anchor\":\"y\",\"domain\":[0.0,1.0],\"title\":{\"text\":\"Fare\"}},\"yaxis\":{\"anchor\":\"x\",\"domain\":[0.0,1.0],\"title\":{\"text\":\"Age\"}}},                        {\"responsive\": true}                    ).then(function(){\n",
       "                            \n",
       "var gd = document.getElementById('6b475463-cafa-48a4-925b-a08aa792ef04');\n",
       "var x = new MutationObserver(function (mutations, observer) {{\n",
       "        var display = window.getComputedStyle(gd).display;\n",
       "        if (!display || display === 'none') {{\n",
       "            console.log([gd, 'removed!']);\n",
       "            Plotly.purge(gd);\n",
       "            observer.disconnect();\n",
       "        }}\n",
       "}});\n",
       "\n",
       "// Listen for the removal of the full notebook cells\n",
       "var notebookContainer = gd.closest('#notebook-container');\n",
       "if (notebookContainer) {{\n",
       "    x.observe(notebookContainer, {childList: true});\n",
       "}}\n",
       "\n",
       "// Listen for the clearing of the current output cell\n",
       "var outputEl = gd.closest('.output');\n",
       "if (outputEl) {{\n",
       "    x.observe(outputEl, {childList: true});\n",
       "}}\n",
       "\n",
       "                        })                };                });            </script>        </div>"
      ]
     },
     "metadata": {},
     "output_type": "display_data"
    }
   ],
   "source": [
    "px.scatter(data_frame = train\n",
    "           ,x = 'Fare'\n",
    "           ,y = 'Age'\n",
    "           ,color = 'Survived',\n",
    "           size='Parch',\n",
    "           hover_data=['Sex', 'Age'],\n",
    "           color_discrete_sequence =['navy','#57A7F3','#D3DBDD'],\n",
    "           title=\"Age vs Fare\"\n",
    "           )\n"
   ]
  },
  {
   "cell_type": "code",
   "execution_count": 24,
   "id": "156d4b50",
   "metadata": {
    "_kg_hide-input": true,
    "execution": {
     "iopub.execute_input": "2022-01-19T04:26:43.052296Z",
     "iopub.status.busy": "2022-01-19T04:26:43.051252Z",
     "iopub.status.idle": "2022-01-19T04:26:43.139720Z",
     "shell.execute_reply": "2022-01-19T04:26:43.139114Z",
     "shell.execute_reply.started": "2021-12-30T12:31:05.203186Z"
    },
    "papermill": {
     "duration": 0.222578,
     "end_time": "2022-01-19T04:26:43.139860",
     "exception": false,
     "start_time": "2022-01-19T04:26:42.917282",
     "status": "completed"
    },
    "tags": []
   },
   "outputs": [
    {
     "data": {
      "text/html": [
       "<div>                            <div id=\"6f70d413-8eb4-4161-bad6-cc972ce769c4\" class=\"plotly-graph-div\" style=\"height:525px; width:100%;\"></div>            <script type=\"text/javascript\">                require([\"plotly\"], function(Plotly) {                    window.PLOTLYENV=window.PLOTLYENV || {};                                    if (document.getElementById(\"6f70d413-8eb4-4161-bad6-cc972ce769c4\")) {                    Plotly.newPlot(                        \"6f70d413-8eb4-4161-bad6-cc972ce769c4\",                        [{\"alignmentgroup\":\"True\",\"hovertemplate\":\"Survived=0<br>SibSp=%{x}<br>counts=%{y}<extra></extra>\",\"legendgroup\":\"0\",\"marker\":{\"color\":\"#D3DBDD\",\"pattern\":{\"shape\":\"\"}},\"name\":\"0\",\"offsetgroup\":\"0\",\"orientation\":\"v\",\"showlegend\":true,\"textposition\":\"auto\",\"type\":\"bar\",\"x\":[0,1,2,3,4,5,8],\"xaxis\":\"x\",\"y\":[398,97,15,12,15,5,7],\"yaxis\":\"y\"},{\"alignmentgroup\":\"True\",\"hovertemplate\":\"Survived=1<br>SibSp=%{x}<br>counts=%{y}<extra></extra>\",\"legendgroup\":\"1\",\"marker\":{\"color\":\"#8FCBD8\",\"pattern\":{\"shape\":\"\"}},\"name\":\"1\",\"offsetgroup\":\"1\",\"orientation\":\"v\",\"showlegend\":true,\"textposition\":\"auto\",\"type\":\"bar\",\"x\":[0,1,2,3,4,5,8],\"xaxis\":\"x\",\"y\":[210,112,13,4,3,0,0],\"yaxis\":\"y\"}],                        {\"barmode\":\"group\",\"legend\":{\"title\":{\"text\":\"Survived\"},\"tracegroupgap\":0},\"template\":{\"data\":{\"bar\":[{\"error_x\":{\"color\":\"#2a3f5f\"},\"error_y\":{\"color\":\"#2a3f5f\"},\"marker\":{\"line\":{\"color\":\"#E5ECF6\",\"width\":0.5},\"pattern\":{\"fillmode\":\"overlay\",\"size\":10,\"solidity\":0.2}},\"type\":\"bar\"}],\"barpolar\":[{\"marker\":{\"line\":{\"color\":\"#E5ECF6\",\"width\":0.5},\"pattern\":{\"fillmode\":\"overlay\",\"size\":10,\"solidity\":0.2}},\"type\":\"barpolar\"}],\"carpet\":[{\"aaxis\":{\"endlinecolor\":\"#2a3f5f\",\"gridcolor\":\"white\",\"linecolor\":\"white\",\"minorgridcolor\":\"white\",\"startlinecolor\":\"#2a3f5f\"},\"baxis\":{\"endlinecolor\":\"#2a3f5f\",\"gridcolor\":\"white\",\"linecolor\":\"white\",\"minorgridcolor\":\"white\",\"startlinecolor\":\"#2a3f5f\"},\"type\":\"carpet\"}],\"choropleth\":[{\"colorbar\":{\"outlinewidth\":0,\"ticks\":\"\"},\"type\":\"choropleth\"}],\"contour\":[{\"colorbar\":{\"outlinewidth\":0,\"ticks\":\"\"},\"colorscale\":[[0.0,\"#0d0887\"],[0.1111111111111111,\"#46039f\"],[0.2222222222222222,\"#7201a8\"],[0.3333333333333333,\"#9c179e\"],[0.4444444444444444,\"#bd3786\"],[0.5555555555555556,\"#d8576b\"],[0.6666666666666666,\"#ed7953\"],[0.7777777777777778,\"#fb9f3a\"],[0.8888888888888888,\"#fdca26\"],[1.0,\"#f0f921\"]],\"type\":\"contour\"}],\"contourcarpet\":[{\"colorbar\":{\"outlinewidth\":0,\"ticks\":\"\"},\"type\":\"contourcarpet\"}],\"heatmap\":[{\"colorbar\":{\"outlinewidth\":0,\"ticks\":\"\"},\"colorscale\":[[0.0,\"#0d0887\"],[0.1111111111111111,\"#46039f\"],[0.2222222222222222,\"#7201a8\"],[0.3333333333333333,\"#9c179e\"],[0.4444444444444444,\"#bd3786\"],[0.5555555555555556,\"#d8576b\"],[0.6666666666666666,\"#ed7953\"],[0.7777777777777778,\"#fb9f3a\"],[0.8888888888888888,\"#fdca26\"],[1.0,\"#f0f921\"]],\"type\":\"heatmap\"}],\"heatmapgl\":[{\"colorbar\":{\"outlinewidth\":0,\"ticks\":\"\"},\"colorscale\":[[0.0,\"#0d0887\"],[0.1111111111111111,\"#46039f\"],[0.2222222222222222,\"#7201a8\"],[0.3333333333333333,\"#9c179e\"],[0.4444444444444444,\"#bd3786\"],[0.5555555555555556,\"#d8576b\"],[0.6666666666666666,\"#ed7953\"],[0.7777777777777778,\"#fb9f3a\"],[0.8888888888888888,\"#fdca26\"],[1.0,\"#f0f921\"]],\"type\":\"heatmapgl\"}],\"histogram\":[{\"marker\":{\"pattern\":{\"fillmode\":\"overlay\",\"size\":10,\"solidity\":0.2}},\"type\":\"histogram\"}],\"histogram2d\":[{\"colorbar\":{\"outlinewidth\":0,\"ticks\":\"\"},\"colorscale\":[[0.0,\"#0d0887\"],[0.1111111111111111,\"#46039f\"],[0.2222222222222222,\"#7201a8\"],[0.3333333333333333,\"#9c179e\"],[0.4444444444444444,\"#bd3786\"],[0.5555555555555556,\"#d8576b\"],[0.6666666666666666,\"#ed7953\"],[0.7777777777777778,\"#fb9f3a\"],[0.8888888888888888,\"#fdca26\"],[1.0,\"#f0f921\"]],\"type\":\"histogram2d\"}],\"histogram2dcontour\":[{\"colorbar\":{\"outlinewidth\":0,\"ticks\":\"\"},\"colorscale\":[[0.0,\"#0d0887\"],[0.1111111111111111,\"#46039f\"],[0.2222222222222222,\"#7201a8\"],[0.3333333333333333,\"#9c179e\"],[0.4444444444444444,\"#bd3786\"],[0.5555555555555556,\"#d8576b\"],[0.6666666666666666,\"#ed7953\"],[0.7777777777777778,\"#fb9f3a\"],[0.8888888888888888,\"#fdca26\"],[1.0,\"#f0f921\"]],\"type\":\"histogram2dcontour\"}],\"mesh3d\":[{\"colorbar\":{\"outlinewidth\":0,\"ticks\":\"\"},\"type\":\"mesh3d\"}],\"parcoords\":[{\"line\":{\"colorbar\":{\"outlinewidth\":0,\"ticks\":\"\"}},\"type\":\"parcoords\"}],\"pie\":[{\"automargin\":true,\"type\":\"pie\"}],\"scatter\":[{\"marker\":{\"colorbar\":{\"outlinewidth\":0,\"ticks\":\"\"}},\"type\":\"scatter\"}],\"scatter3d\":[{\"line\":{\"colorbar\":{\"outlinewidth\":0,\"ticks\":\"\"}},\"marker\":{\"colorbar\":{\"outlinewidth\":0,\"ticks\":\"\"}},\"type\":\"scatter3d\"}],\"scattercarpet\":[{\"marker\":{\"colorbar\":{\"outlinewidth\":0,\"ticks\":\"\"}},\"type\":\"scattercarpet\"}],\"scattergeo\":[{\"marker\":{\"colorbar\":{\"outlinewidth\":0,\"ticks\":\"\"}},\"type\":\"scattergeo\"}],\"scattergl\":[{\"marker\":{\"colorbar\":{\"outlinewidth\":0,\"ticks\":\"\"}},\"type\":\"scattergl\"}],\"scattermapbox\":[{\"marker\":{\"colorbar\":{\"outlinewidth\":0,\"ticks\":\"\"}},\"type\":\"scattermapbox\"}],\"scatterpolar\":[{\"marker\":{\"colorbar\":{\"outlinewidth\":0,\"ticks\":\"\"}},\"type\":\"scatterpolar\"}],\"scatterpolargl\":[{\"marker\":{\"colorbar\":{\"outlinewidth\":0,\"ticks\":\"\"}},\"type\":\"scatterpolargl\"}],\"scatterternary\":[{\"marker\":{\"colorbar\":{\"outlinewidth\":0,\"ticks\":\"\"}},\"type\":\"scatterternary\"}],\"surface\":[{\"colorbar\":{\"outlinewidth\":0,\"ticks\":\"\"},\"colorscale\":[[0.0,\"#0d0887\"],[0.1111111111111111,\"#46039f\"],[0.2222222222222222,\"#7201a8\"],[0.3333333333333333,\"#9c179e\"],[0.4444444444444444,\"#bd3786\"],[0.5555555555555556,\"#d8576b\"],[0.6666666666666666,\"#ed7953\"],[0.7777777777777778,\"#fb9f3a\"],[0.8888888888888888,\"#fdca26\"],[1.0,\"#f0f921\"]],\"type\":\"surface\"}],\"table\":[{\"cells\":{\"fill\":{\"color\":\"#EBF0F8\"},\"line\":{\"color\":\"white\"}},\"header\":{\"fill\":{\"color\":\"#C8D4E3\"},\"line\":{\"color\":\"white\"}},\"type\":\"table\"}]},\"layout\":{\"annotationdefaults\":{\"arrowcolor\":\"#2a3f5f\",\"arrowhead\":0,\"arrowwidth\":1},\"autotypenumbers\":\"strict\",\"coloraxis\":{\"colorbar\":{\"outlinewidth\":0,\"ticks\":\"\"}},\"colorscale\":{\"diverging\":[[0,\"#8e0152\"],[0.1,\"#c51b7d\"],[0.2,\"#de77ae\"],[0.3,\"#f1b6da\"],[0.4,\"#fde0ef\"],[0.5,\"#f7f7f7\"],[0.6,\"#e6f5d0\"],[0.7,\"#b8e186\"],[0.8,\"#7fbc41\"],[0.9,\"#4d9221\"],[1,\"#276419\"]],\"sequential\":[[0.0,\"#0d0887\"],[0.1111111111111111,\"#46039f\"],[0.2222222222222222,\"#7201a8\"],[0.3333333333333333,\"#9c179e\"],[0.4444444444444444,\"#bd3786\"],[0.5555555555555556,\"#d8576b\"],[0.6666666666666666,\"#ed7953\"],[0.7777777777777778,\"#fb9f3a\"],[0.8888888888888888,\"#fdca26\"],[1.0,\"#f0f921\"]],\"sequentialminus\":[[0.0,\"#0d0887\"],[0.1111111111111111,\"#46039f\"],[0.2222222222222222,\"#7201a8\"],[0.3333333333333333,\"#9c179e\"],[0.4444444444444444,\"#bd3786\"],[0.5555555555555556,\"#d8576b\"],[0.6666666666666666,\"#ed7953\"],[0.7777777777777778,\"#fb9f3a\"],[0.8888888888888888,\"#fdca26\"],[1.0,\"#f0f921\"]]},\"colorway\":[\"#636efa\",\"#EF553B\",\"#00cc96\",\"#ab63fa\",\"#FFA15A\",\"#19d3f3\",\"#FF6692\",\"#B6E880\",\"#FF97FF\",\"#FECB52\"],\"font\":{\"color\":\"#2a3f5f\"},\"geo\":{\"bgcolor\":\"white\",\"lakecolor\":\"white\",\"landcolor\":\"#E5ECF6\",\"showlakes\":true,\"showland\":true,\"subunitcolor\":\"white\"},\"hoverlabel\":{\"align\":\"left\"},\"hovermode\":\"closest\",\"mapbox\":{\"style\":\"light\"},\"paper_bgcolor\":\"white\",\"plot_bgcolor\":\"#E5ECF6\",\"polar\":{\"angularaxis\":{\"gridcolor\":\"white\",\"linecolor\":\"white\",\"ticks\":\"\"},\"bgcolor\":\"#E5ECF6\",\"radialaxis\":{\"gridcolor\":\"white\",\"linecolor\":\"white\",\"ticks\":\"\"}},\"scene\":{\"xaxis\":{\"backgroundcolor\":\"#E5ECF6\",\"gridcolor\":\"white\",\"gridwidth\":2,\"linecolor\":\"white\",\"showbackground\":true,\"ticks\":\"\",\"zerolinecolor\":\"white\"},\"yaxis\":{\"backgroundcolor\":\"#E5ECF6\",\"gridcolor\":\"white\",\"gridwidth\":2,\"linecolor\":\"white\",\"showbackground\":true,\"ticks\":\"\",\"zerolinecolor\":\"white\"},\"zaxis\":{\"backgroundcolor\":\"#E5ECF6\",\"gridcolor\":\"white\",\"gridwidth\":2,\"linecolor\":\"white\",\"showbackground\":true,\"ticks\":\"\",\"zerolinecolor\":\"white\"}},\"shapedefaults\":{\"line\":{\"color\":\"#2a3f5f\"}},\"ternary\":{\"aaxis\":{\"gridcolor\":\"white\",\"linecolor\":\"white\",\"ticks\":\"\"},\"baxis\":{\"gridcolor\":\"white\",\"linecolor\":\"white\",\"ticks\":\"\"},\"bgcolor\":\"#E5ECF6\",\"caxis\":{\"gridcolor\":\"white\",\"linecolor\":\"white\",\"ticks\":\"\"}},\"title\":{\"x\":0.05},\"xaxis\":{\"automargin\":true,\"gridcolor\":\"white\",\"linecolor\":\"white\",\"ticks\":\"\",\"title\":{\"standoff\":15},\"zerolinecolor\":\"white\",\"zerolinewidth\":2},\"yaxis\":{\"automargin\":true,\"gridcolor\":\"white\",\"linecolor\":\"white\",\"ticks\":\"\",\"title\":{\"standoff\":15},\"zerolinecolor\":\"white\",\"zerolinewidth\":2}}},\"title\":{\"text\":\"Survived vs SibSp\"},\"xaxis\":{\"anchor\":\"y\",\"domain\":[0.0,1.0],\"title\":{\"text\":\"SibSp\"}},\"yaxis\":{\"anchor\":\"x\",\"domain\":[0.0,1.0],\"title\":{\"text\":\"counts\"}}},                        {\"responsive\": true}                    ).then(function(){\n",
       "                            \n",
       "var gd = document.getElementById('6f70d413-8eb4-4161-bad6-cc972ce769c4');\n",
       "var x = new MutationObserver(function (mutations, observer) {{\n",
       "        var display = window.getComputedStyle(gd).display;\n",
       "        if (!display || display === 'none') {{\n",
       "            console.log([gd, 'removed!']);\n",
       "            Plotly.purge(gd);\n",
       "            observer.disconnect();\n",
       "        }}\n",
       "}});\n",
       "\n",
       "// Listen for the removal of the full notebook cells\n",
       "var notebookContainer = gd.closest('#notebook-container');\n",
       "if (notebookContainer) {{\n",
       "    x.observe(notebookContainer, {childList: true});\n",
       "}}\n",
       "\n",
       "// Listen for the clearing of the current output cell\n",
       "var outputEl = gd.closest('.output');\n",
       "if (outputEl) {{\n",
       "    x.observe(outputEl, {childList: true});\n",
       "}}\n",
       "\n",
       "                        })                };                });            </script>        </div>"
      ]
     },
     "metadata": {},
     "output_type": "display_data"
    }
   ],
   "source": [
    "df = train.groupby(by=[\"Survived\", \"SibSp\"]).size().reset_index(name=\"counts\")\n",
    "px.bar(data_frame=df, x=\"SibSp\", y=\"counts\", color=\"Survived\", barmode=\"group\",color_discrete_sequence =['#D3DBDD','#8FCBD8'],\n",
    "      title=\"Survived vs SibSp\")"
   ]
  },
  {
   "cell_type": "code",
   "execution_count": 25,
   "id": "e5b7375c",
   "metadata": {
    "execution": {
     "iopub.execute_input": "2022-01-19T04:26:43.400233Z",
     "iopub.status.busy": "2022-01-19T04:26:43.399587Z",
     "iopub.status.idle": "2022-01-19T04:26:43.473984Z",
     "shell.execute_reply": "2022-01-19T04:26:43.473478Z",
     "shell.execute_reply.started": "2021-12-30T12:31:05.284182Z"
    },
    "papermill": {
     "duration": 0.205029,
     "end_time": "2022-01-19T04:26:43.474119",
     "exception": false,
     "start_time": "2022-01-19T04:26:43.269090",
     "status": "completed"
    },
    "tags": []
   },
   "outputs": [
    {
     "data": {
      "text/html": [
       "<div>                            <div id=\"c9483b64-7400-4713-8306-9bf5180b0ee7\" class=\"plotly-graph-div\" style=\"height:525px; width:100%;\"></div>            <script type=\"text/javascript\">                require([\"plotly\"], function(Plotly) {                    window.PLOTLYENV=window.PLOTLYENV || {};                                    if (document.getElementById(\"c9483b64-7400-4713-8306-9bf5180b0ee7\")) {                    Plotly.newPlot(                        \"c9483b64-7400-4713-8306-9bf5180b0ee7\",                        [{\"alignmentgroup\":\"True\",\"hovertemplate\":\"Survived=0<br>Parch=%{x}<br>counts=%{y}<extra></extra>\",\"legendgroup\":\"0\",\"marker\":{\"color\":\"#D3DBDD\",\"pattern\":{\"shape\":\"\"}},\"name\":\"0\",\"offsetgroup\":\"0\",\"orientation\":\"v\",\"showlegend\":true,\"textposition\":\"auto\",\"type\":\"bar\",\"x\":[0,1,2,3,4,5,6],\"xaxis\":\"x\",\"y\":[445,53,40,2,4,4,1],\"yaxis\":\"y\"},{\"alignmentgroup\":\"True\",\"hovertemplate\":\"Survived=1<br>Parch=%{x}<br>counts=%{y}<extra></extra>\",\"legendgroup\":\"1\",\"marker\":{\"color\":\"#8FCBD8\",\"pattern\":{\"shape\":\"\"}},\"name\":\"1\",\"offsetgroup\":\"1\",\"orientation\":\"v\",\"showlegend\":true,\"textposition\":\"auto\",\"type\":\"bar\",\"x\":[0,1,2,3,4,5,6],\"xaxis\":\"x\",\"y\":[233,65,40,3,0,1,0],\"yaxis\":\"y\"}],                        {\"barmode\":\"group\",\"legend\":{\"title\":{\"text\":\"Survived\"},\"tracegroupgap\":0},\"template\":{\"data\":{\"bar\":[{\"error_x\":{\"color\":\"#2a3f5f\"},\"error_y\":{\"color\":\"#2a3f5f\"},\"marker\":{\"line\":{\"color\":\"#E5ECF6\",\"width\":0.5},\"pattern\":{\"fillmode\":\"overlay\",\"size\":10,\"solidity\":0.2}},\"type\":\"bar\"}],\"barpolar\":[{\"marker\":{\"line\":{\"color\":\"#E5ECF6\",\"width\":0.5},\"pattern\":{\"fillmode\":\"overlay\",\"size\":10,\"solidity\":0.2}},\"type\":\"barpolar\"}],\"carpet\":[{\"aaxis\":{\"endlinecolor\":\"#2a3f5f\",\"gridcolor\":\"white\",\"linecolor\":\"white\",\"minorgridcolor\":\"white\",\"startlinecolor\":\"#2a3f5f\"},\"baxis\":{\"endlinecolor\":\"#2a3f5f\",\"gridcolor\":\"white\",\"linecolor\":\"white\",\"minorgridcolor\":\"white\",\"startlinecolor\":\"#2a3f5f\"},\"type\":\"carpet\"}],\"choropleth\":[{\"colorbar\":{\"outlinewidth\":0,\"ticks\":\"\"},\"type\":\"choropleth\"}],\"contour\":[{\"colorbar\":{\"outlinewidth\":0,\"ticks\":\"\"},\"colorscale\":[[0.0,\"#0d0887\"],[0.1111111111111111,\"#46039f\"],[0.2222222222222222,\"#7201a8\"],[0.3333333333333333,\"#9c179e\"],[0.4444444444444444,\"#bd3786\"],[0.5555555555555556,\"#d8576b\"],[0.6666666666666666,\"#ed7953\"],[0.7777777777777778,\"#fb9f3a\"],[0.8888888888888888,\"#fdca26\"],[1.0,\"#f0f921\"]],\"type\":\"contour\"}],\"contourcarpet\":[{\"colorbar\":{\"outlinewidth\":0,\"ticks\":\"\"},\"type\":\"contourcarpet\"}],\"heatmap\":[{\"colorbar\":{\"outlinewidth\":0,\"ticks\":\"\"},\"colorscale\":[[0.0,\"#0d0887\"],[0.1111111111111111,\"#46039f\"],[0.2222222222222222,\"#7201a8\"],[0.3333333333333333,\"#9c179e\"],[0.4444444444444444,\"#bd3786\"],[0.5555555555555556,\"#d8576b\"],[0.6666666666666666,\"#ed7953\"],[0.7777777777777778,\"#fb9f3a\"],[0.8888888888888888,\"#fdca26\"],[1.0,\"#f0f921\"]],\"type\":\"heatmap\"}],\"heatmapgl\":[{\"colorbar\":{\"outlinewidth\":0,\"ticks\":\"\"},\"colorscale\":[[0.0,\"#0d0887\"],[0.1111111111111111,\"#46039f\"],[0.2222222222222222,\"#7201a8\"],[0.3333333333333333,\"#9c179e\"],[0.4444444444444444,\"#bd3786\"],[0.5555555555555556,\"#d8576b\"],[0.6666666666666666,\"#ed7953\"],[0.7777777777777778,\"#fb9f3a\"],[0.8888888888888888,\"#fdca26\"],[1.0,\"#f0f921\"]],\"type\":\"heatmapgl\"}],\"histogram\":[{\"marker\":{\"pattern\":{\"fillmode\":\"overlay\",\"size\":10,\"solidity\":0.2}},\"type\":\"histogram\"}],\"histogram2d\":[{\"colorbar\":{\"outlinewidth\":0,\"ticks\":\"\"},\"colorscale\":[[0.0,\"#0d0887\"],[0.1111111111111111,\"#46039f\"],[0.2222222222222222,\"#7201a8\"],[0.3333333333333333,\"#9c179e\"],[0.4444444444444444,\"#bd3786\"],[0.5555555555555556,\"#d8576b\"],[0.6666666666666666,\"#ed7953\"],[0.7777777777777778,\"#fb9f3a\"],[0.8888888888888888,\"#fdca26\"],[1.0,\"#f0f921\"]],\"type\":\"histogram2d\"}],\"histogram2dcontour\":[{\"colorbar\":{\"outlinewidth\":0,\"ticks\":\"\"},\"colorscale\":[[0.0,\"#0d0887\"],[0.1111111111111111,\"#46039f\"],[0.2222222222222222,\"#7201a8\"],[0.3333333333333333,\"#9c179e\"],[0.4444444444444444,\"#bd3786\"],[0.5555555555555556,\"#d8576b\"],[0.6666666666666666,\"#ed7953\"],[0.7777777777777778,\"#fb9f3a\"],[0.8888888888888888,\"#fdca26\"],[1.0,\"#f0f921\"]],\"type\":\"histogram2dcontour\"}],\"mesh3d\":[{\"colorbar\":{\"outlinewidth\":0,\"ticks\":\"\"},\"type\":\"mesh3d\"}],\"parcoords\":[{\"line\":{\"colorbar\":{\"outlinewidth\":0,\"ticks\":\"\"}},\"type\":\"parcoords\"}],\"pie\":[{\"automargin\":true,\"type\":\"pie\"}],\"scatter\":[{\"marker\":{\"colorbar\":{\"outlinewidth\":0,\"ticks\":\"\"}},\"type\":\"scatter\"}],\"scatter3d\":[{\"line\":{\"colorbar\":{\"outlinewidth\":0,\"ticks\":\"\"}},\"marker\":{\"colorbar\":{\"outlinewidth\":0,\"ticks\":\"\"}},\"type\":\"scatter3d\"}],\"scattercarpet\":[{\"marker\":{\"colorbar\":{\"outlinewidth\":0,\"ticks\":\"\"}},\"type\":\"scattercarpet\"}],\"scattergeo\":[{\"marker\":{\"colorbar\":{\"outlinewidth\":0,\"ticks\":\"\"}},\"type\":\"scattergeo\"}],\"scattergl\":[{\"marker\":{\"colorbar\":{\"outlinewidth\":0,\"ticks\":\"\"}},\"type\":\"scattergl\"}],\"scattermapbox\":[{\"marker\":{\"colorbar\":{\"outlinewidth\":0,\"ticks\":\"\"}},\"type\":\"scattermapbox\"}],\"scatterpolar\":[{\"marker\":{\"colorbar\":{\"outlinewidth\":0,\"ticks\":\"\"}},\"type\":\"scatterpolar\"}],\"scatterpolargl\":[{\"marker\":{\"colorbar\":{\"outlinewidth\":0,\"ticks\":\"\"}},\"type\":\"scatterpolargl\"}],\"scatterternary\":[{\"marker\":{\"colorbar\":{\"outlinewidth\":0,\"ticks\":\"\"}},\"type\":\"scatterternary\"}],\"surface\":[{\"colorbar\":{\"outlinewidth\":0,\"ticks\":\"\"},\"colorscale\":[[0.0,\"#0d0887\"],[0.1111111111111111,\"#46039f\"],[0.2222222222222222,\"#7201a8\"],[0.3333333333333333,\"#9c179e\"],[0.4444444444444444,\"#bd3786\"],[0.5555555555555556,\"#d8576b\"],[0.6666666666666666,\"#ed7953\"],[0.7777777777777778,\"#fb9f3a\"],[0.8888888888888888,\"#fdca26\"],[1.0,\"#f0f921\"]],\"type\":\"surface\"}],\"table\":[{\"cells\":{\"fill\":{\"color\":\"#EBF0F8\"},\"line\":{\"color\":\"white\"}},\"header\":{\"fill\":{\"color\":\"#C8D4E3\"},\"line\":{\"color\":\"white\"}},\"type\":\"table\"}]},\"layout\":{\"annotationdefaults\":{\"arrowcolor\":\"#2a3f5f\",\"arrowhead\":0,\"arrowwidth\":1},\"autotypenumbers\":\"strict\",\"coloraxis\":{\"colorbar\":{\"outlinewidth\":0,\"ticks\":\"\"}},\"colorscale\":{\"diverging\":[[0,\"#8e0152\"],[0.1,\"#c51b7d\"],[0.2,\"#de77ae\"],[0.3,\"#f1b6da\"],[0.4,\"#fde0ef\"],[0.5,\"#f7f7f7\"],[0.6,\"#e6f5d0\"],[0.7,\"#b8e186\"],[0.8,\"#7fbc41\"],[0.9,\"#4d9221\"],[1,\"#276419\"]],\"sequential\":[[0.0,\"#0d0887\"],[0.1111111111111111,\"#46039f\"],[0.2222222222222222,\"#7201a8\"],[0.3333333333333333,\"#9c179e\"],[0.4444444444444444,\"#bd3786\"],[0.5555555555555556,\"#d8576b\"],[0.6666666666666666,\"#ed7953\"],[0.7777777777777778,\"#fb9f3a\"],[0.8888888888888888,\"#fdca26\"],[1.0,\"#f0f921\"]],\"sequentialminus\":[[0.0,\"#0d0887\"],[0.1111111111111111,\"#46039f\"],[0.2222222222222222,\"#7201a8\"],[0.3333333333333333,\"#9c179e\"],[0.4444444444444444,\"#bd3786\"],[0.5555555555555556,\"#d8576b\"],[0.6666666666666666,\"#ed7953\"],[0.7777777777777778,\"#fb9f3a\"],[0.8888888888888888,\"#fdca26\"],[1.0,\"#f0f921\"]]},\"colorway\":[\"#636efa\",\"#EF553B\",\"#00cc96\",\"#ab63fa\",\"#FFA15A\",\"#19d3f3\",\"#FF6692\",\"#B6E880\",\"#FF97FF\",\"#FECB52\"],\"font\":{\"color\":\"#2a3f5f\"},\"geo\":{\"bgcolor\":\"white\",\"lakecolor\":\"white\",\"landcolor\":\"#E5ECF6\",\"showlakes\":true,\"showland\":true,\"subunitcolor\":\"white\"},\"hoverlabel\":{\"align\":\"left\"},\"hovermode\":\"closest\",\"mapbox\":{\"style\":\"light\"},\"paper_bgcolor\":\"white\",\"plot_bgcolor\":\"#E5ECF6\",\"polar\":{\"angularaxis\":{\"gridcolor\":\"white\",\"linecolor\":\"white\",\"ticks\":\"\"},\"bgcolor\":\"#E5ECF6\",\"radialaxis\":{\"gridcolor\":\"white\",\"linecolor\":\"white\",\"ticks\":\"\"}},\"scene\":{\"xaxis\":{\"backgroundcolor\":\"#E5ECF6\",\"gridcolor\":\"white\",\"gridwidth\":2,\"linecolor\":\"white\",\"showbackground\":true,\"ticks\":\"\",\"zerolinecolor\":\"white\"},\"yaxis\":{\"backgroundcolor\":\"#E5ECF6\",\"gridcolor\":\"white\",\"gridwidth\":2,\"linecolor\":\"white\",\"showbackground\":true,\"ticks\":\"\",\"zerolinecolor\":\"white\"},\"zaxis\":{\"backgroundcolor\":\"#E5ECF6\",\"gridcolor\":\"white\",\"gridwidth\":2,\"linecolor\":\"white\",\"showbackground\":true,\"ticks\":\"\",\"zerolinecolor\":\"white\"}},\"shapedefaults\":{\"line\":{\"color\":\"#2a3f5f\"}},\"ternary\":{\"aaxis\":{\"gridcolor\":\"white\",\"linecolor\":\"white\",\"ticks\":\"\"},\"baxis\":{\"gridcolor\":\"white\",\"linecolor\":\"white\",\"ticks\":\"\"},\"bgcolor\":\"#E5ECF6\",\"caxis\":{\"gridcolor\":\"white\",\"linecolor\":\"white\",\"ticks\":\"\"}},\"title\":{\"x\":0.05},\"xaxis\":{\"automargin\":true,\"gridcolor\":\"white\",\"linecolor\":\"white\",\"ticks\":\"\",\"title\":{\"standoff\":15},\"zerolinecolor\":\"white\",\"zerolinewidth\":2},\"yaxis\":{\"automargin\":true,\"gridcolor\":\"white\",\"linecolor\":\"white\",\"ticks\":\"\",\"title\":{\"standoff\":15},\"zerolinecolor\":\"white\",\"zerolinewidth\":2}}},\"title\":{\"text\":\"Survived vs Parch\"},\"xaxis\":{\"anchor\":\"y\",\"domain\":[0.0,1.0],\"title\":{\"text\":\"Parch\"}},\"yaxis\":{\"anchor\":\"x\",\"domain\":[0.0,1.0],\"title\":{\"text\":\"counts\"}}},                        {\"responsive\": true}                    ).then(function(){\n",
       "                            \n",
       "var gd = document.getElementById('c9483b64-7400-4713-8306-9bf5180b0ee7');\n",
       "var x = new MutationObserver(function (mutations, observer) {{\n",
       "        var display = window.getComputedStyle(gd).display;\n",
       "        if (!display || display === 'none') {{\n",
       "            console.log([gd, 'removed!']);\n",
       "            Plotly.purge(gd);\n",
       "            observer.disconnect();\n",
       "        }}\n",
       "}});\n",
       "\n",
       "// Listen for the removal of the full notebook cells\n",
       "var notebookContainer = gd.closest('#notebook-container');\n",
       "if (notebookContainer) {{\n",
       "    x.observe(notebookContainer, {childList: true});\n",
       "}}\n",
       "\n",
       "// Listen for the clearing of the current output cell\n",
       "var outputEl = gd.closest('.output');\n",
       "if (outputEl) {{\n",
       "    x.observe(outputEl, {childList: true});\n",
       "}}\n",
       "\n",
       "                        })                };                });            </script>        </div>"
      ]
     },
     "metadata": {},
     "output_type": "display_data"
    }
   ],
   "source": [
    "df = train.groupby(by=[\"Survived\", \"Parch\"]).size().reset_index(name=\"counts\")\n",
    "px.bar(data_frame=df, x=\"Parch\", y=\"counts\", color=\"Survived\", barmode=\"group\",color_discrete_sequence =['#D3DBDD','#8FCBD8'],\n",
    "      title=\"Survived vs Parch\")"
   ]
  },
  {
   "cell_type": "markdown",
   "id": "72b96988",
   "metadata": {
    "papermill": {
     "duration": 0.127644,
     "end_time": "2022-01-19T04:26:43.730398",
     "exception": false,
     "start_time": "2022-01-19T04:26:43.602754",
     "status": "completed"
    },
    "tags": []
   },
   "source": [
    "<font size=\"4\" color=\"black\"> These two graphs shows that higher percentage of passengers without relations on the ship have not survived  while the chance of survival has been higher otherwise. </font>"
   ]
  },
  {
   "cell_type": "markdown",
   "id": "ad2cff6d",
   "metadata": {
    "papermill": {
     "duration": 0.133631,
     "end_time": "2022-01-19T04:26:43.996253",
     "exception": false,
     "start_time": "2022-01-19T04:26:43.862622",
     "status": "completed"
    },
    "tags": []
   },
   "source": [
    "## <p style=\"background-color:#BCDBF9;color:black;font-size:19px;text-align:center;border-radius:12px 10px;border:2px solid blue;\">⏳ Data Preprocessing </p>"
   ]
  },
  {
   "cell_type": "markdown",
   "id": "215e0ecb",
   "metadata": {
    "papermill": {
     "duration": 0.12843,
     "end_time": "2022-01-19T04:26:44.253823",
     "exception": false,
     "start_time": "2022-01-19T04:26:44.125393",
     "status": "completed"
    },
    "tags": []
   },
   "source": [
    "<font size=\"4\" color=\"black\"> First I am droping the name, passenger id and ticket varaibles since they contain uniques values and making dummies for them make the dimensionality high.</font>"
   ]
  },
  {
   "cell_type": "code",
   "execution_count": 26,
   "id": "299c4539",
   "metadata": {
    "execution": {
     "iopub.execute_input": "2022-01-19T04:26:44.518147Z",
     "iopub.status.busy": "2022-01-19T04:26:44.516347Z",
     "iopub.status.idle": "2022-01-19T04:26:44.521101Z",
     "shell.execute_reply": "2022-01-19T04:26:44.520569Z",
     "shell.execute_reply.started": "2021-12-30T12:31:05.363504Z"
    },
    "papermill": {
     "duration": 0.138828,
     "end_time": "2022-01-19T04:26:44.521241",
     "exception": false,
     "start_time": "2022-01-19T04:26:44.382413",
     "status": "completed"
    },
    "tags": []
   },
   "outputs": [],
   "source": [
    "train=train.drop(['PassengerId','Name','Ticket'],1)\n",
    "test=test.drop(['PassengerId','Name','Ticket'],1)"
   ]
  },
  {
   "cell_type": "code",
   "execution_count": 27,
   "id": "cf2f1006",
   "metadata": {
    "execution": {
     "iopub.execute_input": "2022-01-19T04:26:44.784757Z",
     "iopub.status.busy": "2022-01-19T04:26:44.784053Z",
     "iopub.status.idle": "2022-01-19T04:26:44.786893Z",
     "shell.execute_reply": "2022-01-19T04:26:44.786389Z",
     "shell.execute_reply.started": "2021-12-30T12:31:05.373779Z"
    },
    "papermill": {
     "duration": 0.137613,
     "end_time": "2022-01-19T04:26:44.787030",
     "exception": false,
     "start_time": "2022-01-19T04:26:44.649417",
     "status": "completed"
    },
    "tags": []
   },
   "outputs": [],
   "source": [
    "train['Survived']=train['Survived'].astype('int')\n",
    "train['Pclass']=train['Pclass'].astype('int')\n",
    "train['SibSp']=train['SibSp'].astype('int')"
   ]
  },
  {
   "cell_type": "code",
   "execution_count": 28,
   "id": "2adf120b",
   "metadata": {
    "execution": {
     "iopub.execute_input": "2022-01-19T04:26:45.049105Z",
     "iopub.status.busy": "2022-01-19T04:26:45.048493Z",
     "iopub.status.idle": "2022-01-19T04:26:45.060160Z",
     "shell.execute_reply": "2022-01-19T04:26:45.060753Z",
     "shell.execute_reply.started": "2021-12-30T12:31:05.387832Z"
    },
    "papermill": {
     "duration": 0.14383,
     "end_time": "2022-01-19T04:26:45.060914",
     "exception": false,
     "start_time": "2022-01-19T04:26:44.917084",
     "status": "completed"
    },
    "tags": []
   },
   "outputs": [
    {
     "name": "stdout",
     "output_type": "stream",
     "text": [
      "<class 'pandas.core.frame.DataFrame'>\n",
      "RangeIndex: 891 entries, 0 to 890\n",
      "Data columns (total 9 columns):\n",
      " #   Column    Non-Null Count  Dtype  \n",
      "---  ------    --------------  -----  \n",
      " 0   Survived  891 non-null    int64  \n",
      " 1   Pclass    891 non-null    int64  \n",
      " 2   Sex       891 non-null    object \n",
      " 3   Age       714 non-null    float64\n",
      " 4   SibSp     891 non-null    int64  \n",
      " 5   Parch     891 non-null    int64  \n",
      " 6   Fare      891 non-null    float64\n",
      " 7   Cabin     204 non-null    object \n",
      " 8   Embarked  889 non-null    object \n",
      "dtypes: float64(2), int64(4), object(3)\n",
      "memory usage: 62.8+ KB\n"
     ]
    }
   ],
   "source": [
    "train.info()"
   ]
  },
  {
   "cell_type": "markdown",
   "id": "384fcde8",
   "metadata": {
    "papermill": {
     "duration": 0.128806,
     "end_time": "2022-01-19T04:26:45.318946",
     "exception": false,
     "start_time": "2022-01-19T04:26:45.190140",
     "status": "completed"
    },
    "tags": []
   },
   "source": [
    "<font size=\"4\" color=\"black\"> Let's check the missing value percentages in the dataset now.</font>"
   ]
  },
  {
   "cell_type": "code",
   "execution_count": 29,
   "id": "650a4e1e",
   "metadata": {
    "execution": {
     "iopub.execute_input": "2022-01-19T04:26:45.581208Z",
     "iopub.status.busy": "2022-01-19T04:26:45.580518Z",
     "iopub.status.idle": "2022-01-19T04:26:45.590567Z",
     "shell.execute_reply": "2022-01-19T04:26:45.591065Z",
     "shell.execute_reply.started": "2021-12-30T12:31:05.412039Z"
    },
    "papermill": {
     "duration": 0.141983,
     "end_time": "2022-01-19T04:26:45.591259",
     "exception": false,
     "start_time": "2022-01-19T04:26:45.449276",
     "status": "completed"
    },
    "tags": []
   },
   "outputs": [
    {
     "name": "stdout",
     "output_type": "stream",
     "text": [
      "Age 0.1987  % missing values.\n",
      "\n",
      "Cabin 0.771  % missing values.\n",
      "\n",
      "Embarked 0.0022  % missing values.\n",
      "\n"
     ]
    }
   ],
   "source": [
    "features=[features for features in train.columns if train[features].isnull().sum()>1]\n",
    "for feature in features:\n",
    "    print(feature, np.round(train[feature].isnull().mean(), 4),  ' % missing values.\\n')"
   ]
  },
  {
   "cell_type": "markdown",
   "id": "d5b6825d",
   "metadata": {
    "papermill": {
     "duration": 0.130766,
     "end_time": "2022-01-19T04:26:45.851583",
     "exception": false,
     "start_time": "2022-01-19T04:26:45.720817",
     "status": "completed"
    },
    "tags": []
   },
   "source": [
    "<font size=\"4\" color=\"black\"> Cabin variable contain more than 77% missing values hence I will remove that variable but we can impute missing values as \"other\" by adding another category.</font>"
   ]
  },
  {
   "cell_type": "code",
   "execution_count": 30,
   "id": "765b218a",
   "metadata": {
    "execution": {
     "iopub.execute_input": "2022-01-19T04:26:46.126275Z",
     "iopub.status.busy": "2022-01-19T04:26:46.125631Z",
     "iopub.status.idle": "2022-01-19T04:26:46.129401Z",
     "shell.execute_reply": "2022-01-19T04:26:46.129926Z",
     "shell.execute_reply.started": "2021-12-30T12:31:05.421791Z"
    },
    "papermill": {
     "duration": 0.147676,
     "end_time": "2022-01-19T04:26:46.130106",
     "exception": false,
     "start_time": "2022-01-19T04:26:45.982430",
     "status": "completed"
    },
    "tags": []
   },
   "outputs": [],
   "source": [
    "train=train.drop(['Cabin'],1)\n",
    "test=test.drop(['Cabin'],1)"
   ]
  },
  {
   "cell_type": "code",
   "execution_count": 31,
   "id": "5f6229e5",
   "metadata": {
    "execution": {
     "iopub.execute_input": "2022-01-19T04:26:46.390970Z",
     "iopub.status.busy": "2022-01-19T04:26:46.390353Z",
     "iopub.status.idle": "2022-01-19T04:26:46.397629Z",
     "shell.execute_reply": "2022-01-19T04:26:46.398127Z",
     "shell.execute_reply.started": "2021-12-30T12:31:05.430901Z"
    },
    "papermill": {
     "duration": 0.139216,
     "end_time": "2022-01-19T04:26:46.398303",
     "exception": false,
     "start_time": "2022-01-19T04:26:46.259087",
     "status": "completed"
    },
    "tags": []
   },
   "outputs": [
    {
     "name": "stdout",
     "output_type": "stream",
     "text": [
      "The dataset contains 2 categorical columns\n"
     ]
    }
   ],
   "source": [
    "categorical_cols_train= train.select_dtypes(include=['object'])\n",
    "\n",
    "print(f'The dataset contains {len(categorical_cols_train.columns.tolist())} categorical columns')"
   ]
  },
  {
   "cell_type": "code",
   "execution_count": 32,
   "id": "6cf0f70c",
   "metadata": {
    "execution": {
     "iopub.execute_input": "2022-01-19T04:26:46.661166Z",
     "iopub.status.busy": "2022-01-19T04:26:46.660531Z",
     "iopub.status.idle": "2022-01-19T04:26:46.672656Z",
     "shell.execute_reply": "2022-01-19T04:26:46.673115Z",
     "shell.execute_reply.started": "2021-12-30T12:31:05.443376Z"
    },
    "papermill": {
     "duration": 0.144895,
     "end_time": "2022-01-19T04:26:46.673298",
     "exception": false,
     "start_time": "2022-01-19T04:26:46.528403",
     "status": "completed"
    },
    "tags": []
   },
   "outputs": [
    {
     "data": {
      "text/html": [
       "<div>\n",
       "<style scoped>\n",
       "    .dataframe tbody tr th:only-of-type {\n",
       "        vertical-align: middle;\n",
       "    }\n",
       "\n",
       "    .dataframe tbody tr th {\n",
       "        vertical-align: top;\n",
       "    }\n",
       "\n",
       "    .dataframe thead th {\n",
       "        text-align: right;\n",
       "    }\n",
       "</style>\n",
       "<table border=\"1\" class=\"dataframe\">\n",
       "  <thead>\n",
       "    <tr style=\"text-align: right;\">\n",
       "      <th></th>\n",
       "      <th>Sex</th>\n",
       "      <th>Embarked</th>\n",
       "    </tr>\n",
       "  </thead>\n",
       "  <tbody>\n",
       "    <tr>\n",
       "      <th>count</th>\n",
       "      <td>891</td>\n",
       "      <td>889</td>\n",
       "    </tr>\n",
       "    <tr>\n",
       "      <th>unique</th>\n",
       "      <td>2</td>\n",
       "      <td>3</td>\n",
       "    </tr>\n",
       "    <tr>\n",
       "      <th>top</th>\n",
       "      <td>male</td>\n",
       "      <td>S</td>\n",
       "    </tr>\n",
       "    <tr>\n",
       "      <th>freq</th>\n",
       "      <td>577</td>\n",
       "      <td>644</td>\n",
       "    </tr>\n",
       "  </tbody>\n",
       "</table>\n",
       "</div>"
      ],
      "text/plain": [
       "         Sex Embarked\n",
       "count    891      889\n",
       "unique     2        3\n",
       "top     male        S\n",
       "freq     577      644"
      ]
     },
     "execution_count": 32,
     "metadata": {},
     "output_type": "execute_result"
    }
   ],
   "source": [
    "categorical_cols_train.describe()"
   ]
  },
  {
   "cell_type": "code",
   "execution_count": 33,
   "id": "6a018d7a",
   "metadata": {
    "execution": {
     "iopub.execute_input": "2022-01-19T04:26:46.936569Z",
     "iopub.status.busy": "2022-01-19T04:26:46.935844Z",
     "iopub.status.idle": "2022-01-19T04:26:46.942504Z",
     "shell.execute_reply": "2022-01-19T04:26:46.943041Z",
     "shell.execute_reply.started": "2021-12-30T12:31:05.461246Z"
    },
    "papermill": {
     "duration": 0.141088,
     "end_time": "2022-01-19T04:26:46.943207",
     "exception": false,
     "start_time": "2022-01-19T04:26:46.802119",
     "status": "completed"
    },
    "tags": []
   },
   "outputs": [
    {
     "data": {
      "text/plain": [
       "Index(['Embarked'], dtype='object')"
      ]
     },
     "execution_count": 33,
     "metadata": {},
     "output_type": "execute_result"
    }
   ],
   "source": [
    "categorical_cols_missing = categorical_cols_train.columns[categorical_cols_train.isnull().any()]\n",
    "categorical_cols_missing"
   ]
  },
  {
   "cell_type": "markdown",
   "id": "44a97746",
   "metadata": {
    "papermill": {
     "duration": 0.130001,
     "end_time": "2022-01-19T04:26:47.204124",
     "exception": false,
     "start_time": "2022-01-19T04:26:47.074123",
     "status": "completed"
    },
    "tags": []
   },
   "source": [
    "<font size=\"4\" color=\"black\"> There are only two missing values in Embarked variable hence I will impute it with the mode.</font>"
   ]
  },
  {
   "cell_type": "code",
   "execution_count": 34,
   "id": "866b5ed6",
   "metadata": {
    "_kg_hide-input": true,
    "execution": {
     "iopub.execute_input": "2022-01-19T04:26:47.468929Z",
     "iopub.status.busy": "2022-01-19T04:26:47.468233Z",
     "iopub.status.idle": "2022-01-19T04:26:47.746609Z",
     "shell.execute_reply": "2022-01-19T04:26:47.747142Z",
     "shell.execute_reply.started": "2021-12-30T12:31:05.470236Z"
    },
    "papermill": {
     "duration": 0.413821,
     "end_time": "2022-01-19T04:26:47.747339",
     "exception": false,
     "start_time": "2022-01-19T04:26:47.333518",
     "status": "completed"
    },
    "tags": []
   },
   "outputs": [],
   "source": [
    "from sklearn.impute import SimpleImputer\n",
    "categoricalImputer = SimpleImputer(missing_values = np.NaN,strategy = 'most_frequent')\n",
    "for feature in categorical_cols_missing:\n",
    "     categorical_cols_train[feature] = categoricalImputer.fit_transform(categorical_cols_train[feature].values.reshape(-1,1))\n",
    "     train[feature] = categoricalImputer.fit_transform(train[feature].values.reshape(-1,1))"
   ]
  },
  {
   "cell_type": "code",
   "execution_count": 35,
   "id": "daa84a00",
   "metadata": {
    "execution": {
     "iopub.execute_input": "2022-01-19T04:26:48.013607Z",
     "iopub.status.busy": "2022-01-19T04:26:48.012685Z",
     "iopub.status.idle": "2022-01-19T04:26:48.021856Z",
     "shell.execute_reply": "2022-01-19T04:26:48.022408Z",
     "shell.execute_reply.started": "2021-12-30T12:31:05.775127Z"
    },
    "papermill": {
     "duration": 0.144295,
     "end_time": "2022-01-19T04:26:48.022587",
     "exception": false,
     "start_time": "2022-01-19T04:26:47.878292",
     "status": "completed"
    },
    "tags": []
   },
   "outputs": [
    {
     "data": {
      "text/plain": [
       "count    714.000000\n",
       "mean      29.699118\n",
       "std       14.526497\n",
       "min        0.420000\n",
       "25%       20.125000\n",
       "50%       28.000000\n",
       "75%       38.000000\n",
       "max       80.000000\n",
       "Name: Age, dtype: float64"
      ]
     },
     "execution_count": 35,
     "metadata": {},
     "output_type": "execute_result"
    }
   ],
   "source": [
    "train['Age'].describe()"
   ]
  },
  {
   "cell_type": "code",
   "execution_count": 36,
   "id": "0f6f9cab",
   "metadata": {
    "execution": {
     "iopub.execute_input": "2022-01-19T04:26:48.288917Z",
     "iopub.status.busy": "2022-01-19T04:26:48.287956Z",
     "iopub.status.idle": "2022-01-19T04:26:48.297232Z",
     "shell.execute_reply": "2022-01-19T04:26:48.297740Z",
     "shell.execute_reply.started": "2021-12-30T12:31:05.786157Z"
    },
    "papermill": {
     "duration": 0.143003,
     "end_time": "2022-01-19T04:26:48.297939",
     "exception": false,
     "start_time": "2022-01-19T04:26:48.154936",
     "status": "completed"
    },
    "tags": []
   },
   "outputs": [
    {
     "data": {
      "text/plain": [
       "count    891.000000\n",
       "mean      32.204208\n",
       "std       49.693429\n",
       "min        0.000000\n",
       "25%        7.910400\n",
       "50%       14.454200\n",
       "75%       31.000000\n",
       "max      512.329200\n",
       "Name: Fare, dtype: float64"
      ]
     },
     "execution_count": 36,
     "metadata": {},
     "output_type": "execute_result"
    }
   ],
   "source": [
    "train['Fare'].describe()"
   ]
  },
  {
   "cell_type": "markdown",
   "id": "051ea942",
   "metadata": {
    "papermill": {
     "duration": 0.129845,
     "end_time": "2022-01-19T04:26:48.562151",
     "exception": false,
     "start_time": "2022-01-19T04:26:48.432306",
     "status": "completed"
    },
    "tags": []
   },
   "source": [
    "<font size=\"4\" color=\"black\"> The missing values of age variable are imputed using random values in between the 25th and 75th percentile. In the test set there are missing values for fare variable. Those are also imputed from the values range in the training set.</font>"
   ]
  },
  {
   "cell_type": "code",
   "execution_count": 37,
   "id": "24dc3f81",
   "metadata": {
    "execution": {
     "iopub.execute_input": "2022-01-19T04:26:48.831389Z",
     "iopub.status.busy": "2022-01-19T04:26:48.830276Z",
     "iopub.status.idle": "2022-01-19T04:26:48.833896Z",
     "shell.execute_reply": "2022-01-19T04:26:48.834510Z",
     "shell.execute_reply.started": "2021-12-30T12:31:05.798135Z"
    },
    "papermill": {
     "duration": 0.143394,
     "end_time": "2022-01-19T04:26:48.834674",
     "exception": false,
     "start_time": "2022-01-19T04:26:48.691280",
     "status": "completed"
    },
    "tags": []
   },
   "outputs": [],
   "source": [
    "np.random.seed(1)\n",
    "train['Age'].fillna(np.random.randint(20,38), inplace = True)\n",
    "test['Age'].fillna(np.random.randint(20,38), inplace = True)\n",
    "test['Fare'].fillna(np.random.randint(0,31), inplace = True)"
   ]
  },
  {
   "cell_type": "markdown",
   "id": "602e1144",
   "metadata": {
    "papermill": {
     "duration": 0.140968,
     "end_time": "2022-01-19T04:26:49.114657",
     "exception": false,
     "start_time": "2022-01-19T04:26:48.973689",
     "status": "completed"
    },
    "tags": []
   },
   "source": [
    "#### The missing values have been treated. let's confirm that."
   ]
  },
  {
   "cell_type": "code",
   "execution_count": 38,
   "id": "d7e8b29f",
   "metadata": {
    "_kg_hide-input": true,
    "execution": {
     "iopub.execute_input": "2022-01-19T04:26:49.378054Z",
     "iopub.status.busy": "2022-01-19T04:26:49.377097Z",
     "iopub.status.idle": "2022-01-19T04:26:49.521175Z",
     "shell.execute_reply": "2022-01-19T04:26:49.521724Z",
     "shell.execute_reply.started": "2021-12-30T12:31:05.808307Z"
    },
    "papermill": {
     "duration": 0.277112,
     "end_time": "2022-01-19T04:26:49.521903",
     "exception": false,
     "start_time": "2022-01-19T04:26:49.244791",
     "status": "completed"
    },
    "tags": []
   },
   "outputs": [
    {
     "data": {
      "text/plain": [
       "<AxesSubplot:>"
      ]
     },
     "execution_count": 38,
     "metadata": {},
     "output_type": "execute_result"
    },
    {
     "data": {
      "image/png": "[encoded data removed]",
      "text/plain": [
       "<Figure size 432x288 with 1 Axes>"
      ]
     },
     "metadata": {
      "needs_background": "light"
     },
     "output_type": "display_data"
    }
   ],
   "source": [
    "sns.heatmap(train.isnull(),yticklabels=False,cbar=False,cmap=\"Blues_r\")"
   ]
  },
  {
   "cell_type": "code",
   "execution_count": 39,
   "id": "d8086147",
   "metadata": {
    "execution": {
     "iopub.execute_input": "2022-01-19T04:26:49.787797Z",
     "iopub.status.busy": "2022-01-19T04:26:49.786865Z",
     "iopub.status.idle": "2022-01-19T04:26:49.798767Z",
     "shell.execute_reply": "2022-01-19T04:26:49.799596Z",
     "shell.execute_reply.started": "2021-12-30T12:31:05.992499Z"
    },
    "papermill": {
     "duration": 0.146689,
     "end_time": "2022-01-19T04:26:49.799810",
     "exception": false,
     "start_time": "2022-01-19T04:26:49.653121",
     "status": "completed"
    },
    "tags": []
   },
   "outputs": [
    {
     "name": "stdout",
     "output_type": "stream",
     "text": [
      "<class 'pandas.core.frame.DataFrame'>\n",
      "RangeIndex: 891 entries, 0 to 890\n",
      "Data columns (total 8 columns):\n",
      " #   Column    Non-Null Count  Dtype  \n",
      "---  ------    --------------  -----  \n",
      " 0   Survived  891 non-null    int64  \n",
      " 1   Pclass    891 non-null    int64  \n",
      " 2   Sex       891 non-null    object \n",
      " 3   Age       891 non-null    float64\n",
      " 4   SibSp     891 non-null    int64  \n",
      " 5   Parch     891 non-null    int64  \n",
      " 6   Fare      891 non-null    float64\n",
      " 7   Embarked  891 non-null    object \n",
      "dtypes: float64(2), int64(4), object(2)\n",
      "memory usage: 55.8+ KB\n"
     ]
    }
   ],
   "source": [
    "train.info()"
   ]
  },
  {
   "cell_type": "code",
   "execution_count": 40,
   "id": "33a6dc02",
   "metadata": {
    "_kg_hide-input": true,
    "execution": {
     "iopub.execute_input": "2022-01-19T04:26:50.074307Z",
     "iopub.status.busy": "2022-01-19T04:26:50.073663Z",
     "iopub.status.idle": "2022-01-19T04:26:50.081954Z",
     "shell.execute_reply": "2022-01-19T04:26:50.081428Z",
     "shell.execute_reply.started": "2021-12-30T12:31:06.007511Z"
    },
    "papermill": {
     "duration": 0.146498,
     "end_time": "2022-01-19T04:26:50.082113",
     "exception": false,
     "start_time": "2022-01-19T04:26:49.935615",
     "status": "completed"
    },
    "tags": []
   },
   "outputs": [],
   "source": [
    "cleanup_nums = {\"Sex\": {\"male\": 1, \"female\": 0}}\n",
    "train= train.replace(cleanup_nums)\n",
    "test= test.replace(cleanup_nums)"
   ]
  },
  {
   "cell_type": "code",
   "execution_count": 41,
   "id": "2c08b100",
   "metadata": {
    "execution": {
     "iopub.execute_input": "2022-01-19T04:26:50.363257Z",
     "iopub.status.busy": "2022-01-19T04:26:50.362511Z",
     "iopub.status.idle": "2022-01-19T04:26:50.366449Z",
     "shell.execute_reply": "2022-01-19T04:26:50.365930Z",
     "shell.execute_reply.started": "2021-12-30T12:31:06.023142Z"
    },
    "papermill": {
     "duration": 0.149568,
     "end_time": "2022-01-19T04:26:50.366620",
     "exception": false,
     "start_time": "2022-01-19T04:26:50.217052",
     "status": "completed"
    },
    "tags": []
   },
   "outputs": [
    {
     "data": {
      "text/html": [
       "<div>\n",
       "<style scoped>\n",
       "    .dataframe tbody tr th:only-of-type {\n",
       "        vertical-align: middle;\n",
       "    }\n",
       "\n",
       "    .dataframe tbody tr th {\n",
       "        vertical-align: top;\n",
       "    }\n",
       "\n",
       "    .dataframe thead th {\n",
       "        text-align: right;\n",
       "    }\n",
       "</style>\n",
       "<table border=\"1\" class=\"dataframe\">\n",
       "  <thead>\n",
       "    <tr style=\"text-align: right;\">\n",
       "      <th></th>\n",
       "      <th>Survived</th>\n",
       "      <th>Pclass</th>\n",
       "      <th>Sex</th>\n",
       "      <th>Age</th>\n",
       "      <th>SibSp</th>\n",
       "      <th>Parch</th>\n",
       "      <th>Fare</th>\n",
       "      <th>Embarked</th>\n",
       "    </tr>\n",
       "  </thead>\n",
       "  <tbody>\n",
       "    <tr>\n",
       "      <th>0</th>\n",
       "      <td>0</td>\n",
       "      <td>3</td>\n",
       "      <td>1</td>\n",
       "      <td>22.0</td>\n",
       "      <td>1</td>\n",
       "      <td>0</td>\n",
       "      <td>7.2500</td>\n",
       "      <td>S</td>\n",
       "    </tr>\n",
       "    <tr>\n",
       "      <th>1</th>\n",
       "      <td>1</td>\n",
       "      <td>1</td>\n",
       "      <td>0</td>\n",
       "      <td>38.0</td>\n",
       "      <td>1</td>\n",
       "      <td>0</td>\n",
       "      <td>71.2833</td>\n",
       "      <td>C</td>\n",
       "    </tr>\n",
       "    <tr>\n",
       "      <th>2</th>\n",
       "      <td>1</td>\n",
       "      <td>3</td>\n",
       "      <td>0</td>\n",
       "      <td>26.0</td>\n",
       "      <td>0</td>\n",
       "      <td>0</td>\n",
       "      <td>7.9250</td>\n",
       "      <td>S</td>\n",
       "    </tr>\n",
       "    <tr>\n",
       "      <th>3</th>\n",
       "      <td>1</td>\n",
       "      <td>1</td>\n",
       "      <td>0</td>\n",
       "      <td>35.0</td>\n",
       "      <td>1</td>\n",
       "      <td>0</td>\n",
       "      <td>53.1000</td>\n",
       "      <td>S</td>\n",
       "    </tr>\n",
       "    <tr>\n",
       "      <th>4</th>\n",
       "      <td>0</td>\n",
       "      <td>3</td>\n",
       "      <td>1</td>\n",
       "      <td>35.0</td>\n",
       "      <td>0</td>\n",
       "      <td>0</td>\n",
       "      <td>8.0500</td>\n",
       "      <td>S</td>\n",
       "    </tr>\n",
       "  </tbody>\n",
       "</table>\n",
       "</div>"
      ],
      "text/plain": [
       "   Survived  Pclass  Sex   Age  SibSp  Parch     Fare Embarked\n",
       "0         0       3    1  22.0      1      0   7.2500        S\n",
       "1         1       1    0  38.0      1      0  71.2833        C\n",
       "2         1       3    0  26.0      0      0   7.9250        S\n",
       "3         1       1    0  35.0      1      0  53.1000        S\n",
       "4         0       3    1  35.0      0      0   8.0500        S"
      ]
     },
     "execution_count": 41,
     "metadata": {},
     "output_type": "execute_result"
    }
   ],
   "source": [
    "train.head()"
   ]
  },
  {
   "cell_type": "code",
   "execution_count": 42,
   "id": "43347dc7",
   "metadata": {
    "execution": {
     "iopub.execute_input": "2022-01-19T04:26:50.642508Z",
     "iopub.status.busy": "2022-01-19T04:26:50.641847Z",
     "iopub.status.idle": "2022-01-19T04:26:50.647725Z",
     "shell.execute_reply": "2022-01-19T04:26:50.648209Z",
     "shell.execute_reply.started": "2021-12-30T12:31:06.037627Z"
    },
    "papermill": {
     "duration": 0.143853,
     "end_time": "2022-01-19T04:26:50.648399",
     "exception": false,
     "start_time": "2022-01-19T04:26:50.504546",
     "status": "completed"
    },
    "tags": []
   },
   "outputs": [
    {
     "data": {
      "text/plain": [
       "Survived    False\n",
       "Pclass      False\n",
       "Sex         False\n",
       "Age         False\n",
       "SibSp       False\n",
       "Parch       False\n",
       "Fare        False\n",
       "Embarked    False\n",
       "dtype: bool"
      ]
     },
     "execution_count": 42,
     "metadata": {},
     "output_type": "execute_result"
    }
   ],
   "source": [
    "train.isnull().any()"
   ]
  },
  {
   "cell_type": "markdown",
   "id": "96ae4321",
   "metadata": {
    "papermill": {
     "duration": 0.135149,
     "end_time": "2022-01-19T04:26:50.918765",
     "exception": false,
     "start_time": "2022-01-19T04:26:50.783616",
     "status": "completed"
    },
    "tags": []
   },
   "source": [
    "<font size=\"4\" color=\"black\"> Create dummy variables for embarked variable.</font>"
   ]
  },
  {
   "cell_type": "code",
   "execution_count": 43,
   "id": "4710b8a4",
   "metadata": {
    "execution": {
     "iopub.execute_input": "2022-01-19T04:26:51.192235Z",
     "iopub.status.busy": "2022-01-19T04:26:51.191485Z",
     "iopub.status.idle": "2022-01-19T04:26:51.201678Z",
     "shell.execute_reply": "2022-01-19T04:26:51.202178Z",
     "shell.execute_reply.started": "2021-12-30T12:31:06.046479Z"
    },
    "papermill": {
     "duration": 0.147473,
     "end_time": "2022-01-19T04:26:51.202362",
     "exception": false,
     "start_time": "2022-01-19T04:26:51.054889",
     "status": "completed"
    },
    "tags": []
   },
   "outputs": [],
   "source": [
    "train=pd.get_dummies(train, columns=[\"Embarked\"])\n",
    "test=pd.get_dummies(test, columns=[\"Embarked\"])"
   ]
  },
  {
   "cell_type": "code",
   "execution_count": 44,
   "id": "d90f53ac",
   "metadata": {
    "execution": {
     "iopub.execute_input": "2022-01-19T04:26:51.478151Z",
     "iopub.status.busy": "2022-01-19T04:26:51.474684Z",
     "iopub.status.idle": "2022-01-19T04:26:51.479903Z",
     "shell.execute_reply": "2022-01-19T04:26:51.480490Z",
     "shell.execute_reply.started": "2021-12-30T12:31:06.059407Z"
    },
    "papermill": {
     "duration": 0.143707,
     "end_time": "2022-01-19T04:26:51.480658",
     "exception": false,
     "start_time": "2022-01-19T04:26:51.336951",
     "status": "completed"
    },
    "tags": []
   },
   "outputs": [],
   "source": [
    "data = train[[i for i in train.columns if i not in ('Age','SibSp','Parch','Pclass','Fare',)]]"
   ]
  },
  {
   "cell_type": "code",
   "execution_count": 45,
   "id": "5a7c9d4c",
   "metadata": {
    "execution": {
     "iopub.execute_input": "2022-01-19T04:26:51.752368Z",
     "iopub.status.busy": "2022-01-19T04:26:51.751737Z",
     "iopub.status.idle": "2022-01-19T04:26:51.755044Z",
     "shell.execute_reply": "2022-01-19T04:26:51.755617Z",
     "shell.execute_reply.started": "2021-12-30T12:31:06.066491Z"
    },
    "papermill": {
     "duration": 0.141734,
     "end_time": "2022-01-19T04:26:51.755804",
     "exception": false,
     "start_time": "2022-01-19T04:26:51.614070",
     "status": "completed"
    },
    "tags": []
   },
   "outputs": [
    {
     "data": {
      "text/plain": [
       "(891, 10)"
      ]
     },
     "execution_count": 45,
     "metadata": {},
     "output_type": "execute_result"
    }
   ],
   "source": [
    "train.shape"
   ]
  },
  {
   "cell_type": "code",
   "execution_count": 46,
   "id": "41dc645e",
   "metadata": {
    "execution": {
     "iopub.execute_input": "2022-01-19T04:26:52.027989Z",
     "iopub.status.busy": "2022-01-19T04:26:52.027245Z",
     "iopub.status.idle": "2022-01-19T04:26:52.038054Z",
     "shell.execute_reply": "2022-01-19T04:26:52.038671Z",
     "shell.execute_reply.started": "2021-12-30T12:31:06.078683Z"
    },
    "papermill": {
     "duration": 0.148146,
     "end_time": "2022-01-19T04:26:52.038835",
     "exception": false,
     "start_time": "2022-01-19T04:26:51.890689",
     "status": "completed"
    },
    "tags": []
   },
   "outputs": [
    {
     "name": "stdout",
     "output_type": "stream",
     "text": [
      "<class 'pandas.core.frame.DataFrame'>\n",
      "RangeIndex: 891 entries, 0 to 890\n",
      "Data columns (total 5 columns):\n",
      " #   Column      Non-Null Count  Dtype\n",
      "---  ------      --------------  -----\n",
      " 0   Survived    891 non-null    int64\n",
      " 1   Sex         891 non-null    int64\n",
      " 2   Embarked_C  891 non-null    uint8\n",
      " 3   Embarked_Q  891 non-null    uint8\n",
      " 4   Embarked_S  891 non-null    uint8\n",
      "dtypes: int64(2), uint8(3)\n",
      "memory usage: 16.7 KB\n"
     ]
    }
   ],
   "source": [
    "data.info()"
   ]
  },
  {
   "cell_type": "markdown",
   "id": "39a3f35c",
   "metadata": {
    "papermill": {
     "duration": 0.13441,
     "end_time": "2022-01-19T04:26:52.307980",
     "exception": false,
     "start_time": "2022-01-19T04:26:52.173570",
     "status": "completed"
    },
    "tags": []
   },
   "source": [
    "## <p style=\"background-color:#BCDBF9;color:black;font-size:19px;text-align:center;border-radius:12px 10px;border:2px solid blue;\"> 📘 correlations </p>\n",
    "\n",
    "<font size=\"4\" color=\"black\"> Here I will check the correlations for three parts seperately. that is correlations between numerical and numerical variables, numerical and categorical variables and categorical and categorical variables.</font>"
   ]
  },
  {
   "cell_type": "code",
   "execution_count": 47,
   "id": "846eaf67",
   "metadata": {
    "_kg_hide-input": true,
    "execution": {
     "iopub.execute_input": "2022-01-19T04:26:52.580202Z",
     "iopub.status.busy": "2022-01-19T04:26:52.579578Z",
     "iopub.status.idle": "2022-01-19T04:26:52.584498Z",
     "shell.execute_reply": "2022-01-19T04:26:52.585107Z",
     "shell.execute_reply.started": "2021-12-30T12:31:06.09387Z"
    },
    "papermill": {
     "duration": 0.143262,
     "end_time": "2022-01-19T04:26:52.585275",
     "exception": false,
     "start_time": "2022-01-19T04:26:52.442013",
     "status": "completed"
    },
    "tags": []
   },
   "outputs": [],
   "source": [
    "from scipy.stats import chi2_contingency\n",
    "import numpy as np\n",
    "\n",
    "def cramers_V(var1,var2):\n",
    "  crosstab =np.array(pd.crosstab(var1,var2, rownames=None, colnames=None)) # Cross table building\n",
    "  stat = chi2_contingency(crosstab)[0] # Keeping of the test statistic of the Chi2 test\n",
    "  obs = np.sum(crosstab) # Number of observations\n",
    "  mini = min(crosstab.shape)-1 # Take the minimum value between the columns and the rows of the cross table\n",
    "  return (stat/(obs*mini))"
   ]
  },
  {
   "cell_type": "code",
   "execution_count": 48,
   "id": "63826557",
   "metadata": {
    "_kg_hide-input": true,
    "execution": {
     "iopub.execute_input": "2022-01-19T04:26:52.857453Z",
     "iopub.status.busy": "2022-01-19T04:26:52.856766Z",
     "iopub.status.idle": "2022-01-19T04:26:53.100545Z",
     "shell.execute_reply": "2022-01-19T04:26:53.100013Z",
     "shell.execute_reply.started": "2021-12-30T12:31:06.100661Z"
    },
    "papermill": {
     "duration": 0.380808,
     "end_time": "2022-01-19T04:26:53.100687",
     "exception": false,
     "start_time": "2022-01-19T04:26:52.719879",
     "status": "completed"
    },
    "tags": []
   },
   "outputs": [
    {
     "data": {
      "text/html": [
       "<div>\n",
       "<style scoped>\n",
       "    .dataframe tbody tr th:only-of-type {\n",
       "        vertical-align: middle;\n",
       "    }\n",
       "\n",
       "    .dataframe tbody tr th {\n",
       "        vertical-align: top;\n",
       "    }\n",
       "\n",
       "    .dataframe thead th {\n",
       "        text-align: right;\n",
       "    }\n",
       "</style>\n",
       "<table border=\"1\" class=\"dataframe\">\n",
       "  <thead>\n",
       "    <tr style=\"text-align: right;\">\n",
       "      <th></th>\n",
       "      <th>Survived</th>\n",
       "      <th>Sex</th>\n",
       "      <th>Embarked_C</th>\n",
       "      <th>Embarked_Q</th>\n",
       "      <th>Embarked_S</th>\n",
       "    </tr>\n",
       "  </thead>\n",
       "  <tbody>\n",
       "    <tr>\n",
       "      <th>Survived</th>\n",
       "      <td>1.00</td>\n",
       "      <td>0.29</td>\n",
       "      <td>0.03</td>\n",
       "      <td>0.00</td>\n",
       "      <td>0.02</td>\n",
       "    </tr>\n",
       "    <tr>\n",
       "      <th>Sex</th>\n",
       "      <td>0.29</td>\n",
       "      <td>1.00</td>\n",
       "      <td>0.01</td>\n",
       "      <td>0.00</td>\n",
       "      <td>0.01</td>\n",
       "    </tr>\n",
       "    <tr>\n",
       "      <th>Embarked_C</th>\n",
       "      <td>0.03</td>\n",
       "      <td>0.01</td>\n",
       "      <td>0.99</td>\n",
       "      <td>0.02</td>\n",
       "      <td>0.61</td>\n",
       "    </tr>\n",
       "    <tr>\n",
       "      <th>Embarked_Q</th>\n",
       "      <td>0.00</td>\n",
       "      <td>0.00</td>\n",
       "      <td>0.02</td>\n",
       "      <td>0.99</td>\n",
       "      <td>0.24</td>\n",
       "    </tr>\n",
       "    <tr>\n",
       "      <th>Embarked_S</th>\n",
       "      <td>0.02</td>\n",
       "      <td>0.01</td>\n",
       "      <td>0.61</td>\n",
       "      <td>0.24</td>\n",
       "      <td>0.99</td>\n",
       "    </tr>\n",
       "  </tbody>\n",
       "</table>\n",
       "</div>"
      ],
      "text/plain": [
       "            Survived   Sex  Embarked_C  Embarked_Q  Embarked_S\n",
       "Survived        1.00  0.29        0.03        0.00        0.02\n",
       "Sex             0.29  1.00        0.01        0.00        0.01\n",
       "Embarked_C      0.03  0.01        0.99        0.02        0.61\n",
       "Embarked_Q      0.00  0.00        0.02        0.99        0.24\n",
       "Embarked_S      0.02  0.01        0.61        0.24        0.99"
      ]
     },
     "execution_count": 48,
     "metadata": {},
     "output_type": "execute_result"
    }
   ],
   "source": [
    "rows= []\n",
    "\n",
    "for var1 in data:\n",
    "  col = []\n",
    "  for var2 in data:\n",
    "    cramers =cramers_V(data[var1], data[var2]) # Cramer's V test\n",
    "    col.append(round(cramers,2)) # Keeping of the rounded value of the Cramer's V  \n",
    "  rows.append(col)\n",
    "  \n",
    "cramers_results = np.array(rows)\n",
    "df = pd.DataFrame(cramers_results, columns = data.columns, index =data.columns)\n",
    "df"
   ]
  },
  {
   "cell_type": "markdown",
   "id": "24413888",
   "metadata": {
    "papermill": {
     "duration": 0.134886,
     "end_time": "2022-01-19T04:26:53.369912",
     "exception": false,
     "start_time": "2022-01-19T04:26:53.235026",
     "status": "completed"
    },
    "tags": []
   },
   "source": [
    "#### categorical vs categorical correlation"
   ]
  },
  {
   "cell_type": "code",
   "execution_count": 49,
   "id": "55346795",
   "metadata": {
    "_kg_hide-input": true,
    "execution": {
     "iopub.execute_input": "2022-01-19T04:26:53.643117Z",
     "iopub.status.busy": "2022-01-19T04:26:53.642481Z",
     "iopub.status.idle": "2022-01-19T04:26:53.895271Z",
     "shell.execute_reply": "2022-01-19T04:26:53.894793Z",
     "shell.execute_reply.started": "2021-12-30T12:31:06.350766Z"
    },
    "papermill": {
     "duration": 0.388924,
     "end_time": "2022-01-19T04:26:53.895435",
     "exception": false,
     "start_time": "2022-01-19T04:26:53.506511",
     "status": "completed"
    },
    "tags": []
   },
   "outputs": [
    {
     "data": {
      "image/png": "[encoded data removed]",
      "text/plain": [
       "<Figure size 504x432 with 2 Axes>"
      ]
     },
     "metadata": {
      "needs_background": "light"
     },
     "output_type": "display_data"
    }
   ],
   "source": [
    "import seaborn as sns\n",
    "import matplotlib.pyplot as plt\n",
    "plt.figure(figsize=(7,6))\n",
    "\n",
    "mask = np.zeros_like(df, dtype=np.bool)\n",
    "mask[np.triu_indices_from(mask)] = True\n",
    "\n",
    "\n",
    "with sns.axes_style(\"white\"):\n",
    "  ax = sns.heatmap(df, mask=mask,vmin=0., vmax=1, square=True, cmap=\"Blues_r\")\n",
    "  ax.set_yticklabels(ax.get_ymajorticklabels(), fontsize = 9)\n",
    "  ax.set_xticklabels(ax.get_xmajorticklabels(), fontsize = 9)\n",
    "  \n",
    "plt.show()"
   ]
  },
  {
   "cell_type": "code",
   "execution_count": 50,
   "id": "66b54b28",
   "metadata": {
    "_kg_hide-input": true,
    "_kg_hide-output": true,
    "execution": {
     "iopub.execute_input": "2022-01-19T04:26:54.172751Z",
     "iopub.status.busy": "2022-01-19T04:26:54.172077Z",
     "iopub.status.idle": "2022-01-19T04:27:04.647793Z",
     "shell.execute_reply": "2022-01-19T04:27:04.647241Z",
     "shell.execute_reply.started": "2021-12-30T12:31:06.663114Z"
    },
    "papermill": {
     "duration": 10.614108,
     "end_time": "2022-01-19T04:27:04.647945",
     "exception": false,
     "start_time": "2022-01-19T04:26:54.033837",
     "status": "completed"
    },
    "tags": []
   },
   "outputs": [
    {
     "name": "stdout",
     "output_type": "stream",
     "text": [
      "Collecting dython\r\n",
      "  Downloading dython-0.6.8-py3-none-any.whl (20 kB)\r\n",
      "Requirement already satisfied: pandas>=0.23.4 in /opt/conda/lib/python3.7/site-packages (from dython) (1.3.3)\r\n",
      "Requirement already satisfied: numpy in /opt/conda/lib/python3.7/site-packages (from dython) (1.19.5)\r\n",
      "Requirement already satisfied: seaborn in /opt/conda/lib/python3.7/site-packages (from dython) (0.11.2)\r\n",
      "Requirement already satisfied: matplotlib in /opt/conda/lib/python3.7/site-packages (from dython) (3.4.3)\r\n",
      "Requirement already satisfied: scipy in /opt/conda/lib/python3.7/site-packages (from dython) (1.7.1)\r\n",
      "Requirement already satisfied: scikit-plot>=0.3.7 in /opt/conda/lib/python3.7/site-packages (from dython) (0.3.7)\r\n",
      "Requirement already satisfied: scikit-learn in /opt/conda/lib/python3.7/site-packages (from dython) (0.23.2)\r\n",
      "Requirement already satisfied: python-dateutil>=2.7.3 in /opt/conda/lib/python3.7/site-packages (from pandas>=0.23.4->dython) (2.8.0)\r\n",
      "Requirement already satisfied: pytz>=2017.3 in /opt/conda/lib/python3.7/site-packages (from pandas>=0.23.4->dython) (2021.1)\r\n",
      "Requirement already satisfied: six>=1.5 in /opt/conda/lib/python3.7/site-packages (from python-dateutil>=2.7.3->pandas>=0.23.4->dython) (1.16.0)\r\n",
      "Requirement already satisfied: joblib>=0.10 in /opt/conda/lib/python3.7/site-packages (from scikit-plot>=0.3.7->dython) (1.0.1)\r\n",
      "Requirement already satisfied: kiwisolver>=1.0.1 in /opt/conda/lib/python3.7/site-packages (from matplotlib->dython) (1.3.2)\r\n",
      "Requirement already satisfied: pillow>=6.2.0 in /opt/conda/lib/python3.7/site-packages (from matplotlib->dython) (8.2.0)\r\n",
      "Requirement already satisfied: pyparsing>=2.2.1 in /opt/conda/lib/python3.7/site-packages (from matplotlib->dython) (2.4.7)\r\n",
      "Requirement already satisfied: cycler>=0.10 in /opt/conda/lib/python3.7/site-packages (from matplotlib->dython) (0.10.0)\r\n",
      "Requirement already satisfied: threadpoolctl>=2.0.0 in /opt/conda/lib/python3.7/site-packages (from scikit-learn->dython) (2.2.0)\r\n",
      "Installing collected packages: dython\r\n",
      "Successfully installed dython-0.6.8\r\n",
      "\u001b[33mWARNING: Running pip as the 'root' user can result in broken permissions and conflicting behaviour with the system package manager. It is recommended to use a virtual environment instead: https://pip.pypa.io/warnings/venv\u001b[0m\r\n",
      "Note: you may need to restart the kernel to use updated packages.\n"
     ]
    }
   ],
   "source": [
    "pip install dython"
   ]
  },
  {
   "cell_type": "markdown",
   "id": "ad720302",
   "metadata": {
    "papermill": {
     "duration": 0.147966,
     "end_time": "2022-01-19T04:27:04.936695",
     "exception": false,
     "start_time": "2022-01-19T04:27:04.788729",
     "status": "completed"
    },
    "tags": []
   },
   "source": [
    "#### Categorical vs Numerical correlation"
   ]
  },
  {
   "cell_type": "code",
   "execution_count": 51,
   "id": "7c71d14f",
   "metadata": {
    "_kg_hide-input": true,
    "execution": {
     "iopub.execute_input": "2022-01-19T04:27:05.226462Z",
     "iopub.status.busy": "2022-01-19T04:27:05.225714Z",
     "iopub.status.idle": "2022-01-19T04:27:06.389527Z",
     "shell.execute_reply": "2022-01-19T04:27:06.390027Z",
     "shell.execute_reply.started": "2021-12-30T12:31:17.210156Z"
    },
    "papermill": {
     "duration": 1.310573,
     "end_time": "2022-01-19T04:27:06.390197",
     "exception": false,
     "start_time": "2022-01-19T04:27:05.079624",
     "status": "completed"
    },
    "tags": []
   },
   "outputs": [
    {
     "data": {
      "image/png": "[encoded data removed]",
      "text/plain": [
       "<Figure size 720x576 with 2 Axes>"
      ]
     },
     "metadata": {
      "needs_background": "light"
     },
     "output_type": "display_data"
    },
    {
     "data": {
      "text/plain": [
       "{'corr':             Survived    Pclass       Sex       Age     SibSp     Parch  \\\n",
       " Survived    1.000000  0.338481  0.540200  0.055927  0.035322  0.081629   \n",
       " Pclass      0.338481  1.000000  0.131900 -0.352638  0.083081  0.018443   \n",
       " Sex         0.540200  0.131900  1.000000  0.075406  0.114631  0.245489   \n",
       " Age         0.055927 -0.352638  0.075406  1.000000 -0.232948 -0.159632   \n",
       " SibSp       0.035322  0.083081  0.114631 -0.232948  1.000000  0.414838   \n",
       " Parch       0.081629  0.018443  0.245489 -0.159632  0.414838  1.000000   \n",
       " Fare        0.257307 -0.549500  0.182333  0.105009  0.159651  0.216225   \n",
       " Embarked_C  0.161947  0.243292  0.072515  0.026945  0.059528  0.011069   \n",
       " Embarked_Q  0.000000  0.221009  0.061412  0.061896  0.026354  0.081228   \n",
       " Embarked_S  0.143309  0.074053  0.111733  0.015346  0.068734  0.060814   \n",
       " \n",
       "                 Fare  Embarked_C  Embarked_Q  Embarked_S  \n",
       " Survived    0.257307    0.161947    0.000000    0.143309  \n",
       " Pclass     -0.549500    0.243292    0.221009    0.074053  \n",
       " Sex         0.182333    0.072515    0.061412    0.111733  \n",
       " Age         0.105009    0.026945    0.061896    0.015346  \n",
       " SibSp       0.159651    0.059528    0.026354    0.068734  \n",
       " Parch       0.216225    0.011069    0.081228    0.060814  \n",
       " Fare        1.000000    0.269335    0.117216    0.162184  \n",
       " Embarked_C  0.269335    1.000000    0.139251    0.779246  \n",
       " Embarked_Q  0.117216    0.139251    1.000000    0.494089  \n",
       " Embarked_S  0.162184    0.779246    0.494089    1.000000  ,\n",
       " 'ax': <AxesSubplot:>}"
      ]
     },
     "execution_count": 51,
     "metadata": {},
     "output_type": "execute_result"
    }
   ],
   "source": [
    "cat_cols=[]\n",
    "for c in data.columns:\n",
    "    cat_cols.append(c)\n",
    "\n",
    "from dython import nominal\n",
    "nominal.associations(train, nominal_columns=cat_cols,figsize=(10,8),cmap=\"Blues_r\")"
   ]
  },
  {
   "cell_type": "markdown",
   "id": "e09b1239",
   "metadata": {
    "papermill": {
     "duration": 0.141805,
     "end_time": "2022-01-19T04:27:06.675678",
     "exception": false,
     "start_time": "2022-01-19T04:27:06.533873",
     "status": "completed"
    },
    "tags": []
   },
   "source": [
    "#### Numerical vs Numerical correlation"
   ]
  },
  {
   "cell_type": "code",
   "execution_count": 52,
   "id": "cfecdcd0",
   "metadata": {
    "_kg_hide-input": true,
    "execution": {
     "iopub.execute_input": "2022-01-19T04:27:06.986078Z",
     "iopub.status.busy": "2022-01-19T04:27:06.966544Z",
     "iopub.status.idle": "2022-01-19T04:27:07.289609Z",
     "shell.execute_reply": "2022-01-19T04:27:07.289007Z",
     "shell.execute_reply.started": "2021-12-30T12:31:18.330211Z"
    },
    "papermill": {
     "duration": 0.471989,
     "end_time": "2022-01-19T04:27:07.289776",
     "exception": false,
     "start_time": "2022-01-19T04:27:06.817787",
     "status": "completed"
    },
    "tags": []
   },
   "outputs": [
    {
     "data": {
      "image/png": "[encoded data removed]",
      "text/plain": [
       "<Figure size 576x432 with 2 Axes>"
      ]
     },
     "metadata": {
      "needs_background": "light"
     },
     "output_type": "display_data"
    }
   ],
   "source": [
    "data1 = train[[i for i in train.columns if i in ('Age','SibSp','Parch','Pclass','Fare',)]]\n",
    "plt.figure(figsize=(8,6))\n",
    "sns.heatmap(data1.corr(),annot=True,cmap=\"Blues_r\")\n",
    "plt.show()"
   ]
  },
  {
   "cell_type": "markdown",
   "id": "920458cc",
   "metadata": {
    "papermill": {
     "duration": 0.142505,
     "end_time": "2022-01-19T04:27:07.574980",
     "exception": false,
     "start_time": "2022-01-19T04:27:07.432475",
     "status": "completed"
    },
    "tags": []
   },
   "source": [
    "<font size=\"4\" color=\"black\"><u> Correlations among some variables are high but not very significant apart from the dummy variable embarked_c. Since we have done one hot encoding there is a additional variable for embarked I will remove embarked_c since those 3 levels can be described using two variables.</u></font>"
   ]
  },
  {
   "cell_type": "code",
   "execution_count": 53,
   "id": "4697fcd0",
   "metadata": {
    "execution": {
     "iopub.execute_input": "2022-01-19T04:27:07.864507Z",
     "iopub.status.busy": "2022-01-19T04:27:07.863840Z",
     "iopub.status.idle": "2022-01-19T04:27:07.869200Z",
     "shell.execute_reply": "2022-01-19T04:27:07.869733Z",
     "shell.execute_reply.started": "2021-12-30T12:31:18.652738Z"
    },
    "papermill": {
     "duration": 0.152613,
     "end_time": "2022-01-19T04:27:07.869902",
     "exception": false,
     "start_time": "2022-01-19T04:27:07.717289",
     "status": "completed"
    },
    "tags": []
   },
   "outputs": [],
   "source": [
    "train=train.drop(['Embarked_C'],1)\n",
    "test=test.drop(['Embarked_C'],1)"
   ]
  },
  {
   "cell_type": "code",
   "execution_count": 54,
   "id": "e64b8bf2",
   "metadata": {
    "execution": {
     "iopub.execute_input": "2022-01-19T04:27:08.162303Z",
     "iopub.status.busy": "2022-01-19T04:27:08.161692Z",
     "iopub.status.idle": "2022-01-19T04:27:08.173483Z",
     "shell.execute_reply": "2022-01-19T04:27:08.174064Z",
     "shell.execute_reply.started": "2021-12-30T12:31:18.660554Z"
    },
    "papermill": {
     "duration": 0.158664,
     "end_time": "2022-01-19T04:27:08.174243",
     "exception": false,
     "start_time": "2022-01-19T04:27:08.015579",
     "status": "completed"
    },
    "tags": []
   },
   "outputs": [
    {
     "data": {
      "text/html": [
       "<div>\n",
       "<style scoped>\n",
       "    .dataframe tbody tr th:only-of-type {\n",
       "        vertical-align: middle;\n",
       "    }\n",
       "\n",
       "    .dataframe tbody tr th {\n",
       "        vertical-align: top;\n",
       "    }\n",
       "\n",
       "    .dataframe thead th {\n",
       "        text-align: right;\n",
       "    }\n",
       "</style>\n",
       "<table border=\"1\" class=\"dataframe\">\n",
       "  <thead>\n",
       "    <tr style=\"text-align: right;\">\n",
       "      <th></th>\n",
       "      <th>Survived</th>\n",
       "      <th>Pclass</th>\n",
       "      <th>Sex</th>\n",
       "      <th>Age</th>\n",
       "      <th>SibSp</th>\n",
       "      <th>Parch</th>\n",
       "      <th>Fare</th>\n",
       "      <th>Embarked_Q</th>\n",
       "      <th>Embarked_S</th>\n",
       "    </tr>\n",
       "  </thead>\n",
       "  <tbody>\n",
       "    <tr>\n",
       "      <th>0</th>\n",
       "      <td>0</td>\n",
       "      <td>3</td>\n",
       "      <td>1</td>\n",
       "      <td>22.0</td>\n",
       "      <td>1</td>\n",
       "      <td>0</td>\n",
       "      <td>7.2500</td>\n",
       "      <td>0</td>\n",
       "      <td>1</td>\n",
       "    </tr>\n",
       "    <tr>\n",
       "      <th>1</th>\n",
       "      <td>1</td>\n",
       "      <td>1</td>\n",
       "      <td>0</td>\n",
       "      <td>38.0</td>\n",
       "      <td>1</td>\n",
       "      <td>0</td>\n",
       "      <td>71.2833</td>\n",
       "      <td>0</td>\n",
       "      <td>0</td>\n",
       "    </tr>\n",
       "    <tr>\n",
       "      <th>2</th>\n",
       "      <td>1</td>\n",
       "      <td>3</td>\n",
       "      <td>0</td>\n",
       "      <td>26.0</td>\n",
       "      <td>0</td>\n",
       "      <td>0</td>\n",
       "      <td>7.9250</td>\n",
       "      <td>0</td>\n",
       "      <td>1</td>\n",
       "    </tr>\n",
       "    <tr>\n",
       "      <th>3</th>\n",
       "      <td>1</td>\n",
       "      <td>1</td>\n",
       "      <td>0</td>\n",
       "      <td>35.0</td>\n",
       "      <td>1</td>\n",
       "      <td>0</td>\n",
       "      <td>53.1000</td>\n",
       "      <td>0</td>\n",
       "      <td>1</td>\n",
       "    </tr>\n",
       "    <tr>\n",
       "      <th>4</th>\n",
       "      <td>0</td>\n",
       "      <td>3</td>\n",
       "      <td>1</td>\n",
       "      <td>35.0</td>\n",
       "      <td>0</td>\n",
       "      <td>0</td>\n",
       "      <td>8.0500</td>\n",
       "      <td>0</td>\n",
       "      <td>1</td>\n",
       "    </tr>\n",
       "  </tbody>\n",
       "</table>\n",
       "</div>"
      ],
      "text/plain": [
       "   Survived  Pclass  Sex   Age  SibSp  Parch     Fare  Embarked_Q  Embarked_S\n",
       "0         0       3    1  22.0      1      0   7.2500           0           1\n",
       "1         1       1    0  38.0      1      0  71.2833           0           0\n",
       "2         1       3    0  26.0      0      0   7.9250           0           1\n",
       "3         1       1    0  35.0      1      0  53.1000           0           1\n",
       "4         0       3    1  35.0      0      0   8.0500           0           1"
      ]
     },
     "execution_count": 54,
     "metadata": {},
     "output_type": "execute_result"
    }
   ],
   "source": [
    "train.head()"
   ]
  },
  {
   "cell_type": "markdown",
   "id": "55f5b50a",
   "metadata": {
    "papermill": {
     "duration": 0.142596,
     "end_time": "2022-01-19T04:27:08.460748",
     "exception": false,
     "start_time": "2022-01-19T04:27:08.318152",
     "status": "completed"
    },
    "tags": []
   },
   "source": [
    "#### Dataset is ready. let's fit some models.The notebook will go on further..."
   ]
  },
  {
   "cell_type": "markdown",
   "id": "17405cd5",
   "metadata": {
    "papermill": {
     "duration": 0.141062,
     "end_time": "2022-01-19T04:27:08.797191",
     "exception": false,
     "start_time": "2022-01-19T04:27:08.656129",
     "status": "completed"
    },
    "tags": []
   },
   "source": [
    "<center><img src=\"https://media.giphy.com/media/uTp9UJtBzWe5i/giphy.gif\" style=\"width:500px;height:280px;\"></center>"
   ]
  },
  {
   "cell_type": "markdown",
   "id": "19bb5548",
   "metadata": {
    "papermill": {
     "duration": 0.143544,
     "end_time": "2022-01-19T04:27:09.082756",
     "exception": false,
     "start_time": "2022-01-19T04:27:08.939212",
     "status": "completed"
    },
    "tags": []
   },
   "source": [
    "## <p style=\"background-color:#BCDBF9;color:black;font-size:19px;text-align:center;border-radius:12px 10px;border:2px solid blue;\">  🚢 Model Fitting ..  </p>"
   ]
  },
  {
   "cell_type": "code",
   "execution_count": 55,
   "id": "fe13e880",
   "metadata": {
    "execution": {
     "iopub.execute_input": "2022-01-19T04:27:09.375599Z",
     "iopub.status.busy": "2022-01-19T04:27:09.374916Z",
     "iopub.status.idle": "2022-01-19T04:27:09.379670Z",
     "shell.execute_reply": "2022-01-19T04:27:09.380200Z",
     "shell.execute_reply.started": "2021-12-30T12:31:18.682127Z"
    },
    "papermill": {
     "duration": 0.153221,
     "end_time": "2022-01-19T04:27:09.380393",
     "exception": false,
     "start_time": "2022-01-19T04:27:09.227172",
     "status": "completed"
    },
    "tags": []
   },
   "outputs": [],
   "source": [
    "X= train.drop(['Survived'],1)\n",
    "y=train['Survived']"
   ]
  },
  {
   "cell_type": "markdown",
   "id": "86031d26",
   "metadata": {
    "papermill": {
     "duration": 0.149917,
     "end_time": "2022-01-19T04:27:09.673223",
     "exception": false,
     "start_time": "2022-01-19T04:27:09.523306",
     "status": "completed"
    },
    "tags": []
   },
   "source": [
    "<font size=\"4\" color=\"black\"> dividing the datset into train and test sets.</font>"
   ]
  },
  {
   "cell_type": "code",
   "execution_count": 56,
   "id": "7eb54ecf",
   "metadata": {
    "execution": {
     "iopub.execute_input": "2022-01-19T04:27:09.966297Z",
     "iopub.status.busy": "2022-01-19T04:27:09.965286Z",
     "iopub.status.idle": "2022-01-19T04:27:09.972751Z",
     "shell.execute_reply": "2022-01-19T04:27:09.973361Z",
     "shell.execute_reply.started": "2021-12-30T12:31:18.692473Z"
    },
    "papermill": {
     "duration": 0.156389,
     "end_time": "2022-01-19T04:27:09.973527",
     "exception": false,
     "start_time": "2022-01-19T04:27:09.817138",
     "status": "completed"
    },
    "tags": []
   },
   "outputs": [],
   "source": [
    "#dividing the dataset into train and test sets\n",
    "from sklearn.model_selection import train_test_split\n",
    "x_train,x_test,y_train,y_test=train_test_split(X,y,test_size=0.2,random_state=1234)"
   ]
  },
  {
   "cell_type": "markdown",
   "id": "deb3f845",
   "metadata": {
    "papermill": {
     "duration": 0.142533,
     "end_time": "2022-01-19T04:27:10.258653",
     "exception": false,
     "start_time": "2022-01-19T04:27:10.116120",
     "status": "completed"
    },
    "tags": []
   },
   "source": [
    "#### importing ....."
   ]
  },
  {
   "cell_type": "code",
   "execution_count": 57,
   "id": "0331e5e7",
   "metadata": {
    "_kg_hide-input": true,
    "execution": {
     "iopub.execute_input": "2022-01-19T04:27:10.542571Z",
     "iopub.status.busy": "2022-01-19T04:27:10.541666Z",
     "iopub.status.idle": "2022-01-19T04:27:10.696057Z",
     "shell.execute_reply": "2022-01-19T04:27:10.695442Z",
     "shell.execute_reply.started": "2021-12-30T12:31:18.704283Z"
    },
    "papermill": {
     "duration": 0.296834,
     "end_time": "2022-01-19T04:27:10.696192",
     "exception": false,
     "start_time": "2022-01-19T04:27:10.399358",
     "status": "completed"
    },
    "tags": []
   },
   "outputs": [],
   "source": [
    "from sklearn.linear_model import LogisticRegression\n",
    "from sklearn.discriminant_analysis import LinearDiscriminantAnalysis\n",
    "from sklearn.tree import DecisionTreeClassifier \n",
    "from sklearn.ensemble import RandomForestClassifier\n",
    "from sklearn.ensemble import GradientBoostingClassifier\n",
    "from xgboost import XGBClassifier\n",
    "from sklearn.ensemble import ExtraTreesClassifier\n",
    "from sklearn.ensemble import BaggingClassifier\n",
    "from sklearn.ensemble import AdaBoostClassifier\n",
    "\n",
    "#libraries for model evaluation\n",
    "from sklearn.metrics import accuracy_score\n",
    "from sklearn.metrics import plot_confusion_matrix\n",
    "from sklearn.metrics import classification_report"
   ]
  },
  {
   "cell_type": "markdown",
   "id": "58d994f9",
   "metadata": {
    "papermill": {
     "duration": 0.162729,
     "end_time": "2022-01-19T04:27:11.002473",
     "exception": false,
     "start_time": "2022-01-19T04:27:10.839744",
     "status": "completed"
    },
    "tags": []
   },
   "source": [
    "#### <u> Ridge Classifier</u>"
   ]
  },
  {
   "cell_type": "code",
   "execution_count": 58,
   "id": "c1dc844d",
   "metadata": {
    "_kg_hide-input": true,
    "execution": {
     "iopub.execute_input": "2022-01-19T04:27:11.296012Z",
     "iopub.status.busy": "2022-01-19T04:27:11.295065Z",
     "iopub.status.idle": "2022-01-19T04:27:11.745602Z",
     "shell.execute_reply": "2022-01-19T04:27:11.745041Z",
     "shell.execute_reply.started": "2021-12-30T12:31:18.841849Z"
    },
    "papermill": {
     "duration": 0.599673,
     "end_time": "2022-01-19T04:27:11.745749",
     "exception": false,
     "start_time": "2022-01-19T04:27:11.146076",
     "status": "completed"
    },
    "tags": []
   },
   "outputs": [
    {
     "name": "stdout",
     "output_type": "stream",
     "text": [
      "train accuracy: 0.7893258426966292 \n",
      " test accuracy: 0.8379888268156425\n",
      "\n",
      "\n",
      "classification report for logistic regression\n",
      "              precision    recall  f1-score   support\n",
      "\n",
      "           0       0.93      0.83      0.87       122\n",
      "           1       0.70      0.86      0.77        57\n",
      "\n",
      "    accuracy                           0.84       179\n",
      "   macro avg       0.81      0.84      0.82       179\n",
      "weighted avg       0.85      0.84      0.84       179\n",
      "\n",
      "\n",
      "\n",
      "confusion matrix for logistic regression\n"
     ]
    },
    {
     "data": {
      "image/png": "[encoded data removed]",
      "text/plain": [
       "<Figure size 432x288 with 2 Axes>"
      ]
     },
     "metadata": {
      "needs_background": "light"
     },
     "output_type": "display_data"
    }
   ],
   "source": [
    "from sklearn.linear_model import RidgeClassifier\n",
    "rc =RidgeClassifier()\n",
    "model0=rc.fit(x_train, y_train)\n",
    "print(\"train accuracy:\",model0.score(x_train, y_train),\"\\n\",\"test accuracy:\",model0.score(x_test,y_test))\n",
    "rcpred = rc.predict(x_test)\n",
    "print(\"\\n\")\n",
    "print(\"classification report for logistic regression\")\n",
    "print(classification_report(rcpred,y_test))\n",
    "print(\"\\n\")\n",
    "print(\"confusion matrix for logistic regression\")\n",
    "displr = plot_confusion_matrix(rc, x_test, y_test,cmap=plt.cm.Blues , values_format='d')"
   ]
  },
  {
   "cell_type": "markdown",
   "id": "a14bdf81",
   "metadata": {
    "papermill": {
     "duration": 0.144694,
     "end_time": "2022-01-19T04:27:12.033781",
     "exception": false,
     "start_time": "2022-01-19T04:27:11.889087",
     "status": "completed"
    },
    "tags": []
   },
   "source": [
    "#### <u> logistic regression</u>"
   ]
  },
  {
   "cell_type": "code",
   "execution_count": 59,
   "id": "77a38bf4",
   "metadata": {
    "_kg_hide-input": true,
    "execution": {
     "iopub.execute_input": "2022-01-19T04:27:12.333469Z",
     "iopub.status.busy": "2022-01-19T04:27:12.332366Z",
     "iopub.status.idle": "2022-01-19T04:27:12.645154Z",
     "shell.execute_reply": "2022-01-19T04:27:12.644615Z",
     "shell.execute_reply.started": "2021-12-30T12:31:19.295135Z"
    },
    "papermill": {
     "duration": 0.46565,
     "end_time": "2022-01-19T04:27:12.645296",
     "exception": false,
     "start_time": "2022-01-19T04:27:12.179646",
     "status": "completed"
    },
    "tags": []
   },
   "outputs": [
    {
     "name": "stdout",
     "output_type": "stream",
     "text": [
      "train accuracy: 0.7949438202247191 \n",
      " test accuracy: 0.8491620111731844\n",
      "\n",
      "\n",
      "classification report for logistic regression\n",
      "              precision    recall  f1-score   support\n",
      "\n",
      "           0       0.93      0.84      0.88       120\n",
      "           1       0.73      0.86      0.79        59\n",
      "\n",
      "    accuracy                           0.85       179\n",
      "   macro avg       0.83      0.85      0.84       179\n",
      "weighted avg       0.86      0.85      0.85       179\n",
      "\n",
      "\n",
      "\n",
      "confusion matrix for logistic regression\n"
     ]
    },
    {
     "data": {
      "image/png": "[encoded data removed]",
      "text/plain": [
       "<Figure size 432x288 with 2 Axes>"
      ]
     },
     "metadata": {
      "needs_background": "light"
     },
     "output_type": "display_data"
    }
   ],
   "source": [
    "#logistic regression\n",
    "lr = LogisticRegression(max_iter=2000,penalty='l2')\n",
    "model1=lr.fit(x_train, y_train)\n",
    "print(\"train accuracy:\",model1.score(x_train, y_train),\"\\n\",\"test accuracy:\",model1.score(x_test,y_test))\n",
    "lrpred = lr.predict(x_test)\n",
    "print(\"\\n\")\n",
    "print(\"classification report for logistic regression\")\n",
    "print(classification_report(lrpred,y_test))\n",
    "print(\"\\n\")\n",
    "print(\"confusion matrix for logistic regression\")\n",
    "displr = plot_confusion_matrix(lr, x_test, y_test,cmap=plt.cm.Blues , values_format='d')"
   ]
  },
  {
   "cell_type": "markdown",
   "id": "3939f170",
   "metadata": {
    "papermill": {
     "duration": 0.142806,
     "end_time": "2022-01-19T04:27:12.931596",
     "exception": false,
     "start_time": "2022-01-19T04:27:12.788790",
     "status": "completed"
    },
    "tags": []
   },
   "source": [
    "#### <u> linear discriminant analysis</u>"
   ]
  },
  {
   "cell_type": "code",
   "execution_count": 60,
   "id": "2e1a4b0c",
   "metadata": {
    "_kg_hide-input": true,
    "execution": {
     "iopub.execute_input": "2022-01-19T04:27:13.229731Z",
     "iopub.status.busy": "2022-01-19T04:27:13.224036Z",
     "iopub.status.idle": "2022-01-19T04:27:13.428796Z",
     "shell.execute_reply": "2022-01-19T04:27:13.429722Z",
     "shell.execute_reply.started": "2021-12-30T12:31:19.598142Z"
    },
    "papermill": {
     "duration": 0.353895,
     "end_time": "2022-01-19T04:27:13.429968",
     "exception": false,
     "start_time": "2022-01-19T04:27:13.076073",
     "status": "completed"
    },
    "tags": []
   },
   "outputs": [
    {
     "name": "stdout",
     "output_type": "stream",
     "text": [
      "train accuracy: 0.7907303370786517 \n",
      " test accuracy: 0.8379888268156425\n",
      "\n",
      "\n",
      "classification report for linear discriminant analysis\n",
      "              precision    recall  f1-score   support\n",
      "\n",
      "           0       0.93      0.83      0.87       122\n",
      "           1       0.70      0.86      0.77        57\n",
      "\n",
      "    accuracy                           0.84       179\n",
      "   macro avg       0.81      0.84      0.82       179\n",
      "weighted avg       0.85      0.84      0.84       179\n",
      "\n",
      "\n",
      "\n",
      "confusion matrix for linear discriminant analysis\n"
     ]
    },
    {
     "data": {
      "image/png": "[encoded data removed]",
      "text/plain": [
       "<Figure size 432x288 with 2 Axes>"
      ]
     },
     "metadata": {
      "needs_background": "light"
     },
     "output_type": "display_data"
    }
   ],
   "source": [
    "#linear discriminant analysis\n",
    "lda = LinearDiscriminantAnalysis()\n",
    "model2=lda.fit(x_train, y_train)\n",
    "print(\"train accuracy:\",model2.score(x_train, y_train),\"\\n\",\"test accuracy:\",model2.score(x_test,y_test))\n",
    "\n",
    "ldapred = lda.predict(x_test)\n",
    "print(\"\\n\")\n",
    "print(\"classification report for linear discriminant analysis\")\n",
    "print(classification_report(ldapred,y_test))\n",
    "print(\"\\n\")\n",
    "print(\"confusion matrix for linear discriminant analysis\")\n",
    "displr = plot_confusion_matrix(lda, x_test, y_test ,cmap=plt.cm.Blues , values_format='d')"
   ]
  },
  {
   "cell_type": "markdown",
   "id": "f85d509a",
   "metadata": {
    "papermill": {
     "duration": 0.143369,
     "end_time": "2022-01-19T04:27:13.721772",
     "exception": false,
     "start_time": "2022-01-19T04:27:13.578403",
     "status": "completed"
    },
    "tags": []
   },
   "source": [
    "#### <u>decision tree classifier </u>"
   ]
  },
  {
   "cell_type": "code",
   "execution_count": 61,
   "id": "aed7832e",
   "metadata": {
    "_kg_hide-input": true,
    "execution": {
     "iopub.execute_input": "2022-01-19T04:27:14.024095Z",
     "iopub.status.busy": "2022-01-19T04:27:14.023366Z",
     "iopub.status.idle": "2022-01-19T04:27:14.284560Z",
     "shell.execute_reply": "2022-01-19T04:27:14.285082Z",
     "shell.execute_reply.started": "2021-12-30T12:31:19.855344Z"
    },
    "papermill": {
     "duration": 0.416168,
     "end_time": "2022-01-19T04:27:14.285256",
     "exception": false,
     "start_time": "2022-01-19T04:27:13.869088",
     "status": "completed"
    },
    "tags": []
   },
   "outputs": [
    {
     "name": "stdout",
     "output_type": "stream",
     "text": [
      "train accuracy: 0.9831460674157303 \n",
      " test accuracy: 0.8044692737430168\n",
      "\n",
      "\n",
      "classification report for decision tree classifier\n",
      "              precision    recall  f1-score   support\n",
      "\n",
      "           0       0.83      0.84      0.84       108\n",
      "           1       0.76      0.75      0.75        71\n",
      "\n",
      "    accuracy                           0.80       179\n",
      "   macro avg       0.80      0.79      0.80       179\n",
      "weighted avg       0.80      0.80      0.80       179\n",
      "\n",
      "\n",
      "\n",
      "confusion matrix for decision tree classifier\n"
     ]
    },
    {
     "data": {
      "image/png": "[encoded data removed]",
      "text/plain": [
       "<Figure size 432x288 with 2 Axes>"
      ]
     },
     "metadata": {
      "needs_background": "light"
     },
     "output_type": "display_data"
    }
   ],
   "source": [
    "#decision tree classifier\n",
    "dt=DecisionTreeClassifier()\n",
    "model3=dt.fit(x_train, y_train)\n",
    "print(\"train accuracy:\",model3.score(x_train, y_train),\"\\n\",\"test accuracy:\",model3.score(x_test,y_test))\n",
    "\n",
    "dtpred = dt.predict(x_test)\n",
    "print(\"\\n\")\n",
    "print(\"classification report for decision tree classifier\")\n",
    "print(classification_report(dtpred,y_test))\n",
    "print(\"\\n\")\n",
    "print(\"confusion matrix for decision tree classifier\")\n",
    "displr = plot_confusion_matrix(dt, x_test, y_test ,cmap=plt.cm.Blues , values_format='d')"
   ]
  },
  {
   "cell_type": "markdown",
   "id": "9f115c15",
   "metadata": {
    "papermill": {
     "duration": 0.146671,
     "end_time": "2022-01-19T04:27:14.578611",
     "exception": false,
     "start_time": "2022-01-19T04:27:14.431940",
     "status": "completed"
    },
    "tags": []
   },
   "source": [
    "#### <u>random forest classifier </u>"
   ]
  },
  {
   "cell_type": "code",
   "execution_count": 62,
   "id": "b6707b11",
   "metadata": {
    "_kg_hide-input": true,
    "execution": {
     "iopub.execute_input": "2022-01-19T04:27:14.879080Z",
     "iopub.status.busy": "2022-01-19T04:27:14.873657Z",
     "iopub.status.idle": "2022-01-19T04:27:15.432788Z",
     "shell.execute_reply": "2022-01-19T04:27:15.433292Z",
     "shell.execute_reply.started": "2021-12-30T12:31:20.121705Z"
    },
    "papermill": {
     "duration": 0.709066,
     "end_time": "2022-01-19T04:27:15.433489",
     "exception": false,
     "start_time": "2022-01-19T04:27:14.724423",
     "status": "completed"
    },
    "tags": []
   },
   "outputs": [
    {
     "name": "stdout",
     "output_type": "stream",
     "text": [
      "train accuracy: 0.9831460674157303 \n",
      " test accuracy: 0.8156424581005587\n",
      "\n",
      "\n",
      "classification report for random forest classifier\n",
      "              precision    recall  f1-score   support\n",
      "\n",
      "           0       0.86      0.84      0.85       112\n",
      "           1       0.74      0.78      0.76        67\n",
      "\n",
      "    accuracy                           0.82       179\n",
      "   macro avg       0.80      0.81      0.80       179\n",
      "weighted avg       0.82      0.82      0.82       179\n",
      "\n",
      "\n",
      "\n",
      "confusion matrix for random forest classifier\n"
     ]
    },
    {
     "data": {
      "image/png": "[encoded data removed]",
      "text/plain": [
       "<Figure size 432x288 with 2 Axes>"
      ]
     },
     "metadata": {
      "needs_background": "light"
     },
     "output_type": "display_data"
    }
   ],
   "source": [
    "#random forest classifier\n",
    "rf=RandomForestClassifier(random_state=1234)\n",
    "model4=rf.fit(x_train, y_train)\n",
    "print(\"train accuracy:\",model4.score(x_train, y_train),\"\\n\",\"test accuracy:\",model4.score(x_test,y_test))\n",
    "\n",
    "rfpred = rf.predict(x_test)\n",
    "print(\"\\n\")\n",
    "print(\"classification report for random forest classifier\")\n",
    "print(classification_report(rfpred,y_test))\n",
    "print(\"\\n\")\n",
    "print(\"confusion matrix for random forest classifier\")\n",
    "displr = plot_confusion_matrix(rf, x_test, y_test ,cmap=plt.cm.Blues , values_format='d')"
   ]
  },
  {
   "cell_type": "markdown",
   "id": "671abc47",
   "metadata": {
    "papermill": {
     "duration": 0.16044,
     "end_time": "2022-01-19T04:27:15.764725",
     "exception": false,
     "start_time": "2022-01-19T04:27:15.604285",
     "status": "completed"
    },
    "tags": []
   },
   "source": [
    "#### <u>gradient boost classifier  </u>"
   ]
  },
  {
   "cell_type": "code",
   "execution_count": 63,
   "id": "1346dd85",
   "metadata": {
    "_kg_hide-input": true,
    "execution": {
     "iopub.execute_input": "2022-01-19T04:27:16.088679Z",
     "iopub.status.busy": "2022-01-19T04:27:16.087929Z",
     "iopub.status.idle": "2022-01-19T04:27:16.463699Z",
     "shell.execute_reply": "2022-01-19T04:27:16.463120Z",
     "shell.execute_reply.started": "2021-12-30T12:31:20.658519Z"
    },
    "papermill": {
     "duration": 0.537474,
     "end_time": "2022-01-19T04:27:16.463874",
     "exception": false,
     "start_time": "2022-01-19T04:27:15.926400",
     "status": "completed"
    },
    "tags": []
   },
   "outputs": [
    {
     "name": "stdout",
     "output_type": "stream",
     "text": [
      "train accuracy: 0.9087078651685393 \n",
      " test accuracy: 0.8268156424581006\n",
      "\n",
      "\n",
      "classification report for gradient boosting classifier\n",
      "              precision    recall  f1-score   support\n",
      "\n",
      "           0       0.92      0.82      0.87       122\n",
      "           1       0.69      0.84      0.76        57\n",
      "\n",
      "    accuracy                           0.83       179\n",
      "   macro avg       0.80      0.83      0.81       179\n",
      "weighted avg       0.84      0.83      0.83       179\n",
      "\n",
      "\n",
      "\n",
      "confusion matrix for gradient boosting classifier\n"
     ]
    },
    {
     "data": {
      "image/png": "[encoded data removed]",
      "text/plain": [
       "<Figure size 432x288 with 2 Axes>"
      ]
     },
     "metadata": {
      "needs_background": "light"
     },
     "output_type": "display_data"
    }
   ],
   "source": [
    "# gradient boost classifier \n",
    "gbm=GradientBoostingClassifier()\n",
    "model5=gbm.fit(x_train, y_train)\n",
    "print(\"train accuracy:\",model5.score(x_train, y_train),\"\\n\",\"test accuracy:\",model5.score(x_test,y_test))\n",
    "\n",
    "gbmpred = gbm.predict(x_test)\n",
    "print(\"\\n\")\n",
    "print(\"classification report for gradient boosting classifier\")\n",
    "print(classification_report(gbmpred,y_test))\n",
    "print(\"\\n\")\n",
    "print(\"confusion matrix for gradient boosting classifier\")\n",
    "displr = plot_confusion_matrix(gbm, x_test, y_test ,cmap=plt.cm.Blues , values_format='d')"
   ]
  },
  {
   "cell_type": "markdown",
   "id": "bfec4b59",
   "metadata": {
    "papermill": {
     "duration": 0.158148,
     "end_time": "2022-01-19T04:27:16.776428",
     "exception": false,
     "start_time": "2022-01-19T04:27:16.618280",
     "status": "completed"
    },
    "tags": []
   },
   "source": [
    "#### <u>adaboost classifier  </u>"
   ]
  },
  {
   "cell_type": "code",
   "execution_count": 64,
   "id": "d4b4c01f",
   "metadata": {
    "_kg_hide-input": true,
    "execution": {
     "iopub.execute_input": "2022-01-19T04:27:17.094746Z",
     "iopub.status.busy": "2022-01-19T04:27:17.093969Z",
     "iopub.status.idle": "2022-01-19T04:27:17.494569Z",
     "shell.execute_reply": "2022-01-19T04:27:17.493958Z",
     "shell.execute_reply.started": "2021-12-30T12:31:21.020822Z"
    },
    "papermill": {
     "duration": 0.563396,
     "end_time": "2022-01-19T04:27:17.494725",
     "exception": false,
     "start_time": "2022-01-19T04:27:16.931329",
     "status": "completed"
    },
    "tags": []
   },
   "outputs": [
    {
     "name": "stdout",
     "output_type": "stream",
     "text": [
      "train accuracy: 0.8314606741573034 \n",
      " test accuracy: 0.8156424581005587\n",
      "\n",
      "\n",
      "classification report for adaboost classifier\n",
      "              precision    recall  f1-score   support\n",
      "\n",
      "           0       0.86      0.84      0.85       112\n",
      "           1       0.74      0.78      0.76        67\n",
      "\n",
      "    accuracy                           0.82       179\n",
      "   macro avg       0.80      0.81      0.80       179\n",
      "weighted avg       0.82      0.82      0.82       179\n",
      "\n",
      "\n",
      "\n",
      "confusion matrix for adaboost classifier\n"
     ]
    },
    {
     "data": {
      "image/png": "[encoded data removed]",
      "text/plain": [
       "<Figure size 432x288 with 2 Axes>"
      ]
     },
     "metadata": {
      "needs_background": "light"
     },
     "output_type": "display_data"
    }
   ],
   "source": [
    "# adaboost classifier \n",
    "ada=AdaBoostClassifier()\n",
    "model6=ada.fit(x_train, y_train)\n",
    "print(\"train accuracy:\",model6.score(x_train, y_train),\"\\n\",\"test accuracy:\",model6.score(x_test,y_test))\n",
    "\n",
    "adapred = ada.predict(x_test)\n",
    "print(\"\\n\")\n",
    "print(\"classification report for adaboost classifier\")\n",
    "print(classification_report(adapred,y_test))\n",
    "print(\"\\n\")\n",
    "print(\"confusion matrix for adaboost classifier\")\n",
    "displr = plot_confusion_matrix(ada, x_test, y_test ,cmap=plt.cm.Blues , values_format='d')"
   ]
  },
  {
   "cell_type": "markdown",
   "id": "08648205",
   "metadata": {
    "papermill": {
     "duration": 0.151158,
     "end_time": "2022-01-19T04:27:17.800413",
     "exception": false,
     "start_time": "2022-01-19T04:27:17.649255",
     "status": "completed"
    },
    "tags": []
   },
   "source": [
    "#### <u>extreme gradient boost classifier </u>"
   ]
  },
  {
   "cell_type": "code",
   "execution_count": 65,
   "id": "bfe5db0c",
   "metadata": {
    "_kg_hide-input": true,
    "execution": {
     "iopub.execute_input": "2022-01-19T04:27:18.111645Z",
     "iopub.status.busy": "2022-01-19T04:27:18.106600Z",
     "iopub.status.idle": "2022-01-19T04:27:18.892019Z",
     "shell.execute_reply": "2022-01-19T04:27:18.891343Z",
     "shell.execute_reply.started": "2021-12-30T12:31:21.428582Z"
    },
    "papermill": {
     "duration": 0.940758,
     "end_time": "2022-01-19T04:27:18.892177",
     "exception": false,
     "start_time": "2022-01-19T04:27:17.951419",
     "status": "completed"
    },
    "tags": []
   },
   "outputs": [
    {
     "name": "stdout",
     "output_type": "stream",
     "text": [
      "[04:27:18] WARNING: ../src/learner.cc:1115: Starting in XGBoost 1.3.0, the default evaluation metric used with the objective 'binary:logistic' was changed from 'error' to 'logloss'. Explicitly set eval_metric if you'd like to restore the old behavior.\n",
      "train accuracy: 0.9747191011235955 \n",
      " test accuracy: 0.8435754189944135\n",
      "\n",
      "\n",
      "classification report for extreme gradient boosting classifier\n",
      "              precision    recall  f1-score   support\n",
      "\n",
      "           0       0.87      0.87      0.87       109\n",
      "           1       0.80      0.80      0.80        70\n",
      "\n",
      "    accuracy                           0.84       179\n",
      "   macro avg       0.84      0.84      0.84       179\n",
      "weighted avg       0.84      0.84      0.84       179\n",
      "\n",
      "\n",
      "\n",
      "confusion matrix for extreme gradient boosting classifier\n"
     ]
    },
    {
     "data": {
      "image/png": "[encoded data removed]",
      "text/plain": [
       "<Figure size 432x288 with 2 Axes>"
      ]
     },
     "metadata": {
      "needs_background": "light"
     },
     "output_type": "display_data"
    }
   ],
   "source": [
    "# extreme gradient boost classifier\n",
    "xgb = XGBClassifier(random_state=1234)\n",
    "model7=xgb.fit(x_train.values, y_train)\n",
    "print(\"train accuracy:\",model7.score(x_train, y_train),\"\\n\",\"test accuracy:\",model7.score(x_test,y_test))\n",
    "\n",
    "xgbpred = xgb.predict(x_test.values)\n",
    "print(\"\\n\")\n",
    "print(\"classification report for extreme gradient boosting classifier\")\n",
    "print(classification_report(xgbpred,y_test))\n",
    "print(\"\\n\")\n",
    "print(\"confusion matrix for extreme gradient boosting classifier\")\n",
    "displr = plot_confusion_matrix(xgb, x_test.values, y_test ,cmap=plt.cm.Blues , values_format='d')"
   ]
  },
  {
   "cell_type": "markdown",
   "id": "3d21ede9",
   "metadata": {
    "papermill": {
     "duration": 0.154848,
     "end_time": "2022-01-19T04:27:19.199522",
     "exception": false,
     "start_time": "2022-01-19T04:27:19.044674",
     "status": "completed"
    },
    "tags": []
   },
   "source": [
    "#### <u>extra tree classifier</u>"
   ]
  },
  {
   "cell_type": "code",
   "execution_count": 66,
   "id": "b3d68cd7",
   "metadata": {
    "_kg_hide-input": true,
    "execution": {
     "iopub.execute_input": "2022-01-19T04:27:19.510802Z",
     "iopub.status.busy": "2022-01-19T04:27:19.510092Z",
     "iopub.status.idle": "2022-01-19T04:27:19.999441Z",
     "shell.execute_reply": "2022-01-19T04:27:19.999921Z",
     "shell.execute_reply.started": "2021-12-30T12:31:22.166735Z"
    },
    "papermill": {
     "duration": 0.648836,
     "end_time": "2022-01-19T04:27:20.000103",
     "exception": false,
     "start_time": "2022-01-19T04:27:19.351267",
     "status": "completed"
    },
    "tags": []
   },
   "outputs": [
    {
     "name": "stdout",
     "output_type": "stream",
     "text": [
      "train accuracy: 0.9831460674157303 \n",
      " test accuracy: 0.8156424581005587\n",
      "\n",
      "\n",
      "classification report for extra tree classifier\n",
      "              precision    recall  f1-score   support\n",
      "\n",
      "           0       0.86      0.84      0.85       112\n",
      "           1       0.74      0.78      0.76        67\n",
      "\n",
      "    accuracy                           0.82       179\n",
      "   macro avg       0.80      0.81      0.80       179\n",
      "weighted avg       0.82      0.82      0.82       179\n",
      "\n",
      "\n",
      "\n",
      "confusion matrix for extra tree classifier\n"
     ]
    },
    {
     "data": {
      "image/png": "[encoded data removed]",
      "text/plain": [
       "<Figure size 432x288 with 2 Axes>"
      ]
     },
     "metadata": {
      "needs_background": "light"
     },
     "output_type": "display_data"
    }
   ],
   "source": [
    "# extra tree classifier\n",
    "extree = ExtraTreesClassifier()\n",
    "model8=extree.fit(x_train, y_train)\n",
    "print(\"train accuracy:\",model8.score(x_train, y_train),\"\\n\",\"test accuracy:\",model8.score(x_test,y_test))\n",
    "\n",
    "extpred = extree.predict(x_test)\n",
    "print(\"\\n\")\n",
    "print(\"classification report for extra tree classifier\")\n",
    "print(classification_report(extpred,y_test))\n",
    "print(\"\\n\")\n",
    "print(\"confusion matrix for extra tree classifier\")\n",
    "displr = plot_confusion_matrix(extree, x_test, y_test ,cmap=plt.cm.Blues , values_format='d')"
   ]
  },
  {
   "cell_type": "markdown",
   "id": "d4291093",
   "metadata": {
    "papermill": {
     "duration": 0.152329,
     "end_time": "2022-01-19T04:27:20.305569",
     "exception": false,
     "start_time": "2022-01-19T04:27:20.153240",
     "status": "completed"
    },
    "tags": []
   },
   "source": [
    "#### <u>voting classifier</u>"
   ]
  },
  {
   "cell_type": "code",
   "execution_count": 67,
   "id": "5b28337f",
   "metadata": {
    "_kg_hide-input": true,
    "execution": {
     "iopub.execute_input": "2022-01-19T04:27:20.613628Z",
     "iopub.status.busy": "2022-01-19T04:27:20.612986Z",
     "iopub.status.idle": "2022-01-19T04:27:21.206245Z",
     "shell.execute_reply": "2022-01-19T04:27:21.206758Z",
     "shell.execute_reply.started": "2021-12-30T12:31:22.6602Z"
    },
    "papermill": {
     "duration": 0.749322,
     "end_time": "2022-01-19T04:27:21.206932",
     "exception": false,
     "start_time": "2022-01-19T04:27:20.457610",
     "status": "completed"
    },
    "tags": []
   },
   "outputs": [
    {
     "name": "stdout",
     "output_type": "stream",
     "text": [
      "train accuracy: 0.9269662921348315 \n",
      " test accuracy: 0.8659217877094972\n",
      "\n",
      "\n",
      "classification report for voting classifier\n",
      "              precision    recall  f1-score   support\n",
      "\n",
      "           0       0.93      0.86      0.89       117\n",
      "           1       0.77      0.87      0.82        62\n",
      "\n",
      "    accuracy                           0.87       179\n",
      "   macro avg       0.85      0.87      0.86       179\n",
      "weighted avg       0.87      0.87      0.87       179\n",
      "\n",
      "\n",
      "\n",
      "confusion matrix for voting classifier\n"
     ]
    },
    {
     "data": {
      "image/png": "[encoded data removed]",
      "text/plain": [
       "<Figure size 432x288 with 2 Axes>"
      ]
     },
     "metadata": {
      "needs_background": "light"
     },
     "output_type": "display_data"
    }
   ],
   "source": [
    "# voting classifer\n",
    "from sklearn.ensemble import VotingClassifier\n",
    "clf1 = RandomForestClassifier(random_state=1234)\n",
    "clf2 = LogisticRegression(max_iter=2000,penalty='l2')\n",
    "\n",
    "vc = VotingClassifier(estimators=[('xgb', clf1),('lr', clf2)], voting='soft')\n",
    "model9=vc.fit(x_train, y_train)\n",
    "print(\"train accuracy:\",model9.score(x_train, y_train),\"\\n\",\"test accuracy:\",model9.score(x_test,y_test))\n",
    "\n",
    "vcpred = vc.predict(x_test)\n",
    "print(\"\\n\")\n",
    "print(\"classification report for voting classifier\")\n",
    "print(classification_report(vcpred,y_test))\n",
    "print(\"\\n\")\n",
    "print(\"confusion matrix for voting classifier\")\n",
    "displr = plot_confusion_matrix(vc, x_test, y_test ,cmap=plt.cm.Blues, values_format='d')"
   ]
  },
  {
   "cell_type": "markdown",
   "id": "a8d9b58a",
   "metadata": {
    "papermill": {
     "duration": 0.15188,
     "end_time": "2022-01-19T04:27:21.513085",
     "exception": false,
     "start_time": "2022-01-19T04:27:21.361205",
     "status": "completed"
    },
    "tags": []
   },
   "source": [
    "#### <u>stacking classifier</u>"
   ]
  },
  {
   "cell_type": "code",
   "execution_count": 68,
   "id": "02756494",
   "metadata": {
    "_kg_hide-input": true,
    "execution": {
     "iopub.execute_input": "2022-01-19T04:27:21.825293Z",
     "iopub.status.busy": "2022-01-19T04:27:21.824588Z",
     "iopub.status.idle": "2022-01-19T04:27:23.899428Z",
     "shell.execute_reply": "2022-01-19T04:27:23.899949Z",
     "shell.execute_reply.started": "2021-12-30T12:31:23.24005Z"
    },
    "papermill": {
     "duration": 2.234662,
     "end_time": "2022-01-19T04:27:23.900118",
     "exception": false,
     "start_time": "2022-01-19T04:27:21.665456",
     "status": "completed"
    },
    "tags": []
   },
   "outputs": [
    {
     "name": "stdout",
     "output_type": "stream",
     "text": [
      "train accuracy: 0.9466292134831461 \n",
      " test accuracy: 0.8715083798882681\n",
      "\n",
      "\n",
      "classification report for voting classifier\n",
      "              precision    recall  f1-score   support\n",
      "\n",
      "           0       0.94      0.86      0.90       118\n",
      "           1       0.77      0.89      0.82        61\n",
      "\n",
      "    accuracy                           0.87       179\n",
      "   macro avg       0.85      0.87      0.86       179\n",
      "weighted avg       0.88      0.87      0.87       179\n",
      "\n",
      "\n",
      "\n",
      "confusion matrix for voting classifier\n"
     ]
    },
    {
     "data": {
      "image/png": "[encoded data removed]",
      "text/plain": [
       "<Figure size 432x288 with 2 Axes>"
      ]
     },
     "metadata": {
      "needs_background": "light"
     },
     "output_type": "display_data"
    }
   ],
   "source": [
    "# stacking classifier \n",
    "from sklearn.ensemble import StackingClassifier\n",
    "from sklearn.pipeline import make_pipeline\n",
    "from sklearn.preprocessing import StandardScaler\n",
    "\n",
    "estimators = [('rf', RandomForestClassifier(random_state=1234)),('ext', make_pipeline(LogisticRegression(max_iter=2000,penalty='l2')))]\n",
    "sc= StackingClassifier( estimators=estimators)\n",
    "\n",
    "model10=sc.fit(x_train, y_train)\n",
    "print(\"train accuracy:\",model10.score(x_train, y_train),\"\\n\",\"test accuracy:\",model10.score(x_test,y_test))\n",
    "\n",
    "scpred = sc.predict(x_test)\n",
    "print(\"\\n\")\n",
    "print(\"classification report for voting classifier\")\n",
    "print(classification_report(scpred,y_test))\n",
    "print(\"\\n\")\n",
    "print(\"confusion matrix for voting classifier\")\n",
    "displr = plot_confusion_matrix(sc, x_test, y_test ,cmap=plt.cm.Blues , values_format='d')"
   ]
  },
  {
   "cell_type": "markdown",
   "id": "e44c5649",
   "metadata": {
    "papermill": {
     "duration": 0.153388,
     "end_time": "2022-01-19T04:27:24.210783",
     "exception": false,
     "start_time": "2022-01-19T04:27:24.057395",
     "status": "completed"
    },
    "tags": []
   },
   "source": [
    "#### <u>catboost classifier</u>"
   ]
  },
  {
   "cell_type": "code",
   "execution_count": 69,
   "id": "3bf55736",
   "metadata": {
    "_kg_hide-input": true,
    "execution": {
     "iopub.execute_input": "2022-01-19T04:27:24.521018Z",
     "iopub.status.busy": "2022-01-19T04:27:24.520270Z",
     "iopub.status.idle": "2022-01-19T04:27:25.992381Z",
     "shell.execute_reply": "2022-01-19T04:27:25.993002Z",
     "shell.execute_reply.started": "2021-12-30T12:31:25.2892Z"
    },
    "papermill": {
     "duration": 1.629724,
     "end_time": "2022-01-19T04:27:25.993177",
     "exception": false,
     "start_time": "2022-01-19T04:27:24.363453",
     "status": "completed"
    },
    "tags": []
   },
   "outputs": [
    {
     "name": "stdout",
     "output_type": "stream",
     "text": [
      "train accuracy: 0.9044943820224719 \n",
      " test accuracy: 0.8547486033519553\n",
      "\n",
      "\n",
      "classification report for extra tree classifier\n",
      "              precision    recall  f1-score   support\n",
      "\n",
      "           0       0.94      0.84      0.89       121\n",
      "           1       0.73      0.88      0.80        58\n",
      "\n",
      "    accuracy                           0.85       179\n",
      "   macro avg       0.83      0.86      0.84       179\n",
      "weighted avg       0.87      0.85      0.86       179\n",
      "\n",
      "\n",
      "\n",
      "confusion matrix for extra tree classifier\n"
     ]
    },
    {
     "data": {
      "image/png": "[encoded data removed]",
      "text/plain": [
       "<Figure size 432x288 with 2 Axes>"
      ]
     },
     "metadata": {
      "needs_background": "light"
     },
     "output_type": "display_data"
    }
   ],
   "source": [
    "from catboost import CatBoostClassifier\n",
    "\n",
    "cc = CatBoostClassifier(silent=True )\n",
    "model11=cc.fit(x_train, y_train)\n",
    "print(\"train accuracy:\",model11.score(x_train, y_train),\"\\n\",\"test accuracy:\",model11.score(x_test,y_test))\n",
    "\n",
    "ccpred = cc.predict(x_test)\n",
    "print(\"\\n\")\n",
    "print(\"classification report for extra tree classifier\")\n",
    "print(classification_report(ccpred,y_test))\n",
    "print(\"\\n\")\n",
    "print(\"confusion matrix for extra tree classifier\")\n",
    "displr = plot_confusion_matrix(cc, x_test, y_test ,cmap=plt.cm.Blues , values_format='d')"
   ]
  },
  {
   "cell_type": "markdown",
   "id": "676b57d8",
   "metadata": {
    "papermill": {
     "duration": 0.157654,
     "end_time": "2022-01-19T04:27:26.307517",
     "exception": false,
     "start_time": "2022-01-19T04:27:26.149863",
     "status": "completed"
    },
    "tags": []
   },
   "source": [
    "## <p style=\"background-color:#BCDBF9;color:black;font-size:19px;text-align:center;border-radius:12px 10px;border:2px solid blue;\"> 🌌 resampling with SMOTE</p>\n",
    "\n",
    "<font size=\"4\" color=\"black\"> The response variable is imbalanced hence I will use SMOTE to resample the dataset. </font>"
   ]
  },
  {
   "cell_type": "code",
   "execution_count": 70,
   "id": "9fb05a32",
   "metadata": {
    "execution": {
     "iopub.execute_input": "2022-01-19T04:27:26.621588Z",
     "iopub.status.busy": "2022-01-19T04:27:26.620951Z",
     "iopub.status.idle": "2022-01-19T04:27:26.737638Z",
     "shell.execute_reply": "2022-01-19T04:27:26.737000Z",
     "shell.execute_reply.started": "2021-12-30T12:31:26.710211Z"
    },
    "papermill": {
     "duration": 0.275038,
     "end_time": "2022-01-19T04:27:26.737801",
     "exception": false,
     "start_time": "2022-01-19T04:27:26.462763",
     "status": "completed"
    },
    "tags": []
   },
   "outputs": [],
   "source": [
    "from imblearn.over_sampling import SMOTE\n",
    "\n",
    "oversample = SMOTE()\n",
    "x_train1, y_train1 = oversample.fit_resample(x_train, y_train)"
   ]
  },
  {
   "cell_type": "markdown",
   "id": "7c3a4a72",
   "metadata": {
    "_kg_hide-input": true,
    "papermill": {
     "duration": 0.155918,
     "end_time": "2022-01-19T04:27:27.048374",
     "exception": false,
     "start_time": "2022-01-19T04:27:26.892456",
     "status": "completed"
    },
    "tags": []
   },
   "source": [
    "#### response variable after oversampling"
   ]
  },
  {
   "cell_type": "code",
   "execution_count": 71,
   "id": "a4e93898",
   "metadata": {
    "_kg_hide-input": true,
    "execution": {
     "iopub.execute_input": "2022-01-19T04:27:27.363809Z",
     "iopub.status.busy": "2022-01-19T04:27:27.362852Z",
     "iopub.status.idle": "2022-01-19T04:27:27.532027Z",
     "shell.execute_reply": "2022-01-19T04:27:27.530998Z",
     "shell.execute_reply.started": "2021-12-30T12:31:26.835024Z"
    },
    "papermill": {
     "duration": 0.327443,
     "end_time": "2022-01-19T04:27:27.532175",
     "exception": false,
     "start_time": "2022-01-19T04:27:27.204732",
     "status": "completed"
    },
    "tags": []
   },
   "outputs": [
    {
     "data": {
      "text/plain": [
       "<AxesSubplot:xlabel='Survived', ylabel='count'>"
      ]
     },
     "execution_count": 71,
     "metadata": {},
     "output_type": "execute_result"
    },
    {
     "data": {
      "image/png": "[encoded data removed]",
      "text/plain": [
       "<Figure size 432x288 with 1 Axes>"
      ]
     },
     "metadata": {
      "needs_background": "light"
     },
     "output_type": "display_data"
    }
   ],
   "source": [
    "sns.countplot(y_train1,palette='Blues')"
   ]
  },
  {
   "cell_type": "markdown",
   "id": "bbc23eee",
   "metadata": {
    "papermill": {
     "duration": 0.156246,
     "end_time": "2022-01-19T04:27:27.845732",
     "exception": false,
     "start_time": "2022-01-19T04:27:27.689486",
     "status": "completed"
    },
    "tags": []
   },
   "source": [
    "#### <u>logistic regression with resampling</u>"
   ]
  },
  {
   "cell_type": "code",
   "execution_count": 72,
   "id": "39f5d83e",
   "metadata": {
    "_kg_hide-input": true,
    "execution": {
     "iopub.execute_input": "2022-01-19T04:27:28.170291Z",
     "iopub.status.busy": "2022-01-19T04:27:28.164457Z",
     "iopub.status.idle": "2022-01-19T04:27:28.490491Z",
     "shell.execute_reply": "2022-01-19T04:27:28.489909Z",
     "shell.execute_reply.started": "2021-12-30T12:31:27.009347Z"
    },
    "papermill": {
     "duration": 0.486539,
     "end_time": "2022-01-19T04:27:28.490630",
     "exception": false,
     "start_time": "2022-01-19T04:27:28.004091",
     "status": "completed"
    },
    "tags": []
   },
   "outputs": [
    {
     "name": "stdout",
     "output_type": "stream",
     "text": [
      "train accuracy: 0.8 \n",
      " test accuracy: 0.8324022346368715\n",
      "\n",
      "\n",
      "classification report for logistic regression\n",
      "              precision    recall  f1-score   support\n",
      "\n",
      "           0       0.88      0.85      0.86       113\n",
      "           1       0.76      0.80      0.78        66\n",
      "\n",
      "    accuracy                           0.83       179\n",
      "   macro avg       0.82      0.83      0.82       179\n",
      "weighted avg       0.84      0.83      0.83       179\n",
      "\n",
      "\n",
      "\n",
      "confusion matrix for logistic regression\n"
     ]
    },
    {
     "data": {
      "image/png": "[encoded data removed]",
      "text/plain": [
       "<Figure size 432x288 with 2 Axes>"
      ]
     },
     "metadata": {
      "needs_background": "light"
     },
     "output_type": "display_data"
    }
   ],
   "source": [
    "#logistic regression with resampling\n",
    "lrw = LogisticRegression(max_iter=20000,penalty='l2')\n",
    "model12=lrw.fit(x_train1, y_train1)\n",
    "print(\"train accuracy:\",model12.score(x_train1, y_train1),\"\\n\",\"test accuracy:\",model12.score(x_test,y_test))\n",
    "lrwpred = lrw.predict(x_test)\n",
    "print(\"\\n\")\n",
    "print(\"classification report for logistic regression\")\n",
    "print(classification_report(lrwpred,y_test))\n",
    "print(\"\\n\")\n",
    "print(\"confusion matrix for logistic regression\")\n",
    "displr = plot_confusion_matrix(lrw, x_test, y_test ,cmap=plt.cm.Blues , values_format='d')"
   ]
  },
  {
   "cell_type": "markdown",
   "id": "a89ce28e",
   "metadata": {
    "papermill": {
     "duration": 0.159558,
     "end_time": "2022-01-19T04:27:28.807007",
     "exception": false,
     "start_time": "2022-01-19T04:27:28.647449",
     "status": "completed"
    },
    "tags": []
   },
   "source": [
    "#### <u>linear discriminant analysis with resampling</u>"
   ]
  },
  {
   "cell_type": "code",
   "execution_count": 73,
   "id": "beb40f9f",
   "metadata": {
    "_kg_hide-input": true,
    "execution": {
     "iopub.execute_input": "2022-01-19T04:27:29.137421Z",
     "iopub.status.busy": "2022-01-19T04:27:29.136727Z",
     "iopub.status.idle": "2022-01-19T04:27:29.402304Z",
     "shell.execute_reply": "2022-01-19T04:27:29.401789Z",
     "shell.execute_reply.started": "2021-12-30T12:31:27.334933Z"
    },
    "papermill": {
     "duration": 0.435623,
     "end_time": "2022-01-19T04:27:29.402454",
     "exception": false,
     "start_time": "2022-01-19T04:27:28.966831",
     "status": "completed"
    },
    "tags": []
   },
   "outputs": [
    {
     "name": "stdout",
     "output_type": "stream",
     "text": [
      "train accuracy: 0.8011363636363636 \n",
      " test accuracy: 0.8156424581005587\n",
      "\n",
      "\n",
      "classification report for linear discriminant analysis\n",
      "              precision    recall  f1-score   support\n",
      "\n",
      "           0       0.89      0.82      0.85       118\n",
      "           1       0.70      0.80      0.75        61\n",
      "\n",
      "    accuracy                           0.82       179\n",
      "   macro avg       0.79      0.81      0.80       179\n",
      "weighted avg       0.83      0.82      0.82       179\n",
      "\n",
      "\n",
      "\n",
      "confusion matrix for linear discriminant analysis\n"
     ]
    },
    {
     "data": {
      "image/png": "[encoded data removed]",
      "text/plain": [
       "<Figure size 432x288 with 2 Axes>"
      ]
     },
     "metadata": {
      "needs_background": "light"
     },
     "output_type": "display_data"
    }
   ],
   "source": [
    "#linear discriminant analysis\n",
    "ldaw = LinearDiscriminantAnalysis()\n",
    "model13=ldaw.fit(x_train1, y_train1)\n",
    "print(\"train accuracy:\",model13.score(x_train1, y_train1),\"\\n\",\"test accuracy:\",model13.score(x_test,y_test))\n",
    "\n",
    "ldawpred = ldaw.predict(x_test)\n",
    "print(\"\\n\")\n",
    "print(\"classification report for linear discriminant analysis\")\n",
    "print(classification_report(ldawpred,y_test))\n",
    "print(\"\\n\")\n",
    "print(\"confusion matrix for linear discriminant analysis\")\n",
    "displr = plot_confusion_matrix(ldaw, x_test, y_test ,cmap=plt.cm.Blues , values_format='d')"
   ]
  },
  {
   "cell_type": "markdown",
   "id": "5c0d6d3e",
   "metadata": {
    "papermill": {
     "duration": 0.158415,
     "end_time": "2022-01-19T04:27:29.717647",
     "exception": false,
     "start_time": "2022-01-19T04:27:29.559232",
     "status": "completed"
    },
    "tags": []
   },
   "source": [
    "#### <u>decision tree classifier with resampling</u>"
   ]
  },
  {
   "cell_type": "code",
   "execution_count": 74,
   "id": "af3a336a",
   "metadata": {
    "_kg_hide-input": true,
    "execution": {
     "iopub.execute_input": "2022-01-19T04:27:30.042796Z",
     "iopub.status.busy": "2022-01-19T04:27:30.042141Z",
     "iopub.status.idle": "2022-01-19T04:27:30.312740Z",
     "shell.execute_reply": "2022-01-19T04:27:30.312223Z",
     "shell.execute_reply.started": "2021-12-30T12:31:27.607842Z"
    },
    "papermill": {
     "duration": 0.43569,
     "end_time": "2022-01-19T04:27:30.312890",
     "exception": false,
     "start_time": "2022-01-19T04:27:29.877200",
     "status": "completed"
    },
    "tags": []
   },
   "outputs": [
    {
     "name": "stdout",
     "output_type": "stream",
     "text": [
      "train accuracy: 0.9863636363636363 \n",
      " test accuracy: 0.7988826815642458\n",
      "\n",
      "\n",
      "classification report for decision tree classifier\n",
      "              precision    recall  f1-score   support\n",
      "\n",
      "           0       0.85      0.82      0.84       113\n",
      "           1       0.71      0.76      0.74        66\n",
      "\n",
      "    accuracy                           0.80       179\n",
      "   macro avg       0.78      0.79      0.79       179\n",
      "weighted avg       0.80      0.80      0.80       179\n",
      "\n",
      "\n",
      "\n",
      "confusion matrix for decision tree classifier\n"
     ]
    },
    {
     "data": {
      "image/png": "[encoded data removed]",
      "text/plain": [
       "<Figure size 432x288 with 2 Axes>"
      ]
     },
     "metadata": {
      "needs_background": "light"
     },
     "output_type": "display_data"
    }
   ],
   "source": [
    "#decision tree classifier\n",
    "dtw=DecisionTreeClassifier()\n",
    "model14=dtw.fit(x_train1, y_train1)\n",
    "print(\"train accuracy:\",model14.score(x_train1, y_train1),\"\\n\",\"test accuracy:\",model14.score(x_test,y_test))\n",
    "\n",
    "dtwpred = dtw.predict(x_test)\n",
    "print(\"\\n\")\n",
    "print(\"classification report for decision tree classifier\")\n",
    "print(classification_report(dtwpred,y_test))\n",
    "print(\"\\n\")\n",
    "print(\"confusion matrix for decision tree classifier\")\n",
    "displr = plot_confusion_matrix(dtw, x_test, y_test ,cmap=plt.cm.Blues , values_format='d')"
   ]
  },
  {
   "cell_type": "markdown",
   "id": "ec90bb16",
   "metadata": {
    "papermill": {
     "duration": 0.158238,
     "end_time": "2022-01-19T04:27:30.632110",
     "exception": false,
     "start_time": "2022-01-19T04:27:30.473872",
     "status": "completed"
    },
    "tags": []
   },
   "source": [
    "#### <u>RandomForest Classifier with resampling</u>"
   ]
  },
  {
   "cell_type": "code",
   "execution_count": 75,
   "id": "cd9c262f",
   "metadata": {
    "_kg_hide-input": true,
    "execution": {
     "iopub.execute_input": "2022-01-19T04:27:31.000831Z",
     "iopub.status.busy": "2022-01-19T04:27:30.964550Z",
     "iopub.status.idle": "2022-01-19T04:27:31.465572Z",
     "shell.execute_reply": "2022-01-19T04:27:31.465001Z",
     "shell.execute_reply.started": "2021-12-30T12:31:27.879429Z"
    },
    "papermill": {
     "duration": 0.672458,
     "end_time": "2022-01-19T04:27:31.465712",
     "exception": false,
     "start_time": "2022-01-19T04:27:30.793254",
     "status": "completed"
    },
    "tags": []
   },
   "outputs": [
    {
     "name": "stdout",
     "output_type": "stream",
     "text": [
      "train accuracy: 0.9863636363636363 \n",
      " test accuracy: 0.8268156424581006\n",
      "\n",
      "\n",
      "classification report for random forest classifier\n",
      "              precision    recall  f1-score   support\n",
      "\n",
      "           0       0.86      0.85      0.86       110\n",
      "           1       0.77      0.78      0.78        69\n",
      "\n",
      "    accuracy                           0.83       179\n",
      "   macro avg       0.82      0.82      0.82       179\n",
      "weighted avg       0.83      0.83      0.83       179\n",
      "\n",
      "\n",
      "\n",
      "confusion matrix for random forest classifier\n"
     ]
    },
    {
     "data": {
      "image/png": "[encoded data removed]",
      "text/plain": [
       "<Figure size 432x288 with 2 Axes>"
      ]
     },
     "metadata": {
      "needs_background": "light"
     },
     "output_type": "display_data"
    }
   ],
   "source": [
    "rfw=RandomForestClassifier()\n",
    "model15=rfw.fit(x_train1, y_train1)\n",
    "print(\"train accuracy:\",model15.score(x_train1, y_train1),\"\\n\",\"test accuracy:\",model15.score(x_test,y_test))\n",
    "\n",
    "rfwpred = rfw.predict(x_test)\n",
    "print(\"\\n\")\n",
    "print(\"classification report for random forest classifier\")\n",
    "print(classification_report(rfwpred,y_test))\n",
    "print(\"\\n\")\n",
    "print(\"confusion matrix for random forest classifier\")\n",
    "displr = plot_confusion_matrix(rfw, x_test, y_test ,cmap=plt.cm.Blues, values_format='d')"
   ]
  },
  {
   "cell_type": "markdown",
   "id": "abd4b8aa",
   "metadata": {
    "papermill": {
     "duration": 0.160681,
     "end_time": "2022-01-19T04:27:31.787663",
     "exception": false,
     "start_time": "2022-01-19T04:27:31.626982",
     "status": "completed"
    },
    "tags": []
   },
   "source": [
    "#### <u>Bagging Classifier with resampling</u>"
   ]
  },
  {
   "cell_type": "code",
   "execution_count": 76,
   "id": "885ae647",
   "metadata": {
    "_kg_hide-input": true,
    "execution": {
     "iopub.execute_input": "2022-01-19T04:27:32.128553Z",
     "iopub.status.busy": "2022-01-19T04:27:32.127495Z",
     "iopub.status.idle": "2022-01-19T04:27:32.431248Z",
     "shell.execute_reply": "2022-01-19T04:27:32.430747Z",
     "shell.execute_reply.started": "2021-12-30T12:31:28.428599Z"
    },
    "papermill": {
     "duration": 0.476518,
     "end_time": "2022-01-19T04:27:32.431403",
     "exception": false,
     "start_time": "2022-01-19T04:27:31.954885",
     "status": "completed"
    },
    "tags": []
   },
   "outputs": [
    {
     "name": "stdout",
     "output_type": "stream",
     "text": [
      "train accuracy: 0.975 \n",
      " test accuracy: 0.8324022346368715\n",
      "\n",
      "\n",
      "classification report for bagging classifier\n",
      "              precision    recall  f1-score   support\n",
      "\n",
      "           0       0.87      0.86      0.86       111\n",
      "           1       0.77      0.79      0.78        68\n",
      "\n",
      "    accuracy                           0.83       179\n",
      "   macro avg       0.82      0.82      0.82       179\n",
      "weighted avg       0.83      0.83      0.83       179\n",
      "\n",
      "\n",
      "\n",
      "confusion matrix for bagging classifier\n"
     ]
    },
    {
     "data": {
      "image/png": "[encoded data removed]",
      "text/plain": [
       "<Figure size 432x288 with 2 Axes>"
      ]
     },
     "metadata": {
      "needs_background": "light"
     },
     "output_type": "display_data"
    }
   ],
   "source": [
    "bgw=BaggingClassifier()\n",
    "model16=bgw.fit(x_train1, y_train1)\n",
    "print(\"train accuracy:\",model16.score(x_train1, y_train1),\"\\n\",\"test accuracy:\",model16.score(x_test,y_test))\n",
    "\n",
    "bgwpred = bgw.predict(x_test)\n",
    "print(\"\\n\")\n",
    "print(\"classification report for bagging classifier\")\n",
    "print(classification_report(bgwpred,y_test))\n",
    "print(\"\\n\")\n",
    "print(\"confusion matrix for bagging classifier\")\n",
    "displr = plot_confusion_matrix(bgw, x_test, y_test ,cmap=plt.cm.Blues , values_format='d')"
   ]
  },
  {
   "cell_type": "markdown",
   "id": "d8653640",
   "metadata": {
    "papermill": {
     "duration": 0.160238,
     "end_time": "2022-01-19T04:27:32.753144",
     "exception": false,
     "start_time": "2022-01-19T04:27:32.592906",
     "status": "completed"
    },
    "tags": []
   },
   "source": [
    "#### <u>Gradient boosting classifier with resampling</u>"
   ]
  },
  {
   "cell_type": "code",
   "execution_count": 77,
   "id": "ff660b09",
   "metadata": {
    "_kg_hide-input": true,
    "execution": {
     "iopub.execute_input": "2022-01-19T04:27:33.100818Z",
     "iopub.status.busy": "2022-01-19T04:27:33.100133Z",
     "iopub.status.idle": "2022-01-19T04:27:33.714865Z",
     "shell.execute_reply": "2022-01-19T04:27:33.714339Z",
     "shell.execute_reply.started": "2021-12-30T12:31:28.742716Z"
    },
    "papermill": {
     "duration": 0.796209,
     "end_time": "2022-01-19T04:27:33.715003",
     "exception": false,
     "start_time": "2022-01-19T04:27:32.918794",
     "status": "completed"
    },
    "tags": []
   },
   "outputs": [
    {
     "name": "stdout",
     "output_type": "stream",
     "text": [
      "train accuracy: 0.9034090909090909 \n",
      " test accuracy: 0.8324022346368715\n",
      "\n",
      "\n",
      "classification report for gradient boosting classifier\n",
      "              precision    recall  f1-score   support\n",
      "\n",
      "           0       0.89      0.84      0.87       115\n",
      "           1       0.74      0.81      0.78        64\n",
      "\n",
      "    accuracy                           0.83       179\n",
      "   macro avg       0.82      0.83      0.82       179\n",
      "weighted avg       0.84      0.83      0.83       179\n",
      "\n",
      "\n",
      "\n",
      "confusion matrix for gradient boosting classifier\n"
     ]
    },
    {
     "data": {
      "image/png": "[encoded data removed]",
      "text/plain": [
       "<Figure size 432x288 with 2 Axes>"
      ]
     },
     "metadata": {
      "needs_background": "light"
     },
     "output_type": "display_data"
    }
   ],
   "source": [
    "gbmw=GradientBoostingClassifier()\n",
    "model17=gbmw.fit(x_train1, y_train1)\n",
    "print(\"train accuracy:\",model17.score(x_train1, y_train1),\"\\n\",\"test accuracy:\",model17.score(x_test,y_test))\n",
    "\n",
    "gbmwpred = gbmw.predict(x_test)\n",
    "print(\"\\n\")\n",
    "print(\"classification report for gradient boosting classifier\")\n",
    "print(classification_report(gbmwpred,y_test))\n",
    "print(\"\\n\")\n",
    "print(\"confusion matrix for gradient boosting classifier\")\n",
    "displr = plot_confusion_matrix(gbmw, x_test, y_test ,cmap=plt.cm.Blues, values_format='d')"
   ]
  },
  {
   "cell_type": "markdown",
   "id": "28bf1fa8",
   "metadata": {
    "papermill": {
     "duration": 0.167232,
     "end_time": "2022-01-19T04:27:34.049933",
     "exception": false,
     "start_time": "2022-01-19T04:27:33.882701",
     "status": "completed"
    },
    "tags": []
   },
   "source": [
    "#### <u>Ada boosting classifier with resampling</u>"
   ]
  },
  {
   "cell_type": "code",
   "execution_count": 78,
   "id": "2c46530d",
   "metadata": {
    "_kg_hide-input": true,
    "execution": {
     "iopub.execute_input": "2022-01-19T04:27:34.383361Z",
     "iopub.status.busy": "2022-01-19T04:27:34.382664Z",
     "iopub.status.idle": "2022-01-19T04:27:34.793001Z",
     "shell.execute_reply": "2022-01-19T04:27:34.792423Z",
     "shell.execute_reply.started": "2021-12-30T12:31:29.350241Z"
    },
    "papermill": {
     "duration": 0.577198,
     "end_time": "2022-01-19T04:27:34.793140",
     "exception": false,
     "start_time": "2022-01-19T04:27:34.215942",
     "status": "completed"
    },
    "tags": []
   },
   "outputs": [
    {
     "name": "stdout",
     "output_type": "stream",
     "text": [
      "train accuracy: 0.8375 \n",
      " test accuracy: 0.8212290502793296\n",
      "\n",
      "\n",
      "classification report for adaboost classifier\n",
      "              precision    recall  f1-score   support\n",
      "\n",
      "           0       0.86      0.85      0.85       111\n",
      "           1       0.76      0.78      0.77        68\n",
      "\n",
      "    accuracy                           0.82       179\n",
      "   macro avg       0.81      0.81      0.81       179\n",
      "weighted avg       0.82      0.82      0.82       179\n",
      "\n",
      "\n",
      "\n",
      "confusion matrix for adaboost classifier\n"
     ]
    },
    {
     "data": {
      "image/png": "[encoded data removed]",
      "text/plain": [
       "<Figure size 432x288 with 2 Axes>"
      ]
     },
     "metadata": {
      "needs_background": "light"
     },
     "output_type": "display_data"
    }
   ],
   "source": [
    "adaw=AdaBoostClassifier()\n",
    "model18=adaw.fit(x_train1, y_train1)\n",
    "print(\"train accuracy:\",model18.score(x_train1, y_train1),\"\\n\",\"test accuracy:\",model18.score(x_test,y_test))\n",
    "\n",
    "adawpred = adaw.predict(x_test)\n",
    "print(\"\\n\")\n",
    "print(\"classification report for adaboost classifier\")\n",
    "print(classification_report(adawpred,y_test))\n",
    "print(\"\\n\")\n",
    "print(\"confusion matrix for adaboost classifier\")\n",
    "displr = plot_confusion_matrix(adaw, x_test, y_test ,cmap=plt.cm.Blues , values_format='d')"
   ]
  },
  {
   "cell_type": "markdown",
   "id": "b9713553",
   "metadata": {
    "papermill": {
     "duration": 0.16283,
     "end_time": "2022-01-19T04:27:35.124679",
     "exception": false,
     "start_time": "2022-01-19T04:27:34.961849",
     "status": "completed"
    },
    "tags": []
   },
   "source": [
    "#### <u>Extreme gradient boosting classifier with resampling</u>"
   ]
  },
  {
   "cell_type": "code",
   "execution_count": 79,
   "id": "f72853c2",
   "metadata": {
    "_kg_hide-input": true,
    "execution": {
     "iopub.execute_input": "2022-01-19T04:27:35.455621Z",
     "iopub.status.busy": "2022-01-19T04:27:35.454634Z",
     "iopub.status.idle": "2022-01-19T04:27:36.220422Z",
     "shell.execute_reply": "2022-01-19T04:27:36.221006Z",
     "shell.execute_reply.started": "2021-12-30T12:31:29.761613Z"
    },
    "papermill": {
     "duration": 0.933787,
     "end_time": "2022-01-19T04:27:36.221180",
     "exception": false,
     "start_time": "2022-01-19T04:27:35.287393",
     "status": "completed"
    },
    "tags": []
   },
   "outputs": [
    {
     "name": "stdout",
     "output_type": "stream",
     "text": [
      "[04:27:35] WARNING: ../src/learner.cc:1115: Starting in XGBoost 1.3.0, the default evaluation metric used with the objective 'binary:logistic' was changed from 'error' to 'logloss'. Explicitly set eval_metric if you'd like to restore the old behavior.\n",
      "train accuracy: 0.9806818181818182 \n",
      " test accuracy: 0.8491620111731844\n",
      "\n",
      "\n",
      "classification report for extreme gradient boosting classifier\n",
      "              precision    recall  f1-score   support\n",
      "\n",
      "           0       0.90      0.86      0.88       114\n",
      "           1       0.77      0.83      0.80        65\n",
      "\n",
      "    accuracy                           0.85       179\n",
      "   macro avg       0.84      0.85      0.84       179\n",
      "weighted avg       0.85      0.85      0.85       179\n",
      "\n",
      "\n",
      "\n",
      "confusion matrix for extreme gradient boosting classifier\n"
     ]
    },
    {
     "data": {
      "image/png": "[encoded data removed]",
      "text/plain": [
       "<Figure size 432x288 with 2 Axes>"
      ]
     },
     "metadata": {
      "needs_background": "light"
     },
     "output_type": "display_data"
    }
   ],
   "source": [
    "xgbw = XGBClassifier()\n",
    "model19=xgbw.fit(x_train1.values, y_train1)\n",
    "print(\"train accuracy:\",model19.score(x_train1, y_train1),\"\\n\",\"test accuracy:\",model19.score(x_test,y_test))\n",
    "\n",
    "xgbwpred = xgbw.predict(x_test.values)\n",
    "print(\"\\n\")\n",
    "print(\"classification report for extreme gradient boosting classifier\")\n",
    "print(classification_report(xgbwpred,y_test))\n",
    "print(\"\\n\")\n",
    "print(\"confusion matrix for extreme gradient boosting classifier\")\n",
    "displr = plot_confusion_matrix(xgbw, x_test.values, y_test ,cmap=plt.cm.Blues, values_format='d')"
   ]
  },
  {
   "cell_type": "markdown",
   "id": "dff18844",
   "metadata": {
    "papermill": {
     "duration": 0.166353,
     "end_time": "2022-01-19T04:27:36.553505",
     "exception": false,
     "start_time": "2022-01-19T04:27:36.387152",
     "status": "completed"
    },
    "tags": []
   },
   "source": [
    "#### <u>Extra tree classifier with resampling</u>"
   ]
  },
  {
   "cell_type": "code",
   "execution_count": 80,
   "id": "cd86ff26",
   "metadata": {
    "_kg_hide-input": true,
    "execution": {
     "iopub.execute_input": "2022-01-19T04:27:36.901638Z",
     "iopub.status.busy": "2022-01-19T04:27:36.900940Z",
     "iopub.status.idle": "2022-01-19T04:27:37.359509Z",
     "shell.execute_reply": "2022-01-19T04:27:37.360143Z",
     "shell.execute_reply.started": "2021-12-30T12:31:30.512722Z"
    },
    "papermill": {
     "duration": 0.639857,
     "end_time": "2022-01-19T04:27:37.360329",
     "exception": false,
     "start_time": "2022-01-19T04:27:36.720472",
     "status": "completed"
    },
    "tags": []
   },
   "outputs": [
    {
     "name": "stdout",
     "output_type": "stream",
     "text": [
      "train accuracy: 0.9863636363636363 \n",
      " test accuracy: 0.8156424581005587\n",
      "\n",
      "\n",
      "classification report for extra tree classifier\n",
      "              precision    recall  f1-score   support\n",
      "\n",
      "           0       0.84      0.85      0.85       108\n",
      "           1       0.77      0.76      0.77        71\n",
      "\n",
      "    accuracy                           0.82       179\n",
      "   macro avg       0.81      0.81      0.81       179\n",
      "weighted avg       0.82      0.82      0.82       179\n",
      "\n",
      "\n",
      "\n",
      "confusion matrix for extra tree classifier\n"
     ]
    },
    {
     "data": {
      "image/png": "[encoded data removed]",
      "text/plain": [
       "<Figure size 432x288 with 2 Axes>"
      ]
     },
     "metadata": {
      "needs_background": "light"
     },
     "output_type": "display_data"
    }
   ],
   "source": [
    "extreew = ExtraTreesClassifier()\n",
    "model20=extreew.fit(x_train1, y_train1)\n",
    "print(\"train accuracy:\",model20.score(x_train1, y_train1),\"\\n\",\"test accuracy:\",model20.score(x_test,y_test))\n",
    "\n",
    "extwpred = extreew.predict(x_test)\n",
    "print(\"\\n\")\n",
    "print(\"classification report for extra tree classifier\")\n",
    "print(classification_report(extwpred,y_test))\n",
    "print(\"\\n\")\n",
    "print(\"confusion matrix for extra tree classifier\")\n",
    "displr = plot_confusion_matrix(extreew, x_test, y_test ,cmap=plt.cm.Blues , values_format='d')"
   ]
  },
  {
   "cell_type": "markdown",
   "id": "3a53ae8f",
   "metadata": {
    "papermill": {
     "duration": 0.165113,
     "end_time": "2022-01-19T04:27:37.691606",
     "exception": false,
     "start_time": "2022-01-19T04:27:37.526493",
     "status": "completed"
    },
    "tags": []
   },
   "source": [
    "#### <u>Voting classifier with resampling</u>"
   ]
  },
  {
   "cell_type": "code",
   "execution_count": 81,
   "id": "a6291737",
   "metadata": {
    "_kg_hide-input": true,
    "execution": {
     "iopub.execute_input": "2022-01-19T04:27:38.031255Z",
     "iopub.status.busy": "2022-01-19T04:27:38.030578Z",
     "iopub.status.idle": "2022-01-19T04:27:38.642194Z",
     "shell.execute_reply": "2022-01-19T04:27:38.642744Z",
     "shell.execute_reply.started": "2021-12-30T12:31:31.009983Z"
    },
    "papermill": {
     "duration": 0.783323,
     "end_time": "2022-01-19T04:27:38.642915",
     "exception": false,
     "start_time": "2022-01-19T04:27:37.859592",
     "status": "completed"
    },
    "tags": []
   },
   "outputs": [
    {
     "name": "stdout",
     "output_type": "stream",
     "text": [
      "train accuracy: 0.9238636363636363 \n",
      " test accuracy: 0.8491620111731844\n",
      "\n",
      "\n",
      "classification report for voting classifier\n",
      "              precision    recall  f1-score   support\n",
      "\n",
      "           0       0.90      0.86      0.88       114\n",
      "           1       0.77      0.83      0.80        65\n",
      "\n",
      "    accuracy                           0.85       179\n",
      "   macro avg       0.84      0.85      0.84       179\n",
      "weighted avg       0.85      0.85      0.85       179\n",
      "\n",
      "\n",
      "\n",
      "confusion matrix for voting classifier\n"
     ]
    },
    {
     "data": {
      "image/png": "[encoded data removed]",
      "text/plain": [
       "<Figure size 432x288 with 2 Axes>"
      ]
     },
     "metadata": {
      "needs_background": "light"
     },
     "output_type": "display_data"
    }
   ],
   "source": [
    "clf1 = LogisticRegression(max_iter=2000,penalty='l2')\n",
    "clf2 = RandomForestClassifier()\n",
    "\n",
    "vcw = VotingClassifier(estimators=[('lr', clf1),('rf', clf2)], voting='soft')\n",
    "model21=vcw.fit(x_train1, y_train1)\n",
    "print(\"train accuracy:\",model21.score(x_train1, y_train1),\"\\n\",\"test accuracy:\",model21.score(x_test,y_test))\n",
    "\n",
    "vcwpred = vcw.predict(x_test)\n",
    "print(\"\\n\")\n",
    "print(\"classification report for voting classifier\")\n",
    "print(classification_report(vcwpred,y_test))\n",
    "print(\"\\n\")\n",
    "print(\"confusion matrix for voting classifier\")\n",
    "displr = plot_confusion_matrix(vcw, x_test, y_test ,cmap=plt.cm.Blues , values_format='d')"
   ]
  },
  {
   "cell_type": "markdown",
   "id": "18d2deed",
   "metadata": {
    "papermill": {
     "duration": 0.170561,
     "end_time": "2022-01-19T04:27:38.979934",
     "exception": false,
     "start_time": "2022-01-19T04:27:38.809373",
     "status": "completed"
    },
    "tags": []
   },
   "source": [
    "#### <u>Stacking classifier with resampling</u>"
   ]
  },
  {
   "cell_type": "code",
   "execution_count": 82,
   "id": "c3cd1505",
   "metadata": {
    "_kg_hide-input": true,
    "execution": {
     "iopub.execute_input": "2022-01-19T04:27:39.324063Z",
     "iopub.status.busy": "2022-01-19T04:27:39.323345Z",
     "iopub.status.idle": "2022-01-19T04:27:39.846083Z",
     "shell.execute_reply": "2022-01-19T04:27:39.845530Z",
     "shell.execute_reply.started": "2021-12-30T12:31:31.635305Z"
    },
    "papermill": {
     "duration": 0.694756,
     "end_time": "2022-01-19T04:27:39.846231",
     "exception": false,
     "start_time": "2022-01-19T04:27:39.151475",
     "status": "completed"
    },
    "tags": []
   },
   "outputs": [
    {
     "name": "stdout",
     "output_type": "stream",
     "text": [
      "train accuracy: 0.9488636363636364 \n",
      " test accuracy: 0.8379888268156425\n",
      "\n",
      "\n",
      "classification report for voting classifier\n",
      "              precision    recall  f1-score   support\n",
      "\n",
      "           0       0.88      0.86      0.87       112\n",
      "           1       0.77      0.81      0.79        67\n",
      "\n",
      "    accuracy                           0.84       179\n",
      "   macro avg       0.83      0.83      0.83       179\n",
      "weighted avg       0.84      0.84      0.84       179\n",
      "\n",
      "\n",
      "\n",
      "confusion matrix for voting classifier\n"
     ]
    },
    {
     "data": {
      "image/png": "[encoded data removed]",
      "text/plain": [
       "<Figure size 432x288 with 2 Axes>"
      ]
     },
     "metadata": {
      "needs_background": "light"
     },
     "output_type": "display_data"
    }
   ],
   "source": [
    "estimators = [('rf', RandomForestClassifier(n_estimators=10, random_state=2)),('ext', make_pipeline(StandardScaler(),  LogisticRegression(max_iter=2000,penalty='l2')))]\n",
    "scw= StackingClassifier( estimators=estimators, final_estimator=LogisticRegression())\n",
    "\n",
    "model22=scw.fit(x_train1, y_train1)\n",
    "print(\"train accuracy:\",model22.score(x_train1, y_train1),\"\\n\",\"test accuracy:\",model22.score(x_test,y_test))\n",
    "\n",
    "scwpred = scw.predict(x_test)\n",
    "print(\"\\n\")\n",
    "print(\"classification report for voting classifier\")\n",
    "print(classification_report(scwpred,y_test))\n",
    "print(\"\\n\")\n",
    "print(\"confusion matrix for voting classifier\")\n",
    "displr = plot_confusion_matrix(scw, x_test, y_test ,cmap=plt.cm.Blues , values_format='d')"
   ]
  },
  {
   "cell_type": "markdown",
   "id": "eecfd178",
   "metadata": {
    "papermill": {
     "duration": 0.169924,
     "end_time": "2022-01-19T04:27:40.186934",
     "exception": false,
     "start_time": "2022-01-19T04:27:40.017010",
     "status": "completed"
    },
    "tags": []
   },
   "source": [
    "<font size=\"4\" color=\"black\">From the above fitted models stacking classifier has given the best classification accuracy. The performance was not increased by using SMOTE resampling. So the best model is<span style=\"color:blue;\"> stacking classifier without resampling with 87.15% accuracy.</span></font>"
   ]
  },
  {
   "cell_type": "markdown",
   "id": "8fda2faf",
   "metadata": {
    "papermill": {
     "duration": 0.172571,
     "end_time": "2022-01-19T04:27:40.531235",
     "exception": false,
     "start_time": "2022-01-19T04:27:40.358664",
     "status": "completed"
    },
    "tags": []
   },
   "source": [
    "#### <b>Hyperparameter tuning ......</b>"
   ]
  },
  {
   "cell_type": "code",
   "execution_count": 83,
   "id": "0cdffe12",
   "metadata": {
    "execution": {
     "iopub.execute_input": "2022-01-19T04:27:40.873382Z",
     "iopub.status.busy": "2022-01-19T04:27:40.872657Z",
     "iopub.status.idle": "2022-01-19T04:27:41.311422Z",
     "shell.execute_reply": "2022-01-19T04:27:41.310804Z",
     "shell.execute_reply.started": "2021-12-30T12:31:32.157231Z"
    },
    "papermill": {
     "duration": 0.612372,
     "end_time": "2022-01-19T04:27:41.311597",
     "exception": false,
     "start_time": "2022-01-19T04:27:40.699225",
     "status": "completed"
    },
    "tags": []
   },
   "outputs": [],
   "source": [
    "import optuna\n",
    "import sklearn\n",
    "\n",
    "def objective(trial):\n",
    "    \n",
    "    n_estimators = trial.suggest_int('n_estimators', 2, 2000)\n",
    "    max_depth =  trial.suggest_int('max_depth', 1, 20)\n",
    "    clf = sklearn.ensemble.RandomForestClassifier(n_estimators=n_estimators, max_depth=max_depth)\n",
    "    return sklearn.model_selection.cross_val_score(clf, X,y,n_jobs=-1,cv=6).mean()"
   ]
  },
  {
   "cell_type": "code",
   "execution_count": 84,
   "id": "fdd44ddf",
   "metadata": {
    "execution": {
     "iopub.execute_input": "2022-01-19T04:27:41.657376Z",
     "iopub.status.busy": "2022-01-19T04:27:41.656715Z",
     "iopub.status.idle": "2022-01-19T04:48:00.558184Z",
     "shell.execute_reply": "2022-01-19T04:48:00.557609Z",
     "shell.execute_reply.started": "2021-12-30T12:31:32.67989Z"
    },
    "papermill": {
     "duration": 1219.077245,
     "end_time": "2022-01-19T04:48:00.558380",
     "exception": false,
     "start_time": "2022-01-19T04:27:41.481135",
     "status": "completed"
    },
    "tags": []
   },
   "outputs": [
    {
     "name": "stderr",
     "output_type": "stream",
     "text": [
      "\u001b[32m[I 2022-01-19 04:27:41,654]\u001b[0m A new study created in memory with name: no-name-cc43345a-56f1-45fe-887a-ffac9d49f1ea\u001b[0m\n",
      "\u001b[32m[I 2022-01-19 04:27:48,389]\u001b[0m Trial 0 finished with value: 0.8159350625793579 and parameters: {'n_estimators': 804, 'max_depth': 3}. Best is trial 0 with value: 0.8159350625793579.\u001b[0m\n",
      "\u001b[32m[I 2022-01-19 04:27:50,287]\u001b[0m Trial 1 finished with value: 0.8248836084406554 and parameters: {'n_estimators': 308, 'max_depth': 4}. Best is trial 1 with value: 0.8248836084406554.\u001b[0m\n",
      "\u001b[32m[I 2022-01-19 04:27:51,295]\u001b[0m Trial 2 finished with value: 0.823787713888385 and parameters: {'n_estimators': 179, 'max_depth': 7}. Best is trial 1 with value: 0.8248836084406554.\u001b[0m\n",
      "\u001b[32m[I 2022-01-19 04:27:52,520]\u001b[0m Trial 3 finished with value: 0.7665744603664066 and parameters: {'n_estimators': 243, 'max_depth': 1}. Best is trial 1 with value: 0.8248836084406554.\u001b[0m\n",
      "\u001b[32m[I 2022-01-19 04:28:02,920]\u001b[0m Trial 4 finished with value: 0.8271812080536912 and parameters: {'n_estimators': 1808, 'max_depth': 11}. Best is trial 4 with value: 0.8271812080536912.\u001b[0m\n",
      "\u001b[32m[I 2022-01-19 04:28:08,738]\u001b[0m Trial 5 finished with value: 0.7957630449241188 and parameters: {'n_estimators': 1107, 'max_depth': 2}. Best is trial 4 with value: 0.8271812080536912.\u001b[0m\n",
      "\u001b[32m[I 2022-01-19 04:28:15,085]\u001b[0m Trial 6 finished with value: 0.8226918193361147 and parameters: {'n_estimators': 1093, 'max_depth': 13}. Best is trial 4 with value: 0.8271812080536912.\u001b[0m\n",
      "\u001b[32m[I 2022-01-19 04:28:20,832]\u001b[0m Trial 7 finished with value: 0.8125869157748352 and parameters: {'n_estimators': 958, 'max_depth': 19}. Best is trial 4 with value: 0.8271812080536912.\u001b[0m\n",
      "\u001b[32m[I 2022-01-19 04:28:28,674]\u001b[0m Trial 8 finished with value: 0.8193134409577363 and parameters: {'n_estimators': 1292, 'max_depth': 12}. Best is trial 4 with value: 0.8271812080536912.\u001b[0m\n",
      "\u001b[32m[I 2022-01-19 04:28:37,514]\u001b[0m Trial 9 finished with value: 0.8193134409577363 and parameters: {'n_estimators': 1536, 'max_depth': 12}. Best is trial 4 with value: 0.8271812080536912.\u001b[0m\n",
      "\u001b[32m[I 2022-01-19 04:28:49,244]\u001b[0m Trial 10 finished with value: 0.8125717999879073 and parameters: {'n_estimators': 1991, 'max_depth': 17}. Best is trial 4 with value: 0.8271812080536912.\u001b[0m\n",
      "\u001b[32m[I 2022-01-19 04:28:52,468]\u001b[0m Trial 11 finished with value: 0.8260324082471732 and parameters: {'n_estimators': 565, 'max_depth': 7}. Best is trial 4 with value: 0.8271812080536912.\u001b[0m\n",
      "\u001b[32m[I 2022-01-19 04:28:56,083]\u001b[0m Trial 12 finished with value: 0.82938811294516 and parameters: {'n_estimators': 599, 'max_depth': 8}. Best is trial 12 with value: 0.82938811294516.\u001b[0m\n",
      "\u001b[32m[I 2022-01-19 04:29:07,226]\u001b[0m Trial 13 finished with value: 0.8282846604994257 and parameters: {'n_estimators': 1999, 'max_depth': 8}. Best is trial 12 with value: 0.82938811294516.\u001b[0m\n",
      "\u001b[32m[I 2022-01-19 04:29:10,940]\u001b[0m Trial 14 finished with value: 0.8282771026059615 and parameters: {'n_estimators': 663, 'max_depth': 8}. Best is trial 12 with value: 0.82938811294516.\u001b[0m\n",
      "\u001b[32m[I 2022-01-19 04:29:19,408]\u001b[0m Trial 15 finished with value: 0.8338850595562005 and parameters: {'n_estimators': 1495, 'max_depth': 9}. Best is trial 15 with value: 0.8338850595562005.\u001b[0m\n",
      "\u001b[32m[I 2022-01-19 04:29:28,389]\u001b[0m Trial 16 finished with value: 0.8114532317552451 and parameters: {'n_estimators': 1494, 'max_depth': 16}. Best is trial 15 with value: 0.8338850595562005.\u001b[0m\n",
      "\u001b[32m[I 2022-01-19 04:29:31,285]\u001b[0m Trial 17 finished with value: 0.8260248503537094 and parameters: {'n_estimators': 488, 'max_depth': 6}. Best is trial 15 with value: 0.8338850595562005.\u001b[0m\n",
      "\u001b[32m[I 2022-01-19 04:29:39,479]\u001b[0m Trial 18 finished with value: 0.8305293548582139 and parameters: {'n_estimators': 1434, 'max_depth': 10}. Best is trial 15 with value: 0.8338850595562005.\u001b[0m\n",
      "\u001b[32m[I 2022-01-19 04:29:48,982]\u001b[0m Trial 19 finished with value: 0.8136979261140335 and parameters: {'n_estimators': 1621, 'max_depth': 14}. Best is trial 15 with value: 0.8338850595562005.\u001b[0m\n",
      "\u001b[32m[I 2022-01-19 04:29:56,437]\u001b[0m Trial 20 finished with value: 0.8204320091903985 and parameters: {'n_estimators': 1401, 'max_depth': 5}. Best is trial 15 with value: 0.8338850595562005.\u001b[0m\n",
      "\u001b[32m[I 2022-01-19 04:30:03,921]\u001b[0m Trial 21 finished with value: 0.8327589334300743 and parameters: {'n_estimators': 1277, 'max_depth': 9}. Best is trial 15 with value: 0.8338850595562005.\u001b[0m\n",
      "\u001b[32m[I 2022-01-19 04:30:11,167]\u001b[0m Trial 22 finished with value: 0.8316403651974124 and parameters: {'n_estimators': 1254, 'max_depth': 10}. Best is trial 15 with value: 0.8338850595562005.\u001b[0m\n",
      "\u001b[32m[I 2022-01-19 04:30:18,238]\u001b[0m Trial 23 finished with value: 0.8316630388778039 and parameters: {'n_estimators': 1239, 'max_depth': 10}. Best is trial 15 with value: 0.8338850595562005.\u001b[0m\n",
      "\u001b[32m[I 2022-01-19 04:30:27,824]\u001b[0m Trial 24 finished with value: 0.8316328073039484 and parameters: {'n_estimators': 1703, 'max_depth': 9}. Best is trial 15 with value: 0.8338850595562005.\u001b[0m\n",
      "\u001b[32m[I 2022-01-19 04:30:35,509]\u001b[0m Trial 25 finished with value: 0.8170763044924119 and parameters: {'n_estimators': 1247, 'max_depth': 15}. Best is trial 15 with value: 0.8338850595562005.\u001b[0m\n",
      "\u001b[32m[I 2022-01-19 04:30:40,808]\u001b[0m Trial 26 finished with value: 0.8294107866255517 and parameters: {'n_estimators': 901, 'max_depth': 11}. Best is trial 15 with value: 0.8338850595562005.\u001b[0m\n",
      "\u001b[32m[I 2022-01-19 04:30:46,689]\u001b[0m Trial 27 finished with value: 0.8249138400145113 and parameters: {'n_estimators': 1113, 'max_depth': 5}. Best is trial 15 with value: 0.8338850595562005.\u001b[0m\n",
      "\u001b[32m[I 2022-01-19 04:30:46,766]\u001b[0m Trial 28 finished with value: 0.8114532317552451 and parameters: {'n_estimators': 5, 'max_depth': 9}. Best is trial 15 with value: 0.8338850595562005.\u001b[0m\n",
      "\u001b[32m[I 2022-01-19 04:30:51,382]\u001b[0m Trial 29 finished with value: 0.8238028296753127 and parameters: {'n_estimators': 792, 'max_depth': 13}. Best is trial 15 with value: 0.8338850595562005.\u001b[0m\n",
      "\u001b[32m[I 2022-01-19 04:31:00,114]\u001b[0m Trial 30 finished with value: 0.8170460729185561 and parameters: {'n_estimators': 1702, 'max_depth': 3}. Best is trial 15 with value: 0.8338850595562005.\u001b[0m\n",
      "\u001b[32m[I 2022-01-19 04:31:07,194]\u001b[0m Trial 31 finished with value: 0.8361373118084526 and parameters: {'n_estimators': 1248, 'max_depth': 10}. Best is trial 31 with value: 0.8361373118084526.\u001b[0m\n",
      "\u001b[32m[I 2022-01-19 04:31:15,011]\u001b[0m Trial 32 finished with value: 0.8316403651974121 and parameters: {'n_estimators': 1323, 'max_depth': 9}. Best is trial 31 with value: 0.8361373118084526.\u001b[0m\n",
      "\u001b[32m[I 2022-01-19 04:31:21,138]\u001b[0m Trial 33 finished with value: 0.8249138400145112 and parameters: {'n_estimators': 1134, 'max_depth': 6}. Best is trial 31 with value: 0.8361373118084526.\u001b[0m\n",
      "\u001b[32m[I 2022-01-19 04:31:26,051]\u001b[0m Trial 34 finished with value: 0.8271812080536912 and parameters: {'n_estimators': 846, 'max_depth': 11}. Best is trial 31 with value: 0.8361373118084526.\u001b[0m\n",
      "\u001b[32m[I 2022-01-19 04:31:33,493]\u001b[0m Trial 35 finished with value: 0.8260172924602452 and parameters: {'n_estimators': 1356, 'max_depth': 7}. Best is trial 31 with value: 0.8361373118084526.\u001b[0m\n",
      "\u001b[32m[I 2022-01-19 04:31:40,386]\u001b[0m Trial 36 finished with value: 0.8338926174496644 and parameters: {'n_estimators': 1202, 'max_depth': 10}. Best is trial 31 with value: 0.8361373118084526.\u001b[0m\n",
      "\u001b[32m[I 2022-01-19 04:31:46,835]\u001b[0m Trial 37 finished with value: 0.8215581353165247 and parameters: {'n_estimators': 1034, 'max_depth': 12}. Best is trial 31 with value: 0.8361373118084526.\u001b[0m\n",
      "\u001b[32m[I 2022-01-19 04:31:57,525]\u001b[0m Trial 38 finished with value: 0.8215581353165247 and parameters: {'n_estimators': 1817, 'max_depth': 13}. Best is trial 31 with value: 0.8361373118084526.\u001b[0m\n",
      "\u001b[32m[I 2022-01-19 04:32:06,436]\u001b[0m Trial 39 finished with value: 0.8361373118084527 and parameters: {'n_estimators': 1558, 'max_depth': 9}. Best is trial 39 with value: 0.8361373118084527.\u001b[0m\n",
      "\u001b[32m[I 2022-01-19 04:32:15,989]\u001b[0m Trial 40 finished with value: 0.8125642420944433 and parameters: {'n_estimators': 1575, 'max_depth': 20}. Best is trial 39 with value: 0.8361373118084527.\u001b[0m\n",
      "\u001b[32m[I 2022-01-19 04:32:24,232]\u001b[0m Trial 41 finished with value: 0.8350187435757906 and parameters: {'n_estimators': 1449, 'max_depth': 9}. Best is trial 39 with value: 0.8361373118084527.\u001b[0m\n",
      "\u001b[32m[I 2022-01-19 04:32:32,332]\u001b[0m Trial 42 finished with value: 0.8305293548582139 and parameters: {'n_estimators': 1465, 'max_depth': 8}. Best is trial 39 with value: 0.8361373118084527.\u001b[0m\n",
      "\u001b[32m[I 2022-01-19 04:32:41,975]\u001b[0m Trial 43 finished with value: 0.8282997762863534 and parameters: {'n_estimators': 1688, 'max_depth': 11}. Best is trial 39 with value: 0.8361373118084527.\u001b[0m\n",
      "\u001b[32m[I 2022-01-19 04:32:52,511]\u001b[0m Trial 44 finished with value: 0.8282771026059618 and parameters: {'n_estimators': 1886, 'max_depth': 6}. Best is trial 39 with value: 0.8361373118084527.\u001b[0m\n",
      "\u001b[32m[I 2022-01-19 04:32:59,441]\u001b[0m Trial 45 finished with value: 0.8327740492170023 and parameters: {'n_estimators': 1186, 'max_depth': 10}. Best is trial 39 with value: 0.8361373118084527.\u001b[0m\n",
      "\u001b[32m[I 2022-01-19 04:33:08,185]\u001b[0m Trial 46 finished with value: 0.8260248503537094 and parameters: {'n_estimators': 1589, 'max_depth': 7}. Best is trial 39 with value: 0.8361373118084527.\u001b[0m\n",
      "\u001b[32m[I 2022-01-19 04:33:14,107]\u001b[0m Trial 47 finished with value: 0.8193209988512002 and parameters: {'n_estimators': 1023, 'max_depth': 12}. Best is trial 39 with value: 0.8361373118084527.\u001b[0m\n",
      "\u001b[32m[I 2022-01-19 04:33:22,189]\u001b[0m Trial 48 finished with value: 0.829395670838624 and parameters: {'n_estimators': 1378, 'max_depth': 8}. Best is trial 39 with value: 0.8361373118084527.\u001b[0m\n",
      "\u001b[32m[I 2022-01-19 04:33:31,943]\u001b[0m Trial 49 finished with value: 0.8181797569381462 and parameters: {'n_estimators': 1485, 'max_depth': 14}. Best is trial 39 with value: 0.8361373118084527.\u001b[0m\n",
      "\u001b[32m[I 2022-01-19 04:33:42,710]\u001b[0m Trial 50 finished with value: 0.8293956708386238 and parameters: {'n_estimators': 1815, 'max_depth': 9}. Best is trial 39 with value: 0.8361373118084527.\u001b[0m\n",
      "\u001b[32m[I 2022-01-19 04:33:49,508]\u001b[0m Trial 51 finished with value: 0.8305217969647499 and parameters: {'n_estimators': 1191, 'max_depth': 10}. Best is trial 39 with value: 0.8361373118084527.\u001b[0m\n",
      "\u001b[32m[I 2022-01-19 04:33:56,701]\u001b[0m Trial 52 finished with value: 0.8316781546647318 and parameters: {'n_estimators': 1157, 'max_depth': 11}. Best is trial 39 with value: 0.8361373118084527.\u001b[0m\n",
      "\u001b[32m[I 2022-01-19 04:34:04,700]\u001b[0m Trial 53 finished with value: 0.8327816071104661 and parameters: {'n_estimators': 1400, 'max_depth': 10}. Best is trial 39 with value: 0.8361373118084527.\u001b[0m\n",
      "\u001b[32m[I 2022-01-19 04:34:13,420]\u001b[0m Trial 54 finished with value: 0.8305217969647499 and parameters: {'n_estimators': 1537, 'max_depth': 8}. Best is trial 39 with value: 0.8361373118084527.\u001b[0m\n",
      "\u001b[32m[I 2022-01-19 04:34:21,736]\u001b[0m Trial 55 finished with value: 0.8181948727250741 and parameters: {'n_estimators': 1410, 'max_depth': 12}. Best is trial 39 with value: 0.8361373118084527.\u001b[0m\n",
      "\u001b[32m[I 2022-01-19 04:34:31,534]\u001b[0m Trial 56 finished with value: 0.8372634379345788 and parameters: {'n_estimators': 1672, 'max_depth': 9}. Best is trial 56 with value: 0.8372634379345788.\u001b[0m\n",
      "\u001b[32m[I 2022-01-19 04:34:40,485]\u001b[0m Trial 57 finished with value: 0.824906282121047 and parameters: {'n_estimators': 1633, 'max_depth': 7}. Best is trial 56 with value: 0.8372634379345788.\u001b[0m\n",
      "\u001b[32m[I 2022-01-19 04:34:51,435]\u001b[0m Trial 58 finished with value: 0.8338926174496645 and parameters: {'n_estimators': 1914, 'max_depth': 9}. Best is trial 56 with value: 0.8372634379345788.\u001b[0m\n",
      "\u001b[32m[I 2022-01-19 04:35:01,631]\u001b[0m Trial 59 finished with value: 0.7654407763468165 and parameters: {'n_estimators': 1962, 'max_depth': 1}. Best is trial 56 with value: 0.8372634379345788.\u001b[0m\n",
      "\u001b[32m[I 2022-01-19 04:35:11,454]\u001b[0m Trial 60 finished with value: 0.8316479230908761 and parameters: {'n_estimators': 1760, 'max_depth': 8}. Best is trial 56 with value: 0.8372634379345788.\u001b[0m\n",
      "\u001b[32m[I 2022-01-19 04:35:20,230]\u001b[0m Trial 61 finished with value: 0.8316403651974121 and parameters: {'n_estimators': 1530, 'max_depth': 9}. Best is trial 56 with value: 0.8372634379345788.\u001b[0m\n",
      "\u001b[32m[I 2022-01-19 04:35:31,234]\u001b[0m Trial 62 finished with value: 0.8338850595562005 and parameters: {'n_estimators': 1928, 'max_depth': 9}. Best is trial 56 with value: 0.8372634379345788.\u001b[0m\n",
      "\u001b[32m[I 2022-01-19 04:35:41,155]\u001b[0m Trial 63 finished with value: 0.8282997762863534 and parameters: {'n_estimators': 1646, 'max_depth': 11}. Best is trial 56 with value: 0.8372634379345788.\u001b[0m\n",
      "\u001b[32m[I 2022-01-19 04:35:51,885]\u001b[0m Trial 64 finished with value: 0.8327740492170023 and parameters: {'n_estimators': 1883, 'max_depth': 10}. Best is trial 56 with value: 0.8372634379345788.\u001b[0m\n",
      "\u001b[32m[I 2022-01-19 04:36:02,455]\u001b[0m Trial 65 finished with value: 0.8260172924602452 and parameters: {'n_estimators': 1909, 'max_depth': 7}. Best is trial 56 with value: 0.8372634379345788.\u001b[0m\n",
      "\u001b[32m[I 2022-01-19 04:36:12,674]\u001b[0m Trial 66 finished with value: 0.8316479230908761 and parameters: {'n_estimators': 1762, 'max_depth': 9}. Best is trial 56 with value: 0.8372634379345788.\u001b[0m\n",
      "\u001b[32m[I 2022-01-19 04:36:23,555]\u001b[0m Trial 67 finished with value: 0.8294032287320877 and parameters: {'n_estimators': 1956, 'max_depth': 8}. Best is trial 56 with value: 0.8372634379345788.\u001b[0m\n",
      "\u001b[32m[I 2022-01-19 04:36:33,627]\u001b[0m Trial 68 finished with value: 0.8327664913235383 and parameters: {'n_estimators': 1751, 'max_depth': 10}. Best is trial 56 with value: 0.8372634379345788.\u001b[0m\n",
      "\u001b[32m[I 2022-01-19 04:36:44,397]\u001b[0m Trial 69 finished with value: 0.8316705967712679 and parameters: {'n_estimators': 1828, 'max_depth': 11}. Best is trial 56 with value: 0.8372634379345788.\u001b[0m\n",
      "\u001b[32m[I 2022-01-19 04:36:52,058]\u001b[0m Trial 70 finished with value: 0.823802829675313 and parameters: {'n_estimators': 1323, 'max_depth': 12}. Best is trial 56 with value: 0.8372634379345788.\u001b[0m\n",
      "\u001b[32m[I 2022-01-19 04:37:00,745]\u001b[0m Trial 71 finished with value: 0.8350111856823266 and parameters: {'n_estimators': 1525, 'max_depth': 9}. Best is trial 56 with value: 0.8372634379345788.\u001b[0m\n",
      "\u001b[32m[I 2022-01-19 04:37:10,713]\u001b[0m Trial 72 finished with value: 0.8327664913235383 and parameters: {'n_estimators': 1678, 'max_depth': 9}. Best is trial 56 with value: 0.8372634379345788.\u001b[0m\n",
      "\u001b[32m[I 2022-01-19 04:37:19,204]\u001b[0m Trial 73 finished with value: 0.8237877138883851 and parameters: {'n_estimators': 1568, 'max_depth': 6}. Best is trial 56 with value: 0.8372634379345788.\u001b[0m\n",
      "\u001b[32m[I 2022-01-19 04:37:26,820]\u001b[0m Trial 74 finished with value: 0.822661587762259 and parameters: {'n_estimators': 1443, 'max_depth': 5}. Best is trial 56 with value: 0.8372634379345788.\u001b[0m\n",
      "\u001b[32m[I 2022-01-19 04:37:34,392]\u001b[0m Trial 75 finished with value: 0.8316403651974121 and parameters: {'n_estimators': 1339, 'max_depth': 9}. Best is trial 56 with value: 0.8372634379345788.\u001b[0m\n",
      "\u001b[32m[I 2022-01-19 04:37:40,609]\u001b[0m Trial 76 finished with value: 0.8327740492170022 and parameters: {'n_estimators': 1061, 'max_depth': 10}. Best is trial 56 with value: 0.8372634379345788.\u001b[0m\n",
      "\u001b[32m[I 2022-01-19 04:37:42,994]\u001b[0m Trial 77 finished with value: 0.830514239071286 and parameters: {'n_estimators': 406, 'max_depth': 8}. Best is trial 56 with value: 0.8372634379345788.\u001b[0m\n",
      "\u001b[32m[I 2022-01-19 04:37:50,246]\u001b[0m Trial 78 finished with value: 0.8226615877622588 and parameters: {'n_estimators': 1272, 'max_depth': 7}. Best is trial 56 with value: 0.8372634379345788.\u001b[0m\n",
      "\u001b[32m[I 2022-01-19 04:37:55,885]\u001b[0m Trial 79 finished with value: 0.8282922183928895 and parameters: {'n_estimators': 977, 'max_depth': 11}. Best is trial 56 with value: 0.8372634379345788.\u001b[0m\n",
      "\u001b[32m[I 2022-01-19 04:38:03,995]\u001b[0m Trial 80 finished with value: 0.8249062821210472 and parameters: {'n_estimators': 1508, 'max_depth': 6}. Best is trial 56 with value: 0.8372634379345788.\u001b[0m\n",
      "\u001b[32m[I 2022-01-19 04:38:13,146]\u001b[0m Trial 81 finished with value: 0.8327891650039301 and parameters: {'n_estimators': 1607, 'max_depth': 10}. Best is trial 56 with value: 0.8372634379345788.\u001b[0m\n",
      "\u001b[32m[I 2022-01-19 04:38:20,469]\u001b[0m Trial 82 finished with value: 0.8361448697019167 and parameters: {'n_estimators': 1218, 'max_depth': 9}. Best is trial 56 with value: 0.8372634379345788.\u001b[0m\n",
      "\u001b[32m[I 2022-01-19 04:38:25,924]\u001b[0m Trial 83 finished with value: 0.8327664913235383 and parameters: {'n_estimators': 911, 'max_depth': 9}. Best is trial 56 with value: 0.8372634379345788.\u001b[0m\n",
      "\u001b[32m[I 2022-01-19 04:38:32,702]\u001b[0m Trial 84 finished with value: 0.8305217969647499 and parameters: {'n_estimators': 1208, 'max_depth': 8}. Best is trial 56 with value: 0.8372634379345788.\u001b[0m\n",
      "\u001b[32m[I 2022-01-19 04:38:40,053]\u001b[0m Trial 85 finished with value: 0.8350111856823266 and parameters: {'n_estimators': 1277, 'max_depth': 9}. Best is trial 56 with value: 0.8372634379345788.\u001b[0m\n",
      "\u001b[32m[I 2022-01-19 04:38:46,084]\u001b[0m Trial 86 finished with value: 0.8248987242275833 and parameters: {'n_estimators': 1081, 'max_depth': 7}. Best is trial 56 with value: 0.8372634379345788.\u001b[0m\n",
      "\u001b[32m[I 2022-01-19 04:38:53,975]\u001b[0m Trial 87 finished with value: 0.8204320091903984 and parameters: {'n_estimators': 1280, 'max_depth': 13}. Best is trial 56 with value: 0.8372634379345788.\u001b[0m\n",
      "\u001b[32m[I 2022-01-19 04:39:00,867]\u001b[0m Trial 88 finished with value: 0.8327513755366104 and parameters: {'n_estimators': 1225, 'max_depth': 8}. Best is trial 56 with value: 0.8372634379345788.\u001b[0m\n",
      "\u001b[32m[I 2022-01-19 04:39:07,506]\u001b[0m Trial 89 finished with value: 0.8327816071104661 and parameters: {'n_estimators': 1158, 'max_depth': 10}. Best is trial 56 with value: 0.8372634379345788.\u001b[0m\n",
      "\u001b[32m[I 2022-01-19 04:39:15,890]\u001b[0m Trial 90 finished with value: 0.8249289558014391 and parameters: {'n_estimators': 1444, 'max_depth': 11}. Best is trial 56 with value: 0.8372634379345788.\u001b[0m\n",
      "\u001b[32m[I 2022-01-19 04:39:24,123]\u001b[0m Trial 91 finished with value: 0.8327664913235383 and parameters: {'n_estimators': 1377, 'max_depth': 9}. Best is trial 56 with value: 0.8372634379345788.\u001b[0m\n",
      "\u001b[32m[I 2022-01-19 04:39:31,696]\u001b[0m Trial 92 finished with value: 0.8316479230908761 and parameters: {'n_estimators': 1310, 'max_depth': 10}. Best is trial 56 with value: 0.8372634379345788.\u001b[0m\n",
      "\u001b[32m[I 2022-01-19 04:39:42,334]\u001b[0m Trial 93 finished with value: 0.8338850595562005 and parameters: {'n_estimators': 1848, 'max_depth': 9}. Best is trial 56 with value: 0.8372634379345788.\u001b[0m\n",
      "\u001b[32m[I 2022-01-19 04:39:51,057]\u001b[0m Trial 94 finished with value: 0.8305293548582141 and parameters: {'n_estimators': 1546, 'max_depth': 8}. Best is trial 56 with value: 0.8372634379345788.\u001b[0m\n",
      "\u001b[32m[I 2022-01-19 04:40:01,863]\u001b[0m Trial 95 finished with value: 0.8338926174496644 and parameters: {'n_estimators': 1845, 'max_depth': 9}. Best is trial 56 with value: 0.8372634379345788.\u001b[0m\n",
      "\u001b[32m[I 2022-01-19 04:40:12,236]\u001b[0m Trial 96 finished with value: 0.8159426204728218 and parameters: {'n_estimators': 1748, 'max_depth': 17}. Best is trial 56 with value: 0.8372634379345788.\u001b[0m\n",
      "\u001b[32m[I 2022-01-19 04:40:20,737]\u001b[0m Trial 97 finished with value: 0.8327664913235383 and parameters: {'n_estimators': 1485, 'max_depth': 10}. Best is trial 56 with value: 0.8372634379345788.\u001b[0m\n",
      "\u001b[32m[I 2022-01-19 04:40:30,552]\u001b[0m Trial 98 finished with value: 0.8327664913235383 and parameters: {'n_estimators': 1671, 'max_depth': 9}. Best is trial 56 with value: 0.8372634379345788.\u001b[0m\n",
      "\u001b[32m[I 2022-01-19 04:40:41,739]\u001b[0m Trial 99 finished with value: 0.82938811294516 and parameters: {'n_estimators': 1997, 'max_depth': 8}. Best is trial 56 with value: 0.8372634379345788.\u001b[0m\n",
      "\u001b[32m[I 2022-01-19 04:40:51,905]\u001b[0m Trial 100 finished with value: 0.8339001753431283 and parameters: {'n_estimators': 1728, 'max_depth': 10}. Best is trial 56 with value: 0.8372634379345788.\u001b[0m\n",
      "\u001b[32m[I 2022-01-19 04:41:02,110]\u001b[0m Trial 101 finished with value: 0.83165548098434 and parameters: {'n_estimators': 1737, 'max_depth': 10}. Best is trial 56 with value: 0.8372634379345788.\u001b[0m\n",
      "\u001b[32m[I 2022-01-19 04:41:11,430]\u001b[0m Trial 102 finished with value: 0.8294334603059434 and parameters: {'n_estimators': 1618, 'max_depth': 11}. Best is trial 56 with value: 0.8372634379345788.\u001b[0m\n",
      "\u001b[32m[I 2022-01-19 04:41:22,066]\u001b[0m Trial 103 finished with value: 0.8339001753431284 and parameters: {'n_estimators': 1888, 'max_depth': 9}. Best is trial 56 with value: 0.8372634379345788.\u001b[0m\n",
      "\u001b[32m[I 2022-01-19 04:41:32,303]\u001b[0m Trial 104 finished with value: 0.8338926174496645 and parameters: {'n_estimators': 1793, 'max_depth': 9}. Best is trial 56 with value: 0.8372634379345788.\u001b[0m\n",
      "\u001b[32m[I 2022-01-19 04:41:42,710]\u001b[0m Trial 105 finished with value: 0.8294032287320877 and parameters: {'n_estimators': 1792, 'max_depth': 8}. Best is trial 56 with value: 0.8372634379345788.\u001b[0m\n",
      "\u001b[32m[I 2022-01-19 04:41:52,892]\u001b[0m Trial 106 finished with value: 0.8327664913235383 and parameters: {'n_estimators': 1797, 'max_depth': 9}. Best is trial 56 with value: 0.8372634379345788.\u001b[0m\n",
      "\u001b[32m[I 2022-01-19 04:42:02,971]\u001b[0m Trial 107 finished with value: 0.8170687465989479 and parameters: {'n_estimators': 1714, 'max_depth': 12}. Best is trial 56 with value: 0.8372634379345788.\u001b[0m\n",
      "\u001b[32m[I 2022-01-19 04:42:12,707]\u001b[0m Trial 108 finished with value: 0.8361373118084527 and parameters: {'n_estimators': 1655, 'max_depth': 9}. Best is trial 56 with value: 0.8372634379345788.\u001b[0m\n",
      "\u001b[32m[I 2022-01-19 04:42:22,363]\u001b[0m Trial 109 finished with value: 0.8282997762863534 and parameters: {'n_estimators': 1645, 'max_depth': 11}. Best is trial 56 with value: 0.8372634379345788.\u001b[0m\n",
      "\u001b[32m[I 2022-01-19 04:42:30,975]\u001b[0m Trial 110 finished with value: 0.8248987242275833 and parameters: {'n_estimators': 1555, 'max_depth': 7}. Best is trial 56 with value: 0.8372634379345788.\u001b[0m\n",
      "\u001b[32m[I 2022-01-19 04:42:41,821]\u001b[0m Trial 111 finished with value: 0.8316403651974121 and parameters: {'n_estimators': 1915, 'max_depth': 9}. Best is trial 56 with value: 0.8372634379345788.\u001b[0m\n",
      "\u001b[32m[I 2022-01-19 04:42:52,818]\u001b[0m Trial 112 finished with value: 0.831647923090876 and parameters: {'n_estimators': 1872, 'max_depth': 10}. Best is trial 56 with value: 0.8372634379345788.\u001b[0m\n",
      "\u001b[32m[I 2022-01-19 04:43:02,491]\u001b[0m Trial 113 finished with value: 0.8338850595562004 and parameters: {'n_estimators': 1704, 'max_depth': 9}. Best is trial 56 with value: 0.8372634379345788.\u001b[0m\n",
      "\u001b[32m[I 2022-01-19 04:43:11,408]\u001b[0m Trial 114 finished with value: 0.8294032287320877 and parameters: {'n_estimators': 1591, 'max_depth': 8}. Best is trial 56 with value: 0.8372634379345788.\u001b[0m\n",
      "\u001b[32m[I 2022-01-19 04:43:19,920]\u001b[0m Trial 115 finished with value: 0.8327740492170023 and parameters: {'n_estimators': 1416, 'max_depth': 10}. Best is trial 56 with value: 0.8372634379345788.\u001b[0m\n",
      "\u001b[32m[I 2022-01-19 04:43:29,134]\u001b[0m Trial 116 finished with value: 0.8271509764798356 and parameters: {'n_estimators': 1658, 'max_depth': 8}. Best is trial 56 with value: 0.8372634379345788.\u001b[0m\n",
      "\u001b[32m[I 2022-01-19 04:43:39,325]\u001b[0m Trial 117 finished with value: 0.8338850595562004 and parameters: {'n_estimators': 1802, 'max_depth': 9}. Best is trial 56 with value: 0.8372634379345788.\u001b[0m\n",
      "\u001b[32m[I 2022-01-19 04:43:51,051]\u001b[0m Trial 118 finished with value: 0.8305217969647499 and parameters: {'n_estimators': 1937, 'max_depth': 10}. Best is trial 56 with value: 0.8372634379345788.\u001b[0m\n",
      "\u001b[32m[I 2022-01-19 04:44:01,167]\u001b[0m Trial 119 finished with value: 0.8327589334300743 and parameters: {'n_estimators': 1773, 'max_depth': 9}. Best is trial 56 with value: 0.8372634379345788.\u001b[0m\n",
      "\u001b[32m[I 2022-01-19 04:44:09,668]\u001b[0m Trial 120 finished with value: 0.8305217969647499 and parameters: {'n_estimators': 1510, 'max_depth': 8}. Best is trial 56 with value: 0.8372634379345788.\u001b[0m\n",
      "\u001b[32m[I 2022-01-19 04:44:16,956]\u001b[0m Trial 121 finished with value: 0.8316403651974121 and parameters: {'n_estimators': 1257, 'max_depth': 10}. Best is trial 56 with value: 0.8372634379345788.\u001b[0m\n",
      "\u001b[32m[I 2022-01-19 04:44:27,954]\u001b[0m Trial 122 finished with value: 0.8338850595562005 and parameters: {'n_estimators': 1854, 'max_depth': 9}. Best is trial 56 with value: 0.8372634379345788.\u001b[0m\n",
      "\u001b[32m[I 2022-01-19 04:44:34,592]\u001b[0m Trial 123 finished with value: 0.8294107866255517 and parameters: {'n_estimators': 1149, 'max_depth': 11}. Best is trial 56 with value: 0.8372634379345788.\u001b[0m\n",
      "\u001b[32m[I 2022-01-19 04:44:43,726]\u001b[0m Trial 124 finished with value: 0.8339001753431283 and parameters: {'n_estimators': 1581, 'max_depth': 10}. Best is trial 56 with value: 0.8372634379345788.\u001b[0m\n",
      "\u001b[32m[I 2022-01-19 04:44:52,949]\u001b[0m Trial 125 finished with value: 0.8339001753431283 and parameters: {'n_estimators': 1603, 'max_depth': 10}. Best is trial 56 with value: 0.8372634379345788.\u001b[0m\n",
      "\u001b[32m[I 2022-01-19 04:45:01,882]\u001b[0m Trial 126 finished with value: 0.8305369127516778 and parameters: {'n_estimators': 1474, 'max_depth': 10}. Best is trial 56 with value: 0.8372634379345788.\u001b[0m\n",
      "\u001b[32m[I 2022-01-19 04:45:10,964]\u001b[0m Trial 127 finished with value: 0.8260475240341011 and parameters: {'n_estimators': 1576, 'max_depth': 11}. Best is trial 56 with value: 0.8372634379345788.\u001b[0m\n",
      "\u001b[32m[I 2022-01-19 04:45:15,130]\u001b[0m Trial 128 finished with value: 0.830514239071286 and parameters: {'n_estimators': 727, 'max_depth': 10}. Best is trial 56 with value: 0.8372634379345788.\u001b[0m\n",
      "\u001b[32m[I 2022-01-19 04:45:22,901]\u001b[0m Trial 129 finished with value: 0.8350111856823267 and parameters: {'n_estimators': 1368, 'max_depth': 9}. Best is trial 56 with value: 0.8372634379345788.\u001b[0m\n",
      "\u001b[32m[I 2022-01-19 04:45:31,335]\u001b[0m Trial 130 finished with value: 0.8181873148316101 and parameters: {'n_estimators': 1392, 'max_depth': 12}. Best is trial 56 with value: 0.8372634379345788.\u001b[0m\n",
      "\u001b[32m[I 2022-01-19 04:45:39,109]\u001b[0m Trial 131 finished with value: 0.8361373118084527 and parameters: {'n_estimators': 1358, 'max_depth': 9}. Best is trial 56 with value: 0.8372634379345788.\u001b[0m\n",
      "\u001b[32m[I 2022-01-19 04:45:46,849]\u001b[0m Trial 132 finished with value: 0.8294032287320879 and parameters: {'n_estimators': 1357, 'max_depth': 10}. Best is trial 56 with value: 0.8372634379345788.\u001b[0m\n",
      "\u001b[32m[I 2022-01-19 04:45:55,035]\u001b[0m Trial 133 finished with value: 0.8372634379345788 and parameters: {'n_estimators': 1442, 'max_depth': 9}. Best is trial 56 with value: 0.8372634379345788.\u001b[0m\n",
      "\u001b[32m[I 2022-01-19 04:46:02,556]\u001b[0m Trial 134 finished with value: 0.8327664913235383 and parameters: {'n_estimators': 1307, 'max_depth': 8}. Best is trial 56 with value: 0.8372634379345788.\u001b[0m\n",
      "\u001b[32m[I 2022-01-19 04:46:10,823]\u001b[0m Trial 135 finished with value: 0.8361373118084527 and parameters: {'n_estimators': 1444, 'max_depth': 9}. Best is trial 56 with value: 0.8372634379345788.\u001b[0m\n",
      "\u001b[32m[I 2022-01-19 04:46:18,932]\u001b[0m Trial 136 finished with value: 0.8305293548582139 and parameters: {'n_estimators': 1444, 'max_depth': 8}. Best is trial 56 with value: 0.8372634379345788.\u001b[0m\n",
      "\u001b[32m[I 2022-01-19 04:46:26,532]\u001b[0m Trial 137 finished with value: 0.8361373118084527 and parameters: {'n_estimators': 1341, 'max_depth': 9}. Best is trial 56 with value: 0.8372634379345788.\u001b[0m\n",
      "\u001b[32m[I 2022-01-19 04:46:34,221]\u001b[0m Trial 138 finished with value: 0.8249062821210473 and parameters: {'n_estimators': 1351, 'max_depth': 7}. Best is trial 56 with value: 0.8372634379345788.\u001b[0m\n",
      "\u001b[32m[I 2022-01-19 04:46:42,277]\u001b[0m Trial 139 finished with value: 0.8339001753431284 and parameters: {'n_estimators': 1413, 'max_depth': 9}. Best is trial 56 with value: 0.8372634379345788.\u001b[0m\n",
      "\u001b[32m[I 2022-01-19 04:46:50,545]\u001b[0m Trial 140 finished with value: 0.8338926174496645 and parameters: {'n_estimators': 1465, 'max_depth': 9}. Best is trial 56 with value: 0.8372634379345788.\u001b[0m\n",
      "\u001b[32m[I 2022-01-19 04:46:58,514]\u001b[0m Trial 141 finished with value: 0.8350111856823267 and parameters: {'n_estimators': 1415, 'max_depth': 9}. Best is trial 56 with value: 0.8372634379345788.\u001b[0m\n",
      "\u001b[32m[I 2022-01-19 04:47:06,691]\u001b[0m Trial 142 finished with value: 0.8350111856823266 and parameters: {'n_estimators': 1412, 'max_depth': 9}. Best is trial 56 with value: 0.8372634379345788.\u001b[0m\n",
      "\u001b[32m[I 2022-01-19 04:47:14,277]\u001b[0m Trial 143 finished with value: 0.8260248503537095 and parameters: {'n_estimators': 1303, 'max_depth': 8}. Best is trial 56 with value: 0.8372634379345788.\u001b[0m\n",
      "\u001b[32m[I 2022-01-19 04:47:21,991]\u001b[0m Trial 144 finished with value: 0.8350187435757906 and parameters: {'n_estimators': 1364, 'max_depth': 9}. Best is trial 56 with value: 0.8372634379345788.\u001b[0m\n",
      "\u001b[32m[I 2022-01-19 04:47:29,717]\u001b[0m Trial 145 finished with value: 0.8361373118084527 and parameters: {'n_estimators': 1374, 'max_depth': 9}. Best is trial 56 with value: 0.8372634379345788.\u001b[0m\n",
      "\u001b[32m[I 2022-01-19 04:47:37,583]\u001b[0m Trial 146 finished with value: 0.8305217969647499 and parameters: {'n_estimators': 1367, 'max_depth': 8}. Best is trial 56 with value: 0.8372634379345788.\u001b[0m\n",
      "\u001b[32m[I 2022-01-19 04:47:46,373]\u001b[0m Trial 147 finished with value: 0.8260248503537094 and parameters: {'n_estimators': 1516, 'max_depth': 7}. Best is trial 56 with value: 0.8372634379345788.\u001b[0m\n",
      "\u001b[32m[I 2022-01-19 04:47:53,317]\u001b[0m Trial 148 finished with value: 0.8316403651974121 and parameters: {'n_estimators': 1233, 'max_depth': 9}. Best is trial 56 with value: 0.8372634379345788.\u001b[0m\n",
      "\u001b[32m[I 2022-01-19 04:48:00,551]\u001b[0m Trial 149 finished with value: 0.8339001753431283 and parameters: {'n_estimators': 1276, 'max_depth': 9}. Best is trial 56 with value: 0.8372634379345788.\u001b[0m\n"
     ]
    }
   ],
   "source": [
    "study = optuna.create_study(direction='maximize')\n",
    "study.optimize(objective, n_trials=150)"
   ]
  },
  {
   "cell_type": "code",
   "execution_count": 85,
   "id": "9c7110ba",
   "metadata": {
    "execution": {
     "iopub.execute_input": "2022-01-19T04:48:00.999820Z",
     "iopub.status.busy": "2022-01-19T04:48:00.999075Z",
     "iopub.status.idle": "2022-01-19T04:48:01.003127Z",
     "shell.execute_reply": "2022-01-19T04:48:01.002589Z",
     "shell.execute_reply.started": "2021-12-30T12:49:29.49272Z"
    },
    "papermill": {
     "duration": 0.225572,
     "end_time": "2022-01-19T04:48:01.003260",
     "exception": false,
     "start_time": "2022-01-19T04:48:00.777688",
     "status": "completed"
    },
    "tags": []
   },
   "outputs": [
    {
     "name": "stdout",
     "output_type": "stream",
     "text": [
      "Accuracy: 0.8372634379345788\n"
     ]
    }
   ],
   "source": [
    "trial = study.best_trial\n",
    "print('Accuracy: {}'.format(trial.value))"
   ]
  },
  {
   "cell_type": "code",
   "execution_count": 86,
   "id": "add31cc7",
   "metadata": {
    "execution": {
     "iopub.execute_input": "2022-01-19T04:48:01.440596Z",
     "iopub.status.busy": "2022-01-19T04:48:01.439745Z",
     "iopub.status.idle": "2022-01-19T04:48:01.442877Z",
     "shell.execute_reply": "2022-01-19T04:48:01.442250Z",
     "shell.execute_reply.started": "2021-12-30T12:49:29.49891Z"
    },
    "papermill": {
     "duration": 0.223698,
     "end_time": "2022-01-19T04:48:01.443007",
     "exception": false,
     "start_time": "2022-01-19T04:48:01.219309",
     "status": "completed"
    },
    "tags": []
   },
   "outputs": [
    {
     "name": "stdout",
     "output_type": "stream",
     "text": [
      "Best hyperparameters: {'n_estimators': 1672, 'max_depth': 9}\n"
     ]
    }
   ],
   "source": [
    "print(\"Best hyperparameters: {}\".format(trial.params))"
   ]
  },
  {
   "cell_type": "code",
   "execution_count": 87,
   "id": "94c9e1f5",
   "metadata": {
    "execution": {
     "iopub.execute_input": "2022-01-19T04:48:01.878141Z",
     "iopub.status.busy": "2022-01-19T04:48:01.877506Z",
     "iopub.status.idle": "2022-01-19T04:48:12.911346Z",
     "shell.execute_reply": "2022-01-19T04:48:12.910810Z",
     "shell.execute_reply.started": "2021-12-30T12:49:29.510349Z"
    },
    "papermill": {
     "duration": 11.251562,
     "end_time": "2022-01-19T04:48:12.911498",
     "exception": false,
     "start_time": "2022-01-19T04:48:01.659936",
     "status": "completed"
    },
    "tags": []
   },
   "outputs": [
    {
     "name": "stdout",
     "output_type": "stream",
     "text": [
      "train accuracy: 0.9199438202247191 \n",
      " test accuracy: 0.8547486033519553\n",
      "\n",
      "\n",
      "classification report for voting classifier\n",
      "              precision    recall  f1-score   support\n",
      "\n",
      "           0       0.93      0.85      0.89       119\n",
      "           1       0.74      0.87      0.80        60\n",
      "\n",
      "    accuracy                           0.85       179\n",
      "   macro avg       0.83      0.86      0.84       179\n",
      "weighted avg       0.87      0.85      0.86       179\n",
      "\n",
      "\n",
      "\n",
      "confusion matrix for voting classifier\n"
     ]
    },
    {
     "data": {
      "image/png": "[encoded data removed]",
      "text/plain": [
       "<Figure size 432x288 with 2 Axes>"
      ]
     },
     "metadata": {
      "needs_background": "light"
     },
     "output_type": "display_data"
    }
   ],
   "source": [
    "# stacking classifier with tuned hyper parameters \n",
    "from sklearn.ensemble import StackingClassifier\n",
    "from sklearn.pipeline import make_pipeline\n",
    "from sklearn.preprocessing import StandardScaler\n",
    "\n",
    "estimators = [('rf', RandomForestClassifier(random_state=1234,n_estimators=776,max_depth=9)),('ext', make_pipeline(LogisticRegression(max_iter=2000,penalty='l2')))]\n",
    "sc1= StackingClassifier( estimators=estimators)\n",
    "\n",
    "modelt=sc1.fit(x_train, y_train)\n",
    "print(\"train accuracy:\",modelt.score(x_train, y_train),\"\\n\",\"test accuracy:\",modelt.score(x_test,y_test))\n",
    "\n",
    "sctpred = sc1.predict(x_test)\n",
    "print(\"\\n\")\n",
    "print(\"classification report for voting classifier\")\n",
    "print(classification_report(sctpred,y_test))\n",
    "print(\"\\n\")\n",
    "print(\"confusion matrix for voting classifier\")\n",
    "displr = plot_confusion_matrix(sc1, x_test, y_test ,cmap=plt.cm.Blues , values_format='d')"
   ]
  },
  {
   "cell_type": "markdown",
   "id": "c6c2d5d3",
   "metadata": {
    "papermill": {
     "duration": 0.214699,
     "end_time": "2022-01-19T04:48:13.343969",
     "exception": false,
     "start_time": "2022-01-19T04:48:13.129270",
     "status": "completed"
    },
    "tags": []
   },
   "source": [
    "<font size=\"4\" color=\"black\">Now let's fit a simple neural network using AutoKeras.</font>"
   ]
  },
  {
   "cell_type": "markdown",
   "id": "85486b6f",
   "metadata": {
    "papermill": {
     "duration": 0.217874,
     "end_time": "2022-01-19T04:48:13.778063",
     "exception": false,
     "start_time": "2022-01-19T04:48:13.560189",
     "status": "completed"
    },
    "tags": []
   },
   "source": [
    "##  <p style=\"background-color:#BCDBF9;color:black;font-size:19px;text-align:center;border-radius:12px 10px;border:2px solid blue;\">🧊 Neural network with AutoKeras </p>"
   ]
  },
  {
   "cell_type": "code",
   "execution_count": 88,
   "id": "21a109b9",
   "metadata": {
    "_kg_hide-input": true,
    "_kg_hide-output": true,
    "execution": {
     "iopub.execute_input": "2022-01-19T04:48:14.224202Z",
     "iopub.status.busy": "2022-01-19T04:48:14.223064Z",
     "iopub.status.idle": "2022-01-19T04:49:32.053107Z",
     "shell.execute_reply": "2022-01-19T04:49:32.052530Z",
     "shell.execute_reply.started": "2021-12-30T12:49:40.278557Z"
    },
    "papermill": {
     "duration": 78.054843,
     "end_time": "2022-01-19T04:49:32.053266",
     "exception": false,
     "start_time": "2022-01-19T04:48:13.998423",
     "status": "completed"
    },
    "tags": []
   },
   "outputs": [
    {
     "name": "stdout",
     "output_type": "stream",
     "text": [
      "Collecting autokeras\r\n",
      "  Downloading autokeras-1.0.16.post1-py3-none-any.whl (166 kB)\r\n",
      "\u001b[K     |████████████████████████████████| 166 kB 917 kB/s \r\n",
      "\u001b[?25hRequirement already satisfied: pandas in /opt/conda/lib/python3.7/site-packages (from autokeras) (1.3.3)\r\n",
      "Requirement already satisfied: keras-tuner<1.1,>=1.0.2 in /opt/conda/lib/python3.7/site-packages (from autokeras) (1.0.4)\r\n",
      "Collecting tensorflow<2.6,>=2.3.0\r\n",
      "  Downloading tensorflow-2.5.2-cp37-cp37m-manylinux2010_x86_64.whl (454.4 MB)\r\n",
      "\u001b[K     |████████████████████████████████| 454.4 MB 17 kB/s \r\n",
      "\u001b[?25hRequirement already satisfied: scikit-learn in /opt/conda/lib/python3.7/site-packages (from autokeras) (0.23.2)\r\n",
      "Requirement already satisfied: packaging in /opt/conda/lib/python3.7/site-packages (from autokeras) (21.0)\r\n",
      "Requirement already satisfied: tensorboard in /opt/conda/lib/python3.7/site-packages (from keras-tuner<1.1,>=1.0.2->autokeras) (2.5.0)\r\n",
      "Requirement already satisfied: numpy in /opt/conda/lib/python3.7/site-packages (from keras-tuner<1.1,>=1.0.2->autokeras) (1.19.5)\r\n",
      "Requirement already satisfied: ipython in /opt/conda/lib/python3.7/site-packages (from keras-tuner<1.1,>=1.0.2->autokeras) (7.27.0)\r\n",
      "Requirement already satisfied: kt-legacy in /opt/conda/lib/python3.7/site-packages (from keras-tuner<1.1,>=1.0.2->autokeras) (1.0.4)\r\n",
      "Requirement already satisfied: requests in /opt/conda/lib/python3.7/site-packages (from keras-tuner<1.1,>=1.0.2->autokeras) (2.25.1)\r\n",
      "Requirement already satisfied: scipy in /opt/conda/lib/python3.7/site-packages (from keras-tuner<1.1,>=1.0.2->autokeras) (1.7.1)\r\n",
      "Requirement already satisfied: absl-py~=0.10 in /opt/conda/lib/python3.7/site-packages (from tensorflow<2.6,>=2.3.0->autokeras) (0.14.0)\r\n",
      "Requirement already satisfied: google-pasta~=0.2 in /opt/conda/lib/python3.7/site-packages (from tensorflow<2.6,>=2.3.0->autokeras) (0.2.0)\r\n",
      "Requirement already satisfied: gast==0.4.0 in /opt/conda/lib/python3.7/site-packages (from tensorflow<2.6,>=2.3.0->autokeras) (0.4.0)\r\n",
      "Collecting grpcio~=1.34.0\r\n",
      "  Downloading grpcio-1.34.1-cp37-cp37m-manylinux2014_x86_64.whl (4.0 MB)\r\n",
      "\u001b[K     |████████████████████████████████| 4.0 MB 47.7 MB/s \r\n",
      "\u001b[?25hCollecting tensorflow-estimator<2.6.0,>=2.5.0\r\n",
      "  Downloading tensorflow_estimator-2.5.0-py2.py3-none-any.whl (462 kB)\r\n",
      "\u001b[K     |████████████████████████████████| 462 kB 65.2 MB/s \r\n",
      "\u001b[?25hRequirement already satisfied: astunparse~=1.6.3 in /opt/conda/lib/python3.7/site-packages (from tensorflow<2.6,>=2.3.0->autokeras) (1.6.3)\r\n",
      "Requirement already satisfied: flatbuffers~=1.12.0 in /opt/conda/lib/python3.7/site-packages (from tensorflow<2.6,>=2.3.0->autokeras) (1.12)\r\n",
      "Collecting typing-extensions~=3.7.4\r\n",
      "  Downloading typing_extensions-3.7.4.3-py3-none-any.whl (22 kB)\r\n",
      "Requirement already satisfied: protobuf>=3.9.2 in /opt/conda/lib/python3.7/site-packages (from tensorflow<2.6,>=2.3.0->autokeras) (3.19.0)\r\n",
      "Requirement already satisfied: termcolor~=1.1.0 in /opt/conda/lib/python3.7/site-packages (from tensorflow<2.6,>=2.3.0->autokeras) (1.1.0)\r\n",
      "Requirement already satisfied: h5py~=3.1.0 in /opt/conda/lib/python3.7/site-packages (from tensorflow<2.6,>=2.3.0->autokeras) (3.1.0)\r\n",
      "Collecting six~=1.15.0\r\n",
      "  Downloading six-1.15.0-py2.py3-none-any.whl (10 kB)\r\n",
      "Collecting keras-nightly~=2.5.0.dev\r\n",
      "  Downloading keras_nightly-2.5.0.dev2021032900-py2.py3-none-any.whl (1.2 MB)\r\n",
      "\u001b[K     |████████████████████████████████| 1.2 MB 48.3 MB/s \r\n",
      "\u001b[?25hRequirement already satisfied: keras-preprocessing~=1.1.2 in /opt/conda/lib/python3.7/site-packages (from tensorflow<2.6,>=2.3.0->autokeras) (1.1.2)\r\n",
      "Requirement already satisfied: wrapt~=1.12.1 in /opt/conda/lib/python3.7/site-packages (from tensorflow<2.6,>=2.3.0->autokeras) (1.12.1)\r\n",
      "Requirement already satisfied: wheel~=0.35 in /opt/conda/lib/python3.7/site-packages (from tensorflow<2.6,>=2.3.0->autokeras) (0.37.0)\r\n",
      "Requirement already satisfied: opt-einsum~=3.3.0 in /opt/conda/lib/python3.7/site-packages (from tensorflow<2.6,>=2.3.0->autokeras) (3.3.0)\r\n",
      "Requirement already satisfied: cached-property in /opt/conda/lib/python3.7/site-packages (from h5py~=3.1.0->tensorflow<2.6,>=2.3.0->autokeras) (1.5.2)\r\n",
      "Requirement already satisfied: setuptools>=41.0.0 in /opt/conda/lib/python3.7/site-packages (from tensorboard->keras-tuner<1.1,>=1.0.2->autokeras) (58.0.4)\r\n",
      "Requirement already satisfied: werkzeug>=0.11.15 in /opt/conda/lib/python3.7/site-packages (from tensorboard->keras-tuner<1.1,>=1.0.2->autokeras) (2.0.1)\r\n",
      "Requirement already satisfied: markdown>=2.6.8 in /opt/conda/lib/python3.7/site-packages (from tensorboard->keras-tuner<1.1,>=1.0.2->autokeras) (3.3.4)\r\n",
      "Requirement already satisfied: tensorboard-data-server<0.7.0,>=0.6.0 in /opt/conda/lib/python3.7/site-packages (from tensorboard->keras-tuner<1.1,>=1.0.2->autokeras) (0.6.1)\r\n",
      "Requirement already satisfied: google-auth<2,>=1.6.3 in /opt/conda/lib/python3.7/site-packages (from tensorboard->keras-tuner<1.1,>=1.0.2->autokeras) (1.35.0)\r\n",
      "Requirement already satisfied: google-auth-oauthlib<0.5,>=0.4.1 in /opt/conda/lib/python3.7/site-packages (from tensorboard->keras-tuner<1.1,>=1.0.2->autokeras) (0.4.6)\r\n",
      "Requirement already satisfied: tensorboard-plugin-wit>=1.6.0 in /opt/conda/lib/python3.7/site-packages (from tensorboard->keras-tuner<1.1,>=1.0.2->autokeras) (1.8.0)\r\n",
      "Requirement already satisfied: rsa<5,>=3.1.4 in /opt/conda/lib/python3.7/site-packages (from google-auth<2,>=1.6.3->tensorboard->keras-tuner<1.1,>=1.0.2->autokeras) (4.7.2)\r\n",
      "Requirement already satisfied: pyasn1-modules>=0.2.1 in /opt/conda/lib/python3.7/site-packages (from google-auth<2,>=1.6.3->tensorboard->keras-tuner<1.1,>=1.0.2->autokeras) (0.2.7)\r\n",
      "Requirement already satisfied: cachetools<5.0,>=2.0.0 in /opt/conda/lib/python3.7/site-packages (from google-auth<2,>=1.6.3->tensorboard->keras-tuner<1.1,>=1.0.2->autokeras) (4.2.2)\r\n",
      "Requirement already satisfied: requests-oauthlib>=0.7.0 in /opt/conda/lib/python3.7/site-packages (from google-auth-oauthlib<0.5,>=0.4.1->tensorboard->keras-tuner<1.1,>=1.0.2->autokeras) (1.3.0)\r\n",
      "Requirement already satisfied: importlib-metadata in /opt/conda/lib/python3.7/site-packages (from markdown>=2.6.8->tensorboard->keras-tuner<1.1,>=1.0.2->autokeras) (4.8.1)\r\n",
      "Requirement already satisfied: pyasn1<0.5.0,>=0.4.6 in /opt/conda/lib/python3.7/site-packages (from pyasn1-modules>=0.2.1->google-auth<2,>=1.6.3->tensorboard->keras-tuner<1.1,>=1.0.2->autokeras) (0.4.8)\r\n",
      "Requirement already satisfied: certifi>=2017.4.17 in /opt/conda/lib/python3.7/site-packages (from requests->keras-tuner<1.1,>=1.0.2->autokeras) (2021.10.8)\r\n",
      "Requirement already satisfied: urllib3<1.27,>=1.21.1 in /opt/conda/lib/python3.7/site-packages (from requests->keras-tuner<1.1,>=1.0.2->autokeras) (1.26.6)\r\n",
      "Requirement already satisfied: chardet<5,>=3.0.2 in /opt/conda/lib/python3.7/site-packages (from requests->keras-tuner<1.1,>=1.0.2->autokeras) (4.0.0)\r\n",
      "Requirement already satisfied: idna<3,>=2.5 in /opt/conda/lib/python3.7/site-packages (from requests->keras-tuner<1.1,>=1.0.2->autokeras) (2.10)\r\n",
      "Requirement already satisfied: oauthlib>=3.0.0 in /opt/conda/lib/python3.7/site-packages (from requests-oauthlib>=0.7.0->google-auth-oauthlib<0.5,>=0.4.1->tensorboard->keras-tuner<1.1,>=1.0.2->autokeras) (3.1.1)\r\n",
      "Requirement already satisfied: zipp>=0.5 in /opt/conda/lib/python3.7/site-packages (from importlib-metadata->markdown>=2.6.8->tensorboard->keras-tuner<1.1,>=1.0.2->autokeras) (3.5.0)\r\n",
      "Requirement already satisfied: pygments in /opt/conda/lib/python3.7/site-packages (from ipython->keras-tuner<1.1,>=1.0.2->autokeras) (2.10.0)\r\n",
      "Requirement already satisfied: prompt-toolkit!=3.0.0,!=3.0.1,<3.1.0,>=2.0.0 in /opt/conda/lib/python3.7/site-packages (from ipython->keras-tuner<1.1,>=1.0.2->autokeras) (3.0.20)\r\n",
      "Requirement already satisfied: traitlets>=4.2 in /opt/conda/lib/python3.7/site-packages (from ipython->keras-tuner<1.1,>=1.0.2->autokeras) (5.1.0)\r\n",
      "Requirement already satisfied: matplotlib-inline in /opt/conda/lib/python3.7/site-packages (from ipython->keras-tuner<1.1,>=1.0.2->autokeras) (0.1.3)\r\n",
      "Requirement already satisfied: pickleshare in /opt/conda/lib/python3.7/site-packages (from ipython->keras-tuner<1.1,>=1.0.2->autokeras) (0.7.5)\r\n",
      "Requirement already satisfied: jedi>=0.16 in /opt/conda/lib/python3.7/site-packages (from ipython->keras-tuner<1.1,>=1.0.2->autokeras) (0.18.0)\r\n",
      "Requirement already satisfied: backcall in /opt/conda/lib/python3.7/site-packages (from ipython->keras-tuner<1.1,>=1.0.2->autokeras) (0.2.0)\r\n",
      "Requirement already satisfied: pexpect>4.3 in /opt/conda/lib/python3.7/site-packages (from ipython->keras-tuner<1.1,>=1.0.2->autokeras) (4.8.0)\r\n",
      "Requirement already satisfied: decorator in /opt/conda/lib/python3.7/site-packages (from ipython->keras-tuner<1.1,>=1.0.2->autokeras) (5.1.0)\r\n",
      "Requirement already satisfied: parso<0.9.0,>=0.8.0 in /opt/conda/lib/python3.7/site-packages (from jedi>=0.16->ipython->keras-tuner<1.1,>=1.0.2->autokeras) (0.8.2)\r\n",
      "Requirement already satisfied: ptyprocess>=0.5 in /opt/conda/lib/python3.7/site-packages (from pexpect>4.3->ipython->keras-tuner<1.1,>=1.0.2->autokeras) (0.7.0)\r\n",
      "Requirement already satisfied: wcwidth in /opt/conda/lib/python3.7/site-packages (from prompt-toolkit!=3.0.0,!=3.0.1,<3.1.0,>=2.0.0->ipython->keras-tuner<1.1,>=1.0.2->autokeras) (0.2.5)\r\n",
      "Requirement already satisfied: pyparsing>=2.0.2 in /opt/conda/lib/python3.7/site-packages (from packaging->autokeras) (2.4.7)\r\n",
      "Requirement already satisfied: python-dateutil>=2.7.3 in /opt/conda/lib/python3.7/site-packages (from pandas->autokeras) (2.8.0)\r\n",
      "Requirement already satisfied: pytz>=2017.3 in /opt/conda/lib/python3.7/site-packages (from pandas->autokeras) (2021.1)\r\n",
      "Requirement already satisfied: joblib>=0.11 in /opt/conda/lib/python3.7/site-packages (from scikit-learn->autokeras) (1.0.1)\r\n",
      "Requirement already satisfied: threadpoolctl>=2.0.0 in /opt/conda/lib/python3.7/site-packages (from scikit-learn->autokeras) (2.2.0)\r\n",
      "Installing collected packages: typing-extensions, six, grpcio, tensorflow-estimator, keras-nightly, tensorflow, autokeras\r\n",
      "  Attempting uninstall: typing-extensions\r\n",
      "    Found existing installation: typing-extensions 3.10.0.2\r\n",
      "    Uninstalling typing-extensions-3.10.0.2:\r\n",
      "      Successfully uninstalled typing-extensions-3.10.0.2\r\n",
      "  Attempting uninstall: six\r\n",
      "    Found existing installation: six 1.16.0\r\n",
      "    Uninstalling six-1.16.0:\r\n",
      "      Successfully uninstalled six-1.16.0\r\n",
      "  Attempting uninstall: grpcio\r\n",
      "    Found existing installation: grpcio 1.38.1\r\n",
      "    Uninstalling grpcio-1.38.1:\r\n",
      "      Successfully uninstalled grpcio-1.38.1\r\n",
      "  Attempting uninstall: tensorflow-estimator\r\n",
      "    Found existing installation: tensorflow-estimator 2.6.0\r\n",
      "    Uninstalling tensorflow-estimator-2.6.0:\r\n",
      "      Successfully uninstalled tensorflow-estimator-2.6.0\r\n",
      "  Attempting uninstall: tensorflow\r\n",
      "    Found existing installation: tensorflow 2.6.0\r\n",
      "    Uninstalling tensorflow-2.6.0:\r\n",
      "      Successfully uninstalled tensorflow-2.6.0\r\n",
      "\u001b[31mERROR: pip's dependency resolver does not currently take into account all the packages that are installed. This behaviour is the source of the following dependency conflicts.\r\n",
      "tensorflow-io 0.18.0 requires tensorflow-io-gcs-filesystem==0.18.0, which is not installed.\r\n",
      "explainable-ai-sdk 1.3.2 requires xai-image-widget, which is not installed.\r\n",
      "beatrix-jupyterlab 3.1.1 requires google-cloud-bigquery-storage, which is not installed.\r\n",
      "tfx-bsl 1.3.0 requires absl-py<0.13,>=0.9, but you have absl-py 0.14.0 which is incompatible.\r\n",
      "tfx-bsl 1.3.0 requires pyarrow<3,>=1, but you have pyarrow 5.0.0 which is incompatible.\r\n",
      "tfx-bsl 1.3.0 requires tensorflow!=2.0.*,!=2.1.*,!=2.2.*,!=2.3.*,!=2.4.*,!=2.5.*,<3,>=1.15.2, but you have tensorflow 2.5.2 which is incompatible.\r\n",
      "tensorflow-transform 1.3.0 requires absl-py<0.13,>=0.9, but you have absl-py 0.14.0 which is incompatible.\r\n",
      "tensorflow-transform 1.3.0 requires pyarrow<3,>=1, but you have pyarrow 5.0.0 which is incompatible.\r\n",
      "tensorflow-transform 1.3.0 requires tensorflow!=2.0.*,!=2.1.*,!=2.2.*,!=2.3.*,!=2.4.*,!=2.5.*,<2.7,>=1.15.2, but you have tensorflow 2.5.2 which is incompatible.\r\n",
      "tensorflow-serving-api 2.6.0 requires tensorflow<3,>=2.6.0, but you have tensorflow 2.5.2 which is incompatible.\r\n",
      "gcsfs 2021.8.1 requires fsspec==2021.08.1, but you have fsspec 2021.10.1 which is incompatible.\r\n",
      "flake8 4.0.1 requires importlib-metadata<4.3; python_version < \"3.8\", but you have importlib-metadata 4.8.1 which is incompatible.\r\n",
      "cloud-tpu-client 0.10 requires google-api-python-client==1.8.0, but you have google-api-python-client 1.12.8 which is incompatible.\r\n",
      "bokeh 2.4.1 requires typing-extensions>=3.10.0, but you have typing-extensions 3.7.4.3 which is incompatible.\r\n",
      "black 21.9b0 requires typing-extensions>=3.10.0.0, but you have typing-extensions 3.7.4.3 which is incompatible.\r\n",
      "apache-beam 2.32.0 requires dill<0.3.2,>=0.3.1.1, but you have dill 0.3.4 which is incompatible.\r\n",
      "apache-beam 2.32.0 requires pyarrow<5.0.0,>=0.15.1, but you have pyarrow 5.0.0 which is incompatible.\r\n",
      "aiobotocore 1.4.2 requires botocore<1.20.107,>=1.20.106, but you have botocore 1.22.4 which is incompatible.\u001b[0m\r\n",
      "Successfully installed autokeras-1.0.16.post1 grpcio-1.34.1 keras-nightly-2.5.0.dev2021032900 six-1.15.0 tensorflow-2.5.2 tensorflow-estimator-2.5.0 typing-extensions-3.7.4.3\r\n",
      "\u001b[33mWARNING: Running pip as the 'root' user can result in broken permissions and conflicting behaviour with the system package manager. It is recommended to use a virtual environment instead: https://pip.pypa.io/warnings/venv\u001b[0m\r\n"
     ]
    }
   ],
   "source": [
    "!pip install autokeras"
   ]
  },
  {
   "cell_type": "code",
   "execution_count": 89,
   "id": "b5dcf6a1",
   "metadata": {
    "_kg_hide-output": true,
    "execution": {
     "iopub.execute_input": "2022-01-19T04:49:32.899264Z",
     "iopub.status.busy": "2022-01-19T04:49:32.897344Z",
     "iopub.status.idle": "2022-01-19T04:49:35.450757Z",
     "shell.execute_reply": "2022-01-19T04:49:35.450187Z",
     "shell.execute_reply.started": "2021-12-30T12:50:56.092664Z"
    },
    "papermill": {
     "duration": 2.977018,
     "end_time": "2022-01-19T04:49:35.450916",
     "exception": false,
     "start_time": "2022-01-19T04:49:32.473898",
     "status": "completed"
    },
    "tags": []
   },
   "outputs": [
    {
     "name": "stderr",
     "output_type": "stream",
     "text": [
      "2022-01-19 04:49:33.101783: W tensorflow/stream_executor/platform/default/dso_loader.cc:64] Could not load dynamic library 'libcudart.so.11.0'; dlerror: libcudart.so.11.0: cannot open shared object file: No such file or directory; LD_LIBRARY_PATH: \n",
      "2022-01-19 04:49:33.101897: I tensorflow/stream_executor/cuda/cudart_stub.cc:29] Ignore above cudart dlerror if you do not have a GPU set up on your machine.\n"
     ]
    }
   ],
   "source": [
    "import tensorflow as tf\n",
    "import autokeras as ak"
   ]
  },
  {
   "cell_type": "code",
   "execution_count": 90,
   "id": "0907f9f5",
   "metadata": {
    "_kg_hide-input": true,
    "execution": {
     "iopub.execute_input": "2022-01-19T04:49:36.311722Z",
     "iopub.status.busy": "2022-01-19T04:49:36.311061Z",
     "iopub.status.idle": "2022-01-19T04:49:36.315733Z",
     "shell.execute_reply": "2022-01-19T04:49:36.316327Z",
     "shell.execute_reply.started": "2021-12-30T12:50:58.7831Z"
    },
    "papermill": {
     "duration": 0.438628,
     "end_time": "2022-01-19T04:49:36.316500",
     "exception": false,
     "start_time": "2022-01-19T04:49:35.877872",
     "status": "completed"
    },
    "tags": []
   },
   "outputs": [],
   "source": [
    "x_train=x_train.to_numpy()\n",
    "x_test=x_test.to_numpy()\n",
    "y_train=y_train.to_numpy()\n",
    "y_test=y_test.to_numpy()"
   ]
  },
  {
   "cell_type": "markdown",
   "id": "899d4c5f",
   "metadata": {
    "papermill": {
     "duration": 0.42541,
     "end_time": "2022-01-19T04:49:37.165436",
     "exception": false,
     "start_time": "2022-01-19T04:49:36.740026",
     "status": "completed"
    },
    "tags": []
   },
   "source": [
    "#### training network for 30 epochs. Here AutoKeras will try 4 different neural networks."
   ]
  },
  {
   "cell_type": "code",
   "execution_count": 91,
   "id": "b28d5ab6",
   "metadata": {
    "execution": {
     "iopub.execute_input": "2022-01-19T04:49:38.013665Z",
     "iopub.status.busy": "2022-01-19T04:49:38.012983Z",
     "iopub.status.idle": "2022-01-19T04:50:10.752796Z",
     "shell.execute_reply": "2022-01-19T04:50:10.753467Z",
     "shell.execute_reply.started": "2021-12-30T12:50:58.79319Z"
    },
    "papermill": {
     "duration": 33.164678,
     "end_time": "2022-01-19T04:50:10.753654",
     "exception": false,
     "start_time": "2022-01-19T04:49:37.588976",
     "status": "completed"
    },
    "tags": []
   },
   "outputs": [
    {
     "name": "stdout",
     "output_type": "stream",
     "text": [
      "Trial 4 Complete [00h 00m 06s]\n",
      "val_accuracy: 0.8461538553237915\n",
      "\n",
      "Best val_accuracy So Far: 0.8557692170143127\n",
      "Total elapsed time: 00h 00m 22s\n",
      "Epoch 1/30\n",
      "23/23 [==============================] - 1s 2ms/step - loss: 0.6686 - accuracy: 0.6067\n",
      "Epoch 2/30\n",
      "23/23 [==============================] - 0s 2ms/step - loss: 0.5843 - accuracy: 0.7851\n",
      "Epoch 3/30\n",
      "23/23 [==============================] - 0s 2ms/step - loss: 0.5259 - accuracy: 0.8090\n",
      "Epoch 4/30\n",
      "23/23 [==============================] - 0s 2ms/step - loss: 0.4833 - accuracy: 0.8104\n",
      "Epoch 5/30\n",
      "23/23 [==============================] - 0s 2ms/step - loss: 0.4570 - accuracy: 0.8104\n",
      "Epoch 6/30\n",
      "23/23 [==============================] - 0s 2ms/step - loss: 0.4437 - accuracy: 0.8104\n",
      "Epoch 7/30\n",
      "23/23 [==============================] - 0s 2ms/step - loss: 0.4358 - accuracy: 0.8104\n",
      "Epoch 8/30\n",
      "23/23 [==============================] - 0s 2ms/step - loss: 0.4299 - accuracy: 0.8132\n",
      "Epoch 9/30\n",
      "23/23 [==============================] - 0s 2ms/step - loss: 0.4248 - accuracy: 0.8216\n",
      "Epoch 10/30\n",
      "23/23 [==============================] - 0s 2ms/step - loss: 0.4203 - accuracy: 0.8202\n",
      "Epoch 11/30\n",
      "23/23 [==============================] - 0s 2ms/step - loss: 0.4161 - accuracy: 0.8230\n",
      "Epoch 12/30\n",
      "23/23 [==============================] - 0s 2ms/step - loss: 0.4122 - accuracy: 0.8244\n",
      "Epoch 13/30\n",
      "23/23 [==============================] - 0s 2ms/step - loss: 0.4082 - accuracy: 0.8301\n",
      "Epoch 14/30\n",
      "23/23 [==============================] - 0s 2ms/step - loss: 0.4045 - accuracy: 0.8301\n",
      "Epoch 15/30\n",
      "23/23 [==============================] - 0s 2ms/step - loss: 0.4012 - accuracy: 0.8287\n",
      "Epoch 16/30\n",
      "23/23 [==============================] - 0s 2ms/step - loss: 0.3982 - accuracy: 0.8287\n",
      "Epoch 17/30\n",
      "23/23 [==============================] - 0s 2ms/step - loss: 0.3953 - accuracy: 0.8301\n",
      "Epoch 18/30\n",
      "23/23 [==============================] - 0s 2ms/step - loss: 0.3927 - accuracy: 0.8329\n",
      "Epoch 19/30\n",
      "23/23 [==============================] - 0s 2ms/step - loss: 0.3901 - accuracy: 0.8357\n",
      "Epoch 20/30\n",
      "23/23 [==============================] - 0s 2ms/step - loss: 0.3876 - accuracy: 0.8371\n",
      "Epoch 21/30\n",
      "23/23 [==============================] - 0s 2ms/step - loss: 0.3853 - accuracy: 0.8385\n",
      "Epoch 22/30\n",
      "23/23 [==============================] - 0s 2ms/step - loss: 0.3831 - accuracy: 0.8399\n",
      "Epoch 23/30\n",
      "23/23 [==============================] - 0s 2ms/step - loss: 0.3810 - accuracy: 0.8385\n",
      "Epoch 24/30\n",
      "23/23 [==============================] - 0s 2ms/step - loss: 0.3791 - accuracy: 0.8399\n",
      "Epoch 25/30\n",
      "23/23 [==============================] - 0s 2ms/step - loss: 0.3772 - accuracy: 0.8399\n",
      "Epoch 26/30\n",
      "23/23 [==============================] - 0s 3ms/step - loss: 0.3755 - accuracy: 0.8413\n",
      "Epoch 27/30\n",
      "23/23 [==============================] - 0s 2ms/step - loss: 0.3739 - accuracy: 0.8399\n",
      "Epoch 28/30\n",
      "23/23 [==============================] - 0s 2ms/step - loss: 0.3723 - accuracy: 0.8399\n",
      "Epoch 29/30\n",
      "23/23 [==============================] - 0s 2ms/step - loss: 0.3709 - accuracy: 0.8399\n",
      "Epoch 30/30\n",
      "23/23 [==============================] - 0s 2ms/step - loss: 0.3694 - accuracy: 0.8399\n"
     ]
    },
    {
     "name": "stderr",
     "output_type": "stream",
     "text": [
      "2022-01-19 04:50:06.931676: W tensorflow/python/util/util.cc:348] Sets are not currently considered sequences, but this may change in the future, so consider avoiding using them.\n"
     ]
    },
    {
     "name": "stdout",
     "output_type": "stream",
     "text": [
      "6/6 [==============================] - 0s 2ms/step\n",
      "6/6 [==============================] - 0s 2ms/step - loss: 0.4012 - accuracy: 0.8436\n",
      "[0.4011738896369934, 0.8435754179954529]\n"
     ]
    }
   ],
   "source": [
    "clf = ak.StructuredDataClassifier(max_trials=4,seed=1234)\n",
    "# Feed the structured data classifier with training data.\n",
    "clf.fit(x_train, y_train, epochs=30, validation_split=0.2)\n",
    "# Predict with the best model.\n",
    "predicted_y = clf.predict(x_test)\n",
    "# Evaluate the best model with testing data.\n",
    "print(clf.evaluate(x_test, y_test))"
   ]
  },
  {
   "cell_type": "markdown",
   "id": "f2926102",
   "metadata": {
    "papermill": {
     "duration": 0.440737,
     "end_time": "2022-01-19T04:50:11.639158",
     "exception": false,
     "start_time": "2022-01-19T04:50:11.198421",
     "status": "completed"
    },
    "tags": []
   },
   "source": [
    "#### export the best model .... 🥈"
   ]
  },
  {
   "cell_type": "code",
   "execution_count": 92,
   "id": "f47c3826",
   "metadata": {
    "_kg_hide-input": true,
    "execution": {
     "iopub.execute_input": "2022-01-19T04:50:12.535872Z",
     "iopub.status.busy": "2022-01-19T04:50:12.534901Z",
     "iopub.status.idle": "2022-01-19T04:50:13.227550Z",
     "shell.execute_reply": "2022-01-19T04:50:13.226845Z",
     "shell.execute_reply.started": "2021-12-30T12:51:28.825802Z"
    },
    "papermill": {
     "duration": 1.14054,
     "end_time": "2022-01-19T04:50:13.227706",
     "exception": false,
     "start_time": "2022-01-19T04:50:12.087166",
     "status": "completed"
    },
    "tags": []
   },
   "outputs": [
    {
     "name": "stdout",
     "output_type": "stream",
     "text": [
      "Model: \"model\"\n",
      "_________________________________________________________________\n",
      "Layer (type)                 Output Shape              Param #   \n",
      "=================================================================\n",
      "input_1 (InputLayer)         [(None, 8)]               0         \n",
      "_________________________________________________________________\n",
      "multi_category_encoding (Mul (None, 8)                 0         \n",
      "_________________________________________________________________\n",
      "normalization (Normalization (None, 8)                 17        \n",
      "_________________________________________________________________\n",
      "dense (Dense)                (None, 32)                288       \n",
      "_________________________________________________________________\n",
      "re_lu (ReLU)                 (None, 32)                0         \n",
      "_________________________________________________________________\n",
      "dense_1 (Dense)              (None, 32)                1056      \n",
      "_________________________________________________________________\n",
      "re_lu_1 (ReLU)               (None, 32)                0         \n",
      "_________________________________________________________________\n",
      "dense_2 (Dense)              (None, 1)                 33        \n",
      "_________________________________________________________________\n",
      "classification_head_1 (Activ (None, 1)                 0         \n",
      "=================================================================\n",
      "Total params: 1,394\n",
      "Trainable params: 1,377\n",
      "Non-trainable params: 17\n",
      "_________________________________________________________________\n"
     ]
    }
   ],
   "source": [
    "model = clf.export_model()\n",
    "model.summary()"
   ]
  },
  {
   "cell_type": "code",
   "execution_count": 93,
   "id": "177f6b31",
   "metadata": {
    "execution": {
     "iopub.execute_input": "2022-01-19T04:50:14.130583Z",
     "iopub.status.busy": "2022-01-19T04:50:14.129373Z",
     "iopub.status.idle": "2022-01-19T04:50:15.479613Z",
     "shell.execute_reply": "2022-01-19T04:50:15.480083Z",
     "shell.execute_reply.started": "2021-12-30T12:51:29.504075Z"
    },
    "papermill": {
     "duration": 1.80179,
     "end_time": "2022-01-19T04:50:15.480255",
     "exception": false,
     "start_time": "2022-01-19T04:50:13.678465",
     "status": "completed"
    },
    "tags": []
   },
   "outputs": [
    {
     "name": "stdout",
     "output_type": "stream",
     "text": [
      "6/6 [==============================] - 0s 2ms/step\n"
     ]
    }
   ],
   "source": [
    "predicted = clf.predict(x_test)"
   ]
  },
  {
   "cell_type": "code",
   "execution_count": 94,
   "id": "4d439d00",
   "metadata": {
    "execution": {
     "iopub.execute_input": "2022-01-19T04:50:16.378841Z",
     "iopub.status.busy": "2022-01-19T04:50:16.377260Z",
     "iopub.status.idle": "2022-01-19T04:50:16.382895Z",
     "shell.execute_reply": "2022-01-19T04:50:16.381908Z",
     "shell.execute_reply.started": "2021-12-30T12:51:30.76709Z"
    },
    "papermill": {
     "duration": 0.458615,
     "end_time": "2022-01-19T04:50:16.383041",
     "exception": false,
     "start_time": "2022-01-19T04:50:15.924426",
     "status": "completed"
    },
    "tags": []
   },
   "outputs": [
    {
     "name": "stdout",
     "output_type": "stream",
     "text": [
      "classification report for neural network\n",
      "              precision    recall  f1-score   support\n",
      "\n",
      "         0.0       0.96      0.81      0.88       129\n",
      "         1.0       0.66      0.92      0.77        50\n",
      "\n",
      "    accuracy                           0.84       179\n",
      "   macro avg       0.81      0.87      0.82       179\n",
      "weighted avg       0.88      0.84      0.85       179\n",
      "\n"
     ]
    }
   ],
   "source": [
    "print(\"classification report for neural network\")\n",
    "print(classification_report(predicted,y_test))"
   ]
  },
  {
   "cell_type": "markdown",
   "id": "4db7df93",
   "metadata": {
    "papermill": {
     "duration": 0.473164,
     "end_time": "2022-01-19T04:50:17.297314",
     "exception": false,
     "start_time": "2022-01-19T04:50:16.824150",
     "status": "completed"
    },
    "tags": []
   },
   "source": [
    "<font size=\"4\" color=\"black\">This could not outperformed the voting classifier.</font>"
   ]
  },
  {
   "cell_type": "markdown",
   "id": "3898f228",
   "metadata": {
    "papermill": {
     "duration": 0.448616,
     "end_time": "2022-01-19T04:50:18.189273",
     "exception": false,
     "start_time": "2022-01-19T04:50:17.740657",
     "status": "completed"
    },
    "tags": []
   },
   "source": [
    "## <p style=\"background-color:#BCDBF9;color:black;font-size:19px;text-align:center;border-radius:12px 10px;border:2px solid blue;\">💎  Results </p>"
   ]
  },
  {
   "cell_type": "markdown",
   "id": "b2de2ebb",
   "metadata": {
    "papermill": {
     "duration": 0.448622,
     "end_time": "2022-01-19T04:50:19.084261",
     "exception": false,
     "start_time": "2022-01-19T04:50:18.635639",
     "status": "completed"
    },
    "tags": []
   },
   "source": [
    "<font size=\"4\" color=\"black\">From the all above models stacking classifier with random forest classifier and logistic regression have higher perfromance than other models. <span style=\"color:blue;\">stacking classifier achieved the highest classification accuracy 87.15%.</span> We can see that without resampling there is a slight increase in accuracy. hence the model without SMOTE resampling is the best one. The accuracy can be increased by tuning hyper parameters of these models.</font>"
   ]
  },
  {
   "cell_type": "markdown",
   "id": "01e1447d",
   "metadata": {
    "papermill": {
     "duration": 0.443081,
     "end_time": "2022-01-19T04:50:19.970083",
     "exception": false,
     "start_time": "2022-01-19T04:50:19.527002",
     "status": "completed"
    },
    "tags": []
   },
   "source": [
    "## <p style=\"background-color:#BCDBF9;color:black;font-size:19px;text-align:center;border-radius:12px 10px;border:2px solid blue;\">🧿 Submission </p>"
   ]
  },
  {
   "cell_type": "code",
   "execution_count": 95,
   "id": "ef69cf41",
   "metadata": {
    "execution": {
     "iopub.execute_input": "2022-01-19T04:50:20.862544Z",
     "iopub.status.busy": "2022-01-19T04:50:20.861863Z",
     "iopub.status.idle": "2022-01-19T04:50:20.882358Z",
     "shell.execute_reply": "2022-01-19T04:50:20.882894Z",
     "shell.execute_reply.started": "2021-12-30T12:51:30.779824Z"
    },
    "papermill": {
     "duration": 0.470278,
     "end_time": "2022-01-19T04:50:20.883111",
     "exception": false,
     "start_time": "2022-01-19T04:50:20.412833",
     "status": "completed"
    },
    "tags": []
   },
   "outputs": [],
   "source": [
    "results=sc.predict(test)"
   ]
  },
  {
   "cell_type": "code",
   "execution_count": 96,
   "id": "286cccd0",
   "metadata": {
    "execution": {
     "iopub.execute_input": "2022-01-19T04:50:21.775594Z",
     "iopub.status.busy": "2022-01-19T04:50:21.774951Z",
     "iopub.status.idle": "2022-01-19T04:50:21.790818Z",
     "shell.execute_reply": "2022-01-19T04:50:21.791347Z",
     "shell.execute_reply.started": "2021-12-30T12:51:30.810653Z"
    },
    "papermill": {
     "duration": 0.46255,
     "end_time": "2022-01-19T04:50:21.791544",
     "exception": false,
     "start_time": "2022-01-19T04:50:21.328994",
     "status": "completed"
    },
    "tags": []
   },
   "outputs": [],
   "source": [
    "df_submission = pd.read_csv('/kaggle/input/titanic/gender_submission.csv')\n",
    "df_submission['Survived']=results\n",
    "df_submission.to_csv('submission.csv',index=False)"
   ]
  },
  {
   "cell_type": "code",
   "execution_count": 97,
   "id": "665fa4b2",
   "metadata": {
    "execution": {
     "iopub.execute_input": "2022-01-19T04:50:22.684234Z",
     "iopub.status.busy": "2022-01-19T04:50:22.683210Z",
     "iopub.status.idle": "2022-01-19T04:50:22.691588Z",
     "shell.execute_reply": "2022-01-19T04:50:22.692037Z",
     "shell.execute_reply.started": "2021-12-30T12:51:30.829294Z"
    },
    "papermill": {
     "duration": 0.456462,
     "end_time": "2022-01-19T04:50:22.692222",
     "exception": false,
     "start_time": "2022-01-19T04:50:22.235760",
     "status": "completed"
    },
    "tags": []
   },
   "outputs": [
    {
     "data": {
      "text/html": [
       "<div>\n",
       "<style scoped>\n",
       "    .dataframe tbody tr th:only-of-type {\n",
       "        vertical-align: middle;\n",
       "    }\n",
       "\n",
       "    .dataframe tbody tr th {\n",
       "        vertical-align: top;\n",
       "    }\n",
       "\n",
       "    .dataframe thead th {\n",
       "        text-align: right;\n",
       "    }\n",
       "</style>\n",
       "<table border=\"1\" class=\"dataframe\">\n",
       "  <thead>\n",
       "    <tr style=\"text-align: right;\">\n",
       "      <th></th>\n",
       "      <th>PassengerId</th>\n",
       "      <th>Survived</th>\n",
       "    </tr>\n",
       "  </thead>\n",
       "  <tbody>\n",
       "    <tr>\n",
       "      <th>0</th>\n",
       "      <td>892</td>\n",
       "      <td>0</td>\n",
       "    </tr>\n",
       "    <tr>\n",
       "      <th>1</th>\n",
       "      <td>893</td>\n",
       "      <td>0</td>\n",
       "    </tr>\n",
       "    <tr>\n",
       "      <th>2</th>\n",
       "      <td>894</td>\n",
       "      <td>0</td>\n",
       "    </tr>\n",
       "    <tr>\n",
       "      <th>3</th>\n",
       "      <td>895</td>\n",
       "      <td>0</td>\n",
       "    </tr>\n",
       "    <tr>\n",
       "      <th>4</th>\n",
       "      <td>896</td>\n",
       "      <td>1</td>\n",
       "    </tr>\n",
       "  </tbody>\n",
       "</table>\n",
       "</div>"
      ],
      "text/plain": [
       "   PassengerId  Survived\n",
       "0          892         0\n",
       "1          893         0\n",
       "2          894         0\n",
       "3          895         0\n",
       "4          896         1"
      ]
     },
     "execution_count": 97,
     "metadata": {},
     "output_type": "execute_result"
    }
   ],
   "source": [
    "df_submission.head()"
   ]
  },
  {
   "cell_type": "markdown",
   "id": "09b38270",
   "metadata": {
    "papermill": {
     "duration": 0.446648,
     "end_time": "2022-01-19T04:50:23.585481",
     "exception": false,
     "start_time": "2022-01-19T04:50:23.138833",
     "status": "completed"
    },
    "tags": []
   },
   "source": [
    "<center><p style=\"color:blue;font-size:17px;border:2px solid blue;border-radius:12px 10px;text-align:center;\"><b>Highly appreciate your questions or feedback related to this notebook.If you liked this Notebook, please do <span style=\"color:gold;\">upvote</span>. THANK YOU <span style='font-size:22px;'>&#128522;</span></b> </p></center>"
   ]
  },
  {
   "cell_type": "markdown",
   "id": "f37083a6",
   "metadata": {
    "papermill": {
     "duration": 0.542866,
     "end_time": "2022-01-19T04:50:24.572806",
     "exception": false,
     "start_time": "2022-01-19T04:50:24.029940",
     "status": "completed"
    },
    "tags": []
   },
   "source": [
    "\n",
    "<center><img src=\"https://media.giphy.com/media/cPeVtqO2TPYfhaLPhY/giphy.gif\" style=\"width:500px;height:280px;\"></center>"
   ]
  }
 ],
 "metadata": {
  "kernelspec": {
   "display_name": "Python 3",
   "language": "python",
   "name": "python3"
  },
  "language_info": {
   "codemirror_mode": {
    "name": "ipython",
    "version": 3
   },
   "file_extension": ".py",
   "mimetype": "text/x-python",
   "name": "python",
   "nbconvert_exporter": "python",
   "pygments_lexer": "ipython3",
   "version": "3.7.10"
  },
  "papermill": {
   "default_parameters": {},
   "duration": 1450.121702,
   "end_time": "2022-01-19T04:50:27.643244",
   "environment_variables": {},
   "exception": null,
   "input_path": "__notebook__.ipynb",
   "output_path": "__notebook__.ipynb",
   "parameters": {},
   "start_time": "2022-01-19T04:26:17.521542",
   "version": "2.3.3"
  }
 },
 "nbformat": 4,
 "nbformat_minor": 5
}
