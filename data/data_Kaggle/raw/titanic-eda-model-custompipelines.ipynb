{
 "cells": [
  {
   "cell_type": "code",
   "execution_count": 1,
   "id": "d58d68e6",
   "metadata": {
    "_cell_guid": "b1076dfc-b9ad-4769-8c92-a6c4dae69d19",
    "_uuid": "8f2839f25d086af736a60e9eeb907d3b93b6e0e5",
    "execution": {
     "iopub.execute_input": "2023-12-23T06:53:50.902227Z",
     "iopub.status.busy": "2023-12-23T06:53:50.900282Z",
     "iopub.status.idle": "2023-12-23T06:53:52.097602Z",
     "shell.execute_reply": "2023-12-23T06:53:52.096629Z",
     "shell.execute_reply.started": "2022-04-05T16:42:52.207321Z"
    },
    "papermill": {
     "duration": 1.249514,
     "end_time": "2023-12-23T06:53:52.097804",
     "exception": false,
     "start_time": "2023-12-23T06:53:50.848290",
     "status": "completed"
    },
    "tags": []
   },
   "outputs": [],
   "source": [
    "# Importing general libraries:-\n",
    "\n",
    "import numpy as np; \n",
    "from scipy.stats import mode;\n",
    "import pandas as pd;\n",
    "from pandasql import sqldf;\n",
    "import regex as re;\n",
    "\n",
    "import matplotlib.pyplot as plt; \n",
    "%matplotlib inline\n",
    "import seaborn as sns;\n",
    "sns.set_style('darkgrid');\n",
    "\n",
    "from warnings import filterwarnings;\n",
    "from termcolor import colored;\n",
    "\n",
    "from tqdm.notebook import tqdm;\n",
    "\n",
    "np.random.seed(10);"
   ]
  },
  {
   "cell_type": "code",
   "execution_count": 2,
   "id": "0862fc51",
   "metadata": {
    "execution": {
     "iopub.execute_input": "2023-12-23T06:53:52.184917Z",
     "iopub.status.busy": "2023-12-23T06:53:52.184066Z",
     "iopub.status.idle": "2023-12-23T06:53:53.809476Z",
     "shell.execute_reply": "2023-12-23T06:53:53.808714Z",
     "shell.execute_reply.started": "2022-04-05T16:42:53.395132Z"
    },
    "papermill": {
     "duration": 1.6729,
     "end_time": "2023-12-23T06:53:53.809674",
     "exception": false,
     "start_time": "2023-12-23T06:53:52.136774",
     "status": "completed"
    },
    "tags": []
   },
   "outputs": [
    {
     "data": {
      "text/html": [
       "<style type='text/css'>\n",
       ".datatable table.frame { margin-bottom: 0; }\n",
       ".datatable table.frame thead { border-bottom: none; }\n",
       ".datatable table.frame tr.coltypes td {  color: #FFFFFF;  line-height: 6px;  padding: 0 0.5em;}\n",
       ".datatable .bool    { background: #DDDD99; }\n",
       ".datatable .object  { background: #565656; }\n",
       ".datatable .int     { background: #5D9E5D; }\n",
       ".datatable .float   { background: #4040CC; }\n",
       ".datatable .str     { background: #CC4040; }\n",
       ".datatable .time    { background: #40CC40; }\n",
       ".datatable .row_index {  background: var(--jp-border-color3);  border-right: 1px solid var(--jp-border-color0);  color: var(--jp-ui-font-color3);  font-size: 9px;}\n",
       ".datatable .frame tbody td { text-align: left; }\n",
       ".datatable .frame tr.coltypes .row_index {  background: var(--jp-border-color0);}\n",
       ".datatable th:nth-child(2) { padding-left: 12px; }\n",
       ".datatable .hellipsis {  color: var(--jp-cell-editor-border-color);}\n",
       ".datatable .vellipsis {  background: var(--jp-layout-color0);  color: var(--jp-cell-editor-border-color);}\n",
       ".datatable .na {  color: var(--jp-cell-editor-border-color);  font-size: 80%;}\n",
       ".datatable .sp {  opacity: 0.25;}\n",
       ".datatable .footer { font-size: 9px; }\n",
       ".datatable .frame_dimensions {  background: var(--jp-border-color3);  border-top: 1px solid var(--jp-border-color0);  color: var(--jp-ui-font-color3);  display: inline-block;  opacity: 0.6;  padding: 1px 10px 1px 5px;}\n",
       ".datatable .frame thead tr.colnames {  background-image: url('data:image/png;base64,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');  background-repeat: repeat-x;  background-size: 14px;  height: 28px;}\n",
       "</style>\n"
      ],
      "text/plain": [
       "<IPython.core.display.HTML object>"
      ]
     },
     "metadata": {},
     "output_type": "display_data"
    }
   ],
   "source": [
    "# Importing model specific libraries:-\n",
    "from sklearn_pandas import DataFrameMapper, gen_features;\n",
    "\n",
    "from sklearn.compose import make_column_selector;\n",
    "from sklearn.base import BaseEstimator, TransformerMixin;\n",
    "from sklearn.pipeline import make_pipeline, Pipeline ;\n",
    "from sklearn.preprocessing import FunctionTransformer, LabelEncoder, StandardScaler, RobustScaler, OrdinalEncoder;\n",
    "from sklearn.impute import SimpleImputer;\n",
    "\n",
    "from sklearn.model_selection import KFold, GridSearchCV;\n",
    "from sklearn.ensemble import GradientBoostingClassifier, RandomForestClassifier, StackingClassifier;\n",
    "from xgboost import XGBClassifier;\n",
    "from lightgbm import LGBMClassifier;\n",
    "from sklearn.svm import SVC;\n",
    "from sklearn.tree import DecisionTreeClassifier;\n",
    "from sklearn.linear_model import LogisticRegression;\n",
    "\n",
    "from sklearn.metrics import precision_score, recall_score, accuracy_score, roc_auc_score, f1_score, classification_report, confusion_matrix;"
   ]
  },
  {
   "cell_type": "code",
   "execution_count": null,
   "id": "2f13209f",
   "metadata": {
    "papermill": {
     "duration": 0.043178,
     "end_time": "2023-12-23T06:53:53.893352",
     "exception": false,
     "start_time": "2023-12-23T06:53:53.850174",
     "status": "completed"
    },
    "tags": []
   },
   "outputs": [],
   "source": []
  },
  {
   "cell_type": "markdown",
   "id": "d6a38e21",
   "metadata": {
    "papermill": {
     "duration": 0.041352,
     "end_time": "2023-12-23T06:53:53.976709",
     "exception": false,
     "start_time": "2023-12-23T06:53:53.935357",
     "status": "completed"
    },
    "tags": []
   },
   "source": [
    "# Titanic- Machine Learning from disaster"
   ]
  },
  {
   "cell_type": "code",
   "execution_count": 3,
   "id": "c3da572a",
   "metadata": {
    "execution": {
     "iopub.execute_input": "2023-12-23T06:53:54.068570Z",
     "iopub.status.busy": "2023-12-23T06:53:54.067698Z",
     "iopub.status.idle": "2023-12-23T06:53:54.218621Z",
     "shell.execute_reply": "2023-12-23T06:53:54.218022Z",
     "shell.execute_reply.started": "2022-04-05T16:42:55.023032Z"
    },
    "papermill": {
     "duration": 0.199757,
     "end_time": "2023-12-23T06:53:54.218787",
     "exception": false,
     "start_time": "2023-12-23T06:53:54.019030",
     "status": "completed"
    },
    "tags": []
   },
   "outputs": [
    {
     "name": "stdout",
     "output_type": "stream",
     "text": [
      "\u001b[1m\u001b[34mTrain-Test dataframe lengths = (891, 418)\u001b[0m\n",
      "\u001b[2m\u001b[1m\u001b[34m\n",
      "Train-set information\n",
      "\u001b[0m\n",
      "<class 'pandas.core.frame.DataFrame'>\n",
      "RangeIndex: 891 entries, 0 to 890\n",
      "Data columns (total 12 columns):\n",
      " #   Column       Non-Null Count  Dtype  \n",
      "---  ------       --------------  -----  \n",
      " 0   PassengerId  891 non-null    int64  \n",
      " 1   Survived     891 non-null    int64  \n",
      " 2   Pclass       891 non-null    int64  \n",
      " 3   Name         891 non-null    object \n",
      " 4   Sex          891 non-null    object \n",
      " 5   Age          714 non-null    float64\n",
      " 6   SibSp        891 non-null    int64  \n",
      " 7   Parch        891 non-null    int64  \n",
      " 8   Ticket       891 non-null    object \n",
      " 9   Fare         891 non-null    float64\n",
      " 10  Cabin        204 non-null    object \n",
      " 11  Embarked     889 non-null    object \n",
      "dtypes: float64(2), int64(5), object(5)\n",
      "memory usage: 83.7+ KB\n"
     ]
    },
    {
     "data": {
      "text/plain": [
       "None"
      ]
     },
     "metadata": {},
     "output_type": "display_data"
    },
    {
     "name": "stdout",
     "output_type": "stream",
     "text": [
      "\u001b[2m\u001b[1m\u001b[34m\n",
      "Train-set description\n",
      "\u001b[0m\n"
     ]
    },
    {
     "data": {
      "text/html": [
       "<style type=\"text/css\">\n",
       "</style>\n",
       "<table id=\"T_b341b_\">\n",
       "  <thead>\n",
       "    <tr>\n",
       "      <th class=\"blank level0\" >&nbsp;</th>\n",
       "      <th class=\"col_heading level0 col0\" >PassengerId</th>\n",
       "      <th class=\"col_heading level0 col1\" >Survived</th>\n",
       "      <th class=\"col_heading level0 col2\" >Pclass</th>\n",
       "      <th class=\"col_heading level0 col3\" >Age</th>\n",
       "      <th class=\"col_heading level0 col4\" >SibSp</th>\n",
       "      <th class=\"col_heading level0 col5\" >Parch</th>\n",
       "      <th class=\"col_heading level0 col6\" >Fare</th>\n",
       "    </tr>\n",
       "  </thead>\n",
       "  <tbody>\n",
       "    <tr>\n",
       "      <th id=\"T_b341b_level0_row0\" class=\"row_heading level0 row0\" >count</th>\n",
       "      <td id=\"T_b341b_row0_col0\" class=\"data row0 col0\" >891.00</td>\n",
       "      <td id=\"T_b341b_row0_col1\" class=\"data row0 col1\" >891.00</td>\n",
       "      <td id=\"T_b341b_row0_col2\" class=\"data row0 col2\" >891.00</td>\n",
       "      <td id=\"T_b341b_row0_col3\" class=\"data row0 col3\" >714.00</td>\n",
       "      <td id=\"T_b341b_row0_col4\" class=\"data row0 col4\" >891.00</td>\n",
       "      <td id=\"T_b341b_row0_col5\" class=\"data row0 col5\" >891.00</td>\n",
       "      <td id=\"T_b341b_row0_col6\" class=\"data row0 col6\" >891.00</td>\n",
       "    </tr>\n",
       "    <tr>\n",
       "      <th id=\"T_b341b_level0_row1\" class=\"row_heading level0 row1\" >mean</th>\n",
       "      <td id=\"T_b341b_row1_col0\" class=\"data row1 col0\" >446.00</td>\n",
       "      <td id=\"T_b341b_row1_col1\" class=\"data row1 col1\" >0.38</td>\n",
       "      <td id=\"T_b341b_row1_col2\" class=\"data row1 col2\" >2.31</td>\n",
       "      <td id=\"T_b341b_row1_col3\" class=\"data row1 col3\" >29.70</td>\n",
       "      <td id=\"T_b341b_row1_col4\" class=\"data row1 col4\" >0.52</td>\n",
       "      <td id=\"T_b341b_row1_col5\" class=\"data row1 col5\" >0.38</td>\n",
       "      <td id=\"T_b341b_row1_col6\" class=\"data row1 col6\" >32.20</td>\n",
       "    </tr>\n",
       "    <tr>\n",
       "      <th id=\"T_b341b_level0_row2\" class=\"row_heading level0 row2\" >std</th>\n",
       "      <td id=\"T_b341b_row2_col0\" class=\"data row2 col0\" >257.35</td>\n",
       "      <td id=\"T_b341b_row2_col1\" class=\"data row2 col1\" >0.49</td>\n",
       "      <td id=\"T_b341b_row2_col2\" class=\"data row2 col2\" >0.84</td>\n",
       "      <td id=\"T_b341b_row2_col3\" class=\"data row2 col3\" >14.53</td>\n",
       "      <td id=\"T_b341b_row2_col4\" class=\"data row2 col4\" >1.10</td>\n",
       "      <td id=\"T_b341b_row2_col5\" class=\"data row2 col5\" >0.81</td>\n",
       "      <td id=\"T_b341b_row2_col6\" class=\"data row2 col6\" >49.69</td>\n",
       "    </tr>\n",
       "    <tr>\n",
       "      <th id=\"T_b341b_level0_row3\" class=\"row_heading level0 row3\" >min</th>\n",
       "      <td id=\"T_b341b_row3_col0\" class=\"data row3 col0\" >1.00</td>\n",
       "      <td id=\"T_b341b_row3_col1\" class=\"data row3 col1\" >0.00</td>\n",
       "      <td id=\"T_b341b_row3_col2\" class=\"data row3 col2\" >1.00</td>\n",
       "      <td id=\"T_b341b_row3_col3\" class=\"data row3 col3\" >0.42</td>\n",
       "      <td id=\"T_b341b_row3_col4\" class=\"data row3 col4\" >0.00</td>\n",
       "      <td id=\"T_b341b_row3_col5\" class=\"data row3 col5\" >0.00</td>\n",
       "      <td id=\"T_b341b_row3_col6\" class=\"data row3 col6\" >0.00</td>\n",
       "    </tr>\n",
       "    <tr>\n",
       "      <th id=\"T_b341b_level0_row4\" class=\"row_heading level0 row4\" >25%</th>\n",
       "      <td id=\"T_b341b_row4_col0\" class=\"data row4 col0\" >223.50</td>\n",
       "      <td id=\"T_b341b_row4_col1\" class=\"data row4 col1\" >0.00</td>\n",
       "      <td id=\"T_b341b_row4_col2\" class=\"data row4 col2\" >2.00</td>\n",
       "      <td id=\"T_b341b_row4_col3\" class=\"data row4 col3\" >20.12</td>\n",
       "      <td id=\"T_b341b_row4_col4\" class=\"data row4 col4\" >0.00</td>\n",
       "      <td id=\"T_b341b_row4_col5\" class=\"data row4 col5\" >0.00</td>\n",
       "      <td id=\"T_b341b_row4_col6\" class=\"data row4 col6\" >7.91</td>\n",
       "    </tr>\n",
       "    <tr>\n",
       "      <th id=\"T_b341b_level0_row5\" class=\"row_heading level0 row5\" >50%</th>\n",
       "      <td id=\"T_b341b_row5_col0\" class=\"data row5 col0\" >446.00</td>\n",
       "      <td id=\"T_b341b_row5_col1\" class=\"data row5 col1\" >0.00</td>\n",
       "      <td id=\"T_b341b_row5_col2\" class=\"data row5 col2\" >3.00</td>\n",
       "      <td id=\"T_b341b_row5_col3\" class=\"data row5 col3\" >28.00</td>\n",
       "      <td id=\"T_b341b_row5_col4\" class=\"data row5 col4\" >0.00</td>\n",
       "      <td id=\"T_b341b_row5_col5\" class=\"data row5 col5\" >0.00</td>\n",
       "      <td id=\"T_b341b_row5_col6\" class=\"data row5 col6\" >14.45</td>\n",
       "    </tr>\n",
       "    <tr>\n",
       "      <th id=\"T_b341b_level0_row6\" class=\"row_heading level0 row6\" >75%</th>\n",
       "      <td id=\"T_b341b_row6_col0\" class=\"data row6 col0\" >668.50</td>\n",
       "      <td id=\"T_b341b_row6_col1\" class=\"data row6 col1\" >1.00</td>\n",
       "      <td id=\"T_b341b_row6_col2\" class=\"data row6 col2\" >3.00</td>\n",
       "      <td id=\"T_b341b_row6_col3\" class=\"data row6 col3\" >38.00</td>\n",
       "      <td id=\"T_b341b_row6_col4\" class=\"data row6 col4\" >1.00</td>\n",
       "      <td id=\"T_b341b_row6_col5\" class=\"data row6 col5\" >0.00</td>\n",
       "      <td id=\"T_b341b_row6_col6\" class=\"data row6 col6\" >31.00</td>\n",
       "    </tr>\n",
       "    <tr>\n",
       "      <th id=\"T_b341b_level0_row7\" class=\"row_heading level0 row7\" >max</th>\n",
       "      <td id=\"T_b341b_row7_col0\" class=\"data row7 col0\" >891.00</td>\n",
       "      <td id=\"T_b341b_row7_col1\" class=\"data row7 col1\" >1.00</td>\n",
       "      <td id=\"T_b341b_row7_col2\" class=\"data row7 col2\" >3.00</td>\n",
       "      <td id=\"T_b341b_row7_col3\" class=\"data row7 col3\" >80.00</td>\n",
       "      <td id=\"T_b341b_row7_col4\" class=\"data row7 col4\" >8.00</td>\n",
       "      <td id=\"T_b341b_row7_col5\" class=\"data row7 col5\" >6.00</td>\n",
       "      <td id=\"T_b341b_row7_col6\" class=\"data row7 col6\" >512.33</td>\n",
       "    </tr>\n",
       "  </tbody>\n",
       "</table>\n"
      ],
      "text/plain": [
       "<pandas.io.formats.style.Styler at 0x7c036f942a50>"
      ]
     },
     "metadata": {},
     "output_type": "display_data"
    }
   ],
   "source": [
    "# Loading relevant data-sets:-\n",
    "xytrain = pd.read_csv('../input/titanic/train.csv', encoding = 'utf8');\n",
    "xtest = pd.read_csv('../input/titanic/test.csv', encoding = 'utf8');\n",
    "\n",
    "# Splitting the training data into features and target:-\n",
    "xtrain, ytrain = xytrain.drop('Survived', axis= 1), xytrain[['Survived']];\n",
    "\n",
    "print(colored(F\"Train-Test dataframe lengths = {len(xytrain), len(xtest)}\", color= 'blue', attrs= ['bold']));\n",
    "print(colored(F\"\\nTrain-set information\\n\", color = 'blue', attrs= ['bold', 'dark']));\n",
    "display(xytrain.info());\n",
    "print(colored(F\"\\nTrain-set description\\n\", color = 'blue', attrs= ['bold', 'dark']));\n",
    "display(xytrain.describe().style.format('{:.2f}'));"
   ]
  },
  {
   "cell_type": "markdown",
   "id": "560701fe",
   "metadata": {
    "papermill": {
     "duration": 0.043316,
     "end_time": "2023-12-23T06:53:54.306315",
     "exception": false,
     "start_time": "2023-12-23T06:53:54.262999",
     "status": "completed"
    },
    "tags": []
   },
   "source": [
    "# 1. Data processing and visualization\n",
    "\n",
    "We explore the data set, look into the features, study their distributions, assess nulls and understand the data effectively in this section.\n",
    "These ideas will be used in the next section in the data pipeline."
   ]
  },
  {
   "cell_type": "markdown",
   "id": "c840d5cf",
   "metadata": {
    "papermill": {
     "duration": 0.045464,
     "end_time": "2023-12-23T06:53:54.398380",
     "exception": false,
     "start_time": "2023-12-23T06:53:54.352916",
     "status": "completed"
    },
    "tags": []
   },
   "source": [
    "### a. Target column details:-"
   ]
  },
  {
   "cell_type": "code",
   "execution_count": 4,
   "id": "419525a1",
   "metadata": {
    "execution": {
     "iopub.execute_input": "2023-12-23T06:53:54.490560Z",
     "iopub.status.busy": "2023-12-23T06:53:54.489758Z",
     "iopub.status.idle": "2023-12-23T06:53:54.948971Z",
     "shell.execute_reply": "2023-12-23T06:53:54.949519Z",
     "shell.execute_reply.started": "2022-04-05T16:42:55.172337Z"
    },
    "papermill": {
     "duration": 0.506331,
     "end_time": "2023-12-23T06:53:54.949721",
     "exception": false,
     "start_time": "2023-12-23T06:53:54.443390",
     "status": "completed"
    },
    "tags": []
   },
   "outputs": [
    {
     "data": {
      "image/png": "[encoded data removed]",
      "text/plain": [
       "<Figure size 432x432 with 1 Axes>"
      ]
     },
     "metadata": {},
     "output_type": "display_data"
    }
   ],
   "source": [
    "plt.subplots(1,1,figsize= (6,6));\n",
    "ax = ytrain.value_counts().plot.bar(color= 'tab:blue');\n",
    "ax.set_title(\"Surviver analysis for train set\", color = 'tab:blue', fontsize= 12);\n",
    "ax.set_xlabel('Survival status', color= 'tab:blue');\n",
    "ax.set_yticks(range(0, len(xtrain), 50));\n",
    "ax.set_ylabel('Passengers', color= 'tab:blue');\n",
    "plt.xticks(rotation = 0);\n",
    "plt.show();"
   ]
  },
  {
   "cell_type": "markdown",
   "id": "2e058919",
   "metadata": {
    "papermill": {
     "duration": 0.045317,
     "end_time": "2023-12-23T06:53:55.038966",
     "exception": false,
     "start_time": "2023-12-23T06:53:54.993649",
     "status": "completed"
    },
    "tags": []
   },
   "source": [
    "### b. Passenger class and gender:-"
   ]
  },
  {
   "cell_type": "code",
   "execution_count": 5,
   "id": "ca27c86c",
   "metadata": {
    "execution": {
     "iopub.execute_input": "2023-12-23T06:53:55.134505Z",
     "iopub.status.busy": "2023-12-23T06:53:55.133719Z",
     "iopub.status.idle": "2023-12-23T06:53:55.649192Z",
     "shell.execute_reply": "2023-12-23T06:53:55.647846Z",
     "shell.execute_reply.started": "2022-04-05T16:42:55.59096Z"
    },
    "papermill": {
     "duration": 0.563215,
     "end_time": "2023-12-23T06:53:55.649394",
     "exception": false,
     "start_time": "2023-12-23T06:53:55.086179",
     "status": "completed"
    },
    "tags": []
   },
   "outputs": [
    {
     "name": "stdout",
     "output_type": "stream",
     "text": [
      "\u001b[2m\u001b[1m\u001b[34m\n",
      "Survival rate by gender and pclass\n",
      "\u001b[0m\n"
     ]
    },
    {
     "data": {
      "text/html": [
       "<style type=\"text/css\">\n",
       "</style>\n",
       "<table id=\"T_71599_\">\n",
       "  <thead>\n",
       "    <tr>\n",
       "      <th class=\"blank\" >&nbsp;</th>\n",
       "      <th class=\"blank level0\" >&nbsp;</th>\n",
       "      <th class=\"col_heading level0 col0\" >Survivors</th>\n",
       "      <th class=\"col_heading level0 col1\" >Passengers</th>\n",
       "      <th class=\"col_heading level0 col2\" >Survival_Rate</th>\n",
       "    </tr>\n",
       "    <tr>\n",
       "      <th class=\"index_name level0\" >Sex</th>\n",
       "      <th class=\"index_name level1\" >Pclass</th>\n",
       "      <th class=\"blank col0\" >&nbsp;</th>\n",
       "      <th class=\"blank col1\" >&nbsp;</th>\n",
       "      <th class=\"blank col2\" >&nbsp;</th>\n",
       "    </tr>\n",
       "  </thead>\n",
       "  <tbody>\n",
       "    <tr>\n",
       "      <th id=\"T_71599_level0_row0\" class=\"row_heading level0 row0\" >female</th>\n",
       "      <th id=\"T_71599_level1_row0\" class=\"row_heading level1 row0\" >1</th>\n",
       "      <td id=\"T_71599_row0_col0\" class=\"data row0 col0\" >91</td>\n",
       "      <td id=\"T_71599_row0_col1\" class=\"data row0 col1\" >94</td>\n",
       "      <td id=\"T_71599_row0_col2\" class=\"data row0 col2\" >96.81%</td>\n",
       "    </tr>\n",
       "    <tr>\n",
       "      <th id=\"T_71599_level0_row1\" class=\"row_heading level0 row1\" >male</th>\n",
       "      <th id=\"T_71599_level1_row1\" class=\"row_heading level1 row1\" >1</th>\n",
       "      <td id=\"T_71599_row1_col0\" class=\"data row1 col0\" >45</td>\n",
       "      <td id=\"T_71599_row1_col1\" class=\"data row1 col1\" >122</td>\n",
       "      <td id=\"T_71599_row1_col2\" class=\"data row1 col2\" >36.89%</td>\n",
       "    </tr>\n",
       "    <tr>\n",
       "      <th id=\"T_71599_level0_row2\" class=\"row_heading level0 row2\" >female</th>\n",
       "      <th id=\"T_71599_level1_row2\" class=\"row_heading level1 row2\" >2</th>\n",
       "      <td id=\"T_71599_row2_col0\" class=\"data row2 col0\" >70</td>\n",
       "      <td id=\"T_71599_row2_col1\" class=\"data row2 col1\" >76</td>\n",
       "      <td id=\"T_71599_row2_col2\" class=\"data row2 col2\" >92.11%</td>\n",
       "    </tr>\n",
       "    <tr>\n",
       "      <th id=\"T_71599_level0_row3\" class=\"row_heading level0 row3\" >male</th>\n",
       "      <th id=\"T_71599_level1_row3\" class=\"row_heading level1 row3\" >2</th>\n",
       "      <td id=\"T_71599_row3_col0\" class=\"data row3 col0\" >17</td>\n",
       "      <td id=\"T_71599_row3_col1\" class=\"data row3 col1\" >108</td>\n",
       "      <td id=\"T_71599_row3_col2\" class=\"data row3 col2\" >15.74%</td>\n",
       "    </tr>\n",
       "    <tr>\n",
       "      <th id=\"T_71599_level0_row4\" class=\"row_heading level0 row4\" >female</th>\n",
       "      <th id=\"T_71599_level1_row4\" class=\"row_heading level1 row4\" >3</th>\n",
       "      <td id=\"T_71599_row4_col0\" class=\"data row4 col0\" >72</td>\n",
       "      <td id=\"T_71599_row4_col1\" class=\"data row4 col1\" >144</td>\n",
       "      <td id=\"T_71599_row4_col2\" class=\"data row4 col2\" >50.00%</td>\n",
       "    </tr>\n",
       "    <tr>\n",
       "      <th id=\"T_71599_level0_row5\" class=\"row_heading level0 row5\" >male</th>\n",
       "      <th id=\"T_71599_level1_row5\" class=\"row_heading level1 row5\" >3</th>\n",
       "      <td id=\"T_71599_row5_col0\" class=\"data row5 col0\" >47</td>\n",
       "      <td id=\"T_71599_row5_col1\" class=\"data row5 col1\" >347</td>\n",
       "      <td id=\"T_71599_row5_col2\" class=\"data row5 col2\" >13.54%</td>\n",
       "    </tr>\n",
       "  </tbody>\n",
       "</table>\n"
      ],
      "text/plain": [
       "<pandas.io.formats.style.Styler at 0x7c03271d9fd0>"
      ]
     },
     "metadata": {},
     "output_type": "display_data"
    },
    {
     "name": "stdout",
     "output_type": "stream",
     "text": [
      "\n",
      "\n"
     ]
    },
    {
     "data": {
      "image/png": "[encoded data removed]",
      "text/plain": [
       "<Figure size 864x432 with 2 Axes>"
      ]
     },
     "metadata": {},
     "output_type": "display_data"
    }
   ],
   "source": [
    "_ = xytrain.groupby(['Sex', 'Pclass']).agg(Survivors = pd.NamedAgg('Survived', np.sum),Passengers = pd.NamedAgg('Survived', np.size)).sort_index(level=[1,0])\n",
    "_['Survival_Rate'] = _['Survivors'] / _['Passengers'];\n",
    "print(colored(f'\\nSurvival rate by gender and pclass\\n', color = 'blue', attrs= ['bold', 'dark']));\n",
    "display(_.style.format({'Survival_Rate':'{:.2%}'}))\n",
    "\n",
    "_0 = _.groupby(level= 0).agg({'Survivors':np.sum, 'Passengers':np.sum});\n",
    "_0['Survival_Rate'] = _0['Survivors'] / _0['Passengers'];\n",
    "\n",
    "_1 = _.groupby(level= 1).agg({'Survivors':np.sum, 'Passengers':np.sum});\n",
    "_1['Survival_Rate'] = _1['Survivors'] / _1['Passengers'];\n",
    "\n",
    "print('\\n');\n",
    "fig, ax = plt.subplots(nrows= 1,ncols=2,figsize = (12,6), sharey= True);\n",
    "sns.barplot(x = _0.index, y = _0.Survival_Rate, palette = 'Blues', ax = ax[0]);\n",
    "sns.barplot(x = _1.index, y = _1.Survival_Rate, palette = 'Blues', ax= ax[1]);\n",
    "ax[0].set_title(\"Survival analysis by gender\", color = 'tab:blue', fontsize = 12);\n",
    "ax[1].set_title(\"Survival analysis by passenger class\", color = 'tab:blue', fontsize = 12);\n",
    "plt.yticks(np.arange(0,1,0.05),fontsize= 8, color = 'blue');\n",
    "plt.show()\n",
    "\n",
    "del _, _0, _1;"
   ]
  },
  {
   "cell_type": "markdown",
   "id": "323a4297",
   "metadata": {
    "papermill": {
     "duration": 0.0536,
     "end_time": "2023-12-23T06:53:55.754638",
     "exception": false,
     "start_time": "2023-12-23T06:53:55.701038",
     "status": "completed"
    },
    "tags": []
   },
   "source": [
    "### c. Age:-"
   ]
  },
  {
   "cell_type": "code",
   "execution_count": 6,
   "id": "104fbf4f",
   "metadata": {
    "execution": {
     "iopub.execute_input": "2023-12-23T06:53:55.926608Z",
     "iopub.status.busy": "2023-12-23T06:53:55.917548Z",
     "iopub.status.idle": "2023-12-23T06:53:56.503698Z",
     "shell.execute_reply": "2023-12-23T06:53:56.504279Z",
     "shell.execute_reply.started": "2022-04-05T16:42:56.00588Z"
    },
    "papermill": {
     "duration": 0.702013,
     "end_time": "2023-12-23T06:53:56.504485",
     "exception": false,
     "start_time": "2023-12-23T06:53:55.802472",
     "status": "completed"
    },
    "tags": []
   },
   "outputs": [
    {
     "data": {
      "image/png": "[encoded data removed]",
      "text/plain": [
       "<Figure size 1296x432 with 2 Axes>"
      ]
     },
     "metadata": {},
     "output_type": "display_data"
    }
   ],
   "source": [
    "fig, ax = plt.subplots(1,2,figsize = (18,6));\n",
    "sns.histplot(x = xytrain['Age'], kde= True, palette = 'Blues', ax = ax[0]);\n",
    "ax[0].set_title(f\"Overall age distribution analysis\", color = 'tab:blue', fontsize= 12 )\n",
    "\n",
    "sns.boxplot(x = xytrain.Pclass, y = xytrain.Age, palette = 'Blues', ax = ax[1]);\n",
    "ax[1].set_title(f\"Age distribution per Pclass\", color = 'tab:blue', fontsize= 12);\n",
    "\n",
    "plt.show();"
   ]
  },
  {
   "cell_type": "markdown",
   "id": "01e051ff",
   "metadata": {
    "papermill": {
     "duration": 0.053896,
     "end_time": "2023-12-23T06:53:56.608289",
     "exception": false,
     "start_time": "2023-12-23T06:53:56.554393",
     "status": "completed"
    },
    "tags": []
   },
   "source": [
    "### d. Ticket fare:-"
   ]
  },
  {
   "cell_type": "code",
   "execution_count": 7,
   "id": "9fe8aeee",
   "metadata": {
    "execution": {
     "iopub.execute_input": "2023-12-23T06:53:56.717242Z",
     "iopub.status.busy": "2023-12-23T06:53:56.716138Z",
     "iopub.status.idle": "2023-12-23T06:53:56.740117Z",
     "shell.execute_reply": "2023-12-23T06:53:56.740722Z",
     "shell.execute_reply.started": "2022-04-05T16:42:56.524781Z"
    },
    "papermill": {
     "duration": 0.079058,
     "end_time": "2023-12-23T06:53:56.740935",
     "exception": false,
     "start_time": "2023-12-23T06:53:56.661877",
     "status": "completed"
    },
    "tags": []
   },
   "outputs": [
    {
     "name": "stdout",
     "output_type": "stream",
     "text": [
      "\u001b[2m\u001b[1m\u001b[34m\n",
      "Ticket fare by Pclass and survivorship\n",
      "\u001b[0m\n"
     ]
    },
    {
     "data": {
      "text/html": [
       "<style type=\"text/css\">\n",
       "</style>\n",
       "<table id=\"T_4991d_\">\n",
       "  <thead>\n",
       "    <tr>\n",
       "      <th class=\"blank\" >&nbsp;</th>\n",
       "      <th class=\"blank level0\" >&nbsp;</th>\n",
       "      <th class=\"col_heading level0 col0\" colspan=\"4\">Fare</th>\n",
       "    </tr>\n",
       "    <tr>\n",
       "      <th class=\"blank\" >&nbsp;</th>\n",
       "      <th class=\"blank level1\" >&nbsp;</th>\n",
       "      <th class=\"col_heading level1 col0\" >amin</th>\n",
       "      <th class=\"col_heading level1 col1\" >median</th>\n",
       "      <th class=\"col_heading level1 col2\" >mean</th>\n",
       "      <th class=\"col_heading level1 col3\" >amax</th>\n",
       "    </tr>\n",
       "    <tr>\n",
       "      <th class=\"index_name level0\" >Pclass</th>\n",
       "      <th class=\"index_name level1\" >Survived</th>\n",
       "      <th class=\"blank col0\" >&nbsp;</th>\n",
       "      <th class=\"blank col1\" >&nbsp;</th>\n",
       "      <th class=\"blank col2\" >&nbsp;</th>\n",
       "      <th class=\"blank col3\" >&nbsp;</th>\n",
       "    </tr>\n",
       "  </thead>\n",
       "  <tbody>\n",
       "    <tr>\n",
       "      <th id=\"T_4991d_level0_row0\" class=\"row_heading level0 row0\" rowspan=\"2\">1</th>\n",
       "      <th id=\"T_4991d_level1_row0\" class=\"row_heading level1 row0\" >0</th>\n",
       "      <td id=\"T_4991d_row0_col0\" class=\"data row0 col0\" >0.00</td>\n",
       "      <td id=\"T_4991d_row0_col1\" class=\"data row0 col1\" >44.75</td>\n",
       "      <td id=\"T_4991d_row0_col2\" class=\"data row0 col2\" >64.68</td>\n",
       "      <td id=\"T_4991d_row0_col3\" class=\"data row0 col3\" >263.00</td>\n",
       "    </tr>\n",
       "    <tr>\n",
       "      <th id=\"T_4991d_level1_row1\" class=\"row_heading level1 row1\" >1</th>\n",
       "      <td id=\"T_4991d_row1_col0\" class=\"data row1 col0\" >25.93</td>\n",
       "      <td id=\"T_4991d_row1_col1\" class=\"data row1 col1\" >77.96</td>\n",
       "      <td id=\"T_4991d_row1_col2\" class=\"data row1 col2\" >95.61</td>\n",
       "      <td id=\"T_4991d_row1_col3\" class=\"data row1 col3\" >512.33</td>\n",
       "    </tr>\n",
       "    <tr>\n",
       "      <th id=\"T_4991d_level0_row2\" class=\"row_heading level0 row2\" rowspan=\"2\">2</th>\n",
       "      <th id=\"T_4991d_level1_row2\" class=\"row_heading level1 row2\" >0</th>\n",
       "      <td id=\"T_4991d_row2_col0\" class=\"data row2 col0\" >0.00</td>\n",
       "      <td id=\"T_4991d_row2_col1\" class=\"data row2 col1\" >13.00</td>\n",
       "      <td id=\"T_4991d_row2_col2\" class=\"data row2 col2\" >19.41</td>\n",
       "      <td id=\"T_4991d_row2_col3\" class=\"data row2 col3\" >73.50</td>\n",
       "    </tr>\n",
       "    <tr>\n",
       "      <th id=\"T_4991d_level1_row3\" class=\"row_heading level1 row3\" >1</th>\n",
       "      <td id=\"T_4991d_row3_col0\" class=\"data row3 col0\" >10.50</td>\n",
       "      <td id=\"T_4991d_row3_col1\" class=\"data row3 col1\" >21.00</td>\n",
       "      <td id=\"T_4991d_row3_col2\" class=\"data row3 col2\" >22.06</td>\n",
       "      <td id=\"T_4991d_row3_col3\" class=\"data row3 col3\" >65.00</td>\n",
       "    </tr>\n",
       "    <tr>\n",
       "      <th id=\"T_4991d_level0_row4\" class=\"row_heading level0 row4\" rowspan=\"2\">3</th>\n",
       "      <th id=\"T_4991d_level1_row4\" class=\"row_heading level1 row4\" >0</th>\n",
       "      <td id=\"T_4991d_row4_col0\" class=\"data row4 col0\" >0.00</td>\n",
       "      <td id=\"T_4991d_row4_col1\" class=\"data row4 col1\" >8.05</td>\n",
       "      <td id=\"T_4991d_row4_col2\" class=\"data row4 col2\" >13.67</td>\n",
       "      <td id=\"T_4991d_row4_col3\" class=\"data row4 col3\" >69.55</td>\n",
       "    </tr>\n",
       "    <tr>\n",
       "      <th id=\"T_4991d_level1_row5\" class=\"row_heading level1 row5\" >1</th>\n",
       "      <td id=\"T_4991d_row5_col0\" class=\"data row5 col0\" >0.00</td>\n",
       "      <td id=\"T_4991d_row5_col1\" class=\"data row5 col1\" >8.52</td>\n",
       "      <td id=\"T_4991d_row5_col2\" class=\"data row5 col2\" >13.69</td>\n",
       "      <td id=\"T_4991d_row5_col3\" class=\"data row5 col3\" >56.50</td>\n",
       "    </tr>\n",
       "  </tbody>\n",
       "</table>\n"
      ],
      "text/plain": [
       "<pandas.io.formats.style.Styler at 0x7c031cd1f790>"
      ]
     },
     "metadata": {},
     "output_type": "display_data"
    }
   ],
   "source": [
    "print(colored(f\"\\nTicket fare by Pclass and survivorship\\n\", color = 'blue', attrs= ['bold', 'dark']));\n",
    "display(xytrain.groupby(['Pclass', 'Survived']).agg({'Fare': [np.amin, np.median, np.mean, np.amax]}).style.format('{:.2f}'))"
   ]
  },
  {
   "cell_type": "markdown",
   "id": "9e529460",
   "metadata": {
    "papermill": {
     "duration": 0.050947,
     "end_time": "2023-12-23T06:53:56.845241",
     "exception": false,
     "start_time": "2023-12-23T06:53:56.794294",
     "status": "completed"
    },
    "tags": []
   },
   "source": [
    "### e. Null valued columns:-"
   ]
  },
  {
   "cell_type": "code",
   "execution_count": 8,
   "id": "52383d1f",
   "metadata": {
    "execution": {
     "iopub.execute_input": "2023-12-23T06:53:56.955484Z",
     "iopub.status.busy": "2023-12-23T06:53:56.954324Z",
     "iopub.status.idle": "2023-12-23T06:53:57.722551Z",
     "shell.execute_reply": "2023-12-23T06:53:57.721670Z",
     "shell.execute_reply.started": "2022-04-05T16:42:56.550754Z"
    },
    "papermill": {
     "duration": 0.825646,
     "end_time": "2023-12-23T06:53:57.722733",
     "exception": false,
     "start_time": "2023-12-23T06:53:56.897087",
     "status": "completed"
    },
    "tags": []
   },
   "outputs": [
    {
     "name": "stdout",
     "output_type": "stream",
     "text": [
      "\n",
      "\n"
     ]
    },
    {
     "data": {
      "image/png": "[encoded data removed]",
      "text/plain": [
       "<Figure size 576x576 with 1 Axes>"
      ]
     },
     "metadata": {},
     "output_type": "display_data"
    },
    {
     "name": "stdout",
     "output_type": "stream",
     "text": [
      "\u001b[34mNulls in train data\n",
      "\u001b[0m\n"
     ]
    },
    {
     "data": {
      "text/plain": [
       "PassengerId      0\n",
       "Pclass           0\n",
       "Name             0\n",
       "Sex              0\n",
       "Age            177\n",
       "SibSp            0\n",
       "Parch            0\n",
       "Ticket           0\n",
       "Fare             0\n",
       "Cabin          687\n",
       "Embarked         2\n",
       "dtype: int64"
      ]
     },
     "metadata": {},
     "output_type": "display_data"
    },
    {
     "name": "stdout",
     "output_type": "stream",
     "text": [
      "\n",
      "\n"
     ]
    },
    {
     "data": {
      "image/png": "[encoded data removed]",
      "text/plain": [
       "<Figure size 576x576 with 1 Axes>"
      ]
     },
     "metadata": {},
     "output_type": "display_data"
    },
    {
     "name": "stdout",
     "output_type": "stream",
     "text": [
      "\u001b[34mNulls in test data\n",
      "\u001b[0m\n"
     ]
    },
    {
     "data": {
      "text/plain": [
       "PassengerId      0\n",
       "Pclass           0\n",
       "Name             0\n",
       "Sex              0\n",
       "Age             86\n",
       "SibSp            0\n",
       "Parch            0\n",
       "Ticket           0\n",
       "Fare             1\n",
       "Cabin          327\n",
       "Embarked         0\n",
       "dtype: int64"
      ]
     },
     "metadata": {},
     "output_type": "display_data"
    }
   ],
   "source": [
    "# Plotting null columns across the data-sets:-\n",
    "def Plot_NullCol(df, df_type):\n",
    "    \"\"\"\n",
    "    This function plots the relevant data-set and scans for nulls across columns\n",
    "    Inputs- \n",
    "    df (dataframe):- The relevant data-frame for analysis\n",
    "    df_type (string):- Type of data (training/ test)\n",
    "    \"\"\";\n",
    "    \n",
    "    global xtrain;\n",
    "    _ = df.isna().sum(axis= 0);\n",
    "    print('\\n');\n",
    "    \n",
    "    plt.subplots(1,1, figsize= (8,8))\n",
    "    ax= _.plot.bar(color= 'tab:blue');\n",
    "    ax.set_title(f\"Columns with null values in {df_type} data\", color = 'tab:blue', fontsize= 12);\n",
    "    ax.set_yticks(range(0, len(xtrain),50));\n",
    "    ax.axhline(y= len(xtrain)/4, linewidth = 1.5, color= 'red');\n",
    "    ax.set_ylabel('Null values', color = 'tab:blue');\n",
    "    ax.set_xlabel('Features', color = 'tab:blue');\n",
    "    plt.show();\n",
    "    \n",
    "    print(colored(f\"Nulls in {df_type} data\\n\", color = 'blue'));\n",
    "    display(_);\n",
    "    del _;\n",
    "    \n",
    "\n",
    "# Plotting the train-test for nulls:-\n",
    "Plot_NullCol(xtrain, df_type= 'train');\n",
    "Plot_NullCol(xtest, df_type= 'test');"
   ]
  },
  {
   "cell_type": "markdown",
   "id": "315485d4",
   "metadata": {
    "papermill": {
     "duration": 0.060806,
     "end_time": "2023-12-23T06:53:57.847762",
     "exception": false,
     "start_time": "2023-12-23T06:53:57.786956",
     "status": "completed"
    },
    "tags": []
   },
   "source": [
    "### f. Cabin null inference in training set:-"
   ]
  },
  {
   "cell_type": "code",
   "execution_count": 9,
   "id": "8f674ebb",
   "metadata": {
    "execution": {
     "iopub.execute_input": "2023-12-23T06:53:57.981606Z",
     "iopub.status.busy": "2023-12-23T06:53:57.974843Z",
     "iopub.status.idle": "2023-12-23T06:53:58.007678Z",
     "shell.execute_reply": "2023-12-23T06:53:58.006781Z",
     "shell.execute_reply.started": "2022-04-05T16:42:57.255096Z"
    },
    "papermill": {
     "duration": 0.099885,
     "end_time": "2023-12-23T06:53:58.007887",
     "exception": false,
     "start_time": "2023-12-23T06:53:57.908002",
     "status": "completed"
    },
    "tags": []
   },
   "outputs": [
    {
     "name": "stdout",
     "output_type": "stream",
     "text": [
      "\u001b[2m\u001b[1m\u001b[34m\n",
      "Cabin column null inferences in training data-set\n",
      "\u001b[0m\n"
     ]
    },
    {
     "data": {
      "text/html": [
       "<style type=\"text/css\">\n",
       "</style>\n",
       "<table id=\"T_1f245_\">\n",
       "  <thead>\n",
       "    <tr>\n",
       "      <th class=\"blank\" >&nbsp;</th>\n",
       "      <th class=\"blank level0\" >&nbsp;</th>\n",
       "      <th class=\"col_heading level0 col0\" colspan=\"4\">Fare</th>\n",
       "      <th class=\"col_heading level0 col4\" >PassengerId</th>\n",
       "      <th class=\"col_heading level0 col5\" >Survived</th>\n",
       "    </tr>\n",
       "    <tr>\n",
       "      <th class=\"blank\" >&nbsp;</th>\n",
       "      <th class=\"blank level1\" >&nbsp;</th>\n",
       "      <th class=\"col_heading level1 col0\" >median</th>\n",
       "      <th class=\"col_heading level1 col1\" >mean</th>\n",
       "      <th class=\"col_heading level1 col2\" >amin</th>\n",
       "      <th class=\"col_heading level1 col3\" >amax</th>\n",
       "      <th class=\"col_heading level1 col4\" >size</th>\n",
       "      <th class=\"col_heading level1 col5\" >sum</th>\n",
       "    </tr>\n",
       "    <tr>\n",
       "      <th class=\"index_name level0\" >Cabin_cat</th>\n",
       "      <th class=\"index_name level1\" >Pclass</th>\n",
       "      <th class=\"blank col0\" >&nbsp;</th>\n",
       "      <th class=\"blank col1\" >&nbsp;</th>\n",
       "      <th class=\"blank col2\" >&nbsp;</th>\n",
       "      <th class=\"blank col3\" >&nbsp;</th>\n",
       "      <th class=\"blank col4\" >&nbsp;</th>\n",
       "      <th class=\"blank col5\" >&nbsp;</th>\n",
       "    </tr>\n",
       "  </thead>\n",
       "  <tbody>\n",
       "    <tr>\n",
       "      <th id=\"T_1f245_level0_row0\" class=\"row_heading level0 row0\" >A</th>\n",
       "      <th id=\"T_1f245_level1_row0\" class=\"row_heading level1 row0\" >1</th>\n",
       "      <td id=\"T_1f245_row0_col0\" class=\"data row0 col0\" >36</td>\n",
       "      <td id=\"T_1f245_row0_col1\" class=\"data row0 col1\" >40</td>\n",
       "      <td id=\"T_1f245_row0_col2\" class=\"data row0 col2\" >0</td>\n",
       "      <td id=\"T_1f245_row0_col3\" class=\"data row0 col3\" >82</td>\n",
       "      <td id=\"T_1f245_row0_col4\" class=\"data row0 col4\" >15</td>\n",
       "      <td id=\"T_1f245_row0_col5\" class=\"data row0 col5\" >7</td>\n",
       "    </tr>\n",
       "    <tr>\n",
       "      <th id=\"T_1f245_level0_row1\" class=\"row_heading level0 row1\" >B</th>\n",
       "      <th id=\"T_1f245_level1_row1\" class=\"row_heading level1 row1\" >1</th>\n",
       "      <td id=\"T_1f245_row1_col0\" class=\"data row1 col0\" >80</td>\n",
       "      <td id=\"T_1f245_row1_col1\" class=\"data row1 col1\" >114</td>\n",
       "      <td id=\"T_1f245_row1_col2\" class=\"data row1 col2\" >0</td>\n",
       "      <td id=\"T_1f245_row1_col3\" class=\"data row1 col3\" >512</td>\n",
       "      <td id=\"T_1f245_row1_col4\" class=\"data row1 col4\" >47</td>\n",
       "      <td id=\"T_1f245_row1_col5\" class=\"data row1 col5\" >35</td>\n",
       "    </tr>\n",
       "    <tr>\n",
       "      <th id=\"T_1f245_level0_row2\" class=\"row_heading level0 row2\" >C</th>\n",
       "      <th id=\"T_1f245_level1_row2\" class=\"row_heading level1 row2\" >1</th>\n",
       "      <td id=\"T_1f245_row2_col0\" class=\"data row2 col0\" >83</td>\n",
       "      <td id=\"T_1f245_row2_col1\" class=\"data row2 col1\" >100</td>\n",
       "      <td id=\"T_1f245_row2_col2\" class=\"data row2 col2\" >27</td>\n",
       "      <td id=\"T_1f245_row2_col3\" class=\"data row2 col3\" >263</td>\n",
       "      <td id=\"T_1f245_row2_col4\" class=\"data row2 col4\" >59</td>\n",
       "      <td id=\"T_1f245_row2_col5\" class=\"data row2 col5\" >35</td>\n",
       "    </tr>\n",
       "    <tr>\n",
       "      <th id=\"T_1f245_level0_row3\" class=\"row_heading level0 row3\" rowspan=\"2\">D</th>\n",
       "      <th id=\"T_1f245_level1_row3\" class=\"row_heading level1 row3\" >1</th>\n",
       "      <td id=\"T_1f245_row3_col0\" class=\"data row3 col0\" >75</td>\n",
       "      <td id=\"T_1f245_row3_col1\" class=\"data row3 col1\" >63</td>\n",
       "      <td id=\"T_1f245_row3_col2\" class=\"data row3 col2\" >26</td>\n",
       "      <td id=\"T_1f245_row3_col3\" class=\"data row3 col3\" >113</td>\n",
       "      <td id=\"T_1f245_row3_col4\" class=\"data row3 col4\" >29</td>\n",
       "      <td id=\"T_1f245_row3_col5\" class=\"data row3 col5\" >22</td>\n",
       "    </tr>\n",
       "    <tr>\n",
       "      <th id=\"T_1f245_level1_row4\" class=\"row_heading level1 row4\" >2</th>\n",
       "      <td id=\"T_1f245_row4_col0\" class=\"data row4 col0\" >13</td>\n",
       "      <td id=\"T_1f245_row4_col1\" class=\"data row4 col1\" >13</td>\n",
       "      <td id=\"T_1f245_row4_col2\" class=\"data row4 col2\" >13</td>\n",
       "      <td id=\"T_1f245_row4_col3\" class=\"data row4 col3\" >14</td>\n",
       "      <td id=\"T_1f245_row4_col4\" class=\"data row4 col4\" >4</td>\n",
       "      <td id=\"T_1f245_row4_col5\" class=\"data row4 col5\" >3</td>\n",
       "    </tr>\n",
       "    <tr>\n",
       "      <th id=\"T_1f245_level0_row5\" class=\"row_heading level0 row5\" rowspan=\"3\">E</th>\n",
       "      <th id=\"T_1f245_level1_row5\" class=\"row_heading level1 row5\" >1</th>\n",
       "      <td id=\"T_1f245_row5_col0\" class=\"data row5 col0\" >55</td>\n",
       "      <td id=\"T_1f245_row5_col1\" class=\"data row5 col1\" >56</td>\n",
       "      <td id=\"T_1f245_row5_col2\" class=\"data row5 col2\" >26</td>\n",
       "      <td id=\"T_1f245_row5_col3\" class=\"data row5 col3\" >134</td>\n",
       "      <td id=\"T_1f245_row5_col4\" class=\"data row5 col4\" >25</td>\n",
       "      <td id=\"T_1f245_row5_col5\" class=\"data row5 col5\" >18</td>\n",
       "    </tr>\n",
       "    <tr>\n",
       "      <th id=\"T_1f245_level1_row6\" class=\"row_heading level1 row6\" >2</th>\n",
       "      <td id=\"T_1f245_row6_col0\" class=\"data row6 col0\" >11</td>\n",
       "      <td id=\"T_1f245_row6_col1\" class=\"data row6 col1\" >12</td>\n",
       "      <td id=\"T_1f245_row6_col2\" class=\"data row6 col2\" >10</td>\n",
       "      <td id=\"T_1f245_row6_col3\" class=\"data row6 col3\" >13</td>\n",
       "      <td id=\"T_1f245_row6_col4\" class=\"data row6 col4\" >4</td>\n",
       "      <td id=\"T_1f245_row6_col5\" class=\"data row6 col5\" >3</td>\n",
       "    </tr>\n",
       "    <tr>\n",
       "      <th id=\"T_1f245_level1_row7\" class=\"row_heading level1 row7\" >3</th>\n",
       "      <td id=\"T_1f245_row7_col0\" class=\"data row7 col0\" >12</td>\n",
       "      <td id=\"T_1f245_row7_col1\" class=\"data row7 col1\" >11</td>\n",
       "      <td id=\"T_1f245_row7_col2\" class=\"data row7 col2\" >8</td>\n",
       "      <td id=\"T_1f245_row7_col3\" class=\"data row7 col3\" >12</td>\n",
       "      <td id=\"T_1f245_row7_col4\" class=\"data row7 col4\" >3</td>\n",
       "      <td id=\"T_1f245_row7_col5\" class=\"data row7 col5\" >3</td>\n",
       "    </tr>\n",
       "    <tr>\n",
       "      <th id=\"T_1f245_level0_row8\" class=\"row_heading level0 row8\" rowspan=\"2\">F</th>\n",
       "      <th id=\"T_1f245_level1_row8\" class=\"row_heading level1 row8\" >2</th>\n",
       "      <td id=\"T_1f245_row8_col0\" class=\"data row8 col0\" >26</td>\n",
       "      <td id=\"T_1f245_row8_col1\" class=\"data row8 col1\" >24</td>\n",
       "      <td id=\"T_1f245_row8_col2\" class=\"data row8 col2\" >10</td>\n",
       "      <td id=\"T_1f245_row8_col3\" class=\"data row8 col3\" >39</td>\n",
       "      <td id=\"T_1f245_row8_col4\" class=\"data row8 col4\" >8</td>\n",
       "      <td id=\"T_1f245_row8_col5\" class=\"data row8 col5\" >7</td>\n",
       "    </tr>\n",
       "    <tr>\n",
       "      <th id=\"T_1f245_level1_row9\" class=\"row_heading level1 row9\" >3</th>\n",
       "      <td id=\"T_1f245_row9_col0\" class=\"data row9 col0\" >8</td>\n",
       "      <td id=\"T_1f245_row9_col1\" class=\"data row9 col1\" >11</td>\n",
       "      <td id=\"T_1f245_row9_col2\" class=\"data row9 col2\" >8</td>\n",
       "      <td id=\"T_1f245_row9_col3\" class=\"data row9 col3\" >22</td>\n",
       "      <td id=\"T_1f245_row9_col4\" class=\"data row9 col4\" >5</td>\n",
       "      <td id=\"T_1f245_row9_col5\" class=\"data row9 col5\" >1</td>\n",
       "    </tr>\n",
       "    <tr>\n",
       "      <th id=\"T_1f245_level0_row10\" class=\"row_heading level0 row10\" >G</th>\n",
       "      <th id=\"T_1f245_level1_row10\" class=\"row_heading level1 row10\" >3</th>\n",
       "      <td id=\"T_1f245_row10_col0\" class=\"data row10 col0\" >14</td>\n",
       "      <td id=\"T_1f245_row10_col1\" class=\"data row10 col1\" >14</td>\n",
       "      <td id=\"T_1f245_row10_col2\" class=\"data row10 col2\" >10</td>\n",
       "      <td id=\"T_1f245_row10_col3\" class=\"data row10 col3\" >17</td>\n",
       "      <td id=\"T_1f245_row10_col4\" class=\"data row10 col4\" >4</td>\n",
       "      <td id=\"T_1f245_row10_col5\" class=\"data row10 col5\" >2</td>\n",
       "    </tr>\n",
       "    <tr>\n",
       "      <th id=\"T_1f245_level0_row11\" class=\"row_heading level0 row11\" >T</th>\n",
       "      <th id=\"T_1f245_level1_row11\" class=\"row_heading level1 row11\" >1</th>\n",
       "      <td id=\"T_1f245_row11_col0\" class=\"data row11 col0\" >36</td>\n",
       "      <td id=\"T_1f245_row11_col1\" class=\"data row11 col1\" >36</td>\n",
       "      <td id=\"T_1f245_row11_col2\" class=\"data row11 col2\" >36</td>\n",
       "      <td id=\"T_1f245_row11_col3\" class=\"data row11 col3\" >36</td>\n",
       "      <td id=\"T_1f245_row11_col4\" class=\"data row11 col4\" >1</td>\n",
       "      <td id=\"T_1f245_row11_col5\" class=\"data row11 col5\" >0</td>\n",
       "    </tr>\n",
       "    <tr>\n",
       "      <th id=\"T_1f245_level0_row12\" class=\"row_heading level0 row12\" rowspan=\"3\">nan</th>\n",
       "      <th id=\"T_1f245_level1_row12\" class=\"row_heading level1 row12\" >1</th>\n",
       "      <td id=\"T_1f245_row12_col0\" class=\"data row12 col0\" >45</td>\n",
       "      <td id=\"T_1f245_row12_col1\" class=\"data row12 col1\" >77</td>\n",
       "      <td id=\"T_1f245_row12_col2\" class=\"data row12 col2\" >0</td>\n",
       "      <td id=\"T_1f245_row12_col3\" class=\"data row12 col3\" >512</td>\n",
       "      <td id=\"T_1f245_row12_col4\" class=\"data row12 col4\" >40</td>\n",
       "      <td id=\"T_1f245_row12_col5\" class=\"data row12 col5\" >19</td>\n",
       "    </tr>\n",
       "    <tr>\n",
       "      <th id=\"T_1f245_level1_row13\" class=\"row_heading level1 row13\" >2</th>\n",
       "      <td id=\"T_1f245_row13_col0\" class=\"data row13 col0\" >15</td>\n",
       "      <td id=\"T_1f245_row13_col1\" class=\"data row13 col1\" >21</td>\n",
       "      <td id=\"T_1f245_row13_col2\" class=\"data row13 col2\" >0</td>\n",
       "      <td id=\"T_1f245_row13_col3\" class=\"data row13 col3\" >74</td>\n",
       "      <td id=\"T_1f245_row13_col4\" class=\"data row13 col4\" >168</td>\n",
       "      <td id=\"T_1f245_row13_col5\" class=\"data row13 col5\" >74</td>\n",
       "    </tr>\n",
       "    <tr>\n",
       "      <th id=\"T_1f245_level1_row14\" class=\"row_heading level1 row14\" >3</th>\n",
       "      <td id=\"T_1f245_row14_col0\" class=\"data row14 col0\" >8</td>\n",
       "      <td id=\"T_1f245_row14_col1\" class=\"data row14 col1\" >14</td>\n",
       "      <td id=\"T_1f245_row14_col2\" class=\"data row14 col2\" >0</td>\n",
       "      <td id=\"T_1f245_row14_col3\" class=\"data row14 col3\" >70</td>\n",
       "      <td id=\"T_1f245_row14_col4\" class=\"data row14 col4\" >479</td>\n",
       "      <td id=\"T_1f245_row14_col5\" class=\"data row14 col5\" >113</td>\n",
       "    </tr>\n",
       "  </tbody>\n",
       "</table>\n"
      ],
      "text/plain": [
       "<pandas.io.formats.style.Styler at 0x7c032501d9d0>"
      ]
     },
     "metadata": {},
     "output_type": "display_data"
    }
   ],
   "source": [
    "print(colored(f\"\\nCabin column null inferences in training data-set\\n\", color = 'blue', attrs= ['bold', 'dark']));\n",
    "display(xytrain.assign(Cabin_cat = xtrain.Cabin.str[0:1]).groupby(['Cabin_cat', 'Pclass'], dropna= False).\\\n",
    "        agg({'Fare':[np.median, np.mean, np.amin, np.amax], \n",
    "             'PassengerId':[np.size], \n",
    "             'Survived': [np.sum]})\\\n",
    "        .style.format('{:,.0f}'));"
   ]
  },
  {
   "cell_type": "markdown",
   "id": "479e6c8c",
   "metadata": {
    "papermill": {
     "duration": 0.064766,
     "end_time": "2023-12-23T06:53:58.139463",
     "exception": false,
     "start_time": "2023-12-23T06:53:58.074697",
     "status": "completed"
    },
    "tags": []
   },
   "source": [
    "## Creating pipeline adjutant functions and classes:-\n"
   ]
  },
  {
   "cell_type": "code",
   "execution_count": 10,
   "id": "e1f266f7",
   "metadata": {
    "execution": {
     "iopub.execute_input": "2023-12-23T06:53:58.282796Z",
     "iopub.status.busy": "2023-12-23T06:53:58.280703Z",
     "iopub.status.idle": "2023-12-23T06:53:58.286694Z",
     "shell.execute_reply": "2023-12-23T06:53:58.285952Z",
     "shell.execute_reply.started": "2022-04-05T16:42:57.287133Z"
    },
    "papermill": {
     "duration": 0.081574,
     "end_time": "2023-12-23T06:53:58.286905",
     "exception": false,
     "start_time": "2023-12-23T06:53:58.205331",
     "status": "completed"
    },
    "tags": []
   },
   "outputs": [],
   "source": [
    "def TreatCabinNulls(df1:pd.DataFrame):\n",
    "    \"\"\"\n",
    "    This is an added function to treat the null valued cabin column in both the train and test data. \n",
    "    This is designed to impute the nulls instead of dropping the column entirely.\n",
    "    The treatment of nulls follows the below process-\n",
    "    1. Create a composite variable with the cabin category (1st letter in the cabin column) and the Pclass. \n",
    "       This is an interaction variable\n",
    "    2. Consider passengers with the same Pclass as the subject\n",
    "    3. Map the composite Cabin category with the null instances in the cabin based on the lowest fare difference. \n",
    "       Windowing SQL functions are used for the same\n",
    "    4. For cases where fare is not available, use the mode of the cabin category per Pclass. \n",
    "    \n",
    "    Input- df1 (dataframe):- Input dataframe without treatment\n",
    "    Returns- df (dataframe):- Dataframe with the cabin nulls treated \n",
    "    \"\"\";\n",
    "    \n",
    "    global xtrain, xtest;\n",
    "    \n",
    "    cabin_trmt_prf = \\\n",
    "    sqldf(f\"\"\" \n",
    "    select PassengerId, Pclass, Fare, Embarked, Cabin from xtrain \n",
    "    union all \n",
    "    select PassengerId, Pclass, Fare, Embarked, Cabin from xtest\n",
    "    \"\"\");\n",
    "\n",
    "    #  Creating the proxy variable with the fare and Pclass:-   \n",
    "    cabin_trmt_mst = \\\n",
    "    sqldf(f\"\"\"\n",
    "    select A1.PID1 as PassengerId, A1.Pclass, A1.Cabin_Ctg_Lbl\n",
    "    from \n",
    "    (\n",
    "    select a.PassengerId as PID1,a.Pclass, b.PassengerId as PID2, b.Cabin_Ctg_Lbl, a.Fare as Fare1, b.Fare as Fare2, abs(a.Fare - b.Fare) as Fare_Diff,\n",
    "    row_number() over(partition by a.PassengerId order by abs(a.Fare - b.Fare) asc) as Fare_Diff_Rank\n",
    "    from \n",
    "    (select PassengerId, Pclass, Fare, Embarked from cabin_trmt_prf WHERE Cabin is null) A \n",
    "    inner join \n",
    "    (\n",
    "    select PassengerId, Pclass, Fare, (cast(Pclass as varchar(1)) || substr(Cabin,1,1)) AS Cabin_Ctg_Lbl, Embarked \n",
    "    from cabin_trmt_prf \n",
    "    where Cabin is not null\n",
    "    ) B on (A.Pclass = B.Pclass and abs(a.Fare - b.Fare) <= 50)\n",
    "    ) A1\n",
    "    where A1.Fare_Diff_Rank == 1\n",
    "    \"\"\");\n",
    "    \n",
    "    #  Finally appending the nulls still present with the mode of the Pclass and Category label:-\n",
    "    cabin_md_sum = \\\n",
    "    sqldf(\"\"\"\n",
    "    select a.* from \n",
    "    (\n",
    "    select Pclass, Cabin_Ctg_Lbl, count(PassengerId) as cnt, row_number() over (order by count(PassengerId) desc) as rank_id\n",
    "    from cabin_trmt_mst \n",
    "    group by Pclass, Cabin_Ctg_Lbl\n",
    "    ) a\n",
    "    where a.rank_id = 1\n",
    "    \"\"\");\n",
    " \n",
    "    # Mapping the interaction variable to the relevant table:-    \n",
    "    df = df1.copy();   \n",
    "    df = sqldf(\"\"\"\n",
    "    select a.*, coalesce(coalesce(b.Cabin_Ctg_Lbl, cast(a.Pclass as varchar(1)) || substr(a.Cabin,1,1)), c.Cabin_Ctg_Lbl) as Cabin_Class_Lbl \n",
    "    from df a \n",
    "    left join cabin_trmt_mst b on a.PassengerId = B.PassengerId\n",
    "    left join cabin_md_sum c on a.Pclass = c.Pclass\n",
    "    \"\"\");  \n",
    "    \n",
    "    del cabin_trmt_mst, cabin_trmt_prf, cabin_md_sum; \n",
    "    return df;  "
   ]
  },
  {
   "cell_type": "code",
   "execution_count": 11,
   "id": "ef507c30",
   "metadata": {
    "execution": {
     "iopub.execute_input": "2023-12-23T06:53:58.426644Z",
     "iopub.status.busy": "2023-12-23T06:53:58.425880Z",
     "iopub.status.idle": "2023-12-23T06:53:58.436070Z",
     "shell.execute_reply": "2023-12-23T06:53:58.435396Z",
     "shell.execute_reply.started": "2022-04-05T16:43:10.305998Z"
    },
    "papermill": {
     "duration": 0.079056,
     "end_time": "2023-12-23T06:53:58.436249",
     "exception": false,
     "start_time": "2023-12-23T06:53:58.357193",
     "status": "completed"
    },
    "tags": []
   },
   "outputs": [],
   "source": [
    "def Xform_Data(df1:pd.DataFrame): \n",
    "    \"\"\"\n",
    "    This function does the below tasks:-\n",
    "    1. Creates a title attribute from the name column\n",
    "    2. Assigns 'others' to uncommon titles\n",
    "    3. Creates a flag for 'child' from the title. This is used to fill in the age nulls.\n",
    "    4. Creates a 'family members count' column from the Sibsp and Parch attributes\n",
    "    5. Drops superfluous columns\n",
    "    \n",
    "    Input- df (dataframe):- Analysis dataframe\n",
    "    Returns- df (dataframe):- Modified dataframe   \n",
    "    \"\"\";\n",
    "    \n",
    "    filterwarnings(action= \"ignore\");\n",
    "    df = df1.copy();\n",
    "    \n",
    "    df['Title'] = df['Name'].apply(lambda x: re.findall(r\"\\S+\\. \",x)[0].strip()[0:-1]);\n",
    "    df['Title'].loc[~df.Title.isin(['Mr', 'Mrs', 'Miss', 'Master'])] = 'Others';\n",
    "    df['Is_child'] = np.select([df['Title'].str.lower() == 'master'], ['Y'], 'N');    \n",
    "    df['Nb_Fmly_Mem'] = df['SibSp'].fillna(0) + df['Parch'].fillna(0);  \n",
    "    df = df.drop(['PassengerId', 'Ticket', 'Name', 'Cabin'], axis= 1);  \n",
    "    \n",
    "    return df;"
   ]
  },
  {
   "cell_type": "code",
   "execution_count": 12,
   "id": "dc889002",
   "metadata": {
    "execution": {
     "iopub.execute_input": "2023-12-23T06:53:58.571966Z",
     "iopub.status.busy": "2023-12-23T06:53:58.569930Z",
     "iopub.status.idle": "2023-12-23T06:53:58.574129Z",
     "shell.execute_reply": "2023-12-23T06:53:58.574855Z",
     "shell.execute_reply.started": "2022-04-05T16:42:57.31534Z"
    },
    "papermill": {
     "duration": 0.077052,
     "end_time": "2023-12-23T06:53:58.575057",
     "exception": false,
     "start_time": "2023-12-23T06:53:58.498005",
     "status": "completed"
    },
    "tags": []
   },
   "outputs": [],
   "source": [
    "class AgeImputer(BaseEstimator, TransformerMixin):\n",
    "    \"\"\"This class is designed to fill-up the age null values with the child/ adult gender based medians\"\"\";\n",
    "    def __init__(self): pass\n",
    "    def fit(self, X, y=None, **fit_params):\n",
    "        \"This function learns the training medians across the child and adult groups for filling nulls\";\n",
    "        self.median_ = X.groupby(['Is_child','Sex'])[['Age']].median().reset_index();\n",
    "        return self;\n",
    "    def transform(self, X, y=None, **transform_params):\n",
    "        \"This function imputes the null values in the relevant data-set according to the medians\";\n",
    "        X1 = X.merge(self.median_, how= 'left', on= ['Is_child', 'Sex'], suffixes= ('', '_Median'));\n",
    "        X1['Age'] = X1['Age'].fillna(X1.Age_Median);\n",
    "        X1 = X1.drop(['Age_Median'], axis= 1);\n",
    "        return X1;"
   ]
  },
  {
   "cell_type": "code",
   "execution_count": 13,
   "id": "a0af5945",
   "metadata": {
    "execution": {
     "iopub.execute_input": "2023-12-23T06:53:58.709516Z",
     "iopub.status.busy": "2023-12-23T06:53:58.703800Z",
     "iopub.status.idle": "2023-12-23T06:53:58.712626Z",
     "shell.execute_reply": "2023-12-23T06:53:58.713194Z",
     "shell.execute_reply.started": "2022-04-05T16:42:57.330769Z"
    },
    "papermill": {
     "duration": 0.074109,
     "end_time": "2023-12-23T06:53:58.713399",
     "exception": false,
     "start_time": "2023-12-23T06:53:58.639290",
     "status": "completed"
    },
    "tags": []
   },
   "outputs": [],
   "source": [
    "class FareImputer(BaseEstimator, TransformerMixin):\n",
    "    \"\"\"This class is designed to fill-up the ticket fare null values with the Pclass medians\"\"\";\n",
    "    def __init__(self): pass\n",
    "    def fit(self, X, y=None, **fit_params):\n",
    "        \"This function learns the training medians across the Pclass groups for filling nulls\";\n",
    "        self.median_ = X.groupby(['Pclass'])[['Fare']].median().reset_index();\n",
    "        return self;\n",
    "    def transform(self, X, y=None, **transform_params):\n",
    "        \"This function imputes the null values in the relevant data-set according to the medians\";\n",
    "        X1 = X.merge(self.median_, how= 'left', on= ['Pclass'], suffixes= ('', '_Median'));\n",
    "        X1['Fare'] = X1['Fare'].fillna(X1.Fare_Median);\n",
    "        X1 = X1.drop(['Fare_Median'], axis= 1);\n",
    "        return X1;"
   ]
  },
  {
   "cell_type": "code",
   "execution_count": 14,
   "id": "84a5a85b",
   "metadata": {
    "execution": {
     "iopub.execute_input": "2023-12-23T06:53:58.841410Z",
     "iopub.status.busy": "2023-12-23T06:53:58.840525Z",
     "iopub.status.idle": "2023-12-23T06:53:58.854443Z",
     "shell.execute_reply": "2023-12-23T06:53:58.855072Z",
     "shell.execute_reply.started": "2022-04-05T16:42:57.348863Z"
    },
    "papermill": {
     "duration": 0.079853,
     "end_time": "2023-12-23T06:53:58.855274",
     "exception": false,
     "start_time": "2023-12-23T06:53:58.775421",
     "status": "completed"
    },
    "tags": []
   },
   "outputs": [],
   "source": [
    "class AgeFareBinner(BaseEstimator, TransformerMixin):\n",
    "    \"\"\"\n",
    "    This class develops bins for the age and ticket fare, to foster stability and offer better and stable predictability.\n",
    "    Training set parameters are developed with the fit function. \n",
    "    \"\"\";\n",
    "    \n",
    "    def __init__(self, nb_age_bins: int = 5, nb_fare_bins:int = 5): \n",
    "        self.nb_age_bins = nb_age_bins\n",
    "        self.nb_fare_bins = nb_fare_bins\n",
    "    \n",
    "    def fit(self, X, y= None, **fit_params):\n",
    "        \"\"\"This function calculates the bins for the age and fare columns respectively\"\"\";     \n",
    "        self.age_bins_ = pd.qcut(X['Age'], q = self.nb_age_bins, retbins= True, labels = range(1,self.nb_age_bins + 1,1))[1];\n",
    "        self.fare_bins_ = pd.qcut(X['Fare'], q = self.nb_fare_bins, retbins= True, labels = range(1,self.nb_fare_bins + 1,1))[1];   \n",
    "        return self;\n",
    "        \n",
    "    def transform(self, X, y=None, **transform_param):\n",
    "        \"\"\"This function applies the binned results to the relevant dataframe and returns the labelled column\"\"\";        \n",
    "        X1 = X.copy();\n",
    "        \n",
    "        self.age_bins_[0] = 0.0; self.fare_bins_[0] = 0.0;\n",
    "        self.age_bins_[-1] = np.inf; self.fare_bins_[-1] = np.inf;\n",
    "        \n",
    "        X1['Age_Bin'] = pd.cut(X1['Age'], self.age_bins_, retbins= False, labels = range(1,self.nb_age_bins + 1,1), include_lowest= True);\n",
    "        X1['Fare_Bin'] = pd.cut(X1['Fare'], self.fare_bins_, retbins= False, labels = range(1,self.nb_age_bins + 1,1), include_lowest= True); \n",
    "               \n",
    "        global df_col; df_col = list(X1.columns);\n",
    "        return X1;      "
   ]
  },
  {
   "cell_type": "markdown",
   "id": "54e1f255",
   "metadata": {
    "papermill": {
     "duration": 0.063394,
     "end_time": "2023-12-23T06:53:58.979932",
     "exception": false,
     "start_time": "2023-12-23T06:53:58.916538",
     "status": "completed"
    },
    "tags": []
   },
   "source": [
    "# 2. Model pipeline development\n",
    "\n",
    "Key pipeline steps:-\n",
    "* Treat nulls in cabin- This step treats nulls in cabin using Pclass and Fare, also fills up remaining nulls after treatment with the Pclass mode\n",
    "* Transform data- This step adds the new features and drops some redundant features.\n",
    "* Impute Embarked- This step imputes the null values in the column with the mode\n",
    "* Label encoder- This is used for the selected object columns only\n",
    "* Impute age- This is used to impute age based on the grouped median of child/ adult and gender\n",
    "* Impute fare- This fills fare column nulls based on the median of Pclass fare\n",
    "* Bin Age Fare- This bins the age and fare columns (this is not used in the latest version)\n",
    "* Robust Scaler- This is used for numerical columns only as selected in the column list"
   ]
  },
  {
   "cell_type": "code",
   "execution_count": 15,
   "id": "aed823bd",
   "metadata": {
    "execution": {
     "iopub.execute_input": "2023-12-23T06:53:59.110458Z",
     "iopub.status.busy": "2023-12-23T06:53:59.109652Z",
     "iopub.status.idle": "2023-12-23T06:53:59.122418Z",
     "shell.execute_reply": "2023-12-23T06:53:59.121769Z",
     "shell.execute_reply.started": "2022-04-05T16:44:54.536284Z"
    },
    "papermill": {
     "duration": 0.079335,
     "end_time": "2023-12-23T06:53:59.122602",
     "exception": false,
     "start_time": "2023-12-23T06:53:59.043267",
     "status": "completed"
    },
    "tags": []
   },
   "outputs": [],
   "source": [
    "nb_age_bins = 5;\n",
    "nb_fare_bins = 5;\n",
    "enc_col_lst = ['Sex', 'Embarked', 'Title', 'Is_child'];\n",
    "std_col_lst = ['Age', 'Fare', 'SibSp', 'Parch', 'Nb_Fmly_Mem' ]\n",
    "\n",
    "Data_Processor = \\\n",
    "Pipeline(verbose=True, \n",
    "         steps= \\\n",
    "         [('Imp_Cabin', FunctionTransformer(func= TreatCabinNulls)),\n",
    "          ('Xform_Data', FunctionTransformer(func= Xform_Data)),\n",
    "          ('Imp_Embk', DataFrameMapper(default= None, input_df= True, df_out= True, \n",
    "                                             features= [(['Embarked'], SimpleImputer(strategy= 'most_frequent'))])\n",
    "          ),\n",
    "          ('Lbl_Enc', DataFrameMapper(default= None, input_df= True, df_out= True, \n",
    "                                            features = gen_features([col.split(' ') for col in enc_col_lst], [LabelEncoder]))\n",
    "          ),\n",
    "          ('Imp_Age', AgeImputer()),\n",
    "          ('Imp_Fare',FareImputer()),\n",
    "          ('Ord_Enc', DataFrameMapper(default= None, input_df= True, df_out= True, \n",
    "                                      features= [(['Cabin_Class_Lbl'], OrdinalEncoder(handle_unknown='use_encoded_value',unknown_value= 49))])\n",
    "          ),\n",
    "#           ('BinAgeFare', AgeFareBinner(nb_age_bins = nb_age_bins, nb_fare_bins = nb_fare_bins)),\n",
    "          ('Std', DataFrameMapper(default= None, input_df= True, df_out= True, \n",
    "                                  features = gen_features([col.split(' ') for col in std_col_lst], [RobustScaler])))\n",
    "         ]\n",
    "        );"
   ]
  },
  {
   "cell_type": "code",
   "execution_count": 16,
   "id": "628feab3",
   "metadata": {
    "execution": {
     "iopub.execute_input": "2023-12-23T06:53:59.258276Z",
     "iopub.status.busy": "2023-12-23T06:53:59.257405Z",
     "iopub.status.idle": "2023-12-23T06:54:01.358413Z",
     "shell.execute_reply": "2023-12-23T06:54:01.357645Z",
     "shell.execute_reply.started": "2022-04-05T16:44:56.879777Z"
    },
    "papermill": {
     "duration": 2.174241,
     "end_time": "2023-12-23T06:54:01.358590",
     "exception": false,
     "start_time": "2023-12-23T06:53:59.184349",
     "status": "completed"
    },
    "tags": []
   },
   "outputs": [
    {
     "name": "stdout",
     "output_type": "stream",
     "text": [
      "\u001b[34m\n",
      "Pipeline details\n",
      "\u001b[0m\n",
      "[Pipeline] ......... (step 1 of 8) Processing Imp_Cabin, total=   0.8s\n",
      "[Pipeline] ........ (step 2 of 8) Processing Xform_Data, total=   0.0s\n",
      "[Pipeline] .......... (step 3 of 8) Processing Imp_Embk, total=   0.0s\n",
      "[Pipeline] ........... (step 4 of 8) Processing Lbl_Enc, total=   0.0s\n",
      "[Pipeline] ........... (step 5 of 8) Processing Imp_Age, total=   0.0s\n",
      "[Pipeline] .......... (step 6 of 8) Processing Imp_Fare, total=   0.0s\n",
      "[Pipeline] ........... (step 7 of 8) Processing Ord_Enc, total=   0.0s\n",
      "[Pipeline] ............... (step 8 of 8) Processing Std, total=   0.0s\n",
      "\u001b[2m\u001b[1m\u001b[34m\n",
      "Pipeline implementation for the training set\n",
      "\u001b[0m\n",
      "\u001b[34m\n",
      "Null check after pipeline\n",
      "\u001b[0m\n"
     ]
    },
    {
     "data": {
      "text/plain": [
       "Age                0\n",
       "Fare               0\n",
       "SibSp              0\n",
       "Parch              0\n",
       "Nb_Fmly_Mem        0\n",
       "Cabin_Class_Lbl    0\n",
       "Sex                0\n",
       "Embarked           0\n",
       "Title              0\n",
       "Is_child           0\n",
       "Pclass             0\n",
       "dtype: int64"
      ]
     },
     "metadata": {},
     "output_type": "display_data"
    },
    {
     "name": "stdout",
     "output_type": "stream",
     "text": [
      "\u001b[34m\n",
      "Data description after pipeline\n",
      "\u001b[0m\n"
     ]
    },
    {
     "data": {
      "text/html": [
       "<style type=\"text/css\">\n",
       "</style>\n",
       "<table id=\"T_a32a1_\">\n",
       "  <thead>\n",
       "    <tr>\n",
       "      <th class=\"blank level0\" >&nbsp;</th>\n",
       "      <th class=\"col_heading level0 col0\" >Age</th>\n",
       "      <th class=\"col_heading level0 col1\" >Fare</th>\n",
       "      <th class=\"col_heading level0 col2\" >SibSp</th>\n",
       "      <th class=\"col_heading level0 col3\" >Parch</th>\n",
       "      <th class=\"col_heading level0 col4\" >Nb_Fmly_Mem</th>\n",
       "      <th class=\"col_heading level0 col5\" >Cabin_Class_Lbl</th>\n",
       "      <th class=\"col_heading level0 col6\" >Sex</th>\n",
       "      <th class=\"col_heading level0 col7\" >Embarked</th>\n",
       "      <th class=\"col_heading level0 col8\" >Title</th>\n",
       "      <th class=\"col_heading level0 col9\" >Is_child</th>\n",
       "      <th class=\"col_heading level0 col10\" >Pclass</th>\n",
       "    </tr>\n",
       "  </thead>\n",
       "  <tbody>\n",
       "    <tr>\n",
       "      <th id=\"T_a32a1_level0_row0\" class=\"row_heading level0 row0\" >count</th>\n",
       "      <td id=\"T_a32a1_row0_col0\" class=\"data row0 col0\" >891.00</td>\n",
       "      <td id=\"T_a32a1_row0_col1\" class=\"data row0 col1\" >891.00</td>\n",
       "      <td id=\"T_a32a1_row0_col2\" class=\"data row0 col2\" >891.00</td>\n",
       "      <td id=\"T_a32a1_row0_col3\" class=\"data row0 col3\" >891.00</td>\n",
       "      <td id=\"T_a32a1_row0_col4\" class=\"data row0 col4\" >891.00</td>\n",
       "      <td id=\"T_a32a1_row0_col5\" class=\"data row0 col5\" >891.00</td>\n",
       "      <td id=\"T_a32a1_row0_col6\" class=\"data row0 col6\" >891.00</td>\n",
       "      <td id=\"T_a32a1_row0_col7\" class=\"data row0 col7\" >891.00</td>\n",
       "      <td id=\"T_a32a1_row0_col8\" class=\"data row0 col8\" >891.00</td>\n",
       "      <td id=\"T_a32a1_row0_col9\" class=\"data row0 col9\" >891.00</td>\n",
       "      <td id=\"T_a32a1_row0_col10\" class=\"data row0 col10\" >891.00</td>\n",
       "    </tr>\n",
       "    <tr>\n",
       "      <th id=\"T_a32a1_level0_row1\" class=\"row_heading level0 row1\" >mean</th>\n",
       "      <td id=\"T_a32a1_row1_col0\" class=\"data row1 col0\" >-0.04</td>\n",
       "      <td id=\"T_a32a1_row1_col1\" class=\"data row1 col1\" >0.77</td>\n",
       "      <td id=\"T_a32a1_row1_col2\" class=\"data row1 col2\" >0.52</td>\n",
       "      <td id=\"T_a32a1_row1_col3\" class=\"data row1 col3\" >0.38</td>\n",
       "      <td id=\"T_a32a1_row1_col4\" class=\"data row1 col4\" >0.90</td>\n",
       "      <td id=\"T_a32a1_row1_col5\" class=\"data row1 col5\" >7.44</td>\n",
       "      <td id=\"T_a32a1_row1_col6\" class=\"data row1 col6\" >0.65</td>\n",
       "      <td id=\"T_a32a1_row1_col7\" class=\"data row1 col7\" >1.54</td>\n",
       "      <td id=\"T_a32a1_row1_col8\" class=\"data row1 col8\" >1.91</td>\n",
       "      <td id=\"T_a32a1_row1_col9\" class=\"data row1 col9\" >0.04</td>\n",
       "      <td id=\"T_a32a1_row1_col10\" class=\"data row1 col10\" >2.31</td>\n",
       "    </tr>\n",
       "    <tr>\n",
       "      <th id=\"T_a32a1_level0_row2\" class=\"row_heading level0 row2\" >std</th>\n",
       "      <td id=\"T_a32a1_row2_col0\" class=\"data row2 col0\" >1.01</td>\n",
       "      <td id=\"T_a32a1_row2_col1\" class=\"data row2 col1\" >2.15</td>\n",
       "      <td id=\"T_a32a1_row2_col2\" class=\"data row2 col2\" >1.10</td>\n",
       "      <td id=\"T_a32a1_row2_col3\" class=\"data row2 col3\" >0.81</td>\n",
       "      <td id=\"T_a32a1_row2_col4\" class=\"data row2 col4\" >1.61</td>\n",
       "      <td id=\"T_a32a1_row2_col5\" class=\"data row2 col5\" >3.38</td>\n",
       "      <td id=\"T_a32a1_row2_col6\" class=\"data row2 col6\" >0.48</td>\n",
       "      <td id=\"T_a32a1_row2_col7\" class=\"data row2 col7\" >0.79</td>\n",
       "      <td id=\"T_a32a1_row2_col8\" class=\"data row2 col8\" >0.80</td>\n",
       "      <td id=\"T_a32a1_row2_col9\" class=\"data row2 col9\" >0.21</td>\n",
       "      <td id=\"T_a32a1_row2_col10\" class=\"data row2 col10\" >0.84</td>\n",
       "    </tr>\n",
       "    <tr>\n",
       "      <th id=\"T_a32a1_level0_row3\" class=\"row_heading level0 row3\" >min</th>\n",
       "      <td id=\"T_a32a1_row3_col0\" class=\"data row3 col0\" >-2.28</td>\n",
       "      <td id=\"T_a32a1_row3_col1\" class=\"data row3 col1\" >-0.63</td>\n",
       "      <td id=\"T_a32a1_row3_col2\" class=\"data row3 col2\" >0.00</td>\n",
       "      <td id=\"T_a32a1_row3_col3\" class=\"data row3 col3\" >0.00</td>\n",
       "      <td id=\"T_a32a1_row3_col4\" class=\"data row3 col4\" >0.00</td>\n",
       "      <td id=\"T_a32a1_row3_col5\" class=\"data row3 col5\" >0.00</td>\n",
       "      <td id=\"T_a32a1_row3_col6\" class=\"data row3 col6\" >0.00</td>\n",
       "      <td id=\"T_a32a1_row3_col7\" class=\"data row3 col7\" >0.00</td>\n",
       "      <td id=\"T_a32a1_row3_col8\" class=\"data row3 col8\" >0.00</td>\n",
       "      <td id=\"T_a32a1_row3_col9\" class=\"data row3 col9\" >0.00</td>\n",
       "      <td id=\"T_a32a1_row3_col10\" class=\"data row3 col10\" >1.00</td>\n",
       "    </tr>\n",
       "    <tr>\n",
       "      <th id=\"T_a32a1_level0_row4\" class=\"row_heading level0 row4\" >25%</th>\n",
       "      <td id=\"T_a32a1_row4_col0\" class=\"data row4 col0\" >-0.62</td>\n",
       "      <td id=\"T_a32a1_row4_col1\" class=\"data row4 col1\" >-0.28</td>\n",
       "      <td id=\"T_a32a1_row4_col2\" class=\"data row4 col2\" >0.00</td>\n",
       "      <td id=\"T_a32a1_row4_col3\" class=\"data row4 col3\" >0.00</td>\n",
       "      <td id=\"T_a32a1_row4_col4\" class=\"data row4 col4\" >0.00</td>\n",
       "      <td id=\"T_a32a1_row4_col5\" class=\"data row4 col5\" >6.00</td>\n",
       "      <td id=\"T_a32a1_row4_col6\" class=\"data row4 col6\" >0.00</td>\n",
       "      <td id=\"T_a32a1_row4_col7\" class=\"data row4 col7\" >1.00</td>\n",
       "      <td id=\"T_a32a1_row4_col8\" class=\"data row4 col8\" >2.00</td>\n",
       "      <td id=\"T_a32a1_row4_col9\" class=\"data row4 col9\" >0.00</td>\n",
       "      <td id=\"T_a32a1_row4_col10\" class=\"data row4 col10\" >2.00</td>\n",
       "    </tr>\n",
       "    <tr>\n",
       "      <th id=\"T_a32a1_level0_row5\" class=\"row_heading level0 row5\" >50%</th>\n",
       "      <td id=\"T_a32a1_row5_col0\" class=\"data row5 col0\" >0.00</td>\n",
       "      <td id=\"T_a32a1_row5_col1\" class=\"data row5 col1\" >0.00</td>\n",
       "      <td id=\"T_a32a1_row5_col2\" class=\"data row5 col2\" >0.00</td>\n",
       "      <td id=\"T_a32a1_row5_col3\" class=\"data row5 col3\" >0.00</td>\n",
       "      <td id=\"T_a32a1_row5_col4\" class=\"data row5 col4\" >0.00</td>\n",
       "      <td id=\"T_a32a1_row5_col5\" class=\"data row5 col5\" >9.00</td>\n",
       "      <td id=\"T_a32a1_row5_col6\" class=\"data row5 col6\" >1.00</td>\n",
       "      <td id=\"T_a32a1_row5_col7\" class=\"data row5 col7\" >2.00</td>\n",
       "      <td id=\"T_a32a1_row5_col8\" class=\"data row5 col8\" >2.00</td>\n",
       "      <td id=\"T_a32a1_row5_col9\" class=\"data row5 col9\" >0.00</td>\n",
       "      <td id=\"T_a32a1_row5_col10\" class=\"data row5 col10\" >3.00</td>\n",
       "    </tr>\n",
       "    <tr>\n",
       "      <th id=\"T_a32a1_level0_row6\" class=\"row_heading level0 row6\" >75%</th>\n",
       "      <td id=\"T_a32a1_row6_col0\" class=\"data row6 col0\" >0.38</td>\n",
       "      <td id=\"T_a32a1_row6_col1\" class=\"data row6 col1\" >0.72</td>\n",
       "      <td id=\"T_a32a1_row6_col2\" class=\"data row6 col2\" >1.00</td>\n",
       "      <td id=\"T_a32a1_row6_col3\" class=\"data row6 col3\" >0.00</td>\n",
       "      <td id=\"T_a32a1_row6_col4\" class=\"data row6 col4\" >1.00</td>\n",
       "      <td id=\"T_a32a1_row6_col5\" class=\"data row6 col5\" >10.00</td>\n",
       "      <td id=\"T_a32a1_row6_col6\" class=\"data row6 col6\" >1.00</td>\n",
       "      <td id=\"T_a32a1_row6_col7\" class=\"data row6 col7\" >2.00</td>\n",
       "      <td id=\"T_a32a1_row6_col8\" class=\"data row6 col8\" >2.00</td>\n",
       "      <td id=\"T_a32a1_row6_col9\" class=\"data row6 col9\" >0.00</td>\n",
       "      <td id=\"T_a32a1_row6_col10\" class=\"data row6 col10\" >3.00</td>\n",
       "    </tr>\n",
       "    <tr>\n",
       "      <th id=\"T_a32a1_level0_row7\" class=\"row_heading level0 row7\" >max</th>\n",
       "      <td id=\"T_a32a1_row7_col0\" class=\"data row7 col0\" >3.85</td>\n",
       "      <td id=\"T_a32a1_row7_col1\" class=\"data row7 col1\" >21.56</td>\n",
       "      <td id=\"T_a32a1_row7_col2\" class=\"data row7 col2\" >8.00</td>\n",
       "      <td id=\"T_a32a1_row7_col3\" class=\"data row7 col3\" >6.00</td>\n",
       "      <td id=\"T_a32a1_row7_col4\" class=\"data row7 col4\" >10.00</td>\n",
       "      <td id=\"T_a32a1_row7_col5\" class=\"data row7 col5\" >11.00</td>\n",
       "      <td id=\"T_a32a1_row7_col6\" class=\"data row7 col6\" >1.00</td>\n",
       "      <td id=\"T_a32a1_row7_col7\" class=\"data row7 col7\" >3.00</td>\n",
       "      <td id=\"T_a32a1_row7_col8\" class=\"data row7 col8\" >4.00</td>\n",
       "      <td id=\"T_a32a1_row7_col9\" class=\"data row7 col9\" >1.00</td>\n",
       "      <td id=\"T_a32a1_row7_col10\" class=\"data row7 col10\" >3.00</td>\n",
       "    </tr>\n",
       "  </tbody>\n",
       "</table>\n"
      ],
      "text/plain": [
       "<pandas.io.formats.style.Styler at 0x7c031cbe9ad0>"
      ]
     },
     "metadata": {},
     "output_type": "display_data"
    },
    {
     "name": "stdout",
     "output_type": "stream",
     "text": [
      "\u001b[2m\u001b[1m\u001b[34m\n",
      "Pipeline implementation for the test set\n",
      "\u001b[0m\n",
      "\u001b[34m\n",
      "Null check after pipeline\n",
      "\u001b[0m\n"
     ]
    },
    {
     "data": {
      "text/plain": [
       "Age                0\n",
       "Fare               0\n",
       "SibSp              0\n",
       "Parch              0\n",
       "Nb_Fmly_Mem        0\n",
       "Cabin_Class_Lbl    0\n",
       "Sex                0\n",
       "Embarked           0\n",
       "Title              0\n",
       "Is_child           0\n",
       "Pclass             0\n",
       "dtype: int64"
      ]
     },
     "metadata": {},
     "output_type": "display_data"
    }
   ],
   "source": [
    "print(colored(f\"\\nPipeline details\\n\", color = 'blue'));\n",
    "Data_Processor.fit(xtrain, ytrain);\n",
    "\n",
    "# Train-set transformation:-\n",
    "print(colored(f\"\\nPipeline implementation for the training set\\n\", color= 'blue', attrs= ['bold', 'dark']));\n",
    "Xtrain = Data_Processor.transform(xtrain);\n",
    "\n",
    "print(colored(f\"\\nNull check after pipeline\\n\", color = 'blue'));\n",
    "display(Xtrain.isna().sum(axis=0));\n",
    "print(colored(f'\\nData description after pipeline\\n', color = 'blue'));\n",
    "display(Xtrain.describe().style.format('{:.2f}'));\n",
    "\n",
    "# Test-set transformation:-\n",
    "print(colored(f\"\\nPipeline implementation for the test set\\n\", color= 'blue', attrs= ['bold', 'dark']));\n",
    "Xtest = Data_Processor.transform(xtest);\n",
    "\n",
    "print(colored(f\"\\nNull check after pipeline\\n\", color = 'blue'));\n",
    "display(Xtest.isna().sum(axis=0));"
   ]
  },
  {
   "cell_type": "markdown",
   "id": "ca4457b4",
   "metadata": {
    "papermill": {
     "duration": 0.066358,
     "end_time": "2023-12-23T06:54:01.492785",
     "exception": false,
     "start_time": "2023-12-23T06:54:01.426427",
     "status": "completed"
    },
    "tags": []
   },
   "source": [
    "### Model parameter setting and implementation:-\n",
    "\n",
    "Key models and description:-\n",
    "1. Logistic Regression\n",
    "2. SVC classifier\n",
    "3. Single tree\n",
    "4. Ensemble random forest\n",
    "5. Gradient boosting machine\n",
    "6. Light GBM\n",
    "7. XgBoost Classifier\n",
    "\n",
    "Model outputs are stored in 2 tables- \n",
    "1. Model parameters profile (mdl_param_prf)- This stores the model name and relevant score metrics\n",
    "2. Model prediction profile (mdl_pred_prf) - This stores the test set predictions from each model (best estimator)"
   ]
  },
  {
   "cell_type": "code",
   "execution_count": 17,
   "id": "0e8aee1c",
   "metadata": {
    "execution": {
     "iopub.execute_input": "2023-12-23T06:54:01.643549Z",
     "iopub.status.busy": "2023-12-23T06:54:01.642606Z",
     "iopub.status.idle": "2023-12-23T06:54:01.647798Z",
     "shell.execute_reply": "2023-12-23T06:54:01.647210Z",
     "shell.execute_reply.started": "2022-04-05T16:45:10.078823Z"
    },
    "papermill": {
     "duration": 0.087692,
     "end_time": "2023-12-23T06:54:01.648006",
     "exception": false,
     "start_time": "2023-12-23T06:54:01.560314",
     "status": "completed"
    },
    "tags": []
   },
   "outputs": [],
   "source": [
    "# Creating a master dictionary for the model parameters and class instances:-\n",
    "mdl_mst_dict = \\\n",
    "{\n",
    "'Logistic': [LogisticRegression(random_state = 10), {}],\n",
    "'SVC': [SVC(random_state = 10), {'C': range(3,10,1)}],\n",
    "'DTree' : [DecisionTreeClassifier(random_state= 10), {'max_depth': range(4,8,1), 'min_samples_leaf' : range(3,12,1)}],\n",
    "'RandomForest': [RandomForestClassifier(random_state =10), \n",
    "                 {'n_estimators': range(50,300,25), 'max_depth': range(4,7,1)}],\n",
    "'GBM': [GradientBoostingClassifier(random_state= 10), {'max_depth' : range(2,6,1)}],\n",
    "'LGBM': [LGBMClassifier(random_state = 10),{}],\n",
    "'XgBoost': [XGBClassifier(eval_metric= 'logloss'), {}]\n",
    "};\n",
    "\n",
    "cv = None;\n",
    "\n",
    "# Creating model output storage objects:-\n",
    "mdl_param_prf = pd.DataFrame(data= None, index= list(mdl_mst_dict.keys()), dtype= np.float32,\n",
    "                             columns= ['Precision_Score', 'Recall_Score', 'F1_Score', 'ROC_AUC_Score', 'Accuracy_Score']);\n",
    "mdl_pred_prf = pd.DataFrame(data= None, index= None, columns= None, dtype= np.int32);"
   ]
  },
  {
   "cell_type": "markdown",
   "id": "478f1edf",
   "metadata": {
    "papermill": {
     "duration": 0.068727,
     "end_time": "2023-12-23T06:54:01.783808",
     "exception": false,
     "start_time": "2023-12-23T06:54:01.715081",
     "status": "completed"
    },
    "tags": []
   },
   "source": [
    "Implementation routine- \n",
    "1. Load the relevant model\n",
    "2. Fit the model with the grid search parameters\n",
    "3. Create relevant scores for the training set\n",
    "4. Extract test set predictions\n",
    "5. Integrate the data accordingly into the output tables"
   ]
  },
  {
   "cell_type": "code",
   "execution_count": 18,
   "id": "92f64154",
   "metadata": {
    "execution": {
     "iopub.execute_input": "2023-12-23T06:54:01.938383Z",
     "iopub.status.busy": "2023-12-23T06:54:01.933214Z",
     "iopub.status.idle": "2023-12-23T06:55:12.018744Z",
     "shell.execute_reply": "2023-12-23T06:55:12.018120Z",
     "shell.execute_reply.started": "2022-04-05T16:45:16.839539Z"
    },
    "papermill": {
     "duration": 70.164829,
     "end_time": "2023-12-23T06:55:12.018942",
     "exception": false,
     "start_time": "2023-12-23T06:54:01.854113",
     "status": "completed"
    },
    "tags": []
   },
   "outputs": [
    {
     "data": {
      "application/vnd.jupyter.widget-view+json": {
       "model_id": "979d1b45228e45cf91fd6b4d0f69f280",
       "version_major": 2,
       "version_minor": 0
      },
      "text/plain": [
       "  0%|          | 0/7 [00:00<?, ?it/s]"
      ]
     },
     "metadata": {},
     "output_type": "display_data"
    },
    {
     "name": "stdout",
     "output_type": "stream",
     "text": [
      "\u001b[2m\u001b[1m\u001b[31m\n",
      "Current model is Logistic\u001b[0m\n",
      "\u001b[34mBest estimator is \n",
      "LogisticRegression(random_state=10)\n",
      "\u001b[0m\n",
      "\u001b[34mConfusion matrix\n",
      "[[489  60]\n",
      " [ 84 258]]\u001b[0m\n",
      "\u001b[2m\u001b[1m\u001b[31m\n",
      "Current model is SVC\u001b[0m\n",
      "\u001b[34mBest estimator is \n",
      "SVC(C=8, random_state=10)\n",
      "\u001b[0m\n",
      "\u001b[34mConfusion matrix\n",
      "[[493  56]\n",
      " [ 89 253]]\u001b[0m\n",
      "\u001b[2m\u001b[1m\u001b[31m\n",
      "Current model is DTree\u001b[0m\n",
      "\u001b[34mBest estimator is \n",
      "DecisionTreeClassifier(max_depth=6, min_samples_leaf=6, random_state=10)\n",
      "\u001b[0m\n",
      "\u001b[34mConfusion matrix\n",
      "[[510  39]\n",
      " [ 81 261]]\u001b[0m\n",
      "\u001b[2m\u001b[1m\u001b[31m\n",
      "Current model is RandomForest\u001b[0m\n",
      "\u001b[34mBest estimator is \n",
      "RandomForestClassifier(max_depth=6, n_estimators=200, random_state=10)\n",
      "\u001b[0m\n",
      "\u001b[34mConfusion matrix\n",
      "[[524  25]\n",
      " [ 89 253]]\u001b[0m\n",
      "\u001b[2m\u001b[1m\u001b[31m\n",
      "Current model is GBM\u001b[0m\n",
      "\u001b[34mBest estimator is \n",
      "GradientBoostingClassifier(max_depth=5, random_state=10)\n",
      "\u001b[0m\n",
      "\u001b[34mConfusion matrix\n",
      "[[541   8]\n",
      " [ 29 313]]\u001b[0m\n",
      "\u001b[2m\u001b[1m\u001b[31m\n",
      "Current model is LGBM\u001b[0m\n",
      "\u001b[34mBest estimator is \n",
      "LGBMClassifier(random_state=10)\n",
      "\u001b[0m\n",
      "\u001b[34mConfusion matrix\n",
      "[[538  11]\n",
      " [ 31 311]]\u001b[0m\n",
      "\u001b[2m\u001b[1m\u001b[31m\n",
      "Current model is XgBoost\u001b[0m\n",
      "\u001b[34mBest estimator is \n",
      "XGBClassifier(base_score=0.5, booster='gbtree', colsample_bylevel=1,\n",
      "              colsample_bynode=1, colsample_bytree=1, enable_categorical=False,\n",
      "              eval_metric='logloss', gamma=0, gpu_id=-1, importance_type=None,\n",
      "              interaction_constraints='', learning_rate=0.300000012,\n",
      "              max_delta_step=0, max_depth=6, min_child_weight=1, missing=nan,\n",
      "              monotone_constraints='()', n_estimators=100, n_jobs=4,\n",
      "              num_parallel_tree=1, predictor='auto', random_state=0,\n",
      "              reg_alpha=0, reg_lambda=1, scale_pos_weight=1, subsample=1,\n",
      "              tree_method='exact', validate_parameters=1, verbosity=None)\n",
      "\u001b[0m\n",
      "\u001b[34mConfusion matrix\n",
      "[[542   7]\n",
      " [ 21 321]]\u001b[0m\n",
      "\u001b[2m\u001b[1m\u001b[34m\n",
      "\n",
      "Training set scores across models:-\n",
      "\u001b[0m\n"
     ]
    },
    {
     "data": {
      "text/html": [
       "<style type=\"text/css\">\n",
       "</style>\n",
       "<table id=\"T_621fb_\">\n",
       "  <thead>\n",
       "    <tr>\n",
       "      <th class=\"blank level0\" >&nbsp;</th>\n",
       "      <th class=\"col_heading level0 col0\" >Precision_Score</th>\n",
       "      <th class=\"col_heading level0 col1\" >Recall_Score</th>\n",
       "      <th class=\"col_heading level0 col2\" >F1_Score</th>\n",
       "      <th class=\"col_heading level0 col3\" >ROC_AUC_Score</th>\n",
       "      <th class=\"col_heading level0 col4\" >Accuracy_Score</th>\n",
       "    </tr>\n",
       "  </thead>\n",
       "  <tbody>\n",
       "    <tr>\n",
       "      <th id=\"T_621fb_level0_row0\" class=\"row_heading level0 row0\" >Logistic</th>\n",
       "      <td id=\"T_621fb_row0_col0\" class=\"data row0 col0\" >81.13%</td>\n",
       "      <td id=\"T_621fb_row0_col1\" class=\"data row0 col1\" >75.44%</td>\n",
       "      <td id=\"T_621fb_row0_col2\" class=\"data row0 col2\" >78.18%</td>\n",
       "      <td id=\"T_621fb_row0_col3\" class=\"data row0 col3\" >82.25%</td>\n",
       "      <td id=\"T_621fb_row0_col4\" class=\"data row0 col4\" >83.84%</td>\n",
       "    </tr>\n",
       "    <tr>\n",
       "      <th id=\"T_621fb_level0_row1\" class=\"row_heading level0 row1\" >SVC</th>\n",
       "      <td id=\"T_621fb_row1_col0\" class=\"data row1 col0\" >81.88%</td>\n",
       "      <td id=\"T_621fb_row1_col1\" class=\"data row1 col1\" >73.98%</td>\n",
       "      <td id=\"T_621fb_row1_col2\" class=\"data row1 col2\" >77.73%</td>\n",
       "      <td id=\"T_621fb_row1_col3\" class=\"data row1 col3\" >81.89%</td>\n",
       "      <td id=\"T_621fb_row1_col4\" class=\"data row1 col4\" >83.73%</td>\n",
       "    </tr>\n",
       "    <tr>\n",
       "      <th id=\"T_621fb_level0_row2\" class=\"row_heading level0 row2\" >DTree</th>\n",
       "      <td id=\"T_621fb_row2_col0\" class=\"data row2 col0\" >87.00%</td>\n",
       "      <td id=\"T_621fb_row2_col1\" class=\"data row2 col1\" >76.32%</td>\n",
       "      <td id=\"T_621fb_row2_col2\" class=\"data row2 col2\" >81.31%</td>\n",
       "      <td id=\"T_621fb_row2_col3\" class=\"data row2 col3\" >84.61%</td>\n",
       "      <td id=\"T_621fb_row2_col4\" class=\"data row2 col4\" >86.53%</td>\n",
       "    </tr>\n",
       "    <tr>\n",
       "      <th id=\"T_621fb_level0_row3\" class=\"row_heading level0 row3\" >RandomForest</th>\n",
       "      <td id=\"T_621fb_row3_col0\" class=\"data row3 col0\" >91.01%</td>\n",
       "      <td id=\"T_621fb_row3_col1\" class=\"data row3 col1\" >73.98%</td>\n",
       "      <td id=\"T_621fb_row3_col2\" class=\"data row3 col2\" >81.61%</td>\n",
       "      <td id=\"T_621fb_row3_col3\" class=\"data row3 col3\" >84.71%</td>\n",
       "      <td id=\"T_621fb_row3_col4\" class=\"data row3 col4\" >87.21%</td>\n",
       "    </tr>\n",
       "    <tr>\n",
       "      <th id=\"T_621fb_level0_row4\" class=\"row_heading level0 row4\" >GBM</th>\n",
       "      <td id=\"T_621fb_row4_col0\" class=\"data row4 col0\" >97.51%</td>\n",
       "      <td id=\"T_621fb_row4_col1\" class=\"data row4 col1\" >91.52%</td>\n",
       "      <td id=\"T_621fb_row4_col2\" class=\"data row4 col2\" >94.42%</td>\n",
       "      <td id=\"T_621fb_row4_col3\" class=\"data row4 col3\" >95.03%</td>\n",
       "      <td id=\"T_621fb_row4_col4\" class=\"data row4 col4\" >95.85%</td>\n",
       "    </tr>\n",
       "    <tr>\n",
       "      <th id=\"T_621fb_level0_row5\" class=\"row_heading level0 row5\" >LGBM</th>\n",
       "      <td id=\"T_621fb_row5_col0\" class=\"data row5 col0\" >96.58%</td>\n",
       "      <td id=\"T_621fb_row5_col1\" class=\"data row5 col1\" >90.94%</td>\n",
       "      <td id=\"T_621fb_row5_col2\" class=\"data row5 col2\" >93.67%</td>\n",
       "      <td id=\"T_621fb_row5_col3\" class=\"data row5 col3\" >94.47%</td>\n",
       "      <td id=\"T_621fb_row5_col4\" class=\"data row5 col4\" >95.29%</td>\n",
       "    </tr>\n",
       "    <tr>\n",
       "      <th id=\"T_621fb_level0_row6\" class=\"row_heading level0 row6\" >XgBoost</th>\n",
       "      <td id=\"T_621fb_row6_col0\" class=\"data row6 col0\" >97.87%</td>\n",
       "      <td id=\"T_621fb_row6_col1\" class=\"data row6 col1\" >93.86%</td>\n",
       "      <td id=\"T_621fb_row6_col2\" class=\"data row6 col2\" >95.82%</td>\n",
       "      <td id=\"T_621fb_row6_col3\" class=\"data row6 col3\" >96.29%</td>\n",
       "      <td id=\"T_621fb_row6_col4\" class=\"data row6 col4\" >96.86%</td>\n",
       "    </tr>\n",
       "  </tbody>\n",
       "</table>\n"
      ],
      "text/plain": [
       "<pandas.io.formats.style.Styler at 0x7c0324de58d0>"
      ]
     },
     "metadata": {},
     "output_type": "display_data"
    }
   ],
   "source": [
    "# Implementing all models:-\n",
    "for mdl_lbl, mdl_param in tqdm(mdl_mst_dict.items()):\n",
    "    print(colored(f\"\\nCurrent model is {mdl_lbl}\", color = 'red', attrs= ['bold', 'dark']));\n",
    "    grid = GridSearchCV(estimator = mdl_param[0], param_grid = mdl_param[1], scoring='accuracy', refit=True,cv=cv);\n",
    "    grid.fit(Xtrain, ytrain);\n",
    "    print(colored(f\"\"\"Best estimator is \\n{grid.best_estimator_}\\n\"\"\", color = 'blue'));\n",
    "    \n",
    "    ytrain_pred = grid.predict(Xtrain);  \n",
    "    print(colored(f\"Confusion matrix\\n{confusion_matrix(ytrain['Survived'].values, ytrain_pred)}\", color = 'blue'));\n",
    "    \n",
    "    mdl_param_prf.loc[mdl_lbl] = (precision_score(ytrain['Survived'].values, ytrain_pred),\n",
    "                                  recall_score(ytrain['Survived'].values, ytrain_pred),\n",
    "                                  f1_score(ytrain['Survived'].values, ytrain_pred),\n",
    "                                  roc_auc_score(ytrain['Survived'].values, ytrain_pred),\n",
    "                                  accuracy_score(ytrain['Survived'].values, ytrain_pred)\n",
    "                                 );\n",
    "    \n",
    "    mdl_pred_prf = pd.concat((mdl_pred_prf,pd.DataFrame(grid.predict(Xtest), index = Xtest.index, columns = [mdl_lbl], dtype= np.int32)),\n",
    "                             axis= 1, join='outer');\n",
    "\n",
    "print(colored(f\"\\n\\nTraining set scores across models:-\\n\", color = 'blue', attrs= ['bold', 'dark']))\n",
    "display(mdl_param_prf.style.format('{:.2%}'));"
   ]
  },
  {
   "cell_type": "markdown",
   "id": "d0d2d44d",
   "metadata": {
    "papermill": {
     "duration": 0.07723,
     "end_time": "2023-12-23T06:55:12.170356",
     "exception": false,
     "start_time": "2023-12-23T06:55:12.093126",
     "status": "completed"
    },
    "tags": []
   },
   "source": [
    "# 3. Submission file preparation\n",
    "\n",
    "We explore a few options from the developed models and prepare the submissio file in this section. This is the last section in the model framework."
   ]
  },
  {
   "cell_type": "code",
   "execution_count": 19,
   "id": "8f8589fa",
   "metadata": {
    "execution": {
     "iopub.execute_input": "2023-12-23T06:55:12.336580Z",
     "iopub.status.busy": "2023-12-23T06:55:12.335564Z",
     "iopub.status.idle": "2023-12-23T06:55:12.362978Z",
     "shell.execute_reply": "2023-12-23T06:55:12.362277Z",
     "shell.execute_reply.started": "2022-04-05T16:48:17.125578Z"
    },
    "papermill": {
     "duration": 0.115228,
     "end_time": "2023-12-23T06:55:12.363153",
     "exception": false,
     "start_time": "2023-12-23T06:55:12.247925",
     "status": "completed"
    },
    "tags": []
   },
   "outputs": [
    {
     "name": "stdout",
     "output_type": "stream",
     "text": [
      "\u001b[1m\u001b[2m\u001b[34mSample submission file\n",
      "\u001b[0m\n"
     ]
    },
    {
     "data": {
      "text/html": [
       "<div>\n",
       "<style scoped>\n",
       "    .dataframe tbody tr th:only-of-type {\n",
       "        vertical-align: middle;\n",
       "    }\n",
       "\n",
       "    .dataframe tbody tr th {\n",
       "        vertical-align: top;\n",
       "    }\n",
       "\n",
       "    .dataframe thead th {\n",
       "        text-align: right;\n",
       "    }\n",
       "</style>\n",
       "<table border=\"1\" class=\"dataframe\">\n",
       "  <thead>\n",
       "    <tr style=\"text-align: right;\">\n",
       "      <th></th>\n",
       "      <th>PassengerId</th>\n",
       "      <th>Survived</th>\n",
       "    </tr>\n",
       "  </thead>\n",
       "  <tbody>\n",
       "    <tr>\n",
       "      <th>0</th>\n",
       "      <td>892</td>\n",
       "      <td>0</td>\n",
       "    </tr>\n",
       "    <tr>\n",
       "      <th>1</th>\n",
       "      <td>893</td>\n",
       "      <td>1</td>\n",
       "    </tr>\n",
       "    <tr>\n",
       "      <th>2</th>\n",
       "      <td>894</td>\n",
       "      <td>0</td>\n",
       "    </tr>\n",
       "    <tr>\n",
       "      <th>3</th>\n",
       "      <td>895</td>\n",
       "      <td>0</td>\n",
       "    </tr>\n",
       "    <tr>\n",
       "      <th>4</th>\n",
       "      <td>896</td>\n",
       "      <td>1</td>\n",
       "    </tr>\n",
       "  </tbody>\n",
       "</table>\n",
       "</div>"
      ],
      "text/plain": [
       "   PassengerId  Survived\n",
       "0          892         0\n",
       "1          893         1\n",
       "2          894         0\n",
       "3          895         0\n",
       "4          896         1"
      ]
     },
     "metadata": {},
     "output_type": "display_data"
    },
    {
     "data": {
      "text/html": [
       "<div>\n",
       "<style scoped>\n",
       "    .dataframe tbody tr th:only-of-type {\n",
       "        vertical-align: middle;\n",
       "    }\n",
       "\n",
       "    .dataframe tbody tr th {\n",
       "        vertical-align: top;\n",
       "    }\n",
       "\n",
       "    .dataframe thead th {\n",
       "        text-align: right;\n",
       "    }\n",
       "</style>\n",
       "<table border=\"1\" class=\"dataframe\">\n",
       "  <thead>\n",
       "    <tr style=\"text-align: right;\">\n",
       "      <th></th>\n",
       "      <th>PassengerId</th>\n",
       "      <th>Survived</th>\n",
       "    </tr>\n",
       "  </thead>\n",
       "  <tbody>\n",
       "    <tr>\n",
       "      <th>413</th>\n",
       "      <td>1305</td>\n",
       "      <td>0</td>\n",
       "    </tr>\n",
       "    <tr>\n",
       "      <th>414</th>\n",
       "      <td>1306</td>\n",
       "      <td>1</td>\n",
       "    </tr>\n",
       "    <tr>\n",
       "      <th>415</th>\n",
       "      <td>1307</td>\n",
       "      <td>0</td>\n",
       "    </tr>\n",
       "    <tr>\n",
       "      <th>416</th>\n",
       "      <td>1308</td>\n",
       "      <td>0</td>\n",
       "    </tr>\n",
       "    <tr>\n",
       "      <th>417</th>\n",
       "      <td>1309</td>\n",
       "      <td>0</td>\n",
       "    </tr>\n",
       "  </tbody>\n",
       "</table>\n",
       "</div>"
      ],
      "text/plain": [
       "     PassengerId  Survived\n",
       "413         1305         0\n",
       "414         1306         1\n",
       "415         1307         0\n",
       "416         1308         0\n",
       "417         1309         0"
      ]
     },
     "metadata": {},
     "output_type": "display_data"
    }
   ],
   "source": [
    "print(colored(f\"Sample submission file\\n\", color= 'blue', attrs= ['dark', 'bold']));\n",
    "display(pd.read_csv('../input/titanic/gender_submission.csv', encoding= 'utf8').head(5));\n",
    "display(pd.read_csv('../input/titanic/gender_submission.csv', encoding= 'utf8').tail(5));"
   ]
  },
  {
   "cell_type": "code",
   "execution_count": 20,
   "id": "e5731d31",
   "metadata": {
    "execution": {
     "iopub.execute_input": "2023-12-23T06:55:12.531965Z",
     "iopub.status.busy": "2023-12-23T06:55:12.530919Z",
     "iopub.status.idle": "2023-12-23T06:55:12.596808Z",
     "shell.execute_reply": "2023-12-23T06:55:12.596079Z",
     "shell.execute_reply.started": "2022-04-05T16:48:22.532913Z"
    },
    "papermill": {
     "duration": 0.153093,
     "end_time": "2023-12-23T06:55:12.597013",
     "exception": false,
     "start_time": "2023-12-23T06:55:12.443920",
     "status": "completed"
    },
    "tags": []
   },
   "outputs": [],
   "source": [
    "# Adding new columns for specific mode values:-\n",
    "mdl_pred_prf['AllModels'] = mode(mdl_pred_prf, axis=1)[0];\n",
    "mdl_pred_prf['BoostedTree'] = mode(mdl_pred_prf[['GBM', 'LGBM', 'XgBoost']], axis=1)[0];\n",
    "mdl_pred_prf['Ensemble'] = mode(mdl_pred_prf[['GBM', 'LGBM', 'XgBoost', 'RandomForest']], axis=1)[0];"
   ]
  },
  {
   "cell_type": "code",
   "execution_count": 21,
   "id": "76e29d57",
   "metadata": {
    "execution": {
     "iopub.execute_input": "2023-12-23T06:55:12.772735Z",
     "iopub.status.busy": "2023-12-23T06:55:12.771800Z",
     "iopub.status.idle": "2023-12-23T06:55:12.780700Z",
     "shell.execute_reply": "2023-12-23T06:55:12.780036Z",
     "shell.execute_reply.started": "2022-04-05T16:48:27.174759Z"
    },
    "papermill": {
     "duration": 0.103426,
     "end_time": "2023-12-23T06:55:12.780939",
     "exception": false,
     "start_time": "2023-12-23T06:55:12.677513",
     "status": "completed"
    },
    "tags": []
   },
   "outputs": [],
   "source": [
    "sel_col_nm = 'AllModels';\n",
    "pd.DataFrame(mdl_pred_prf[sel_col_nm].values, index = xtest.PassengerId, \n",
    "             columns = ['Survived'], dtype= np.int32).reset_index().to_csv(\"Submission.csv\", index= False);"
   ]
  }
 ],
 "metadata": {
  "kaggle": {
   "accelerator": "none",
   "dataSources": [
    {
     "databundleVersionId": 26502,
     "sourceId": 3136,
     "sourceType": "competition"
    }
   ],
   "dockerImageVersionId": 30176,
   "isGpuEnabled": false,
   "isInternetEnabled": true,
   "language": "python",
   "sourceType": "notebook"
  },
  "kernelspec": {
   "display_name": "Python 3",
   "language": "python",
   "name": "python3"
  },
  "language_info": {
   "codemirror_mode": {
    "name": "ipython",
    "version": 3
   },
   "file_extension": ".py",
   "mimetype": "text/x-python",
   "name": "python",
   "nbconvert_exporter": "python",
   "pygments_lexer": "ipython3",
   "version": "3.7.12"
  },
  "papermill": {
   "default_parameters": {},
   "duration": 95.064651,
   "end_time": "2023-12-23T06:55:13.880998",
   "environment_variables": {},
   "exception": null,
   "input_path": "__notebook__.ipynb",
   "output_path": "__notebook__.ipynb",
   "parameters": {},
   "start_time": "2023-12-23T06:53:38.816347",
   "version": "2.3.3"
  },
  "widgets": {
   "application/vnd.jupyter.widget-state+json": {
    "state": {
     "1d1da67d20124824ac55a6cf30b3adf9": {
      "model_module": "@jupyter-widgets/base",
      "model_module_version": "1.2.0",
      "model_name": "LayoutModel",
      "state": {
       "_model_module": "@jupyter-widgets/base",
       "_model_module_version": "1.2.0",
       "_model_name": "LayoutModel",
       "_view_count": null,
       "_view_module": "@jupyter-widgets/base",
       "_view_module_version": "1.2.0",
       "_view_name": "LayoutView",
       "align_content": null,
       "align_items": null,
       "align_self": null,
       "border": null,
       "bottom": null,
       "display": null,
       "flex": null,
       "flex_flow": null,
       "grid_area": null,
       "grid_auto_columns": null,
       "grid_auto_flow": null,
       "grid_auto_rows": null,
       "grid_column": null,
       "grid_gap": null,
       "grid_row": null,
       "grid_template_areas": null,
       "grid_template_columns": null,
       "grid_template_rows": null,
       "height": null,
       "justify_content": null,
       "justify_items": null,
       "left": null,
       "margin": null,
       "max_height": null,
       "max_width": null,
       "min_height": null,
       "min_width": null,
       "object_fit": null,
       "object_position": null,
       "order": null,
       "overflow": null,
       "overflow_x": null,
       "overflow_y": null,
       "padding": null,
       "right": null,
       "top": null,
       "visibility": null,
       "width": null
      }
     },
     "31a4968d83c949369318cd6f8fa2ee85": {
      "model_module": "@jupyter-widgets/controls",
      "model_module_version": "1.5.0",
      "model_name": "DescriptionStyleModel",
      "state": {
       "_model_module": "@jupyter-widgets/controls",
       "_model_module_version": "1.5.0",
       "_model_name": "DescriptionStyleModel",
       "_view_count": null,
       "_view_module": "@jupyter-widgets/base",
       "_view_module_version": "1.2.0",
       "_view_name": "StyleView",
       "description_width": ""
      }
     },
     "527feaa8da0e455e87eeee8ee1ce3b66": {
      "model_module": "@jupyter-widgets/base",
      "model_module_version": "1.2.0",
      "model_name": "LayoutModel",
      "state": {
       "_model_module": "@jupyter-widgets/base",
       "_model_module_version": "1.2.0",
       "_model_name": "LayoutModel",
       "_view_count": null,
       "_view_module": "@jupyter-widgets/base",
       "_view_module_version": "1.2.0",
       "_view_name": "LayoutView",
       "align_content": null,
       "align_items": null,
       "align_self": null,
       "border": null,
       "bottom": null,
       "display": null,
       "flex": null,
       "flex_flow": null,
       "grid_area": null,
       "grid_auto_columns": null,
       "grid_auto_flow": null,
       "grid_auto_rows": null,
       "grid_column": null,
       "grid_gap": null,
       "grid_row": null,
       "grid_template_areas": null,
       "grid_template_columns": null,
       "grid_template_rows": null,
       "height": null,
       "justify_content": null,
       "justify_items": null,
       "left": null,
       "margin": null,
       "max_height": null,
       "max_width": null,
       "min_height": null,
       "min_width": null,
       "object_fit": null,
       "object_position": null,
       "order": null,
       "overflow": null,
       "overflow_x": null,
       "overflow_y": null,
       "padding": null,
       "right": null,
       "top": null,
       "visibility": null,
       "width": null
      }
     },
     "5c37b5620f304e608b41789636d34abe": {
      "model_module": "@jupyter-widgets/controls",
      "model_module_version": "1.5.0",
      "model_name": "FloatProgressModel",
      "state": {
       "_dom_classes": [],
       "_model_module": "@jupyter-widgets/controls",
       "_model_module_version": "1.5.0",
       "_model_name": "FloatProgressModel",
       "_view_count": null,
       "_view_module": "@jupyter-widgets/controls",
       "_view_module_version": "1.5.0",
       "_view_name": "ProgressView",
       "bar_style": "success",
       "description": "",
       "description_tooltip": null,
       "layout": "IPY_MODEL_527feaa8da0e455e87eeee8ee1ce3b66",
       "max": 7.0,
       "min": 0.0,
       "orientation": "horizontal",
       "style": "IPY_MODEL_c647b3cb2189496894b70e2a19637292",
       "value": 7.0
      }
     },
     "866ea117f0804d7e8ab82f1110ceb328": {
      "model_module": "@jupyter-widgets/base",
      "model_module_version": "1.2.0",
      "model_name": "LayoutModel",
      "state": {
       "_model_module": "@jupyter-widgets/base",
       "_model_module_version": "1.2.0",
       "_model_name": "LayoutModel",
       "_view_count": null,
       "_view_module": "@jupyter-widgets/base",
       "_view_module_version": "1.2.0",
       "_view_name": "LayoutView",
       "align_content": null,
       "align_items": null,
       "align_self": null,
       "border": null,
       "bottom": null,
       "display": null,
       "flex": null,
       "flex_flow": null,
       "grid_area": null,
       "grid_auto_columns": null,
       "grid_auto_flow": null,
       "grid_auto_rows": null,
       "grid_column": null,
       "grid_gap": null,
       "grid_row": null,
       "grid_template_areas": null,
       "grid_template_columns": null,
       "grid_template_rows": null,
       "height": null,
       "justify_content": null,
       "justify_items": null,
       "left": null,
       "margin": null,
       "max_height": null,
       "max_width": null,
       "min_height": null,
       "min_width": null,
       "object_fit": null,
       "object_position": null,
       "order": null,
       "overflow": null,
       "overflow_x": null,
       "overflow_y": null,
       "padding": null,
       "right": null,
       "top": null,
       "visibility": null,
       "width": null
      }
     },
     "8826ca3e42c3410d806a1ed8cbebe369": {
      "model_module": "@jupyter-widgets/controls",
      "model_module_version": "1.5.0",
      "model_name": "DescriptionStyleModel",
      "state": {
       "_model_module": "@jupyter-widgets/controls",
       "_model_module_version": "1.5.0",
       "_model_name": "DescriptionStyleModel",
       "_view_count": null,
       "_view_module": "@jupyter-widgets/base",
       "_view_module_version": "1.2.0",
       "_view_name": "StyleView",
       "description_width": ""
      }
     },
     "946a2d5ff6b54c59951dbbe14047494d": {
      "model_module": "@jupyter-widgets/base",
      "model_module_version": "1.2.0",
      "model_name": "LayoutModel",
      "state": {
       "_model_module": "@jupyter-widgets/base",
       "_model_module_version": "1.2.0",
       "_model_name": "LayoutModel",
       "_view_count": null,
       "_view_module": "@jupyter-widgets/base",
       "_view_module_version": "1.2.0",
       "_view_name": "LayoutView",
       "align_content": null,
       "align_items": null,
       "align_self": null,
       "border": null,
       "bottom": null,
       "display": null,
       "flex": null,
       "flex_flow": null,
       "grid_area": null,
       "grid_auto_columns": null,
       "grid_auto_flow": null,
       "grid_auto_rows": null,
       "grid_column": null,
       "grid_gap": null,
       "grid_row": null,
       "grid_template_areas": null,
       "grid_template_columns": null,
       "grid_template_rows": null,
       "height": null,
       "justify_content": null,
       "justify_items": null,
       "left": null,
       "margin": null,
       "max_height": null,
       "max_width": null,
       "min_height": null,
       "min_width": null,
       "object_fit": null,
       "object_position": null,
       "order": null,
       "overflow": null,
       "overflow_x": null,
       "overflow_y": null,
       "padding": null,
       "right": null,
       "top": null,
       "visibility": null,
       "width": null
      }
     },
     "979d1b45228e45cf91fd6b4d0f69f280": {
      "model_module": "@jupyter-widgets/controls",
      "model_module_version": "1.5.0",
      "model_name": "HBoxModel",
      "state": {
       "_dom_classes": [],
       "_model_module": "@jupyter-widgets/controls",
       "_model_module_version": "1.5.0",
       "_model_name": "HBoxModel",
       "_view_count": null,
       "_view_module": "@jupyter-widgets/controls",
       "_view_module_version": "1.5.0",
       "_view_name": "HBoxView",
       "box_style": "",
       "children": [
        "IPY_MODEL_98b0767a9dee45a5a798f3d14cb822b9",
        "IPY_MODEL_5c37b5620f304e608b41789636d34abe",
        "IPY_MODEL_ad2c855a106140f7963c7b8d7df2c1e8"
       ],
       "layout": "IPY_MODEL_946a2d5ff6b54c59951dbbe14047494d"
      }
     },
     "98b0767a9dee45a5a798f3d14cb822b9": {
      "model_module": "@jupyter-widgets/controls",
      "model_module_version": "1.5.0",
      "model_name": "HTMLModel",
      "state": {
       "_dom_classes": [],
       "_model_module": "@jupyter-widgets/controls",
       "_model_module_version": "1.5.0",
       "_model_name": "HTMLModel",
       "_view_count": null,
       "_view_module": "@jupyter-widgets/controls",
       "_view_module_version": "1.5.0",
       "_view_name": "HTMLView",
       "description": "",
       "description_tooltip": null,
       "layout": "IPY_MODEL_866ea117f0804d7e8ab82f1110ceb328",
       "placeholder": "​",
       "style": "IPY_MODEL_31a4968d83c949369318cd6f8fa2ee85",
       "value": "100%"
      }
     },
     "ad2c855a106140f7963c7b8d7df2c1e8": {
      "model_module": "@jupyter-widgets/controls",
      "model_module_version": "1.5.0",
      "model_name": "HTMLModel",
      "state": {
       "_dom_classes": [],
       "_model_module": "@jupyter-widgets/controls",
       "_model_module_version": "1.5.0",
       "_model_name": "HTMLModel",
       "_view_count": null,
       "_view_module": "@jupyter-widgets/controls",
       "_view_module_version": "1.5.0",
       "_view_name": "HTMLView",
       "description": "",
       "description_tooltip": null,
       "layout": "IPY_MODEL_1d1da67d20124824ac55a6cf30b3adf9",
       "placeholder": "​",
       "style": "IPY_MODEL_8826ca3e42c3410d806a1ed8cbebe369",
       "value": " 7/7 [01:10&lt;00:00,  8.40s/it]"
      }
     },
     "c647b3cb2189496894b70e2a19637292": {
      "model_module": "@jupyter-widgets/controls",
      "model_module_version": "1.5.0",
      "model_name": "ProgressStyleModel",
      "state": {
       "_model_module": "@jupyter-widgets/controls",
       "_model_module_version": "1.5.0",
       "_model_name": "ProgressStyleModel",
       "_view_count": null,
       "_view_module": "@jupyter-widgets/base",
       "_view_module_version": "1.2.0",
       "_view_name": "StyleView",
       "bar_color": null,
       "description_width": ""
      }
     }
    },
    "version_major": 2,
    "version_minor": 0
   }
  }
 },
 "nbformat": 4,
 "nbformat_minor": 5
}
