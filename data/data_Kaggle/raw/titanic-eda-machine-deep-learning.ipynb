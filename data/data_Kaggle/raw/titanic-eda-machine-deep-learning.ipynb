{
 "cells": [
  {
   "cell_type": "markdown",
   "id": "27a3ec17",
   "metadata": {
    "papermill": {
     "duration": 0.0355,
     "end_time": "2023-07-02T08:19:11.740849",
     "exception": false,
     "start_time": "2023-07-02T08:19:11.705349",
     "status": "completed"
    },
    "tags": []
   },
   "source": [
    "<a id=\"1\"></a>\n",
    "# <div style=\"text-align:center; padding:20px;color:white;margin:0;font-size:35px;font-family:Serif;display:fill;border-radius:5px;background-color:#030066;overflow:hidden\"><b>🚢titanic data analysis 📈& Machine & Deep Learning 💡</b></div>"
   ]
  },
  {
   "cell_type": "markdown",
   "id": "3e7dbb36",
   "metadata": {
    "papermill": {
     "duration": 0.02957,
     "end_time": "2023-07-02T08:19:11.801531",
     "exception": false,
     "start_time": "2023-07-02T08:19:11.771961",
     "status": "completed"
    },
    "tags": []
   },
   "source": [
    "![](https://static.timesofisrael.com/atlantajewishtimes/uploads/2022/03/DT6RD9.jpg)"
   ]
  },
  {
   "cell_type": "markdown",
   "id": "cf658e27",
   "metadata": {
    "papermill": {
     "duration": 0.029454,
     "end_time": "2023-07-02T08:19:11.860929",
     "exception": false,
     "start_time": "2023-07-02T08:19:11.831475",
     "status": "completed"
    },
    "tags": []
   },
   "source": [
    "<a id=\"1\"></a>\n",
    "# <div style=\"padding:20px;color:white;margin:0;font-size:35px;font-family:Serif;text-align:left;display:fill;border-radius:5px;background-color:#030066;overflow:hidden\"><b>📖Table of Contents</b></div>"
   ]
  },
  {
   "cell_type": "markdown",
   "id": "599e67a3",
   "metadata": {
    "papermill": {
     "duration": 0.02962,
     "end_time": "2023-07-02T08:19:11.920603",
     "exception": false,
     "start_time": "2023-07-02T08:19:11.890983",
     "status": "completed"
    },
    "tags": []
   },
   "source": [
    "<div style=\"font-family:Serif;background-color:#DAD9FF; padding:30px; font-size:17px\">\n",
    "* <b> Introduction</b> <br>\n",
    "    * <b><mark>0.</mark></b>-------Import Libraries<br>\n",
    "    * <b><mark>1.</mark></b>-------Visuallization<br>\n",
    "     - <b><mark>1.1</mark></b>------Check Missing Value<br>\n",
    "     - <b><mark>1.2</mark></b>------Make Graph - Which is show \"feature\"- Dead<br>\n",
    "     -<b><mark>1.3.1</mark></b>---Name<br>\n",
    "     - <b><mark>1.3.2</mark></b>---Sex<br>\n",
    "     - <b><mark>1.3.3</mark></b>---Embarked<br>\n",
    "     - <b><mark>1.3.4</mark></b>---Fare<br>\n",
    "     - <b><mark>1.3.5</mark></b>---Cabin<br>\n",
    "     - <b><mark>1.3.6</mark></b>---Family Size<br>\n",
    "    * <b><mark>2.</mark></b>------Machine Learning<br>\n",
    "     - <b><mark>2.1</mark></b>-----KNN<br>\n",
    "     - <b><mark>2.2</mark></b>-----Decision Tree<br>\n",
    "     - <b><mark>2.3</mark></b>-----Random Forrest<br>\n",
    "     - <b><mark>2.4</mark></b>-----Naive Bayes<br>\n",
    "     - <b><mark>2.5</mark></b>-----SVM<br>\n",
    "     - <b><mark>2.6</mark></b>-----Machine Learning Result<br>\n",
    "    * <b><mark>3.</mark></b>-------Submission"
   ]
  },
  {
   "cell_type": "markdown",
   "id": "2d58d56f",
   "metadata": {
    "papermill": {
     "duration": 0.03042,
     "end_time": "2023-07-02T08:19:11.981523",
     "exception": false,
     "start_time": "2023-07-02T08:19:11.951103",
     "status": "completed"
    },
    "tags": []
   },
   "source": [
    "<a id=\"1\"></a>\n",
    "# <div style=\"padding:20px;color:white;margin:0;font-size:35px;font-family:Serif;text-align:left;display:fill;border-radius:5px;background-color:#030066;overflow:hidden\"><b>📖Introduction</b></div>"
   ]
  },
  {
   "cell_type": "markdown",
   "id": "265394b4",
   "metadata": {
    "papermill": {
     "duration": 0.029542,
     "end_time": "2023-07-02T08:19:12.040940",
     "exception": false,
     "start_time": "2023-07-02T08:19:12.011398",
     "status": "completed"
    },
    "tags": []
   },
   "source": [
    "<div style=\"font-family:Serif;background-color:#DAD9FF; padding:30px; font-size:17px\">\n",
    "<b> In this notebook, I will do data analysis, EDA and Machine Learning.<br>\n",
    "I use Python language in this notebook.<br>\n",
    "    <br>In Data Analysis, I will get the most valuable result from each column. For doing this, I will process Data through variable ways. You can check how doing it in this notebook\n",
    "    <br>\n",
    "    <br>\n",
    "    And I'll use kinds of Machine Learning.Based on transformated Data, get KNN, Decision Tree, random forrest, Naive Bayes, SVM accuracy score.\n",
    "    compare its scores and submit the highest score among it.\n",
    "    <br>\n",
    "    <br>\n",
    "    And using tensorflow, predict result by deep learning model."
   ]
  },
  {
   "cell_type": "markdown",
   "id": "dcbb0a13",
   "metadata": {
    "papermill": {
     "duration": 0.029504,
     "end_time": "2023-07-02T08:19:12.100455",
     "exception": false,
     "start_time": "2023-07-02T08:19:12.070951",
     "status": "completed"
    },
    "tags": []
   },
   "source": [
    "<a id=\"1\"></a>\n",
    "# <div style=\"padding:20px;color:white;margin:0;font-size:35px;font-family:Serif;text-align:left;display:fill;border-radius:5px;background-color:#030066;overflow:hidden\"><b>📖Columns</b></div>   "
   ]
  },
  {
   "cell_type": "markdown",
   "id": "65d92a29",
   "metadata": {
    "papermill": {
     "duration": 0.029711,
     "end_time": "2023-07-02T08:19:12.160129",
     "exception": false,
     "start_time": "2023-07-02T08:19:12.130418",
     "status": "completed"
    },
    "tags": []
   },
   "source": [
    "<div style=\"font-family:Serif;background-color:#DAD9FF; padding:30px; font-size:17px\">\n",
    "* <b> <mark>Survival</mark></b> - Survival   (0 = No , 1 = Yes) <br>\n",
    "* <b> <mark>pclass</mark></b> - Ticket class (1 = 1st, 2 = 2nd, 3 = 3rd)<br>\n",
    "* <b> <mark>sex</mark></b> - sex <br>\n",
    "* <b> <mark>Age</mark></b> - Age in years <br>\n",
    "* <b> <mark>sibsp</mark></b> - # of siblings / spouses aboard the Titanic <br>\n",
    "* <b> <mark>parch</mark></b> - # of parents / children aboard the Titanic<br>\n",
    "* <b> <mark>ticket</mark></b> - Ticket number<br>\n",
    "* <b> <mark>fare</mark></b>- Passenger fare<br>\n",
    "* <b> <mark>cabin</mark></b> - Cabin number<br>\n",
    "* <b> <mark>embarked</mark></b> - Port of Embarkation  (C = Cherbourg, Q = Queenstown, S = Southampton)<br>"
   ]
  },
  {
   "cell_type": "markdown",
   "id": "92d108a4",
   "metadata": {
    "papermill": {
     "duration": 0.029473,
     "end_time": "2023-07-02T08:19:12.219480",
     "exception": false,
     "start_time": "2023-07-02T08:19:12.190007",
     "status": "completed"
    },
    "tags": []
   },
   "source": [
    "<!-- # <div style=\"text-align: left; font-family:timeroman;\"> | Import Libraries </div> -->\n",
    "<!-- # <div style=\"text-align: left; font-family:timeroman;\"> <b style='color:blue'>Import</b> Libraries </div> -->\n",
    "<!-- > <h1 style=\"text-align: left; font-family:timeroman;\"> <b style='color:blue'>Import</b> Libraries </h1> -->\n",
    "<!-- # <b style='color:blue'> 0. Import Libraries </b> -->\n",
    "<!-- # <div style=' font-family:timeroman;'> 0. Import Libraries and Data </b> -->"
   ]
  },
  {
   "cell_type": "markdown",
   "id": "d0ff5352",
   "metadata": {
    "papermill": {
     "duration": 0.029824,
     "end_time": "2023-07-02T08:19:12.279381",
     "exception": false,
     "start_time": "2023-07-02T08:19:12.249557",
     "status": "completed"
    },
    "tags": []
   },
   "source": [
    "<a id=\"1\"></a>\n",
    "# <div style=\"padding:20px;color:white;margin:0;font-size:35px;font-family:Serif;text-align:left;display:fill;border-radius:5px;background-color:#030066;overflow:hidden\"><b>📖0. Import Libraries</b></div>   "
   ]
  },
  {
   "cell_type": "code",
   "execution_count": 1,
   "id": "10248c37",
   "metadata": {
    "execution": {
     "iopub.execute_input": "2023-07-02T08:19:12.345640Z",
     "iopub.status.busy": "2023-07-02T08:19:12.344105Z",
     "iopub.status.idle": "2023-07-02T08:19:13.646703Z",
     "shell.execute_reply": "2023-07-02T08:19:13.645249Z"
    },
    "papermill": {
     "duration": 1.341102,
     "end_time": "2023-07-02T08:19:13.650881",
     "exception": false,
     "start_time": "2023-07-02T08:19:12.309779",
     "status": "completed"
    },
    "tags": []
   },
   "outputs": [],
   "source": [
    "#data\n",
    "import pandas as pd\n",
    "import numpy as np\n",
    "\n",
    "#visualization\n",
    "import seaborn as sns\n",
    "import matplotlib.pyplot as plt\n",
    "import missingno as msno"
   ]
  },
  {
   "cell_type": "code",
   "execution_count": 2,
   "id": "a55ae414",
   "metadata": {
    "execution": {
     "iopub.execute_input": "2023-07-02T08:19:13.714785Z",
     "iopub.status.busy": "2023-07-02T08:19:13.713807Z",
     "iopub.status.idle": "2023-07-02T08:19:13.774788Z",
     "shell.execute_reply": "2023-07-02T08:19:13.773431Z"
    },
    "papermill": {
     "duration": 0.097755,
     "end_time": "2023-07-02T08:19:13.778796",
     "exception": false,
     "start_time": "2023-07-02T08:19:13.681041",
     "status": "completed"
    },
    "tags": []
   },
   "outputs": [
    {
     "data": {
      "text/html": [
       "<div>\n",
       "<style scoped>\n",
       "    .dataframe tbody tr th:only-of-type {\n",
       "        vertical-align: middle;\n",
       "    }\n",
       "\n",
       "    .dataframe tbody tr th {\n",
       "        vertical-align: top;\n",
       "    }\n",
       "\n",
       "    .dataframe thead th {\n",
       "        text-align: right;\n",
       "    }\n",
       "</style>\n",
       "<table border=\"1\" class=\"dataframe\">\n",
       "  <thead>\n",
       "    <tr style=\"text-align: right;\">\n",
       "      <th></th>\n",
       "      <th>PassengerId</th>\n",
       "      <th>Survived</th>\n",
       "      <th>Pclass</th>\n",
       "      <th>Name</th>\n",
       "      <th>Sex</th>\n",
       "      <th>Age</th>\n",
       "      <th>SibSp</th>\n",
       "      <th>Parch</th>\n",
       "      <th>Ticket</th>\n",
       "      <th>Fare</th>\n",
       "      <th>Cabin</th>\n",
       "      <th>Embarked</th>\n",
       "    </tr>\n",
       "  </thead>\n",
       "  <tbody>\n",
       "    <tr>\n",
       "      <th>0</th>\n",
       "      <td>1</td>\n",
       "      <td>0</td>\n",
       "      <td>3</td>\n",
       "      <td>Braund, Mr. Owen Harris</td>\n",
       "      <td>male</td>\n",
       "      <td>22.0</td>\n",
       "      <td>1</td>\n",
       "      <td>0</td>\n",
       "      <td>A/5 21171</td>\n",
       "      <td>7.2500</td>\n",
       "      <td>NaN</td>\n",
       "      <td>S</td>\n",
       "    </tr>\n",
       "    <tr>\n",
       "      <th>1</th>\n",
       "      <td>2</td>\n",
       "      <td>1</td>\n",
       "      <td>1</td>\n",
       "      <td>Cumings, Mrs. John Bradley (Florence Briggs Th...</td>\n",
       "      <td>female</td>\n",
       "      <td>38.0</td>\n",
       "      <td>1</td>\n",
       "      <td>0</td>\n",
       "      <td>PC 17599</td>\n",
       "      <td>71.2833</td>\n",
       "      <td>C85</td>\n",
       "      <td>C</td>\n",
       "    </tr>\n",
       "    <tr>\n",
       "      <th>2</th>\n",
       "      <td>3</td>\n",
       "      <td>1</td>\n",
       "      <td>3</td>\n",
       "      <td>Heikkinen, Miss. Laina</td>\n",
       "      <td>female</td>\n",
       "      <td>26.0</td>\n",
       "      <td>0</td>\n",
       "      <td>0</td>\n",
       "      <td>STON/O2. 3101282</td>\n",
       "      <td>7.9250</td>\n",
       "      <td>NaN</td>\n",
       "      <td>S</td>\n",
       "    </tr>\n",
       "    <tr>\n",
       "      <th>3</th>\n",
       "      <td>4</td>\n",
       "      <td>1</td>\n",
       "      <td>1</td>\n",
       "      <td>Futrelle, Mrs. Jacques Heath (Lily May Peel)</td>\n",
       "      <td>female</td>\n",
       "      <td>35.0</td>\n",
       "      <td>1</td>\n",
       "      <td>0</td>\n",
       "      <td>113803</td>\n",
       "      <td>53.1000</td>\n",
       "      <td>C123</td>\n",
       "      <td>S</td>\n",
       "    </tr>\n",
       "    <tr>\n",
       "      <th>4</th>\n",
       "      <td>5</td>\n",
       "      <td>0</td>\n",
       "      <td>3</td>\n",
       "      <td>Allen, Mr. William Henry</td>\n",
       "      <td>male</td>\n",
       "      <td>35.0</td>\n",
       "      <td>0</td>\n",
       "      <td>0</td>\n",
       "      <td>373450</td>\n",
       "      <td>8.0500</td>\n",
       "      <td>NaN</td>\n",
       "      <td>S</td>\n",
       "    </tr>\n",
       "  </tbody>\n",
       "</table>\n",
       "</div>"
      ],
      "text/plain": [
       "   PassengerId  Survived  Pclass  \\\n",
       "0            1         0       3   \n",
       "1            2         1       1   \n",
       "2            3         1       3   \n",
       "3            4         1       1   \n",
       "4            5         0       3   \n",
       "\n",
       "                                                Name     Sex   Age  SibSp  \\\n",
       "0                            Braund, Mr. Owen Harris    male  22.0      1   \n",
       "1  Cumings, Mrs. John Bradley (Florence Briggs Th...  female  38.0      1   \n",
       "2                             Heikkinen, Miss. Laina  female  26.0      0   \n",
       "3       Futrelle, Mrs. Jacques Heath (Lily May Peel)  female  35.0      1   \n",
       "4                           Allen, Mr. William Henry    male  35.0      0   \n",
       "\n",
       "   Parch            Ticket     Fare Cabin Embarked  \n",
       "0      0         A/5 21171   7.2500   NaN        S  \n",
       "1      0          PC 17599  71.2833   C85        C  \n",
       "2      0  STON/O2. 3101282   7.9250   NaN        S  \n",
       "3      0            113803  53.1000  C123        S  \n",
       "4      0            373450   8.0500   NaN        S  "
      ]
     },
     "execution_count": 2,
     "metadata": {},
     "output_type": "execute_result"
    }
   ],
   "source": [
    "train_df = pd.read_csv(\"/kaggle/input/titanic/train.csv\")\n",
    "test_df = pd.read_csv(\"/kaggle/input/titanic/test.csv\")\n",
    "train_df.head()"
   ]
  },
  {
   "cell_type": "code",
   "execution_count": 3,
   "id": "20d41467",
   "metadata": {
    "execution": {
     "iopub.execute_input": "2023-07-02T08:19:13.842884Z",
     "iopub.status.busy": "2023-07-02T08:19:13.841875Z",
     "iopub.status.idle": "2023-07-02T08:19:13.862492Z",
     "shell.execute_reply": "2023-07-02T08:19:13.860977Z"
    },
    "papermill": {
     "duration": 0.056195,
     "end_time": "2023-07-02T08:19:13.865476",
     "exception": false,
     "start_time": "2023-07-02T08:19:13.809281",
     "status": "completed"
    },
    "tags": []
   },
   "outputs": [
    {
     "data": {
      "text/html": [
       "<div>\n",
       "<style scoped>\n",
       "    .dataframe tbody tr th:only-of-type {\n",
       "        vertical-align: middle;\n",
       "    }\n",
       "\n",
       "    .dataframe tbody tr th {\n",
       "        vertical-align: top;\n",
       "    }\n",
       "\n",
       "    .dataframe thead th {\n",
       "        text-align: right;\n",
       "    }\n",
       "</style>\n",
       "<table border=\"1\" class=\"dataframe\">\n",
       "  <thead>\n",
       "    <tr style=\"text-align: right;\">\n",
       "      <th></th>\n",
       "      <th>PassengerId</th>\n",
       "      <th>Pclass</th>\n",
       "      <th>Name</th>\n",
       "      <th>Sex</th>\n",
       "      <th>Age</th>\n",
       "      <th>SibSp</th>\n",
       "      <th>Parch</th>\n",
       "      <th>Ticket</th>\n",
       "      <th>Fare</th>\n",
       "      <th>Cabin</th>\n",
       "      <th>Embarked</th>\n",
       "    </tr>\n",
       "  </thead>\n",
       "  <tbody>\n",
       "    <tr>\n",
       "      <th>0</th>\n",
       "      <td>892</td>\n",
       "      <td>3</td>\n",
       "      <td>Kelly, Mr. James</td>\n",
       "      <td>male</td>\n",
       "      <td>34.5</td>\n",
       "      <td>0</td>\n",
       "      <td>0</td>\n",
       "      <td>330911</td>\n",
       "      <td>7.8292</td>\n",
       "      <td>NaN</td>\n",
       "      <td>Q</td>\n",
       "    </tr>\n",
       "    <tr>\n",
       "      <th>1</th>\n",
       "      <td>893</td>\n",
       "      <td>3</td>\n",
       "      <td>Wilkes, Mrs. James (Ellen Needs)</td>\n",
       "      <td>female</td>\n",
       "      <td>47.0</td>\n",
       "      <td>1</td>\n",
       "      <td>0</td>\n",
       "      <td>363272</td>\n",
       "      <td>7.0000</td>\n",
       "      <td>NaN</td>\n",
       "      <td>S</td>\n",
       "    </tr>\n",
       "    <tr>\n",
       "      <th>2</th>\n",
       "      <td>894</td>\n",
       "      <td>2</td>\n",
       "      <td>Myles, Mr. Thomas Francis</td>\n",
       "      <td>male</td>\n",
       "      <td>62.0</td>\n",
       "      <td>0</td>\n",
       "      <td>0</td>\n",
       "      <td>240276</td>\n",
       "      <td>9.6875</td>\n",
       "      <td>NaN</td>\n",
       "      <td>Q</td>\n",
       "    </tr>\n",
       "    <tr>\n",
       "      <th>3</th>\n",
       "      <td>895</td>\n",
       "      <td>3</td>\n",
       "      <td>Wirz, Mr. Albert</td>\n",
       "      <td>male</td>\n",
       "      <td>27.0</td>\n",
       "      <td>0</td>\n",
       "      <td>0</td>\n",
       "      <td>315154</td>\n",
       "      <td>8.6625</td>\n",
       "      <td>NaN</td>\n",
       "      <td>S</td>\n",
       "    </tr>\n",
       "    <tr>\n",
       "      <th>4</th>\n",
       "      <td>896</td>\n",
       "      <td>3</td>\n",
       "      <td>Hirvonen, Mrs. Alexander (Helga E Lindqvist)</td>\n",
       "      <td>female</td>\n",
       "      <td>22.0</td>\n",
       "      <td>1</td>\n",
       "      <td>1</td>\n",
       "      <td>3101298</td>\n",
       "      <td>12.2875</td>\n",
       "      <td>NaN</td>\n",
       "      <td>S</td>\n",
       "    </tr>\n",
       "  </tbody>\n",
       "</table>\n",
       "</div>"
      ],
      "text/plain": [
       "   PassengerId  Pclass                                          Name     Sex  \\\n",
       "0          892       3                              Kelly, Mr. James    male   \n",
       "1          893       3              Wilkes, Mrs. James (Ellen Needs)  female   \n",
       "2          894       2                     Myles, Mr. Thomas Francis    male   \n",
       "3          895       3                              Wirz, Mr. Albert    male   \n",
       "4          896       3  Hirvonen, Mrs. Alexander (Helga E Lindqvist)  female   \n",
       "\n",
       "    Age  SibSp  Parch   Ticket     Fare Cabin Embarked  \n",
       "0  34.5      0      0   330911   7.8292   NaN        Q  \n",
       "1  47.0      1      0   363272   7.0000   NaN        S  \n",
       "2  62.0      0      0   240276   9.6875   NaN        Q  \n",
       "3  27.0      0      0   315154   8.6625   NaN        S  \n",
       "4  22.0      1      1  3101298  12.2875   NaN        S  "
      ]
     },
     "execution_count": 3,
     "metadata": {},
     "output_type": "execute_result"
    }
   ],
   "source": [
    "test_df.head()"
   ]
  },
  {
   "cell_type": "markdown",
   "id": "9147613f",
   "metadata": {
    "papermill": {
     "duration": 0.030435,
     "end_time": "2023-07-02T08:19:13.927118",
     "exception": false,
     "start_time": "2023-07-02T08:19:13.896683",
     "status": "completed"
    },
    "tags": []
   },
   "source": [
    "<b> column explanation"
   ]
  },
  {
   "cell_type": "code",
   "execution_count": 4,
   "id": "10fc7aff",
   "metadata": {
    "execution": {
     "iopub.execute_input": "2023-07-02T08:19:13.994438Z",
     "iopub.status.busy": "2023-07-02T08:19:13.993852Z",
     "iopub.status.idle": "2023-07-02T08:19:13.999822Z",
     "shell.execute_reply": "2023-07-02T08:19:13.998451Z"
    },
    "papermill": {
     "duration": 0.044399,
     "end_time": "2023-07-02T08:19:14.002552",
     "exception": false,
     "start_time": "2023-07-02T08:19:13.958153",
     "status": "completed"
    },
    "tags": []
   },
   "outputs": [],
   "source": [
    "# survived = 0 - d , 1 - alive\n",
    "# pclass = Ticket class\n",
    "# sibsp = Wife, uncle, etc. on Titanic. If it's zero, you'll be alone.\n",
    "# parch = parent + childer\n",
    "# embarked  = port of Embarktion"
   ]
  },
  {
   "cell_type": "code",
   "execution_count": 5,
   "id": "36a794cb",
   "metadata": {
    "execution": {
     "iopub.execute_input": "2023-07-02T08:19:14.067326Z",
     "iopub.status.busy": "2023-07-02T08:19:14.066752Z",
     "iopub.status.idle": "2023-07-02T08:19:14.073792Z",
     "shell.execute_reply": "2023-07-02T08:19:14.072448Z"
    },
    "papermill": {
     "duration": 0.042971,
     "end_time": "2023-07-02T08:19:14.076783",
     "exception": false,
     "start_time": "2023-07-02T08:19:14.033812",
     "status": "completed"
    },
    "tags": []
   },
   "outputs": [
    {
     "name": "stdout",
     "output_type": "stream",
     "text": [
      "(891, 12)\n",
      "(418, 11)\n"
     ]
    }
   ],
   "source": [
    "print(train_df.shape)\n",
    "print(test_df.shape)"
   ]
  },
  {
   "cell_type": "code",
   "execution_count": 6,
   "id": "7c9126ec",
   "metadata": {
    "execution": {
     "iopub.execute_input": "2023-07-02T08:19:14.141933Z",
     "iopub.status.busy": "2023-07-02T08:19:14.140864Z",
     "iopub.status.idle": "2023-07-02T08:19:14.168470Z",
     "shell.execute_reply": "2023-07-02T08:19:14.167138Z"
    },
    "papermill": {
     "duration": 0.063678,
     "end_time": "2023-07-02T08:19:14.171572",
     "exception": false,
     "start_time": "2023-07-02T08:19:14.107894",
     "status": "completed"
    },
    "tags": []
   },
   "outputs": [
    {
     "name": "stdout",
     "output_type": "stream",
     "text": [
      "<class 'pandas.core.frame.DataFrame'>\n",
      "RangeIndex: 891 entries, 0 to 890\n",
      "Data columns (total 12 columns):\n",
      " #   Column       Non-Null Count  Dtype  \n",
      "---  ------       --------------  -----  \n",
      " 0   PassengerId  891 non-null    int64  \n",
      " 1   Survived     891 non-null    int64  \n",
      " 2   Pclass       891 non-null    int64  \n",
      " 3   Name         891 non-null    object \n",
      " 4   Sex          891 non-null    object \n",
      " 5   Age          714 non-null    float64\n",
      " 6   SibSp        891 non-null    int64  \n",
      " 7   Parch        891 non-null    int64  \n",
      " 8   Ticket       891 non-null    object \n",
      " 9   Fare         891 non-null    float64\n",
      " 10  Cabin        204 non-null    object \n",
      " 11  Embarked     889 non-null    object \n",
      "dtypes: float64(2), int64(5), object(5)\n",
      "memory usage: 83.7+ KB\n",
      "train=  None\n"
     ]
    }
   ],
   "source": [
    "print(\"train= \",train_df.info())"
   ]
  },
  {
   "cell_type": "code",
   "execution_count": 7,
   "id": "9be65c78",
   "metadata": {
    "execution": {
     "iopub.execute_input": "2023-07-02T08:19:14.236954Z",
     "iopub.status.busy": "2023-07-02T08:19:14.236453Z",
     "iopub.status.idle": "2023-07-02T08:19:14.253561Z",
     "shell.execute_reply": "2023-07-02T08:19:14.252119Z"
    },
    "papermill": {
     "duration": 0.053229,
     "end_time": "2023-07-02T08:19:14.256695",
     "exception": false,
     "start_time": "2023-07-02T08:19:14.203466",
     "status": "completed"
    },
    "tags": []
   },
   "outputs": [
    {
     "name": "stdout",
     "output_type": "stream",
     "text": [
      "<class 'pandas.core.frame.DataFrame'>\n",
      "RangeIndex: 418 entries, 0 to 417\n",
      "Data columns (total 11 columns):\n",
      " #   Column       Non-Null Count  Dtype  \n",
      "---  ------       --------------  -----  \n",
      " 0   PassengerId  418 non-null    int64  \n",
      " 1   Pclass       418 non-null    int64  \n",
      " 2   Name         418 non-null    object \n",
      " 3   Sex          418 non-null    object \n",
      " 4   Age          332 non-null    float64\n",
      " 5   SibSp        418 non-null    int64  \n",
      " 6   Parch        418 non-null    int64  \n",
      " 7   Ticket       418 non-null    object \n",
      " 8   Fare         417 non-null    float64\n",
      " 9   Cabin        91 non-null     object \n",
      " 10  Embarked     418 non-null    object \n",
      "dtypes: float64(2), int64(4), object(5)\n",
      "memory usage: 36.0+ KB\n",
      "test=  None\n"
     ]
    }
   ],
   "source": [
    "print(\"test= \",test_df.info())"
   ]
  },
  {
   "cell_type": "markdown",
   "id": "00d69802",
   "metadata": {
    "papermill": {
     "duration": 0.031431,
     "end_time": "2023-07-02T08:19:14.319807",
     "exception": false,
     "start_time": "2023-07-02T08:19:14.288376",
     "status": "completed"
    },
    "tags": []
   },
   "source": [
    "<a id=\"1\"></a>\n",
    "# <div style=\"padding:20px;color:white;margin:0;font-size:35px;font-family:Serif;text-align:left;display:fill;border-radius:5px;background-color:#030066;overflow:hidden\"><b>📖1. Visuallization </b></div>   "
   ]
  },
  {
   "cell_type": "markdown",
   "id": "420f0060",
   "metadata": {
    "papermill": {
     "duration": 0.031377,
     "end_time": "2023-07-02T08:19:14.383663",
     "exception": false,
     "start_time": "2023-07-02T08:19:14.352286",
     "status": "completed"
    },
    "tags": []
   },
   "source": [
    "<a id=\"1\"></a>\n",
    "# <div style=\"padding:10px;color:white;margin:0;font-size:35px;font-family:Serif;text-align:left;display:fill;border-radius:5px;background-color:#030066;overflow:hidden\"><b>1.1 Check missing value</b></div>"
   ]
  },
  {
   "cell_type": "code",
   "execution_count": 8,
   "id": "61f407b3",
   "metadata": {
    "execution": {
     "iopub.execute_input": "2023-07-02T08:19:14.451416Z",
     "iopub.status.busy": "2023-07-02T08:19:14.450875Z",
     "iopub.status.idle": "2023-07-02T08:19:15.216362Z",
     "shell.execute_reply": "2023-07-02T08:19:15.214790Z"
    },
    "papermill": {
     "duration": 0.80434,
     "end_time": "2023-07-02T08:19:15.220140",
     "exception": false,
     "start_time": "2023-07-02T08:19:14.415800",
     "status": "completed"
    },
    "tags": []
   },
   "outputs": [
    {
     "name": "stdout",
     "output_type": "stream",
     "text": [
      "PassengerId      0\n",
      "Survived         0\n",
      "Pclass           0\n",
      "Name             0\n",
      "Sex              0\n",
      "Age            177\n",
      "SibSp            0\n",
      "Parch            0\n",
      "Ticket           0\n",
      "Fare             0\n",
      "Cabin          687\n",
      "Embarked         2\n",
      "dtype: int64\n"
     ]
    },
    {
     "data": {
      "text/plain": [
       "Text(0.5, 1.0, 'Train set')"
      ]
     },
     "execution_count": 8,
     "metadata": {},
     "output_type": "execute_result"
    },
    {
     "data": {
      "image/png": "[encoded data removed]",
      "text/plain": [
       "<Figure size 1800x720 with 2 Axes>"
      ]
     },
     "metadata": {
      "needs_background": "light"
     },
     "output_type": "display_data"
    }
   ],
   "source": [
    "print(train_df.isnull().sum())\n",
    "msno.matrix(train_df).set_title(\"Train set\",fontsize=20)"
   ]
  },
  {
   "cell_type": "code",
   "execution_count": 9,
   "id": "93fb848a",
   "metadata": {
    "execution": {
     "iopub.execute_input": "2023-07-02T08:19:15.288968Z",
     "iopub.status.busy": "2023-07-02T08:19:15.288472Z",
     "iopub.status.idle": "2023-07-02T08:19:16.016559Z",
     "shell.execute_reply": "2023-07-02T08:19:16.015069Z"
    },
    "papermill": {
     "duration": 0.768952,
     "end_time": "2023-07-02T08:19:16.022386",
     "exception": false,
     "start_time": "2023-07-02T08:19:15.253434",
     "status": "completed"
    },
    "tags": []
   },
   "outputs": [
    {
     "name": "stdout",
     "output_type": "stream",
     "text": [
      "PassengerId      0\n",
      "Pclass           0\n",
      "Name             0\n",
      "Sex              0\n",
      "Age             86\n",
      "SibSp            0\n",
      "Parch            0\n",
      "Ticket           0\n",
      "Fare             1\n",
      "Cabin          327\n",
      "Embarked         0\n",
      "dtype: int64\n"
     ]
    },
    {
     "data": {
      "text/plain": [
       "Text(0.5, 1.0, 'Train set')"
      ]
     },
     "execution_count": 9,
     "metadata": {},
     "output_type": "execute_result"
    },
    {
     "data": {
      "image/png": "[encoded data removed]",
      "text/plain": [
       "<Figure size 1800x720 with 2 Axes>"
      ]
     },
     "metadata": {
      "needs_background": "light"
     },
     "output_type": "display_data"
    }
   ],
   "source": [
    "print(test_df.isnull().sum())\n",
    "msno.matrix(test_df).set_title(\"Train set\",fontsize=20)"
   ]
  },
  {
   "cell_type": "markdown",
   "id": "2cc50884",
   "metadata": {
    "papermill": {
     "duration": 0.042517,
     "end_time": "2023-07-02T08:19:16.129900",
     "exception": false,
     "start_time": "2023-07-02T08:19:16.087383",
     "status": "completed"
    },
    "tags": []
   },
   "source": [
    "<a id=\"1\"></a>\n",
    "# <div style=\"padding:10px;color:white;margin:0;font-size:35px;font-family:Serif;text-align:left;display:fill;border-radius:5px;background-color:#030066;overflow:hidden\"><b>1.2 Make Graph - Which is show \"feature\"- Dead. </b></div>"
   ]
  },
  {
   "cell_type": "code",
   "execution_count": 10,
   "id": "40a4641c",
   "metadata": {
    "execution": {
     "iopub.execute_input": "2023-07-02T08:19:16.205512Z",
     "iopub.status.busy": "2023-07-02T08:19:16.204412Z",
     "iopub.status.idle": "2023-07-02T08:19:17.187587Z",
     "shell.execute_reply": "2023-07-02T08:19:17.186120Z"
    },
    "papermill": {
     "duration": 1.024555,
     "end_time": "2023-07-02T08:19:17.190490",
     "exception": false,
     "start_time": "2023-07-02T08:19:16.165935",
     "status": "completed"
    },
    "tags": []
   },
   "outputs": [
    {
     "data": {
      "image/png": "[encoded data removed]",
      "text/plain": [
       "<Figure size 1440x504 with 1 Axes>"
      ]
     },
     "metadata": {
      "needs_background": "light"
     },
     "output_type": "display_data"
    },
    {
     "data": {
      "image/png": "[encoded data removed]",
      "text/plain": [
       "<Figure size 1440x504 with 1 Axes>"
      ]
     },
     "metadata": {
      "needs_background": "light"
     },
     "output_type": "display_data"
    },
    {
     "data": {
      "image/png": "[encoded data removed]",
      "text/plain": [
       "<Figure size 1440x504 with 1 Axes>"
      ]
     },
     "metadata": {
      "needs_background": "light"
     },
     "output_type": "display_data"
    }
   ],
   "source": [
    "def bar_chart(feature):\n",
    "    survived = train_df[train_df[\"Survived\"]==1][feature].value_counts()\n",
    "    dead = train_df[train_df[\"Survived\"]==0][feature].value_counts()\n",
    "    df = pd.DataFrame([survived,dead])\n",
    "    df.index = [\"Survived\",\"Dead\"]\n",
    "    df.plot(kind=\"bar\",stacked=True, figsize=(20,7),title=feature,fontsize=20)\n",
    "for a in [\"Sex\",\"Pclass\",\"SibSp\"]:\n",
    "    bar_chart(a)"
   ]
  },
  {
   "cell_type": "markdown",
   "id": "c3f8be56",
   "metadata": {
    "papermill": {
     "duration": 0.039195,
     "end_time": "2023-07-02T08:19:17.266446",
     "exception": false,
     "start_time": "2023-07-02T08:19:17.227251",
     "status": "completed"
    },
    "tags": []
   },
   "source": [
    "<a id=\"1\"></a>\n",
    "# <div style=\"padding:10px;color:white;margin:0;font-size:35px;font-family:Serif;text-align:left;display:fill;border-radius:5px;background-color:#030066;overflow:hidden\"><b>1.3 Feature Engineering</b></div>  \n",
    "\n",
    "<div style=\"font-family:Serif;background-color:#DAD9FF; padding:30px; font-size:17px\">\n",
    "<b>the process of turning data measurements into feature bacters\n",
    "From a person's point of view, text is easy to understand, but computers are much easier to change to numbers, so it means the process of changing to numbers."
   ]
  },
  {
   "cell_type": "markdown",
   "id": "27531342",
   "metadata": {
    "papermill": {
     "duration": 0.035469,
     "end_time": "2023-07-02T08:19:17.338329",
     "exception": false,
     "start_time": "2023-07-02T08:19:17.302860",
     "status": "completed"
    },
    "tags": []
   },
   "source": [
    "<a id=\"1.2\"></a>\n",
    "# <h2 style=\"font-family: Serif; font-size: 28px; font-style: normal; font-weight: normal; text-decoration: none; text-transform: none; letter-spacing: 1px; color: #3162C7; background-color: #DAD9FF;\"><b>1.3.1  </b> Name </h2>"
   ]
  },
  {
   "cell_type": "code",
   "execution_count": 11,
   "id": "4e0cf1b8",
   "metadata": {
    "execution": {
     "iopub.execute_input": "2023-07-02T08:19:17.412954Z",
     "iopub.status.busy": "2023-07-02T08:19:17.412457Z",
     "iopub.status.idle": "2023-07-02T08:19:17.436337Z",
     "shell.execute_reply": "2023-07-02T08:19:17.435021Z"
    },
    "papermill": {
     "duration": 0.064116,
     "end_time": "2023-07-02T08:19:17.439521",
     "exception": false,
     "start_time": "2023-07-02T08:19:17.375405",
     "status": "completed"
    },
    "tags": []
   },
   "outputs": [
    {
     "data": {
      "text/html": [
       "<div>\n",
       "<style scoped>\n",
       "    .dataframe tbody tr th:only-of-type {\n",
       "        vertical-align: middle;\n",
       "    }\n",
       "\n",
       "    .dataframe tbody tr th {\n",
       "        vertical-align: top;\n",
       "    }\n",
       "\n",
       "    .dataframe thead th {\n",
       "        text-align: right;\n",
       "    }\n",
       "</style>\n",
       "<table border=\"1\" class=\"dataframe\">\n",
       "  <thead>\n",
       "    <tr style=\"text-align: right;\">\n",
       "      <th></th>\n",
       "      <th>PassengerId</th>\n",
       "      <th>Survived</th>\n",
       "      <th>Pclass</th>\n",
       "      <th>Name</th>\n",
       "      <th>Sex</th>\n",
       "      <th>Age</th>\n",
       "      <th>SibSp</th>\n",
       "      <th>Parch</th>\n",
       "      <th>Ticket</th>\n",
       "      <th>Fare</th>\n",
       "      <th>Cabin</th>\n",
       "      <th>Embarked</th>\n",
       "    </tr>\n",
       "  </thead>\n",
       "  <tbody>\n",
       "    <tr>\n",
       "      <th>0</th>\n",
       "      <td>1</td>\n",
       "      <td>0</td>\n",
       "      <td>3</td>\n",
       "      <td>Braund, Mr. Owen Harris</td>\n",
       "      <td>male</td>\n",
       "      <td>22.0</td>\n",
       "      <td>1</td>\n",
       "      <td>0</td>\n",
       "      <td>A/5 21171</td>\n",
       "      <td>7.2500</td>\n",
       "      <td>NaN</td>\n",
       "      <td>S</td>\n",
       "    </tr>\n",
       "    <tr>\n",
       "      <th>1</th>\n",
       "      <td>2</td>\n",
       "      <td>1</td>\n",
       "      <td>1</td>\n",
       "      <td>Cumings, Mrs. John Bradley (Florence Briggs Th...</td>\n",
       "      <td>female</td>\n",
       "      <td>38.0</td>\n",
       "      <td>1</td>\n",
       "      <td>0</td>\n",
       "      <td>PC 17599</td>\n",
       "      <td>71.2833</td>\n",
       "      <td>C85</td>\n",
       "      <td>C</td>\n",
       "    </tr>\n",
       "    <tr>\n",
       "      <th>2</th>\n",
       "      <td>3</td>\n",
       "      <td>1</td>\n",
       "      <td>3</td>\n",
       "      <td>Heikkinen, Miss. Laina</td>\n",
       "      <td>female</td>\n",
       "      <td>26.0</td>\n",
       "      <td>0</td>\n",
       "      <td>0</td>\n",
       "      <td>STON/O2. 3101282</td>\n",
       "      <td>7.9250</td>\n",
       "      <td>NaN</td>\n",
       "      <td>S</td>\n",
       "    </tr>\n",
       "    <tr>\n",
       "      <th>3</th>\n",
       "      <td>4</td>\n",
       "      <td>1</td>\n",
       "      <td>1</td>\n",
       "      <td>Futrelle, Mrs. Jacques Heath (Lily May Peel)</td>\n",
       "      <td>female</td>\n",
       "      <td>35.0</td>\n",
       "      <td>1</td>\n",
       "      <td>0</td>\n",
       "      <td>113803</td>\n",
       "      <td>53.1000</td>\n",
       "      <td>C123</td>\n",
       "      <td>S</td>\n",
       "    </tr>\n",
       "    <tr>\n",
       "      <th>4</th>\n",
       "      <td>5</td>\n",
       "      <td>0</td>\n",
       "      <td>3</td>\n",
       "      <td>Allen, Mr. William Henry</td>\n",
       "      <td>male</td>\n",
       "      <td>35.0</td>\n",
       "      <td>0</td>\n",
       "      <td>0</td>\n",
       "      <td>373450</td>\n",
       "      <td>8.0500</td>\n",
       "      <td>NaN</td>\n",
       "      <td>S</td>\n",
       "    </tr>\n",
       "    <tr>\n",
       "      <th>5</th>\n",
       "      <td>6</td>\n",
       "      <td>0</td>\n",
       "      <td>3</td>\n",
       "      <td>Moran, Mr. James</td>\n",
       "      <td>male</td>\n",
       "      <td>NaN</td>\n",
       "      <td>0</td>\n",
       "      <td>0</td>\n",
       "      <td>330877</td>\n",
       "      <td>8.4583</td>\n",
       "      <td>NaN</td>\n",
       "      <td>Q</td>\n",
       "    </tr>\n",
       "    <tr>\n",
       "      <th>6</th>\n",
       "      <td>7</td>\n",
       "      <td>0</td>\n",
       "      <td>1</td>\n",
       "      <td>McCarthy, Mr. Timothy J</td>\n",
       "      <td>male</td>\n",
       "      <td>54.0</td>\n",
       "      <td>0</td>\n",
       "      <td>0</td>\n",
       "      <td>17463</td>\n",
       "      <td>51.8625</td>\n",
       "      <td>E46</td>\n",
       "      <td>S</td>\n",
       "    </tr>\n",
       "    <tr>\n",
       "      <th>7</th>\n",
       "      <td>8</td>\n",
       "      <td>0</td>\n",
       "      <td>3</td>\n",
       "      <td>Palsson, Master. Gosta Leonard</td>\n",
       "      <td>male</td>\n",
       "      <td>2.0</td>\n",
       "      <td>3</td>\n",
       "      <td>1</td>\n",
       "      <td>349909</td>\n",
       "      <td>21.0750</td>\n",
       "      <td>NaN</td>\n",
       "      <td>S</td>\n",
       "    </tr>\n",
       "    <tr>\n",
       "      <th>8</th>\n",
       "      <td>9</td>\n",
       "      <td>1</td>\n",
       "      <td>3</td>\n",
       "      <td>Johnson, Mrs. Oscar W (Elisabeth Vilhelmina Berg)</td>\n",
       "      <td>female</td>\n",
       "      <td>27.0</td>\n",
       "      <td>0</td>\n",
       "      <td>2</td>\n",
       "      <td>347742</td>\n",
       "      <td>11.1333</td>\n",
       "      <td>NaN</td>\n",
       "      <td>S</td>\n",
       "    </tr>\n",
       "    <tr>\n",
       "      <th>9</th>\n",
       "      <td>10</td>\n",
       "      <td>1</td>\n",
       "      <td>2</td>\n",
       "      <td>Nasser, Mrs. Nicholas (Adele Achem)</td>\n",
       "      <td>female</td>\n",
       "      <td>14.0</td>\n",
       "      <td>1</td>\n",
       "      <td>0</td>\n",
       "      <td>237736</td>\n",
       "      <td>30.0708</td>\n",
       "      <td>NaN</td>\n",
       "      <td>C</td>\n",
       "    </tr>\n",
       "  </tbody>\n",
       "</table>\n",
       "</div>"
      ],
      "text/plain": [
       "   PassengerId  Survived  Pclass  \\\n",
       "0            1         0       3   \n",
       "1            2         1       1   \n",
       "2            3         1       3   \n",
       "3            4         1       1   \n",
       "4            5         0       3   \n",
       "5            6         0       3   \n",
       "6            7         0       1   \n",
       "7            8         0       3   \n",
       "8            9         1       3   \n",
       "9           10         1       2   \n",
       "\n",
       "                                                Name     Sex   Age  SibSp  \\\n",
       "0                            Braund, Mr. Owen Harris    male  22.0      1   \n",
       "1  Cumings, Mrs. John Bradley (Florence Briggs Th...  female  38.0      1   \n",
       "2                             Heikkinen, Miss. Laina  female  26.0      0   \n",
       "3       Futrelle, Mrs. Jacques Heath (Lily May Peel)  female  35.0      1   \n",
       "4                           Allen, Mr. William Henry    male  35.0      0   \n",
       "5                                   Moran, Mr. James    male   NaN      0   \n",
       "6                            McCarthy, Mr. Timothy J    male  54.0      0   \n",
       "7                     Palsson, Master. Gosta Leonard    male   2.0      3   \n",
       "8  Johnson, Mrs. Oscar W (Elisabeth Vilhelmina Berg)  female  27.0      0   \n",
       "9                Nasser, Mrs. Nicholas (Adele Achem)  female  14.0      1   \n",
       "\n",
       "   Parch            Ticket     Fare Cabin Embarked  \n",
       "0      0         A/5 21171   7.2500   NaN        S  \n",
       "1      0          PC 17599  71.2833   C85        C  \n",
       "2      0  STON/O2. 3101282   7.9250   NaN        S  \n",
       "3      0            113803  53.1000  C123        S  \n",
       "4      0            373450   8.0500   NaN        S  \n",
       "5      0            330877   8.4583   NaN        Q  \n",
       "6      0             17463  51.8625   E46        S  \n",
       "7      1            349909  21.0750   NaN        S  \n",
       "8      2            347742  11.1333   NaN        S  \n",
       "9      0            237736  30.0708   NaN        C  "
      ]
     },
     "execution_count": 11,
     "metadata": {},
     "output_type": "execute_result"
    }
   ],
   "source": [
    "train_df.head(10)\n",
    "#The name doesn't reflect much on the result, but Mr. and Mrs in the name imply information about whether or not they are married, so only extract it."
   ]
  },
  {
   "cell_type": "markdown",
   "id": "ffd72120",
   "metadata": {
    "papermill": {
     "duration": 0.036152,
     "end_time": "2023-07-02T08:19:17.512201",
     "exception": false,
     "start_time": "2023-07-02T08:19:17.476049",
     "status": "completed"
    },
    "tags": []
   },
   "source": [
    "Remove names other than Mr or Mrs etc."
   ]
  },
  {
   "cell_type": "code",
   "execution_count": 12,
   "id": "d30cf394",
   "metadata": {
    "execution": {
     "iopub.execute_input": "2023-07-02T08:19:17.587936Z",
     "iopub.status.busy": "2023-07-02T08:19:17.586401Z",
     "iopub.status.idle": "2023-07-02T08:19:17.601159Z",
     "shell.execute_reply": "2023-07-02T08:19:17.599809Z"
    },
    "papermill": {
     "duration": 0.05573,
     "end_time": "2023-07-02T08:19:17.604425",
     "exception": false,
     "start_time": "2023-07-02T08:19:17.548695",
     "status": "completed"
    },
    "tags": []
   },
   "outputs": [],
   "source": [
    "train_test_df = [train_df,test_df]\n",
    "\n",
    "for dataset in train_test_df:\n",
    "    dataset[\"Title\"] = dataset[\"Name\"].str.extract('([A-Za-z]+)\\.',expand=False)"
   ]
  },
  {
   "cell_type": "code",
   "execution_count": 13,
   "id": "54e45b59",
   "metadata": {
    "execution": {
     "iopub.execute_input": "2023-07-02T08:19:17.679464Z",
     "iopub.status.busy": "2023-07-02T08:19:17.678946Z",
     "iopub.status.idle": "2023-07-02T08:19:17.690044Z",
     "shell.execute_reply": "2023-07-02T08:19:17.688666Z"
    },
    "papermill": {
     "duration": 0.051897,
     "end_time": "2023-07-02T08:19:17.692831",
     "exception": false,
     "start_time": "2023-07-02T08:19:17.640934",
     "status": "completed"
    },
    "tags": []
   },
   "outputs": [
    {
     "data": {
      "text/plain": [
       "0        Mr\n",
       "1       Mrs\n",
       "2      Miss\n",
       "3       Mrs\n",
       "4        Mr\n",
       "       ... \n",
       "886     Rev\n",
       "887    Miss\n",
       "888    Miss\n",
       "889      Mr\n",
       "890      Mr\n",
       "Name: Title, Length: 891, dtype: object"
      ]
     },
     "execution_count": 13,
     "metadata": {},
     "output_type": "execute_result"
    }
   ],
   "source": [
    "train_df[\"Title\"]"
   ]
  },
  {
   "cell_type": "code",
   "execution_count": 14,
   "id": "a3d0eb8a",
   "metadata": {
    "execution": {
     "iopub.execute_input": "2023-07-02T08:19:17.768661Z",
     "iopub.status.busy": "2023-07-02T08:19:17.767763Z",
     "iopub.status.idle": "2023-07-02T08:19:17.779368Z",
     "shell.execute_reply": "2023-07-02T08:19:17.777880Z"
    },
    "papermill": {
     "duration": 0.052971,
     "end_time": "2023-07-02T08:19:17.782260",
     "exception": false,
     "start_time": "2023-07-02T08:19:17.729289",
     "status": "completed"
    },
    "tags": []
   },
   "outputs": [
    {
     "data": {
      "text/plain": [
       "Mr          517\n",
       "Miss        182\n",
       "Mrs         125\n",
       "Master       40\n",
       "Dr            7\n",
       "Rev           6\n",
       "Mlle          2\n",
       "Major         2\n",
       "Col           2\n",
       "Countess      1\n",
       "Capt          1\n",
       "Ms            1\n",
       "Sir           1\n",
       "Lady          1\n",
       "Mme           1\n",
       "Don           1\n",
       "Jonkheer      1\n",
       "Name: Title, dtype: int64"
      ]
     },
     "execution_count": 14,
     "metadata": {},
     "output_type": "execute_result"
    }
   ],
   "source": [
    "train_df[\"Title\"].value_counts()"
   ]
  },
  {
   "cell_type": "code",
   "execution_count": 15,
   "id": "7798f975",
   "metadata": {
    "execution": {
     "iopub.execute_input": "2023-07-02T08:19:17.858239Z",
     "iopub.status.busy": "2023-07-02T08:19:17.857358Z",
     "iopub.status.idle": "2023-07-02T08:19:18.227966Z",
     "shell.execute_reply": "2023-07-02T08:19:18.226573Z"
    },
    "papermill": {
     "duration": 0.412145,
     "end_time": "2023-07-02T08:19:18.230866",
     "exception": false,
     "start_time": "2023-07-02T08:19:17.818721",
     "status": "completed"
    },
    "tags": []
   },
   "outputs": [
    {
     "data": {
      "text/plain": [
       "<AxesSubplot:>"
      ]
     },
     "execution_count": 15,
     "metadata": {},
     "output_type": "execute_result"
    },
    {
     "data": {
      "image/png": "[encoded data removed]",
      "text/plain": [
       "<Figure size 1440x360 with 1 Axes>"
      ]
     },
     "metadata": {
      "needs_background": "light"
     },
     "output_type": "display_data"
    }
   ],
   "source": [
    "title = train_df[\"Title\"].value_counts()\n",
    "plt.figure(figsize =(20,5))\n",
    "sns.barplot(x = title.index, y = title.values)"
   ]
  },
  {
   "cell_type": "code",
   "execution_count": 16,
   "id": "67c442f9",
   "metadata": {
    "execution": {
     "iopub.execute_input": "2023-07-02T08:19:18.310043Z",
     "iopub.status.busy": "2023-07-02T08:19:18.309117Z",
     "iopub.status.idle": "2023-07-02T08:19:20.960220Z",
     "shell.execute_reply": "2023-07-02T08:19:20.958401Z"
    },
    "papermill": {
     "duration": 2.694834,
     "end_time": "2023-07-02T08:19:20.963607",
     "exception": false,
     "start_time": "2023-07-02T08:19:18.268773",
     "status": "completed"
    },
    "tags": []
   },
   "outputs": [
    {
     "data": {
      "text/html": [
       "        <script type=\"text/javascript\">\n",
       "        window.PlotlyConfig = {MathJaxConfig: 'local'};\n",
       "        if (window.MathJax && window.MathJax.Hub && window.MathJax.Hub.Config) {window.MathJax.Hub.Config({SVG: {font: \"STIX-Web\"}});}\n",
       "        if (typeof require !== 'undefined') {\n",
       "        require.undef(\"plotly\");\n",
       "        requirejs.config({\n",
       "            paths: {\n",
       "                'plotly': ['https://cdn.plot.ly/plotly-2.16.1.min']\n",
       "            }\n",
       "        });\n",
       "        require(['plotly'], function(Plotly) {\n",
       "            window._Plotly = Plotly;\n",
       "        });\n",
       "        }\n",
       "        </script>\n",
       "        "
      ]
     },
     "metadata": {},
     "output_type": "display_data"
    },
    {
     "data": {
      "text/html": [
       "<div>                            <div id=\"7bac20a8-5aad-484d-a6c1-0fb6739657d5\" class=\"plotly-graph-div\" style=\"height:525px; width:100%;\"></div>            <script type=\"text/javascript\">                require([\"plotly\"], function(Plotly) {                    window.PLOTLYENV=window.PLOTLYENV || {};                                    if (document.getElementById(\"7bac20a8-5aad-484d-a6c1-0fb6739657d5\")) {                    Plotly.newPlot(                        \"7bac20a8-5aad-484d-a6c1-0fb6739657d5\",                        [{\"alignmentgroup\":\"True\",\"hovertemplate\":\"x=%{x}<br>y=%{y}<extra></extra>\",\"legendgroup\":\"\",\"marker\":{\"color\":\"#636efa\",\"pattern\":{\"shape\":\"\"}},\"name\":\"\",\"offsetgroup\":\"\",\"orientation\":\"v\",\"showlegend\":false,\"textposition\":\"auto\",\"x\":[\"Mr\",\"Miss\",\"Mrs\",\"Master\",\"Dr\",\"Rev\",\"Mlle\",\"Major\",\"Col\",\"Countess\",\"Capt\",\"Ms\",\"Sir\",\"Lady\",\"Mme\",\"Don\",\"Jonkheer\"],\"xaxis\":\"x\",\"y\":[517,182,125,40,7,6,2,2,2,1,1,1,1,1,1,1,1],\"yaxis\":\"y\",\"type\":\"bar\"}],                        {\"template\":{\"data\":{\"histogram2dcontour\":[{\"type\":\"histogram2dcontour\",\"colorbar\":{\"outlinewidth\":0,\"ticks\":\"\"},\"colorscale\":[[0.0,\"#0d0887\"],[0.1111111111111111,\"#46039f\"],[0.2222222222222222,\"#7201a8\"],[0.3333333333333333,\"#9c179e\"],[0.4444444444444444,\"#bd3786\"],[0.5555555555555556,\"#d8576b\"],[0.6666666666666666,\"#ed7953\"],[0.7777777777777778,\"#fb9f3a\"],[0.8888888888888888,\"#fdca26\"],[1.0,\"#f0f921\"]]}],\"choropleth\":[{\"type\":\"choropleth\",\"colorbar\":{\"outlinewidth\":0,\"ticks\":\"\"}}],\"histogram2d\":[{\"type\":\"histogram2d\",\"colorbar\":{\"outlinewidth\":0,\"ticks\":\"\"},\"colorscale\":[[0.0,\"#0d0887\"],[0.1111111111111111,\"#46039f\"],[0.2222222222222222,\"#7201a8\"],[0.3333333333333333,\"#9c179e\"],[0.4444444444444444,\"#bd3786\"],[0.5555555555555556,\"#d8576b\"],[0.6666666666666666,\"#ed7953\"],[0.7777777777777778,\"#fb9f3a\"],[0.8888888888888888,\"#fdca26\"],[1.0,\"#f0f921\"]]}],\"heatmap\":[{\"type\":\"heatmap\",\"colorbar\":{\"outlinewidth\":0,\"ticks\":\"\"},\"colorscale\":[[0.0,\"#0d0887\"],[0.1111111111111111,\"#46039f\"],[0.2222222222222222,\"#7201a8\"],[0.3333333333333333,\"#9c179e\"],[0.4444444444444444,\"#bd3786\"],[0.5555555555555556,\"#d8576b\"],[0.6666666666666666,\"#ed7953\"],[0.7777777777777778,\"#fb9f3a\"],[0.8888888888888888,\"#fdca26\"],[1.0,\"#f0f921\"]]}],\"heatmapgl\":[{\"type\":\"heatmapgl\",\"colorbar\":{\"outlinewidth\":0,\"ticks\":\"\"},\"colorscale\":[[0.0,\"#0d0887\"],[0.1111111111111111,\"#46039f\"],[0.2222222222222222,\"#7201a8\"],[0.3333333333333333,\"#9c179e\"],[0.4444444444444444,\"#bd3786\"],[0.5555555555555556,\"#d8576b\"],[0.6666666666666666,\"#ed7953\"],[0.7777777777777778,\"#fb9f3a\"],[0.8888888888888888,\"#fdca26\"],[1.0,\"#f0f921\"]]}],\"contourcarpet\":[{\"type\":\"contourcarpet\",\"colorbar\":{\"outlinewidth\":0,\"ticks\":\"\"}}],\"contour\":[{\"type\":\"contour\",\"colorbar\":{\"outlinewidth\":0,\"ticks\":\"\"},\"colorscale\":[[0.0,\"#0d0887\"],[0.1111111111111111,\"#46039f\"],[0.2222222222222222,\"#7201a8\"],[0.3333333333333333,\"#9c179e\"],[0.4444444444444444,\"#bd3786\"],[0.5555555555555556,\"#d8576b\"],[0.6666666666666666,\"#ed7953\"],[0.7777777777777778,\"#fb9f3a\"],[0.8888888888888888,\"#fdca26\"],[1.0,\"#f0f921\"]]}],\"surface\":[{\"type\":\"surface\",\"colorbar\":{\"outlinewidth\":0,\"ticks\":\"\"},\"colorscale\":[[0.0,\"#0d0887\"],[0.1111111111111111,\"#46039f\"],[0.2222222222222222,\"#7201a8\"],[0.3333333333333333,\"#9c179e\"],[0.4444444444444444,\"#bd3786\"],[0.5555555555555556,\"#d8576b\"],[0.6666666666666666,\"#ed7953\"],[0.7777777777777778,\"#fb9f3a\"],[0.8888888888888888,\"#fdca26\"],[1.0,\"#f0f921\"]]}],\"mesh3d\":[{\"type\":\"mesh3d\",\"colorbar\":{\"outlinewidth\":0,\"ticks\":\"\"}}],\"scatter\":[{\"fillpattern\":{\"fillmode\":\"overlay\",\"size\":10,\"solidity\":0.2},\"type\":\"scatter\"}],\"parcoords\":[{\"type\":\"parcoords\",\"line\":{\"colorbar\":{\"outlinewidth\":0,\"ticks\":\"\"}}}],\"scatterpolargl\":[{\"type\":\"scatterpolargl\",\"marker\":{\"colorbar\":{\"outlinewidth\":0,\"ticks\":\"\"}}}],\"bar\":[{\"error_x\":{\"color\":\"#2a3f5f\"},\"error_y\":{\"color\":\"#2a3f5f\"},\"marker\":{\"line\":{\"color\":\"#E5ECF6\",\"width\":0.5},\"pattern\":{\"fillmode\":\"overlay\",\"size\":10,\"solidity\":0.2}},\"type\":\"bar\"}],\"scattergeo\":[{\"type\":\"scattergeo\",\"marker\":{\"colorbar\":{\"outlinewidth\":0,\"ticks\":\"\"}}}],\"scatterpolar\":[{\"type\":\"scatterpolar\",\"marker\":{\"colorbar\":{\"outlinewidth\":0,\"ticks\":\"\"}}}],\"histogram\":[{\"marker\":{\"pattern\":{\"fillmode\":\"overlay\",\"size\":10,\"solidity\":0.2}},\"type\":\"histogram\"}],\"scattergl\":[{\"type\":\"scattergl\",\"marker\":{\"colorbar\":{\"outlinewidth\":0,\"ticks\":\"\"}}}],\"scatter3d\":[{\"type\":\"scatter3d\",\"line\":{\"colorbar\":{\"outlinewidth\":0,\"ticks\":\"\"}},\"marker\":{\"colorbar\":{\"outlinewidth\":0,\"ticks\":\"\"}}}],\"scattermapbox\":[{\"type\":\"scattermapbox\",\"marker\":{\"colorbar\":{\"outlinewidth\":0,\"ticks\":\"\"}}}],\"scatterternary\":[{\"type\":\"scatterternary\",\"marker\":{\"colorbar\":{\"outlinewidth\":0,\"ticks\":\"\"}}}],\"scattercarpet\":[{\"type\":\"scattercarpet\",\"marker\":{\"colorbar\":{\"outlinewidth\":0,\"ticks\":\"\"}}}],\"carpet\":[{\"aaxis\":{\"endlinecolor\":\"#2a3f5f\",\"gridcolor\":\"white\",\"linecolor\":\"white\",\"minorgridcolor\":\"white\",\"startlinecolor\":\"#2a3f5f\"},\"baxis\":{\"endlinecolor\":\"#2a3f5f\",\"gridcolor\":\"white\",\"linecolor\":\"white\",\"minorgridcolor\":\"white\",\"startlinecolor\":\"#2a3f5f\"},\"type\":\"carpet\"}],\"table\":[{\"cells\":{\"fill\":{\"color\":\"#EBF0F8\"},\"line\":{\"color\":\"white\"}},\"header\":{\"fill\":{\"color\":\"#C8D4E3\"},\"line\":{\"color\":\"white\"}},\"type\":\"table\"}],\"barpolar\":[{\"marker\":{\"line\":{\"color\":\"#E5ECF6\",\"width\":0.5},\"pattern\":{\"fillmode\":\"overlay\",\"size\":10,\"solidity\":0.2}},\"type\":\"barpolar\"}],\"pie\":[{\"automargin\":true,\"type\":\"pie\"}]},\"layout\":{\"autotypenumbers\":\"strict\",\"colorway\":[\"#636efa\",\"#EF553B\",\"#00cc96\",\"#ab63fa\",\"#FFA15A\",\"#19d3f3\",\"#FF6692\",\"#B6E880\",\"#FF97FF\",\"#FECB52\"],\"font\":{\"color\":\"#2a3f5f\"},\"hovermode\":\"closest\",\"hoverlabel\":{\"align\":\"left\"},\"paper_bgcolor\":\"white\",\"plot_bgcolor\":\"#E5ECF6\",\"polar\":{\"bgcolor\":\"#E5ECF6\",\"angularaxis\":{\"gridcolor\":\"white\",\"linecolor\":\"white\",\"ticks\":\"\"},\"radialaxis\":{\"gridcolor\":\"white\",\"linecolor\":\"white\",\"ticks\":\"\"}},\"ternary\":{\"bgcolor\":\"#E5ECF6\",\"aaxis\":{\"gridcolor\":\"white\",\"linecolor\":\"white\",\"ticks\":\"\"},\"baxis\":{\"gridcolor\":\"white\",\"linecolor\":\"white\",\"ticks\":\"\"},\"caxis\":{\"gridcolor\":\"white\",\"linecolor\":\"white\",\"ticks\":\"\"}},\"coloraxis\":{\"colorbar\":{\"outlinewidth\":0,\"ticks\":\"\"}},\"colorscale\":{\"sequential\":[[0.0,\"#0d0887\"],[0.1111111111111111,\"#46039f\"],[0.2222222222222222,\"#7201a8\"],[0.3333333333333333,\"#9c179e\"],[0.4444444444444444,\"#bd3786\"],[0.5555555555555556,\"#d8576b\"],[0.6666666666666666,\"#ed7953\"],[0.7777777777777778,\"#fb9f3a\"],[0.8888888888888888,\"#fdca26\"],[1.0,\"#f0f921\"]],\"sequentialminus\":[[0.0,\"#0d0887\"],[0.1111111111111111,\"#46039f\"],[0.2222222222222222,\"#7201a8\"],[0.3333333333333333,\"#9c179e\"],[0.4444444444444444,\"#bd3786\"],[0.5555555555555556,\"#d8576b\"],[0.6666666666666666,\"#ed7953\"],[0.7777777777777778,\"#fb9f3a\"],[0.8888888888888888,\"#fdca26\"],[1.0,\"#f0f921\"]],\"diverging\":[[0,\"#8e0152\"],[0.1,\"#c51b7d\"],[0.2,\"#de77ae\"],[0.3,\"#f1b6da\"],[0.4,\"#fde0ef\"],[0.5,\"#f7f7f7\"],[0.6,\"#e6f5d0\"],[0.7,\"#b8e186\"],[0.8,\"#7fbc41\"],[0.9,\"#4d9221\"],[1,\"#276419\"]]},\"xaxis\":{\"gridcolor\":\"white\",\"linecolor\":\"white\",\"ticks\":\"\",\"title\":{\"standoff\":15},\"zerolinecolor\":\"white\",\"automargin\":true,\"zerolinewidth\":2},\"yaxis\":{\"gridcolor\":\"white\",\"linecolor\":\"white\",\"ticks\":\"\",\"title\":{\"standoff\":15},\"zerolinecolor\":\"white\",\"automargin\":true,\"zerolinewidth\":2},\"scene\":{\"xaxis\":{\"backgroundcolor\":\"#E5ECF6\",\"gridcolor\":\"white\",\"linecolor\":\"white\",\"showbackground\":true,\"ticks\":\"\",\"zerolinecolor\":\"white\",\"gridwidth\":2},\"yaxis\":{\"backgroundcolor\":\"#E5ECF6\",\"gridcolor\":\"white\",\"linecolor\":\"white\",\"showbackground\":true,\"ticks\":\"\",\"zerolinecolor\":\"white\",\"gridwidth\":2},\"zaxis\":{\"backgroundcolor\":\"#E5ECF6\",\"gridcolor\":\"white\",\"linecolor\":\"white\",\"showbackground\":true,\"ticks\":\"\",\"zerolinecolor\":\"white\",\"gridwidth\":2}},\"shapedefaults\":{\"line\":{\"color\":\"#2a3f5f\"}},\"annotationdefaults\":{\"arrowcolor\":\"#2a3f5f\",\"arrowhead\":0,\"arrowwidth\":1},\"geo\":{\"bgcolor\":\"white\",\"landcolor\":\"#E5ECF6\",\"subunitcolor\":\"white\",\"showland\":true,\"showlakes\":true,\"lakecolor\":\"white\"},\"title\":{\"x\":0.05},\"mapbox\":{\"style\":\"light\"}}},\"xaxis\":{\"anchor\":\"y\",\"domain\":[0.0,1.0],\"title\":{\"text\":\"x\"}},\"yaxis\":{\"anchor\":\"x\",\"domain\":[0.0,1.0],\"title\":{\"text\":\"y\"}},\"legend\":{\"tracegroupgap\":0},\"margin\":{\"t\":60},\"barmode\":\"relative\"},                        {\"responsive\": true}                    ).then(function(){\n",
       "                            \n",
       "var gd = document.getElementById('7bac20a8-5aad-484d-a6c1-0fb6739657d5');\n",
       "var x = new MutationObserver(function (mutations, observer) {{\n",
       "        var display = window.getComputedStyle(gd).display;\n",
       "        if (!display || display === 'none') {{\n",
       "            console.log([gd, 'removed!']);\n",
       "            Plotly.purge(gd);\n",
       "            observer.disconnect();\n",
       "        }}\n",
       "}});\n",
       "\n",
       "// Listen for the removal of the full notebook cells\n",
       "var notebookContainer = gd.closest('#notebook-container');\n",
       "if (notebookContainer) {{\n",
       "    x.observe(notebookContainer, {childList: true});\n",
       "}}\n",
       "\n",
       "// Listen for the clearing of the current output cell\n",
       "var outputEl = gd.closest('.output');\n",
       "if (outputEl) {{\n",
       "    x.observe(outputEl, {childList: true});\n",
       "}}\n",
       "\n",
       "                        })                };                });            </script>        </div>"
      ]
     },
     "metadata": {},
     "output_type": "display_data"
    }
   ],
   "source": [
    "# use another library to more various visualization\n",
    "import plotly.express as px\n",
    "px.bar(x = title.index, y = title.values)"
   ]
  },
  {
   "cell_type": "code",
   "execution_count": 17,
   "id": "c3871628",
   "metadata": {
    "execution": {
     "iopub.execute_input": "2023-07-02T08:19:21.043894Z",
     "iopub.status.busy": "2023-07-02T08:19:21.042429Z",
     "iopub.status.idle": "2023-07-02T08:19:21.054914Z",
     "shell.execute_reply": "2023-07-02T08:19:21.053795Z"
    },
    "papermill": {
     "duration": 0.055708,
     "end_time": "2023-07-02T08:19:21.057733",
     "exception": false,
     "start_time": "2023-07-02T08:19:21.002025",
     "status": "completed"
    },
    "tags": []
   },
   "outputs": [],
   "source": [
    "title_mapping = {\n",
    "    'Mr': 0, \"Miss\":1,\"Mrs\":2,\"Master\":3,\"Dr\":3,\"Rev\":3,\"Col\":3,\"Major\":3,\"Mile\":3,\"Countess\":3,\"Ms\":3,\"Lady\":3,\"Johnkheer\":3,\"Don\":3,\"Dona\":3,\"Mme\":3,\"Capt\":3,\"Sir\":3\n",
    "}\n",
    "\n",
    "for dataset in train_test_df:\n",
    "    dataset[\"Title\"] = dataset[\"Title\"].map(title_mapping)"
   ]
  },
  {
   "cell_type": "code",
   "execution_count": 18,
   "id": "119ea451",
   "metadata": {
    "execution": {
     "iopub.execute_input": "2023-07-02T08:19:21.136709Z",
     "iopub.status.busy": "2023-07-02T08:19:21.135766Z",
     "iopub.status.idle": "2023-07-02T08:19:21.157454Z",
     "shell.execute_reply": "2023-07-02T08:19:21.156180Z"
    },
    "papermill": {
     "duration": 0.064302,
     "end_time": "2023-07-02T08:19:21.160440",
     "exception": false,
     "start_time": "2023-07-02T08:19:21.096138",
     "status": "completed"
    },
    "tags": []
   },
   "outputs": [
    {
     "data": {
      "text/html": [
       "<div>\n",
       "<style scoped>\n",
       "    .dataframe tbody tr th:only-of-type {\n",
       "        vertical-align: middle;\n",
       "    }\n",
       "\n",
       "    .dataframe tbody tr th {\n",
       "        vertical-align: top;\n",
       "    }\n",
       "\n",
       "    .dataframe thead th {\n",
       "        text-align: right;\n",
       "    }\n",
       "</style>\n",
       "<table border=\"1\" class=\"dataframe\">\n",
       "  <thead>\n",
       "    <tr style=\"text-align: right;\">\n",
       "      <th></th>\n",
       "      <th>PassengerId</th>\n",
       "      <th>Survived</th>\n",
       "      <th>Pclass</th>\n",
       "      <th>Name</th>\n",
       "      <th>Sex</th>\n",
       "      <th>Age</th>\n",
       "      <th>SibSp</th>\n",
       "      <th>Parch</th>\n",
       "      <th>Ticket</th>\n",
       "      <th>Fare</th>\n",
       "      <th>Cabin</th>\n",
       "      <th>Embarked</th>\n",
       "      <th>Title</th>\n",
       "    </tr>\n",
       "  </thead>\n",
       "  <tbody>\n",
       "    <tr>\n",
       "      <th>0</th>\n",
       "      <td>1</td>\n",
       "      <td>0</td>\n",
       "      <td>3</td>\n",
       "      <td>Braund, Mr. Owen Harris</td>\n",
       "      <td>male</td>\n",
       "      <td>22.0</td>\n",
       "      <td>1</td>\n",
       "      <td>0</td>\n",
       "      <td>A/5 21171</td>\n",
       "      <td>7.2500</td>\n",
       "      <td>NaN</td>\n",
       "      <td>S</td>\n",
       "      <td>0.0</td>\n",
       "    </tr>\n",
       "    <tr>\n",
       "      <th>1</th>\n",
       "      <td>2</td>\n",
       "      <td>1</td>\n",
       "      <td>1</td>\n",
       "      <td>Cumings, Mrs. John Bradley (Florence Briggs Th...</td>\n",
       "      <td>female</td>\n",
       "      <td>38.0</td>\n",
       "      <td>1</td>\n",
       "      <td>0</td>\n",
       "      <td>PC 17599</td>\n",
       "      <td>71.2833</td>\n",
       "      <td>C85</td>\n",
       "      <td>C</td>\n",
       "      <td>2.0</td>\n",
       "    </tr>\n",
       "    <tr>\n",
       "      <th>2</th>\n",
       "      <td>3</td>\n",
       "      <td>1</td>\n",
       "      <td>3</td>\n",
       "      <td>Heikkinen, Miss. Laina</td>\n",
       "      <td>female</td>\n",
       "      <td>26.0</td>\n",
       "      <td>0</td>\n",
       "      <td>0</td>\n",
       "      <td>STON/O2. 3101282</td>\n",
       "      <td>7.9250</td>\n",
       "      <td>NaN</td>\n",
       "      <td>S</td>\n",
       "      <td>1.0</td>\n",
       "    </tr>\n",
       "    <tr>\n",
       "      <th>3</th>\n",
       "      <td>4</td>\n",
       "      <td>1</td>\n",
       "      <td>1</td>\n",
       "      <td>Futrelle, Mrs. Jacques Heath (Lily May Peel)</td>\n",
       "      <td>female</td>\n",
       "      <td>35.0</td>\n",
       "      <td>1</td>\n",
       "      <td>0</td>\n",
       "      <td>113803</td>\n",
       "      <td>53.1000</td>\n",
       "      <td>C123</td>\n",
       "      <td>S</td>\n",
       "      <td>2.0</td>\n",
       "    </tr>\n",
       "    <tr>\n",
       "      <th>4</th>\n",
       "      <td>5</td>\n",
       "      <td>0</td>\n",
       "      <td>3</td>\n",
       "      <td>Allen, Mr. William Henry</td>\n",
       "      <td>male</td>\n",
       "      <td>35.0</td>\n",
       "      <td>0</td>\n",
       "      <td>0</td>\n",
       "      <td>373450</td>\n",
       "      <td>8.0500</td>\n",
       "      <td>NaN</td>\n",
       "      <td>S</td>\n",
       "      <td>0.0</td>\n",
       "    </tr>\n",
       "  </tbody>\n",
       "</table>\n",
       "</div>"
      ],
      "text/plain": [
       "   PassengerId  Survived  Pclass  \\\n",
       "0            1         0       3   \n",
       "1            2         1       1   \n",
       "2            3         1       3   \n",
       "3            4         1       1   \n",
       "4            5         0       3   \n",
       "\n",
       "                                                Name     Sex   Age  SibSp  \\\n",
       "0                            Braund, Mr. Owen Harris    male  22.0      1   \n",
       "1  Cumings, Mrs. John Bradley (Florence Briggs Th...  female  38.0      1   \n",
       "2                             Heikkinen, Miss. Laina  female  26.0      0   \n",
       "3       Futrelle, Mrs. Jacques Heath (Lily May Peel)  female  35.0      1   \n",
       "4                           Allen, Mr. William Henry    male  35.0      0   \n",
       "\n",
       "   Parch            Ticket     Fare Cabin Embarked  Title  \n",
       "0      0         A/5 21171   7.2500   NaN        S    0.0  \n",
       "1      0          PC 17599  71.2833   C85        C    2.0  \n",
       "2      0  STON/O2. 3101282   7.9250   NaN        S    1.0  \n",
       "3      0            113803  53.1000  C123        S    2.0  \n",
       "4      0            373450   8.0500   NaN        S    0.0  "
      ]
     },
     "execution_count": 18,
     "metadata": {},
     "output_type": "execute_result"
    }
   ],
   "source": [
    "train_df.head()"
   ]
  },
  {
   "cell_type": "code",
   "execution_count": 19,
   "id": "b6bd6fc8",
   "metadata": {
    "execution": {
     "iopub.execute_input": "2023-07-02T08:19:21.241115Z",
     "iopub.status.busy": "2023-07-02T08:19:21.240555Z",
     "iopub.status.idle": "2023-07-02T08:19:21.568812Z",
     "shell.execute_reply": "2023-07-02T08:19:21.567660Z"
    },
    "papermill": {
     "duration": 0.373276,
     "end_time": "2023-07-02T08:19:21.571867",
     "exception": false,
     "start_time": "2023-07-02T08:19:21.198591",
     "status": "completed"
    },
    "tags": []
   },
   "outputs": [
    {
     "data": {
      "image/png": "[encoded data removed]",
      "text/plain": [
       "<Figure size 1440x504 with 1 Axes>"
      ]
     },
     "metadata": {
      "needs_background": "light"
     },
     "output_type": "display_data"
    }
   ],
   "source": [
    "bar_chart(\"Title\")"
   ]
  },
  {
   "cell_type": "code",
   "execution_count": 20,
   "id": "00b66793",
   "metadata": {
    "execution": {
     "iopub.execute_input": "2023-07-02T08:19:21.658022Z",
     "iopub.status.busy": "2023-07-02T08:19:21.656747Z",
     "iopub.status.idle": "2023-07-02T08:19:21.690163Z",
     "shell.execute_reply": "2023-07-02T08:19:21.688747Z"
    },
    "papermill": {
     "duration": 0.080404,
     "end_time": "2023-07-02T08:19:21.693370",
     "exception": false,
     "start_time": "2023-07-02T08:19:21.612966",
     "status": "completed"
    },
    "tags": []
   },
   "outputs": [
    {
     "data": {
      "text/html": [
       "<div>\n",
       "<style scoped>\n",
       "    .dataframe tbody tr th:only-of-type {\n",
       "        vertical-align: middle;\n",
       "    }\n",
       "\n",
       "    .dataframe tbody tr th {\n",
       "        vertical-align: top;\n",
       "    }\n",
       "\n",
       "    .dataframe thead th {\n",
       "        text-align: right;\n",
       "    }\n",
       "</style>\n",
       "<table border=\"1\" class=\"dataframe\">\n",
       "  <thead>\n",
       "    <tr style=\"text-align: right;\">\n",
       "      <th></th>\n",
       "      <th>PassengerId</th>\n",
       "      <th>Survived</th>\n",
       "      <th>Pclass</th>\n",
       "      <th>Name</th>\n",
       "      <th>Sex</th>\n",
       "      <th>Age</th>\n",
       "      <th>SibSp</th>\n",
       "      <th>Parch</th>\n",
       "      <th>Ticket</th>\n",
       "      <th>Fare</th>\n",
       "      <th>Cabin</th>\n",
       "      <th>Embarked</th>\n",
       "      <th>Title</th>\n",
       "    </tr>\n",
       "  </thead>\n",
       "  <tbody>\n",
       "    <tr>\n",
       "      <th>0</th>\n",
       "      <td>1</td>\n",
       "      <td>0</td>\n",
       "      <td>3</td>\n",
       "      <td>Braund, Mr. Owen Harris</td>\n",
       "      <td>male</td>\n",
       "      <td>22.0</td>\n",
       "      <td>1</td>\n",
       "      <td>0</td>\n",
       "      <td>A/5 21171</td>\n",
       "      <td>7.2500</td>\n",
       "      <td>NaN</td>\n",
       "      <td>S</td>\n",
       "      <td>0.0</td>\n",
       "    </tr>\n",
       "    <tr>\n",
       "      <th>1</th>\n",
       "      <td>2</td>\n",
       "      <td>1</td>\n",
       "      <td>1</td>\n",
       "      <td>Cumings, Mrs. John Bradley (Florence Briggs Th...</td>\n",
       "      <td>female</td>\n",
       "      <td>38.0</td>\n",
       "      <td>1</td>\n",
       "      <td>0</td>\n",
       "      <td>PC 17599</td>\n",
       "      <td>71.2833</td>\n",
       "      <td>C85</td>\n",
       "      <td>C</td>\n",
       "      <td>2.0</td>\n",
       "    </tr>\n",
       "    <tr>\n",
       "      <th>2</th>\n",
       "      <td>3</td>\n",
       "      <td>1</td>\n",
       "      <td>3</td>\n",
       "      <td>Heikkinen, Miss. Laina</td>\n",
       "      <td>female</td>\n",
       "      <td>26.0</td>\n",
       "      <td>0</td>\n",
       "      <td>0</td>\n",
       "      <td>STON/O2. 3101282</td>\n",
       "      <td>7.9250</td>\n",
       "      <td>NaN</td>\n",
       "      <td>S</td>\n",
       "      <td>1.0</td>\n",
       "    </tr>\n",
       "    <tr>\n",
       "      <th>3</th>\n",
       "      <td>4</td>\n",
       "      <td>1</td>\n",
       "      <td>1</td>\n",
       "      <td>Futrelle, Mrs. Jacques Heath (Lily May Peel)</td>\n",
       "      <td>female</td>\n",
       "      <td>35.0</td>\n",
       "      <td>1</td>\n",
       "      <td>0</td>\n",
       "      <td>113803</td>\n",
       "      <td>53.1000</td>\n",
       "      <td>C123</td>\n",
       "      <td>S</td>\n",
       "      <td>2.0</td>\n",
       "    </tr>\n",
       "    <tr>\n",
       "      <th>4</th>\n",
       "      <td>5</td>\n",
       "      <td>0</td>\n",
       "      <td>3</td>\n",
       "      <td>Allen, Mr. William Henry</td>\n",
       "      <td>male</td>\n",
       "      <td>35.0</td>\n",
       "      <td>0</td>\n",
       "      <td>0</td>\n",
       "      <td>373450</td>\n",
       "      <td>8.0500</td>\n",
       "      <td>NaN</td>\n",
       "      <td>S</td>\n",
       "      <td>0.0</td>\n",
       "    </tr>\n",
       "    <tr>\n",
       "      <th>...</th>\n",
       "      <td>...</td>\n",
       "      <td>...</td>\n",
       "      <td>...</td>\n",
       "      <td>...</td>\n",
       "      <td>...</td>\n",
       "      <td>...</td>\n",
       "      <td>...</td>\n",
       "      <td>...</td>\n",
       "      <td>...</td>\n",
       "      <td>...</td>\n",
       "      <td>...</td>\n",
       "      <td>...</td>\n",
       "      <td>...</td>\n",
       "    </tr>\n",
       "    <tr>\n",
       "      <th>886</th>\n",
       "      <td>887</td>\n",
       "      <td>0</td>\n",
       "      <td>2</td>\n",
       "      <td>Montvila, Rev. Juozas</td>\n",
       "      <td>male</td>\n",
       "      <td>27.0</td>\n",
       "      <td>0</td>\n",
       "      <td>0</td>\n",
       "      <td>211536</td>\n",
       "      <td>13.0000</td>\n",
       "      <td>NaN</td>\n",
       "      <td>S</td>\n",
       "      <td>3.0</td>\n",
       "    </tr>\n",
       "    <tr>\n",
       "      <th>887</th>\n",
       "      <td>888</td>\n",
       "      <td>1</td>\n",
       "      <td>1</td>\n",
       "      <td>Graham, Miss. Margaret Edith</td>\n",
       "      <td>female</td>\n",
       "      <td>19.0</td>\n",
       "      <td>0</td>\n",
       "      <td>0</td>\n",
       "      <td>112053</td>\n",
       "      <td>30.0000</td>\n",
       "      <td>B42</td>\n",
       "      <td>S</td>\n",
       "      <td>1.0</td>\n",
       "    </tr>\n",
       "    <tr>\n",
       "      <th>888</th>\n",
       "      <td>889</td>\n",
       "      <td>0</td>\n",
       "      <td>3</td>\n",
       "      <td>Johnston, Miss. Catherine Helen \"Carrie\"</td>\n",
       "      <td>female</td>\n",
       "      <td>NaN</td>\n",
       "      <td>1</td>\n",
       "      <td>2</td>\n",
       "      <td>W./C. 6607</td>\n",
       "      <td>23.4500</td>\n",
       "      <td>NaN</td>\n",
       "      <td>S</td>\n",
       "      <td>1.0</td>\n",
       "    </tr>\n",
       "    <tr>\n",
       "      <th>889</th>\n",
       "      <td>890</td>\n",
       "      <td>1</td>\n",
       "      <td>1</td>\n",
       "      <td>Behr, Mr. Karl Howell</td>\n",
       "      <td>male</td>\n",
       "      <td>26.0</td>\n",
       "      <td>0</td>\n",
       "      <td>0</td>\n",
       "      <td>111369</td>\n",
       "      <td>30.0000</td>\n",
       "      <td>C148</td>\n",
       "      <td>C</td>\n",
       "      <td>0.0</td>\n",
       "    </tr>\n",
       "    <tr>\n",
       "      <th>890</th>\n",
       "      <td>891</td>\n",
       "      <td>0</td>\n",
       "      <td>3</td>\n",
       "      <td>Dooley, Mr. Patrick</td>\n",
       "      <td>male</td>\n",
       "      <td>32.0</td>\n",
       "      <td>0</td>\n",
       "      <td>0</td>\n",
       "      <td>370376</td>\n",
       "      <td>7.7500</td>\n",
       "      <td>NaN</td>\n",
       "      <td>Q</td>\n",
       "      <td>0.0</td>\n",
       "    </tr>\n",
       "  </tbody>\n",
       "</table>\n",
       "<p>891 rows × 13 columns</p>\n",
       "</div>"
      ],
      "text/plain": [
       "     PassengerId  Survived  Pclass  \\\n",
       "0              1         0       3   \n",
       "1              2         1       1   \n",
       "2              3         1       3   \n",
       "3              4         1       1   \n",
       "4              5         0       3   \n",
       "..           ...       ...     ...   \n",
       "886          887         0       2   \n",
       "887          888         1       1   \n",
       "888          889         0       3   \n",
       "889          890         1       1   \n",
       "890          891         0       3   \n",
       "\n",
       "                                                  Name     Sex   Age  SibSp  \\\n",
       "0                              Braund, Mr. Owen Harris    male  22.0      1   \n",
       "1    Cumings, Mrs. John Bradley (Florence Briggs Th...  female  38.0      1   \n",
       "2                               Heikkinen, Miss. Laina  female  26.0      0   \n",
       "3         Futrelle, Mrs. Jacques Heath (Lily May Peel)  female  35.0      1   \n",
       "4                             Allen, Mr. William Henry    male  35.0      0   \n",
       "..                                                 ...     ...   ...    ...   \n",
       "886                              Montvila, Rev. Juozas    male  27.0      0   \n",
       "887                       Graham, Miss. Margaret Edith  female  19.0      0   \n",
       "888           Johnston, Miss. Catherine Helen \"Carrie\"  female   NaN      1   \n",
       "889                              Behr, Mr. Karl Howell    male  26.0      0   \n",
       "890                                Dooley, Mr. Patrick    male  32.0      0   \n",
       "\n",
       "     Parch            Ticket     Fare Cabin Embarked  Title  \n",
       "0        0         A/5 21171   7.2500   NaN        S    0.0  \n",
       "1        0          PC 17599  71.2833   C85        C    2.0  \n",
       "2        0  STON/O2. 3101282   7.9250   NaN        S    1.0  \n",
       "3        0            113803  53.1000  C123        S    2.0  \n",
       "4        0            373450   8.0500   NaN        S    0.0  \n",
       "..     ...               ...      ...   ...      ...    ...  \n",
       "886      0            211536  13.0000   NaN        S    3.0  \n",
       "887      0            112053  30.0000   B42        S    1.0  \n",
       "888      2        W./C. 6607  23.4500   NaN        S    1.0  \n",
       "889      0            111369  30.0000  C148        C    0.0  \n",
       "890      0            370376   7.7500   NaN        Q    0.0  \n",
       "\n",
       "[891 rows x 13 columns]"
      ]
     },
     "execution_count": 20,
     "metadata": {},
     "output_type": "execute_result"
    }
   ],
   "source": [
    "train_df"
   ]
  },
  {
   "cell_type": "markdown",
   "id": "c0a60983",
   "metadata": {
    "papermill": {
     "duration": 0.040264,
     "end_time": "2023-07-02T08:19:21.774641",
     "exception": false,
     "start_time": "2023-07-02T08:19:21.734377",
     "status": "completed"
    },
    "tags": []
   },
   "source": [
    "<a id=\"1.2\"></a>\n",
    "# <h2 style=\"font-family: Serif; font-size: 28px; font-style: normal; font-weight: normal; text-decoration: none; text-transform: none; letter-spacing: 1px; color: #3162C7; background-color: #DAD9FF;\"><b>1.3.2  </b> Sex </h2>"
   ]
  },
  {
   "cell_type": "code",
   "execution_count": 21,
   "id": "dc99de1a",
   "metadata": {
    "execution": {
     "iopub.execute_input": "2023-07-02T08:19:21.860631Z",
     "iopub.status.busy": "2023-07-02T08:19:21.859296Z",
     "iopub.status.idle": "2023-07-02T08:19:21.869503Z",
     "shell.execute_reply": "2023-07-02T08:19:21.868314Z"
    },
    "papermill": {
     "duration": 0.056433,
     "end_time": "2023-07-02T08:19:21.872408",
     "exception": false,
     "start_time": "2023-07-02T08:19:21.815975",
     "status": "completed"
    },
    "tags": []
   },
   "outputs": [],
   "source": [
    "sex_mapping = {\"male\":0,\"female\":1}\n",
    "for dataset in train_test_df:\n",
    "    dataset[\"Sex\"] = dataset[\"Sex\"].map(sex_mapping)"
   ]
  },
  {
   "cell_type": "code",
   "execution_count": 22,
   "id": "c0c8fd39",
   "metadata": {
    "execution": {
     "iopub.execute_input": "2023-07-02T08:19:21.955938Z",
     "iopub.status.busy": "2023-07-02T08:19:21.955401Z",
     "iopub.status.idle": "2023-07-02T08:19:22.241382Z",
     "shell.execute_reply": "2023-07-02T08:19:22.240049Z"
    },
    "papermill": {
     "duration": 0.331989,
     "end_time": "2023-07-02T08:19:22.244668",
     "exception": false,
     "start_time": "2023-07-02T08:19:21.912679",
     "status": "completed"
    },
    "tags": []
   },
   "outputs": [
    {
     "data": {
      "image/png": "[encoded data removed]",
      "text/plain": [
       "<Figure size 1440x504 with 1 Axes>"
      ]
     },
     "metadata": {
      "needs_background": "light"
     },
     "output_type": "display_data"
    }
   ],
   "source": [
    "bar_chart(\"Sex\")"
   ]
  },
  {
   "cell_type": "markdown",
   "id": "c0fc6a4d",
   "metadata": {
    "papermill": {
     "duration": 0.042793,
     "end_time": "2023-07-02T08:19:22.329824",
     "exception": false,
     "start_time": "2023-07-02T08:19:22.287031",
     "status": "completed"
    },
    "tags": []
   },
   "source": [
    "<b>There are several NaN values for age. I can substitute those values for the total average age. But since we've divided them into categories by sex from Name, we substitute them to obtain the average age of a man and woman, if the gender of a person with NaN value is male, and if it's female, we substitute the average age of a man's average age."
   ]
  },
  {
   "cell_type": "code",
   "execution_count": 23,
   "id": "db3a6082",
   "metadata": {
    "execution": {
     "iopub.execute_input": "2023-07-02T08:19:22.417924Z",
     "iopub.status.busy": "2023-07-02T08:19:22.417067Z",
     "iopub.status.idle": "2023-07-02T08:19:22.427836Z",
     "shell.execute_reply": "2023-07-02T08:19:22.426696Z"
    },
    "papermill": {
     "duration": 0.05837,
     "end_time": "2023-07-02T08:19:22.430866",
     "exception": false,
     "start_time": "2023-07-02T08:19:22.372496",
     "status": "completed"
    },
    "tags": []
   },
   "outputs": [],
   "source": [
    "# use median get the average age\n",
    "train_df[\"Age\"].fillna(train_df.groupby('Title')['Age'].transform(\"median\"),inplace=True)\n",
    "test_df[\"Age\"].fillna(test_df.groupby('Title')['Age'].transform(\"median\"),inplace=True)"
   ]
  },
  {
   "cell_type": "code",
   "execution_count": 24,
   "id": "8be432d0",
   "metadata": {
    "execution": {
     "iopub.execute_input": "2023-07-02T08:19:22.516261Z",
     "iopub.status.busy": "2023-07-02T08:19:22.515368Z",
     "iopub.status.idle": "2023-07-02T08:19:22.958588Z",
     "shell.execute_reply": "2023-07-02T08:19:22.957332Z"
    },
    "papermill": {
     "duration": 0.489432,
     "end_time": "2023-07-02T08:19:22.962045",
     "exception": false,
     "start_time": "2023-07-02T08:19:22.472613",
     "status": "completed"
    },
    "tags": []
   },
   "outputs": [
    {
     "data": {
      "image/png": "[encoded data removed]",
      "text/plain": [
       "<Figure size 915.875x216 with 1 Axes>"
      ]
     },
     "metadata": {
      "needs_background": "light"
     },
     "output_type": "display_data"
    }
   ],
   "source": [
    "# visualization death - age\n",
    "facet = sns.FacetGrid(train_df, hue=\"Survived\",aspect=4)\n",
    "facet.map(sns.kdeplot,\"Age\",shade=True)\n",
    "facet.set(xlim=(0,train_df['Age'].max()))\n",
    "facet.add_legend()\n",
    "\n",
    "plt.show()"
   ]
  },
  {
   "cell_type": "markdown",
   "id": "bd7bd272",
   "metadata": {
    "papermill": {
     "duration": 0.041315,
     "end_time": "2023-07-02T08:19:23.045829",
     "exception": false,
     "start_time": "2023-07-02T08:19:23.004514",
     "status": "completed"
    },
    "tags": []
   },
   "source": [
    "<b>Both the most dead age group and the most surviving age group are in their 20s and mid-30s. People in their 0s to 10s and late 30s can see that there are more dead people."
   ]
  },
  {
   "cell_type": "code",
   "execution_count": 25,
   "id": "1eb9e980",
   "metadata": {
    "execution": {
     "iopub.execute_input": "2023-07-02T08:19:23.130923Z",
     "iopub.status.busy": "2023-07-02T08:19:23.130389Z",
     "iopub.status.idle": "2023-07-02T08:19:23.525124Z",
     "shell.execute_reply": "2023-07-02T08:19:23.523713Z"
    },
    "papermill": {
     "duration": 0.441152,
     "end_time": "2023-07-02T08:19:23.528341",
     "exception": false,
     "start_time": "2023-07-02T08:19:23.087189",
     "status": "completed"
    },
    "tags": []
   },
   "outputs": [
    {
     "data": {
      "text/plain": [
       "(0.0, 20.0)"
      ]
     },
     "execution_count": 25,
     "metadata": {},
     "output_type": "execute_result"
    },
    {
     "data": {
      "image/png": "[encoded data removed]",
      "text/plain": [
       "<Figure size 864x216 with 1 Axes>"
      ]
     },
     "metadata": {
      "needs_background": "light"
     },
     "output_type": "display_data"
    }
   ],
   "source": [
    "# visualization death - age, age between 0~20 years old\n",
    "facet = sns.FacetGrid(train_df, hue=\"Survived\", aspect=4)\n",
    "facet.map(sns.kdeplot,\"Age\",shade=True)\n",
    "facet.set(xlim=(0,train_df[\"Age\"].max())) # to use xlim, limitation age's range\n",
    "plt.xlim(0,20) # to limitation X boundary, we can see the graph more specifically"
   ]
  },
  {
   "cell_type": "code",
   "execution_count": 26,
   "id": "4854e3dc",
   "metadata": {
    "execution": {
     "iopub.execute_input": "2023-07-02T08:19:23.616415Z",
     "iopub.status.busy": "2023-07-02T08:19:23.615862Z",
     "iopub.status.idle": "2023-07-02T08:19:23.994427Z",
     "shell.execute_reply": "2023-07-02T08:19:23.992960Z"
    },
    "papermill": {
     "duration": 0.425765,
     "end_time": "2023-07-02T08:19:23.997546",
     "exception": false,
     "start_time": "2023-07-02T08:19:23.571781",
     "status": "completed"
    },
    "tags": []
   },
   "outputs": [
    {
     "data": {
      "text/plain": [
       "(20.0, 30.0)"
      ]
     },
     "execution_count": 26,
     "metadata": {},
     "output_type": "execute_result"
    },
    {
     "data": {
      "image/png": "[encoded data removed]",
      "text/plain": [
       "<Figure size 864x216 with 1 Axes>"
      ]
     },
     "metadata": {
      "needs_background": "light"
     },
     "output_type": "display_data"
    }
   ],
   "source": [
    "# visualization death - age, age between 0~20 years old\n",
    "facet = sns.FacetGrid(train_df, hue=\"Survived\", aspect=4)\n",
    "facet.map(sns.kdeplot,\"Age\",shade=True)\n",
    "facet.set(xlim=(0,train_df[\"Age\"].max())) # to use xlim, limitation age's range\n",
    "plt.xlim(20,30)"
   ]
  },
  {
   "cell_type": "markdown",
   "id": "f03cd543",
   "metadata": {
    "papermill": {
     "duration": 0.041951,
     "end_time": "2023-07-02T08:19:24.084236",
     "exception": false,
     "start_time": "2023-07-02T08:19:24.042285",
     "status": "completed"
    },
    "tags": []
   },
   "source": [
    "<div style=\"font-family:Serif;background-color:#DAD9FF; padding:30px; font-size:17px\">\n",
    "<b>1.3.2.1 binning:</b><br>\n",
    "Technology that weave into categories if it don't give much information.\n",
    "I will binning the Age by age. following code is the way how I did it.</div>"
   ]
  },
  {
   "cell_type": "code",
   "execution_count": 27,
   "id": "5a3f7636",
   "metadata": {
    "execution": {
     "iopub.execute_input": "2023-07-02T08:19:24.175270Z",
     "iopub.status.busy": "2023-07-02T08:19:24.174043Z",
     "iopub.status.idle": "2023-07-02T08:19:24.205035Z",
     "shell.execute_reply": "2023-07-02T08:19:24.203748Z"
    },
    "papermill": {
     "duration": 0.080215,
     "end_time": "2023-07-02T08:19:24.208286",
     "exception": false,
     "start_time": "2023-07-02T08:19:24.128071",
     "status": "completed"
    },
    "tags": []
   },
   "outputs": [
    {
     "data": {
      "text/html": [
       "<div>\n",
       "<style scoped>\n",
       "    .dataframe tbody tr th:only-of-type {\n",
       "        vertical-align: middle;\n",
       "    }\n",
       "\n",
       "    .dataframe tbody tr th {\n",
       "        vertical-align: top;\n",
       "    }\n",
       "\n",
       "    .dataframe thead th {\n",
       "        text-align: right;\n",
       "    }\n",
       "</style>\n",
       "<table border=\"1\" class=\"dataframe\">\n",
       "  <thead>\n",
       "    <tr style=\"text-align: right;\">\n",
       "      <th></th>\n",
       "      <th>PassengerId</th>\n",
       "      <th>Survived</th>\n",
       "      <th>Pclass</th>\n",
       "      <th>Name</th>\n",
       "      <th>Sex</th>\n",
       "      <th>Age</th>\n",
       "      <th>SibSp</th>\n",
       "      <th>Parch</th>\n",
       "      <th>Ticket</th>\n",
       "      <th>Fare</th>\n",
       "      <th>Cabin</th>\n",
       "      <th>Embarked</th>\n",
       "      <th>Title</th>\n",
       "    </tr>\n",
       "  </thead>\n",
       "  <tbody>\n",
       "    <tr>\n",
       "      <th>0</th>\n",
       "      <td>1</td>\n",
       "      <td>0</td>\n",
       "      <td>3</td>\n",
       "      <td>Braund, Mr. Owen Harris</td>\n",
       "      <td>0</td>\n",
       "      <td>22.0</td>\n",
       "      <td>1</td>\n",
       "      <td>0</td>\n",
       "      <td>A/5 21171</td>\n",
       "      <td>7.2500</td>\n",
       "      <td>NaN</td>\n",
       "      <td>S</td>\n",
       "      <td>0.0</td>\n",
       "    </tr>\n",
       "    <tr>\n",
       "      <th>1</th>\n",
       "      <td>2</td>\n",
       "      <td>1</td>\n",
       "      <td>1</td>\n",
       "      <td>Cumings, Mrs. John Bradley (Florence Briggs Th...</td>\n",
       "      <td>1</td>\n",
       "      <td>38.0</td>\n",
       "      <td>1</td>\n",
       "      <td>0</td>\n",
       "      <td>PC 17599</td>\n",
       "      <td>71.2833</td>\n",
       "      <td>C85</td>\n",
       "      <td>C</td>\n",
       "      <td>2.0</td>\n",
       "    </tr>\n",
       "    <tr>\n",
       "      <th>2</th>\n",
       "      <td>3</td>\n",
       "      <td>1</td>\n",
       "      <td>3</td>\n",
       "      <td>Heikkinen, Miss. Laina</td>\n",
       "      <td>1</td>\n",
       "      <td>26.0</td>\n",
       "      <td>0</td>\n",
       "      <td>0</td>\n",
       "      <td>STON/O2. 3101282</td>\n",
       "      <td>7.9250</td>\n",
       "      <td>NaN</td>\n",
       "      <td>S</td>\n",
       "      <td>1.0</td>\n",
       "    </tr>\n",
       "    <tr>\n",
       "      <th>3</th>\n",
       "      <td>4</td>\n",
       "      <td>1</td>\n",
       "      <td>1</td>\n",
       "      <td>Futrelle, Mrs. Jacques Heath (Lily May Peel)</td>\n",
       "      <td>1</td>\n",
       "      <td>35.0</td>\n",
       "      <td>1</td>\n",
       "      <td>0</td>\n",
       "      <td>113803</td>\n",
       "      <td>53.1000</td>\n",
       "      <td>C123</td>\n",
       "      <td>S</td>\n",
       "      <td>2.0</td>\n",
       "    </tr>\n",
       "    <tr>\n",
       "      <th>4</th>\n",
       "      <td>5</td>\n",
       "      <td>0</td>\n",
       "      <td>3</td>\n",
       "      <td>Allen, Mr. William Henry</td>\n",
       "      <td>0</td>\n",
       "      <td>35.0</td>\n",
       "      <td>0</td>\n",
       "      <td>0</td>\n",
       "      <td>373450</td>\n",
       "      <td>8.0500</td>\n",
       "      <td>NaN</td>\n",
       "      <td>S</td>\n",
       "      <td>0.0</td>\n",
       "    </tr>\n",
       "    <tr>\n",
       "      <th>...</th>\n",
       "      <td>...</td>\n",
       "      <td>...</td>\n",
       "      <td>...</td>\n",
       "      <td>...</td>\n",
       "      <td>...</td>\n",
       "      <td>...</td>\n",
       "      <td>...</td>\n",
       "      <td>...</td>\n",
       "      <td>...</td>\n",
       "      <td>...</td>\n",
       "      <td>...</td>\n",
       "      <td>...</td>\n",
       "      <td>...</td>\n",
       "    </tr>\n",
       "    <tr>\n",
       "      <th>886</th>\n",
       "      <td>887</td>\n",
       "      <td>0</td>\n",
       "      <td>2</td>\n",
       "      <td>Montvila, Rev. Juozas</td>\n",
       "      <td>0</td>\n",
       "      <td>27.0</td>\n",
       "      <td>0</td>\n",
       "      <td>0</td>\n",
       "      <td>211536</td>\n",
       "      <td>13.0000</td>\n",
       "      <td>NaN</td>\n",
       "      <td>S</td>\n",
       "      <td>3.0</td>\n",
       "    </tr>\n",
       "    <tr>\n",
       "      <th>887</th>\n",
       "      <td>888</td>\n",
       "      <td>1</td>\n",
       "      <td>1</td>\n",
       "      <td>Graham, Miss. Margaret Edith</td>\n",
       "      <td>1</td>\n",
       "      <td>19.0</td>\n",
       "      <td>0</td>\n",
       "      <td>0</td>\n",
       "      <td>112053</td>\n",
       "      <td>30.0000</td>\n",
       "      <td>B42</td>\n",
       "      <td>S</td>\n",
       "      <td>1.0</td>\n",
       "    </tr>\n",
       "    <tr>\n",
       "      <th>888</th>\n",
       "      <td>889</td>\n",
       "      <td>0</td>\n",
       "      <td>3</td>\n",
       "      <td>Johnston, Miss. Catherine Helen \"Carrie\"</td>\n",
       "      <td>1</td>\n",
       "      <td>21.0</td>\n",
       "      <td>1</td>\n",
       "      <td>2</td>\n",
       "      <td>W./C. 6607</td>\n",
       "      <td>23.4500</td>\n",
       "      <td>NaN</td>\n",
       "      <td>S</td>\n",
       "      <td>1.0</td>\n",
       "    </tr>\n",
       "    <tr>\n",
       "      <th>889</th>\n",
       "      <td>890</td>\n",
       "      <td>1</td>\n",
       "      <td>1</td>\n",
       "      <td>Behr, Mr. Karl Howell</td>\n",
       "      <td>0</td>\n",
       "      <td>26.0</td>\n",
       "      <td>0</td>\n",
       "      <td>0</td>\n",
       "      <td>111369</td>\n",
       "      <td>30.0000</td>\n",
       "      <td>C148</td>\n",
       "      <td>C</td>\n",
       "      <td>0.0</td>\n",
       "    </tr>\n",
       "    <tr>\n",
       "      <th>890</th>\n",
       "      <td>891</td>\n",
       "      <td>0</td>\n",
       "      <td>3</td>\n",
       "      <td>Dooley, Mr. Patrick</td>\n",
       "      <td>0</td>\n",
       "      <td>32.0</td>\n",
       "      <td>0</td>\n",
       "      <td>0</td>\n",
       "      <td>370376</td>\n",
       "      <td>7.7500</td>\n",
       "      <td>NaN</td>\n",
       "      <td>Q</td>\n",
       "      <td>0.0</td>\n",
       "    </tr>\n",
       "  </tbody>\n",
       "</table>\n",
       "<p>891 rows × 13 columns</p>\n",
       "</div>"
      ],
      "text/plain": [
       "     PassengerId  Survived  Pclass  \\\n",
       "0              1         0       3   \n",
       "1              2         1       1   \n",
       "2              3         1       3   \n",
       "3              4         1       1   \n",
       "4              5         0       3   \n",
       "..           ...       ...     ...   \n",
       "886          887         0       2   \n",
       "887          888         1       1   \n",
       "888          889         0       3   \n",
       "889          890         1       1   \n",
       "890          891         0       3   \n",
       "\n",
       "                                                  Name  Sex   Age  SibSp  \\\n",
       "0                              Braund, Mr. Owen Harris    0  22.0      1   \n",
       "1    Cumings, Mrs. John Bradley (Florence Briggs Th...    1  38.0      1   \n",
       "2                               Heikkinen, Miss. Laina    1  26.0      0   \n",
       "3         Futrelle, Mrs. Jacques Heath (Lily May Peel)    1  35.0      1   \n",
       "4                             Allen, Mr. William Henry    0  35.0      0   \n",
       "..                                                 ...  ...   ...    ...   \n",
       "886                              Montvila, Rev. Juozas    0  27.0      0   \n",
       "887                       Graham, Miss. Margaret Edith    1  19.0      0   \n",
       "888           Johnston, Miss. Catherine Helen \"Carrie\"    1  21.0      1   \n",
       "889                              Behr, Mr. Karl Howell    0  26.0      0   \n",
       "890                                Dooley, Mr. Patrick    0  32.0      0   \n",
       "\n",
       "     Parch            Ticket     Fare Cabin Embarked  Title  \n",
       "0        0         A/5 21171   7.2500   NaN        S    0.0  \n",
       "1        0          PC 17599  71.2833   C85        C    2.0  \n",
       "2        0  STON/O2. 3101282   7.9250   NaN        S    1.0  \n",
       "3        0            113803  53.1000  C123        S    2.0  \n",
       "4        0            373450   8.0500   NaN        S    0.0  \n",
       "..     ...               ...      ...   ...      ...    ...  \n",
       "886      0            211536  13.0000   NaN        S    3.0  \n",
       "887      0            112053  30.0000   B42        S    1.0  \n",
       "888      2        W./C. 6607  23.4500   NaN        S    1.0  \n",
       "889      0            111369  30.0000  C148        C    0.0  \n",
       "890      0            370376   7.7500   NaN        Q    0.0  \n",
       "\n",
       "[891 rows x 13 columns]"
      ]
     },
     "execution_count": 27,
     "metadata": {},
     "output_type": "execute_result"
    }
   ],
   "source": [
    "train_df"
   ]
  },
  {
   "cell_type": "code",
   "execution_count": 28,
   "id": "f3c31f51",
   "metadata": {
    "execution": {
     "iopub.execute_input": "2023-07-02T08:19:24.300602Z",
     "iopub.status.busy": "2023-07-02T08:19:24.299702Z",
     "iopub.status.idle": "2023-07-02T08:19:24.405257Z",
     "shell.execute_reply": "2023-07-02T08:19:24.403781Z"
    },
    "papermill": {
     "duration": 0.15612,
     "end_time": "2023-07-02T08:19:24.408540",
     "exception": false,
     "start_time": "2023-07-02T08:19:24.252420",
     "status": "completed"
    },
    "tags": []
   },
   "outputs": [
    {
     "data": {
      "text/html": [
       "<div>\n",
       "<style scoped>\n",
       "    .dataframe tbody tr th:only-of-type {\n",
       "        vertical-align: middle;\n",
       "    }\n",
       "\n",
       "    .dataframe tbody tr th {\n",
       "        vertical-align: top;\n",
       "    }\n",
       "\n",
       "    .dataframe thead th {\n",
       "        text-align: right;\n",
       "    }\n",
       "</style>\n",
       "<table border=\"1\" class=\"dataframe\">\n",
       "  <thead>\n",
       "    <tr style=\"text-align: right;\">\n",
       "      <th></th>\n",
       "      <th>PassengerId</th>\n",
       "      <th>Survived</th>\n",
       "      <th>Pclass</th>\n",
       "      <th>Name</th>\n",
       "      <th>Sex</th>\n",
       "      <th>Age</th>\n",
       "      <th>SibSp</th>\n",
       "      <th>Parch</th>\n",
       "      <th>Ticket</th>\n",
       "      <th>Fare</th>\n",
       "      <th>Cabin</th>\n",
       "      <th>Embarked</th>\n",
       "      <th>Title</th>\n",
       "    </tr>\n",
       "  </thead>\n",
       "  <tbody>\n",
       "    <tr>\n",
       "      <th>0</th>\n",
       "      <td>1</td>\n",
       "      <td>0</td>\n",
       "      <td>3</td>\n",
       "      <td>Braund, Mr. Owen Harris</td>\n",
       "      <td>0</td>\n",
       "      <td>1.0</td>\n",
       "      <td>1</td>\n",
       "      <td>0</td>\n",
       "      <td>A/5 21171</td>\n",
       "      <td>7.2500</td>\n",
       "      <td>NaN</td>\n",
       "      <td>S</td>\n",
       "      <td>0.0</td>\n",
       "    </tr>\n",
       "    <tr>\n",
       "      <th>1</th>\n",
       "      <td>2</td>\n",
       "      <td>1</td>\n",
       "      <td>1</td>\n",
       "      <td>Cumings, Mrs. John Bradley (Florence Briggs Th...</td>\n",
       "      <td>1</td>\n",
       "      <td>3.0</td>\n",
       "      <td>1</td>\n",
       "      <td>0</td>\n",
       "      <td>PC 17599</td>\n",
       "      <td>71.2833</td>\n",
       "      <td>C85</td>\n",
       "      <td>C</td>\n",
       "      <td>2.0</td>\n",
       "    </tr>\n",
       "    <tr>\n",
       "      <th>2</th>\n",
       "      <td>3</td>\n",
       "      <td>1</td>\n",
       "      <td>3</td>\n",
       "      <td>Heikkinen, Miss. Laina</td>\n",
       "      <td>1</td>\n",
       "      <td>1.0</td>\n",
       "      <td>0</td>\n",
       "      <td>0</td>\n",
       "      <td>STON/O2. 3101282</td>\n",
       "      <td>7.9250</td>\n",
       "      <td>NaN</td>\n",
       "      <td>S</td>\n",
       "      <td>1.0</td>\n",
       "    </tr>\n",
       "    <tr>\n",
       "      <th>3</th>\n",
       "      <td>4</td>\n",
       "      <td>1</td>\n",
       "      <td>1</td>\n",
       "      <td>Futrelle, Mrs. Jacques Heath (Lily May Peel)</td>\n",
       "      <td>1</td>\n",
       "      <td>2.0</td>\n",
       "      <td>1</td>\n",
       "      <td>0</td>\n",
       "      <td>113803</td>\n",
       "      <td>53.1000</td>\n",
       "      <td>C123</td>\n",
       "      <td>S</td>\n",
       "      <td>2.0</td>\n",
       "    </tr>\n",
       "    <tr>\n",
       "      <th>4</th>\n",
       "      <td>5</td>\n",
       "      <td>0</td>\n",
       "      <td>3</td>\n",
       "      <td>Allen, Mr. William Henry</td>\n",
       "      <td>0</td>\n",
       "      <td>2.0</td>\n",
       "      <td>0</td>\n",
       "      <td>0</td>\n",
       "      <td>373450</td>\n",
       "      <td>8.0500</td>\n",
       "      <td>NaN</td>\n",
       "      <td>S</td>\n",
       "      <td>0.0</td>\n",
       "    </tr>\n",
       "    <tr>\n",
       "      <th>...</th>\n",
       "      <td>...</td>\n",
       "      <td>...</td>\n",
       "      <td>...</td>\n",
       "      <td>...</td>\n",
       "      <td>...</td>\n",
       "      <td>...</td>\n",
       "      <td>...</td>\n",
       "      <td>...</td>\n",
       "      <td>...</td>\n",
       "      <td>...</td>\n",
       "      <td>...</td>\n",
       "      <td>...</td>\n",
       "      <td>...</td>\n",
       "    </tr>\n",
       "    <tr>\n",
       "      <th>886</th>\n",
       "      <td>887</td>\n",
       "      <td>0</td>\n",
       "      <td>2</td>\n",
       "      <td>Montvila, Rev. Juozas</td>\n",
       "      <td>0</td>\n",
       "      <td>2.0</td>\n",
       "      <td>0</td>\n",
       "      <td>0</td>\n",
       "      <td>211536</td>\n",
       "      <td>13.0000</td>\n",
       "      <td>NaN</td>\n",
       "      <td>S</td>\n",
       "      <td>3.0</td>\n",
       "    </tr>\n",
       "    <tr>\n",
       "      <th>887</th>\n",
       "      <td>888</td>\n",
       "      <td>1</td>\n",
       "      <td>1</td>\n",
       "      <td>Graham, Miss. Margaret Edith</td>\n",
       "      <td>1</td>\n",
       "      <td>1.0</td>\n",
       "      <td>0</td>\n",
       "      <td>0</td>\n",
       "      <td>112053</td>\n",
       "      <td>30.0000</td>\n",
       "      <td>B42</td>\n",
       "      <td>S</td>\n",
       "      <td>1.0</td>\n",
       "    </tr>\n",
       "    <tr>\n",
       "      <th>888</th>\n",
       "      <td>889</td>\n",
       "      <td>0</td>\n",
       "      <td>3</td>\n",
       "      <td>Johnston, Miss. Catherine Helen \"Carrie\"</td>\n",
       "      <td>1</td>\n",
       "      <td>1.0</td>\n",
       "      <td>1</td>\n",
       "      <td>2</td>\n",
       "      <td>W./C. 6607</td>\n",
       "      <td>23.4500</td>\n",
       "      <td>NaN</td>\n",
       "      <td>S</td>\n",
       "      <td>1.0</td>\n",
       "    </tr>\n",
       "    <tr>\n",
       "      <th>889</th>\n",
       "      <td>890</td>\n",
       "      <td>1</td>\n",
       "      <td>1</td>\n",
       "      <td>Behr, Mr. Karl Howell</td>\n",
       "      <td>0</td>\n",
       "      <td>1.0</td>\n",
       "      <td>0</td>\n",
       "      <td>0</td>\n",
       "      <td>111369</td>\n",
       "      <td>30.0000</td>\n",
       "      <td>C148</td>\n",
       "      <td>C</td>\n",
       "      <td>0.0</td>\n",
       "    </tr>\n",
       "    <tr>\n",
       "      <th>890</th>\n",
       "      <td>891</td>\n",
       "      <td>0</td>\n",
       "      <td>3</td>\n",
       "      <td>Dooley, Mr. Patrick</td>\n",
       "      <td>0</td>\n",
       "      <td>2.0</td>\n",
       "      <td>0</td>\n",
       "      <td>0</td>\n",
       "      <td>370376</td>\n",
       "      <td>7.7500</td>\n",
       "      <td>NaN</td>\n",
       "      <td>Q</td>\n",
       "      <td>0.0</td>\n",
       "    </tr>\n",
       "  </tbody>\n",
       "</table>\n",
       "<p>891 rows × 13 columns</p>\n",
       "</div>"
      ],
      "text/plain": [
       "     PassengerId  Survived  Pclass  \\\n",
       "0              1         0       3   \n",
       "1              2         1       1   \n",
       "2              3         1       3   \n",
       "3              4         1       1   \n",
       "4              5         0       3   \n",
       "..           ...       ...     ...   \n",
       "886          887         0       2   \n",
       "887          888         1       1   \n",
       "888          889         0       3   \n",
       "889          890         1       1   \n",
       "890          891         0       3   \n",
       "\n",
       "                                                  Name  Sex  Age  SibSp  \\\n",
       "0                              Braund, Mr. Owen Harris    0  1.0      1   \n",
       "1    Cumings, Mrs. John Bradley (Florence Briggs Th...    1  3.0      1   \n",
       "2                               Heikkinen, Miss. Laina    1  1.0      0   \n",
       "3         Futrelle, Mrs. Jacques Heath (Lily May Peel)    1  2.0      1   \n",
       "4                             Allen, Mr. William Henry    0  2.0      0   \n",
       "..                                                 ...  ...  ...    ...   \n",
       "886                              Montvila, Rev. Juozas    0  2.0      0   \n",
       "887                       Graham, Miss. Margaret Edith    1  1.0      0   \n",
       "888           Johnston, Miss. Catherine Helen \"Carrie\"    1  1.0      1   \n",
       "889                              Behr, Mr. Karl Howell    0  1.0      0   \n",
       "890                                Dooley, Mr. Patrick    0  2.0      0   \n",
       "\n",
       "     Parch            Ticket     Fare Cabin Embarked  Title  \n",
       "0        0         A/5 21171   7.2500   NaN        S    0.0  \n",
       "1        0          PC 17599  71.2833   C85        C    2.0  \n",
       "2        0  STON/O2. 3101282   7.9250   NaN        S    1.0  \n",
       "3        0            113803  53.1000  C123        S    2.0  \n",
       "4        0            373450   8.0500   NaN        S    0.0  \n",
       "..     ...               ...      ...   ...      ...    ...  \n",
       "886      0            211536  13.0000   NaN        S    3.0  \n",
       "887      0            112053  30.0000   B42        S    1.0  \n",
       "888      2        W./C. 6607  23.4500   NaN        S    1.0  \n",
       "889      0            111369  30.0000  C148        C    0.0  \n",
       "890      0            370376   7.7500   NaN        Q    0.0  \n",
       "\n",
       "[891 rows x 13 columns]"
      ]
     },
     "execution_count": 28,
     "metadata": {},
     "output_type": "execute_result"
    }
   ],
   "source": [
    "df_2 = train_df[\"Age\"]\n",
    "df_2 = pd.DataFrame(df_2)\n",
    "df_2.columns=[\"Age\"]\n",
    "for i in range(891):\n",
    "    a = df_2['Age'].get(i)\n",
    "    if int(a) <= 16:\n",
    "        df_2['Age'][i] = 0\n",
    "    elif int(a) > 16 and a <=26:\n",
    "        df_2['Age'][i] = 1\n",
    "    elif int(a) > 26 and a <= 36:\n",
    "        df_2['Age'][i] = 2\n",
    "    elif int(a) >36 and a <= 64:\n",
    "        df_2[\"Age\"][i] = 3\n",
    "    else:\n",
    "        df_2['Age'][i] = 4\n",
    "        \n",
    "train_df[\"Age\"] = df_2[\"Age\"]\n",
    "train_df"
   ]
  },
  {
   "cell_type": "markdown",
   "id": "dad55333",
   "metadata": {
    "papermill": {
     "duration": 0.043072,
     "end_time": "2023-07-02T08:19:24.495667",
     "exception": false,
     "start_time": "2023-07-02T08:19:24.452595",
     "status": "completed"
    },
    "tags": []
   },
   "source": [
    "<b>I devided \"age\" into 5 parts.<br>\n",
    "<br>  0-16 years old - 1\n",
    "<br>  16-26 years old - 2\n",
    "<br>  26-36 years old - 3\n",
    "<br>  36-64 years old - 4\n",
    "<br>  64- years old - 5"
   ]
  },
  {
   "cell_type": "code",
   "execution_count": 29,
   "id": "6b9d214f",
   "metadata": {
    "execution": {
     "iopub.execute_input": "2023-07-02T08:19:24.586267Z",
     "iopub.status.busy": "2023-07-02T08:19:24.585687Z",
     "iopub.status.idle": "2023-07-02T08:19:24.616479Z",
     "shell.execute_reply": "2023-07-02T08:19:24.614915Z"
    },
    "papermill": {
     "duration": 0.079656,
     "end_time": "2023-07-02T08:19:24.619575",
     "exception": false,
     "start_time": "2023-07-02T08:19:24.539919",
     "status": "completed"
    },
    "tags": []
   },
   "outputs": [
    {
     "data": {
      "text/html": [
       "<div>\n",
       "<style scoped>\n",
       "    .dataframe tbody tr th:only-of-type {\n",
       "        vertical-align: middle;\n",
       "    }\n",
       "\n",
       "    .dataframe tbody tr th {\n",
       "        vertical-align: top;\n",
       "    }\n",
       "\n",
       "    .dataframe thead th {\n",
       "        text-align: right;\n",
       "    }\n",
       "</style>\n",
       "<table border=\"1\" class=\"dataframe\">\n",
       "  <thead>\n",
       "    <tr style=\"text-align: right;\">\n",
       "      <th></th>\n",
       "      <th>PassengerId</th>\n",
       "      <th>Pclass</th>\n",
       "      <th>Name</th>\n",
       "      <th>Sex</th>\n",
       "      <th>Age</th>\n",
       "      <th>SibSp</th>\n",
       "      <th>Parch</th>\n",
       "      <th>Ticket</th>\n",
       "      <th>Fare</th>\n",
       "      <th>Cabin</th>\n",
       "      <th>Embarked</th>\n",
       "      <th>Title</th>\n",
       "    </tr>\n",
       "  </thead>\n",
       "  <tbody>\n",
       "    <tr>\n",
       "      <th>0</th>\n",
       "      <td>892</td>\n",
       "      <td>3</td>\n",
       "      <td>Kelly, Mr. James</td>\n",
       "      <td>0</td>\n",
       "      <td>34.5</td>\n",
       "      <td>0</td>\n",
       "      <td>0</td>\n",
       "      <td>330911</td>\n",
       "      <td>7.8292</td>\n",
       "      <td>NaN</td>\n",
       "      <td>Q</td>\n",
       "      <td>0</td>\n",
       "    </tr>\n",
       "    <tr>\n",
       "      <th>1</th>\n",
       "      <td>893</td>\n",
       "      <td>3</td>\n",
       "      <td>Wilkes, Mrs. James (Ellen Needs)</td>\n",
       "      <td>1</td>\n",
       "      <td>47.0</td>\n",
       "      <td>1</td>\n",
       "      <td>0</td>\n",
       "      <td>363272</td>\n",
       "      <td>7.0000</td>\n",
       "      <td>NaN</td>\n",
       "      <td>S</td>\n",
       "      <td>2</td>\n",
       "    </tr>\n",
       "    <tr>\n",
       "      <th>2</th>\n",
       "      <td>894</td>\n",
       "      <td>2</td>\n",
       "      <td>Myles, Mr. Thomas Francis</td>\n",
       "      <td>0</td>\n",
       "      <td>62.0</td>\n",
       "      <td>0</td>\n",
       "      <td>0</td>\n",
       "      <td>240276</td>\n",
       "      <td>9.6875</td>\n",
       "      <td>NaN</td>\n",
       "      <td>Q</td>\n",
       "      <td>0</td>\n",
       "    </tr>\n",
       "    <tr>\n",
       "      <th>3</th>\n",
       "      <td>895</td>\n",
       "      <td>3</td>\n",
       "      <td>Wirz, Mr. Albert</td>\n",
       "      <td>0</td>\n",
       "      <td>27.0</td>\n",
       "      <td>0</td>\n",
       "      <td>0</td>\n",
       "      <td>315154</td>\n",
       "      <td>8.6625</td>\n",
       "      <td>NaN</td>\n",
       "      <td>S</td>\n",
       "      <td>0</td>\n",
       "    </tr>\n",
       "    <tr>\n",
       "      <th>4</th>\n",
       "      <td>896</td>\n",
       "      <td>3</td>\n",
       "      <td>Hirvonen, Mrs. Alexander (Helga E Lindqvist)</td>\n",
       "      <td>1</td>\n",
       "      <td>22.0</td>\n",
       "      <td>1</td>\n",
       "      <td>1</td>\n",
       "      <td>3101298</td>\n",
       "      <td>12.2875</td>\n",
       "      <td>NaN</td>\n",
       "      <td>S</td>\n",
       "      <td>2</td>\n",
       "    </tr>\n",
       "    <tr>\n",
       "      <th>...</th>\n",
       "      <td>...</td>\n",
       "      <td>...</td>\n",
       "      <td>...</td>\n",
       "      <td>...</td>\n",
       "      <td>...</td>\n",
       "      <td>...</td>\n",
       "      <td>...</td>\n",
       "      <td>...</td>\n",
       "      <td>...</td>\n",
       "      <td>...</td>\n",
       "      <td>...</td>\n",
       "      <td>...</td>\n",
       "    </tr>\n",
       "    <tr>\n",
       "      <th>413</th>\n",
       "      <td>1305</td>\n",
       "      <td>3</td>\n",
       "      <td>Spector, Mr. Woolf</td>\n",
       "      <td>0</td>\n",
       "      <td>28.5</td>\n",
       "      <td>0</td>\n",
       "      <td>0</td>\n",
       "      <td>A.5. 3236</td>\n",
       "      <td>8.0500</td>\n",
       "      <td>NaN</td>\n",
       "      <td>S</td>\n",
       "      <td>0</td>\n",
       "    </tr>\n",
       "    <tr>\n",
       "      <th>414</th>\n",
       "      <td>1306</td>\n",
       "      <td>1</td>\n",
       "      <td>Oliva y Ocana, Dona. Fermina</td>\n",
       "      <td>1</td>\n",
       "      <td>39.0</td>\n",
       "      <td>0</td>\n",
       "      <td>0</td>\n",
       "      <td>PC 17758</td>\n",
       "      <td>108.9000</td>\n",
       "      <td>C105</td>\n",
       "      <td>C</td>\n",
       "      <td>3</td>\n",
       "    </tr>\n",
       "    <tr>\n",
       "      <th>415</th>\n",
       "      <td>1307</td>\n",
       "      <td>3</td>\n",
       "      <td>Saether, Mr. Simon Sivertsen</td>\n",
       "      <td>0</td>\n",
       "      <td>38.5</td>\n",
       "      <td>0</td>\n",
       "      <td>0</td>\n",
       "      <td>SOTON/O.Q. 3101262</td>\n",
       "      <td>7.2500</td>\n",
       "      <td>NaN</td>\n",
       "      <td>S</td>\n",
       "      <td>0</td>\n",
       "    </tr>\n",
       "    <tr>\n",
       "      <th>416</th>\n",
       "      <td>1308</td>\n",
       "      <td>3</td>\n",
       "      <td>Ware, Mr. Frederick</td>\n",
       "      <td>0</td>\n",
       "      <td>28.5</td>\n",
       "      <td>0</td>\n",
       "      <td>0</td>\n",
       "      <td>359309</td>\n",
       "      <td>8.0500</td>\n",
       "      <td>NaN</td>\n",
       "      <td>S</td>\n",
       "      <td>0</td>\n",
       "    </tr>\n",
       "    <tr>\n",
       "      <th>417</th>\n",
       "      <td>1309</td>\n",
       "      <td>3</td>\n",
       "      <td>Peter, Master. Michael J</td>\n",
       "      <td>0</td>\n",
       "      <td>10.0</td>\n",
       "      <td>1</td>\n",
       "      <td>1</td>\n",
       "      <td>2668</td>\n",
       "      <td>22.3583</td>\n",
       "      <td>NaN</td>\n",
       "      <td>C</td>\n",
       "      <td>3</td>\n",
       "    </tr>\n",
       "  </tbody>\n",
       "</table>\n",
       "<p>418 rows × 12 columns</p>\n",
       "</div>"
      ],
      "text/plain": [
       "     PassengerId  Pclass                                          Name  Sex  \\\n",
       "0            892       3                              Kelly, Mr. James    0   \n",
       "1            893       3              Wilkes, Mrs. James (Ellen Needs)    1   \n",
       "2            894       2                     Myles, Mr. Thomas Francis    0   \n",
       "3            895       3                              Wirz, Mr. Albert    0   \n",
       "4            896       3  Hirvonen, Mrs. Alexander (Helga E Lindqvist)    1   \n",
       "..           ...     ...                                           ...  ...   \n",
       "413         1305       3                            Spector, Mr. Woolf    0   \n",
       "414         1306       1                  Oliva y Ocana, Dona. Fermina    1   \n",
       "415         1307       3                  Saether, Mr. Simon Sivertsen    0   \n",
       "416         1308       3                           Ware, Mr. Frederick    0   \n",
       "417         1309       3                      Peter, Master. Michael J    0   \n",
       "\n",
       "      Age  SibSp  Parch              Ticket      Fare Cabin Embarked  Title  \n",
       "0    34.5      0      0              330911    7.8292   NaN        Q      0  \n",
       "1    47.0      1      0              363272    7.0000   NaN        S      2  \n",
       "2    62.0      0      0              240276    9.6875   NaN        Q      0  \n",
       "3    27.0      0      0              315154    8.6625   NaN        S      0  \n",
       "4    22.0      1      1             3101298   12.2875   NaN        S      2  \n",
       "..    ...    ...    ...                 ...       ...   ...      ...    ...  \n",
       "413  28.5      0      0           A.5. 3236    8.0500   NaN        S      0  \n",
       "414  39.0      0      0            PC 17758  108.9000  C105        C      3  \n",
       "415  38.5      0      0  SOTON/O.Q. 3101262    7.2500   NaN        S      0  \n",
       "416  28.5      0      0              359309    8.0500   NaN        S      0  \n",
       "417  10.0      1      1                2668   22.3583   NaN        C      3  \n",
       "\n",
       "[418 rows x 12 columns]"
      ]
     },
     "execution_count": 29,
     "metadata": {},
     "output_type": "execute_result"
    }
   ],
   "source": [
    "test_df"
   ]
  },
  {
   "cell_type": "code",
   "execution_count": 30,
   "id": "cc68b0bf",
   "metadata": {
    "execution": {
     "iopub.execute_input": "2023-07-02T08:19:24.710390Z",
     "iopub.status.busy": "2023-07-02T08:19:24.709812Z",
     "iopub.status.idle": "2023-07-02T08:19:24.786782Z",
     "shell.execute_reply": "2023-07-02T08:19:24.785397Z"
    },
    "papermill": {
     "duration": 0.126266,
     "end_time": "2023-07-02T08:19:24.790009",
     "exception": false,
     "start_time": "2023-07-02T08:19:24.663743",
     "status": "completed"
    },
    "tags": []
   },
   "outputs": [
    {
     "data": {
      "text/html": [
       "<div>\n",
       "<style scoped>\n",
       "    .dataframe tbody tr th:only-of-type {\n",
       "        vertical-align: middle;\n",
       "    }\n",
       "\n",
       "    .dataframe tbody tr th {\n",
       "        vertical-align: top;\n",
       "    }\n",
       "\n",
       "    .dataframe thead th {\n",
       "        text-align: right;\n",
       "    }\n",
       "</style>\n",
       "<table border=\"1\" class=\"dataframe\">\n",
       "  <thead>\n",
       "    <tr style=\"text-align: right;\">\n",
       "      <th></th>\n",
       "      <th>PassengerId</th>\n",
       "      <th>Pclass</th>\n",
       "      <th>Name</th>\n",
       "      <th>Sex</th>\n",
       "      <th>Age</th>\n",
       "      <th>SibSp</th>\n",
       "      <th>Parch</th>\n",
       "      <th>Ticket</th>\n",
       "      <th>Fare</th>\n",
       "      <th>Cabin</th>\n",
       "      <th>Embarked</th>\n",
       "      <th>Title</th>\n",
       "    </tr>\n",
       "  </thead>\n",
       "  <tbody>\n",
       "    <tr>\n",
       "      <th>0</th>\n",
       "      <td>892</td>\n",
       "      <td>3</td>\n",
       "      <td>Kelly, Mr. James</td>\n",
       "      <td>0</td>\n",
       "      <td>2.0</td>\n",
       "      <td>0</td>\n",
       "      <td>0</td>\n",
       "      <td>330911</td>\n",
       "      <td>7.8292</td>\n",
       "      <td>NaN</td>\n",
       "      <td>Q</td>\n",
       "      <td>0</td>\n",
       "    </tr>\n",
       "    <tr>\n",
       "      <th>1</th>\n",
       "      <td>893</td>\n",
       "      <td>3</td>\n",
       "      <td>Wilkes, Mrs. James (Ellen Needs)</td>\n",
       "      <td>1</td>\n",
       "      <td>3.0</td>\n",
       "      <td>1</td>\n",
       "      <td>0</td>\n",
       "      <td>363272</td>\n",
       "      <td>7.0000</td>\n",
       "      <td>NaN</td>\n",
       "      <td>S</td>\n",
       "      <td>2</td>\n",
       "    </tr>\n",
       "    <tr>\n",
       "      <th>2</th>\n",
       "      <td>894</td>\n",
       "      <td>2</td>\n",
       "      <td>Myles, Mr. Thomas Francis</td>\n",
       "      <td>0</td>\n",
       "      <td>3.0</td>\n",
       "      <td>0</td>\n",
       "      <td>0</td>\n",
       "      <td>240276</td>\n",
       "      <td>9.6875</td>\n",
       "      <td>NaN</td>\n",
       "      <td>Q</td>\n",
       "      <td>0</td>\n",
       "    </tr>\n",
       "    <tr>\n",
       "      <th>3</th>\n",
       "      <td>895</td>\n",
       "      <td>3</td>\n",
       "      <td>Wirz, Mr. Albert</td>\n",
       "      <td>0</td>\n",
       "      <td>2.0</td>\n",
       "      <td>0</td>\n",
       "      <td>0</td>\n",
       "      <td>315154</td>\n",
       "      <td>8.6625</td>\n",
       "      <td>NaN</td>\n",
       "      <td>S</td>\n",
       "      <td>0</td>\n",
       "    </tr>\n",
       "    <tr>\n",
       "      <th>4</th>\n",
       "      <td>896</td>\n",
       "      <td>3</td>\n",
       "      <td>Hirvonen, Mrs. Alexander (Helga E Lindqvist)</td>\n",
       "      <td>1</td>\n",
       "      <td>1.0</td>\n",
       "      <td>1</td>\n",
       "      <td>1</td>\n",
       "      <td>3101298</td>\n",
       "      <td>12.2875</td>\n",
       "      <td>NaN</td>\n",
       "      <td>S</td>\n",
       "      <td>2</td>\n",
       "    </tr>\n",
       "    <tr>\n",
       "      <th>...</th>\n",
       "      <td>...</td>\n",
       "      <td>...</td>\n",
       "      <td>...</td>\n",
       "      <td>...</td>\n",
       "      <td>...</td>\n",
       "      <td>...</td>\n",
       "      <td>...</td>\n",
       "      <td>...</td>\n",
       "      <td>...</td>\n",
       "      <td>...</td>\n",
       "      <td>...</td>\n",
       "      <td>...</td>\n",
       "    </tr>\n",
       "    <tr>\n",
       "      <th>413</th>\n",
       "      <td>1305</td>\n",
       "      <td>3</td>\n",
       "      <td>Spector, Mr. Woolf</td>\n",
       "      <td>0</td>\n",
       "      <td>2.0</td>\n",
       "      <td>0</td>\n",
       "      <td>0</td>\n",
       "      <td>A.5. 3236</td>\n",
       "      <td>8.0500</td>\n",
       "      <td>NaN</td>\n",
       "      <td>S</td>\n",
       "      <td>0</td>\n",
       "    </tr>\n",
       "    <tr>\n",
       "      <th>414</th>\n",
       "      <td>1306</td>\n",
       "      <td>1</td>\n",
       "      <td>Oliva y Ocana, Dona. Fermina</td>\n",
       "      <td>1</td>\n",
       "      <td>3.0</td>\n",
       "      <td>0</td>\n",
       "      <td>0</td>\n",
       "      <td>PC 17758</td>\n",
       "      <td>108.9000</td>\n",
       "      <td>C105</td>\n",
       "      <td>C</td>\n",
       "      <td>3</td>\n",
       "    </tr>\n",
       "    <tr>\n",
       "      <th>415</th>\n",
       "      <td>1307</td>\n",
       "      <td>3</td>\n",
       "      <td>Saether, Mr. Simon Sivertsen</td>\n",
       "      <td>0</td>\n",
       "      <td>3.0</td>\n",
       "      <td>0</td>\n",
       "      <td>0</td>\n",
       "      <td>SOTON/O.Q. 3101262</td>\n",
       "      <td>7.2500</td>\n",
       "      <td>NaN</td>\n",
       "      <td>S</td>\n",
       "      <td>0</td>\n",
       "    </tr>\n",
       "    <tr>\n",
       "      <th>416</th>\n",
       "      <td>1308</td>\n",
       "      <td>3</td>\n",
       "      <td>Ware, Mr. Frederick</td>\n",
       "      <td>0</td>\n",
       "      <td>2.0</td>\n",
       "      <td>0</td>\n",
       "      <td>0</td>\n",
       "      <td>359309</td>\n",
       "      <td>8.0500</td>\n",
       "      <td>NaN</td>\n",
       "      <td>S</td>\n",
       "      <td>0</td>\n",
       "    </tr>\n",
       "    <tr>\n",
       "      <th>417</th>\n",
       "      <td>1309</td>\n",
       "      <td>3</td>\n",
       "      <td>Peter, Master. Michael J</td>\n",
       "      <td>0</td>\n",
       "      <td>0.0</td>\n",
       "      <td>1</td>\n",
       "      <td>1</td>\n",
       "      <td>2668</td>\n",
       "      <td>22.3583</td>\n",
       "      <td>NaN</td>\n",
       "      <td>C</td>\n",
       "      <td>3</td>\n",
       "    </tr>\n",
       "  </tbody>\n",
       "</table>\n",
       "<p>418 rows × 12 columns</p>\n",
       "</div>"
      ],
      "text/plain": [
       "     PassengerId  Pclass                                          Name  Sex  \\\n",
       "0            892       3                              Kelly, Mr. James    0   \n",
       "1            893       3              Wilkes, Mrs. James (Ellen Needs)    1   \n",
       "2            894       2                     Myles, Mr. Thomas Francis    0   \n",
       "3            895       3                              Wirz, Mr. Albert    0   \n",
       "4            896       3  Hirvonen, Mrs. Alexander (Helga E Lindqvist)    1   \n",
       "..           ...     ...                                           ...  ...   \n",
       "413         1305       3                            Spector, Mr. Woolf    0   \n",
       "414         1306       1                  Oliva y Ocana, Dona. Fermina    1   \n",
       "415         1307       3                  Saether, Mr. Simon Sivertsen    0   \n",
       "416         1308       3                           Ware, Mr. Frederick    0   \n",
       "417         1309       3                      Peter, Master. Michael J    0   \n",
       "\n",
       "     Age  SibSp  Parch              Ticket      Fare Cabin Embarked  Title  \n",
       "0    2.0      0      0              330911    7.8292   NaN        Q      0  \n",
       "1    3.0      1      0              363272    7.0000   NaN        S      2  \n",
       "2    3.0      0      0              240276    9.6875   NaN        Q      0  \n",
       "3    2.0      0      0              315154    8.6625   NaN        S      0  \n",
       "4    1.0      1      1             3101298   12.2875   NaN        S      2  \n",
       "..   ...    ...    ...                 ...       ...   ...      ...    ...  \n",
       "413  2.0      0      0           A.5. 3236    8.0500   NaN        S      0  \n",
       "414  3.0      0      0            PC 17758  108.9000  C105        C      3  \n",
       "415  3.0      0      0  SOTON/O.Q. 3101262    7.2500   NaN        S      0  \n",
       "416  2.0      0      0              359309    8.0500   NaN        S      0  \n",
       "417  0.0      1      1                2668   22.3583   NaN        C      3  \n",
       "\n",
       "[418 rows x 12 columns]"
      ]
     },
     "execution_count": 30,
     "metadata": {},
     "output_type": "execute_result"
    }
   ],
   "source": [
    "df_2 = test_df[\"Age\"]\n",
    "df_2 = pd.DataFrame(df_2)\n",
    "df_2.columns=[\"Age\"]\n",
    "for i in range(418):\n",
    "    a = df_2['Age'].get(i)\n",
    "    if int(a) <= 16:\n",
    "        df_2['Age'][i] = 0\n",
    "    elif int(a) > 16 and a <=26:\n",
    "        df_2['Age'][i] = 1\n",
    "    elif int(a) > 26 and a <= 36:\n",
    "        df_2['Age'][i] = 2\n",
    "    elif int(a) >36 and a < 64:\n",
    "        df_2[\"Age\"][i] = 3\n",
    "    else:\n",
    "        df_2['Age'][i] = 4\n",
    "test_df[\"Age\"] = df_2[\"Age\"]\n",
    "test_df"
   ]
  },
  {
   "cell_type": "code",
   "execution_count": 31,
   "id": "5010c73b",
   "metadata": {
    "execution": {
     "iopub.execute_input": "2023-07-02T08:19:24.883729Z",
     "iopub.status.busy": "2023-07-02T08:19:24.882410Z",
     "iopub.status.idle": "2023-07-02T08:19:25.219686Z",
     "shell.execute_reply": "2023-07-02T08:19:25.218318Z"
    },
    "papermill": {
     "duration": 0.38762,
     "end_time": "2023-07-02T08:19:25.222807",
     "exception": false,
     "start_time": "2023-07-02T08:19:24.835187",
     "status": "completed"
    },
    "tags": []
   },
   "outputs": [
    {
     "data": {
      "image/png": "[encoded data removed]",
      "text/plain": [
       "<Figure size 1440x504 with 1 Axes>"
      ]
     },
     "metadata": {
      "needs_background": "light"
     },
     "output_type": "display_data"
    }
   ],
   "source": [
    "bar_chart(\"Age\")"
   ]
  },
  {
   "cell_type": "markdown",
   "id": "3e2e29b9",
   "metadata": {
    "papermill": {
     "duration": 0.045481,
     "end_time": "2023-07-02T08:19:25.314827",
     "exception": false,
     "start_time": "2023-07-02T08:19:25.269346",
     "status": "completed"
    },
    "tags": []
   },
   "source": [
    "\n",
    "<b>Through the Bar graph, It was found that the age group of 26 to 36 years old was the highest among the dead."
   ]
  },
  {
   "cell_type": "markdown",
   "id": "ba03eed7",
   "metadata": {
    "papermill": {
     "duration": 0.047955,
     "end_time": "2023-07-02T08:19:25.409724",
     "exception": false,
     "start_time": "2023-07-02T08:19:25.361769",
     "status": "completed"
    },
    "tags": []
   },
   "source": [
    "<a id=\"1.2\"></a>\n",
    "# <h2 style=\"font-family: Serif; font-size: 28px; font-style: normal; font-weight: normal; text-decoration: none; text-transform: none; letter-spacing: 1px; color: #3162C7; background-color: #DAD9FF;\"><b>1.3.3  </b> Embarked </h2>\n"
   ]
  },
  {
   "cell_type": "code",
   "execution_count": 32,
   "id": "30c709e9",
   "metadata": {
    "execution": {
     "iopub.execute_input": "2023-07-02T08:19:25.503739Z",
     "iopub.status.busy": "2023-07-02T08:19:25.503219Z",
     "iopub.status.idle": "2023-07-02T08:19:25.538929Z",
     "shell.execute_reply": "2023-07-02T08:19:25.537282Z"
    },
    "papermill": {
     "duration": 0.086777,
     "end_time": "2023-07-02T08:19:25.542291",
     "exception": false,
     "start_time": "2023-07-02T08:19:25.455514",
     "status": "completed"
    },
    "tags": []
   },
   "outputs": [
    {
     "data": {
      "text/html": [
       "<div>\n",
       "<style scoped>\n",
       "    .dataframe tbody tr th:only-of-type {\n",
       "        vertical-align: middle;\n",
       "    }\n",
       "\n",
       "    .dataframe tbody tr th {\n",
       "        vertical-align: top;\n",
       "    }\n",
       "\n",
       "    .dataframe thead th {\n",
       "        text-align: right;\n",
       "    }\n",
       "</style>\n",
       "<table border=\"1\" class=\"dataframe\">\n",
       "  <thead>\n",
       "    <tr style=\"text-align: right;\">\n",
       "      <th></th>\n",
       "      <th>PassengerId</th>\n",
       "      <th>Survived</th>\n",
       "      <th>Pclass</th>\n",
       "      <th>Name</th>\n",
       "      <th>Sex</th>\n",
       "      <th>Age</th>\n",
       "      <th>SibSp</th>\n",
       "      <th>Parch</th>\n",
       "      <th>Ticket</th>\n",
       "      <th>Fare</th>\n",
       "      <th>Cabin</th>\n",
       "      <th>Embarked</th>\n",
       "      <th>Title</th>\n",
       "    </tr>\n",
       "  </thead>\n",
       "  <tbody>\n",
       "    <tr>\n",
       "      <th>0</th>\n",
       "      <td>1</td>\n",
       "      <td>0</td>\n",
       "      <td>3</td>\n",
       "      <td>Braund, Mr. Owen Harris</td>\n",
       "      <td>0</td>\n",
       "      <td>1.0</td>\n",
       "      <td>1</td>\n",
       "      <td>0</td>\n",
       "      <td>A/5 21171</td>\n",
       "      <td>7.2500</td>\n",
       "      <td>NaN</td>\n",
       "      <td>S</td>\n",
       "      <td>0.0</td>\n",
       "    </tr>\n",
       "    <tr>\n",
       "      <th>1</th>\n",
       "      <td>2</td>\n",
       "      <td>1</td>\n",
       "      <td>1</td>\n",
       "      <td>Cumings, Mrs. John Bradley (Florence Briggs Th...</td>\n",
       "      <td>1</td>\n",
       "      <td>3.0</td>\n",
       "      <td>1</td>\n",
       "      <td>0</td>\n",
       "      <td>PC 17599</td>\n",
       "      <td>71.2833</td>\n",
       "      <td>C85</td>\n",
       "      <td>C</td>\n",
       "      <td>2.0</td>\n",
       "    </tr>\n",
       "    <tr>\n",
       "      <th>2</th>\n",
       "      <td>3</td>\n",
       "      <td>1</td>\n",
       "      <td>3</td>\n",
       "      <td>Heikkinen, Miss. Laina</td>\n",
       "      <td>1</td>\n",
       "      <td>1.0</td>\n",
       "      <td>0</td>\n",
       "      <td>0</td>\n",
       "      <td>STON/O2. 3101282</td>\n",
       "      <td>7.9250</td>\n",
       "      <td>NaN</td>\n",
       "      <td>S</td>\n",
       "      <td>1.0</td>\n",
       "    </tr>\n",
       "    <tr>\n",
       "      <th>3</th>\n",
       "      <td>4</td>\n",
       "      <td>1</td>\n",
       "      <td>1</td>\n",
       "      <td>Futrelle, Mrs. Jacques Heath (Lily May Peel)</td>\n",
       "      <td>1</td>\n",
       "      <td>2.0</td>\n",
       "      <td>1</td>\n",
       "      <td>0</td>\n",
       "      <td>113803</td>\n",
       "      <td>53.1000</td>\n",
       "      <td>C123</td>\n",
       "      <td>S</td>\n",
       "      <td>2.0</td>\n",
       "    </tr>\n",
       "    <tr>\n",
       "      <th>4</th>\n",
       "      <td>5</td>\n",
       "      <td>0</td>\n",
       "      <td>3</td>\n",
       "      <td>Allen, Mr. William Henry</td>\n",
       "      <td>0</td>\n",
       "      <td>2.0</td>\n",
       "      <td>0</td>\n",
       "      <td>0</td>\n",
       "      <td>373450</td>\n",
       "      <td>8.0500</td>\n",
       "      <td>NaN</td>\n",
       "      <td>S</td>\n",
       "      <td>0.0</td>\n",
       "    </tr>\n",
       "    <tr>\n",
       "      <th>...</th>\n",
       "      <td>...</td>\n",
       "      <td>...</td>\n",
       "      <td>...</td>\n",
       "      <td>...</td>\n",
       "      <td>...</td>\n",
       "      <td>...</td>\n",
       "      <td>...</td>\n",
       "      <td>...</td>\n",
       "      <td>...</td>\n",
       "      <td>...</td>\n",
       "      <td>...</td>\n",
       "      <td>...</td>\n",
       "      <td>...</td>\n",
       "    </tr>\n",
       "    <tr>\n",
       "      <th>886</th>\n",
       "      <td>887</td>\n",
       "      <td>0</td>\n",
       "      <td>2</td>\n",
       "      <td>Montvila, Rev. Juozas</td>\n",
       "      <td>0</td>\n",
       "      <td>2.0</td>\n",
       "      <td>0</td>\n",
       "      <td>0</td>\n",
       "      <td>211536</td>\n",
       "      <td>13.0000</td>\n",
       "      <td>NaN</td>\n",
       "      <td>S</td>\n",
       "      <td>3.0</td>\n",
       "    </tr>\n",
       "    <tr>\n",
       "      <th>887</th>\n",
       "      <td>888</td>\n",
       "      <td>1</td>\n",
       "      <td>1</td>\n",
       "      <td>Graham, Miss. Margaret Edith</td>\n",
       "      <td>1</td>\n",
       "      <td>1.0</td>\n",
       "      <td>0</td>\n",
       "      <td>0</td>\n",
       "      <td>112053</td>\n",
       "      <td>30.0000</td>\n",
       "      <td>B42</td>\n",
       "      <td>S</td>\n",
       "      <td>1.0</td>\n",
       "    </tr>\n",
       "    <tr>\n",
       "      <th>888</th>\n",
       "      <td>889</td>\n",
       "      <td>0</td>\n",
       "      <td>3</td>\n",
       "      <td>Johnston, Miss. Catherine Helen \"Carrie\"</td>\n",
       "      <td>1</td>\n",
       "      <td>1.0</td>\n",
       "      <td>1</td>\n",
       "      <td>2</td>\n",
       "      <td>W./C. 6607</td>\n",
       "      <td>23.4500</td>\n",
       "      <td>NaN</td>\n",
       "      <td>S</td>\n",
       "      <td>1.0</td>\n",
       "    </tr>\n",
       "    <tr>\n",
       "      <th>889</th>\n",
       "      <td>890</td>\n",
       "      <td>1</td>\n",
       "      <td>1</td>\n",
       "      <td>Behr, Mr. Karl Howell</td>\n",
       "      <td>0</td>\n",
       "      <td>1.0</td>\n",
       "      <td>0</td>\n",
       "      <td>0</td>\n",
       "      <td>111369</td>\n",
       "      <td>30.0000</td>\n",
       "      <td>C148</td>\n",
       "      <td>C</td>\n",
       "      <td>0.0</td>\n",
       "    </tr>\n",
       "    <tr>\n",
       "      <th>890</th>\n",
       "      <td>891</td>\n",
       "      <td>0</td>\n",
       "      <td>3</td>\n",
       "      <td>Dooley, Mr. Patrick</td>\n",
       "      <td>0</td>\n",
       "      <td>2.0</td>\n",
       "      <td>0</td>\n",
       "      <td>0</td>\n",
       "      <td>370376</td>\n",
       "      <td>7.7500</td>\n",
       "      <td>NaN</td>\n",
       "      <td>Q</td>\n",
       "      <td>0.0</td>\n",
       "    </tr>\n",
       "  </tbody>\n",
       "</table>\n",
       "<p>891 rows × 13 columns</p>\n",
       "</div>"
      ],
      "text/plain": [
       "     PassengerId  Survived  Pclass  \\\n",
       "0              1         0       3   \n",
       "1              2         1       1   \n",
       "2              3         1       3   \n",
       "3              4         1       1   \n",
       "4              5         0       3   \n",
       "..           ...       ...     ...   \n",
       "886          887         0       2   \n",
       "887          888         1       1   \n",
       "888          889         0       3   \n",
       "889          890         1       1   \n",
       "890          891         0       3   \n",
       "\n",
       "                                                  Name  Sex  Age  SibSp  \\\n",
       "0                              Braund, Mr. Owen Harris    0  1.0      1   \n",
       "1    Cumings, Mrs. John Bradley (Florence Briggs Th...    1  3.0      1   \n",
       "2                               Heikkinen, Miss. Laina    1  1.0      0   \n",
       "3         Futrelle, Mrs. Jacques Heath (Lily May Peel)    1  2.0      1   \n",
       "4                             Allen, Mr. William Henry    0  2.0      0   \n",
       "..                                                 ...  ...  ...    ...   \n",
       "886                              Montvila, Rev. Juozas    0  2.0      0   \n",
       "887                       Graham, Miss. Margaret Edith    1  1.0      0   \n",
       "888           Johnston, Miss. Catherine Helen \"Carrie\"    1  1.0      1   \n",
       "889                              Behr, Mr. Karl Howell    0  1.0      0   \n",
       "890                                Dooley, Mr. Patrick    0  2.0      0   \n",
       "\n",
       "     Parch            Ticket     Fare Cabin Embarked  Title  \n",
       "0        0         A/5 21171   7.2500   NaN        S    0.0  \n",
       "1        0          PC 17599  71.2833   C85        C    2.0  \n",
       "2        0  STON/O2. 3101282   7.9250   NaN        S    1.0  \n",
       "3        0            113803  53.1000  C123        S    2.0  \n",
       "4        0            373450   8.0500   NaN        S    0.0  \n",
       "..     ...               ...      ...   ...      ...    ...  \n",
       "886      0            211536  13.0000   NaN        S    3.0  \n",
       "887      0            112053  30.0000   B42        S    1.0  \n",
       "888      2        W./C. 6607  23.4500   NaN        S    1.0  \n",
       "889      0            111369  30.0000  C148        C    0.0  \n",
       "890      0            370376   7.7500   NaN        Q    0.0  \n",
       "\n",
       "[891 rows x 13 columns]"
      ]
     },
     "execution_count": 32,
     "metadata": {},
     "output_type": "execute_result"
    }
   ],
   "source": [
    "train_df"
   ]
  },
  {
   "cell_type": "code",
   "execution_count": 33,
   "id": "cec9d863",
   "metadata": {
    "execution": {
     "iopub.execute_input": "2023-07-02T08:19:25.638131Z",
     "iopub.status.busy": "2023-07-02T08:19:25.636882Z",
     "iopub.status.idle": "2023-07-02T08:19:25.900868Z",
     "shell.execute_reply": "2023-07-02T08:19:25.899766Z"
    },
    "papermill": {
     "duration": 0.314065,
     "end_time": "2023-07-02T08:19:25.903707",
     "exception": false,
     "start_time": "2023-07-02T08:19:25.589642",
     "status": "completed"
    },
    "tags": []
   },
   "outputs": [
    {
     "data": {
      "text/plain": [
       "<AxesSubplot:>"
      ]
     },
     "execution_count": 33,
     "metadata": {},
     "output_type": "execute_result"
    },
    {
     "data": {
      "image/png": "[encoded data removed]",
      "text/plain": [
       "<Figure size 1440x576 with 1 Axes>"
      ]
     },
     "metadata": {
      "needs_background": "light"
     },
     "output_type": "display_data"
    }
   ],
   "source": [
    "pclass1 = train_df[train_df[\"Pclass\"]==1][\"Embarked\"].value_counts() # the place where a first-class person got off\n",
    "pclass2 = train_df[train_df[\"Pclass\"]==2][\"Embarked\"].value_counts() # the place where a second-class person got off\n",
    "pclass3 = train_df[train_df[\"Pclass\"]==3][\"Embarked\"].value_counts() # the place where a third-class person got off\n",
    "df = pd.DataFrame([pclass1,pclass2,pclass3])\n",
    "df.index = [\"1st class\",\"2nd class\",\"3rd class\"]\n",
    "df.plot(kind=\"bar\",stacked = True, figsize=(20,8))"
   ]
  },
  {
   "cell_type": "code",
   "execution_count": 34,
   "id": "86e772cb",
   "metadata": {
    "execution": {
     "iopub.execute_input": "2023-07-02T08:19:25.999050Z",
     "iopub.status.busy": "2023-07-02T08:19:25.998050Z",
     "iopub.status.idle": "2023-07-02T08:19:26.025795Z",
     "shell.execute_reply": "2023-07-02T08:19:26.024224Z"
    },
    "papermill": {
     "duration": 0.08041,
     "end_time": "2023-07-02T08:19:26.030038",
     "exception": false,
     "start_time": "2023-07-02T08:19:25.949628",
     "status": "completed"
    },
    "tags": []
   },
   "outputs": [
    {
     "data": {
      "text/html": [
       "<div>\n",
       "<style scoped>\n",
       "    .dataframe tbody tr th:only-of-type {\n",
       "        vertical-align: middle;\n",
       "    }\n",
       "\n",
       "    .dataframe tbody tr th {\n",
       "        vertical-align: top;\n",
       "    }\n",
       "\n",
       "    .dataframe thead th {\n",
       "        text-align: right;\n",
       "    }\n",
       "</style>\n",
       "<table border=\"1\" class=\"dataframe\">\n",
       "  <thead>\n",
       "    <tr style=\"text-align: right;\">\n",
       "      <th></th>\n",
       "      <th>PassengerId</th>\n",
       "      <th>Survived</th>\n",
       "      <th>Pclass</th>\n",
       "      <th>Name</th>\n",
       "      <th>Sex</th>\n",
       "      <th>Age</th>\n",
       "      <th>SibSp</th>\n",
       "      <th>Parch</th>\n",
       "      <th>Ticket</th>\n",
       "      <th>Fare</th>\n",
       "      <th>Cabin</th>\n",
       "      <th>Embarked</th>\n",
       "      <th>Title</th>\n",
       "    </tr>\n",
       "  </thead>\n",
       "  <tbody>\n",
       "    <tr>\n",
       "      <th>0</th>\n",
       "      <td>1</td>\n",
       "      <td>0</td>\n",
       "      <td>3</td>\n",
       "      <td>Braund, Mr. Owen Harris</td>\n",
       "      <td>0</td>\n",
       "      <td>1.0</td>\n",
       "      <td>1</td>\n",
       "      <td>0</td>\n",
       "      <td>A/5 21171</td>\n",
       "      <td>7.2500</td>\n",
       "      <td>NaN</td>\n",
       "      <td>S</td>\n",
       "      <td>0.0</td>\n",
       "    </tr>\n",
       "    <tr>\n",
       "      <th>1</th>\n",
       "      <td>2</td>\n",
       "      <td>1</td>\n",
       "      <td>1</td>\n",
       "      <td>Cumings, Mrs. John Bradley (Florence Briggs Th...</td>\n",
       "      <td>1</td>\n",
       "      <td>3.0</td>\n",
       "      <td>1</td>\n",
       "      <td>0</td>\n",
       "      <td>PC 17599</td>\n",
       "      <td>71.2833</td>\n",
       "      <td>C85</td>\n",
       "      <td>C</td>\n",
       "      <td>2.0</td>\n",
       "    </tr>\n",
       "    <tr>\n",
       "      <th>2</th>\n",
       "      <td>3</td>\n",
       "      <td>1</td>\n",
       "      <td>3</td>\n",
       "      <td>Heikkinen, Miss. Laina</td>\n",
       "      <td>1</td>\n",
       "      <td>1.0</td>\n",
       "      <td>0</td>\n",
       "      <td>0</td>\n",
       "      <td>STON/O2. 3101282</td>\n",
       "      <td>7.9250</td>\n",
       "      <td>NaN</td>\n",
       "      <td>S</td>\n",
       "      <td>1.0</td>\n",
       "    </tr>\n",
       "    <tr>\n",
       "      <th>3</th>\n",
       "      <td>4</td>\n",
       "      <td>1</td>\n",
       "      <td>1</td>\n",
       "      <td>Futrelle, Mrs. Jacques Heath (Lily May Peel)</td>\n",
       "      <td>1</td>\n",
       "      <td>2.0</td>\n",
       "      <td>1</td>\n",
       "      <td>0</td>\n",
       "      <td>113803</td>\n",
       "      <td>53.1000</td>\n",
       "      <td>C123</td>\n",
       "      <td>S</td>\n",
       "      <td>2.0</td>\n",
       "    </tr>\n",
       "    <tr>\n",
       "      <th>4</th>\n",
       "      <td>5</td>\n",
       "      <td>0</td>\n",
       "      <td>3</td>\n",
       "      <td>Allen, Mr. William Henry</td>\n",
       "      <td>0</td>\n",
       "      <td>2.0</td>\n",
       "      <td>0</td>\n",
       "      <td>0</td>\n",
       "      <td>373450</td>\n",
       "      <td>8.0500</td>\n",
       "      <td>NaN</td>\n",
       "      <td>S</td>\n",
       "      <td>0.0</td>\n",
       "    </tr>\n",
       "  </tbody>\n",
       "</table>\n",
       "</div>"
      ],
      "text/plain": [
       "   PassengerId  Survived  Pclass  \\\n",
       "0            1         0       3   \n",
       "1            2         1       1   \n",
       "2            3         1       3   \n",
       "3            4         1       1   \n",
       "4            5         0       3   \n",
       "\n",
       "                                                Name  Sex  Age  SibSp  Parch  \\\n",
       "0                            Braund, Mr. Owen Harris    0  1.0      1      0   \n",
       "1  Cumings, Mrs. John Bradley (Florence Briggs Th...    1  3.0      1      0   \n",
       "2                             Heikkinen, Miss. Laina    1  1.0      0      0   \n",
       "3       Futrelle, Mrs. Jacques Heath (Lily May Peel)    1  2.0      1      0   \n",
       "4                           Allen, Mr. William Henry    0  2.0      0      0   \n",
       "\n",
       "             Ticket     Fare Cabin Embarked  Title  \n",
       "0         A/5 21171   7.2500   NaN        S    0.0  \n",
       "1          PC 17599  71.2833   C85        C    2.0  \n",
       "2  STON/O2. 3101282   7.9250   NaN        S    1.0  \n",
       "3            113803  53.1000  C123        S    2.0  \n",
       "4            373450   8.0500   NaN        S    0.0  "
      ]
     },
     "execution_count": 34,
     "metadata": {},
     "output_type": "execute_result"
    }
   ],
   "source": [
    "for dataset in train_test_df:\n",
    "    dataset[\"Embarked\"] = dataset['Embarked'].fillna(\"S\")\n",
    "# fill \"S\" in blanked \"Embarked\" row\n",
    "train_df.head()"
   ]
  },
  {
   "cell_type": "code",
   "execution_count": 35,
   "id": "6b800ee3",
   "metadata": {
    "execution": {
     "iopub.execute_input": "2023-07-02T08:19:26.135931Z",
     "iopub.status.busy": "2023-07-02T08:19:26.135391Z",
     "iopub.status.idle": "2023-07-02T08:19:26.145533Z",
     "shell.execute_reply": "2023-07-02T08:19:26.144127Z"
    },
    "papermill": {
     "duration": 0.061407,
     "end_time": "2023-07-02T08:19:26.148414",
     "exception": false,
     "start_time": "2023-07-02T08:19:26.087007",
     "status": "completed"
    },
    "tags": []
   },
   "outputs": [],
   "source": [
    "embarked_mapping = {\"S\":0,\"C\":1,\"Q\":2} # do mapping(test - number) in embarked row, for more convinence in machine learning\n",
    "for dataset in train_test_df:\n",
    "    dataset[\"Embarked\"] = dataset[\"Embarked\"].map(embarked_mapping)"
   ]
  },
  {
   "cell_type": "markdown",
   "id": "346cf055",
   "metadata": {
    "papermill": {
     "duration": 0.048645,
     "end_time": "2023-07-02T08:19:26.244144",
     "exception": false,
     "start_time": "2023-07-02T08:19:26.195499",
     "status": "completed"
    },
    "tags": []
   },
   "source": [
    "<a id=\"1.2\"></a>\n",
    "# <h2 style=\"font-family: Serif; font-size: 28px; font-style: normal; font-weight: normal; text-decoration: none; text-transform: none; letter-spacing: 1px; color: #3162C7; background-color: #DAD9FF;\"><b>1.3.4</b>  Fare</h2>\n"
   ]
  },
  {
   "cell_type": "code",
   "execution_count": 36,
   "id": "0cb26459",
   "metadata": {
    "execution": {
     "iopub.execute_input": "2023-07-02T08:19:26.346551Z",
     "iopub.status.busy": "2023-07-02T08:19:26.345991Z",
     "iopub.status.idle": "2023-07-02T08:19:26.358471Z",
     "shell.execute_reply": "2023-07-02T08:19:26.357083Z"
    },
    "papermill": {
     "duration": 0.068042,
     "end_time": "2023-07-02T08:19:26.361785",
     "exception": false,
     "start_time": "2023-07-02T08:19:26.293743",
     "status": "completed"
    },
    "tags": []
   },
   "outputs": [],
   "source": [
    "train_df[\"Fare\"].fillna(train_df.groupby(\"Pclass\")[\"Fare\"].transform(\"median\"),inplace=True)\n",
    "test_df[\"Fare\"].fillna(test_df.groupby(\"Pclass\")[\"Fare\"].transform(\"median\"),inplace=True)"
   ]
  },
  {
   "cell_type": "code",
   "execution_count": 37,
   "id": "597721cd",
   "metadata": {
    "execution": {
     "iopub.execute_input": "2023-07-02T08:19:26.461401Z",
     "iopub.status.busy": "2023-07-02T08:19:26.459813Z",
     "iopub.status.idle": "2023-07-02T08:19:26.845702Z",
     "shell.execute_reply": "2023-07-02T08:19:26.844064Z"
    },
    "papermill": {
     "duration": 0.438903,
     "end_time": "2023-07-02T08:19:26.848875",
     "exception": false,
     "start_time": "2023-07-02T08:19:26.409972",
     "status": "completed"
    },
    "tags": []
   },
   "outputs": [
    {
     "data": {
      "text/plain": [
       "<seaborn.axisgrid.FacetGrid at 0x7ddf93235290>"
      ]
     },
     "execution_count": 37,
     "metadata": {},
     "output_type": "execute_result"
    },
    {
     "data": {
      "image/png": "[encoded data removed]",
      "text/plain": [
       "<Figure size 915.875x216 with 1 Axes>"
      ]
     },
     "metadata": {
      "needs_background": "light"
     },
     "output_type": "display_data"
    }
   ],
   "source": [
    "facet = sns.FacetGrid(train_df,hue=\"Survived\",aspect=4)\n",
    "facet.map(sns.kdeplot,\"Fare\",shade=True)\n",
    "facet.set(xlim=(0,train_df[\"Fare\"].max()))\n",
    "facet.add_legend()"
   ]
  },
  {
   "cell_type": "code",
   "execution_count": 38,
   "id": "a93efdde",
   "metadata": {
    "execution": {
     "iopub.execute_input": "2023-07-02T08:19:26.948118Z",
     "iopub.status.busy": "2023-07-02T08:19:26.947598Z",
     "iopub.status.idle": "2023-07-02T08:19:27.386496Z",
     "shell.execute_reply": "2023-07-02T08:19:27.384936Z"
    },
    "papermill": {
     "duration": 0.491542,
     "end_time": "2023-07-02T08:19:27.389850",
     "exception": false,
     "start_time": "2023-07-02T08:19:26.898308",
     "status": "completed"
    },
    "tags": []
   },
   "outputs": [
    {
     "data": {
      "text/plain": [
       "<seaborn.axisgrid.FacetGrid at 0x7ddf932356d0>"
      ]
     },
     "execution_count": 38,
     "metadata": {},
     "output_type": "execute_result"
    },
    {
     "data": {
      "image/png": "[encoded data removed]",
      "text/plain": [
       "<Figure size 915.875x216 with 1 Axes>"
      ]
     },
     "metadata": {
      "needs_background": "light"
     },
     "output_type": "display_data"
    }
   ],
   "source": [
    "facet = sns.FacetGrid(train_df,hue=\"Survived\",aspect=4)\n",
    "facet.map(sns.kdeplot,\"Fare\",shade=True)\n",
    "facet.set(xlim=(0,100))\n",
    "facet.add_legend()"
   ]
  },
  {
   "cell_type": "code",
   "execution_count": 39,
   "id": "03aeacbe",
   "metadata": {
    "execution": {
     "iopub.execute_input": "2023-07-02T08:19:27.491446Z",
     "iopub.status.busy": "2023-07-02T08:19:27.490895Z",
     "iopub.status.idle": "2023-07-02T08:19:27.964113Z",
     "shell.execute_reply": "2023-07-02T08:19:27.962726Z"
    },
    "papermill": {
     "duration": 0.526028,
     "end_time": "2023-07-02T08:19:27.967010",
     "exception": false,
     "start_time": "2023-07-02T08:19:27.440982",
     "status": "completed"
    },
    "tags": []
   },
   "outputs": [
    {
     "data": {
      "text/plain": [
       "<seaborn.axisgrid.FacetGrid at 0x7ddf931b3610>"
      ]
     },
     "execution_count": 39,
     "metadata": {},
     "output_type": "execute_result"
    },
    {
     "data": {
      "image/png": "[encoded data removed]",
      "text/plain": [
       "<Figure size 915.875x216 with 1 Axes>"
      ]
     },
     "metadata": {
      "needs_background": "light"
     },
     "output_type": "display_data"
    }
   ],
   "source": [
    "facet = sns.FacetGrid(train_df,hue=\"Survived\",aspect=4)\n",
    "facet.map(sns.kdeplot,\"Fare\",shade=True)\n",
    "facet.set(xlim=(100,200))\n",
    "facet.add_legend()"
   ]
  },
  {
   "cell_type": "code",
   "execution_count": 40,
   "id": "37c1b9fe",
   "metadata": {
    "execution": {
     "iopub.execute_input": "2023-07-02T08:19:28.068043Z",
     "iopub.status.busy": "2023-07-02T08:19:28.067500Z",
     "iopub.status.idle": "2023-07-02T08:19:28.161134Z",
     "shell.execute_reply": "2023-07-02T08:19:28.159757Z"
    },
    "papermill": {
     "duration": 0.147997,
     "end_time": "2023-07-02T08:19:28.164210",
     "exception": false,
     "start_time": "2023-07-02T08:19:28.016213",
     "status": "completed"
    },
    "tags": []
   },
   "outputs": [
    {
     "data": {
      "text/html": [
       "<div>\n",
       "<style scoped>\n",
       "    .dataframe tbody tr th:only-of-type {\n",
       "        vertical-align: middle;\n",
       "    }\n",
       "\n",
       "    .dataframe tbody tr th {\n",
       "        vertical-align: top;\n",
       "    }\n",
       "\n",
       "    .dataframe thead th {\n",
       "        text-align: right;\n",
       "    }\n",
       "</style>\n",
       "<table border=\"1\" class=\"dataframe\">\n",
       "  <thead>\n",
       "    <tr style=\"text-align: right;\">\n",
       "      <th></th>\n",
       "      <th>PassengerId</th>\n",
       "      <th>Survived</th>\n",
       "      <th>Pclass</th>\n",
       "      <th>Name</th>\n",
       "      <th>Sex</th>\n",
       "      <th>Age</th>\n",
       "      <th>SibSp</th>\n",
       "      <th>Parch</th>\n",
       "      <th>Ticket</th>\n",
       "      <th>Fare</th>\n",
       "      <th>Cabin</th>\n",
       "      <th>Embarked</th>\n",
       "      <th>Title</th>\n",
       "    </tr>\n",
       "  </thead>\n",
       "  <tbody>\n",
       "    <tr>\n",
       "      <th>0</th>\n",
       "      <td>1</td>\n",
       "      <td>0</td>\n",
       "      <td>3</td>\n",
       "      <td>Braund, Mr. Owen Harris</td>\n",
       "      <td>0</td>\n",
       "      <td>1.0</td>\n",
       "      <td>1</td>\n",
       "      <td>0</td>\n",
       "      <td>A/5 21171</td>\n",
       "      <td>0.0</td>\n",
       "      <td>NaN</td>\n",
       "      <td>0</td>\n",
       "      <td>0.0</td>\n",
       "    </tr>\n",
       "    <tr>\n",
       "      <th>1</th>\n",
       "      <td>2</td>\n",
       "      <td>1</td>\n",
       "      <td>1</td>\n",
       "      <td>Cumings, Mrs. John Bradley (Florence Briggs Th...</td>\n",
       "      <td>1</td>\n",
       "      <td>3.0</td>\n",
       "      <td>1</td>\n",
       "      <td>0</td>\n",
       "      <td>PC 17599</td>\n",
       "      <td>4.0</td>\n",
       "      <td>C85</td>\n",
       "      <td>1</td>\n",
       "      <td>2.0</td>\n",
       "    </tr>\n",
       "    <tr>\n",
       "      <th>2</th>\n",
       "      <td>3</td>\n",
       "      <td>1</td>\n",
       "      <td>3</td>\n",
       "      <td>Heikkinen, Miss. Laina</td>\n",
       "      <td>1</td>\n",
       "      <td>1.0</td>\n",
       "      <td>0</td>\n",
       "      <td>0</td>\n",
       "      <td>STON/O2. 3101282</td>\n",
       "      <td>0.0</td>\n",
       "      <td>NaN</td>\n",
       "      <td>0</td>\n",
       "      <td>1.0</td>\n",
       "    </tr>\n",
       "    <tr>\n",
       "      <th>3</th>\n",
       "      <td>4</td>\n",
       "      <td>1</td>\n",
       "      <td>1</td>\n",
       "      <td>Futrelle, Mrs. Jacques Heath (Lily May Peel)</td>\n",
       "      <td>1</td>\n",
       "      <td>2.0</td>\n",
       "      <td>1</td>\n",
       "      <td>0</td>\n",
       "      <td>113803</td>\n",
       "      <td>4.0</td>\n",
       "      <td>C123</td>\n",
       "      <td>0</td>\n",
       "      <td>2.0</td>\n",
       "    </tr>\n",
       "    <tr>\n",
       "      <th>4</th>\n",
       "      <td>5</td>\n",
       "      <td>0</td>\n",
       "      <td>3</td>\n",
       "      <td>Allen, Mr. William Henry</td>\n",
       "      <td>0</td>\n",
       "      <td>2.0</td>\n",
       "      <td>0</td>\n",
       "      <td>0</td>\n",
       "      <td>373450</td>\n",
       "      <td>0.0</td>\n",
       "      <td>NaN</td>\n",
       "      <td>0</td>\n",
       "      <td>0.0</td>\n",
       "    </tr>\n",
       "  </tbody>\n",
       "</table>\n",
       "</div>"
      ],
      "text/plain": [
       "   PassengerId  Survived  Pclass  \\\n",
       "0            1         0       3   \n",
       "1            2         1       1   \n",
       "2            3         1       3   \n",
       "3            4         1       1   \n",
       "4            5         0       3   \n",
       "\n",
       "                                                Name  Sex  Age  SibSp  Parch  \\\n",
       "0                            Braund, Mr. Owen Harris    0  1.0      1      0   \n",
       "1  Cumings, Mrs. John Bradley (Florence Briggs Th...    1  3.0      1      0   \n",
       "2                             Heikkinen, Miss. Laina    1  1.0      0      0   \n",
       "3       Futrelle, Mrs. Jacques Heath (Lily May Peel)    1  2.0      1      0   \n",
       "4                           Allen, Mr. William Henry    0  2.0      0      0   \n",
       "\n",
       "             Ticket  Fare Cabin  Embarked  Title  \n",
       "0         A/5 21171   0.0   NaN         0    0.0  \n",
       "1          PC 17599   4.0   C85         1    2.0  \n",
       "2  STON/O2. 3101282   0.0   NaN         0    1.0  \n",
       "3            113803   4.0  C123         0    2.0  \n",
       "4            373450   0.0   NaN         0    0.0  "
      ]
     },
     "execution_count": 40,
     "metadata": {},
     "output_type": "execute_result"
    }
   ],
   "source": [
    "df_2 = train_df[\"Fare\"]\n",
    "df_2 = pd.DataFrame(df_2)\n",
    "df_2.columns=[\"Fare\"]\n",
    "for i in range(891):\n",
    "    a = df_2['Fare'].get(i)\n",
    "    if int(a) <= 8:\n",
    "        df_2['Fare'][i] = 0\n",
    "    elif int(a) > 8 and a <=17:\n",
    "        df_2['Fare'][i] = 1\n",
    "    elif int(a) > 17 and a <= 27:\n",
    "        df_2['Fare'][i] = 2\n",
    "    elif int(a) >27 and a < 37:\n",
    "        df_2[\"Fare\"][i] = 3\n",
    "    else:\n",
    "        df_2['Fare'][i] = 4\n",
    "train_df[\"Fare\"] = df_2[\"Fare\"]\n",
    "train_df.head()"
   ]
  },
  {
   "cell_type": "code",
   "execution_count": 41,
   "id": "b7a23244",
   "metadata": {
    "execution": {
     "iopub.execute_input": "2023-07-02T08:19:28.266112Z",
     "iopub.status.busy": "2023-07-02T08:19:28.265559Z",
     "iopub.status.idle": "2023-07-02T08:19:28.324244Z",
     "shell.execute_reply": "2023-07-02T08:19:28.322882Z"
    },
    "papermill": {
     "duration": 0.113596,
     "end_time": "2023-07-02T08:19:28.327486",
     "exception": false,
     "start_time": "2023-07-02T08:19:28.213890",
     "status": "completed"
    },
    "tags": []
   },
   "outputs": [
    {
     "data": {
      "text/html": [
       "<div>\n",
       "<style scoped>\n",
       "    .dataframe tbody tr th:only-of-type {\n",
       "        vertical-align: middle;\n",
       "    }\n",
       "\n",
       "    .dataframe tbody tr th {\n",
       "        vertical-align: top;\n",
       "    }\n",
       "\n",
       "    .dataframe thead th {\n",
       "        text-align: right;\n",
       "    }\n",
       "</style>\n",
       "<table border=\"1\" class=\"dataframe\">\n",
       "  <thead>\n",
       "    <tr style=\"text-align: right;\">\n",
       "      <th></th>\n",
       "      <th>PassengerId</th>\n",
       "      <th>Pclass</th>\n",
       "      <th>Name</th>\n",
       "      <th>Sex</th>\n",
       "      <th>Age</th>\n",
       "      <th>SibSp</th>\n",
       "      <th>Parch</th>\n",
       "      <th>Ticket</th>\n",
       "      <th>Fare</th>\n",
       "      <th>Cabin</th>\n",
       "      <th>Embarked</th>\n",
       "      <th>Title</th>\n",
       "    </tr>\n",
       "  </thead>\n",
       "  <tbody>\n",
       "    <tr>\n",
       "      <th>0</th>\n",
       "      <td>892</td>\n",
       "      <td>3</td>\n",
       "      <td>Kelly, Mr. James</td>\n",
       "      <td>0</td>\n",
       "      <td>2.0</td>\n",
       "      <td>0</td>\n",
       "      <td>0</td>\n",
       "      <td>330911</td>\n",
       "      <td>0.0</td>\n",
       "      <td>NaN</td>\n",
       "      <td>2</td>\n",
       "      <td>0</td>\n",
       "    </tr>\n",
       "    <tr>\n",
       "      <th>1</th>\n",
       "      <td>893</td>\n",
       "      <td>3</td>\n",
       "      <td>Wilkes, Mrs. James (Ellen Needs)</td>\n",
       "      <td>1</td>\n",
       "      <td>3.0</td>\n",
       "      <td>1</td>\n",
       "      <td>0</td>\n",
       "      <td>363272</td>\n",
       "      <td>0.0</td>\n",
       "      <td>NaN</td>\n",
       "      <td>0</td>\n",
       "      <td>2</td>\n",
       "    </tr>\n",
       "    <tr>\n",
       "      <th>2</th>\n",
       "      <td>894</td>\n",
       "      <td>2</td>\n",
       "      <td>Myles, Mr. Thomas Francis</td>\n",
       "      <td>0</td>\n",
       "      <td>3.0</td>\n",
       "      <td>0</td>\n",
       "      <td>0</td>\n",
       "      <td>240276</td>\n",
       "      <td>1.0</td>\n",
       "      <td>NaN</td>\n",
       "      <td>2</td>\n",
       "      <td>0</td>\n",
       "    </tr>\n",
       "    <tr>\n",
       "      <th>3</th>\n",
       "      <td>895</td>\n",
       "      <td>3</td>\n",
       "      <td>Wirz, Mr. Albert</td>\n",
       "      <td>0</td>\n",
       "      <td>2.0</td>\n",
       "      <td>0</td>\n",
       "      <td>0</td>\n",
       "      <td>315154</td>\n",
       "      <td>0.0</td>\n",
       "      <td>NaN</td>\n",
       "      <td>0</td>\n",
       "      <td>0</td>\n",
       "    </tr>\n",
       "    <tr>\n",
       "      <th>4</th>\n",
       "      <td>896</td>\n",
       "      <td>3</td>\n",
       "      <td>Hirvonen, Mrs. Alexander (Helga E Lindqvist)</td>\n",
       "      <td>1</td>\n",
       "      <td>1.0</td>\n",
       "      <td>1</td>\n",
       "      <td>1</td>\n",
       "      <td>3101298</td>\n",
       "      <td>1.0</td>\n",
       "      <td>NaN</td>\n",
       "      <td>0</td>\n",
       "      <td>2</td>\n",
       "    </tr>\n",
       "  </tbody>\n",
       "</table>\n",
       "</div>"
      ],
      "text/plain": [
       "   PassengerId  Pclass                                          Name  Sex  \\\n",
       "0          892       3                              Kelly, Mr. James    0   \n",
       "1          893       3              Wilkes, Mrs. James (Ellen Needs)    1   \n",
       "2          894       2                     Myles, Mr. Thomas Francis    0   \n",
       "3          895       3                              Wirz, Mr. Albert    0   \n",
       "4          896       3  Hirvonen, Mrs. Alexander (Helga E Lindqvist)    1   \n",
       "\n",
       "   Age  SibSp  Parch   Ticket  Fare Cabin  Embarked  Title  \n",
       "0  2.0      0      0   330911   0.0   NaN         2      0  \n",
       "1  3.0      1      0   363272   0.0   NaN         0      2  \n",
       "2  3.0      0      0   240276   1.0   NaN         2      0  \n",
       "3  2.0      0      0   315154   0.0   NaN         0      0  \n",
       "4  1.0      1      1  3101298   1.0   NaN         0      2  "
      ]
     },
     "execution_count": 41,
     "metadata": {},
     "output_type": "execute_result"
    }
   ],
   "source": [
    "df_2 = test_df[\"Fare\"]\n",
    "df_2 = pd.DataFrame(df_2)\n",
    "df_2.columns=[\"Fare\"]\n",
    "for i in range(418):\n",
    "    a = df_2['Fare'].get(i)\n",
    "    if int(a) <= 8:\n",
    "        df_2['Fare'][i] = 0\n",
    "    elif int(a) > 8 and a <=17:\n",
    "        df_2['Fare'][i] = 1\n",
    "    elif int(a) > 17 and a <= 27:\n",
    "        df_2['Fare'][i] = 2\n",
    "    elif int(a) >27 and a < 37:\n",
    "        df_2[\"Fare\"][i] = 3\n",
    "    else:\n",
    "        df_2['Fare'][i] = 4\n",
    "test_df[\"Fare\"] = df_2[\"Fare\"]\n",
    "test_df.head()"
   ]
  },
  {
   "cell_type": "markdown",
   "id": "3482f152",
   "metadata": {
    "papermill": {
     "duration": 0.051002,
     "end_time": "2023-07-02T08:19:28.446328",
     "exception": false,
     "start_time": "2023-07-02T08:19:28.395326",
     "status": "completed"
    },
    "tags": []
   },
   "source": [
    "<a id=\"1.2\"></a>\n",
    "# <h2 style=\"font-family: Serif; font-size: 28px; font-style: normal; font-weight: normal; text-decoration: none; text-transform: none; letter-spacing: 1px; color: #3162C7; background-color: #DAD9FF;\"><b>1.3.5</b>  Cabin</h2>\n"
   ]
  },
  {
   "cell_type": "code",
   "execution_count": 42,
   "id": "2362cf8f",
   "metadata": {
    "execution": {
     "iopub.execute_input": "2023-07-02T08:19:28.549055Z",
     "iopub.status.busy": "2023-07-02T08:19:28.548067Z",
     "iopub.status.idle": "2023-07-02T08:19:28.899053Z",
     "shell.execute_reply": "2023-07-02T08:19:28.897589Z"
    },
    "papermill": {
     "duration": 0.405659,
     "end_time": "2023-07-02T08:19:28.902277",
     "exception": false,
     "start_time": "2023-07-02T08:19:28.496618",
     "status": "completed"
    },
    "tags": []
   },
   "outputs": [
    {
     "name": "stdout",
     "output_type": "stream",
     "text": [
      "C    59\n",
      "B    47\n",
      "D    29\n",
      "E    25\n",
      "A    15\n",
      "T     1\n",
      "Name: Cabin, dtype: int64\n"
     ]
    },
    {
     "data": {
      "text/plain": [
       "<AxesSubplot:>"
      ]
     },
     "execution_count": 42,
     "metadata": {},
     "output_type": "execute_result"
    },
    {
     "data": {
      "image/png": "[encoded data removed]",
      "text/plain": [
       "<Figure size 1440x360 with 1 Axes>"
      ]
     },
     "metadata": {
      "needs_background": "light"
     },
     "output_type": "display_data"
    }
   ],
   "source": [
    "for dataset in train_test_df:\n",
    "    dataset[\"Cabin\"] = dataset[\"Cabin\"].str[:1]\n",
    "\n",
    "pclass1 = train_df[train_df[\"Pclass\"]==1][\"Cabin\"].value_counts() #1등급인 사람들의 객실수\n",
    "pclass2 = train_df[train_df[\"Pclass\"]==2][\"Cabin\"].value_counts() #2등급인 사람들의 객실수\n",
    "pclass3 = train_df[train_df[\"Pclass\"]==3][\"Cabin\"].value_counts() #3등급인 사람들의 객실수\n",
    "print(pclass1)\n",
    "\n",
    "df = pd.DataFrame([pclass1,pclass2,pclass3])\n",
    "df.index = [\"1st class\",\"2nd class\",\"3rd class\"]\n",
    "df.plot(kind=\"bar\",stacked = True, figsize=(20,5))"
   ]
  },
  {
   "cell_type": "code",
   "execution_count": 43,
   "id": "01af19e1",
   "metadata": {
    "execution": {
     "iopub.execute_input": "2023-07-02T08:19:29.005530Z",
     "iopub.status.busy": "2023-07-02T08:19:29.004118Z",
     "iopub.status.idle": "2023-07-02T08:19:29.015078Z",
     "shell.execute_reply": "2023-07-02T08:19:29.014034Z"
    },
    "papermill": {
     "duration": 0.065832,
     "end_time": "2023-07-02T08:19:29.018438",
     "exception": false,
     "start_time": "2023-07-02T08:19:28.952606",
     "status": "completed"
    },
    "tags": []
   },
   "outputs": [],
   "source": [
    "cabin_mapping = {\"A\":0,\"B\":0.4,\"C\":0.8,\"D\":1.2,\"E\":1.6,\"F\":2,\"G\":2.4,\"T\":2.8} # do mapping, \n",
    "# If the range of numbers is not similar, the larger range can be considered more important.\n",
    "# So I'm going to divide it up to a decimal place and give it a similar range.\n",
    "# it called feature scaling.\n",
    "for dataset in train_test_df:\n",
    "    dataset[\"Cabin\"] = dataset[\"Cabin\"].map(cabin_mapping)"
   ]
  },
  {
   "cell_type": "code",
   "execution_count": 44,
   "id": "24211286",
   "metadata": {
    "execution": {
     "iopub.execute_input": "2023-07-02T08:19:29.122328Z",
     "iopub.status.busy": "2023-07-02T08:19:29.121358Z",
     "iopub.status.idle": "2023-07-02T08:19:29.131961Z",
     "shell.execute_reply": "2023-07-02T08:19:29.130474Z"
    },
    "papermill": {
     "duration": 0.065913,
     "end_time": "2023-07-02T08:19:29.135032",
     "exception": false,
     "start_time": "2023-07-02T08:19:29.069119",
     "status": "completed"
    },
    "tags": []
   },
   "outputs": [],
   "source": [
    "train_df[\"Cabin\"].fillna(train_df.groupby(\"Pclass\")[\"Cabin\"].transform(\"median\"),inplace=True)\n",
    "test_df[\"Cabin\"].fillna(test_df.groupby(\"Pclass\")[\"Cabin\"].transform(\"median\"),inplace=True)"
   ]
  },
  {
   "cell_type": "markdown",
   "id": "e6092fbb",
   "metadata": {
    "papermill": {
     "duration": 0.049924,
     "end_time": "2023-07-02T08:19:29.235184",
     "exception": false,
     "start_time": "2023-07-02T08:19:29.185260",
     "status": "completed"
    },
    "tags": []
   },
   "source": [
    "<a id=\"1.2\"></a>\n",
    "# <h2 style=\"font-family: Serif; font-size: 28px; font-style: normal; font-weight: normal; text-decoration: none; text-transform: none; letter-spacing: 1px; color: #3162C7; background-color: #DAD9FF;\"><b>1.3.6</b>  Family Size</h2>"
   ]
  },
  {
   "cell_type": "code",
   "execution_count": 45,
   "id": "60c1e9d8",
   "metadata": {
    "execution": {
     "iopub.execute_input": "2023-07-02T08:19:29.339459Z",
     "iopub.status.busy": "2023-07-02T08:19:29.338520Z",
     "iopub.status.idle": "2023-07-02T08:19:29.346838Z",
     "shell.execute_reply": "2023-07-02T08:19:29.345834Z"
    },
    "papermill": {
     "duration": 0.063975,
     "end_time": "2023-07-02T08:19:29.349690",
     "exception": false,
     "start_time": "2023-07-02T08:19:29.285715",
     "status": "completed"
    },
    "tags": []
   },
   "outputs": [],
   "source": [
    "train_df[\"FamilySize\"] = train_df[\"SibSp\"] + train_df[\"Parch\"] + 1\n",
    "test_df[\"FamilySize\"] = test_df['SibSp'] + test_df[\"Parch\"] + 1"
   ]
  },
  {
   "cell_type": "code",
   "execution_count": 46,
   "id": "555f7235",
   "metadata": {
    "execution": {
     "iopub.execute_input": "2023-07-02T08:19:29.455245Z",
     "iopub.status.busy": "2023-07-02T08:19:29.454701Z",
     "iopub.status.idle": "2023-07-02T08:19:29.835671Z",
     "shell.execute_reply": "2023-07-02T08:19:29.834550Z"
    },
    "papermill": {
     "duration": 0.437718,
     "end_time": "2023-07-02T08:19:29.838412",
     "exception": false,
     "start_time": "2023-07-02T08:19:29.400694",
     "status": "completed"
    },
    "tags": []
   },
   "outputs": [
    {
     "data": {
      "text/plain": [
       "(-3.0, 11.0)"
      ]
     },
     "execution_count": 46,
     "metadata": {},
     "output_type": "execute_result"
    },
    {
     "data": {
      "image/png": "[encoded data removed]",
      "text/plain": [
       "<Figure size 915.875x216 with 1 Axes>"
      ]
     },
     "metadata": {
      "needs_background": "light"
     },
     "output_type": "display_data"
    }
   ],
   "source": [
    "facet = sns.FacetGrid(train_df,hue=\"Survived\",aspect=4)\n",
    "facet.map(sns.kdeplot,\"FamilySize\",shade=True)\n",
    "facet.set(xlim=(0,train_df[\"FamilySize\"].max()))\n",
    "facet.add_legend()\n",
    "plt.xlim(-3)"
   ]
  },
  {
   "cell_type": "code",
   "execution_count": 47,
   "id": "a5718d2b",
   "metadata": {
    "execution": {
     "iopub.execute_input": "2023-07-02T08:19:29.945444Z",
     "iopub.status.busy": "2023-07-02T08:19:29.943901Z",
     "iopub.status.idle": "2023-07-02T08:19:29.954597Z",
     "shell.execute_reply": "2023-07-02T08:19:29.953217Z"
    },
    "papermill": {
     "duration": 0.067421,
     "end_time": "2023-07-02T08:19:29.958063",
     "exception": false,
     "start_time": "2023-07-02T08:19:29.890642",
     "status": "completed"
    },
    "tags": []
   },
   "outputs": [],
   "source": [
    "family_mapping = {1:0,2:0.4,3:0.8,4:1.2,5:1.6 , 6:2 , 7:2.4 , 8:2.8, 9:3.2 , 10:3.6 , 11:4}\n",
    "for dataset in train_test_df:\n",
    "    dataset[\"FamilySize\"] = dataset[\"FamilySize\"].map(family_mapping)"
   ]
  },
  {
   "cell_type": "code",
   "execution_count": 48,
   "id": "cbd73aed",
   "metadata": {
    "execution": {
     "iopub.execute_input": "2023-07-02T08:19:30.065082Z",
     "iopub.status.busy": "2023-07-02T08:19:30.064144Z",
     "iopub.status.idle": "2023-07-02T08:19:30.088048Z",
     "shell.execute_reply": "2023-07-02T08:19:30.087085Z"
    },
    "papermill": {
     "duration": 0.081249,
     "end_time": "2023-07-02T08:19:30.090584",
     "exception": false,
     "start_time": "2023-07-02T08:19:30.009335",
     "status": "completed"
    },
    "tags": []
   },
   "outputs": [
    {
     "data": {
      "text/html": [
       "<div>\n",
       "<style scoped>\n",
       "    .dataframe tbody tr th:only-of-type {\n",
       "        vertical-align: middle;\n",
       "    }\n",
       "\n",
       "    .dataframe tbody tr th {\n",
       "        vertical-align: top;\n",
       "    }\n",
       "\n",
       "    .dataframe thead th {\n",
       "        text-align: right;\n",
       "    }\n",
       "</style>\n",
       "<table border=\"1\" class=\"dataframe\">\n",
       "  <thead>\n",
       "    <tr style=\"text-align: right;\">\n",
       "      <th></th>\n",
       "      <th>PassengerId</th>\n",
       "      <th>Survived</th>\n",
       "      <th>Pclass</th>\n",
       "      <th>Name</th>\n",
       "      <th>Sex</th>\n",
       "      <th>Age</th>\n",
       "      <th>SibSp</th>\n",
       "      <th>Parch</th>\n",
       "      <th>Ticket</th>\n",
       "      <th>Fare</th>\n",
       "      <th>Cabin</th>\n",
       "      <th>Embarked</th>\n",
       "      <th>Title</th>\n",
       "      <th>FamilySize</th>\n",
       "    </tr>\n",
       "  </thead>\n",
       "  <tbody>\n",
       "    <tr>\n",
       "      <th>0</th>\n",
       "      <td>1</td>\n",
       "      <td>0</td>\n",
       "      <td>3</td>\n",
       "      <td>Braund, Mr. Owen Harris</td>\n",
       "      <td>0</td>\n",
       "      <td>1.0</td>\n",
       "      <td>1</td>\n",
       "      <td>0</td>\n",
       "      <td>A/5 21171</td>\n",
       "      <td>0.0</td>\n",
       "      <td>2.0</td>\n",
       "      <td>0</td>\n",
       "      <td>0.0</td>\n",
       "      <td>0.4</td>\n",
       "    </tr>\n",
       "    <tr>\n",
       "      <th>1</th>\n",
       "      <td>2</td>\n",
       "      <td>1</td>\n",
       "      <td>1</td>\n",
       "      <td>Cumings, Mrs. John Bradley (Florence Briggs Th...</td>\n",
       "      <td>1</td>\n",
       "      <td>3.0</td>\n",
       "      <td>1</td>\n",
       "      <td>0</td>\n",
       "      <td>PC 17599</td>\n",
       "      <td>4.0</td>\n",
       "      <td>0.8</td>\n",
       "      <td>1</td>\n",
       "      <td>2.0</td>\n",
       "      <td>0.4</td>\n",
       "    </tr>\n",
       "    <tr>\n",
       "      <th>2</th>\n",
       "      <td>3</td>\n",
       "      <td>1</td>\n",
       "      <td>3</td>\n",
       "      <td>Heikkinen, Miss. Laina</td>\n",
       "      <td>1</td>\n",
       "      <td>1.0</td>\n",
       "      <td>0</td>\n",
       "      <td>0</td>\n",
       "      <td>STON/O2. 3101282</td>\n",
       "      <td>0.0</td>\n",
       "      <td>2.0</td>\n",
       "      <td>0</td>\n",
       "      <td>1.0</td>\n",
       "      <td>0.0</td>\n",
       "    </tr>\n",
       "    <tr>\n",
       "      <th>3</th>\n",
       "      <td>4</td>\n",
       "      <td>1</td>\n",
       "      <td>1</td>\n",
       "      <td>Futrelle, Mrs. Jacques Heath (Lily May Peel)</td>\n",
       "      <td>1</td>\n",
       "      <td>2.0</td>\n",
       "      <td>1</td>\n",
       "      <td>0</td>\n",
       "      <td>113803</td>\n",
       "      <td>4.0</td>\n",
       "      <td>0.8</td>\n",
       "      <td>0</td>\n",
       "      <td>2.0</td>\n",
       "      <td>0.4</td>\n",
       "    </tr>\n",
       "    <tr>\n",
       "      <th>4</th>\n",
       "      <td>5</td>\n",
       "      <td>0</td>\n",
       "      <td>3</td>\n",
       "      <td>Allen, Mr. William Henry</td>\n",
       "      <td>0</td>\n",
       "      <td>2.0</td>\n",
       "      <td>0</td>\n",
       "      <td>0</td>\n",
       "      <td>373450</td>\n",
       "      <td>0.0</td>\n",
       "      <td>2.0</td>\n",
       "      <td>0</td>\n",
       "      <td>0.0</td>\n",
       "      <td>0.0</td>\n",
       "    </tr>\n",
       "  </tbody>\n",
       "</table>\n",
       "</div>"
      ],
      "text/plain": [
       "   PassengerId  Survived  Pclass  \\\n",
       "0            1         0       3   \n",
       "1            2         1       1   \n",
       "2            3         1       3   \n",
       "3            4         1       1   \n",
       "4            5         0       3   \n",
       "\n",
       "                                                Name  Sex  Age  SibSp  Parch  \\\n",
       "0                            Braund, Mr. Owen Harris    0  1.0      1      0   \n",
       "1  Cumings, Mrs. John Bradley (Florence Briggs Th...    1  3.0      1      0   \n",
       "2                             Heikkinen, Miss. Laina    1  1.0      0      0   \n",
       "3       Futrelle, Mrs. Jacques Heath (Lily May Peel)    1  2.0      1      0   \n",
       "4                           Allen, Mr. William Henry    0  2.0      0      0   \n",
       "\n",
       "             Ticket  Fare  Cabin  Embarked  Title  FamilySize  \n",
       "0         A/5 21171   0.0    2.0         0    0.0         0.4  \n",
       "1          PC 17599   4.0    0.8         1    2.0         0.4  \n",
       "2  STON/O2. 3101282   0.0    2.0         0    1.0         0.0  \n",
       "3            113803   4.0    0.8         0    2.0         0.4  \n",
       "4            373450   0.0    2.0         0    0.0         0.0  "
      ]
     },
     "execution_count": 48,
     "metadata": {},
     "output_type": "execute_result"
    }
   ],
   "source": [
    "train_df.head()"
   ]
  },
  {
   "cell_type": "code",
   "execution_count": 49,
   "id": "9d84f2ba",
   "metadata": {
    "execution": {
     "iopub.execute_input": "2023-07-02T08:19:30.198783Z",
     "iopub.status.busy": "2023-07-02T08:19:30.197982Z",
     "iopub.status.idle": "2023-07-02T08:19:30.218663Z",
     "shell.execute_reply": "2023-07-02T08:19:30.217647Z"
    },
    "papermill": {
     "duration": 0.077794,
     "end_time": "2023-07-02T08:19:30.221471",
     "exception": false,
     "start_time": "2023-07-02T08:19:30.143677",
     "status": "completed"
    },
    "tags": []
   },
   "outputs": [
    {
     "data": {
      "text/html": [
       "<div>\n",
       "<style scoped>\n",
       "    .dataframe tbody tr th:only-of-type {\n",
       "        vertical-align: middle;\n",
       "    }\n",
       "\n",
       "    .dataframe tbody tr th {\n",
       "        vertical-align: top;\n",
       "    }\n",
       "\n",
       "    .dataframe thead th {\n",
       "        text-align: right;\n",
       "    }\n",
       "</style>\n",
       "<table border=\"1\" class=\"dataframe\">\n",
       "  <thead>\n",
       "    <tr style=\"text-align: right;\">\n",
       "      <th></th>\n",
       "      <th>PassengerId</th>\n",
       "      <th>Pclass</th>\n",
       "      <th>Name</th>\n",
       "      <th>Sex</th>\n",
       "      <th>Age</th>\n",
       "      <th>SibSp</th>\n",
       "      <th>Parch</th>\n",
       "      <th>Ticket</th>\n",
       "      <th>Fare</th>\n",
       "      <th>Cabin</th>\n",
       "      <th>Embarked</th>\n",
       "      <th>Title</th>\n",
       "      <th>FamilySize</th>\n",
       "    </tr>\n",
       "  </thead>\n",
       "  <tbody>\n",
       "    <tr>\n",
       "      <th>0</th>\n",
       "      <td>892</td>\n",
       "      <td>3</td>\n",
       "      <td>Kelly, Mr. James</td>\n",
       "      <td>0</td>\n",
       "      <td>2.0</td>\n",
       "      <td>0</td>\n",
       "      <td>0</td>\n",
       "      <td>330911</td>\n",
       "      <td>0.0</td>\n",
       "      <td>2.0</td>\n",
       "      <td>2</td>\n",
       "      <td>0</td>\n",
       "      <td>0.0</td>\n",
       "    </tr>\n",
       "    <tr>\n",
       "      <th>1</th>\n",
       "      <td>893</td>\n",
       "      <td>3</td>\n",
       "      <td>Wilkes, Mrs. James (Ellen Needs)</td>\n",
       "      <td>1</td>\n",
       "      <td>3.0</td>\n",
       "      <td>1</td>\n",
       "      <td>0</td>\n",
       "      <td>363272</td>\n",
       "      <td>0.0</td>\n",
       "      <td>2.0</td>\n",
       "      <td>0</td>\n",
       "      <td>2</td>\n",
       "      <td>0.4</td>\n",
       "    </tr>\n",
       "    <tr>\n",
       "      <th>2</th>\n",
       "      <td>894</td>\n",
       "      <td>2</td>\n",
       "      <td>Myles, Mr. Thomas Francis</td>\n",
       "      <td>0</td>\n",
       "      <td>3.0</td>\n",
       "      <td>0</td>\n",
       "      <td>0</td>\n",
       "      <td>240276</td>\n",
       "      <td>1.0</td>\n",
       "      <td>2.0</td>\n",
       "      <td>2</td>\n",
       "      <td>0</td>\n",
       "      <td>0.0</td>\n",
       "    </tr>\n",
       "    <tr>\n",
       "      <th>3</th>\n",
       "      <td>895</td>\n",
       "      <td>3</td>\n",
       "      <td>Wirz, Mr. Albert</td>\n",
       "      <td>0</td>\n",
       "      <td>2.0</td>\n",
       "      <td>0</td>\n",
       "      <td>0</td>\n",
       "      <td>315154</td>\n",
       "      <td>0.0</td>\n",
       "      <td>2.0</td>\n",
       "      <td>0</td>\n",
       "      <td>0</td>\n",
       "      <td>0.0</td>\n",
       "    </tr>\n",
       "    <tr>\n",
       "      <th>4</th>\n",
       "      <td>896</td>\n",
       "      <td>3</td>\n",
       "      <td>Hirvonen, Mrs. Alexander (Helga E Lindqvist)</td>\n",
       "      <td>1</td>\n",
       "      <td>1.0</td>\n",
       "      <td>1</td>\n",
       "      <td>1</td>\n",
       "      <td>3101298</td>\n",
       "      <td>1.0</td>\n",
       "      <td>2.0</td>\n",
       "      <td>0</td>\n",
       "      <td>2</td>\n",
       "      <td>0.8</td>\n",
       "    </tr>\n",
       "  </tbody>\n",
       "</table>\n",
       "</div>"
      ],
      "text/plain": [
       "   PassengerId  Pclass                                          Name  Sex  \\\n",
       "0          892       3                              Kelly, Mr. James    0   \n",
       "1          893       3              Wilkes, Mrs. James (Ellen Needs)    1   \n",
       "2          894       2                     Myles, Mr. Thomas Francis    0   \n",
       "3          895       3                              Wirz, Mr. Albert    0   \n",
       "4          896       3  Hirvonen, Mrs. Alexander (Helga E Lindqvist)    1   \n",
       "\n",
       "   Age  SibSp  Parch   Ticket  Fare  Cabin  Embarked  Title  FamilySize  \n",
       "0  2.0      0      0   330911   0.0    2.0         2      0         0.0  \n",
       "1  3.0      1      0   363272   0.0    2.0         0      2         0.4  \n",
       "2  3.0      0      0   240276   1.0    2.0         2      0         0.0  \n",
       "3  2.0      0      0   315154   0.0    2.0         0      0         0.0  \n",
       "4  1.0      1      1  3101298   1.0    2.0         0      2         0.8  "
      ]
     },
     "execution_count": 49,
     "metadata": {},
     "output_type": "execute_result"
    }
   ],
   "source": [
    "test_df.head()"
   ]
  },
  {
   "cell_type": "markdown",
   "id": "04c13499",
   "metadata": {
    "papermill": {
     "duration": 0.051331,
     "end_time": "2023-07-02T08:19:30.324705",
     "exception": false,
     "start_time": "2023-07-02T08:19:30.273374",
     "status": "completed"
    },
    "tags": []
   },
   "source": [
    "<a id=\"1.2\"></a>\n",
    "# <h2 style=\"font-family: Serif; font-size: 28px; font-style: normal; font-weight: normal; text-decoration: none; text-transform: none; letter-spacing: 1px; color: #3162C7; background-color: #DAD9FF;\"><b>Set the training set to match the test set</b>\n"
   ]
  },
  {
   "cell_type": "code",
   "execution_count": 50,
   "id": "a08d1383",
   "metadata": {
    "execution": {
     "iopub.execute_input": "2023-07-02T08:19:30.433275Z",
     "iopub.status.busy": "2023-07-02T08:19:30.432393Z",
     "iopub.status.idle": "2023-07-02T08:19:30.442698Z",
     "shell.execute_reply": "2023-07-02T08:19:30.441542Z"
    },
    "papermill": {
     "duration": 0.068156,
     "end_time": "2023-07-02T08:19:30.445683",
     "exception": false,
     "start_time": "2023-07-02T08:19:30.377527",
     "status": "completed"
    },
    "tags": []
   },
   "outputs": [],
   "source": [
    "drop_list = [\"Ticket\",\"SibSp\",\"Parch\",\"Name\"]\n",
    "train_df = train_df.drop(drop_list, axis=1)\n",
    "test_df = test_df.drop(drop_list, axis=1)\n",
    "train_df = train_df.drop([\"PassengerId\"], axis=1)"
   ]
  },
  {
   "cell_type": "code",
   "execution_count": 51,
   "id": "5a05f0c3",
   "metadata": {
    "execution": {
     "iopub.execute_input": "2023-07-02T08:19:30.553490Z",
     "iopub.status.busy": "2023-07-02T08:19:30.552960Z",
     "iopub.status.idle": "2023-07-02T08:19:30.822415Z",
     "shell.execute_reply": "2023-07-02T08:19:30.821105Z"
    },
    "papermill": {
     "duration": 0.327177,
     "end_time": "2023-07-02T08:19:30.825933",
     "exception": false,
     "start_time": "2023-07-02T08:19:30.498756",
     "status": "completed"
    },
    "tags": []
   },
   "outputs": [
    {
     "data": {
      "text/plain": [
       "Title\n",
       "False    891\n",
       "dtype: int64"
      ]
     },
     "execution_count": 51,
     "metadata": {},
     "output_type": "execute_result"
    }
   ],
   "source": [
    "train_data = train_df.drop(\"Survived\", axis = 1)\n",
    "target = train_df[\"Survived\"]\n",
    "\n",
    "train_data.fillna(0)\n",
    "pd.DataFrame(train_data.isnull().value_counts())\n",
    "a = pd.DataFrame(train_data[\"Title\"]).fillna(0)\n",
    "pd.DataFrame(train_data[\"Title\"]).isnull().value_counts()\n",
    "a.isnull().value_counts()\n",
    "train_data[\"Title\"] = a[\"Title\"]\n",
    "pd.DataFrame(train_data[\"Title\"]).isnull().value_counts()\n"
   ]
  },
  {
   "cell_type": "code",
   "execution_count": 52,
   "id": "421701f9",
   "metadata": {
    "execution": {
     "iopub.execute_input": "2023-07-02T08:19:30.933592Z",
     "iopub.status.busy": "2023-07-02T08:19:30.932212Z",
     "iopub.status.idle": "2023-07-02T08:19:30.954707Z",
     "shell.execute_reply": "2023-07-02T08:19:30.953596Z"
    },
    "papermill": {
     "duration": 0.07945,
     "end_time": "2023-07-02T08:19:30.957743",
     "exception": false,
     "start_time": "2023-07-02T08:19:30.878293",
     "status": "completed"
    },
    "tags": []
   },
   "outputs": [
    {
     "data": {
      "text/html": [
       "<div>\n",
       "<style scoped>\n",
       "    .dataframe tbody tr th:only-of-type {\n",
       "        vertical-align: middle;\n",
       "    }\n",
       "\n",
       "    .dataframe tbody tr th {\n",
       "        vertical-align: top;\n",
       "    }\n",
       "\n",
       "    .dataframe thead th {\n",
       "        text-align: right;\n",
       "    }\n",
       "</style>\n",
       "<table border=\"1\" class=\"dataframe\">\n",
       "  <thead>\n",
       "    <tr style=\"text-align: right;\">\n",
       "      <th></th>\n",
       "      <th>Survived</th>\n",
       "      <th>Pclass</th>\n",
       "      <th>Sex</th>\n",
       "      <th>Age</th>\n",
       "      <th>Fare</th>\n",
       "      <th>Cabin</th>\n",
       "      <th>Embarked</th>\n",
       "      <th>Title</th>\n",
       "      <th>FamilySize</th>\n",
       "    </tr>\n",
       "  </thead>\n",
       "  <tbody>\n",
       "    <tr>\n",
       "      <th>0</th>\n",
       "      <td>0</td>\n",
       "      <td>3</td>\n",
       "      <td>0</td>\n",
       "      <td>1.0</td>\n",
       "      <td>0.0</td>\n",
       "      <td>2.0</td>\n",
       "      <td>0</td>\n",
       "      <td>0.0</td>\n",
       "      <td>0.4</td>\n",
       "    </tr>\n",
       "    <tr>\n",
       "      <th>1</th>\n",
       "      <td>1</td>\n",
       "      <td>1</td>\n",
       "      <td>1</td>\n",
       "      <td>3.0</td>\n",
       "      <td>4.0</td>\n",
       "      <td>0.8</td>\n",
       "      <td>1</td>\n",
       "      <td>2.0</td>\n",
       "      <td>0.4</td>\n",
       "    </tr>\n",
       "    <tr>\n",
       "      <th>2</th>\n",
       "      <td>1</td>\n",
       "      <td>3</td>\n",
       "      <td>1</td>\n",
       "      <td>1.0</td>\n",
       "      <td>0.0</td>\n",
       "      <td>2.0</td>\n",
       "      <td>0</td>\n",
       "      <td>1.0</td>\n",
       "      <td>0.0</td>\n",
       "    </tr>\n",
       "    <tr>\n",
       "      <th>3</th>\n",
       "      <td>1</td>\n",
       "      <td>1</td>\n",
       "      <td>1</td>\n",
       "      <td>2.0</td>\n",
       "      <td>4.0</td>\n",
       "      <td>0.8</td>\n",
       "      <td>0</td>\n",
       "      <td>2.0</td>\n",
       "      <td>0.4</td>\n",
       "    </tr>\n",
       "    <tr>\n",
       "      <th>4</th>\n",
       "      <td>0</td>\n",
       "      <td>3</td>\n",
       "      <td>0</td>\n",
       "      <td>2.0</td>\n",
       "      <td>0.0</td>\n",
       "      <td>2.0</td>\n",
       "      <td>0</td>\n",
       "      <td>0.0</td>\n",
       "      <td>0.0</td>\n",
       "    </tr>\n",
       "  </tbody>\n",
       "</table>\n",
       "</div>"
      ],
      "text/plain": [
       "   Survived  Pclass  Sex  Age  Fare  Cabin  Embarked  Title  FamilySize\n",
       "0         0       3    0  1.0   0.0    2.0         0    0.0         0.4\n",
       "1         1       1    1  3.0   4.0    0.8         1    2.0         0.4\n",
       "2         1       3    1  1.0   0.0    2.0         0    1.0         0.0\n",
       "3         1       1    1  2.0   4.0    0.8         0    2.0         0.4\n",
       "4         0       3    0  2.0   0.0    2.0         0    0.0         0.0"
      ]
     },
     "execution_count": 52,
     "metadata": {},
     "output_type": "execute_result"
    }
   ],
   "source": [
    "train_df.head()"
   ]
  },
  {
   "cell_type": "code",
   "execution_count": 53,
   "id": "2270640a",
   "metadata": {
    "execution": {
     "iopub.execute_input": "2023-07-02T08:19:31.065046Z",
     "iopub.status.busy": "2023-07-02T08:19:31.064087Z",
     "iopub.status.idle": "2023-07-02T08:19:31.084324Z",
     "shell.execute_reply": "2023-07-02T08:19:31.083279Z"
    },
    "papermill": {
     "duration": 0.076827,
     "end_time": "2023-07-02T08:19:31.086916",
     "exception": false,
     "start_time": "2023-07-02T08:19:31.010089",
     "status": "completed"
    },
    "tags": []
   },
   "outputs": [
    {
     "data": {
      "text/html": [
       "<div>\n",
       "<style scoped>\n",
       "    .dataframe tbody tr th:only-of-type {\n",
       "        vertical-align: middle;\n",
       "    }\n",
       "\n",
       "    .dataframe tbody tr th {\n",
       "        vertical-align: top;\n",
       "    }\n",
       "\n",
       "    .dataframe thead th {\n",
       "        text-align: right;\n",
       "    }\n",
       "</style>\n",
       "<table border=\"1\" class=\"dataframe\">\n",
       "  <thead>\n",
       "    <tr style=\"text-align: right;\">\n",
       "      <th></th>\n",
       "      <th>PassengerId</th>\n",
       "      <th>Pclass</th>\n",
       "      <th>Sex</th>\n",
       "      <th>Age</th>\n",
       "      <th>Fare</th>\n",
       "      <th>Cabin</th>\n",
       "      <th>Embarked</th>\n",
       "      <th>Title</th>\n",
       "      <th>FamilySize</th>\n",
       "    </tr>\n",
       "  </thead>\n",
       "  <tbody>\n",
       "    <tr>\n",
       "      <th>0</th>\n",
       "      <td>892</td>\n",
       "      <td>3</td>\n",
       "      <td>0</td>\n",
       "      <td>2.0</td>\n",
       "      <td>0.0</td>\n",
       "      <td>2.0</td>\n",
       "      <td>2</td>\n",
       "      <td>0</td>\n",
       "      <td>0.0</td>\n",
       "    </tr>\n",
       "    <tr>\n",
       "      <th>1</th>\n",
       "      <td>893</td>\n",
       "      <td>3</td>\n",
       "      <td>1</td>\n",
       "      <td>3.0</td>\n",
       "      <td>0.0</td>\n",
       "      <td>2.0</td>\n",
       "      <td>0</td>\n",
       "      <td>2</td>\n",
       "      <td>0.4</td>\n",
       "    </tr>\n",
       "    <tr>\n",
       "      <th>2</th>\n",
       "      <td>894</td>\n",
       "      <td>2</td>\n",
       "      <td>0</td>\n",
       "      <td>3.0</td>\n",
       "      <td>1.0</td>\n",
       "      <td>2.0</td>\n",
       "      <td>2</td>\n",
       "      <td>0</td>\n",
       "      <td>0.0</td>\n",
       "    </tr>\n",
       "    <tr>\n",
       "      <th>3</th>\n",
       "      <td>895</td>\n",
       "      <td>3</td>\n",
       "      <td>0</td>\n",
       "      <td>2.0</td>\n",
       "      <td>0.0</td>\n",
       "      <td>2.0</td>\n",
       "      <td>0</td>\n",
       "      <td>0</td>\n",
       "      <td>0.0</td>\n",
       "    </tr>\n",
       "    <tr>\n",
       "      <th>4</th>\n",
       "      <td>896</td>\n",
       "      <td>3</td>\n",
       "      <td>1</td>\n",
       "      <td>1.0</td>\n",
       "      <td>1.0</td>\n",
       "      <td>2.0</td>\n",
       "      <td>0</td>\n",
       "      <td>2</td>\n",
       "      <td>0.8</td>\n",
       "    </tr>\n",
       "  </tbody>\n",
       "</table>\n",
       "</div>"
      ],
      "text/plain": [
       "   PassengerId  Pclass  Sex  Age  Fare  Cabin  Embarked  Title  FamilySize\n",
       "0          892       3    0  2.0   0.0    2.0         2      0         0.0\n",
       "1          893       3    1  3.0   0.0    2.0         0      2         0.4\n",
       "2          894       2    0  3.0   1.0    2.0         2      0         0.0\n",
       "3          895       3    0  2.0   0.0    2.0         0      0         0.0\n",
       "4          896       3    1  1.0   1.0    2.0         0      2         0.8"
      ]
     },
     "execution_count": 53,
     "metadata": {},
     "output_type": "execute_result"
    }
   ],
   "source": [
    "test_df.head()"
   ]
  },
  {
   "cell_type": "code",
   "execution_count": 54,
   "id": "e0bd9b73",
   "metadata": {
    "execution": {
     "iopub.execute_input": "2023-07-02T08:19:31.195355Z",
     "iopub.status.busy": "2023-07-02T08:19:31.194437Z",
     "iopub.status.idle": "2023-07-02T08:19:31.201126Z",
     "shell.execute_reply": "2023-07-02T08:19:31.200193Z"
    },
    "papermill": {
     "duration": 0.063947,
     "end_time": "2023-07-02T08:19:31.203911",
     "exception": false,
     "start_time": "2023-07-02T08:19:31.139964",
     "status": "completed"
    },
    "tags": []
   },
   "outputs": [],
   "source": [
    "test_data = test_df.drop(\"PassengerId\", axis = 1).copy()"
   ]
  },
  {
   "cell_type": "markdown",
   "id": "6dff19c1",
   "metadata": {
    "papermill": {
     "duration": 0.05293,
     "end_time": "2023-07-02T08:19:31.310128",
     "exception": false,
     "start_time": "2023-07-02T08:19:31.257198",
     "status": "completed"
    },
    "tags": []
   },
   "source": [
    "<a id=\"1\"></a>\n",
    "# <div style=\"padding:20px;color:white;margin:0;font-size:35px;font-family:Serif;text-align:left;display:fill;border-radius:5px;background-color:#030066;overflow:hidden\"><b>📖2. Machine Learning</b></div>"
   ]
  },
  {
   "cell_type": "markdown",
   "id": "1513ec6c",
   "metadata": {
    "papermill": {
     "duration": 0.052588,
     "end_time": "2023-07-02T08:19:31.415535",
     "exception": false,
     "start_time": "2023-07-02T08:19:31.362947",
     "status": "completed"
    },
    "tags": []
   },
   "source": [
    "<a id=\"1.2\"></a>\n",
    "# <h2 style=\"font-family: Serif; font-size: 28px; font-style: normal; font-weight: normal; text-decoration: none; text-transform: none; letter-spacing: 1px; color: #3162C7; background-color: #DAD9FF;\"><b>Preprocess - scaling</b>\n"
   ]
  },
  {
   "cell_type": "code",
   "execution_count": 55,
   "id": "dfb5e008",
   "metadata": {
    "execution": {
     "iopub.execute_input": "2023-07-02T08:19:31.527569Z",
     "iopub.status.busy": "2023-07-02T08:19:31.526740Z",
     "iopub.status.idle": "2023-07-02T08:19:31.969367Z",
     "shell.execute_reply": "2023-07-02T08:19:31.967903Z"
    },
    "papermill": {
     "duration": 0.501553,
     "end_time": "2023-07-02T08:19:31.972889",
     "exception": false,
     "start_time": "2023-07-02T08:19:31.471336",
     "status": "completed"
    },
    "tags": []
   },
   "outputs": [],
   "source": [
    "# import Scaling Model\n",
    "from sklearn.preprocessing import StandardScaler #All features have a normal distribution of 0 mean and 1 variance.\n",
    "from sklearn.preprocessing import MinMaxScaler #Makes all features have data values between 0 and 1.\n",
    "from sklearn.preprocessing import MaxAbsScaler # Makes the absolute value of all features lie between 0 and 1.\n",
    "from sklearn.preprocessing import RobustScaler\n",
    "#RobustScaler is similar to StandardScaler.\n",
    "# However, StandardScaler uses mean and variance, while RobustScaler uses median and quartile.\n",
    "from sklearn.preprocessing import Normalizer\n",
    "#The previous four methods use statistics for each feature.\n",
    "\n",
    "#import Classifier Modules\n",
    "from sklearn.neighbors import KNeighborsClassifier\n",
    "from sklearn.tree import DecisionTreeClassifier\n",
    "from sklearn.ensemble import RandomForestClassifier\n",
    "from sklearn.naive_bayes import GaussianNB\n",
    "from sklearn.svm import SVC\n",
    "\n",
    "# import tuing model\n",
    "from sklearn.model_selection import KFold\n",
    "from sklearn.model_selection import cross_val_score\n",
    "from sklearn.ensemble import GradientBoostingClassifier\n",
    "\n",
    "\n",
    "k_fold = KFold(n_splits = 9, shuffle=True, random_state = 0)"
   ]
  },
  {
   "cell_type": "code",
   "execution_count": 56,
   "id": "02cc1d63",
   "metadata": {
    "execution": {
     "iopub.execute_input": "2023-07-02T08:19:32.082737Z",
     "iopub.status.busy": "2023-07-02T08:19:32.082185Z",
     "iopub.status.idle": "2023-07-02T08:19:38.772975Z",
     "shell.execute_reply": "2023-07-02T08:19:38.771557Z"
    },
    "papermill": {
     "duration": 6.750382,
     "end_time": "2023-07-02T08:19:38.776365",
     "exception": false,
     "start_time": "2023-07-02T08:19:32.025983",
     "status": "completed"
    },
    "tags": []
   },
   "outputs": [],
   "source": [
    "# Scaling Model\n",
    "ssc = StandardScaler()\n",
    "mms = MinMaxScaler()\n",
    "mas = MaxAbsScaler()\n",
    "rsc = RobustScaler()\n",
    "\n",
    "scl_list = [ssc,mms,mas,rsc]\n",
    "\n",
    "# Machine Learning Model\n",
    "knn = KNeighborsClassifier(n_neighbors = 13) #KNN\n",
    "dtc = DecisionTreeClassifier() # Decision Tree\n",
    "rfc = RandomForestClassifier(n_estimators=13) #Random Forest\n",
    "gnb = GaussianNB() # Naive Bayes\n",
    "svc = SVC() #SVC\n",
    "gbc = GradientBoostingClassifier()\n",
    "clf_list = [knn,dtc,rfc,gnb,svc,gbc]\n",
    "\n",
    "score_list = []\n",
    "score_name = []\n",
    "\n",
    "for scl in scl_list:# at first, scale data\n",
    "    scl.fit(train_data)\n",
    "    train_data = scl.transform(train_data)\n",
    "    test_data = scl.transform(test_data)\n",
    "    for clf in clf_list: # based on scaled data, make machine learning model\n",
    "        scoring = \"accuracy\"\n",
    "        score = cross_val_score(clf, train_data, target, cv=k_fold, n_jobs=1, scoring = scoring)\n",
    "        score_name.append(str(scl)+\":\"+str(clf))\n",
    "        score = round(np.mean(score)*100,2)\n",
    "        score_list.append(score)        "
   ]
  },
  {
   "cell_type": "markdown",
   "id": "9ec83e39",
   "metadata": {
    "papermill": {
     "duration": 0.053337,
     "end_time": "2023-07-02T08:19:38.882720",
     "exception": false,
     "start_time": "2023-07-02T08:19:38.829383",
     "status": "completed"
    },
    "tags": []
   },
   "source": [
    "<a id=\"1.2\"></a>\n",
    "# <h2 style=\"font-family: Serif; font-size: 28px; font-style: normal; font-weight: normal; text-decoration: none; text-transform: none; letter-spacing: 1px; color: #3162C7; background-color: #DAD9FF;\"><b>Check each type of <mark>Scaling method</mark> and <mark>Machine learning</mark> model's Score</b>\n"
   ]
  },
  {
   "cell_type": "code",
   "execution_count": 57,
   "id": "8f4764ad",
   "metadata": {
    "execution": {
     "iopub.execute_input": "2023-07-02T08:19:38.991734Z",
     "iopub.status.busy": "2023-07-02T08:19:38.991142Z",
     "iopub.status.idle": "2023-07-02T08:19:39.749862Z",
     "shell.execute_reply": "2023-07-02T08:19:39.748412Z"
    },
    "papermill": {
     "duration": 0.81687,
     "end_time": "2023-07-02T08:19:39.752919",
     "exception": false,
     "start_time": "2023-07-02T08:19:38.936049",
     "status": "completed"
    },
    "tags": []
   },
   "outputs": [
    {
     "data": {
      "text/plain": [
       "(60.0, 86.856)"
      ]
     },
     "execution_count": 57,
     "metadata": {},
     "output_type": "execute_result"
    },
    {
     "data": {
      "image/png": "[encoded data removed]",
      "text/plain": [
       "<Figure size 1440x576 with 1 Axes>"
      ]
     },
     "metadata": {
      "needs_background": "light"
     },
     "output_type": "display_data"
    }
   ],
   "source": [
    "plt.figure(figsize=(20,8))\n",
    "x = score_name\n",
    "y = score_list\n",
    "for i in range(len(x)):\n",
    "    height = y[i]\n",
    "    plt.text(x[i], height + 0.25, '%.1f' %height, ha='center', va='bottom', size = 12)\n",
    "plt.bar(x, y,color='#e35f62')\n",
    "plt.ylim(60,)"
   ]
  },
  {
   "cell_type": "markdown",
   "id": "684e549c",
   "metadata": {
    "papermill": {
     "duration": 0.053494,
     "end_time": "2023-07-02T08:19:39.860348",
     "exception": false,
     "start_time": "2023-07-02T08:19:39.806854",
     "status": "completed"
    },
    "tags": []
   },
   "source": [
    "### Check out what types of method get the score higher than <mark>80</mark>?"
   ]
  },
  {
   "cell_type": "code",
   "execution_count": 58,
   "id": "aba6aa28",
   "metadata": {
    "execution": {
     "iopub.execute_input": "2023-07-02T08:19:39.970892Z",
     "iopub.status.busy": "2023-07-02T08:19:39.970321Z",
     "iopub.status.idle": "2023-07-02T08:19:40.512096Z",
     "shell.execute_reply": "2023-07-02T08:19:40.510878Z"
    },
    "papermill": {
     "duration": 0.601258,
     "end_time": "2023-07-02T08:19:40.515259",
     "exception": false,
     "start_time": "2023-07-02T08:19:39.914001",
     "status": "completed"
    },
    "tags": []
   },
   "outputs": [
    {
     "name": "stdout",
     "output_type": "stream",
     "text": [
      "score  type                                                    \n",
      "80.70  RobustScaler():RandomForestClassifier(n_estimators=13)      1\n",
      "80.81  MinMaxScaler():RandomForestClassifier(n_estimators=13)      1\n",
      "81.14  StandardScaler():SVC()                                      1\n",
      "81.26  StandardScaler():KNeighborsClassifier(n_neighbors=13)       1\n",
      "81.37  MaxAbsScaler():KNeighborsClassifier(n_neighbors=13)         1\n",
      "81.48  StandardScaler():RandomForestClassifier(n_estimators=13)    1\n",
      "81.59  MaxAbsScaler():SVC()                                        1\n",
      "       MinMaxScaler():KNeighborsClassifier(n_neighbors=13)         1\n",
      "       MinMaxScaler():SVC()                                        1\n",
      "81.82  StandardScaler():GradientBoostingClassifier()               1\n",
      "81.93  MaxAbsScaler():GradientBoostingClassifier()                 1\n",
      "       MaxAbsScaler():RandomForestClassifier(n_estimators=13)      1\n",
      "       RobustScaler():GradientBoostingClassifier()                 1\n",
      "82.04  MinMaxScaler():GradientBoostingClassifier()                 1\n",
      "       RobustScaler():KNeighborsClassifier(n_neighbors=13)         1\n",
      "82.72  RobustScaler():SVC()                                        1\n",
      "dtype: int64\n"
     ]
    },
    {
     "data": {
      "text/plain": [
       "(80.0, 83.0)"
      ]
     },
     "execution_count": 58,
     "metadata": {},
     "output_type": "execute_result"
    },
    {
     "data": {
      "image/png": "[encoded data removed]",
      "text/plain": [
       "<Figure size 1440x576 with 1 Axes>"
      ]
     },
     "metadata": {
      "needs_background": "light"
     },
     "output_type": "display_data"
    }
   ],
   "source": [
    "# make a new dataframe which is filled with model type and its score\n",
    "ma_result = pd.DataFrame()\n",
    "ma_result.insert(0,\"type\",x)\n",
    "ma_result.insert(0,\"score\",y)\n",
    "ma_res_score = []\n",
    "ma_res_name = []\n",
    "\n",
    "# seperate score higher than 80.\n",
    "for i in range(len(ma_result[ma_result[\"score\"] >= 80].value_counts().index)):\n",
    "    ma_res_score.append(ma_result[ma_result[\"score\"] >= 80].value_counts().index[i][0])\n",
    "    ma_res_name.append(ma_result[ma_result[\"score\"] >= 80].value_counts().index[i][1])\n",
    "print(ma_result[ma_result[\"score\"] >= 80].value_counts())\n",
    "x = ma_res_name\n",
    "y = ma_res_score\n",
    "\n",
    "# visualization\n",
    "plt.figure(figsize=(20,8))\n",
    "for i in range(len(x)):\n",
    "    height = y[i]\n",
    "    plt.text(x[i], height, '%.1f' %height, ha='center', va='bottom', size = 12)\n",
    "\n",
    "plt.bar(ma_res_name,ma_res_score,color='#e35f62')\n",
    "plt.ylim(80,83)"
   ]
  },
  {
   "cell_type": "markdown",
   "id": "3af7ff7a",
   "metadata": {
    "papermill": {
     "duration": 0.055037,
     "end_time": "2023-07-02T08:19:40.625508",
     "exception": false,
     "start_time": "2023-07-02T08:19:40.570471",
     "status": "completed"
    },
    "tags": []
   },
   "source": [
    "<div style=\"font-family:Serif;background-color:#DAD9FF; padding:30px; font-size:17px\">\n",
    "\n",
    "<b>The score of the machine learning model <mark>SVC</mark>, which was scaled using the <mark>Robust scaling model</mark>, recorded the highest score with <mark>82.7</mark>. <br> So I choose this way in machine learning.</b>"
   ]
  },
  {
   "cell_type": "code",
   "execution_count": 59,
   "id": "3849ad55",
   "metadata": {
    "execution": {
     "iopub.execute_input": "2023-07-02T08:19:40.738824Z",
     "iopub.status.busy": "2023-07-02T08:19:40.737517Z",
     "iopub.status.idle": "2023-07-02T08:19:40.769914Z",
     "shell.execute_reply": "2023-07-02T08:19:40.768586Z"
    },
    "papermill": {
     "duration": 0.092409,
     "end_time": "2023-07-02T08:19:40.772998",
     "exception": false,
     "start_time": "2023-07-02T08:19:40.680589",
     "status": "completed"
    },
    "tags": []
   },
   "outputs": [
    {
     "data": {
      "text/html": [
       "<div>\n",
       "<style scoped>\n",
       "    .dataframe tbody tr th:only-of-type {\n",
       "        vertical-align: middle;\n",
       "    }\n",
       "\n",
       "    .dataframe tbody tr th {\n",
       "        vertical-align: top;\n",
       "    }\n",
       "\n",
       "    .dataframe thead th {\n",
       "        text-align: right;\n",
       "    }\n",
       "</style>\n",
       "<table border=\"1\" class=\"dataframe\">\n",
       "  <thead>\n",
       "    <tr style=\"text-align: right;\">\n",
       "      <th></th>\n",
       "      <th>Pclass</th>\n",
       "      <th>Sex</th>\n",
       "      <th>Age</th>\n",
       "      <th>Fare</th>\n",
       "      <th>Cabin</th>\n",
       "      <th>Embarked</th>\n",
       "      <th>Title</th>\n",
       "      <th>FamilySize</th>\n",
       "    </tr>\n",
       "  </thead>\n",
       "  <tbody>\n",
       "    <tr>\n",
       "      <th>0</th>\n",
       "      <td>3</td>\n",
       "      <td>0</td>\n",
       "      <td>1.0</td>\n",
       "      <td>0.0</td>\n",
       "      <td>2.0</td>\n",
       "      <td>0</td>\n",
       "      <td>0.0</td>\n",
       "      <td>0.4</td>\n",
       "    </tr>\n",
       "    <tr>\n",
       "      <th>1</th>\n",
       "      <td>1</td>\n",
       "      <td>1</td>\n",
       "      <td>3.0</td>\n",
       "      <td>4.0</td>\n",
       "      <td>0.8</td>\n",
       "      <td>1</td>\n",
       "      <td>2.0</td>\n",
       "      <td>0.4</td>\n",
       "    </tr>\n",
       "    <tr>\n",
       "      <th>2</th>\n",
       "      <td>3</td>\n",
       "      <td>1</td>\n",
       "      <td>1.0</td>\n",
       "      <td>0.0</td>\n",
       "      <td>2.0</td>\n",
       "      <td>0</td>\n",
       "      <td>1.0</td>\n",
       "      <td>0.0</td>\n",
       "    </tr>\n",
       "    <tr>\n",
       "      <th>3</th>\n",
       "      <td>1</td>\n",
       "      <td>1</td>\n",
       "      <td>2.0</td>\n",
       "      <td>4.0</td>\n",
       "      <td>0.8</td>\n",
       "      <td>0</td>\n",
       "      <td>2.0</td>\n",
       "      <td>0.4</td>\n",
       "    </tr>\n",
       "    <tr>\n",
       "      <th>4</th>\n",
       "      <td>3</td>\n",
       "      <td>0</td>\n",
       "      <td>2.0</td>\n",
       "      <td>0.0</td>\n",
       "      <td>2.0</td>\n",
       "      <td>0</td>\n",
       "      <td>0.0</td>\n",
       "      <td>0.0</td>\n",
       "    </tr>\n",
       "  </tbody>\n",
       "</table>\n",
       "</div>"
      ],
      "text/plain": [
       "   Pclass  Sex  Age  Fare  Cabin  Embarked  Title  FamilySize\n",
       "0       3    0  1.0   0.0    2.0         0    0.0         0.4\n",
       "1       1    1  3.0   4.0    0.8         1    2.0         0.4\n",
       "2       3    1  1.0   0.0    2.0         0    1.0         0.0\n",
       "3       1    1  2.0   4.0    0.8         0    2.0         0.4\n",
       "4       3    0  2.0   0.0    2.0         0    0.0         0.0"
      ]
     },
     "execution_count": 59,
     "metadata": {},
     "output_type": "execute_result"
    }
   ],
   "source": [
    "train_data = train_df.drop(\"Survived\", axis = 1)\n",
    "target = train_df[\"Survived\"]\n",
    "\n",
    "train_data.fillna(0)\n",
    "pd.DataFrame(train_data.isnull().value_counts())\n",
    "a = pd.DataFrame(train_data[\"Title\"]).fillna(0)\n",
    "a.isnull().value_counts()\n",
    "train_data[\"Title\"] = a[\"Title\"]\n",
    "train_data.head()"
   ]
  },
  {
   "cell_type": "code",
   "execution_count": 60,
   "id": "869c4132",
   "metadata": {
    "execution": {
     "iopub.execute_input": "2023-07-02T08:19:40.886091Z",
     "iopub.status.busy": "2023-07-02T08:19:40.885569Z",
     "iopub.status.idle": "2023-07-02T08:19:41.204689Z",
     "shell.execute_reply": "2023-07-02T08:19:41.203306Z"
    },
    "papermill": {
     "duration": 0.379157,
     "end_time": "2023-07-02T08:19:41.207978",
     "exception": false,
     "start_time": "2023-07-02T08:19:40.828821",
     "status": "completed"
    },
    "tags": []
   },
   "outputs": [
    {
     "name": "stderr",
     "output_type": "stream",
     "text": [
      "/opt/conda/lib/python3.7/site-packages/sklearn/base.py:451: UserWarning:\n",
      "\n",
      "X does not have valid feature names, but RobustScaler was fitted with feature names\n",
      "\n"
     ]
    },
    {
     "name": "stdout",
     "output_type": "stream",
     "text": [
      "score:  82.72\n",
      "prediction:  [0 1 0 0 1 0 1 0 1 0 0 0 1 0 1 1 0 0 1 1 0 1 1 0 1 0 1 0 0 0 0 0 1 0 0 0 1\n",
      " 1 0 0 0 0 0 1 1 0 0 0 1 1 0 0 1 1 0 0 0 0 0 1 0 0 0 1 1 1 1 0 0 1 1 0 1 0\n",
      " 1 0 0 1 0 1 1 0 0 0 0 0 1 1 1 1 1 0 1 0 0 0 1 0 1 0 1 0 0 0 1 0 0 0 0 0 0\n",
      " 1 1 1 1 0 0 1 0 1 1 0 1 0 0 1 0 1 0 0 0 1 0 0 0 0 0 0 1 0 0 1 0 0 0 0 0 0\n",
      " 0 0 1 0 0 1 0 0 1 1 0 1 1 1 1 0 0 1 0 0 1 1 0 0 0 0 0 1 1 0 1 1 0 0 1 0 1\n",
      " 0 1 0 0 0 0 0 1 0 1 0 1 1 0 0 1 1 1 1 0 0 1 0 1 0 0 0 0 1 0 0 1 0 1 0 1 0\n",
      " 1 0 1 0 0 1 0 0 0 1 0 0 0 0 0 0 1 1 1 1 0 0 1 0 1 0 1 0 1 0 0 0 0 0 0 0 1\n",
      " 0 0 0 1 1 0 0 0 0 1 0 0 0 1 1 0 1 0 0 0 0 1 1 1 1 1 0 0 0 0 0 0 1 0 1 0 0\n",
      " 1 0 0 0 0 0 0 0 1 1 0 1 0 1 0 0 0 1 1 1 0 0 0 0 0 0 0 0 1 0 1 0 0 0 1 0 0\n",
      " 1 0 0 0 0 0 1 0 0 0 1 1 1 0 1 0 1 1 0 0 0 1 0 1 0 0 1 0 1 1 0 1 0 0 1 1 0\n",
      " 0 1 0 0 1 1 1 0 0 0 0 0 0 1 0 1 0 0 0 1 0 1 1 0 0 1 0 1 0 0 1 0 1 0 0 0 0\n",
      " 0 1 1 1 1 1 0 1 0 0 1]\n"
     ]
    }
   ],
   "source": [
    "scl = RobustScaler()\n",
    "scl.fit(train_data)\n",
    "scl.transform(train_data)\n",
    "scl.transform(test_data)\n",
    "\n",
    "clf = SVC()\n",
    "clf.fit(train_data, target)\n",
    "# drop unnecessary column\n",
    "test_data = test_df.drop(\"PassengerId\", axis = 1).copy()\n",
    "prediction = clf.predict(test_data)\n",
    "score = cross_val_score(clf, train_data, target, cv=k_fold, n_jobs=1, scoring = scoring)\n",
    "score = round(np.mean(score)*100,2)\n",
    "print(\"score: \",score)\n",
    "print(\"prediction: \",prediction)"
   ]
  },
  {
   "cell_type": "markdown",
   "id": "d6b6c461",
   "metadata": {
    "papermill": {
     "duration": 0.054306,
     "end_time": "2023-07-02T08:19:41.318969",
     "exception": false,
     "start_time": "2023-07-02T08:19:41.264663",
     "status": "completed"
    },
    "tags": []
   },
   "source": [
    "<a id=\"1\"></a>\n",
    "# <div style=\"padding:20px;color:white;margin:0;font-size:35px;font-family:Serif;text-align:left;display:fill;border-radius:5px;background-color:#030066;overflow:hidden\"><b>📖3. Use Deep learning Predict Result</b></div>   "
   ]
  },
  {
   "cell_type": "code",
   "execution_count": 61,
   "id": "a374c288",
   "metadata": {
    "execution": {
     "iopub.execute_input": "2023-07-02T08:19:41.435814Z",
     "iopub.status.busy": "2023-07-02T08:19:41.434806Z",
     "iopub.status.idle": "2023-07-02T08:19:46.925661Z",
     "shell.execute_reply": "2023-07-02T08:19:46.923992Z"
    },
    "papermill": {
     "duration": 5.554549,
     "end_time": "2023-07-02T08:19:46.929387",
     "exception": false,
     "start_time": "2023-07-02T08:19:41.374838",
     "status": "completed"
    },
    "tags": []
   },
   "outputs": [],
   "source": [
    "# import deep learning model\n",
    "import tensorflow as tf"
   ]
  },
  {
   "cell_type": "code",
   "execution_count": 62,
   "id": "3d5d6bb8",
   "metadata": {
    "execution": {
     "iopub.execute_input": "2023-07-02T08:19:47.043917Z",
     "iopub.status.busy": "2023-07-02T08:19:47.042762Z",
     "iopub.status.idle": "2023-07-02T08:19:47.070784Z",
     "shell.execute_reply": "2023-07-02T08:19:47.069341Z"
    },
    "papermill": {
     "duration": 0.088977,
     "end_time": "2023-07-02T08:19:47.073901",
     "exception": false,
     "start_time": "2023-07-02T08:19:46.984924",
     "status": "completed"
    },
    "tags": []
   },
   "outputs": [
    {
     "data": {
      "text/html": [
       "<div>\n",
       "<style scoped>\n",
       "    .dataframe tbody tr th:only-of-type {\n",
       "        vertical-align: middle;\n",
       "    }\n",
       "\n",
       "    .dataframe tbody tr th {\n",
       "        vertical-align: top;\n",
       "    }\n",
       "\n",
       "    .dataframe thead th {\n",
       "        text-align: right;\n",
       "    }\n",
       "</style>\n",
       "<table border=\"1\" class=\"dataframe\">\n",
       "  <thead>\n",
       "    <tr style=\"text-align: right;\">\n",
       "      <th></th>\n",
       "      <th>Pclass</th>\n",
       "      <th>Sex</th>\n",
       "      <th>Age</th>\n",
       "      <th>Fare</th>\n",
       "      <th>Cabin</th>\n",
       "      <th>Embarked</th>\n",
       "      <th>Title</th>\n",
       "      <th>FamilySize</th>\n",
       "    </tr>\n",
       "  </thead>\n",
       "  <tbody>\n",
       "    <tr>\n",
       "      <th>0</th>\n",
       "      <td>3</td>\n",
       "      <td>0</td>\n",
       "      <td>1.0</td>\n",
       "      <td>0.0</td>\n",
       "      <td>2.0</td>\n",
       "      <td>0</td>\n",
       "      <td>0.0</td>\n",
       "      <td>0.4</td>\n",
       "    </tr>\n",
       "    <tr>\n",
       "      <th>1</th>\n",
       "      <td>1</td>\n",
       "      <td>1</td>\n",
       "      <td>3.0</td>\n",
       "      <td>4.0</td>\n",
       "      <td>0.8</td>\n",
       "      <td>1</td>\n",
       "      <td>2.0</td>\n",
       "      <td>0.4</td>\n",
       "    </tr>\n",
       "    <tr>\n",
       "      <th>2</th>\n",
       "      <td>3</td>\n",
       "      <td>1</td>\n",
       "      <td>1.0</td>\n",
       "      <td>0.0</td>\n",
       "      <td>2.0</td>\n",
       "      <td>0</td>\n",
       "      <td>1.0</td>\n",
       "      <td>0.0</td>\n",
       "    </tr>\n",
       "    <tr>\n",
       "      <th>3</th>\n",
       "      <td>1</td>\n",
       "      <td>1</td>\n",
       "      <td>2.0</td>\n",
       "      <td>4.0</td>\n",
       "      <td>0.8</td>\n",
       "      <td>0</td>\n",
       "      <td>2.0</td>\n",
       "      <td>0.4</td>\n",
       "    </tr>\n",
       "    <tr>\n",
       "      <th>4</th>\n",
       "      <td>3</td>\n",
       "      <td>0</td>\n",
       "      <td>2.0</td>\n",
       "      <td>0.0</td>\n",
       "      <td>2.0</td>\n",
       "      <td>0</td>\n",
       "      <td>0.0</td>\n",
       "      <td>0.0</td>\n",
       "    </tr>\n",
       "    <tr>\n",
       "      <th>...</th>\n",
       "      <td>...</td>\n",
       "      <td>...</td>\n",
       "      <td>...</td>\n",
       "      <td>...</td>\n",
       "      <td>...</td>\n",
       "      <td>...</td>\n",
       "      <td>...</td>\n",
       "      <td>...</td>\n",
       "    </tr>\n",
       "    <tr>\n",
       "      <th>886</th>\n",
       "      <td>2</td>\n",
       "      <td>0</td>\n",
       "      <td>2.0</td>\n",
       "      <td>1.0</td>\n",
       "      <td>1.8</td>\n",
       "      <td>0</td>\n",
       "      <td>3.0</td>\n",
       "      <td>0.0</td>\n",
       "    </tr>\n",
       "    <tr>\n",
       "      <th>887</th>\n",
       "      <td>1</td>\n",
       "      <td>1</td>\n",
       "      <td>1.0</td>\n",
       "      <td>3.0</td>\n",
       "      <td>0.4</td>\n",
       "      <td>0</td>\n",
       "      <td>1.0</td>\n",
       "      <td>0.0</td>\n",
       "    </tr>\n",
       "    <tr>\n",
       "      <th>888</th>\n",
       "      <td>3</td>\n",
       "      <td>1</td>\n",
       "      <td>1.0</td>\n",
       "      <td>2.0</td>\n",
       "      <td>2.0</td>\n",
       "      <td>0</td>\n",
       "      <td>1.0</td>\n",
       "      <td>1.2</td>\n",
       "    </tr>\n",
       "    <tr>\n",
       "      <th>889</th>\n",
       "      <td>1</td>\n",
       "      <td>0</td>\n",
       "      <td>1.0</td>\n",
       "      <td>3.0</td>\n",
       "      <td>0.8</td>\n",
       "      <td>1</td>\n",
       "      <td>0.0</td>\n",
       "      <td>0.0</td>\n",
       "    </tr>\n",
       "    <tr>\n",
       "      <th>890</th>\n",
       "      <td>3</td>\n",
       "      <td>0</td>\n",
       "      <td>2.0</td>\n",
       "      <td>0.0</td>\n",
       "      <td>2.0</td>\n",
       "      <td>2</td>\n",
       "      <td>0.0</td>\n",
       "      <td>0.0</td>\n",
       "    </tr>\n",
       "  </tbody>\n",
       "</table>\n",
       "<p>891 rows × 8 columns</p>\n",
       "</div>"
      ],
      "text/plain": [
       "     Pclass  Sex  Age  Fare  Cabin  Embarked  Title  FamilySize\n",
       "0         3    0  1.0   0.0    2.0         0    0.0         0.4\n",
       "1         1    1  3.0   4.0    0.8         1    2.0         0.4\n",
       "2         3    1  1.0   0.0    2.0         0    1.0         0.0\n",
       "3         1    1  2.0   4.0    0.8         0    2.0         0.4\n",
       "4         3    0  2.0   0.0    2.0         0    0.0         0.0\n",
       "..      ...  ...  ...   ...    ...       ...    ...         ...\n",
       "886       2    0  2.0   1.0    1.8         0    3.0         0.0\n",
       "887       1    1  1.0   3.0    0.4         0    1.0         0.0\n",
       "888       3    1  1.0   2.0    2.0         0    1.0         1.2\n",
       "889       1    0  1.0   3.0    0.8         1    0.0         0.0\n",
       "890       3    0  2.0   0.0    2.0         2    0.0         0.0\n",
       "\n",
       "[891 rows x 8 columns]"
      ]
     },
     "execution_count": 62,
     "metadata": {},
     "output_type": "execute_result"
    }
   ],
   "source": [
    "train_data"
   ]
  },
  {
   "cell_type": "code",
   "execution_count": 63,
   "id": "55e997fc",
   "metadata": {
    "execution": {
     "iopub.execute_input": "2023-07-02T08:19:47.192671Z",
     "iopub.status.busy": "2023-07-02T08:19:47.192105Z",
     "iopub.status.idle": "2023-07-02T08:19:47.201934Z",
     "shell.execute_reply": "2023-07-02T08:19:47.200984Z"
    },
    "papermill": {
     "duration": 0.072823,
     "end_time": "2023-07-02T08:19:47.204267",
     "exception": false,
     "start_time": "2023-07-02T08:19:47.131444",
     "status": "completed"
    },
    "tags": []
   },
   "outputs": [
    {
     "data": {
      "text/plain": [
       "0      0\n",
       "1      1\n",
       "2      1\n",
       "3      1\n",
       "4      0\n",
       "      ..\n",
       "886    0\n",
       "887    1\n",
       "888    0\n",
       "889    1\n",
       "890    0\n",
       "Name: Survived, Length: 891, dtype: int64"
      ]
     },
     "execution_count": 63,
     "metadata": {},
     "output_type": "execute_result"
    }
   ],
   "source": [
    "target"
   ]
  },
  {
   "cell_type": "code",
   "execution_count": 64,
   "id": "316807e5",
   "metadata": {
    "execution": {
     "iopub.execute_input": "2023-07-02T08:19:47.319464Z",
     "iopub.status.busy": "2023-07-02T08:19:47.318675Z",
     "iopub.status.idle": "2023-07-02T08:20:08.954388Z",
     "shell.execute_reply": "2023-07-02T08:20:08.953267Z"
    },
    "papermill": {
     "duration": 21.696073,
     "end_time": "2023-07-02T08:20:08.957222",
     "exception": false,
     "start_time": "2023-07-02T08:19:47.261149",
     "status": "completed"
    },
    "tags": []
   },
   "outputs": [
    {
     "data": {
      "text/plain": [
       "<keras.callbacks.History at 0x7ddf7024cd50>"
      ]
     },
     "execution_count": 64,
     "metadata": {},
     "output_type": "execute_result"
    }
   ],
   "source": [
    "import tensorflow as tf\n",
    "\n",
    "model = tf.keras.models.Sequential(\n",
    "[\n",
    "    tf.keras.layers.Dense(64, activation='relu'),\n",
    "    tf.keras.layers.Dense(64, activation='relu'),\n",
    "    tf.keras.layers.Dense(64, activation='relu'),\n",
    "    tf.keras.layers.Dense(64, activation='relu'),\n",
    "    tf.keras.layers.Dense(64, activation='relu'),\n",
    "    tf.keras.layers.Dense(64, activation='relu'),\n",
    "    tf.keras.layers.Dense(64, activation='relu'),\n",
    "    tf.keras.layers.Dense(64, activation='relu'),\n",
    "    tf.keras.layers.Dense(1, activation='sigmoid')\n",
    "])# if the layer nuber get too high numb, it can be lead model's overfitting.\n",
    "\n",
    "model.compile(optimizer=\"adam\", loss=\"binary_crossentropy\", metrics=[\"accuracy\"])\n",
    "model.fit(np.array(train_data), np.array(target), epochs=150, verbose=0)\n",
    "\n",
    "# if my deep learning model need to fix or improve, please leave a comment/feedback how should I fix it. "
   ]
  },
  {
   "cell_type": "code",
   "execution_count": 65,
   "id": "d98bb128",
   "metadata": {
    "execution": {
     "iopub.execute_input": "2023-07-02T08:20:09.071954Z",
     "iopub.status.busy": "2023-07-02T08:20:09.071098Z",
     "iopub.status.idle": "2023-07-02T08:20:09.077367Z",
     "shell.execute_reply": "2023-07-02T08:20:09.075847Z"
    },
    "papermill": {
     "duration": 0.066839,
     "end_time": "2023-07-02T08:20:09.080085",
     "exception": false,
     "start_time": "2023-07-02T08:20:09.013246",
     "status": "completed"
    },
    "tags": []
   },
   "outputs": [],
   "source": [
    "submission_dl = []"
   ]
  },
  {
   "cell_type": "code",
   "execution_count": 66,
   "id": "476ca192",
   "metadata": {
    "execution": {
     "iopub.execute_input": "2023-07-02T08:20:09.195676Z",
     "iopub.status.busy": "2023-07-02T08:20:09.195079Z",
     "iopub.status.idle": "2023-07-02T08:20:51.860736Z",
     "shell.execute_reply": "2023-07-02T08:20:51.859284Z"
    },
    "papermill": {
     "duration": 42.729344,
     "end_time": "2023-07-02T08:20:51.866127",
     "exception": false,
     "start_time": "2023-07-02T08:20:09.136783",
     "status": "completed"
    },
    "tags": []
   },
   "outputs": [],
   "source": [
    "# As the sample, Survival must be expressed as either 0 or 1. \n",
    "# But the prediction value from deep learning, It expressed percentage(0~1).\n",
    "# So if its value higher than 0.5, It is more likely to have lived.\n",
    "# let it transfer to 1. else transfer to 0.\n",
    "for i in range(len(model.predict(test_data))):\n",
    "    if model.predict(test_data)[i][0] >= 0.5:\n",
    "        submission_dl.append(1)\n",
    "    else:\n",
    "        submission_dl.append(0)\n",
    "# print(submission_dl)"
   ]
  },
  {
   "cell_type": "code",
   "execution_count": 67,
   "id": "8ba994fd",
   "metadata": {
    "execution": {
     "iopub.execute_input": "2023-07-02T08:20:51.981885Z",
     "iopub.status.busy": "2023-07-02T08:20:51.980461Z",
     "iopub.status.idle": "2023-07-02T08:20:51.991545Z",
     "shell.execute_reply": "2023-07-02T08:20:51.990231Z"
    },
    "papermill": {
     "duration": 0.070922,
     "end_time": "2023-07-02T08:20:51.994331",
     "exception": false,
     "start_time": "2023-07-02T08:20:51.923409",
     "status": "completed"
    },
    "tags": []
   },
   "outputs": [
    {
     "data": {
      "text/plain": [
       "array([0, 0, 0, 0, 1, 0, 0, 0, 1, 0, 0, 0, 1, 0, 1, 1, 1, 0, 0, 0, 0, 1,\n",
       "       1, 0, 1, 0, 1, 0, 1, 0, 0, 0, 0, 0, 0, 0, 1, 1, 0, 1, 0, 1, 0, 1,\n",
       "       1, 0, 0, 0, 1, 1, 0, 1, 1, 1, 1, 0, 0, 0, 0, 1, 0, 0, 0, 1, 1, 0,\n",
       "       1, 0, 1, 1, 1, 0, 0, 1, 1, 0, 0, 1, 0, 1, 1, 0, 0, 0, 1, 0, 0, 1,\n",
       "       1, 1, 1, 0, 1, 0, 1, 0, 1, 0, 1, 0, 1, 0, 0, 0, 1, 0, 0, 0, 0, 0,\n",
       "       0, 1, 1, 1, 1, 0, 0, 1, 0, 1, 1, 0, 1, 0, 0, 0, 0, 1, 0, 0, 0, 0,\n",
       "       0, 0, 0, 0, 0, 0, 1, 0, 0, 1, 0, 0, 0, 0, 1, 0, 1, 0, 1, 0, 0, 1,\n",
       "       0, 0, 1, 1, 0, 1, 1, 1, 1, 0, 0, 0, 0, 0, 1, 1, 0, 0, 0, 0, 0, 1,\n",
       "       1, 0, 1, 0, 0, 0, 1, 0, 1, 0, 1, 0, 0, 0, 0, 1, 1, 0, 1, 0, 1, 1,\n",
       "       0, 0, 1, 1, 0, 1, 0, 1, 0, 0, 1, 0, 0, 0, 0, 1, 0, 0, 1, 1, 1, 0,\n",
       "       1, 0, 1, 0, 1, 0, 0, 1, 0, 0, 0, 1, 0, 0, 0, 0, 0, 0, 1, 1, 1, 1,\n",
       "       0, 0, 1, 0, 1, 0, 1, 0, 1, 0, 0, 0, 0, 0, 0, 0, 1, 0, 0, 0, 1, 1,\n",
       "       1, 0, 0, 0, 1, 0, 0, 0, 1, 1, 0, 1, 0, 0, 0, 0, 1, 1, 1, 0, 0, 0,\n",
       "       0, 0, 0, 0, 0, 0, 0, 1, 0, 0, 1, 0, 0, 0, 0, 0, 0, 0, 1, 0, 0, 1,\n",
       "       1, 0, 0, 0, 0, 0, 1, 1, 1, 0, 0, 0, 0, 0, 0, 1, 1, 0, 1, 0, 0, 0,\n",
       "       1, 0, 0, 1, 0, 1, 0, 0, 0, 1, 0, 0, 0, 1, 1, 0, 0, 0, 0, 1, 1, 0,\n",
       "       0, 0, 0, 1, 1, 0, 0, 1, 0, 1, 1, 0, 1, 0, 0, 0, 1, 1, 0, 1, 0, 0,\n",
       "       1, 1, 1, 0, 0, 0, 0, 0, 0, 1, 0, 1, 0, 0, 0, 0, 0, 1, 1, 0, 0, 1,\n",
       "       0, 1, 0, 0, 1, 0, 1, 0, 1, 1, 0, 0, 1, 1, 1, 1, 0, 0, 1, 0, 0, 1])"
      ]
     },
     "execution_count": 67,
     "metadata": {},
     "output_type": "execute_result"
    }
   ],
   "source": [
    "prediction_dl = np.array(submission_dl)\n",
    "prediction_dl"
   ]
  },
  {
   "cell_type": "markdown",
   "id": "281d7b0e",
   "metadata": {
    "papermill": {
     "duration": 0.055211,
     "end_time": "2023-07-02T08:20:52.105447",
     "exception": false,
     "start_time": "2023-07-02T08:20:52.050236",
     "status": "completed"
    },
    "tags": []
   },
   "source": [
    "<a id=\"1\"></a>\n",
    "# <div style=\"padding:20px;color:white;margin:0;font-size:35px;font-family:Serif;text-align:left;display:fill;border-radius:5px;background-color:#030066;overflow:hidden\"><b>📖4. Submission</b></div>   "
   ]
  },
  {
   "cell_type": "code",
   "execution_count": 68,
   "id": "fd243fd2",
   "metadata": {
    "execution": {
     "iopub.execute_input": "2023-07-02T08:20:52.221450Z",
     "iopub.status.busy": "2023-07-02T08:20:52.219692Z",
     "iopub.status.idle": "2023-07-02T08:20:52.232660Z",
     "shell.execute_reply": "2023-07-02T08:20:52.231542Z"
    },
    "papermill": {
     "duration": 0.0745,
     "end_time": "2023-07-02T08:20:52.235846",
     "exception": false,
     "start_time": "2023-07-02T08:20:52.161346",
     "status": "completed"
    },
    "tags": []
   },
   "outputs": [],
   "source": [
    "submission = pd.DataFrame({\n",
    "    \"PassengerId\":test_df[\"PassengerId\"],\n",
    "    \"Survived\":prediction\n",
    "    # if you want submit MachineLearning Score, use \"prediction\"\n",
    "    # if you want submit DeepLearning Score, use \"prediction_dl\"\n",
    "    # as my submittion result, Machine Learning Score higher than Deep learning Score. So I choose ML Score.\n",
    "})\n",
    "\n",
    "submission.to_csv(\"submission_ma.csv\",index=False)"
   ]
  },
  {
   "cell_type": "code",
   "execution_count": 69,
   "id": "4cabe2ac",
   "metadata": {
    "execution": {
     "iopub.execute_input": "2023-07-02T08:20:52.351050Z",
     "iopub.status.busy": "2023-07-02T08:20:52.350547Z",
     "iopub.status.idle": "2023-07-02T08:20:52.365443Z",
     "shell.execute_reply": "2023-07-02T08:20:52.364231Z"
    },
    "papermill": {
     "duration": 0.075583,
     "end_time": "2023-07-02T08:20:52.368100",
     "exception": false,
     "start_time": "2023-07-02T08:20:52.292517",
     "status": "completed"
    },
    "tags": []
   },
   "outputs": [
    {
     "data": {
      "text/html": [
       "<div>\n",
       "<style scoped>\n",
       "    .dataframe tbody tr th:only-of-type {\n",
       "        vertical-align: middle;\n",
       "    }\n",
       "\n",
       "    .dataframe tbody tr th {\n",
       "        vertical-align: top;\n",
       "    }\n",
       "\n",
       "    .dataframe thead th {\n",
       "        text-align: right;\n",
       "    }\n",
       "</style>\n",
       "<table border=\"1\" class=\"dataframe\">\n",
       "  <thead>\n",
       "    <tr style=\"text-align: right;\">\n",
       "      <th></th>\n",
       "      <th>PassengerId</th>\n",
       "      <th>Survived</th>\n",
       "    </tr>\n",
       "  </thead>\n",
       "  <tbody>\n",
       "    <tr>\n",
       "      <th>0</th>\n",
       "      <td>892</td>\n",
       "      <td>0</td>\n",
       "    </tr>\n",
       "    <tr>\n",
       "      <th>1</th>\n",
       "      <td>893</td>\n",
       "      <td>1</td>\n",
       "    </tr>\n",
       "    <tr>\n",
       "      <th>2</th>\n",
       "      <td>894</td>\n",
       "      <td>0</td>\n",
       "    </tr>\n",
       "    <tr>\n",
       "      <th>3</th>\n",
       "      <td>895</td>\n",
       "      <td>0</td>\n",
       "    </tr>\n",
       "    <tr>\n",
       "      <th>4</th>\n",
       "      <td>896</td>\n",
       "      <td>1</td>\n",
       "    </tr>\n",
       "  </tbody>\n",
       "</table>\n",
       "</div>"
      ],
      "text/plain": [
       "   PassengerId  Survived\n",
       "0          892         0\n",
       "1          893         1\n",
       "2          894         0\n",
       "3          895         0\n",
       "4          896         1"
      ]
     },
     "execution_count": 69,
     "metadata": {},
     "output_type": "execute_result"
    }
   ],
   "source": [
    "submission = pd.read_csv(\"submission_ma.csv\")\n",
    "submission.head()"
   ]
  },
  {
   "cell_type": "markdown",
   "id": "ff6878b1",
   "metadata": {
    "papermill": {
     "duration": 0.058149,
     "end_time": "2023-07-02T08:20:52.482274",
     "exception": false,
     "start_time": "2023-07-02T08:20:52.424125",
     "status": "completed"
    },
    "tags": []
   },
   "source": [
    "#### <div style='text-align:center; font-family:arial'> 🙇🏻‍♂️Thanks For Watching!<br></div>"
   ]
  },
  {
   "cell_type": "code",
   "execution_count": null,
   "id": "13d49e98",
   "metadata": {
    "papermill": {
     "duration": 0.055908,
     "end_time": "2023-07-02T08:20:52.595831",
     "exception": false,
     "start_time": "2023-07-02T08:20:52.539923",
     "status": "completed"
    },
    "tags": []
   },
   "outputs": [],
   "source": []
  }
 ],
 "metadata": {
  "kernelspec": {
   "display_name": "Python 3",
   "language": "python",
   "name": "python3"
  },
  "language_info": {
   "codemirror_mode": {
    "name": "ipython",
    "version": 3
   },
   "file_extension": ".py",
   "mimetype": "text/x-python",
   "name": "python",
   "nbconvert_exporter": "python",
   "pygments_lexer": "ipython3",
   "version": "3.7.12"
  },
  "papermill": {
   "default_parameters": {},
   "duration": 117.148435,
   "end_time": "2023-07-02T08:20:55.517070",
   "environment_variables": {},
   "exception": null,
   "input_path": "__notebook__.ipynb",
   "output_path": "__notebook__.ipynb",
   "parameters": {},
   "start_time": "2023-07-02T08:18:58.368635",
   "version": "2.3.4"
  }
 },
 "nbformat": 4,
 "nbformat_minor": 5
}
