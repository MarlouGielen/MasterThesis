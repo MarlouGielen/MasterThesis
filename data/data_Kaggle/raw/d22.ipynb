{
 "cells": [
  {
   "cell_type": "code",
   "execution_count": 1,
   "id": "8a9f3cdc",
   "metadata": {
    "_cell_guid": "b1076dfc-b9ad-4769-8c92-a6c4dae69d19",
    "_uuid": "8f2839f25d086af736a60e9eeb907d3b93b6e0e5",
    "execution": {
     "iopub.execute_input": "2023-11-30T11:32:28.832981Z",
     "iopub.status.busy": "2023-11-30T11:32:28.832519Z",
     "iopub.status.idle": "2023-11-30T11:32:31.256514Z",
     "shell.execute_reply": "2023-11-30T11:32:31.255091Z"
    },
    "papermill": {
     "duration": 2.43914,
     "end_time": "2023-11-30T11:32:31.259277",
     "exception": false,
     "start_time": "2023-11-30T11:32:28.820137",
     "status": "completed"
    },
    "tags": []
   },
   "outputs": [
    {
     "name": "stdout",
     "output_type": "stream",
     "text": [
      "/kaggle/input/titanic/train.csv\n",
      "/kaggle/input/titanic/test.csv\n",
      "/kaggle/input/titanic/gender_submission.csv\n"
     ]
    }
   ],
   "source": [
    "# This Python 3 environment comes with many helpful analytics libraries installed\n",
    "# It is defined by the kaggle/python Docker image: https://github.com/kaggle/docker-python\n",
    "# For example, here's several helpful packages to load\n",
    "\n",
    "import numpy as np # linear algebra\n",
    "import pandas as pd # data processing, CSV file I/O (e.g. pd.read_csv)\n",
    "import seaborn as sns\n",
    "import matplotlib.pyplot as plt\n",
    "from sklearn import preprocessing\n",
    "#from sklearn.model_selection import accuracy_score\n",
    "from sklearn.linear_model import LogisticRegression\n",
    "from sklearn.model_selection import train_test_split\n",
    "from sklearn.metrics import roc_curve, roc_auc_score\n",
    "import matplotlib.pyplot as plt\n",
    "from sklearn.metrics import confusion_matrix\n",
    "from sklearn.metrics import classification_report\n",
    "\n",
    "\n",
    "\n",
    "# Input data files are available in the read-only \"../input/\" directory\n",
    "# For example, running this (by clicking run or pressing Shift+Enter) will list all files under the input directory\n",
    "\n",
    "import os\n",
    "for dirname, _, filenames in os.walk('/kaggle/input'):\n",
    "    for filename in filenames:\n",
    "        print(os.path.join(dirname, filename))\n",
    "\n",
    "# You can write up to 20GB to the current directory (/kaggle/working/) that gets preserved as output when you create a version using \"Save & Run All\" \n",
    "# You can also write temporary files to /kaggle/temp/, but they won't be saved outside of the current session"
   ]
  },
  {
   "cell_type": "markdown",
   "id": "3f09c312",
   "metadata": {
    "papermill": {
     "duration": 0.009055,
     "end_time": "2023-11-30T11:32:31.277747",
     "exception": false,
     "start_time": "2023-11-30T11:32:31.268692",
     "status": "completed"
    },
    "tags": []
   },
   "source": [
    "Loading train and test data"
   ]
  },
  {
   "cell_type": "code",
   "execution_count": 2,
   "id": "175b6096",
   "metadata": {
    "execution": {
     "iopub.execute_input": "2023-11-30T11:32:31.299363Z",
     "iopub.status.busy": "2023-11-30T11:32:31.298279Z",
     "iopub.status.idle": "2023-11-30T11:32:31.349681Z",
     "shell.execute_reply": "2023-11-30T11:32:31.348773Z"
    },
    "papermill": {
     "duration": 0.06528,
     "end_time": "2023-11-30T11:32:31.352255",
     "exception": false,
     "start_time": "2023-11-30T11:32:31.286975",
     "status": "completed"
    },
    "tags": []
   },
   "outputs": [
    {
     "data": {
      "text/html": [
       "<div>\n",
       "<style scoped>\n",
       "    .dataframe tbody tr th:only-of-type {\n",
       "        vertical-align: middle;\n",
       "    }\n",
       "\n",
       "    .dataframe tbody tr th {\n",
       "        vertical-align: top;\n",
       "    }\n",
       "\n",
       "    .dataframe thead th {\n",
       "        text-align: right;\n",
       "    }\n",
       "</style>\n",
       "<table border=\"1\" class=\"dataframe\">\n",
       "  <thead>\n",
       "    <tr style=\"text-align: right;\">\n",
       "      <th></th>\n",
       "      <th>PassengerId</th>\n",
       "      <th>Survived</th>\n",
       "      <th>Pclass</th>\n",
       "      <th>Name</th>\n",
       "      <th>Sex</th>\n",
       "      <th>Age</th>\n",
       "      <th>SibSp</th>\n",
       "      <th>Parch</th>\n",
       "      <th>Ticket</th>\n",
       "      <th>Fare</th>\n",
       "      <th>Cabin</th>\n",
       "      <th>Embarked</th>\n",
       "    </tr>\n",
       "  </thead>\n",
       "  <tbody>\n",
       "    <tr>\n",
       "      <th>0</th>\n",
       "      <td>1</td>\n",
       "      <td>0</td>\n",
       "      <td>3</td>\n",
       "      <td>Braund, Mr. Owen Harris</td>\n",
       "      <td>male</td>\n",
       "      <td>22.0</td>\n",
       "      <td>1</td>\n",
       "      <td>0</td>\n",
       "      <td>A/5 21171</td>\n",
       "      <td>7.2500</td>\n",
       "      <td>NaN</td>\n",
       "      <td>S</td>\n",
       "    </tr>\n",
       "    <tr>\n",
       "      <th>1</th>\n",
       "      <td>2</td>\n",
       "      <td>1</td>\n",
       "      <td>1</td>\n",
       "      <td>Cumings, Mrs. John Bradley (Florence Briggs Th...</td>\n",
       "      <td>female</td>\n",
       "      <td>38.0</td>\n",
       "      <td>1</td>\n",
       "      <td>0</td>\n",
       "      <td>PC 17599</td>\n",
       "      <td>71.2833</td>\n",
       "      <td>C85</td>\n",
       "      <td>C</td>\n",
       "    </tr>\n",
       "    <tr>\n",
       "      <th>2</th>\n",
       "      <td>3</td>\n",
       "      <td>1</td>\n",
       "      <td>3</td>\n",
       "      <td>Heikkinen, Miss. Laina</td>\n",
       "      <td>female</td>\n",
       "      <td>26.0</td>\n",
       "      <td>0</td>\n",
       "      <td>0</td>\n",
       "      <td>STON/O2. 3101282</td>\n",
       "      <td>7.9250</td>\n",
       "      <td>NaN</td>\n",
       "      <td>S</td>\n",
       "    </tr>\n",
       "    <tr>\n",
       "      <th>3</th>\n",
       "      <td>4</td>\n",
       "      <td>1</td>\n",
       "      <td>1</td>\n",
       "      <td>Futrelle, Mrs. Jacques Heath (Lily May Peel)</td>\n",
       "      <td>female</td>\n",
       "      <td>35.0</td>\n",
       "      <td>1</td>\n",
       "      <td>0</td>\n",
       "      <td>113803</td>\n",
       "      <td>53.1000</td>\n",
       "      <td>C123</td>\n",
       "      <td>S</td>\n",
       "    </tr>\n",
       "    <tr>\n",
       "      <th>4</th>\n",
       "      <td>5</td>\n",
       "      <td>0</td>\n",
       "      <td>3</td>\n",
       "      <td>Allen, Mr. William Henry</td>\n",
       "      <td>male</td>\n",
       "      <td>35.0</td>\n",
       "      <td>0</td>\n",
       "      <td>0</td>\n",
       "      <td>373450</td>\n",
       "      <td>8.0500</td>\n",
       "      <td>NaN</td>\n",
       "      <td>S</td>\n",
       "    </tr>\n",
       "  </tbody>\n",
       "</table>\n",
       "</div>"
      ],
      "text/plain": [
       "   PassengerId  Survived  Pclass  \\\n",
       "0            1         0       3   \n",
       "1            2         1       1   \n",
       "2            3         1       3   \n",
       "3            4         1       1   \n",
       "4            5         0       3   \n",
       "\n",
       "                                                Name     Sex   Age  SibSp  \\\n",
       "0                            Braund, Mr. Owen Harris    male  22.0      1   \n",
       "1  Cumings, Mrs. John Bradley (Florence Briggs Th...  female  38.0      1   \n",
       "2                             Heikkinen, Miss. Laina  female  26.0      0   \n",
       "3       Futrelle, Mrs. Jacques Heath (Lily May Peel)  female  35.0      1   \n",
       "4                           Allen, Mr. William Henry    male  35.0      0   \n",
       "\n",
       "   Parch            Ticket     Fare Cabin Embarked  \n",
       "0      0         A/5 21171   7.2500   NaN        S  \n",
       "1      0          PC 17599  71.2833   C85        C  \n",
       "2      0  STON/O2. 3101282   7.9250   NaN        S  \n",
       "3      0            113803  53.1000  C123        S  \n",
       "4      0            373450   8.0500   NaN        S  "
      ]
     },
     "execution_count": 2,
     "metadata": {},
     "output_type": "execute_result"
    }
   ],
   "source": [
    "train_data = pd.read_csv(\"/kaggle/input/titanic/train.csv\")\n",
    "train_data.head()\n"
   ]
  },
  {
   "cell_type": "code",
   "execution_count": 3,
   "id": "d36d4c7f",
   "metadata": {
    "execution": {
     "iopub.execute_input": "2023-11-30T11:32:31.374107Z",
     "iopub.status.busy": "2023-11-30T11:32:31.373381Z",
     "iopub.status.idle": "2023-11-30T11:32:31.401207Z",
     "shell.execute_reply": "2023-11-30T11:32:31.399772Z"
    },
    "papermill": {
     "duration": 0.042092,
     "end_time": "2023-11-30T11:32:31.404029",
     "exception": false,
     "start_time": "2023-11-30T11:32:31.361937",
     "status": "completed"
    },
    "tags": []
   },
   "outputs": [
    {
     "data": {
      "text/html": [
       "<div>\n",
       "<style scoped>\n",
       "    .dataframe tbody tr th:only-of-type {\n",
       "        vertical-align: middle;\n",
       "    }\n",
       "\n",
       "    .dataframe tbody tr th {\n",
       "        vertical-align: top;\n",
       "    }\n",
       "\n",
       "    .dataframe thead th {\n",
       "        text-align: right;\n",
       "    }\n",
       "</style>\n",
       "<table border=\"1\" class=\"dataframe\">\n",
       "  <thead>\n",
       "    <tr style=\"text-align: right;\">\n",
       "      <th></th>\n",
       "      <th>PassengerId</th>\n",
       "      <th>Pclass</th>\n",
       "      <th>Name</th>\n",
       "      <th>Sex</th>\n",
       "      <th>Age</th>\n",
       "      <th>SibSp</th>\n",
       "      <th>Parch</th>\n",
       "      <th>Ticket</th>\n",
       "      <th>Fare</th>\n",
       "      <th>Cabin</th>\n",
       "      <th>Embarked</th>\n",
       "    </tr>\n",
       "  </thead>\n",
       "  <tbody>\n",
       "    <tr>\n",
       "      <th>0</th>\n",
       "      <td>892</td>\n",
       "      <td>3</td>\n",
       "      <td>Kelly, Mr. James</td>\n",
       "      <td>male</td>\n",
       "      <td>34.5</td>\n",
       "      <td>0</td>\n",
       "      <td>0</td>\n",
       "      <td>330911</td>\n",
       "      <td>7.8292</td>\n",
       "      <td>NaN</td>\n",
       "      <td>Q</td>\n",
       "    </tr>\n",
       "    <tr>\n",
       "      <th>1</th>\n",
       "      <td>893</td>\n",
       "      <td>3</td>\n",
       "      <td>Wilkes, Mrs. James (Ellen Needs)</td>\n",
       "      <td>female</td>\n",
       "      <td>47.0</td>\n",
       "      <td>1</td>\n",
       "      <td>0</td>\n",
       "      <td>363272</td>\n",
       "      <td>7.0000</td>\n",
       "      <td>NaN</td>\n",
       "      <td>S</td>\n",
       "    </tr>\n",
       "    <tr>\n",
       "      <th>2</th>\n",
       "      <td>894</td>\n",
       "      <td>2</td>\n",
       "      <td>Myles, Mr. Thomas Francis</td>\n",
       "      <td>male</td>\n",
       "      <td>62.0</td>\n",
       "      <td>0</td>\n",
       "      <td>0</td>\n",
       "      <td>240276</td>\n",
       "      <td>9.6875</td>\n",
       "      <td>NaN</td>\n",
       "      <td>Q</td>\n",
       "    </tr>\n",
       "    <tr>\n",
       "      <th>3</th>\n",
       "      <td>895</td>\n",
       "      <td>3</td>\n",
       "      <td>Wirz, Mr. Albert</td>\n",
       "      <td>male</td>\n",
       "      <td>27.0</td>\n",
       "      <td>0</td>\n",
       "      <td>0</td>\n",
       "      <td>315154</td>\n",
       "      <td>8.6625</td>\n",
       "      <td>NaN</td>\n",
       "      <td>S</td>\n",
       "    </tr>\n",
       "    <tr>\n",
       "      <th>4</th>\n",
       "      <td>896</td>\n",
       "      <td>3</td>\n",
       "      <td>Hirvonen, Mrs. Alexander (Helga E Lindqvist)</td>\n",
       "      <td>female</td>\n",
       "      <td>22.0</td>\n",
       "      <td>1</td>\n",
       "      <td>1</td>\n",
       "      <td>3101298</td>\n",
       "      <td>12.2875</td>\n",
       "      <td>NaN</td>\n",
       "      <td>S</td>\n",
       "    </tr>\n",
       "  </tbody>\n",
       "</table>\n",
       "</div>"
      ],
      "text/plain": [
       "   PassengerId  Pclass                                          Name     Sex  \\\n",
       "0          892       3                              Kelly, Mr. James    male   \n",
       "1          893       3              Wilkes, Mrs. James (Ellen Needs)  female   \n",
       "2          894       2                     Myles, Mr. Thomas Francis    male   \n",
       "3          895       3                              Wirz, Mr. Albert    male   \n",
       "4          896       3  Hirvonen, Mrs. Alexander (Helga E Lindqvist)  female   \n",
       "\n",
       "    Age  SibSp  Parch   Ticket     Fare Cabin Embarked  \n",
       "0  34.5      0      0   330911   7.8292   NaN        Q  \n",
       "1  47.0      1      0   363272   7.0000   NaN        S  \n",
       "2  62.0      0      0   240276   9.6875   NaN        Q  \n",
       "3  27.0      0      0   315154   8.6625   NaN        S  \n",
       "4  22.0      1      1  3101298  12.2875   NaN        S  "
      ]
     },
     "execution_count": 3,
     "metadata": {},
     "output_type": "execute_result"
    }
   ],
   "source": [
    "test_data = pd.read_csv(\"/kaggle/input/titanic/test.csv\")\n",
    "test_data.head()"
   ]
  },
  {
   "cell_type": "code",
   "execution_count": 4,
   "id": "8a1dfcaf",
   "metadata": {
    "execution": {
     "iopub.execute_input": "2023-11-30T11:32:31.426163Z",
     "iopub.status.busy": "2023-11-30T11:32:31.425683Z",
     "iopub.status.idle": "2023-11-30T11:32:31.507129Z",
     "shell.execute_reply": "2023-11-30T11:32:31.506010Z"
    },
    "papermill": {
     "duration": 0.095305,
     "end_time": "2023-11-30T11:32:31.509479",
     "exception": false,
     "start_time": "2023-11-30T11:32:31.414174",
     "status": "completed"
    },
    "tags": []
   },
   "outputs": [
    {
     "name": "stdout",
     "output_type": "stream",
     "text": [
      "<class 'pandas.core.frame.DataFrame'>\n",
      "RangeIndex: 891 entries, 0 to 890\n",
      "Data columns (total 12 columns):\n",
      " #   Column       Non-Null Count  Dtype  \n",
      "---  ------       --------------  -----  \n",
      " 0   PassengerId  891 non-null    int64  \n",
      " 1   Survived     891 non-null    int64  \n",
      " 2   Pclass       891 non-null    int64  \n",
      " 3   Name         891 non-null    object \n",
      " 4   Sex          891 non-null    object \n",
      " 5   Age          714 non-null    float64\n",
      " 6   SibSp        891 non-null    int64  \n",
      " 7   Parch        891 non-null    int64  \n",
      " 8   Ticket       891 non-null    object \n",
      " 9   Fare         891 non-null    float64\n",
      " 10  Cabin        204 non-null    object \n",
      " 11  Embarked     889 non-null    object \n",
      "dtypes: float64(2), int64(5), object(5)\n",
      "memory usage: 83.7+ KB\n",
      "<class 'pandas.core.frame.DataFrame'>\n",
      "RangeIndex: 418 entries, 0 to 417\n",
      "Data columns (total 11 columns):\n",
      " #   Column       Non-Null Count  Dtype  \n",
      "---  ------       --------------  -----  \n",
      " 0   PassengerId  418 non-null    int64  \n",
      " 1   Pclass       418 non-null    int64  \n",
      " 2   Name         418 non-null    object \n",
      " 3   Sex          418 non-null    object \n",
      " 4   Age          332 non-null    float64\n",
      " 5   SibSp        418 non-null    int64  \n",
      " 6   Parch        418 non-null    int64  \n",
      " 7   Ticket       418 non-null    object \n",
      " 8   Fare         417 non-null    float64\n",
      " 9   Cabin        91 non-null     object \n",
      " 10  Embarked     418 non-null    object \n",
      "dtypes: float64(2), int64(4), object(5)\n",
      "memory usage: 36.0+ KB\n"
     ]
    },
    {
     "data": {
      "text/html": [
       "<div>\n",
       "<style scoped>\n",
       "    .dataframe tbody tr th:only-of-type {\n",
       "        vertical-align: middle;\n",
       "    }\n",
       "\n",
       "    .dataframe tbody tr th {\n",
       "        vertical-align: top;\n",
       "    }\n",
       "\n",
       "    .dataframe thead th {\n",
       "        text-align: right;\n",
       "    }\n",
       "</style>\n",
       "<table border=\"1\" class=\"dataframe\">\n",
       "  <thead>\n",
       "    <tr style=\"text-align: right;\">\n",
       "      <th></th>\n",
       "      <th>PassengerId</th>\n",
       "      <th>Pclass</th>\n",
       "      <th>Age</th>\n",
       "      <th>SibSp</th>\n",
       "      <th>Parch</th>\n",
       "      <th>Fare</th>\n",
       "    </tr>\n",
       "  </thead>\n",
       "  <tbody>\n",
       "    <tr>\n",
       "      <th>count</th>\n",
       "      <td>418.000000</td>\n",
       "      <td>418.000000</td>\n",
       "      <td>332.000000</td>\n",
       "      <td>418.000000</td>\n",
       "      <td>418.000000</td>\n",
       "      <td>417.000000</td>\n",
       "    </tr>\n",
       "    <tr>\n",
       "      <th>mean</th>\n",
       "      <td>1100.500000</td>\n",
       "      <td>2.265550</td>\n",
       "      <td>30.272590</td>\n",
       "      <td>0.447368</td>\n",
       "      <td>0.392344</td>\n",
       "      <td>35.627188</td>\n",
       "    </tr>\n",
       "    <tr>\n",
       "      <th>std</th>\n",
       "      <td>120.810458</td>\n",
       "      <td>0.841838</td>\n",
       "      <td>14.181209</td>\n",
       "      <td>0.896760</td>\n",
       "      <td>0.981429</td>\n",
       "      <td>55.907576</td>\n",
       "    </tr>\n",
       "    <tr>\n",
       "      <th>min</th>\n",
       "      <td>892.000000</td>\n",
       "      <td>1.000000</td>\n",
       "      <td>0.170000</td>\n",
       "      <td>0.000000</td>\n",
       "      <td>0.000000</td>\n",
       "      <td>0.000000</td>\n",
       "    </tr>\n",
       "    <tr>\n",
       "      <th>25%</th>\n",
       "      <td>996.250000</td>\n",
       "      <td>1.000000</td>\n",
       "      <td>21.000000</td>\n",
       "      <td>0.000000</td>\n",
       "      <td>0.000000</td>\n",
       "      <td>7.895800</td>\n",
       "    </tr>\n",
       "    <tr>\n",
       "      <th>50%</th>\n",
       "      <td>1100.500000</td>\n",
       "      <td>3.000000</td>\n",
       "      <td>27.000000</td>\n",
       "      <td>0.000000</td>\n",
       "      <td>0.000000</td>\n",
       "      <td>14.454200</td>\n",
       "    </tr>\n",
       "    <tr>\n",
       "      <th>75%</th>\n",
       "      <td>1204.750000</td>\n",
       "      <td>3.000000</td>\n",
       "      <td>39.000000</td>\n",
       "      <td>1.000000</td>\n",
       "      <td>0.000000</td>\n",
       "      <td>31.500000</td>\n",
       "    </tr>\n",
       "    <tr>\n",
       "      <th>max</th>\n",
       "      <td>1309.000000</td>\n",
       "      <td>3.000000</td>\n",
       "      <td>76.000000</td>\n",
       "      <td>8.000000</td>\n",
       "      <td>9.000000</td>\n",
       "      <td>512.329200</td>\n",
       "    </tr>\n",
       "  </tbody>\n",
       "</table>\n",
       "</div>"
      ],
      "text/plain": [
       "       PassengerId      Pclass         Age       SibSp       Parch        Fare\n",
       "count   418.000000  418.000000  332.000000  418.000000  418.000000  417.000000\n",
       "mean   1100.500000    2.265550   30.272590    0.447368    0.392344   35.627188\n",
       "std     120.810458    0.841838   14.181209    0.896760    0.981429   55.907576\n",
       "min     892.000000    1.000000    0.170000    0.000000    0.000000    0.000000\n",
       "25%     996.250000    1.000000   21.000000    0.000000    0.000000    7.895800\n",
       "50%    1100.500000    3.000000   27.000000    0.000000    0.000000   14.454200\n",
       "75%    1204.750000    3.000000   39.000000    1.000000    0.000000   31.500000\n",
       "max    1309.000000    3.000000   76.000000    8.000000    9.000000  512.329200"
      ]
     },
     "execution_count": 4,
     "metadata": {},
     "output_type": "execute_result"
    }
   ],
   "source": [
    "# To better understand the data types and values\n",
    "train_data.info()\n",
    "test_data.info()\n",
    "# We have both numerical and categorical values\n",
    "\n",
    "train_data.describe()\n",
    "test_data.describe()\n"
   ]
  },
  {
   "cell_type": "markdown",
   "id": "b95e31d1",
   "metadata": {
    "papermill": {
     "duration": 0.010766,
     "end_time": "2023-11-30T11:32:31.530629",
     "exception": false,
     "start_time": "2023-11-30T11:32:31.519863",
     "status": "completed"
    },
    "tags": []
   },
   "source": [
    "# Dealing with missing values\n",
    "We have 177 missing values in Age and 687 in Cabin. We can either drop all rows which have missing data or try and impute it. In this case I will impute Age with the median because \"Age\" is right skewed and using the mean might be biased.\n",
    "\n",
    "Cabin feature I'll drop since the percentage of its missing values is too high and imputing won't be wise.\n",
    "\n",
    "Embarked has only 2 NAs. Later we will see that the most common value for Embarked feature is S, so we can impute its missing values with S.\n",
    "\n",
    "Fare I will also impute with the median"
   ]
  },
  {
   "cell_type": "code",
   "execution_count": 5,
   "id": "471b3932",
   "metadata": {
    "execution": {
     "iopub.execute_input": "2023-11-30T11:32:31.554017Z",
     "iopub.status.busy": "2023-11-30T11:32:31.553529Z",
     "iopub.status.idle": "2023-11-30T11:32:31.565284Z",
     "shell.execute_reply": "2023-11-30T11:32:31.564365Z"
    },
    "papermill": {
     "duration": 0.02635,
     "end_time": "2023-11-30T11:32:31.567531",
     "exception": false,
     "start_time": "2023-11-30T11:32:31.541181",
     "status": "completed"
    },
    "tags": []
   },
   "outputs": [
    {
     "data": {
      "text/plain": [
       "PassengerId      0\n",
       "Pclass           0\n",
       "Name             0\n",
       "Sex              0\n",
       "Age             86\n",
       "SibSp            0\n",
       "Parch            0\n",
       "Ticket           0\n",
       "Fare             1\n",
       "Cabin          327\n",
       "Embarked         0\n",
       "dtype: int64"
      ]
     },
     "execution_count": 5,
     "metadata": {},
     "output_type": "execute_result"
    }
   ],
   "source": [
    "# Checking NAs in data\n",
    "train_data.isnull().sum()\n",
    "test_data.isnull().sum()"
   ]
  },
  {
   "cell_type": "code",
   "execution_count": 6,
   "id": "8941298a",
   "metadata": {
    "execution": {
     "iopub.execute_input": "2023-11-30T11:32:31.591673Z",
     "iopub.status.busy": "2023-11-30T11:32:31.591193Z",
     "iopub.status.idle": "2023-11-30T11:32:31.947793Z",
     "shell.execute_reply": "2023-11-30T11:32:31.946848Z"
    },
    "papermill": {
     "duration": 0.372273,
     "end_time": "2023-11-30T11:32:31.950640",
     "exception": false,
     "start_time": "2023-11-30T11:32:31.578367",
     "status": "completed"
    },
    "tags": []
   },
   "outputs": [
    {
     "data": {
      "image/png": "[encoded data removed]",
      "text/plain": [
       "<Figure size 640x480 with 1 Axes>"
      ]
     },
     "metadata": {},
     "output_type": "display_data"
    }
   ],
   "source": [
    "# Age bar plot\n",
    "plt.hist(train_data[\"Age\"])\n",
    "\n",
    "# Filling in NAs in Age with the mode \n",
    "train_data = train_data.fillna({\"Age\" : train_data[\"Age\"].mode()[0]})\n",
    "test_data = test_data.fillna({\"Age\" : train_data[\"Age\"].mode()[0]})"
   ]
  },
  {
   "cell_type": "markdown",
   "id": "c531ba89",
   "metadata": {
    "papermill": {
     "duration": 0.010703,
     "end_time": "2023-11-30T11:32:31.972442",
     "exception": false,
     "start_time": "2023-11-30T11:32:31.961739",
     "status": "completed"
    },
    "tags": []
   },
   "source": [
    "# Data exploration"
   ]
  },
  {
   "cell_type": "code",
   "execution_count": 7,
   "id": "dbf4016a",
   "metadata": {
    "execution": {
     "iopub.execute_input": "2023-11-30T11:32:31.997892Z",
     "iopub.status.busy": "2023-11-30T11:32:31.996305Z",
     "iopub.status.idle": "2023-11-30T11:32:32.009465Z",
     "shell.execute_reply": "2023-11-30T11:32:32.008214Z"
    },
    "papermill": {
     "duration": 0.029148,
     "end_time": "2023-11-30T11:32:32.012570",
     "exception": false,
     "start_time": "2023-11-30T11:32:31.983422",
     "status": "completed"
    },
    "tags": []
   },
   "outputs": [],
   "source": [
    "# Splitting into numeric and categorial df for easier comparison\n",
    "# We need to convert categorical values into numeric\n",
    "df_num = train_data[ ['Age', 'SibSp', 'Parch', 'Fare']]\n",
    "df_cat = train_data[ ['Survived', 'Pclass', 'Sex','Embarked']]"
   ]
  },
  {
   "cell_type": "code",
   "execution_count": 8,
   "id": "389479c9",
   "metadata": {
    "execution": {
     "iopub.execute_input": "2023-11-30T11:32:32.037672Z",
     "iopub.status.busy": "2023-11-30T11:32:32.037242Z",
     "iopub.status.idle": "2023-11-30T11:32:33.162229Z",
     "shell.execute_reply": "2023-11-30T11:32:33.160850Z"
    },
    "papermill": {
     "duration": 1.140863,
     "end_time": "2023-11-30T11:32:33.164919",
     "exception": false,
     "start_time": "2023-11-30T11:32:32.024056",
     "status": "completed"
    },
    "tags": []
   },
   "outputs": [
    {
     "data": {
      "image/png": "[encoded data removed]",
      "text/plain": [
       "<Figure size 640x480 with 1 Axes>"
      ]
     },
     "metadata": {},
     "output_type": "display_data"
    },
    {
     "data": {
      "image/png": "[encoded data removed]",
      "text/plain": [
       "<Figure size 640x480 with 1 Axes>"
      ]
     },
     "metadata": {},
     "output_type": "display_data"
    },
    {
     "data": {
      "image/png": "[encoded data removed]",
      "text/plain": [
       "<Figure size 640x480 with 1 Axes>"
      ]
     },
     "metadata": {},
     "output_type": "display_data"
    },
    {
     "data": {
      "image/png": "[encoded data removed]",
      "text/plain": [
       "<Figure size 640x480 with 1 Axes>"
      ]
     },
     "metadata": {},
     "output_type": "display_data"
    }
   ],
   "source": [
    "# Distributions for all numeric variables\n",
    "# Need to normalize fare feature since it doesn`t follow normal distribution\n",
    "for i in df_num.columns:\n",
    "    plt.hist(df_num[i])\n",
    "    plt.title(i)\n",
    "    plt.show()"
   ]
  },
  {
   "cell_type": "code",
   "execution_count": 9,
   "id": "0aaa221e",
   "metadata": {
    "execution": {
     "iopub.execute_input": "2023-11-30T11:32:33.193232Z",
     "iopub.status.busy": "2023-11-30T11:32:33.192170Z",
     "iopub.status.idle": "2023-11-30T11:32:33.538440Z",
     "shell.execute_reply": "2023-11-30T11:32:33.537126Z"
    },
    "papermill": {
     "duration": 0.363029,
     "end_time": "2023-11-30T11:32:33.541006",
     "exception": false,
     "start_time": "2023-11-30T11:32:33.177977",
     "status": "completed"
    },
    "tags": []
   },
   "outputs": [
    {
     "name": "stdout",
     "output_type": "stream",
     "text": [
      "            Age     SibSp     Parch      Fare\n",
      "Age    1.000000 -0.232411 -0.155118  0.107554\n",
      "SibSp -0.232411  1.000000  0.414838  0.159651\n",
      "Parch -0.155118  0.414838  1.000000  0.216225\n",
      "Fare   0.107554  0.159651  0.216225  1.000000\n"
     ]
    },
    {
     "data": {
      "text/plain": [
       "<Axes: >"
      ]
     },
     "execution_count": 9,
     "metadata": {},
     "output_type": "execute_result"
    },
    {
     "data": {
      "image/png": "[encoded data removed]",
      "text/plain": [
       "<Figure size 640x480 with 2 Axes>"
      ]
     },
     "metadata": {},
     "output_type": "display_data"
    }
   ],
   "source": [
    "# Correlation is important to detect and avoid multicollinearity\n",
    "print(df_num.corr())\n",
    "\n",
    "# The number of parents and siblings have a correlation\n",
    "sns.heatmap(df_num.corr())"
   ]
  },
  {
   "cell_type": "code",
   "execution_count": 10,
   "id": "9ad3df32",
   "metadata": {
    "execution": {
     "iopub.execute_input": "2023-11-30T11:32:33.569630Z",
     "iopub.status.busy": "2023-11-30T11:32:33.569172Z",
     "iopub.status.idle": "2023-11-30T11:32:33.594003Z",
     "shell.execute_reply": "2023-11-30T11:32:33.593031Z"
    },
    "papermill": {
     "duration": 0.042026,
     "end_time": "2023-11-30T11:32:33.596231",
     "exception": false,
     "start_time": "2023-11-30T11:32:33.554205",
     "status": "completed"
    },
    "tags": []
   },
   "outputs": [
    {
     "data": {
      "text/html": [
       "<div>\n",
       "<style scoped>\n",
       "    .dataframe tbody tr th:only-of-type {\n",
       "        vertical-align: middle;\n",
       "    }\n",
       "\n",
       "    .dataframe tbody tr th {\n",
       "        vertical-align: top;\n",
       "    }\n",
       "\n",
       "    .dataframe thead th {\n",
       "        text-align: right;\n",
       "    }\n",
       "</style>\n",
       "<table border=\"1\" class=\"dataframe\">\n",
       "  <thead>\n",
       "    <tr style=\"text-align: right;\">\n",
       "      <th></th>\n",
       "      <th>Age</th>\n",
       "      <th>Parch</th>\n",
       "      <th>SibSp</th>\n",
       "    </tr>\n",
       "    <tr>\n",
       "      <th>Survived</th>\n",
       "      <th></th>\n",
       "      <th></th>\n",
       "      <th></th>\n",
       "    </tr>\n",
       "  </thead>\n",
       "  <tbody>\n",
       "    <tr>\n",
       "      <th>0</th>\n",
       "      <td>29.117486</td>\n",
       "      <td>0.329690</td>\n",
       "      <td>0.553734</td>\n",
       "    </tr>\n",
       "    <tr>\n",
       "      <th>1</th>\n",
       "      <td>27.683246</td>\n",
       "      <td>0.464912</td>\n",
       "      <td>0.473684</td>\n",
       "    </tr>\n",
       "  </tbody>\n",
       "</table>\n",
       "</div>"
      ],
      "text/plain": [
       "                Age     Parch     SibSp\n",
       "Survived                               \n",
       "0         29.117486  0.329690  0.553734\n",
       "1         27.683246  0.464912  0.473684"
      ]
     },
     "execution_count": 10,
     "metadata": {},
     "output_type": "execute_result"
    }
   ],
   "source": [
    "# Compare the survival rate across Age, SibSp, Parch, and fare\n",
    "pd.pivot_table(train_data, index = 'Survived', values = ['Age', 'SibSp', 'Parch'])\n",
    "\n",
    "# Younger people have a higher chance of surving\n",
    "# Rich have a higher chance of surviving"
   ]
  },
  {
   "cell_type": "code",
   "execution_count": 11,
   "id": "34f3cfb2",
   "metadata": {
    "execution": {
     "iopub.execute_input": "2023-11-30T11:32:33.627028Z",
     "iopub.status.busy": "2023-11-30T11:32:33.626603Z",
     "iopub.status.idle": "2023-11-30T11:32:34.554584Z",
     "shell.execute_reply": "2023-11-30T11:32:34.553157Z"
    },
    "papermill": {
     "duration": 0.947382,
     "end_time": "2023-11-30T11:32:34.557197",
     "exception": false,
     "start_time": "2023-11-30T11:32:33.609815",
     "status": "completed"
    },
    "tags": []
   },
   "outputs": [
    {
     "data": {
      "image/png": "[encoded data removed]",
      "text/plain": [
       "<Figure size 640x480 with 1 Axes>"
      ]
     },
     "metadata": {},
     "output_type": "display_data"
    },
    {
     "data": {
      "image/png": "[encoded data removed]",
      "text/plain": [
       "<Figure size 640x480 with 1 Axes>"
      ]
     },
     "metadata": {},
     "output_type": "display_data"
    },
    {
     "data": {
      "image/png": "[encoded data removed]",
      "text/plain": [
       "<Figure size 640x480 with 1 Axes>"
      ]
     },
     "metadata": {},
     "output_type": "display_data"
    },
    {
     "data": {
      "image/png": "[encoded data removed]",
      "text/plain": [
       "<Figure size 640x480 with 1 Axes>"
      ]
     },
     "metadata": {},
     "output_type": "display_data"
    }
   ],
   "source": [
    "for i in df_cat.columns:\n",
    "    sns.barplot(x= df_cat[i].value_counts().index, y = df_cat[i].value_counts())\n",
    "    plt.title(i)\n",
    "    plt.show()"
   ]
  },
  {
   "cell_type": "code",
   "execution_count": 12,
   "id": "7e0620f4",
   "metadata": {
    "execution": {
     "iopub.execute_input": "2023-11-30T11:32:34.589424Z",
     "iopub.status.busy": "2023-11-30T11:32:34.588941Z",
     "iopub.status.idle": "2023-11-30T11:32:34.840117Z",
     "shell.execute_reply": "2023-11-30T11:32:34.838975Z"
    },
    "papermill": {
     "duration": 0.270389,
     "end_time": "2023-11-30T11:32:34.842664",
     "exception": false,
     "start_time": "2023-11-30T11:32:34.572275",
     "status": "completed"
    },
    "tags": []
   },
   "outputs": [
    {
     "data": {
      "image/png": "[encoded data removed]",
      "text/plain": [
       "<Figure size 640x480 with 1 Axes>"
      ]
     },
     "metadata": {},
     "output_type": "display_data"
    }
   ],
   "source": [
    "# Class vs Fare\n",
    "pd.pivot_table(train_data, index = 'Pclass', values = 'Fare')\n",
    "class_fare = train_data.pivot_table(index='Pclass', values='Fare')\n",
    "class_fare.plot(kind='bar')\n",
    "plt.xlabel('Pclass')\n",
    "plt.ylabel('Average Fare')\n",
    "plt.xticks(rotation=0)\n",
    "plt.show()\n",
    "\n",
    "# The higher fare - the better class"
   ]
  },
  {
   "cell_type": "code",
   "execution_count": 13,
   "id": "0635d8ec",
   "metadata": {
    "execution": {
     "iopub.execute_input": "2023-11-30T11:32:34.875148Z",
     "iopub.status.busy": "2023-11-30T11:32:34.874627Z",
     "iopub.status.idle": "2023-11-30T11:32:34.916067Z",
     "shell.execute_reply": "2023-11-30T11:32:34.914450Z"
    },
    "papermill": {
     "duration": 0.060815,
     "end_time": "2023-11-30T11:32:34.918597",
     "exception": false,
     "start_time": "2023-11-30T11:32:34.857782",
     "status": "completed"
    },
    "tags": []
   },
   "outputs": [
    {
     "name": "stdout",
     "output_type": "stream",
     "text": [
      "Pclass      1   2    3\n",
      "Survived              \n",
      "0          80  97  372\n",
      "1         136  87  119\n",
      "\n",
      "Sex       female  male\n",
      "Survived              \n",
      "0             81   468\n",
      "1            233   109\n",
      "\n",
      "Embarked   C   Q    S\n",
      "Survived             \n",
      "0         75  47  427\n",
      "1         93  30  217\n",
      "\n"
     ]
    }
   ],
   "source": [
    "print(pd.pivot_table(train_data, index = 'Survived', columns = 'Pclass', values = 'Ticket', aggfunc = 'count'))\n",
    "print()\n",
    "print(pd.pivot_table(train_data, index = 'Survived', columns = 'Sex', values = 'Ticket', aggfunc = 'count'))\n",
    "print()\n",
    "print(pd.pivot_table(train_data, index = 'Survived', columns = 'Embarked', values = 'Ticket', aggfunc = 'count'))\n",
    "print()\n",
    "\n"
   ]
  },
  {
   "cell_type": "code",
   "execution_count": 14,
   "id": "7c668100",
   "metadata": {
    "execution": {
     "iopub.execute_input": "2023-11-30T11:32:34.951191Z",
     "iopub.status.busy": "2023-11-30T11:32:34.950739Z",
     "iopub.status.idle": "2023-11-30T11:32:35.471301Z",
     "shell.execute_reply": "2023-11-30T11:32:35.470121Z"
    },
    "papermill": {
     "duration": 0.540437,
     "end_time": "2023-11-30T11:32:35.474219",
     "exception": false,
     "start_time": "2023-11-30T11:32:34.933782",
     "status": "completed"
    },
    "tags": []
   },
   "outputs": [
    {
     "data": {
      "text/plain": [
       "<Axes: xlabel='Survived', ylabel='Fare'>"
      ]
     },
     "execution_count": 14,
     "metadata": {},
     "output_type": "execute_result"
    },
    {
     "data": {
      "image/png": "[encoded data removed]",
      "text/plain": [
       "<Figure size 640x480 with 1 Axes>"
      ]
     },
     "metadata": {},
     "output_type": "display_data"
    }
   ],
   "source": [
    "sns.barplot(train_data, x='Survived', y='Fare', hue='Pclass')"
   ]
  },
  {
   "cell_type": "markdown",
   "id": "236b9973",
   "metadata": {
    "papermill": {
     "duration": 0.015171,
     "end_time": "2023-11-30T11:32:35.505371",
     "exception": false,
     "start_time": "2023-11-30T11:32:35.490200",
     "status": "completed"
    },
    "tags": []
   },
   "source": [
    "# Data preprocessing "
   ]
  },
  {
   "cell_type": "code",
   "execution_count": 15,
   "id": "27e5c358",
   "metadata": {
    "execution": {
     "iopub.execute_input": "2023-11-30T11:32:35.539014Z",
     "iopub.status.busy": "2023-11-30T11:32:35.538505Z",
     "iopub.status.idle": "2023-11-30T11:32:35.551836Z",
     "shell.execute_reply": "2023-11-30T11:32:35.550793Z"
    },
    "papermill": {
     "duration": 0.03304,
     "end_time": "2023-11-30T11:32:35.554299",
     "exception": false,
     "start_time": "2023-11-30T11:32:35.521259",
     "status": "completed"
    },
    "tags": []
   },
   "outputs": [],
   "source": [
    "# The most common value for Embarked feature is S, so we can impute its missing value with S. \n",
    "train_data = train_data.fillna({'Embarked' : 'S'})\n",
    "test_data = test_data.fillna({'Embarked' : 'S'})\n",
    "\n",
    "# Filling in NAs in Fare with the median\n",
    "train_data = train_data.fillna({\"Fare\" : train_data[\"Fare\"].mode()[0]})\n",
    "test_data = test_data.fillna({\"Fare\" : train_data[\"Fare\"].mode()[0]})"
   ]
  },
  {
   "cell_type": "code",
   "execution_count": 16,
   "id": "1b3f0977",
   "metadata": {
    "execution": {
     "iopub.execute_input": "2023-11-30T11:32:35.588157Z",
     "iopub.status.busy": "2023-11-30T11:32:35.587470Z",
     "iopub.status.idle": "2023-11-30T11:32:35.595997Z",
     "shell.execute_reply": "2023-11-30T11:32:35.594588Z"
    },
    "papermill": {
     "duration": 0.028222,
     "end_time": "2023-11-30T11:32:35.598311",
     "exception": false,
     "start_time": "2023-11-30T11:32:35.570089",
     "status": "completed"
    },
    "tags": []
   },
   "outputs": [],
   "source": [
    "# Log transformation for Fare\n",
    "train_data['Fare'] = np.log(train_data['Fare']+1)\n",
    "test_data['Fare'] = np.log(test_data['Fare']+1)"
   ]
  },
  {
   "cell_type": "code",
   "execution_count": 17,
   "id": "135c684c",
   "metadata": {
    "execution": {
     "iopub.execute_input": "2023-11-30T11:32:35.631462Z",
     "iopub.status.busy": "2023-11-30T11:32:35.630963Z",
     "iopub.status.idle": "2023-11-30T11:32:35.639274Z",
     "shell.execute_reply": "2023-11-30T11:32:35.637918Z"
    },
    "papermill": {
     "duration": 0.027823,
     "end_time": "2023-11-30T11:32:35.641459",
     "exception": false,
     "start_time": "2023-11-30T11:32:35.613636",
     "status": "completed"
    },
    "tags": []
   },
   "outputs": [],
   "source": [
    "# Dropping unnecessary columns\n",
    "train_data.drop(columns=[\"PassengerId\", \"Name\", \"Ticket\", \"Cabin\"], inplace=True)\n",
    "test_data.drop(columns=[\"PassengerId\", \"Name\", \"Ticket\", \"Cabin\"], inplace=True)\n"
   ]
  },
  {
   "cell_type": "code",
   "execution_count": 18,
   "id": "0298e73f",
   "metadata": {
    "execution": {
     "iopub.execute_input": "2023-11-30T11:32:35.675421Z",
     "iopub.status.busy": "2023-11-30T11:32:35.674545Z",
     "iopub.status.idle": "2023-11-30T11:32:35.699957Z",
     "shell.execute_reply": "2023-11-30T11:32:35.698137Z"
    },
    "papermill": {
     "duration": 0.045347,
     "end_time": "2023-11-30T11:32:35.702543",
     "exception": false,
     "start_time": "2023-11-30T11:32:35.657196",
     "status": "completed"
    },
    "tags": []
   },
   "outputs": [
    {
     "name": "stdout",
     "output_type": "stream",
     "text": [
      "['C' 'Q' 'S']\n",
      "<class 'pandas.core.frame.DataFrame'>\n",
      "RangeIndex: 891 entries, 0 to 890\n",
      "Data columns (total 8 columns):\n",
      " #   Column    Non-Null Count  Dtype  \n",
      "---  ------    --------------  -----  \n",
      " 0   Survived  891 non-null    int64  \n",
      " 1   Pclass    891 non-null    int64  \n",
      " 2   Sex       891 non-null    int64  \n",
      " 3   Age       891 non-null    float64\n",
      " 4   SibSp     891 non-null    int64  \n",
      " 5   Parch     891 non-null    int64  \n",
      " 6   Fare      891 non-null    float64\n",
      " 7   Embarked  891 non-null    int64  \n",
      "dtypes: float64(2), int64(6)\n",
      "memory usage: 55.8 KB\n",
      "<class 'pandas.core.frame.DataFrame'>\n",
      "RangeIndex: 418 entries, 0 to 417\n",
      "Data columns (total 7 columns):\n",
      " #   Column    Non-Null Count  Dtype  \n",
      "---  ------    --------------  -----  \n",
      " 0   Pclass    418 non-null    int64  \n",
      " 1   Sex       418 non-null    int64  \n",
      " 2   Age       418 non-null    float64\n",
      " 3   SibSp     418 non-null    int64  \n",
      " 4   Parch     418 non-null    int64  \n",
      " 5   Fare      418 non-null    float64\n",
      " 6   Embarked  418 non-null    int64  \n",
      "dtypes: float64(2), int64(5)\n",
      "memory usage: 23.0 KB\n"
     ]
    }
   ],
   "source": [
    "# Label encoding for categorical features\n",
    "\n",
    "le = preprocessing.LabelEncoder()\n",
    "cols = [\"Sex\", \"Embarked\"]\n",
    "for col in cols:\n",
    "    train_data[col] = le.fit_transform(train_data[col])\n",
    "    test_data[col] = le.transform(test_data[col])\n",
    "print(le.classes_)\n",
    "train_data.info()\n",
    "test_data.info()"
   ]
  },
  {
   "cell_type": "code",
   "execution_count": 19,
   "id": "54441697",
   "metadata": {
    "execution": {
     "iopub.execute_input": "2023-11-30T11:32:35.736286Z",
     "iopub.status.busy": "2023-11-30T11:32:35.735773Z",
     "iopub.status.idle": "2023-11-30T11:32:35.788811Z",
     "shell.execute_reply": "2023-11-30T11:32:35.787652Z"
    },
    "papermill": {
     "duration": 0.07348,
     "end_time": "2023-11-30T11:32:35.791876",
     "exception": false,
     "start_time": "2023-11-30T11:32:35.718396",
     "status": "completed"
    },
    "tags": []
   },
   "outputs": [
    {
     "data": {
      "text/plain": [
       "array([[89, 16],\n",
       "       [20, 54]])"
      ]
     },
     "execution_count": 19,
     "metadata": {},
     "output_type": "execute_result"
    }
   ],
   "source": [
    "y = train_data [\"Survived\"] # Splitting response var\n",
    "X = train_data.drop(\"Survived\", axis=1)\n",
    "\n",
    "X_train, X_test, y_train, y_test = train_test_split(X, y, test_size=0.2, random_state=42)\n",
    "\n",
    "model = LogisticRegression(random_state=0, max_iter=1000).fit(X_train, y_train)\n",
    "\n",
    "predictions = model.predict(X_test)\n",
    "\n",
    "# Compute confusion matrix\n",
    "conf_matrix = confusion_matrix(y_test, predictions)\n",
    "conf_matrix"
   ]
  },
  {
   "cell_type": "code",
   "execution_count": 20,
   "id": "ae360b46",
   "metadata": {
    "execution": {
     "iopub.execute_input": "2023-11-30T11:32:35.826320Z",
     "iopub.status.busy": "2023-11-30T11:32:35.825834Z",
     "iopub.status.idle": "2023-11-30T11:32:36.181002Z",
     "shell.execute_reply": "2023-11-30T11:32:36.179793Z"
    },
    "papermill": {
     "duration": 0.376407,
     "end_time": "2023-11-30T11:32:36.184280",
     "exception": false,
     "start_time": "2023-11-30T11:32:35.807873",
     "status": "completed"
    },
    "tags": []
   },
   "outputs": [
    {
     "name": "stdout",
     "output_type": "stream",
     "text": [
      "              precision    recall  f1-score   support\n",
      "\n",
      "           0       0.82      0.85      0.83       105\n",
      "           1       0.77      0.73      0.75        74\n",
      "\n",
      "    accuracy                           0.80       179\n",
      "   macro avg       0.79      0.79      0.79       179\n",
      "weighted avg       0.80      0.80      0.80       179\n",
      "\n",
      "AUC: 0.887129987129987\n"
     ]
    },
    {
     "data": {
      "image/png": "[encoded data removed]",
      "text/plain": [
       "<Figure size 800x600 with 1 Axes>"
      ]
     },
     "metadata": {},
     "output_type": "display_data"
    }
   ],
   "source": [
    "# F1 Score is the weighted average of Precision and Recall. Therefore, this score takes both false positives and false negatives into account. \n",
    "print(classification_report(y_test, predictions))\n",
    "\n",
    "predictions_prob = model.predict_proba(X_test)[:, 1]\n",
    "\n",
    "# Calculate ROC curve\n",
    "fpr, tpr, thresholds = roc_curve(y_test, predictions_prob)\n",
    "\n",
    "# Calculate AUC \n",
    "roc_auc = roc_auc_score(y_test, predictions_prob)\n",
    "print(f'AUC: {roc_auc}')\n",
    "\n",
    "# Plot ROC curve\n",
    "plt.figure(figsize=(8, 6))\n",
    "plt.plot(fpr, tpr, label=f'ROC Curve (AUC = {roc_auc:.2f})')\n",
    "plt.plot([0, 1], [0, 1], 'k--', label='Random guess')\n",
    "plt.xlabel('False Positive Rate')\n",
    "plt.ylabel('True Positive Rate')\n",
    "plt.title('Receiver Operating Characteristic (ROC) Curve')\n",
    "plt.legend(loc=\"lower right\")\n",
    "plt.show()"
   ]
  },
  {
   "cell_type": "markdown",
   "id": "6fdf19f4",
   "metadata": {
    "papermill": {
     "duration": 0.016769,
     "end_time": "2023-11-30T11:32:36.218242",
     "exception": false,
     "start_time": "2023-11-30T11:32:36.201473",
     "status": "completed"
    },
    "tags": []
   },
   "source": [
    "AUC value is 0.89, the model shows decent accuracy"
   ]
  },
  {
   "cell_type": "code",
   "execution_count": 21,
   "id": "9c79fee3",
   "metadata": {
    "execution": {
     "iopub.execute_input": "2023-11-30T11:32:36.255964Z",
     "iopub.status.busy": "2023-11-30T11:32:36.254610Z",
     "iopub.status.idle": "2023-11-30T11:32:36.264757Z",
     "shell.execute_reply": "2023-11-30T11:32:36.263224Z"
    },
    "papermill": {
     "duration": 0.032066,
     "end_time": "2023-11-30T11:32:36.267789",
     "exception": false,
     "start_time": "2023-11-30T11:32:36.235723",
     "status": "completed"
    },
    "tags": []
   },
   "outputs": [
    {
     "name": "stdout",
     "output_type": "stream",
     "text": [
      "Accuracy at threshold 0.6: 0.81\n"
     ]
    }
   ],
   "source": [
    "# Getting model's accuracy at threshhold 0.6\n",
    "\n",
    "from sklearn.metrics import accuracy_score\n",
    "\n",
    "# Set the threshold\n",
    "threshold = 0.6\n",
    "\n",
    "# Convert predicted probabilities to binary predictions based on the threshold\n",
    "predictions_binary = (predictions_prob > threshold).astype(int)\n",
    "\n",
    "# Calculate accuracy\n",
    "accuracy = accuracy_score(y_test, predictions_binary)\n",
    "print(f'Accuracy at threshold {threshold}: {accuracy:.2f}')"
   ]
  },
  {
   "cell_type": "markdown",
   "id": "a0dba458",
   "metadata": {
    "papermill": {
     "duration": 0.01673,
     "end_time": "2023-11-30T11:32:36.301954",
     "exception": false,
     "start_time": "2023-11-30T11:32:36.285224",
     "status": "completed"
    },
    "tags": []
   },
   "source": [
    "# Test Submission\n",
    "\n",
    "**Got the score of 0.77**"
   ]
  },
  {
   "cell_type": "code",
   "execution_count": 22,
   "id": "ee1611d0",
   "metadata": {
    "execution": {
     "iopub.execute_input": "2023-11-30T11:32:36.429742Z",
     "iopub.status.busy": "2023-11-30T11:32:36.428587Z",
     "iopub.status.idle": "2023-11-30T11:32:36.448604Z",
     "shell.execute_reply": "2023-11-30T11:32:36.447551Z"
    },
    "papermill": {
     "duration": 0.042092,
     "end_time": "2023-11-30T11:32:36.451402",
     "exception": false,
     "start_time": "2023-11-30T11:32:36.409310",
     "status": "completed"
    },
    "tags": []
   },
   "outputs": [],
   "source": [
    "sub = pd.read_csv('/kaggle/input/titanic/gender_submission.csv')\n",
    "sub['Survived'] = model.predict(test_data)\n",
    "sub.head()\n",
    "sub.to_csv('submission.csv', index=False)"
   ]
  },
  {
   "cell_type": "markdown",
   "id": "e9bcfe5c",
   "metadata": {
    "papermill": {
     "duration": 0.017376,
     "end_time": "2023-11-30T11:32:36.486399",
     "exception": false,
     "start_time": "2023-11-30T11:32:36.469023",
     "status": "completed"
    },
    "tags": []
   },
   "source": [
    "# Things to improve:\n",
    "* Change the set of variables in the model\n",
    "* Impute age based on the median age of the class the NA is from\n",
    "* Not include the number of siblings and parents in the model, just put the marker if they had any.\n",
    "* Transform cabins to analyse their location and see if it affected model accuracy\n",
    "* Names title mights also influence the accuracy\n",
    "* Make a function to clean both train and test data\n",
    "* Create other models and evaluate them"
   ]
  }
 ],
 "metadata": {
  "kaggle": {
   "accelerator": "none",
   "dataSources": [
    {
     "databundleVersionId": 26502,
     "sourceId": 3136,
     "sourceType": "competition"
    }
   ],
   "dockerImageVersionId": 30587,
   "isGpuEnabled": false,
   "isInternetEnabled": false,
   "language": "python",
   "sourceType": "notebook"
  },
  "kernelspec": {
   "display_name": "Python 3",
   "language": "python",
   "name": "python3"
  },
  "language_info": {
   "codemirror_mode": {
    "name": "ipython",
    "version": 3
   },
   "file_extension": ".py",
   "mimetype": "text/x-python",
   "name": "python",
   "nbconvert_exporter": "python",
   "pygments_lexer": "ipython3",
   "version": "3.10.12"
  },
  "papermill": {
   "default_parameters": {},
   "duration": 11.988133,
   "end_time": "2023-11-30T11:32:37.226566",
   "environment_variables": {},
   "exception": null,
   "input_path": "__notebook__.ipynb",
   "output_path": "__notebook__.ipynb",
   "parameters": {},
   "start_time": "2023-11-30T11:32:25.238433",
   "version": "2.4.0"
  }
 },
 "nbformat": 4,
 "nbformat_minor": 5
}
