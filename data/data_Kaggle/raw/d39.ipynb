{
 "cells": [
  {
   "cell_type": "code",
   "execution_count": 1,
   "metadata": {
    "_cell_guid": "b1076dfc-b9ad-4769-8c92-a6c4dae69d19",
    "_uuid": "8f2839f25d086af736a60e9eeb907d3b93b6e0e5",
    "execution": {
     "iopub.execute_input": "2022-07-23T15:39:04.596551Z",
     "iopub.status.busy": "2022-07-23T15:39:04.595815Z",
     "iopub.status.idle": "2022-07-23T15:39:05.567569Z",
     "shell.execute_reply": "2022-07-23T15:39:05.568447Z",
     "shell.execute_reply.started": "2022-07-22T11:08:53.554717Z"
    },
    "papermill": {
     "duration": 1.031988,
     "end_time": "2022-07-23T15:39:05.568754",
     "exception": false,
     "start_time": "2022-07-23T15:39:04.536766",
     "status": "completed"
    },
    "tags": []
   },
   "outputs": [],
   "source": [
    "## Import basic libraries\n",
    "\n",
    "import numpy as np\n",
    "import pandas as pd\n",
    "import matplotlib.pyplot as plt\n",
    "import seaborn as sns"
   ]
  },
  {
   "cell_type": "markdown",
   "metadata": {
    "papermill": {
     "duration": 0.048795,
     "end_time": "2022-07-23T15:39:05.667140",
     "exception": false,
     "start_time": "2022-07-23T15:39:05.618345",
     "status": "completed"
    },
    "tags": []
   },
   "source": [
    "# Data"
   ]
  },
  {
   "cell_type": "code",
   "execution_count": 2,
   "metadata": {
    "_cell_guid": "79c7e3d0-c299-4dcb-8224-4455121ee9b0",
    "_uuid": "d629ff2d2480ee46fbb7e2d37f6b5fab8052498a",
    "execution": {
     "iopub.execute_input": "2022-07-23T15:39:05.770533Z",
     "iopub.status.busy": "2022-07-23T15:39:05.769805Z",
     "iopub.status.idle": "2022-07-23T15:39:05.813648Z",
     "shell.execute_reply": "2022-07-23T15:39:05.812899Z",
     "shell.execute_reply.started": "2022-07-22T11:08:53.568398Z"
    },
    "papermill": {
     "duration": 0.09665,
     "end_time": "2022-07-23T15:39:05.813817",
     "exception": false,
     "start_time": "2022-07-23T15:39:05.717167",
     "status": "completed"
    },
    "tags": []
   },
   "outputs": [
    {
     "data": {
      "text/html": [
       "<div>\n",
       "<style scoped>\n",
       "    .dataframe tbody tr th:only-of-type {\n",
       "        vertical-align: middle;\n",
       "    }\n",
       "\n",
       "    .dataframe tbody tr th {\n",
       "        vertical-align: top;\n",
       "    }\n",
       "\n",
       "    .dataframe thead th {\n",
       "        text-align: right;\n",
       "    }\n",
       "</style>\n",
       "<table border=\"1\" class=\"dataframe\">\n",
       "  <thead>\n",
       "    <tr style=\"text-align: right;\">\n",
       "      <th></th>\n",
       "      <th>PassengerId</th>\n",
       "      <th>Survived</th>\n",
       "      <th>Pclass</th>\n",
       "      <th>Name</th>\n",
       "      <th>Sex</th>\n",
       "      <th>Age</th>\n",
       "      <th>SibSp</th>\n",
       "      <th>Parch</th>\n",
       "      <th>Ticket</th>\n",
       "      <th>Fare</th>\n",
       "      <th>Cabin</th>\n",
       "      <th>Embarked</th>\n",
       "    </tr>\n",
       "  </thead>\n",
       "  <tbody>\n",
       "    <tr>\n",
       "      <th>0</th>\n",
       "      <td>1</td>\n",
       "      <td>0</td>\n",
       "      <td>3</td>\n",
       "      <td>Braund, Mr. Owen Harris</td>\n",
       "      <td>male</td>\n",
       "      <td>22.0</td>\n",
       "      <td>1</td>\n",
       "      <td>0</td>\n",
       "      <td>A/5 21171</td>\n",
       "      <td>7.2500</td>\n",
       "      <td>NaN</td>\n",
       "      <td>S</td>\n",
       "    </tr>\n",
       "    <tr>\n",
       "      <th>1</th>\n",
       "      <td>2</td>\n",
       "      <td>1</td>\n",
       "      <td>1</td>\n",
       "      <td>Cumings, Mrs. John Bradley (Florence Briggs Th...</td>\n",
       "      <td>female</td>\n",
       "      <td>38.0</td>\n",
       "      <td>1</td>\n",
       "      <td>0</td>\n",
       "      <td>PC 17599</td>\n",
       "      <td>71.2833</td>\n",
       "      <td>C85</td>\n",
       "      <td>C</td>\n",
       "    </tr>\n",
       "    <tr>\n",
       "      <th>2</th>\n",
       "      <td>3</td>\n",
       "      <td>1</td>\n",
       "      <td>3</td>\n",
       "      <td>Heikkinen, Miss. Laina</td>\n",
       "      <td>female</td>\n",
       "      <td>26.0</td>\n",
       "      <td>0</td>\n",
       "      <td>0</td>\n",
       "      <td>STON/O2. 3101282</td>\n",
       "      <td>7.9250</td>\n",
       "      <td>NaN</td>\n",
       "      <td>S</td>\n",
       "    </tr>\n",
       "    <tr>\n",
       "      <th>3</th>\n",
       "      <td>4</td>\n",
       "      <td>1</td>\n",
       "      <td>1</td>\n",
       "      <td>Futrelle, Mrs. Jacques Heath (Lily May Peel)</td>\n",
       "      <td>female</td>\n",
       "      <td>35.0</td>\n",
       "      <td>1</td>\n",
       "      <td>0</td>\n",
       "      <td>113803</td>\n",
       "      <td>53.1000</td>\n",
       "      <td>C123</td>\n",
       "      <td>S</td>\n",
       "    </tr>\n",
       "    <tr>\n",
       "      <th>4</th>\n",
       "      <td>5</td>\n",
       "      <td>0</td>\n",
       "      <td>3</td>\n",
       "      <td>Allen, Mr. William Henry</td>\n",
       "      <td>male</td>\n",
       "      <td>35.0</td>\n",
       "      <td>0</td>\n",
       "      <td>0</td>\n",
       "      <td>373450</td>\n",
       "      <td>8.0500</td>\n",
       "      <td>NaN</td>\n",
       "      <td>S</td>\n",
       "    </tr>\n",
       "  </tbody>\n",
       "</table>\n",
       "</div>"
      ],
      "text/plain": [
       "   PassengerId  Survived  Pclass  \\\n",
       "0            1         0       3   \n",
       "1            2         1       1   \n",
       "2            3         1       3   \n",
       "3            4         1       1   \n",
       "4            5         0       3   \n",
       "\n",
       "                                                Name     Sex   Age  SibSp  \\\n",
       "0                            Braund, Mr. Owen Harris    male  22.0      1   \n",
       "1  Cumings, Mrs. John Bradley (Florence Briggs Th...  female  38.0      1   \n",
       "2                             Heikkinen, Miss. Laina  female  26.0      0   \n",
       "3       Futrelle, Mrs. Jacques Heath (Lily May Peel)  female  35.0      1   \n",
       "4                           Allen, Mr. William Henry    male  35.0      0   \n",
       "\n",
       "   Parch            Ticket     Fare Cabin Embarked  \n",
       "0      0         A/5 21171   7.2500   NaN        S  \n",
       "1      0          PC 17599  71.2833   C85        C  \n",
       "2      0  STON/O2. 3101282   7.9250   NaN        S  \n",
       "3      0            113803  53.1000  C123        S  \n",
       "4      0            373450   8.0500   NaN        S  "
      ]
     },
     "execution_count": 2,
     "metadata": {},
     "output_type": "execute_result"
    }
   ],
   "source": [
    "data = pd.read_csv('/kaggle/input/titanic/train.csv')\n",
    "data.head()"
   ]
  },
  {
   "cell_type": "code",
   "execution_count": 3,
   "metadata": {
    "execution": {
     "iopub.execute_input": "2022-07-23T15:39:05.944271Z",
     "iopub.status.busy": "2022-07-23T15:39:05.943017Z",
     "iopub.status.idle": "2022-07-23T15:39:05.960732Z",
     "shell.execute_reply": "2022-07-23T15:39:05.959955Z",
     "shell.execute_reply.started": "2022-07-22T11:08:53.606213Z"
    },
    "papermill": {
     "duration": 0.093455,
     "end_time": "2022-07-23T15:39:05.960890",
     "exception": false,
     "start_time": "2022-07-23T15:39:05.867435",
     "status": "completed"
    },
    "tags": []
   },
   "outputs": [
    {
     "name": "stdout",
     "output_type": "stream",
     "text": [
      "<class 'pandas.core.frame.DataFrame'>\n",
      "RangeIndex: 891 entries, 0 to 890\n",
      "Data columns (total 12 columns):\n",
      " #   Column       Non-Null Count  Dtype  \n",
      "---  ------       --------------  -----  \n",
      " 0   PassengerId  891 non-null    int64  \n",
      " 1   Survived     891 non-null    int64  \n",
      " 2   Pclass       891 non-null    int64  \n",
      " 3   Name         891 non-null    object \n",
      " 4   Sex          891 non-null    object \n",
      " 5   Age          714 non-null    float64\n",
      " 6   SibSp        891 non-null    int64  \n",
      " 7   Parch        891 non-null    int64  \n",
      " 8   Ticket       891 non-null    object \n",
      " 9   Fare         891 non-null    float64\n",
      " 10  Cabin        204 non-null    object \n",
      " 11  Embarked     889 non-null    object \n",
      "dtypes: float64(2), int64(5), object(5)\n",
      "memory usage: 83.7+ KB\n"
     ]
    }
   ],
   "source": [
    "data.info()"
   ]
  },
  {
   "cell_type": "code",
   "execution_count": 4,
   "metadata": {
    "execution": {
     "iopub.execute_input": "2022-07-23T15:39:06.071586Z",
     "iopub.status.busy": "2022-07-23T15:39:06.070455Z",
     "iopub.status.idle": "2022-07-23T15:39:06.109409Z",
     "shell.execute_reply": "2022-07-23T15:39:06.110214Z",
     "shell.execute_reply.started": "2022-07-22T11:08:53.623390Z"
    },
    "papermill": {
     "duration": 0.096592,
     "end_time": "2022-07-23T15:39:06.110431",
     "exception": false,
     "start_time": "2022-07-23T15:39:06.013839",
     "status": "completed"
    },
    "tags": []
   },
   "outputs": [
    {
     "data": {
      "text/html": [
       "<div>\n",
       "<style scoped>\n",
       "    .dataframe tbody tr th:only-of-type {\n",
       "        vertical-align: middle;\n",
       "    }\n",
       "\n",
       "    .dataframe tbody tr th {\n",
       "        vertical-align: top;\n",
       "    }\n",
       "\n",
       "    .dataframe thead th {\n",
       "        text-align: right;\n",
       "    }\n",
       "</style>\n",
       "<table border=\"1\" class=\"dataframe\">\n",
       "  <thead>\n",
       "    <tr style=\"text-align: right;\">\n",
       "      <th></th>\n",
       "      <th>PassengerId</th>\n",
       "      <th>Survived</th>\n",
       "      <th>Pclass</th>\n",
       "      <th>Age</th>\n",
       "      <th>SibSp</th>\n",
       "      <th>Parch</th>\n",
       "      <th>Fare</th>\n",
       "    </tr>\n",
       "  </thead>\n",
       "  <tbody>\n",
       "    <tr>\n",
       "      <th>count</th>\n",
       "      <td>891.000000</td>\n",
       "      <td>891.000000</td>\n",
       "      <td>891.000000</td>\n",
       "      <td>714.000000</td>\n",
       "      <td>891.000000</td>\n",
       "      <td>891.000000</td>\n",
       "      <td>891.000000</td>\n",
       "    </tr>\n",
       "    <tr>\n",
       "      <th>mean</th>\n",
       "      <td>446.000000</td>\n",
       "      <td>0.383838</td>\n",
       "      <td>2.308642</td>\n",
       "      <td>29.699118</td>\n",
       "      <td>0.523008</td>\n",
       "      <td>0.381594</td>\n",
       "      <td>32.204208</td>\n",
       "    </tr>\n",
       "    <tr>\n",
       "      <th>std</th>\n",
       "      <td>257.353842</td>\n",
       "      <td>0.486592</td>\n",
       "      <td>0.836071</td>\n",
       "      <td>14.526497</td>\n",
       "      <td>1.102743</td>\n",
       "      <td>0.806057</td>\n",
       "      <td>49.693429</td>\n",
       "    </tr>\n",
       "    <tr>\n",
       "      <th>min</th>\n",
       "      <td>1.000000</td>\n",
       "      <td>0.000000</td>\n",
       "      <td>1.000000</td>\n",
       "      <td>0.420000</td>\n",
       "      <td>0.000000</td>\n",
       "      <td>0.000000</td>\n",
       "      <td>0.000000</td>\n",
       "    </tr>\n",
       "    <tr>\n",
       "      <th>25%</th>\n",
       "      <td>223.500000</td>\n",
       "      <td>0.000000</td>\n",
       "      <td>2.000000</td>\n",
       "      <td>20.125000</td>\n",
       "      <td>0.000000</td>\n",
       "      <td>0.000000</td>\n",
       "      <td>7.910400</td>\n",
       "    </tr>\n",
       "    <tr>\n",
       "      <th>50%</th>\n",
       "      <td>446.000000</td>\n",
       "      <td>0.000000</td>\n",
       "      <td>3.000000</td>\n",
       "      <td>28.000000</td>\n",
       "      <td>0.000000</td>\n",
       "      <td>0.000000</td>\n",
       "      <td>14.454200</td>\n",
       "    </tr>\n",
       "    <tr>\n",
       "      <th>75%</th>\n",
       "      <td>668.500000</td>\n",
       "      <td>1.000000</td>\n",
       "      <td>3.000000</td>\n",
       "      <td>38.000000</td>\n",
       "      <td>1.000000</td>\n",
       "      <td>0.000000</td>\n",
       "      <td>31.000000</td>\n",
       "    </tr>\n",
       "    <tr>\n",
       "      <th>max</th>\n",
       "      <td>891.000000</td>\n",
       "      <td>1.000000</td>\n",
       "      <td>3.000000</td>\n",
       "      <td>80.000000</td>\n",
       "      <td>8.000000</td>\n",
       "      <td>6.000000</td>\n",
       "      <td>512.329200</td>\n",
       "    </tr>\n",
       "  </tbody>\n",
       "</table>\n",
       "</div>"
      ],
      "text/plain": [
       "       PassengerId    Survived      Pclass         Age       SibSp  \\\n",
       "count   891.000000  891.000000  891.000000  714.000000  891.000000   \n",
       "mean    446.000000    0.383838    2.308642   29.699118    0.523008   \n",
       "std     257.353842    0.486592    0.836071   14.526497    1.102743   \n",
       "min       1.000000    0.000000    1.000000    0.420000    0.000000   \n",
       "25%     223.500000    0.000000    2.000000   20.125000    0.000000   \n",
       "50%     446.000000    0.000000    3.000000   28.000000    0.000000   \n",
       "75%     668.500000    1.000000    3.000000   38.000000    1.000000   \n",
       "max     891.000000    1.000000    3.000000   80.000000    8.000000   \n",
       "\n",
       "            Parch        Fare  \n",
       "count  891.000000  891.000000  \n",
       "mean     0.381594   32.204208  \n",
       "std      0.806057   49.693429  \n",
       "min      0.000000    0.000000  \n",
       "25%      0.000000    7.910400  \n",
       "50%      0.000000   14.454200  \n",
       "75%      0.000000   31.000000  \n",
       "max      6.000000  512.329200  "
      ]
     },
     "execution_count": 4,
     "metadata": {},
     "output_type": "execute_result"
    }
   ],
   "source": [
    "data.describe()"
   ]
  },
  {
   "cell_type": "code",
   "execution_count": 5,
   "metadata": {
    "execution": {
     "iopub.execute_input": "2022-07-23T15:39:06.231803Z",
     "iopub.status.busy": "2022-07-23T15:39:06.231065Z",
     "iopub.status.idle": "2022-07-23T15:39:06.236462Z",
     "shell.execute_reply": "2022-07-23T15:39:06.236975Z",
     "shell.execute_reply.started": "2022-07-22T11:08:53.663937Z"
    },
    "papermill": {
     "duration": 0.065242,
     "end_time": "2022-07-23T15:39:06.237163",
     "exception": false,
     "start_time": "2022-07-23T15:39:06.171921",
     "status": "completed"
    },
    "tags": []
   },
   "outputs": [],
   "source": [
    "# remove unwanted attributes\n",
    "data = data.drop(['PassengerId','Ticket'], axis=1)"
   ]
  },
  {
   "cell_type": "markdown",
   "metadata": {
    "papermill": {
     "duration": 0.055691,
     "end_time": "2022-07-23T15:39:06.354309",
     "exception": false,
     "start_time": "2022-07-23T15:39:06.298618",
     "status": "completed"
    },
    "tags": []
   },
   "source": [
    "# Feature Extraction"
   ]
  },
  {
   "cell_type": "markdown",
   "metadata": {
    "papermill": {
     "duration": 0.051397,
     "end_time": "2022-07-23T15:39:06.456404",
     "exception": false,
     "start_time": "2022-07-23T15:39:06.405007",
     "status": "completed"
    },
    "tags": []
   },
   "source": [
    "## Cabin"
   ]
  },
  {
   "cell_type": "code",
   "execution_count": 6,
   "metadata": {
    "execution": {
     "iopub.execute_input": "2022-07-23T15:39:06.562564Z",
     "iopub.status.busy": "2022-07-23T15:39:06.561505Z",
     "iopub.status.idle": "2022-07-23T15:39:06.569108Z",
     "shell.execute_reply": "2022-07-23T15:39:06.569580Z",
     "shell.execute_reply.started": "2022-07-22T11:08:53.674082Z"
    },
    "papermill": {
     "duration": 0.062708,
     "end_time": "2022-07-23T15:39:06.569777",
     "exception": false,
     "start_time": "2022-07-23T15:39:06.507069",
     "status": "completed"
    },
    "tags": []
   },
   "outputs": [
    {
     "data": {
      "text/plain": [
       "array([nan, 'C85', 'C123', 'E46', 'G6', 'C103', 'D56', 'A6',\n",
       "       'C23 C25 C27', 'B78', 'D33', 'B30', 'C52', 'B28', 'C83', 'F33',\n",
       "       'F G73', 'E31', 'A5', 'D10 D12', 'D26', 'C110', 'B58 B60', 'E101',\n",
       "       'F E69', 'D47', 'B86', 'F2', 'C2', 'E33', 'B19', 'A7', 'C49', 'F4',\n",
       "       'A32', 'B4', 'B80', 'A31', 'D36', 'D15', 'C93', 'C78', 'D35',\n",
       "       'C87', 'B77', 'E67', 'B94', 'C125', 'C99', 'C118', 'D7', 'A19',\n",
       "       'B49', 'D', 'C22 C26', 'C106', 'C65', 'E36', 'C54',\n",
       "       'B57 B59 B63 B66', 'C7', 'E34', 'C32', 'B18', 'C124', 'C91', 'E40',\n",
       "       'T', 'C128', 'D37', 'B35', 'E50', 'C82', 'B96 B98', 'E10', 'E44',\n",
       "       'A34', 'C104', 'C111', 'C92', 'E38', 'D21', 'E12', 'E63', 'A14',\n",
       "       'B37', 'C30', 'D20', 'B79', 'E25', 'D46', 'B73', 'C95', 'B38',\n",
       "       'B39', 'B22', 'C86', 'C70', 'A16', 'C101', 'C68', 'A10', 'E68',\n",
       "       'B41', 'A20', 'D19', 'D50', 'D9', 'A23', 'B50', 'A26', 'D48',\n",
       "       'E58', 'C126', 'B71', 'B51 B53 B55', 'D49', 'B5', 'B20', 'F G63',\n",
       "       'C62 C64', 'E24', 'C90', 'C45', 'E8', 'B101', 'D45', 'C46', 'D30',\n",
       "       'E121', 'D11', 'E77', 'F38', 'B3', 'D6', 'B82 B84', 'D17', 'A36',\n",
       "       'B102', 'B69', 'E49', 'C47', 'D28', 'E17', 'A24', 'C50', 'B42',\n",
       "       'C148'], dtype=object)"
      ]
     },
     "execution_count": 6,
     "metadata": {},
     "output_type": "execute_result"
    }
   ],
   "source": [
    "data.Cabin.unique()"
   ]
  },
  {
   "cell_type": "code",
   "execution_count": 7,
   "metadata": {
    "execution": {
     "iopub.execute_input": "2022-07-23T15:39:06.675247Z",
     "iopub.status.busy": "2022-07-23T15:39:06.674242Z",
     "iopub.status.idle": "2022-07-23T15:39:06.684779Z",
     "shell.execute_reply": "2022-07-23T15:39:06.684058Z",
     "shell.execute_reply.started": "2022-07-22T11:08:53.687699Z"
    },
    "papermill": {
     "duration": 0.064017,
     "end_time": "2022-07-23T15:39:06.684908",
     "exception": false,
     "start_time": "2022-07-23T15:39:06.620891",
     "status": "completed"
    },
    "tags": []
   },
   "outputs": [
    {
     "data": {
      "text/plain": [
       "['n', 'C', 'E', 'G', 'D', 'A', 'B', 'F', 'T']"
      ]
     },
     "execution_count": 7,
     "metadata": {},
     "output_type": "execute_result"
    }
   ],
   "source": [
    "def show_decks(df):\n",
    "    temp = []\n",
    "    for i in df['Cabin'].unique():\n",
    "        a = str(i)[0]\n",
    "        if a not in temp:\n",
    "            temp.append(a)\n",
    "    return temp\n",
    "\n",
    "show_decks(data)"
   ]
  },
  {
   "cell_type": "markdown",
   "metadata": {
    "papermill": {
     "duration": 0.052323,
     "end_time": "2022-07-23T15:39:06.788726",
     "exception": false,
     "start_time": "2022-07-23T15:39:06.736403",
     "status": "completed"
    },
    "tags": []
   },
   "source": [
    "![](http://upload.wikimedia.org/wikipedia/commons/0/0d/Olympic_%26_Titanic_cutaway_diagram.png)"
   ]
  },
  {
   "cell_type": "markdown",
   "metadata": {
    "papermill": {
     "duration": 0.053139,
     "end_time": "2022-07-23T15:39:06.892589",
     "exception": false,
     "start_time": "2022-07-23T15:39:06.839450",
     "status": "completed"
    },
    "tags": []
   },
   "source": [
    "### Implementing Cabin Transformer\n",
    "* Extract the first alphabetic character of the Cabin which is a deck of the ship\n",
    "* Group the decks level wise from top to bottom"
   ]
  },
  {
   "cell_type": "code",
   "execution_count": 8,
   "metadata": {
    "execution": {
     "iopub.execute_input": "2022-07-23T15:39:07.005448Z",
     "iopub.status.busy": "2022-07-23T15:39:07.004334Z",
     "iopub.status.idle": "2022-07-23T15:39:07.049887Z",
     "shell.execute_reply": "2022-07-23T15:39:07.050463Z",
     "shell.execute_reply.started": "2022-07-22T11:08:53.699765Z"
    },
    "papermill": {
     "duration": 0.106505,
     "end_time": "2022-07-23T15:39:07.050608",
     "exception": false,
     "start_time": "2022-07-23T15:39:06.944103",
     "status": "completed"
    },
    "tags": []
   },
   "outputs": [],
   "source": [
    "from sklearn.base import BaseEstimator, TransformerMixin\n",
    "\n",
    "class CabinTransformer(BaseEstimator, TransformerMixin):\n",
    "    def fit(self, df):\n",
    "        return self\n",
    "    \n",
    "    def extract_cabin(self, cabin):\n",
    "        cabin = str(cabin)\n",
    "        if cabin=='nan':\n",
    "            return 'U'\n",
    "        else:\n",
    "            return cabin[0]\n",
    "\n",
    "    def group_deck(self, deck):\n",
    "        if deck in ['A','B','C','T']:\n",
    "            return 'ABC'  # Top 3 Decks\n",
    "        elif deck in ['D','E']:\n",
    "            return 'DE'  # Next 2 Decks from top\n",
    "        elif deck in ['F','G']:\n",
    "            return 'FG'  # Bottom 2 Decks\n",
    "        else:\n",
    "            return 'U'\n",
    "        \n",
    "    def transform(self, df):\n",
    "        df1 = df.copy()\n",
    "        df1['Cabin'] = df1['Cabin'].apply(self.extract_cabin)\n",
    "        df1['Cabin'] = df1['Cabin'].apply(self.group_deck)\n",
    "        \n",
    "        cabin_maps = {'ABC':0, 'DE':1, 'FG':2, 'U':3}\n",
    "        df1['Cabin'] = df1['Cabin'].map(cabin_maps)\n",
    "        return df1"
   ]
  },
  {
   "cell_type": "code",
   "execution_count": 9,
   "metadata": {
    "execution": {
     "iopub.execute_input": "2022-07-23T15:39:07.155442Z",
     "iopub.status.busy": "2022-07-23T15:39:07.154820Z",
     "iopub.status.idle": "2022-07-23T15:39:07.174415Z",
     "shell.execute_reply": "2022-07-23T15:39:07.175048Z",
     "shell.execute_reply.started": "2022-07-22T11:08:53.717243Z"
    },
    "papermill": {
     "duration": 0.073819,
     "end_time": "2022-07-23T15:39:07.175191",
     "exception": false,
     "start_time": "2022-07-23T15:39:07.101372",
     "status": "completed"
    },
    "tags": []
   },
   "outputs": [
    {
     "data": {
      "text/html": [
       "<div>\n",
       "<style scoped>\n",
       "    .dataframe tbody tr th:only-of-type {\n",
       "        vertical-align: middle;\n",
       "    }\n",
       "\n",
       "    .dataframe tbody tr th {\n",
       "        vertical-align: top;\n",
       "    }\n",
       "\n",
       "    .dataframe thead th {\n",
       "        text-align: right;\n",
       "    }\n",
       "</style>\n",
       "<table border=\"1\" class=\"dataframe\">\n",
       "  <thead>\n",
       "    <tr style=\"text-align: right;\">\n",
       "      <th></th>\n",
       "      <th>Survived</th>\n",
       "      <th>Pclass</th>\n",
       "      <th>Name</th>\n",
       "      <th>Sex</th>\n",
       "      <th>Age</th>\n",
       "      <th>SibSp</th>\n",
       "      <th>Parch</th>\n",
       "      <th>Fare</th>\n",
       "      <th>Cabin</th>\n",
       "      <th>Embarked</th>\n",
       "    </tr>\n",
       "  </thead>\n",
       "  <tbody>\n",
       "    <tr>\n",
       "      <th>0</th>\n",
       "      <td>0</td>\n",
       "      <td>3</td>\n",
       "      <td>Braund, Mr. Owen Harris</td>\n",
       "      <td>male</td>\n",
       "      <td>22.0</td>\n",
       "      <td>1</td>\n",
       "      <td>0</td>\n",
       "      <td>7.2500</td>\n",
       "      <td>3</td>\n",
       "      <td>S</td>\n",
       "    </tr>\n",
       "    <tr>\n",
       "      <th>1</th>\n",
       "      <td>1</td>\n",
       "      <td>1</td>\n",
       "      <td>Cumings, Mrs. John Bradley (Florence Briggs Th...</td>\n",
       "      <td>female</td>\n",
       "      <td>38.0</td>\n",
       "      <td>1</td>\n",
       "      <td>0</td>\n",
       "      <td>71.2833</td>\n",
       "      <td>0</td>\n",
       "      <td>C</td>\n",
       "    </tr>\n",
       "    <tr>\n",
       "      <th>2</th>\n",
       "      <td>1</td>\n",
       "      <td>3</td>\n",
       "      <td>Heikkinen, Miss. Laina</td>\n",
       "      <td>female</td>\n",
       "      <td>26.0</td>\n",
       "      <td>0</td>\n",
       "      <td>0</td>\n",
       "      <td>7.9250</td>\n",
       "      <td>3</td>\n",
       "      <td>S</td>\n",
       "    </tr>\n",
       "    <tr>\n",
       "      <th>3</th>\n",
       "      <td>1</td>\n",
       "      <td>1</td>\n",
       "      <td>Futrelle, Mrs. Jacques Heath (Lily May Peel)</td>\n",
       "      <td>female</td>\n",
       "      <td>35.0</td>\n",
       "      <td>1</td>\n",
       "      <td>0</td>\n",
       "      <td>53.1000</td>\n",
       "      <td>0</td>\n",
       "      <td>S</td>\n",
       "    </tr>\n",
       "    <tr>\n",
       "      <th>4</th>\n",
       "      <td>0</td>\n",
       "      <td>3</td>\n",
       "      <td>Allen, Mr. William Henry</td>\n",
       "      <td>male</td>\n",
       "      <td>35.0</td>\n",
       "      <td>0</td>\n",
       "      <td>0</td>\n",
       "      <td>8.0500</td>\n",
       "      <td>3</td>\n",
       "      <td>S</td>\n",
       "    </tr>\n",
       "  </tbody>\n",
       "</table>\n",
       "</div>"
      ],
      "text/plain": [
       "   Survived  Pclass                                               Name  \\\n",
       "0         0       3                            Braund, Mr. Owen Harris   \n",
       "1         1       1  Cumings, Mrs. John Bradley (Florence Briggs Th...   \n",
       "2         1       3                             Heikkinen, Miss. Laina   \n",
       "3         1       1       Futrelle, Mrs. Jacques Heath (Lily May Peel)   \n",
       "4         0       3                           Allen, Mr. William Henry   \n",
       "\n",
       "      Sex   Age  SibSp  Parch     Fare  Cabin Embarked  \n",
       "0    male  22.0      1      0   7.2500      3        S  \n",
       "1  female  38.0      1      0  71.2833      0        C  \n",
       "2  female  26.0      0      0   7.9250      3        S  \n",
       "3  female  35.0      1      0  53.1000      0        S  \n",
       "4    male  35.0      0      0   8.0500      3        S  "
      ]
     },
     "execution_count": 9,
     "metadata": {},
     "output_type": "execute_result"
    }
   ],
   "source": [
    "CabinTransformer().fit_transform(data).head()"
   ]
  },
  {
   "cell_type": "code",
   "execution_count": 10,
   "metadata": {
    "execution": {
     "iopub.execute_input": "2022-07-23T15:39:07.280687Z",
     "iopub.status.busy": "2022-07-23T15:39:07.280012Z",
     "iopub.status.idle": "2022-07-23T15:39:07.528440Z",
     "shell.execute_reply": "2022-07-23T15:39:07.527757Z",
     "shell.execute_reply.started": "2022-07-22T11:08:53.750713Z"
    },
    "papermill": {
     "duration": 0.302493,
     "end_time": "2022-07-23T15:39:07.528557",
     "exception": false,
     "start_time": "2022-07-23T15:39:07.226064",
     "status": "completed"
    },
    "tags": []
   },
   "outputs": [
    {
     "data": {
      "text/plain": [
       "<matplotlib.axes._subplots.AxesSubplot at 0x7f27b8731150>"
      ]
     },
     "execution_count": 10,
     "metadata": {},
     "output_type": "execute_result"
    },
    {
     "data": {
      "image/png": "[encoded data removed]",
      "text/plain": [
       "<Figure size 432x288 with 1 Axes>"
      ]
     },
     "metadata": {
      "needs_background": "light"
     },
     "output_type": "display_data"
    }
   ],
   "source": [
    "sns.countplot(x='Cabin',hue = 'Survived', data=CabinTransformer().fit_transform(data))"
   ]
  },
  {
   "cell_type": "markdown",
   "metadata": {
    "papermill": {
     "duration": 0.052601,
     "end_time": "2022-07-23T15:39:07.633277",
     "exception": false,
     "start_time": "2022-07-23T15:39:07.580676",
     "status": "completed"
    },
    "tags": []
   },
   "source": [
    "## Name\n",
    "Name of the passenger contains his/her title and Rank on the ship will be a usefull information"
   ]
  },
  {
   "cell_type": "code",
   "execution_count": 11,
   "metadata": {
    "execution": {
     "iopub.execute_input": "2022-07-23T15:39:07.748108Z",
     "iopub.status.busy": "2022-07-23T15:39:07.747129Z",
     "iopub.status.idle": "2022-07-23T15:39:07.752766Z",
     "shell.execute_reply": "2022-07-23T15:39:07.751687Z",
     "shell.execute_reply.started": "2022-07-22T11:08:53.929123Z"
    },
    "papermill": {
     "duration": 0.06748,
     "end_time": "2022-07-23T15:39:07.752988",
     "exception": false,
     "start_time": "2022-07-23T15:39:07.685508",
     "status": "completed"
    },
    "tags": []
   },
   "outputs": [
    {
     "name": "stdout",
     "output_type": "stream",
     "text": [
      "Titles present on the ship:\n",
      " ['Mr', 'Mrs', 'Miss', 'Master', 'Don', 'Rev', 'Dr', 'Mme', 'Ms', 'Major', 'Lady', 'Sir', 'Mlle', 'Col', 'Capt', 'the Countess', 'Jonkheer']\n"
     ]
    }
   ],
   "source": [
    "temp = []\n",
    "for name in data['Name']:\n",
    "    a = name.split(', ')[1].split('.')[0]\n",
    "    if a not in temp:\n",
    "        temp.append(a)\n",
    "print('Titles present on the ship:\\n', temp)"
   ]
  },
  {
   "cell_type": "markdown",
   "metadata": {
    "papermill": {
     "duration": 0.052385,
     "end_time": "2022-07-23T15:39:07.860739",
     "exception": false,
     "start_time": "2022-07-23T15:39:07.808354",
     "status": "completed"
    },
    "tags": []
   },
   "source": [
    "### Implementing Name Column Transformer\n",
    "* Extract titles from the name of the passenger\n",
    "* Group the titles according to Rank they hold"
   ]
  },
  {
   "cell_type": "code",
   "execution_count": 12,
   "metadata": {
    "execution": {
     "iopub.execute_input": "2022-07-23T15:39:07.993263Z",
     "iopub.status.busy": "2022-07-23T15:39:07.992502Z",
     "iopub.status.idle": "2022-07-23T15:39:08.008778Z",
     "shell.execute_reply": "2022-07-23T15:39:08.009396Z",
     "shell.execute_reply.started": "2022-07-22T11:08:53.941762Z"
    },
    "papermill": {
     "duration": 0.085677,
     "end_time": "2022-07-23T15:39:08.009628",
     "exception": false,
     "start_time": "2022-07-23T15:39:07.923951",
     "status": "completed"
    },
    "tags": []
   },
   "outputs": [],
   "source": [
    "class CustomAttributeTitle(BaseEstimator, TransformerMixin):\n",
    "    def fit(self, df):\n",
    "        return self\n",
    "    \n",
    "    def title(self, name):\n",
    "        return name.split(', ')[1].split('.')[0]\n",
    "    \n",
    "    def group(self, title):\n",
    "        if title in ['Miss', 'Mlle', 'Ms']:\n",
    "            return 'Miss'\n",
    "        \n",
    "        if title in ['Mrs', 'Mme']:\n",
    "            return 'Mrs'\n",
    "        \n",
    "        if title in ['Lady', 'the Countess','Capt', 'Col','Don', 'Dr', 'Major', 'Rev', 'Sir', 'Jonkheer', 'Dona']:\n",
    "            return 'Rare'\n",
    "        \n",
    "        else:\n",
    "            return title\n",
    "        \n",
    "    \n",
    "    def transform(self, df):\n",
    "        df1 = df.copy()\n",
    "        df1['Title'] = df1['Name'].apply(self.title)\n",
    "        df1['Title'] = df1['Title'].apply(self.group)\n",
    "        \n",
    "        title_mapping = {\"Mr\": 1, \"Miss\": 2, \"Mrs\": 3, \"Master\": 4, \"Rare\": 0}\n",
    "        df1['Title'] = df1['Title'].map(title_mapping)\n",
    "        df1['Title'] = df1['Title'].fillna(0)\n",
    "        df1 = df1.drop('Name', axis=1)\n",
    "        \n",
    "        return df1"
   ]
  },
  {
   "cell_type": "code",
   "execution_count": 13,
   "metadata": {
    "execution": {
     "iopub.execute_input": "2022-07-23T15:39:08.123319Z",
     "iopub.status.busy": "2022-07-23T15:39:08.122670Z",
     "iopub.status.idle": "2022-07-23T15:39:08.144978Z",
     "shell.execute_reply": "2022-07-23T15:39:08.145545Z",
     "shell.execute_reply.started": "2022-07-22T11:08:53.957852Z"
    },
    "papermill": {
     "duration": 0.079185,
     "end_time": "2022-07-23T15:39:08.145714",
     "exception": false,
     "start_time": "2022-07-23T15:39:08.066529",
     "status": "completed"
    },
    "tags": []
   },
   "outputs": [
    {
     "data": {
      "text/html": [
       "<div>\n",
       "<style scoped>\n",
       "    .dataframe tbody tr th:only-of-type {\n",
       "        vertical-align: middle;\n",
       "    }\n",
       "\n",
       "    .dataframe tbody tr th {\n",
       "        vertical-align: top;\n",
       "    }\n",
       "\n",
       "    .dataframe thead th {\n",
       "        text-align: right;\n",
       "    }\n",
       "</style>\n",
       "<table border=\"1\" class=\"dataframe\">\n",
       "  <thead>\n",
       "    <tr style=\"text-align: right;\">\n",
       "      <th></th>\n",
       "      <th>Survived</th>\n",
       "      <th>Pclass</th>\n",
       "      <th>Sex</th>\n",
       "      <th>Age</th>\n",
       "      <th>SibSp</th>\n",
       "      <th>Parch</th>\n",
       "      <th>Fare</th>\n",
       "      <th>Cabin</th>\n",
       "      <th>Embarked</th>\n",
       "      <th>Title</th>\n",
       "    </tr>\n",
       "  </thead>\n",
       "  <tbody>\n",
       "    <tr>\n",
       "      <th>0</th>\n",
       "      <td>0</td>\n",
       "      <td>3</td>\n",
       "      <td>male</td>\n",
       "      <td>22.0</td>\n",
       "      <td>1</td>\n",
       "      <td>0</td>\n",
       "      <td>7.2500</td>\n",
       "      <td>NaN</td>\n",
       "      <td>S</td>\n",
       "      <td>1</td>\n",
       "    </tr>\n",
       "    <tr>\n",
       "      <th>1</th>\n",
       "      <td>1</td>\n",
       "      <td>1</td>\n",
       "      <td>female</td>\n",
       "      <td>38.0</td>\n",
       "      <td>1</td>\n",
       "      <td>0</td>\n",
       "      <td>71.2833</td>\n",
       "      <td>C85</td>\n",
       "      <td>C</td>\n",
       "      <td>3</td>\n",
       "    </tr>\n",
       "    <tr>\n",
       "      <th>2</th>\n",
       "      <td>1</td>\n",
       "      <td>3</td>\n",
       "      <td>female</td>\n",
       "      <td>26.0</td>\n",
       "      <td>0</td>\n",
       "      <td>0</td>\n",
       "      <td>7.9250</td>\n",
       "      <td>NaN</td>\n",
       "      <td>S</td>\n",
       "      <td>2</td>\n",
       "    </tr>\n",
       "    <tr>\n",
       "      <th>3</th>\n",
       "      <td>1</td>\n",
       "      <td>1</td>\n",
       "      <td>female</td>\n",
       "      <td>35.0</td>\n",
       "      <td>1</td>\n",
       "      <td>0</td>\n",
       "      <td>53.1000</td>\n",
       "      <td>C123</td>\n",
       "      <td>S</td>\n",
       "      <td>3</td>\n",
       "    </tr>\n",
       "    <tr>\n",
       "      <th>4</th>\n",
       "      <td>0</td>\n",
       "      <td>3</td>\n",
       "      <td>male</td>\n",
       "      <td>35.0</td>\n",
       "      <td>0</td>\n",
       "      <td>0</td>\n",
       "      <td>8.0500</td>\n",
       "      <td>NaN</td>\n",
       "      <td>S</td>\n",
       "      <td>1</td>\n",
       "    </tr>\n",
       "  </tbody>\n",
       "</table>\n",
       "</div>"
      ],
      "text/plain": [
       "   Survived  Pclass     Sex   Age  SibSp  Parch     Fare Cabin Embarked  Title\n",
       "0         0       3    male  22.0      1      0   7.2500   NaN        S      1\n",
       "1         1       1  female  38.0      1      0  71.2833   C85        C      3\n",
       "2         1       3  female  26.0      0      0   7.9250   NaN        S      2\n",
       "3         1       1  female  35.0      1      0  53.1000  C123        S      3\n",
       "4         0       3    male  35.0      0      0   8.0500   NaN        S      1"
      ]
     },
     "execution_count": 13,
     "metadata": {},
     "output_type": "execute_result"
    }
   ],
   "source": [
    "CustomAttributeTitle().fit_transform(data).head()"
   ]
  },
  {
   "cell_type": "code",
   "execution_count": 14,
   "metadata": {
    "execution": {
     "iopub.execute_input": "2022-07-23T15:39:08.256292Z",
     "iopub.status.busy": "2022-07-23T15:39:08.255547Z",
     "iopub.status.idle": "2022-07-23T15:39:08.439739Z",
     "shell.execute_reply": "2022-07-23T15:39:08.439178Z",
     "shell.execute_reply.started": "2022-07-22T11:08:54.003219Z"
    },
    "papermill": {
     "duration": 0.240734,
     "end_time": "2022-07-23T15:39:08.439868",
     "exception": false,
     "start_time": "2022-07-23T15:39:08.199134",
     "status": "completed"
    },
    "tags": []
   },
   "outputs": [
    {
     "data": {
      "text/plain": [
       "<matplotlib.axes._subplots.AxesSubplot at 0x7f27b84fef90>"
      ]
     },
     "execution_count": 14,
     "metadata": {},
     "output_type": "execute_result"
    },
    {
     "data": {
      "image/png": "[encoded data removed]",
      "text/plain": [
       "<Figure size 432x288 with 1 Axes>"
      ]
     },
     "metadata": {
      "needs_background": "light"
     },
     "output_type": "display_data"
    }
   ],
   "source": [
    "#f = plt.figure(figsize=(12,8))\n",
    "sns.countplot(x='Title',hue = 'Survived', data=CustomAttributeTitle().fit_transform(data))"
   ]
  },
  {
   "cell_type": "markdown",
   "metadata": {
    "papermill": {
     "duration": 0.053906,
     "end_time": "2022-07-23T15:39:08.547738",
     "exception": false,
     "start_time": "2022-07-23T15:39:08.493832",
     "status": "completed"
    },
    "tags": []
   },
   "source": [
    "## Age"
   ]
  },
  {
   "cell_type": "code",
   "execution_count": 15,
   "metadata": {
    "execution": {
     "iopub.execute_input": "2022-07-23T15:39:08.659145Z",
     "iopub.status.busy": "2022-07-23T15:39:08.658414Z",
     "iopub.status.idle": "2022-07-23T15:39:08.852070Z",
     "shell.execute_reply": "2022-07-23T15:39:08.851340Z",
     "shell.execute_reply.started": "2022-07-22T11:08:54.195330Z"
    },
    "papermill": {
     "duration": 0.250675,
     "end_time": "2022-07-23T15:39:08.852200",
     "exception": false,
     "start_time": "2022-07-23T15:39:08.601525",
     "status": "completed"
    },
    "tags": []
   },
   "outputs": [
    {
     "name": "stderr",
     "output_type": "stream",
     "text": [
      "/opt/conda/lib/python3.7/site-packages/numpy/lib/histograms.py:839: RuntimeWarning: invalid value encountered in greater_equal\n",
      "  keep = (tmp_a >= first_edge)\n",
      "/opt/conda/lib/python3.7/site-packages/numpy/lib/histograms.py:840: RuntimeWarning: invalid value encountered in less_equal\n",
      "  keep &= (tmp_a <= last_edge)\n"
     ]
    },
    {
     "data": {
      "text/plain": [
       "array([ 0.42 , 16.336, 32.252, 48.168, 64.084, 80.   ])"
      ]
     },
     "execution_count": 15,
     "metadata": {},
     "output_type": "execute_result"
    },
    {
     "data": {
      "image/png": "[encoded data removed]",
      "text/plain": [
       "<Figure size 432x288 with 1 Axes>"
      ]
     },
     "metadata": {
      "needs_background": "light"
     },
     "output_type": "display_data"
    }
   ],
   "source": [
    "plt.hist(data['Age'], bins=5)[1]"
   ]
  },
  {
   "cell_type": "code",
   "execution_count": 16,
   "metadata": {
    "execution": {
     "iopub.execute_input": "2022-07-23T15:39:08.980077Z",
     "iopub.status.busy": "2022-07-23T15:39:08.979224Z",
     "iopub.status.idle": "2022-07-23T15:39:08.999258Z",
     "shell.execute_reply": "2022-07-23T15:39:08.999860Z",
     "shell.execute_reply.started": "2022-07-22T11:08:54.380129Z"
    },
    "papermill": {
     "duration": 0.091874,
     "end_time": "2022-07-23T15:39:09.000006",
     "exception": false,
     "start_time": "2022-07-23T15:39:08.908132",
     "status": "completed"
    },
    "tags": []
   },
   "outputs": [
    {
     "data": {
      "text/html": [
       "<div>\n",
       "<style scoped>\n",
       "    .dataframe tbody tr th:only-of-type {\n",
       "        vertical-align: middle;\n",
       "    }\n",
       "\n",
       "    .dataframe tbody tr th {\n",
       "        vertical-align: top;\n",
       "    }\n",
       "\n",
       "    .dataframe thead th {\n",
       "        text-align: right;\n",
       "    }\n",
       "</style>\n",
       "<table border=\"1\" class=\"dataframe\">\n",
       "  <thead>\n",
       "    <tr style=\"text-align: right;\">\n",
       "      <th></th>\n",
       "      <th>AgeBand</th>\n",
       "      <th>Survived</th>\n",
       "    </tr>\n",
       "  </thead>\n",
       "  <tbody>\n",
       "    <tr>\n",
       "      <th>0</th>\n",
       "      <td>(0.34, 16.336]</td>\n",
       "      <td>0.550000</td>\n",
       "    </tr>\n",
       "    <tr>\n",
       "      <th>1</th>\n",
       "      <td>(16.336, 32.252]</td>\n",
       "      <td>0.369942</td>\n",
       "    </tr>\n",
       "    <tr>\n",
       "      <th>2</th>\n",
       "      <td>(32.252, 48.168]</td>\n",
       "      <td>0.404255</td>\n",
       "    </tr>\n",
       "    <tr>\n",
       "      <th>3</th>\n",
       "      <td>(48.168, 64.084]</td>\n",
       "      <td>0.434783</td>\n",
       "    </tr>\n",
       "    <tr>\n",
       "      <th>4</th>\n",
       "      <td>(64.084, 80.0]</td>\n",
       "      <td>0.090909</td>\n",
       "    </tr>\n",
       "  </tbody>\n",
       "</table>\n",
       "</div>"
      ],
      "text/plain": [
       "            AgeBand  Survived\n",
       "0    (0.34, 16.336]  0.550000\n",
       "1  (16.336, 32.252]  0.369942\n",
       "2  (32.252, 48.168]  0.404255\n",
       "3  (48.168, 64.084]  0.434783\n",
       "4    (64.084, 80.0]  0.090909"
      ]
     },
     "execution_count": 16,
     "metadata": {},
     "output_type": "execute_result"
    }
   ],
   "source": [
    "def AgeBand(df):\n",
    "    df1 = df.copy()\n",
    "    df1['AgeBand'] = pd.cut(df1['Age'], 5)\n",
    "    return df1[['AgeBand', 'Survived']].groupby(['AgeBand'], as_index=False).mean().sort_values(by='AgeBand', ascending=True)\n",
    "\n",
    "AgeBand(data)"
   ]
  },
  {
   "cell_type": "markdown",
   "metadata": {
    "papermill": {
     "duration": 0.055292,
     "end_time": "2022-07-23T15:39:09.111647",
     "exception": false,
     "start_time": "2022-07-23T15:39:09.056355",
     "status": "completed"
    },
    "tags": []
   },
   "source": [
    "### Implementing Age Column transformer\n",
    "* Impute the missing values in the age column by using the median values of each title. As a result no master will be in the age of 30."
   ]
  },
  {
   "cell_type": "code",
   "execution_count": 17,
   "metadata": {
    "execution": {
     "iopub.execute_input": "2022-07-23T15:39:09.233113Z",
     "iopub.status.busy": "2022-07-23T15:39:09.232413Z",
     "iopub.status.idle": "2022-07-23T15:39:09.239206Z",
     "shell.execute_reply": "2022-07-23T15:39:09.239772Z",
     "shell.execute_reply.started": "2022-07-22T11:08:54.408195Z"
    },
    "papermill": {
     "duration": 0.072287,
     "end_time": "2022-07-23T15:39:09.239917",
     "exception": false,
     "start_time": "2022-07-23T15:39:09.167630",
     "status": "completed"
    },
    "tags": []
   },
   "outputs": [],
   "source": [
    "class AgeTransformer(BaseEstimator, TransformerMixin):\n",
    "    def fit(self, df):\n",
    "        self.means = {}\n",
    "        for i in df['Title'].unique():\n",
    "            m = df[df['Title']==i]['Age'].median()\n",
    "            self.means[i] = m\n",
    "        return self\n",
    "    \n",
    "    def transform(self, df):\n",
    "        df1 = df.copy()\n",
    "        index_values = df1.index.values.astype(int)\n",
    "        for i in index_values:\n",
    "            age = df1.at[i, 'Age'].astype(float)\n",
    "            if np.isnan(age):\n",
    "                title = df1.loc[i, 'Title']\n",
    "                df1.loc[i, 'Age'] = round(self.means[title], 2)\n",
    "        \n",
    "        df1[\"AgeGroup\"] = pd.cut(df1[\"Age\"], bins=[-0.001, 16.336, 32.252, 48.168, 64.084, 80.0], labels=[0,1,2,3,4])\n",
    "        df1[\"AgeGroup\"] = df1[\"AgeGroup\"].astype(int)\n",
    "\n",
    "        \n",
    "        return df1"
   ]
  },
  {
   "cell_type": "code",
   "execution_count": 18,
   "metadata": {
    "execution": {
     "iopub.execute_input": "2022-07-23T15:39:09.360664Z",
     "iopub.status.busy": "2022-07-23T15:39:09.359989Z",
     "iopub.status.idle": "2022-07-23T15:39:09.470966Z",
     "shell.execute_reply": "2022-07-23T15:39:09.470262Z",
     "shell.execute_reply.started": "2022-07-22T11:08:54.423600Z"
    },
    "papermill": {
     "duration": 0.170519,
     "end_time": "2022-07-23T15:39:09.471125",
     "exception": false,
     "start_time": "2022-07-23T15:39:09.300606",
     "status": "completed"
    },
    "tags": []
   },
   "outputs": [
    {
     "data": {
      "text/html": [
       "<div>\n",
       "<style scoped>\n",
       "    .dataframe tbody tr th:only-of-type {\n",
       "        vertical-align: middle;\n",
       "    }\n",
       "\n",
       "    .dataframe tbody tr th {\n",
       "        vertical-align: top;\n",
       "    }\n",
       "\n",
       "    .dataframe thead th {\n",
       "        text-align: right;\n",
       "    }\n",
       "</style>\n",
       "<table border=\"1\" class=\"dataframe\">\n",
       "  <thead>\n",
       "    <tr style=\"text-align: right;\">\n",
       "      <th></th>\n",
       "      <th>Survived</th>\n",
       "      <th>Pclass</th>\n",
       "      <th>Sex</th>\n",
       "      <th>Age</th>\n",
       "      <th>SibSp</th>\n",
       "      <th>Parch</th>\n",
       "      <th>Fare</th>\n",
       "      <th>Cabin</th>\n",
       "      <th>Embarked</th>\n",
       "      <th>Title</th>\n",
       "      <th>AgeGroup</th>\n",
       "    </tr>\n",
       "  </thead>\n",
       "  <tbody>\n",
       "    <tr>\n",
       "      <th>0</th>\n",
       "      <td>0</td>\n",
       "      <td>3</td>\n",
       "      <td>male</td>\n",
       "      <td>22.0</td>\n",
       "      <td>1</td>\n",
       "      <td>0</td>\n",
       "      <td>7.2500</td>\n",
       "      <td>NaN</td>\n",
       "      <td>S</td>\n",
       "      <td>1</td>\n",
       "      <td>1</td>\n",
       "    </tr>\n",
       "    <tr>\n",
       "      <th>1</th>\n",
       "      <td>1</td>\n",
       "      <td>1</td>\n",
       "      <td>female</td>\n",
       "      <td>38.0</td>\n",
       "      <td>1</td>\n",
       "      <td>0</td>\n",
       "      <td>71.2833</td>\n",
       "      <td>C85</td>\n",
       "      <td>C</td>\n",
       "      <td>3</td>\n",
       "      <td>2</td>\n",
       "    </tr>\n",
       "    <tr>\n",
       "      <th>2</th>\n",
       "      <td>1</td>\n",
       "      <td>3</td>\n",
       "      <td>female</td>\n",
       "      <td>26.0</td>\n",
       "      <td>0</td>\n",
       "      <td>0</td>\n",
       "      <td>7.9250</td>\n",
       "      <td>NaN</td>\n",
       "      <td>S</td>\n",
       "      <td>2</td>\n",
       "      <td>1</td>\n",
       "    </tr>\n",
       "    <tr>\n",
       "      <th>3</th>\n",
       "      <td>1</td>\n",
       "      <td>1</td>\n",
       "      <td>female</td>\n",
       "      <td>35.0</td>\n",
       "      <td>1</td>\n",
       "      <td>0</td>\n",
       "      <td>53.1000</td>\n",
       "      <td>C123</td>\n",
       "      <td>S</td>\n",
       "      <td>3</td>\n",
       "      <td>2</td>\n",
       "    </tr>\n",
       "    <tr>\n",
       "      <th>4</th>\n",
       "      <td>0</td>\n",
       "      <td>3</td>\n",
       "      <td>male</td>\n",
       "      <td>35.0</td>\n",
       "      <td>0</td>\n",
       "      <td>0</td>\n",
       "      <td>8.0500</td>\n",
       "      <td>NaN</td>\n",
       "      <td>S</td>\n",
       "      <td>1</td>\n",
       "      <td>2</td>\n",
       "    </tr>\n",
       "  </tbody>\n",
       "</table>\n",
       "</div>"
      ],
      "text/plain": [
       "   Survived  Pclass     Sex   Age  SibSp  Parch     Fare Cabin Embarked  \\\n",
       "0         0       3    male  22.0      1      0   7.2500   NaN        S   \n",
       "1         1       1  female  38.0      1      0  71.2833   C85        C   \n",
       "2         1       3  female  26.0      0      0   7.9250   NaN        S   \n",
       "3         1       1  female  35.0      1      0  53.1000  C123        S   \n",
       "4         0       3    male  35.0      0      0   8.0500   NaN        S   \n",
       "\n",
       "   Title  AgeGroup  \n",
       "0      1         1  \n",
       "1      3         2  \n",
       "2      2         1  \n",
       "3      3         2  \n",
       "4      1         2  "
      ]
     },
     "execution_count": 18,
     "metadata": {},
     "output_type": "execute_result"
    }
   ],
   "source": [
    "AgeTransformer().fit_transform(CustomAttributeTitle().fit_transform(data)).head()"
   ]
  },
  {
   "cell_type": "markdown",
   "metadata": {
    "papermill": {
     "duration": 0.058156,
     "end_time": "2022-07-23T15:39:09.589065",
     "exception": false,
     "start_time": "2022-07-23T15:39:09.530909",
     "status": "completed"
    },
    "tags": []
   },
   "source": [
    "## Custom Attributes"
   ]
  },
  {
   "cell_type": "markdown",
   "metadata": {
    "papermill": {
     "duration": 0.057004,
     "end_time": "2022-07-23T15:39:09.705076",
     "exception": false,
     "start_time": "2022-07-23T15:39:09.648072",
     "status": "completed"
    },
    "tags": []
   },
   "source": [
    "### Implementing Feature extraction to create new features\n",
    "* add SibSP and Parch attributes to get family belongings or followers on the ship"
   ]
  },
  {
   "cell_type": "code",
   "execution_count": 19,
   "metadata": {
    "execution": {
     "iopub.execute_input": "2022-07-23T15:39:09.825391Z",
     "iopub.status.busy": "2022-07-23T15:39:09.824311Z",
     "iopub.status.idle": "2022-07-23T15:39:09.833560Z",
     "shell.execute_reply": "2022-07-23T15:39:09.834175Z",
     "shell.execute_reply.started": "2022-07-22T11:08:54.545534Z"
    },
    "papermill": {
     "duration": 0.070942,
     "end_time": "2022-07-23T15:39:09.834358",
     "exception": false,
     "start_time": "2022-07-23T15:39:09.763416",
     "status": "completed"
    },
    "tags": []
   },
   "outputs": [],
   "source": [
    "class CustomAttributes(BaseEstimator, TransformerMixin):\n",
    "    def fit(self, df):\n",
    "        return self\n",
    "    \n",
    "    def transform(self, df):\n",
    "        df1 = df.copy()\n",
    "        df1['FamilySize'] = df1['SibSp'] + df1['Parch']\n",
    "        df1 = df1.drop(['SibSp','Parch'], axis=1)\n",
    "        \n",
    "        df1['IsAlone'] = 0\n",
    "        df1.loc[df1['FamilySize'] == 1, 'IsAlone'] = 1\n",
    "        # df1 = df1.drop('FamilySize', axis=1)\n",
    "        \n",
    "        df1['Age*Class'] = df1.Age * df1.Pclass\n",
    "        \n",
    "        return df1"
   ]
  },
  {
   "cell_type": "code",
   "execution_count": 20,
   "metadata": {
    "execution": {
     "iopub.execute_input": "2022-07-23T15:39:09.961411Z",
     "iopub.status.busy": "2022-07-23T15:39:09.960644Z",
     "iopub.status.idle": "2022-07-23T15:39:09.981250Z",
     "shell.execute_reply": "2022-07-23T15:39:09.981828Z",
     "shell.execute_reply.started": "2022-07-22T11:08:54.556233Z"
    },
    "papermill": {
     "duration": 0.084432,
     "end_time": "2022-07-23T15:39:09.981999",
     "exception": false,
     "start_time": "2022-07-23T15:39:09.897567",
     "status": "completed"
    },
    "tags": []
   },
   "outputs": [
    {
     "data": {
      "text/html": [
       "<div>\n",
       "<style scoped>\n",
       "    .dataframe tbody tr th:only-of-type {\n",
       "        vertical-align: middle;\n",
       "    }\n",
       "\n",
       "    .dataframe tbody tr th {\n",
       "        vertical-align: top;\n",
       "    }\n",
       "\n",
       "    .dataframe thead th {\n",
       "        text-align: right;\n",
       "    }\n",
       "</style>\n",
       "<table border=\"1\" class=\"dataframe\">\n",
       "  <thead>\n",
       "    <tr style=\"text-align: right;\">\n",
       "      <th></th>\n",
       "      <th>Survived</th>\n",
       "      <th>Pclass</th>\n",
       "      <th>Name</th>\n",
       "      <th>Sex</th>\n",
       "      <th>Age</th>\n",
       "      <th>Fare</th>\n",
       "      <th>Cabin</th>\n",
       "      <th>Embarked</th>\n",
       "      <th>FamilySize</th>\n",
       "      <th>IsAlone</th>\n",
       "      <th>Age*Class</th>\n",
       "    </tr>\n",
       "  </thead>\n",
       "  <tbody>\n",
       "    <tr>\n",
       "      <th>0</th>\n",
       "      <td>0</td>\n",
       "      <td>3</td>\n",
       "      <td>Braund, Mr. Owen Harris</td>\n",
       "      <td>male</td>\n",
       "      <td>22.0</td>\n",
       "      <td>7.2500</td>\n",
       "      <td>NaN</td>\n",
       "      <td>S</td>\n",
       "      <td>1</td>\n",
       "      <td>1</td>\n",
       "      <td>66.0</td>\n",
       "    </tr>\n",
       "    <tr>\n",
       "      <th>1</th>\n",
       "      <td>1</td>\n",
       "      <td>1</td>\n",
       "      <td>Cumings, Mrs. John Bradley (Florence Briggs Th...</td>\n",
       "      <td>female</td>\n",
       "      <td>38.0</td>\n",
       "      <td>71.2833</td>\n",
       "      <td>C85</td>\n",
       "      <td>C</td>\n",
       "      <td>1</td>\n",
       "      <td>1</td>\n",
       "      <td>38.0</td>\n",
       "    </tr>\n",
       "    <tr>\n",
       "      <th>2</th>\n",
       "      <td>1</td>\n",
       "      <td>3</td>\n",
       "      <td>Heikkinen, Miss. Laina</td>\n",
       "      <td>female</td>\n",
       "      <td>26.0</td>\n",
       "      <td>7.9250</td>\n",
       "      <td>NaN</td>\n",
       "      <td>S</td>\n",
       "      <td>0</td>\n",
       "      <td>0</td>\n",
       "      <td>78.0</td>\n",
       "    </tr>\n",
       "    <tr>\n",
       "      <th>3</th>\n",
       "      <td>1</td>\n",
       "      <td>1</td>\n",
       "      <td>Futrelle, Mrs. Jacques Heath (Lily May Peel)</td>\n",
       "      <td>female</td>\n",
       "      <td>35.0</td>\n",
       "      <td>53.1000</td>\n",
       "      <td>C123</td>\n",
       "      <td>S</td>\n",
       "      <td>1</td>\n",
       "      <td>1</td>\n",
       "      <td>35.0</td>\n",
       "    </tr>\n",
       "    <tr>\n",
       "      <th>4</th>\n",
       "      <td>0</td>\n",
       "      <td>3</td>\n",
       "      <td>Allen, Mr. William Henry</td>\n",
       "      <td>male</td>\n",
       "      <td>35.0</td>\n",
       "      <td>8.0500</td>\n",
       "      <td>NaN</td>\n",
       "      <td>S</td>\n",
       "      <td>0</td>\n",
       "      <td>0</td>\n",
       "      <td>105.0</td>\n",
       "    </tr>\n",
       "  </tbody>\n",
       "</table>\n",
       "</div>"
      ],
      "text/plain": [
       "   Survived  Pclass                                               Name  \\\n",
       "0         0       3                            Braund, Mr. Owen Harris   \n",
       "1         1       1  Cumings, Mrs. John Bradley (Florence Briggs Th...   \n",
       "2         1       3                             Heikkinen, Miss. Laina   \n",
       "3         1       1       Futrelle, Mrs. Jacques Heath (Lily May Peel)   \n",
       "4         0       3                           Allen, Mr. William Henry   \n",
       "\n",
       "      Sex   Age     Fare Cabin Embarked  FamilySize  IsAlone  Age*Class  \n",
       "0    male  22.0   7.2500   NaN        S           1        1       66.0  \n",
       "1  female  38.0  71.2833   C85        C           1        1       38.0  \n",
       "2  female  26.0   7.9250   NaN        S           0        0       78.0  \n",
       "3  female  35.0  53.1000  C123        S           1        1       35.0  \n",
       "4    male  35.0   8.0500   NaN        S           0        0      105.0  "
      ]
     },
     "execution_count": 20,
     "metadata": {},
     "output_type": "execute_result"
    }
   ],
   "source": [
    "CustomAttributes().fit_transform(data).head()"
   ]
  },
  {
   "cell_type": "code",
   "execution_count": 21,
   "metadata": {
    "execution": {
     "iopub.execute_input": "2022-07-23T15:39:10.107302Z",
     "iopub.status.busy": "2022-07-23T15:39:10.106457Z",
     "iopub.status.idle": "2022-07-23T15:39:10.246848Z",
     "shell.execute_reply": "2022-07-23T15:39:10.246243Z",
     "shell.execute_reply.started": "2022-07-22T11:08:54.585614Z"
    },
    "papermill": {
     "duration": 0.202777,
     "end_time": "2022-07-23T15:39:10.247002",
     "exception": false,
     "start_time": "2022-07-23T15:39:10.044225",
     "status": "completed"
    },
    "tags": []
   },
   "outputs": [
    {
     "data": {
      "text/plain": [
       "<matplotlib.axes._subplots.AxesSubplot at 0x7f27b83c6690>"
      ]
     },
     "execution_count": 21,
     "metadata": {},
     "output_type": "execute_result"
    },
    {
     "data": {
      "image/png": "[encoded data removed]",
      "text/plain": [
       "<Figure size 432x288 with 1 Axes>"
      ]
     },
     "metadata": {
      "needs_background": "light"
     },
     "output_type": "display_data"
    }
   ],
   "source": [
    "sns.countplot(x='IsAlone',hue = 'Survived', data=CustomAttributes().fit_transform(data))"
   ]
  },
  {
   "cell_type": "markdown",
   "metadata": {
    "papermill": {
     "duration": 0.058883,
     "end_time": "2022-07-23T15:39:10.366092",
     "exception": false,
     "start_time": "2022-07-23T15:39:10.307209",
     "status": "completed"
    },
    "tags": []
   },
   "source": [
    "## Fare"
   ]
  },
  {
   "cell_type": "code",
   "execution_count": 22,
   "metadata": {
    "execution": {
     "iopub.execute_input": "2022-07-23T15:39:10.487800Z",
     "iopub.status.busy": "2022-07-23T15:39:10.487106Z",
     "iopub.status.idle": "2022-07-23T15:39:10.729446Z",
     "shell.execute_reply": "2022-07-23T15:39:10.728812Z",
     "shell.execute_reply.started": "2022-07-22T11:08:54.737327Z"
    },
    "papermill": {
     "duration": 0.304158,
     "end_time": "2022-07-23T15:39:10.729580",
     "exception": false,
     "start_time": "2022-07-23T15:39:10.425422",
     "status": "completed"
    },
    "tags": []
   },
   "outputs": [
    {
     "data": {
      "text/plain": [
       "array([  0.     ,  51.23292, 102.46584, 153.69876, 204.93168, 256.1646 ,\n",
       "       307.39752, 358.63044, 409.86336, 461.09628, 512.3292 ])"
      ]
     },
     "execution_count": 22,
     "metadata": {},
     "output_type": "execute_result"
    },
    {
     "data": {
      "image/png": "[encoded data removed]",
      "text/plain": [
       "<Figure size 432x288 with 1 Axes>"
      ]
     },
     "metadata": {
      "needs_background": "light"
     },
     "output_type": "display_data"
    }
   ],
   "source": [
    "plt.hist(data['Fare'])[1]"
   ]
  },
  {
   "cell_type": "code",
   "execution_count": 23,
   "metadata": {
    "execution": {
     "iopub.execute_input": "2022-07-23T15:39:10.859178Z",
     "iopub.status.busy": "2022-07-23T15:39:10.858424Z",
     "iopub.status.idle": "2022-07-23T15:39:10.874903Z",
     "shell.execute_reply": "2022-07-23T15:39:10.875544Z",
     "shell.execute_reply.started": "2022-07-22T11:08:54.913583Z"
    },
    "papermill": {
     "duration": 0.084155,
     "end_time": "2022-07-23T15:39:10.875734",
     "exception": false,
     "start_time": "2022-07-23T15:39:10.791579",
     "status": "completed"
    },
    "tags": []
   },
   "outputs": [
    {
     "data": {
      "text/html": [
       "<div>\n",
       "<style scoped>\n",
       "    .dataframe tbody tr th:only-of-type {\n",
       "        vertical-align: middle;\n",
       "    }\n",
       "\n",
       "    .dataframe tbody tr th {\n",
       "        vertical-align: top;\n",
       "    }\n",
       "\n",
       "    .dataframe thead th {\n",
       "        text-align: right;\n",
       "    }\n",
       "</style>\n",
       "<table border=\"1\" class=\"dataframe\">\n",
       "  <thead>\n",
       "    <tr style=\"text-align: right;\">\n",
       "      <th></th>\n",
       "      <th>FareBand</th>\n",
       "      <th>Survived</th>\n",
       "    </tr>\n",
       "  </thead>\n",
       "  <tbody>\n",
       "    <tr>\n",
       "      <th>0</th>\n",
       "      <td>(-0.001, 7.91]</td>\n",
       "      <td>0.197309</td>\n",
       "    </tr>\n",
       "    <tr>\n",
       "      <th>1</th>\n",
       "      <td>(7.91, 14.454]</td>\n",
       "      <td>0.303571</td>\n",
       "    </tr>\n",
       "    <tr>\n",
       "      <th>2</th>\n",
       "      <td>(14.454, 31.0]</td>\n",
       "      <td>0.454955</td>\n",
       "    </tr>\n",
       "    <tr>\n",
       "      <th>3</th>\n",
       "      <td>(31.0, 512.329]</td>\n",
       "      <td>0.581081</td>\n",
       "    </tr>\n",
       "  </tbody>\n",
       "</table>\n",
       "</div>"
      ],
      "text/plain": [
       "          FareBand  Survived\n",
       "0   (-0.001, 7.91]  0.197309\n",
       "1   (7.91, 14.454]  0.303571\n",
       "2   (14.454, 31.0]  0.454955\n",
       "3  (31.0, 512.329]  0.581081"
      ]
     },
     "execution_count": 23,
     "metadata": {},
     "output_type": "execute_result"
    }
   ],
   "source": [
    "def FareBand(df):\n",
    "    df1 = df.copy()\n",
    "    df1['FareBand'] = pd.qcut(df1['Fare'], 4)\n",
    "    return df1[['FareBand', 'Survived']].groupby(['FareBand'], as_index=False).mean().sort_values(by='FareBand', ascending=True)\n",
    "\n",
    "FareBand(data)"
   ]
  },
  {
   "cell_type": "markdown",
   "metadata": {
    "papermill": {
     "duration": 0.134736,
     "end_time": "2022-07-23T15:39:11.072803",
     "exception": false,
     "start_time": "2022-07-23T15:39:10.938067",
     "status": "completed"
    },
    "tags": []
   },
   "source": [
    "### Implementing Fare Column Transformer\n"
   ]
  },
  {
   "cell_type": "code",
   "execution_count": 24,
   "metadata": {
    "execution": {
     "iopub.execute_input": "2022-07-23T15:39:11.202018Z",
     "iopub.status.busy": "2022-07-23T15:39:11.201177Z",
     "iopub.status.idle": "2022-07-23T15:39:11.449270Z",
     "shell.execute_reply": "2022-07-23T15:39:11.448563Z",
     "shell.execute_reply.started": "2022-07-22T11:08:54.941328Z"
    },
    "papermill": {
     "duration": 0.315305,
     "end_time": "2022-07-23T15:39:11.449422",
     "exception": false,
     "start_time": "2022-07-23T15:39:11.134117",
     "status": "completed"
    },
    "tags": []
   },
   "outputs": [],
   "source": [
    "from sklearn.impute import SimpleImputer\n",
    "class FareTransformer(BaseEstimator, TransformerMixin):\n",
    "    def fit(self, df):\n",
    "        return self\n",
    "    \n",
    "    def transform(self, df):\n",
    "        df1 = df.copy()\n",
    "        # handle missing values\n",
    "        df1['Fare'] = SimpleImputer(strategy='mean').fit_transform(df1[['Fare']])\n",
    "        # Making bins according to distribution\n",
    "        df1[\"Fare\"] = pd.cut(df1[\"Fare\"], bins=[-0.001, 7.91, 14.454, 31.0, 512.329200], labels=[0,1,2,3])\n",
    "        df1[\"Fare\"] = df1[\"Fare\"].astype(int)\n",
    "        return df1"
   ]
  },
  {
   "cell_type": "code",
   "execution_count": 25,
   "metadata": {
    "execution": {
     "iopub.execute_input": "2022-07-23T15:39:11.578326Z",
     "iopub.status.busy": "2022-07-23T15:39:11.577272Z",
     "iopub.status.idle": "2022-07-23T15:39:11.598658Z",
     "shell.execute_reply": "2022-07-23T15:39:11.599216Z",
     "shell.execute_reply.started": "2022-07-22T11:08:54.956468Z"
    },
    "papermill": {
     "duration": 0.088021,
     "end_time": "2022-07-23T15:39:11.599378",
     "exception": false,
     "start_time": "2022-07-23T15:39:11.511357",
     "status": "completed"
    },
    "tags": []
   },
   "outputs": [
    {
     "data": {
      "text/html": [
       "<div>\n",
       "<style scoped>\n",
       "    .dataframe tbody tr th:only-of-type {\n",
       "        vertical-align: middle;\n",
       "    }\n",
       "\n",
       "    .dataframe tbody tr th {\n",
       "        vertical-align: top;\n",
       "    }\n",
       "\n",
       "    .dataframe thead th {\n",
       "        text-align: right;\n",
       "    }\n",
       "</style>\n",
       "<table border=\"1\" class=\"dataframe\">\n",
       "  <thead>\n",
       "    <tr style=\"text-align: right;\">\n",
       "      <th></th>\n",
       "      <th>Survived</th>\n",
       "      <th>Pclass</th>\n",
       "      <th>Name</th>\n",
       "      <th>Sex</th>\n",
       "      <th>Age</th>\n",
       "      <th>SibSp</th>\n",
       "      <th>Parch</th>\n",
       "      <th>Fare</th>\n",
       "      <th>Cabin</th>\n",
       "      <th>Embarked</th>\n",
       "    </tr>\n",
       "  </thead>\n",
       "  <tbody>\n",
       "    <tr>\n",
       "      <th>0</th>\n",
       "      <td>0</td>\n",
       "      <td>3</td>\n",
       "      <td>Braund, Mr. Owen Harris</td>\n",
       "      <td>male</td>\n",
       "      <td>22.0</td>\n",
       "      <td>1</td>\n",
       "      <td>0</td>\n",
       "      <td>0</td>\n",
       "      <td>NaN</td>\n",
       "      <td>S</td>\n",
       "    </tr>\n",
       "    <tr>\n",
       "      <th>1</th>\n",
       "      <td>1</td>\n",
       "      <td>1</td>\n",
       "      <td>Cumings, Mrs. John Bradley (Florence Briggs Th...</td>\n",
       "      <td>female</td>\n",
       "      <td>38.0</td>\n",
       "      <td>1</td>\n",
       "      <td>0</td>\n",
       "      <td>3</td>\n",
       "      <td>C85</td>\n",
       "      <td>C</td>\n",
       "    </tr>\n",
       "    <tr>\n",
       "      <th>2</th>\n",
       "      <td>1</td>\n",
       "      <td>3</td>\n",
       "      <td>Heikkinen, Miss. Laina</td>\n",
       "      <td>female</td>\n",
       "      <td>26.0</td>\n",
       "      <td>0</td>\n",
       "      <td>0</td>\n",
       "      <td>1</td>\n",
       "      <td>NaN</td>\n",
       "      <td>S</td>\n",
       "    </tr>\n",
       "    <tr>\n",
       "      <th>3</th>\n",
       "      <td>1</td>\n",
       "      <td>1</td>\n",
       "      <td>Futrelle, Mrs. Jacques Heath (Lily May Peel)</td>\n",
       "      <td>female</td>\n",
       "      <td>35.0</td>\n",
       "      <td>1</td>\n",
       "      <td>0</td>\n",
       "      <td>3</td>\n",
       "      <td>C123</td>\n",
       "      <td>S</td>\n",
       "    </tr>\n",
       "    <tr>\n",
       "      <th>4</th>\n",
       "      <td>0</td>\n",
       "      <td>3</td>\n",
       "      <td>Allen, Mr. William Henry</td>\n",
       "      <td>male</td>\n",
       "      <td>35.0</td>\n",
       "      <td>0</td>\n",
       "      <td>0</td>\n",
       "      <td>1</td>\n",
       "      <td>NaN</td>\n",
       "      <td>S</td>\n",
       "    </tr>\n",
       "  </tbody>\n",
       "</table>\n",
       "</div>"
      ],
      "text/plain": [
       "   Survived  Pclass                                               Name  \\\n",
       "0         0       3                            Braund, Mr. Owen Harris   \n",
       "1         1       1  Cumings, Mrs. John Bradley (Florence Briggs Th...   \n",
       "2         1       3                             Heikkinen, Miss. Laina   \n",
       "3         1       1       Futrelle, Mrs. Jacques Heath (Lily May Peel)   \n",
       "4         0       3                           Allen, Mr. William Henry   \n",
       "\n",
       "      Sex   Age  SibSp  Parch  Fare Cabin Embarked  \n",
       "0    male  22.0      1      0     0   NaN        S  \n",
       "1  female  38.0      1      0     3   C85        C  \n",
       "2  female  26.0      0      0     1   NaN        S  \n",
       "3  female  35.0      1      0     3  C123        S  \n",
       "4    male  35.0      0      0     1   NaN        S  "
      ]
     },
     "execution_count": 25,
     "metadata": {},
     "output_type": "execute_result"
    }
   ],
   "source": [
    "FareTransformer().fit_transform(data).head()"
   ]
  },
  {
   "cell_type": "code",
   "execution_count": 26,
   "metadata": {
    "execution": {
     "iopub.execute_input": "2022-07-23T15:39:11.729512Z",
     "iopub.status.busy": "2022-07-23T15:39:11.728838Z",
     "iopub.status.idle": "2022-07-23T15:39:11.911781Z",
     "shell.execute_reply": "2022-07-23T15:39:11.912338Z",
     "shell.execute_reply.started": "2022-07-22T11:08:54.992692Z"
    },
    "papermill": {
     "duration": 0.252547,
     "end_time": "2022-07-23T15:39:11.912487",
     "exception": false,
     "start_time": "2022-07-23T15:39:11.659940",
     "status": "completed"
    },
    "tags": []
   },
   "outputs": [
    {
     "data": {
      "text/plain": [
       "<matplotlib.axes._subplots.AxesSubplot at 0x7f27af3bad10>"
      ]
     },
     "execution_count": 26,
     "metadata": {},
     "output_type": "execute_result"
    },
    {
     "data": {
      "image/png": "[encoded data removed]",
      "text/plain": [
       "<Figure size 432x288 with 1 Axes>"
      ]
     },
     "metadata": {
      "needs_background": "light"
     },
     "output_type": "display_data"
    }
   ],
   "source": [
    "sns.countplot(x='Fare', hue='Survived', data=FareTransformer().transform(data))"
   ]
  },
  {
   "cell_type": "markdown",
   "metadata": {
    "papermill": {
     "duration": 0.064483,
     "end_time": "2022-07-23T15:39:12.040233",
     "exception": false,
     "start_time": "2022-07-23T15:39:11.975750",
     "status": "completed"
    },
    "tags": []
   },
   "source": [
    "## Categorical Transformation"
   ]
  },
  {
   "cell_type": "code",
   "execution_count": 27,
   "metadata": {
    "execution": {
     "iopub.execute_input": "2022-07-23T15:39:12.167820Z",
     "iopub.status.busy": "2022-07-23T15:39:12.167073Z",
     "iopub.status.idle": "2022-07-23T15:39:12.176949Z",
     "shell.execute_reply": "2022-07-23T15:39:12.176367Z",
     "shell.execute_reply.started": "2022-07-22T11:08:55.175059Z"
    },
    "papermill": {
     "duration": 0.075419,
     "end_time": "2022-07-23T15:39:12.177079",
     "exception": false,
     "start_time": "2022-07-23T15:39:12.101660",
     "status": "completed"
    },
    "tags": []
   },
   "outputs": [],
   "source": [
    "from sklearn.impute import SimpleImputer\n",
    "from sklearn.preprocessing import OrdinalEncoder\n",
    "class CategoricalTransformer(BaseEstimator, TransformerMixin):\n",
    "    def fit(self, df):\n",
    "        return self\n",
    "    \n",
    "    def transform(self, df):\n",
    "        df1 = df.copy()\n",
    "        df1[['Sex','Embarked','Pclass']] = SimpleImputer(strategy='most_frequent').fit_transform(df1[['Sex','Embarked','Pclass']])\n",
    "        df1['Sex'] = df1['Sex'].map({'male':0, 'female':1})\n",
    "        df1[['Embarked','Pclass']] = OrdinalEncoder().fit_transform(df1[['Embarked','Pclass']])\n",
    "        return df1"
   ]
  },
  {
   "cell_type": "code",
   "execution_count": 28,
   "metadata": {
    "execution": {
     "iopub.execute_input": "2022-07-23T15:39:12.308591Z",
     "iopub.status.busy": "2022-07-23T15:39:12.307481Z",
     "iopub.status.idle": "2022-07-23T15:39:12.339411Z",
     "shell.execute_reply": "2022-07-23T15:39:12.340008Z",
     "shell.execute_reply.started": "2022-07-22T11:08:55.185996Z"
    },
    "papermill": {
     "duration": 0.101012,
     "end_time": "2022-07-23T15:39:12.340177",
     "exception": false,
     "start_time": "2022-07-23T15:39:12.239165",
     "status": "completed"
    },
    "tags": []
   },
   "outputs": [
    {
     "data": {
      "text/html": [
       "<div>\n",
       "<style scoped>\n",
       "    .dataframe tbody tr th:only-of-type {\n",
       "        vertical-align: middle;\n",
       "    }\n",
       "\n",
       "    .dataframe tbody tr th {\n",
       "        vertical-align: top;\n",
       "    }\n",
       "\n",
       "    .dataframe thead th {\n",
       "        text-align: right;\n",
       "    }\n",
       "</style>\n",
       "<table border=\"1\" class=\"dataframe\">\n",
       "  <thead>\n",
       "    <tr style=\"text-align: right;\">\n",
       "      <th></th>\n",
       "      <th>Survived</th>\n",
       "      <th>Pclass</th>\n",
       "      <th>Name</th>\n",
       "      <th>Sex</th>\n",
       "      <th>Age</th>\n",
       "      <th>SibSp</th>\n",
       "      <th>Parch</th>\n",
       "      <th>Fare</th>\n",
       "      <th>Cabin</th>\n",
       "      <th>Embarked</th>\n",
       "    </tr>\n",
       "  </thead>\n",
       "  <tbody>\n",
       "    <tr>\n",
       "      <th>0</th>\n",
       "      <td>0</td>\n",
       "      <td>2.0</td>\n",
       "      <td>Braund, Mr. Owen Harris</td>\n",
       "      <td>0</td>\n",
       "      <td>22.0</td>\n",
       "      <td>1</td>\n",
       "      <td>0</td>\n",
       "      <td>7.2500</td>\n",
       "      <td>NaN</td>\n",
       "      <td>2.0</td>\n",
       "    </tr>\n",
       "    <tr>\n",
       "      <th>1</th>\n",
       "      <td>1</td>\n",
       "      <td>0.0</td>\n",
       "      <td>Cumings, Mrs. John Bradley (Florence Briggs Th...</td>\n",
       "      <td>1</td>\n",
       "      <td>38.0</td>\n",
       "      <td>1</td>\n",
       "      <td>0</td>\n",
       "      <td>71.2833</td>\n",
       "      <td>C85</td>\n",
       "      <td>0.0</td>\n",
       "    </tr>\n",
       "    <tr>\n",
       "      <th>2</th>\n",
       "      <td>1</td>\n",
       "      <td>2.0</td>\n",
       "      <td>Heikkinen, Miss. Laina</td>\n",
       "      <td>1</td>\n",
       "      <td>26.0</td>\n",
       "      <td>0</td>\n",
       "      <td>0</td>\n",
       "      <td>7.9250</td>\n",
       "      <td>NaN</td>\n",
       "      <td>2.0</td>\n",
       "    </tr>\n",
       "    <tr>\n",
       "      <th>3</th>\n",
       "      <td>1</td>\n",
       "      <td>0.0</td>\n",
       "      <td>Futrelle, Mrs. Jacques Heath (Lily May Peel)</td>\n",
       "      <td>1</td>\n",
       "      <td>35.0</td>\n",
       "      <td>1</td>\n",
       "      <td>0</td>\n",
       "      <td>53.1000</td>\n",
       "      <td>C123</td>\n",
       "      <td>2.0</td>\n",
       "    </tr>\n",
       "    <tr>\n",
       "      <th>4</th>\n",
       "      <td>0</td>\n",
       "      <td>2.0</td>\n",
       "      <td>Allen, Mr. William Henry</td>\n",
       "      <td>0</td>\n",
       "      <td>35.0</td>\n",
       "      <td>0</td>\n",
       "      <td>0</td>\n",
       "      <td>8.0500</td>\n",
       "      <td>NaN</td>\n",
       "      <td>2.0</td>\n",
       "    </tr>\n",
       "  </tbody>\n",
       "</table>\n",
       "</div>"
      ],
      "text/plain": [
       "   Survived  Pclass                                               Name  Sex  \\\n",
       "0         0     2.0                            Braund, Mr. Owen Harris    0   \n",
       "1         1     0.0  Cumings, Mrs. John Bradley (Florence Briggs Th...    1   \n",
       "2         1     2.0                             Heikkinen, Miss. Laina    1   \n",
       "3         1     0.0       Futrelle, Mrs. Jacques Heath (Lily May Peel)    1   \n",
       "4         0     2.0                           Allen, Mr. William Henry    0   \n",
       "\n",
       "    Age  SibSp  Parch     Fare Cabin  Embarked  \n",
       "0  22.0      1      0   7.2500   NaN       2.0  \n",
       "1  38.0      1      0  71.2833   C85       0.0  \n",
       "2  26.0      0      0   7.9250   NaN       2.0  \n",
       "3  35.0      1      0  53.1000  C123       2.0  \n",
       "4  35.0      0      0   8.0500   NaN       2.0  "
      ]
     },
     "execution_count": 28,
     "metadata": {},
     "output_type": "execute_result"
    }
   ],
   "source": [
    "CategoricalTransformer().fit_transform(data).head()"
   ]
  },
  {
   "cell_type": "markdown",
   "metadata": {
    "papermill": {
     "duration": 0.063388,
     "end_time": "2022-07-23T15:39:12.469045",
     "exception": false,
     "start_time": "2022-07-23T15:39:12.405657",
     "status": "completed"
    },
    "tags": []
   },
   "source": [
    "# Transformation Pipeline"
   ]
  },
  {
   "cell_type": "code",
   "execution_count": 29,
   "metadata": {
    "execution": {
     "iopub.execute_input": "2022-07-23T15:39:12.601819Z",
     "iopub.status.busy": "2022-07-23T15:39:12.600760Z",
     "iopub.status.idle": "2022-07-23T15:39:12.615890Z",
     "shell.execute_reply": "2022-07-23T15:39:12.616563Z",
     "shell.execute_reply.started": "2022-07-22T11:08:55.229951Z"
    },
    "papermill": {
     "duration": 0.083918,
     "end_time": "2022-07-23T15:39:12.616804",
     "exception": false,
     "start_time": "2022-07-23T15:39:12.532886",
     "status": "completed"
    },
    "tags": []
   },
   "outputs": [],
   "source": [
    "from sklearn.pipeline import Pipeline\n",
    "from sklearn.compose import ColumnTransformer\n",
    "from sklearn.decomposition import PCA\n"
   ]
  },
  {
   "cell_type": "code",
   "execution_count": 30,
   "metadata": {
    "execution": {
     "iopub.execute_input": "2022-07-23T15:39:12.755385Z",
     "iopub.status.busy": "2022-07-23T15:39:12.754657Z",
     "iopub.status.idle": "2022-07-23T15:39:12.757592Z",
     "shell.execute_reply": "2022-07-23T15:39:12.758090Z",
     "shell.execute_reply.started": "2022-07-22T11:08:55.238331Z"
    },
    "papermill": {
     "duration": 0.076204,
     "end_time": "2022-07-23T15:39:12.758269",
     "exception": false,
     "start_time": "2022-07-23T15:39:12.682065",
     "status": "completed"
    },
    "tags": []
   },
   "outputs": [],
   "source": [
    "labels = data['Survived']\n",
    "data = data.drop('Survived', axis=1)"
   ]
  },
  {
   "cell_type": "code",
   "execution_count": 31,
   "metadata": {
    "execution": {
     "iopub.execute_input": "2022-07-23T15:39:12.893758Z",
     "iopub.status.busy": "2022-07-23T15:39:12.893042Z",
     "iopub.status.idle": "2022-07-23T15:39:12.895741Z",
     "shell.execute_reply": "2022-07-23T15:39:12.896393Z",
     "shell.execute_reply.started": "2022-07-22T11:08:55.251218Z"
    },
    "papermill": {
     "duration": 0.07365,
     "end_time": "2022-07-23T15:39:12.896569",
     "exception": false,
     "start_time": "2022-07-23T15:39:12.822919",
     "status": "completed"
    },
    "tags": []
   },
   "outputs": [],
   "source": [
    "preprocess_pipeline = Pipeline([\n",
    "    ('title', CustomAttributeTitle()),\n",
    "    ('age', AgeTransformer()),\n",
    "    ('cabin', CabinTransformer()),\n",
    "    ('followers', CustomAttributes()),\n",
    "    ('fare', FareTransformer()),\n",
    "    ('encoding', CategoricalTransformer()),\n",
    "    ('pca', PCA(n_components=7))\n",
    "])\n"
   ]
  },
  {
   "cell_type": "code",
   "execution_count": 32,
   "metadata": {
    "execution": {
     "iopub.execute_input": "2022-07-23T15:39:13.030148Z",
     "iopub.status.busy": "2022-07-23T15:39:13.029368Z",
     "iopub.status.idle": "2022-07-23T15:39:13.042176Z",
     "shell.execute_reply": "2022-07-23T15:39:13.042765Z",
     "shell.execute_reply.started": "2022-07-22T11:08:55.263394Z"
    },
    "papermill": {
     "duration": 0.083691,
     "end_time": "2022-07-23T15:39:13.042934",
     "exception": false,
     "start_time": "2022-07-23T15:39:12.959243",
     "status": "completed"
    },
    "tags": []
   },
   "outputs": [
    {
     "data": {
      "text/html": [
       "<div>\n",
       "<style scoped>\n",
       "    .dataframe tbody tr th:only-of-type {\n",
       "        vertical-align: middle;\n",
       "    }\n",
       "\n",
       "    .dataframe tbody tr th {\n",
       "        vertical-align: top;\n",
       "    }\n",
       "\n",
       "    .dataframe thead th {\n",
       "        text-align: right;\n",
       "    }\n",
       "</style>\n",
       "<table border=\"1\" class=\"dataframe\">\n",
       "  <thead>\n",
       "    <tr style=\"text-align: right;\">\n",
       "      <th></th>\n",
       "      <th>Pclass</th>\n",
       "      <th>Name</th>\n",
       "      <th>Sex</th>\n",
       "      <th>Age</th>\n",
       "      <th>SibSp</th>\n",
       "      <th>Parch</th>\n",
       "      <th>Fare</th>\n",
       "      <th>Cabin</th>\n",
       "      <th>Embarked</th>\n",
       "    </tr>\n",
       "  </thead>\n",
       "  <tbody>\n",
       "    <tr>\n",
       "      <th>0</th>\n",
       "      <td>3</td>\n",
       "      <td>Braund, Mr. Owen Harris</td>\n",
       "      <td>male</td>\n",
       "      <td>22.0</td>\n",
       "      <td>1</td>\n",
       "      <td>0</td>\n",
       "      <td>7.2500</td>\n",
       "      <td>NaN</td>\n",
       "      <td>S</td>\n",
       "    </tr>\n",
       "    <tr>\n",
       "      <th>1</th>\n",
       "      <td>1</td>\n",
       "      <td>Cumings, Mrs. John Bradley (Florence Briggs Th...</td>\n",
       "      <td>female</td>\n",
       "      <td>38.0</td>\n",
       "      <td>1</td>\n",
       "      <td>0</td>\n",
       "      <td>71.2833</td>\n",
       "      <td>C85</td>\n",
       "      <td>C</td>\n",
       "    </tr>\n",
       "    <tr>\n",
       "      <th>2</th>\n",
       "      <td>3</td>\n",
       "      <td>Heikkinen, Miss. Laina</td>\n",
       "      <td>female</td>\n",
       "      <td>26.0</td>\n",
       "      <td>0</td>\n",
       "      <td>0</td>\n",
       "      <td>7.9250</td>\n",
       "      <td>NaN</td>\n",
       "      <td>S</td>\n",
       "    </tr>\n",
       "    <tr>\n",
       "      <th>3</th>\n",
       "      <td>1</td>\n",
       "      <td>Futrelle, Mrs. Jacques Heath (Lily May Peel)</td>\n",
       "      <td>female</td>\n",
       "      <td>35.0</td>\n",
       "      <td>1</td>\n",
       "      <td>0</td>\n",
       "      <td>53.1000</td>\n",
       "      <td>C123</td>\n",
       "      <td>S</td>\n",
       "    </tr>\n",
       "    <tr>\n",
       "      <th>4</th>\n",
       "      <td>3</td>\n",
       "      <td>Allen, Mr. William Henry</td>\n",
       "      <td>male</td>\n",
       "      <td>35.0</td>\n",
       "      <td>0</td>\n",
       "      <td>0</td>\n",
       "      <td>8.0500</td>\n",
       "      <td>NaN</td>\n",
       "      <td>S</td>\n",
       "    </tr>\n",
       "  </tbody>\n",
       "</table>\n",
       "</div>"
      ],
      "text/plain": [
       "   Pclass                                               Name     Sex   Age  \\\n",
       "0       3                            Braund, Mr. Owen Harris    male  22.0   \n",
       "1       1  Cumings, Mrs. John Bradley (Florence Briggs Th...  female  38.0   \n",
       "2       3                             Heikkinen, Miss. Laina  female  26.0   \n",
       "3       1       Futrelle, Mrs. Jacques Heath (Lily May Peel)  female  35.0   \n",
       "4       3                           Allen, Mr. William Henry    male  35.0   \n",
       "\n",
       "   SibSp  Parch     Fare Cabin Embarked  \n",
       "0      1      0   7.2500   NaN        S  \n",
       "1      1      0  71.2833   C85        C  \n",
       "2      0      0   7.9250   NaN        S  \n",
       "3      1      0  53.1000  C123        S  \n",
       "4      0      0   8.0500   NaN        S  "
      ]
     },
     "execution_count": 32,
     "metadata": {},
     "output_type": "execute_result"
    }
   ],
   "source": [
    "data.head()"
   ]
  },
  {
   "cell_type": "code",
   "execution_count": 33,
   "metadata": {
    "execution": {
     "iopub.execute_input": "2022-07-23T15:39:13.174003Z",
     "iopub.status.busy": "2022-07-23T15:39:13.173296Z",
     "iopub.status.idle": "2022-07-23T15:39:13.349318Z",
     "shell.execute_reply": "2022-07-23T15:39:13.349994Z",
     "shell.execute_reply.started": "2022-07-22T11:08:55.288081Z"
    },
    "papermill": {
     "duration": 0.243788,
     "end_time": "2022-07-23T15:39:13.350200",
     "exception": false,
     "start_time": "2022-07-23T15:39:13.106412",
     "status": "completed"
    },
    "tags": []
   },
   "outputs": [
    {
     "name": "stdout",
     "output_type": "stream",
     "text": [
      "shape of processed data: (891, 7)\n"
     ]
    }
   ],
   "source": [
    "data_processed = preprocess_pipeline.fit_transform(data)\n",
    "print('shape of processed data:', data_processed.shape)"
   ]
  },
  {
   "cell_type": "markdown",
   "metadata": {
    "papermill": {
     "duration": 0.063422,
     "end_time": "2022-07-23T15:39:13.482792",
     "exception": false,
     "start_time": "2022-07-23T15:39:13.419370",
     "status": "completed"
    },
    "tags": []
   },
   "source": [
    "# Model Selection"
   ]
  },
  {
   "cell_type": "code",
   "execution_count": 34,
   "metadata": {
    "execution": {
     "iopub.execute_input": "2022-07-23T15:39:13.616573Z",
     "iopub.status.busy": "2022-07-23T15:39:13.615556Z",
     "iopub.status.idle": "2022-07-23T15:39:13.617906Z",
     "shell.execute_reply": "2022-07-23T15:39:13.618504Z",
     "shell.execute_reply.started": "2022-07-22T11:08:55.427397Z"
    },
    "papermill": {
     "duration": 0.07298,
     "end_time": "2022-07-23T15:39:13.618647",
     "exception": false,
     "start_time": "2022-07-23T15:39:13.545667",
     "status": "completed"
    },
    "tags": []
   },
   "outputs": [],
   "source": [
    "from sklearn.model_selection import train_test_split\n",
    "x_train, x_test, y_train, y_test = train_test_split(data_processed, labels, test_size=0.2, random_state=42)"
   ]
  },
  {
   "cell_type": "code",
   "execution_count": 35,
   "metadata": {
    "execution": {
     "iopub.execute_input": "2022-07-23T15:39:13.748295Z",
     "iopub.status.busy": "2022-07-23T15:39:13.747190Z",
     "iopub.status.idle": "2022-07-23T15:39:14.671639Z",
     "shell.execute_reply": "2022-07-23T15:39:14.670951Z",
     "shell.execute_reply.started": "2022-07-22T11:08:55.439205Z"
    },
    "papermill": {
     "duration": 0.990388,
     "end_time": "2022-07-23T15:39:14.671787",
     "exception": false,
     "start_time": "2022-07-23T15:39:13.681399",
     "status": "completed"
    },
    "tags": []
   },
   "outputs": [],
   "source": [
    "from sklearn.tree import DecisionTreeClassifier, plot_tree\n",
    "from sklearn.ensemble import RandomForestClassifier, AdaBoostClassifier, GradientBoostingClassifier\n",
    "from xgboost import XGBClassifier\n",
    "from sklearn.linear_model import LogisticRegression\n",
    "from sklearn.svm import LinearSVC\n",
    "from sklearn.neighbors import KNeighborsClassifier\n",
    "from sklearn.model_selection import cross_val_score, GridSearchCV, RandomizedSearchCV\n",
    "from sklearn.metrics import accuracy_score"
   ]
  },
  {
   "cell_type": "code",
   "execution_count": 36,
   "metadata": {
    "execution": {
     "iopub.execute_input": "2022-07-23T15:39:14.804268Z",
     "iopub.status.busy": "2022-07-23T15:39:14.803230Z",
     "iopub.status.idle": "2022-07-23T15:39:19.302510Z",
     "shell.execute_reply": "2022-07-23T15:39:19.301621Z",
     "shell.execute_reply.started": "2022-07-22T11:08:55.453165Z"
    },
    "papermill": {
     "duration": 4.567581,
     "end_time": "2022-07-23T15:39:19.302640",
     "exception": false,
     "start_time": "2022-07-23T15:39:14.735059",
     "status": "completed"
    },
    "tags": []
   },
   "outputs": [
    {
     "name": "stderr",
     "output_type": "stream",
     "text": [
      "/opt/conda/lib/python3.7/site-packages/sklearn/svm/_base.py:977: ConvergenceWarning: Liblinear failed to converge, increase the number of iterations.\n",
      "  \"the number of iterations.\", ConvergenceWarning)\n",
      "/opt/conda/lib/python3.7/site-packages/sklearn/svm/_base.py:977: ConvergenceWarning: Liblinear failed to converge, increase the number of iterations.\n",
      "  \"the number of iterations.\", ConvergenceWarning)\n",
      "/opt/conda/lib/python3.7/site-packages/sklearn/svm/_base.py:977: ConvergenceWarning: Liblinear failed to converge, increase the number of iterations.\n",
      "  \"the number of iterations.\", ConvergenceWarning)\n",
      "/opt/conda/lib/python3.7/site-packages/sklearn/svm/_base.py:977: ConvergenceWarning: Liblinear failed to converge, increase the number of iterations.\n",
      "  \"the number of iterations.\", ConvergenceWarning)\n",
      "/opt/conda/lib/python3.7/site-packages/sklearn/svm/_base.py:977: ConvergenceWarning: Liblinear failed to converge, increase the number of iterations.\n",
      "  \"the number of iterations.\", ConvergenceWarning)\n",
      "/opt/conda/lib/python3.7/site-packages/sklearn/svm/_base.py:977: ConvergenceWarning: Liblinear failed to converge, increase the number of iterations.\n",
      "  \"the number of iterations.\", ConvergenceWarning)\n"
     ]
    },
    {
     "data": {
      "text/html": [
       "<div>\n",
       "<style scoped>\n",
       "    .dataframe tbody tr th:only-of-type {\n",
       "        vertical-align: middle;\n",
       "    }\n",
       "\n",
       "    .dataframe tbody tr th {\n",
       "        vertical-align: top;\n",
       "    }\n",
       "\n",
       "    .dataframe thead th {\n",
       "        text-align: right;\n",
       "    }\n",
       "</style>\n",
       "<table border=\"1\" class=\"dataframe\">\n",
       "  <thead>\n",
       "    <tr style=\"text-align: right;\">\n",
       "      <th></th>\n",
       "      <th>Models</th>\n",
       "      <th>Training Score</th>\n",
       "      <th>Cross val Score</th>\n",
       "    </tr>\n",
       "  </thead>\n",
       "  <tbody>\n",
       "    <tr>\n",
       "      <th>0</th>\n",
       "      <td>LogReg</td>\n",
       "      <td>0.801966</td>\n",
       "      <td>0.796326</td>\n",
       "    </tr>\n",
       "    <tr>\n",
       "      <th>1</th>\n",
       "      <td>XGBoost</td>\n",
       "      <td>0.957865</td>\n",
       "      <td>0.790692</td>\n",
       "    </tr>\n",
       "    <tr>\n",
       "      <th>2</th>\n",
       "      <td>DecisionTree</td>\n",
       "      <td>0.957865</td>\n",
       "      <td>0.738787</td>\n",
       "    </tr>\n",
       "    <tr>\n",
       "      <th>3</th>\n",
       "      <td>RandomForest</td>\n",
       "      <td>0.957865</td>\n",
       "      <td>0.786428</td>\n",
       "    </tr>\n",
       "    <tr>\n",
       "      <th>4</th>\n",
       "      <td>AdaBoost</td>\n",
       "      <td>0.856742</td>\n",
       "      <td>0.789294</td>\n",
       "    </tr>\n",
       "    <tr>\n",
       "      <th>5</th>\n",
       "      <td>GradBoost</td>\n",
       "      <td>0.921348</td>\n",
       "      <td>0.792111</td>\n",
       "    </tr>\n",
       "    <tr>\n",
       "      <th>6</th>\n",
       "      <td>KNN</td>\n",
       "      <td>0.859551</td>\n",
       "      <td>0.748537</td>\n",
       "    </tr>\n",
       "    <tr>\n",
       "      <th>7</th>\n",
       "      <td>LinearSVC</td>\n",
       "      <td>0.796348</td>\n",
       "      <td>0.793618</td>\n",
       "    </tr>\n",
       "  </tbody>\n",
       "</table>\n",
       "</div>"
      ],
      "text/plain": [
       "         Models  Training Score  Cross val Score\n",
       "0        LogReg        0.801966         0.796326\n",
       "1       XGBoost        0.957865         0.790692\n",
       "2  DecisionTree        0.957865         0.738787\n",
       "3  RandomForest        0.957865         0.786428\n",
       "4      AdaBoost        0.856742         0.789294\n",
       "5     GradBoost        0.921348         0.792111\n",
       "6           KNN        0.859551         0.748537\n",
       "7     LinearSVC        0.796348         0.793618"
      ]
     },
     "execution_count": 36,
     "metadata": {},
     "output_type": "execute_result"
    }
   ],
   "source": [
    "models = {'LogReg': LogisticRegression(),\n",
    "         'XGBoost': XGBClassifier(),\n",
    "         'DecisionTree': DecisionTreeClassifier(),\n",
    "         'RandomForest': RandomForestClassifier(n_estimators=100),\n",
    "          'AdaBoost': AdaBoostClassifier(),\n",
    "          'GradBoost': GradientBoostingClassifier(),\n",
    "         'KNN': KNeighborsClassifier(n_neighbors=3),\n",
    "         'LinearSVC': LinearSVC(max_iter=1500)}\n",
    "\n",
    "res1, res2 = [], []\n",
    "for i in models.keys():\n",
    "    model = models[i]\n",
    "    model.fit(x_train, y_train)\n",
    "    res1.append(model.score(x_train, y_train))\n",
    "    res2.append(cross_val_score(model, x_train, y_train).mean())\n",
    "pd.DataFrame({'Models':models.keys(), 'Training Score':res1, 'Cross val Score':res2})"
   ]
  },
  {
   "cell_type": "markdown",
   "metadata": {
    "papermill": {
     "duration": 0.063188,
     "end_time": "2022-07-23T15:39:19.429540",
     "exception": false,
     "start_time": "2022-07-23T15:39:19.366352",
     "status": "completed"
    },
    "tags": []
   },
   "source": [
    "## Logistic Regression"
   ]
  },
  {
   "cell_type": "code",
   "execution_count": 37,
   "metadata": {
    "execution": {
     "iopub.execute_input": "2022-07-23T15:39:19.565118Z",
     "iopub.status.busy": "2022-07-23T15:39:19.564430Z",
     "iopub.status.idle": "2022-07-23T15:39:22.197815Z",
     "shell.execute_reply": "2022-07-23T15:39:22.198563Z",
     "shell.execute_reply.started": "2022-07-22T11:08:59.944322Z"
    },
    "papermill": {
     "duration": 2.70555,
     "end_time": "2022-07-23T15:39:22.198773",
     "exception": false,
     "start_time": "2022-07-23T15:39:19.493223",
     "status": "completed"
    },
    "tags": []
   },
   "outputs": [
    {
     "name": "stderr",
     "output_type": "stream",
     "text": [
      "/opt/conda/lib/python3.7/site-packages/sklearn/linear_model/_sag.py:330: ConvergenceWarning: The max_iter was reached which means the coef_ did not converge\n",
      "  \"the coef_ did not converge\", ConvergenceWarning)\n",
      "/opt/conda/lib/python3.7/site-packages/sklearn/linear_model/_sag.py:330: ConvergenceWarning: The max_iter was reached which means the coef_ did not converge\n",
      "  \"the coef_ did not converge\", ConvergenceWarning)\n",
      "/opt/conda/lib/python3.7/site-packages/sklearn/linear_model/_sag.py:330: ConvergenceWarning: The max_iter was reached which means the coef_ did not converge\n",
      "  \"the coef_ did not converge\", ConvergenceWarning)\n",
      "/opt/conda/lib/python3.7/site-packages/sklearn/linear_model/_sag.py:330: ConvergenceWarning: The max_iter was reached which means the coef_ did not converge\n",
      "  \"the coef_ did not converge\", ConvergenceWarning)\n",
      "/opt/conda/lib/python3.7/site-packages/sklearn/linear_model/_sag.py:330: ConvergenceWarning: The max_iter was reached which means the coef_ did not converge\n",
      "  \"the coef_ did not converge\", ConvergenceWarning)\n",
      "/opt/conda/lib/python3.7/site-packages/sklearn/linear_model/_sag.py:330: ConvergenceWarning: The max_iter was reached which means the coef_ did not converge\n",
      "  \"the coef_ did not converge\", ConvergenceWarning)\n",
      "/opt/conda/lib/python3.7/site-packages/sklearn/linear_model/_sag.py:330: ConvergenceWarning: The max_iter was reached which means the coef_ did not converge\n",
      "  \"the coef_ did not converge\", ConvergenceWarning)\n",
      "/opt/conda/lib/python3.7/site-packages/sklearn/linear_model/_sag.py:330: ConvergenceWarning: The max_iter was reached which means the coef_ did not converge\n",
      "  \"the coef_ did not converge\", ConvergenceWarning)\n",
      "/opt/conda/lib/python3.7/site-packages/sklearn/linear_model/_sag.py:330: ConvergenceWarning: The max_iter was reached which means the coef_ did not converge\n",
      "  \"the coef_ did not converge\", ConvergenceWarning)\n",
      "/opt/conda/lib/python3.7/site-packages/sklearn/linear_model/_sag.py:330: ConvergenceWarning: The max_iter was reached which means the coef_ did not converge\n",
      "  \"the coef_ did not converge\", ConvergenceWarning)\n",
      "/opt/conda/lib/python3.7/site-packages/sklearn/linear_model/_sag.py:330: ConvergenceWarning: The max_iter was reached which means the coef_ did not converge\n",
      "  \"the coef_ did not converge\", ConvergenceWarning)\n",
      "/opt/conda/lib/python3.7/site-packages/sklearn/linear_model/_sag.py:330: ConvergenceWarning: The max_iter was reached which means the coef_ did not converge\n",
      "  \"the coef_ did not converge\", ConvergenceWarning)\n",
      "/opt/conda/lib/python3.7/site-packages/sklearn/linear_model/_sag.py:330: ConvergenceWarning: The max_iter was reached which means the coef_ did not converge\n",
      "  \"the coef_ did not converge\", ConvergenceWarning)\n",
      "/opt/conda/lib/python3.7/site-packages/sklearn/linear_model/_sag.py:330: ConvergenceWarning: The max_iter was reached which means the coef_ did not converge\n",
      "  \"the coef_ did not converge\", ConvergenceWarning)\n",
      "/opt/conda/lib/python3.7/site-packages/sklearn/linear_model/_sag.py:330: ConvergenceWarning: The max_iter was reached which means the coef_ did not converge\n",
      "  \"the coef_ did not converge\", ConvergenceWarning)\n",
      "/opt/conda/lib/python3.7/site-packages/sklearn/linear_model/_sag.py:330: ConvergenceWarning: The max_iter was reached which means the coef_ did not converge\n",
      "  \"the coef_ did not converge\", ConvergenceWarning)\n",
      "/opt/conda/lib/python3.7/site-packages/sklearn/linear_model/_sag.py:330: ConvergenceWarning: The max_iter was reached which means the coef_ did not converge\n",
      "  \"the coef_ did not converge\", ConvergenceWarning)\n",
      "/opt/conda/lib/python3.7/site-packages/sklearn/linear_model/_sag.py:330: ConvergenceWarning: The max_iter was reached which means the coef_ did not converge\n",
      "  \"the coef_ did not converge\", ConvergenceWarning)\n",
      "/opt/conda/lib/python3.7/site-packages/sklearn/linear_model/_sag.py:330: ConvergenceWarning: The max_iter was reached which means the coef_ did not converge\n",
      "  \"the coef_ did not converge\", ConvergenceWarning)\n",
      "/opt/conda/lib/python3.7/site-packages/sklearn/linear_model/_sag.py:330: ConvergenceWarning: The max_iter was reached which means the coef_ did not converge\n",
      "  \"the coef_ did not converge\", ConvergenceWarning)\n",
      "/opt/conda/lib/python3.7/site-packages/sklearn/linear_model/_sag.py:330: ConvergenceWarning: The max_iter was reached which means the coef_ did not converge\n",
      "  \"the coef_ did not converge\", ConvergenceWarning)\n",
      "/opt/conda/lib/python3.7/site-packages/sklearn/linear_model/_sag.py:330: ConvergenceWarning: The max_iter was reached which means the coef_ did not converge\n",
      "  \"the coef_ did not converge\", ConvergenceWarning)\n",
      "/opt/conda/lib/python3.7/site-packages/sklearn/linear_model/_sag.py:330: ConvergenceWarning: The max_iter was reached which means the coef_ did not converge\n",
      "  \"the coef_ did not converge\", ConvergenceWarning)\n",
      "/opt/conda/lib/python3.7/site-packages/sklearn/linear_model/_sag.py:330: ConvergenceWarning: The max_iter was reached which means the coef_ did not converge\n",
      "  \"the coef_ did not converge\", ConvergenceWarning)\n",
      "/opt/conda/lib/python3.7/site-packages/sklearn/linear_model/_sag.py:330: ConvergenceWarning: The max_iter was reached which means the coef_ did not converge\n",
      "  \"the coef_ did not converge\", ConvergenceWarning)\n",
      "/opt/conda/lib/python3.7/site-packages/sklearn/linear_model/_sag.py:330: ConvergenceWarning: The max_iter was reached which means the coef_ did not converge\n",
      "  \"the coef_ did not converge\", ConvergenceWarning)\n",
      "/opt/conda/lib/python3.7/site-packages/sklearn/linear_model/_sag.py:330: ConvergenceWarning: The max_iter was reached which means the coef_ did not converge\n",
      "  \"the coef_ did not converge\", ConvergenceWarning)\n",
      "/opt/conda/lib/python3.7/site-packages/sklearn/linear_model/_sag.py:330: ConvergenceWarning: The max_iter was reached which means the coef_ did not converge\n",
      "  \"the coef_ did not converge\", ConvergenceWarning)\n",
      "/opt/conda/lib/python3.7/site-packages/sklearn/linear_model/_sag.py:330: ConvergenceWarning: The max_iter was reached which means the coef_ did not converge\n",
      "  \"the coef_ did not converge\", ConvergenceWarning)\n",
      "/opt/conda/lib/python3.7/site-packages/sklearn/linear_model/_sag.py:330: ConvergenceWarning: The max_iter was reached which means the coef_ did not converge\n",
      "  \"the coef_ did not converge\", ConvergenceWarning)\n",
      "/opt/conda/lib/python3.7/site-packages/sklearn/linear_model/_sag.py:330: ConvergenceWarning: The max_iter was reached which means the coef_ did not converge\n",
      "  \"the coef_ did not converge\", ConvergenceWarning)\n",
      "/opt/conda/lib/python3.7/site-packages/sklearn/linear_model/_sag.py:330: ConvergenceWarning: The max_iter was reached which means the coef_ did not converge\n",
      "  \"the coef_ did not converge\", ConvergenceWarning)\n",
      "/opt/conda/lib/python3.7/site-packages/sklearn/linear_model/_sag.py:330: ConvergenceWarning: The max_iter was reached which means the coef_ did not converge\n",
      "  \"the coef_ did not converge\", ConvergenceWarning)\n",
      "/opt/conda/lib/python3.7/site-packages/sklearn/linear_model/_sag.py:330: ConvergenceWarning: The max_iter was reached which means the coef_ did not converge\n",
      "  \"the coef_ did not converge\", ConvergenceWarning)\n",
      "/opt/conda/lib/python3.7/site-packages/sklearn/linear_model/_sag.py:330: ConvergenceWarning: The max_iter was reached which means the coef_ did not converge\n",
      "  \"the coef_ did not converge\", ConvergenceWarning)\n",
      "/opt/conda/lib/python3.7/site-packages/sklearn/linear_model/_sag.py:330: ConvergenceWarning: The max_iter was reached which means the coef_ did not converge\n",
      "  \"the coef_ did not converge\", ConvergenceWarning)\n",
      "/opt/conda/lib/python3.7/site-packages/sklearn/linear_model/_sag.py:330: ConvergenceWarning: The max_iter was reached which means the coef_ did not converge\n",
      "  \"the coef_ did not converge\", ConvergenceWarning)\n",
      "/opt/conda/lib/python3.7/site-packages/sklearn/linear_model/_sag.py:330: ConvergenceWarning: The max_iter was reached which means the coef_ did not converge\n",
      "  \"the coef_ did not converge\", ConvergenceWarning)\n"
     ]
    },
    {
     "data": {
      "text/plain": [
       "GridSearchCV(cv=5, estimator=LogisticRegression(),\n",
       "             param_grid=[{'max_iter': [100, 300, 500, 1000],\n",
       "                          'penalty': ['l2', 'none'],\n",
       "                          'solver': ['saga', 'lbfgs']}])"
      ]
     },
     "execution_count": 37,
     "metadata": {},
     "output_type": "execute_result"
    }
   ],
   "source": [
    "param_grid = [\n",
    "    {'penalty':['l2', 'none'],\n",
    "    'solver':['saga', 'lbfgs'],\n",
    "    'max_iter': [100,300, 500,1000]}\n",
    "]\n",
    "\n",
    "lr = LogisticRegression()\n",
    "grid_search = GridSearchCV(lr, param_grid, cv=5)\n",
    "grid_search.fit(x_train, y_train)"
   ]
  },
  {
   "cell_type": "code",
   "execution_count": 38,
   "metadata": {
    "execution": {
     "iopub.execute_input": "2022-07-23T15:39:22.340519Z",
     "iopub.status.busy": "2022-07-23T15:39:22.339546Z",
     "iopub.status.idle": "2022-07-23T15:39:22.344468Z",
     "shell.execute_reply": "2022-07-23T15:39:22.343893Z",
     "shell.execute_reply.started": "2022-07-22T11:09:02.650722Z"
    },
    "papermill": {
     "duration": 0.077826,
     "end_time": "2022-07-23T15:39:22.344582",
     "exception": false,
     "start_time": "2022-07-23T15:39:22.266756",
     "status": "completed"
    },
    "tags": []
   },
   "outputs": [
    {
     "data": {
      "text/plain": [
       "{'max_iter': 500, 'penalty': 'none', 'solver': 'saga'}"
      ]
     },
     "execution_count": 38,
     "metadata": {},
     "output_type": "execute_result"
    }
   ],
   "source": [
    "grid_search.best_params_"
   ]
  },
  {
   "cell_type": "code",
   "execution_count": 39,
   "metadata": {
    "execution": {
     "iopub.execute_input": "2022-07-23T15:39:22.483530Z",
     "iopub.status.busy": "2022-07-23T15:39:22.482573Z",
     "iopub.status.idle": "2022-07-23T15:39:22.715290Z",
     "shell.execute_reply": "2022-07-23T15:39:22.716245Z",
     "shell.execute_reply.started": "2022-07-22T11:09:02.658588Z"
    },
    "papermill": {
     "duration": 0.30443,
     "end_time": "2022-07-23T15:39:22.716439",
     "exception": false,
     "start_time": "2022-07-23T15:39:22.412009",
     "status": "completed"
    },
    "tags": []
   },
   "outputs": [
    {
     "name": "stdout",
     "output_type": "stream",
     "text": [
      "[0.8041958  0.8041958  0.83098592 0.76760563 0.79577465] \n",
      "mean: 0.8005515611149414\n"
     ]
    },
    {
     "name": "stderr",
     "output_type": "stream",
     "text": [
      "/opt/conda/lib/python3.7/site-packages/sklearn/linear_model/_sag.py:330: ConvergenceWarning: The max_iter was reached which means the coef_ did not converge\n",
      "  \"the coef_ did not converge\", ConvergenceWarning)\n",
      "/opt/conda/lib/python3.7/site-packages/sklearn/linear_model/_sag.py:330: ConvergenceWarning: The max_iter was reached which means the coef_ did not converge\n",
      "  \"the coef_ did not converge\", ConvergenceWarning)\n",
      "/opt/conda/lib/python3.7/site-packages/sklearn/linear_model/_sag.py:330: ConvergenceWarning: The max_iter was reached which means the coef_ did not converge\n",
      "  \"the coef_ did not converge\", ConvergenceWarning)\n",
      "/opt/conda/lib/python3.7/site-packages/sklearn/linear_model/_sag.py:330: ConvergenceWarning: The max_iter was reached which means the coef_ did not converge\n",
      "  \"the coef_ did not converge\", ConvergenceWarning)\n",
      "/opt/conda/lib/python3.7/site-packages/sklearn/linear_model/_sag.py:330: ConvergenceWarning: The max_iter was reached which means the coef_ did not converge\n",
      "  \"the coef_ did not converge\", ConvergenceWarning)\n"
     ]
    }
   ],
   "source": [
    "lr = LogisticRegression(max_iter=500, penalty='none', solver='saga')\n",
    "cv = cross_val_score(lr, x_train, y_train, cv=5)\n",
    "print(cv, '\\nmean:', cv.mean())"
   ]
  },
  {
   "cell_type": "markdown",
   "metadata": {
    "papermill": {
     "duration": 0.078581,
     "end_time": "2022-07-23T15:39:22.874179",
     "exception": false,
     "start_time": "2022-07-23T15:39:22.795598",
     "status": "completed"
    },
    "tags": []
   },
   "source": [
    "## Decision Tree"
   ]
  },
  {
   "cell_type": "code",
   "execution_count": 40,
   "metadata": {
    "execution": {
     "iopub.execute_input": "2022-07-23T15:39:23.029097Z",
     "iopub.status.busy": "2022-07-23T15:39:23.028109Z",
     "iopub.status.idle": "2022-07-23T15:39:24.654739Z",
     "shell.execute_reply": "2022-07-23T15:39:24.655455Z",
     "shell.execute_reply.started": "2022-07-22T11:09:02.900758Z"
    },
    "papermill": {
     "duration": 1.709308,
     "end_time": "2022-07-23T15:39:24.655787",
     "exception": false,
     "start_time": "2022-07-23T15:39:22.946479",
     "status": "completed"
    },
    "tags": []
   },
   "outputs": [
    {
     "data": {
      "text/plain": [
       "GridSearchCV(cv=5, estimator=DecisionTreeClassifier(),\n",
       "             param_grid=[{'criterion': ['gini', 'entropy'],\n",
       "                          'max_depth': [2, 4, 6, 10],\n",
       "                          'max_features': [None, 'log2', 'sqrt'],\n",
       "                          'min_samples_leaf': [5, 10, 20, 50, 100]}])"
      ]
     },
     "execution_count": 40,
     "metadata": {},
     "output_type": "execute_result"
    }
   ],
   "source": [
    "param_grid = [{\n",
    "    'criterion':['gini','entropy'], 'max_depth':[2,4,6,10], 'min_samples_leaf':[5,10,20,50,100], 'max_features':[None, 'log2','sqrt']\n",
    "}]\n",
    "tree = DecisionTreeClassifier()\n",
    "grid_search = GridSearchCV(tree, param_grid, cv=5)\n",
    "grid_search.fit(x_train, y_train)"
   ]
  },
  {
   "cell_type": "code",
   "execution_count": 41,
   "metadata": {
    "execution": {
     "iopub.execute_input": "2022-07-23T15:39:24.799525Z",
     "iopub.status.busy": "2022-07-23T15:39:24.798546Z",
     "iopub.status.idle": "2022-07-23T15:39:24.806402Z",
     "shell.execute_reply": "2022-07-23T15:39:24.805834Z",
     "shell.execute_reply.started": "2022-07-22T11:09:04.649906Z"
    },
    "papermill": {
     "duration": 0.080161,
     "end_time": "2022-07-23T15:39:24.806527",
     "exception": false,
     "start_time": "2022-07-23T15:39:24.726366",
     "status": "completed"
    },
    "tags": []
   },
   "outputs": [
    {
     "data": {
      "text/plain": [
       "{'criterion': 'entropy',\n",
       " 'max_depth': 6,\n",
       " 'max_features': None,\n",
       " 'min_samples_leaf': 10}"
      ]
     },
     "execution_count": 41,
     "metadata": {},
     "output_type": "execute_result"
    }
   ],
   "source": [
    "grid_search.best_params_"
   ]
  },
  {
   "cell_type": "code",
   "execution_count": 42,
   "metadata": {
    "execution": {
     "iopub.execute_input": "2022-07-23T15:39:24.956426Z",
     "iopub.status.busy": "2022-07-23T15:39:24.955680Z",
     "iopub.status.idle": "2022-07-23T15:39:24.991306Z",
     "shell.execute_reply": "2022-07-23T15:39:24.990692Z",
     "shell.execute_reply.started": "2022-07-22T11:09:04.659122Z"
    },
    "papermill": {
     "duration": 0.113491,
     "end_time": "2022-07-23T15:39:24.991428",
     "exception": false,
     "start_time": "2022-07-23T15:39:24.877937",
     "status": "completed"
    },
    "tags": []
   },
   "outputs": [
    {
     "name": "stdout",
     "output_type": "stream",
     "text": [
      "[0.7972028  0.77622378 0.78873239 0.76056338 0.86619718] \n",
      "mean: 0.7977839062346104\n"
     ]
    }
   ],
   "source": [
    "lr = DecisionTreeClassifier(max_depth=6, min_samples_leaf=10, criterion='entropy')\n",
    "cv = cross_val_score(lr, x_train, y_train, cv=5)\n",
    "print(cv, '\\nmean:', cv.mean())"
   ]
  },
  {
   "cell_type": "markdown",
   "metadata": {
    "papermill": {
     "duration": 0.069256,
     "end_time": "2022-07-23T15:39:25.131551",
     "exception": false,
     "start_time": "2022-07-23T15:39:25.062295",
     "status": "completed"
    },
    "tags": []
   },
   "source": [
    "## RandomForest"
   ]
  },
  {
   "cell_type": "code",
   "execution_count": 43,
   "metadata": {
    "execution": {
     "iopub.execute_input": "2022-07-23T15:39:25.282844Z",
     "iopub.status.busy": "2022-07-23T15:39:25.282132Z",
     "iopub.status.idle": "2022-07-23T15:41:01.357859Z",
     "shell.execute_reply": "2022-07-23T15:41:01.357269Z",
     "shell.execute_reply.started": "2022-07-22T11:09:04.709014Z"
    },
    "papermill": {
     "duration": 96.156927,
     "end_time": "2022-07-23T15:41:01.357999",
     "exception": false,
     "start_time": "2022-07-23T15:39:25.201072",
     "status": "completed"
    },
    "tags": []
   },
   "outputs": [
    {
     "name": "stdout",
     "output_type": "stream",
     "text": [
      "Fitting 5 folds for each of 90 candidates, totalling 450 fits\n"
     ]
    },
    {
     "name": "stderr",
     "output_type": "stream",
     "text": [
      "[Parallel(n_jobs=-1)]: Using backend LokyBackend with 4 concurrent workers.\n",
      "[Parallel(n_jobs=-1)]: Done  42 tasks      | elapsed:   10.8s\n",
      "[Parallel(n_jobs=-1)]: Done 192 tasks      | elapsed:   40.8s\n",
      "[Parallel(n_jobs=-1)]: Done 442 tasks      | elapsed:  1.6min\n",
      "[Parallel(n_jobs=-1)]: Done 450 out of 450 | elapsed:  1.6min finished\n"
     ]
    },
    {
     "data": {
      "text/plain": [
       "GridSearchCV(cv=5, estimator=RandomForestClassifier(), n_jobs=-1,\n",
       "             param_grid=[{'max_depth': [3, 5, 7, 10, 12],\n",
       "                          'max_features': [None, 'sqrt', 'log2'],\n",
       "                          'min_samples_leaf': [5],\n",
       "                          'min_samples_split': [10, 20],\n",
       "                          'n_estimators': [100, 200, 300]}],\n",
       "             verbose=1)"
      ]
     },
     "execution_count": 43,
     "metadata": {},
     "output_type": "execute_result"
    }
   ],
   "source": [
    "param_grid = [{\n",
    "    'n_estimators': [100, 200, 300],\n",
    "    'max_features': [None, \"sqrt\", \"log2\"],\n",
    "    'max_depth': [3,5,7,10,12],\n",
    "    'min_samples_split': [10, 20],\n",
    "    'min_samples_leaf': [5],\n",
    "}]\n",
    "\n",
    "forest = RandomForestClassifier()\n",
    "grid_search = GridSearchCV(forest, param_grid, cv=5, verbose=1, n_jobs=-1)\n",
    "grid_search.fit(x_train, y_train)"
   ]
  },
  {
   "cell_type": "code",
   "execution_count": 44,
   "metadata": {
    "execution": {
     "iopub.execute_input": "2022-07-23T15:41:01.509067Z",
     "iopub.status.busy": "2022-07-23T15:41:01.508388Z",
     "iopub.status.idle": "2022-07-23T15:41:01.513440Z",
     "shell.execute_reply": "2022-07-23T15:41:01.512787Z",
     "shell.execute_reply.started": "2022-07-22T11:10:47.457129Z"
    },
    "papermill": {
     "duration": 0.082755,
     "end_time": "2022-07-23T15:41:01.513558",
     "exception": false,
     "start_time": "2022-07-23T15:41:01.430803",
     "status": "completed"
    },
    "tags": []
   },
   "outputs": [
    {
     "data": {
      "text/plain": [
       "{'max_depth': 5,\n",
       " 'max_features': None,\n",
       " 'min_samples_leaf': 5,\n",
       " 'min_samples_split': 10,\n",
       " 'n_estimators': 200}"
      ]
     },
     "execution_count": 44,
     "metadata": {},
     "output_type": "execute_result"
    }
   ],
   "source": [
    "grid_search.best_params_"
   ]
  },
  {
   "cell_type": "code",
   "execution_count": 45,
   "metadata": {
    "execution": {
     "iopub.execute_input": "2022-07-23T15:41:01.667452Z",
     "iopub.status.busy": "2022-07-23T15:41:01.666816Z",
     "iopub.status.idle": "2022-07-23T15:41:04.946782Z",
     "shell.execute_reply": "2022-07-23T15:41:04.945832Z",
     "shell.execute_reply.started": "2022-07-22T11:10:47.467301Z"
    },
    "papermill": {
     "duration": 3.360093,
     "end_time": "2022-07-23T15:41:04.946962",
     "exception": false,
     "start_time": "2022-07-23T15:41:01.586869",
     "status": "completed"
    },
    "tags": []
   },
   "outputs": [
    {
     "name": "stdout",
     "output_type": "stream",
     "text": [
      "[0.81818182 0.82517483 0.79577465 0.76056338 0.81690141] \n",
      "mean: 0.8033192159952722\n"
     ]
    }
   ],
   "source": [
    "forest = RandomForestClassifier(n_estimators=200, min_samples_split=10, min_samples_leaf=5, max_features=None, max_depth=7, bootstrap=True)\n",
    "cv = cross_val_score(forest, x_train, y_train, cv=5)\n",
    "print(cv, '\\nmean:', cv.mean())"
   ]
  },
  {
   "cell_type": "markdown",
   "metadata": {
    "papermill": {
     "duration": 0.074076,
     "end_time": "2022-07-23T15:41:05.096658",
     "exception": false,
     "start_time": "2022-07-23T15:41:05.022582",
     "status": "completed"
    },
    "tags": []
   },
   "source": [
    "# Competition Submission"
   ]
  },
  {
   "cell_type": "code",
   "execution_count": 46,
   "metadata": {
    "execution": {
     "iopub.execute_input": "2022-07-23T15:41:05.255114Z",
     "iopub.status.busy": "2022-07-23T15:41:05.254331Z",
     "iopub.status.idle": "2022-07-23T15:41:05.276152Z",
     "shell.execute_reply": "2022-07-23T15:41:05.276761Z",
     "shell.execute_reply.started": "2022-07-22T11:13:41.675946Z"
    },
    "papermill": {
     "duration": 0.103885,
     "end_time": "2022-07-23T15:41:05.276981",
     "exception": false,
     "start_time": "2022-07-23T15:41:05.173096",
     "status": "completed"
    },
    "tags": []
   },
   "outputs": [
    {
     "data": {
      "text/html": [
       "<div>\n",
       "<style scoped>\n",
       "    .dataframe tbody tr th:only-of-type {\n",
       "        vertical-align: middle;\n",
       "    }\n",
       "\n",
       "    .dataframe tbody tr th {\n",
       "        vertical-align: top;\n",
       "    }\n",
       "\n",
       "    .dataframe thead th {\n",
       "        text-align: right;\n",
       "    }\n",
       "</style>\n",
       "<table border=\"1\" class=\"dataframe\">\n",
       "  <thead>\n",
       "    <tr style=\"text-align: right;\">\n",
       "      <th></th>\n",
       "      <th>PassengerId</th>\n",
       "      <th>Pclass</th>\n",
       "      <th>Name</th>\n",
       "      <th>Sex</th>\n",
       "      <th>Age</th>\n",
       "      <th>SibSp</th>\n",
       "      <th>Parch</th>\n",
       "      <th>Ticket</th>\n",
       "      <th>Fare</th>\n",
       "      <th>Cabin</th>\n",
       "      <th>Embarked</th>\n",
       "    </tr>\n",
       "  </thead>\n",
       "  <tbody>\n",
       "    <tr>\n",
       "      <th>0</th>\n",
       "      <td>892</td>\n",
       "      <td>3</td>\n",
       "      <td>Kelly, Mr. James</td>\n",
       "      <td>male</td>\n",
       "      <td>34.5</td>\n",
       "      <td>0</td>\n",
       "      <td>0</td>\n",
       "      <td>330911</td>\n",
       "      <td>7.8292</td>\n",
       "      <td>NaN</td>\n",
       "      <td>Q</td>\n",
       "    </tr>\n",
       "    <tr>\n",
       "      <th>1</th>\n",
       "      <td>893</td>\n",
       "      <td>3</td>\n",
       "      <td>Wilkes, Mrs. James (Ellen Needs)</td>\n",
       "      <td>female</td>\n",
       "      <td>47.0</td>\n",
       "      <td>1</td>\n",
       "      <td>0</td>\n",
       "      <td>363272</td>\n",
       "      <td>7.0000</td>\n",
       "      <td>NaN</td>\n",
       "      <td>S</td>\n",
       "    </tr>\n",
       "    <tr>\n",
       "      <th>2</th>\n",
       "      <td>894</td>\n",
       "      <td>2</td>\n",
       "      <td>Myles, Mr. Thomas Francis</td>\n",
       "      <td>male</td>\n",
       "      <td>62.0</td>\n",
       "      <td>0</td>\n",
       "      <td>0</td>\n",
       "      <td>240276</td>\n",
       "      <td>9.6875</td>\n",
       "      <td>NaN</td>\n",
       "      <td>Q</td>\n",
       "    </tr>\n",
       "    <tr>\n",
       "      <th>3</th>\n",
       "      <td>895</td>\n",
       "      <td>3</td>\n",
       "      <td>Wirz, Mr. Albert</td>\n",
       "      <td>male</td>\n",
       "      <td>27.0</td>\n",
       "      <td>0</td>\n",
       "      <td>0</td>\n",
       "      <td>315154</td>\n",
       "      <td>8.6625</td>\n",
       "      <td>NaN</td>\n",
       "      <td>S</td>\n",
       "    </tr>\n",
       "    <tr>\n",
       "      <th>4</th>\n",
       "      <td>896</td>\n",
       "      <td>3</td>\n",
       "      <td>Hirvonen, Mrs. Alexander (Helga E Lindqvist)</td>\n",
       "      <td>female</td>\n",
       "      <td>22.0</td>\n",
       "      <td>1</td>\n",
       "      <td>1</td>\n",
       "      <td>3101298</td>\n",
       "      <td>12.2875</td>\n",
       "      <td>NaN</td>\n",
       "      <td>S</td>\n",
       "    </tr>\n",
       "  </tbody>\n",
       "</table>\n",
       "</div>"
      ],
      "text/plain": [
       "   PassengerId  Pclass                                          Name     Sex  \\\n",
       "0          892       3                              Kelly, Mr. James    male   \n",
       "1          893       3              Wilkes, Mrs. James (Ellen Needs)  female   \n",
       "2          894       2                     Myles, Mr. Thomas Francis    male   \n",
       "3          895       3                              Wirz, Mr. Albert    male   \n",
       "4          896       3  Hirvonen, Mrs. Alexander (Helga E Lindqvist)  female   \n",
       "\n",
       "    Age  SibSp  Parch   Ticket     Fare Cabin Embarked  \n",
       "0  34.5      0      0   330911   7.8292   NaN        Q  \n",
       "1  47.0      1      0   363272   7.0000   NaN        S  \n",
       "2  62.0      0      0   240276   9.6875   NaN        Q  \n",
       "3  27.0      0      0   315154   8.6625   NaN        S  \n",
       "4  22.0      1      1  3101298  12.2875   NaN        S  "
      ]
     },
     "execution_count": 46,
     "metadata": {},
     "output_type": "execute_result"
    }
   ],
   "source": [
    "test = pd.read_csv('/kaggle/input/titanic/test.csv')\n",
    "test.head()"
   ]
  },
  {
   "cell_type": "code",
   "execution_count": 47,
   "metadata": {
    "execution": {
     "iopub.execute_input": "2022-07-23T15:41:05.430415Z",
     "iopub.status.busy": "2022-07-23T15:41:05.429669Z",
     "iopub.status.idle": "2022-07-23T15:41:06.163856Z",
     "shell.execute_reply": "2022-07-23T15:41:06.164437Z",
     "shell.execute_reply.started": "2022-07-22T11:13:54.461405Z"
    },
    "papermill": {
     "duration": 0.812981,
     "end_time": "2022-07-23T15:41:06.164645",
     "exception": false,
     "start_time": "2022-07-23T15:41:05.351664",
     "status": "completed"
    },
    "tags": []
   },
   "outputs": [
    {
     "data": {
      "text/plain": [
       "RandomForestClassifier(max_depth=5, max_features=None, min_samples_leaf=5,\n",
       "                       min_samples_split=10, n_estimators=200)"
      ]
     },
     "execution_count": 47,
     "metadata": {},
     "output_type": "execute_result"
    }
   ],
   "source": [
    "model = RandomForestClassifier(**grid_search.best_params_)\n",
    "model.fit(data_processed, labels)"
   ]
  },
  {
   "cell_type": "code",
   "execution_count": 48,
   "metadata": {
    "execution": {
     "iopub.execute_input": "2022-07-23T15:41:06.323198Z",
     "iopub.status.busy": "2022-07-23T15:41:06.322422Z",
     "iopub.status.idle": "2022-07-23T15:41:06.401101Z",
     "shell.execute_reply": "2022-07-23T15:41:06.401651Z",
     "shell.execute_reply.started": "2022-07-22T11:13:56.929955Z"
    },
    "papermill": {
     "duration": 0.159856,
     "end_time": "2022-07-23T15:41:06.401839",
     "exception": false,
     "start_time": "2022-07-23T15:41:06.241983",
     "status": "completed"
    },
    "tags": []
   },
   "outputs": [],
   "source": [
    "test_df = test.drop(['PassengerId','Ticket'], axis=1)\n",
    "test_processed = preprocess_pipeline.transform(test_df)"
   ]
  },
  {
   "cell_type": "code",
   "execution_count": 49,
   "metadata": {
    "execution": {
     "iopub.execute_input": "2022-07-23T15:41:06.558948Z",
     "iopub.status.busy": "2022-07-23T15:41:06.558175Z",
     "iopub.status.idle": "2022-07-23T15:41:06.586796Z",
     "shell.execute_reply": "2022-07-23T15:41:06.587316Z",
     "shell.execute_reply.started": "2022-07-22T11:14:01.736466Z"
    },
    "papermill": {
     "duration": 0.110311,
     "end_time": "2022-07-23T15:41:06.587512",
     "exception": false,
     "start_time": "2022-07-23T15:41:06.477201",
     "status": "completed"
    },
    "tags": []
   },
   "outputs": [],
   "source": [
    "pred = model.predict(test_processed)"
   ]
  },
  {
   "cell_type": "code",
   "execution_count": 50,
   "metadata": {
    "execution": {
     "iopub.execute_input": "2022-07-23T15:41:06.745090Z",
     "iopub.status.busy": "2022-07-23T15:41:06.741492Z",
     "iopub.status.idle": "2022-07-23T15:41:07.178342Z",
     "shell.execute_reply": "2022-07-23T15:41:07.177636Z",
     "shell.execute_reply.started": "2022-07-22T11:14:07.305368Z"
    },
    "papermill": {
     "duration": 0.515871,
     "end_time": "2022-07-23T15:41:07.178495",
     "exception": false,
     "start_time": "2022-07-23T15:41:06.662624",
     "status": "completed"
    },
    "tags": []
   },
   "outputs": [],
   "source": [
    "submission = pd.DataFrame({'PassengerId':test['PassengerId'], 'Survived':pred})\n",
    "submission.to_csv('Submission.csv', index=False)"
   ]
  },
  {
   "cell_type": "code",
   "execution_count": 51,
   "metadata": {
    "execution": {
     "iopub.execute_input": "2022-07-23T15:41:07.335784Z",
     "iopub.status.busy": "2022-07-23T15:41:07.334671Z",
     "iopub.status.idle": "2022-07-23T15:41:07.360373Z",
     "shell.execute_reply": "2022-07-23T15:41:07.360883Z",
     "shell.execute_reply.started": "2022-07-22T11:14:10.800298Z"
    },
    "papermill": {
     "duration": 0.106902,
     "end_time": "2022-07-23T15:41:07.361078",
     "exception": false,
     "start_time": "2022-07-23T15:41:07.254176",
     "status": "completed"
    },
    "tags": []
   },
   "outputs": [
    {
     "data": {
      "text/html": [
       "<div>\n",
       "<style scoped>\n",
       "    .dataframe tbody tr th:only-of-type {\n",
       "        vertical-align: middle;\n",
       "    }\n",
       "\n",
       "    .dataframe tbody tr th {\n",
       "        vertical-align: top;\n",
       "    }\n",
       "\n",
       "    .dataframe thead th {\n",
       "        text-align: right;\n",
       "    }\n",
       "</style>\n",
       "<table border=\"1\" class=\"dataframe\">\n",
       "  <thead>\n",
       "    <tr style=\"text-align: right;\">\n",
       "      <th></th>\n",
       "      <th>PassengerId</th>\n",
       "      <th>Survived</th>\n",
       "    </tr>\n",
       "  </thead>\n",
       "  <tbody>\n",
       "    <tr>\n",
       "      <th>0</th>\n",
       "      <td>892</td>\n",
       "      <td>0</td>\n",
       "    </tr>\n",
       "    <tr>\n",
       "      <th>1</th>\n",
       "      <td>893</td>\n",
       "      <td>0</td>\n",
       "    </tr>\n",
       "    <tr>\n",
       "      <th>2</th>\n",
       "      <td>894</td>\n",
       "      <td>0</td>\n",
       "    </tr>\n",
       "    <tr>\n",
       "      <th>3</th>\n",
       "      <td>895</td>\n",
       "      <td>0</td>\n",
       "    </tr>\n",
       "    <tr>\n",
       "      <th>4</th>\n",
       "      <td>896</td>\n",
       "      <td>1</td>\n",
       "    </tr>\n",
       "    <tr>\n",
       "      <th>...</th>\n",
       "      <td>...</td>\n",
       "      <td>...</td>\n",
       "    </tr>\n",
       "    <tr>\n",
       "      <th>413</th>\n",
       "      <td>1305</td>\n",
       "      <td>0</td>\n",
       "    </tr>\n",
       "    <tr>\n",
       "      <th>414</th>\n",
       "      <td>1306</td>\n",
       "      <td>0</td>\n",
       "    </tr>\n",
       "    <tr>\n",
       "      <th>415</th>\n",
       "      <td>1307</td>\n",
       "      <td>0</td>\n",
       "    </tr>\n",
       "    <tr>\n",
       "      <th>416</th>\n",
       "      <td>1308</td>\n",
       "      <td>0</td>\n",
       "    </tr>\n",
       "    <tr>\n",
       "      <th>417</th>\n",
       "      <td>1309</td>\n",
       "      <td>1</td>\n",
       "    </tr>\n",
       "  </tbody>\n",
       "</table>\n",
       "<p>418 rows × 2 columns</p>\n",
       "</div>"
      ],
      "text/plain": [
       "     PassengerId  Survived\n",
       "0            892         0\n",
       "1            893         0\n",
       "2            894         0\n",
       "3            895         0\n",
       "4            896         1\n",
       "..           ...       ...\n",
       "413         1305         0\n",
       "414         1306         0\n",
       "415         1307         0\n",
       "416         1308         0\n",
       "417         1309         1\n",
       "\n",
       "[418 rows x 2 columns]"
      ]
     },
     "execution_count": 51,
     "metadata": {},
     "output_type": "execute_result"
    }
   ],
   "source": [
    "pd.read_csv('Submission.csv')"
   ]
  },
  {
   "cell_type": "code",
   "execution_count": null,
   "metadata": {
    "papermill": {
     "duration": 0.073531,
     "end_time": "2022-07-23T15:41:07.513515",
     "exception": false,
     "start_time": "2022-07-23T15:41:07.439984",
     "status": "completed"
    },
    "tags": []
   },
   "outputs": [],
   "source": []
  }
 ],
 "metadata": {
  "kernelspec": {
   "display_name": "Python 3",
   "language": "python",
   "name": "python3"
  },
  "language_info": {
   "codemirror_mode": {
    "name": "ipython",
    "version": 3
   },
   "file_extension": ".py",
   "mimetype": "text/x-python",
   "name": "python",
   "nbconvert_exporter": "python",
   "pygments_lexer": "ipython3",
   "version": "3.7.6"
  },
  "papermill": {
   "duration": 127.905815,
   "end_time": "2022-07-23T15:41:07.713079",
   "environment_variables": {},
   "exception": null,
   "input_path": "__notebook__.ipynb",
   "output_path": "__notebook__.ipynb",
   "parameters": {},
   "start_time": "2022-07-23T15:38:59.807264",
   "version": "2.1.0"
  }
 },
 "nbformat": 4,
 "nbformat_minor": 4
}
