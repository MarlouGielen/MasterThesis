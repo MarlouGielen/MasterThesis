{
 "cells": [
  {
   "cell_type": "markdown",
   "id": "461236ee",
   "metadata": {
    "papermill": {
     "duration": 0.00762,
     "end_time": "2023-09-20T04:13:19.320031",
     "exception": false,
     "start_time": "2023-09-20T04:13:19.312411",
     "status": "completed"
    },
    "tags": []
   },
   "source": [
    "<div style=\"background-image: url(https://wallpapercave.com/wp/wp2563739.jpg); background-color: #cbcd94; padding: 20px; border-radius: 10px; box-shadow: 0 0 10px rgba(0, 0, 0, 0.5); text-align: center;\">\n",
    "  <h1 style=\"font-family: Algerian; font-size: 32px; color: #ed290c;\"> 🧊 Titanic Prediction Model 🚢 🌊 </h1>\n",
    "</div>\n"
   ]
  },
  {
   "cell_type": "markdown",
   "id": "3fc0e274",
   "metadata": {
    "papermill": {
     "duration": 0.006427,
     "end_time": "2023-09-20T04:13:19.333587",
     "exception": false,
     "start_time": "2023-09-20T04:13:19.327160",
     "status": "completed"
    },
    "tags": []
   },
   "source": [
    "![Titanic](https://wallpapercave.com/wp/wp2563739.jpg)"
   ]
  },
  {
   "cell_type": "code",
   "execution_count": 1,
   "id": "14e8ef09",
   "metadata": {
    "execution": {
     "iopub.execute_input": "2023-09-20T04:13:19.349749Z",
     "iopub.status.busy": "2023-09-20T04:13:19.348947Z",
     "iopub.status.idle": "2023-09-20T04:13:21.121973Z",
     "shell.execute_reply": "2023-09-20T04:13:21.120395Z"
    },
    "papermill": {
     "duration": 1.784918,
     "end_time": "2023-09-20T04:13:21.125408",
     "exception": false,
     "start_time": "2023-09-20T04:13:19.340490",
     "status": "completed"
    },
    "tags": []
   },
   "outputs": [
    {
     "name": "stderr",
     "output_type": "stream",
     "text": [
      "/opt/conda/lib/python3.10/site-packages/scipy/__init__.py:146: UserWarning: A NumPy version >=1.16.5 and <1.23.0 is required for this version of SciPy (detected version 1.23.5\n",
      "  warnings.warn(f\"A NumPy version >={np_minversion} and <{np_maxversion}\"\n"
     ]
    }
   ],
   "source": [
    "import pandas as pd\n",
    "from sklearn.ensemble import RandomForestClassifier"
   ]
  },
  {
   "cell_type": "code",
   "execution_count": 2,
   "id": "48060a89",
   "metadata": {
    "execution": {
     "iopub.execute_input": "2023-09-20T04:13:21.141871Z",
     "iopub.status.busy": "2023-09-20T04:13:21.141394Z",
     "iopub.status.idle": "2023-09-20T04:13:21.170128Z",
     "shell.execute_reply": "2023-09-20T04:13:21.169139Z"
    },
    "papermill": {
     "duration": 0.040393,
     "end_time": "2023-09-20T04:13:21.173070",
     "exception": false,
     "start_time": "2023-09-20T04:13:21.132677",
     "status": "completed"
    },
    "tags": []
   },
   "outputs": [],
   "source": [
    "train_data = pd.read_csv('/kaggle/input/titanic/train.csv')"
   ]
  },
  {
   "cell_type": "markdown",
   "id": "f263f5e0",
   "metadata": {
    "papermill": {
     "duration": 0.006573,
     "end_time": "2023-09-20T04:13:21.186754",
     "exception": false,
     "start_time": "2023-09-20T04:13:21.180181",
     "status": "completed"
    },
    "tags": []
   },
   "source": [
    "<div style=\"background-image: url(https://wallpapercave.com/wp/wp2563739.jpg); background-color: #cbcd94; padding: 20px; border-radius: 10px; box-shadow: 0 0 10px rgba(0, 0, 0, 0.5); text-align: center;\">\n",
    "  <h1 style=\"font-family: Algerian; font-size: 32px; color: #ed290c;\"> 🛠️ Data preprocessing 🧹 </h1>\n",
    "</div>\n"
   ]
  },
  {
   "cell_type": "code",
   "execution_count": 3,
   "id": "3132d367",
   "metadata": {
    "execution": {
     "iopub.execute_input": "2023-09-20T04:13:21.205941Z",
     "iopub.status.busy": "2023-09-20T04:13:21.204955Z",
     "iopub.status.idle": "2023-09-20T04:13:21.222208Z",
     "shell.execute_reply": "2023-09-20T04:13:21.221131Z"
    },
    "papermill": {
     "duration": 0.030743,
     "end_time": "2023-09-20T04:13:21.225149",
     "exception": false,
     "start_time": "2023-09-20T04:13:21.194406",
     "status": "completed"
    },
    "tags": []
   },
   "outputs": [],
   "source": [
    "\n",
    "train_data = train_data[['Survived', 'Age', 'Sex', 'Pclass']]"
   ]
  },
  {
   "cell_type": "markdown",
   "id": "6abc01c3",
   "metadata": {
    "papermill": {
     "duration": 0.007216,
     "end_time": "2023-09-20T04:13:21.239838",
     "exception": false,
     "start_time": "2023-09-20T04:13:21.232622",
     "status": "completed"
    },
    "tags": []
   },
   "source": [
    "<div style=\"background-image: url(https://wallpapercave.com/wp/wp2563739.jpg); background-color: #cbcd94; padding: 20px; border-radius: 10px; box-shadow: 0 0 10px rgba(0, 0, 0, 0.5); text-align: center;\">\n",
    "  <h1 style=\"font-family: Algerian; font-size: 32px; color: #ed290c;\"> 🛠️  Handle missing values 🧩</h1>\n",
    "</div>\n"
   ]
  },
  {
   "cell_type": "code",
   "execution_count": 4,
   "id": "b7438177",
   "metadata": {
    "execution": {
     "iopub.execute_input": "2023-09-20T04:13:21.256690Z",
     "iopub.status.busy": "2023-09-20T04:13:21.255760Z",
     "iopub.status.idle": "2023-09-20T04:13:21.265757Z",
     "shell.execute_reply": "2023-09-20T04:13:21.264832Z"
    },
    "papermill": {
     "duration": 0.021583,
     "end_time": "2023-09-20T04:13:21.268564",
     "exception": false,
     "start_time": "2023-09-20T04:13:21.246981",
     "status": "completed"
    },
    "tags": []
   },
   "outputs": [],
   "source": [
    "train_data['Age'].fillna(train_data['Age'].median(), inplace=True)"
   ]
  },
  {
   "cell_type": "code",
   "execution_count": 5,
   "id": "244dd3da",
   "metadata": {
    "execution": {
     "iopub.execute_input": "2023-09-20T04:13:21.285545Z",
     "iopub.status.busy": "2023-09-20T04:13:21.285082Z",
     "iopub.status.idle": "2023-09-20T04:13:21.298772Z",
     "shell.execute_reply": "2023-09-20T04:13:21.297868Z"
    },
    "papermill": {
     "duration": 0.025421,
     "end_time": "2023-09-20T04:13:21.301463",
     "exception": false,
     "start_time": "2023-09-20T04:13:21.276042",
     "status": "completed"
    },
    "tags": []
   },
   "outputs": [],
   "source": [
    "train_data = pd.get_dummies(train_data, columns=['Sex', 'Pclass'], drop_first=True)\n"
   ]
  },
  {
   "cell_type": "markdown",
   "id": "8ab61d3c",
   "metadata": {
    "papermill": {
     "duration": 0.00675,
     "end_time": "2023-09-20T04:13:21.315148",
     "exception": false,
     "start_time": "2023-09-20T04:13:21.308398",
     "status": "completed"
    },
    "tags": []
   },
   "source": [
    "<div style=\"background-image: url(https://wallpapercave.com/wp/wp2563739.jpg); background-color: #cbcd94; padding: 20px; border-radius: 10px; box-shadow: 0 0 10px rgba(0, 0, 0, 0.5); text-align: center;\">\n",
    "  <strong><h1 style=\"font-family: Algerian; font-size: 32px; color: #ed290c;\"> 💡 Model Building 🤖</h1></strong>\n",
    "</div>\n"
   ]
  },
  {
   "cell_type": "code",
   "execution_count": 6,
   "id": "e4564bdf",
   "metadata": {
    "execution": {
     "iopub.execute_input": "2023-09-20T04:13:21.332044Z",
     "iopub.status.busy": "2023-09-20T04:13:21.331052Z",
     "iopub.status.idle": "2023-09-20T04:13:21.338073Z",
     "shell.execute_reply": "2023-09-20T04:13:21.336981Z"
    },
    "papermill": {
     "duration": 0.018364,
     "end_time": "2023-09-20T04:13:21.340480",
     "exception": false,
     "start_time": "2023-09-20T04:13:21.322116",
     "status": "completed"
    },
    "tags": []
   },
   "outputs": [],
   "source": [
    "X_train = train_data.drop('Survived', axis=1)\n",
    "y_train = train_data['Survived']\n"
   ]
  },
  {
   "cell_type": "code",
   "execution_count": 7,
   "id": "5af9c25a",
   "metadata": {
    "execution": {
     "iopub.execute_input": "2023-09-20T04:13:21.357061Z",
     "iopub.status.busy": "2023-09-20T04:13:21.356309Z",
     "iopub.status.idle": "2023-09-20T04:13:21.652929Z",
     "shell.execute_reply": "2023-09-20T04:13:21.651707Z"
    },
    "papermill": {
     "duration": 0.308616,
     "end_time": "2023-09-20T04:13:21.656176",
     "exception": false,
     "start_time": "2023-09-20T04:13:21.347560",
     "status": "completed"
    },
    "tags": []
   },
   "outputs": [
    {
     "data": {
      "text/html": [
       "<style>#sk-container-id-1 {color: black;background-color: white;}#sk-container-id-1 pre{padding: 0;}#sk-container-id-1 div.sk-toggleable {background-color: white;}#sk-container-id-1 label.sk-toggleable__label {cursor: pointer;display: block;width: 100%;margin-bottom: 0;padding: 0.3em;box-sizing: border-box;text-align: center;}#sk-container-id-1 label.sk-toggleable__label-arrow:before {content: \"▸\";float: left;margin-right: 0.25em;color: #696969;}#sk-container-id-1 label.sk-toggleable__label-arrow:hover:before {color: black;}#sk-container-id-1 div.sk-estimator:hover label.sk-toggleable__label-arrow:before {color: black;}#sk-container-id-1 div.sk-toggleable__content {max-height: 0;max-width: 0;overflow: hidden;text-align: left;background-color: #f0f8ff;}#sk-container-id-1 div.sk-toggleable__content pre {margin: 0.2em;color: black;border-radius: 0.25em;background-color: #f0f8ff;}#sk-container-id-1 input.sk-toggleable__control:checked~div.sk-toggleable__content {max-height: 200px;max-width: 100%;overflow: auto;}#sk-container-id-1 input.sk-toggleable__control:checked~label.sk-toggleable__label-arrow:before {content: \"▾\";}#sk-container-id-1 div.sk-estimator input.sk-toggleable__control:checked~label.sk-toggleable__label {background-color: #d4ebff;}#sk-container-id-1 div.sk-label input.sk-toggleable__control:checked~label.sk-toggleable__label {background-color: #d4ebff;}#sk-container-id-1 input.sk-hidden--visually {border: 0;clip: rect(1px 1px 1px 1px);clip: rect(1px, 1px, 1px, 1px);height: 1px;margin: -1px;overflow: hidden;padding: 0;position: absolute;width: 1px;}#sk-container-id-1 div.sk-estimator {font-family: monospace;background-color: #f0f8ff;border: 1px dotted black;border-radius: 0.25em;box-sizing: border-box;margin-bottom: 0.5em;}#sk-container-id-1 div.sk-estimator:hover {background-color: #d4ebff;}#sk-container-id-1 div.sk-parallel-item::after {content: \"\";width: 100%;border-bottom: 1px solid gray;flex-grow: 1;}#sk-container-id-1 div.sk-label:hover label.sk-toggleable__label {background-color: #d4ebff;}#sk-container-id-1 div.sk-serial::before {content: \"\";position: absolute;border-left: 1px solid gray;box-sizing: border-box;top: 0;bottom: 0;left: 50%;z-index: 0;}#sk-container-id-1 div.sk-serial {display: flex;flex-direction: column;align-items: center;background-color: white;padding-right: 0.2em;padding-left: 0.2em;position: relative;}#sk-container-id-1 div.sk-item {position: relative;z-index: 1;}#sk-container-id-1 div.sk-parallel {display: flex;align-items: stretch;justify-content: center;background-color: white;position: relative;}#sk-container-id-1 div.sk-item::before, #sk-container-id-1 div.sk-parallel-item::before {content: \"\";position: absolute;border-left: 1px solid gray;box-sizing: border-box;top: 0;bottom: 0;left: 50%;z-index: -1;}#sk-container-id-1 div.sk-parallel-item {display: flex;flex-direction: column;z-index: 1;position: relative;background-color: white;}#sk-container-id-1 div.sk-parallel-item:first-child::after {align-self: flex-end;width: 50%;}#sk-container-id-1 div.sk-parallel-item:last-child::after {align-self: flex-start;width: 50%;}#sk-container-id-1 div.sk-parallel-item:only-child::after {width: 0;}#sk-container-id-1 div.sk-dashed-wrapped {border: 1px dashed gray;margin: 0 0.4em 0.5em 0.4em;box-sizing: border-box;padding-bottom: 0.4em;background-color: white;}#sk-container-id-1 div.sk-label label {font-family: monospace;font-weight: bold;display: inline-block;line-height: 1.2em;}#sk-container-id-1 div.sk-label-container {text-align: center;}#sk-container-id-1 div.sk-container {/* jupyter's `normalize.less` sets `[hidden] { display: none; }` but bootstrap.min.css set `[hidden] { display: none !important; }` so we also need the `!important` here to be able to override the default hidden behavior on the sphinx rendered scikit-learn.org. See: https://github.com/scikit-learn/scikit-learn/issues/21755 */display: inline-block !important;position: relative;}#sk-container-id-1 div.sk-text-repr-fallback {display: none;}</style><div id=\"sk-container-id-1\" class=\"sk-top-container\"><div class=\"sk-text-repr-fallback\"><pre>RandomForestClassifier(random_state=42)</pre><b>In a Jupyter environment, please rerun this cell to show the HTML representation or trust the notebook. <br />On GitHub, the HTML representation is unable to render, please try loading this page with nbviewer.org.</b></div><div class=\"sk-container\" hidden><div class=\"sk-item\"><div class=\"sk-estimator sk-toggleable\"><input class=\"sk-toggleable__control sk-hidden--visually\" id=\"sk-estimator-id-1\" type=\"checkbox\" checked><label for=\"sk-estimator-id-1\" class=\"sk-toggleable__label sk-toggleable__label-arrow\">RandomForestClassifier</label><div class=\"sk-toggleable__content\"><pre>RandomForestClassifier(random_state=42)</pre></div></div></div></div></div>"
      ],
      "text/plain": [
       "RandomForestClassifier(random_state=42)"
      ]
     },
     "execution_count": 7,
     "metadata": {},
     "output_type": "execute_result"
    }
   ],
   "source": [
    "model = RandomForestClassifier(random_state=42)\n",
    "model.fit(X_train, y_train)\n"
   ]
  },
  {
   "cell_type": "code",
   "execution_count": 8,
   "id": "d6eaffc1",
   "metadata": {
    "execution": {
     "iopub.execute_input": "2023-09-20T04:13:21.673299Z",
     "iopub.status.busy": "2023-09-20T04:13:21.672028Z",
     "iopub.status.idle": "2023-09-20T04:13:21.690108Z",
     "shell.execute_reply": "2023-09-20T04:13:21.688719Z"
    },
    "papermill": {
     "duration": 0.029718,
     "end_time": "2023-09-20T04:13:21.693078",
     "exception": false,
     "start_time": "2023-09-20T04:13:21.663360",
     "status": "completed"
    },
    "tags": []
   },
   "outputs": [],
   "source": [
    "importances = model.feature_importances_\n",
    "feature_names = X_train.columns"
   ]
  },
  {
   "cell_type": "code",
   "execution_count": 9,
   "id": "e3483d7d",
   "metadata": {
    "execution": {
     "iopub.execute_input": "2023-09-20T04:13:21.709968Z",
     "iopub.status.busy": "2023-09-20T04:13:21.709467Z",
     "iopub.status.idle": "2023-09-20T04:13:21.717201Z",
     "shell.execute_reply": "2023-09-20T04:13:21.715891Z"
    },
    "papermill": {
     "duration": 0.018925,
     "end_time": "2023-09-20T04:13:21.719769",
     "exception": false,
     "start_time": "2023-09-20T04:13:21.700844",
     "status": "completed"
    },
    "tags": []
   },
   "outputs": [],
   "source": [
    "feature_importances = pd.DataFrame({'Feature': feature_names, 'Importance': importances})\n",
    "feature_importances = feature_importances.sort_values(by='Importance', ascending=False)"
   ]
  },
  {
   "cell_type": "code",
   "execution_count": 10,
   "id": "825553b1",
   "metadata": {
    "execution": {
     "iopub.execute_input": "2023-09-20T04:13:21.736687Z",
     "iopub.status.busy": "2023-09-20T04:13:21.736246Z",
     "iopub.status.idle": "2023-09-20T04:13:21.746294Z",
     "shell.execute_reply": "2023-09-20T04:13:21.744878Z"
    },
    "papermill": {
     "duration": 0.021609,
     "end_time": "2023-09-20T04:13:21.748977",
     "exception": false,
     "start_time": "2023-09-20T04:13:21.727368",
     "status": "completed"
    },
    "tags": []
   },
   "outputs": [
    {
     "name": "stdout",
     "output_type": "stream",
     "text": [
      "Feature Importances:\n",
      "    Feature  Importance\n",
      "0       Age    0.418905\n",
      "1  Sex_male    0.416900\n",
      "3  Pclass_3    0.130342\n",
      "2  Pclass_2    0.033853\n"
     ]
    }
   ],
   "source": [
    "print(\"Feature Importances:\")\n",
    "print(feature_importances)"
   ]
  },
  {
   "cell_type": "code",
   "execution_count": 11,
   "id": "e93ef8e0",
   "metadata": {
    "execution": {
     "iopub.execute_input": "2023-09-20T04:13:21.767233Z",
     "iopub.status.busy": "2023-09-20T04:13:21.765911Z",
     "iopub.status.idle": "2023-09-20T04:13:21.788643Z",
     "shell.execute_reply": "2023-09-20T04:13:21.787318Z"
    },
    "papermill": {
     "duration": 0.035112,
     "end_time": "2023-09-20T04:13:21.792102",
     "exception": false,
     "start_time": "2023-09-20T04:13:21.756990",
     "status": "completed"
    },
    "tags": []
   },
   "outputs": [],
   "source": [
    "test_data = pd.read_csv('/kaggle/input/titanic/test.csv')\n",
    "test_data = test_data[['PassengerId', 'Age', 'Sex', 'Pclass']]\n",
    "test_data['Age'].fillna(test_data['Age'].median(), inplace=True)\n",
    "test_data = pd.get_dummies(test_data, columns=['Sex', 'Pclass'], drop_first=True)\n",
    "X_test = test_data.drop('PassengerId', axis=1)\n"
   ]
  },
  {
   "cell_type": "code",
   "execution_count": 12,
   "id": "1de53479",
   "metadata": {
    "execution": {
     "iopub.execute_input": "2023-09-20T04:13:21.809782Z",
     "iopub.status.busy": "2023-09-20T04:13:21.809340Z",
     "iopub.status.idle": "2023-09-20T04:13:21.839473Z",
     "shell.execute_reply": "2023-09-20T04:13:21.838493Z"
    },
    "papermill": {
     "duration": 0.042675,
     "end_time": "2023-09-20T04:13:21.842729",
     "exception": false,
     "start_time": "2023-09-20T04:13:21.800054",
     "status": "completed"
    },
    "tags": []
   },
   "outputs": [],
   "source": [
    "predictions = model.predict(X_test)"
   ]
  },
  {
   "cell_type": "code",
   "execution_count": 13,
   "id": "06949d2f",
   "metadata": {
    "execution": {
     "iopub.execute_input": "2023-09-20T04:13:21.860128Z",
     "iopub.status.busy": "2023-09-20T04:13:21.859089Z",
     "iopub.status.idle": "2023-09-20T04:13:21.865208Z",
     "shell.execute_reply": "2023-09-20T04:13:21.864303Z"
    },
    "papermill": {
     "duration": 0.017181,
     "end_time": "2023-09-20T04:13:21.867506",
     "exception": false,
     "start_time": "2023-09-20T04:13:21.850325",
     "status": "completed"
    },
    "tags": []
   },
   "outputs": [],
   "source": [
    "output = pd.DataFrame({'PassengerId': test_data['PassengerId'], 'Survived': predictions})"
   ]
  },
  {
   "cell_type": "code",
   "execution_count": 14,
   "id": "195a3003",
   "metadata": {
    "execution": {
     "iopub.execute_input": "2023-09-20T04:13:21.884174Z",
     "iopub.status.busy": "2023-09-20T04:13:21.883673Z",
     "iopub.status.idle": "2023-09-20T04:13:21.892602Z",
     "shell.execute_reply": "2023-09-20T04:13:21.891396Z"
    },
    "papermill": {
     "duration": 0.020935,
     "end_time": "2023-09-20T04:13:21.895825",
     "exception": false,
     "start_time": "2023-09-20T04:13:21.874890",
     "status": "completed"
    },
    "tags": []
   },
   "outputs": [
    {
     "name": "stdout",
     "output_type": "stream",
     "text": [
      "\n",
      "Prediction for test data:\n",
      "     PassengerId  Survived\n",
      "0            892         0\n",
      "1            893         0\n",
      "2            894         1\n",
      "3            895         1\n",
      "4            896         1\n",
      "..           ...       ...\n",
      "413         1305         1\n",
      "414         1306         1\n",
      "415         1307         0\n",
      "416         1308         1\n",
      "417         1309         1\n",
      "\n",
      "[418 rows x 2 columns]\n"
     ]
    }
   ],
   "source": [
    "print(\"\\nPrediction for test data:\")\n",
    "print(output)"
   ]
  },
  {
   "cell_type": "markdown",
   "id": "4f5b8236",
   "metadata": {
    "papermill": {
     "duration": 0.007047,
     "end_time": "2023-09-20T04:13:21.910369",
     "exception": false,
     "start_time": "2023-09-20T04:13:21.903322",
     "status": "completed"
    },
    "tags": []
   },
   "source": [
    "<div style=\"background-color: yellow; padding: 20px; border-radius: 10px; box-shadow: 0 0 10px rgba(0, 0, 0, 0.5); text-align: center;\">\n",
    "    <strong><h1 style=\"font-family: Comic Sans, Comic Sans; font-size: 32px; color: green;  display: inline-block; padding: 10px;\"> Thank you for exploring this notebook! If you enjoyed it and found value in the content, please consider giving it an upvote ⬆️. Your support means a lot to me and encourages me to create more helpful notebooks.</h1></strong>\n",
    "  </div>\n",
    "</div>\n"
   ]
  }
 ],
 "metadata": {
  "kernelspec": {
   "display_name": "Python 3",
   "language": "python",
   "name": "python3"
  },
  "language_info": {
   "codemirror_mode": {
    "name": "ipython",
    "version": 3
   },
   "file_extension": ".py",
   "mimetype": "text/x-python",
   "name": "python",
   "nbconvert_exporter": "python",
   "pygments_lexer": "ipython3",
   "version": "3.10.12"
  },
  "papermill": {
   "default_parameters": {},
   "duration": 16.598844,
   "end_time": "2023-09-20T04:13:22.941827",
   "environment_variables": {},
   "exception": null,
   "input_path": "__notebook__.ipynb",
   "output_path": "__notebook__.ipynb",
   "parameters": {},
   "start_time": "2023-09-20T04:13:06.342983",
   "version": "2.4.0"
  }
 },
 "nbformat": 4,
 "nbformat_minor": 5
}
