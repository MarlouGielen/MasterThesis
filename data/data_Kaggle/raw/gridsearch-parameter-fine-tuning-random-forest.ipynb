{
 "cells": [
  {
   "cell_type": "code",
   "execution_count": 1,
   "id": "edfc7244",
   "metadata": {
    "execution": {
     "iopub.execute_input": "2024-08-01T07:44:47.636097Z",
     "iopub.status.busy": "2024-08-01T07:44:47.635409Z",
     "iopub.status.idle": "2024-08-01T07:44:52.162253Z",
     "shell.execute_reply": "2024-08-01T07:44:52.160569Z"
    },
    "papermill": {
     "duration": 4.539521,
     "end_time": "2024-08-01T07:44:52.165739",
     "exception": false,
     "start_time": "2024-08-01T07:44:47.626218",
     "status": "completed"
    },
    "tags": []
   },
   "outputs": [],
   "source": [
    "import pandas as pd\n",
    "import numpy as np\n",
    "import matplotlib.pyplot as plt\n",
    "%matplotlib inline\n",
    "import re\n",
    "from sklearn.preprocessing import StandardScaler, OneHotEncoder\n",
    "from sklearn.metrics import accuracy_score\n",
    "from sklearn.model_selection import train_test_split, GridSearchCV, cross_validate\n",
    "from sklearn.compose import ColumnTransformer\n",
    "from sklearn.impute import KNNImputer, SimpleImputer\n",
    "from sklearn.pipeline import Pipeline\n",
    "from sklearn.ensemble import GradientBoostingClassifier, RandomForestClassifier\n",
    "from sklearn.linear_model import LogisticRegression\n",
    "from xgboost import XGBClassifier\n",
    "from lightgbm import LGBMClassifier\n"
   ]
  },
  {
   "cell_type": "code",
   "execution_count": 2,
   "id": "61282cfb",
   "metadata": {
    "execution": {
     "iopub.execute_input": "2024-08-01T07:44:52.185627Z",
     "iopub.status.busy": "2024-08-01T07:44:52.184738Z",
     "iopub.status.idle": "2024-08-01T07:44:52.255409Z",
     "shell.execute_reply": "2024-08-01T07:44:52.254112Z"
    },
    "papermill": {
     "duration": 0.086384,
     "end_time": "2024-08-01T07:44:52.259974",
     "exception": false,
     "start_time": "2024-08-01T07:44:52.173590",
     "status": "completed"
    },
    "tags": []
   },
   "outputs": [
    {
     "data": {
      "text/html": [
       "<div>\n",
       "<style scoped>\n",
       "    .dataframe tbody tr th:only-of-type {\n",
       "        vertical-align: middle;\n",
       "    }\n",
       "\n",
       "    .dataframe tbody tr th {\n",
       "        vertical-align: top;\n",
       "    }\n",
       "\n",
       "    .dataframe thead th {\n",
       "        text-align: right;\n",
       "    }\n",
       "</style>\n",
       "<table border=\"1\" class=\"dataframe\">\n",
       "  <thead>\n",
       "    <tr style=\"text-align: right;\">\n",
       "      <th></th>\n",
       "      <th>Survived</th>\n",
       "      <th>Pclass</th>\n",
       "      <th>Name</th>\n",
       "      <th>Sex</th>\n",
       "      <th>Age</th>\n",
       "      <th>SibSp</th>\n",
       "      <th>Parch</th>\n",
       "      <th>Ticket</th>\n",
       "      <th>Fare</th>\n",
       "      <th>Cabin</th>\n",
       "      <th>Embarked</th>\n",
       "    </tr>\n",
       "  </thead>\n",
       "  <tbody>\n",
       "    <tr>\n",
       "      <th>0</th>\n",
       "      <td>0</td>\n",
       "      <td>3</td>\n",
       "      <td>Braund, Mr. Owen Harris</td>\n",
       "      <td>male</td>\n",
       "      <td>22.0</td>\n",
       "      <td>1</td>\n",
       "      <td>0</td>\n",
       "      <td>A/5 21171</td>\n",
       "      <td>7.2500</td>\n",
       "      <td>NaN</td>\n",
       "      <td>S</td>\n",
       "    </tr>\n",
       "    <tr>\n",
       "      <th>1</th>\n",
       "      <td>1</td>\n",
       "      <td>1</td>\n",
       "      <td>Cumings, Mrs. John Bradley (Florence Briggs Th...</td>\n",
       "      <td>female</td>\n",
       "      <td>38.0</td>\n",
       "      <td>1</td>\n",
       "      <td>0</td>\n",
       "      <td>PC 17599</td>\n",
       "      <td>71.2833</td>\n",
       "      <td>C85</td>\n",
       "      <td>C</td>\n",
       "    </tr>\n",
       "    <tr>\n",
       "      <th>2</th>\n",
       "      <td>1</td>\n",
       "      <td>3</td>\n",
       "      <td>Heikkinen, Miss. Laina</td>\n",
       "      <td>female</td>\n",
       "      <td>26.0</td>\n",
       "      <td>0</td>\n",
       "      <td>0</td>\n",
       "      <td>STON/O2. 3101282</td>\n",
       "      <td>7.9250</td>\n",
       "      <td>NaN</td>\n",
       "      <td>S</td>\n",
       "    </tr>\n",
       "    <tr>\n",
       "      <th>3</th>\n",
       "      <td>1</td>\n",
       "      <td>1</td>\n",
       "      <td>Futrelle, Mrs. Jacques Heath (Lily May Peel)</td>\n",
       "      <td>female</td>\n",
       "      <td>35.0</td>\n",
       "      <td>1</td>\n",
       "      <td>0</td>\n",
       "      <td>113803</td>\n",
       "      <td>53.1000</td>\n",
       "      <td>C123</td>\n",
       "      <td>S</td>\n",
       "    </tr>\n",
       "    <tr>\n",
       "      <th>4</th>\n",
       "      <td>0</td>\n",
       "      <td>3</td>\n",
       "      <td>Allen, Mr. William Henry</td>\n",
       "      <td>male</td>\n",
       "      <td>35.0</td>\n",
       "      <td>0</td>\n",
       "      <td>0</td>\n",
       "      <td>373450</td>\n",
       "      <td>8.0500</td>\n",
       "      <td>NaN</td>\n",
       "      <td>S</td>\n",
       "    </tr>\n",
       "  </tbody>\n",
       "</table>\n",
       "</div>"
      ],
      "text/plain": [
       "   Survived  Pclass                                               Name  \\\n",
       "0         0       3                            Braund, Mr. Owen Harris   \n",
       "1         1       1  Cumings, Mrs. John Bradley (Florence Briggs Th...   \n",
       "2         1       3                             Heikkinen, Miss. Laina   \n",
       "3         1       1       Futrelle, Mrs. Jacques Heath (Lily May Peel)   \n",
       "4         0       3                           Allen, Mr. William Henry   \n",
       "\n",
       "      Sex   Age  SibSp  Parch            Ticket     Fare Cabin Embarked  \n",
       "0    male  22.0      1      0         A/5 21171   7.2500   NaN        S  \n",
       "1  female  38.0      1      0          PC 17599  71.2833   C85        C  \n",
       "2  female  26.0      0      0  STON/O2. 3101282   7.9250   NaN        S  \n",
       "3  female  35.0      1      0            113803  53.1000  C123        S  \n",
       "4    male  35.0      0      0            373450   8.0500   NaN        S  "
      ]
     },
     "execution_count": 2,
     "metadata": {},
     "output_type": "execute_result"
    }
   ],
   "source": [
    "df = pd.read_csv(\"/kaggle/input/titanic/train.csv\").drop(\"PassengerId\", axis=1)\n",
    "df.head()"
   ]
  },
  {
   "cell_type": "code",
   "execution_count": 3,
   "id": "68c239d8",
   "metadata": {
    "execution": {
     "iopub.execute_input": "2024-08-01T07:44:52.283253Z",
     "iopub.status.busy": "2024-08-01T07:44:52.282673Z",
     "iopub.status.idle": "2024-08-01T07:44:52.322617Z",
     "shell.execute_reply": "2024-08-01T07:44:52.321396Z"
    },
    "papermill": {
     "duration": 0.053748,
     "end_time": "2024-08-01T07:44:52.325521",
     "exception": false,
     "start_time": "2024-08-01T07:44:52.271773",
     "status": "completed"
    },
    "tags": []
   },
   "outputs": [
    {
     "data": {
      "text/html": [
       "<div>\n",
       "<style scoped>\n",
       "    .dataframe tbody tr th:only-of-type {\n",
       "        vertical-align: middle;\n",
       "    }\n",
       "\n",
       "    .dataframe tbody tr th {\n",
       "        vertical-align: top;\n",
       "    }\n",
       "\n",
       "    .dataframe thead th {\n",
       "        text-align: right;\n",
       "    }\n",
       "</style>\n",
       "<table border=\"1\" class=\"dataframe\">\n",
       "  <thead>\n",
       "    <tr style=\"text-align: right;\">\n",
       "      <th></th>\n",
       "      <th>Survived</th>\n",
       "      <th>Pclass</th>\n",
       "      <th>Age</th>\n",
       "      <th>SibSp</th>\n",
       "      <th>Parch</th>\n",
       "      <th>Fare</th>\n",
       "    </tr>\n",
       "  </thead>\n",
       "  <tbody>\n",
       "    <tr>\n",
       "      <th>count</th>\n",
       "      <td>549.0</td>\n",
       "      <td>549.000000</td>\n",
       "      <td>424.000000</td>\n",
       "      <td>549.000000</td>\n",
       "      <td>549.000000</td>\n",
       "      <td>549.000000</td>\n",
       "    </tr>\n",
       "    <tr>\n",
       "      <th>mean</th>\n",
       "      <td>0.0</td>\n",
       "      <td>2.531876</td>\n",
       "      <td>30.626179</td>\n",
       "      <td>0.553734</td>\n",
       "      <td>0.329690</td>\n",
       "      <td>22.117887</td>\n",
       "    </tr>\n",
       "    <tr>\n",
       "      <th>std</th>\n",
       "      <td>0.0</td>\n",
       "      <td>0.735805</td>\n",
       "      <td>14.172110</td>\n",
       "      <td>1.288399</td>\n",
       "      <td>0.823166</td>\n",
       "      <td>31.388207</td>\n",
       "    </tr>\n",
       "    <tr>\n",
       "      <th>min</th>\n",
       "      <td>0.0</td>\n",
       "      <td>1.000000</td>\n",
       "      <td>1.000000</td>\n",
       "      <td>0.000000</td>\n",
       "      <td>0.000000</td>\n",
       "      <td>0.000000</td>\n",
       "    </tr>\n",
       "    <tr>\n",
       "      <th>25%</th>\n",
       "      <td>0.0</td>\n",
       "      <td>2.000000</td>\n",
       "      <td>21.000000</td>\n",
       "      <td>0.000000</td>\n",
       "      <td>0.000000</td>\n",
       "      <td>7.854200</td>\n",
       "    </tr>\n",
       "    <tr>\n",
       "      <th>50%</th>\n",
       "      <td>0.0</td>\n",
       "      <td>3.000000</td>\n",
       "      <td>28.000000</td>\n",
       "      <td>0.000000</td>\n",
       "      <td>0.000000</td>\n",
       "      <td>10.500000</td>\n",
       "    </tr>\n",
       "    <tr>\n",
       "      <th>75%</th>\n",
       "      <td>0.0</td>\n",
       "      <td>3.000000</td>\n",
       "      <td>39.000000</td>\n",
       "      <td>1.000000</td>\n",
       "      <td>0.000000</td>\n",
       "      <td>26.000000</td>\n",
       "    </tr>\n",
       "    <tr>\n",
       "      <th>max</th>\n",
       "      <td>0.0</td>\n",
       "      <td>3.000000</td>\n",
       "      <td>74.000000</td>\n",
       "      <td>8.000000</td>\n",
       "      <td>6.000000</td>\n",
       "      <td>263.000000</td>\n",
       "    </tr>\n",
       "  </tbody>\n",
       "</table>\n",
       "</div>"
      ],
      "text/plain": [
       "       Survived      Pclass         Age       SibSp       Parch        Fare\n",
       "count     549.0  549.000000  424.000000  549.000000  549.000000  549.000000\n",
       "mean        0.0    2.531876   30.626179    0.553734    0.329690   22.117887\n",
       "std         0.0    0.735805   14.172110    1.288399    0.823166   31.388207\n",
       "min         0.0    1.000000    1.000000    0.000000    0.000000    0.000000\n",
       "25%         0.0    2.000000   21.000000    0.000000    0.000000    7.854200\n",
       "50%         0.0    3.000000   28.000000    0.000000    0.000000   10.500000\n",
       "75%         0.0    3.000000   39.000000    1.000000    0.000000   26.000000\n",
       "max         0.0    3.000000   74.000000    8.000000    6.000000  263.000000"
      ]
     },
     "execution_count": 3,
     "metadata": {},
     "output_type": "execute_result"
    }
   ],
   "source": [
    "survivors = df[\"Survived\"] == 0\n",
    "df[survivors].describe()"
   ]
  },
  {
   "cell_type": "code",
   "execution_count": 4,
   "id": "ba4ca08a",
   "metadata": {
    "execution": {
     "iopub.execute_input": "2024-08-01T07:44:52.342183Z",
     "iopub.status.busy": "2024-08-01T07:44:52.340861Z",
     "iopub.status.idle": "2024-08-01T07:44:52.728711Z",
     "shell.execute_reply": "2024-08-01T07:44:52.726864Z"
    },
    "papermill": {
     "duration": 0.399926,
     "end_time": "2024-08-01T07:44:52.732228",
     "exception": false,
     "start_time": "2024-08-01T07:44:52.332302",
     "status": "completed"
    },
    "tags": []
   },
   "outputs": [
    {
     "data": {
      "image/png": "[encoded data removed]",
      "text/plain": [
       "<Figure size 640x480 with 1 Axes>"
      ]
     },
     "metadata": {},
     "output_type": "display_data"
    }
   ],
   "source": [
    "fare_bins = np.linspace(df[survivors][\"Fare\"].min(), df[survivors][\"Fare\"].max(), 30)\n",
    "plt.hist(df[survivors][\"Fare\"], fare_bins);"
   ]
  },
  {
   "cell_type": "code",
   "execution_count": 5,
   "id": "4c679e2a",
   "metadata": {
    "execution": {
     "iopub.execute_input": "2024-08-01T07:44:52.750449Z",
     "iopub.status.busy": "2024-08-01T07:44:52.748948Z",
     "iopub.status.idle": "2024-08-01T07:44:53.094342Z",
     "shell.execute_reply": "2024-08-01T07:44:53.092991Z"
    },
    "papermill": {
     "duration": 0.357436,
     "end_time": "2024-08-01T07:44:53.097162",
     "exception": false,
     "start_time": "2024-08-01T07:44:52.739726",
     "status": "completed"
    },
    "tags": []
   },
   "outputs": [
    {
     "data": {
      "image/png": "[encoded data removed]",
      "text/plain": [
       "<Figure size 640x480 with 1 Axes>"
      ]
     },
     "metadata": {},
     "output_type": "display_data"
    }
   ],
   "source": [
    "fare_bins = np.linspace(df[~survivors][\"Fare\"].min(), df[survivors][\"Fare\"].max(), 30)\n",
    "plt.hist(df[~survivors][\"Fare\"], fare_bins);"
   ]
  },
  {
   "cell_type": "code",
   "execution_count": 6,
   "id": "bd61391e",
   "metadata": {
    "execution": {
     "iopub.execute_input": "2024-08-01T07:44:53.114236Z",
     "iopub.status.busy": "2024-08-01T07:44:53.113694Z",
     "iopub.status.idle": "2024-08-01T07:44:53.138065Z",
     "shell.execute_reply": "2024-08-01T07:44:53.136730Z"
    },
    "papermill": {
     "duration": 0.036098,
     "end_time": "2024-08-01T07:44:53.140831",
     "exception": false,
     "start_time": "2024-08-01T07:44:53.104733",
     "status": "completed"
    },
    "tags": []
   },
   "outputs": [
    {
     "name": "stdout",
     "output_type": "stream",
     "text": [
      "<class 'pandas.core.frame.DataFrame'>\n",
      "RangeIndex: 891 entries, 0 to 890\n",
      "Data columns (total 11 columns):\n",
      " #   Column    Non-Null Count  Dtype  \n",
      "---  ------    --------------  -----  \n",
      " 0   Survived  891 non-null    int64  \n",
      " 1   Pclass    891 non-null    int64  \n",
      " 2   Name      891 non-null    object \n",
      " 3   Sex       891 non-null    object \n",
      " 4   Age       714 non-null    float64\n",
      " 5   SibSp     891 non-null    int64  \n",
      " 6   Parch     891 non-null    int64  \n",
      " 7   Ticket    891 non-null    object \n",
      " 8   Fare      891 non-null    float64\n",
      " 9   Cabin     204 non-null    object \n",
      " 10  Embarked  889 non-null    object \n",
      "dtypes: float64(2), int64(4), object(5)\n",
      "memory usage: 76.7+ KB\n"
     ]
    }
   ],
   "source": [
    "df.info()"
   ]
  },
  {
   "cell_type": "code",
   "execution_count": 7,
   "id": "6652773d",
   "metadata": {
    "execution": {
     "iopub.execute_input": "2024-08-01T07:44:53.159823Z",
     "iopub.status.busy": "2024-08-01T07:44:53.158384Z",
     "iopub.status.idle": "2024-08-01T07:44:53.170501Z",
     "shell.execute_reply": "2024-08-01T07:44:53.169197Z"
    },
    "papermill": {
     "duration": 0.02466,
     "end_time": "2024-08-01T07:44:53.173395",
     "exception": false,
     "start_time": "2024-08-01T07:44:53.148735",
     "status": "completed"
    },
    "tags": []
   },
   "outputs": [
    {
     "data": {
      "text/plain": [
       "Survived      0\n",
       "Pclass        0\n",
       "Name          0\n",
       "Sex           0\n",
       "Age         177\n",
       "SibSp         0\n",
       "Parch         0\n",
       "Ticket        0\n",
       "Fare          0\n",
       "Cabin       687\n",
       "Embarked      2\n",
       "dtype: int64"
      ]
     },
     "execution_count": 7,
     "metadata": {},
     "output_type": "execute_result"
    }
   ],
   "source": [
    "df.isna().sum()"
   ]
  },
  {
   "cell_type": "code",
   "execution_count": 8,
   "id": "3c620817",
   "metadata": {
    "execution": {
     "iopub.execute_input": "2024-08-01T07:44:53.192109Z",
     "iopub.status.busy": "2024-08-01T07:44:53.190932Z",
     "iopub.status.idle": "2024-08-01T07:44:53.206558Z",
     "shell.execute_reply": "2024-08-01T07:44:53.205148Z"
    },
    "papermill": {
     "duration": 0.028172,
     "end_time": "2024-08-01T07:44:53.209401",
     "exception": false,
     "start_time": "2024-08-01T07:44:53.181229",
     "status": "completed"
    },
    "tags": []
   },
   "outputs": [],
   "source": [
    "x = df.drop(\"Survived\", axis=1)\n",
    "y = df[\"Survived\"]\n",
    "\n",
    "def extract_ticket_number(ticket):\n",
    "        match = re.search(r'\\d+', ticket)\n",
    "        return match.group() if match else None\n",
    "\n",
    "def extract_surname_title(name):\n",
    "        surname, rest = name.split(', ', 1)\n",
    "        title = rest.split(' ')[0]\n",
    "        return pd.Series([surname, title])\n",
    "    \n",
    "\n",
    "def feature_engeneering(x):\n",
    "    \n",
    "    x[\"Ticket_number\"] = x[\"Ticket\"].apply(extract_ticket_number)\n",
    "    x[['Cabin_Prefix', 'Cabin_Number']] = x['Cabin'].str.extract(r'([A-Za-z]+)(\\d+)')\n",
    "    x[['Surname', 'Title']] = x['Name'].apply(extract_surname_title)\n",
    "    \n",
    "    age_bins = [0, 10, 20, 30, 40, 50, 60, 70, 80, 90]\n",
    "    age_labels = ['0-10', '11-20', '21-30', '31-40', '41-50', '51-60', '61-70', '71-80', '81-90']\n",
    "    df['Age_Category'] = pd.cut(df['Age'], bins=age_bins, labels=age_labels, right=False)\n",
    "    \n",
    "    \n",
    "    x[\"SibSp\"] = x[\"SibSp\"].astype(\"str\")\n",
    "    x[\"Pclass\"] = x[\"Pclass\"].astype(\"str\")\n",
    "    x[\"Parch\"] = x[\"Parch\"].astype(\"str\")\n",
    "    x = x.drop([\"Ticket\", \"Cabin\", \"Name\", \"Title\"], axis=1)\n",
    "\n",
    "    return x"
   ]
  },
  {
   "cell_type": "code",
   "execution_count": 9,
   "id": "87dcf983",
   "metadata": {
    "execution": {
     "iopub.execute_input": "2024-08-01T07:44:53.227868Z",
     "iopub.status.busy": "2024-08-01T07:44:53.227387Z",
     "iopub.status.idle": "2024-08-01T07:44:53.545138Z",
     "shell.execute_reply": "2024-08-01T07:44:53.543816Z"
    },
    "papermill": {
     "duration": 0.330899,
     "end_time": "2024-08-01T07:44:53.548413",
     "exception": false,
     "start_time": "2024-08-01T07:44:53.217514",
     "status": "completed"
    },
    "tags": []
   },
   "outputs": [],
   "source": [
    "x = feature_engeneering(x)\n",
    "x_cat_col = x.select_dtypes(include=\"object\").columns\n",
    "x_num_col = x.select_dtypes(exclude=\"object\").columns\n",
    "\n",
    "encoder_cat = Pipeline([\n",
    "    (\"encoder\", OneHotEncoder(handle_unknown=\"ignore\")),\n",
    "    (\"imputer\", SimpleImputer(strategy=\"constant\", fill_value=0, add_indicator=True))\n",
    "])\n",
    "\n",
    "encoder_num = Pipeline([\n",
    "    (\"scaler\", StandardScaler()),\n",
    "    (\"imputer\", KNNImputer(n_neighbors=40, add_indicator=True))\n",
    "])\n",
    "\n",
    "transformer = ColumnTransformer([\n",
    "    (\"cat\", encoder_cat, x_cat_col),\n",
    "    (\"num\", encoder_num, x_num_col)\n",
    "])"
   ]
  },
  {
   "cell_type": "code",
   "execution_count": 10,
   "id": "93791a9b",
   "metadata": {
    "execution": {
     "iopub.execute_input": "2024-08-01T07:44:53.566015Z",
     "iopub.status.busy": "2024-08-01T07:44:53.565494Z",
     "iopub.status.idle": "2024-08-01T07:44:53.578945Z",
     "shell.execute_reply": "2024-08-01T07:44:53.577272Z"
    },
    "papermill": {
     "duration": 0.025768,
     "end_time": "2024-08-01T07:44:53.582038",
     "exception": false,
     "start_time": "2024-08-01T07:44:53.556270",
     "status": "completed"
    },
    "tags": []
   },
   "outputs": [],
   "source": [
    "model_gbc = Pipeline([\n",
    "    (\"transformer\", transformer),\n",
    "    (\"gbc\", GradientBoostingClassifier())\n",
    "])\n",
    "\n",
    "model_rfc = Pipeline([\n",
    "    (\"transformer\", transformer),\n",
    "    (\"rfc\", RandomForestClassifier())\n",
    "])\n",
    "\n",
    "model_xgbc = Pipeline([\n",
    "    (\"transformer\", transformer),\n",
    "    (\"xgb\", XGBClassifier())\n",
    "])\n",
    "\n",
    "# model_lgbmc = Pipeline([\n",
    "#     (\"transformer\", transformer),\n",
    "#     (\"lgbmc\", LGBMClassifier())\n",
    "# ])\n",
    "\n",
    "model_lreg = Pipeline([\n",
    "    (\"transformer\", transformer),\n",
    "    (\"lreg\", LogisticRegression(max_iter=6000))\n",
    "])\n",
    "\n",
    "param_grid_gbc = {\n",
    "    \"gbc__n_estimators\": [50, 100, 200],\n",
    "    \"gbc__learning_rate\": [0.01, 0.1, 0.2],\n",
    "    \"gbc__max_depth\": [3, 5, 7]\n",
    "}\n",
    "\n",
    "param_grid_rfc = {\n",
    "    \"rfc__n_estimators\": [50, 100, 200],\n",
    "    \"rfc__max_depth\": [None, 10, 20],\n",
    "    \"rfc__min_samples_split\": [2, 5, 10]\n",
    "}\n",
    "\n",
    "param_grid_xgbc = {\n",
    "    \"xgb__n_estimators\": [50, 100, 200],\n",
    "    \"xgb__learning_rate\": [0.01, 0.1, 0.2],\n",
    "    \"xgb__max_depth\": [3, 5, 7]\n",
    "}\n",
    "\n",
    "# param_grid_lgbmc = {\n",
    "#     \"lgbmc__n_estimators\": [50, 100, 200],\n",
    "#     \"lgbmc__learning_rate\": [0.01, 0.1, 0.2],\n",
    "#     \"lgbmc__num_leaves\": [31, 63, 127]\n",
    "# }\n",
    "\n",
    "param_grid_lreg = {\n",
    "    'lreg__C': [0.0001, 0.01, 0.1, 1, 10, 100],\n",
    "    'lreg__penalty': ['l1', 'l2'],\n",
    "    'lreg__solver': ['saga']\n",
    "}"
   ]
  },
  {
   "cell_type": "code",
   "execution_count": 11,
   "id": "c84e7520",
   "metadata": {
    "execution": {
     "iopub.execute_input": "2024-08-01T07:44:53.599878Z",
     "iopub.status.busy": "2024-08-01T07:44:53.599351Z",
     "iopub.status.idle": "2024-08-01T07:45:59.387979Z",
     "shell.execute_reply": "2024-08-01T07:45:59.386117Z"
    },
    "papermill": {
     "duration": 65.801142,
     "end_time": "2024-08-01T07:45:59.391083",
     "exception": false,
     "start_time": "2024-08-01T07:44:53.589941",
     "status": "completed"
    },
    "tags": []
   },
   "outputs": [
    {
     "name": "stdout",
     "output_type": "stream",
     "text": [
      "Performing Grid Search for Logistic Regression\n",
      "Fitting 5 folds for each of 12 candidates, totalling 60 fits\n",
      "Performing Grid Search for Gradient Boosting Classifier\n",
      "Fitting 5 folds for each of 27 candidates, totalling 135 fits\n",
      "Performing Grid Search for Random Forest Classifier\n",
      "Fitting 5 folds for each of 27 candidates, totalling 135 fits\n",
      "Performing Grid Search for XGBoost Classifier\n",
      "Fitting 5 folds for each of 27 candidates, totalling 135 fits\n"
     ]
    },
    {
     "data": {
      "text/plain": [
       "{'Logistic Regression': 0.7937219730941704,\n",
       " 'Gradient Boosting Classifier': 0.8139013452914798,\n",
       " 'Random Forest Classifier': 0.7982062780269058,\n",
       " 'XGBoost Classifier': 0.804932735426009}"
      ]
     },
     "execution_count": 11,
     "metadata": {},
     "output_type": "execute_result"
    }
   ],
   "source": [
    "x_train, x_test, y_train, y_test = train_test_split(x,y, train_size=0.5, random_state=42)\n",
    "\n",
    "models = {\n",
    "    \"Logistic Regression\": model_lreg,\n",
    "    \"Gradient Boosting Classifier\": model_gbc,\n",
    "    \"Random Forest Classifier\": model_rfc,\n",
    "    \"XGBoost Classifier\": model_xgbc,\n",
    "#     \"LightGBM Classifier\": model_lgbmc\n",
    "    \n",
    "}\n",
    "\n",
    "param_grids = {\n",
    "    \"Logistic Regression\": param_grid_lreg,\n",
    "    \"Gradient Boosting Classifier\": param_grid_gbc,\n",
    "    \"Random Forest Classifier\": param_grid_rfc,\n",
    "    \"XGBoost Classifier\": param_grid_xgbc,\n",
    "#     \"LightGBM Classifier\": param_grid_lgbmc\n",
    "    \n",
    "}\n",
    "\n",
    "best_scores = {}\n",
    "\n",
    "for model_name, model_pipeline in models.items():\n",
    "    print(f\"Performing Grid Search for {model_name}\")\n",
    "\n",
    "    grid_search = GridSearchCV(model_pipeline, param_grids[model_name], cv=5, scoring='accuracy', n_jobs=-1, verbose=1).fit(x_train, y_train)\n",
    "   \n",
    "    best_model = grid_search.best_estimator_\n",
    "    \n",
    "    y_pred = best_model.predict(x_test)\n",
    "    accuracy = accuracy_score(y_test, y_pred)\n",
    "    best_scores[model_name] = accuracy\n",
    "    \n",
    "best_scores"
   ]
  },
  {
   "cell_type": "code",
   "execution_count": 12,
   "id": "875d6c43",
   "metadata": {
    "execution": {
     "iopub.execute_input": "2024-08-01T07:45:59.411593Z",
     "iopub.status.busy": "2024-08-01T07:45:59.411045Z",
     "iopub.status.idle": "2024-08-01T07:46:34.968659Z",
     "shell.execute_reply": "2024-08-01T07:46:34.967094Z"
    },
    "papermill": {
     "duration": 35.580524,
     "end_time": "2024-08-01T07:46:34.980172",
     "exception": false,
     "start_time": "2024-08-01T07:45:59.399648",
     "status": "completed"
    },
    "tags": []
   },
   "outputs": [
    {
     "name": "stdout",
     "output_type": "stream",
     "text": [
      "Fitting 5 folds for each of 60 candidates, totalling 300 fits\n",
      "Best model is: RandomForestClassifier(), whose accuracy on test is found to be: 0.7937219730941704\n"
     ]
    }
   ],
   "source": [
    "param_grid_rfc = {\n",
    "    \"rfc__n_estimators\": [10, 50, 100, 200],\n",
    "    \"rfc__max_depth\": [None, 5, 10, 15, 20],\n",
    "    \"rfc__min_samples_split\": [2, 5, 10]\n",
    "}\n",
    "\n",
    "grid = GridSearchCV(estimator=model_rfc, param_grid=param_grid_rfc, scoring=\"accuracy\", cv=5, n_jobs=-1, verbose=1).fit(x_train, y_train)\n",
    "print(f\"Best model is: {str(grid.best_estimator_.named_steps['rfc'])}, whose accuracy on test is found to be: {accuracy_score(y_test, grid.best_estimator_.predict(x_test))}\")"
   ]
  },
  {
   "cell_type": "code",
   "execution_count": 13,
   "id": "154af5fd",
   "metadata": {
    "execution": {
     "iopub.execute_input": "2024-08-01T07:46:34.998986Z",
     "iopub.status.busy": "2024-08-01T07:46:34.998514Z",
     "iopub.status.idle": "2024-08-01T07:46:35.693727Z",
     "shell.execute_reply": "2024-08-01T07:46:35.692590Z"
    },
    "papermill": {
     "duration": 0.708583,
     "end_time": "2024-08-01T07:46:35.696998",
     "exception": false,
     "start_time": "2024-08-01T07:46:34.988415",
     "status": "completed"
    },
    "tags": []
   },
   "outputs": [],
   "source": [
    "params = grid.best_estimator_[\"rfc\"].get_params()\n",
    "\n",
    "model_rfc = Pipeline([\n",
    "    (\"transformer\", transformer),\n",
    "    (\"rfc\", RandomForestClassifier(**params))\n",
    "])\n",
    "model = model_rfc.fit(x, y)\n",
    "\n"
   ]
  },
  {
   "cell_type": "code",
   "execution_count": 14,
   "id": "c58d91a2",
   "metadata": {
    "execution": {
     "iopub.execute_input": "2024-08-01T07:46:35.715680Z",
     "iopub.status.busy": "2024-08-01T07:46:35.715174Z",
     "iopub.status.idle": "2024-08-01T07:46:35.847310Z",
     "shell.execute_reply": "2024-08-01T07:46:35.846114Z"
    },
    "papermill": {
     "duration": 0.145347,
     "end_time": "2024-08-01T07:46:35.850729",
     "exception": false,
     "start_time": "2024-08-01T07:46:35.705382",
     "status": "completed"
    },
    "tags": []
   },
   "outputs": [],
   "source": [
    "test = pd.read_csv(\"/kaggle/input/titanic/test.csv\")\n",
    "test_transformed = feature_engeneering(test)\n",
    "\n",
    "prediction = model.predict(test_transformed)\n",
    "submission_dataframe = pd.DataFrame({\"PassengerId\": test[\"PassengerId\"], \"Survived\": prediction})\n",
    "submission_dataframe.to_csv('submission.csv', index=False)"
   ]
  }
 ],
 "metadata": {
  "kaggle": {
   "accelerator": "none",
   "dataSources": [
    {
     "databundleVersionId": 26502,
     "sourceId": 3136,
     "sourceType": "competition"
    }
   ],
   "dockerImageVersionId": 30746,
   "isGpuEnabled": false,
   "isInternetEnabled": true,
   "language": "python",
   "sourceType": "notebook"
  },
  "kernelspec": {
   "display_name": "Python 3",
   "language": "python",
   "name": "python3"
  },
  "language_info": {
   "codemirror_mode": {
    "name": "ipython",
    "version": 3
   },
   "file_extension": ".py",
   "mimetype": "text/x-python",
   "name": "python",
   "nbconvert_exporter": "python",
   "pygments_lexer": "ipython3",
   "version": "3.10.13"
  },
  "papermill": {
   "default_parameters": {},
   "duration": 114.534061,
   "end_time": "2024-08-01T07:46:38.485605",
   "environment_variables": {},
   "exception": null,
   "input_path": "__notebook__.ipynb",
   "output_path": "__notebook__.ipynb",
   "parameters": {},
   "start_time": "2024-08-01T07:44:43.951544",
   "version": "2.5.0"
  }
 },
 "nbformat": 4,
 "nbformat_minor": 5
}
