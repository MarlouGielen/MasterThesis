{
 "cells": [
  {
   "cell_type": "code",
   "execution_count": 1,
   "metadata": {
    "execution": {
     "iopub.execute_input": "2022-07-11T06:08:07.087839Z",
     "iopub.status.busy": "2022-07-11T06:08:07.087067Z",
     "iopub.status.idle": "2022-07-11T06:08:09.968451Z",
     "shell.execute_reply": "2022-07-11T06:08:09.967695Z"
    },
    "jupyter": {
     "source_hidden": true
    },
    "papermill": {
     "duration": 2.946496,
     "end_time": "2022-07-11T06:08:09.968662",
     "exception": false,
     "start_time": "2022-07-11T06:08:07.022166",
     "status": "completed"
    },
    "tags": []
   },
   "outputs": [
    {
     "data": {
      "text/html": [
       "<style type='text/css'>\n",
       ".datatable table.frame { margin-bottom: 0; }\n",
       ".datatable table.frame thead { border-bottom: none; }\n",
       ".datatable table.frame tr.coltypes td {  color: #FFFFFF;  line-height: 6px;  padding: 0 0.5em;}\n",
       ".datatable .bool    { background: #DDDD99; }\n",
       ".datatable .object  { background: #565656; }\n",
       ".datatable .int     { background: #5D9E5D; }\n",
       ".datatable .float   { background: #4040CC; }\n",
       ".datatable .str     { background: #CC4040; }\n",
       ".datatable .row_index {  background: var(--jp-border-color3);  border-right: 1px solid var(--jp-border-color0);  color: var(--jp-ui-font-color3);  font-size: 9px;}\n",
       ".datatable .frame tr.coltypes .row_index {  background: var(--jp-border-color0);}\n",
       ".datatable th:nth-child(2) { padding-left: 12px; }\n",
       ".datatable .hellipsis {  color: var(--jp-cell-editor-border-color);}\n",
       ".datatable .vellipsis {  background: var(--jp-layout-color0);  color: var(--jp-cell-editor-border-color);}\n",
       ".datatable .na {  color: var(--jp-cell-editor-border-color);  font-size: 80%;}\n",
       ".datatable .footer { font-size: 9px; }\n",
       ".datatable .frame_dimensions {  background: var(--jp-border-color3);  border-top: 1px solid var(--jp-border-color0);  color: var(--jp-ui-font-color3);  display: inline-block;  opacity: 0.6;  padding: 1px 10px 1px 5px;}\n",
       "</style>\n"
      ],
      "text/plain": [
       "<IPython.core.display.HTML object>"
      ]
     },
     "metadata": {},
     "output_type": "display_data"
    }
   ],
   "source": [
    "from sklearn.preprocessing import OneHotEncoder, LabelEncoder, MinMaxScaler, LabelBinarizer\n",
    "from sklearn.ensemble import RandomForestClassifier\n",
    "from sklearn.linear_model import LogisticRegression, RidgeClassifierCV\n",
    "from sklearn.metrics import accuracy_score\n",
    "from sklearn.svm import LinearSVC, SVC\n",
    "\n",
    "from mlxtend.classifier import StackingClassifier\n",
    "from catboost import CatBoostClassifier\n",
    "from xgboost import XGBClassifier\n",
    "from lightgbm import LGBMClassifier\n",
    "\n",
    "import plotly.express as px\n",
    "from matplotlib import pyplot as plt\n",
    "import scikitplot as skplt\n",
    "import missingno as msno\n",
    "import pandas as pd\n",
    "import numpy as np\n",
    "import seaborn as sns\n",
    "import os\n",
    "import re\n",
    "\n",
    "pd.set_option('display.max_rows', 500)\n",
    "pd.set_option('display.max_columns', 500)\n",
    "pd.set_option('display.width', 1000)"
   ]
  },
  {
   "cell_type": "markdown",
   "metadata": {
    "papermill": {
     "duration": 0.056198,
     "end_time": "2022-07-11T06:08:10.082526",
     "exception": false,
     "start_time": "2022-07-11T06:08:10.026328",
     "status": "completed"
    },
    "tags": []
   },
   "source": [
    "<h1 style=\"font-size:250%;color:#292F55\"> Titanic - Machine Learning from Disaster</h1>\n",
    "\n",
    "*Top 3% Titanic solution - For this last version best model score is 0.81100*.\n",
    "![](https://images.fineartamerica.com/images/artworkimages/mediumlarge/1/2-rms-titanic-ship-plans-jose-elias-sofia-pereira.jpg)"
   ]
  },
  {
   "cell_type": "code",
   "execution_count": 2,
   "metadata": {
    "_cell_guid": "81ca7ea7-f034-4b79-accd-b19737dcbc9e",
    "_uuid": "33d7c81c-db2c-4b04-bda7-5bdc7844222d",
    "execution": {
     "iopub.execute_input": "2022-07-11T06:08:10.232812Z",
     "iopub.status.busy": "2022-07-11T06:08:10.232109Z",
     "iopub.status.idle": "2022-07-11T06:08:10.295752Z",
     "shell.execute_reply": "2022-07-11T06:08:10.296280Z"
    },
    "papermill": {
     "duration": 0.154691,
     "end_time": "2022-07-11T06:08:10.296455",
     "exception": false,
     "start_time": "2022-07-11T06:08:10.141764",
     "status": "completed"
    },
    "tags": []
   },
   "outputs": [
    {
     "data": {
      "image/png": "[encoded data removed]",
      "text/plain": [
       "<Figure size 648x72 with 1 Axes>"
      ]
     },
     "metadata": {
      "needs_background": "light"
     },
     "output_type": "display_data"
    }
   ],
   "source": [
    "cm = [\"#273176\",\"#3B61A3\",\"#76A4AC\",\"#BFD4B2\",\"#DAD8A1\"]\n",
    "gradient = [\"#292F55\",\"#273176\",\"#223A92\",\"#3B61A3\",\"#76A4AC\",\"#BFD4B2\",\"#DAD8A1\",\"#C7B679\",\"#957447\"]\n",
    "sns.palplot(gradient)"
   ]
  },
  {
   "cell_type": "markdown",
   "metadata": {
    "papermill": {
     "duration": 0.055845,
     "end_time": "2022-07-11T06:08:10.408595",
     "exception": false,
     "start_time": "2022-07-11T06:08:10.352750",
     "status": "completed"
    },
    "tags": []
   },
   "source": [
    "<a style=\"font-size:200%;color:#292F55\">Table Of Content\n",
    "* [<a style=\"font-size:150%;color:#292F55\">1. EDA & Feature Engeneering](#1_bullet)\n",
    "    * [<a style=\"font-size:130%;color:#3B61A3\"> 1.1 Passengers location analisys](#1.1_bullet) - Survival for different Deck / Cabin numbers\n",
    "    * [<a style=\"font-size:130%;color:#3B61A3\"> 1.2 Groups and family bonds analisys](#1.2_bullet) - Ticket numbers analisys, Names / Surnames\n",
    "    * [<a style=\"font-size:130%;color:#3B61A3\"> 1.3 Personal features analisys](#1.3_bullet) - Age / Status analisys\n",
    "* [<a style=\"font-size:150%;color:#292F55\">2. Data preparation](#2_bullet)\n",
    "    * [<a style=\"font-size:130%;color:#3B61A3\"> 2.1 Filling None values](#2.1_bullet)\n",
    "    * [<a style=\"font-size:130%;color:#3B61A3\"> 2.2 Encoding features and droping unnecessary](#2.2_bullet)\n",
    "* [<a style=\"font-size:150%;color:#292F55\">3. Model development](#3_bullet)\n",
    "    * [<a style=\"font-size:130%;color:#3B61A3\"> 2.1 Catboost baseline](#2.1_bullet)\n",
    "    \n"
   ]
  },
  {
   "cell_type": "markdown",
   "metadata": {
    "_cell_guid": "33b08eac-de20-43ad-b320-490dcc25b860",
    "_uuid": "5202c7e5-6b8d-4c54-ad88-9c79678d822d",
    "papermill": {
     "duration": 0.055831,
     "end_time": "2022-07-11T06:08:10.521451",
     "exception": false,
     "start_time": "2022-07-11T06:08:10.465620",
     "status": "completed"
    },
    "tags": []
   },
   "source": [
    "# <a class=\"anchor\" id=\"1_bullet\" style=\"color:#292F55\"> 1. Exploratory Data Analysis (EDA)"
   ]
  },
  {
   "cell_type": "code",
   "execution_count": 3,
   "metadata": {
    "execution": {
     "iopub.execute_input": "2022-07-11T06:08:10.638389Z",
     "iopub.status.busy": "2022-07-11T06:08:10.637432Z",
     "iopub.status.idle": "2022-07-11T06:08:10.780735Z",
     "shell.execute_reply": "2022-07-11T06:08:10.780204Z"
    },
    "papermill": {
     "duration": 0.202549,
     "end_time": "2022-07-11T06:08:10.780931",
     "exception": false,
     "start_time": "2022-07-11T06:08:10.578382",
     "status": "completed"
    },
    "tags": []
   },
   "outputs": [
    {
     "data": {
      "text/html": [
       "<style  type=\"text/css\" >\n",
       "#T_076a9_row0_col0,#T_076a9_row0_col6,#T_076a9_row0_col8,#T_076a9_row1_col1,#T_076a9_row1_col6,#T_076a9_row2_col5,#T_076a9_row2_col6,#T_076a9_row3_col1,#T_076a9_row3_col6,#T_076a9_row4_col0,#T_076a9_row4_col5,#T_076a9_row4_col6,#T_076a9_row5_col0,#T_076a9_row5_col5,#T_076a9_row5_col6,#T_076a9_row6_col0,#T_076a9_row6_col1,#T_076a9_row6_col5,#T_076a9_row6_col6,#T_076a9_row7_col0,#T_076a9_row7_col4,#T_076a9_row8_col5,#T_076a9_row9_col6{\n",
       "            background-color:  #f7fbff;\n",
       "            color:  #000000;\n",
       "        }#T_076a9_row0_col1,#T_076a9_row1_col0,#T_076a9_row1_col8,#T_076a9_row2_col0,#T_076a9_row2_col1,#T_076a9_row3_col0,#T_076a9_row4_col1,#T_076a9_row5_col1,#T_076a9_row6_col4,#T_076a9_row7_col1,#T_076a9_row7_col5,#T_076a9_row8_col0,#T_076a9_row8_col1,#T_076a9_row8_col6,#T_076a9_row9_col0{\n",
       "            background-color:  #08306b;\n",
       "            color:  #f1f1f1;\n",
       "        }#T_076a9_row0_col4{\n",
       "            background-color:  #9ac8e0;\n",
       "            color:  #000000;\n",
       "        }#T_076a9_row0_col5,#T_076a9_row1_col5,#T_076a9_row3_col5,#T_076a9_row9_col5{\n",
       "            background-color:  #abd0e6;\n",
       "            color:  #000000;\n",
       "        }#T_076a9_row1_col4{\n",
       "            background-color:  #3080bd;\n",
       "            color:  #000000;\n",
       "        }#T_076a9_row2_col4{\n",
       "            background-color:  #7ab6d9;\n",
       "            color:  #000000;\n",
       "        }#T_076a9_row2_col8{\n",
       "            background-color:  #f5fafe;\n",
       "            color:  #000000;\n",
       "        }#T_076a9_row3_col4,#T_076a9_row4_col4{\n",
       "            background-color:  #3f8fc5;\n",
       "            color:  #000000;\n",
       "        }#T_076a9_row3_col8{\n",
       "            background-color:  #2a7ab9;\n",
       "            color:  #000000;\n",
       "        }#T_076a9_row4_col8{\n",
       "            background-color:  #f5f9fe;\n",
       "            color:  #000000;\n",
       "        }#T_076a9_row5_col4{\n",
       "            background-color:  #000000;\n",
       "            color:  #f1f1f1;\n",
       "        }#T_076a9_row5_col8{\n",
       "            background-color:  #f4f9fe;\n",
       "            color:  #000000;\n",
       "        }#T_076a9_row6_col8{\n",
       "            background-color:  #2f7fbc;\n",
       "            color:  #000000;\n",
       "        }#T_076a9_row7_col6,#T_076a9_row9_col1{\n",
       "            background-color:  #6aaed6;\n",
       "            color:  #000000;\n",
       "        }#T_076a9_row7_col8{\n",
       "            background-color:  #cddff1;\n",
       "            color:  #000000;\n",
       "        }#T_076a9_row8_col4{\n",
       "            background-color:  #72b2d8;\n",
       "            color:  #000000;\n",
       "        }#T_076a9_row8_col8{\n",
       "            background-color:  #ebf3fb;\n",
       "            color:  #000000;\n",
       "        }#T_076a9_row9_col4{\n",
       "            background-color:  #caddf0;\n",
       "            color:  #000000;\n",
       "        }#T_076a9_row9_col8{\n",
       "            background-color:  #a4cce3;\n",
       "            color:  #000000;\n",
       "        }</style><table id=\"T_076a9_\" ><thead>    <tr>        <th class=\"blank level0\" ></th>        <th class=\"col_heading level0 col0\" >Survived</th>        <th class=\"col_heading level0 col1\" >Pclass</th>        <th class=\"col_heading level0 col2\" >Name</th>        <th class=\"col_heading level0 col3\" >Sex</th>        <th class=\"col_heading level0 col4\" >Age</th>        <th class=\"col_heading level0 col5\" >SibSp</th>        <th class=\"col_heading level0 col6\" >Parch</th>        <th class=\"col_heading level0 col7\" >Ticket</th>        <th class=\"col_heading level0 col8\" >Fare</th>        <th class=\"col_heading level0 col9\" >Cabin</th>        <th class=\"col_heading level0 col10\" >Embarked</th>    </tr>    <tr>        <th class=\"index_name level0\" >PassengerId</th>        <th class=\"blank\" ></th>        <th class=\"blank\" ></th>        <th class=\"blank\" ></th>        <th class=\"blank\" ></th>        <th class=\"blank\" ></th>        <th class=\"blank\" ></th>        <th class=\"blank\" ></th>        <th class=\"blank\" ></th>        <th class=\"blank\" ></th>        <th class=\"blank\" ></th>        <th class=\"blank\" ></th>    </tr></thead><tbody>\n",
       "                <tr>\n",
       "                        <th id=\"T_076a9_level0_row0\" class=\"row_heading level0 row0\" >1</th>\n",
       "                        <td id=\"T_076a9_row0_col0\" class=\"data row0 col0\" >0.000000</td>\n",
       "                        <td id=\"T_076a9_row0_col1\" class=\"data row0 col1\" >3</td>\n",
       "                        <td id=\"T_076a9_row0_col2\" class=\"data row0 col2\" >Braund, Mr. Owen Harris</td>\n",
       "                        <td id=\"T_076a9_row0_col3\" class=\"data row0 col3\" >male</td>\n",
       "                        <td id=\"T_076a9_row0_col4\" class=\"data row0 col4\" >22.000000</td>\n",
       "                        <td id=\"T_076a9_row0_col5\" class=\"data row0 col5\" >1</td>\n",
       "                        <td id=\"T_076a9_row0_col6\" class=\"data row0 col6\" >0</td>\n",
       "                        <td id=\"T_076a9_row0_col7\" class=\"data row0 col7\" >A/5 21171</td>\n",
       "                        <td id=\"T_076a9_row0_col8\" class=\"data row0 col8\" >7.250000</td>\n",
       "                        <td id=\"T_076a9_row0_col9\" class=\"data row0 col9\" >nan</td>\n",
       "                        <td id=\"T_076a9_row0_col10\" class=\"data row0 col10\" >S</td>\n",
       "            </tr>\n",
       "            <tr>\n",
       "                        <th id=\"T_076a9_level0_row1\" class=\"row_heading level0 row1\" >2</th>\n",
       "                        <td id=\"T_076a9_row1_col0\" class=\"data row1 col0\" >1.000000</td>\n",
       "                        <td id=\"T_076a9_row1_col1\" class=\"data row1 col1\" >1</td>\n",
       "                        <td id=\"T_076a9_row1_col2\" class=\"data row1 col2\" >Cumings, Mrs. John Bradley (Florence Briggs Thayer)</td>\n",
       "                        <td id=\"T_076a9_row1_col3\" class=\"data row1 col3\" >female</td>\n",
       "                        <td id=\"T_076a9_row1_col4\" class=\"data row1 col4\" >38.000000</td>\n",
       "                        <td id=\"T_076a9_row1_col5\" class=\"data row1 col5\" >1</td>\n",
       "                        <td id=\"T_076a9_row1_col6\" class=\"data row1 col6\" >0</td>\n",
       "                        <td id=\"T_076a9_row1_col7\" class=\"data row1 col7\" >PC 17599</td>\n",
       "                        <td id=\"T_076a9_row1_col8\" class=\"data row1 col8\" >71.283300</td>\n",
       "                        <td id=\"T_076a9_row1_col9\" class=\"data row1 col9\" >C85</td>\n",
       "                        <td id=\"T_076a9_row1_col10\" class=\"data row1 col10\" >C</td>\n",
       "            </tr>\n",
       "            <tr>\n",
       "                        <th id=\"T_076a9_level0_row2\" class=\"row_heading level0 row2\" >3</th>\n",
       "                        <td id=\"T_076a9_row2_col0\" class=\"data row2 col0\" >1.000000</td>\n",
       "                        <td id=\"T_076a9_row2_col1\" class=\"data row2 col1\" >3</td>\n",
       "                        <td id=\"T_076a9_row2_col2\" class=\"data row2 col2\" >Heikkinen, Miss. Laina</td>\n",
       "                        <td id=\"T_076a9_row2_col3\" class=\"data row2 col3\" >female</td>\n",
       "                        <td id=\"T_076a9_row2_col4\" class=\"data row2 col4\" >26.000000</td>\n",
       "                        <td id=\"T_076a9_row2_col5\" class=\"data row2 col5\" >0</td>\n",
       "                        <td id=\"T_076a9_row2_col6\" class=\"data row2 col6\" >0</td>\n",
       "                        <td id=\"T_076a9_row2_col7\" class=\"data row2 col7\" >STON/O2. 3101282</td>\n",
       "                        <td id=\"T_076a9_row2_col8\" class=\"data row2 col8\" >7.925000</td>\n",
       "                        <td id=\"T_076a9_row2_col9\" class=\"data row2 col9\" >nan</td>\n",
       "                        <td id=\"T_076a9_row2_col10\" class=\"data row2 col10\" >S</td>\n",
       "            </tr>\n",
       "            <tr>\n",
       "                        <th id=\"T_076a9_level0_row3\" class=\"row_heading level0 row3\" >4</th>\n",
       "                        <td id=\"T_076a9_row3_col0\" class=\"data row3 col0\" >1.000000</td>\n",
       "                        <td id=\"T_076a9_row3_col1\" class=\"data row3 col1\" >1</td>\n",
       "                        <td id=\"T_076a9_row3_col2\" class=\"data row3 col2\" >Futrelle, Mrs. Jacques Heath (Lily May Peel)</td>\n",
       "                        <td id=\"T_076a9_row3_col3\" class=\"data row3 col3\" >female</td>\n",
       "                        <td id=\"T_076a9_row3_col4\" class=\"data row3 col4\" >35.000000</td>\n",
       "                        <td id=\"T_076a9_row3_col5\" class=\"data row3 col5\" >1</td>\n",
       "                        <td id=\"T_076a9_row3_col6\" class=\"data row3 col6\" >0</td>\n",
       "                        <td id=\"T_076a9_row3_col7\" class=\"data row3 col7\" >113803</td>\n",
       "                        <td id=\"T_076a9_row3_col8\" class=\"data row3 col8\" >53.100000</td>\n",
       "                        <td id=\"T_076a9_row3_col9\" class=\"data row3 col9\" >C123</td>\n",
       "                        <td id=\"T_076a9_row3_col10\" class=\"data row3 col10\" >S</td>\n",
       "            </tr>\n",
       "            <tr>\n",
       "                        <th id=\"T_076a9_level0_row4\" class=\"row_heading level0 row4\" >5</th>\n",
       "                        <td id=\"T_076a9_row4_col0\" class=\"data row4 col0\" >0.000000</td>\n",
       "                        <td id=\"T_076a9_row4_col1\" class=\"data row4 col1\" >3</td>\n",
       "                        <td id=\"T_076a9_row4_col2\" class=\"data row4 col2\" >Allen, Mr. William Henry</td>\n",
       "                        <td id=\"T_076a9_row4_col3\" class=\"data row4 col3\" >male</td>\n",
       "                        <td id=\"T_076a9_row4_col4\" class=\"data row4 col4\" >35.000000</td>\n",
       "                        <td id=\"T_076a9_row4_col5\" class=\"data row4 col5\" >0</td>\n",
       "                        <td id=\"T_076a9_row4_col6\" class=\"data row4 col6\" >0</td>\n",
       "                        <td id=\"T_076a9_row4_col7\" class=\"data row4 col7\" >373450</td>\n",
       "                        <td id=\"T_076a9_row4_col8\" class=\"data row4 col8\" >8.050000</td>\n",
       "                        <td id=\"T_076a9_row4_col9\" class=\"data row4 col9\" >nan</td>\n",
       "                        <td id=\"T_076a9_row4_col10\" class=\"data row4 col10\" >S</td>\n",
       "            </tr>\n",
       "            <tr>\n",
       "                        <th id=\"T_076a9_level0_row5\" class=\"row_heading level0 row5\" >6</th>\n",
       "                        <td id=\"T_076a9_row5_col0\" class=\"data row5 col0\" >0.000000</td>\n",
       "                        <td id=\"T_076a9_row5_col1\" class=\"data row5 col1\" >3</td>\n",
       "                        <td id=\"T_076a9_row5_col2\" class=\"data row5 col2\" >Moran, Mr. James</td>\n",
       "                        <td id=\"T_076a9_row5_col3\" class=\"data row5 col3\" >male</td>\n",
       "                        <td id=\"T_076a9_row5_col4\" class=\"data row5 col4\" >nan</td>\n",
       "                        <td id=\"T_076a9_row5_col5\" class=\"data row5 col5\" >0</td>\n",
       "                        <td id=\"T_076a9_row5_col6\" class=\"data row5 col6\" >0</td>\n",
       "                        <td id=\"T_076a9_row5_col7\" class=\"data row5 col7\" >330877</td>\n",
       "                        <td id=\"T_076a9_row5_col8\" class=\"data row5 col8\" >8.458300</td>\n",
       "                        <td id=\"T_076a9_row5_col9\" class=\"data row5 col9\" >nan</td>\n",
       "                        <td id=\"T_076a9_row5_col10\" class=\"data row5 col10\" >Q</td>\n",
       "            </tr>\n",
       "            <tr>\n",
       "                        <th id=\"T_076a9_level0_row6\" class=\"row_heading level0 row6\" >7</th>\n",
       "                        <td id=\"T_076a9_row6_col0\" class=\"data row6 col0\" >0.000000</td>\n",
       "                        <td id=\"T_076a9_row6_col1\" class=\"data row6 col1\" >1</td>\n",
       "                        <td id=\"T_076a9_row6_col2\" class=\"data row6 col2\" >McCarthy, Mr. Timothy J</td>\n",
       "                        <td id=\"T_076a9_row6_col3\" class=\"data row6 col3\" >male</td>\n",
       "                        <td id=\"T_076a9_row6_col4\" class=\"data row6 col4\" >54.000000</td>\n",
       "                        <td id=\"T_076a9_row6_col5\" class=\"data row6 col5\" >0</td>\n",
       "                        <td id=\"T_076a9_row6_col6\" class=\"data row6 col6\" >0</td>\n",
       "                        <td id=\"T_076a9_row6_col7\" class=\"data row6 col7\" >17463</td>\n",
       "                        <td id=\"T_076a9_row6_col8\" class=\"data row6 col8\" >51.862500</td>\n",
       "                        <td id=\"T_076a9_row6_col9\" class=\"data row6 col9\" >E46</td>\n",
       "                        <td id=\"T_076a9_row6_col10\" class=\"data row6 col10\" >S</td>\n",
       "            </tr>\n",
       "            <tr>\n",
       "                        <th id=\"T_076a9_level0_row7\" class=\"row_heading level0 row7\" >8</th>\n",
       "                        <td id=\"T_076a9_row7_col0\" class=\"data row7 col0\" >0.000000</td>\n",
       "                        <td id=\"T_076a9_row7_col1\" class=\"data row7 col1\" >3</td>\n",
       "                        <td id=\"T_076a9_row7_col2\" class=\"data row7 col2\" >Palsson, Master. Gosta Leonard</td>\n",
       "                        <td id=\"T_076a9_row7_col3\" class=\"data row7 col3\" >male</td>\n",
       "                        <td id=\"T_076a9_row7_col4\" class=\"data row7 col4\" >2.000000</td>\n",
       "                        <td id=\"T_076a9_row7_col5\" class=\"data row7 col5\" >3</td>\n",
       "                        <td id=\"T_076a9_row7_col6\" class=\"data row7 col6\" >1</td>\n",
       "                        <td id=\"T_076a9_row7_col7\" class=\"data row7 col7\" >349909</td>\n",
       "                        <td id=\"T_076a9_row7_col8\" class=\"data row7 col8\" >21.075000</td>\n",
       "                        <td id=\"T_076a9_row7_col9\" class=\"data row7 col9\" >nan</td>\n",
       "                        <td id=\"T_076a9_row7_col10\" class=\"data row7 col10\" >S</td>\n",
       "            </tr>\n",
       "            <tr>\n",
       "                        <th id=\"T_076a9_level0_row8\" class=\"row_heading level0 row8\" >9</th>\n",
       "                        <td id=\"T_076a9_row8_col0\" class=\"data row8 col0\" >1.000000</td>\n",
       "                        <td id=\"T_076a9_row8_col1\" class=\"data row8 col1\" >3</td>\n",
       "                        <td id=\"T_076a9_row8_col2\" class=\"data row8 col2\" >Johnson, Mrs. Oscar W (Elisabeth Vilhelmina Berg)</td>\n",
       "                        <td id=\"T_076a9_row8_col3\" class=\"data row8 col3\" >female</td>\n",
       "                        <td id=\"T_076a9_row8_col4\" class=\"data row8 col4\" >27.000000</td>\n",
       "                        <td id=\"T_076a9_row8_col5\" class=\"data row8 col5\" >0</td>\n",
       "                        <td id=\"T_076a9_row8_col6\" class=\"data row8 col6\" >2</td>\n",
       "                        <td id=\"T_076a9_row8_col7\" class=\"data row8 col7\" >347742</td>\n",
       "                        <td id=\"T_076a9_row8_col8\" class=\"data row8 col8\" >11.133300</td>\n",
       "                        <td id=\"T_076a9_row8_col9\" class=\"data row8 col9\" >nan</td>\n",
       "                        <td id=\"T_076a9_row8_col10\" class=\"data row8 col10\" >S</td>\n",
       "            </tr>\n",
       "            <tr>\n",
       "                        <th id=\"T_076a9_level0_row9\" class=\"row_heading level0 row9\" >10</th>\n",
       "                        <td id=\"T_076a9_row9_col0\" class=\"data row9 col0\" >1.000000</td>\n",
       "                        <td id=\"T_076a9_row9_col1\" class=\"data row9 col1\" >2</td>\n",
       "                        <td id=\"T_076a9_row9_col2\" class=\"data row9 col2\" >Nasser, Mrs. Nicholas (Adele Achem)</td>\n",
       "                        <td id=\"T_076a9_row9_col3\" class=\"data row9 col3\" >female</td>\n",
       "                        <td id=\"T_076a9_row9_col4\" class=\"data row9 col4\" >14.000000</td>\n",
       "                        <td id=\"T_076a9_row9_col5\" class=\"data row9 col5\" >1</td>\n",
       "                        <td id=\"T_076a9_row9_col6\" class=\"data row9 col6\" >0</td>\n",
       "                        <td id=\"T_076a9_row9_col7\" class=\"data row9 col7\" >237736</td>\n",
       "                        <td id=\"T_076a9_row9_col8\" class=\"data row9 col8\" >30.070800</td>\n",
       "                        <td id=\"T_076a9_row9_col9\" class=\"data row9 col9\" >nan</td>\n",
       "                        <td id=\"T_076a9_row9_col10\" class=\"data row9 col10\" >C</td>\n",
       "            </tr>\n",
       "    </tbody></table>"
      ],
      "text/plain": [
       "<pandas.io.formats.style.Styler at 0x7f55d60d9a90>"
      ]
     },
     "execution_count": 3,
     "metadata": {},
     "output_type": "execute_result"
    }
   ],
   "source": [
    "path = \"/kaggle/input/titanic/\"\n",
    "df_tr = pd.read_csv(f\"{path}train.csv\").set_index(\"PassengerId\", drop=True)\n",
    "df_ts = pd.read_csv(f\"{path}test.csv\").set_index(\"PassengerId\", drop=True)\n",
    "df = pd.concat([df_tr, df_ts], axis=0)\n",
    "df.head(10).style.background_gradient(cmap='Blues')"
   ]
  },
  {
   "cell_type": "code",
   "execution_count": 4,
   "metadata": {
    "execution": {
     "iopub.execute_input": "2022-07-11T06:08:10.901077Z",
     "iopub.status.busy": "2022-07-11T06:08:10.900111Z",
     "iopub.status.idle": "2022-07-11T06:08:11.710147Z",
     "shell.execute_reply": "2022-07-11T06:08:11.709607Z"
    },
    "jupyter": {
     "source_hidden": true
    },
    "papermill": {
     "duration": 0.871406,
     "end_time": "2022-07-11T06:08:11.710321",
     "exception": false,
     "start_time": "2022-07-11T06:08:10.838915",
     "status": "completed"
    },
    "tags": []
   },
   "outputs": [
    {
     "data": {
      "text/plain": [
       "<AxesSubplot:>"
      ]
     },
     "execution_count": 4,
     "metadata": {},
     "output_type": "execute_result"
    },
    {
     "data": {
      "image/png": "[encoded data removed]",
      "text/plain": [
       "<Figure size 2160x144 with 3 Axes>"
      ]
     },
     "metadata": {
      "needs_background": "light"
     },
     "output_type": "display_data"
    }
   ],
   "source": [
    "msno.bar(df, figsize=(30,2), color=gradient)"
   ]
  },
  {
   "cell_type": "markdown",
   "metadata": {
    "_cell_guid": "aa3f011e-6a39-41e9-93a2-e07ab39dab27",
    "_uuid": "1516af28-5838-42af-b0a8-2489625b6417",
    "papermill": {
     "duration": 0.058555,
     "end_time": "2022-07-11T06:08:11.828086",
     "exception": false,
     "start_time": "2022-07-11T06:08:11.769531",
     "status": "completed"
    },
    "tags": []
   },
   "source": [
    "## <a class=\"anchor\" id=\"1.1_bullet\" style=\"color:#3B61A3\"> 1.1 Passengers location analisys \n",
    "\n",
    "I assume, that the location of passengers at the moment of the disaster may affect on the surviving rate.\n",
    "\n",
    "For this case we will try to analyze such location, referring to the time of the disaster - 23:40. It means that some passengers may already have been in their cabins, some of them was hanging on some restaurants and \"bars\" (linked to there Pclass and maby cabin location) etc.\n",
    "\n",
    "Anyway, we do not know their location at that moment, but we can create some feature to describe it somehow to help our model.\n",
    "\n",
    "Offcourse, we have smth like 80% None values in \"Cabin\" feature - but still some useful information can be extracted + we need to be careful with filling the gaps."
   ]
  },
  {
   "cell_type": "markdown",
   "metadata": {
    "_cell_guid": "393adf89-c2ba-4367-85ea-c1fe6abed04e",
    "_uuid": "80181582-6313-4bae-91fd-0efa3c8394c0",
    "papermill": {
     "duration": 0.059099,
     "end_time": "2022-07-11T06:08:11.947825",
     "exception": false,
     "start_time": "2022-07-11T06:08:11.888726",
     "status": "completed"
    },
    "tags": []
   },
   "source": [
    "### <a class=\"anchor\" id=\"1.1.1_bullet\" style=\"color:#3B61A3\"> 1.1.1 Survival for different Deck numbers\n",
    "Deck descriptors are coded inside of the Cabin numbers\n",
    "We will extract them as a new feature.\n",
    "Unknowns we will mark as \"N/A\""
   ]
  },
  {
   "cell_type": "code",
   "execution_count": 5,
   "metadata": {
    "_cell_guid": "2362473f-904d-4edd-ab44-2150bc1fee0d",
    "_uuid": "a4934617-4f93-4a35-b062-e330380db5ef",
    "collapsed": false,
    "execution": {
     "iopub.execute_input": "2022-07-11T06:08:12.077315Z",
     "iopub.status.busy": "2022-07-11T06:08:12.074549Z",
     "iopub.status.idle": "2022-07-11T06:08:12.081233Z",
     "shell.execute_reply": "2022-07-11T06:08:12.081873Z"
    },
    "jupyter": {
     "outputs_hidden": false
    },
    "papermill": {
     "duration": 0.072887,
     "end_time": "2022-07-11T06:08:12.082058",
     "exception": false,
     "start_time": "2022-07-11T06:08:12.009171",
     "status": "completed"
    },
    "tags": []
   },
   "outputs": [
    {
     "name": "stdout",
     "output_type": "stream",
     "text": [
      "All Deck descriptors:\n",
      "{'E', 'A', 'T', 'C', 'G', 'N/A', 'D', 'B', 'F'}\n"
     ]
    }
   ],
   "source": [
    "df[\"Deck\"] = df[\"Cabin\"].str[:1]\n",
    "df[\"Deck\"] = df[\"Deck\"].replace(np.nan,\"N/A\")\n",
    "print(\"All Deck descriptors:\")\n",
    "print(set(df[\"Deck\"].values))"
   ]
  },
  {
   "cell_type": "code",
   "execution_count": 6,
   "metadata": {
    "_cell_guid": "e4cf78ba-be4d-4973-96a5-36485073d648",
    "_uuid": "1d46a8c7-ef89-43d9-8714-0adc452183b6",
    "collapsed": false,
    "execution": {
     "iopub.execute_input": "2022-07-11T06:08:12.215970Z",
     "iopub.status.busy": "2022-07-11T06:08:12.215370Z",
     "iopub.status.idle": "2022-07-11T06:08:13.258351Z",
     "shell.execute_reply": "2022-07-11T06:08:13.257688Z"
    },
    "jupyter": {
     "outputs_hidden": false
    },
    "papermill": {
     "duration": 1.115489,
     "end_time": "2022-07-11T06:08:13.258497",
     "exception": false,
     "start_time": "2022-07-11T06:08:12.143008",
     "status": "completed"
    },
    "tags": []
   },
   "outputs": [
    {
     "data": {
      "text/html": [
       "        <script type=\"text/javascript\">\n",
       "        window.PlotlyConfig = {MathJaxConfig: 'local'};\n",
       "        if (window.MathJax) {MathJax.Hub.Config({SVG: {font: \"STIX-Web\"}});}\n",
       "        if (typeof require !== 'undefined') {\n",
       "        require.undef(\"plotly\");\n",
       "        requirejs.config({\n",
       "            paths: {\n",
       "                'plotly': ['https://cdn.plot.ly/plotly-latest.min']\n",
       "            }\n",
       "        });\n",
       "        require(['plotly'], function(Plotly) {\n",
       "            window._Plotly = Plotly;\n",
       "        });\n",
       "        }\n",
       "        </script>\n",
       "        "
      ]
     },
     "metadata": {},
     "output_type": "display_data"
    },
    {
     "data": {
      "text/html": [
       "<div>                            <div id=\"3343d9f5-c42b-4ea5-9300-81764300941c\" class=\"plotly-graph-div\" style=\"height:525px; width:100%;\"></div>            <script type=\"text/javascript\">                require([\"plotly\"], function(Plotly) {                    window.PLOTLYENV=window.PLOTLYENV || {};                                    if (document.getElementById(\"3343d9f5-c42b-4ea5-9300-81764300941c\")) {                    Plotly.newPlot(                        \"3343d9f5-c42b-4ea5-9300-81764300941c\",                        [{\"alignmentgroup\": \"True\", \"bingroup\": \"x\", \"hovertemplate\": \"Survived=1.0<br>Deck=%{x}<br>count=%{y}<extra></extra>\", \"legendgroup\": \"1.0\", \"marker\": {\"color\": \"#273176\"}, \"name\": \"1.0\", \"offsetgroup\": \"1.0\", \"orientation\": \"v\", \"showlegend\": true, \"type\": \"histogram\", \"x\": [\"C\", \"C\", \"G\", \"C\", \"D\", \"A\", \"B\", \"D\", \"C\", \"B\", \"F\", \"C\", \"D\", \"E\", \"F\", \"D\", \"C\", \"E\", \"F\", \"F\", \"B\", \"B\", \"A\", \"D\", \"D\", \"C\", \"C\", \"D\", \"B\", \"C\", \"C\", \"D\", \"B\", \"C\", \"B\", \"E\", \"C\", \"C\", \"E\", \"C\", \"B\", \"C\", \"E\", \"C\", \"D\", \"B\", \"E\", \"F\", \"C\", \"F\", \"E\", \"D\", \"B\", \"E\", \"B\", \"D\", \"G\", \"C\", \"E\", \"C\", \"B\", \"A\", \"C\", \"C\", \"D\", \"E\", \"D\", \"B\", \"C\", \"D\", \"B\", \"E\", \"F\", \"B\", \"B\", \"B\", \"B\", \"C\", \"A\", \"E\", \"C\", \"E\", \"E\", \"C\", \"E\", \"B\", \"D\", \"A\", \"C\", \"F\", \"D\", \"D\", \"A\", \"B\", \"B\", \"D\", \"A\", \"C\", \"B\", \"D\", \"B\", \"B\", \"C\", \"E\", \"E\", \"C\", \"C\", \"C\", \"E\", \"E\", \"B\", \"B\", \"D\", \"B\", \"E\", \"B\", \"B\", \"D\", \"B\", \"B\", \"D\", \"B\", \"E\", \"B\", \"E\", \"B\", \"E\", \"C\", \"C\", \"D\", \"E\", \"D\", \"D\", \"C\", \"B\", \"C\"], \"xaxis\": \"x\", \"yaxis\": \"y\"}, {\"alignmentgroup\": \"True\", \"bingroup\": \"x\", \"hovertemplate\": \"Survived=0.0<br>Deck=%{x}<br>count=%{y}<extra></extra>\", \"legendgroup\": \"0.0\", \"marker\": {\"color\": \"#3B61A3\"}, \"name\": \"0.0\", \"offsetgroup\": \"0.0\", \"orientation\": \"v\", \"showlegend\": true, \"type\": \"histogram\", \"x\": [\"E\", \"C\", \"B\", \"C\", \"F\", \"E\", \"A\", \"D\", \"C\", \"B\", \"D\", \"C\", \"B\", \"F\", \"B\", \"A\", \"C\", \"A\", \"G\", \"C\", \"G\", \"C\", \"E\", \"B\", \"C\", \"A\", \"D\", \"C\", \"C\", \"C\", \"C\", \"T\", \"C\", \"C\", \"E\", \"C\", \"C\", \"E\", \"E\", \"A\", \"B\", \"C\", \"C\", \"C\", \"D\", \"C\", \"B\", \"C\", \"A\", \"D\", \"D\", \"E\", \"B\", \"C\", \"F\", \"C\", \"F\", \"C\", \"B\", \"D\", \"E\", \"F\", \"D\", \"B\", \"A\", \"B\", \"A\", \"B\"], \"xaxis\": \"x\", \"yaxis\": \"y\"}, {\"alignmentgroup\": \"True\", \"bingroup\": \"x\", \"hovertemplate\": \"Survived=nan<br>Deck=%{x}<br>count=%{y}<extra></extra>\", \"legendgroup\": \"nan\", \"marker\": {\"color\": \"#76A4AC\"}, \"name\": \"nan\", \"offsetgroup\": \"nan\", \"orientation\": \"v\", \"showlegend\": true, \"type\": \"histogram\", \"x\": [\"B\", \"E\", \"B\", \"B\", \"A\", \"C\", \"D\", \"D\", \"A\", \"D\", \"C\", \"C\", \"F\", \"B\", \"B\", \"C\", \"C\", \"D\", \"C\", \"C\", \"C\", \"C\", \"B\", \"C\", \"C\", \"F\", \"A\", \"C\", \"G\", \"C\", \"C\", \"C\", \"B\", \"E\", \"C\", \"C\", \"D\", \"B\", \"C\", \"F\", \"E\", \"E\", \"D\", \"B\", \"E\", \"C\", \"A\", \"B\", \"C\", \"F\", \"C\", \"D\", \"C\", \"E\", \"D\", \"C\", \"C\", \"C\", \"B\", \"F\", \"A\", \"D\", \"B\", \"C\", \"B\", \"C\", \"B\", \"F\", \"F\", \"F\", \"A\", \"C\", \"B\", \"D\", \"E\", \"C\", \"E\", \"E\", \"B\", \"A\", \"C\", \"B\", \"D\", \"C\", \"B\", \"C\", \"D\", \"D\", \"C\", \"C\", \"C\"], \"xaxis\": \"x\", \"yaxis\": \"y\"}],                        {\"barmode\": \"relative\", \"legend\": {\"title\": {\"text\": \"Survived\"}, \"tracegroupgap\": 0}, \"margin\": {\"t\": 60}, \"template\": {\"data\": {\"bar\": [{\"error_x\": {\"color\": \"#2a3f5f\"}, \"error_y\": {\"color\": \"#2a3f5f\"}, \"marker\": {\"line\": {\"color\": \"#E5ECF6\", \"width\": 0.5}}, \"type\": \"bar\"}], \"barpolar\": [{\"marker\": {\"line\": {\"color\": \"#E5ECF6\", \"width\": 0.5}}, \"type\": \"barpolar\"}], \"carpet\": [{\"aaxis\": {\"endlinecolor\": \"#2a3f5f\", \"gridcolor\": \"white\", \"linecolor\": \"white\", \"minorgridcolor\": \"white\", \"startlinecolor\": \"#2a3f5f\"}, \"baxis\": {\"endlinecolor\": \"#2a3f5f\", \"gridcolor\": \"white\", \"linecolor\": \"white\", \"minorgridcolor\": \"white\", \"startlinecolor\": \"#2a3f5f\"}, \"type\": \"carpet\"}], \"choropleth\": [{\"colorbar\": {\"outlinewidth\": 0, \"ticks\": \"\"}, \"type\": \"choropleth\"}], \"contour\": [{\"colorbar\": {\"outlinewidth\": 0, \"ticks\": \"\"}, \"colorscale\": [[0.0, \"#0d0887\"], [0.1111111111111111, \"#46039f\"], [0.2222222222222222, \"#7201a8\"], [0.3333333333333333, \"#9c179e\"], [0.4444444444444444, \"#bd3786\"], [0.5555555555555556, \"#d8576b\"], [0.6666666666666666, \"#ed7953\"], [0.7777777777777778, \"#fb9f3a\"], [0.8888888888888888, \"#fdca26\"], [1.0, \"#f0f921\"]], \"type\": \"contour\"}], \"contourcarpet\": [{\"colorbar\": {\"outlinewidth\": 0, \"ticks\": \"\"}, \"type\": \"contourcarpet\"}], \"heatmap\": [{\"colorbar\": {\"outlinewidth\": 0, \"ticks\": \"\"}, \"colorscale\": [[0.0, \"#0d0887\"], [0.1111111111111111, \"#46039f\"], [0.2222222222222222, \"#7201a8\"], [0.3333333333333333, \"#9c179e\"], [0.4444444444444444, \"#bd3786\"], [0.5555555555555556, \"#d8576b\"], [0.6666666666666666, \"#ed7953\"], [0.7777777777777778, \"#fb9f3a\"], [0.8888888888888888, \"#fdca26\"], [1.0, \"#f0f921\"]], \"type\": \"heatmap\"}], \"heatmapgl\": [{\"colorbar\": {\"outlinewidth\": 0, \"ticks\": \"\"}, \"colorscale\": [[0.0, \"#0d0887\"], [0.1111111111111111, \"#46039f\"], [0.2222222222222222, \"#7201a8\"], [0.3333333333333333, \"#9c179e\"], [0.4444444444444444, \"#bd3786\"], [0.5555555555555556, \"#d8576b\"], [0.6666666666666666, \"#ed7953\"], [0.7777777777777778, \"#fb9f3a\"], [0.8888888888888888, \"#fdca26\"], [1.0, \"#f0f921\"]], \"type\": \"heatmapgl\"}], \"histogram\": [{\"marker\": {\"colorbar\": {\"outlinewidth\": 0, \"ticks\": \"\"}}, \"type\": \"histogram\"}], \"histogram2d\": [{\"colorbar\": {\"outlinewidth\": 0, \"ticks\": \"\"}, \"colorscale\": [[0.0, \"#0d0887\"], [0.1111111111111111, \"#46039f\"], [0.2222222222222222, \"#7201a8\"], [0.3333333333333333, \"#9c179e\"], [0.4444444444444444, \"#bd3786\"], [0.5555555555555556, \"#d8576b\"], [0.6666666666666666, \"#ed7953\"], [0.7777777777777778, \"#fb9f3a\"], [0.8888888888888888, \"#fdca26\"], [1.0, \"#f0f921\"]], \"type\": \"histogram2d\"}], \"histogram2dcontour\": [{\"colorbar\": {\"outlinewidth\": 0, \"ticks\": \"\"}, \"colorscale\": [[0.0, \"#0d0887\"], [0.1111111111111111, \"#46039f\"], [0.2222222222222222, \"#7201a8\"], [0.3333333333333333, \"#9c179e\"], [0.4444444444444444, \"#bd3786\"], [0.5555555555555556, \"#d8576b\"], [0.6666666666666666, \"#ed7953\"], [0.7777777777777778, \"#fb9f3a\"], [0.8888888888888888, \"#fdca26\"], [1.0, \"#f0f921\"]], \"type\": \"histogram2dcontour\"}], \"mesh3d\": [{\"colorbar\": {\"outlinewidth\": 0, \"ticks\": \"\"}, \"type\": \"mesh3d\"}], \"parcoords\": [{\"line\": {\"colorbar\": {\"outlinewidth\": 0, \"ticks\": \"\"}}, \"type\": \"parcoords\"}], \"pie\": [{\"automargin\": true, \"type\": \"pie\"}], \"scatter\": [{\"marker\": {\"colorbar\": {\"outlinewidth\": 0, \"ticks\": \"\"}}, \"type\": \"scatter\"}], \"scatter3d\": [{\"line\": {\"colorbar\": {\"outlinewidth\": 0, \"ticks\": \"\"}}, \"marker\": {\"colorbar\": {\"outlinewidth\": 0, \"ticks\": \"\"}}, \"type\": \"scatter3d\"}], \"scattercarpet\": [{\"marker\": {\"colorbar\": {\"outlinewidth\": 0, \"ticks\": \"\"}}, \"type\": \"scattercarpet\"}], \"scattergeo\": [{\"marker\": {\"colorbar\": {\"outlinewidth\": 0, \"ticks\": \"\"}}, \"type\": \"scattergeo\"}], \"scattergl\": [{\"marker\": {\"colorbar\": {\"outlinewidth\": 0, \"ticks\": \"\"}}, \"type\": \"scattergl\"}], \"scattermapbox\": [{\"marker\": {\"colorbar\": {\"outlinewidth\": 0, \"ticks\": \"\"}}, \"type\": \"scattermapbox\"}], \"scatterpolar\": [{\"marker\": {\"colorbar\": {\"outlinewidth\": 0, \"ticks\": \"\"}}, \"type\": \"scatterpolar\"}], \"scatterpolargl\": [{\"marker\": {\"colorbar\": {\"outlinewidth\": 0, \"ticks\": \"\"}}, \"type\": \"scatterpolargl\"}], \"scatterternary\": [{\"marker\": {\"colorbar\": {\"outlinewidth\": 0, \"ticks\": \"\"}}, \"type\": \"scatterternary\"}], \"surface\": [{\"colorbar\": {\"outlinewidth\": 0, \"ticks\": \"\"}, \"colorscale\": [[0.0, \"#0d0887\"], [0.1111111111111111, \"#46039f\"], [0.2222222222222222, \"#7201a8\"], [0.3333333333333333, \"#9c179e\"], [0.4444444444444444, \"#bd3786\"], [0.5555555555555556, \"#d8576b\"], [0.6666666666666666, \"#ed7953\"], [0.7777777777777778, \"#fb9f3a\"], [0.8888888888888888, \"#fdca26\"], [1.0, \"#f0f921\"]], \"type\": \"surface\"}], \"table\": [{\"cells\": {\"fill\": {\"color\": \"#EBF0F8\"}, \"line\": {\"color\": \"white\"}}, \"header\": {\"fill\": {\"color\": \"#C8D4E3\"}, \"line\": {\"color\": \"white\"}}, \"type\": \"table\"}]}, \"layout\": {\"annotationdefaults\": {\"arrowcolor\": \"#2a3f5f\", \"arrowhead\": 0, \"arrowwidth\": 1}, \"autotypenumbers\": \"strict\", \"coloraxis\": {\"colorbar\": {\"outlinewidth\": 0, \"ticks\": \"\"}}, \"colorscale\": {\"diverging\": [[0, \"#8e0152\"], [0.1, \"#c51b7d\"], [0.2, \"#de77ae\"], [0.3, \"#f1b6da\"], [0.4, \"#fde0ef\"], [0.5, \"#f7f7f7\"], [0.6, \"#e6f5d0\"], [0.7, \"#b8e186\"], [0.8, \"#7fbc41\"], [0.9, \"#4d9221\"], [1, \"#276419\"]], \"sequential\": [[0.0, \"#0d0887\"], [0.1111111111111111, \"#46039f\"], [0.2222222222222222, \"#7201a8\"], [0.3333333333333333, \"#9c179e\"], [0.4444444444444444, \"#bd3786\"], [0.5555555555555556, \"#d8576b\"], [0.6666666666666666, \"#ed7953\"], [0.7777777777777778, \"#fb9f3a\"], [0.8888888888888888, \"#fdca26\"], [1.0, \"#f0f921\"]], \"sequentialminus\": [[0.0, \"#0d0887\"], [0.1111111111111111, \"#46039f\"], [0.2222222222222222, \"#7201a8\"], [0.3333333333333333, \"#9c179e\"], [0.4444444444444444, \"#bd3786\"], [0.5555555555555556, \"#d8576b\"], [0.6666666666666666, \"#ed7953\"], [0.7777777777777778, \"#fb9f3a\"], [0.8888888888888888, \"#fdca26\"], [1.0, \"#f0f921\"]]}, \"colorway\": [\"#636efa\", \"#EF553B\", \"#00cc96\", \"#ab63fa\", \"#FFA15A\", \"#19d3f3\", \"#FF6692\", \"#B6E880\", \"#FF97FF\", \"#FECB52\"], \"font\": {\"color\": \"#2a3f5f\"}, \"geo\": {\"bgcolor\": \"white\", \"lakecolor\": \"white\", \"landcolor\": \"#E5ECF6\", \"showlakes\": true, \"showland\": true, \"subunitcolor\": \"white\"}, \"hoverlabel\": {\"align\": \"left\"}, \"hovermode\": \"closest\", \"mapbox\": {\"style\": \"light\"}, \"paper_bgcolor\": \"white\", \"plot_bgcolor\": \"#E5ECF6\", \"polar\": {\"angularaxis\": {\"gridcolor\": \"white\", \"linecolor\": \"white\", \"ticks\": \"\"}, \"bgcolor\": \"#E5ECF6\", \"radialaxis\": {\"gridcolor\": \"white\", \"linecolor\": \"white\", \"ticks\": \"\"}}, \"scene\": {\"xaxis\": {\"backgroundcolor\": \"#E5ECF6\", \"gridcolor\": \"white\", \"gridwidth\": 2, \"linecolor\": \"white\", \"showbackground\": true, \"ticks\": \"\", \"zerolinecolor\": \"white\"}, \"yaxis\": {\"backgroundcolor\": \"#E5ECF6\", \"gridcolor\": \"white\", \"gridwidth\": 2, \"linecolor\": \"white\", \"showbackground\": true, \"ticks\": \"\", \"zerolinecolor\": \"white\"}, \"zaxis\": {\"backgroundcolor\": \"#E5ECF6\", \"gridcolor\": \"white\", \"gridwidth\": 2, \"linecolor\": \"white\", \"showbackground\": true, \"ticks\": \"\", \"zerolinecolor\": \"white\"}}, \"shapedefaults\": {\"line\": {\"color\": \"#2a3f5f\"}}, \"ternary\": {\"aaxis\": {\"gridcolor\": \"white\", \"linecolor\": \"white\", \"ticks\": \"\"}, \"baxis\": {\"gridcolor\": \"white\", \"linecolor\": \"white\", \"ticks\": \"\"}, \"bgcolor\": \"#E5ECF6\", \"caxis\": {\"gridcolor\": \"white\", \"linecolor\": \"white\", \"ticks\": \"\"}}, \"title\": {\"x\": 0.05}, \"xaxis\": {\"automargin\": true, \"gridcolor\": \"white\", \"linecolor\": \"white\", \"ticks\": \"\", \"title\": {\"standoff\": 15}, \"zerolinecolor\": \"white\", \"zerolinewidth\": 2}, \"yaxis\": {\"automargin\": true, \"gridcolor\": \"white\", \"linecolor\": \"white\", \"ticks\": \"\", \"title\": {\"standoff\": 15}, \"zerolinecolor\": \"white\", \"zerolinewidth\": 2}}}, \"xaxis\": {\"anchor\": \"y\", \"domain\": [0.0, 1.0], \"title\": {\"text\": \"Deck\"}}, \"yaxis\": {\"anchor\": \"x\", \"domain\": [0.0, 1.0], \"title\": {\"text\": \"count\"}}},                        {\"responsive\": true}                    ).then(function(){\n",
       "                            \n",
       "var gd = document.getElementById('3343d9f5-c42b-4ea5-9300-81764300941c');\n",
       "var x = new MutationObserver(function (mutations, observer) {{\n",
       "        var display = window.getComputedStyle(gd).display;\n",
       "        if (!display || display === 'none') {{\n",
       "            console.log([gd, 'removed!']);\n",
       "            Plotly.purge(gd);\n",
       "            observer.disconnect();\n",
       "        }}\n",
       "}});\n",
       "\n",
       "// Listen for the removal of the full notebook cells\n",
       "var notebookContainer = gd.closest('#notebook-container');\n",
       "if (notebookContainer) {{\n",
       "    x.observe(notebookContainer, {childList: true});\n",
       "}}\n",
       "\n",
       "// Listen for the clearing of the current output cell\n",
       "var outputEl = gd.closest('.output');\n",
       "if (outputEl) {{\n",
       "    x.observe(outputEl, {childList: true});\n",
       "}}\n",
       "\n",
       "                        })                };                });            </script>        </div>"
      ]
     },
     "metadata": {},
     "output_type": "display_data"
    }
   ],
   "source": [
    "dfplt = df.copy(deep=True)\n",
    "dfplt[\"Survived\"] = dfplt[\"Survived\"].astype(str)\n",
    "dfplt = dfplt[dfplt[\"Deck\"]!=\"N/A\"]\n",
    "fig = px.histogram(dfplt, x=\"Deck\",color=\"Survived\",\n",
    "                   color_discrete_sequence=cm)\n",
    "fig.show()"
   ]
  },
  {
   "cell_type": "markdown",
   "metadata": {
    "_cell_guid": "c45aee6d-53bc-4f78-acfc-64cb4f5ee631",
    "_uuid": "ee62d350-4215-431e-a2bd-aa6a1d6952cf",
    "papermill": {
     "duration": 0.060745,
     "end_time": "2022-07-11T06:08:13.380623",
     "exception": false,
     "start_time": "2022-07-11T06:08:13.319878",
     "status": "completed"
    },
    "tags": []
   },
   "source": [
    "What we can see from such graphs:\n",
    "*     Only one PassengerId have been on the Deck T - and he is in train set, so we can drop the \"T\" value\n",
    "*     There ara some dependancies between surviving rate and the Deck number:\n",
    "\n",
    "|deck|died|survived|ratio|\n",
    "|:--:|:--:|:------:|:---:|\n",
    "|C   |24  |35      |0.4  |\n",
    "|G   |2   |2       |0.5  |\n",
    "|D   |8   |25      |0.24 |\n",
    "|A   |8   |7       |0.53 |\n",
    "|B   |12  |35      |0.26 |\n",
    "|F   |5   |8       |0.38 |\n",
    "|E   |8   |24      |0.25 |\n",
    "        \n",
    "In this case - we can put such new features into the model and encode them."
   ]
  },
  {
   "cell_type": "code",
   "execution_count": 7,
   "metadata": {
    "_cell_guid": "556a5031-69bb-42e7-8f5c-f2f221bcefad",
    "_uuid": "76f56537-1e67-4029-8b5a-4524dcdb3430",
    "collapsed": false,
    "execution": {
     "iopub.execute_input": "2022-07-11T06:08:13.510062Z",
     "iopub.status.busy": "2022-07-11T06:08:13.509436Z",
     "iopub.status.idle": "2022-07-11T06:08:13.512146Z",
     "shell.execute_reply": "2022-07-11T06:08:13.511608Z"
    },
    "jupyter": {
     "outputs_hidden": false
    },
    "papermill": {
     "duration": 0.070547,
     "end_time": "2022-07-11T06:08:13.512306",
     "exception": false,
     "start_time": "2022-07-11T06:08:13.441759",
     "status": "completed"
    },
    "tags": []
   },
   "outputs": [],
   "source": [
    "df.loc[df[\"Deck\"]=='T',\"Deck\"] = 'N/A'"
   ]
  },
  {
   "cell_type": "markdown",
   "metadata": {
    "_cell_guid": "d52f81b3-2441-428f-be6e-0647f2db270e",
    "_uuid": "7b11b92e-1041-4633-898b-4e36fe2a288a",
    "papermill": {
     "duration": 0.060817,
     "end_time": "2022-07-11T06:08:13.634446",
     "exception": false,
     "start_time": "2022-07-11T06:08:13.573629",
     "status": "completed"
    },
    "tags": []
   },
   "source": [
    "### <a class=\"anchor\" id=\"1.1.2_bullet\" style=\"color:#3B61A3\"> 1.1.2 Cabin numbers analisys\n",
    "Some of the passangers have shared several cabins - thay may have the same cabin number or leave in 3 of 4 cabins at the same time (families). But actually not only families or reletives shared cabins, but some collegues, friends etc. In this case i will try to create a features, which will describe the location of passangers, linked to there Cabin number.\n",
    "\n",
    "Some of the cabins has ambiquouse values - i will hardcode them - giving maximum values to multiple cabins \n",
    "for a passanger. Or just rename them is several other ways, according to the Deck plans from https://www.encyclopedia-titanica.org/titanic-deckplans/"
   ]
  },
  {
   "cell_type": "code",
   "execution_count": 8,
   "metadata": {
    "_cell_guid": "50fd1102-27a0-467d-a58c-6196ef5902c5",
    "_uuid": "c859d9e8-19a9-4993-bd35-2a34069eb08c",
    "collapsed": false,
    "execution": {
     "iopub.execute_input": "2022-07-11T06:08:13.768317Z",
     "iopub.status.busy": "2022-07-11T06:08:13.765307Z",
     "iopub.status.idle": "2022-07-11T06:08:13.775729Z",
     "shell.execute_reply": "2022-07-11T06:08:13.776262Z"
    },
    "jupyter": {
     "outputs_hidden": false
    },
    "papermill": {
     "duration": 0.08081,
     "end_time": "2022-07-11T06:08:13.776457",
     "exception": false,
     "start_time": "2022-07-11T06:08:13.695647",
     "status": "completed"
    },
    "tags": []
   },
   "outputs": [],
   "source": [
    "replaces = {'B51 B53 B55': 'B55', 'B52 B54 B56': 'B56', 'B57 B59 B63 B66': 'B66', 'B58 B60': 'B60', \n",
    "            'B82 B84': 'B84', 'B96 B98': 'B98', 'C22 C26': 'C26', 'C23 C25 C27': 'C27', 'C55 C57': 'C57',\n",
    "            'C62 C64': 'C64', 'D10 D12': 'D12', 'E39 E41': 'E41', 'F E46': 'E46', 'F E57': 'E57',\n",
    "            'F E69': 'E69', 'F G63': 'G63', 'F G73': 'G73', 'F': None, 'D': None, ' ': None, 'T': None, np.nan: None}\n",
    "df[\"Cabin\"] = df[\"Cabin\"].replace(replaces)\n",
    "df[\"Cabin\"] = df.fillna(np.nan)[\"Cabin\"].str[1:].astype(float)"
   ]
  },
  {
   "cell_type": "code",
   "execution_count": 9,
   "metadata": {
    "_cell_guid": "f2c6157a-ed4b-4329-a553-1825e61365bb",
    "_uuid": "cb10a404-c348-41ec-a746-820e6862b2d2",
    "collapsed": false,
    "execution": {
     "iopub.execute_input": "2022-07-11T06:08:13.919110Z",
     "iopub.status.busy": "2022-07-11T06:08:13.906617Z",
     "iopub.status.idle": "2022-07-11T06:08:13.988196Z",
     "shell.execute_reply": "2022-07-11T06:08:13.987555Z"
    },
    "jupyter": {
     "outputs_hidden": false
    },
    "papermill": {
     "duration": 0.148712,
     "end_time": "2022-07-11T06:08:13.988357",
     "exception": false,
     "start_time": "2022-07-11T06:08:13.839645",
     "status": "completed"
    },
    "tags": []
   },
   "outputs": [
    {
     "data": {
      "text/html": [
       "<div>                            <div id=\"047b4d4a-05e3-403f-8377-dff738c187e5\" class=\"plotly-graph-div\" style=\"height:300px; width:100%;\"></div>            <script type=\"text/javascript\">                require([\"plotly\"], function(Plotly) {                    window.PLOTLYENV=window.PLOTLYENV || {};                                    if (document.getElementById(\"047b4d4a-05e3-403f-8377-dff738c187e5\")) {                    Plotly.newPlot(                        \"047b4d4a-05e3-403f-8377-dff738c187e5\",                        [{\"alignmentgroup\": \"True\", \"bingroup\": \"x\", \"hovertemplate\": \"Survived=0.0<br>Cabin=%{x}<br>count=%{y}<extra></extra>\", \"legendgroup\": \"0.0\", \"marker\": {\"color\": \"#273176\"}, \"name\": \"0.0\", \"offsetgroup\": \"0.0\", \"orientation\": \"v\", \"showlegend\": true, \"type\": \"histogram\", \"x\": [null, null, null, 46.0, null, null, null, null, null, null, null, null, null, 27.0, null, null, null, null, null, null, null, null, null, null, null, null, null, null, null, null, 30.0, null, null, null, 83.0, null, null, null, null, null, null, null, null, 73.0, null, null, null, null, null, null, null, null, null, 31.0, null, null, null, 5.0, null, null, null, 26.0, null, null, null, null, 110.0, null, null, null, null, null, null, null, 60.0, null, null, null, null, 26.0, null, null, null, null, null, null, null, 123.0, null, 86.0, null, null, null, null, null, 2.0, null, null, null, null, null, null, null, null, null, null, null, null, null, null, null, null, 19.0, null, null, 7.0, null, null, 49.0, null, null, null, null, null, 32.0, null, null, null, null, null, null, null, null, null, null, 6.0, null, null, null, null, null, null, null, null, null, null, null, null, null, null, null, null, null, null, null, null, null, null, null, null, null, 78.0, null, null, null, 6.0, 87.0, null, null, null, 67.0, 94.0, null, null, null, null, 118.0, null, null, null, null, null, null, 19.0, null, null, null, null, null, null, null, 26.0, null, null, null, null, null, null, null, null, null, null, null, 124.0, 91.0, null, null, 2.0, null, null, null, null, null, null, 128.0, null, null, null, null, null, null, null, null, null, null, null, null, null, null, null, 82.0, null, null, null, null, null, null, null, null, null, null, null, null, null, null, null, null, null, null, null, null, null, null, null, null, null, null, null, null, null, null, null, null, null, null, 44.0, null, 27.0, null, null, null, null, null, 111.0, null, 38.0, null, null, 63.0, null, null, null, null, null, null, null, null, null, 14.0, null, null, null, null, null, null, null, 37.0, null, null, null, 30.0, null, null, null, null, 26.0, null, null, null, null, null, 65.0, null, null, null, 46.0, null, null, null, null, null, null, 95.0, null, null, null, null, null, 38.0, null, null, null, 86.0, null, null, null, null, null, null, null, null, null, null, null, null, null, null, null, null, null, null, null, 10.0, null, null, null, null, null, null, null, null, null, null, null, null, null, null, null, null, null, null, null, null, null, null, null, null, null, null, 50.0, null, null, null, null, null, null, null, null, null, null, null, null, null, null, null, null, null, null, null, null, null, 48.0, null, 58.0, null, null, null, null, null, 71.0, null, null, null, null, null, null, null, null, null, null, null, null, null, null, null, null, null, 68.0, 63.0, null, null, null, null, 124.0, null, null, 73.0, null, null, null, null, null, null, null, null, null, null, null, null, null, null, null, null, 46.0, null, 22.0, null, 30.0, null, null, null, null, null, null, null, null, null, null, null, null, null, null, null, 77.0, null, null, 38.0, null, 6.0, null, null, null, null, 84.0, null, null, null, null, null, null, null, null, null, null, 36.0, null, null, null, null, null, null, null, 102.0, null, null, null, null, null, null, null, null, null, null, null, null, null, null, null, null, null, null, null, null, null, null, null, null, null, null, null, null, null, null, 24.0, null, null, 55.0, null, null, null, null, null, null, null, null, null, null, null, null], \"xaxis\": \"x\", \"yaxis\": \"y\"}, {\"alignmentgroup\": \"True\", \"bingroup\": \"x\", \"hovertemplate\": \"Survived=1.0<br>Cabin=%{x}<br>count=%{y}<extra></extra>\", \"legendgroup\": \"1.0\", \"marker\": {\"color\": \"#3B61A3\"}, \"name\": \"1.0\", \"offsetgroup\": \"1.0\", \"orientation\": \"v\", \"showlegend\": true, \"type\": \"histogram\", \"x\": [85.0, null, 123.0, null, null, 6.0, 103.0, null, null, null, 56.0, null, 6.0, null, null, 78.0, null, null, null, null, null, null, 33.0, null, 52.0, null, null, 28.0, null, 33.0, null, null, null, null, null, null, null, null, 27.0, 12.0, null, null, null, null, 101.0, null, null, 69.0, null, 47.0, null, null, null, 2.0, null, null, null, 33.0, null, 4.0, null, null, null, null, null, 2.0, 4.0, 80.0, null, null, null, null, 31.0, null, 36.0, null, 15.0, null, 93.0, null, 83.0, null, null, null, null, 35.0, null, null, 77.0, null, null, null, null, 125.0, 99.0, null, null, null, 7.0, null, null, null, null, null, null, 49.0, 106.0, 60.0, null, null, 101.0, 26.0, null, 65.0, 36.0, 54.0, 66.0, null, null, 7.0, 34.0, null, null, 32.0, null, null, 18.0, null, null, 40.0, null, 2.0, 27.0, 33.0, null, null, null, 33.0, null, null, 37.0, null, null, 35.0, 50.0, null, null, null, null, null, null, null, 98.0, null, 36.0, 6.0, null, null, null, 78.0, null, null, null, null, null, 10.0, 52.0, null, null, 98.0, null, null, null, null, 34.0, null, null, null, 104.0, 92.0, null, 21.0, null, 12.0, null, null, null, null, null, 49.0, 93.0, null, 20.0, 79.0, null, null, null, null, 25.0, null, 33.0, null, 73.0, 18.0, null, null, null, null, null, 39.0, 22.0, null, null, null, null, 70.0, null, null, 16.0, 67.0, null, null, null, 101.0, 25.0, null, null, 44.0, null, null, 68.0, 68.0, 41.0, 20.0, null, 20.0, null, null, null, null, 125.0, null, null, 4.0, 19.0, null, 9.0, 23.0, 50.0, null, 35.0, null, null, 33.0, 26.0, null, null, null, null, null, 126.0, null, null, null, 55.0, 49.0, 5.0, 20.0, null, null, null, 64.0, 24.0, null, 24.0, null, null, 90.0, 126.0, 45.0, 101.0, null, 8.0, null, null, 5.0, 101.0, 45.0, 66.0, null, null, null, 121.0, null, null, 77.0, null, 98.0, 11.0, null, null, 3.0, null, 20.0, null, null, 17.0, null, null, 98.0, null, null, 8.0, 69.0, null, 121.0, null, null, 28.0, null, null, 49.0, null, 47.0, null, 92.0, 28.0, null, null, 17.0, null, 17.0, null, null, null, 35.0, null, null, 50.0, null, 42.0, 148.0], \"xaxis\": \"x\", \"yaxis\": \"y\"}, {\"alignmentgroup\": \"True\", \"bingroup\": \"x\", \"hovertemplate\": \"Survived=nan<br>Cabin=%{x}<br>count=%{y}<extra></extra>\", \"legendgroup\": \"nan\", \"marker\": {\"color\": \"#76A4AC\"}, \"name\": \"nan\", \"offsetgroup\": \"nan\", \"orientation\": \"v\", \"showlegend\": true, \"type\": \"histogram\", \"x\": [null, null, null, null, null, null, null, null, null, null, null, null, 45.0, null, 31.0, null, null, null, null, null, null, null, null, null, 66.0, null, 36.0, null, 21.0, null, null, null, null, null, 78.0, null, null, null, null, null, null, 34.0, null, null, 19.0, null, 9.0, null, 15.0, null, 31.0, null, null, 27.0, null, null, null, 63.0, null, 61.0, null, null, null, null, 66.0, null, null, null, 53.0, 27.0, null, null, null, 43.0, 130.0, 132.0, null, 101.0, null, null, null, 57.0, null, null, null, null, null, null, null, null, null, null, 71.0, null, null, null, 46.0, null, null, null, 116.0, null, null, null, null, null, null, null, null, null, null, null, 29.0, null, 57.0, null, null, 6.0, 6.0, null, null, null, 28.0, null, null, null, null, null, null, null, null, 51.0, null, null, null, null, null, null, null, null, null, null, 66.0, null, null, null, 46.0, null, null, null, 54.0, null, null, null, null, null, 97.0, null, 22.0, null, null, null, null, null, null, null, 10.0, null, null, null, null, null, null, null, null, null, null, 116.0, 4.0, 45.0, null, 52.0, 30.0, null, 60.0, null, null, null, null, null, null, null, null, null, null, null, 34.0, null, null, null, null, null, 64.0, null, null, null, null, null, 11.0, null, null, null, null, null, null, 11.0, null, null, 80.0, null, null, null, 33.0, null, null, null, null, null, null, null, null, null, null, null, 85.0, null, 37.0, null, null, 86.0, null, null, 34.0, null, null, 21.0, null, null, null, null, null, null, 89.0, null, null, null, null, null, null, null, null, null, null, null, null, null, null, null, null, null, 6.0, null, 89.0, null, null, null, null, null, null, null, null, null, null, null, null, null, null, 45.0, 46.0, null, null, null, null, 34.0, null, null, null, null, null, null, null, null, null, null, null, 26.0, 26.0, null, 69.0, null, null, null, null, null, 32.0, null, 78.0, null, null, null, null, 57.0, 2.0, null, null, null, 4.0, null, null, null, null, 18.0, null, null, null, 106.0, null, null, null, null, null, null, null, 55.0, null, null, null, null, null, null, 12.0, null, null, null, null, 60.0, 101.0, null, null, null, null, null, null, null, 50.0, null, null, null, null, null, null, 41.0, 56.0, null, 34.0, null, null, null, 39.0, null, null, null, null, null, null, null, null, null, null, null, 24.0, 28.0, null, null, null, 31.0, null, 41.0, null, null, 7.0, null, null, null, 40.0, 38.0, null, 80.0, null, null, null, 78.0, null, null, 105.0, null, null, null], \"xaxis\": \"x\", \"yaxis\": \"y\"}],                        {\"barmode\": \"relative\", \"height\": 300, \"legend\": {\"title\": {\"text\": \"Survived\"}, \"tracegroupgap\": 0}, \"margin\": {\"t\": 60}, \"template\": {\"data\": {\"bar\": [{\"error_x\": {\"color\": \"#2a3f5f\"}, \"error_y\": {\"color\": \"#2a3f5f\"}, \"marker\": {\"line\": {\"color\": \"#E5ECF6\", \"width\": 0.5}}, \"type\": \"bar\"}], \"barpolar\": [{\"marker\": {\"line\": {\"color\": \"#E5ECF6\", \"width\": 0.5}}, \"type\": \"barpolar\"}], \"carpet\": [{\"aaxis\": {\"endlinecolor\": \"#2a3f5f\", \"gridcolor\": \"white\", \"linecolor\": \"white\", \"minorgridcolor\": \"white\", \"startlinecolor\": \"#2a3f5f\"}, \"baxis\": {\"endlinecolor\": \"#2a3f5f\", \"gridcolor\": \"white\", \"linecolor\": \"white\", \"minorgridcolor\": \"white\", \"startlinecolor\": \"#2a3f5f\"}, \"type\": \"carpet\"}], \"choropleth\": [{\"colorbar\": {\"outlinewidth\": 0, \"ticks\": \"\"}, \"type\": \"choropleth\"}], \"contour\": [{\"colorbar\": {\"outlinewidth\": 0, \"ticks\": \"\"}, \"colorscale\": [[0.0, \"#0d0887\"], [0.1111111111111111, \"#46039f\"], [0.2222222222222222, \"#7201a8\"], [0.3333333333333333, \"#9c179e\"], [0.4444444444444444, \"#bd3786\"], [0.5555555555555556, \"#d8576b\"], [0.6666666666666666, \"#ed7953\"], [0.7777777777777778, \"#fb9f3a\"], [0.8888888888888888, \"#fdca26\"], [1.0, \"#f0f921\"]], \"type\": \"contour\"}], \"contourcarpet\": [{\"colorbar\": {\"outlinewidth\": 0, \"ticks\": \"\"}, \"type\": \"contourcarpet\"}], \"heatmap\": [{\"colorbar\": {\"outlinewidth\": 0, \"ticks\": \"\"}, \"colorscale\": [[0.0, \"#0d0887\"], [0.1111111111111111, \"#46039f\"], [0.2222222222222222, \"#7201a8\"], [0.3333333333333333, \"#9c179e\"], [0.4444444444444444, \"#bd3786\"], [0.5555555555555556, \"#d8576b\"], [0.6666666666666666, \"#ed7953\"], [0.7777777777777778, \"#fb9f3a\"], [0.8888888888888888, \"#fdca26\"], [1.0, \"#f0f921\"]], \"type\": \"heatmap\"}], \"heatmapgl\": [{\"colorbar\": {\"outlinewidth\": 0, \"ticks\": \"\"}, \"colorscale\": [[0.0, \"#0d0887\"], [0.1111111111111111, \"#46039f\"], [0.2222222222222222, \"#7201a8\"], [0.3333333333333333, \"#9c179e\"], [0.4444444444444444, \"#bd3786\"], [0.5555555555555556, \"#d8576b\"], [0.6666666666666666, \"#ed7953\"], [0.7777777777777778, \"#fb9f3a\"], [0.8888888888888888, \"#fdca26\"], [1.0, \"#f0f921\"]], \"type\": \"heatmapgl\"}], \"histogram\": [{\"marker\": {\"colorbar\": {\"outlinewidth\": 0, \"ticks\": \"\"}}, \"type\": \"histogram\"}], \"histogram2d\": [{\"colorbar\": {\"outlinewidth\": 0, \"ticks\": \"\"}, \"colorscale\": [[0.0, \"#0d0887\"], [0.1111111111111111, \"#46039f\"], [0.2222222222222222, \"#7201a8\"], [0.3333333333333333, \"#9c179e\"], [0.4444444444444444, \"#bd3786\"], [0.5555555555555556, \"#d8576b\"], [0.6666666666666666, \"#ed7953\"], [0.7777777777777778, \"#fb9f3a\"], [0.8888888888888888, \"#fdca26\"], [1.0, \"#f0f921\"]], \"type\": \"histogram2d\"}], \"histogram2dcontour\": [{\"colorbar\": {\"outlinewidth\": 0, \"ticks\": \"\"}, \"colorscale\": [[0.0, \"#0d0887\"], [0.1111111111111111, \"#46039f\"], [0.2222222222222222, \"#7201a8\"], [0.3333333333333333, \"#9c179e\"], [0.4444444444444444, \"#bd3786\"], [0.5555555555555556, \"#d8576b\"], [0.6666666666666666, \"#ed7953\"], [0.7777777777777778, \"#fb9f3a\"], [0.8888888888888888, \"#fdca26\"], [1.0, \"#f0f921\"]], \"type\": \"histogram2dcontour\"}], \"mesh3d\": [{\"colorbar\": {\"outlinewidth\": 0, \"ticks\": \"\"}, \"type\": \"mesh3d\"}], \"parcoords\": [{\"line\": {\"colorbar\": {\"outlinewidth\": 0, \"ticks\": \"\"}}, \"type\": \"parcoords\"}], \"pie\": [{\"automargin\": true, \"type\": \"pie\"}], \"scatter\": [{\"marker\": {\"colorbar\": {\"outlinewidth\": 0, \"ticks\": \"\"}}, \"type\": \"scatter\"}], \"scatter3d\": [{\"line\": {\"colorbar\": {\"outlinewidth\": 0, \"ticks\": \"\"}}, \"marker\": {\"colorbar\": {\"outlinewidth\": 0, \"ticks\": \"\"}}, \"type\": \"scatter3d\"}], \"scattercarpet\": [{\"marker\": {\"colorbar\": {\"outlinewidth\": 0, \"ticks\": \"\"}}, \"type\": \"scattercarpet\"}], \"scattergeo\": [{\"marker\": {\"colorbar\": {\"outlinewidth\": 0, \"ticks\": \"\"}}, \"type\": \"scattergeo\"}], \"scattergl\": [{\"marker\": {\"colorbar\": {\"outlinewidth\": 0, \"ticks\": \"\"}}, \"type\": \"scattergl\"}], \"scattermapbox\": [{\"marker\": {\"colorbar\": {\"outlinewidth\": 0, \"ticks\": \"\"}}, \"type\": \"scattermapbox\"}], \"scatterpolar\": [{\"marker\": {\"colorbar\": {\"outlinewidth\": 0, \"ticks\": \"\"}}, \"type\": \"scatterpolar\"}], \"scatterpolargl\": [{\"marker\": {\"colorbar\": {\"outlinewidth\": 0, \"ticks\": \"\"}}, \"type\": \"scatterpolargl\"}], \"scatterternary\": [{\"marker\": {\"colorbar\": {\"outlinewidth\": 0, \"ticks\": \"\"}}, \"type\": \"scatterternary\"}], \"surface\": [{\"colorbar\": {\"outlinewidth\": 0, \"ticks\": \"\"}, \"colorscale\": [[0.0, \"#0d0887\"], [0.1111111111111111, \"#46039f\"], [0.2222222222222222, \"#7201a8\"], [0.3333333333333333, \"#9c179e\"], [0.4444444444444444, \"#bd3786\"], [0.5555555555555556, \"#d8576b\"], [0.6666666666666666, \"#ed7953\"], [0.7777777777777778, \"#fb9f3a\"], [0.8888888888888888, \"#fdca26\"], [1.0, \"#f0f921\"]], \"type\": \"surface\"}], \"table\": [{\"cells\": {\"fill\": {\"color\": \"#EBF0F8\"}, \"line\": {\"color\": \"white\"}}, \"header\": {\"fill\": {\"color\": \"#C8D4E3\"}, \"line\": {\"color\": \"white\"}}, \"type\": \"table\"}]}, \"layout\": {\"annotationdefaults\": {\"arrowcolor\": \"#2a3f5f\", \"arrowhead\": 0, \"arrowwidth\": 1}, \"autotypenumbers\": \"strict\", \"coloraxis\": {\"colorbar\": {\"outlinewidth\": 0, \"ticks\": \"\"}}, \"colorscale\": {\"diverging\": [[0, \"#8e0152\"], [0.1, \"#c51b7d\"], [0.2, \"#de77ae\"], [0.3, \"#f1b6da\"], [0.4, \"#fde0ef\"], [0.5, \"#f7f7f7\"], [0.6, \"#e6f5d0\"], [0.7, \"#b8e186\"], [0.8, \"#7fbc41\"], [0.9, \"#4d9221\"], [1, \"#276419\"]], \"sequential\": [[0.0, \"#0d0887\"], [0.1111111111111111, \"#46039f\"], [0.2222222222222222, \"#7201a8\"], [0.3333333333333333, \"#9c179e\"], [0.4444444444444444, \"#bd3786\"], [0.5555555555555556, \"#d8576b\"], [0.6666666666666666, \"#ed7953\"], [0.7777777777777778, \"#fb9f3a\"], [0.8888888888888888, \"#fdca26\"], [1.0, \"#f0f921\"]], \"sequentialminus\": [[0.0, \"#0d0887\"], [0.1111111111111111, \"#46039f\"], [0.2222222222222222, \"#7201a8\"], [0.3333333333333333, \"#9c179e\"], [0.4444444444444444, \"#bd3786\"], [0.5555555555555556, \"#d8576b\"], [0.6666666666666666, \"#ed7953\"], [0.7777777777777778, \"#fb9f3a\"], [0.8888888888888888, \"#fdca26\"], [1.0, \"#f0f921\"]]}, \"colorway\": [\"#636efa\", \"#EF553B\", \"#00cc96\", \"#ab63fa\", \"#FFA15A\", \"#19d3f3\", \"#FF6692\", \"#B6E880\", \"#FF97FF\", \"#FECB52\"], \"font\": {\"color\": \"#2a3f5f\"}, \"geo\": {\"bgcolor\": \"white\", \"lakecolor\": \"white\", \"landcolor\": \"#E5ECF6\", \"showlakes\": true, \"showland\": true, \"subunitcolor\": \"white\"}, \"hoverlabel\": {\"align\": \"left\"}, \"hovermode\": \"closest\", \"mapbox\": {\"style\": \"light\"}, \"paper_bgcolor\": \"white\", \"plot_bgcolor\": \"#E5ECF6\", \"polar\": {\"angularaxis\": {\"gridcolor\": \"white\", \"linecolor\": \"white\", \"ticks\": \"\"}, \"bgcolor\": \"#E5ECF6\", \"radialaxis\": {\"gridcolor\": \"white\", \"linecolor\": \"white\", \"ticks\": \"\"}}, \"scene\": {\"xaxis\": {\"backgroundcolor\": \"#E5ECF6\", \"gridcolor\": \"white\", \"gridwidth\": 2, \"linecolor\": \"white\", \"showbackground\": true, \"ticks\": \"\", \"zerolinecolor\": \"white\"}, \"yaxis\": {\"backgroundcolor\": \"#E5ECF6\", \"gridcolor\": \"white\", \"gridwidth\": 2, \"linecolor\": \"white\", \"showbackground\": true, \"ticks\": \"\", \"zerolinecolor\": \"white\"}, \"zaxis\": {\"backgroundcolor\": \"#E5ECF6\", \"gridcolor\": \"white\", \"gridwidth\": 2, \"linecolor\": \"white\", \"showbackground\": true, \"ticks\": \"\", \"zerolinecolor\": \"white\"}}, \"shapedefaults\": {\"line\": {\"color\": \"#2a3f5f\"}}, \"ternary\": {\"aaxis\": {\"gridcolor\": \"white\", \"linecolor\": \"white\", \"ticks\": \"\"}, \"baxis\": {\"gridcolor\": \"white\", \"linecolor\": \"white\", \"ticks\": \"\"}, \"bgcolor\": \"#E5ECF6\", \"caxis\": {\"gridcolor\": \"white\", \"linecolor\": \"white\", \"ticks\": \"\"}}, \"title\": {\"x\": 0.05}, \"xaxis\": {\"automargin\": true, \"gridcolor\": \"white\", \"linecolor\": \"white\", \"ticks\": \"\", \"title\": {\"standoff\": 15}, \"zerolinecolor\": \"white\", \"zerolinewidth\": 2}, \"yaxis\": {\"automargin\": true, \"gridcolor\": \"white\", \"linecolor\": \"white\", \"ticks\": \"\", \"title\": {\"standoff\": 15}, \"zerolinecolor\": \"white\", \"zerolinewidth\": 2}}}, \"xaxis\": {\"anchor\": \"y\", \"domain\": [0.0, 1.0], \"title\": {\"text\": \"Cabin\"}}, \"yaxis\": {\"anchor\": \"x\", \"domain\": [0.0, 1.0], \"title\": {\"text\": \"count\"}}},                        {\"responsive\": true}                    ).then(function(){\n",
       "                            \n",
       "var gd = document.getElementById('047b4d4a-05e3-403f-8377-dff738c187e5');\n",
       "var x = new MutationObserver(function (mutations, observer) {{\n",
       "        var display = window.getComputedStyle(gd).display;\n",
       "        if (!display || display === 'none') {{\n",
       "            console.log([gd, 'removed!']);\n",
       "            Plotly.purge(gd);\n",
       "            observer.disconnect();\n",
       "        }}\n",
       "}});\n",
       "\n",
       "// Listen for the removal of the full notebook cells\n",
       "var notebookContainer = gd.closest('#notebook-container');\n",
       "if (notebookContainer) {{\n",
       "    x.observe(notebookContainer, {childList: true});\n",
       "}}\n",
       "\n",
       "// Listen for the clearing of the current output cell\n",
       "var outputEl = gd.closest('.output');\n",
       "if (outputEl) {{\n",
       "    x.observe(outputEl, {childList: true});\n",
       "}}\n",
       "\n",
       "                        })                };                });            </script>        </div>"
      ]
     },
     "metadata": {},
     "output_type": "display_data"
    }
   ],
   "source": [
    "dfplt = df.copy(deep=True)\n",
    "dfplt[\"Survived\"] = dfplt[\"Survived\"].astype(str)\n",
    "fig = px.histogram(dfplt, x=\"Cabin\",color=\"Survived\", height=300,\n",
    "                   color_discrete_sequence=cm)\n",
    "fig.show()"
   ]
  },
  {
   "cell_type": "markdown",
   "metadata": {
    "_cell_guid": "34c4b6e8-8ce3-488b-a7ab-b9d2362de7a3",
    "_uuid": "cb9bb37c-8b54-4f05-b05f-76f6ad3f98ae",
    "papermill": {
     "duration": 0.061479,
     "end_time": "2022-07-11T06:08:14.111975",
     "exception": false,
     "start_time": "2022-07-11T06:08:14.050496",
     "status": "completed"
    },
    "tags": []
   },
   "source": [
    "We can see that there is no accurate dependency between Cabin number and the Survival in general - maby it can work on connection with some other features. Some extra information we can take from the Cabin number - is the Side of the ship (left or right) ,according to the even or odd number of it. The side of the ship can effect much on the serviving rate."
   ]
  },
  {
   "cell_type": "code",
   "execution_count": 10,
   "metadata": {
    "_cell_guid": "7637a5db-d796-4aa7-8630-57fb2dd2d927",
    "_uuid": "0986fef2-98be-4abc-b622-45eac9255f9e",
    "collapsed": false,
    "execution": {
     "iopub.execute_input": "2022-07-11T06:08:14.241390Z",
     "iopub.status.busy": "2022-07-11T06:08:14.240475Z",
     "iopub.status.idle": "2022-07-11T06:08:14.254951Z",
     "shell.execute_reply": "2022-07-11T06:08:14.255568Z"
    },
    "jupyter": {
     "outputs_hidden": false
    },
    "papermill": {
     "duration": 0.080927,
     "end_time": "2022-07-11T06:08:14.255740",
     "exception": false,
     "start_time": "2022-07-11T06:08:14.174813",
     "status": "completed"
    },
    "tags": []
   },
   "outputs": [
    {
     "name": "stdout",
     "output_type": "stream",
     "text": [
      "Survived for side 1\t 0.5076923076923077\n",
      "Survived for side -1\t 0.4276729559748428\n"
     ]
    }
   ],
   "source": [
    "df[\"Side\"] = df[\"Cabin\"]\n",
    "df.loc[df[\"Side\"]!=0,\"Side\"] = (df[\"Cabin\"][df[\"Cabin\"]!=0]%2-0.5)*2\n",
    "\n",
    "s = df[df[\"Side\"]==1]\n",
    "print(f'Survived for side 1\\t {len(s[s[\"Survived\"]==1])/len(s)}')\n",
    "s = df[df[\"Side\"]==-1]\n",
    "print(f'Survived for side -1\\t {len(s[s[\"Survived\"]==1])/len(s)}')"
   ]
  },
  {
   "cell_type": "markdown",
   "metadata": {
    "_cell_guid": "18a17eef-9d17-4e23-8c68-fe83161575df",
    "_uuid": "6773376d-31ac-47df-aaba-14e5de786bbe",
    "papermill": {
     "duration": 0.062508,
     "end_time": "2022-07-11T06:08:14.380927",
     "exception": false,
     "start_time": "2022-07-11T06:08:14.318419",
     "status": "completed"
    },
    "tags": []
   },
   "source": [
    "As we can see - passangers survived more often, living on the 1, then on the side -1\n",
    "\n",
    "To fill the missing values for \"Cabin\", we will put median values for all passangers in specific Decks.\n",
    "Before this, we will devide number of the Cabin by two - because the \"side\" location has been already taken from the data.\n",
    "If Deck number is unknown - we will just mark Cabin as -1 - mwaning \"Unknown\""
   ]
  },
  {
   "cell_type": "code",
   "execution_count": 11,
   "metadata": {
    "_cell_guid": "1608909e-1b08-4dcc-8887-7a6e58f8de09",
    "_uuid": "6a23462d-d394-49f7-9d2b-308b42752688",
    "collapsed": false,
    "execution": {
     "iopub.execute_input": "2022-07-11T06:08:14.511769Z",
     "iopub.status.busy": "2022-07-11T06:08:14.510825Z",
     "iopub.status.idle": "2022-07-11T06:08:14.544699Z",
     "shell.execute_reply": "2022-07-11T06:08:14.545240Z"
    },
    "jupyter": {
     "outputs_hidden": false
    },
    "papermill": {
     "duration": 0.101567,
     "end_time": "2022-07-11T06:08:14.545422",
     "exception": false,
     "start_time": "2022-07-11T06:08:14.443855",
     "status": "completed"
    },
    "tags": []
   },
   "outputs": [],
   "source": [
    "for i in set(df[\"Deck\"].values):\n",
    "    v = df[df[\"Deck\"]==i][\"Cabin\"]//2\n",
    "    df.loc[df[\"Deck\"]==i, \"Cabin\"]= v\n",
    "    df.loc[(df[\"Deck\"]==i) & (df[\"Cabin\"]==0),\"Cabin\"] = np.median(v)\n",
    "    \n",
    "df.loc[df[\"Cabin\"].isna(),\"Cabin\"]=-1\n",
    "df[\"Cabin\"] = df[\"Cabin\"].astype(int)"
   ]
  },
  {
   "cell_type": "markdown",
   "metadata": {
    "papermill": {
     "duration": 0.062838,
     "end_time": "2022-07-11T06:08:14.671186",
     "exception": false,
     "start_time": "2022-07-11T06:08:14.608348",
     "status": "completed"
    },
    "tags": []
   },
   "source": [
    "Now we gonna plot some developed \"coordinates\" of the passangers, to find some patterns in survival."
   ]
  },
  {
   "cell_type": "code",
   "execution_count": 12,
   "metadata": {
    "_cell_guid": "72bab3ec-7486-472e-bbc1-f38a6662b26a",
    "_uuid": "d504012f-6958-4bf6-b57b-02e88a2203bf",
    "collapsed": false,
    "execution": {
     "iopub.execute_input": "2022-07-11T06:08:14.805632Z",
     "iopub.status.busy": "2022-07-11T06:08:14.804966Z",
     "iopub.status.idle": "2022-07-11T06:08:14.933185Z",
     "shell.execute_reply": "2022-07-11T06:08:14.932693Z"
    },
    "jupyter": {
     "outputs_hidden": false
    },
    "papermill": {
     "duration": 0.198222,
     "end_time": "2022-07-11T06:08:14.933374",
     "exception": false,
     "start_time": "2022-07-11T06:08:14.735152",
     "status": "completed"
    },
    "tags": []
   },
   "outputs": [
    {
     "data": {
      "text/html": [
       "<div>                            <div id=\"33991d93-358a-4f59-a927-48299b1d6f11\" class=\"plotly-graph-div\" style=\"height:1000px; width:1000px;\"></div>            <script type=\"text/javascript\">                require([\"plotly\"], function(Plotly) {                    window.PLOTLYENV=window.PLOTLYENV || {};                                    if (document.getElementById(\"33991d93-358a-4f59-a927-48299b1d6f11\")) {                    Plotly.newPlot(                        \"33991d93-358a-4f59-a927-48299b1d6f11\",                        [{\"hovertemplate\": \"Survived=0.0<br>Cabin=%{x}<br>Side=%{y}<br>Deck=%{z}<extra></extra>\", \"legendgroup\": \"0.0\", \"marker\": {\"color\": \"#273176\", \"symbol\": \"circle\"}, \"mode\": \"markers\", \"name\": \"0.0\", \"scene\": \"scene\", \"showlegend\": true, \"type\": \"scatter3d\", \"x\": [-1, -1, -1, 23, -1, -1, -1, -1, -1, -1, -1, -1, -1, 13, -1, -1, -1, -1, -1, -1, -1, -1, -1, -1, -1, -1, -1, -1, -1, -1, 15, -1, -1, -1, 41, -1, -1, -1, -1, -1, -1, -1, -1, 36, -1, -1, -1, -1, -1, -1, -1, -1, -1, 15, -1, -1, -1, 2, -1, -1, -1, 13, -1, -1, -1, -1, 55, -1, -1, -1, -1, -1, -1, -1, 30, -1, -1, -1, -1, 13, -1, -1, -1, -1, -1, -1, -1, 61, -1, 43, -1, -1, -1, -1, -1, 1, -1, -1, -1, -1, -1, -1, -1, -1, -1, -1, -1, -1, -1, -1, -1, -1, 9, -1, -1, 3, -1, -1, 24, -1, -1, -1, -1, -1, 16, -1, -1, -1, -1, -1, -1, -1, -1, -1, -1, 3, -1, -1, -1, -1, -1, -1, -1, -1, -1, -1, -1, -1, -1, -1, -1, -1, -1, -1, -1, -1, -1, -1, -1, -1, -1, 39, -1, -1, -1, 3, 43, -1, -1, -1, 33, 47, -1, -1, -1, -1, 59, -1, -1, -1, -1, -1, -1, 9, -1, -1, -1, -1, -1, -1, -1, 13, -1, -1, -1, -1, -1, -1, -1, -1, -1, -1, -1, 62, 45, -1, -1, 1, -1, -1, -1, -1, -1, -1, 64, -1, -1, -1, -1, -1, -1, -1, -1, -1, -1, -1, -1, -1, -1, -1, 41, -1, -1, -1, -1, -1, -1, -1, -1, -1, -1, -1, -1, -1, -1, -1, -1, -1, -1, -1, -1, -1, -1, -1, -1, -1, -1, -1, -1, -1, -1, -1, -1, -1, -1, 22, -1, 13, -1, -1, -1, -1, -1, 55, -1, 19, -1, -1, 31, -1, -1, -1, -1, -1, -1, -1, -1, -1, 7, -1, -1, -1, -1, -1, -1, -1, 18, -1, -1, -1, 15, -1, -1, -1, -1, 13, -1, -1, -1, -1, -1, 32, -1, -1, -1, 23, -1, -1, -1, -1, -1, -1, 47, -1, -1, -1, -1, -1, 19, -1, -1, -1, 43, -1, -1, -1, -1, -1, -1, -1, -1, -1, -1, -1, -1, -1, -1, -1, -1, -1, -1, -1, 5, -1, -1, -1, -1, -1, -1, -1, -1, -1, -1, -1, -1, -1, -1, -1, -1, -1, -1, -1, -1, -1, -1, -1, -1, -1, -1, 25, -1, -1, -1, -1, -1, -1, -1, -1, -1, -1, -1, -1, -1, -1, -1, -1, -1, -1, -1, -1, -1, 24, -1, 29, -1, -1, -1, -1, -1, 35, -1, -1, -1, -1, -1, -1, -1, -1, -1, -1, -1, -1, -1, -1, -1, -1, -1, 34, 31, -1, -1, -1, -1, 62, -1, -1, 36, -1, -1, -1, -1, -1, -1, -1, -1, -1, -1, -1, -1, -1, -1, -1, -1, 23, -1, 11, -1, 15, -1, -1, -1, -1, -1, -1, -1, -1, -1, -1, -1, -1, -1, -1, -1, 38, -1, -1, 19, -1, 3, -1, -1, -1, -1, 42, -1, -1, -1, -1, -1, -1, -1, -1, -1, -1, 18, -1, -1, -1, -1, -1, -1, -1, 51, -1, -1, -1, -1, -1, -1, -1, -1, -1, -1, -1, -1, -1, -1, -1, -1, -1, -1, -1, -1, -1, -1, -1, -1, -1, -1, -1, -1, -1, -1, 12, -1, -1, 27, -1, -1, -1, -1, -1, -1, -1, -1, -1, -1, -1, -1], \"y\": [null, null, null, -1.0, null, null, null, null, null, null, null, null, null, 1.0, null, null, null, null, null, null, null, null, null, null, null, null, null, null, null, null, -1.0, null, null, null, 1.0, null, null, null, null, null, null, null, null, 1.0, null, null, null, null, null, null, null, null, null, 1.0, null, null, null, 1.0, null, null, null, -1.0, null, null, null, null, -1.0, null, null, null, null, null, null, null, -1.0, null, null, null, null, -1.0, null, null, null, null, null, null, null, 1.0, null, -1.0, null, null, null, null, null, -1.0, null, null, null, null, null, null, null, null, null, null, null, null, null, null, null, null, 1.0, null, null, 1.0, null, null, 1.0, null, null, null, null, null, -1.0, null, null, null, null, null, null, null, null, null, null, -1.0, null, null, null, null, null, null, null, null, null, null, null, null, null, null, null, null, null, null, null, null, null, null, null, null, null, -1.0, null, null, null, -1.0, 1.0, null, null, null, 1.0, -1.0, null, null, null, null, -1.0, null, null, null, null, null, null, 1.0, null, null, null, null, null, null, null, -1.0, null, null, null, null, null, null, null, null, null, null, null, -1.0, 1.0, null, null, -1.0, null, null, null, null, null, null, -1.0, null, null, null, null, null, null, null, null, null, null, null, null, null, null, null, -1.0, null, null, null, null, null, null, null, null, null, null, null, null, null, null, null, null, null, null, null, null, null, null, null, null, null, null, null, null, null, null, null, null, null, null, -1.0, null, 1.0, null, null, null, null, null, 1.0, null, -1.0, null, null, 1.0, null, null, null, null, null, null, null, null, null, -1.0, null, null, null, null, null, null, null, 1.0, null, null, null, -1.0, null, null, null, null, -1.0, null, null, null, null, null, 1.0, null, null, null, -1.0, null, null, null, null, null, null, 1.0, null, null, null, null, null, -1.0, null, null, null, -1.0, null, null, null, null, null, null, null, null, null, null, null, null, null, null, null, null, null, null, null, -1.0, null, null, null, null, null, null, null, null, null, null, null, null, null, null, null, null, null, null, null, null, null, null, null, null, null, null, -1.0, null, null, null, null, null, null, null, null, null, null, null, null, null, null, null, null, null, null, null, null, null, -1.0, null, -1.0, null, null, null, null, null, 1.0, null, null, null, null, null, null, null, null, null, null, null, null, null, null, null, null, null, -1.0, 1.0, null, null, null, null, -1.0, null, null, 1.0, null, null, null, null, null, null, null, null, null, null, null, null, null, null, null, null, -1.0, null, -1.0, null, -1.0, null, null, null, null, null, null, null, null, null, null, null, null, null, null, null, 1.0, null, null, -1.0, null, -1.0, null, null, null, null, -1.0, null, null, null, null, null, null, null, null, null, null, -1.0, null, null, null, null, null, null, null, -1.0, null, null, null, null, null, null, null, null, null, null, null, null, null, null, null, null, null, null, null, null, null, null, null, null, null, null, null, null, null, null, -1.0, null, null, 1.0, null, null, null, null, null, null, null, null, null, null, null, null], \"z\": [\"N/A\", \"N/A\", \"N/A\", \"E\", \"N/A\", \"N/A\", \"N/A\", \"N/A\", \"N/A\", \"N/A\", \"N/A\", \"N/A\", \"N/A\", \"C\", \"N/A\", \"N/A\", \"N/A\", \"N/A\", \"N/A\", \"N/A\", \"N/A\", \"N/A\", \"N/A\", \"N/A\", \"N/A\", \"N/A\", \"N/A\", \"N/A\", \"N/A\", \"N/A\", \"B\", \"N/A\", \"N/A\", \"N/A\", \"C\", \"N/A\", \"N/A\", \"N/A\", \"N/A\", \"N/A\", \"N/A\", \"N/A\", \"N/A\", \"F\", \"N/A\", \"N/A\", \"N/A\", \"N/A\", \"N/A\", \"N/A\", \"N/A\", \"N/A\", \"N/A\", \"E\", \"N/A\", \"N/A\", \"N/A\", \"A\", \"N/A\", \"N/A\", \"N/A\", \"D\", \"N/A\", \"N/A\", \"N/A\", \"N/A\", \"C\", \"N/A\", \"N/A\", \"N/A\", \"N/A\", \"N/A\", \"N/A\", \"N/A\", \"B\", \"N/A\", \"N/A\", \"N/A\", \"N/A\", \"D\", \"N/A\", \"N/A\", \"N/A\", \"N/A\", \"N/A\", \"N/A\", \"N/A\", \"C\", \"N/A\", \"B\", \"N/A\", \"N/A\", \"N/A\", \"N/A\", \"N/A\", \"F\", \"N/A\", \"N/A\", \"N/A\", \"N/A\", \"N/A\", \"N/A\", \"N/A\", \"N/A\", \"N/A\", \"N/A\", \"N/A\", \"N/A\", \"N/A\", \"N/A\", \"N/A\", \"N/A\", \"B\", \"N/A\", \"N/A\", \"A\", \"N/A\", \"N/A\", \"C\", \"N/A\", \"N/A\", \"N/A\", \"N/A\", \"N/A\", \"A\", \"N/A\", \"N/A\", \"N/A\", \"N/A\", \"N/A\", \"N/A\", \"N/A\", \"N/A\", \"N/A\", \"N/A\", \"G\", \"N/A\", \"N/A\", \"N/A\", \"N/A\", \"N/A\", \"N/A\", \"N/A\", \"N/A\", \"N/A\", \"N/A\", \"N/A\", \"N/A\", \"N/A\", \"N/A\", \"N/A\", \"N/A\", \"N/A\", \"N/A\", \"N/A\", \"N/A\", \"N/A\", \"N/A\", \"N/A\", \"N/A\", \"N/A\", \"C\", \"N/A\", \"N/A\", \"N/A\", \"G\", \"C\", \"N/A\", \"N/A\", \"N/A\", \"E\", \"B\", \"N/A\", \"N/A\", \"N/A\", \"N/A\", \"C\", \"N/A\", \"N/A\", \"N/A\", \"N/A\", \"N/A\", \"N/A\", \"A\", \"N/A\", \"N/A\", \"D\", \"N/A\", \"N/A\", \"N/A\", \"N/A\", \"C\", \"N/A\", \"N/A\", \"N/A\", \"N/A\", \"N/A\", \"N/A\", \"N/A\", \"N/A\", \"N/A\", \"N/A\", \"N/A\", \"C\", \"C\", \"N/A\", \"N/A\", \"C\", \"N/A\", \"N/A\", \"N/A\", \"N/A\", \"N/A\", \"N/A\", \"C\", \"N/A\", \"N/A\", \"N/A\", \"N/A\", \"N/A\", \"N/A\", \"N/A\", \"N/A\", \"N/A\", \"N/A\", \"N/A\", \"N/A\", \"N/A\", \"N/A\", \"N/A\", \"C\", \"N/A\", \"N/A\", \"N/A\", \"N/A\", \"N/A\", \"N/A\", \"N/A\", \"N/A\", \"N/A\", \"N/A\", \"N/A\", \"N/A\", \"N/A\", \"N/A\", \"N/A\", \"N/A\", \"N/A\", \"N/A\", \"N/A\", \"N/A\", \"N/A\", \"N/A\", \"N/A\", \"N/A\", \"N/A\", \"N/A\", \"N/A\", \"N/A\", \"N/A\", \"N/A\", \"N/A\", \"N/A\", \"N/A\", \"N/A\", \"E\", \"N/A\", \"C\", \"N/A\", \"N/A\", \"N/A\", \"N/A\", \"N/A\", \"C\", \"N/A\", \"E\", \"N/A\", \"N/A\", \"E\", \"N/A\", \"N/A\", \"N/A\", \"N/A\", \"N/A\", \"N/A\", \"N/A\", \"N/A\", \"N/A\", \"A\", \"N/A\", \"N/A\", \"N/A\", \"N/A\", \"N/A\", \"N/A\", \"N/A\", \"B\", \"N/A\", \"N/A\", \"N/A\", \"C\", \"N/A\", \"N/A\", \"N/A\", \"N/A\", \"C\", \"N/A\", \"N/A\", \"N/A\", \"N/A\", \"N/A\", \"C\", \"N/A\", \"N/A\", \"N/A\", \"D\", \"N/A\", \"N/A\", \"N/A\", \"N/A\", \"N/A\", \"N/A\", \"C\", \"N/A\", \"N/A\", \"N/A\", \"N/A\", \"N/A\", \"B\", \"N/A\", \"N/A\", \"N/A\", \"C\", \"N/A\", \"N/A\", \"N/A\", \"N/A\", \"N/A\", \"N/A\", \"N/A\", \"N/A\", \"N/A\", \"N/A\", \"N/A\", \"N/A\", \"N/A\", \"N/A\", \"N/A\", \"N/A\", \"N/A\", \"N/A\", \"N/A\", \"A\", \"N/A\", \"N/A\", \"N/A\", \"N/A\", \"N/A\", \"N/A\", \"N/A\", \"N/A\", \"N/A\", \"N/A\", \"N/A\", \"N/A\", \"N/A\", \"N/A\", \"N/A\", \"N/A\", \"N/A\", \"N/A\", \"N/A\", \"N/A\", \"N/A\", \"N/A\", \"N/A\", \"N/A\", \"N/A\", \"N/A\", \"D\", \"N/A\", \"N/A\", \"N/A\", \"N/A\", \"N/A\", \"N/A\", \"N/A\", \"N/A\", \"N/A\", \"N/A\", \"N/A\", \"N/A\", \"N/A\", \"N/A\", \"N/A\", \"N/A\", \"N/A\", \"N/A\", \"N/A\", \"N/A\", \"N/A\", \"D\", \"N/A\", \"E\", \"N/A\", \"N/A\", \"N/A\", \"N/A\", \"N/A\", \"B\", \"N/A\", \"N/A\", \"N/A\", \"N/A\", \"N/A\", \"N/A\", \"N/A\", \"N/A\", \"N/A\", \"N/A\", \"N/A\", \"N/A\", \"N/A\", \"N/A\", \"N/A\", \"N/A\", \"N/A\", \"C\", \"F\", \"N/A\", \"N/A\", \"N/A\", \"N/A\", \"C\", \"N/A\", \"N/A\", \"F\", \"N/A\", \"N/A\", \"N/A\", \"N/A\", \"N/A\", \"N/A\", \"N/A\", \"N/A\", \"N/A\", \"N/A\", \"N/A\", \"N/A\", \"N/A\", \"N/A\", \"N/A\", \"N/A\", \"C\", \"N/A\", \"B\", \"N/A\", \"D\", \"N/A\", \"N/A\", \"N/A\", \"N/A\", \"N/A\", \"N/A\", \"N/A\", \"N/A\", \"N/A\", \"N/A\", \"N/A\", \"N/A\", \"N/A\", \"N/A\", \"N/A\", \"E\", \"N/A\", \"N/A\", \"F\", \"N/A\", \"D\", \"N/A\", \"N/A\", \"N/A\", \"N/A\", \"B\", \"N/A\", \"N/A\", \"N/A\", \"N/A\", \"N/A\", \"N/A\", \"N/A\", \"N/A\", \"N/A\", \"N/A\", \"A\", \"N/A\", \"N/A\", \"N/A\", \"N/A\", \"N/A\", \"N/A\", \"N/A\", \"B\", \"N/A\", \"N/A\", \"N/A\", \"N/A\", \"N/A\", \"N/A\", \"N/A\", \"N/A\", \"N/A\", \"N/A\", \"N/A\", \"N/A\", \"N/A\", \"N/A\", \"N/A\", \"N/A\", \"N/A\", \"N/A\", \"N/A\", \"N/A\", \"N/A\", \"N/A\", \"N/A\", \"N/A\", \"N/A\", \"N/A\", \"N/A\", \"N/A\", \"N/A\", \"N/A\", \"A\", \"N/A\", \"N/A\", \"B\", \"N/A\", \"N/A\", \"N/A\", \"N/A\", \"N/A\", \"N/A\", \"N/A\", \"N/A\", \"N/A\", \"N/A\", \"N/A\", \"N/A\"]}, {\"hovertemplate\": \"Survived=1.0<br>Cabin=%{x}<br>Side=%{y}<br>Deck=%{z}<extra></extra>\", \"legendgroup\": \"1.0\", \"marker\": {\"color\": \"#3B61A3\", \"symbol\": \"circle\"}, \"mode\": \"markers\", \"name\": \"1.0\", \"scene\": \"scene\", \"showlegend\": true, \"type\": \"scatter3d\", \"x\": [42, -1, 61, -1, -1, 3, 51, -1, -1, -1, 28, -1, 3, -1, -1, 39, -1, -1, -1, -1, -1, -1, 16, -1, 26, -1, -1, 14, -1, 16, -1, -1, -1, -1, -1, -1, -1, -1, 13, 6, -1, -1, -1, -1, 50, -1, -1, 34, -1, 23, -1, -1, -1, 1, -1, -1, -1, 16, -1, 2, -1, -1, -1, -1, -1, 1, 2, 40, -1, -1, -1, -1, 15, -1, 18, -1, 7, -1, 46, -1, 41, -1, -1, -1, -1, 17, -1, -1, 38, -1, -1, -1, -1, 62, 49, -1, -1, -1, 3, -1, -1, -1, -1, -1, -1, 24, 53, 30, -1, -1, 50, 13, -1, 32, 18, 27, 33, -1, -1, 3, 17, -1, -1, 16, -1, -1, 9, -1, -1, 20, -1, 1, 13, 16, -1, -1, -1, 16, -1, -1, 18, -1, -1, 17, 25, -1, -1, -1, -1, -1, -1, -1, 49, -1, 18, 3, -1, -1, -1, 39, -1, -1, -1, -1, -1, 5, 26, -1, -1, 49, -1, -1, -1, -1, 17, -1, -1, -1, 52, 46, -1, 10, -1, 6, -1, -1, -1, -1, -1, 24, 46, -1, 10, 39, -1, -1, -1, -1, 12, -1, 16, -1, 36, 9, -1, -1, -1, -1, -1, 19, 11, -1, -1, -1, -1, 35, -1, -1, 8, 33, -1, -1, -1, 50, 12, -1, -1, 22, -1, -1, 34, 34, 20, 10, -1, 10, -1, -1, -1, -1, 62, -1, -1, 2, 9, -1, 4, 11, 25, -1, 17, -1, -1, 16, 13, -1, -1, -1, -1, -1, 63, -1, -1, -1, 27, 24, 2, 10, -1, -1, -1, 32, 12, -1, 12, -1, -1, 45, 63, 22, 50, -1, 4, -1, -1, 2, 50, 22, 33, -1, -1, -1, 60, -1, -1, 38, -1, 49, 5, -1, -1, 1, -1, 10, -1, -1, 8, -1, -1, 49, -1, -1, 4, 34, -1, 60, -1, -1, 14, -1, -1, 24, -1, 23, -1, 46, 14, -1, -1, 8, -1, 8, -1, -1, -1, 17, -1, -1, 25, -1, 21, 74], \"y\": [1.0, null, 1.0, null, null, -1.0, 1.0, null, null, null, -1.0, null, -1.0, null, null, -1.0, null, null, null, null, null, null, 1.0, null, -1.0, null, null, -1.0, null, 1.0, null, null, null, null, null, null, null, null, 1.0, -1.0, null, null, null, null, 1.0, null, null, 1.0, null, 1.0, null, null, null, -1.0, null, null, null, 1.0, null, -1.0, null, null, null, null, null, -1.0, -1.0, -1.0, null, null, null, null, 1.0, null, -1.0, null, 1.0, null, 1.0, null, 1.0, null, null, null, null, 1.0, null, null, 1.0, null, null, null, null, 1.0, 1.0, null, null, null, 1.0, null, null, null, null, null, null, 1.0, -1.0, -1.0, null, null, 1.0, -1.0, null, 1.0, -1.0, -1.0, -1.0, null, null, 1.0, -1.0, null, null, -1.0, null, null, -1.0, null, null, -1.0, null, -1.0, 1.0, 1.0, null, null, null, 1.0, null, null, 1.0, null, null, 1.0, -1.0, null, null, null, null, null, null, null, -1.0, null, -1.0, -1.0, null, null, null, -1.0, null, null, null, null, null, -1.0, -1.0, null, null, -1.0, null, null, null, null, -1.0, null, null, null, -1.0, -1.0, null, 1.0, null, -1.0, null, null, null, null, null, 1.0, 1.0, null, -1.0, 1.0, null, null, null, null, 1.0, null, 1.0, null, 1.0, -1.0, null, null, null, null, null, 1.0, -1.0, null, null, null, null, -1.0, null, null, -1.0, 1.0, null, null, null, 1.0, 1.0, null, null, -1.0, null, null, -1.0, -1.0, 1.0, -1.0, null, -1.0, null, null, null, null, 1.0, null, null, -1.0, 1.0, null, 1.0, 1.0, -1.0, null, 1.0, null, null, 1.0, -1.0, null, null, null, null, null, -1.0, null, null, null, 1.0, 1.0, 1.0, -1.0, null, null, null, -1.0, -1.0, null, -1.0, null, null, -1.0, -1.0, 1.0, 1.0, null, -1.0, null, null, 1.0, 1.0, 1.0, -1.0, null, null, null, 1.0, null, null, 1.0, null, -1.0, 1.0, null, null, 1.0, null, -1.0, null, null, 1.0, null, null, -1.0, null, null, -1.0, 1.0, null, 1.0, null, null, -1.0, null, null, 1.0, null, 1.0, null, -1.0, -1.0, null, null, 1.0, null, 1.0, null, null, null, 1.0, null, null, -1.0, null, -1.0, -1.0], \"z\": [\"C\", \"N/A\", \"C\", \"N/A\", \"N/A\", \"G\", \"C\", \"N/A\", \"N/A\", \"N/A\", \"D\", \"N/A\", \"A\", \"N/A\", \"N/A\", \"B\", \"N/A\", \"N/A\", \"N/A\", \"N/A\", \"N/A\", \"N/A\", \"D\", \"N/A\", \"C\", \"N/A\", \"N/A\", \"B\", \"N/A\", \"F\", \"N/A\", \"N/A\", \"N/A\", \"N/A\", \"N/A\", \"N/A\", \"N/A\", \"N/A\", \"C\", \"D\", \"N/A\", \"N/A\", \"N/A\", \"N/A\", \"E\", \"N/A\", \"N/A\", \"F\", \"N/A\", \"D\", \"N/A\", \"N/A\", \"N/A\", \"C\", \"N/A\", \"N/A\", \"N/A\", \"E\", \"N/A\", \"F\", \"N/A\", \"N/A\", \"N/A\", \"N/A\", \"N/A\", \"F\", \"B\", \"B\", \"N/A\", \"N/A\", \"N/A\", \"N/A\", \"A\", \"N/A\", \"D\", \"N/A\", \"D\", \"N/A\", \"C\", \"N/A\", \"C\", \"N/A\", \"N/A\", \"N/A\", \"N/A\", \"D\", \"N/A\", \"N/A\", \"B\", \"N/A\", \"N/A\", \"N/A\", \"N/A\", \"C\", \"C\", \"N/A\", \"N/A\", \"N/A\", \"D\", \"N/A\", \"N/A\", \"N/A\", \"N/A\", \"N/A\", \"N/A\", \"B\", \"C\", \"B\", \"N/A\", \"N/A\", \"E\", \"C\", \"N/A\", \"C\", \"E\", \"C\", \"B\", \"N/A\", \"N/A\", \"C\", \"E\", \"N/A\", \"N/A\", \"C\", \"D\", \"N/A\", \"B\", \"N/A\", \"N/A\", \"E\", \"N/A\", \"F\", \"C\", \"F\", \"N/A\", \"N/A\", \"N/A\", \"E\", \"N/A\", \"N/A\", \"D\", \"N/A\", \"N/A\", \"B\", \"E\", \"N/A\", \"N/A\", \"N/A\", \"N/A\", \"N/A\", \"N/A\", \"N/A\", \"B\", \"N/A\", \"D\", \"G\", \"N/A\", \"N/A\", \"N/A\", \"C\", \"N/A\", \"N/A\", \"N/A\", \"N/A\", \"N/A\", \"E\", \"C\", \"N/A\", \"N/A\", \"B\", \"N/A\", \"N/A\", \"N/A\", \"N/A\", \"A\", \"N/A\", \"N/A\", \"N/A\", \"C\", \"C\", \"N/A\", \"D\", \"N/A\", \"E\", \"N/A\", \"N/A\", \"D\", \"N/A\", \"N/A\", \"B\", \"C\", \"N/A\", \"D\", \"B\", \"N/A\", \"N/A\", \"N/A\", \"N/A\", \"E\", \"N/A\", \"F\", \"N/A\", \"B\", \"B\", \"N/A\", \"N/A\", \"N/A\", \"N/A\", \"N/A\", \"B\", \"B\", \"N/A\", \"N/A\", \"N/A\", \"N/A\", \"C\", \"N/A\", \"N/A\", \"A\", \"E\", \"N/A\", \"N/A\", \"N/A\", \"C\", \"E\", \"N/A\", \"N/A\", \"E\", \"N/A\", \"N/A\", \"C\", \"E\", \"B\", \"D\", \"N/A\", \"A\", \"N/A\", \"N/A\", \"N/A\", \"N/A\", \"C\", \"N/A\", \"N/A\", \"F\", \"D\", \"N/A\", \"D\", \"A\", \"B\", \"N/A\", \"B\", \"N/A\", \"N/A\", \"D\", \"A\", \"N/A\", \"N/A\", \"N/A\", \"N/A\", \"N/A\", \"C\", \"N/A\", \"N/A\", \"N/A\", \"B\", \"D\", \"B\", \"B\", \"N/A\", \"N/A\", \"N/A\", \"C\", \"E\", \"N/A\", \"E\", \"N/A\", \"N/A\", \"C\", \"C\", \"C\", \"E\", \"N/A\", \"E\", \"N/A\", \"N/A\", \"B\", \"B\", \"D\", \"B\", \"N/A\", \"N/A\", \"N/A\", \"E\", \"N/A\", \"N/A\", \"B\", \"N/A\", \"B\", \"D\", \"N/A\", \"N/A\", \"B\", \"N/A\", \"B\", \"N/A\", \"N/A\", \"D\", \"N/A\", \"N/A\", \"B\", \"N/A\", \"N/A\", \"E\", \"B\", \"N/A\", \"E\", \"N/A\", \"N/A\", \"B\", \"N/A\", \"N/A\", \"E\", \"N/A\", \"C\", \"N/A\", \"C\", \"D\", \"N/A\", \"N/A\", \"E\", \"N/A\", \"D\", \"N/A\", \"N/A\", \"N/A\", \"D\", \"N/A\", \"N/A\", \"C\", \"N/A\", \"B\", \"C\"]}],                        {\"height\": 1000, \"legend\": {\"title\": {\"text\": \"Survived\"}, \"tracegroupgap\": 0}, \"margin\": {\"t\": 60}, \"scene\": {\"domain\": {\"x\": [0.0, 1.0], \"y\": [0.0, 1.0]}, \"xaxis\": {\"title\": {\"text\": \"Cabin\"}}, \"yaxis\": {\"title\": {\"text\": \"Side\"}}, \"zaxis\": {\"title\": {\"text\": \"Deck\"}}}, \"template\": {\"data\": {\"bar\": [{\"error_x\": {\"color\": \"#2a3f5f\"}, \"error_y\": {\"color\": \"#2a3f5f\"}, \"marker\": {\"line\": {\"color\": \"#E5ECF6\", \"width\": 0.5}}, \"type\": \"bar\"}], \"barpolar\": [{\"marker\": {\"line\": {\"color\": \"#E5ECF6\", \"width\": 0.5}}, \"type\": \"barpolar\"}], \"carpet\": [{\"aaxis\": {\"endlinecolor\": \"#2a3f5f\", \"gridcolor\": \"white\", \"linecolor\": \"white\", \"minorgridcolor\": \"white\", \"startlinecolor\": \"#2a3f5f\"}, \"baxis\": {\"endlinecolor\": \"#2a3f5f\", \"gridcolor\": \"white\", \"linecolor\": \"white\", \"minorgridcolor\": \"white\", \"startlinecolor\": \"#2a3f5f\"}, \"type\": \"carpet\"}], \"choropleth\": [{\"colorbar\": {\"outlinewidth\": 0, \"ticks\": \"\"}, \"type\": \"choropleth\"}], \"contour\": [{\"colorbar\": {\"outlinewidth\": 0, \"ticks\": \"\"}, \"colorscale\": [[0.0, \"#0d0887\"], [0.1111111111111111, \"#46039f\"], [0.2222222222222222, \"#7201a8\"], [0.3333333333333333, \"#9c179e\"], [0.4444444444444444, \"#bd3786\"], [0.5555555555555556, \"#d8576b\"], [0.6666666666666666, \"#ed7953\"], [0.7777777777777778, \"#fb9f3a\"], [0.8888888888888888, \"#fdca26\"], [1.0, \"#f0f921\"]], \"type\": \"contour\"}], \"contourcarpet\": [{\"colorbar\": {\"outlinewidth\": 0, \"ticks\": \"\"}, \"type\": \"contourcarpet\"}], \"heatmap\": [{\"colorbar\": {\"outlinewidth\": 0, \"ticks\": \"\"}, \"colorscale\": [[0.0, \"#0d0887\"], [0.1111111111111111, \"#46039f\"], [0.2222222222222222, \"#7201a8\"], [0.3333333333333333, \"#9c179e\"], [0.4444444444444444, \"#bd3786\"], [0.5555555555555556, \"#d8576b\"], [0.6666666666666666, \"#ed7953\"], [0.7777777777777778, \"#fb9f3a\"], [0.8888888888888888, \"#fdca26\"], [1.0, \"#f0f921\"]], \"type\": \"heatmap\"}], \"heatmapgl\": [{\"colorbar\": {\"outlinewidth\": 0, \"ticks\": \"\"}, \"colorscale\": [[0.0, \"#0d0887\"], [0.1111111111111111, \"#46039f\"], [0.2222222222222222, \"#7201a8\"], [0.3333333333333333, \"#9c179e\"], [0.4444444444444444, \"#bd3786\"], [0.5555555555555556, \"#d8576b\"], [0.6666666666666666, \"#ed7953\"], [0.7777777777777778, \"#fb9f3a\"], [0.8888888888888888, \"#fdca26\"], [1.0, \"#f0f921\"]], \"type\": \"heatmapgl\"}], \"histogram\": [{\"marker\": {\"colorbar\": {\"outlinewidth\": 0, \"ticks\": \"\"}}, \"type\": \"histogram\"}], \"histogram2d\": [{\"colorbar\": {\"outlinewidth\": 0, \"ticks\": \"\"}, \"colorscale\": [[0.0, \"#0d0887\"], [0.1111111111111111, \"#46039f\"], [0.2222222222222222, \"#7201a8\"], [0.3333333333333333, \"#9c179e\"], [0.4444444444444444, \"#bd3786\"], [0.5555555555555556, \"#d8576b\"], [0.6666666666666666, \"#ed7953\"], [0.7777777777777778, \"#fb9f3a\"], [0.8888888888888888, \"#fdca26\"], [1.0, \"#f0f921\"]], \"type\": \"histogram2d\"}], \"histogram2dcontour\": [{\"colorbar\": {\"outlinewidth\": 0, \"ticks\": \"\"}, \"colorscale\": [[0.0, \"#0d0887\"], [0.1111111111111111, \"#46039f\"], [0.2222222222222222, \"#7201a8\"], [0.3333333333333333, \"#9c179e\"], [0.4444444444444444, \"#bd3786\"], [0.5555555555555556, \"#d8576b\"], [0.6666666666666666, \"#ed7953\"], [0.7777777777777778, \"#fb9f3a\"], [0.8888888888888888, \"#fdca26\"], [1.0, \"#f0f921\"]], \"type\": \"histogram2dcontour\"}], \"mesh3d\": [{\"colorbar\": {\"outlinewidth\": 0, \"ticks\": \"\"}, \"type\": \"mesh3d\"}], \"parcoords\": [{\"line\": {\"colorbar\": {\"outlinewidth\": 0, \"ticks\": \"\"}}, \"type\": \"parcoords\"}], \"pie\": [{\"automargin\": true, \"type\": \"pie\"}], \"scatter\": [{\"marker\": {\"colorbar\": {\"outlinewidth\": 0, \"ticks\": \"\"}}, \"type\": \"scatter\"}], \"scatter3d\": [{\"line\": {\"colorbar\": {\"outlinewidth\": 0, \"ticks\": \"\"}}, \"marker\": {\"colorbar\": {\"outlinewidth\": 0, \"ticks\": \"\"}}, \"type\": \"scatter3d\"}], \"scattercarpet\": [{\"marker\": {\"colorbar\": {\"outlinewidth\": 0, \"ticks\": \"\"}}, \"type\": \"scattercarpet\"}], \"scattergeo\": [{\"marker\": {\"colorbar\": {\"outlinewidth\": 0, \"ticks\": \"\"}}, \"type\": \"scattergeo\"}], \"scattergl\": [{\"marker\": {\"colorbar\": {\"outlinewidth\": 0, \"ticks\": \"\"}}, \"type\": \"scattergl\"}], \"scattermapbox\": [{\"marker\": {\"colorbar\": {\"outlinewidth\": 0, \"ticks\": \"\"}}, \"type\": \"scattermapbox\"}], \"scatterpolar\": [{\"marker\": {\"colorbar\": {\"outlinewidth\": 0, \"ticks\": \"\"}}, \"type\": \"scatterpolar\"}], \"scatterpolargl\": [{\"marker\": {\"colorbar\": {\"outlinewidth\": 0, \"ticks\": \"\"}}, \"type\": \"scatterpolargl\"}], \"scatterternary\": [{\"marker\": {\"colorbar\": {\"outlinewidth\": 0, \"ticks\": \"\"}}, \"type\": \"scatterternary\"}], \"surface\": [{\"colorbar\": {\"outlinewidth\": 0, \"ticks\": \"\"}, \"colorscale\": [[0.0, \"#0d0887\"], [0.1111111111111111, \"#46039f\"], [0.2222222222222222, \"#7201a8\"], [0.3333333333333333, \"#9c179e\"], [0.4444444444444444, \"#bd3786\"], [0.5555555555555556, \"#d8576b\"], [0.6666666666666666, \"#ed7953\"], [0.7777777777777778, \"#fb9f3a\"], [0.8888888888888888, \"#fdca26\"], [1.0, \"#f0f921\"]], \"type\": \"surface\"}], \"table\": [{\"cells\": {\"fill\": {\"color\": \"#EBF0F8\"}, \"line\": {\"color\": \"white\"}}, \"header\": {\"fill\": {\"color\": \"#C8D4E3\"}, \"line\": {\"color\": \"white\"}}, \"type\": \"table\"}]}, \"layout\": {\"annotationdefaults\": {\"arrowcolor\": \"#2a3f5f\", \"arrowhead\": 0, \"arrowwidth\": 1}, \"autotypenumbers\": \"strict\", \"coloraxis\": {\"colorbar\": {\"outlinewidth\": 0, \"ticks\": \"\"}}, \"colorscale\": {\"diverging\": [[0, \"#8e0152\"], [0.1, \"#c51b7d\"], [0.2, \"#de77ae\"], [0.3, \"#f1b6da\"], [0.4, \"#fde0ef\"], [0.5, \"#f7f7f7\"], [0.6, \"#e6f5d0\"], [0.7, \"#b8e186\"], [0.8, \"#7fbc41\"], [0.9, \"#4d9221\"], [1, \"#276419\"]], \"sequential\": [[0.0, \"#0d0887\"], [0.1111111111111111, \"#46039f\"], [0.2222222222222222, \"#7201a8\"], [0.3333333333333333, \"#9c179e\"], [0.4444444444444444, \"#bd3786\"], [0.5555555555555556, \"#d8576b\"], [0.6666666666666666, \"#ed7953\"], [0.7777777777777778, \"#fb9f3a\"], [0.8888888888888888, \"#fdca26\"], [1.0, \"#f0f921\"]], \"sequentialminus\": [[0.0, \"#0d0887\"], [0.1111111111111111, \"#46039f\"], [0.2222222222222222, \"#7201a8\"], [0.3333333333333333, \"#9c179e\"], [0.4444444444444444, \"#bd3786\"], [0.5555555555555556, \"#d8576b\"], [0.6666666666666666, \"#ed7953\"], [0.7777777777777778, \"#fb9f3a\"], [0.8888888888888888, \"#fdca26\"], [1.0, \"#f0f921\"]]}, \"colorway\": [\"#636efa\", \"#EF553B\", \"#00cc96\", \"#ab63fa\", \"#FFA15A\", \"#19d3f3\", \"#FF6692\", \"#B6E880\", \"#FF97FF\", \"#FECB52\"], \"font\": {\"color\": \"#2a3f5f\"}, \"geo\": {\"bgcolor\": \"white\", \"lakecolor\": \"white\", \"landcolor\": \"#E5ECF6\", \"showlakes\": true, \"showland\": true, \"subunitcolor\": \"white\"}, \"hoverlabel\": {\"align\": \"left\"}, \"hovermode\": \"closest\", \"mapbox\": {\"style\": \"light\"}, \"paper_bgcolor\": \"white\", \"plot_bgcolor\": \"#E5ECF6\", \"polar\": {\"angularaxis\": {\"gridcolor\": \"white\", \"linecolor\": \"white\", \"ticks\": \"\"}, \"bgcolor\": \"#E5ECF6\", \"radialaxis\": {\"gridcolor\": \"white\", \"linecolor\": \"white\", \"ticks\": \"\"}}, \"scene\": {\"xaxis\": {\"backgroundcolor\": \"#E5ECF6\", \"gridcolor\": \"white\", \"gridwidth\": 2, \"linecolor\": \"white\", \"showbackground\": true, \"ticks\": \"\", \"zerolinecolor\": \"white\"}, \"yaxis\": {\"backgroundcolor\": \"#E5ECF6\", \"gridcolor\": \"white\", \"gridwidth\": 2, \"linecolor\": \"white\", \"showbackground\": true, \"ticks\": \"\", \"zerolinecolor\": \"white\"}, \"zaxis\": {\"backgroundcolor\": \"#E5ECF6\", \"gridcolor\": \"white\", \"gridwidth\": 2, \"linecolor\": \"white\", \"showbackground\": true, \"ticks\": \"\", \"zerolinecolor\": \"white\"}}, \"shapedefaults\": {\"line\": {\"color\": \"#2a3f5f\"}}, \"ternary\": {\"aaxis\": {\"gridcolor\": \"white\", \"linecolor\": \"white\", \"ticks\": \"\"}, \"baxis\": {\"gridcolor\": \"white\", \"linecolor\": \"white\", \"ticks\": \"\"}, \"bgcolor\": \"#E5ECF6\", \"caxis\": {\"gridcolor\": \"white\", \"linecolor\": \"white\", \"ticks\": \"\"}}, \"title\": {\"x\": 0.05}, \"xaxis\": {\"automargin\": true, \"gridcolor\": \"white\", \"linecolor\": \"white\", \"ticks\": \"\", \"title\": {\"standoff\": 15}, \"zerolinecolor\": \"white\", \"zerolinewidth\": 2}, \"yaxis\": {\"automargin\": true, \"gridcolor\": \"white\", \"linecolor\": \"white\", \"ticks\": \"\", \"title\": {\"standoff\": 15}, \"zerolinecolor\": \"white\", \"zerolinewidth\": 2}}}, \"width\": 1000},                        {\"responsive\": true}                    ).then(function(){\n",
       "                            \n",
       "var gd = document.getElementById('33991d93-358a-4f59-a927-48299b1d6f11');\n",
       "var x = new MutationObserver(function (mutations, observer) {{\n",
       "        var display = window.getComputedStyle(gd).display;\n",
       "        if (!display || display === 'none') {{\n",
       "            console.log([gd, 'removed!']);\n",
       "            Plotly.purge(gd);\n",
       "            observer.disconnect();\n",
       "        }}\n",
       "}});\n",
       "\n",
       "// Listen for the removal of the full notebook cells\n",
       "var notebookContainer = gd.closest('#notebook-container');\n",
       "if (notebookContainer) {{\n",
       "    x.observe(notebookContainer, {childList: true});\n",
       "}}\n",
       "\n",
       "// Listen for the clearing of the current output cell\n",
       "var outputEl = gd.closest('.output');\n",
       "if (outputEl) {{\n",
       "    x.observe(outputEl, {childList: true});\n",
       "}}\n",
       "\n",
       "                        })                };                });            </script>        </div>"
      ]
     },
     "metadata": {},
     "output_type": "display_data"
    }
   ],
   "source": [
    "dfplt = df.copy(deep=True)\n",
    "dfplt = dfplt[~dfplt[\"Survived\"].isna()]\n",
    "dfplt[\"Survived\"] = dfplt[\"Survived\"].astype(str)\n",
    "fig = px.scatter_3d(dfplt, x=\"Cabin\", y=\"Side\", z= \"Deck\", color=\"Survived\",\n",
    "                    color_discrete_sequence=cm, size_max=6, width=1000, height=1000)\n",
    "fig.show()"
   ]
  },
  {
   "cell_type": "markdown",
   "metadata": {
    "_cell_guid": "5dd0b6ae-5a63-4a89-94d4-101b16c2d2dd",
    "_uuid": "d864b5a9-5662-4769-8621-2b8b8ea67fb4",
    "papermill": {
     "duration": 0.065111,
     "end_time": "2022-07-11T06:08:15.063133",
     "exception": false,
     "start_time": "2022-07-11T06:08:14.998022",
     "status": "completed"
    },
    "tags": []
   },
   "source": [
    "We can see some patterns in the data:\n",
    "  - For example, all of the passangers on the \"1\" side of the Deck D survived.\n",
    "  - For only some of decks the \"closer\" location to zero may cause the better survival (maby those passangers was closer to the ladders)"
   ]
  },
  {
   "cell_type": "code",
   "execution_count": 13,
   "metadata": {
    "_cell_guid": "6aab6563-0a93-4b0b-ba41-e01e25e8e207",
    "_uuid": "80cf7463-85d1-4825-a74f-7e8834b129c7",
    "collapsed": false,
    "execution": {
     "iopub.execute_input": "2022-07-11T06:08:15.198897Z",
     "iopub.status.busy": "2022-07-11T06:08:15.198222Z",
     "iopub.status.idle": "2022-07-11T06:08:15.903966Z",
     "shell.execute_reply": "2022-07-11T06:08:15.903421Z"
    },
    "jupyter": {
     "outputs_hidden": false
    },
    "papermill": {
     "duration": 0.776972,
     "end_time": "2022-07-11T06:08:15.904115",
     "exception": false,
     "start_time": "2022-07-11T06:08:15.127143",
     "status": "completed"
    },
    "tags": []
   },
   "outputs": [
    {
     "data": {
      "text/plain": [
       "<AxesSubplot:>"
      ]
     },
     "execution_count": 13,
     "metadata": {},
     "output_type": "execute_result"
    },
    {
     "data": {
      "image/png": "[encoded data removed]",
      "text/plain": [
       "<Figure size 2160x144 with 3 Axes>"
      ]
     },
     "metadata": {
      "needs_background": "light"
     },
     "output_type": "display_data"
    }
   ],
   "source": [
    "df[\"Side\"] = df[\"Side\"].fillna(0)\n",
    "msno.bar(df, figsize=(30,2), color=cm)"
   ]
  },
  {
   "cell_type": "markdown",
   "metadata": {
    "_cell_guid": "ece36e69-9f7a-4833-a314-b65136952865",
    "_uuid": "a1f5dae3-4c10-4b48-b855-eba55375e38d",
    "papermill": {
     "duration": 0.065718,
     "end_time": "2022-07-11T06:08:16.036137",
     "exception": false,
     "start_time": "2022-07-11T06:08:15.970419",
     "status": "completed"
    },
    "tags": []
   },
   "source": [
    "In the end - we have to fillna for \"Side\" feature with 0 - refering to unknown side of the ship"
   ]
  },
  {
   "cell_type": "markdown",
   "metadata": {
    "_cell_guid": "76e5b855-6e3d-4f71-89c9-deb45fb139a9",
    "_uuid": "705b1795-a65c-414f-9ef8-00421d77fc65",
    "papermill": {
     "duration": 0.065125,
     "end_time": "2022-07-11T06:08:16.167037",
     "exception": false,
     "start_time": "2022-07-11T06:08:16.101912",
     "status": "completed"
    },
    "tags": []
   },
   "source": [
    "## <a class=\"anchor\" id=\"1.2_bullet\" style=\"color:#3B61A3\">  1.2 Groups and family bonds analisys\n",
    "Some groups of passangers, should be connected via ticket numbers, surnames, classP and etc. We will try to put the data into the shape in which our model will detect such connections\n",
    "### <a class=\"anchor\" id=\"1.2.1_bullet\" style=\"color:#3B61A3\">  1.2.1 Ticket numbers analisys"
   ]
  },
  {
   "cell_type": "markdown",
   "metadata": {
    "_cell_guid": "1c5d3d5c-41e1-40ea-94a0-23bcc73118f1",
    "_uuid": "3b2759b6-d0f9-46b5-a7bf-145f54263bb2",
    "papermill": {
     "duration": 0.06548,
     "end_time": "2022-07-11T06:08:16.300286",
     "exception": false,
     "start_time": "2022-07-11T06:08:16.234806",
     "status": "completed"
    },
    "tags": []
   },
   "source": [
    "**\"LINE\" tickets:**\n",
    "All Tickets number contains some numbers, except \"LINE\" tickets www.encyclopedia-titanica.org\n",
    "Philadelphia's westbound voyage was cancelled, and several shipmates forced to travel aboard Titanic as passengers (Some of them have LINE ticket number):\n",
    " - August Johnson (Johnson, Mr. Alfred) - **LINE** - 370160\n",
    " - William Cahoone Jr. Johnson - **LINE** - 370160\n",
    " - William Henry Törnquist - **LINE** - 370160\n",
    " - Andrew John Shannon (Lionel Leonard) - **LINE** - 370160\n",
    "\n",
    "We will not analize them much, in this part, but we should take it into account"
   ]
  },
  {
   "cell_type": "code",
   "execution_count": 14,
   "metadata": {
    "_cell_guid": "3ba1057d-8e48-4710-a7d5-27dc68401ec2",
    "_uuid": "f6a6048d-3c22-496a-8b91-5cd79038d292",
    "collapsed": false,
    "execution": {
     "iopub.execute_input": "2022-07-11T06:08:16.437512Z",
     "iopub.status.busy": "2022-07-11T06:08:16.436804Z",
     "iopub.status.idle": "2022-07-11T06:08:16.441366Z",
     "shell.execute_reply": "2022-07-11T06:08:16.441974Z"
    },
    "jupyter": {
     "outputs_hidden": false
    },
    "papermill": {
     "duration": 0.076367,
     "end_time": "2022-07-11T06:08:16.442157",
     "exception": false,
     "start_time": "2022-07-11T06:08:16.365790",
     "status": "completed"
    },
    "tags": []
   },
   "outputs": [],
   "source": [
    "lin_rep = lambda x: x.replace({'LINE':\"370160\"})\n",
    "df = lin_rep(df)"
   ]
  },
  {
   "cell_type": "markdown",
   "metadata": {
    "_cell_guid": "ab4cc549-f2f6-49b0-af82-6cf8980ba87e",
    "_uuid": "df429238-96a0-4ef8-99c4-c54f44c2e1af",
    "papermill": {
     "duration": 0.067096,
     "end_time": "2022-07-11T06:08:16.575159",
     "exception": false,
     "start_time": "2022-07-11T06:08:16.508063",
     "status": "completed"
    },
    "tags": []
   },
   "source": [
    "Some of the tickets contains several prefixes refering for some specific sale policies - maby it may be usefull for the model (we will save it into Ticket_p) but at the same time wew will clear our ticket number from umbiques information (It may be some hidden connections in the ticket numbers)."
   ]
  },
  {
   "cell_type": "code",
   "execution_count": 15,
   "metadata": {
    "_cell_guid": "5ee04e59-0850-4c50-9f00-477c8af92da7",
    "_uuid": "85ea3798-a81e-4d32-813d-dec4bcb1ccd2",
    "collapsed": false,
    "execution": {
     "iopub.execute_input": "2022-07-11T06:08:16.709721Z",
     "iopub.status.busy": "2022-07-11T06:08:16.709108Z",
     "iopub.status.idle": "2022-07-11T06:08:16.720563Z",
     "shell.execute_reply": "2022-07-11T06:08:16.721119Z"
    },
    "jupyter": {
     "outputs_hidden": false
    },
    "papermill": {
     "duration": 0.08049,
     "end_time": "2022-07-11T06:08:16.721310",
     "exception": false,
     "start_time": "2022-07-11T06:08:16.640820",
     "status": "completed"
    },
    "tags": []
   },
   "outputs": [],
   "source": [
    "prefixes = []\n",
    "nums, prefs = [],[]\n",
    "for i in df[\"Ticket\"].values:   \n",
    "    if not i.isdigit():\n",
    "        nums.append(int(re.search('.* {1}([0-9]+)', i).groups()[0]))\n",
    "        prefix = re.search('(.*)( {1})[0-9]+', i).groups()[0]\n",
    "        prefs.append(prefix.replace(\".\",\"\").replace(\" \", \"\").replace(\"/\",\"\")) # Needed to put in one group such prefixes as \"A/5\", \"A/5.\", \"A.5\" etc.\n",
    "    else:\n",
    "        nums.append(int(i))\n",
    "        prefs.append(\"\")\n",
    "df[\"Ticket\"] = nums\n",
    "df[\"Ticket_p\"] = prefs"
   ]
  },
  {
   "cell_type": "code",
   "execution_count": 16,
   "metadata": {
    "_cell_guid": "8c19c9cd-9854-4b93-8593-d4933bae9cb7",
    "_uuid": "3cc290b8-125a-4fdf-85d9-af4c41e4763c",
    "collapsed": false,
    "execution": {
     "iopub.execute_input": "2022-07-11T06:08:16.857660Z",
     "iopub.status.busy": "2022-07-11T06:08:16.857048Z",
     "iopub.status.idle": "2022-07-11T06:08:16.978327Z",
     "shell.execute_reply": "2022-07-11T06:08:16.979025Z"
    },
    "jupyter": {
     "outputs_hidden": false
    },
    "papermill": {
     "duration": 0.191721,
     "end_time": "2022-07-11T06:08:16.979244",
     "exception": false,
     "start_time": "2022-07-11T06:08:16.787523",
     "status": "completed"
    },
    "tags": []
   },
   "outputs": [
    {
     "data": {
      "text/html": [
       "<div>                            <div id=\"7fce9260-136e-4bf5-824b-0373080fe871\" class=\"plotly-graph-div\" style=\"height:500px; width:1200px;\"></div>            <script type=\"text/javascript\">                require([\"plotly\"], function(Plotly) {                    window.PLOTLYENV=window.PLOTLYENV || {};                                    if (document.getElementById(\"7fce9260-136e-4bf5-824b-0373080fe871\")) {                    Plotly.newPlot(                        \"7fce9260-136e-4bf5-824b-0373080fe871\",                        [{\"hovertemplate\": \"Survived=0.0<br>Ticket_p=%{x}<br>Name=%{y}<extra></extra>\", \"legendgroup\": \"0.0\", \"marker\": {\"color\": \"#273176\", \"symbol\": \"circle\"}, \"mode\": \"markers\", \"name\": \"0.0\", \"showlegend\": true, \"type\": \"scattergl\", \"x\": [\"A5\", \"\", \"\", \"\", \"\", \"A5\", \"\", \"\", \"\", \"\", \"\", \"\", \"\", \"\", \"\", \"PC\", \"CA\", \"PC\", \"\", \"A5\", \"\", \"\", \"\", \"\", \"SCA4\", \"\", \"\", \"\", \"\", \"A4\", \"\", \"\", \"CA\", \"\", \"\", \"\", \"PC\", \"SP\", \"\", \"CA\", \"CA\", \"SOC\", \"\", \"\", \"\", \"\", \"\", \"\", \"WC\", \"SOTONOQ\", \"\", \"\", \"\", \"WEP\", \"CA\", \"\", \"\", \"PC\", \"\", \"\", \"\", \"\", \"\", \"\", \"\", \"\", \"\", \"\", \"\", \"\", \"\", \"STONO2\", \"\", \"\", \"PC\", \"\", \"SOC\", \"A4\", \"\", \"\", \"\", \"\", \"\", \"SOTONOQ\", \"A5\", \"CA\", \"SCPARIS\", \"\", \"\", \"PC\", \"\", \"\", \"\", \"CA\", \"WC\", \"\", \"\", \"SOP\", \"A5\", \"A5\", \"Fa\", \"PC\", \"SOTONOQ\", \"\", \"CA\", \"\", \"\", \"\", \"\", \"\", \"PC\", \"\", \"\", \"\", \"STONO2\", \"\", \"\", \"\", \"PC\", \"\", \"\", \"CA\", \"SCPARIS\", \"\", \"\", \"\", \"\", \"\", \"\", \"\", \"\", \"\", \"CA\", \"\", \"\", \"\", \"\", \"SOTONOQ\", \"A5\", \"\", \"\", \"\", \"WC\", \"\", \"\", \"\", \"PP\", \"A5\", \"\", \"\", \"\", \"\", \"CA\", \"WC\", \"\", \"\", \"SCOW\", \"\", \"WC\", \"STONO2\", \"\", \"\", \"\", \"\", \"\", \"\", \"\", \"A5\", \"\", \"\", \"\", \"\", \"\", \"CA\", \"\", \"\", \"PC\", \"\", \"\", \"\", \"\", \"\", \"\", \"\", \"\", \"\", \"SCParis\", \"\", \"\", \"PC\", \"\", \"\", \"\", \"A5\", \"PPP\", \"\", \"\", \"FCC\", \"\", \"A5\", \"\", \"CA\", \"\", \"\", \"PC\", \"\", \"\", \"\", \"\", \"\", \"\", \"\", \"\", \"\", \"\", \"\", \"\", \"\", \"\", \"\", \"\", \"SCPARIS\", \"\", \"SOTONOQ\", \"\", \"C\", \"\", \"\", \"PC\", \"\", \"\", \"\", \"\", \"STONO2\", \"\", \"SOC\", \"CA\", \"\", \"\", \"\", \"\", \"\", \"\", \"\", \"\", \"STONO2\", \"\", \"\", \"\", \"\", \"\", \"\", \"\", \"\", \"\", \"\", \"\", \"\", \"A5\", \"\", \"\", \"\", \"A4\", \"\", \"STONO2\", \"\", \"WC\", \"\", \"CA\", \"\", \"\", \"CA\", \"\", \"\", \"A5\", \"\", \"\", \"\", \"\", \"\", \"AS\", \"SOTONOQ\", \"\", \"\", \"\", \"\", \"\", \"\", \"\", \"\", \"\", \"\", \"CA\", \"\", \"A5\", \"\", \"\", \"A5\", \"\", \"SOTONOQ\", \"\", \"PC\", \"A4\", \"\", \"CA\", \"\", \"\", \"\", \"\", \"\", \"\", \"PC\", \"C\", \"SOTONOQ\", \"\", \"\", \"\", \"\", \"\", \"\", \"\", \"\", \"PC\", \"\", \"\", \"\", \"\", \"\", \"\", \"\", \"\", \"\", \"PC\", \"\", \"\", \"\", \"\", \"\", \"PC\", \"\", \"\", \"\", \"SOTONOQ\", \"SOTONOQ\", \"A4\", \"\", \"\", \"\", \"A4\", \"\", \"\", \"\", \"\", \"\", \"\", \"\", \"A5\", \"STONO2\", \"A5\", \"\", \"SCAH\", \"\", \"\", \"\", \"\", \"\", \"\", \"\", \"\", \"\", \"SOTONOQ\", \"\", \"\", \"\", \"A5\", \"\", \"\", \"\", \"\", \"\", \"\", \"\", \"\", \"\", \"\", \"\", \"STONO2\", \"CA\", \"\", \"\", \"\", \"\", \"\", \"SOPP\", \"\", \"\", \"\", \"SOC\", \"\", \"\", \"\", \"\", \"\", \"\", \"\", \"SOC\", \"\", \"\", \"A5\", \"FC\", \"CA\", \"\", \"\", \"\", \"CA\", \"\", \"\", \"CA\", \"\", \"SCParis\", \"\", \"\", \"\", \"\", \"\", \"\", \"\", \"\", \"\", \"\", \"\", \"\", \"\", \"\", \"\", \"\", \"\", \"\", \"\", \"\", \"\", \"\", \"\", \"\", \"STONO2\", \"\", \"\", \"\", \"\", \"\", \"WC\", \"\", \"\", \"\", \"\", \"WEP\", \"CA\", \"\", \"\", \"\", \"\", \"\", \"\", \"\", \"\", \"SOTONO2\", \"\", \"\", \"\", \"\", \"\", \"\", \"\", \"SOPP\", \"\", \"\", \"\", \"\", \"\", \"WC\", \"SOTONOQ\", \"\", \"\", \"PC\", \"\", \"\", \"CA\", \"PC\", \"\", \"\", \"\", \"\", \"\", \"\", \"\", \"\", \"\", \"\", \"A4\", \"\", \"\", \"\", \"\", \"STONO2\", \"SCPARIS\", \"C\", \"\", \"\", \"\", \"\", \"\", \"\", \"\", \"\", \"\", \"\", \"SOTONO2\", \"SOPP\", \"\", \"\", \"CA\", \"CA\", \"\", \"\", \"\", \"\", \"\", \"\", \"\", \"\", \"\", \"CA\", \"\", \"PC\", \"\", \"\", \"\", \"\", \"\", \"\", \"\", \"\", \"\", \"CASOTON\", \"SOTONOQ\", \"\", \"\", \"WC\", \"\"], \"xaxis\": \"x\", \"y\": [\"Braund, Mr. Owen Harris\", \"Allen, Mr. William Henry\", \"Moran, Mr. James\", \"McCarthy, Mr. Timothy J\", \"Palsson, Master. Gosta Leonard\", \"Saundercock, Mr. William Henry\", \"Andersson, Mr. Anders Johan\", \"Vestrom, Miss. Hulda Amanda Adolfina\", \"Rice, Master. Eugene\", \"Vander Planke, Mrs. Julius (Emelia Maria Vandemoortele)\", \"Fynney, Mr. Joseph J\", \"Palsson, Miss. Torborg Danira\", \"Emir, Mr. Farred Chehab\", \"Fortune, Mr. Charles Alexander\", \"Todoroff, Mr. Lalio\", \"Uruchurtu, Don. Manuel E\", \"Wheadon, Mr. Edward H\", \"Meyer, Mr. Edgar Joseph\", \"Holverson, Mr. Alexander Oskar\", \"Cann, Mr. Ernest Charles\", \"Vander Planke, Miss. Augusta Maria\", \"Ahlin, Mrs. Johan (Johanna Persdotter Larsson)\", \"Turpin, Mrs. William John Robert (Dorothy Ann Wonnacott)\", \"Kraeff, Mr. Theodor\", \"Rogers, Mr. William John\", \"Lennon, Mr. Denis\", \"Samaan, Mr. Youssef\", \"Arnold-Franchi, Mrs. Josef (Josefine Franchi)\", \"Panula, Master. Juha Niilo\", \"Nosworthy, Mr. Richard Cater\", \"Ostby, Mr. Engelhart Cornelius\", \"Novel, Mr. Mansouer\", \"Goodwin, Master. William Frederick\", \"Sirayanian, Mr. Orsen\", \"Harris, Mr. Henry Birkhardt\", \"Skoog, Master. Harald\", \"Stewart, Mr. Albert A\", \"Crease, Mr. Ernest James\", \"Kink, Mr. Vincenz\", \"Jenkin, Mr. Stephen Curnow\", \"Goodwin, Miss. Lillian Amy\", \"Hood, Mr. Ambrose Jr\", \"Chronopoulos, Mr. Apostolos\", \"Moen, Mr. Sigurd Hansen\", \"Staneff, Mr. Ivan\", \"Moutal, Mr. Rahamin Haim\", \"Waelens, Mr. Achille\", \"Carrau, Mr. Francisco M\", \"Ford, Mr. William Neal\", \"Slocovski, Mr. Selman Francis\", \"Celotti, Mr. Francesco\", \"Christmann, Mr. Emil\", \"Andreasson, Mr. Paul Edvin\", \"Chaffee, Mr. Herbert Fuller\", \"Dean, Mr. Bertram Frank\", \"Coxon, Mr. Daniel\", \"Shorney, Mr. Charles Joseph\", \"Goldschmidt, Mr. George B\", \"Kantor, Mr. Sinai\", \"Petranec, Miss. Matilda\", \"Petroff, Mr. Pastcho (\\\"Pentcho\\\")\", \"White, Mr. Richard Frasar\", \"Johansson, Mr. Gustaf Joel\", \"Gustafsson, Mr. Anders Vilhelm\", \"Mionoff, Mr. Stoytcho\", \"Rekic, Mr. Tido\", \"Porter, Mr. Walter Chamberlain\", \"Zabour, Miss. Hileni\", \"Barton, Mr. David John\", \"Jussila, Miss. Katriina\", \"Attalah, Miss. Malake\", \"Pekoniemi, Mr. Edvard\", \"Connors, Mr. Patrick\", \"Turpin, Mr. William John Robert\", \"Baxter, Mr. Quigg Edmond\", \"Andersson, Miss. Ellis Anna Maria\", \"Hickman, Mr. Stanley George\", \"Moore, Mr. Leonard Charles\", \"Nasser, Mr. Nicholas\", \"White, Mr. Percival Wayland\", \"McMahon, Mr. Martin\", \"Ekstrom, Mr. Johan\", \"Drazenoic, Mr. Jozef\", \"Coelho, Mr. Domingos Fernandeo\", \"Robins, Mrs. Alexander A (Grace Charity Laury)\", \"Sobey, Mr. Samuel James Hayden\", \"Richard, Mr. Emile\", \"Futrelle, Mr. Jacques Heath\", \"Osen, Mr. Olaf Elon\", \"Giglio, Mr. Victor\", \"Boulos, Mrs. Joseph (Sultana)\", \"Burke, Mr. Jeremiah\", \"Andrew, Mr. Edgardo Samuel\", \"Nicholls, Mr. Joseph Charles\", \"Ford, Miss. Robina Maggie \\\"Ruby\\\"\", \"Navratil, Mr. Michel (\\\"Louis M Hoffman\\\")\", \"Byles, Rev. Thomas Roussel Davids\", \"Bateman, Rev. Robert James\", \"Meo, Mr. Alfonzo\", \"van Billiard, Mr. Austin Blyler\", \"Olsen, Mr. Ole Martin\", \"Williams, Mr. Charles Duane\", \"Corn, Mr. Harry\", \"Smiljanic, Mr. Mile\", \"Sage, Master. Thomas Henry\", \"Cribb, Mr. John Hatfield\", \"Bengtsson, Mr. John Viktor\", \"Calic, Mr. Jovo\", \"Panula, Master. Eino Viljami\", \"Skoog, Mrs. William (Anna Bernhardina Karlsson)\", \"Baumann, Mr. John D\", \"Ling, Mr. Lee\", \"Van der hoef, Mr. Wyckoff\", \"Rice, Master. Arthur\", \"Sivola, Mr. Antti Wilhelm\", \"Smith, Mr. James Clinch\", \"Klasen, Mr. Klas Albin\", \"Lefebre, Master. Henry Forbes\", \"Isham, Miss. Ann Elizabeth\", \"Hale, Mr. Reginald\", \"Leonard, Mr. Lionel\", \"Sage, Miss. Constance Gladys\", \"Pernot, Mr. Rene\", \"Asplund, Master. Clarence Gustaf Hugo\", \"Rood, Mr. Hugh Roscoe\", \"Bourke, Mr. John\", \"Turcin, Mr. Stjepan\", \"Carbines, Mr. William\", \"Mernagh, Mr. Robert\", \"Olsen, Mr. Karl Siegwart Andreas\", \"Yrois, Miss. Henriette (\\\"Mrs Harbeck\\\")\", \"Vande Walle, Mr. Nestor Cyriel\", \"Sage, Mr. Frederick\", \"Johanson, Mr. Jakob Alfred\", \"Youseff, Mr. Gerious\", \"Strom, Miss. Telma Matilda\", \"Backstrom, Mr. Karl Alfred\", \"Ali, Mr. Ahmed\", \"Perkin, Mr. John Henry\", \"Givard, Mr. Hans Kristensen\", \"Kiernan, Mr. Philip\", \"Jacobsohn, Mr. Sidney Samuel\", \"Harris, Mr. Walter\", \"Bracken, Mr. James H\", \"Green, Mr. George Henry\", \"Nenkoff, Mr. Christo\", \"Berglund, Mr. Karl Ivar Sven\", \"Lovell, Mr. John Hall (\\\"Henry\\\")\", \"Fahlstrom, Mr. Arne Jonas\", \"Lefebre, Miss. Mathilde\", \"Larsson, Mr. Bengt Edvin\", \"Sjostedt, Mr. Ernst Adolf\", \"Leyson, Mr. Robert William Norman\", \"Harknett, Miss. Alice Phoebe\", \"Hold, Mr. Stephen\", \"Pengelly, Mr. Frederick William\", \"Hunt, Mr. George Henry\", \"Zabour, Miss. Thamine\", \"Coleridge, Mr. Reginald Charles\", \"Maenpaa, Mr. Matti Alexanteri\", \"Attalah, Mr. Sleiman\", \"Minahan, Dr. William Edward\", \"Lindahl, Miss. Agda Thorilda Viktoria\", \"Carter, Rev. Ernest Courtenay\", \"Reed, Mr. James George\", \"Strom, Mrs. Wilhelm (Elna Matilda Persson)\", \"Stead, Mr. William Thomas\", \"Lobb, Mr. William Arthur\", \"Rosblom, Mrs. Viktor (Helena Wilhelmina)\", \"Smith, Mr. Thomas\", \"Taussig, Mr. Emil\", \"Harrison, Mr. William\", \"Henry, Miss. Delia\", \"Reeves, Mr. David\", \"Panula, Mr. Ernesti Arvid\", \"Cairns, Mr. Alexander\", \"Natsch, Mr. Charles H\", \"Lindblom, Miss. Augusta Charlotta\", \"Parkes, Mr. Francis \\\"Frank\\\"\", \"Rice, Master. Eric\", \"Duane, Mr. Frank\", \"Olsson, Mr. Nils Johan Goransson\", \"de Pelsmaeker, Mr. Alfons\", \"Smith, Mr. Richard William\", \"Stankovic, Mr. Ivan\", \"Naidenoff, Mr. Penko\", \"Levy, Mr. Rene Jacques\", \"Haas, Miss. Aloisia\", \"Mineff, Mr. Ivan\", \"Lewy, Mr. Ervin G\", \"Hanna, Mr. Mansour\", \"Allison, Miss. Helen Loraine\", \"Johnson, Mr. William Cahoone Jr\", \"Williams, Mr. Howard Hugh \\\"Harry\\\"\", \"Abelson, Mr. Samuel\", \"Lahtinen, Mrs. William (Anna Sylfven)\", \"Hendekovic, Mr. Ignjac\", \"Hart, Mr. Benjamin\", \"Moraweck, Dr. Ernest\", \"Dennis, Mr. Samuel\", \"Danoff, Mr. Yoto\", \"Sage, Mr. George John Jr\", \"Nysveen, Mr. Johan Hansen\", \"Partner, Mr. Austen\", \"Graham, Mr. George Edward\", \"Vander Planke, Mr. Leo Edmondus\", \"Denkoff, Mr. Mitto\", \"Pears, Mr. Thomas Clinton\", \"Blackwell, Mr. Stephen Weart\", \"Collander, Mr. Erik Gustaf\", \"Sedgwick, Mr. Charles Frederick Waddington\", \"Fox, Mr. Stanley Hubert\", \"Dimic, Mr. Jovan\", \"Odahl, Mr. Nils Martin\", \"Williams-Lambert, Mr. Fletcher Fellows\", \"Elias, Mr. Tannous\", \"Arnold-Franchi, Mr. Josef\", \"Yousif, Mr. Wazli\", \"Vanden Steen, Mr. Leo Peter\", \"Funk, Miss. Annie Clemmer\", \"Skoog, Mr. Wilhelm\", \"del Carlo, Mr. Sebastiano\", \"Barbara, Mrs. (Catherine David)\", \"Asim, Mr. Adola\", \"O'Brien, Mr. Thomas\", \"Adahl, Mr. Mauritz Nils Martin\", \"Wiklund, Mr. Jakob Alfred\", \"Beavan, Mr. William Thomas\", \"Ringhini, Mr. Sante\", \"Palsson, Miss. Stina Viola\", \"Widener, Mr. Harry Elkins\", \"Betros, Mr. Tannous\", \"Gustafsson, Mr. Karl Gideon\", \"Tikkanen, Mr. Juho\", \"Plotcharsky, Mr. Vasil\", \"Davies, Mr. Charles Henry\", \"Goodwin, Master. Sidney Leonard\", \"Sadlier, Mr. Matthew\", \"Gustafsson, Mr. Johan Birger\", \"Johansson, Mr. Erik\", \"Olsson, Miss. Elina\", \"McKane, Mr. Peter David\", \"Pain, Dr. Alfred\", \"Adams, Mr. John\", \"Jussila, Miss. Mari Aina\", \"Hakkarainen, Mr. Pekka Pietari\", \"Oreskovic, Miss. Marija\", \"Gale, Mr. Shadrach\", \"Widegren, Mr. Carl/Charles Peter\", \"Birkeland, Mr. Hans Martin Monsen\", \"Lefebre, Miss. Ida\", \"Sdycoff, Mr. Todor\", \"Hart, Mr. Henry\", \"Cunningham, Mr. Alfred Fleming\", \"Meek, Mrs. Thomas (Annie Louise Rowley)\", \"Matthews, Mr. William John\", \"Van Impe, Miss. Catharina\", \"Gheorgheff, Mr. Stanio\", \"Charters, Mr. David\", \"Zimmerman, Mr. Leo\", \"Danbom, Mrs. Ernst Gilbert (Anna Sigrid Maria Brogren)\", \"Rosblom, Mr. Viktor Richard\", \"Wiseman, Mr. Phillippe\", \"Flynn, Mr. James\", \"Kallio, Mr. Nikolai Erland\", \"Silvey, Mr. William Baird\", \"Ford, Miss. Doolina Margaret \\\"Daisy\\\"\", \"Fortune, Mr. Mark\", \"Kvillner, Mr. Johan Henrik Johannesson\", \"Hampe, Mr. Leon\", \"Petterson, Mr. Johan Emil\", \"West, Mr. Edwy Arthur\", \"Hagland, Mr. Ingvald Olai Olsen\", \"Foreman, Mr. Benjamin Laventall\", \"Peduzzi, Mr. Joseph\", \"Millet, Mr. Francis Davis\", \"O'Connor, Mr. Maurice\", \"Morley, Mr. William\", \"Gee, Mr. Arthur H\", \"Milling, Mr. Jacob Christian\", \"Maisner, Mr. Simon\", \"Goncalves, Mr. Manuel Estanslas\", \"Campbell, Mr. William\", \"Smart, Mr. John Montgomery\", \"Scanlan, Mr. James\", \"Keefe, Mr. Arthur\", \"Cacic, Mr. Luka\", \"Strandberg, Miss. Ida Sofia\", \"Clifford, Mr. George Quincy\", \"Renouf, Mr. Peter Henry\", \"Braund, Mr. Lewis Richard\", \"Karlsson, Mr. Nils August\", \"Goodwin, Master. Harold Victor\", \"Frost, Mr. Anthony Wood \\\"Archie\\\"\", \"Rouse, Mr. Richard Henry\", \"Lefebre, Miss. Jeannie\", \"Kent, Mr. Edward Austin\", \"Somerton, Mr. Francis William\", \"Hagland, Mr. Konrad Mathias Reiersen\", \"Windelov, Mr. Einar\", \"Molson, Mr. Harry Markland\", \"Artagaveytia, Mr. Ramon\", \"Stanley, Mr. Edward Roland\", \"Yousseff, Mr. Gerious\", \"Shellard, Mr. Frederick William\", \"Allison, Mrs. Hudson J C (Bessie Waldo Daniels)\", \"Svensson, Mr. Olof\", \"Calic, Mr. Petar\", \"Canavan, Miss. Mary\", \"O'Sullivan, Miss. Bridget Mary\", \"Laitinen, Miss. Kristina Sofia\", \"Penasco y Castellana, Mr. Victor de Satode\", \"Olsen, Mr. Henry Margido\", \"Webber, Mr. James\", \"Coleff, Mr. Satio\", \"Walker, Mr. William Anderson\", \"Ryan, Mr. Patrick\", \"Pavlovic, Mr. Stefo\", \"Vovk, Mr. Janko\", \"Lahoud, Mr. Sarkis\", \"Kassem, Mr. Fared\", \"Farrell, Mr. James\", \"Farthing, Mr. John\", \"Salonen, Mr. Johan Werner\", \"Hocking, Mr. Richard George\", \"Toufik, Mr. Nakli\", \"Elias, Mr. Joseph Jr\", \"Cacic, Miss. Marija\", \"Butt, Major. Archibald Willingham\", \"Risien, Mr. Samuel Beard\", \"Andersson, Miss. Ingeborg Constanzia\", \"Andersson, Miss. Sigrid Elisabeth\", \"Douglas, Mr. Walter Donald\", \"Nicholson, Mr. Arthur Ernest\", \"Goldsmith, Mr. Frank John\", \"Sharp, Mr. Percival James R\", \"O'Brien, Mr. Timothy\", \"Wright, Mr. George\", \"Robbins, Mr. Victor\", \"Morrow, Mr. Thomas Rowan\", \"Sivic, Mr. Husein\", \"Norman, Mr. Robert Douglas\", \"Simmons, Mr. John\", \"Meanwell, Miss. (Marion Ogden)\", \"Davies, Mr. Alfred J\", \"Stoytcheff, Mr. Ilia\", \"Palsson, Mrs. Nils (Alma Cornelia Berglund)\", \"Doharr, Mr. Tannous\", \"Rush, Mr. Alfred George John\", \"Patchett, Mr. George\", \"Caram, Mrs. Joseph (Maria Elias)\", \"Downton, Mr. William James\", \"Ross, Mr. John Hugo\", \"Paulner, Mr. Uscher\", \"Jarvis, Mr. John Denzil\", \"Gilinski, Mr. Eliezer\", \"Murdlin, Mr. Joseph\", \"Rintamaki, Mr. Matti\", \"Elsbury, Mr. William James\", \"Bourke, Miss. Mary\", \"Chapman, Mr. John Henry\", \"Van Impe, Mr. Jean Baptiste\", \"Johnson, Mr. Alfred\", \"Boulos, Mr. Hanna\", \"Slabenoff, Mr. Petco\", \"Harrington, Mr. Charles H\", \"Torber, Mr. Ernst William\", \"Lindell, Mr. Edvard Bengtsson\", \"Karaic, Mr. Milan\", \"Andersson, Mrs. Anders Johan (Alfrida Konstantia Brogren)\", \"Jardin, Mr. Jose Neto\", \"Horgan, Mr. John\", \"Brocklebank, Mr. William Alfred\", \"Danbom, Mr. Ernst Gilbert\", \"Lobb, Mrs. William Arthur (Cordelia K Stanlick)\", \"Gavey, Mr. Lawrence\", \"Yasbeck, Mr. Antoni\", \"Hansen, Mr. Henry Damsgaard\", \"Bowen, Mr. David John \\\"Dai\\\"\", \"Sutton, Mr. Frederick\", \"Kirkland, Rev. Charles Leonard\", \"Bostandyeff, Mr. Guentcho\", \"O'Connell, Mr. Patrick D\", \"Lundahl, Mr. Johan Svensson\", \"Parr, Mr. William Henry Marsh\", \"Skoog, Miss. Mabel\", \"Leinonen, Mr. Antti Gustaf\", \"Collyer, Mr. Harvey\", \"Panula, Mrs. Juha (Maria Emilia Ojala)\", \"Thorneycroft, Mr. Percival\", \"Jensen, Mr. Hans Peder\", \"Skoog, Miss. Margit Elizabeth\", \"Cor, Mr. Liudevit\", \"Willey, Mr. Edward\", \"Mitkoff, Mr. Mito\", \"Kalvik, Mr. Johannes Halvorsen\", \"Hegarty, Miss. Hanora \\\"Nora\\\"\", \"Hickman, Mr. Leonard Mark\", \"Radeff, Mr. Alexander\", \"Bourke, Mrs. John (Catherine)\", \"Eitemiller, Mr. George Floyd\", \"Newell, Mr. Arthur Webster\", \"Badt, Mr. Mohamed\", \"Colley, Mr. Edward Pomeroy\", \"Coleff, Mr. Peju\", \"Hickman, Mr. Lewis\", \"Butler, Mr. Reginald Fenton\", \"Rommetvedt, Mr. Knud Paust\", \"Cook, Mr. Jacob\", \"Davidson, Mr. Thornton\", \"Mitchell, Mr. Henry Michael\", \"Watson, Mr. Ennis Hastings\", \"Edvardsson, Mr. Gustaf Hjalmar\", \"Sawyer, Mr. Frederick Charles\", \"Goodwin, Mrs. Frederick (Augusta Tyler)\", \"Peters, Miss. Katie\", \"Olsvigen, Mr. Thor Anderson\", \"Goodwin, Mr. Charles Edward\", \"Brown, Mr. Thomas William Solomon\", \"Laroche, Mr. Joseph Philippe Lemercier\", \"Panula, Mr. Jaako Arnold\", \"Dakic, Mr. Branko\", \"Fischer, Mr. Eberhard Thelander\", \"Saad, Mr. Khalil\", \"Weir, Col. John\", \"Chapman, Mr. Charles Henry\", \"Kelly, Mr. James\", \"Thayer, Mr. John Borland\", \"Humblen, Mr. Adolf Mathias Nicolai Olsen\", \"Barbara, Miss. Saiide\", \"Gallagher, Mr. Martin\", \"Hansen, Mr. Henrik Juul\", \"Morley, Mr. Henry Samuel (\\\"Mr Henry Marshall\\\")\", \"Klaber, Mr. Herman\", \"Larsson, Mr. August Viktor\", \"Greenberg, Mr. Samuel\", \"Soholt, Mr. Peter Andreas Lauritz Andersen\", \"McEvoy, Mr. Michael\", \"Johnson, Mr. Malkolm Joackim\", \"Jensen, Mr. Svend Lauritz\", \"Gillespie, Mr. William Henry\", \"Hodges, Mr. Henry Price\", \"Oreskovic, Mr. Luka\", \"Bryhl, Mr. Kurt Arnold Gottfrid\", \"Ilmakangas, Miss. Pieta Sofia\", \"Hassan, Mr. Houssein G N\", \"Knight, Mr. Robert J\", \"Berriman, Mr. William John\", \"Troupiansky, Mr. Moses Aaron\", \"Williams, Mr. Leslie\", \"Ford, Mrs. Edward (Margaret Ann Watson)\", \"Ivanoff, Mr. Kanio\", \"Nankoff, Mr. Minko\", \"Cavendish, Mr. Tyrell William\", \"McNamee, Mr. Neal\", \"Crosby, Capt. Edward Gifford\", \"Abbott, Mr. Rossmore Edward\", \"Marvin, Mr. Daniel Warner\", \"Connaghton, Mr. Michael\", \"Vande Velde, Mr. Johannes Joseph\", \"Jonkoff, Mr. Lalio\", \"Carlsson, Mr. August Sigfrid\", \"Bailey, Mr. Percy Andrew\", \"Theobald, Mr. Thomas Leonard\", \"Garfirth, Mr. John\", \"Nirva, Mr. Iisakki Antino Aijo\", \"Eklund, Mr. Hans Linus\", \"Brewe, Dr. Arthur Jackson\", \"Mangan, Miss. Mary\", \"Moran, Mr. Daniel J\", \"Gronnestad, Mr. Daniel Danielsen\", \"Lievens, Mr. Rene Aime\", \"Jensen, Mr. Niels Peder\", \"Mack, Mrs. (Mary)\", \"Elias, Mr. Dibo\", \"Myhrman, Mr. Pehr Fabian Oliver Malkolm\", \"Tobin, Mr. Roger\", \"Kilgannon, Mr. Thomas J\", \"Long, Mr. Milton Clyde\", \"Johnston, Mr. Andrew G\", \"Ali, Mr. William\", \"Harmer, Mr. Abraham (David Lishin)\", \"Rice, Master. George Hugh\", \"Guggenheim, Mr. Benjamin\", \"Keane, Mr. Andrew \\\"Andy\\\"\", \"Gaskell, Mr. Alfred\", \"Sage, Miss. Stella Anna\", \"Hoyt, Mr. William Fisher\", \"Dantcheff, Mr. Ristiu\", \"Otter, Mr. Richard\", \"Ibrahim Shawah, Mr. Yousseff\", \"Van Impe, Mrs. Jean Baptiste (Rosalie Paula Govaert)\", \"Ponesell, Mr. Martin\", \"Johansson, Mr. Karl Johan\", \"Andrews, Mr. Thomas Jr\", \"Pettersson, Miss. Ellen Natalia\", \"Meyer, Mr. August\", \"Alexander, Mr. William\", \"Lester, Mr. James\", \"Slemen, Mr. Richard James\", \"Andersson, Miss. Ebba Iris Alfrida\", \"Tomlin, Mr. Ernest Portage\", \"Fry, Mr. Richard\", \"Heininen, Miss. Wendla Maria\", \"Mallet, Mr. Albert\", \"Holm, Mr. John Fredrik Alexander\", \"Skoog, Master. Karl Thorsten\", \"Reuchlin, Jonkheer. John George\", \"Panula, Master. Urho Abraham\", \"Flynn, Mr. John\", \"Lam, Mr. Len\", \"Saad, Mr. Amin\", \"Augustsson, Mr. Albert\", \"Allum, Mr. Owen George\", \"Pasic, Mr. Jakob\", \"Sirota, Mr. Maurice\", \"Alhomaki, Mr. Ilmari Rudolf\", \"Mudd, Mr. Thomas Charles\", \"Lemberopolous, Mr. Peter L\", \"Culumovic, Mr. Jeso\", \"Abbing, Mr. Anthony\", \"Sage, Mr. Douglas Bullen\", \"Markoff, Mr. Marin\", \"Harper, Rev. John\", \"Andersson, Master. Sigvard Harald Elias\", \"Svensson, Mr. Johan\", \"Boulos, Miss. Nourelain\", \"Carter, Mrs. Ernest Courtenay (Lilian Hughes)\", \"Razi, Mr. Raihed\", \"Hansen, Mr. Claus Peter\", \"Giles, Mr. Frederick Edward\", \"Sage, Miss. Dorothy Edith \\\"Dolly\\\"\", \"Gill, Mr. John William\", \"Roebling, Mr. Washington Augustus II\", \"van Melkebeke, Mr. Philemon\", \"Balkic, Mr. Cerin\", \"Carlsson, Mr. Frans Olof\", \"Vander Cruyssen, Mr. Victor\", \"Gustafsson, Mr. Alfred Ossian\", \"Petroff, Mr. Nedelio\", \"Laleff, Mr. Kristo\", \"Markun, Mr. Johann\", \"Dahlberg, Miss. Gerda Ulrika\", \"Banfield, Mr. Frederick James\", \"Sutehall, Mr. Henry Jr\", \"Rice, Mrs. William (Margaret Norton)\", \"Montvila, Rev. Juozas\", \"Johnston, Miss. Catherine Helen \\\"Carrie\\\"\", \"Dooley, Mr. Patrick\"], \"yaxis\": \"y\"}, {\"hovertemplate\": \"Survived=1.0<br>Ticket_p=%{x}<br>Name=%{y}<extra></extra>\", \"legendgroup\": \"1.0\", \"marker\": {\"color\": \"#3B61A3\", \"symbol\": \"circle\"}, \"mode\": \"markers\", \"name\": \"1.0\", \"showlegend\": true, \"type\": \"scattergl\", \"x\": [\"PC\", \"STONO2\", \"\", \"\", \"\", \"PP\", \"\", \"\", \"\", \"\", \"\", \"\", \"\", \"\", \"\", \"PC\", \"\", \"\", \"\", \"SCParis\", \"\", \"\", \"PC\", \"\", \"\", \"CA\", \"CA\", \"\", \"\", \"CA\", \"\", \"\", \"\", \"\", \"\", \"\", \"SOC\", \"\", \"\", \"PC\", \"\", \"\", \"\", \"\", \"\", \"\", \"C\", \"\", \"\", \"\", \"\", \"STONO2\", \"\", \"\", \"\", \"CA\", \"\", \"\", \"\", \"\", \"\", \"\", \"\", \"\", \"\", \"\", \"PC\", \"PC\", \"\", \"A5\", \"\", \"\", \"\", \"FCC\", \"\", \"STONO2\", \"\", \"SOTONOQ\", \"\", \"SWPP\", \"\", \"\", \"CA\", \"\", \"\", \"\", \"\", \"PC\", \"\", \"PC\", \"\", \"\", \"\", \"PC\", \"PC\", \"\", \"\", \"\", \"\", \"CA\", \"A5\", \"\", \"\", \"\", \"\", \"\", \"\", \"PC\", \"\", \"\", \"\", \"\", \"\", \"PC\", \"PC\", \"\", \"PC\", \"\", \"\", \"\", \"\", \"\", \"\", \"PC\", \"\", \"\", \"\", \"\", \"PC\", \"\", \"\", \"\", \"\", \"\", \"\", \"\", \"CA\", \"\", \"\", \"\", \"\", \"\", \"\", \"PC\", \"\", \"PC\", \"C\", \"PC\", \"\", \"\", \"\", \"SC\", \"\", \"\", \"\", \"PP\", \"\", \"STONO2\", \"\", \"\", \"STONO2\", \"\", \"\", \"\", \"\", \"SOTONOQ\", \"\", \"\", \"SCAH\", \"\", \"\", \"FCC\", \"\", \"\", \"\", \"\", \"\", \"\", \"\", \"\", \"\", \"\", \"FCC\", \"\", \"\", \"CA\", \"SCAHBasle\", \"\", \"\", \"\", \"\", \"CA\", \"\", \"\", \"\", \"\", \"\", \"\", \"PC\", \"PC\", \"CA\", \"\", \"\", \"\", \"WC\", \"\", \"\", \"FCC\", \"PC\", \"\", \"WEP\", \"\", \"\", \"SCPARIS\", \"CA\", \"\", \"\", \"\", \"\", \"\", \"\", \"\", \"SWPP\", \"\", \"PC\", \"\", \"\", \"\", \"STONO2\", \"\", \"\", \"\", \"\", \"\", \"\", \"PC\", \"\", \"\", \"\", \"SCParis\", \"PC\", \"\", \"\", \"\", \"\", \"\", \"\", \"\", \"\", \"\", \"PC\", \"\", \"\", \"PC\", \"\", \"CA\", \"\", \"\", \"PC\", \"STONO2\", \"\", \"\", \"\", \"\", \"PC\", \"PC\", \"\", \"\", \"\", \"\", \"\", \"PC\", \"PC\", \"\", \"PC\", \"\", \"\", \"PC\", \"\", \"PC\", \"\", \"\", \"\", \"\", \"\", \"\", \"PC\", \"\", \"PC\", \"STONO2\", \"\", \"\", \"\", \"\", \"\", \"\", \"\", \"\", \"\", \"\", \"\", \"\", \"\", \"\", \"\", \"CA\", \"\", \"\", \"CA\", \"\", \"\", \"\", \"\", \"\", \"\", \"\", \"SCPARIS\", \"\", \"\", \"\", \"\", \"PC\", \"\", \"\", \"\", \"\", \"PC\", \"\", \"\", \"\", \"\", \"\", \"\", \"SCPARIS\", \"\", \"\", \"PPP\", \"\", \"\", \"\", \"\", \"\"], \"xaxis\": \"x\", \"y\": [\"Cumings, Mrs. John Bradley (Florence Briggs Thayer)\", \"Heikkinen, Miss. Laina\", \"Futrelle, Mrs. Jacques Heath (Lily May Peel)\", \"Johnson, Mrs. Oscar W (Elisabeth Vilhelmina Berg)\", \"Nasser, Mrs. Nicholas (Adele Achem)\", \"Sandstrom, Miss. Marguerite Rut\", \"Bonnell, Miss. Elizabeth\", \"Hewlett, Mrs. (Mary D Kingcome) \", \"Williams, Mr. Charles Eugene\", \"Masselmani, Mrs. Fatima\", \"Beesley, Mr. Lawrence\", \"McGowan, Miss. Anna \\\"Annie\\\"\", \"Sloper, Mr. William Thompson\", \"Asplund, Mrs. Carl Oscar (Selma Augusta Emilia Johansson)\", \"O'Dwyer, Miss. Ellen \\\"Nellie\\\"\", \"Spencer, Mrs. William Augustus (Marie Eugenie)\", \"Glynn, Miss. Mary Agatha\", \"Mamee, Mr. Hanna\", \"Nicola-Yarred, Miss. Jamila\", \"Laroche, Miss. Simonne Marie Anne Andree\", \"Devaney, Miss. Margaret Delia\", \"O'Driscoll, Miss. Bridget\", \"Harper, Mrs. Henry Sleeper (Myna Haxtun)\", \"Faunthorpe, Mrs. Lizzie (Elizabeth Anne Wilkinson)\", \"Woolner, Mr. Hugh\", \"Rugg, Miss. Emily\", \"West, Miss. Constance Mirium\", \"Icard, Miss. Amelie\", \"Moubarek, Master. Gerios\", \"Nye, Mrs. (Elizabeth Ramell)\", \"Andersson, Miss. Erna Alexandra\", \"Bing, Mr. Lee\", \"Caldwell, Master. Alden Gates\", \"Dowdell, Miss. Elizabeth\", \"Sheerlinck, Mr. Jan Baptist\", \"McDermott, Miss. Brigdet Delia\", \"Ilett, Miss. Bertha\", \"Backstrom, Mrs. Karl Alfred (Maria Mathilda Gustafsson)\", \"Fortune, Miss. Mabel Helen\", \"Greenfield, Mr. William Bertram\", \"Doling, Mrs. John T (Ada Julia Bone)\", \"Salkjelsvik, Miss. Anna Kristine\", \"Moss, Mr. Albert Johan\", \"Moran, Miss. Bertha\", \"Webber, Miss. Susan\", \"Nicola-Yarred, Master. Elias\", \"Madsen, Mr. Fridtjof Arne\", \"Peter, Miss. Anna\", \"Weisz, Mrs. Leopold (Mathilde Francoise Pede)\", \"Newsom, Miss. Helen Monypeny\", \"Nysten, Miss. Anna Sofia\", \"Hakkarainen, Mrs. Pekka Pietari (Elin Matilda Dolck)\", \"Andersson, Mr. August Edvard (\\\"Wennerstrom\\\")\", \"Pears, Mrs. Thomas (Edith Wearne)\", \"Gilnagh, Miss. Katherine \\\"Katie\\\"\", \"Watt, Mrs. James (Elizabeth \\\"Bessie\\\" Inglis Milne)\", \"Goldsmith, Master. Frank John William \\\"Frankie\\\"\", \"Chibnall, Mrs. (Edith Martha Bowerman)\", \"Johnson, Miss. Eleanor Ileen\", \"Becker, Master. Richard F\", \"Kink-Heilmann, Miss. Luise Gretchen\", \"O'Brien, Mrs. Thomas (Johanna \\\"Hannah\\\" Godfrey)\", \"Romaine, Mr. Charles Hallace (\\\"Mr C Rolmane\\\")\", \"Pinsky, Mrs. (Rosa)\", \"Andersen-Jensen, Miss. Carla Christine Nielsine\", \"Navratil, Master. Michel M\", \"Brown, Mrs. James Joseph (Margaret Tobin)\", \"Lurette, Miss. Elise\", \"Madigan, Miss. Margaret \\\"Maggie\\\"\", \"Cohen, Mr. Gurshon \\\"Gus\\\"\", \"Albimona, Mr. Nassef Cassem\", \"Carr, Miss. Helen \\\"Ellen\\\"\", \"Blank, Mr. Henry\", \"Cameron, Miss. Clear Annie\", \"Newell, Miss. Madeleine\", \"Honkanen, Miss. Eliina\", \"Bazzani, Miss. Albina\", \"Sunderland, Mr. Victor Francis\", \"Hoyt, Mr. Frederick Maxfield\", \"Mellors, Mr. William John\", \"Harris, Mrs. Henry Birkhardt (Irene Wallach)\", \"Asplund, Miss. Lillian Gertrud\", \"Collyer, Miss. Marjorie \\\"Lottie\\\"\", \"Murphy, Miss. Katherine \\\"Kate\\\"\", \"Hamalainen, Mrs. William (Anna)\", \"Beckwith, Mr. Richard Leonard\", \"Touma, Mrs. Darwis (Hanne Youssef Razi)\", \"Thorne, Mrs. Gertrude Maybelle\", \"Cherry, Miss. Gladys\", \"Ward, Miss. Anna\", \"Parrish, Mrs. (Lutie Davis)\", \"Asplund, Master. Edvin Rojj Felix\", \"Persson, Mr. Ernst Ulrik\", \"Graham, Mrs. William Thompson (Edith Junkins)\", \"Bissette, Miss. Amelia\", \"Tornquist, Mr. William Henry\", \"Mellinger, Mrs. (Elizabeth Anne Maidment)\", \"Healy, Miss. Hanora \\\"Nora\\\"\", \"Andrews, Miss. Kornelia Theodosia\", \"Abbott, Mrs. Stanton (Rosa Hunt)\", \"Dorking, Mr. Edward Arthur\", \"de Mulder, Mr. Theodore\", \"Hosono, Mr. Masabumi\", \"Connolly, Miss. Kate\", \"Barber, Miss. Ellen \\\"Nellie\\\"\", \"Bishop, Mrs. Dickinson H (Helen Walton)\", \"Saalfeld, Mr. Adolphe\", \"Baxter, Mrs. James (Helene DeLaudeniere Chaput)\", \"Kelly, Miss. Anna Katherine \\\"Annie Kate\\\"\", \"McCoy, Mr. Bernard\", \"Keane, Miss. Nora A\", \"Allison, Master. Hudson Trevor\", \"Fleming, Miss. Margaret\", \"Penasco y Castellana, Mrs. Victor de Satode (Maria Josefa Perez de Soto y Vallejo)\", \"Francatelli, Miss. Laura Mabel\", \"Hays, Miss. Margaret Bechstein\", \"Ryerson, Miss. Emily Borie\", \"Nilsson, Miss. Helmina Josefina\", \"Kantor, Mrs. Sinai (Miriam Sternin)\", \"Wick, Miss. Mary Natalie\", \"Spedden, Mrs. Frederic Oakley (Margaretta Corning Stone)\", \"Slayter, Miss. Hilda Mary\", \"Caldwell, Mrs. Albert Francis (Sylvia Mae Harbaugh)\", \"Young, Miss. Marie Grice\", \"Ball, Mrs. (Ada E Hall)\", \"Goldsmith, Mrs. Frank John (Emily Alice Brown)\", \"Hippach, Miss. Jean Gertrude\", \"McCoy, Miss. Agnes\", \"Frauenthal, Mrs. Henry William (Clara Heinsheimer)\", \"Burns, Miss. Elizabeth Margaret\", \"Dahl, Mr. Karl Edwart\", \"Navratil, Master. Edmond Roger\", \"Fortune, Miss. Alice Elizabeth\", \"Brown, Miss. Amelia \\\"Mildred\\\"\", \"Smith, Miss. Marion Elsie\", \"Davison, Mrs. Thomas Henry (Mary E Finck)\", \"Coutts, Master. William Loch \\\"William\\\"\", \"Bowerman, Miss. Elsie Edith\", \"McGovern, Miss. Mary\", \"Mockler, Miss. Helen Mary \\\"Ellie\\\"\", \"Warren, Mrs. Frank Manley (Anna Sophia Atkinson)\", \"Moussa, Mrs. (Mantoura Boulos)\", \"Jermyn, Miss. Annie\", \"Aubart, Mme. Leontine Pauline\", \"Harder, Mr. George Achilles\", \"Meyer, Mrs. Edgar Joseph (Leila Saks)\", \"Landergren, Miss. Aurora Adelia\", \"Bidois, Miss. Rosalie\", \"Nakid, Miss. Maria (\\\"Mary\\\")\", \"Holverson, Mrs. Alexander Oskar (Mary Aline Towner)\", \"Buss, Miss. Kate\", \"Lehmann, Miss. Bertha\", \"Carter, Mr. William Ernest\", \"Jansson, Mr. Carl Olof\", \"Newell, Miss. Marjorie\", \"Sandstrom, Mrs. Hjalmar (Agnes Charlotta Bengtsson)\", \"Trout, Mrs. William H (Jessie L)\", \"Niskanen, Mr. Juha\", \"Richards, Master. William Rowe\", \"Minahan, Miss. Daisy E\", \"Sundman, Mr. Johan Julian\", \"Drew, Mrs. James Vivian (Lulu Thorne Christian)\", \"Silven, Miss. Lyyli Karoliina\", \"Clarke, Mrs. Charles V (Ada Maria Winfield)\", \"Phillips, Miss. Kate Florence (\\\"Mrs Kate Louise Phillips Marshall\\\")\", \"Pickard, Mr. Berk (Berk Trembisky)\", \"Bjornstrom-Steffansson, Mr. Mauritz Hakan\", \"Thorneycroft, Mrs. Percival (Florence Kate White)\", \"Louch, Mrs. Charles Alexander (Alice Adelaide Slow)\", \"Carter, Miss. Lucile Polk\", \"Richards, Mrs. Sidney (Emily Hocking)\", \"Hart, Mrs. Benjamin (Esther Ada Bloomfield)\", \"Reynaldo, Ms. Encarnacion\", \"Johannesen-Bratthammer, Mr. Bernt\", \"Dodge, Master. Washington\", \"Mellinger, Miss. Madeleine Violet\", \"Seward, Mr. Frederic Kimber\", \"Baclini, Miss. Marie Catherine\", \"Peuchen, Major. Arthur Godfrey\", \"Goldenberg, Mr. Samuel L\", \"Jalsevac, Mr. Ivan\", \"Kenyon, Mrs. Frederick R (Marion)\", \"Toomey, Miss. Ellen\", \"Anderson, Mr. Harry\", \"Baclini, Miss. Helene Barbara\", \"West, Mrs. Edwy Arthur (Ada Mary Worth)\", \"Jerwan, Mrs. Amin S (Marie Marthe Thuillard)\", \"Hirvonen, Miss. Hildur E\", \"Turkula, Mrs. (Hedwig)\", \"Bishop, Mr. Dickinson H\", \"Hoyt, Mrs. Frederick Maxfield (Jane Anne Forby)\", \"Coutts, Master. Eden Leslie \\\"Neville\\\"\", \"Eustis, Miss. Elizabeth Mussey\", \"Maioni, Miss. Roberta\", \"Quick, Mrs. Frederick Charles (Jane Richards)\", \"Bradley, Mr. George (\\\"George Arthur Brayton\\\")\", \"Lang, Mr. Fang\", \"Daly, Mr. Eugene Patrick\", \"McGough, Mr. James Robert\", \"Rothschild, Mrs. Martin (Elizabeth L. Barrett)\", \"Lemore, Mrs. (Amelia Milley)\", \"Angle, Mrs. William A (Florence \\\"Mary\\\" Agnes Hughes)\", \"Perreault, Miss. Anne\", \"Hippach, Mrs. Louis Albert (Ida Sophia Fischer)\", \"Ridsdale, Miss. Lucy\", \"Quick, Miss. Phyllis May\", \"Peter, Mrs. Catherine (Catherine Rizk)\", \"Hart, Miss. Eva Miriam\", \"LeRoy, Miss. Bertha\", \"Frolicher, Miss. Hedwig Margaritha\", \"Crosby, Miss. Harriet R\", \"Beane, Mr. Edward\", \"Beane, Mrs. Edward (Ethel Clarke)\", \"Padro y Manent, Mr. Julian\", \"Davies, Master. John Morgan Jr\", \"Thayer, Mr. John Borland Jr\", \"Leeni, Mr. Fahim (\\\"Philip Zenni\\\")\", \"Ohman, Miss. Velin\", \"Duff Gordon, Lady. (Lucille Christiana Sutherland) (\\\"Mrs Morgan\\\")\", \"Taussig, Mrs. Emil (Tillie Mandelbaum)\", \"de Messemaeker, Mrs. Guillaume Joseph (Emma)\", \"Jonsson, Mr. Carl\", \"Harris, Mr. George\", \"Appleton, Mrs. Edward Dale (Charlotte Lamson)\", \"Flynn, Mr. John Irwin (\\\"Irving\\\")\", \"Kelly, Miss. Mary\", \"Garside, Miss. Ethel\", \"Silvey, Mrs. William Baird (Alice Munger)\", \"Jussila, Mr. Eiriik\", \"Christy, Miss. Julie Rachel\", \"Thayer, Mrs. John Borland (Marian Longstreth Morris)\", \"Taussig, Miss. Ruth\", \"Frolicher-Stehli, Mr. Maxmillian\", \"Stephenson, Mrs. Walter Bertram (Martha Eustis)\", \"Leitch, Miss. Jessie Wills\", \"Duff Gordon, Sir. Cosmo Edmund (\\\"Mr Morgan\\\")\", \"Jacobsohn, Mrs. Sidney Samuel (Amy Frances Christy)\", \"Homer, Mr. Harry (\\\"Mr E Haven\\\")\", \"Daniel, Mr. Robert Williams\", \"Laroche, Mrs. Joseph (Juliette Marie Louise Lafargue)\", \"Shutes, Miss. Elizabeth W\", \"Murphy, Miss. Margaret Jane\", \"Herman, Miss. Alice\", \"Becker, Miss. Marion Louise\", \"Kimball, Mr. Edwin Nelson Jr\", \"Nakid, Mr. Sahid\", \"Longley, Miss. Gretchen Fiske\", \"Barkworth, Mr. Algernon Henry Wilson\", \"Stahelin-Maeglin, Dr. Max\", \"Davis, Miss. Mary\", \"Sagesser, Mlle. Emma\", \"Foo, Mr. Choong\", \"Baclini, Miss. Eugenie\", \"Harper, Mr. Henry Sleeper\", \"Simonius-Blumer, Col. Oberst Alfons\", \"Stanley, Miss. Amy Zillah Elsie\", \"Doling, Miss. Elsie\", \"O'Leary, Miss. Hanora \\\"Norah\\\"\", \"Frauenthal, Dr. Henry William\", \"Lindqvist, Mr. Eino William\", \"Taylor, Mrs. Elmer Zebley (Juliet Cummins Wright)\", \"Brown, Mrs. Thomas William Solomon (Elizabeth Catherine Ford)\", \"Wilhelms, Mr. Charles\", \"Turja, Miss. Anna Sofia\", \"Cardeza, Mr. Thomas Drake Martinez\", \"Hassab, Mr. Hammad\", \"Madill, Miss. Georgette Alexandra\", \"Dick, Mr. Albert Adrian\", \"Karun, Miss. Manca\", \"Lam, Mr. Ali\", \"Mullens, Miss. Katherine \\\"Katie\\\"\", \"Astor, Mrs. John Jacob (Madeleine Talmadge Force)\", \"Silverthorne, Mr. Spencer Victor\", \"Kelly, Mrs. Florence \\\"Fannie\\\"\", \"Calderhead, Mr. Edward Pennington\", \"Cleaver, Miss. Alice\", \"Moubarek, Master. Halim Gonios (\\\"William George\\\")\", \"Mayne, Mlle. Berthe Antonine (\\\"Mrs de Villiers\\\")\", \"Taylor, Mr. Elmer Zebley\", \"Endres, Miss. Caroline Louise\", \"Troutt, Miss. Edwina Celia \\\"Winnie\\\"\", \"Harper, Miss. Annie Jessie \\\"Nina\\\"\", \"Chambers, Mr. Norman Campbell\", \"Renouf, Mrs. Peter Henry (Lillian Jefferys)\", \"Mannion, Miss. Margareth\", \"Allen, Miss. Elisabeth Walton\", \"Lesurer, Mr. Gustave J\", \"Hawksford, Mr. Walter James\", \"Ryerson, Miss. Susan Parker \\\"Suzette\\\"\", \"Stranden, Mr. Juho\", \"Sinkkonen, Miss. Anna\", \"Wells, Miss. Joan\", \"Moor, Master. Meier\", \"Herman, Mrs. Samuel (Jane Laver)\", \"Hamalainen, Master. Viljo\", \"Rothes, the Countess. of (Lucy Noel Martha Dyer-Edwards)\", \"Barah, Mr. Hanna Assi\", \"Carter, Mrs. William Ernest (Lucile Polk)\", \"Hogeboom, Mrs. John C (Anna Andrews)\", \"Hocking, Mrs. Elizabeth (Eliza Needs)\", \"Emanuel, Miss. Virginia Ethel\", \"Robert, Mrs. Edward Scott (Elisabeth Walton McMillan)\", \"Ayoub, Miss. Banoura\", \"Dick, Mrs. Albert Adrian (Vera Gillespie)\", \"Sjoblom, Miss. Anna Sofia\", \"Dean, Master. Bertram Vere\", \"Leader, Dr. Alice (Farnham)\", \"Osman, Mrs. Mara\", \"Collyer, Mrs. Harvey (Charlotte Annie Tate)\", \"Carter, Master. William Thornton II\", \"Thomas, Master. Assad Alexander\", \"Hedman, Mr. Oskar Arvid\", \"Chambers, Mrs. Norman Campbell (Bertha Griggs)\", \"Hays, Mrs. Charles Melville (Clara Jennings Gregg)\", \"Lulic, Mr. Nikola\", \"Moor, Mrs. (Beila)\", \"Mallet, Master. Andre\", \"McCormack, Mr. Thomas Joseph\", \"Stone, Mrs. George Nelson (Martha Evelyn)\", \"Yasbeck, Mrs. Antoni (Selini Alexander)\", \"Richards, Master. George Sibley\", \"Compton, Miss. Sara Rebecca\", \"Chip, Mr. Chang\", \"Marechal, Mr. Pierre\", \"Serepeca, Miss. Augusta\", \"Goldenberg, Mrs. Samuel L (Edwiga Grabowska)\", \"Lines, Miss. Mary Conover\", \"Aks, Mrs. Sam (Leah Rosen)\", \"Wick, Mrs. George Dennick (Mary Hitchcock)\", \"Daly, Mr. Peter Denis \", \"Baclini, Mrs. Solomon (Latifa Qurban)\", \"Swift, Mrs. Frederick Joel (Margaret Welles Barron)\", \"Bystrom, Mrs. (Karolina)\", \"Duran y More, Miss. Asuncion\", \"Johnson, Master. Harold Theodor\", \"Beckwith, Mrs. Richard Leonard (Sallie Monypeny)\", \"Abelson, Mrs. Samuel (Hannah Wizosky)\", \"Najib, Miss. Adele Kiamie \\\"Jane\\\"\", \"Potter, Mrs. Thomas Jr (Lily Alexenia Wilson)\", \"Shelley, Mrs. William (Imanita Parrish Hall)\", \"Graham, Miss. Margaret Edith\", \"Behr, Mr. Karl Howell\"], \"yaxis\": \"y\"}, {\"hovertemplate\": \"Survived=nan<br>Ticket_p=%{x}<br>Name=%{y}<extra></extra>\", \"legendgroup\": \"nan\", \"marker\": {\"color\": \"#76A4AC\", \"symbol\": \"circle\"}, \"mode\": \"markers\", \"name\": \"nan\", \"showlegend\": true, \"type\": \"scattergl\", \"x\": [\"\", \"\", \"\", \"\", \"\", \"\", \"\", \"\", \"\", \"A4\", \"\", \"\", \"\", \"\", \"WEP\", \"SCPARIS\", \"\", \"\", \"STONO2\", \"\", \"PC\", \"C\", \"PC\", \"PC\", \"PC\", \"A5\", \"\", \"\", \"\", \"\", \"SCAH\", \"CA\", \"CA\", \"WC\", \"\", \"\", \"\", \"\", \"\", \"\", \"\", \"\", \"SOTONOQ\", \"\", \"\", \"STONO2\", \"PC\", \"\", \"\", \"CA\", \"\", \"SCPARIS\", \"\", \"\", \"SCA3\", \"\", \"\", \"\", \"\", \"PC\", \"\", \"\", \"\", \"\", \"PC\", \"FCC\", \"\", \"\", \"\", \"\", \"\", \"\", \"\", \"PC\", \"\", \"\", \"\", \"\", \"\", \"\", \"\", \"PC\", \"\", \"\", \"\", \"\", \"\", \"A4\", \"\", \"\", \"\", \"\", \"FC\", \"\", \"\", \"\", \"\", \"STONO2\", \"\", \"A5\", \"\", \"\", \"\", \"\", \"\", \"C\", \"\", \"\", \"\", \"\", \"\", \"\", \"PC\", \"\", \"PC\", \"\", \"\", \"PP\", \"\", \"SCAH\", \"CA\", \"\", \"\", \"\", \"\", \"\", \"\", \"\", \"\", \"\", \"STONOQ\", \"\", \"\", \"\", \"\", \"\", \"\", \"\", \"SOTONOQ\", \"CA\", \"CA\", \"\", \"PC\", \"\", \"\", \"\", \"\", \"SCA4\", \"\", \"\", \"\", \"\", \"\", \"\", \"\", \"SOPP\", \"PC\", \"\", \"\", \"SOTONOQ\", \"\", \"\", \"\", \"\", \"\", \"\", \"PC\", \"WC\", \"\", \"\", \"SOPP\", \"\", \"\", \"\", \"\", \"\", \"CA\", \"\", \"\", \"PC\", \"\", \"PC\", \"\", \"\", \"PC\", \"\", \"SOPP\", \"A4\", \"CA\", \"\", \"\", \"\", \"A5\", \"\", \"\", \"\", \"\", \"\", \"CA\", \"\", \"\", \"\", \"PC\", \"\", \"CA\", \"FC\", \"\", \"\", \"PC\", \"\", \"C\", \"SOTONOQ\", \"SOC\", \"\", \"\", \"\", \"\", \"\", \"\", \"\", \"SCPARIS\", \"\", \"WC\", \"\", \"PC\", \"\", \"\", \"\", \"CA\", \"\", \"\", \"\", \"\", \"\", \"PC\", \"\", \"\", \"\", \"\", \"PC\", \"\", \"\", \"\", \"\", \"WC\", \"\", \"FCC\", \"\", \"\", \"\", \"CA\", \"SOTONO2\", \"\", \"\", \"\", \"CA\", \"AQ4\", \"\", \"\", \"\", \"\", \"\", \"\", \"\", \"CA\", \"\", \"\", \"CA\", \"A2\", \"\", \"\", \"\", \"\", \"\", \"\", \"\", \"SC\", \"\", \"CA\", \"WC\", \"\", \"SOTONOQ\", \"\", \"\", \"\", \"A5\", \"SOTONOQ\", \"\", \"\", \"A5\", \"PC\", \"\", \"\", \"\", \"\", \"\", \"SCParis\", \"\", \"\", \"\", \"\", \"\", \"SOPP\", \"\", \"\", \"\", \"\", \"\", \"\", \"\", \"\", \"\", \"LP\", \"\", \"PC\", \"AQ3\", \"PC\", \"\", \"\", \"CA\", \"\", \"\", \"\", \"\", \"\", \"SOTONOQ\", \"\", \"PC\", \"\", \"\", \"CA\", \"PC\", \"\", \"\", \"\", \"\", \"\", \"\", \"CA\", \"\", \"CA\", \"\", \"CA\", \"PC\", \"A5\", \"\", \"\", \"\", \"\", \"FCC\", \"PC\", \"FCC\", \"SOC\", \"\", \"CA\", \"\", \"\", \"\", \"\", \"\", \"CA\", \"SCPARIS\", \"CA\", \"\", \"\", \"CA\", \"\", \"\", \"\", \"SCPARIS\", \"\", \"\", \"\", \"\", \"\", \"PC\", \"\", \"\", \"\", \"\", \"\", \"\", \"\", \"\", \"SCPARIS\", \"\", \"\", \"\", \"\", \"\", \"\", \"PC\", \"CA\", \"CA\", \"\", \"\", \"\", \"\", \"\", \"\", \"\", \"\", \"\", \"\", \"\", \"SCPARIS\", \"\", \"\", \"\", \"SOTONOQ\", \"\", \"\", \"\", \"A5\", \"PC\", \"SOTONOQ\", \"\", \"\"], \"xaxis\": \"x\", \"y\": [\"Kelly, Mr. James\", \"Wilkes, Mrs. James (Ellen Needs)\", \"Myles, Mr. Thomas Francis\", \"Wirz, Mr. Albert\", \"Hirvonen, Mrs. Alexander (Helga E Lindqvist)\", \"Svensson, Mr. Johan Cervin\", \"Connolly, Miss. Kate\", \"Caldwell, Mr. Albert Francis\", \"Abrahim, Mrs. Joseph (Sophie Halaut Easu)\", \"Davies, Mr. John Samuel\", \"Ilieff, Mr. Ylio\", \"Jones, Mr. Charles Cresson\", \"Snyder, Mrs. John Pillsbury (Nelle Stevenson)\", \"Howard, Mr. Benjamin\", \"Chaffee, Mrs. Herbert Fuller (Carrie Constance Toogood)\", \"del Carlo, Mrs. Sebastiano (Argenia Genovesi)\", \"Keane, Mr. Daniel\", \"Assaf, Mr. Gerios\", \"Ilmakangas, Miss. Ida Livija\", \"Assaf Khalil, Mrs. Mariana (Miriam\\\")\\\"\", \"Rothschild, Mr. Martin\", \"Olsen, Master. Artur Karl\", \"Flegenheim, Mrs. Alfred (Antoinette)\", \"Williams, Mr. Richard Norris II\", \"Ryerson, Mrs. Arthur Larned (Emily Maria Borie)\", \"Robins, Mr. Alexander A\", \"Ostby, Miss. Helene Ragnhild\", \"Daher, Mr. Shedid\", \"Brady, Mr. John Bertram\", \"Samaan, Mr. Elias\", \"Louch, Mr. Charles Alexander\", \"Jefferys, Mr. Clifford Thomas\", \"Dean, Mrs. Bertram (Eva Georgetta Light)\", \"Johnston, Mrs. Andrew G (Elizabeth Lily\\\" Watson)\\\"\", \"Mock, Mr. Philipp Edmund\", \"Katavelas, Mr. Vassilios (Catavelas Vassilios\\\")\\\"\", \"Roth, Miss. Sarah A\", \"Cacic, Miss. Manda\", \"Sap, Mr. Julius\", \"Hee, Mr. Ling\", \"Karun, Mr. Franz\", \"Franklin, Mr. Thomas Parham\", \"Goldsmith, Mr. Nathan\", \"Corbett, Mrs. Walter H (Irene Colvin)\", \"Kimball, Mrs. Edwin Nelson Jr (Gertrude Parsons)\", \"Peltomaki, Mr. Nikolai Johannes\", \"Chevre, Mr. Paul Romaine\", \"Shaughnessy, Mr. Patrick\", \"Bucknell, Mrs. William Robert (Emma Eliza Ward)\", \"Coutts, Mrs. William (Winnie Minnie\\\" Treanor)\\\"\", \"Smith, Mr. Lucien Philip\", \"Pulbaum, Mr. Franz\", \"Hocking, Miss. Ellen Nellie\\\"\\\"\", \"Fortune, Miss. Ethel Flora\", \"Mangiavacchi, Mr. Serafino Emilio\", \"Rice, Master. Albert\", \"Cor, Mr. Bartol\", \"Abelseth, Mr. Olaus Jorgensen\", \"Davison, Mr. Thomas Henry\", \"Chaudanson, Miss. Victorine\", \"Dika, Mr. Mirko\", \"McCrae, Mr. Arthur Gordon\", \"Bjorklund, Mr. Ernst Herbert\", \"Bradley, Miss. Bridget Delia\", \"Ryerson, Master. John Borie\", \"Corey, Mrs. Percy C (Mary Phyllis Elizabeth Miller)\", \"Burns, Miss. Mary Delia\", \"Moore, Mr. Clarence Bloomfield\", \"Tucker, Mr. Gilbert Milligan Jr\", \"Fortune, Mrs. Mark (Mary McDougald)\", \"Mulvihill, Miss. Bertha E\", \"Minkoff, Mr. Lazar\", \"Nieminen, Miss. Manta Josefina\", \"Ovies y Rodriguez, Mr. Servando\", \"Geiger, Miss. Amalie\", \"Keeping, Mr. Edwin\", \"Miles, Mr. Frank\", \"Cornell, Mrs. Robert Clifford (Malvina Helen Lamson)\", \"Aldworth, Mr. Charles Augustus\", \"Doyle, Miss. Elizabeth\", \"Boulos, Master. Akar\", \"Straus, Mr. Isidor\", \"Case, Mr. Howard Brown\", \"Demetri, Mr. Marinko\", \"Lamb, Mr. John Joseph\", \"Khalil, Mr. Betros\", \"Barry, Miss. Julia\", \"Badman, Miss. Emily Louisa\", \"O'Donoghue, Ms. Bridget\", \"Wells, Master. Ralph Lester\", \"Dyker, Mrs. Adolf Fredrik (Anna Elisabeth Judith Andersson)\", \"Pedersen, Mr. Olaf\", \"Davidson, Mrs. Thornton (Orian Hays)\", \"Guest, Mr. Robert\", \"Birnbaum, Mr. Jakob\", \"Tenglin, Mr. Gunnar Isidor\", \"Cavendish, Mrs. Tyrell William (Julia Florence Siegel)\", \"Makinen, Mr. Kalle Edvard\", \"Braf, Miss. Elin Ester Maria\", \"Nancarrow, Mr. William Henry\", \"Stengel, Mrs. Charles Emil Henry (Annie May Morris)\", \"Weisz, Mr. Leopold\", \"Foley, Mr. William\", \"Johansson Palmquist, Mr. Oskar Leander\", \"Thomas, Mrs. Alexander (Thamine Thelma\\\")\\\"\", \"Holthen, Mr. Johan Martin\", \"Buckley, Mr. Daniel\", \"Ryan, Mr. Edward\", \"Willer, Mr. Aaron (Abi Weller\\\")\\\"\", \"Swane, Mr. George\", \"Stanton, Mr. Samuel Ward\", \"Shine, Miss. Ellen Natalia\", \"Evans, Miss. Edith Corse\", \"Buckley, Miss. Katherine\", \"Straus, Mrs. Isidor (Rosalie Ida Blun)\", \"Chronopoulos, Mr. Demetrios\", \"Thomas, Mr. John\", \"Sandstrom, Miss. Beatrice Irene\", \"Beattie, Mr. Thomson\", \"Chapman, Mrs. John Henry (Sara Elizabeth Lawry)\", \"Watt, Miss. Bertha J\", \"Kiernan, Mr. John\", \"Schabert, Mrs. Paul (Emma Mock)\", \"Carver, Mr. Alfred John\", \"Kennedy, Mr. John\", \"Cribb, Miss. Laura Alice\", \"Brobeck, Mr. Karl Rudolf\", \"McCoy, Miss. Alicia\", \"Bowenur, Mr. Solomon\", \"Petersen, Mr. Marius\", \"Spinner, Mr. Henry John\", \"Gracie, Col. Archibald IV\", \"Lefebre, Mrs. Frank (Frances)\", \"Thomas, Mr. Charles P\", \"Dintcheff, Mr. Valtcho\", \"Carlsson, Mr. Carl Robert\", \"Zakarian, Mr. Mapriededer\", \"Schmidt, Mr. August\", \"Drapkin, Miss. Jennie\", \"Goodwin, Mr. Charles Frederick\", \"Goodwin, Miss. Jessie Allis\", \"Daniels, Miss. Sarah\", \"Ryerson, Mr. Arthur Larned\", \"Beauchamp, Mr. Henry James\", \"Lindeberg-Lind, Mr. Erik Gustaf (Mr Edward Lingrey\\\")\\\"\", \"Vander Planke, Mr. Julius\", \"Hilliard, Mr. Herbert Henry\", \"Davies, Mr. Evan\", \"Crafton, Mr. John Bertram\", \"Lahtinen, Rev. William\", \"Earnshaw, Mrs. Boulton (Olive Potter)\", \"Matinoff, Mr. Nicola\", \"Storey, Mr. Thomas\", \"Klasen, Mrs. (Hulda Kristina Eugenia Lofqvist)\", \"Asplund, Master. Filip Oscar\", \"Duquemin, Mr. Joseph\", \"Bird, Miss. Ellen\", \"Lundin, Miss. Olga Elida\", \"Borebank, Mr. John James\", \"Peacock, Mrs. Benjamin (Edith Nile)\", \"Smyth, Miss. Julia\", \"Touma, Master. Georges Youssef\", \"Wright, Miss. Marion\", \"Pearce, Mr. Ernest\", \"Peruschitz, Rev. Joseph Maria\", \"Kink-Heilmann, Mrs. Anton (Luise Heilmann)\", \"Brandeis, Mr. Emil\", \"Ford, Mr. Edward Watson\", \"Cassebeer, Mrs. Henry Arthur Jr (Eleanor Genevieve Fosdick)\", \"Hellstrom, Miss. Hilda Maria\", \"Lithman, Mr. Simon\", \"Zakarian, Mr. Ortin\", \"Dyker, Mr. Adolf Fredrik\", \"Torfa, Mr. Assad\", \"Asplund, Mr. Carl Oscar Vilhelm Gustafsson\", \"Brown, Miss. Edith Eileen\", \"Sincock, Miss. Maude\", \"Stengel, Mr. Charles Emil Henry\", \"Becker, Mrs. Allen Oliver (Nellie E Baumgardner)\", \"Compton, Mrs. Alexander Taylor (Mary Eliza Ingersoll)\", \"McCrie, Mr. James Matthew\", \"Compton, Mr. Alexander Taylor Jr\", \"Marvin, Mrs. Daniel Warner (Mary Graham Carmichael Farquarson)\", \"Lane, Mr. Patrick\", \"Douglas, Mrs. Frederick Charles (Mary Helene Baxter)\", \"Maybery, Mr. Frank Hubert\", \"Phillips, Miss. Alice Frances Louisa\", \"Davies, Mr. Joseph\", \"Sage, Miss. Ada\", \"Veal, Mr. James\", \"Angle, Mr. William A\", \"Salomon, Mr. Abraham L\", \"van Billiard, Master. Walter John\", \"Lingane, Mr. John\", \"Drew, Master. Marshall Brines\", \"Karlsson, Mr. Julius Konrad Eugen\", \"Spedden, Master. Robert Douglas\", \"Nilsson, Miss. Berta Olivia\", \"Baimbrigge, Mr. Charles Robert\", \"Rasmussen, Mrs. (Lena Jacobsen Solvang)\", \"Murphy, Miss. Nora\", \"Danbom, Master. Gilbert Sigvard Emanuel\", \"Astor, Col. John Jacob\", \"Quick, Miss. Winifred Vera\", \"Andrew, Mr. Frank Thomas\", \"Omont, Mr. Alfred Fernand\", \"McGowan, Miss. Katherine\", \"Collett, Mr. Sidney C Stuart\", \"Rosenbaum, Miss. Edith Louise\", \"Delalic, Mr. Redjo\", \"Andersen, Mr. Albert Karvin\", \"Finoli, Mr. Luigi\", \"Deacon, Mr. Percy William\", \"Howard, Mrs. Benjamin (Ellen Truelove Arman)\", \"Andersson, Miss. Ida Augusta Margareta\", \"Head, Mr. Christopher\", \"Mahon, Miss. Bridget Delia\", \"Wick, Mr. George Dennick\", \"Widener, Mrs. George Dunton (Eleanor Elkins)\", \"Thomson, Mr. Alexander Morrison\", \"Duran y More, Miss. Florentina\", \"Reynolds, Mr. Harold J\", \"Cook, Mrs. (Selena Rogers)\", \"Karlsson, Mr. Einar Gervasius\", \"Candee, Mrs. Edward (Helen Churchill Hungerford)\", \"Moubarek, Mrs. George (Omine Amenia\\\" Alexander)\\\"\", \"Asplund, Mr. Johan Charles\", \"McNeill, Miss. Bridget\", \"Everett, Mr. Thomas James\", \"Hocking, Mr. Samuel James Metcalfe\", \"Sweet, Mr. George Frederick\", \"Willard, Miss. Constance\", \"Wiklund, Mr. Karl Johan\", \"Linehan, Mr. Michael\", \"Cumings, Mr. John Bradley\", \"Vendel, Mr. Olof Edvin\", \"Warren, Mr. Frank Manley\", \"Baccos, Mr. Raffull\", \"Hiltunen, Miss. Marta\", \"Douglas, Mrs. Walter Donald (Mahala Dutton)\", \"Lindstrom, Mrs. Carl Johan (Sigrid Posse)\", \"Christy, Mrs. (Alice Frances)\", \"Spedden, Mr. Frederic Oakley\", \"Hyman, Mr. Abraham\", \"Johnston, Master. William Arthur Willie\\\"\\\"\", \"Kenyon, Mr. Frederick R\", \"Karnes, Mrs. J Frank (Claire Bennett)\", \"Drew, Mr. James Vivian\", \"Hold, Mrs. Stephen (Annie Margaret Hill)\", \"Khalil, Mrs. Betros (Zahie Maria\\\" Elias)\\\"\", \"West, Miss. Barbara J\", \"Abrahamsson, Mr. Abraham August Johannes\", \"Clark, Mr. Walter Miller\", \"Salander, Mr. Karl Johan\", \"Wenzel, Mr. Linhart\", \"MacKay, Mr. George William\", \"Mahon, Mr. John\", \"Niklasson, Mr. Samuel\", \"Bentham, Miss. Lilian W\", \"Midtsjo, Mr. Karl Albert\", \"de Messemaeker, Mr. Guillaume Joseph\", \"Nilsson, Mr. August Ferdinand\", \"Wells, Mrs. Arthur Henry (Addie\\\" Dart Trevaskis)\\\"\", \"Klasen, Miss. Gertrud Emilia\", \"Portaluppi, Mr. Emilio Ilario Giuseppe\", \"Lyntakoff, Mr. Stanko\", \"Chisholm, Mr. Roderick Robert Crispin\", \"Warren, Mr. Charles William\", \"Howard, Miss. May Elizabeth\", \"Pokrnic, Mr. Mate\", \"McCaffry, Mr. Thomas Francis\", \"Fox, Mr. Patrick\", \"Clark, Mrs. Walter Miller (Virginia McDowell)\", \"Lennon, Miss. Mary\", \"Saade, Mr. Jean Nassr\", \"Bryhl, Miss. Dagmar Jenny Ingeborg \", \"Parker, Mr. Clifford Richard\", \"Faunthorpe, Mr. Harry\", \"Ware, Mr. John James\", \"Oxenham, Mr. Percy Thomas\", \"Oreskovic, Miss. Jelka\", \"Peacock, Master. Alfred Edward\", \"Fleming, Miss. Honora\", \"Touma, Miss. Maria Youssef\", \"Rosblom, Miss. Salli Helena\", \"Dennis, Mr. William\", \"Franklin, Mr. Charles (Charles Fardon)\", \"Snyder, Mr. John Pillsbury\", \"Mardirosian, Mr. Sarkis\", \"Ford, Mr. Arthur\", \"Rheims, Mr. George Alexander Lucien\", \"Daly, Miss. Margaret Marcella Maggie\\\"\\\"\", \"Nasr, Mr. Mustafa\", \"Dodge, Dr. Washington\", \"Wittevrongel, Mr. Camille\", \"Angheloff, Mr. Minko\", \"Laroche, Miss. Louise\", \"Samaan, Mr. Hanna\", \"Loring, Mr. Joseph Holland\", \"Johansson, Mr. Nils\", \"Olsson, Mr. Oscar Wilhelm\", \"Malachard, Mr. Noel\", \"Phillips, Mr. Escott Robert\", \"Pokrnic, Mr. Tome\", \"McCarthy, Miss. Catherine Katie\\\"\\\"\", \"Crosby, Mrs. Edward Gifford (Catherine Elizabeth Halstead)\", \"Allison, Mr. Hudson Joshua Creighton\", \"Aks, Master. Philip Frank\", \"Hays, Mr. Charles Melville\", \"Hansen, Mrs. Claus Peter (Jennie L Howard)\", \"Cacic, Mr. Jego Grga\", \"Vartanian, Mr. David\", \"Sadowitz, Mr. Harry\", \"Carr, Miss. Jeannie\", \"White, Mrs. John Stuart (Ella Holmes)\", \"Hagardon, Miss. Kate\", \"Spencer, Mr. William Augustus\", \"Rogers, Mr. Reginald Harry\", \"Jonsson, Mr. Nils Hilding\", \"Jefferys, Mr. Ernest Wilfred\", \"Andersson, Mr. Johan Samuel\", \"Krekorian, Mr. Neshan\", \"Nesson, Mr. Israel\", \"Rowe, Mr. Alfred G\", \"Kreuchen, Miss. Emilie\", \"Assam, Mr. Ali\", \"Becker, Miss. Ruth Elizabeth\", \"Rosenshine, Mr. George (Mr George Thorne\\\")\\\"\", \"Clarke, Mr. Charles Valentine\", \"Enander, Mr. Ingvar\", \"Davies, Mrs. John Morgan (Elizabeth Agnes Mary White) \", \"Dulles, Mr. William Crothers\", \"Thomas, Mr. Tannous\", \"Nakid, Mrs. Said (Waika Mary\\\" Mowad)\\\"\", \"Cor, Mr. Ivan\", \"Maguire, Mr. John Edward\", \"de Brito, Mr. Jose Joaquim\", \"Elias, Mr. Joseph\", \"Denbury, Mr. Herbert\", \"Betros, Master. Seman\", \"Fillbrook, Mr. Joseph Charles\", \"Lundstrom, Mr. Thure Edvin\", \"Sage, Mr. John George\", \"Cardeza, Mrs. James Warburton Martinez (Charlotte Wardle Drake)\", \"van Billiard, Master. James William\", \"Abelseth, Miss. Karen Marie\", \"Botsford, Mr. William Hull\", \"Whabee, Mrs. George Joseph (Shawneene Abi-Saab)\", \"Giles, Mr. Ralph\", \"Walcroft, Miss. Nellie\", \"Greenfield, Mrs. Leo David (Blanche Strouse)\", \"Stokes, Mr. Philip Joseph\", \"Dibden, Mr. William\", \"Herman, Mr. Samuel\", \"Dean, Miss. Elizabeth Gladys Millvina\\\"\\\"\", \"Julian, Mr. Henry Forbes\", \"Brown, Mrs. John Murray (Caroline Lane Lamson)\", \"Lockyer, Mr. Edward\", \"O'Keefe, Mr. Patrick\", \"Lindell, Mrs. Edvard Bengtsson (Elin Gerda Persson)\", \"Sage, Master. William Henry\", \"Mallet, Mrs. Albert (Antoinette Magnin)\", \"Ware, Mrs. John James (Florence Louise Long)\", \"Strilic, Mr. Ivan\", \"Harder, Mrs. George Achilles (Dorothy Annan)\", \"Sage, Mrs. John (Annie Bullen)\", \"Caram, Mr. Joseph\", \"Riihivouri, Miss. Susanna Juhantytar Sanni\\\"\\\"\", \"Gibson, Mrs. Leonard (Pauline C Boeson)\", \"Pallas y Castello, Mr. Emilio\", \"Giles, Mr. Edgar\", \"Wilson, Miss. Helen Alice\", \"Ismay, Mr. Joseph Bruce\", \"Harbeck, Mr. William H\", \"Dodge, Mrs. Washington (Ruth Vidaver)\", \"Bowen, Miss. Grace Scott\", \"Kink, Miss. Maria\", \"Cotterill, Mr. Henry Harry\\\"\\\"\", \"Hipkins, Mr. William Edward\", \"Asplund, Master. Carl Edgar\", \"O'Connor, Mr. Patrick\", \"Foley, Mr. Joseph\", \"Risien, Mrs. Samuel (Emma)\", \"McNamee, Mrs. Neal (Eileen O'Leary)\", \"Wheeler, Mr. Edwin Frederick\\\"\\\"\", \"Herman, Miss. Kate\", \"Aronsson, Mr. Ernst Axel Algot\", \"Ashby, Mr. John\", \"Canavan, Mr. Patrick\", \"Palsson, Master. Paul Folke\", \"Payne, Mr. Vivian Ponsonby\", \"Lines, Mrs. Ernest H (Elizabeth Lindsey James)\", \"Abbott, Master. Eugene Joseph\", \"Gilbert, Mr. William\", \"Kink-Heilmann, Mr. Anton\", \"Smith, Mrs. Lucien Philip (Mary Eloise Hughes)\", \"Colbert, Mr. Patrick\", \"Frolicher-Stehli, Mrs. Maxmillian (Margaretha Emerentia Stehli)\", \"Larsson-Rondberg, Mr. Edvard A\", \"Conlon, Mr. Thomas Henry\", \"Bonnell, Miss. Caroline\", \"Gale, Mr. Harry\", \"Gibson, Miss. Dorothy Winifred\", \"Carrau, Mr. Jose Pedro\", \"Frauenthal, Mr. Isaac Gerald\", \"Nourney, Mr. Alfred (Baron von Drachstedt\\\")\\\"\", \"Ware, Mr. William Jeffery\", \"Widener, Mr. George Dunton\", \"Riordan, Miss. Johanna Hannah\\\"\\\"\", \"Peacock, Miss. Treasteall\", \"Naughton, Miss. Hannah\", \"Minahan, Mrs. William Edward (Lillian E Thorpe)\", \"Henriksson, Miss. Jenny Lovisa\", \"Spector, Mr. Woolf\", \"Oliva y Ocana, Dona. Fermina\", \"Saether, Mr. Simon Sivertsen\", \"Ware, Mr. Frederick\", \"Peter, Master. Michael J\"], \"yaxis\": \"y\"}],                        {\"height\": 500, \"legend\": {\"title\": {\"text\": \"Survived\"}, \"tracegroupgap\": 0}, \"margin\": {\"t\": 60}, \"template\": {\"data\": {\"bar\": [{\"error_x\": {\"color\": \"#2a3f5f\"}, \"error_y\": {\"color\": \"#2a3f5f\"}, \"marker\": {\"line\": {\"color\": \"#E5ECF6\", \"width\": 0.5}}, \"type\": \"bar\"}], \"barpolar\": [{\"marker\": {\"line\": {\"color\": \"#E5ECF6\", \"width\": 0.5}}, \"type\": \"barpolar\"}], \"carpet\": [{\"aaxis\": {\"endlinecolor\": \"#2a3f5f\", \"gridcolor\": \"white\", \"linecolor\": \"white\", \"minorgridcolor\": \"white\", \"startlinecolor\": \"#2a3f5f\"}, \"baxis\": {\"endlinecolor\": \"#2a3f5f\", \"gridcolor\": \"white\", \"linecolor\": \"white\", \"minorgridcolor\": \"white\", \"startlinecolor\": \"#2a3f5f\"}, \"type\": \"carpet\"}], \"choropleth\": [{\"colorbar\": {\"outlinewidth\": 0, \"ticks\": \"\"}, \"type\": \"choropleth\"}], \"contour\": [{\"colorbar\": {\"outlinewidth\": 0, \"ticks\": \"\"}, \"colorscale\": [[0.0, \"#0d0887\"], [0.1111111111111111, \"#46039f\"], [0.2222222222222222, \"#7201a8\"], [0.3333333333333333, \"#9c179e\"], [0.4444444444444444, \"#bd3786\"], [0.5555555555555556, \"#d8576b\"], [0.6666666666666666, \"#ed7953\"], [0.7777777777777778, \"#fb9f3a\"], [0.8888888888888888, \"#fdca26\"], [1.0, \"#f0f921\"]], \"type\": \"contour\"}], \"contourcarpet\": [{\"colorbar\": {\"outlinewidth\": 0, \"ticks\": \"\"}, \"type\": \"contourcarpet\"}], \"heatmap\": [{\"colorbar\": {\"outlinewidth\": 0, \"ticks\": \"\"}, \"colorscale\": [[0.0, \"#0d0887\"], [0.1111111111111111, \"#46039f\"], [0.2222222222222222, \"#7201a8\"], [0.3333333333333333, \"#9c179e\"], [0.4444444444444444, \"#bd3786\"], [0.5555555555555556, \"#d8576b\"], [0.6666666666666666, \"#ed7953\"], [0.7777777777777778, \"#fb9f3a\"], [0.8888888888888888, \"#fdca26\"], [1.0, \"#f0f921\"]], \"type\": \"heatmap\"}], \"heatmapgl\": [{\"colorbar\": {\"outlinewidth\": 0, \"ticks\": \"\"}, \"colorscale\": [[0.0, \"#0d0887\"], [0.1111111111111111, \"#46039f\"], [0.2222222222222222, \"#7201a8\"], [0.3333333333333333, \"#9c179e\"], [0.4444444444444444, \"#bd3786\"], [0.5555555555555556, \"#d8576b\"], [0.6666666666666666, \"#ed7953\"], [0.7777777777777778, \"#fb9f3a\"], [0.8888888888888888, \"#fdca26\"], [1.0, \"#f0f921\"]], \"type\": \"heatmapgl\"}], \"histogram\": [{\"marker\": {\"colorbar\": {\"outlinewidth\": 0, \"ticks\": \"\"}}, \"type\": \"histogram\"}], \"histogram2d\": [{\"colorbar\": {\"outlinewidth\": 0, \"ticks\": \"\"}, \"colorscale\": [[0.0, \"#0d0887\"], [0.1111111111111111, \"#46039f\"], [0.2222222222222222, \"#7201a8\"], [0.3333333333333333, \"#9c179e\"], [0.4444444444444444, \"#bd3786\"], [0.5555555555555556, \"#d8576b\"], [0.6666666666666666, \"#ed7953\"], [0.7777777777777778, \"#fb9f3a\"], [0.8888888888888888, \"#fdca26\"], [1.0, \"#f0f921\"]], \"type\": \"histogram2d\"}], \"histogram2dcontour\": [{\"colorbar\": {\"outlinewidth\": 0, \"ticks\": \"\"}, \"colorscale\": [[0.0, \"#0d0887\"], [0.1111111111111111, \"#46039f\"], [0.2222222222222222, \"#7201a8\"], [0.3333333333333333, \"#9c179e\"], [0.4444444444444444, \"#bd3786\"], [0.5555555555555556, \"#d8576b\"], [0.6666666666666666, \"#ed7953\"], [0.7777777777777778, \"#fb9f3a\"], [0.8888888888888888, \"#fdca26\"], [1.0, \"#f0f921\"]], \"type\": \"histogram2dcontour\"}], \"mesh3d\": [{\"colorbar\": {\"outlinewidth\": 0, \"ticks\": \"\"}, \"type\": \"mesh3d\"}], \"parcoords\": [{\"line\": {\"colorbar\": {\"outlinewidth\": 0, \"ticks\": \"\"}}, \"type\": \"parcoords\"}], \"pie\": [{\"automargin\": true, \"type\": \"pie\"}], \"scatter\": [{\"marker\": {\"colorbar\": {\"outlinewidth\": 0, \"ticks\": \"\"}}, \"type\": \"scatter\"}], \"scatter3d\": [{\"line\": {\"colorbar\": {\"outlinewidth\": 0, \"ticks\": \"\"}}, \"marker\": {\"colorbar\": {\"outlinewidth\": 0, \"ticks\": \"\"}}, \"type\": \"scatter3d\"}], \"scattercarpet\": [{\"marker\": {\"colorbar\": {\"outlinewidth\": 0, \"ticks\": \"\"}}, \"type\": \"scattercarpet\"}], \"scattergeo\": [{\"marker\": {\"colorbar\": {\"outlinewidth\": 0, \"ticks\": \"\"}}, \"type\": \"scattergeo\"}], \"scattergl\": [{\"marker\": {\"colorbar\": {\"outlinewidth\": 0, \"ticks\": \"\"}}, \"type\": \"scattergl\"}], \"scattermapbox\": [{\"marker\": {\"colorbar\": {\"outlinewidth\": 0, \"ticks\": \"\"}}, \"type\": \"scattermapbox\"}], \"scatterpolar\": [{\"marker\": {\"colorbar\": {\"outlinewidth\": 0, \"ticks\": \"\"}}, \"type\": \"scatterpolar\"}], \"scatterpolargl\": [{\"marker\": {\"colorbar\": {\"outlinewidth\": 0, \"ticks\": \"\"}}, \"type\": \"scatterpolargl\"}], \"scatterternary\": [{\"marker\": {\"colorbar\": {\"outlinewidth\": 0, \"ticks\": \"\"}}, \"type\": \"scatterternary\"}], \"surface\": [{\"colorbar\": {\"outlinewidth\": 0, \"ticks\": \"\"}, \"colorscale\": [[0.0, \"#0d0887\"], [0.1111111111111111, \"#46039f\"], [0.2222222222222222, \"#7201a8\"], [0.3333333333333333, \"#9c179e\"], [0.4444444444444444, \"#bd3786\"], [0.5555555555555556, \"#d8576b\"], [0.6666666666666666, \"#ed7953\"], [0.7777777777777778, \"#fb9f3a\"], [0.8888888888888888, \"#fdca26\"], [1.0, \"#f0f921\"]], \"type\": \"surface\"}], \"table\": [{\"cells\": {\"fill\": {\"color\": \"#EBF0F8\"}, \"line\": {\"color\": \"white\"}}, \"header\": {\"fill\": {\"color\": \"#C8D4E3\"}, \"line\": {\"color\": \"white\"}}, \"type\": \"table\"}]}, \"layout\": {\"annotationdefaults\": {\"arrowcolor\": \"#2a3f5f\", \"arrowhead\": 0, \"arrowwidth\": 1}, \"autotypenumbers\": \"strict\", \"coloraxis\": {\"colorbar\": {\"outlinewidth\": 0, \"ticks\": \"\"}}, \"colorscale\": {\"diverging\": [[0, \"#8e0152\"], [0.1, \"#c51b7d\"], [0.2, \"#de77ae\"], [0.3, \"#f1b6da\"], [0.4, \"#fde0ef\"], [0.5, \"#f7f7f7\"], [0.6, \"#e6f5d0\"], [0.7, \"#b8e186\"], [0.8, \"#7fbc41\"], [0.9, \"#4d9221\"], [1, \"#276419\"]], \"sequential\": [[0.0, \"#0d0887\"], [0.1111111111111111, \"#46039f\"], [0.2222222222222222, \"#7201a8\"], [0.3333333333333333, \"#9c179e\"], [0.4444444444444444, \"#bd3786\"], [0.5555555555555556, \"#d8576b\"], [0.6666666666666666, \"#ed7953\"], [0.7777777777777778, \"#fb9f3a\"], [0.8888888888888888, \"#fdca26\"], [1.0, \"#f0f921\"]], \"sequentialminus\": [[0.0, \"#0d0887\"], [0.1111111111111111, \"#46039f\"], [0.2222222222222222, \"#7201a8\"], [0.3333333333333333, \"#9c179e\"], [0.4444444444444444, \"#bd3786\"], [0.5555555555555556, \"#d8576b\"], [0.6666666666666666, \"#ed7953\"], [0.7777777777777778, \"#fb9f3a\"], [0.8888888888888888, \"#fdca26\"], [1.0, \"#f0f921\"]]}, \"colorway\": [\"#636efa\", \"#EF553B\", \"#00cc96\", \"#ab63fa\", \"#FFA15A\", \"#19d3f3\", \"#FF6692\", \"#B6E880\", \"#FF97FF\", \"#FECB52\"], \"font\": {\"color\": \"#2a3f5f\"}, \"geo\": {\"bgcolor\": \"white\", \"lakecolor\": \"white\", \"landcolor\": \"#E5ECF6\", \"showlakes\": true, \"showland\": true, \"subunitcolor\": \"white\"}, \"hoverlabel\": {\"align\": \"left\"}, \"hovermode\": \"closest\", \"mapbox\": {\"style\": \"light\"}, \"paper_bgcolor\": \"white\", \"plot_bgcolor\": \"#E5ECF6\", \"polar\": {\"angularaxis\": {\"gridcolor\": \"white\", \"linecolor\": \"white\", \"ticks\": \"\"}, \"bgcolor\": \"#E5ECF6\", \"radialaxis\": {\"gridcolor\": \"white\", \"linecolor\": \"white\", \"ticks\": \"\"}}, \"scene\": {\"xaxis\": {\"backgroundcolor\": \"#E5ECF6\", \"gridcolor\": \"white\", \"gridwidth\": 2, \"linecolor\": \"white\", \"showbackground\": true, \"ticks\": \"\", \"zerolinecolor\": \"white\"}, \"yaxis\": {\"backgroundcolor\": \"#E5ECF6\", \"gridcolor\": \"white\", \"gridwidth\": 2, \"linecolor\": \"white\", \"showbackground\": true, \"ticks\": \"\", \"zerolinecolor\": \"white\"}, \"zaxis\": {\"backgroundcolor\": \"#E5ECF6\", \"gridcolor\": \"white\", \"gridwidth\": 2, \"linecolor\": \"white\", \"showbackground\": true, \"ticks\": \"\", \"zerolinecolor\": \"white\"}}, \"shapedefaults\": {\"line\": {\"color\": \"#2a3f5f\"}}, \"ternary\": {\"aaxis\": {\"gridcolor\": \"white\", \"linecolor\": \"white\", \"ticks\": \"\"}, \"baxis\": {\"gridcolor\": \"white\", \"linecolor\": \"white\", \"ticks\": \"\"}, \"bgcolor\": \"#E5ECF6\", \"caxis\": {\"gridcolor\": \"white\", \"linecolor\": \"white\", \"ticks\": \"\"}}, \"title\": {\"x\": 0.05}, \"xaxis\": {\"automargin\": true, \"gridcolor\": \"white\", \"linecolor\": \"white\", \"ticks\": \"\", \"title\": {\"standoff\": 15}, \"zerolinecolor\": \"white\", \"zerolinewidth\": 2}, \"yaxis\": {\"automargin\": true, \"gridcolor\": \"white\", \"linecolor\": \"white\", \"ticks\": \"\", \"title\": {\"standoff\": 15}, \"zerolinecolor\": \"white\", \"zerolinewidth\": 2}}}, \"width\": 1200, \"xaxis\": {\"anchor\": \"y\", \"domain\": [0.0, 1.0], \"title\": {\"text\": \"Ticket_p\"}}, \"yaxis\": {\"anchor\": \"x\", \"domain\": [0.0, 1.0], \"title\": {\"text\": \"Name\"}}},                        {\"responsive\": true}                    ).then(function(){\n",
       "                            \n",
       "var gd = document.getElementById('7fce9260-136e-4bf5-824b-0373080fe871');\n",
       "var x = new MutationObserver(function (mutations, observer) {{\n",
       "        var display = window.getComputedStyle(gd).display;\n",
       "        if (!display || display === 'none') {{\n",
       "            console.log([gd, 'removed!']);\n",
       "            Plotly.purge(gd);\n",
       "            observer.disconnect();\n",
       "        }}\n",
       "}});\n",
       "\n",
       "// Listen for the removal of the full notebook cells\n",
       "var notebookContainer = gd.closest('#notebook-container');\n",
       "if (notebookContainer) {{\n",
       "    x.observe(notebookContainer, {childList: true});\n",
       "}}\n",
       "\n",
       "// Listen for the clearing of the current output cell\n",
       "var outputEl = gd.closest('.output');\n",
       "if (outputEl) {{\n",
       "    x.observe(outputEl, {childList: true});\n",
       "}}\n",
       "\n",
       "                        })                };                });            </script>        </div>"
      ]
     },
     "metadata": {},
     "output_type": "display_data"
    }
   ],
   "source": [
    "dfplt = df.copy(deep=True)\n",
    "fig = px.scatter(dfplt.astype(str), x=\"Ticket_p\", y=\"Name\", color= \"Survived\",\n",
    "                 color_discrete_sequence=cm, size_max=6,width=1200, height=500)\n",
    "fig.show()"
   ]
  },
  {
   "cell_type": "markdown",
   "metadata": {
    "_cell_guid": "5605a53e-1c3b-4db9-a24f-01b800899d83",
    "_uuid": "ad42f9d2-7e05-4afc-9328-c386e07676f8",
    "papermill": {
     "duration": 0.068292,
     "end_time": "2022-07-11T06:08:17.117714",
     "exception": false,
     "start_time": "2022-07-11T06:08:17.049422",
     "status": "completed"
    },
    "tags": []
   },
   "source": [
    "We can see that some of prefixes appear only one time or only in train dataset. Lets clean them in order not to confuse our model.\n",
    "\n",
    "We wil do it manualy - couse it is not much off them, and we gonna check them, if maby there is some sintax mistakes."
   ]
  },
  {
   "cell_type": "code",
   "execution_count": 17,
   "metadata": {
    "_cell_guid": "6b09e9eb-69bd-47c1-887c-eacf1a83d473",
    "_uuid": "b871f7ff-2dae-4647-9dd4-7b142fa05862",
    "collapsed": false,
    "execution": {
     "iopub.execute_input": "2022-07-11T06:08:17.261478Z",
     "iopub.status.busy": "2022-07-11T06:08:17.260859Z",
     "iopub.status.idle": "2022-07-11T06:08:17.274391Z",
     "shell.execute_reply": "2022-07-11T06:08:17.274918Z"
    },
    "jupyter": {
     "outputs_hidden": false
    },
    "papermill": {
     "duration": 0.089064,
     "end_time": "2022-07-11T06:08:17.275106",
     "exception": false,
     "start_time": "2022-07-11T06:08:17.186042",
     "status": "completed"
    },
    "tags": []
   },
   "outputs": [],
   "source": [
    "drop = [\"SP\", \"SOP\", \"Fa\", \"SCOW\", \"PPP\", \"AS\", \"CASOTON\", \"SWPP\", \"SCAHBasle\", \"SCA3\", \"STONOQ\", \"AQ4\", \"A2\", \"LP\", \"AQ3\", \"\"]\n",
    "df = df.replace(drop, 'N/A')"
   ]
  },
  {
   "cell_type": "code",
   "execution_count": 18,
   "metadata": {
    "_cell_guid": "0eface82-f518-48fd-9d3a-dfc4c23fc1e0",
    "_uuid": "eb33907f-10a0-48d5-99c2-601c1da8df89",
    "collapsed": false,
    "execution": {
     "iopub.execute_input": "2022-07-11T06:08:17.416727Z",
     "iopub.status.busy": "2022-07-11T06:08:17.415812Z",
     "iopub.status.idle": "2022-07-11T06:08:17.508232Z",
     "shell.execute_reply": "2022-07-11T06:08:17.508709Z"
    },
    "jupyter": {
     "outputs_hidden": false
    },
    "papermill": {
     "duration": 0.164011,
     "end_time": "2022-07-11T06:08:17.508895",
     "exception": false,
     "start_time": "2022-07-11T06:08:17.344884",
     "status": "completed"
    },
    "tags": []
   },
   "outputs": [
    {
     "data": {
      "text/html": [
       "<div>                            <div id=\"ab8fe60e-d6d3-4297-a85f-406d236d04c8\" class=\"plotly-graph-div\" style=\"height:500px; width:1200px;\"></div>            <script type=\"text/javascript\">                require([\"plotly\"], function(Plotly) {                    window.PLOTLYENV=window.PLOTLYENV || {};                                    if (document.getElementById(\"ab8fe60e-d6d3-4297-a85f-406d236d04c8\")) {                    Plotly.newPlot(                        \"ab8fe60e-d6d3-4297-a85f-406d236d04c8\",                        [{\"hovertemplate\": \"Survived=0.0<br>Ticket_p=%{x}<br>Name=%{y}<extra></extra>\", \"legendgroup\": \"0.0\", \"marker\": {\"color\": \"#273176\", \"symbol\": \"circle\"}, \"mode\": \"markers\", \"name\": \"0.0\", \"orientation\": \"v\", \"showlegend\": true, \"type\": \"scatter\", \"x\": [\"A5\", \"A5\", \"PC\", \"CA\", \"PC\", \"A5\", \"SCA4\", \"A4\", \"CA\", \"PC\", \"CA\", \"CA\", \"SOC\", \"WC\", \"SOTONOQ\", \"WEP\", \"CA\", \"PC\", \"STONO2\", \"PC\", \"SOC\", \"A4\", \"SOTONOQ\", \"A5\", \"CA\", \"SCPARIS\", \"PC\", \"CA\", \"WC\", \"A5\", \"A5\", \"PC\", \"SOTONOQ\", \"CA\", \"PC\", \"STONO2\", \"PC\", \"CA\", \"SCPARIS\", \"CA\", \"SOTONOQ\", \"A5\", \"WC\", \"PP\", \"A5\", \"CA\", \"WC\", \"WC\", \"STONO2\", \"A5\", \"CA\", \"PC\", \"SCParis\", \"PC\", \"A5\", \"FCC\", \"A5\", \"CA\", \"PC\", \"SCPARIS\", \"SOTONOQ\", \"C\", \"PC\", \"STONO2\", \"SOC\", \"CA\", \"STONO2\", \"A5\", \"A4\", \"STONO2\", \"WC\", \"CA\", \"CA\", \"A5\", \"SOTONOQ\", \"CA\", \"A5\", \"A5\", \"SOTONOQ\", \"PC\", \"A4\", \"CA\", \"PC\", \"C\", \"SOTONOQ\", \"PC\", \"PC\", \"PC\", \"SOTONOQ\", \"SOTONOQ\", \"A4\", \"A4\", \"A5\", \"STONO2\", \"A5\", \"SCAH\", \"SOTONOQ\", \"A5\", \"STONO2\", \"CA\", \"SOPP\", \"SOC\", \"SOC\", \"A5\", \"FC\", \"CA\", \"CA\", \"CA\", \"SCParis\", \"STONO2\", \"WC\", \"WEP\", \"CA\", \"SOTONO2\", \"SOPP\", \"WC\", \"SOTONOQ\", \"PC\", \"CA\", \"PC\", \"A4\", \"STONO2\", \"SCPARIS\", \"C\", \"SOTONO2\", \"SOPP\", \"CA\", \"CA\", \"CA\", \"PC\", \"SOTONOQ\", \"WC\"], \"xaxis\": \"x\", \"y\": [\"Braund, Mr. Owen Harris\", \"Saundercock, Mr. William Henry\", \"Uruchurtu, Don. Manuel E\", \"Wheadon, Mr. Edward H\", \"Meyer, Mr. Edgar Joseph\", \"Cann, Mr. Ernest Charles\", \"Rogers, Mr. William John\", \"Nosworthy, Mr. Richard Cater\", \"Goodwin, Master. William Frederick\", \"Stewart, Mr. Albert A\", \"Jenkin, Mr. Stephen Curnow\", \"Goodwin, Miss. Lillian Amy\", \"Hood, Mr. Ambrose Jr\", \"Ford, Mr. William Neal\", \"Slocovski, Mr. Selman Francis\", \"Chaffee, Mr. Herbert Fuller\", \"Dean, Mr. Bertram Frank\", \"Goldschmidt, Mr. George B\", \"Pekoniemi, Mr. Edvard\", \"Baxter, Mr. Quigg Edmond\", \"Hickman, Mr. Stanley George\", \"Moore, Mr. Leonard Charles\", \"Coelho, Mr. Domingos Fernandeo\", \"Robins, Mrs. Alexander A (Grace Charity Laury)\", \"Sobey, Mr. Samuel James Hayden\", \"Richard, Mr. Emile\", \"Giglio, Mr. Victor\", \"Nicholls, Mr. Joseph Charles\", \"Ford, Miss. Robina Maggie \\\"Ruby\\\"\", \"Meo, Mr. Alfonzo\", \"van Billiard, Mr. Austin Blyler\", \"Williams, Mr. Charles Duane\", \"Corn, Mr. Harry\", \"Sage, Master. Thomas Henry\", \"Baumann, Mr. John D\", \"Sivola, Mr. Antti Wilhelm\", \"Isham, Miss. Ann Elizabeth\", \"Sage, Miss. Constance Gladys\", \"Pernot, Mr. Rene\", \"Sage, Mr. Frederick\", \"Ali, Mr. Ahmed\", \"Perkin, Mr. John Henry\", \"Harris, Mr. Walter\", \"Berglund, Mr. Karl Ivar Sven\", \"Lovell, Mr. John Hall (\\\"Henry\\\")\", \"Leyson, Mr. Robert William Norman\", \"Harknett, Miss. Alice Phoebe\", \"Coleridge, Mr. Reginald Charles\", \"Maenpaa, Mr. Matti Alexanteri\", \"Lobb, Mr. William Arthur\", \"Reeves, Mr. David\", \"Natsch, Mr. Charles H\", \"Levy, Mr. Rene Jacques\", \"Lewy, Mr. Ervin G\", \"Williams, Mr. Howard Hugh \\\"Harry\\\"\", \"Hart, Mr. Benjamin\", \"Dennis, Mr. Samuel\", \"Sage, Mr. George John Jr\", \"Graham, Mr. George Edward\", \"del Carlo, Mr. Sebastiano\", \"Asim, Mr. Adola\", \"Adahl, Mr. Mauritz Nils Martin\", \"Ringhini, Mr. Sante\", \"Tikkanen, Mr. Juho\", \"Davies, Mr. Charles Henry\", \"Goodwin, Master. Sidney Leonard\", \"Hakkarainen, Mr. Pekka Pietari\", \"Charters, Mr. David\", \"Wiseman, Mr. Phillippe\", \"Kallio, Mr. Nikolai Erland\", \"Ford, Miss. Doolina Margaret \\\"Daisy\\\"\", \"Kvillner, Mr. Johan Henrik Johannesson\", \"West, Mr. Edwy Arthur\", \"Peduzzi, Mr. Joseph\", \"Goncalves, Mr. Manuel Estanslas\", \"Goodwin, Master. Harold Victor\", \"Rouse, Mr. Richard Henry\", \"Somerton, Mr. Francis William\", \"Windelov, Mr. Einar\", \"Artagaveytia, Mr. Ramon\", \"Stanley, Mr. Edward Roland\", \"Shellard, Mr. Frederick William\", \"Penasco y Castellana, Mr. Victor de Satode\", \"Olsen, Mr. Henry Margido\", \"Webber, Mr. James\", \"Farthing, Mr. John\", \"Douglas, Mr. Walter Donald\", \"Robbins, Mr. Victor\", \"Simmons, Mr. John\", \"Meanwell, Miss. (Marion Ogden)\", \"Davies, Mr. Alfred J\", \"Rush, Mr. Alfred George John\", \"Murdlin, Mr. Joseph\", \"Rintamaki, Mr. Matti\", \"Elsbury, Mr. William James\", \"Chapman, Mr. John Henry\", \"Jardin, Mr. Jose Neto\", \"Lobb, Mrs. William Arthur (Cordelia K Stanlick)\", \"Leinonen, Mr. Antti Gustaf\", \"Collyer, Mr. Harvey\", \"Willey, Mr. Edward\", \"Hickman, Mr. Leonard Mark\", \"Hickman, Mr. Lewis\", \"Cook, Mr. Jacob\", \"Davidson, Mr. Thornton\", \"Mitchell, Mr. Henry Michael\", \"Goodwin, Mrs. Frederick (Augusta Tyler)\", \"Goodwin, Mr. Charles Edward\", \"Laroche, Mr. Joseph Philippe Lemercier\", \"Ilmakangas, Miss. Pieta Sofia\", \"Ford, Mrs. Edward (Margaret Ann Watson)\", \"Crosby, Capt. Edward Gifford\", \"Abbott, Mr. Rossmore Edward\", \"Nirva, Mr. Iisakki Antino Aijo\", \"Mack, Mrs. (Mary)\", \"Johnston, Mr. Andrew G\", \"Ali, Mr. William\", \"Guggenheim, Mr. Benjamin\", \"Sage, Miss. Stella Anna\", \"Hoyt, Mr. William Fisher\", \"Lester, Mr. James\", \"Heininen, Miss. Wendla Maria\", \"Mallet, Mr. Albert\", \"Holm, Mr. John Fredrik Alexander\", \"Alhomaki, Mr. Ilmari Rudolf\", \"Mudd, Mr. Thomas Charles\", \"Abbing, Mr. Anthony\", \"Sage, Mr. Douglas Bullen\", \"Sage, Miss. Dorothy Edith \\\"Dolly\\\"\", \"Roebling, Mr. Washington Augustus II\", \"Sutehall, Mr. Henry Jr\", \"Johnston, Miss. Catherine Helen \\\"Carrie\\\"\"], \"yaxis\": \"y\"}, {\"hovertemplate\": \"Survived=1.0<br>Ticket_p=%{x}<br>Name=%{y}<extra></extra>\", \"legendgroup\": \"1.0\", \"marker\": {\"color\": \"#3B61A3\", \"symbol\": \"circle\"}, \"mode\": \"markers\", \"name\": \"1.0\", \"orientation\": \"v\", \"showlegend\": true, \"type\": \"scatter\", \"x\": [\"PC\", \"STONO2\", \"PP\", \"PC\", \"SCParis\", \"PC\", \"CA\", \"CA\", \"CA\", \"SOC\", \"PC\", \"C\", \"STONO2\", \"CA\", \"PC\", \"PC\", \"A5\", \"FCC\", \"STONO2\", \"SOTONOQ\", \"CA\", \"PC\", \"PC\", \"PC\", \"PC\", \"CA\", \"A5\", \"PC\", \"PC\", \"PC\", \"PC\", \"PC\", \"PC\", \"CA\", \"PC\", \"PC\", \"C\", \"PC\", \"SC\", \"PP\", \"STONO2\", \"STONO2\", \"SOTONOQ\", \"SCAH\", \"FCC\", \"FCC\", \"CA\", \"CA\", \"PC\", \"PC\", \"CA\", \"WC\", \"FCC\", \"PC\", \"WEP\", \"SCPARIS\", \"CA\", \"PC\", \"STONO2\", \"PC\", \"SCParis\", \"PC\", \"PC\", \"PC\", \"CA\", \"PC\", \"STONO2\", \"PC\", \"PC\", \"PC\", \"PC\", \"PC\", \"PC\", \"PC\", \"PC\", \"PC\", \"STONO2\", \"CA\", \"CA\", \"SCPARIS\", \"PC\", \"PC\", \"SCPARIS\"], \"xaxis\": \"x\", \"y\": [\"Cumings, Mrs. John Bradley (Florence Briggs Thayer)\", \"Heikkinen, Miss. Laina\", \"Sandstrom, Miss. Marguerite Rut\", \"Spencer, Mrs. William Augustus (Marie Eugenie)\", \"Laroche, Miss. Simonne Marie Anne Andree\", \"Harper, Mrs. Henry Sleeper (Myna Haxtun)\", \"Rugg, Miss. Emily\", \"West, Miss. Constance Mirium\", \"Nye, Mrs. (Elizabeth Ramell)\", \"Ilett, Miss. Bertha\", \"Greenfield, Mr. William Bertram\", \"Madsen, Mr. Fridtjof Arne\", \"Hakkarainen, Mrs. Pekka Pietari (Elin Matilda Dolck)\", \"Watt, Mrs. James (Elizabeth \\\"Bessie\\\" Inglis Milne)\", \"Brown, Mrs. James Joseph (Margaret Tobin)\", \"Lurette, Miss. Elise\", \"Cohen, Mr. Gurshon \\\"Gus\\\"\", \"Cameron, Miss. Clear Annie\", \"Honkanen, Miss. Eliina\", \"Sunderland, Mr. Victor Francis\", \"Collyer, Miss. Marjorie \\\"Lottie\\\"\", \"Thorne, Mrs. Gertrude Maybelle\", \"Ward, Miss. Anna\", \"Graham, Mrs. William Thompson (Edith Junkins)\", \"Bissette, Miss. Amelia\", \"Abbott, Mrs. Stanton (Rosa Hunt)\", \"Dorking, Mr. Edward Arthur\", \"Baxter, Mrs. James (Helene DeLaudeniere Chaput)\", \"Penasco y Castellana, Mrs. Victor de Satode (Maria Josefa Perez de Soto y Vallejo)\", \"Francatelli, Miss. Laura Mabel\", \"Ryerson, Miss. Emily Borie\", \"Young, Miss. Marie Grice\", \"Frauenthal, Mrs. Henry William (Clara Heinsheimer)\", \"Coutts, Master. William Loch \\\"William\\\"\", \"Aubart, Mme. Leontine Pauline\", \"Meyer, Mrs. Edgar Joseph (Leila Saks)\", \"Landergren, Miss. Aurora Adelia\", \"Bidois, Miss. Rosalie\", \"Lehmann, Miss. Bertha\", \"Sandstrom, Mrs. Hjalmar (Agnes Charlotta Bengtsson)\", \"Niskanen, Mr. Juha\", \"Sundman, Mr. Johan Julian\", \"Pickard, Mr. Berk (Berk Trembisky)\", \"Louch, Mrs. Charles Alexander (Alice Adelaide Slow)\", \"Hart, Mrs. Benjamin (Esther Ada Bloomfield)\", \"Toomey, Miss. Ellen\", \"West, Mrs. Edwy Arthur (Ada Mary Worth)\", \"Coutts, Master. Eden Leslie \\\"Neville\\\"\", \"McGough, Mr. James Robert\", \"Rothschild, Mrs. Martin (Elizabeth L. Barrett)\", \"Lemore, Mrs. (Amelia Milley)\", \"Ridsdale, Miss. Lucy\", \"Hart, Miss. Eva Miriam\", \"LeRoy, Miss. Bertha\", \"Crosby, Miss. Harriet R\", \"Padro y Manent, Mr. Julian\", \"Davies, Master. John Morgan Jr\", \"Flynn, Mr. John Irwin (\\\"Irving\\\")\", \"Jussila, Mr. Eiriik\", \"Duff Gordon, Sir. Cosmo Edmund (\\\"Mr Morgan\\\")\", \"Laroche, Mrs. Joseph (Juliette Marie Louise Lafargue)\", \"Shutes, Miss. Elizabeth W\", \"Sagesser, Mlle. Emma\", \"Harper, Mr. Henry Sleeper\", \"Stanley, Miss. Amy Zillah Elsie\", \"Frauenthal, Dr. Henry William\", \"Lindqvist, Mr. Eino William\", \"Cardeza, Mr. Thomas Drake Martinez\", \"Hassab, Mr. Hammad\", \"Astor, Mrs. John Jacob (Madeleine Talmadge Force)\", \"Silverthorne, Mr. Spencer Victor\", \"Calderhead, Mr. Edward Pennington\", \"Mayne, Mlle. Berthe Antonine (\\\"Mrs de Villiers\\\")\", \"Endres, Miss. Caroline Louise\", \"Lesurer, Mr. Gustave J\", \"Ryerson, Miss. Susan Parker \\\"Suzette\\\"\", \"Stranden, Mr. Juho\", \"Dean, Master. Bertram Vere\", \"Collyer, Mrs. Harvey (Charlotte Annie Tate)\", \"Mallet, Master. Andre\", \"Compton, Miss. Sara Rebecca\", \"Lines, Miss. Mary Conover\", \"Duran y More, Miss. Asuncion\"], \"yaxis\": \"y\"}, {\"hovertemplate\": \"Survived=nan<br>Ticket_p=%{x}<br>Name=%{y}<extra></extra>\", \"legendgroup\": \"nan\", \"marker\": {\"color\": \"#76A4AC\", \"symbol\": \"circle\"}, \"mode\": \"markers\", \"name\": \"nan\", \"orientation\": \"v\", \"showlegend\": true, \"type\": \"scatter\", \"x\": [\"A4\", \"WEP\", \"SCPARIS\", \"STONO2\", \"PC\", \"C\", \"PC\", \"PC\", \"PC\", \"A5\", \"SCAH\", \"CA\", \"CA\", \"WC\", \"SOTONOQ\", \"STONO2\", \"PC\", \"CA\", \"SCPARIS\", \"PC\", \"PC\", \"FCC\", \"PC\", \"PC\", \"A4\", \"FC\", \"STONO2\", \"A5\", \"C\", \"PC\", \"PC\", \"PP\", \"SCAH\", \"CA\", \"SOTONOQ\", \"CA\", \"CA\", \"PC\", \"SCA4\", \"SOPP\", \"PC\", \"SOTONOQ\", \"PC\", \"WC\", \"SOPP\", \"CA\", \"PC\", \"PC\", \"PC\", \"SOPP\", \"A4\", \"CA\", \"A5\", \"CA\", \"PC\", \"CA\", \"FC\", \"PC\", \"C\", \"SOTONOQ\", \"SOC\", \"SCPARIS\", \"WC\", \"PC\", \"CA\", \"PC\", \"PC\", \"WC\", \"FCC\", \"CA\", \"SOTONO2\", \"CA\", \"CA\", \"CA\", \"SC\", \"CA\", \"WC\", \"SOTONOQ\", \"A5\", \"SOTONOQ\", \"A5\", \"PC\", \"SCParis\", \"SOPP\", \"PC\", \"PC\", \"CA\", \"SOTONOQ\", \"PC\", \"CA\", \"PC\", \"CA\", \"CA\", \"CA\", \"PC\", \"A5\", \"FCC\", \"PC\", \"FCC\", \"SOC\", \"CA\", \"CA\", \"SCPARIS\", \"CA\", \"CA\", \"SCPARIS\", \"PC\", \"SCPARIS\", \"PC\", \"CA\", \"CA\", \"SCPARIS\", \"SOTONOQ\", \"A5\", \"PC\", \"SOTONOQ\"], \"xaxis\": \"x\", \"y\": [\"Davies, Mr. John Samuel\", \"Chaffee, Mrs. Herbert Fuller (Carrie Constance Toogood)\", \"del Carlo, Mrs. Sebastiano (Argenia Genovesi)\", \"Ilmakangas, Miss. Ida Livija\", \"Rothschild, Mr. Martin\", \"Olsen, Master. Artur Karl\", \"Flegenheim, Mrs. Alfred (Antoinette)\", \"Williams, Mr. Richard Norris II\", \"Ryerson, Mrs. Arthur Larned (Emily Maria Borie)\", \"Robins, Mr. Alexander A\", \"Louch, Mr. Charles Alexander\", \"Jefferys, Mr. Clifford Thomas\", \"Dean, Mrs. Bertram (Eva Georgetta Light)\", \"Johnston, Mrs. Andrew G (Elizabeth Lily\\\" Watson)\\\"\", \"Goldsmith, Mr. Nathan\", \"Peltomaki, Mr. Nikolai Johannes\", \"Chevre, Mr. Paul Romaine\", \"Coutts, Mrs. William (Winnie Minnie\\\" Treanor)\\\"\", \"Pulbaum, Mr. Franz\", \"Chaudanson, Miss. Victorine\", \"Ryerson, Master. John Borie\", \"Corey, Mrs. Percy C (Mary Phyllis Elizabeth Miller)\", \"Ovies y Rodriguez, Mr. Servando\", \"Straus, Mr. Isidor\", \"Badman, Miss. Emily Louisa\", \"Davidson, Mrs. Thornton (Orian Hays)\", \"Makinen, Mr. Kalle Edvard\", \"Nancarrow, Mr. William Henry\", \"Holthen, Mr. Johan Martin\", \"Evans, Miss. Edith Corse\", \"Straus, Mrs. Isidor (Rosalie Ida Blun)\", \"Sandstrom, Miss. Beatrice Irene\", \"Chapman, Mrs. John Henry (Sara Elizabeth Lawry)\", \"Watt, Miss. Bertha J\", \"Drapkin, Miss. Jennie\", \"Goodwin, Mr. Charles Frederick\", \"Goodwin, Miss. Jessie Allis\", \"Ryerson, Mr. Arthur Larned\", \"Davies, Mr. Evan\", \"Duquemin, Mr. Joseph\", \"Bird, Miss. Ellen\", \"Peacock, Mrs. Benjamin (Edith Nile)\", \"Brandeis, Mr. Emil\", \"Ford, Mr. Edward Watson\", \"Lithman, Mr. Simon\", \"Sincock, Miss. Maude\", \"Compton, Mrs. Alexander Taylor (Mary Eliza Ingersoll)\", \"Compton, Mr. Alexander Taylor Jr\", \"Douglas, Mrs. Frederick Charles (Mary Helene Baxter)\", \"Phillips, Miss. Alice Frances Louisa\", \"Davies, Mr. Joseph\", \"Sage, Miss. Ada\", \"van Billiard, Master. Walter John\", \"Baimbrigge, Mr. Charles Robert\", \"Astor, Col. John Jacob\", \"Andrew, Mr. Frank Thomas\", \"Omont, Mr. Alfred Fernand\", \"Rosenbaum, Miss. Edith Louise\", \"Andersen, Mr. Albert Karvin\", \"Finoli, Mr. Luigi\", \"Deacon, Mr. Percy William\", \"Duran y More, Miss. Florentina\", \"Cook, Mrs. (Selena Rogers)\", \"Candee, Mrs. Edward (Helen Churchill Hungerford)\", \"Everett, Mr. Thomas James\", \"Cumings, Mr. John Bradley\", \"Douglas, Mrs. Walter Donald (Mahala Dutton)\", \"Johnston, Master. William Arthur Willie\\\"\\\"\", \"Karnes, Mrs. J Frank (Claire Bennett)\", \"West, Miss. Barbara J\", \"Abrahamsson, Mr. Abraham August Johannes\", \"MacKay, Mr. George William\", \"Portaluppi, Mr. Emilio Ilario Giuseppe\", \"Warren, Mr. Charles William\", \"Parker, Mr. Clifford Richard\", \"Ware, Mr. John James\", \"Oxenham, Mr. Percy Thomas\", \"Peacock, Master. Alfred Edward\", \"Dennis, Mr. William\", \"Franklin, Mr. Charles (Charles Fardon)\", \"Ford, Mr. Arthur\", \"Rheims, Mr. George Alexander Lucien\", \"Laroche, Miss. Louise\", \"Phillips, Mr. Escott Robert\", \"White, Mrs. John Stuart (Ella Holmes)\", \"Spencer, Mr. William Augustus\", \"Jefferys, Mr. Ernest Wilfred\", \"Assam, Mr. Ali\", \"Rosenshine, Mr. George (Mr George Thorne\\\")\\\"\", \"Davies, Mrs. John Morgan (Elizabeth Agnes Mary White) \", \"Dulles, Mr. William Crothers\", \"Denbury, Mr. Herbert\", \"Fillbrook, Mr. Joseph Charles\", \"Sage, Mr. John George\", \"Cardeza, Mrs. James Warburton Martinez (Charlotte Wardle Drake)\", \"van Billiard, Master. James William\", \"Walcroft, Miss. Nellie\", \"Greenfield, Mrs. Leo David (Blanche Strouse)\", \"Stokes, Mr. Philip Joseph\", \"Dibden, Mr. William\", \"Dean, Miss. Elizabeth Gladys Millvina\\\"\\\"\", \"Sage, Master. William Henry\", \"Mallet, Mrs. Albert (Antoinette Magnin)\", \"Ware, Mrs. John James (Florence Louise Long)\", \"Sage, Mrs. John (Annie Bullen)\", \"Pallas y Castello, Mr. Emilio\", \"Bowen, Miss. Grace Scott\", \"Wheeler, Mr. Edwin Frederick\\\"\\\"\", \"Lines, Mrs. Ernest H (Elizabeth Lindsey James)\", \"Abbott, Master. Eugene Joseph\", \"Gilbert, Mr. William\", \"Nourney, Mr. Alfred (Baron von Drachstedt\\\")\\\"\", \"Peacock, Miss. Treasteall\", \"Spector, Mr. Woolf\", \"Oliva y Ocana, Dona. Fermina\", \"Saether, Mr. Simon Sivertsen\"], \"yaxis\": \"y\"}],                        {\"height\": 500, \"legend\": {\"title\": {\"text\": \"Survived\"}, \"tracegroupgap\": 0}, \"margin\": {\"t\": 60}, \"template\": {\"data\": {\"bar\": [{\"error_x\": {\"color\": \"#2a3f5f\"}, \"error_y\": {\"color\": \"#2a3f5f\"}, \"marker\": {\"line\": {\"color\": \"#E5ECF6\", \"width\": 0.5}}, \"type\": \"bar\"}], \"barpolar\": [{\"marker\": {\"line\": {\"color\": \"#E5ECF6\", \"width\": 0.5}}, \"type\": \"barpolar\"}], \"carpet\": [{\"aaxis\": {\"endlinecolor\": \"#2a3f5f\", \"gridcolor\": \"white\", \"linecolor\": \"white\", \"minorgridcolor\": \"white\", \"startlinecolor\": \"#2a3f5f\"}, \"baxis\": {\"endlinecolor\": \"#2a3f5f\", \"gridcolor\": \"white\", \"linecolor\": \"white\", \"minorgridcolor\": \"white\", \"startlinecolor\": \"#2a3f5f\"}, \"type\": \"carpet\"}], \"choropleth\": [{\"colorbar\": {\"outlinewidth\": 0, \"ticks\": \"\"}, \"type\": \"choropleth\"}], \"contour\": [{\"colorbar\": {\"outlinewidth\": 0, \"ticks\": \"\"}, \"colorscale\": [[0.0, \"#0d0887\"], [0.1111111111111111, \"#46039f\"], [0.2222222222222222, \"#7201a8\"], [0.3333333333333333, \"#9c179e\"], [0.4444444444444444, \"#bd3786\"], [0.5555555555555556, \"#d8576b\"], [0.6666666666666666, \"#ed7953\"], [0.7777777777777778, \"#fb9f3a\"], [0.8888888888888888, \"#fdca26\"], [1.0, \"#f0f921\"]], \"type\": \"contour\"}], \"contourcarpet\": [{\"colorbar\": {\"outlinewidth\": 0, \"ticks\": \"\"}, \"type\": \"contourcarpet\"}], \"heatmap\": [{\"colorbar\": {\"outlinewidth\": 0, \"ticks\": \"\"}, \"colorscale\": [[0.0, \"#0d0887\"], [0.1111111111111111, \"#46039f\"], [0.2222222222222222, \"#7201a8\"], [0.3333333333333333, \"#9c179e\"], [0.4444444444444444, \"#bd3786\"], [0.5555555555555556, \"#d8576b\"], [0.6666666666666666, \"#ed7953\"], [0.7777777777777778, \"#fb9f3a\"], [0.8888888888888888, \"#fdca26\"], [1.0, \"#f0f921\"]], \"type\": \"heatmap\"}], \"heatmapgl\": [{\"colorbar\": {\"outlinewidth\": 0, \"ticks\": \"\"}, \"colorscale\": [[0.0, \"#0d0887\"], [0.1111111111111111, \"#46039f\"], [0.2222222222222222, \"#7201a8\"], [0.3333333333333333, \"#9c179e\"], [0.4444444444444444, \"#bd3786\"], [0.5555555555555556, \"#d8576b\"], [0.6666666666666666, \"#ed7953\"], [0.7777777777777778, \"#fb9f3a\"], [0.8888888888888888, \"#fdca26\"], [1.0, \"#f0f921\"]], \"type\": \"heatmapgl\"}], \"histogram\": [{\"marker\": {\"colorbar\": {\"outlinewidth\": 0, \"ticks\": \"\"}}, \"type\": \"histogram\"}], \"histogram2d\": [{\"colorbar\": {\"outlinewidth\": 0, \"ticks\": \"\"}, \"colorscale\": [[0.0, \"#0d0887\"], [0.1111111111111111, \"#46039f\"], [0.2222222222222222, \"#7201a8\"], [0.3333333333333333, \"#9c179e\"], [0.4444444444444444, \"#bd3786\"], [0.5555555555555556, \"#d8576b\"], [0.6666666666666666, \"#ed7953\"], [0.7777777777777778, \"#fb9f3a\"], [0.8888888888888888, \"#fdca26\"], [1.0, \"#f0f921\"]], \"type\": \"histogram2d\"}], \"histogram2dcontour\": [{\"colorbar\": {\"outlinewidth\": 0, \"ticks\": \"\"}, \"colorscale\": [[0.0, \"#0d0887\"], [0.1111111111111111, \"#46039f\"], [0.2222222222222222, \"#7201a8\"], [0.3333333333333333, \"#9c179e\"], [0.4444444444444444, \"#bd3786\"], [0.5555555555555556, \"#d8576b\"], [0.6666666666666666, \"#ed7953\"], [0.7777777777777778, \"#fb9f3a\"], [0.8888888888888888, \"#fdca26\"], [1.0, \"#f0f921\"]], \"type\": \"histogram2dcontour\"}], \"mesh3d\": [{\"colorbar\": {\"outlinewidth\": 0, \"ticks\": \"\"}, \"type\": \"mesh3d\"}], \"parcoords\": [{\"line\": {\"colorbar\": {\"outlinewidth\": 0, \"ticks\": \"\"}}, \"type\": \"parcoords\"}], \"pie\": [{\"automargin\": true, \"type\": \"pie\"}], \"scatter\": [{\"marker\": {\"colorbar\": {\"outlinewidth\": 0, \"ticks\": \"\"}}, \"type\": \"scatter\"}], \"scatter3d\": [{\"line\": {\"colorbar\": {\"outlinewidth\": 0, \"ticks\": \"\"}}, \"marker\": {\"colorbar\": {\"outlinewidth\": 0, \"ticks\": \"\"}}, \"type\": \"scatter3d\"}], \"scattercarpet\": [{\"marker\": {\"colorbar\": {\"outlinewidth\": 0, \"ticks\": \"\"}}, \"type\": \"scattercarpet\"}], \"scattergeo\": [{\"marker\": {\"colorbar\": {\"outlinewidth\": 0, \"ticks\": \"\"}}, \"type\": \"scattergeo\"}], \"scattergl\": [{\"marker\": {\"colorbar\": {\"outlinewidth\": 0, \"ticks\": \"\"}}, \"type\": \"scattergl\"}], \"scattermapbox\": [{\"marker\": {\"colorbar\": {\"outlinewidth\": 0, \"ticks\": \"\"}}, \"type\": \"scattermapbox\"}], \"scatterpolar\": [{\"marker\": {\"colorbar\": {\"outlinewidth\": 0, \"ticks\": \"\"}}, \"type\": \"scatterpolar\"}], \"scatterpolargl\": [{\"marker\": {\"colorbar\": {\"outlinewidth\": 0, \"ticks\": \"\"}}, \"type\": \"scatterpolargl\"}], \"scatterternary\": [{\"marker\": {\"colorbar\": {\"outlinewidth\": 0, \"ticks\": \"\"}}, \"type\": \"scatterternary\"}], \"surface\": [{\"colorbar\": {\"outlinewidth\": 0, \"ticks\": \"\"}, \"colorscale\": [[0.0, \"#0d0887\"], [0.1111111111111111, \"#46039f\"], [0.2222222222222222, \"#7201a8\"], [0.3333333333333333, \"#9c179e\"], [0.4444444444444444, \"#bd3786\"], [0.5555555555555556, \"#d8576b\"], [0.6666666666666666, \"#ed7953\"], [0.7777777777777778, \"#fb9f3a\"], [0.8888888888888888, \"#fdca26\"], [1.0, \"#f0f921\"]], \"type\": \"surface\"}], \"table\": [{\"cells\": {\"fill\": {\"color\": \"#EBF0F8\"}, \"line\": {\"color\": \"white\"}}, \"header\": {\"fill\": {\"color\": \"#C8D4E3\"}, \"line\": {\"color\": \"white\"}}, \"type\": \"table\"}]}, \"layout\": {\"annotationdefaults\": {\"arrowcolor\": \"#2a3f5f\", \"arrowhead\": 0, \"arrowwidth\": 1}, \"autotypenumbers\": \"strict\", \"coloraxis\": {\"colorbar\": {\"outlinewidth\": 0, \"ticks\": \"\"}}, \"colorscale\": {\"diverging\": [[0, \"#8e0152\"], [0.1, \"#c51b7d\"], [0.2, \"#de77ae\"], [0.3, \"#f1b6da\"], [0.4, \"#fde0ef\"], [0.5, \"#f7f7f7\"], [0.6, \"#e6f5d0\"], [0.7, \"#b8e186\"], [0.8, \"#7fbc41\"], [0.9, \"#4d9221\"], [1, \"#276419\"]], \"sequential\": [[0.0, \"#0d0887\"], [0.1111111111111111, \"#46039f\"], [0.2222222222222222, \"#7201a8\"], [0.3333333333333333, \"#9c179e\"], [0.4444444444444444, \"#bd3786\"], [0.5555555555555556, \"#d8576b\"], [0.6666666666666666, \"#ed7953\"], [0.7777777777777778, \"#fb9f3a\"], [0.8888888888888888, \"#fdca26\"], [1.0, \"#f0f921\"]], \"sequentialminus\": [[0.0, \"#0d0887\"], [0.1111111111111111, \"#46039f\"], [0.2222222222222222, \"#7201a8\"], [0.3333333333333333, \"#9c179e\"], [0.4444444444444444, \"#bd3786\"], [0.5555555555555556, \"#d8576b\"], [0.6666666666666666, \"#ed7953\"], [0.7777777777777778, \"#fb9f3a\"], [0.8888888888888888, \"#fdca26\"], [1.0, \"#f0f921\"]]}, \"colorway\": [\"#636efa\", \"#EF553B\", \"#00cc96\", \"#ab63fa\", \"#FFA15A\", \"#19d3f3\", \"#FF6692\", \"#B6E880\", \"#FF97FF\", \"#FECB52\"], \"font\": {\"color\": \"#2a3f5f\"}, \"geo\": {\"bgcolor\": \"white\", \"lakecolor\": \"white\", \"landcolor\": \"#E5ECF6\", \"showlakes\": true, \"showland\": true, \"subunitcolor\": \"white\"}, \"hoverlabel\": {\"align\": \"left\"}, \"hovermode\": \"closest\", \"mapbox\": {\"style\": \"light\"}, \"paper_bgcolor\": \"white\", \"plot_bgcolor\": \"#E5ECF6\", \"polar\": {\"angularaxis\": {\"gridcolor\": \"white\", \"linecolor\": \"white\", \"ticks\": \"\"}, \"bgcolor\": \"#E5ECF6\", \"radialaxis\": {\"gridcolor\": \"white\", \"linecolor\": \"white\", \"ticks\": \"\"}}, \"scene\": {\"xaxis\": {\"backgroundcolor\": \"#E5ECF6\", \"gridcolor\": \"white\", \"gridwidth\": 2, \"linecolor\": \"white\", \"showbackground\": true, \"ticks\": \"\", \"zerolinecolor\": \"white\"}, \"yaxis\": {\"backgroundcolor\": \"#E5ECF6\", \"gridcolor\": \"white\", \"gridwidth\": 2, \"linecolor\": \"white\", \"showbackground\": true, \"ticks\": \"\", \"zerolinecolor\": \"white\"}, \"zaxis\": {\"backgroundcolor\": \"#E5ECF6\", \"gridcolor\": \"white\", \"gridwidth\": 2, \"linecolor\": \"white\", \"showbackground\": true, \"ticks\": \"\", \"zerolinecolor\": \"white\"}}, \"shapedefaults\": {\"line\": {\"color\": \"#2a3f5f\"}}, \"ternary\": {\"aaxis\": {\"gridcolor\": \"white\", \"linecolor\": \"white\", \"ticks\": \"\"}, \"baxis\": {\"gridcolor\": \"white\", \"linecolor\": \"white\", \"ticks\": \"\"}, \"bgcolor\": \"#E5ECF6\", \"caxis\": {\"gridcolor\": \"white\", \"linecolor\": \"white\", \"ticks\": \"\"}}, \"title\": {\"x\": 0.05}, \"xaxis\": {\"automargin\": true, \"gridcolor\": \"white\", \"linecolor\": \"white\", \"ticks\": \"\", \"title\": {\"standoff\": 15}, \"zerolinecolor\": \"white\", \"zerolinewidth\": 2}, \"yaxis\": {\"automargin\": true, \"gridcolor\": \"white\", \"linecolor\": \"white\", \"ticks\": \"\", \"title\": {\"standoff\": 15}, \"zerolinecolor\": \"white\", \"zerolinewidth\": 2}}}, \"width\": 1200, \"xaxis\": {\"anchor\": \"y\", \"domain\": [0.0, 1.0], \"title\": {\"text\": \"Ticket_p\"}}, \"yaxis\": {\"anchor\": \"x\", \"domain\": [0.0, 1.0], \"title\": {\"text\": \"Name\"}}},                        {\"responsive\": true}                    ).then(function(){\n",
       "                            \n",
       "var gd = document.getElementById('ab8fe60e-d6d3-4297-a85f-406d236d04c8');\n",
       "var x = new MutationObserver(function (mutations, observer) {{\n",
       "        var display = window.getComputedStyle(gd).display;\n",
       "        if (!display || display === 'none') {{\n",
       "            console.log([gd, 'removed!']);\n",
       "            Plotly.purge(gd);\n",
       "            observer.disconnect();\n",
       "        }}\n",
       "}});\n",
       "\n",
       "// Listen for the removal of the full notebook cells\n",
       "var notebookContainer = gd.closest('#notebook-container');\n",
       "if (notebookContainer) {{\n",
       "    x.observe(notebookContainer, {childList: true});\n",
       "}}\n",
       "\n",
       "// Listen for the clearing of the current output cell\n",
       "var outputEl = gd.closest('.output');\n",
       "if (outputEl) {{\n",
       "    x.observe(outputEl, {childList: true});\n",
       "}}\n",
       "\n",
       "                        })                };                });            </script>        </div>"
      ]
     },
     "metadata": {},
     "output_type": "display_data"
    }
   ],
   "source": [
    "dfplt = df.copy(deep=True)\n",
    "dfplt= dfplt[dfplt[\"Ticket_p\"] != \"N/A\"]\n",
    "fig = px.scatter(dfplt.astype(str), x=\"Ticket_p\", y=\"Name\", color= \"Survived\",\n",
    "                 color_discrete_sequence=cm, size_max=6,width=1200, height=500)\n",
    "fig.show()"
   ]
  },
  {
   "cell_type": "markdown",
   "metadata": {
    "_cell_guid": "5cbca22d-6f4d-4f38-9778-0b14791017ee",
    "_uuid": "be55324a-3aa8-4841-9978-48fc628b23a9",
    "papermill": {
     "duration": 0.069183,
     "end_time": "2022-07-11T06:08:17.647659",
     "exception": false,
     "start_time": "2022-07-11T06:08:17.578476",
     "status": "completed"
    },
    "tags": []
   },
   "source": [
    "We do not know much about the meaning of this prefixes, but there are some dependencies:\n",
    "* No passangers survived with the prefix A4\n",
    "* Most of the passangers with WC prefix - died"
   ]
  },
  {
   "cell_type": "markdown",
   "metadata": {
    "_cell_guid": "72410d2c-549c-4292-9f35-86071687a154",
    "_uuid": "2da48d5e-ad1c-4ffe-b23c-b7b0be0b790b",
    "papermill": {
     "duration": 0.06904,
     "end_time": "2022-07-11T06:08:17.786137",
     "exception": false,
     "start_time": "2022-07-11T06:08:17.717097",
     "status": "completed"
    },
    "tags": []
   },
   "source": [
    "### <a class=\"anchor\" id=\"1.2.2_bullet\" style=\"color:#3B61A3\">  1.2.2 Names, surnames and status feature\n",
    "To get more information about the family bonds - we will extract surnames instead of Names, and put them into features list/"
   ]
  },
  {
   "cell_type": "code",
   "execution_count": 19,
   "metadata": {
    "_cell_guid": "9ce8b816-3fa3-4484-b55e-20095f1fbedc",
    "_uuid": "b93b4921-953f-4dfd-abdc-c85d4b11edc8",
    "collapsed": false,
    "execution": {
     "iopub.execute_input": "2022-07-11T06:08:17.930330Z",
     "iopub.status.busy": "2022-07-11T06:08:17.929325Z",
     "iopub.status.idle": "2022-07-11T06:08:17.941965Z",
     "shell.execute_reply": "2022-07-11T06:08:17.942511Z"
    },
    "jupyter": {
     "outputs_hidden": false
    },
    "papermill": {
     "duration": 0.087139,
     "end_time": "2022-07-11T06:08:17.942698",
     "exception": false,
     "start_time": "2022-07-11T06:08:17.855559",
     "status": "completed"
    },
    "tags": []
   },
   "outputs": [],
   "source": [
    "df[[\"Surname\",\"Name\"]] = [i.split(\",\") for i in df[\"Name\"].values]"
   ]
  },
  {
   "cell_type": "markdown",
   "metadata": {
    "_cell_guid": "ccf0507b-fcb6-439b-8baa-28322fc225a3",
    "_uuid": "4f217c15-c310-4f4b-b14b-28b72e10a3b2",
    "papermill": {
     "duration": 0.069236,
     "end_time": "2022-07-11T06:08:18.081614",
     "exception": false,
     "start_time": "2022-07-11T06:08:18.012378",
     "status": "completed"
    },
    "tags": []
   },
   "source": [
    "We will get all same-surname groups into one list, to put some feature for it\n",
    "All others will be marked with \"Other\".(*)"
   ]
  },
  {
   "cell_type": "code",
   "execution_count": 20,
   "metadata": {
    "_cell_guid": "432c7092-bf65-48a6-a86f-10a73cf32199",
    "_uuid": "044429f1-47cc-4469-80e1-c1df409c8c59",
    "collapsed": false,
    "execution": {
     "iopub.execute_input": "2022-07-11T06:08:18.225732Z",
     "iopub.status.busy": "2022-07-11T06:08:18.224811Z",
     "iopub.status.idle": "2022-07-11T06:08:18.233823Z",
     "shell.execute_reply": "2022-07-11T06:08:18.234374Z"
    },
    "jupyter": {
     "outputs_hidden": false
    },
    "papermill": {
     "duration": 0.083098,
     "end_time": "2022-07-11T06:08:18.234545",
     "exception": false,
     "start_time": "2022-07-11T06:08:18.151447",
     "status": "completed"
    },
    "tags": []
   },
   "outputs": [],
   "source": [
    "a = df.groupby(\"Surname\")[\"Surname\"].count()\n",
    "fam_list = a[a>1].index.values\n",
    "df.loc[~df[\"Surname\"].isin(fam_list),\"Surname\"] = \"Other\""
   ]
  },
  {
   "cell_type": "markdown",
   "metadata": {
    "_cell_guid": "dc80b257-2f42-4aef-97d9-4fb3d7e9bde2",
    "_uuid": "d1680b73-8f98-4d20-8fc0-2c1b5f8eb232",
    "papermill": {
     "duration": 0.070672,
     "end_time": "2022-07-11T06:08:18.376118",
     "exception": false,
     "start_time": "2022-07-11T06:08:18.305446",
     "status": "completed"
    },
    "tags": []
   },
   "source": [
    "Lets visualize Surviving rates for families:"
   ]
  },
  {
   "cell_type": "code",
   "execution_count": 21,
   "metadata": {
    "_cell_guid": "1b227f4e-bb79-44e9-a03a-ea3b2aa8c359",
    "_uuid": "85cf66c6-ae8a-40cb-ba5c-003be9174d9c",
    "collapsed": false,
    "execution": {
     "iopub.execute_input": "2022-07-11T06:08:18.521764Z",
     "iopub.status.busy": "2022-07-11T06:08:18.520841Z",
     "iopub.status.idle": "2022-07-11T06:08:18.598540Z",
     "shell.execute_reply": "2022-07-11T06:08:18.599077Z"
    },
    "jupyter": {
     "outputs_hidden": false
    },
    "papermill": {
     "duration": 0.152684,
     "end_time": "2022-07-11T06:08:18.599266",
     "exception": false,
     "start_time": "2022-07-11T06:08:18.446582",
     "status": "completed"
    },
    "tags": []
   },
   "outputs": [
    {
     "data": {
      "text/html": [
       "<div>                            <div id=\"2f22e788-b9e7-428e-85df-e880d127c13c\" class=\"plotly-graph-div\" style=\"height:525px; width:100%;\"></div>            <script type=\"text/javascript\">                require([\"plotly\"], function(Plotly) {                    window.PLOTLYENV=window.PLOTLYENV || {};                                    if (document.getElementById(\"2f22e788-b9e7-428e-85df-e880d127c13c\")) {                    Plotly.newPlot(                        \"2f22e788-b9e7-428e-85df-e880d127c13c\",                        [{\"alignmentgroup\": \"True\", \"bingroup\": \"x\", \"hovertemplate\": \"Survived=0.0<br>Surname=%{x}<br>count=%{y}<extra></extra>\", \"legendgroup\": \"0.0\", \"marker\": {\"color\": \"#273176\"}, \"name\": \"0.0\", \"offsetgroup\": \"0.0\", \"orientation\": \"v\", \"showlegend\": true, \"type\": \"histogram\", \"x\": [\"Braund\", \"Allen\", \"Moran\", \"McCarthy\", \"Palsson\", \"Andersson\", \"Rice\", \"Vander Planke\", \"Palsson\", \"Fortune\", \"Meyer\", \"Holverson\", \"Vander Planke\", \"Turpin\", \"Rogers\", \"Lennon\", \"Samaan\", \"Arnold-Franchi\", \"Panula\", \"Ostby\", \"Goodwin\", \"Harris\", \"Skoog\", \"Kink\", \"Goodwin\", \"Chronopoulos\", \"Carrau\", \"Ford\", \"Chaffee\", \"Dean\", \"Kantor\", \"Petroff\", \"White\", \"Johansson\", \"Gustafsson\", \"Zabour\", \"Jussila\", \"Attalah\", \"Turpin\", \"Baxter\", \"Andersson\", \"Hickman\", \"Moore\", \"Nasser\", \"White\", \"Robins\", \"Futrelle\", \"Boulos\", \"Andrew\", \"Ford\", \"Navratil\", \"van Billiard\", \"Olsen\", \"Williams\", \"Sage\", \"Cribb\", \"Calic\", \"Panula\", \"Skoog\", \"Rice\", \"Smith\", \"Klasen\", \"Lefebre\", \"Sage\", \"Asplund\", \"Bourke\", \"Olsen\", \"Sage\", \"Strom\", \"Backstrom\", \"Ali\", \"Kiernan\", \"Jacobsohn\", \"Harris\", \"Lefebre\", \"Larsson\", \"Hold\", \"Zabour\", \"Attalah\", \"Minahan\", \"Carter\", \"Strom\", \"Lobb\", \"Rosblom\", \"Smith\", \"Taussig\", \"Panula\", \"Rice\", \"Olsson\", \"Smith\", \"Allison\", \"Johnson\", \"Williams\", \"Abelson\", \"Lahtinen\", \"Hart\", \"Dennis\", \"Sage\", \"Graham\", \"Vander Planke\", \"Pears\", \"Fox\", \"Elias\", \"Arnold-Franchi\", \"Skoog\", \"del Carlo\", \"Barbara\", \"O'Brien\", \"Wiklund\", \"Palsson\", \"Widener\", \"Betros\", \"Gustafsson\", \"Davies\", \"Goodwin\", \"Gustafsson\", \"Johansson\", \"Olsson\", \"Jussila\", \"Hakkarainen\", \"Oreskovic\", \"Gale\", \"Lefebre\", \"Hart\", \"Van Impe\", \"Danbom\", \"Rosblom\", \"Flynn\", \"Silvey\", \"Ford\", \"Fortune\", \"West\", \"Hagland\", \"O'Connor\", \"Morley\", \"Cacic\", \"Renouf\", \"Braund\", \"Karlsson\", \"Goodwin\", \"Lefebre\", \"Hagland\", \"Stanley\", \"Allison\", \"Svensson\", \"Calic\", \"Canavan\", \"Penasco y Castellana\", \"Olsen\", \"Webber\", \"Coleff\", \"Ryan\", \"Hocking\", \"Elias\", \"Cacic\", \"Risien\", \"Andersson\", \"Andersson\", \"Douglas\", \"Goldsmith\", \"O'Brien\", \"Wright\", \"Davies\", \"Palsson\", \"Caram\", \"Bourke\", \"Chapman\", \"Van Impe\", \"Johnson\", \"Boulos\", \"Lindell\", \"Andersson\", \"Danbom\", \"Lobb\", \"Yasbeck\", \"Hansen\", \"Bowen\", \"Skoog\", \"Collyer\", \"Panula\", \"Thorneycroft\", \"Jensen\", \"Skoog\", \"Cor\", \"Hickman\", \"Bourke\", \"Newell\", \"Coleff\", \"Hickman\", \"Cook\", \"Davidson\", \"Goodwin\", \"Goodwin\", \"Brown\", \"Laroche\", \"Panula\", \"Saad\", \"Chapman\", \"Kelly\", \"Thayer\", \"Barbara\", \"Hansen\", \"Morley\", \"Larsson\", \"Johnson\", \"Jensen\", \"Oreskovic\", \"Bryhl\", \"Ilmakangas\", \"Williams\", \"Ford\", \"Cavendish\", \"McNamee\", \"Crosby\", \"Abbott\", \"Marvin\", \"Carlsson\", \"Moran\", \"Jensen\", \"Elias\", \"Johnston\", \"Ali\", \"Rice\", \"Keane\", \"Sage\", \"Hoyt\", \"Van Impe\", \"Johansson\", \"Andrews\", \"Meyer\", \"Andersson\", \"Mallet\", \"Skoog\", \"Panula\", \"Flynn\", \"Lam\", \"Saad\", \"Sage\", \"Harper\", \"Andersson\", \"Svensson\", \"Boulos\", \"Carter\", \"Hansen\", \"Giles\", \"Sage\", \"Carlsson\", \"Gustafsson\", \"Petroff\", \"Rice\", \"Johnston\"], \"xaxis\": \"x\", \"yaxis\": \"y\"}, {\"alignmentgroup\": \"True\", \"bingroup\": \"x\", \"hovertemplate\": \"Survived=1.0<br>Surname=%{x}<br>count=%{y}<extra></extra>\", \"legendgroup\": \"1.0\", \"marker\": {\"color\": \"#3B61A3\"}, \"name\": \"1.0\", \"offsetgroup\": \"1.0\", \"orientation\": \"v\", \"showlegend\": true, \"type\": \"histogram\", \"x\": [\"Cumings\", \"Futrelle\", \"Johnson\", \"Nasser\", \"Sandstrom\", \"Bonnell\", \"Williams\", \"McGowan\", \"Asplund\", \"Spencer\", \"Nicola-Yarred\", \"Laroche\", \"Harper\", \"Faunthorpe\", \"West\", \"Moubarek\", \"Andersson\", \"Caldwell\", \"Backstrom\", \"Fortune\", \"Greenfield\", \"Doling\", \"Moran\", \"Webber\", \"Nicola-Yarred\", \"Peter\", \"Weisz\", \"Hakkarainen\", \"Andersson\", \"Pears\", \"Watt\", \"Goldsmith\", \"Johnson\", \"Becker\", \"Kink-Heilmann\", \"O'Brien\", \"Navratil\", \"Brown\", \"Carr\", \"Newell\", \"Hoyt\", \"Harris\", \"Asplund\", \"Collyer\", \"Murphy\", \"Hamalainen\", \"Beckwith\", \"Touma\", \"Asplund\", \"Graham\", \"Mellinger\", \"Andrews\", \"Abbott\", \"Connolly\", \"Bishop\", \"Baxter\", \"Kelly\", \"McCoy\", \"Keane\", \"Allison\", \"Fleming\", \"Penasco y Castellana\", \"Hays\", \"Ryerson\", \"Nilsson\", \"Kantor\", \"Wick\", \"Spedden\", \"Caldwell\", \"Goldsmith\", \"Hippach\", \"McCoy\", \"Frauenthal\", \"Burns\", \"Navratil\", \"Fortune\", \"Brown\", \"Smith\", \"Davison\", \"Coutts\", \"Warren\", \"Harder\", \"Meyer\", \"Nakid\", \"Holverson\", \"Carter\", \"Newell\", \"Sandstrom\", \"Richards\", \"Minahan\", \"Drew\", \"Clarke\", \"Phillips\", \"Thorneycroft\", \"Louch\", \"Carter\", \"Richards\", \"Hart\", \"Dodge\", \"Mellinger\", \"Baclini\", \"Goldenberg\", \"Kenyon\", \"Baclini\", \"West\", \"Hirvonen\", \"Bishop\", \"Hoyt\", \"Coutts\", \"Quick\", \"Bradley\", \"Daly\", \"Rothschild\", \"Angle\", \"Hippach\", \"Quick\", \"Peter\", \"Hart\", \"Crosby\", \"Beane\", \"Beane\", \"Davies\", \"Thayer\", \"Duff Gordon\", \"Taussig\", \"de Messemaeker\", \"Jonsson\", \"Harris\", \"Flynn\", \"Kelly\", \"Silvey\", \"Jussila\", \"Christy\", \"Thayer\", \"Taussig\", \"Frolicher-Stehli\", \"Duff Gordon\", \"Jacobsohn\", \"Laroche\", \"Murphy\", \"Herman\", \"Becker\", \"Kimball\", \"Nakid\", \"Baclini\", \"Harper\", \"Stanley\", \"Doling\", \"Frauenthal\", \"Taylor\", \"Brown\", \"Cardeza\", \"Dick\", \"Karun\", \"Lam\", \"Astor\", \"Kelly\", \"Moubarek\", \"Taylor\", \"Harper\", \"Chambers\", \"Renouf\", \"Allen\", \"Ryerson\", \"Wells\", \"Moor\", \"Herman\", \"Hamalainen\", \"Carter\", \"Hocking\", \"Dick\", \"Dean\", \"Collyer\", \"Carter\", \"Thomas\", \"Chambers\", \"Hays\", \"Moor\", \"Mallet\", \"Yasbeck\", \"Richards\", \"Compton\", \"Goldenberg\", \"Lines\", \"Aks\", \"Wick\", \"Daly\", \"Baclini\", \"Duran y More\", \"Johnson\", \"Beckwith\", \"Abelson\", \"Graham\"], \"xaxis\": \"x\", \"yaxis\": \"y\"}, {\"alignmentgroup\": \"True\", \"bingroup\": \"x\", \"hovertemplate\": \"Survived=nan<br>Surname=%{x}<br>count=%{y}<extra></extra>\", \"legendgroup\": \"nan\", \"marker\": {\"color\": \"#76A4AC\"}, \"name\": \"nan\", \"offsetgroup\": \"nan\", \"orientation\": \"v\", \"showlegend\": true, \"type\": \"histogram\", \"x\": [\"Kelly\", \"Hirvonen\", \"Svensson\", \"Connolly\", \"Caldwell\", \"Davies\", \"Snyder\", \"Howard\", \"Chaffee\", \"del Carlo\", \"Keane\", \"Ilmakangas\", \"Rothschild\", \"Olsen\", \"Williams\", \"Ryerson\", \"Robins\", \"Ostby\", \"Samaan\", \"Louch\", \"Jefferys\", \"Dean\", \"Johnston\", \"Cacic\", \"Karun\", \"Franklin\", \"Goldsmith\", \"Kimball\", \"Coutts\", \"Smith\", \"Hocking\", \"Fortune\", \"Rice\", \"Cor\", \"Abelseth\", \"Davison\", \"Bradley\", \"Ryerson\", \"Burns\", \"Moore\", \"Fortune\", \"Boulos\", \"Straus\", \"Khalil\", \"Wells\", \"Dyker\", \"Davidson\", \"Cavendish\", \"Stengel\", \"Weisz\", \"Foley\", \"Thomas\", \"Buckley\", \"Ryan\", \"Buckley\", \"Straus\", \"Chronopoulos\", \"Thomas\", \"Sandstrom\", \"Chapman\", \"Watt\", \"Kiernan\", \"Cribb\", \"McCoy\", \"Lefebre\", \"Thomas\", \"Carlsson\", \"Zakarian\", \"Goodwin\", \"Goodwin\", \"Ryerson\", \"Vander Planke\", \"Davies\", \"Lahtinen\", \"Klasen\", \"Asplund\", \"Peacock\", \"Touma\", \"Wright\", \"Kink-Heilmann\", \"Ford\", \"Zakarian\", \"Dyker\", \"Asplund\", \"Brown\", \"Stengel\", \"Becker\", \"Compton\", \"Compton\", \"Marvin\", \"Douglas\", \"Phillips\", \"Davies\", \"Sage\", \"Angle\", \"van Billiard\", \"Drew\", \"Karlsson\", \"Spedden\", \"Nilsson\", \"Murphy\", \"Danbom\", \"Astor\", \"Quick\", \"Andrew\", \"McGowan\", \"Howard\", \"Andersson\", \"Mahon\", \"Wick\", \"Widener\", \"Duran y More\", \"Cook\", \"Karlsson\", \"Moubarek\", \"Asplund\", \"Hocking\", \"Wiklund\", \"Cumings\", \"Warren\", \"Douglas\", \"Christy\", \"Spedden\", \"Johnston\", \"Kenyon\", \"Drew\", \"Hold\", \"Khalil\", \"West\", \"Clark\", \"Mahon\", \"de Messemaeker\", \"Nilsson\", \"Wells\", \"Klasen\", \"Warren\", \"Howard\", \"Pokrnic\", \"Fox\", \"Clark\", \"Lennon\", \"Bryhl\", \"Faunthorpe\", \"Ware\", \"Oreskovic\", \"Peacock\", \"Fleming\", \"Touma\", \"Rosblom\", \"Dennis\", \"Franklin\", \"Snyder\", \"Ford\", \"Daly\", \"Dodge\", \"Laroche\", \"Samaan\", \"Johansson\", \"Olsson\", \"Phillips\", \"Pokrnic\", \"McCarthy\", \"Crosby\", \"Allison\", \"Aks\", \"Hays\", \"Hansen\", \"Cacic\", \"Carr\", \"White\", \"Spencer\", \"Rogers\", \"Jonsson\", \"Jefferys\", \"Andersson\", \"Becker\", \"Clarke\", \"Davies\", \"Thomas\", \"Nakid\", \"Cor\", \"Elias\", \"Betros\", \"Sage\", \"Cardeza\", \"van Billiard\", \"Abelseth\", \"Giles\", \"Greenfield\", \"Herman\", \"Dean\", \"Brown\", \"Lindell\", \"Sage\", \"Mallet\", \"Ware\", \"Harder\", \"Sage\", \"Caram\", \"Gibson\", \"Giles\", \"Dodge\", \"Bowen\", \"Kink\", \"Asplund\", \"O'Connor\", \"Foley\", \"Risien\", \"McNamee\", \"Herman\", \"Canavan\", \"Palsson\", \"Lines\", \"Abbott\", \"Kink-Heilmann\", \"Smith\", \"Frolicher-Stehli\", \"Bonnell\", \"Gale\", \"Gibson\", \"Carrau\", \"Frauenthal\", \"Ware\", \"Widener\", \"Peacock\", \"Minahan\", \"Ware\", \"Peter\"], \"xaxis\": \"x\", \"yaxis\": \"y\"}],                        {\"barmode\": \"relative\", \"legend\": {\"title\": {\"text\": \"Survived\"}, \"tracegroupgap\": 0}, \"margin\": {\"t\": 60}, \"template\": {\"data\": {\"bar\": [{\"error_x\": {\"color\": \"#2a3f5f\"}, \"error_y\": {\"color\": \"#2a3f5f\"}, \"marker\": {\"line\": {\"color\": \"#E5ECF6\", \"width\": 0.5}}, \"type\": \"bar\"}], \"barpolar\": [{\"marker\": {\"line\": {\"color\": \"#E5ECF6\", \"width\": 0.5}}, \"type\": \"barpolar\"}], \"carpet\": [{\"aaxis\": {\"endlinecolor\": \"#2a3f5f\", \"gridcolor\": \"white\", \"linecolor\": \"white\", \"minorgridcolor\": \"white\", \"startlinecolor\": \"#2a3f5f\"}, \"baxis\": {\"endlinecolor\": \"#2a3f5f\", \"gridcolor\": \"white\", \"linecolor\": \"white\", \"minorgridcolor\": \"white\", \"startlinecolor\": \"#2a3f5f\"}, \"type\": \"carpet\"}], \"choropleth\": [{\"colorbar\": {\"outlinewidth\": 0, \"ticks\": \"\"}, \"type\": \"choropleth\"}], \"contour\": [{\"colorbar\": {\"outlinewidth\": 0, \"ticks\": \"\"}, \"colorscale\": [[0.0, \"#0d0887\"], [0.1111111111111111, \"#46039f\"], [0.2222222222222222, \"#7201a8\"], [0.3333333333333333, \"#9c179e\"], [0.4444444444444444, \"#bd3786\"], [0.5555555555555556, \"#d8576b\"], [0.6666666666666666, \"#ed7953\"], [0.7777777777777778, \"#fb9f3a\"], [0.8888888888888888, \"#fdca26\"], [1.0, \"#f0f921\"]], \"type\": \"contour\"}], \"contourcarpet\": [{\"colorbar\": {\"outlinewidth\": 0, \"ticks\": \"\"}, \"type\": \"contourcarpet\"}], \"heatmap\": [{\"colorbar\": {\"outlinewidth\": 0, \"ticks\": \"\"}, \"colorscale\": [[0.0, \"#0d0887\"], [0.1111111111111111, \"#46039f\"], [0.2222222222222222, \"#7201a8\"], [0.3333333333333333, \"#9c179e\"], [0.4444444444444444, \"#bd3786\"], [0.5555555555555556, \"#d8576b\"], [0.6666666666666666, \"#ed7953\"], [0.7777777777777778, \"#fb9f3a\"], [0.8888888888888888, \"#fdca26\"], [1.0, \"#f0f921\"]], \"type\": \"heatmap\"}], \"heatmapgl\": [{\"colorbar\": {\"outlinewidth\": 0, \"ticks\": \"\"}, \"colorscale\": [[0.0, \"#0d0887\"], [0.1111111111111111, \"#46039f\"], [0.2222222222222222, \"#7201a8\"], [0.3333333333333333, \"#9c179e\"], [0.4444444444444444, \"#bd3786\"], [0.5555555555555556, \"#d8576b\"], [0.6666666666666666, \"#ed7953\"], [0.7777777777777778, \"#fb9f3a\"], [0.8888888888888888, \"#fdca26\"], [1.0, \"#f0f921\"]], \"type\": \"heatmapgl\"}], \"histogram\": [{\"marker\": {\"colorbar\": {\"outlinewidth\": 0, \"ticks\": \"\"}}, \"type\": \"histogram\"}], \"histogram2d\": [{\"colorbar\": {\"outlinewidth\": 0, \"ticks\": \"\"}, \"colorscale\": [[0.0, \"#0d0887\"], [0.1111111111111111, \"#46039f\"], [0.2222222222222222, \"#7201a8\"], [0.3333333333333333, \"#9c179e\"], [0.4444444444444444, \"#bd3786\"], [0.5555555555555556, \"#d8576b\"], [0.6666666666666666, \"#ed7953\"], [0.7777777777777778, \"#fb9f3a\"], [0.8888888888888888, \"#fdca26\"], [1.0, \"#f0f921\"]], \"type\": \"histogram2d\"}], \"histogram2dcontour\": [{\"colorbar\": {\"outlinewidth\": 0, \"ticks\": \"\"}, \"colorscale\": [[0.0, \"#0d0887\"], [0.1111111111111111, \"#46039f\"], [0.2222222222222222, \"#7201a8\"], [0.3333333333333333, \"#9c179e\"], [0.4444444444444444, \"#bd3786\"], [0.5555555555555556, \"#d8576b\"], [0.6666666666666666, \"#ed7953\"], [0.7777777777777778, \"#fb9f3a\"], [0.8888888888888888, \"#fdca26\"], [1.0, \"#f0f921\"]], \"type\": \"histogram2dcontour\"}], \"mesh3d\": [{\"colorbar\": {\"outlinewidth\": 0, \"ticks\": \"\"}, \"type\": \"mesh3d\"}], \"parcoords\": [{\"line\": {\"colorbar\": {\"outlinewidth\": 0, \"ticks\": \"\"}}, \"type\": \"parcoords\"}], \"pie\": [{\"automargin\": true, \"type\": \"pie\"}], \"scatter\": [{\"marker\": {\"colorbar\": {\"outlinewidth\": 0, \"ticks\": \"\"}}, \"type\": \"scatter\"}], \"scatter3d\": [{\"line\": {\"colorbar\": {\"outlinewidth\": 0, \"ticks\": \"\"}}, \"marker\": {\"colorbar\": {\"outlinewidth\": 0, \"ticks\": \"\"}}, \"type\": \"scatter3d\"}], \"scattercarpet\": [{\"marker\": {\"colorbar\": {\"outlinewidth\": 0, \"ticks\": \"\"}}, \"type\": \"scattercarpet\"}], \"scattergeo\": [{\"marker\": {\"colorbar\": {\"outlinewidth\": 0, \"ticks\": \"\"}}, \"type\": \"scattergeo\"}], \"scattergl\": [{\"marker\": {\"colorbar\": {\"outlinewidth\": 0, \"ticks\": \"\"}}, \"type\": \"scattergl\"}], \"scattermapbox\": [{\"marker\": {\"colorbar\": {\"outlinewidth\": 0, \"ticks\": \"\"}}, \"type\": \"scattermapbox\"}], \"scatterpolar\": [{\"marker\": {\"colorbar\": {\"outlinewidth\": 0, \"ticks\": \"\"}}, \"type\": \"scatterpolar\"}], \"scatterpolargl\": [{\"marker\": {\"colorbar\": {\"outlinewidth\": 0, \"ticks\": \"\"}}, \"type\": \"scatterpolargl\"}], \"scatterternary\": [{\"marker\": {\"colorbar\": {\"outlinewidth\": 0, \"ticks\": \"\"}}, \"type\": \"scatterternary\"}], \"surface\": [{\"colorbar\": {\"outlinewidth\": 0, \"ticks\": \"\"}, \"colorscale\": [[0.0, \"#0d0887\"], [0.1111111111111111, \"#46039f\"], [0.2222222222222222, \"#7201a8\"], [0.3333333333333333, \"#9c179e\"], [0.4444444444444444, \"#bd3786\"], [0.5555555555555556, \"#d8576b\"], [0.6666666666666666, \"#ed7953\"], [0.7777777777777778, \"#fb9f3a\"], [0.8888888888888888, \"#fdca26\"], [1.0, \"#f0f921\"]], \"type\": \"surface\"}], \"table\": [{\"cells\": {\"fill\": {\"color\": \"#EBF0F8\"}, \"line\": {\"color\": \"white\"}}, \"header\": {\"fill\": {\"color\": \"#C8D4E3\"}, \"line\": {\"color\": \"white\"}}, \"type\": \"table\"}]}, \"layout\": {\"annotationdefaults\": {\"arrowcolor\": \"#2a3f5f\", \"arrowhead\": 0, \"arrowwidth\": 1}, \"autotypenumbers\": \"strict\", \"coloraxis\": {\"colorbar\": {\"outlinewidth\": 0, \"ticks\": \"\"}}, \"colorscale\": {\"diverging\": [[0, \"#8e0152\"], [0.1, \"#c51b7d\"], [0.2, \"#de77ae\"], [0.3, \"#f1b6da\"], [0.4, \"#fde0ef\"], [0.5, \"#f7f7f7\"], [0.6, \"#e6f5d0\"], [0.7, \"#b8e186\"], [0.8, \"#7fbc41\"], [0.9, \"#4d9221\"], [1, \"#276419\"]], \"sequential\": [[0.0, \"#0d0887\"], [0.1111111111111111, \"#46039f\"], [0.2222222222222222, \"#7201a8\"], [0.3333333333333333, \"#9c179e\"], [0.4444444444444444, \"#bd3786\"], [0.5555555555555556, \"#d8576b\"], [0.6666666666666666, \"#ed7953\"], [0.7777777777777778, \"#fb9f3a\"], [0.8888888888888888, \"#fdca26\"], [1.0, \"#f0f921\"]], \"sequentialminus\": [[0.0, \"#0d0887\"], [0.1111111111111111, \"#46039f\"], [0.2222222222222222, \"#7201a8\"], [0.3333333333333333, \"#9c179e\"], [0.4444444444444444, \"#bd3786\"], [0.5555555555555556, \"#d8576b\"], [0.6666666666666666, \"#ed7953\"], [0.7777777777777778, \"#fb9f3a\"], [0.8888888888888888, \"#fdca26\"], [1.0, \"#f0f921\"]]}, \"colorway\": [\"#636efa\", \"#EF553B\", \"#00cc96\", \"#ab63fa\", \"#FFA15A\", \"#19d3f3\", \"#FF6692\", \"#B6E880\", \"#FF97FF\", \"#FECB52\"], \"font\": {\"color\": \"#2a3f5f\"}, \"geo\": {\"bgcolor\": \"white\", \"lakecolor\": \"white\", \"landcolor\": \"#E5ECF6\", \"showlakes\": true, \"showland\": true, \"subunitcolor\": \"white\"}, \"hoverlabel\": {\"align\": \"left\"}, \"hovermode\": \"closest\", \"mapbox\": {\"style\": \"light\"}, \"paper_bgcolor\": \"white\", \"plot_bgcolor\": \"#E5ECF6\", \"polar\": {\"angularaxis\": {\"gridcolor\": \"white\", \"linecolor\": \"white\", \"ticks\": \"\"}, \"bgcolor\": \"#E5ECF6\", \"radialaxis\": {\"gridcolor\": \"white\", \"linecolor\": \"white\", \"ticks\": \"\"}}, \"scene\": {\"xaxis\": {\"backgroundcolor\": \"#E5ECF6\", \"gridcolor\": \"white\", \"gridwidth\": 2, \"linecolor\": \"white\", \"showbackground\": true, \"ticks\": \"\", \"zerolinecolor\": \"white\"}, \"yaxis\": {\"backgroundcolor\": \"#E5ECF6\", \"gridcolor\": \"white\", \"gridwidth\": 2, \"linecolor\": \"white\", \"showbackground\": true, \"ticks\": \"\", \"zerolinecolor\": \"white\"}, \"zaxis\": {\"backgroundcolor\": \"#E5ECF6\", \"gridcolor\": \"white\", \"gridwidth\": 2, \"linecolor\": \"white\", \"showbackground\": true, \"ticks\": \"\", \"zerolinecolor\": \"white\"}}, \"shapedefaults\": {\"line\": {\"color\": \"#2a3f5f\"}}, \"ternary\": {\"aaxis\": {\"gridcolor\": \"white\", \"linecolor\": \"white\", \"ticks\": \"\"}, \"baxis\": {\"gridcolor\": \"white\", \"linecolor\": \"white\", \"ticks\": \"\"}, \"bgcolor\": \"#E5ECF6\", \"caxis\": {\"gridcolor\": \"white\", \"linecolor\": \"white\", \"ticks\": \"\"}}, \"title\": {\"x\": 0.05}, \"xaxis\": {\"automargin\": true, \"gridcolor\": \"white\", \"linecolor\": \"white\", \"ticks\": \"\", \"title\": {\"standoff\": 15}, \"zerolinecolor\": \"white\", \"zerolinewidth\": 2}, \"yaxis\": {\"automargin\": true, \"gridcolor\": \"white\", \"linecolor\": \"white\", \"ticks\": \"\", \"title\": {\"standoff\": 15}, \"zerolinecolor\": \"white\", \"zerolinewidth\": 2}}}, \"xaxis\": {\"anchor\": \"y\", \"domain\": [0.0, 1.0], \"title\": {\"text\": \"Surname\"}}, \"yaxis\": {\"anchor\": \"x\", \"domain\": [0.0, 1.0], \"title\": {\"text\": \"count\"}}},                        {\"responsive\": true}                    ).then(function(){\n",
       "                            \n",
       "var gd = document.getElementById('2f22e788-b9e7-428e-85df-e880d127c13c');\n",
       "var x = new MutationObserver(function (mutations, observer) {{\n",
       "        var display = window.getComputedStyle(gd).display;\n",
       "        if (!display || display === 'none') {{\n",
       "            console.log([gd, 'removed!']);\n",
       "            Plotly.purge(gd);\n",
       "            observer.disconnect();\n",
       "        }}\n",
       "}});\n",
       "\n",
       "// Listen for the removal of the full notebook cells\n",
       "var notebookContainer = gd.closest('#notebook-container');\n",
       "if (notebookContainer) {{\n",
       "    x.observe(notebookContainer, {childList: true});\n",
       "}}\n",
       "\n",
       "// Listen for the clearing of the current output cell\n",
       "var outputEl = gd.closest('.output');\n",
       "if (outputEl) {{\n",
       "    x.observe(outputEl, {childList: true});\n",
       "}}\n",
       "\n",
       "                        })                };                });            </script>        </div>"
      ]
     },
     "metadata": {},
     "output_type": "display_data"
    }
   ],
   "source": [
    "dfplt = df.copy(deep=True)\n",
    "dfplt[\"Survived\"] = dfplt[\"Survived\"].astype(str)\n",
    "dfplt = dfplt[dfplt[\"Surname\"]!=\"Other\"]\n",
    "fig = px.histogram(dfplt, x=\"Surname\",color=\"Survived\",color_discrete_sequence=cm)\n",
    "fig.show()"
   ]
  },
  {
   "cell_type": "markdown",
   "metadata": {
    "_cell_guid": "b2b3f804-bd8a-462b-b836-ae79a053b517",
    "_uuid": "599c20bc-f55a-427f-9308-b7bdaf09e0ed",
    "papermill": {
     "duration": 0.070331,
     "end_time": "2022-07-11T06:08:18.740261",
     "exception": false,
     "start_time": "2022-07-11T06:08:18.669930",
     "status": "completed"
    },
    "tags": []
   },
   "source": [
    "The same thing as in (*) we gonna do for those Surnames who do not exist in test set.\n",
    "Again, i gonna do it manually, cause i dont wanna work with automatization here =)\n",
    "\n",
    "But just before this we will put some extra feature which mean \"Has any namesakes\" to determin if the person in som relatio-like group. It may look the same as SibSp, but guess, that som connections between people is hidden."
   ]
  },
  {
   "cell_type": "code",
   "execution_count": 22,
   "metadata": {
    "_cell_guid": "5099e84e-1dfe-445b-9f13-60cc2ab4fd00",
    "_uuid": "f1ffbe22-b595-490b-845f-c9b51ce56e4a",
    "collapsed": false,
    "execution": {
     "iopub.execute_input": "2022-07-11T06:08:18.885804Z",
     "iopub.status.busy": "2022-07-11T06:08:18.884820Z",
     "iopub.status.idle": "2022-07-11T06:08:18.891054Z",
     "shell.execute_reply": "2022-07-11T06:08:18.891647Z"
    },
    "jupyter": {
     "outputs_hidden": false
    },
    "papermill": {
     "duration": 0.080902,
     "end_time": "2022-07-11T06:08:18.891828",
     "exception": false,
     "start_time": "2022-07-11T06:08:18.810926",
     "status": "completed"
    },
    "tags": []
   },
   "outputs": [],
   "source": [
    "df[\"Namesakes\"] = 1\n",
    "df.loc[df[\"Surname\"]==\"Other\",\"Namesakes\"] = 0"
   ]
  },
  {
   "cell_type": "code",
   "execution_count": 23,
   "metadata": {
    "_cell_guid": "5e90c3ce-8afe-443c-b2eb-749cec997fe6",
    "_uuid": "c9c96df2-6dff-4a2f-a396-2d374b5bb8d9",
    "collapsed": false,
    "execution": {
     "iopub.execute_input": "2022-07-11T06:08:19.039953Z",
     "iopub.status.busy": "2022-07-11T06:08:19.038967Z",
     "iopub.status.idle": "2022-07-11T06:08:19.093549Z",
     "shell.execute_reply": "2022-07-11T06:08:19.092929Z"
    },
    "jupyter": {
     "outputs_hidden": false
    },
    "papermill": {
     "duration": 0.129328,
     "end_time": "2022-07-11T06:08:19.093701",
     "exception": false,
     "start_time": "2022-07-11T06:08:18.964373",
     "status": "completed"
    },
    "tags": []
   },
   "outputs": [],
   "source": [
    "not_imp_s = [\"Braund\",\"Allen\",\"Moran\",\"Meyer\",\"Holverson\",\"Turpin\",\"Arnold-Franchi\",\"Panula\",\"Harris\",\"Skoog\",\"Kantor\",\"Petroff\",\"Gustafsson\",\"Zabour\",\n",
    "             \"Jussila\",\"Attalah\",\"Baxter\",\"Hickman\",\"Nasser\",\"Futrelle\",\"Navratil\",\"Calic\",\"Bourke\",\"Strom\",\"Backstrom\",\"Ali\",\"Jacobsohn\",\"Larsson\",\n",
    "             \"Carter\",\"Lobb\",\"Taussig\",\"Johnson\",\"Abelson\",\"Hart\",\"Graham\",\"Pears\",\"Barbara\",\"O'Brien\",\"Hakkarainen\",\"Van Impe\",\"Flynn\",\"Silvey\",\"Hagland\",\n",
    "             \"Morley\",\"Renouf\",\"Stanley\",\"Penasco y Castellana\",\"Webber\",\"Coleff\",\"Yasbeck\",\"Collyer\",\"Thorneycroft\",\"Jensen\",\"Newell\",\"Saad\",\"Thayer\",\"Hoyt\",\n",
    "             \"Andrews\",\"Lam\",\"Harper\",\"Nicola-Yarred\",\"Doling\",\"Hamalainen\",\"Beckwith\",\"Mellinger\",\"Bishop\",\"Hippach\",\"Richards\",\"Baclini\",\"Goldenberg\",\n",
    "             \"Beane\",\"Duff Gordon\",\"Tylor\",\"Dick\",\"Chambers\",\"Moor\",\"Snyder\", \"Howard\", \"Jefferys\", \"Franklin\",\"Abelseth\",\"Straus\",\"Khalil\",\"Dyker\",\"Stengel\",\n",
    "             \"Foley\",\"Buckley\",\"Zakarian\",\"Peacock\",\"Mahon\",\"Clark\",\"Pokrnic\",\"Ware\",\"Gibson\",\"Taylor\"]\n",
    "df = df.replace(not_imp_s,'Other')"
   ]
  },
  {
   "cell_type": "code",
   "execution_count": 24,
   "metadata": {
    "_cell_guid": "e1605265-49c8-445a-a3e2-0d00d37eabdb",
    "_uuid": "db011d17-10e8-4c2f-8677-2310e03b6736",
    "collapsed": false,
    "execution": {
     "iopub.execute_input": "2022-07-11T06:08:19.240694Z",
     "iopub.status.busy": "2022-07-11T06:08:19.239783Z",
     "iopub.status.idle": "2022-07-11T06:08:19.281574Z",
     "shell.execute_reply": "2022-07-11T06:08:19.282125Z"
    },
    "jupyter": {
     "outputs_hidden": false
    },
    "papermill": {
     "duration": 0.116946,
     "end_time": "2022-07-11T06:08:19.282344",
     "exception": false,
     "start_time": "2022-07-11T06:08:19.165398",
     "status": "completed"
    },
    "tags": []
   },
   "outputs": [
    {
     "data": {
      "text/html": [
       "<style  type=\"text/css\" >\n",
       "#T_a93fe_row0_col0,#T_a93fe_row0_col6,#T_a93fe_row0_col8,#T_a93fe_row0_col9,#T_a93fe_row0_col12,#T_a93fe_row0_col15,#T_a93fe_row1_col1,#T_a93fe_row1_col6,#T_a93fe_row1_col15,#T_a93fe_row2_col0,#T_a93fe_row2_col5,#T_a93fe_row2_col6,#T_a93fe_row2_col9,#T_a93fe_row2_col12,#T_a93fe_row2_col15,#T_a93fe_row3_col0,#T_a93fe_row3_col5,#T_a93fe_row3_col6,#T_a93fe_row3_col9,#T_a93fe_row3_col12,#T_a93fe_row3_col15,#T_a93fe_row4_col5,#T_a93fe_row4_col9,#T_a93fe_row4_col12,#T_a93fe_row4_col15,#T_a93fe_row5_col4,#T_a93fe_row5_col6,#T_a93fe_row5_col9,#T_a93fe_row5_col12,#T_a93fe_row5_col15,#T_a93fe_row6_col0,#T_a93fe_row6_col1,#T_a93fe_row6_col6,#T_a93fe_row6_col9,#T_a93fe_row6_col12,#T_a93fe_row6_col15,#T_a93fe_row7_col0,#T_a93fe_row7_col1,#T_a93fe_row7_col6,#T_a93fe_row7_col9,#T_a93fe_row7_col12,#T_a93fe_row7_col15,#T_a93fe_row8_col4,#T_a93fe_row8_col6,#T_a93fe_row8_col7,#T_a93fe_row8_col9,#T_a93fe_row8_col12,#T_a93fe_row8_col15,#T_a93fe_row9_col0,#T_a93fe_row9_col6,#T_a93fe_row9_col9,#T_a93fe_row9_col12,#T_a93fe_row9_col15{\n",
       "            background-color:  #f7fbff;\n",
       "            color:  #000000;\n",
       "        }#T_a93fe_row0_col1,#T_a93fe_row0_col5,#T_a93fe_row1_col0,#T_a93fe_row1_col5,#T_a93fe_row1_col9,#T_a93fe_row1_col12,#T_a93fe_row2_col1,#T_a93fe_row2_col7,#T_a93fe_row3_col1,#T_a93fe_row4_col0,#T_a93fe_row4_col1,#T_a93fe_row4_col6,#T_a93fe_row5_col0,#T_a93fe_row5_col5,#T_a93fe_row6_col5,#T_a93fe_row6_col8,#T_a93fe_row7_col4,#T_a93fe_row7_col5,#T_a93fe_row8_col0,#T_a93fe_row8_col1,#T_a93fe_row8_col5,#T_a93fe_row9_col5{\n",
       "            background-color:  #08306b;\n",
       "            color:  #f1f1f1;\n",
       "        }#T_a93fe_row0_col4{\n",
       "            background-color:  #bad6eb;\n",
       "            color:  #000000;\n",
       "        }#T_a93fe_row0_col7{\n",
       "            background-color:  #eef5fc;\n",
       "            color:  #000000;\n",
       "        }#T_a93fe_row1_col4,#T_a93fe_row2_col4{\n",
       "            background-color:  #2070b4;\n",
       "            color:  #f1f1f1;\n",
       "        }#T_a93fe_row1_col7,#T_a93fe_row7_col7{\n",
       "            background-color:  #b7d4ea;\n",
       "            color:  #000000;\n",
       "        }#T_a93fe_row1_col8{\n",
       "            background-color:  #4695c8;\n",
       "            color:  #000000;\n",
       "        }#T_a93fe_row2_col8{\n",
       "            background-color:  #f5fafe;\n",
       "            color:  #000000;\n",
       "        }#T_a93fe_row3_col4{\n",
       "            background-color:  #000000;\n",
       "            color:  #f1f1f1;\n",
       "        }#T_a93fe_row3_col7{\n",
       "            background-color:  #084e98;\n",
       "            color:  #f1f1f1;\n",
       "        }#T_a93fe_row3_col8{\n",
       "            background-color:  #f4f9fe;\n",
       "            color:  #000000;\n",
       "        }#T_a93fe_row4_col4,#T_a93fe_row9_col4{\n",
       "            background-color:  #7ab6d9;\n",
       "            color:  #000000;\n",
       "        }#T_a93fe_row4_col7{\n",
       "            background-color:  #084285;\n",
       "            color:  #f1f1f1;\n",
       "        }#T_a93fe_row4_col8,#T_a93fe_row8_col8{\n",
       "            background-color:  #edf4fc;\n",
       "            color:  #000000;\n",
       "        }#T_a93fe_row5_col1,#T_a93fe_row6_col4,#T_a93fe_row9_col1{\n",
       "            background-color:  #6aaed6;\n",
       "            color:  #000000;\n",
       "        }#T_a93fe_row5_col7{\n",
       "            background-color:  #3f8fc5;\n",
       "            color:  #000000;\n",
       "        }#T_a93fe_row5_col8{\n",
       "            background-color:  #b5d4e9;\n",
       "            color:  #000000;\n",
       "        }#T_a93fe_row6_col7{\n",
       "            background-color:  #eff6fc;\n",
       "            color:  #000000;\n",
       "        }#T_a93fe_row7_col8{\n",
       "            background-color:  #4b98ca;\n",
       "            color:  #000000;\n",
       "        }#T_a93fe_row9_col7{\n",
       "            background-color:  #f2f8fd;\n",
       "            color:  #000000;\n",
       "        }#T_a93fe_row9_col8{\n",
       "            background-color:  #d3e4f3;\n",
       "            color:  #000000;\n",
       "        }</style><table id=\"T_a93fe_\" ><thead>    <tr>        <th class=\"blank level0\" ></th>        <th class=\"col_heading level0 col0\" >Survived</th>        <th class=\"col_heading level0 col1\" >Pclass</th>        <th class=\"col_heading level0 col2\" >Name</th>        <th class=\"col_heading level0 col3\" >Sex</th>        <th class=\"col_heading level0 col4\" >Age</th>        <th class=\"col_heading level0 col5\" >SibSp</th>        <th class=\"col_heading level0 col6\" >Parch</th>        <th class=\"col_heading level0 col7\" >Ticket</th>        <th class=\"col_heading level0 col8\" >Fare</th>        <th class=\"col_heading level0 col9\" >Cabin</th>        <th class=\"col_heading level0 col10\" >Embarked</th>        <th class=\"col_heading level0 col11\" >Deck</th>        <th class=\"col_heading level0 col12\" >Side</th>        <th class=\"col_heading level0 col13\" >Ticket_p</th>        <th class=\"col_heading level0 col14\" >Surname</th>        <th class=\"col_heading level0 col15\" >Namesakes</th>    </tr>    <tr>        <th class=\"index_name level0\" >PassengerId</th>        <th class=\"blank\" ></th>        <th class=\"blank\" ></th>        <th class=\"blank\" ></th>        <th class=\"blank\" ></th>        <th class=\"blank\" ></th>        <th class=\"blank\" ></th>        <th class=\"blank\" ></th>        <th class=\"blank\" ></th>        <th class=\"blank\" ></th>        <th class=\"blank\" ></th>        <th class=\"blank\" ></th>        <th class=\"blank\" ></th>        <th class=\"blank\" ></th>        <th class=\"blank\" ></th>        <th class=\"blank\" ></th>        <th class=\"blank\" ></th>    </tr></thead><tbody>\n",
       "                <tr>\n",
       "                        <th id=\"T_a93fe_level0_row0\" class=\"row_heading level0 row0\" >1</th>\n",
       "                        <td id=\"T_a93fe_row0_col0\" class=\"data row0 col0\" >0.000000</td>\n",
       "                        <td id=\"T_a93fe_row0_col1\" class=\"data row0 col1\" >3</td>\n",
       "                        <td id=\"T_a93fe_row0_col2\" class=\"data row0 col2\" > Mr. Owen Harris</td>\n",
       "                        <td id=\"T_a93fe_row0_col3\" class=\"data row0 col3\" >male</td>\n",
       "                        <td id=\"T_a93fe_row0_col4\" class=\"data row0 col4\" >22.000000</td>\n",
       "                        <td id=\"T_a93fe_row0_col5\" class=\"data row0 col5\" >1</td>\n",
       "                        <td id=\"T_a93fe_row0_col6\" class=\"data row0 col6\" >0</td>\n",
       "                        <td id=\"T_a93fe_row0_col7\" class=\"data row0 col7\" >21171</td>\n",
       "                        <td id=\"T_a93fe_row0_col8\" class=\"data row0 col8\" >7.250000</td>\n",
       "                        <td id=\"T_a93fe_row0_col9\" class=\"data row0 col9\" >-1</td>\n",
       "                        <td id=\"T_a93fe_row0_col10\" class=\"data row0 col10\" >S</td>\n",
       "                        <td id=\"T_a93fe_row0_col11\" class=\"data row0 col11\" >N/A</td>\n",
       "                        <td id=\"T_a93fe_row0_col12\" class=\"data row0 col12\" >0.000000</td>\n",
       "                        <td id=\"T_a93fe_row0_col13\" class=\"data row0 col13\" >A5</td>\n",
       "                        <td id=\"T_a93fe_row0_col14\" class=\"data row0 col14\" >Other</td>\n",
       "                        <td id=\"T_a93fe_row0_col15\" class=\"data row0 col15\" >1</td>\n",
       "            </tr>\n",
       "            <tr>\n",
       "                        <th id=\"T_a93fe_level0_row1\" class=\"row_heading level0 row1\" >4</th>\n",
       "                        <td id=\"T_a93fe_row1_col0\" class=\"data row1 col0\" >1.000000</td>\n",
       "                        <td id=\"T_a93fe_row1_col1\" class=\"data row1 col1\" >1</td>\n",
       "                        <td id=\"T_a93fe_row1_col2\" class=\"data row1 col2\" > Mrs. Jacques Heath (Lily May Peel)</td>\n",
       "                        <td id=\"T_a93fe_row1_col3\" class=\"data row1 col3\" >female</td>\n",
       "                        <td id=\"T_a93fe_row1_col4\" class=\"data row1 col4\" >35.000000</td>\n",
       "                        <td id=\"T_a93fe_row1_col5\" class=\"data row1 col5\" >1</td>\n",
       "                        <td id=\"T_a93fe_row1_col6\" class=\"data row1 col6\" >0</td>\n",
       "                        <td id=\"T_a93fe_row1_col7\" class=\"data row1 col7\" >113803</td>\n",
       "                        <td id=\"T_a93fe_row1_col8\" class=\"data row1 col8\" >53.100000</td>\n",
       "                        <td id=\"T_a93fe_row1_col9\" class=\"data row1 col9\" >61</td>\n",
       "                        <td id=\"T_a93fe_row1_col10\" class=\"data row1 col10\" >S</td>\n",
       "                        <td id=\"T_a93fe_row1_col11\" class=\"data row1 col11\" >C</td>\n",
       "                        <td id=\"T_a93fe_row1_col12\" class=\"data row1 col12\" >1.000000</td>\n",
       "                        <td id=\"T_a93fe_row1_col13\" class=\"data row1 col13\" >N/A</td>\n",
       "                        <td id=\"T_a93fe_row1_col14\" class=\"data row1 col14\" >Other</td>\n",
       "                        <td id=\"T_a93fe_row1_col15\" class=\"data row1 col15\" >1</td>\n",
       "            </tr>\n",
       "            <tr>\n",
       "                        <th id=\"T_a93fe_level0_row2\" class=\"row_heading level0 row2\" >5</th>\n",
       "                        <td id=\"T_a93fe_row2_col0\" class=\"data row2 col0\" >0.000000</td>\n",
       "                        <td id=\"T_a93fe_row2_col1\" class=\"data row2 col1\" >3</td>\n",
       "                        <td id=\"T_a93fe_row2_col2\" class=\"data row2 col2\" > Mr. William Henry</td>\n",
       "                        <td id=\"T_a93fe_row2_col3\" class=\"data row2 col3\" >male</td>\n",
       "                        <td id=\"T_a93fe_row2_col4\" class=\"data row2 col4\" >35.000000</td>\n",
       "                        <td id=\"T_a93fe_row2_col5\" class=\"data row2 col5\" >0</td>\n",
       "                        <td id=\"T_a93fe_row2_col6\" class=\"data row2 col6\" >0</td>\n",
       "                        <td id=\"T_a93fe_row2_col7\" class=\"data row2 col7\" >373450</td>\n",
       "                        <td id=\"T_a93fe_row2_col8\" class=\"data row2 col8\" >8.050000</td>\n",
       "                        <td id=\"T_a93fe_row2_col9\" class=\"data row2 col9\" >-1</td>\n",
       "                        <td id=\"T_a93fe_row2_col10\" class=\"data row2 col10\" >S</td>\n",
       "                        <td id=\"T_a93fe_row2_col11\" class=\"data row2 col11\" >N/A</td>\n",
       "                        <td id=\"T_a93fe_row2_col12\" class=\"data row2 col12\" >0.000000</td>\n",
       "                        <td id=\"T_a93fe_row2_col13\" class=\"data row2 col13\" >N/A</td>\n",
       "                        <td id=\"T_a93fe_row2_col14\" class=\"data row2 col14\" >Other</td>\n",
       "                        <td id=\"T_a93fe_row2_col15\" class=\"data row2 col15\" >1</td>\n",
       "            </tr>\n",
       "            <tr>\n",
       "                        <th id=\"T_a93fe_level0_row3\" class=\"row_heading level0 row3\" >6</th>\n",
       "                        <td id=\"T_a93fe_row3_col0\" class=\"data row3 col0\" >0.000000</td>\n",
       "                        <td id=\"T_a93fe_row3_col1\" class=\"data row3 col1\" >3</td>\n",
       "                        <td id=\"T_a93fe_row3_col2\" class=\"data row3 col2\" > Mr. James</td>\n",
       "                        <td id=\"T_a93fe_row3_col3\" class=\"data row3 col3\" >male</td>\n",
       "                        <td id=\"T_a93fe_row3_col4\" class=\"data row3 col4\" >nan</td>\n",
       "                        <td id=\"T_a93fe_row3_col5\" class=\"data row3 col5\" >0</td>\n",
       "                        <td id=\"T_a93fe_row3_col6\" class=\"data row3 col6\" >0</td>\n",
       "                        <td id=\"T_a93fe_row3_col7\" class=\"data row3 col7\" >330877</td>\n",
       "                        <td id=\"T_a93fe_row3_col8\" class=\"data row3 col8\" >8.458300</td>\n",
       "                        <td id=\"T_a93fe_row3_col9\" class=\"data row3 col9\" >-1</td>\n",
       "                        <td id=\"T_a93fe_row3_col10\" class=\"data row3 col10\" >Q</td>\n",
       "                        <td id=\"T_a93fe_row3_col11\" class=\"data row3 col11\" >N/A</td>\n",
       "                        <td id=\"T_a93fe_row3_col12\" class=\"data row3 col12\" >0.000000</td>\n",
       "                        <td id=\"T_a93fe_row3_col13\" class=\"data row3 col13\" >N/A</td>\n",
       "                        <td id=\"T_a93fe_row3_col14\" class=\"data row3 col14\" >Other</td>\n",
       "                        <td id=\"T_a93fe_row3_col15\" class=\"data row3 col15\" >1</td>\n",
       "            </tr>\n",
       "            <tr>\n",
       "                        <th id=\"T_a93fe_level0_row4\" class=\"row_heading level0 row4\" >9</th>\n",
       "                        <td id=\"T_a93fe_row4_col0\" class=\"data row4 col0\" >1.000000</td>\n",
       "                        <td id=\"T_a93fe_row4_col1\" class=\"data row4 col1\" >3</td>\n",
       "                        <td id=\"T_a93fe_row4_col2\" class=\"data row4 col2\" > Mrs. Oscar W (Elisabeth Vilhelmina Berg)</td>\n",
       "                        <td id=\"T_a93fe_row4_col3\" class=\"data row4 col3\" >female</td>\n",
       "                        <td id=\"T_a93fe_row4_col4\" class=\"data row4 col4\" >27.000000</td>\n",
       "                        <td id=\"T_a93fe_row4_col5\" class=\"data row4 col5\" >0</td>\n",
       "                        <td id=\"T_a93fe_row4_col6\" class=\"data row4 col6\" >2</td>\n",
       "                        <td id=\"T_a93fe_row4_col7\" class=\"data row4 col7\" >347742</td>\n",
       "                        <td id=\"T_a93fe_row4_col8\" class=\"data row4 col8\" >11.133300</td>\n",
       "                        <td id=\"T_a93fe_row4_col9\" class=\"data row4 col9\" >-1</td>\n",
       "                        <td id=\"T_a93fe_row4_col10\" class=\"data row4 col10\" >S</td>\n",
       "                        <td id=\"T_a93fe_row4_col11\" class=\"data row4 col11\" >N/A</td>\n",
       "                        <td id=\"T_a93fe_row4_col12\" class=\"data row4 col12\" >0.000000</td>\n",
       "                        <td id=\"T_a93fe_row4_col13\" class=\"data row4 col13\" >N/A</td>\n",
       "                        <td id=\"T_a93fe_row4_col14\" class=\"data row4 col14\" >Other</td>\n",
       "                        <td id=\"T_a93fe_row4_col15\" class=\"data row4 col15\" >1</td>\n",
       "            </tr>\n",
       "            <tr>\n",
       "                        <th id=\"T_a93fe_level0_row5\" class=\"row_heading level0 row5\" >10</th>\n",
       "                        <td id=\"T_a93fe_row5_col0\" class=\"data row5 col0\" >1.000000</td>\n",
       "                        <td id=\"T_a93fe_row5_col1\" class=\"data row5 col1\" >2</td>\n",
       "                        <td id=\"T_a93fe_row5_col2\" class=\"data row5 col2\" > Mrs. Nicholas (Adele Achem)</td>\n",
       "                        <td id=\"T_a93fe_row5_col3\" class=\"data row5 col3\" >female</td>\n",
       "                        <td id=\"T_a93fe_row5_col4\" class=\"data row5 col4\" >14.000000</td>\n",
       "                        <td id=\"T_a93fe_row5_col5\" class=\"data row5 col5\" >1</td>\n",
       "                        <td id=\"T_a93fe_row5_col6\" class=\"data row5 col6\" >0</td>\n",
       "                        <td id=\"T_a93fe_row5_col7\" class=\"data row5 col7\" >237736</td>\n",
       "                        <td id=\"T_a93fe_row5_col8\" class=\"data row5 col8\" >30.070800</td>\n",
       "                        <td id=\"T_a93fe_row5_col9\" class=\"data row5 col9\" >-1</td>\n",
       "                        <td id=\"T_a93fe_row5_col10\" class=\"data row5 col10\" >C</td>\n",
       "                        <td id=\"T_a93fe_row5_col11\" class=\"data row5 col11\" >N/A</td>\n",
       "                        <td id=\"T_a93fe_row5_col12\" class=\"data row5 col12\" >0.000000</td>\n",
       "                        <td id=\"T_a93fe_row5_col13\" class=\"data row5 col13\" >N/A</td>\n",
       "                        <td id=\"T_a93fe_row5_col14\" class=\"data row5 col14\" >Other</td>\n",
       "                        <td id=\"T_a93fe_row5_col15\" class=\"data row5 col15\" >1</td>\n",
       "            </tr>\n",
       "            <tr>\n",
       "                        <th id=\"T_a93fe_level0_row6\" class=\"row_heading level0 row6\" >35</th>\n",
       "                        <td id=\"T_a93fe_row6_col0\" class=\"data row6 col0\" >0.000000</td>\n",
       "                        <td id=\"T_a93fe_row6_col1\" class=\"data row6 col1\" >1</td>\n",
       "                        <td id=\"T_a93fe_row6_col2\" class=\"data row6 col2\" > Mr. Edgar Joseph</td>\n",
       "                        <td id=\"T_a93fe_row6_col3\" class=\"data row6 col3\" >male</td>\n",
       "                        <td id=\"T_a93fe_row6_col4\" class=\"data row6 col4\" >28.000000</td>\n",
       "                        <td id=\"T_a93fe_row6_col5\" class=\"data row6 col5\" >1</td>\n",
       "                        <td id=\"T_a93fe_row6_col6\" class=\"data row6 col6\" >0</td>\n",
       "                        <td id=\"T_a93fe_row6_col7\" class=\"data row6 col7\" >17604</td>\n",
       "                        <td id=\"T_a93fe_row6_col8\" class=\"data row6 col8\" >82.170800</td>\n",
       "                        <td id=\"T_a93fe_row6_col9\" class=\"data row6 col9\" >-1</td>\n",
       "                        <td id=\"T_a93fe_row6_col10\" class=\"data row6 col10\" >C</td>\n",
       "                        <td id=\"T_a93fe_row6_col11\" class=\"data row6 col11\" >N/A</td>\n",
       "                        <td id=\"T_a93fe_row6_col12\" class=\"data row6 col12\" >0.000000</td>\n",
       "                        <td id=\"T_a93fe_row6_col13\" class=\"data row6 col13\" >PC</td>\n",
       "                        <td id=\"T_a93fe_row6_col14\" class=\"data row6 col14\" >Other</td>\n",
       "                        <td id=\"T_a93fe_row6_col15\" class=\"data row6 col15\" >1</td>\n",
       "            </tr>\n",
       "            <tr>\n",
       "                        <th id=\"T_a93fe_level0_row7\" class=\"row_heading level0 row7\" >36</th>\n",
       "                        <td id=\"T_a93fe_row7_col0\" class=\"data row7 col0\" >0.000000</td>\n",
       "                        <td id=\"T_a93fe_row7_col1\" class=\"data row7 col1\" >1</td>\n",
       "                        <td id=\"T_a93fe_row7_col2\" class=\"data row7 col2\" > Mr. Alexander Oskar</td>\n",
       "                        <td id=\"T_a93fe_row7_col3\" class=\"data row7 col3\" >male</td>\n",
       "                        <td id=\"T_a93fe_row7_col4\" class=\"data row7 col4\" >42.000000</td>\n",
       "                        <td id=\"T_a93fe_row7_col5\" class=\"data row7 col5\" >1</td>\n",
       "                        <td id=\"T_a93fe_row7_col6\" class=\"data row7 col6\" >0</td>\n",
       "                        <td id=\"T_a93fe_row7_col7\" class=\"data row7 col7\" >113789</td>\n",
       "                        <td id=\"T_a93fe_row7_col8\" class=\"data row7 col8\" >52.000000</td>\n",
       "                        <td id=\"T_a93fe_row7_col9\" class=\"data row7 col9\" >-1</td>\n",
       "                        <td id=\"T_a93fe_row7_col10\" class=\"data row7 col10\" >S</td>\n",
       "                        <td id=\"T_a93fe_row7_col11\" class=\"data row7 col11\" >N/A</td>\n",
       "                        <td id=\"T_a93fe_row7_col12\" class=\"data row7 col12\" >0.000000</td>\n",
       "                        <td id=\"T_a93fe_row7_col13\" class=\"data row7 col13\" >N/A</td>\n",
       "                        <td id=\"T_a93fe_row7_col14\" class=\"data row7 col14\" >Other</td>\n",
       "                        <td id=\"T_a93fe_row7_col15\" class=\"data row7 col15\" >1</td>\n",
       "            </tr>\n",
       "            <tr>\n",
       "                        <th id=\"T_a93fe_level0_row8\" class=\"row_heading level0 row8\" >40</th>\n",
       "                        <td id=\"T_a93fe_row8_col0\" class=\"data row8 col0\" >1.000000</td>\n",
       "                        <td id=\"T_a93fe_row8_col1\" class=\"data row8 col1\" >3</td>\n",
       "                        <td id=\"T_a93fe_row8_col2\" class=\"data row8 col2\" > Miss. Jamila</td>\n",
       "                        <td id=\"T_a93fe_row8_col3\" class=\"data row8 col3\" >female</td>\n",
       "                        <td id=\"T_a93fe_row8_col4\" class=\"data row8 col4\" >14.000000</td>\n",
       "                        <td id=\"T_a93fe_row8_col5\" class=\"data row8 col5\" >1</td>\n",
       "                        <td id=\"T_a93fe_row8_col6\" class=\"data row8 col6\" >0</td>\n",
       "                        <td id=\"T_a93fe_row8_col7\" class=\"data row8 col7\" >2651</td>\n",
       "                        <td id=\"T_a93fe_row8_col8\" class=\"data row8 col8\" >11.241700</td>\n",
       "                        <td id=\"T_a93fe_row8_col9\" class=\"data row8 col9\" >-1</td>\n",
       "                        <td id=\"T_a93fe_row8_col10\" class=\"data row8 col10\" >C</td>\n",
       "                        <td id=\"T_a93fe_row8_col11\" class=\"data row8 col11\" >N/A</td>\n",
       "                        <td id=\"T_a93fe_row8_col12\" class=\"data row8 col12\" >0.000000</td>\n",
       "                        <td id=\"T_a93fe_row8_col13\" class=\"data row8 col13\" >N/A</td>\n",
       "                        <td id=\"T_a93fe_row8_col14\" class=\"data row8 col14\" >Other</td>\n",
       "                        <td id=\"T_a93fe_row8_col15\" class=\"data row8 col15\" >1</td>\n",
       "            </tr>\n",
       "            <tr>\n",
       "                        <th id=\"T_a93fe_level0_row9\" class=\"row_heading level0 row9\" >42</th>\n",
       "                        <td id=\"T_a93fe_row9_col0\" class=\"data row9 col0\" >0.000000</td>\n",
       "                        <td id=\"T_a93fe_row9_col1\" class=\"data row9 col1\" >2</td>\n",
       "                        <td id=\"T_a93fe_row9_col2\" class=\"data row9 col2\" > Mrs. William John Robert (Dorothy Ann Wonnacott)</td>\n",
       "                        <td id=\"T_a93fe_row9_col3\" class=\"data row9 col3\" >female</td>\n",
       "                        <td id=\"T_a93fe_row9_col4\" class=\"data row9 col4\" >27.000000</td>\n",
       "                        <td id=\"T_a93fe_row9_col5\" class=\"data row9 col5\" >1</td>\n",
       "                        <td id=\"T_a93fe_row9_col6\" class=\"data row9 col6\" >0</td>\n",
       "                        <td id=\"T_a93fe_row9_col7\" class=\"data row9 col7\" >11668</td>\n",
       "                        <td id=\"T_a93fe_row9_col8\" class=\"data row9 col8\" >21.000000</td>\n",
       "                        <td id=\"T_a93fe_row9_col9\" class=\"data row9 col9\" >-1</td>\n",
       "                        <td id=\"T_a93fe_row9_col10\" class=\"data row9 col10\" >S</td>\n",
       "                        <td id=\"T_a93fe_row9_col11\" class=\"data row9 col11\" >N/A</td>\n",
       "                        <td id=\"T_a93fe_row9_col12\" class=\"data row9 col12\" >0.000000</td>\n",
       "                        <td id=\"T_a93fe_row9_col13\" class=\"data row9 col13\" >N/A</td>\n",
       "                        <td id=\"T_a93fe_row9_col14\" class=\"data row9 col14\" >Other</td>\n",
       "                        <td id=\"T_a93fe_row9_col15\" class=\"data row9 col15\" >1</td>\n",
       "            </tr>\n",
       "    </tbody></table>"
      ],
      "text/plain": [
       "<pandas.io.formats.style.Styler at 0x7f5589231f10>"
      ]
     },
     "execution_count": 24,
     "metadata": {},
     "output_type": "execute_result"
    }
   ],
   "source": [
    "df[(df[\"Surname\"]==\"Other\") & (df[\"Namesakes\"]==True)].head(10).style.background_gradient(cmap=\"Blues\")"
   ]
  },
  {
   "cell_type": "code",
   "execution_count": 25,
   "metadata": {
    "_cell_guid": "2b5e1e3b-ed52-4a4a-bf86-f5ce57d3fb79",
    "_uuid": "b1c23264-1eb5-4168-93a9-f6dcf1563d54",
    "collapsed": false,
    "execution": {
     "iopub.execute_input": "2022-07-11T06:08:19.429937Z",
     "iopub.status.busy": "2022-07-11T06:08:19.428971Z",
     "iopub.status.idle": "2022-07-11T06:08:19.440029Z",
     "shell.execute_reply": "2022-07-11T06:08:19.439528Z"
    },
    "jupyter": {
     "outputs_hidden": false
    },
    "papermill": {
     "duration": 0.085708,
     "end_time": "2022-07-11T06:08:19.440176",
     "exception": false,
     "start_time": "2022-07-11T06:08:19.354468",
     "status": "completed"
    },
    "tags": []
   },
   "outputs": [
    {
     "name": "stdout",
     "output_type": "stream",
     "text": [
      "Have no Namesakes \t 0.23390894819466249\n",
      "Have Namesakes \t\t 0.28720238095238093\n"
     ]
    }
   ],
   "source": [
    "s = df[df[\"Namesakes\"]==0]\n",
    "print(f'Have no Namesakes \\t {len(s[s[\"Survived\"]==1])/len(s)}')\n",
    "s = df[df[\"Namesakes\"]==1]\n",
    "print(f'Have Namesakes \\t\\t {len(s[s[\"Survived\"]==1])/len(s)}')"
   ]
  },
  {
   "cell_type": "code",
   "execution_count": 26,
   "metadata": {
    "_cell_guid": "d658375a-bd32-40b9-aee5-f0623f0a6a10",
    "_uuid": "964bbf2b-235c-4f78-9579-c1e8ea7b2260",
    "collapsed": false,
    "execution": {
     "iopub.execute_input": "2022-07-11T06:08:19.588427Z",
     "iopub.status.busy": "2022-07-11T06:08:19.587785Z",
     "iopub.status.idle": "2022-07-11T06:08:19.662672Z",
     "shell.execute_reply": "2022-07-11T06:08:19.663139Z"
    },
    "jupyter": {
     "outputs_hidden": false
    },
    "papermill": {
     "duration": 0.150552,
     "end_time": "2022-07-11T06:08:19.663325",
     "exception": false,
     "start_time": "2022-07-11T06:08:19.512773",
     "status": "completed"
    },
    "tags": []
   },
   "outputs": [
    {
     "data": {
      "text/html": [
       "<div>                            <div id=\"ff6a16a5-ff38-4522-afbb-97ea5fe87b19\" class=\"plotly-graph-div\" style=\"height:525px; width:100%;\"></div>            <script type=\"text/javascript\">                require([\"plotly\"], function(Plotly) {                    window.PLOTLYENV=window.PLOTLYENV || {};                                    if (document.getElementById(\"ff6a16a5-ff38-4522-afbb-97ea5fe87b19\")) {                    Plotly.newPlot(                        \"ff6a16a5-ff38-4522-afbb-97ea5fe87b19\",                        [{\"alignmentgroup\": \"True\", \"bingroup\": \"x\", \"hovertemplate\": \"Survived=1.0<br>Surname=%{x}<br>count=%{y}<extra></extra>\", \"legendgroup\": \"1.0\", \"marker\": {\"color\": \"#273176\"}, \"name\": \"1.0\", \"offsetgroup\": \"1.0\", \"orientation\": \"v\", \"showlegend\": true, \"type\": \"histogram\", \"x\": [\"Cumings\", \"Sandstrom\", \"Bonnell\", \"Williams\", \"McGowan\", \"Asplund\", \"Spencer\", \"Laroche\", \"Faunthorpe\", \"West\", \"Moubarek\", \"Andersson\", \"Caldwell\", \"Fortune\", \"Greenfield\", \"Peter\", \"Weisz\", \"Andersson\", \"Watt\", \"Goldsmith\", \"Becker\", \"Kink-Heilmann\", \"Brown\", \"Carr\", \"Asplund\", \"Murphy\", \"Touma\", \"Asplund\", \"Abbott\", \"Connolly\", \"Kelly\", \"McCoy\", \"Keane\", \"Allison\", \"Fleming\", \"Hays\", \"Ryerson\", \"Nilsson\", \"Wick\", \"Spedden\", \"Caldwell\", \"Goldsmith\", \"McCoy\", \"Frauenthal\", \"Burns\", \"Fortune\", \"Brown\", \"Smith\", \"Davison\", \"Coutts\", \"Warren\", \"Harder\", \"Nakid\", \"Sandstrom\", \"Minahan\", \"Drew\", \"Clarke\", \"Phillips\", \"Louch\", \"Dodge\", \"Kenyon\", \"West\", \"Hirvonen\", \"Coutts\", \"Quick\", \"Bradley\", \"Daly\", \"Rothschild\", \"Angle\", \"Quick\", \"Peter\", \"Crosby\", \"Davies\", \"de Messemaeker\", \"Jonsson\", \"Kelly\", \"Christy\", \"Frolicher-Stehli\", \"Laroche\", \"Murphy\", \"Herman\", \"Becker\", \"Kimball\", \"Nakid\", \"Frauenthal\", \"Brown\", \"Cardeza\", \"Karun\", \"Astor\", \"Kelly\", \"Moubarek\", \"Ryerson\", \"Wells\", \"Herman\", \"Hocking\", \"Dean\", \"Thomas\", \"Hays\", \"Mallet\", \"Compton\", \"Lines\", \"Aks\", \"Wick\", \"Daly\", \"Duran y More\"], \"xaxis\": \"x\", \"yaxis\": \"y\"}, {\"alignmentgroup\": \"True\", \"bingroup\": \"x\", \"hovertemplate\": \"Survived=0.0<br>Surname=%{x}<br>count=%{y}<extra></extra>\", \"legendgroup\": \"0.0\", \"marker\": {\"color\": \"#3B61A3\"}, \"name\": \"0.0\", \"offsetgroup\": \"0.0\", \"orientation\": \"v\", \"showlegend\": true, \"type\": \"histogram\", \"x\": [\"McCarthy\", \"Palsson\", \"Andersson\", \"Rice\", \"Vander Planke\", \"Palsson\", \"Fortune\", \"Vander Planke\", \"Rogers\", \"Lennon\", \"Samaan\", \"Ostby\", \"Goodwin\", \"Kink\", \"Goodwin\", \"Chronopoulos\", \"Carrau\", \"Ford\", \"Chaffee\", \"Dean\", \"White\", \"Johansson\", \"Andersson\", \"Moore\", \"White\", \"Robins\", \"Boulos\", \"Andrew\", \"Ford\", \"van Billiard\", \"Olsen\", \"Williams\", \"Sage\", \"Cribb\", \"Rice\", \"Smith\", \"Klasen\", \"Lefebre\", \"Sage\", \"Asplund\", \"Olsen\", \"Sage\", \"Kiernan\", \"Lefebre\", \"Hold\", \"Minahan\", \"Rosblom\", \"Smith\", \"Rice\", \"Olsson\", \"Smith\", \"Allison\", \"Williams\", \"Lahtinen\", \"Dennis\", \"Sage\", \"Vander Planke\", \"Fox\", \"Elias\", \"del Carlo\", \"Wiklund\", \"Palsson\", \"Widener\", \"Betros\", \"Davies\", \"Goodwin\", \"Johansson\", \"Olsson\", \"Oreskovic\", \"Gale\", \"Lefebre\", \"Danbom\", \"Rosblom\", \"Ford\", \"Fortune\", \"West\", \"O'Connor\", \"Cacic\", \"Karlsson\", \"Goodwin\", \"Lefebre\", \"Allison\", \"Svensson\", \"Canavan\", \"Olsen\", \"Ryan\", \"Hocking\", \"Elias\", \"Cacic\", \"Risien\", \"Andersson\", \"Andersson\", \"Douglas\", \"Goldsmith\", \"Wright\", \"Davies\", \"Palsson\", \"Caram\", \"Chapman\", \"Boulos\", \"Lindell\", \"Andersson\", \"Danbom\", \"Hansen\", \"Bowen\", \"Cor\", \"Cook\", \"Davidson\", \"Goodwin\", \"Goodwin\", \"Brown\", \"Laroche\", \"Chapman\", \"Kelly\", \"Hansen\", \"Oreskovic\", \"Bryhl\", \"Ilmakangas\", \"Williams\", \"Ford\", \"Cavendish\", \"McNamee\", \"Crosby\", \"Abbott\", \"Marvin\", \"Carlsson\", \"Elias\", \"Johnston\", \"Rice\", \"Keane\", \"Sage\", \"Johansson\", \"Andersson\", \"Mallet\", \"Sage\", \"Andersson\", \"Svensson\", \"Boulos\", \"Hansen\", \"Giles\", \"Sage\", \"Carlsson\", \"Rice\", \"Johnston\"], \"xaxis\": \"x\", \"yaxis\": \"y\"}, {\"alignmentgroup\": \"True\", \"bingroup\": \"x\", \"hovertemplate\": \"Survived=nan<br>Surname=%{x}<br>count=%{y}<extra></extra>\", \"legendgroup\": \"nan\", \"marker\": {\"color\": \"#76A4AC\"}, \"name\": \"nan\", \"offsetgroup\": \"nan\", \"orientation\": \"v\", \"showlegend\": true, \"type\": \"histogram\", \"x\": [\"Kelly\", \"Hirvonen\", \"Svensson\", \"Connolly\", \"Caldwell\", \"Davies\", \"Chaffee\", \"del Carlo\", \"Keane\", \"Ilmakangas\", \"Rothschild\", \"Olsen\", \"Williams\", \"Ryerson\", \"Robins\", \"Ostby\", \"Samaan\", \"Louch\", \"Dean\", \"Johnston\", \"Cacic\", \"Karun\", \"Goldsmith\", \"Kimball\", \"Coutts\", \"Smith\", \"Hocking\", \"Fortune\", \"Rice\", \"Cor\", \"Davison\", \"Bradley\", \"Ryerson\", \"Burns\", \"Moore\", \"Fortune\", \"Boulos\", \"Wells\", \"Davidson\", \"Cavendish\", \"Weisz\", \"Thomas\", \"Ryan\", \"Chronopoulos\", \"Thomas\", \"Sandstrom\", \"Chapman\", \"Watt\", \"Kiernan\", \"Cribb\", \"McCoy\", \"Lefebre\", \"Thomas\", \"Carlsson\", \"Goodwin\", \"Goodwin\", \"Ryerson\", \"Vander Planke\", \"Davies\", \"Lahtinen\", \"Klasen\", \"Asplund\", \"Touma\", \"Wright\", \"Kink-Heilmann\", \"Ford\", \"Asplund\", \"Brown\", \"Becker\", \"Compton\", \"Compton\", \"Marvin\", \"Douglas\", \"Phillips\", \"Davies\", \"Sage\", \"Angle\", \"van Billiard\", \"Drew\", \"Karlsson\", \"Spedden\", \"Nilsson\", \"Murphy\", \"Danbom\", \"Astor\", \"Quick\", \"Andrew\", \"McGowan\", \"Andersson\", \"Wick\", \"Widener\", \"Duran y More\", \"Cook\", \"Karlsson\", \"Moubarek\", \"Asplund\", \"Hocking\", \"Wiklund\", \"Cumings\", \"Warren\", \"Douglas\", \"Christy\", \"Spedden\", \"Johnston\", \"Kenyon\", \"Drew\", \"Hold\", \"West\", \"de Messemaeker\", \"Nilsson\", \"Wells\", \"Klasen\", \"Warren\", \"Fox\", \"Lennon\", \"Bryhl\", \"Faunthorpe\", \"Oreskovic\", \"Fleming\", \"Touma\", \"Rosblom\", \"Dennis\", \"Ford\", \"Daly\", \"Dodge\", \"Laroche\", \"Samaan\", \"Johansson\", \"Olsson\", \"Phillips\", \"McCarthy\", \"Crosby\", \"Allison\", \"Aks\", \"Hays\", \"Hansen\", \"Cacic\", \"Carr\", \"White\", \"Spencer\", \"Rogers\", \"Jonsson\", \"Andersson\", \"Becker\", \"Clarke\", \"Davies\", \"Thomas\", \"Nakid\", \"Cor\", \"Elias\", \"Betros\", \"Sage\", \"Cardeza\", \"van Billiard\", \"Giles\", \"Greenfield\", \"Herman\", \"Dean\", \"Brown\", \"Lindell\", \"Sage\", \"Mallet\", \"Harder\", \"Sage\", \"Caram\", \"Giles\", \"Dodge\", \"Bowen\", \"Kink\", \"Asplund\", \"O'Connor\", \"Risien\", \"McNamee\", \"Herman\", \"Canavan\", \"Palsson\", \"Lines\", \"Abbott\", \"Kink-Heilmann\", \"Smith\", \"Frolicher-Stehli\", \"Bonnell\", \"Gale\", \"Carrau\", \"Frauenthal\", \"Widener\", \"Minahan\", \"Peter\"], \"xaxis\": \"x\", \"yaxis\": \"y\"}],                        {\"barmode\": \"relative\", \"legend\": {\"title\": {\"text\": \"Survived\"}, \"tracegroupgap\": 0}, \"margin\": {\"t\": 60}, \"template\": {\"data\": {\"bar\": [{\"error_x\": {\"color\": \"#2a3f5f\"}, \"error_y\": {\"color\": \"#2a3f5f\"}, \"marker\": {\"line\": {\"color\": \"#E5ECF6\", \"width\": 0.5}}, \"type\": \"bar\"}], \"barpolar\": [{\"marker\": {\"line\": {\"color\": \"#E5ECF6\", \"width\": 0.5}}, \"type\": \"barpolar\"}], \"carpet\": [{\"aaxis\": {\"endlinecolor\": \"#2a3f5f\", \"gridcolor\": \"white\", \"linecolor\": \"white\", \"minorgridcolor\": \"white\", \"startlinecolor\": \"#2a3f5f\"}, \"baxis\": {\"endlinecolor\": \"#2a3f5f\", \"gridcolor\": \"white\", \"linecolor\": \"white\", \"minorgridcolor\": \"white\", \"startlinecolor\": \"#2a3f5f\"}, \"type\": \"carpet\"}], \"choropleth\": [{\"colorbar\": {\"outlinewidth\": 0, \"ticks\": \"\"}, \"type\": \"choropleth\"}], \"contour\": [{\"colorbar\": {\"outlinewidth\": 0, \"ticks\": \"\"}, \"colorscale\": [[0.0, \"#0d0887\"], [0.1111111111111111, \"#46039f\"], [0.2222222222222222, \"#7201a8\"], [0.3333333333333333, \"#9c179e\"], [0.4444444444444444, \"#bd3786\"], [0.5555555555555556, \"#d8576b\"], [0.6666666666666666, \"#ed7953\"], [0.7777777777777778, \"#fb9f3a\"], [0.8888888888888888, \"#fdca26\"], [1.0, \"#f0f921\"]], \"type\": \"contour\"}], \"contourcarpet\": [{\"colorbar\": {\"outlinewidth\": 0, \"ticks\": \"\"}, \"type\": \"contourcarpet\"}], \"heatmap\": [{\"colorbar\": {\"outlinewidth\": 0, \"ticks\": \"\"}, \"colorscale\": [[0.0, \"#0d0887\"], [0.1111111111111111, \"#46039f\"], [0.2222222222222222, \"#7201a8\"], [0.3333333333333333, \"#9c179e\"], [0.4444444444444444, \"#bd3786\"], [0.5555555555555556, \"#d8576b\"], [0.6666666666666666, \"#ed7953\"], [0.7777777777777778, \"#fb9f3a\"], [0.8888888888888888, \"#fdca26\"], [1.0, \"#f0f921\"]], \"type\": \"heatmap\"}], \"heatmapgl\": [{\"colorbar\": {\"outlinewidth\": 0, \"ticks\": \"\"}, \"colorscale\": [[0.0, \"#0d0887\"], [0.1111111111111111, \"#46039f\"], [0.2222222222222222, \"#7201a8\"], [0.3333333333333333, \"#9c179e\"], [0.4444444444444444, \"#bd3786\"], [0.5555555555555556, \"#d8576b\"], [0.6666666666666666, \"#ed7953\"], [0.7777777777777778, \"#fb9f3a\"], [0.8888888888888888, \"#fdca26\"], [1.0, \"#f0f921\"]], \"type\": \"heatmapgl\"}], \"histogram\": [{\"marker\": {\"colorbar\": {\"outlinewidth\": 0, \"ticks\": \"\"}}, \"type\": \"histogram\"}], \"histogram2d\": [{\"colorbar\": {\"outlinewidth\": 0, \"ticks\": \"\"}, \"colorscale\": [[0.0, \"#0d0887\"], [0.1111111111111111, \"#46039f\"], [0.2222222222222222, \"#7201a8\"], [0.3333333333333333, \"#9c179e\"], [0.4444444444444444, \"#bd3786\"], [0.5555555555555556, \"#d8576b\"], [0.6666666666666666, \"#ed7953\"], [0.7777777777777778, \"#fb9f3a\"], [0.8888888888888888, \"#fdca26\"], [1.0, \"#f0f921\"]], \"type\": \"histogram2d\"}], \"histogram2dcontour\": [{\"colorbar\": {\"outlinewidth\": 0, \"ticks\": \"\"}, \"colorscale\": [[0.0, \"#0d0887\"], [0.1111111111111111, \"#46039f\"], [0.2222222222222222, \"#7201a8\"], [0.3333333333333333, \"#9c179e\"], [0.4444444444444444, \"#bd3786\"], [0.5555555555555556, \"#d8576b\"], [0.6666666666666666, \"#ed7953\"], [0.7777777777777778, \"#fb9f3a\"], [0.8888888888888888, \"#fdca26\"], [1.0, \"#f0f921\"]], \"type\": \"histogram2dcontour\"}], \"mesh3d\": [{\"colorbar\": {\"outlinewidth\": 0, \"ticks\": \"\"}, \"type\": \"mesh3d\"}], \"parcoords\": [{\"line\": {\"colorbar\": {\"outlinewidth\": 0, \"ticks\": \"\"}}, \"type\": \"parcoords\"}], \"pie\": [{\"automargin\": true, \"type\": \"pie\"}], \"scatter\": [{\"marker\": {\"colorbar\": {\"outlinewidth\": 0, \"ticks\": \"\"}}, \"type\": \"scatter\"}], \"scatter3d\": [{\"line\": {\"colorbar\": {\"outlinewidth\": 0, \"ticks\": \"\"}}, \"marker\": {\"colorbar\": {\"outlinewidth\": 0, \"ticks\": \"\"}}, \"type\": \"scatter3d\"}], \"scattercarpet\": [{\"marker\": {\"colorbar\": {\"outlinewidth\": 0, \"ticks\": \"\"}}, \"type\": \"scattercarpet\"}], \"scattergeo\": [{\"marker\": {\"colorbar\": {\"outlinewidth\": 0, \"ticks\": \"\"}}, \"type\": \"scattergeo\"}], \"scattergl\": [{\"marker\": {\"colorbar\": {\"outlinewidth\": 0, \"ticks\": \"\"}}, \"type\": \"scattergl\"}], \"scattermapbox\": [{\"marker\": {\"colorbar\": {\"outlinewidth\": 0, \"ticks\": \"\"}}, \"type\": \"scattermapbox\"}], \"scatterpolar\": [{\"marker\": {\"colorbar\": {\"outlinewidth\": 0, \"ticks\": \"\"}}, \"type\": \"scatterpolar\"}], \"scatterpolargl\": [{\"marker\": {\"colorbar\": {\"outlinewidth\": 0, \"ticks\": \"\"}}, \"type\": \"scatterpolargl\"}], \"scatterternary\": [{\"marker\": {\"colorbar\": {\"outlinewidth\": 0, \"ticks\": \"\"}}, \"type\": \"scatterternary\"}], \"surface\": [{\"colorbar\": {\"outlinewidth\": 0, \"ticks\": \"\"}, \"colorscale\": [[0.0, \"#0d0887\"], [0.1111111111111111, \"#46039f\"], [0.2222222222222222, \"#7201a8\"], [0.3333333333333333, \"#9c179e\"], [0.4444444444444444, \"#bd3786\"], [0.5555555555555556, \"#d8576b\"], [0.6666666666666666, \"#ed7953\"], [0.7777777777777778, \"#fb9f3a\"], [0.8888888888888888, \"#fdca26\"], [1.0, \"#f0f921\"]], \"type\": \"surface\"}], \"table\": [{\"cells\": {\"fill\": {\"color\": \"#EBF0F8\"}, \"line\": {\"color\": \"white\"}}, \"header\": {\"fill\": {\"color\": \"#C8D4E3\"}, \"line\": {\"color\": \"white\"}}, \"type\": \"table\"}]}, \"layout\": {\"annotationdefaults\": {\"arrowcolor\": \"#2a3f5f\", \"arrowhead\": 0, \"arrowwidth\": 1}, \"autotypenumbers\": \"strict\", \"coloraxis\": {\"colorbar\": {\"outlinewidth\": 0, \"ticks\": \"\"}}, \"colorscale\": {\"diverging\": [[0, \"#8e0152\"], [0.1, \"#c51b7d\"], [0.2, \"#de77ae\"], [0.3, \"#f1b6da\"], [0.4, \"#fde0ef\"], [0.5, \"#f7f7f7\"], [0.6, \"#e6f5d0\"], [0.7, \"#b8e186\"], [0.8, \"#7fbc41\"], [0.9, \"#4d9221\"], [1, \"#276419\"]], \"sequential\": [[0.0, \"#0d0887\"], [0.1111111111111111, \"#46039f\"], [0.2222222222222222, \"#7201a8\"], [0.3333333333333333, \"#9c179e\"], [0.4444444444444444, \"#bd3786\"], [0.5555555555555556, \"#d8576b\"], [0.6666666666666666, \"#ed7953\"], [0.7777777777777778, \"#fb9f3a\"], [0.8888888888888888, \"#fdca26\"], [1.0, \"#f0f921\"]], \"sequentialminus\": [[0.0, \"#0d0887\"], [0.1111111111111111, \"#46039f\"], [0.2222222222222222, \"#7201a8\"], [0.3333333333333333, \"#9c179e\"], [0.4444444444444444, \"#bd3786\"], [0.5555555555555556, \"#d8576b\"], [0.6666666666666666, \"#ed7953\"], [0.7777777777777778, \"#fb9f3a\"], [0.8888888888888888, \"#fdca26\"], [1.0, \"#f0f921\"]]}, \"colorway\": [\"#636efa\", \"#EF553B\", \"#00cc96\", \"#ab63fa\", \"#FFA15A\", \"#19d3f3\", \"#FF6692\", \"#B6E880\", \"#FF97FF\", \"#FECB52\"], \"font\": {\"color\": \"#2a3f5f\"}, \"geo\": {\"bgcolor\": \"white\", \"lakecolor\": \"white\", \"landcolor\": \"#E5ECF6\", \"showlakes\": true, \"showland\": true, \"subunitcolor\": \"white\"}, \"hoverlabel\": {\"align\": \"left\"}, \"hovermode\": \"closest\", \"mapbox\": {\"style\": \"light\"}, \"paper_bgcolor\": \"white\", \"plot_bgcolor\": \"#E5ECF6\", \"polar\": {\"angularaxis\": {\"gridcolor\": \"white\", \"linecolor\": \"white\", \"ticks\": \"\"}, \"bgcolor\": \"#E5ECF6\", \"radialaxis\": {\"gridcolor\": \"white\", \"linecolor\": \"white\", \"ticks\": \"\"}}, \"scene\": {\"xaxis\": {\"backgroundcolor\": \"#E5ECF6\", \"gridcolor\": \"white\", \"gridwidth\": 2, \"linecolor\": \"white\", \"showbackground\": true, \"ticks\": \"\", \"zerolinecolor\": \"white\"}, \"yaxis\": {\"backgroundcolor\": \"#E5ECF6\", \"gridcolor\": \"white\", \"gridwidth\": 2, \"linecolor\": \"white\", \"showbackground\": true, \"ticks\": \"\", \"zerolinecolor\": \"white\"}, \"zaxis\": {\"backgroundcolor\": \"#E5ECF6\", \"gridcolor\": \"white\", \"gridwidth\": 2, \"linecolor\": \"white\", \"showbackground\": true, \"ticks\": \"\", \"zerolinecolor\": \"white\"}}, \"shapedefaults\": {\"line\": {\"color\": \"#2a3f5f\"}}, \"ternary\": {\"aaxis\": {\"gridcolor\": \"white\", \"linecolor\": \"white\", \"ticks\": \"\"}, \"baxis\": {\"gridcolor\": \"white\", \"linecolor\": \"white\", \"ticks\": \"\"}, \"bgcolor\": \"#E5ECF6\", \"caxis\": {\"gridcolor\": \"white\", \"linecolor\": \"white\", \"ticks\": \"\"}}, \"title\": {\"x\": 0.05}, \"xaxis\": {\"automargin\": true, \"gridcolor\": \"white\", \"linecolor\": \"white\", \"ticks\": \"\", \"title\": {\"standoff\": 15}, \"zerolinecolor\": \"white\", \"zerolinewidth\": 2}, \"yaxis\": {\"automargin\": true, \"gridcolor\": \"white\", \"linecolor\": \"white\", \"ticks\": \"\", \"title\": {\"standoff\": 15}, \"zerolinecolor\": \"white\", \"zerolinewidth\": 2}}}, \"xaxis\": {\"anchor\": \"y\", \"domain\": [0.0, 1.0], \"title\": {\"text\": \"Surname\"}}, \"yaxis\": {\"anchor\": \"x\", \"domain\": [0.0, 1.0], \"title\": {\"text\": \"count\"}}},                        {\"responsive\": true}                    ).then(function(){\n",
       "                            \n",
       "var gd = document.getElementById('ff6a16a5-ff38-4522-afbb-97ea5fe87b19');\n",
       "var x = new MutationObserver(function (mutations, observer) {{\n",
       "        var display = window.getComputedStyle(gd).display;\n",
       "        if (!display || display === 'none') {{\n",
       "            console.log([gd, 'removed!']);\n",
       "            Plotly.purge(gd);\n",
       "            observer.disconnect();\n",
       "        }}\n",
       "}});\n",
       "\n",
       "// Listen for the removal of the full notebook cells\n",
       "var notebookContainer = gd.closest('#notebook-container');\n",
       "if (notebookContainer) {{\n",
       "    x.observe(notebookContainer, {childList: true});\n",
       "}}\n",
       "\n",
       "// Listen for the clearing of the current output cell\n",
       "var outputEl = gd.closest('.output');\n",
       "if (outputEl) {{\n",
       "    x.observe(outputEl, {childList: true});\n",
       "}}\n",
       "\n",
       "                        })                };                });            </script>        </div>"
      ]
     },
     "metadata": {},
     "output_type": "display_data"
    }
   ],
   "source": [
    "dfplt = df.copy(deep=True)\n",
    "dfplt[\"Survived\"] = dfplt[\"Survived\"].astype(str)\n",
    "dfplt = dfplt[dfplt[\"Surname\"]!=\"Other\"]\n",
    "fig = px.histogram(dfplt, x=\"Surname\",color=\"Survived\",color_discrete_sequence=cm)\n",
    "fig.show()"
   ]
  },
  {
   "cell_type": "markdown",
   "metadata": {
    "_cell_guid": "4e0d2517-3859-4f61-9060-77ecc217fe5d",
    "_uuid": "fa6ddf7f-c74b-4403-8218-7e8dd21ddd3d",
    "papermill": {
     "duration": 0.072935,
     "end_time": "2022-07-11T06:08:19.809595",
     "exception": false,
     "start_time": "2022-07-11T06:08:19.736660",
     "status": "completed"
    },
    "tags": []
   },
   "source": [
    "Now we will delete all the Families, for which number of Survived equel to not Survived (Again ill do it manually)"
   ]
  },
  {
   "cell_type": "code",
   "execution_count": 27,
   "metadata": {
    "_cell_guid": "2a21adf1-e65e-4271-9939-619a79e17730",
    "_uuid": "81621009-f3bf-4fbe-81f5-2717297a8631",
    "collapsed": false,
    "execution": {
     "iopub.execute_input": "2022-07-11T06:08:19.961733Z",
     "iopub.status.busy": "2022-07-11T06:08:19.960760Z",
     "iopub.status.idle": "2022-07-11T06:08:19.971526Z",
     "shell.execute_reply": "2022-07-11T06:08:19.972062Z"
    },
    "jupyter": {
     "outputs_hidden": false
    },
    "papermill": {
     "duration": 0.08867,
     "end_time": "2022-07-11T06:08:19.972246",
     "exception": false,
     "start_time": "2022-07-11T06:08:19.883576",
     "status": "completed"
    },
    "tags": []
   },
   "outputs": [],
   "source": [
    "drop = [\"Abbott\",\"Keane\",\"Minahan\",\"Crosby\",\"Hocking\",\"Dean\",\"Mallet\",\"\"]\n",
    "df = df.replace(drop,'Other')"
   ]
  },
  {
   "cell_type": "markdown",
   "metadata": {
    "papermill": {
     "duration": 0.074078,
     "end_time": "2022-07-11T06:08:20.119599",
     "exception": false,
     "start_time": "2022-07-11T06:08:20.045521",
     "status": "completed"
    },
    "tags": []
   },
   "source": [
    "## <a class=\"anchor\" id=\"1.3_bullet\" style=\"color:#3B61A3\">  1.3 Personal features analisys\n",
    "### <a class=\"anchor\" id=\"1.3.1_bullet\" style=\"color:#3B61A3\">  1.3.1 Title features\n",
    "Passangers with different Titles may hav different survival rate (may be connected to so some position on groups, status of inner features)"
   ]
  },
  {
   "cell_type": "code",
   "execution_count": 28,
   "metadata": {
    "_cell_guid": "55027e26-39a2-47b4-9dce-6ffa89a392bf",
    "_uuid": "289a2842-0ca4-4c61-b1c6-2ffc03ae3507",
    "collapsed": false,
    "execution": {
     "iopub.execute_input": "2022-07-11T06:08:20.271285Z",
     "iopub.status.busy": "2022-07-11T06:08:20.270333Z",
     "iopub.status.idle": "2022-07-11T06:08:20.281652Z",
     "shell.execute_reply": "2022-07-11T06:08:20.282190Z"
    },
    "jupyter": {
     "outputs_hidden": false
    },
    "papermill": {
     "duration": 0.089348,
     "end_time": "2022-07-11T06:08:20.282390",
     "exception": false,
     "start_time": "2022-07-11T06:08:20.193042",
     "status": "completed"
    },
    "tags": []
   },
   "outputs": [],
   "source": [
    "df[\"Title\"] = pd.DataFrame(df[\"Name\"].str.strip().str.split(\".\").tolist()).set_index(df.index).iloc[:,0]\n",
    "df[\"Title\"] = df[\"Title\"].fillna(\"Others\")"
   ]
  },
  {
   "cell_type": "code",
   "execution_count": 29,
   "metadata": {
    "_cell_guid": "87d67c2b-7080-473c-8a5f-c2f7f3e69f39",
    "_uuid": "a3cbbc5e-334b-4b58-82f7-34bb325c59e7",
    "collapsed": false,
    "execution": {
     "iopub.execute_input": "2022-07-11T06:08:20.433227Z",
     "iopub.status.busy": "2022-07-11T06:08:20.432313Z",
     "iopub.status.idle": "2022-07-11T06:08:20.513312Z",
     "shell.execute_reply": "2022-07-11T06:08:20.512757Z"
    },
    "jupyter": {
     "outputs_hidden": false
    },
    "papermill": {
     "duration": 0.15748,
     "end_time": "2022-07-11T06:08:20.513468",
     "exception": false,
     "start_time": "2022-07-11T06:08:20.355988",
     "status": "completed"
    },
    "tags": []
   },
   "outputs": [
    {
     "data": {
      "text/html": [
       "<div>                            <div id=\"e5941ec9-3af4-4a7d-83da-c3a068ad4125\" class=\"plotly-graph-div\" style=\"height:525px; width:100%;\"></div>            <script type=\"text/javascript\">                require([\"plotly\"], function(Plotly) {                    window.PLOTLYENV=window.PLOTLYENV || {};                                    if (document.getElementById(\"e5941ec9-3af4-4a7d-83da-c3a068ad4125\")) {                    Plotly.newPlot(                        \"e5941ec9-3af4-4a7d-83da-c3a068ad4125\",                        [{\"alignmentgroup\": \"True\", \"bingroup\": \"x\", \"hovertemplate\": \"Survived=0.0<br>Title=%{x}<br>count=%{y}<extra></extra>\", \"legendgroup\": \"0.0\", \"marker\": {\"color\": \"#273176\"}, \"name\": \"0.0\", \"offsetgroup\": \"0.0\", \"orientation\": \"v\", \"showlegend\": true, \"type\": \"histogram\", \"x\": [\"Mr\", \"Mr\", \"Mr\", \"Mr\", \"Master\", \"Mr\", \"Mr\", \"Miss\", \"Master\", \"Mrs\", \"Mr\", \"Miss\", \"Mr\", \"Mr\", \"Mr\", \"Don\", \"Mr\", \"Mr\", \"Mr\", \"Mr\", \"Miss\", \"Mrs\", \"Mrs\", \"Mr\", \"Mr\", \"Mr\", \"Mr\", \"Mrs\", \"Master\", \"Mr\", \"Mr\", \"Mr\", \"Master\", \"Mr\", \"Mr\", \"Master\", \"Mr\", \"Mr\", \"Mr\", \"Mr\", \"Miss\", \"Mr\", \"Mr\", \"Mr\", \"Mr\", \"Mr\", \"Mr\", \"Mr\", \"Mr\", \"Mr\", \"Mr\", \"Mr\", \"Mr\", \"Mr\", \"Mr\", \"Mr\", \"Mr\", \"Mr\", \"Mr\", \"Miss\", \"Mr\", \"Mr\", \"Mr\", \"Mr\", \"Mr\", \"Mr\", \"Mr\", \"Miss\", \"Mr\", \"Miss\", \"Miss\", \"Mr\", \"Mr\", \"Mr\", \"Mr\", \"Miss\", \"Mr\", \"Mr\", \"Mr\", \"Mr\", \"Mr\", \"Mr\", \"Mr\", \"Mr\", \"Mrs\", \"Mr\", \"Mr\", \"Mr\", \"Mr\", \"Mr\", \"Mrs\", \"Mr\", \"Mr\", \"Mr\", \"Miss\", \"Mr\", \"Rev\", \"Rev\", \"Mr\", \"Mr\", \"Mr\", \"Mr\", \"Mr\", \"Mr\", \"Master\", \"Mr\", \"Mr\", \"Mr\", \"Master\", \"Mrs\", \"Mr\", \"Mr\", \"Mr\", \"Master\", \"Mr\", \"Mr\", \"Mr\", \"Master\", \"Miss\", \"Mr\", \"Mr\", \"Miss\", \"Mr\", \"Master\", \"Mr\", \"Mr\", \"Mr\", \"Mr\", \"Mr\", \"Mr\", \"Miss\", \"Mr\", \"Mr\", \"Mr\", \"Mr\", \"Miss\", \"Mr\", \"Mr\", \"Mr\", \"Mr\", \"Mr\", \"Mr\", \"Mr\", \"Mr\", \"Mr\", \"Mr\", \"Mr\", \"Mr\", \"Mr\", \"Miss\", \"Mr\", \"Mr\", \"Mr\", \"Miss\", \"Mr\", \"Mr\", \"Mr\", \"Miss\", \"Mr\", \"Mr\", \"Mr\", \"Dr\", \"Miss\", \"Rev\", \"Mr\", \"Mrs\", \"Mr\", \"Mr\", \"Mrs\", \"Mr\", \"Mr\", \"Mr\", \"Miss\", \"Mr\", \"Mr\", \"Mr\", \"Mr\", \"Miss\", \"Mr\", \"Master\", \"Mr\", \"Mr\", \"Mr\", \"Mr\", \"Mr\", \"Mr\", \"Mr\", \"Miss\", \"Mr\", \"Mr\", \"Mr\", \"Miss\", \"Mr\", \"Mr\", \"Mr\", \"Mrs\", \"Mr\", \"Mr\", \"Dr\", \"Mr\", \"Mr\", \"Mr\", \"Mr\", \"Mr\", \"Mr\", \"Mr\", \"Mr\", \"Mr\", \"Mr\", \"Mr\", \"Mr\", \"Mr\", \"Mr\", \"Mr\", \"Mr\", \"Mr\", \"Mr\", \"Mr\", \"Mr\", \"Miss\", \"Mr\", \"Mr\", \"Mrs\", \"Mr\", \"Mr\", \"Mr\", \"Mr\", \"Mr\", \"Mr\", \"Miss\", \"Mr\", \"Mr\", \"Mr\", \"Mr\", \"Mr\", \"Mr\", \"Master\", \"Mr\", \"Mr\", \"Mr\", \"Miss\", \"Mr\", \"Dr\", \"Mr\", \"Miss\", \"Mr\", \"Miss\", \"Mr\", \"Mr\", \"Mr\", \"Miss\", \"Mr\", \"Mr\", \"Mr\", \"Mrs\", \"Mr\", \"Miss\", \"Mr\", \"Mr\", \"Mr\", \"Mrs\", \"Mr\", \"Mr\", \"Mr\", \"Mr\", \"Mr\", \"Miss\", \"Mr\", \"Mr\", \"Mr\", \"Mr\", \"Mr\", \"Mr\", \"Mr\", \"Mr\", \"Mr\", \"Mr\", \"Mr\", \"Mr\", \"Mr\", \"Mr\", \"Mr\", \"Mr\", \"Mr\", \"Mr\", \"Mr\", \"Mr\", \"Miss\", \"Mr\", \"Mr\", \"Mr\", \"Mr\", \"Master\", \"Mr\", \"Mr\", \"Miss\", \"Mr\", \"Mr\", \"Mr\", \"Mr\", \"Mr\", \"Mr\", \"Mr\", \"Mr\", \"Mr\", \"Mrs\", \"Mr\", \"Mr\", \"Miss\", \"Miss\", \"Miss\", \"Mr\", \"Mr\", \"Mr\", \"Mr\", \"Mr\", \"Mr\", \"Mr\", \"Mr\", \"Mr\", \"Mr\", \"Mr\", \"Mr\", \"Mr\", \"Mr\", \"Mr\", \"Mr\", \"Miss\", \"Major\", \"Mr\", \"Miss\", \"Miss\", \"Mr\", \"Mr\", \"Mr\", \"Mr\", \"Mr\", \"Mr\", \"Mr\", \"Mr\", \"Mr\", \"Mr\", \"Mr\", \"Miss\", \"Mr\", \"Mr\", \"Mrs\", \"Mr\", \"Mr\", \"Mr\", \"Mrs\", \"Mr\", \"Mr\", \"Mr\", \"Mr\", \"Mr\", \"Mr\", \"Mr\", \"Mr\", \"Miss\", \"Mr\", \"Mr\", \"Mr\", \"Mr\", \"Mr\", \"Mr\", \"Mr\", \"Mr\", \"Mr\", \"Mrs\", \"Mr\", \"Mr\", \"Mr\", \"Mr\", \"Mrs\", \"Mr\", \"Mr\", \"Mr\", \"Mr\", \"Mr\", \"Rev\", \"Mr\", \"Mr\", \"Mr\", \"Mr\", \"Miss\", \"Mr\", \"Mr\", \"Mrs\", \"Mr\", \"Mr\", \"Miss\", \"Mr\", \"Mr\", \"Mr\", \"Mr\", \"Miss\", \"Mr\", \"Mr\", \"Mrs\", \"Mr\", \"Mr\", \"Mr\", \"Mr\", \"Mr\", \"Mr\", \"Mr\", \"Mr\", \"Mr\", \"Mr\", \"Mr\", \"Mr\", \"Mr\", \"Mr\", \"Mrs\", \"Miss\", \"Mr\", \"Mr\", \"Mr\", \"Mr\", \"Mr\", \"Mr\", \"Mr\", \"Mr\", \"Col\", \"Mr\", \"Mr\", \"Mr\", \"Mr\", \"Miss\", \"Mr\", \"Mr\", \"Mr\", \"Mr\", \"Mr\", \"Mr\", \"Mr\", \"Mr\", \"Mr\", \"Mr\", \"Mr\", \"Mr\", \"Mr\", \"Mr\", \"Miss\", \"Mr\", \"Mr\", \"Mr\", \"Mr\", \"Mr\", \"Mrs\", \"Mr\", \"Mr\", \"Mr\", \"Mr\", \"Capt\", \"Mr\", \"Mr\", \"Mr\", \"Mr\", \"Mr\", \"Mr\", \"Mr\", \"Mr\", \"Mr\", \"Mr\", \"Mr\", \"Dr\", \"Miss\", \"Mr\", \"Mr\", \"Mr\", \"Mr\", \"Mrs\", \"Mr\", \"Mr\", \"Mr\", \"Mr\", \"Mr\", \"Mr\", \"Mr\", \"Mr\", \"Master\", \"Mr\", \"Mr\", \"Mr\", \"Miss\", \"Mr\", \"Mr\", \"Mr\", \"Mr\", \"Mrs\", \"Mr\", \"Mr\", \"Mr\", \"Miss\", \"Mr\", \"Mr\", \"Mr\", \"Mr\", \"Miss\", \"Mr\", \"Mr\", \"Miss\", \"Mr\", \"Mr\", \"Master\", \"Jonkheer\", \"Master\", \"Mr\", \"Mr\", \"Mr\", \"Mr\", \"Mr\", \"Mr\", \"Mr\", \"Mr\", \"Mr\", \"Mr\", \"Mr\", \"Mr\", \"Mr\", \"Mr\", \"Rev\", \"Master\", \"Mr\", \"Miss\", \"Mrs\", \"Mr\", \"Mr\", \"Mr\", \"Miss\", \"Mr\", \"Mr\", \"Mr\", \"Mr\", \"Mr\", \"Mr\", \"Mr\", \"Mr\", \"Mr\", \"Mr\", \"Miss\", \"Mr\", \"Mr\", \"Mrs\", \"Rev\", \"Miss\", \"Mr\"], \"xaxis\": \"x\", \"yaxis\": \"y\"}, {\"alignmentgroup\": \"True\", \"bingroup\": \"x\", \"hovertemplate\": \"Survived=1.0<br>Title=%{x}<br>count=%{y}<extra></extra>\", \"legendgroup\": \"1.0\", \"marker\": {\"color\": \"#3B61A3\"}, \"name\": \"1.0\", \"offsetgroup\": \"1.0\", \"orientation\": \"v\", \"showlegend\": true, \"type\": \"histogram\", \"x\": [\"Mrs\", \"Miss\", \"Mrs\", \"Mrs\", \"Mrs\", \"Miss\", \"Miss\", \"Mrs\", \"Mr\", \"Mrs\", \"Mr\", \"Miss\", \"Mr\", \"Mrs\", \"Miss\", \"Mrs\", \"Miss\", \"Mr\", \"Miss\", \"Miss\", \"Miss\", \"Miss\", \"Mrs\", \"Mrs\", \"Mr\", \"Miss\", \"Miss\", \"Miss\", \"Master\", \"Mrs\", \"Miss\", \"Mr\", \"Master\", \"Miss\", \"Mr\", \"Miss\", \"Miss\", \"Mrs\", \"Miss\", \"Mr\", \"Mrs\", \"Miss\", \"Mr\", \"Miss\", \"Miss\", \"Master\", \"Mr\", \"Miss\", \"Mrs\", \"Miss\", \"Miss\", \"Mrs\", \"Mr\", \"Mrs\", \"Miss\", \"Mrs\", \"Master\", \"Mrs\", \"Miss\", \"Master\", \"Miss\", \"Mrs\", \"Mr\", \"Mrs\", \"Miss\", \"Master\", \"Mrs\", \"Miss\", \"Miss\", \"Mr\", \"Mr\", \"Miss\", \"Mr\", \"Miss\", \"Miss\", \"Miss\", \"Miss\", \"Mr\", \"Mr\", \"Mr\", \"Mrs\", \"Miss\", \"Miss\", \"Miss\", \"Mrs\", \"Mr\", \"Mrs\", \"Mrs\", \"Miss\", \"Miss\", \"Mrs\", \"Master\", \"Mr\", \"Mrs\", \"Miss\", \"Mr\", \"Mrs\", \"Miss\", \"Miss\", \"Mrs\", \"Mr\", \"Mr\", \"Mr\", \"Miss\", \"Miss\", \"Mrs\", \"Mr\", \"Mrs\", \"Miss\", \"Mr\", \"Miss\", \"Master\", \"Miss\", \"Mrs\", \"Miss\", \"Miss\", \"Miss\", \"Miss\", \"Mrs\", \"Miss\", \"Mrs\", \"Miss\", \"Mrs\", \"Miss\", \"Mrs\", \"Mrs\", \"Miss\", \"Miss\", \"Mrs\", \"Miss\", \"Mr\", \"Master\", \"Miss\", \"Miss\", \"Miss\", \"Mrs\", \"Master\", \"Miss\", \"Miss\", \"Miss\", \"Mrs\", \"Mrs\", \"Miss\", \"Mme\", \"Mr\", \"Mrs\", \"Miss\", \"Miss\", \"Miss\", \"Mrs\", \"Miss\", \"Miss\", \"Mr\", \"Mr\", \"Miss\", \"Mrs\", \"Mrs\", \"Mr\", \"Master\", \"Miss\", \"Mr\", \"Mrs\", \"Miss\", \"Mrs\", \"Miss\", \"Mr\", \"Mr\", \"Mrs\", \"Mrs\", \"Miss\", \"Mrs\", \"Mrs\", \"Ms\", \"Mr\", \"Master\", \"Miss\", \"Mr\", \"Miss\", \"Major\", \"Mr\", \"Mr\", \"Mrs\", \"Miss\", \"Mr\", \"Miss\", \"Mrs\", \"Mrs\", \"Miss\", \"Mrs\", \"Mr\", \"Mrs\", \"Master\", \"Miss\", \"Miss\", \"Mrs\", \"Mr\", \"Mr\", \"Mr\", \"Mr\", \"Mrs\", \"Mrs\", \"Mrs\", \"Miss\", \"Mrs\", \"Miss\", \"Miss\", \"Mrs\", \"Miss\", \"Miss\", \"Miss\", \"Miss\", \"Mr\", \"Mrs\", \"Mr\", \"Master\", \"Mr\", \"Mr\", \"Miss\", \"Lady\", \"Mrs\", \"Mrs\", \"Mr\", \"Mr\", \"Mrs\", \"Mr\", \"Miss\", \"Miss\", \"Mrs\", \"Mr\", \"Miss\", \"Mrs\", \"Miss\", \"Mr\", \"Mrs\", \"Miss\", \"Sir\", \"Mrs\", \"Mr\", \"Mr\", \"Mrs\", \"Miss\", \"Miss\", \"Miss\", \"Miss\", \"Mr\", \"Mr\", \"Miss\", \"Mr\", \"Dr\", \"Miss\", \"Mlle\", \"Mr\", \"Miss\", \"Mr\", \"Col\", \"Miss\", \"Miss\", \"Miss\", \"Dr\", \"Mr\", \"Mrs\", \"Mrs\", \"Mr\", \"Miss\", \"Mr\", \"Mr\", \"Miss\", \"Mr\", \"Miss\", \"Mr\", \"Miss\", \"Mrs\", \"Mr\", \"Mrs\", \"Mr\", \"Miss\", \"Master\", \"Mlle\", \"Mr\", \"Miss\", \"Miss\", \"Miss\", \"Mr\", \"Mrs\", \"Miss\", \"Miss\", \"Mr\", \"Mr\", \"Miss\", \"Mr\", \"Miss\", \"Miss\", \"Master\", \"Mrs\", \"Master\", \"the Countess\", \"Mr\", \"Mrs\", \"Mrs\", \"Mrs\", \"Miss\", \"Mrs\", \"Miss\", \"Mrs\", \"Miss\", \"Master\", \"Dr\", \"Mrs\", \"Mrs\", \"Master\", \"Master\", \"Mr\", \"Mrs\", \"Mrs\", \"Mr\", \"Mrs\", \"Master\", \"Mr\", \"Mrs\", \"Mrs\", \"Master\", \"Miss\", \"Mr\", \"Mr\", \"Miss\", \"Mrs\", \"Miss\", \"Mrs\", \"Mrs\", \"Mr\", \"Mrs\", \"Mrs\", \"Mrs\", \"Miss\", \"Master\", \"Mrs\", \"Mrs\", \"Miss\", \"Mrs\", \"Mrs\", \"Miss\", \"Mr\"], \"xaxis\": \"x\", \"yaxis\": \"y\"}, {\"alignmentgroup\": \"True\", \"bingroup\": \"x\", \"hovertemplate\": \"Survived=nan<br>Title=%{x}<br>count=%{y}<extra></extra>\", \"legendgroup\": \"nan\", \"marker\": {\"color\": \"#76A4AC\"}, \"name\": \"nan\", \"offsetgroup\": \"nan\", \"orientation\": \"v\", \"showlegend\": true, \"type\": \"histogram\", \"x\": [\"Mr\", \"Mrs\", \"Mr\", \"Mr\", \"Mrs\", \"Mr\", \"Miss\", \"Mr\", \"Mrs\", \"Mr\", \"Mr\", \"Mr\", \"Mrs\", \"Mr\", \"Mrs\", \"Mrs\", \"Mr\", \"Mr\", \"Miss\", \"Mrs\", \"Mr\", \"Master\", \"Mrs\", \"Mr\", \"Mrs\", \"Mr\", \"Miss\", \"Mr\", \"Mr\", \"Mr\", \"Mr\", \"Mr\", \"Mrs\", \"Mrs\", \"Mr\", \"Mr\", \"Miss\", \"Miss\", \"Mr\", \"Mr\", \"Mr\", \"Mr\", \"Mr\", \"Mrs\", \"Mrs\", \"Mr\", \"Mr\", \"Mr\", \"Mrs\", \"Mrs\", \"Mr\", \"Mr\", \"Miss\", \"Miss\", \"Mr\", \"Master\", \"Mr\", \"Mr\", \"Mr\", \"Miss\", \"Mr\", \"Mr\", \"Mr\", \"Miss\", \"Master\", \"Mrs\", \"Miss\", \"Mr\", \"Mr\", \"Mrs\", \"Miss\", \"Mr\", \"Miss\", \"Mr\", \"Miss\", \"Mr\", \"Mr\", \"Mrs\", \"Mr\", \"Miss\", \"Master\", \"Mr\", \"Mr\", \"Mr\", \"Mr\", \"Mr\", \"Miss\", \"Miss\", \"Ms\", \"Master\", \"Mrs\", \"Mr\", \"Mrs\", \"Mr\", \"Mr\", \"Mr\", \"Mrs\", \"Mr\", \"Miss\", \"Mr\", \"Mrs\", \"Mr\", \"Mr\", \"Mr\", \"Mrs\", \"Mr\", \"Mr\", \"Mr\", \"Mr\", \"Mr\", \"Mr\", \"Miss\", \"Miss\", \"Miss\", \"Mrs\", \"Mr\", \"Mr\", \"Miss\", \"Mr\", \"Mrs\", \"Miss\", \"Mr\", \"Mrs\", \"Mr\", \"Mr\", \"Miss\", \"Mr\", \"Miss\", \"Mr\", \"Mr\", \"Mr\", \"Col\", \"Mrs\", \"Mr\", \"Mr\", \"Mr\", \"Mr\", \"Mr\", \"Miss\", \"Mr\", \"Miss\", \"Miss\", \"Mr\", \"Mr\", \"Mr\", \"Mr\", \"Mr\", \"Mr\", \"Mr\", \"Rev\", \"Mrs\", \"Mr\", \"Mr\", \"Mrs\", \"Master\", \"Mr\", \"Miss\", \"Miss\", \"Mr\", \"Mrs\", \"Miss\", \"Master\", \"Miss\", \"Mr\", \"Rev\", \"Mrs\", \"Mr\", \"Mr\", \"Mrs\", \"Miss\", \"Mr\", \"Mr\", \"Mr\", \"Mr\", \"Mr\", \"Miss\", \"Miss\", \"Mr\", \"Mrs\", \"Mrs\", \"Mr\", \"Mr\", \"Mrs\", \"Mr\", \"Mrs\", \"Mr\", \"Miss\", \"Mr\", \"Miss\", \"Mr\", \"Mr\", \"Mr\", \"Master\", \"Mr\", \"Master\", \"Mr\", \"Master\", \"Miss\", \"Mr\", \"Mrs\", \"Miss\", \"Master\", \"Col\", \"Miss\", \"Mr\", \"Mr\", \"Miss\", \"Mr\", \"Miss\", \"Mr\", \"Mr\", \"Mr\", \"Mr\", \"Mrs\", \"Miss\", \"Mr\", \"Miss\", \"Mr\", \"Mrs\", \"Mr\", \"Miss\", \"Mr\", \"Mrs\", \"Mr\", \"Mrs\", \"Mrs\", \"Mr\", \"Miss\", \"Mr\", \"Mr\", \"Mr\", \"Miss\", \"Mr\", \"Mr\", \"Mr\", \"Mr\", \"Mr\", \"Mr\", \"Miss\", \"Mrs\", \"Mrs\", \"Mrs\", \"Mr\", \"Mr\", \"Master\", \"Mr\", \"Mrs\", \"Mr\", \"Mrs\", \"Mrs\", \"Miss\", \"Mr\", \"Mr\", \"Mr\", \"Mr\", \"Mr\", \"Mr\", \"Mr\", \"Miss\", \"Mr\", \"Mr\", \"Mr\", \"Mrs\", \"Miss\", \"Mr\", \"Mr\", \"Mr\", \"Mr\", \"Miss\", \"Mr\", \"Mr\", \"Mr\", \"Mrs\", \"Miss\", \"Mr\", \"Miss\", \"Mr\", \"Mr\", \"Mr\", \"Mr\", \"Miss\", \"Master\", \"Miss\", \"Miss\", \"Miss\", \"Mr\", \"Mr\", \"Mr\", \"Mr\", \"Mr\", \"Mr\", \"Miss\", \"Mr\", \"Dr\", \"Mr\", \"Mr\", \"Miss\", \"Mr\", \"Mr\", \"Mr\", \"Mr\", \"Mr\", \"Mr\", \"Mr\", \"Miss\", \"Mrs\", \"Mr\", \"Master\", \"Mr\", \"Mrs\", \"Mr\", \"Mr\", \"Mr\", \"Miss\", \"Mrs\", \"Miss\", \"Mr\", \"Mr\", \"Mr\", \"Mr\", \"Mr\", \"Mr\", \"Mr\", \"Mr\", \"Miss\", \"Mr\", \"Miss\", \"Mr\", \"Mr\", \"Mr\", \"Mrs\", \"Mr\", \"Mr\", \"Mrs\", \"Mr\", \"Mr\", \"Mr\", \"Mr\", \"Mr\", \"Master\", \"Mr\", \"Mr\", \"Mr\", \"Mrs\", \"Master\", \"Miss\", \"Mr\", \"Mrs\", \"Mr\", \"Miss\", \"Mrs\", \"Mr\", \"Mr\", \"Mr\", \"Miss\", \"Mr\", \"Mrs\", \"Mr\", \"Mr\", \"Mrs\", \"Master\", \"Mrs\", \"Mrs\", \"Mr\", \"Mrs\", \"Mrs\", \"Mr\", \"Miss\", \"Mrs\", \"Mr\", \"Mr\", \"Miss\", \"Mr\", \"Mr\", \"Mrs\", \"Miss\", \"Miss\", \"Mr\", \"Mr\", \"Master\", \"Mr\", \"Mr\", \"Mrs\", \"Mrs\", \"Mr\", \"Miss\", \"Mr\", \"Mr\", \"Mr\", \"Master\", \"Mr\", \"Mrs\", \"Master\", \"Mr\", \"Mr\", \"Mrs\", \"Mr\", \"Mrs\", \"Mr\", \"Mr\", \"Miss\", \"Mr\", \"Miss\", \"Mr\", \"Mr\", \"Mr\", \"Mr\", \"Mr\", \"Miss\", \"Miss\", \"Miss\", \"Mrs\", \"Miss\", \"Mr\", \"Dona\", \"Mr\", \"Mr\", \"Master\"], \"xaxis\": \"x\", \"yaxis\": \"y\"}],                        {\"barmode\": \"relative\", \"legend\": {\"title\": {\"text\": \"Survived\"}, \"tracegroupgap\": 0}, \"margin\": {\"t\": 60}, \"template\": {\"data\": {\"bar\": [{\"error_x\": {\"color\": \"#2a3f5f\"}, \"error_y\": {\"color\": \"#2a3f5f\"}, \"marker\": {\"line\": {\"color\": \"#E5ECF6\", \"width\": 0.5}}, \"type\": \"bar\"}], \"barpolar\": [{\"marker\": {\"line\": {\"color\": \"#E5ECF6\", \"width\": 0.5}}, \"type\": \"barpolar\"}], \"carpet\": [{\"aaxis\": {\"endlinecolor\": \"#2a3f5f\", \"gridcolor\": \"white\", \"linecolor\": \"white\", \"minorgridcolor\": \"white\", \"startlinecolor\": \"#2a3f5f\"}, \"baxis\": {\"endlinecolor\": \"#2a3f5f\", \"gridcolor\": \"white\", \"linecolor\": \"white\", \"minorgridcolor\": \"white\", \"startlinecolor\": \"#2a3f5f\"}, \"type\": \"carpet\"}], \"choropleth\": [{\"colorbar\": {\"outlinewidth\": 0, \"ticks\": \"\"}, \"type\": \"choropleth\"}], \"contour\": [{\"colorbar\": {\"outlinewidth\": 0, \"ticks\": \"\"}, \"colorscale\": [[0.0, \"#0d0887\"], [0.1111111111111111, \"#46039f\"], [0.2222222222222222, \"#7201a8\"], [0.3333333333333333, \"#9c179e\"], [0.4444444444444444, \"#bd3786\"], [0.5555555555555556, \"#d8576b\"], [0.6666666666666666, \"#ed7953\"], [0.7777777777777778, \"#fb9f3a\"], [0.8888888888888888, \"#fdca26\"], [1.0, \"#f0f921\"]], \"type\": \"contour\"}], \"contourcarpet\": [{\"colorbar\": {\"outlinewidth\": 0, \"ticks\": \"\"}, \"type\": \"contourcarpet\"}], \"heatmap\": [{\"colorbar\": {\"outlinewidth\": 0, \"ticks\": \"\"}, \"colorscale\": [[0.0, \"#0d0887\"], [0.1111111111111111, \"#46039f\"], [0.2222222222222222, \"#7201a8\"], [0.3333333333333333, \"#9c179e\"], [0.4444444444444444, \"#bd3786\"], [0.5555555555555556, \"#d8576b\"], [0.6666666666666666, \"#ed7953\"], [0.7777777777777778, \"#fb9f3a\"], [0.8888888888888888, \"#fdca26\"], [1.0, \"#f0f921\"]], \"type\": \"heatmap\"}], \"heatmapgl\": [{\"colorbar\": {\"outlinewidth\": 0, \"ticks\": \"\"}, \"colorscale\": [[0.0, \"#0d0887\"], [0.1111111111111111, \"#46039f\"], [0.2222222222222222, \"#7201a8\"], [0.3333333333333333, \"#9c179e\"], [0.4444444444444444, \"#bd3786\"], [0.5555555555555556, \"#d8576b\"], [0.6666666666666666, \"#ed7953\"], [0.7777777777777778, \"#fb9f3a\"], [0.8888888888888888, \"#fdca26\"], [1.0, \"#f0f921\"]], \"type\": \"heatmapgl\"}], \"histogram\": [{\"marker\": {\"colorbar\": {\"outlinewidth\": 0, \"ticks\": \"\"}}, \"type\": \"histogram\"}], \"histogram2d\": [{\"colorbar\": {\"outlinewidth\": 0, \"ticks\": \"\"}, \"colorscale\": [[0.0, \"#0d0887\"], [0.1111111111111111, \"#46039f\"], [0.2222222222222222, \"#7201a8\"], [0.3333333333333333, \"#9c179e\"], [0.4444444444444444, \"#bd3786\"], [0.5555555555555556, \"#d8576b\"], [0.6666666666666666, \"#ed7953\"], [0.7777777777777778, \"#fb9f3a\"], [0.8888888888888888, \"#fdca26\"], [1.0, \"#f0f921\"]], \"type\": \"histogram2d\"}], \"histogram2dcontour\": [{\"colorbar\": {\"outlinewidth\": 0, \"ticks\": \"\"}, \"colorscale\": [[0.0, \"#0d0887\"], [0.1111111111111111, \"#46039f\"], [0.2222222222222222, \"#7201a8\"], [0.3333333333333333, \"#9c179e\"], [0.4444444444444444, \"#bd3786\"], [0.5555555555555556, \"#d8576b\"], [0.6666666666666666, \"#ed7953\"], [0.7777777777777778, \"#fb9f3a\"], [0.8888888888888888, \"#fdca26\"], [1.0, \"#f0f921\"]], \"type\": \"histogram2dcontour\"}], \"mesh3d\": [{\"colorbar\": {\"outlinewidth\": 0, \"ticks\": \"\"}, \"type\": \"mesh3d\"}], \"parcoords\": [{\"line\": {\"colorbar\": {\"outlinewidth\": 0, \"ticks\": \"\"}}, \"type\": \"parcoords\"}], \"pie\": [{\"automargin\": true, \"type\": \"pie\"}], \"scatter\": [{\"marker\": {\"colorbar\": {\"outlinewidth\": 0, \"ticks\": \"\"}}, \"type\": \"scatter\"}], \"scatter3d\": [{\"line\": {\"colorbar\": {\"outlinewidth\": 0, \"ticks\": \"\"}}, \"marker\": {\"colorbar\": {\"outlinewidth\": 0, \"ticks\": \"\"}}, \"type\": \"scatter3d\"}], \"scattercarpet\": [{\"marker\": {\"colorbar\": {\"outlinewidth\": 0, \"ticks\": \"\"}}, \"type\": \"scattercarpet\"}], \"scattergeo\": [{\"marker\": {\"colorbar\": {\"outlinewidth\": 0, \"ticks\": \"\"}}, \"type\": \"scattergeo\"}], \"scattergl\": [{\"marker\": {\"colorbar\": {\"outlinewidth\": 0, \"ticks\": \"\"}}, \"type\": \"scattergl\"}], \"scattermapbox\": [{\"marker\": {\"colorbar\": {\"outlinewidth\": 0, \"ticks\": \"\"}}, \"type\": \"scattermapbox\"}], \"scatterpolar\": [{\"marker\": {\"colorbar\": {\"outlinewidth\": 0, \"ticks\": \"\"}}, \"type\": \"scatterpolar\"}], \"scatterpolargl\": [{\"marker\": {\"colorbar\": {\"outlinewidth\": 0, \"ticks\": \"\"}}, \"type\": \"scatterpolargl\"}], \"scatterternary\": [{\"marker\": {\"colorbar\": {\"outlinewidth\": 0, \"ticks\": \"\"}}, \"type\": \"scatterternary\"}], \"surface\": [{\"colorbar\": {\"outlinewidth\": 0, \"ticks\": \"\"}, \"colorscale\": [[0.0, \"#0d0887\"], [0.1111111111111111, \"#46039f\"], [0.2222222222222222, \"#7201a8\"], [0.3333333333333333, \"#9c179e\"], [0.4444444444444444, \"#bd3786\"], [0.5555555555555556, \"#d8576b\"], [0.6666666666666666, \"#ed7953\"], [0.7777777777777778, \"#fb9f3a\"], [0.8888888888888888, \"#fdca26\"], [1.0, \"#f0f921\"]], \"type\": \"surface\"}], \"table\": [{\"cells\": {\"fill\": {\"color\": \"#EBF0F8\"}, \"line\": {\"color\": \"white\"}}, \"header\": {\"fill\": {\"color\": \"#C8D4E3\"}, \"line\": {\"color\": \"white\"}}, \"type\": \"table\"}]}, \"layout\": {\"annotationdefaults\": {\"arrowcolor\": \"#2a3f5f\", \"arrowhead\": 0, \"arrowwidth\": 1}, \"autotypenumbers\": \"strict\", \"coloraxis\": {\"colorbar\": {\"outlinewidth\": 0, \"ticks\": \"\"}}, \"colorscale\": {\"diverging\": [[0, \"#8e0152\"], [0.1, \"#c51b7d\"], [0.2, \"#de77ae\"], [0.3, \"#f1b6da\"], [0.4, \"#fde0ef\"], [0.5, \"#f7f7f7\"], [0.6, \"#e6f5d0\"], [0.7, \"#b8e186\"], [0.8, \"#7fbc41\"], [0.9, \"#4d9221\"], [1, \"#276419\"]], \"sequential\": [[0.0, \"#0d0887\"], [0.1111111111111111, \"#46039f\"], [0.2222222222222222, \"#7201a8\"], [0.3333333333333333, \"#9c179e\"], [0.4444444444444444, \"#bd3786\"], [0.5555555555555556, \"#d8576b\"], [0.6666666666666666, \"#ed7953\"], [0.7777777777777778, \"#fb9f3a\"], [0.8888888888888888, \"#fdca26\"], [1.0, \"#f0f921\"]], \"sequentialminus\": [[0.0, \"#0d0887\"], [0.1111111111111111, \"#46039f\"], [0.2222222222222222, \"#7201a8\"], [0.3333333333333333, \"#9c179e\"], [0.4444444444444444, \"#bd3786\"], [0.5555555555555556, \"#d8576b\"], [0.6666666666666666, \"#ed7953\"], [0.7777777777777778, \"#fb9f3a\"], [0.8888888888888888, \"#fdca26\"], [1.0, \"#f0f921\"]]}, \"colorway\": [\"#636efa\", \"#EF553B\", \"#00cc96\", \"#ab63fa\", \"#FFA15A\", \"#19d3f3\", \"#FF6692\", \"#B6E880\", \"#FF97FF\", \"#FECB52\"], \"font\": {\"color\": \"#2a3f5f\"}, \"geo\": {\"bgcolor\": \"white\", \"lakecolor\": \"white\", \"landcolor\": \"#E5ECF6\", \"showlakes\": true, \"showland\": true, \"subunitcolor\": \"white\"}, \"hoverlabel\": {\"align\": \"left\"}, \"hovermode\": \"closest\", \"mapbox\": {\"style\": \"light\"}, \"paper_bgcolor\": \"white\", \"plot_bgcolor\": \"#E5ECF6\", \"polar\": {\"angularaxis\": {\"gridcolor\": \"white\", \"linecolor\": \"white\", \"ticks\": \"\"}, \"bgcolor\": \"#E5ECF6\", \"radialaxis\": {\"gridcolor\": \"white\", \"linecolor\": \"white\", \"ticks\": \"\"}}, \"scene\": {\"xaxis\": {\"backgroundcolor\": \"#E5ECF6\", \"gridcolor\": \"white\", \"gridwidth\": 2, \"linecolor\": \"white\", \"showbackground\": true, \"ticks\": \"\", \"zerolinecolor\": \"white\"}, \"yaxis\": {\"backgroundcolor\": \"#E5ECF6\", \"gridcolor\": \"white\", \"gridwidth\": 2, \"linecolor\": \"white\", \"showbackground\": true, \"ticks\": \"\", \"zerolinecolor\": \"white\"}, \"zaxis\": {\"backgroundcolor\": \"#E5ECF6\", \"gridcolor\": \"white\", \"gridwidth\": 2, \"linecolor\": \"white\", \"showbackground\": true, \"ticks\": \"\", \"zerolinecolor\": \"white\"}}, \"shapedefaults\": {\"line\": {\"color\": \"#2a3f5f\"}}, \"ternary\": {\"aaxis\": {\"gridcolor\": \"white\", \"linecolor\": \"white\", \"ticks\": \"\"}, \"baxis\": {\"gridcolor\": \"white\", \"linecolor\": \"white\", \"ticks\": \"\"}, \"bgcolor\": \"#E5ECF6\", \"caxis\": {\"gridcolor\": \"white\", \"linecolor\": \"white\", \"ticks\": \"\"}}, \"title\": {\"x\": 0.05}, \"xaxis\": {\"automargin\": true, \"gridcolor\": \"white\", \"linecolor\": \"white\", \"ticks\": \"\", \"title\": {\"standoff\": 15}, \"zerolinecolor\": \"white\", \"zerolinewidth\": 2}, \"yaxis\": {\"automargin\": true, \"gridcolor\": \"white\", \"linecolor\": \"white\", \"ticks\": \"\", \"title\": {\"standoff\": 15}, \"zerolinecolor\": \"white\", \"zerolinewidth\": 2}}}, \"xaxis\": {\"anchor\": \"y\", \"domain\": [0.0, 1.0], \"title\": {\"text\": \"Title\"}}, \"yaxis\": {\"anchor\": \"x\", \"domain\": [0.0, 1.0], \"title\": {\"text\": \"count\"}}},                        {\"responsive\": true}                    ).then(function(){\n",
       "                            \n",
       "var gd = document.getElementById('e5941ec9-3af4-4a7d-83da-c3a068ad4125');\n",
       "var x = new MutationObserver(function (mutations, observer) {{\n",
       "        var display = window.getComputedStyle(gd).display;\n",
       "        if (!display || display === 'none') {{\n",
       "            console.log([gd, 'removed!']);\n",
       "            Plotly.purge(gd);\n",
       "            observer.disconnect();\n",
       "        }}\n",
       "}});\n",
       "\n",
       "// Listen for the removal of the full notebook cells\n",
       "var notebookContainer = gd.closest('#notebook-container');\n",
       "if (notebookContainer) {{\n",
       "    x.observe(notebookContainer, {childList: true});\n",
       "}}\n",
       "\n",
       "// Listen for the clearing of the current output cell\n",
       "var outputEl = gd.closest('.output');\n",
       "if (outputEl) {{\n",
       "    x.observe(outputEl, {childList: true});\n",
       "}}\n",
       "\n",
       "                        })                };                });            </script>        </div>"
      ]
     },
     "metadata": {},
     "output_type": "display_data"
    }
   ],
   "source": [
    "dfplt = df.copy(deep=True)\n",
    "dfplt[\"Survived\"] = dfplt[\"Survived\"].astype(str)\n",
    "fig = px.histogram(dfplt, x=\"Title\",color=\"Survived\",color_discrete_sequence=cm)\n",
    "fig.show()"
   ]
  },
  {
   "cell_type": "code",
   "execution_count": 30,
   "metadata": {
    "_cell_guid": "002387bd-b51d-4155-87fd-1a3bb3c239b3",
    "_uuid": "a11c1314-ae6d-4f87-8579-9adc5b970a80",
    "collapsed": false,
    "execution": {
     "iopub.execute_input": "2022-07-11T06:08:20.666450Z",
     "iopub.status.busy": "2022-07-11T06:08:20.665505Z",
     "iopub.status.idle": "2022-07-11T06:08:20.674794Z",
     "shell.execute_reply": "2022-07-11T06:08:20.675339Z"
    },
    "jupyter": {
     "outputs_hidden": false
    },
    "papermill": {
     "duration": 0.087603,
     "end_time": "2022-07-11T06:08:20.675520",
     "exception": false,
     "start_time": "2022-07-11T06:08:20.587917",
     "status": "completed"
    },
    "tags": []
   },
   "outputs": [],
   "source": [
    "rename = {\"Miss\":\"Ms\",\n",
    "          \"Mrs\": \"Mme\",\n",
    "          \"Others\": [\"Don\",\"Rev\",\"Dr\",\"Lady\",\"Sir\",\"Mlle\",\"Col\",\"the Countess\",\"Mme\",\"Major\",\"Capt\",\"Jonkheer\",\"Dona\"]}\n",
    "for k in rename:\n",
    "    df[\"Title\"] = df[\"Title\"].replace(rename[k],k)"
   ]
  },
  {
   "cell_type": "markdown",
   "metadata": {
    "papermill": {
     "duration": 0.076241,
     "end_time": "2022-07-11T06:08:20.827790",
     "exception": false,
     "start_time": "2022-07-11T06:08:20.751549",
     "status": "completed"
    },
    "tags": []
   },
   "source": [
    "I desided to delete values with low frequancy - for our model not to be messed up."
   ]
  },
  {
   "cell_type": "code",
   "execution_count": 31,
   "metadata": {
    "_cell_guid": "d731197e-ba2d-47f5-a7b3-b8c9312571ac",
    "_uuid": "7a1f23f4-64e2-4362-a16a-0609f414a7c5",
    "collapsed": false,
    "execution": {
     "iopub.execute_input": "2022-07-11T06:08:20.981975Z",
     "iopub.status.busy": "2022-07-11T06:08:20.980987Z",
     "iopub.status.idle": "2022-07-11T06:08:21.062871Z",
     "shell.execute_reply": "2022-07-11T06:08:21.063395Z"
    },
    "jupyter": {
     "outputs_hidden": false
    },
    "papermill": {
     "duration": 0.160552,
     "end_time": "2022-07-11T06:08:21.063572",
     "exception": false,
     "start_time": "2022-07-11T06:08:20.903020",
     "status": "completed"
    },
    "tags": []
   },
   "outputs": [
    {
     "data": {
      "text/html": [
       "<div>                            <div id=\"158ab94d-e2f9-4db2-b78a-f5a8d9fc7f8e\" class=\"plotly-graph-div\" style=\"height:525px; width:100%;\"></div>            <script type=\"text/javascript\">                require([\"plotly\"], function(Plotly) {                    window.PLOTLYENV=window.PLOTLYENV || {};                                    if (document.getElementById(\"158ab94d-e2f9-4db2-b78a-f5a8d9fc7f8e\")) {                    Plotly.newPlot(                        \"158ab94d-e2f9-4db2-b78a-f5a8d9fc7f8e\",                        [{\"alignmentgroup\": \"True\", \"bingroup\": \"x\", \"hovertemplate\": \"Survived=0.0<br>Title=%{x}<br>count=%{y}<extra></extra>\", \"legendgroup\": \"0.0\", \"marker\": {\"color\": \"#273176\"}, \"name\": \"0.0\", \"offsetgroup\": \"0.0\", \"orientation\": \"v\", \"showlegend\": true, \"type\": \"histogram\", \"x\": [\"Mr\", \"Mr\", \"Mr\", \"Mr\", \"Master\", \"Mr\", \"Mr\", \"Miss\", \"Master\", \"Mrs\", \"Mr\", \"Miss\", \"Mr\", \"Mr\", \"Mr\", \"Others\", \"Mr\", \"Mr\", \"Mr\", \"Mr\", \"Miss\", \"Mrs\", \"Mrs\", \"Mr\", \"Mr\", \"Mr\", \"Mr\", \"Mrs\", \"Master\", \"Mr\", \"Mr\", \"Mr\", \"Master\", \"Mr\", \"Mr\", \"Master\", \"Mr\", \"Mr\", \"Mr\", \"Mr\", \"Miss\", \"Mr\", \"Mr\", \"Mr\", \"Mr\", \"Mr\", \"Mr\", \"Mr\", \"Mr\", \"Mr\", \"Mr\", \"Mr\", \"Mr\", \"Mr\", \"Mr\", \"Mr\", \"Mr\", \"Mr\", \"Mr\", \"Miss\", \"Mr\", \"Mr\", \"Mr\", \"Mr\", \"Mr\", \"Mr\", \"Mr\", \"Miss\", \"Mr\", \"Miss\", \"Miss\", \"Mr\", \"Mr\", \"Mr\", \"Mr\", \"Miss\", \"Mr\", \"Mr\", \"Mr\", \"Mr\", \"Mr\", \"Mr\", \"Mr\", \"Mr\", \"Mrs\", \"Mr\", \"Mr\", \"Mr\", \"Mr\", \"Mr\", \"Mrs\", \"Mr\", \"Mr\", \"Mr\", \"Miss\", \"Mr\", \"Others\", \"Others\", \"Mr\", \"Mr\", \"Mr\", \"Mr\", \"Mr\", \"Mr\", \"Master\", \"Mr\", \"Mr\", \"Mr\", \"Master\", \"Mrs\", \"Mr\", \"Mr\", \"Mr\", \"Master\", \"Mr\", \"Mr\", \"Mr\", \"Master\", \"Miss\", \"Mr\", \"Mr\", \"Miss\", \"Mr\", \"Master\", \"Mr\", \"Mr\", \"Mr\", \"Mr\", \"Mr\", \"Mr\", \"Miss\", \"Mr\", \"Mr\", \"Mr\", \"Mr\", \"Miss\", \"Mr\", \"Mr\", \"Mr\", \"Mr\", \"Mr\", \"Mr\", \"Mr\", \"Mr\", \"Mr\", \"Mr\", \"Mr\", \"Mr\", \"Mr\", \"Miss\", \"Mr\", \"Mr\", \"Mr\", \"Miss\", \"Mr\", \"Mr\", \"Mr\", \"Miss\", \"Mr\", \"Mr\", \"Mr\", \"Others\", \"Miss\", \"Others\", \"Mr\", \"Mrs\", \"Mr\", \"Mr\", \"Mrs\", \"Mr\", \"Mr\", \"Mr\", \"Miss\", \"Mr\", \"Mr\", \"Mr\", \"Mr\", \"Miss\", \"Mr\", \"Master\", \"Mr\", \"Mr\", \"Mr\", \"Mr\", \"Mr\", \"Mr\", \"Mr\", \"Miss\", \"Mr\", \"Mr\", \"Mr\", \"Miss\", \"Mr\", \"Mr\", \"Mr\", \"Mrs\", \"Mr\", \"Mr\", \"Others\", \"Mr\", \"Mr\", \"Mr\", \"Mr\", \"Mr\", \"Mr\", \"Mr\", \"Mr\", \"Mr\", \"Mr\", \"Mr\", \"Mr\", \"Mr\", \"Mr\", \"Mr\", \"Mr\", \"Mr\", \"Mr\", \"Mr\", \"Mr\", \"Miss\", \"Mr\", \"Mr\", \"Mrs\", \"Mr\", \"Mr\", \"Mr\", \"Mr\", \"Mr\", \"Mr\", \"Miss\", \"Mr\", \"Mr\", \"Mr\", \"Mr\", \"Mr\", \"Mr\", \"Master\", \"Mr\", \"Mr\", \"Mr\", \"Miss\", \"Mr\", \"Others\", \"Mr\", \"Miss\", \"Mr\", \"Miss\", \"Mr\", \"Mr\", \"Mr\", \"Miss\", \"Mr\", \"Mr\", \"Mr\", \"Mrs\", \"Mr\", \"Miss\", \"Mr\", \"Mr\", \"Mr\", \"Mrs\", \"Mr\", \"Mr\", \"Mr\", \"Mr\", \"Mr\", \"Miss\", \"Mr\", \"Mr\", \"Mr\", \"Mr\", \"Mr\", \"Mr\", \"Mr\", \"Mr\", \"Mr\", \"Mr\", \"Mr\", \"Mr\", \"Mr\", \"Mr\", \"Mr\", \"Mr\", \"Mr\", \"Mr\", \"Mr\", \"Mr\", \"Miss\", \"Mr\", \"Mr\", \"Mr\", \"Mr\", \"Master\", \"Mr\", \"Mr\", \"Miss\", \"Mr\", \"Mr\", \"Mr\", \"Mr\", \"Mr\", \"Mr\", \"Mr\", \"Mr\", \"Mr\", \"Mrs\", \"Mr\", \"Mr\", \"Miss\", \"Miss\", \"Miss\", \"Mr\", \"Mr\", \"Mr\", \"Mr\", \"Mr\", \"Mr\", \"Mr\", \"Mr\", \"Mr\", \"Mr\", \"Mr\", \"Mr\", \"Mr\", \"Mr\", \"Mr\", \"Mr\", \"Miss\", \"Others\", \"Mr\", \"Miss\", \"Miss\", \"Mr\", \"Mr\", \"Mr\", \"Mr\", \"Mr\", \"Mr\", \"Mr\", \"Mr\", \"Mr\", \"Mr\", \"Mr\", \"Miss\", \"Mr\", \"Mr\", \"Mrs\", \"Mr\", \"Mr\", \"Mr\", \"Mrs\", \"Mr\", \"Mr\", \"Mr\", \"Mr\", \"Mr\", \"Mr\", \"Mr\", \"Mr\", \"Miss\", \"Mr\", \"Mr\", \"Mr\", \"Mr\", \"Mr\", \"Mr\", \"Mr\", \"Mr\", \"Mr\", \"Mrs\", \"Mr\", \"Mr\", \"Mr\", \"Mr\", \"Mrs\", \"Mr\", \"Mr\", \"Mr\", \"Mr\", \"Mr\", \"Others\", \"Mr\", \"Mr\", \"Mr\", \"Mr\", \"Miss\", \"Mr\", \"Mr\", \"Mrs\", \"Mr\", \"Mr\", \"Miss\", \"Mr\", \"Mr\", \"Mr\", \"Mr\", \"Miss\", \"Mr\", \"Mr\", \"Mrs\", \"Mr\", \"Mr\", \"Mr\", \"Mr\", \"Mr\", \"Mr\", \"Mr\", \"Mr\", \"Mr\", \"Mr\", \"Mr\", \"Mr\", \"Mr\", \"Mr\", \"Mrs\", \"Miss\", \"Mr\", \"Mr\", \"Mr\", \"Mr\", \"Mr\", \"Mr\", \"Mr\", \"Mr\", \"Others\", \"Mr\", \"Mr\", \"Mr\", \"Mr\", \"Miss\", \"Mr\", \"Mr\", \"Mr\", \"Mr\", \"Mr\", \"Mr\", \"Mr\", \"Mr\", \"Mr\", \"Mr\", \"Mr\", \"Mr\", \"Mr\", \"Mr\", \"Miss\", \"Mr\", \"Mr\", \"Mr\", \"Mr\", \"Mr\", \"Mrs\", \"Mr\", \"Mr\", \"Mr\", \"Mr\", \"Others\", \"Mr\", \"Mr\", \"Mr\", \"Mr\", \"Mr\", \"Mr\", \"Mr\", \"Mr\", \"Mr\", \"Mr\", \"Mr\", \"Others\", \"Miss\", \"Mr\", \"Mr\", \"Mr\", \"Mr\", \"Mrs\", \"Mr\", \"Mr\", \"Mr\", \"Mr\", \"Mr\", \"Mr\", \"Mr\", \"Mr\", \"Master\", \"Mr\", \"Mr\", \"Mr\", \"Miss\", \"Mr\", \"Mr\", \"Mr\", \"Mr\", \"Mrs\", \"Mr\", \"Mr\", \"Mr\", \"Miss\", \"Mr\", \"Mr\", \"Mr\", \"Mr\", \"Miss\", \"Mr\", \"Mr\", \"Miss\", \"Mr\", \"Mr\", \"Master\", \"Others\", \"Master\", \"Mr\", \"Mr\", \"Mr\", \"Mr\", \"Mr\", \"Mr\", \"Mr\", \"Mr\", \"Mr\", \"Mr\", \"Mr\", \"Mr\", \"Mr\", \"Mr\", \"Others\", \"Master\", \"Mr\", \"Miss\", \"Mrs\", \"Mr\", \"Mr\", \"Mr\", \"Miss\", \"Mr\", \"Mr\", \"Mr\", \"Mr\", \"Mr\", \"Mr\", \"Mr\", \"Mr\", \"Mr\", \"Mr\", \"Miss\", \"Mr\", \"Mr\", \"Mrs\", \"Others\", \"Miss\", \"Mr\"], \"xaxis\": \"x\", \"yaxis\": \"y\"}, {\"alignmentgroup\": \"True\", \"bingroup\": \"x\", \"hovertemplate\": \"Survived=1.0<br>Title=%{x}<br>count=%{y}<extra></extra>\", \"legendgroup\": \"1.0\", \"marker\": {\"color\": \"#3B61A3\"}, \"name\": \"1.0\", \"offsetgroup\": \"1.0\", \"orientation\": \"v\", \"showlegend\": true, \"type\": \"histogram\", \"x\": [\"Mrs\", \"Miss\", \"Mrs\", \"Mrs\", \"Mrs\", \"Miss\", \"Miss\", \"Mrs\", \"Mr\", \"Mrs\", \"Mr\", \"Miss\", \"Mr\", \"Mrs\", \"Miss\", \"Mrs\", \"Miss\", \"Mr\", \"Miss\", \"Miss\", \"Miss\", \"Miss\", \"Mrs\", \"Mrs\", \"Mr\", \"Miss\", \"Miss\", \"Miss\", \"Master\", \"Mrs\", \"Miss\", \"Mr\", \"Master\", \"Miss\", \"Mr\", \"Miss\", \"Miss\", \"Mrs\", \"Miss\", \"Mr\", \"Mrs\", \"Miss\", \"Mr\", \"Miss\", \"Miss\", \"Master\", \"Mr\", \"Miss\", \"Mrs\", \"Miss\", \"Miss\", \"Mrs\", \"Mr\", \"Mrs\", \"Miss\", \"Mrs\", \"Master\", \"Mrs\", \"Miss\", \"Master\", \"Miss\", \"Mrs\", \"Mr\", \"Mrs\", \"Miss\", \"Master\", \"Mrs\", \"Miss\", \"Miss\", \"Mr\", \"Mr\", \"Miss\", \"Mr\", \"Miss\", \"Miss\", \"Miss\", \"Miss\", \"Mr\", \"Mr\", \"Mr\", \"Mrs\", \"Miss\", \"Miss\", \"Miss\", \"Mrs\", \"Mr\", \"Mrs\", \"Mrs\", \"Miss\", \"Miss\", \"Mrs\", \"Master\", \"Mr\", \"Mrs\", \"Miss\", \"Mr\", \"Mrs\", \"Miss\", \"Miss\", \"Mrs\", \"Mr\", \"Mr\", \"Mr\", \"Miss\", \"Miss\", \"Mrs\", \"Mr\", \"Mrs\", \"Miss\", \"Mr\", \"Miss\", \"Master\", \"Miss\", \"Mrs\", \"Miss\", \"Miss\", \"Miss\", \"Miss\", \"Mrs\", \"Miss\", \"Mrs\", \"Miss\", \"Mrs\", \"Miss\", \"Mrs\", \"Mrs\", \"Miss\", \"Miss\", \"Mrs\", \"Miss\", \"Mr\", \"Master\", \"Miss\", \"Miss\", \"Miss\", \"Mrs\", \"Master\", \"Miss\", \"Miss\", \"Miss\", \"Mrs\", \"Mrs\", \"Miss\", \"Mrs\", \"Mr\", \"Mrs\", \"Miss\", \"Miss\", \"Miss\", \"Mrs\", \"Miss\", \"Miss\", \"Mr\", \"Mr\", \"Miss\", \"Mrs\", \"Mrs\", \"Mr\", \"Master\", \"Miss\", \"Mr\", \"Mrs\", \"Miss\", \"Mrs\", \"Miss\", \"Mr\", \"Mr\", \"Mrs\", \"Mrs\", \"Miss\", \"Mrs\", \"Mrs\", \"Miss\", \"Mr\", \"Master\", \"Miss\", \"Mr\", \"Miss\", \"Others\", \"Mr\", \"Mr\", \"Mrs\", \"Miss\", \"Mr\", \"Miss\", \"Mrs\", \"Mrs\", \"Miss\", \"Mrs\", \"Mr\", \"Mrs\", \"Master\", \"Miss\", \"Miss\", \"Mrs\", \"Mr\", \"Mr\", \"Mr\", \"Mr\", \"Mrs\", \"Mrs\", \"Mrs\", \"Miss\", \"Mrs\", \"Miss\", \"Miss\", \"Mrs\", \"Miss\", \"Miss\", \"Miss\", \"Miss\", \"Mr\", \"Mrs\", \"Mr\", \"Master\", \"Mr\", \"Mr\", \"Miss\", \"Others\", \"Mrs\", \"Mrs\", \"Mr\", \"Mr\", \"Mrs\", \"Mr\", \"Miss\", \"Miss\", \"Mrs\", \"Mr\", \"Miss\", \"Mrs\", \"Miss\", \"Mr\", \"Mrs\", \"Miss\", \"Others\", \"Mrs\", \"Mr\", \"Mr\", \"Mrs\", \"Miss\", \"Miss\", \"Miss\", \"Miss\", \"Mr\", \"Mr\", \"Miss\", \"Mr\", \"Others\", \"Miss\", \"Others\", \"Mr\", \"Miss\", \"Mr\", \"Others\", \"Miss\", \"Miss\", \"Miss\", \"Others\", \"Mr\", \"Mrs\", \"Mrs\", \"Mr\", \"Miss\", \"Mr\", \"Mr\", \"Miss\", \"Mr\", \"Miss\", \"Mr\", \"Miss\", \"Mrs\", \"Mr\", \"Mrs\", \"Mr\", \"Miss\", \"Master\", \"Others\", \"Mr\", \"Miss\", \"Miss\", \"Miss\", \"Mr\", \"Mrs\", \"Miss\", \"Miss\", \"Mr\", \"Mr\", \"Miss\", \"Mr\", \"Miss\", \"Miss\", \"Master\", \"Mrs\", \"Master\", \"Others\", \"Mr\", \"Mrs\", \"Mrs\", \"Mrs\", \"Miss\", \"Mrs\", \"Miss\", \"Mrs\", \"Miss\", \"Master\", \"Others\", \"Mrs\", \"Mrs\", \"Master\", \"Master\", \"Mr\", \"Mrs\", \"Mrs\", \"Mr\", \"Mrs\", \"Master\", \"Mr\", \"Mrs\", \"Mrs\", \"Master\", \"Miss\", \"Mr\", \"Mr\", \"Miss\", \"Mrs\", \"Miss\", \"Mrs\", \"Mrs\", \"Mr\", \"Mrs\", \"Mrs\", \"Mrs\", \"Miss\", \"Master\", \"Mrs\", \"Mrs\", \"Miss\", \"Mrs\", \"Mrs\", \"Miss\", \"Mr\"], \"xaxis\": \"x\", \"yaxis\": \"y\"}, {\"alignmentgroup\": \"True\", \"bingroup\": \"x\", \"hovertemplate\": \"Survived=nan<br>Title=%{x}<br>count=%{y}<extra></extra>\", \"legendgroup\": \"nan\", \"marker\": {\"color\": \"#76A4AC\"}, \"name\": \"nan\", \"offsetgroup\": \"nan\", \"orientation\": \"v\", \"showlegend\": true, \"type\": \"histogram\", \"x\": [\"Mr\", \"Mrs\", \"Mr\", \"Mr\", \"Mrs\", \"Mr\", \"Miss\", \"Mr\", \"Mrs\", \"Mr\", \"Mr\", \"Mr\", \"Mrs\", \"Mr\", \"Mrs\", \"Mrs\", \"Mr\", \"Mr\", \"Miss\", \"Mrs\", \"Mr\", \"Master\", \"Mrs\", \"Mr\", \"Mrs\", \"Mr\", \"Miss\", \"Mr\", \"Mr\", \"Mr\", \"Mr\", \"Mr\", \"Mrs\", \"Mrs\", \"Mr\", \"Mr\", \"Miss\", \"Miss\", \"Mr\", \"Mr\", \"Mr\", \"Mr\", \"Mr\", \"Mrs\", \"Mrs\", \"Mr\", \"Mr\", \"Mr\", \"Mrs\", \"Mrs\", \"Mr\", \"Mr\", \"Miss\", \"Miss\", \"Mr\", \"Master\", \"Mr\", \"Mr\", \"Mr\", \"Miss\", \"Mr\", \"Mr\", \"Mr\", \"Miss\", \"Master\", \"Mrs\", \"Miss\", \"Mr\", \"Mr\", \"Mrs\", \"Miss\", \"Mr\", \"Miss\", \"Mr\", \"Miss\", \"Mr\", \"Mr\", \"Mrs\", \"Mr\", \"Miss\", \"Master\", \"Mr\", \"Mr\", \"Mr\", \"Mr\", \"Mr\", \"Miss\", \"Miss\", \"Miss\", \"Master\", \"Mrs\", \"Mr\", \"Mrs\", \"Mr\", \"Mr\", \"Mr\", \"Mrs\", \"Mr\", \"Miss\", \"Mr\", \"Mrs\", \"Mr\", \"Mr\", \"Mr\", \"Mrs\", \"Mr\", \"Mr\", \"Mr\", \"Mr\", \"Mr\", \"Mr\", \"Miss\", \"Miss\", \"Miss\", \"Mrs\", \"Mr\", \"Mr\", \"Miss\", \"Mr\", \"Mrs\", \"Miss\", \"Mr\", \"Mrs\", \"Mr\", \"Mr\", \"Miss\", \"Mr\", \"Miss\", \"Mr\", \"Mr\", \"Mr\", \"Others\", \"Mrs\", \"Mr\", \"Mr\", \"Mr\", \"Mr\", \"Mr\", \"Miss\", \"Mr\", \"Miss\", \"Miss\", \"Mr\", \"Mr\", \"Mr\", \"Mr\", \"Mr\", \"Mr\", \"Mr\", \"Others\", \"Mrs\", \"Mr\", \"Mr\", \"Mrs\", \"Master\", \"Mr\", \"Miss\", \"Miss\", \"Mr\", \"Mrs\", \"Miss\", \"Master\", \"Miss\", \"Mr\", \"Others\", \"Mrs\", \"Mr\", \"Mr\", \"Mrs\", \"Miss\", \"Mr\", \"Mr\", \"Mr\", \"Mr\", \"Mr\", \"Miss\", \"Miss\", \"Mr\", \"Mrs\", \"Mrs\", \"Mr\", \"Mr\", \"Mrs\", \"Mr\", \"Mrs\", \"Mr\", \"Miss\", \"Mr\", \"Miss\", \"Mr\", \"Mr\", \"Mr\", \"Master\", \"Mr\", \"Master\", \"Mr\", \"Master\", \"Miss\", \"Mr\", \"Mrs\", \"Miss\", \"Master\", \"Others\", \"Miss\", \"Mr\", \"Mr\", \"Miss\", \"Mr\", \"Miss\", \"Mr\", \"Mr\", \"Mr\", \"Mr\", \"Mrs\", \"Miss\", \"Mr\", \"Miss\", \"Mr\", \"Mrs\", \"Mr\", \"Miss\", \"Mr\", \"Mrs\", \"Mr\", \"Mrs\", \"Mrs\", \"Mr\", \"Miss\", \"Mr\", \"Mr\", \"Mr\", \"Miss\", \"Mr\", \"Mr\", \"Mr\", \"Mr\", \"Mr\", \"Mr\", \"Miss\", \"Mrs\", \"Mrs\", \"Mrs\", \"Mr\", \"Mr\", \"Master\", \"Mr\", \"Mrs\", \"Mr\", \"Mrs\", \"Mrs\", \"Miss\", \"Mr\", \"Mr\", \"Mr\", \"Mr\", \"Mr\", \"Mr\", \"Mr\", \"Miss\", \"Mr\", \"Mr\", \"Mr\", \"Mrs\", \"Miss\", \"Mr\", \"Mr\", \"Mr\", \"Mr\", \"Miss\", \"Mr\", \"Mr\", \"Mr\", \"Mrs\", \"Miss\", \"Mr\", \"Miss\", \"Mr\", \"Mr\", \"Mr\", \"Mr\", \"Miss\", \"Master\", \"Miss\", \"Miss\", \"Miss\", \"Mr\", \"Mr\", \"Mr\", \"Mr\", \"Mr\", \"Mr\", \"Miss\", \"Mr\", \"Others\", \"Mr\", \"Mr\", \"Miss\", \"Mr\", \"Mr\", \"Mr\", \"Mr\", \"Mr\", \"Mr\", \"Mr\", \"Miss\", \"Mrs\", \"Mr\", \"Master\", \"Mr\", \"Mrs\", \"Mr\", \"Mr\", \"Mr\", \"Miss\", \"Mrs\", \"Miss\", \"Mr\", \"Mr\", \"Mr\", \"Mr\", \"Mr\", \"Mr\", \"Mr\", \"Mr\", \"Miss\", \"Mr\", \"Miss\", \"Mr\", \"Mr\", \"Mr\", \"Mrs\", \"Mr\", \"Mr\", \"Mrs\", \"Mr\", \"Mr\", \"Mr\", \"Mr\", \"Mr\", \"Master\", \"Mr\", \"Mr\", \"Mr\", \"Mrs\", \"Master\", \"Miss\", \"Mr\", \"Mrs\", \"Mr\", \"Miss\", \"Mrs\", \"Mr\", \"Mr\", \"Mr\", \"Miss\", \"Mr\", \"Mrs\", \"Mr\", \"Mr\", \"Mrs\", \"Master\", \"Mrs\", \"Mrs\", \"Mr\", \"Mrs\", \"Mrs\", \"Mr\", \"Miss\", \"Mrs\", \"Mr\", \"Mr\", \"Miss\", \"Mr\", \"Mr\", \"Mrs\", \"Miss\", \"Miss\", \"Mr\", \"Mr\", \"Master\", \"Mr\", \"Mr\", \"Mrs\", \"Mrs\", \"Mr\", \"Miss\", \"Mr\", \"Mr\", \"Mr\", \"Master\", \"Mr\", \"Mrs\", \"Master\", \"Mr\", \"Mr\", \"Mrs\", \"Mr\", \"Mrs\", \"Mr\", \"Mr\", \"Miss\", \"Mr\", \"Miss\", \"Mr\", \"Mr\", \"Mr\", \"Mr\", \"Mr\", \"Miss\", \"Miss\", \"Miss\", \"Mrs\", \"Miss\", \"Mr\", \"Others\", \"Mr\", \"Mr\", \"Master\"], \"xaxis\": \"x\", \"yaxis\": \"y\"}],                        {\"barmode\": \"relative\", \"legend\": {\"title\": {\"text\": \"Survived\"}, \"tracegroupgap\": 0}, \"margin\": {\"t\": 60}, \"template\": {\"data\": {\"bar\": [{\"error_x\": {\"color\": \"#2a3f5f\"}, \"error_y\": {\"color\": \"#2a3f5f\"}, \"marker\": {\"line\": {\"color\": \"#E5ECF6\", \"width\": 0.5}}, \"type\": \"bar\"}], \"barpolar\": [{\"marker\": {\"line\": {\"color\": \"#E5ECF6\", \"width\": 0.5}}, \"type\": \"barpolar\"}], \"carpet\": [{\"aaxis\": {\"endlinecolor\": \"#2a3f5f\", \"gridcolor\": \"white\", \"linecolor\": \"white\", \"minorgridcolor\": \"white\", \"startlinecolor\": \"#2a3f5f\"}, \"baxis\": {\"endlinecolor\": \"#2a3f5f\", \"gridcolor\": \"white\", \"linecolor\": \"white\", \"minorgridcolor\": \"white\", \"startlinecolor\": \"#2a3f5f\"}, \"type\": \"carpet\"}], \"choropleth\": [{\"colorbar\": {\"outlinewidth\": 0, \"ticks\": \"\"}, \"type\": \"choropleth\"}], \"contour\": [{\"colorbar\": {\"outlinewidth\": 0, \"ticks\": \"\"}, \"colorscale\": [[0.0, \"#0d0887\"], [0.1111111111111111, \"#46039f\"], [0.2222222222222222, \"#7201a8\"], [0.3333333333333333, \"#9c179e\"], [0.4444444444444444, \"#bd3786\"], [0.5555555555555556, \"#d8576b\"], [0.6666666666666666, \"#ed7953\"], [0.7777777777777778, \"#fb9f3a\"], [0.8888888888888888, \"#fdca26\"], [1.0, \"#f0f921\"]], \"type\": \"contour\"}], \"contourcarpet\": [{\"colorbar\": {\"outlinewidth\": 0, \"ticks\": \"\"}, \"type\": \"contourcarpet\"}], \"heatmap\": [{\"colorbar\": {\"outlinewidth\": 0, \"ticks\": \"\"}, \"colorscale\": [[0.0, \"#0d0887\"], [0.1111111111111111, \"#46039f\"], [0.2222222222222222, \"#7201a8\"], [0.3333333333333333, \"#9c179e\"], [0.4444444444444444, \"#bd3786\"], [0.5555555555555556, \"#d8576b\"], [0.6666666666666666, \"#ed7953\"], [0.7777777777777778, \"#fb9f3a\"], [0.8888888888888888, \"#fdca26\"], [1.0, \"#f0f921\"]], \"type\": \"heatmap\"}], \"heatmapgl\": [{\"colorbar\": {\"outlinewidth\": 0, \"ticks\": \"\"}, \"colorscale\": [[0.0, \"#0d0887\"], [0.1111111111111111, \"#46039f\"], [0.2222222222222222, \"#7201a8\"], [0.3333333333333333, \"#9c179e\"], [0.4444444444444444, \"#bd3786\"], [0.5555555555555556, \"#d8576b\"], [0.6666666666666666, \"#ed7953\"], [0.7777777777777778, \"#fb9f3a\"], [0.8888888888888888, \"#fdca26\"], [1.0, \"#f0f921\"]], \"type\": \"heatmapgl\"}], \"histogram\": [{\"marker\": {\"colorbar\": {\"outlinewidth\": 0, \"ticks\": \"\"}}, \"type\": \"histogram\"}], \"histogram2d\": [{\"colorbar\": {\"outlinewidth\": 0, \"ticks\": \"\"}, \"colorscale\": [[0.0, \"#0d0887\"], [0.1111111111111111, \"#46039f\"], [0.2222222222222222, \"#7201a8\"], [0.3333333333333333, \"#9c179e\"], [0.4444444444444444, \"#bd3786\"], [0.5555555555555556, \"#d8576b\"], [0.6666666666666666, \"#ed7953\"], [0.7777777777777778, \"#fb9f3a\"], [0.8888888888888888, \"#fdca26\"], [1.0, \"#f0f921\"]], \"type\": \"histogram2d\"}], \"histogram2dcontour\": [{\"colorbar\": {\"outlinewidth\": 0, \"ticks\": \"\"}, \"colorscale\": [[0.0, \"#0d0887\"], [0.1111111111111111, \"#46039f\"], [0.2222222222222222, \"#7201a8\"], [0.3333333333333333, \"#9c179e\"], [0.4444444444444444, \"#bd3786\"], [0.5555555555555556, \"#d8576b\"], [0.6666666666666666, \"#ed7953\"], [0.7777777777777778, \"#fb9f3a\"], [0.8888888888888888, \"#fdca26\"], [1.0, \"#f0f921\"]], \"type\": \"histogram2dcontour\"}], \"mesh3d\": [{\"colorbar\": {\"outlinewidth\": 0, \"ticks\": \"\"}, \"type\": \"mesh3d\"}], \"parcoords\": [{\"line\": {\"colorbar\": {\"outlinewidth\": 0, \"ticks\": \"\"}}, \"type\": \"parcoords\"}], \"pie\": [{\"automargin\": true, \"type\": \"pie\"}], \"scatter\": [{\"marker\": {\"colorbar\": {\"outlinewidth\": 0, \"ticks\": \"\"}}, \"type\": \"scatter\"}], \"scatter3d\": [{\"line\": {\"colorbar\": {\"outlinewidth\": 0, \"ticks\": \"\"}}, \"marker\": {\"colorbar\": {\"outlinewidth\": 0, \"ticks\": \"\"}}, \"type\": \"scatter3d\"}], \"scattercarpet\": [{\"marker\": {\"colorbar\": {\"outlinewidth\": 0, \"ticks\": \"\"}}, \"type\": \"scattercarpet\"}], \"scattergeo\": [{\"marker\": {\"colorbar\": {\"outlinewidth\": 0, \"ticks\": \"\"}}, \"type\": \"scattergeo\"}], \"scattergl\": [{\"marker\": {\"colorbar\": {\"outlinewidth\": 0, \"ticks\": \"\"}}, \"type\": \"scattergl\"}], \"scattermapbox\": [{\"marker\": {\"colorbar\": {\"outlinewidth\": 0, \"ticks\": \"\"}}, \"type\": \"scattermapbox\"}], \"scatterpolar\": [{\"marker\": {\"colorbar\": {\"outlinewidth\": 0, \"ticks\": \"\"}}, \"type\": \"scatterpolar\"}], \"scatterpolargl\": [{\"marker\": {\"colorbar\": {\"outlinewidth\": 0, \"ticks\": \"\"}}, \"type\": \"scatterpolargl\"}], \"scatterternary\": [{\"marker\": {\"colorbar\": {\"outlinewidth\": 0, \"ticks\": \"\"}}, \"type\": \"scatterternary\"}], \"surface\": [{\"colorbar\": {\"outlinewidth\": 0, \"ticks\": \"\"}, \"colorscale\": [[0.0, \"#0d0887\"], [0.1111111111111111, \"#46039f\"], [0.2222222222222222, \"#7201a8\"], [0.3333333333333333, \"#9c179e\"], [0.4444444444444444, \"#bd3786\"], [0.5555555555555556, \"#d8576b\"], [0.6666666666666666, \"#ed7953\"], [0.7777777777777778, \"#fb9f3a\"], [0.8888888888888888, \"#fdca26\"], [1.0, \"#f0f921\"]], \"type\": \"surface\"}], \"table\": [{\"cells\": {\"fill\": {\"color\": \"#EBF0F8\"}, \"line\": {\"color\": \"white\"}}, \"header\": {\"fill\": {\"color\": \"#C8D4E3\"}, \"line\": {\"color\": \"white\"}}, \"type\": \"table\"}]}, \"layout\": {\"annotationdefaults\": {\"arrowcolor\": \"#2a3f5f\", \"arrowhead\": 0, \"arrowwidth\": 1}, \"autotypenumbers\": \"strict\", \"coloraxis\": {\"colorbar\": {\"outlinewidth\": 0, \"ticks\": \"\"}}, \"colorscale\": {\"diverging\": [[0, \"#8e0152\"], [0.1, \"#c51b7d\"], [0.2, \"#de77ae\"], [0.3, \"#f1b6da\"], [0.4, \"#fde0ef\"], [0.5, \"#f7f7f7\"], [0.6, \"#e6f5d0\"], [0.7, \"#b8e186\"], [0.8, \"#7fbc41\"], [0.9, \"#4d9221\"], [1, \"#276419\"]], \"sequential\": [[0.0, \"#0d0887\"], [0.1111111111111111, \"#46039f\"], [0.2222222222222222, \"#7201a8\"], [0.3333333333333333, \"#9c179e\"], [0.4444444444444444, \"#bd3786\"], [0.5555555555555556, \"#d8576b\"], [0.6666666666666666, \"#ed7953\"], [0.7777777777777778, \"#fb9f3a\"], [0.8888888888888888, \"#fdca26\"], [1.0, \"#f0f921\"]], \"sequentialminus\": [[0.0, \"#0d0887\"], [0.1111111111111111, \"#46039f\"], [0.2222222222222222, \"#7201a8\"], [0.3333333333333333, \"#9c179e\"], [0.4444444444444444, \"#bd3786\"], [0.5555555555555556, \"#d8576b\"], [0.6666666666666666, \"#ed7953\"], [0.7777777777777778, \"#fb9f3a\"], [0.8888888888888888, \"#fdca26\"], [1.0, \"#f0f921\"]]}, \"colorway\": [\"#636efa\", \"#EF553B\", \"#00cc96\", \"#ab63fa\", \"#FFA15A\", \"#19d3f3\", \"#FF6692\", \"#B6E880\", \"#FF97FF\", \"#FECB52\"], \"font\": {\"color\": \"#2a3f5f\"}, \"geo\": {\"bgcolor\": \"white\", \"lakecolor\": \"white\", \"landcolor\": \"#E5ECF6\", \"showlakes\": true, \"showland\": true, \"subunitcolor\": \"white\"}, \"hoverlabel\": {\"align\": \"left\"}, \"hovermode\": \"closest\", \"mapbox\": {\"style\": \"light\"}, \"paper_bgcolor\": \"white\", \"plot_bgcolor\": \"#E5ECF6\", \"polar\": {\"angularaxis\": {\"gridcolor\": \"white\", \"linecolor\": \"white\", \"ticks\": \"\"}, \"bgcolor\": \"#E5ECF6\", \"radialaxis\": {\"gridcolor\": \"white\", \"linecolor\": \"white\", \"ticks\": \"\"}}, \"scene\": {\"xaxis\": {\"backgroundcolor\": \"#E5ECF6\", \"gridcolor\": \"white\", \"gridwidth\": 2, \"linecolor\": \"white\", \"showbackground\": true, \"ticks\": \"\", \"zerolinecolor\": \"white\"}, \"yaxis\": {\"backgroundcolor\": \"#E5ECF6\", \"gridcolor\": \"white\", \"gridwidth\": 2, \"linecolor\": \"white\", \"showbackground\": true, \"ticks\": \"\", \"zerolinecolor\": \"white\"}, \"zaxis\": {\"backgroundcolor\": \"#E5ECF6\", \"gridcolor\": \"white\", \"gridwidth\": 2, \"linecolor\": \"white\", \"showbackground\": true, \"ticks\": \"\", \"zerolinecolor\": \"white\"}}, \"shapedefaults\": {\"line\": {\"color\": \"#2a3f5f\"}}, \"ternary\": {\"aaxis\": {\"gridcolor\": \"white\", \"linecolor\": \"white\", \"ticks\": \"\"}, \"baxis\": {\"gridcolor\": \"white\", \"linecolor\": \"white\", \"ticks\": \"\"}, \"bgcolor\": \"#E5ECF6\", \"caxis\": {\"gridcolor\": \"white\", \"linecolor\": \"white\", \"ticks\": \"\"}}, \"title\": {\"x\": 0.05}, \"xaxis\": {\"automargin\": true, \"gridcolor\": \"white\", \"linecolor\": \"white\", \"ticks\": \"\", \"title\": {\"standoff\": 15}, \"zerolinecolor\": \"white\", \"zerolinewidth\": 2}, \"yaxis\": {\"automargin\": true, \"gridcolor\": \"white\", \"linecolor\": \"white\", \"ticks\": \"\", \"title\": {\"standoff\": 15}, \"zerolinecolor\": \"white\", \"zerolinewidth\": 2}}}, \"xaxis\": {\"anchor\": \"y\", \"domain\": [0.0, 1.0], \"title\": {\"text\": \"Title\"}}, \"yaxis\": {\"anchor\": \"x\", \"domain\": [0.0, 1.0], \"title\": {\"text\": \"count\"}}},                        {\"responsive\": true}                    ).then(function(){\n",
       "                            \n",
       "var gd = document.getElementById('158ab94d-e2f9-4db2-b78a-f5a8d9fc7f8e');\n",
       "var x = new MutationObserver(function (mutations, observer) {{\n",
       "        var display = window.getComputedStyle(gd).display;\n",
       "        if (!display || display === 'none') {{\n",
       "            console.log([gd, 'removed!']);\n",
       "            Plotly.purge(gd);\n",
       "            observer.disconnect();\n",
       "        }}\n",
       "}});\n",
       "\n",
       "// Listen for the removal of the full notebook cells\n",
       "var notebookContainer = gd.closest('#notebook-container');\n",
       "if (notebookContainer) {{\n",
       "    x.observe(notebookContainer, {childList: true});\n",
       "}}\n",
       "\n",
       "// Listen for the clearing of the current output cell\n",
       "var outputEl = gd.closest('.output');\n",
       "if (outputEl) {{\n",
       "    x.observe(outputEl, {childList: true});\n",
       "}}\n",
       "\n",
       "                        })                };                });            </script>        </div>"
      ]
     },
     "metadata": {},
     "output_type": "display_data"
    }
   ],
   "source": [
    "dfplt = df.copy(deep=True)\n",
    "dfplt[\"Survived\"] = dfplt[\"Survived\"].astype(str)\n",
    "fig = px.histogram(dfplt, x=\"Title\",color=\"Survived\",color_discrete_sequence=cm)\n",
    "fig.show()"
   ]
  },
  {
   "cell_type": "markdown",
   "metadata": {
    "_cell_guid": "5fba8bba-9bce-4eb2-9b87-888323796a97",
    "_uuid": "42ae9525-34b5-4777-b88a-a17cd0c1e462",
    "papermill": {
     "duration": 0.075459,
     "end_time": "2022-07-11T06:08:21.215432",
     "exception": false,
     "start_time": "2022-07-11T06:08:21.139973",
     "status": "completed"
    },
    "tags": []
   },
   "source": [
    "### <a class=\"anchor\" id=\"1.3.2_bullet\" style=\"color:#3B61A3\">  1.3.2 Parch and Age\n",
    "This features may have crucial effect on the target. Parants was saving there children befor them, and many other connections may be inside of the just two attributes"
   ]
  },
  {
   "cell_type": "code",
   "execution_count": 32,
   "metadata": {
    "_cell_guid": "53a9ecd8-aa07-44dd-a240-bc03ec665cfa",
    "_uuid": "d1d27d28-5021-44fc-84c2-581495bb1beb",
    "collapsed": false,
    "execution": {
     "iopub.execute_input": "2022-07-11T06:08:21.371627Z",
     "iopub.status.busy": "2022-07-11T06:08:21.370891Z",
     "iopub.status.idle": "2022-07-11T06:08:21.445694Z",
     "shell.execute_reply": "2022-07-11T06:08:21.445082Z"
    },
    "jupyter": {
     "outputs_hidden": false
    },
    "papermill": {
     "duration": 0.153241,
     "end_time": "2022-07-11T06:08:21.445833",
     "exception": false,
     "start_time": "2022-07-11T06:08:21.292592",
     "status": "completed"
    },
    "tags": []
   },
   "outputs": [
    {
     "data": {
      "text/html": [
       "<div>                            <div id=\"c7e883ad-c4ec-41f5-a07e-6dd10aff9cd5\" class=\"plotly-graph-div\" style=\"height:500px; width:1200px;\"></div>            <script type=\"text/javascript\">                require([\"plotly\"], function(Plotly) {                    window.PLOTLYENV=window.PLOTLYENV || {};                                    if (document.getElementById(\"c7e883ad-c4ec-41f5-a07e-6dd10aff9cd5\")) {                    Plotly.newPlot(                        \"c7e883ad-c4ec-41f5-a07e-6dd10aff9cd5\",                        [{\"hovertemplate\": \"Survived=0.0<br>Age=%{x}<br>Parch=%{y}<extra></extra>\", \"legendgroup\": \"0.0\", \"marker\": {\"color\": \"#273176\", \"symbol\": \"circle\"}, \"mode\": \"markers\", \"name\": \"0.0\", \"orientation\": \"v\", \"showlegend\": true, \"type\": \"scatter\", \"x\": [22.0, 35.0, null, 54.0, 2.0, 20.0, 39.0, 14.0, 2.0, 31.0, 35.0, 8.0, null, 19.0, null, 40.0, 66.0, 28.0, 42.0, 21.0, 18.0, 40.0, 27.0, null, null, null, null, 18.0, 7.0, 21.0, 65.0, 28.5, 11.0, 22.0, 45.0, 4.0, null, 19.0, 26.0, 32.0, 16.0, 21.0, 26.0, 25.0, null, null, 22.0, 28.0, 16.0, null, 24.0, 29.0, 20.0, 46.0, 26.0, 59.0, null, 71.0, 34.0, 28.0, null, 21.0, 33.0, 37.0, 28.0, 38.0, 47.0, 14.5, 22.0, 20.0, 17.0, 21.0, 70.5, 29.0, 24.0, 2.0, 21.0, null, 32.5, 54.0, null, 45.0, 33.0, 20.0, 47.0, 25.0, 23.0, 37.0, 16.0, 24.0, null, 19.0, 18.0, 19.0, 9.0, 36.5, 42.0, 51.0, 55.5, 40.5, null, 51.0, 30.0, null, null, 44.0, 26.0, 17.0, 1.0, 45.0, null, 28.0, 61.0, 4.0, 21.0, 56.0, 18.0, null, 50.0, 30.0, 36.0, null, null, 9.0, null, 40.0, 36.0, 19.0, null, 42.0, 24.0, 28.0, null, 34.0, 45.5, 2.0, 32.0, 24.0, 22.0, 30.0, null, 42.0, 30.0, 27.0, 51.0, null, 22.0, 20.5, 18.0, null, 29.0, 59.0, 24.0, null, 44.0, 19.0, 33.0, null, 29.0, 22.0, 30.0, 44.0, 25.0, 54.0, null, 29.0, 62.0, 30.0, 41.0, null, 52.0, 40.0, null, 36.0, 16.0, null, 37.0, 45.0, null, 7.0, 65.0, 28.0, 16.0, null, 33.0, 22.0, 36.0, 24.0, 24.0, null, 23.5, 2.0, 19.0, null, 30.0, 26.0, 28.0, 43.0, 54.0, 22.0, 27.0, null, 61.0, 45.5, 38.0, 16.0, null, 29.0, 45.0, 28.0, 25.0, 36.0, 42.0, 23.0, null, 15.0, 25.0, null, 28.0, 38.0, 40.0, 29.0, 45.0, 35.0, null, 30.0, 18.0, 19.0, 22.0, 3.0, 27.0, 20.0, 19.0, 32.0, null, 18.0, 1.0, null, 28.0, 22.0, 31.0, 46.0, 23.0, 26.0, 21.0, 28.0, 20.0, 34.0, 51.0, 21.0, null, null, null, null, null, 30.0, 10.0, null, 21.0, 29.0, 28.0, 18.0, null, null, 17.0, 50.0, 21.0, 64.0, 31.0, 20.0, 25.0, 36.0, null, 30.0, null, 65.0, null, 34.0, 47.0, 48.0, null, 38.0, null, 56.0, null, null, 38.0, 22.0, null, 34.0, 29.0, 22.0, 9.0, null, 50.0, null, 58.0, 30.0, null, 21.0, 55.0, 71.0, 21.0, null, null, 25.0, 24.0, 17.0, 21.0, null, 37.0, 18.0, 28.0, null, 24.0, 47.0, null, 32.0, 22.0, null, null, 40.5, null, 39.0, 23.0, null, 17.0, 30.0, 45.0, null, 9.0, 11.0, 50.0, 64.0, 33.0, 27.0, null, 62.0, null, null, 40.0, 28.0, null, null, 24.0, 19.0, 29.0, null, 16.0, 19.0, null, 54.0, 36.0, null, 47.0, 22.0, null, 35.0, 47.0, null, 37.0, 36.0, 49.0, null, null, null, 44.0, 36.0, 30.0, 39.0, null, null, 35.0, 34.0, 26.0, 26.0, 27.0, 21.0, 21.0, 61.0, 57.0, 26.0, null, 51.0, null, 9.0, 32.0, 31.0, 41.0, null, 20.0, 2.0, 19.0, null, null, 21.0, 18.0, 24.0, null, 32.0, 23.0, 58.0, 40.0, 47.0, 36.0, 32.0, 25.0, null, 43.0, 31.0, 70.0, null, 18.0, 24.5, 43.0, null, 20.0, 14.0, 60.0, 25.0, 14.0, 19.0, 18.0, 25.0, 60.0, 52.0, 44.0, 49.0, 42.0, 18.0, 25.0, 26.0, 39.0, null, 29.0, 52.0, 19.0, null, 33.0, 17.0, 34.0, 50.0, 20.0, 25.0, 25.0, 11.0, null, 23.0, 23.0, 28.5, 48.0, null, null, 36.0, 24.0, 70.0, 16.0, 19.0, 31.0, 33.0, 23.0, 28.0, 18.0, 34.0, null, 41.0, 16.0, null, 30.5, null, 32.0, 24.0, 48.0, 57.0, null, 18.0, null, null, 29.0, null, 25.0, 25.0, 8.0, 46.0, null, 16.0, null, null, 25.0, 39.0, 30.0, 30.0, 34.0, 31.0, 39.0, 18.0, 39.0, 26.0, 39.0, 35.0, 6.0, 30.5, null, 23.0, 31.0, 43.0, 10.0, 38.0, 2.0, null, null, null, 23.0, 18.0, 21.0, null, 20.0, 16.0, 34.5, 17.0, 42.0, null, 35.0, 28.0, 4.0, 74.0, 9.0, 44.0, null, 41.0, 21.0, null, 24.0, 31.0, null, 26.0, 33.0, 47.0, 20.0, 19.0, null, 33.0, 22.0, 28.0, 25.0, 39.0, 27.0, null, 32.0], \"xaxis\": \"x\", \"y\": [0, 0, 0, 0, 1, 0, 5, 0, 1, 0, 0, 1, 0, 2, 0, 0, 0, 0, 0, 0, 0, 0, 0, 0, 0, 0, 0, 0, 1, 0, 1, 0, 2, 0, 0, 2, 0, 0, 0, 0, 2, 0, 0, 0, 0, 0, 0, 0, 3, 0, 0, 0, 0, 0, 2, 0, 0, 0, 0, 0, 0, 1, 0, 0, 0, 0, 0, 0, 0, 0, 0, 0, 0, 0, 1, 2, 0, 0, 0, 1, 0, 0, 0, 0, 0, 0, 0, 0, 0, 0, 2, 0, 0, 1, 2, 2, 0, 0, 0, 2, 0, 1, 0, 0, 2, 1, 0, 0, 1, 4, 0, 0, 0, 1, 0, 0, 1, 1, 0, 0, 0, 2, 0, 2, 0, 1, 0, 0, 0, 1, 0, 0, 2, 0, 0, 1, 0, 0, 0, 0, 0, 0, 0, 0, 0, 0, 0, 0, 0, 1, 0, 0, 0, 0, 0, 0, 0, 0, 0, 0, 0, 0, 0, 0, 0, 1, 0, 0, 2, 0, 1, 0, 0, 0, 1, 0, 1, 0, 0, 1, 0, 0, 0, 0, 0, 0, 0, 0, 0, 0, 0, 2, 0, 0, 0, 1, 0, 1, 0, 0, 0, 2, 0, 0, 1, 0, 0, 0, 0, 0, 0, 0, 0, 0, 0, 1, 0, 0, 0, 0, 4, 0, 1, 0, 0, 0, 0, 0, 0, 1, 2, 0, 0, 0, 0, 0, 2, 0, 0, 0, 0, 0, 0, 0, 0, 0, 0, 0, 0, 0, 1, 0, 0, 0, 0, 0, 2, 0, 0, 0, 1, 1, 0, 0, 0, 0, 2, 4, 0, 0, 0, 2, 0, 0, 0, 0, 0, 0, 0, 0, 0, 0, 0, 0, 0, 0, 0, 0, 0, 0, 0, 0, 2, 0, 0, 1, 0, 0, 0, 0, 0, 0, 0, 0, 0, 2, 0, 0, 0, 0, 0, 0, 0, 0, 0, 0, 0, 0, 0, 0, 0, 0, 0, 0, 1, 0, 1, 0, 0, 0, 2, 2, 0, 0, 1, 0, 0, 0, 0, 0, 0, 0, 0, 0, 0, 0, 4, 0, 0, 0, 0, 0, 0, 0, 0, 0, 0, 0, 0, 2, 0, 1, 0, 0, 0, 0, 0, 0, 0, 5, 0, 0, 0, 1, 0, 0, 0, 0, 0, 0, 0, 0, 0, 0, 0, 2, 0, 1, 5, 0, 0, 2, 0, 0, 0, 0, 0, 0, 0, 1, 0, 2, 0, 0, 0, 0, 0, 0, 0, 0, 0, 0, 0, 0, 6, 0, 0, 2, 1, 2, 1, 0, 0, 0, 0, 0, 0, 1, 0, 1, 0, 0, 0, 0, 0, 0, 0, 0, 0, 0, 0, 0, 0, 0, 0, 0, 0, 0, 0, 0, 3, 0, 0, 0, 0, 1, 1, 0, 0, 0, 0, 0, 0, 0, 0, 0, 0, 0, 0, 0, 0, 0, 0, 0, 0, 0, 0, 0, 0, 2, 0, 0, 1, 0, 0, 0, 2, 0, 0, 0, 0, 1, 0, 0, 0, 0, 0, 0, 0, 0, 2, 0, 0, 0, 1, 0, 2, 0, 1, 0, 0, 0, 0, 0, 0, 0, 0, 0, 0, 0, 0, 2, 0, 1, 2, 0, 1, 0, 0, 0, 0, 2, 0, 0, 0, 0, 0, 0, 0, 0, 0, 0, 0, 0, 0, 5, 0, 2, 0], \"yaxis\": \"y\"}, {\"hovertemplate\": \"Survived=1.0<br>Age=%{x}<br>Parch=%{y}<extra></extra>\", \"legendgroup\": \"1.0\", \"marker\": {\"color\": \"#3B61A3\", \"symbol\": \"circle\"}, \"mode\": \"markers\", \"name\": \"1.0\", \"orientation\": \"v\", \"showlegend\": true, \"type\": \"scatter\", \"x\": [38.0, 26.0, 35.0, 27.0, 14.0, 4.0, 58.0, 55.0, null, null, 34.0, 15.0, 28.0, 38.0, null, null, null, null, 14.0, 3.0, 19.0, null, 49.0, 29.0, null, 21.0, 5.0, 38.0, null, 29.0, 17.0, 32.0, 0.83, 30.0, 29.0, null, 17.0, 33.0, 23.0, 23.0, 34.0, 21.0, null, null, 32.5, 12.0, 24.0, null, 29.0, 19.0, 22.0, 24.0, 27.0, 22.0, 16.0, 40.0, 9.0, null, 1.0, 1.0, 4.0, null, 45.0, 32.0, 19.0, 3.0, 44.0, 58.0, null, 18.0, 26.0, 16.0, 40.0, 35.0, 31.0, 27.0, 32.0, 16.0, 38.0, 19.0, 35.0, 5.0, 8.0, null, 24.0, 37.0, 29.0, null, 30.0, 35.0, 50.0, 3.0, 25.0, 58.0, 35.0, 25.0, 41.0, null, 63.0, 35.0, 19.0, 30.0, 42.0, 22.0, 26.0, 19.0, null, 50.0, null, null, null, 0.92, null, 17.0, 30.0, 24.0, 18.0, 26.0, 24.0, 31.0, 40.0, 30.0, 22.0, 36.0, 36.0, 31.0, 16.0, null, null, 41.0, 45.0, 2.0, 24.0, 24.0, 40.0, null, 3.0, 22.0, null, null, 60.0, null, null, 24.0, 25.0, null, 22.0, 42.0, 1.0, 35.0, 36.0, 17.0, 36.0, 21.0, 23.0, 24.0, 28.0, 39.0, 3.0, 33.0, 44.0, 34.0, 18.0, 28.0, 19.0, 32.0, 28.0, null, 42.0, 14.0, 24.0, 45.0, 28.0, null, 4.0, 13.0, 34.0, 5.0, 52.0, 49.0, 29.0, null, 50.0, 48.0, 0.75, 33.0, 23.0, 2.0, 63.0, 25.0, 35.0, 9.0, 54.0, 16.0, 33.0, null, 26.0, 29.0, 36.0, 54.0, 34.0, 36.0, 30.0, 44.0, 50.0, 2.0, null, 7.0, 30.0, 22.0, 36.0, 32.0, 19.0, null, 8.0, 17.0, 22.0, 22.0, 48.0, 39.0, 36.0, 32.0, 62.0, 53.0, 36.0, null, 34.0, 39.0, 32.0, 25.0, 39.0, 18.0, 60.0, 52.0, null, 49.0, 24.0, 35.0, 27.0, 22.0, 40.0, null, 24.0, 4.0, 42.0, 20.0, 21.0, 80.0, 32.0, 28.0, 24.0, null, 0.75, 48.0, 56.0, 23.0, 18.0, null, 50.0, 20.0, null, 40.0, 31.0, 18.0, 36.0, 27.0, 15.0, 31.0, 4.0, null, null, 18.0, 35.0, 45.0, 42.0, 22.0, null, 24.0, 48.0, 38.0, 27.0, 6.0, 27.0, 30.0, null, 29.0, 35.0, null, 21.0, 31.0, 30.0, 4.0, 6.0, 48.0, 0.67, 33.0, 20.0, 36.0, 51.0, 54.0, 5.0, 43.0, 13.0, 17.0, 18.0, 1.0, 49.0, 31.0, 31.0, 11.0, 0.42, 27.0, 33.0, 52.0, 27.0, 27.0, 1.0, null, 62.0, 15.0, 0.83, 39.0, 32.0, null, 30.0, null, 16.0, 18.0, 45.0, 51.0, 24.0, 48.0, 42.0, 27.0, 4.0, 47.0, 28.0, 15.0, 56.0, 25.0, 19.0, 26.0], \"xaxis\": \"x\", \"y\": [0, 0, 0, 2, 0, 1, 0, 0, 0, 0, 0, 0, 0, 5, 0, 0, 0, 0, 0, 2, 0, 0, 0, 0, 0, 0, 2, 0, 1, 0, 2, 0, 2, 0, 0, 0, 0, 0, 2, 1, 1, 0, 0, 0, 0, 0, 0, 1, 0, 2, 0, 0, 0, 0, 0, 0, 2, 1, 1, 1, 2, 0, 0, 0, 0, 1, 0, 0, 0, 0, 0, 0, 0, 0, 0, 0, 0, 0, 0, 0, 0, 2, 2, 0, 2, 1, 2, 0, 0, 0, 1, 2, 0, 1, 0, 0, 1, 0, 0, 1, 0, 0, 0, 0, 0, 0, 0, 1, 0, 0, 0, 2, 0, 0, 0, 0, 2, 0, 0, 2, 1, 0, 1, 0, 0, 1, 1, 0, 0, 0, 0, 1, 2, 0, 0, 0, 1, 1, 0, 0, 0, 0, 0, 0, 0, 0, 0, 0, 2, 0, 0, 0, 2, 0, 0, 2, 0, 0, 1, 0, 0, 1, 2, 0, 0, 0, 0, 0, 0, 2, 3, 1, 0, 0, 2, 1, 0, 1, 0, 0, 0, 0, 0, 0, 1, 2, 0, 1, 0, 0, 0, 1, 0, 0, 2, 0, 0, 0, 0, 0, 0, 0, 0, 1, 0, 1, 2, 2, 0, 2, 2, 0, 0, 0, 1, 2, 0, 0, 0, 1, 0, 0, 0, 0, 0, 0, 0, 0, 0, 1, 1, 2, 1, 0, 0, 0, 1, 0, 0, 2, 0, 0, 2, 1, 0, 1, 0, 0, 0, 0, 0, 0, 1, 0, 0, 0, 1, 0, 0, 0, 0, 1, 0, 0, 1, 0, 1, 0, 1, 0, 0, 0, 0, 0, 0, 0, 1, 0, 0, 0, 0, 1, 0, 0, 0, 0, 0, 0, 2, 0, 0, 1, 1, 2, 1, 0, 0, 2, 0, 3, 0, 1, 0, 0, 0, 2, 0, 0, 1, 2, 1, 0, 0, 1, 0, 1, 2, 0, 0, 0, 1, 1, 0, 0, 0, 0, 1, 1, 1, 0, 3, 0, 0, 0, 1, 1, 0, 0, 1, 1, 0, 0], \"yaxis\": \"y\"}],                        {\"height\": 500, \"legend\": {\"title\": {\"text\": \"Survived\"}, \"tracegroupgap\": 0}, \"margin\": {\"t\": 60}, \"template\": {\"data\": {\"bar\": [{\"error_x\": {\"color\": \"#2a3f5f\"}, \"error_y\": {\"color\": \"#2a3f5f\"}, \"marker\": {\"line\": {\"color\": \"#E5ECF6\", \"width\": 0.5}}, \"type\": \"bar\"}], \"barpolar\": [{\"marker\": {\"line\": {\"color\": \"#E5ECF6\", \"width\": 0.5}}, \"type\": \"barpolar\"}], \"carpet\": [{\"aaxis\": {\"endlinecolor\": \"#2a3f5f\", \"gridcolor\": \"white\", \"linecolor\": \"white\", \"minorgridcolor\": \"white\", \"startlinecolor\": \"#2a3f5f\"}, \"baxis\": {\"endlinecolor\": \"#2a3f5f\", \"gridcolor\": \"white\", \"linecolor\": \"white\", \"minorgridcolor\": \"white\", \"startlinecolor\": \"#2a3f5f\"}, \"type\": \"carpet\"}], \"choropleth\": [{\"colorbar\": {\"outlinewidth\": 0, \"ticks\": \"\"}, \"type\": \"choropleth\"}], \"contour\": [{\"colorbar\": {\"outlinewidth\": 0, \"ticks\": \"\"}, \"colorscale\": [[0.0, \"#0d0887\"], [0.1111111111111111, \"#46039f\"], [0.2222222222222222, \"#7201a8\"], [0.3333333333333333, \"#9c179e\"], [0.4444444444444444, \"#bd3786\"], [0.5555555555555556, \"#d8576b\"], [0.6666666666666666, \"#ed7953\"], [0.7777777777777778, \"#fb9f3a\"], [0.8888888888888888, \"#fdca26\"], [1.0, \"#f0f921\"]], \"type\": \"contour\"}], \"contourcarpet\": [{\"colorbar\": {\"outlinewidth\": 0, \"ticks\": \"\"}, \"type\": \"contourcarpet\"}], \"heatmap\": [{\"colorbar\": {\"outlinewidth\": 0, \"ticks\": \"\"}, \"colorscale\": [[0.0, \"#0d0887\"], [0.1111111111111111, \"#46039f\"], [0.2222222222222222, \"#7201a8\"], [0.3333333333333333, \"#9c179e\"], [0.4444444444444444, \"#bd3786\"], [0.5555555555555556, \"#d8576b\"], [0.6666666666666666, \"#ed7953\"], [0.7777777777777778, \"#fb9f3a\"], [0.8888888888888888, \"#fdca26\"], [1.0, \"#f0f921\"]], \"type\": \"heatmap\"}], \"heatmapgl\": [{\"colorbar\": {\"outlinewidth\": 0, \"ticks\": \"\"}, \"colorscale\": [[0.0, \"#0d0887\"], [0.1111111111111111, \"#46039f\"], [0.2222222222222222, \"#7201a8\"], [0.3333333333333333, \"#9c179e\"], [0.4444444444444444, \"#bd3786\"], [0.5555555555555556, \"#d8576b\"], [0.6666666666666666, \"#ed7953\"], [0.7777777777777778, \"#fb9f3a\"], [0.8888888888888888, \"#fdca26\"], [1.0, \"#f0f921\"]], \"type\": \"heatmapgl\"}], \"histogram\": [{\"marker\": {\"colorbar\": {\"outlinewidth\": 0, \"ticks\": \"\"}}, \"type\": \"histogram\"}], \"histogram2d\": [{\"colorbar\": {\"outlinewidth\": 0, \"ticks\": \"\"}, \"colorscale\": [[0.0, \"#0d0887\"], [0.1111111111111111, \"#46039f\"], [0.2222222222222222, \"#7201a8\"], [0.3333333333333333, \"#9c179e\"], [0.4444444444444444, \"#bd3786\"], [0.5555555555555556, \"#d8576b\"], [0.6666666666666666, \"#ed7953\"], [0.7777777777777778, \"#fb9f3a\"], [0.8888888888888888, \"#fdca26\"], [1.0, \"#f0f921\"]], \"type\": \"histogram2d\"}], \"histogram2dcontour\": [{\"colorbar\": {\"outlinewidth\": 0, \"ticks\": \"\"}, \"colorscale\": [[0.0, \"#0d0887\"], [0.1111111111111111, \"#46039f\"], [0.2222222222222222, \"#7201a8\"], [0.3333333333333333, \"#9c179e\"], [0.4444444444444444, \"#bd3786\"], [0.5555555555555556, \"#d8576b\"], [0.6666666666666666, \"#ed7953\"], [0.7777777777777778, \"#fb9f3a\"], [0.8888888888888888, \"#fdca26\"], [1.0, \"#f0f921\"]], \"type\": \"histogram2dcontour\"}], \"mesh3d\": [{\"colorbar\": {\"outlinewidth\": 0, \"ticks\": \"\"}, \"type\": \"mesh3d\"}], \"parcoords\": [{\"line\": {\"colorbar\": {\"outlinewidth\": 0, \"ticks\": \"\"}}, \"type\": \"parcoords\"}], \"pie\": [{\"automargin\": true, \"type\": \"pie\"}], \"scatter\": [{\"marker\": {\"colorbar\": {\"outlinewidth\": 0, \"ticks\": \"\"}}, \"type\": \"scatter\"}], \"scatter3d\": [{\"line\": {\"colorbar\": {\"outlinewidth\": 0, \"ticks\": \"\"}}, \"marker\": {\"colorbar\": {\"outlinewidth\": 0, \"ticks\": \"\"}}, \"type\": \"scatter3d\"}], \"scattercarpet\": [{\"marker\": {\"colorbar\": {\"outlinewidth\": 0, \"ticks\": \"\"}}, \"type\": \"scattercarpet\"}], \"scattergeo\": [{\"marker\": {\"colorbar\": {\"outlinewidth\": 0, \"ticks\": \"\"}}, \"type\": \"scattergeo\"}], \"scattergl\": [{\"marker\": {\"colorbar\": {\"outlinewidth\": 0, \"ticks\": \"\"}}, \"type\": \"scattergl\"}], \"scattermapbox\": [{\"marker\": {\"colorbar\": {\"outlinewidth\": 0, \"ticks\": \"\"}}, \"type\": \"scattermapbox\"}], \"scatterpolar\": [{\"marker\": {\"colorbar\": {\"outlinewidth\": 0, \"ticks\": \"\"}}, \"type\": \"scatterpolar\"}], \"scatterpolargl\": [{\"marker\": {\"colorbar\": {\"outlinewidth\": 0, \"ticks\": \"\"}}, \"type\": \"scatterpolargl\"}], \"scatterternary\": [{\"marker\": {\"colorbar\": {\"outlinewidth\": 0, \"ticks\": \"\"}}, \"type\": \"scatterternary\"}], \"surface\": [{\"colorbar\": {\"outlinewidth\": 0, \"ticks\": \"\"}, \"colorscale\": [[0.0, \"#0d0887\"], [0.1111111111111111, \"#46039f\"], [0.2222222222222222, \"#7201a8\"], [0.3333333333333333, \"#9c179e\"], [0.4444444444444444, \"#bd3786\"], [0.5555555555555556, \"#d8576b\"], [0.6666666666666666, \"#ed7953\"], [0.7777777777777778, \"#fb9f3a\"], [0.8888888888888888, \"#fdca26\"], [1.0, \"#f0f921\"]], \"type\": \"surface\"}], \"table\": [{\"cells\": {\"fill\": {\"color\": \"#EBF0F8\"}, \"line\": {\"color\": \"white\"}}, \"header\": {\"fill\": {\"color\": \"#C8D4E3\"}, \"line\": {\"color\": \"white\"}}, \"type\": \"table\"}]}, \"layout\": {\"annotationdefaults\": {\"arrowcolor\": \"#2a3f5f\", \"arrowhead\": 0, \"arrowwidth\": 1}, \"autotypenumbers\": \"strict\", \"coloraxis\": {\"colorbar\": {\"outlinewidth\": 0, \"ticks\": \"\"}}, \"colorscale\": {\"diverging\": [[0, \"#8e0152\"], [0.1, \"#c51b7d\"], [0.2, \"#de77ae\"], [0.3, \"#f1b6da\"], [0.4, \"#fde0ef\"], [0.5, \"#f7f7f7\"], [0.6, \"#e6f5d0\"], [0.7, \"#b8e186\"], [0.8, \"#7fbc41\"], [0.9, \"#4d9221\"], [1, \"#276419\"]], \"sequential\": [[0.0, \"#0d0887\"], [0.1111111111111111, \"#46039f\"], [0.2222222222222222, \"#7201a8\"], [0.3333333333333333, \"#9c179e\"], [0.4444444444444444, \"#bd3786\"], [0.5555555555555556, \"#d8576b\"], [0.6666666666666666, \"#ed7953\"], [0.7777777777777778, \"#fb9f3a\"], [0.8888888888888888, \"#fdca26\"], [1.0, \"#f0f921\"]], \"sequentialminus\": [[0.0, \"#0d0887\"], [0.1111111111111111, \"#46039f\"], [0.2222222222222222, \"#7201a8\"], [0.3333333333333333, \"#9c179e\"], [0.4444444444444444, \"#bd3786\"], [0.5555555555555556, \"#d8576b\"], [0.6666666666666666, \"#ed7953\"], [0.7777777777777778, \"#fb9f3a\"], [0.8888888888888888, \"#fdca26\"], [1.0, \"#f0f921\"]]}, \"colorway\": [\"#636efa\", \"#EF553B\", \"#00cc96\", \"#ab63fa\", \"#FFA15A\", \"#19d3f3\", \"#FF6692\", \"#B6E880\", \"#FF97FF\", \"#FECB52\"], \"font\": {\"color\": \"#2a3f5f\"}, \"geo\": {\"bgcolor\": \"white\", \"lakecolor\": \"white\", \"landcolor\": \"#E5ECF6\", \"showlakes\": true, \"showland\": true, \"subunitcolor\": \"white\"}, \"hoverlabel\": {\"align\": \"left\"}, \"hovermode\": \"closest\", \"mapbox\": {\"style\": \"light\"}, \"paper_bgcolor\": \"white\", \"plot_bgcolor\": \"#E5ECF6\", \"polar\": {\"angularaxis\": {\"gridcolor\": \"white\", \"linecolor\": \"white\", \"ticks\": \"\"}, \"bgcolor\": \"#E5ECF6\", \"radialaxis\": {\"gridcolor\": \"white\", \"linecolor\": \"white\", \"ticks\": \"\"}}, \"scene\": {\"xaxis\": {\"backgroundcolor\": \"#E5ECF6\", \"gridcolor\": \"white\", \"gridwidth\": 2, \"linecolor\": \"white\", \"showbackground\": true, \"ticks\": \"\", \"zerolinecolor\": \"white\"}, \"yaxis\": {\"backgroundcolor\": \"#E5ECF6\", \"gridcolor\": \"white\", \"gridwidth\": 2, \"linecolor\": \"white\", \"showbackground\": true, \"ticks\": \"\", \"zerolinecolor\": \"white\"}, \"zaxis\": {\"backgroundcolor\": \"#E5ECF6\", \"gridcolor\": \"white\", \"gridwidth\": 2, \"linecolor\": \"white\", \"showbackground\": true, \"ticks\": \"\", \"zerolinecolor\": \"white\"}}, \"shapedefaults\": {\"line\": {\"color\": \"#2a3f5f\"}}, \"ternary\": {\"aaxis\": {\"gridcolor\": \"white\", \"linecolor\": \"white\", \"ticks\": \"\"}, \"baxis\": {\"gridcolor\": \"white\", \"linecolor\": \"white\", \"ticks\": \"\"}, \"bgcolor\": \"#E5ECF6\", \"caxis\": {\"gridcolor\": \"white\", \"linecolor\": \"white\", \"ticks\": \"\"}}, \"title\": {\"x\": 0.05}, \"xaxis\": {\"automargin\": true, \"gridcolor\": \"white\", \"linecolor\": \"white\", \"ticks\": \"\", \"title\": {\"standoff\": 15}, \"zerolinecolor\": \"white\", \"zerolinewidth\": 2}, \"yaxis\": {\"automargin\": true, \"gridcolor\": \"white\", \"linecolor\": \"white\", \"ticks\": \"\", \"title\": {\"standoff\": 15}, \"zerolinecolor\": \"white\", \"zerolinewidth\": 2}}}, \"width\": 1200, \"xaxis\": {\"anchor\": \"y\", \"domain\": [0.0, 1.0], \"title\": {\"text\": \"Age\"}}, \"yaxis\": {\"anchor\": \"x\", \"domain\": [0.0, 1.0], \"title\": {\"text\": \"Parch\"}}},                        {\"responsive\": true}                    ).then(function(){\n",
       "                            \n",
       "var gd = document.getElementById('c7e883ad-c4ec-41f5-a07e-6dd10aff9cd5');\n",
       "var x = new MutationObserver(function (mutations, observer) {{\n",
       "        var display = window.getComputedStyle(gd).display;\n",
       "        if (!display || display === 'none') {{\n",
       "            console.log([gd, 'removed!']);\n",
       "            Plotly.purge(gd);\n",
       "            observer.disconnect();\n",
       "        }}\n",
       "}});\n",
       "\n",
       "// Listen for the removal of the full notebook cells\n",
       "var notebookContainer = gd.closest('#notebook-container');\n",
       "if (notebookContainer) {{\n",
       "    x.observe(notebookContainer, {childList: true});\n",
       "}}\n",
       "\n",
       "// Listen for the clearing of the current output cell\n",
       "var outputEl = gd.closest('.output');\n",
       "if (outputEl) {{\n",
       "    x.observe(outputEl, {childList: true});\n",
       "}}\n",
       "\n",
       "                        })                };                });            </script>        </div>"
      ]
     },
     "metadata": {},
     "output_type": "display_data"
    }
   ],
   "source": [
    "dfplt = df.copy(deep=True)\n",
    "dfplt = dfplt[~dfplt[\"Survived\"].isna()]\n",
    "dfplt[\"Survived\"] = dfplt[\"Survived\"].astype(str)\n",
    "fig = px.scatter(dfplt, x=\"Age\", y=\"Parch\", color = \"Survived\", size_max=6\n",
    "                 ,color_discrete_sequence=cm,width=1200, height=500)\n",
    "fig.show()"
   ]
  },
  {
   "cell_type": "code",
   "execution_count": 33,
   "metadata": {
    "_cell_guid": "44932bfa-147e-497d-8773-f13e885ca0db",
    "_uuid": "27b4d576-987b-4901-92d7-22400f6ab6c4",
    "collapsed": false,
    "execution": {
     "iopub.execute_input": "2022-07-11T06:08:21.604766Z",
     "iopub.status.busy": "2022-07-11T06:08:21.604064Z",
     "iopub.status.idle": "2022-07-11T06:08:21.627287Z",
     "shell.execute_reply": "2022-07-11T06:08:21.627813Z"
    },
    "jupyter": {
     "outputs_hidden": false
    },
    "papermill": {
     "duration": 0.104746,
     "end_time": "2022-07-11T06:08:21.628004",
     "exception": false,
     "start_time": "2022-07-11T06:08:21.523258",
     "status": "completed"
    },
    "tags": []
   },
   "outputs": [
    {
     "data": {
      "text/html": [
       "<div>\n",
       "<style scoped>\n",
       "    .dataframe tbody tr th:only-of-type {\n",
       "        vertical-align: middle;\n",
       "    }\n",
       "\n",
       "    .dataframe tbody tr th {\n",
       "        vertical-align: top;\n",
       "    }\n",
       "\n",
       "    .dataframe thead th {\n",
       "        text-align: right;\n",
       "    }\n",
       "</style>\n",
       "<table border=\"1\" class=\"dataframe\">\n",
       "  <thead>\n",
       "    <tr style=\"text-align: right;\">\n",
       "      <th></th>\n",
       "      <th>Survived</th>\n",
       "      <th>Pclass</th>\n",
       "      <th>Name</th>\n",
       "      <th>Sex</th>\n",
       "      <th>Age</th>\n",
       "      <th>SibSp</th>\n",
       "      <th>Parch</th>\n",
       "      <th>Ticket</th>\n",
       "      <th>Fare</th>\n",
       "      <th>Cabin</th>\n",
       "      <th>Embarked</th>\n",
       "      <th>Deck</th>\n",
       "      <th>Side</th>\n",
       "      <th>Ticket_p</th>\n",
       "      <th>Surname</th>\n",
       "      <th>Namesakes</th>\n",
       "      <th>Title</th>\n",
       "    </tr>\n",
       "    <tr>\n",
       "      <th>PassengerId</th>\n",
       "      <th></th>\n",
       "      <th></th>\n",
       "      <th></th>\n",
       "      <th></th>\n",
       "      <th></th>\n",
       "      <th></th>\n",
       "      <th></th>\n",
       "      <th></th>\n",
       "      <th></th>\n",
       "      <th></th>\n",
       "      <th></th>\n",
       "      <th></th>\n",
       "      <th></th>\n",
       "      <th></th>\n",
       "      <th></th>\n",
       "      <th></th>\n",
       "      <th></th>\n",
       "    </tr>\n",
       "  </thead>\n",
       "  <tbody>\n",
       "    <tr>\n",
       "      <th>778</th>\n",
       "      <td>1.0</td>\n",
       "      <td>3</td>\n",
       "      <td>Miss. Virginia Ethel</td>\n",
       "      <td>female</td>\n",
       "      <td>5.0</td>\n",
       "      <td>0</td>\n",
       "      <td>0</td>\n",
       "      <td>364516</td>\n",
       "      <td>12.475</td>\n",
       "      <td>-1</td>\n",
       "      <td>S</td>\n",
       "      <td>N/A</td>\n",
       "      <td>0.0</td>\n",
       "      <td>N/A</td>\n",
       "      <td>Other</td>\n",
       "      <td>0</td>\n",
       "      <td>Miss</td>\n",
       "    </tr>\n",
       "  </tbody>\n",
       "</table>\n",
       "</div>"
      ],
      "text/plain": [
       "             Survived  Pclass                   Name     Sex  Age  SibSp  Parch  Ticket    Fare  Cabin Embarked Deck  Side Ticket_p Surname  Namesakes Title\n",
       "PassengerId                                                                                                                                                 \n",
       "778               1.0       3   Miss. Virginia Ethel  female  5.0      0      0  364516  12.475     -1        S  N/A   0.0      N/A   Other          0  Miss"
      ]
     },
     "execution_count": 33,
     "metadata": {},
     "output_type": "execute_result"
    }
   ],
   "source": [
    "df[(df[\"Age\"]==5) & (df[\"Parch\"]==0)]\n",
    "# 5 y.o child traveling by hereself?"
   ]
  },
  {
   "cell_type": "markdown",
   "metadata": {
    "_cell_guid": "60687615-4a79-49ab-a189-d809bee004cd",
    "_uuid": "e5ded82d-413c-4dd5-81a3-a4fa536f7827",
    "papermill": {
     "duration": 0.079903,
     "end_time": "2022-07-11T06:08:21.785982",
     "exception": false,
     "start_time": "2022-07-11T06:08:21.706079",
     "status": "completed"
    },
    "tags": []
   },
   "source": [
    "In the end i desided not to fix it, cause if takes some extra information about the data, and it is kind of cheating.\n",
    "But i will leave it there just in case someone will need it"
   ]
  },
  {
   "cell_type": "code",
   "execution_count": 34,
   "metadata": {
    "_cell_guid": "4c51069f-a32b-4261-8b34-1e60928b443e",
    "_uuid": "e501740c-4e71-4c05-8dd1-01bb50192d20",
    "collapsed": false,
    "execution": {
     "iopub.execute_input": "2022-07-11T06:08:21.945917Z",
     "iopub.status.busy": "2022-07-11T06:08:21.945262Z",
     "iopub.status.idle": "2022-07-11T06:08:21.948766Z",
     "shell.execute_reply": "2022-07-11T06:08:21.949414Z"
    },
    "jupyter": {
     "outputs_hidden": false
    },
    "papermill": {
     "duration": 0.085253,
     "end_time": "2022-07-11T06:08:21.949592",
     "exception": false,
     "start_time": "2022-07-11T06:08:21.864339",
     "status": "completed"
    },
    "tags": []
   },
   "outputs": [],
   "source": [
    "#df.loc[df[\"Name\"]==\"Emanuel, Miss. Virginia Ethel\",\"Parch\"]=1\n",
    "#df.loc[df[\"Name\"]==\"Dowdell, Miss. Elizabeth\",\"Parch\"]=1\n",
    "\n",
    "#df.loc[df[\"Name\"]==\"Albimona, Mr. Nassef Cassem\",\"Parch\"]=1\n",
    "#df.loc[df[\"Name\"]==\"Hassan, Mr. Houssein G N\",\"Parch\"]=1\n",
    "\n",
    "#df.loc[df[\"Name\"]=='Watt, Mrs. James (Elizabeth \"Bessie\" Inglis Milne)',\"Parch\"]=1\n",
    "#df.loc[df[\"Name\"]==\"Watt, Miss. Bertha J\",\"Parch\"]=1"
   ]
  },
  {
   "cell_type": "markdown",
   "metadata": {
    "_cell_guid": "ad92ae12-0519-43c1-8bb6-60a8d4d9d527",
    "_uuid": "1d7c1d4a-087f-41ef-a288-b868321b2058",
    "papermill": {
     "duration": 0.079188,
     "end_time": "2022-07-11T06:08:22.107297",
     "exception": false,
     "start_time": "2022-07-11T06:08:22.028109",
     "status": "completed"
    },
    "tags": []
   },
   "source": [
    "We will manually set two more features:\n",
    "* \"Kid\" feature - for less then 18 y.o passangers - there survival rate is higher \n",
    "* 'Alone' feature - for those who was travalling alone (>18 e.o, Parch & SibSp ==0). \n",
    "* 'Old' feature - elder people died more often. I took 60 y.o as a treashold, after checking several and chooseing the one"
   ]
  },
  {
   "cell_type": "code",
   "execution_count": 35,
   "metadata": {
    "_cell_guid": "b628a26c-c84f-4b85-9400-802b7b3ac67b",
    "_uuid": "a705d64f-278c-4f64-a801-5e1e4d67d096",
    "collapsed": false,
    "execution": {
     "iopub.execute_input": "2022-07-11T06:08:22.280844Z",
     "iopub.status.busy": "2022-07-11T06:08:22.279884Z",
     "iopub.status.idle": "2022-07-11T06:08:22.294796Z",
     "shell.execute_reply": "2022-07-11T06:08:22.295664Z"
    },
    "jupyter": {
     "outputs_hidden": false
    },
    "papermill": {
     "duration": 0.10275,
     "end_time": "2022-07-11T06:08:22.295898",
     "exception": false,
     "start_time": "2022-07-11T06:08:22.193148",
     "status": "completed"
    },
    "tags": []
   },
   "outputs": [
    {
     "name": "stdout",
     "output_type": "stream",
     "text": [
      "Kids survived koeff:\t0.8524590163934426\n",
      "Others survived koeff:\t1.7686832740213523\n"
     ]
    }
   ],
   "source": [
    "df[\"Kid\"]=0\n",
    "df.loc[(df[\"Age\"]<18),\"Kid\"]=1\n",
    "print(f'Kids survived koeff:\\t{len(df[(df[\"Kid\"]==1) & (df[\"Survived\"]==0)])/len(df[(df[\"Kid\"]==1) & (df[\"Survived\"]==1)])}')\n",
    "print(f'Others survived koeff:\\t{len(df[(df[\"Kid\"]==0) & (df[\"Survived\"]==0)])/len(df[(df[\"Kid\"]==0) & (df[\"Survived\"]==1)])}')"
   ]
  },
  {
   "cell_type": "code",
   "execution_count": 36,
   "metadata": {
    "_cell_guid": "aba991d8-5840-4979-947b-4a69cd5c6d3e",
    "_uuid": "23f6734b-1b39-430a-a1ea-a072e99e766d",
    "collapsed": false,
    "execution": {
     "iopub.execute_input": "2022-07-11T06:08:22.457303Z",
     "iopub.status.busy": "2022-07-11T06:08:22.456383Z",
     "iopub.status.idle": "2022-07-11T06:08:22.469964Z",
     "shell.execute_reply": "2022-07-11T06:08:22.470822Z"
    },
    "jupyter": {
     "outputs_hidden": false
    },
    "papermill": {
     "duration": 0.095955,
     "end_time": "2022-07-11T06:08:22.471051",
     "exception": false,
     "start_time": "2022-07-11T06:08:22.375096",
     "status": "completed"
    },
    "tags": []
   },
   "outputs": [
    {
     "name": "stdout",
     "output_type": "stream",
     "text": [
      "Elder survived koeff:\t3.4\n",
      "Others survived koeff:\t1.5786350148367954\n"
     ]
    }
   ],
   "source": [
    "df[\"Old\"]=0\n",
    "df.loc[(df[\"Age\"]>60),\"Old\"]=1\n",
    "print(f'Elder survived koeff:\\t{len(df[(df[\"Old\"]==1) & (df[\"Survived\"]==0)])/len(df[(df[\"Old\"]==1) & (df[\"Survived\"]==1)])}')\n",
    "print(f'Others survived koeff:\\t{len(df[(df[\"Old\"]==0) & (df[\"Survived\"]==0)])/len(df[(df[\"Old\"]==0) & (df[\"Survived\"]==1)])}')"
   ]
  },
  {
   "cell_type": "code",
   "execution_count": 37,
   "metadata": {
    "_cell_guid": "019d185a-cd22-4f6d-b2a9-8d02ebe1aab7",
    "_uuid": "7393379c-82b8-4571-a0cb-11e9b9465854",
    "collapsed": false,
    "execution": {
     "iopub.execute_input": "2022-07-11T06:08:22.638116Z",
     "iopub.status.busy": "2022-07-11T06:08:22.637084Z",
     "iopub.status.idle": "2022-07-11T06:08:22.646404Z",
     "shell.execute_reply": "2022-07-11T06:08:22.646843Z"
    },
    "jupyter": {
     "outputs_hidden": false
    },
    "papermill": {
     "duration": 0.096538,
     "end_time": "2022-07-11T06:08:22.647019",
     "exception": false,
     "start_time": "2022-07-11T06:08:22.550481",
     "status": "completed"
    },
    "tags": []
   },
   "outputs": [
    {
     "name": "stdout",
     "output_type": "stream",
     "text": [
      "Alone survived koeff:\t\t2.294478527607362\n",
      "Not Alone survived koeff:\t0.9776536312849162\n"
     ]
    }
   ],
   "source": [
    "df[\"Alone\"] = 0\n",
    "df.loc[(df[\"Parch\"]==0) & (df[\"SibSp\"]==0),\"Alone\"]=1\n",
    "print(f'Alone survived koeff:\\t\\t{len(df[(df[\"Alone\"]==1) & (df[\"Survived\"]==0)])/len(df[(df[\"Alone\"]==1) & (df[\"Survived\"]==1)])}')\n",
    "print(f'Not Alone survived koeff:\\t{len(df[(df[\"Alone\"]==0) & (df[\"Survived\"]==0)])/len(df[(df[\"Alone\"]==0) & (df[\"Survived\"]==1)])}')"
   ]
  },
  {
   "cell_type": "markdown",
   "metadata": {
    "_cell_guid": "61ba1684-1b40-49a4-8916-c8bb91991463",
    "_uuid": "292ee101-7b25-43fc-aa7e-efa0838fef62",
    "papermill": {
     "duration": 0.080513,
     "end_time": "2022-07-11T06:08:22.806991",
     "exception": false,
     "start_time": "2022-07-11T06:08:22.726478",
     "status": "completed"
    },
    "tags": []
   },
   "source": [
    "# <a class=\"anchor\" id=\"2_bullet\" style=\"color:#292F55\">  2. Data preparation\n",
    "## <a class=\"anchor\" id=\"2.1_bullet\" style=\"color:#3B61A3\">  2.1 Filling None values\n",
    "### <a class=\"anchor\" id=\"2.1.1_bullet\" style=\"color:#3B61A3\">  2.1.1 Filling \"Age\" None values"
   ]
  },
  {
   "cell_type": "code",
   "execution_count": 38,
   "metadata": {
    "_cell_guid": "e720f1db-4944-4b80-be88-62b00bee0915",
    "_uuid": "e09567d5-cdbb-442a-b4d8-28a3bca74978",
    "collapsed": false,
    "execution": {
     "iopub.execute_input": "2022-07-11T06:08:22.969997Z",
     "iopub.status.busy": "2022-07-11T06:08:22.969046Z",
     "iopub.status.idle": "2022-07-11T06:08:24.190555Z",
     "shell.execute_reply": "2022-07-11T06:08:24.191032Z"
    },
    "jupyter": {
     "outputs_hidden": false
    },
    "papermill": {
     "duration": 1.304664,
     "end_time": "2022-07-11T06:08:24.191238",
     "exception": false,
     "start_time": "2022-07-11T06:08:22.886574",
     "status": "completed"
    },
    "tags": []
   },
   "outputs": [
    {
     "data": {
      "text/plain": [
       "<AxesSubplot:>"
      ]
     },
     "execution_count": 38,
     "metadata": {},
     "output_type": "execute_result"
    },
    {
     "data": {
      "image/png": "[encoded data removed]",
      "text/plain": [
       "<Figure size 2160x144 with 3 Axes>"
      ]
     },
     "metadata": {
      "needs_background": "light"
     },
     "output_type": "display_data"
    }
   ],
   "source": [
    "msno.bar(df, figsize=(30,2), color=gradient)"
   ]
  },
  {
   "cell_type": "markdown",
   "metadata": {
    "_cell_guid": "38f70eff-cb08-49ed-bb91-b380cd46dd38",
    "_uuid": "a4a5c0c9-3cdf-4649-8a27-64042204a124",
    "papermill": {
     "duration": 0.081166,
     "end_time": "2022-07-11T06:08:24.354915",
     "exception": false,
     "start_time": "2022-07-11T06:08:24.273749",
     "status": "completed"
    },
    "tags": []
   },
   "source": [
    "For the \"Age\" feature we just can replace None values with some mean value, but we gonna do it in a bit more complex way.\n",
    "We will locate some groups, based on Sex and Pclass - lets check the difference in ages in several groups."
   ]
  },
  {
   "cell_type": "code",
   "execution_count": 39,
   "metadata": {
    "_cell_guid": "e9680737-ca11-4bff-ae68-54d951d554a6",
    "_uuid": "f11ad35f-030d-45c3-aa46-0f3dfd229cdf",
    "collapsed": false,
    "execution": {
     "iopub.execute_input": "2022-07-11T06:08:24.531052Z",
     "iopub.status.busy": "2022-07-11T06:08:24.530375Z",
     "iopub.status.idle": "2022-07-11T06:08:24.542710Z",
     "shell.execute_reply": "2022-07-11T06:08:24.543198Z"
    },
    "jupyter": {
     "outputs_hidden": false
    },
    "papermill": {
     "duration": 0.105027,
     "end_time": "2022-07-11T06:08:24.543432",
     "exception": false,
     "start_time": "2022-07-11T06:08:24.438405",
     "status": "completed"
    },
    "tags": []
   },
   "outputs": [
    {
     "name": "stdout",
     "output_type": "stream",
     "text": [
      "36.0\n",
      "42.0\n",
      "28.0\n",
      "29.5\n",
      "22.0\n",
      "25.0\n"
     ]
    }
   ],
   "source": [
    "print(df[(df[\"Pclass\"]==1) & (df[\"Sex\"]==\"female\")][\"Age\"].median())\n",
    "print(df[(df[\"Pclass\"]==1) & (df[\"Sex\"]==\"male\")][\"Age\"].median())\n",
    "print(df[(df[\"Pclass\"]==2) & (df[\"Sex\"]==\"female\")][\"Age\"].median())\n",
    "print(df[(df[\"Pclass\"]==2) & (df[\"Sex\"]==\"male\")][\"Age\"].median())\n",
    "print(df[(df[\"Pclass\"]==3) & (df[\"Sex\"]==\"female\")][\"Age\"].median())\n",
    "print(df[(df[\"Pclass\"]==3) & (df[\"Sex\"]==\"male\")][\"Age\"].median())"
   ]
  },
  {
   "cell_type": "code",
   "execution_count": 40,
   "metadata": {
    "_cell_guid": "0fb987c6-ab87-4d50-9593-20c82aa28c7b",
    "_uuid": "8db6ef6b-2a55-4e50-8b41-ba2b4dd36cf7",
    "collapsed": false,
    "execution": {
     "iopub.execute_input": "2022-07-11T06:08:24.710023Z",
     "iopub.status.busy": "2022-07-11T06:08:24.709441Z",
     "iopub.status.idle": "2022-07-11T06:08:24.730901Z",
     "shell.execute_reply": "2022-07-11T06:08:24.730355Z"
    },
    "jupyter": {
     "outputs_hidden": false
    },
    "papermill": {
     "duration": 0.105759,
     "end_time": "2022-07-11T06:08:24.731057",
     "exception": false,
     "start_time": "2022-07-11T06:08:24.625298",
     "status": "completed"
    },
    "tags": []
   },
   "outputs": [],
   "source": [
    "from itertools import *\n",
    "l1, l2 = [1,2,3], [\"female\",\"male\"]\n",
    "for c,s in product(l1,l2):\n",
    "    msk = (df[\"Pclass\"]==c) & (df[\"Sex\"]==s)\n",
    "    df.loc[msk,\"Age\"] = df[msk][\"Age\"].fillna(df[msk][\"Age\"].median())"
   ]
  },
  {
   "cell_type": "code",
   "execution_count": 41,
   "metadata": {
    "_cell_guid": "437f28ed-2a0e-4ca9-8c16-a73c1390ea78",
    "_uuid": "ab1d1834-1350-48cf-bec5-d2c6308e1819",
    "collapsed": false,
    "execution": {
     "iopub.execute_input": "2022-07-11T06:08:24.913903Z",
     "iopub.status.busy": "2022-07-11T06:08:24.901917Z",
     "iopub.status.idle": "2022-07-11T06:08:24.987880Z",
     "shell.execute_reply": "2022-07-11T06:08:24.988410Z"
    },
    "jupyter": {
     "outputs_hidden": false
    },
    "papermill": {
     "duration": 0.175509,
     "end_time": "2022-07-11T06:08:24.988591",
     "exception": false,
     "start_time": "2022-07-11T06:08:24.813082",
     "status": "completed"
    },
    "tags": []
   },
   "outputs": [
    {
     "data": {
      "text/html": [
       "<div>                            <div id=\"4230dfd3-4148-4343-bdb2-23ab4eb1200a\" class=\"plotly-graph-div\" style=\"height:500px; width:1200px;\"></div>            <script type=\"text/javascript\">                require([\"plotly\"], function(Plotly) {                    window.PLOTLYENV=window.PLOTLYENV || {};                                    if (document.getElementById(\"4230dfd3-4148-4343-bdb2-23ab4eb1200a\")) {                    Plotly.newPlot(                        \"4230dfd3-4148-4343-bdb2-23ab4eb1200a\",                        [{\"hovertemplate\": \"Survived=0.0<br>Age=%{x}<br>Name=%{y}<extra></extra>\", \"legendgroup\": \"0.0\", \"marker\": {\"color\": \"#273176\", \"symbol\": \"circle\"}, \"mode\": \"markers\", \"name\": \"0.0\", \"showlegend\": true, \"type\": \"scattergl\", \"x\": [22.0, 35.0, 25.0, 54.0, 2.0, 20.0, 39.0, 14.0, 2.0, 31.0, 35.0, 8.0, 25.0, 19.0, 25.0, 40.0, 66.0, 28.0, 42.0, 21.0, 18.0, 40.0, 27.0, 25.0, 25.0, 25.0, 25.0, 18.0, 7.0, 21.0, 65.0, 28.5, 11.0, 22.0, 45.0, 4.0, 42.0, 19.0, 26.0, 32.0, 16.0, 21.0, 26.0, 25.0, 25.0, 25.0, 22.0, 28.0, 16.0, 25.0, 24.0, 29.0, 20.0, 46.0, 26.0, 59.0, 25.0, 71.0, 34.0, 28.0, 25.0, 21.0, 33.0, 37.0, 28.0, 38.0, 47.0, 14.5, 22.0, 20.0, 17.0, 21.0, 70.5, 29.0, 24.0, 2.0, 21.0, 25.0, 32.5, 54.0, 25.0, 45.0, 33.0, 20.0, 47.0, 25.0, 23.0, 37.0, 16.0, 24.0, 22.0, 19.0, 18.0, 19.0, 9.0, 36.5, 42.0, 51.0, 55.5, 40.5, 25.0, 51.0, 30.0, 25.0, 25.0, 44.0, 26.0, 17.0, 1.0, 45.0, 42.0, 28.0, 61.0, 4.0, 21.0, 56.0, 18.0, 25.0, 50.0, 30.0, 36.0, 22.0, 29.5, 9.0, 42.0, 40.0, 36.0, 19.0, 25.0, 42.0, 24.0, 28.0, 25.0, 34.0, 45.5, 2.0, 32.0, 24.0, 22.0, 30.0, 25.0, 42.0, 30.0, 27.0, 51.0, 25.0, 22.0, 20.5, 18.0, 22.0, 29.0, 59.0, 24.0, 22.0, 44.0, 19.0, 33.0, 22.0, 29.0, 22.0, 30.0, 44.0, 25.0, 54.0, 25.0, 29.0, 62.0, 30.0, 41.0, 25.0, 52.0, 40.0, 22.0, 36.0, 16.0, 42.0, 37.0, 45.0, 29.5, 7.0, 65.0, 28.0, 16.0, 42.0, 33.0, 22.0, 36.0, 24.0, 24.0, 42.0, 23.5, 2.0, 19.0, 25.0, 30.0, 26.0, 28.0, 43.0, 54.0, 22.0, 27.0, 25.0, 61.0, 45.5, 38.0, 16.0, 25.0, 29.0, 45.0, 28.0, 25.0, 36.0, 42.0, 23.0, 42.0, 15.0, 25.0, 25.0, 28.0, 38.0, 40.0, 29.0, 45.0, 35.0, 25.0, 30.0, 18.0, 19.0, 22.0, 3.0, 27.0, 20.0, 19.0, 32.0, 25.0, 18.0, 1.0, 25.0, 28.0, 22.0, 31.0, 46.0, 23.0, 26.0, 21.0, 28.0, 20.0, 34.0, 51.0, 21.0, 22.0, 25.0, 25.0, 29.5, 22.0, 30.0, 10.0, 25.0, 21.0, 29.0, 28.0, 18.0, 25.0, 25.0, 17.0, 50.0, 21.0, 64.0, 31.0, 20.0, 25.0, 36.0, 25.0, 30.0, 25.0, 65.0, 25.0, 34.0, 47.0, 48.0, 25.0, 38.0, 29.5, 56.0, 25.0, 25.0, 38.0, 22.0, 42.0, 34.0, 29.0, 22.0, 9.0, 29.5, 50.0, 22.0, 58.0, 30.0, 25.0, 21.0, 55.0, 71.0, 21.0, 25.0, 25.0, 25.0, 24.0, 17.0, 21.0, 22.0, 37.0, 18.0, 28.0, 25.0, 24.0, 47.0, 25.0, 32.0, 22.0, 25.0, 25.0, 40.5, 42.0, 39.0, 23.0, 25.0, 17.0, 30.0, 45.0, 25.0, 9.0, 11.0, 50.0, 64.0, 33.0, 27.0, 25.0, 62.0, 42.0, 25.0, 40.0, 28.0, 25.0, 22.0, 24.0, 19.0, 29.0, 25.0, 16.0, 19.0, 22.0, 54.0, 36.0, 25.0, 47.0, 22.0, 25.0, 35.0, 47.0, 22.0, 37.0, 36.0, 49.0, 25.0, 25.0, 42.0, 44.0, 36.0, 30.0, 39.0, 25.0, 25.0, 35.0, 34.0, 26.0, 26.0, 27.0, 21.0, 21.0, 61.0, 57.0, 26.0, 25.0, 51.0, 42.0, 9.0, 32.0, 31.0, 41.0, 25.0, 20.0, 2.0, 19.0, 25.0, 25.0, 21.0, 18.0, 24.0, 25.0, 32.0, 23.0, 58.0, 40.0, 47.0, 36.0, 32.0, 25.0, 25.0, 43.0, 31.0, 70.0, 29.5, 18.0, 24.5, 43.0, 22.0, 20.0, 14.0, 60.0, 25.0, 14.0, 19.0, 18.0, 25.0, 60.0, 52.0, 44.0, 49.0, 42.0, 18.0, 25.0, 26.0, 39.0, 42.0, 29.0, 52.0, 19.0, 25.0, 33.0, 17.0, 34.0, 50.0, 20.0, 25.0, 25.0, 11.0, 29.5, 23.0, 23.0, 28.5, 48.0, 25.0, 25.0, 36.0, 24.0, 70.0, 16.0, 19.0, 31.0, 33.0, 23.0, 28.0, 18.0, 34.0, 25.0, 41.0, 16.0, 42.0, 30.5, 25.0, 32.0, 24.0, 48.0, 57.0, 25.0, 18.0, 25.0, 25.0, 29.0, 25.0, 25.0, 25.0, 8.0, 46.0, 25.0, 16.0, 22.0, 42.0, 25.0, 39.0, 30.0, 30.0, 34.0, 31.0, 39.0, 18.0, 39.0, 26.0, 39.0, 35.0, 6.0, 30.5, 42.0, 23.0, 31.0, 43.0, 10.0, 38.0, 2.0, 25.0, 25.0, 25.0, 23.0, 18.0, 21.0, 25.0, 20.0, 16.0, 34.5, 17.0, 42.0, 25.0, 35.0, 28.0, 4.0, 74.0, 9.0, 44.0, 25.0, 41.0, 21.0, 22.0, 24.0, 31.0, 25.0, 26.0, 33.0, 47.0, 20.0, 19.0, 25.0, 33.0, 22.0, 28.0, 25.0, 39.0, 27.0, 22.0, 32.0], \"xaxis\": \"x\", \"y\": [\" Mr. Owen Harris\", \" Mr. William Henry\", \" Mr. James\", \" Mr. Timothy J\", \" Master. Gosta Leonard\", \" Mr. William Henry\", \" Mr. Anders Johan\", \" Miss. Hulda Amanda Adolfina\", \" Master. Eugene\", \" Mrs. Julius (Emelia Maria Vandemoortele)\", \" Mr. Joseph J\", \" Miss. Torborg Danira\", \" Mr. Farred Chehab\", \" Mr. Charles Alexander\", \" Mr. Lalio\", \" Don. Manuel E\", \" Mr. Edward H\", \" Mr. Edgar Joseph\", \" Mr. Alexander Oskar\", \" Mr. Ernest Charles\", \" Miss. Augusta Maria\", \" Mrs. Johan (Johanna Persdotter Larsson)\", \" Mrs. William John Robert (Dorothy Ann Wonnacott)\", \" Mr. Theodor\", \" Mr. William John\", \" Mr. Denis\", \" Mr. Youssef\", \" Mrs. Josef (Josefine Franchi)\", \" Master. Juha Niilo\", \" Mr. Richard Cater\", \" Mr. Engelhart Cornelius\", \" Mr. Mansouer\", \" Master. William Frederick\", \" Mr. Orsen\", \" Mr. Henry Birkhardt\", \" Master. Harald\", \" Mr. Albert A\", \" Mr. Ernest James\", \" Mr. Vincenz\", \" Mr. Stephen Curnow\", \" Miss. Lillian Amy\", \" Mr. Ambrose Jr\", \" Mr. Apostolos\", \" Mr. Sigurd Hansen\", \" Mr. Ivan\", \" Mr. Rahamin Haim\", \" Mr. Achille\", \" Mr. Francisco M\", \" Mr. William Neal\", \" Mr. Selman Francis\", \" Mr. Francesco\", \" Mr. Emil\", \" Mr. Paul Edvin\", \" Mr. Herbert Fuller\", \" Mr. Bertram Frank\", \" Mr. Daniel\", \" Mr. Charles Joseph\", \" Mr. George B\", \" Mr. Sinai\", \" Miss. Matilda\", \" Mr. Pastcho (\\\"Pentcho\\\")\", \" Mr. Richard Frasar\", \" Mr. Gustaf Joel\", \" Mr. Anders Vilhelm\", \" Mr. Stoytcho\", \" Mr. Tido\", \" Mr. Walter Chamberlain\", \" Miss. Hileni\", \" Mr. David John\", \" Miss. Katriina\", \" Miss. Malake\", \" Mr. Edvard\", \" Mr. Patrick\", \" Mr. William John Robert\", \" Mr. Quigg Edmond\", \" Miss. Ellis Anna Maria\", \" Mr. Stanley George\", \" Mr. Leonard Charles\", \" Mr. Nicholas\", \" Mr. Percival Wayland\", \" Mr. Martin\", \" Mr. Johan\", \" Mr. Jozef\", \" Mr. Domingos Fernandeo\", \" Mrs. Alexander A (Grace Charity Laury)\", \" Mr. Samuel James Hayden\", \" Mr. Emile\", \" Mr. Jacques Heath\", \" Mr. Olaf Elon\", \" Mr. Victor\", \" Mrs. Joseph (Sultana)\", \" Mr. Jeremiah\", \" Mr. Edgardo Samuel\", \" Mr. Joseph Charles\", \" Miss. Robina Maggie \\\"Ruby\\\"\", \" Mr. Michel (\\\"Louis M Hoffman\\\")\", \" Rev. Thomas Roussel Davids\", \" Rev. Robert James\", \" Mr. Alfonzo\", \" Mr. Austin Blyler\", \" Mr. Ole Martin\", \" Mr. Charles Duane\", \" Mr. Harry\", \" Mr. Mile\", \" Master. Thomas Henry\", \" Mr. John Hatfield\", \" Mr. John Viktor\", \" Mr. Jovo\", \" Master. Eino Viljami\", \" Mrs. William (Anna Bernhardina Karlsson)\", \" Mr. John D\", \" Mr. Lee\", \" Mr. Wyckoff\", \" Master. Arthur\", \" Mr. Antti Wilhelm\", \" Mr. James Clinch\", \" Mr. Klas Albin\", \" Master. Henry Forbes\", \" Miss. Ann Elizabeth\", \" Mr. Reginald\", \" Mr. Lionel\", \" Miss. Constance Gladys\", \" Mr. Rene\", \" Master. Clarence Gustaf Hugo\", \" Mr. Hugh Roscoe\", \" Mr. John\", \" Mr. Stjepan\", \" Mr. William\", \" Mr. Robert\", \" Mr. Karl Siegwart Andreas\", \" Miss. Henriette (\\\"Mrs Harbeck\\\")\", \" Mr. Nestor Cyriel\", \" Mr. Frederick\", \" Mr. Jakob Alfred\", \" Mr. Gerious\", \" Miss. Telma Matilda\", \" Mr. Karl Alfred\", \" Mr. Ahmed\", \" Mr. John Henry\", \" Mr. Hans Kristensen\", \" Mr. Philip\", \" Mr. Sidney Samuel\", \" Mr. Walter\", \" Mr. James H\", \" Mr. George Henry\", \" Mr. Christo\", \" Mr. Karl Ivar Sven\", \" Mr. John Hall (\\\"Henry\\\")\", \" Mr. Arne Jonas\", \" Miss. Mathilde\", \" Mr. Bengt Edvin\", \" Mr. Ernst Adolf\", \" Mr. Robert William Norman\", \" Miss. Alice Phoebe\", \" Mr. Stephen\", \" Mr. Frederick William\", \" Mr. George Henry\", \" Miss. Thamine\", \" Mr. Reginald Charles\", \" Mr. Matti Alexanteri\", \" Mr. Sleiman\", \" Dr. William Edward\", \" Miss. Agda Thorilda Viktoria\", \" Rev. Ernest Courtenay\", \" Mr. James George\", \" Mrs. Wilhelm (Elna Matilda Persson)\", \" Mr. William Thomas\", \" Mr. William Arthur\", \" Mrs. Viktor (Helena Wilhelmina)\", \" Mr. Thomas\", \" Mr. Emil\", \" Mr. William\", \" Miss. Delia\", \" Mr. David\", \" Mr. Ernesti Arvid\", \" Mr. Alexander\", \" Mr. Charles H\", \" Miss. Augusta Charlotta\", \" Mr. Francis \\\"Frank\\\"\", \" Master. Eric\", \" Mr. Frank\", \" Mr. Nils Johan Goransson\", \" Mr. Alfons\", \" Mr. Richard William\", \" Mr. Ivan\", \" Mr. Penko\", \" Mr. Rene Jacques\", \" Miss. Aloisia\", \" Mr. Ivan\", \" Mr. Ervin G\", \" Mr. Mansour\", \" Miss. Helen Loraine\", \" Mr. William Cahoone Jr\", \" Mr. Howard Hugh \\\"Harry\\\"\", \" Mr. Samuel\", \" Mrs. William (Anna Sylfven)\", \" Mr. Ignjac\", \" Mr. Benjamin\", \" Dr. Ernest\", \" Mr. Samuel\", \" Mr. Yoto\", \" Mr. George John Jr\", \" Mr. Johan Hansen\", \" Mr. Austen\", \" Mr. George Edward\", \" Mr. Leo Edmondus\", \" Mr. Mitto\", \" Mr. Thomas Clinton\", \" Mr. Stephen Weart\", \" Mr. Erik Gustaf\", \" Mr. Charles Frederick Waddington\", \" Mr. Stanley Hubert\", \" Mr. Jovan\", \" Mr. Nils Martin\", \" Mr. Fletcher Fellows\", \" Mr. Tannous\", \" Mr. Josef\", \" Mr. Wazli\", \" Mr. Leo Peter\", \" Miss. Annie Clemmer\", \" Mr. Wilhelm\", \" Mr. Sebastiano\", \" Mrs. (Catherine David)\", \" Mr. Adola\", \" Mr. Thomas\", \" Mr. Mauritz Nils Martin\", \" Mr. Jakob Alfred\", \" Mr. William Thomas\", \" Mr. Sante\", \" Miss. Stina Viola\", \" Mr. Harry Elkins\", \" Mr. Tannous\", \" Mr. Karl Gideon\", \" Mr. Juho\", \" Mr. Vasil\", \" Mr. Charles Henry\", \" Master. Sidney Leonard\", \" Mr. Matthew\", \" Mr. Johan Birger\", \" Mr. Erik\", \" Miss. Elina\", \" Mr. Peter David\", \" Dr. Alfred\", \" Mr. John\", \" Miss. Mari Aina\", \" Mr. Pekka Pietari\", \" Miss. Marija\", \" Mr. Shadrach\", \" Mr. Carl/Charles Peter\", \" Mr. Hans Martin Monsen\", \" Miss. Ida\", \" Mr. Todor\", \" Mr. Henry\", \" Mr. Alfred Fleming\", \" Mrs. Thomas (Annie Louise Rowley)\", \" Mr. William John\", \" Miss. Catharina\", \" Mr. Stanio\", \" Mr. David\", \" Mr. Leo\", \" Mrs. Ernst Gilbert (Anna Sigrid Maria Brogren)\", \" Mr. Viktor Richard\", \" Mr. Phillippe\", \" Mr. James\", \" Mr. Nikolai Erland\", \" Mr. William Baird\", \" Miss. Doolina Margaret \\\"Daisy\\\"\", \" Mr. Mark\", \" Mr. Johan Henrik Johannesson\", \" Mr. Leon\", \" Mr. Johan Emil\", \" Mr. Edwy Arthur\", \" Mr. Ingvald Olai Olsen\", \" Mr. Benjamin Laventall\", \" Mr. Joseph\", \" Mr. Francis Davis\", \" Mr. Maurice\", \" Mr. William\", \" Mr. Arthur H\", \" Mr. Jacob Christian\", \" Mr. Simon\", \" Mr. Manuel Estanslas\", \" Mr. William\", \" Mr. John Montgomery\", \" Mr. James\", \" Mr. Arthur\", \" Mr. Luka\", \" Miss. Ida Sofia\", \" Mr. George Quincy\", \" Mr. Peter Henry\", \" Mr. Lewis Richard\", \" Mr. Nils August\", \" Master. Harold Victor\", \" Mr. Anthony Wood \\\"Archie\\\"\", \" Mr. Richard Henry\", \" Miss. Jeannie\", \" Mr. Edward Austin\", \" Mr. Francis William\", \" Mr. Konrad Mathias Reiersen\", \" Mr. Einar\", \" Mr. Harry Markland\", \" Mr. Ramon\", \" Mr. Edward Roland\", \" Mr. Gerious\", \" Mr. Frederick William\", \" Mrs. Hudson J C (Bessie Waldo Daniels)\", \" Mr. Olof\", \" Mr. Petar\", \" Miss. Mary\", \" Miss. Bridget Mary\", \" Miss. Kristina Sofia\", \" Mr. Victor de Satode\", \" Mr. Henry Margido\", \" Mr. James\", \" Mr. Satio\", \" Mr. William Anderson\", \" Mr. Patrick\", \" Mr. Stefo\", \" Mr. Janko\", \" Mr. Sarkis\", \" Mr. Fared\", \" Mr. James\", \" Mr. John\", \" Mr. Johan Werner\", \" Mr. Richard George\", \" Mr. Nakli\", \" Mr. Joseph Jr\", \" Miss. Marija\", \" Major. Archibald Willingham\", \" Mr. Samuel Beard\", \" Miss. Ingeborg Constanzia\", \" Miss. Sigrid Elisabeth\", \" Mr. Walter Donald\", \" Mr. Arthur Ernest\", \" Mr. Frank John\", \" Mr. Percival James R\", \" Mr. Timothy\", \" Mr. George\", \" Mr. Victor\", \" Mr. Thomas Rowan\", \" Mr. Husein\", \" Mr. Robert Douglas\", \" Mr. John\", \" Miss. (Marion Ogden)\", \" Mr. Alfred J\", \" Mr. Ilia\", \" Mrs. Nils (Alma Cornelia Berglund)\", \" Mr. Tannous\", \" Mr. Alfred George John\", \" Mr. George\", \" Mrs. Joseph (Maria Elias)\", \" Mr. William James\", \" Mr. John Hugo\", \" Mr. Uscher\", \" Mr. John Denzil\", \" Mr. Eliezer\", \" Mr. Joseph\", \" Mr. Matti\", \" Mr. William James\", \" Miss. Mary\", \" Mr. John Henry\", \" Mr. Jean Baptiste\", \" Mr. Alfred\", \" Mr. Hanna\", \" Mr. Petco\", \" Mr. Charles H\", \" Mr. Ernst William\", \" Mr. Edvard Bengtsson\", \" Mr. Milan\", \" Mrs. Anders Johan (Alfrida Konstantia Brogren)\", \" Mr. Jose Neto\", \" Mr. John\", \" Mr. William Alfred\", \" Mr. Ernst Gilbert\", \" Mrs. William Arthur (Cordelia K Stanlick)\", \" Mr. Lawrence\", \" Mr. Antoni\", \" Mr. Henry Damsgaard\", \" Mr. David John \\\"Dai\\\"\", \" Mr. Frederick\", \" Rev. Charles Leonard\", \" Mr. Guentcho\", \" Mr. Patrick D\", \" Mr. Johan Svensson\", \" Mr. William Henry Marsh\", \" Miss. Mabel\", \" Mr. Antti Gustaf\", \" Mr. Harvey\", \" Mrs. Juha (Maria Emilia Ojala)\", \" Mr. Percival\", \" Mr. Hans Peder\", \" Miss. Margit Elizabeth\", \" Mr. Liudevit\", \" Mr. Edward\", \" Mr. Mito\", \" Mr. Johannes Halvorsen\", \" Miss. Hanora \\\"Nora\\\"\", \" Mr. Leonard Mark\", \" Mr. Alexander\", \" Mrs. John (Catherine)\", \" Mr. George Floyd\", \" Mr. Arthur Webster\", \" Mr. Mohamed\", \" Mr. Edward Pomeroy\", \" Mr. Peju\", \" Mr. Lewis\", \" Mr. Reginald Fenton\", \" Mr. Knud Paust\", \" Mr. Jacob\", \" Mr. Thornton\", \" Mr. Henry Michael\", \" Mr. Ennis Hastings\", \" Mr. Gustaf Hjalmar\", \" Mr. Frederick Charles\", \" Mrs. Frederick (Augusta Tyler)\", \" Miss. Katie\", \" Mr. Thor Anderson\", \" Mr. Charles Edward\", \" Mr. Thomas William Solomon\", \" Mr. Joseph Philippe Lemercier\", \" Mr. Jaako Arnold\", \" Mr. Branko\", \" Mr. Eberhard Thelander\", \" Mr. Khalil\", \" Col. John\", \" Mr. Charles Henry\", \" Mr. James\", \" Mr. John Borland\", \" Mr. Adolf Mathias Nicolai Olsen\", \" Miss. Saiide\", \" Mr. Martin\", \" Mr. Henrik Juul\", \" Mr. Henry Samuel (\\\"Mr Henry Marshall\\\")\", \" Mr. Herman\", \" Mr. August Viktor\", \" Mr. Samuel\", \" Mr. Peter Andreas Lauritz Andersen\", \" Mr. Michael\", \" Mr. Malkolm Joackim\", \" Mr. Svend Lauritz\", \" Mr. William Henry\", \" Mr. Henry Price\", \" Mr. Luka\", \" Mr. Kurt Arnold Gottfrid\", \" Miss. Pieta Sofia\", \" Mr. Houssein G N\", \" Mr. Robert J\", \" Mr. William John\", \" Mr. Moses Aaron\", \" Mr. Leslie\", \" Mrs. Edward (Margaret Ann Watson)\", \" Mr. Kanio\", \" Mr. Minko\", \" Mr. Tyrell William\", \" Mr. Neal\", \" Capt. Edward Gifford\", \" Mr. Rossmore Edward\", \" Mr. Daniel Warner\", \" Mr. Michael\", \" Mr. Johannes Joseph\", \" Mr. Lalio\", \" Mr. August Sigfrid\", \" Mr. Percy Andrew\", \" Mr. Thomas Leonard\", \" Mr. John\", \" Mr. Iisakki Antino Aijo\", \" Mr. Hans Linus\", \" Dr. Arthur Jackson\", \" Miss. Mary\", \" Mr. Daniel J\", \" Mr. Daniel Danielsen\", \" Mr. Rene Aime\", \" Mr. Niels Peder\", \" Mrs. (Mary)\", \" Mr. Dibo\", \" Mr. Pehr Fabian Oliver Malkolm\", \" Mr. Roger\", \" Mr. Thomas J\", \" Mr. Milton Clyde\", \" Mr. Andrew G\", \" Mr. William\", \" Mr. Abraham (David Lishin)\", \" Master. George Hugh\", \" Mr. Benjamin\", \" Mr. Andrew \\\"Andy\\\"\", \" Mr. Alfred\", \" Miss. Stella Anna\", \" Mr. William Fisher\", \" Mr. Ristiu\", \" Mr. Richard\", \" Mr. Yousseff\", \" Mrs. Jean Baptiste (Rosalie Paula Govaert)\", \" Mr. Martin\", \" Mr. Karl Johan\", \" Mr. Thomas Jr\", \" Miss. Ellen Natalia\", \" Mr. August\", \" Mr. William\", \" Mr. James\", \" Mr. Richard James\", \" Miss. Ebba Iris Alfrida\", \" Mr. Ernest Portage\", \" Mr. Richard\", \" Miss. Wendla Maria\", \" Mr. Albert\", \" Mr. John Fredrik Alexander\", \" Master. Karl Thorsten\", \" Jonkheer. John George\", \" Master. Urho Abraham\", \" Mr. John\", \" Mr. Len\", \" Mr. Amin\", \" Mr. Albert\", \" Mr. Owen George\", \" Mr. Jakob\", \" Mr. Maurice\", \" Mr. Ilmari Rudolf\", \" Mr. Thomas Charles\", \" Mr. Peter L\", \" Mr. Jeso\", \" Mr. Anthony\", \" Mr. Douglas Bullen\", \" Mr. Marin\", \" Rev. John\", \" Master. Sigvard Harald Elias\", \" Mr. Johan\", \" Miss. Nourelain\", \" Mrs. Ernest Courtenay (Lilian Hughes)\", \" Mr. Raihed\", \" Mr. Claus Peter\", \" Mr. Frederick Edward\", \" Miss. Dorothy Edith \\\"Dolly\\\"\", \" Mr. John William\", \" Mr. Washington Augustus II\", \" Mr. Philemon\", \" Mr. Cerin\", \" Mr. Frans Olof\", \" Mr. Victor\", \" Mr. Alfred Ossian\", \" Mr. Nedelio\", \" Mr. Kristo\", \" Mr. Johann\", \" Miss. Gerda Ulrika\", \" Mr. Frederick James\", \" Mr. Henry Jr\", \" Mrs. William (Margaret Norton)\", \" Rev. Juozas\", \" Miss. Catherine Helen \\\"Carrie\\\"\", \" Mr. Patrick\"], \"yaxis\": \"y\"}, {\"hovertemplate\": \"Survived=1.0<br>Age=%{x}<br>Name=%{y}<extra></extra>\", \"legendgroup\": \"1.0\", \"marker\": {\"color\": \"#3B61A3\", \"symbol\": \"circle\"}, \"mode\": \"markers\", \"name\": \"1.0\", \"showlegend\": true, \"type\": \"scattergl\", \"x\": [38.0, 26.0, 35.0, 27.0, 14.0, 4.0, 58.0, 55.0, 29.5, 22.0, 34.0, 15.0, 28.0, 38.0, 22.0, 36.0, 22.0, 25.0, 14.0, 3.0, 19.0, 22.0, 49.0, 29.0, 42.0, 21.0, 5.0, 38.0, 25.0, 29.0, 17.0, 32.0, 0.83, 30.0, 29.0, 22.0, 17.0, 33.0, 23.0, 23.0, 34.0, 21.0, 25.0, 22.0, 32.5, 12.0, 24.0, 22.0, 29.0, 19.0, 22.0, 24.0, 27.0, 22.0, 16.0, 40.0, 9.0, 36.0, 1.0, 1.0, 4.0, 22.0, 45.0, 32.0, 19.0, 3.0, 44.0, 58.0, 22.0, 18.0, 26.0, 16.0, 40.0, 35.0, 31.0, 27.0, 32.0, 16.0, 38.0, 19.0, 35.0, 5.0, 8.0, 22.0, 24.0, 37.0, 29.0, 36.0, 30.0, 35.0, 50.0, 3.0, 25.0, 58.0, 35.0, 25.0, 41.0, 22.0, 63.0, 35.0, 19.0, 30.0, 42.0, 22.0, 26.0, 19.0, 42.0, 50.0, 22.0, 25.0, 28.0, 0.92, 36.0, 17.0, 30.0, 24.0, 18.0, 26.0, 24.0, 31.0, 40.0, 30.0, 22.0, 36.0, 36.0, 31.0, 16.0, 22.0, 36.0, 41.0, 45.0, 2.0, 24.0, 24.0, 40.0, 22.0, 3.0, 22.0, 22.0, 22.0, 60.0, 22.0, 22.0, 24.0, 25.0, 36.0, 22.0, 42.0, 1.0, 35.0, 36.0, 17.0, 36.0, 21.0, 23.0, 24.0, 28.0, 39.0, 3.0, 33.0, 44.0, 34.0, 18.0, 28.0, 19.0, 32.0, 28.0, 22.0, 42.0, 14.0, 24.0, 45.0, 28.0, 25.0, 4.0, 13.0, 34.0, 5.0, 52.0, 49.0, 29.0, 36.0, 50.0, 48.0, 0.75, 33.0, 23.0, 2.0, 63.0, 25.0, 35.0, 9.0, 54.0, 16.0, 33.0, 42.0, 26.0, 29.0, 36.0, 54.0, 34.0, 36.0, 30.0, 44.0, 50.0, 2.0, 22.0, 7.0, 30.0, 22.0, 36.0, 32.0, 19.0, 29.5, 8.0, 17.0, 22.0, 22.0, 48.0, 39.0, 36.0, 32.0, 62.0, 53.0, 36.0, 22.0, 34.0, 39.0, 32.0, 25.0, 39.0, 18.0, 60.0, 52.0, 28.0, 49.0, 24.0, 35.0, 27.0, 22.0, 40.0, 22.0, 24.0, 4.0, 42.0, 20.0, 21.0, 80.0, 32.0, 28.0, 24.0, 25.0, 0.75, 48.0, 56.0, 23.0, 18.0, 22.0, 50.0, 20.0, 36.0, 40.0, 31.0, 18.0, 36.0, 27.0, 15.0, 31.0, 4.0, 25.0, 22.0, 18.0, 35.0, 45.0, 42.0, 22.0, 25.0, 24.0, 48.0, 38.0, 27.0, 6.0, 27.0, 30.0, 22.0, 29.0, 35.0, 42.0, 21.0, 31.0, 30.0, 4.0, 6.0, 48.0, 0.67, 33.0, 20.0, 36.0, 51.0, 54.0, 5.0, 43.0, 13.0, 17.0, 18.0, 1.0, 49.0, 31.0, 31.0, 11.0, 0.42, 27.0, 33.0, 52.0, 27.0, 27.0, 1.0, 25.0, 62.0, 15.0, 0.83, 39.0, 32.0, 42.0, 30.0, 36.0, 16.0, 18.0, 45.0, 51.0, 24.0, 48.0, 42.0, 27.0, 4.0, 47.0, 28.0, 15.0, 56.0, 25.0, 19.0, 26.0], \"xaxis\": \"x\", \"y\": [\" Mrs. John Bradley (Florence Briggs Thayer)\", \" Miss. Laina\", \" Mrs. Jacques Heath (Lily May Peel)\", \" Mrs. Oscar W (Elisabeth Vilhelmina Berg)\", \" Mrs. Nicholas (Adele Achem)\", \" Miss. Marguerite Rut\", \" Miss. Elizabeth\", \" Mrs. (Mary D Kingcome) \", \" Mr. Charles Eugene\", \" Mrs. Fatima\", \" Mr. Lawrence\", \" Miss. Anna \\\"Annie\\\"\", \" Mr. William Thompson\", \" Mrs. Carl Oscar (Selma Augusta Emilia Johansson)\", \" Miss. Ellen \\\"Nellie\\\"\", \" Mrs. William Augustus (Marie Eugenie)\", \" Miss. Mary Agatha\", \" Mr. Hanna\", \" Miss. Jamila\", \" Miss. Simonne Marie Anne Andree\", \" Miss. Margaret Delia\", \" Miss. Bridget\", \" Mrs. Henry Sleeper (Myna Haxtun)\", \" Mrs. Lizzie (Elizabeth Anne Wilkinson)\", \" Mr. Hugh\", \" Miss. Emily\", \" Miss. Constance Mirium\", \" Miss. Amelie\", \" Master. Gerios\", \" Mrs. (Elizabeth Ramell)\", \" Miss. Erna Alexandra\", \" Mr. Lee\", \" Master. Alden Gates\", \" Miss. Elizabeth\", \" Mr. Jan Baptist\", \" Miss. Brigdet Delia\", \" Miss. Bertha\", \" Mrs. Karl Alfred (Maria Mathilda Gustafsson)\", \" Miss. Mabel Helen\", \" Mr. William Bertram\", \" Mrs. John T (Ada Julia Bone)\", \" Miss. Anna Kristine\", \" Mr. Albert Johan\", \" Miss. Bertha\", \" Miss. Susan\", \" Master. Elias\", \" Mr. Fridtjof Arne\", \" Miss. Anna\", \" Mrs. Leopold (Mathilde Francoise Pede)\", \" Miss. Helen Monypeny\", \" Miss. Anna Sofia\", \" Mrs. Pekka Pietari (Elin Matilda Dolck)\", \" Mr. August Edvard (\\\"Wennerstrom\\\")\", \" Mrs. Thomas (Edith Wearne)\", \" Miss. Katherine \\\"Katie\\\"\", \" Mrs. James (Elizabeth \\\"Bessie\\\" Inglis Milne)\", \" Master. Frank John William \\\"Frankie\\\"\", \" Mrs. (Edith Martha Bowerman)\", \" Miss. Eleanor Ileen\", \" Master. Richard F\", \" Miss. Luise Gretchen\", \" Mrs. Thomas (Johanna \\\"Hannah\\\" Godfrey)\", \" Mr. Charles Hallace (\\\"Mr C Rolmane\\\")\", \" Mrs. (Rosa)\", \" Miss. Carla Christine Nielsine\", \" Master. Michel M\", \" Mrs. James Joseph (Margaret Tobin)\", \" Miss. Elise\", \" Miss. Margaret \\\"Maggie\\\"\", \" Mr. Gurshon \\\"Gus\\\"\", \" Mr. Nassef Cassem\", \" Miss. Helen \\\"Ellen\\\"\", \" Mr. Henry\", \" Miss. Clear Annie\", \" Miss. Madeleine\", \" Miss. Eliina\", \" Miss. Albina\", \" Mr. Victor Francis\", \" Mr. Frederick Maxfield\", \" Mr. William John\", \" Mrs. Henry Birkhardt (Irene Wallach)\", \" Miss. Lillian Gertrud\", \" Miss. Marjorie \\\"Lottie\\\"\", \" Miss. Katherine \\\"Kate\\\"\", \" Mrs. William (Anna)\", \" Mr. Richard Leonard\", \" Mrs. Darwis (Hanne Youssef Razi)\", \" Mrs. Gertrude Maybelle\", \" Miss. Gladys\", \" Miss. Anna\", \" Mrs. (Lutie Davis)\", \" Master. Edvin Rojj Felix\", \" Mr. Ernst Ulrik\", \" Mrs. William Thompson (Edith Junkins)\", \" Miss. Amelia\", \" Mr. William Henry\", \" Mrs. (Elizabeth Anne Maidment)\", \" Miss. Hanora \\\"Nora\\\"\", \" Miss. Kornelia Theodosia\", \" Mrs. Stanton (Rosa Hunt)\", \" Mr. Edward Arthur\", \" Mr. Theodore\", \" Mr. Masabumi\", \" Miss. Kate\", \" Miss. Ellen \\\"Nellie\\\"\", \" Mrs. Dickinson H (Helen Walton)\", \" Mr. Adolphe\", \" Mrs. James (Helene DeLaudeniere Chaput)\", \" Miss. Anna Katherine \\\"Annie Kate\\\"\", \" Mr. Bernard\", \" Miss. Nora A\", \" Master. Hudson Trevor\", \" Miss. Margaret\", \" Mrs. Victor de Satode (Maria Josefa Perez de Soto y Vallejo)\", \" Miss. Laura Mabel\", \" Miss. Margaret Bechstein\", \" Miss. Emily Borie\", \" Miss. Helmina Josefina\", \" Mrs. Sinai (Miriam Sternin)\", \" Miss. Mary Natalie\", \" Mrs. Frederic Oakley (Margaretta Corning Stone)\", \" Miss. Hilda Mary\", \" Mrs. Albert Francis (Sylvia Mae Harbaugh)\", \" Miss. Marie Grice\", \" Mrs. (Ada E Hall)\", \" Mrs. Frank John (Emily Alice Brown)\", \" Miss. Jean Gertrude\", \" Miss. Agnes\", \" Mrs. Henry William (Clara Heinsheimer)\", \" Miss. Elizabeth Margaret\", \" Mr. Karl Edwart\", \" Master. Edmond Roger\", \" Miss. Alice Elizabeth\", \" Miss. Amelia \\\"Mildred\\\"\", \" Miss. Marion Elsie\", \" Mrs. Thomas Henry (Mary E Finck)\", \" Master. William Loch \\\"William\\\"\", \" Miss. Elsie Edith\", \" Miss. Mary\", \" Miss. Helen Mary \\\"Ellie\\\"\", \" Mrs. Frank Manley (Anna Sophia Atkinson)\", \" Mrs. (Mantoura Boulos)\", \" Miss. Annie\", \" Mme. Leontine Pauline\", \" Mr. George Achilles\", \" Mrs. Edgar Joseph (Leila Saks)\", \" Miss. Aurora Adelia\", \" Miss. Rosalie\", \" Miss. Maria (\\\"Mary\\\")\", \" Mrs. Alexander Oskar (Mary Aline Towner)\", \" Miss. Kate\", \" Miss. Bertha\", \" Mr. William Ernest\", \" Mr. Carl Olof\", \" Miss. Marjorie\", \" Mrs. Hjalmar (Agnes Charlotta Bengtsson)\", \" Mrs. William H (Jessie L)\", \" Mr. Juha\", \" Master. William Rowe\", \" Miss. Daisy E\", \" Mr. Johan Julian\", \" Mrs. James Vivian (Lulu Thorne Christian)\", \" Miss. Lyyli Karoliina\", \" Mrs. Charles V (Ada Maria Winfield)\", \" Miss. Kate Florence (\\\"Mrs Kate Louise Phillips Marshall\\\")\", \" Mr. Berk (Berk Trembisky)\", \" Mr. Mauritz Hakan\", \" Mrs. Percival (Florence Kate White)\", \" Mrs. Charles Alexander (Alice Adelaide Slow)\", \" Miss. Lucile Polk\", \" Mrs. Sidney (Emily Hocking)\", \" Mrs. Benjamin (Esther Ada Bloomfield)\", \" Ms. Encarnacion\", \" Mr. Bernt\", \" Master. Washington\", \" Miss. Madeleine Violet\", \" Mr. Frederic Kimber\", \" Miss. Marie Catherine\", \" Major. Arthur Godfrey\", \" Mr. Samuel L\", \" Mr. Ivan\", \" Mrs. Frederick R (Marion)\", \" Miss. Ellen\", \" Mr. Harry\", \" Miss. Helene Barbara\", \" Mrs. Edwy Arthur (Ada Mary Worth)\", \" Mrs. Amin S (Marie Marthe Thuillard)\", \" Miss. Hildur E\", \" Mrs. (Hedwig)\", \" Mr. Dickinson H\", \" Mrs. Frederick Maxfield (Jane Anne Forby)\", \" Master. Eden Leslie \\\"Neville\\\"\", \" Miss. Elizabeth Mussey\", \" Miss. Roberta\", \" Mrs. Frederick Charles (Jane Richards)\", \" Mr. George (\\\"George Arthur Brayton\\\")\", \" Mr. Fang\", \" Mr. Eugene Patrick\", \" Mr. James Robert\", \" Mrs. Martin (Elizabeth L. Barrett)\", \" Mrs. (Amelia Milley)\", \" Mrs. William A (Florence \\\"Mary\\\" Agnes Hughes)\", \" Miss. Anne\", \" Mrs. Louis Albert (Ida Sophia Fischer)\", \" Miss. Lucy\", \" Miss. Phyllis May\", \" Mrs. Catherine (Catherine Rizk)\", \" Miss. Eva Miriam\", \" Miss. Bertha\", \" Miss. Hedwig Margaritha\", \" Miss. Harriet R\", \" Mr. Edward\", \" Mrs. Edward (Ethel Clarke)\", \" Mr. Julian\", \" Master. John Morgan Jr\", \" Mr. John Borland Jr\", \" Mr. Fahim (\\\"Philip Zenni\\\")\", \" Miss. Velin\", \" Lady. (Lucille Christiana Sutherland) (\\\"Mrs Morgan\\\")\", \" Mrs. Emil (Tillie Mandelbaum)\", \" Mrs. Guillaume Joseph (Emma)\", \" Mr. Carl\", \" Mr. George\", \" Mrs. Edward Dale (Charlotte Lamson)\", \" Mr. John Irwin (\\\"Irving\\\")\", \" Miss. Mary\", \" Miss. Ethel\", \" Mrs. William Baird (Alice Munger)\", \" Mr. Eiriik\", \" Miss. Julie Rachel\", \" Mrs. John Borland (Marian Longstreth Morris)\", \" Miss. Ruth\", \" Mr. Maxmillian\", \" Mrs. Walter Bertram (Martha Eustis)\", \" Miss. Jessie Wills\", \" Sir. Cosmo Edmund (\\\"Mr Morgan\\\")\", \" Mrs. Sidney Samuel (Amy Frances Christy)\", \" Mr. Harry (\\\"Mr E Haven\\\")\", \" Mr. Robert Williams\", \" Mrs. Joseph (Juliette Marie Louise Lafargue)\", \" Miss. Elizabeth W\", \" Miss. Margaret Jane\", \" Miss. Alice\", \" Miss. Marion Louise\", \" Mr. Edwin Nelson Jr\", \" Mr. Sahid\", \" Miss. Gretchen Fiske\", \" Mr. Algernon Henry Wilson\", \" Dr. Max\", \" Miss. Mary\", \" Mlle. Emma\", \" Mr. Choong\", \" Miss. Eugenie\", \" Mr. Henry Sleeper\", \" Col. Oberst Alfons\", \" Miss. Amy Zillah Elsie\", \" Miss. Elsie\", \" Miss. Hanora \\\"Norah\\\"\", \" Dr. Henry William\", \" Mr. Eino William\", \" Mrs. Elmer Zebley (Juliet Cummins Wright)\", \" Mrs. Thomas William Solomon (Elizabeth Catherine Ford)\", \" Mr. Charles\", \" Miss. Anna Sofia\", \" Mr. Thomas Drake Martinez\", \" Mr. Hammad\", \" Miss. Georgette Alexandra\", \" Mr. Albert Adrian\", \" Miss. Manca\", \" Mr. Ali\", \" Miss. Katherine \\\"Katie\\\"\", \" Mrs. John Jacob (Madeleine Talmadge Force)\", \" Mr. Spencer Victor\", \" Mrs. Florence \\\"Fannie\\\"\", \" Mr. Edward Pennington\", \" Miss. Alice\", \" Master. Halim Gonios (\\\"William George\\\")\", \" Mlle. Berthe Antonine (\\\"Mrs de Villiers\\\")\", \" Mr. Elmer Zebley\", \" Miss. Caroline Louise\", \" Miss. Edwina Celia \\\"Winnie\\\"\", \" Miss. Annie Jessie \\\"Nina\\\"\", \" Mr. Norman Campbell\", \" Mrs. Peter Henry (Lillian Jefferys)\", \" Miss. Margareth\", \" Miss. Elisabeth Walton\", \" Mr. Gustave J\", \" Mr. Walter James\", \" Miss. Susan Parker \\\"Suzette\\\"\", \" Mr. Juho\", \" Miss. Anna\", \" Miss. Joan\", \" Master. Meier\", \" Mrs. Samuel (Jane Laver)\", \" Master. Viljo\", \" the Countess. of (Lucy Noel Martha Dyer-Edwards)\", \" Mr. Hanna Assi\", \" Mrs. William Ernest (Lucile Polk)\", \" Mrs. John C (Anna Andrews)\", \" Mrs. Elizabeth (Eliza Needs)\", \" Miss. Virginia Ethel\", \" Mrs. Edward Scott (Elisabeth Walton McMillan)\", \" Miss. Banoura\", \" Mrs. Albert Adrian (Vera Gillespie)\", \" Miss. Anna Sofia\", \" Master. Bertram Vere\", \" Dr. Alice (Farnham)\", \" Mrs. Mara\", \" Mrs. Harvey (Charlotte Annie Tate)\", \" Master. William Thornton II\", \" Master. Assad Alexander\", \" Mr. Oskar Arvid\", \" Mrs. Norman Campbell (Bertha Griggs)\", \" Mrs. Charles Melville (Clara Jennings Gregg)\", \" Mr. Nikola\", \" Mrs. (Beila)\", \" Master. Andre\", \" Mr. Thomas Joseph\", \" Mrs. George Nelson (Martha Evelyn)\", \" Mrs. Antoni (Selini Alexander)\", \" Master. George Sibley\", \" Miss. Sara Rebecca\", \" Mr. Chang\", \" Mr. Pierre\", \" Miss. Augusta\", \" Mrs. Samuel L (Edwiga Grabowska)\", \" Miss. Mary Conover\", \" Mrs. Sam (Leah Rosen)\", \" Mrs. George Dennick (Mary Hitchcock)\", \" Mr. Peter Denis \", \" Mrs. Solomon (Latifa Qurban)\", \" Mrs. Frederick Joel (Margaret Welles Barron)\", \" Mrs. (Karolina)\", \" Miss. Asuncion\", \" Master. Harold Theodor\", \" Mrs. Richard Leonard (Sallie Monypeny)\", \" Mrs. Samuel (Hannah Wizosky)\", \" Miss. Adele Kiamie \\\"Jane\\\"\", \" Mrs. Thomas Jr (Lily Alexenia Wilson)\", \" Mrs. William (Imanita Parrish Hall)\", \" Miss. Margaret Edith\", \" Mr. Karl Howell\"], \"yaxis\": \"y\"}, {\"hovertemplate\": \"Survived=nan<br>Age=%{x}<br>Name=%{y}<extra></extra>\", \"legendgroup\": \"nan\", \"marker\": {\"color\": \"#76A4AC\", \"symbol\": \"circle\"}, \"mode\": \"markers\", \"name\": \"nan\", \"showlegend\": true, \"type\": \"scattergl\", \"x\": [34.5, 47.0, 62.0, 27.0, 22.0, 14.0, 30.0, 26.0, 18.0, 21.0, 25.0, 46.0, 23.0, 63.0, 47.0, 24.0, 35.0, 21.0, 27.0, 45.0, 55.0, 9.0, 36.0, 21.0, 48.0, 50.0, 22.0, 22.5, 41.0, 25.0, 50.0, 24.0, 33.0, 22.0, 30.0, 18.5, 22.0, 21.0, 25.0, 25.0, 39.0, 42.0, 41.0, 30.0, 45.0, 25.0, 45.0, 25.0, 60.0, 36.0, 24.0, 27.0, 20.0, 28.0, 29.5, 10.0, 35.0, 25.0, 25.0, 36.0, 17.0, 32.0, 18.0, 22.0, 13.0, 28.0, 18.0, 47.0, 31.0, 60.0, 24.0, 21.0, 29.0, 28.5, 35.0, 32.5, 25.0, 55.0, 30.0, 24.0, 6.0, 67.0, 49.0, 25.0, 29.5, 25.0, 27.0, 18.0, 22.0, 2.0, 22.0, 25.0, 27.0, 25.0, 25.0, 25.0, 76.0, 29.0, 20.0, 33.0, 43.0, 27.0, 25.0, 26.0, 16.0, 28.0, 21.0, 25.0, 25.0, 18.5, 41.0, 22.0, 36.0, 18.5, 63.0, 18.0, 25.0, 1.0, 36.0, 29.0, 12.0, 25.0, 35.0, 28.0, 25.0, 17.0, 22.0, 22.0, 42.0, 24.0, 32.0, 53.0, 22.0, 25.0, 43.0, 24.0, 26.5, 26.0, 23.0, 40.0, 10.0, 33.0, 61.0, 28.0, 42.0, 31.0, 42.0, 22.0, 42.0, 30.0, 23.0, 25.0, 60.5, 36.0, 13.0, 24.0, 29.0, 23.0, 42.0, 26.0, 22.0, 7.0, 26.0, 25.0, 41.0, 26.0, 48.0, 18.0, 36.0, 22.0, 25.0, 27.0, 23.0, 25.0, 40.0, 15.0, 20.0, 54.0, 36.0, 64.0, 30.0, 37.0, 18.0, 25.0, 27.0, 40.0, 21.0, 17.0, 22.0, 40.0, 34.0, 42.0, 11.5, 61.0, 8.0, 33.0, 6.0, 18.0, 23.0, 22.0, 22.0, 0.33, 47.0, 8.0, 25.0, 42.0, 35.0, 24.0, 33.0, 25.0, 32.0, 25.0, 17.0, 60.0, 38.0, 42.0, 22.0, 57.0, 50.0, 25.0, 30.0, 21.0, 22.0, 21.0, 53.0, 22.0, 23.0, 22.0, 40.5, 36.0, 14.0, 21.0, 21.0, 25.0, 39.0, 20.0, 64.0, 20.0, 18.0, 48.0, 55.0, 45.0, 45.0, 25.0, 25.0, 41.0, 22.0, 42.0, 29.0, 22.0, 0.92, 20.0, 27.0, 24.0, 32.5, 25.0, 25.0, 28.0, 19.0, 21.0, 36.5, 21.0, 29.0, 1.0, 30.0, 25.0, 42.0, 25.0, 22.0, 17.0, 46.0, 25.0, 26.0, 22.0, 25.0, 20.0, 28.0, 40.0, 30.0, 22.0, 23.0, 0.75, 22.0, 9.0, 2.0, 36.0, 25.0, 24.0, 25.0, 25.0, 42.0, 30.0, 25.0, 53.0, 36.0, 26.0, 1.0, 25.0, 30.0, 29.0, 32.0, 29.5, 43.0, 24.0, 22.0, 64.0, 30.0, 0.83, 55.0, 45.0, 18.0, 22.0, 25.0, 37.0, 55.0, 17.0, 57.0, 19.0, 27.0, 22.0, 26.0, 25.0, 26.0, 33.0, 39.0, 23.0, 12.0, 46.0, 29.0, 21.0, 48.0, 39.0, 25.0, 19.0, 27.0, 30.0, 32.0, 39.0, 25.0, 25.0, 18.0, 32.0, 25.0, 58.0, 25.0, 16.0, 26.0, 38.0, 24.0, 31.0, 45.0, 25.0, 18.0, 49.0, 0.17, 50.0, 59.0, 25.0, 25.0, 30.0, 14.5, 24.0, 31.0, 27.0, 25.0, 22.0, 25.0, 22.0, 45.0, 29.0, 21.0, 31.0, 49.0, 44.0, 54.0, 45.0, 22.0, 21.0, 55.0, 5.0, 25.0, 26.0, 22.0, 19.0, 29.5, 24.0, 24.0, 57.0, 21.0, 6.0, 23.0, 51.0, 13.0, 47.0, 29.0, 18.0, 24.0, 48.0, 22.0, 31.0, 30.0, 38.0, 22.0, 17.0, 43.0, 20.0, 23.0, 50.0, 22.0, 3.0, 22.0, 37.0, 28.0, 25.0, 39.0, 38.5, 25.0, 25.0], \"xaxis\": \"x\", \"y\": [\" Mr. James\", \" Mrs. James (Ellen Needs)\", \" Mr. Thomas Francis\", \" Mr. Albert\", \" Mrs. Alexander (Helga E Lindqvist)\", \" Mr. Johan Cervin\", \" Miss. Kate\", \" Mr. Albert Francis\", \" Mrs. Joseph (Sophie Halaut Easu)\", \" Mr. John Samuel\", \" Mr. Ylio\", \" Mr. Charles Cresson\", \" Mrs. John Pillsbury (Nelle Stevenson)\", \" Mr. Benjamin\", \" Mrs. Herbert Fuller (Carrie Constance Toogood)\", \" Mrs. Sebastiano (Argenia Genovesi)\", \" Mr. Daniel\", \" Mr. Gerios\", \" Miss. Ida Livija\", \" Mrs. Mariana (Miriam\\\")\\\"\", \" Mr. Martin\", \" Master. Artur Karl\", \" Mrs. Alfred (Antoinette)\", \" Mr. Richard Norris II\", \" Mrs. Arthur Larned (Emily Maria Borie)\", \" Mr. Alexander A\", \" Miss. Helene Ragnhild\", \" Mr. Shedid\", \" Mr. John Bertram\", \" Mr. Elias\", \" Mr. Charles Alexander\", \" Mr. Clifford Thomas\", \" Mrs. Bertram (Eva Georgetta Light)\", \" Mrs. Andrew G (Elizabeth Lily\\\" Watson)\\\"\", \" Mr. Philipp Edmund\", \" Mr. Vassilios (Catavelas Vassilios\\\")\\\"\", \" Miss. Sarah A\", \" Miss. Manda\", \" Mr. Julius\", \" Mr. Ling\", \" Mr. Franz\", \" Mr. Thomas Parham\", \" Mr. Nathan\", \" Mrs. Walter H (Irene Colvin)\", \" Mrs. Edwin Nelson Jr (Gertrude Parsons)\", \" Mr. Nikolai Johannes\", \" Mr. Paul Romaine\", \" Mr. Patrick\", \" Mrs. William Robert (Emma Eliza Ward)\", \" Mrs. William (Winnie Minnie\\\" Treanor)\\\"\", \" Mr. Lucien Philip\", \" Mr. Franz\", \" Miss. Ellen Nellie\\\"\\\"\", \" Miss. Ethel Flora\", \" Mr. Serafino Emilio\", \" Master. Albert\", \" Mr. Bartol\", \" Mr. Olaus Jorgensen\", \" Mr. Thomas Henry\", \" Miss. Victorine\", \" Mr. Mirko\", \" Mr. Arthur Gordon\", \" Mr. Ernst Herbert\", \" Miss. Bridget Delia\", \" Master. John Borie\", \" Mrs. Percy C (Mary Phyllis Elizabeth Miller)\", \" Miss. Mary Delia\", \" Mr. Clarence Bloomfield\", \" Mr. Gilbert Milligan Jr\", \" Mrs. Mark (Mary McDougald)\", \" Miss. Bertha E\", \" Mr. Lazar\", \" Miss. Manta Josefina\", \" Mr. Servando\", \" Miss. Amalie\", \" Mr. Edwin\", \" Mr. Frank\", \" Mrs. Robert Clifford (Malvina Helen Lamson)\", \" Mr. Charles Augustus\", \" Miss. Elizabeth\", \" Master. Akar\", \" Mr. Isidor\", \" Mr. Howard Brown\", \" Mr. Marinko\", \" Mr. John Joseph\", \" Mr. Betros\", \" Miss. Julia\", \" Miss. Emily Louisa\", \" Ms. Bridget\", \" Master. Ralph Lester\", \" Mrs. Adolf Fredrik (Anna Elisabeth Judith Andersson)\", \" Mr. Olaf\", \" Mrs. Thornton (Orian Hays)\", \" Mr. Robert\", \" Mr. Jakob\", \" Mr. Gunnar Isidor\", \" Mrs. Tyrell William (Julia Florence Siegel)\", \" Mr. Kalle Edvard\", \" Miss. Elin Ester Maria\", \" Mr. William Henry\", \" Mrs. Charles Emil Henry (Annie May Morris)\", \" Mr. Leopold\", \" Mr. William\", \" Mr. Oskar Leander\", \" Mrs. Alexander (Thamine Thelma\\\")\\\"\", \" Mr. Johan Martin\", \" Mr. Daniel\", \" Mr. Edward\", \" Mr. Aaron (Abi Weller\\\")\\\"\", \" Mr. George\", \" Mr. Samuel Ward\", \" Miss. Ellen Natalia\", \" Miss. Edith Corse\", \" Miss. Katherine\", \" Mrs. Isidor (Rosalie Ida Blun)\", \" Mr. Demetrios\", \" Mr. John\", \" Miss. Beatrice Irene\", \" Mr. Thomson\", \" Mrs. John Henry (Sara Elizabeth Lawry)\", \" Miss. Bertha J\", \" Mr. John\", \" Mrs. Paul (Emma Mock)\", \" Mr. Alfred John\", \" Mr. John\", \" Miss. Laura Alice\", \" Mr. Karl Rudolf\", \" Miss. Alicia\", \" Mr. Solomon\", \" Mr. Marius\", \" Mr. Henry John\", \" Col. Archibald IV\", \" Mrs. Frank (Frances)\", \" Mr. Charles P\", \" Mr. Valtcho\", \" Mr. Carl Robert\", \" Mr. Mapriededer\", \" Mr. August\", \" Miss. Jennie\", \" Mr. Charles Frederick\", \" Miss. Jessie Allis\", \" Miss. Sarah\", \" Mr. Arthur Larned\", \" Mr. Henry James\", \" Mr. Erik Gustaf (Mr Edward Lingrey\\\")\\\"\", \" Mr. Julius\", \" Mr. Herbert Henry\", \" Mr. Evan\", \" Mr. John Bertram\", \" Rev. William\", \" Mrs. Boulton (Olive Potter)\", \" Mr. Nicola\", \" Mr. Thomas\", \" Mrs. (Hulda Kristina Eugenia Lofqvist)\", \" Master. Filip Oscar\", \" Mr. Joseph\", \" Miss. Ellen\", \" Miss. Olga Elida\", \" Mr. John James\", \" Mrs. Benjamin (Edith Nile)\", \" Miss. Julia\", \" Master. Georges Youssef\", \" Miss. Marion\", \" Mr. Ernest\", \" Rev. Joseph Maria\", \" Mrs. Anton (Luise Heilmann)\", \" Mr. Emil\", \" Mr. Edward Watson\", \" Mrs. Henry Arthur Jr (Eleanor Genevieve Fosdick)\", \" Miss. Hilda Maria\", \" Mr. Simon\", \" Mr. Ortin\", \" Mr. Adolf Fredrik\", \" Mr. Assad\", \" Mr. Carl Oscar Vilhelm Gustafsson\", \" Miss. Edith Eileen\", \" Miss. Maude\", \" Mr. Charles Emil Henry\", \" Mrs. Allen Oliver (Nellie E Baumgardner)\", \" Mrs. Alexander Taylor (Mary Eliza Ingersoll)\", \" Mr. James Matthew\", \" Mr. Alexander Taylor Jr\", \" Mrs. Daniel Warner (Mary Graham Carmichael Farquarson)\", \" Mr. Patrick\", \" Mrs. Frederick Charles (Mary Helene Baxter)\", \" Mr. Frank Hubert\", \" Miss. Alice Frances Louisa\", \" Mr. Joseph\", \" Miss. Ada\", \" Mr. James\", \" Mr. William A\", \" Mr. Abraham L\", \" Master. Walter John\", \" Mr. John\", \" Master. Marshall Brines\", \" Mr. Julius Konrad Eugen\", \" Master. Robert Douglas\", \" Miss. Berta Olivia\", \" Mr. Charles Robert\", \" Mrs. (Lena Jacobsen Solvang)\", \" Miss. Nora\", \" Master. Gilbert Sigvard Emanuel\", \" Col. John Jacob\", \" Miss. Winifred Vera\", \" Mr. Frank Thomas\", \" Mr. Alfred Fernand\", \" Miss. Katherine\", \" Mr. Sidney C Stuart\", \" Miss. Edith Louise\", \" Mr. Redjo\", \" Mr. Albert Karvin\", \" Mr. Luigi\", \" Mr. Percy William\", \" Mrs. Benjamin (Ellen Truelove Arman)\", \" Miss. Ida Augusta Margareta\", \" Mr. Christopher\", \" Miss. Bridget Delia\", \" Mr. George Dennick\", \" Mrs. George Dunton (Eleanor Elkins)\", \" Mr. Alexander Morrison\", \" Miss. Florentina\", \" Mr. Harold J\", \" Mrs. (Selena Rogers)\", \" Mr. Einar Gervasius\", \" Mrs. Edward (Helen Churchill Hungerford)\", \" Mrs. George (Omine Amenia\\\" Alexander)\\\"\", \" Mr. Johan Charles\", \" Miss. Bridget\", \" Mr. Thomas James\", \" Mr. Samuel James Metcalfe\", \" Mr. George Frederick\", \" Miss. Constance\", \" Mr. Karl Johan\", \" Mr. Michael\", \" Mr. John Bradley\", \" Mr. Olof Edvin\", \" Mr. Frank Manley\", \" Mr. Raffull\", \" Miss. Marta\", \" Mrs. Walter Donald (Mahala Dutton)\", \" Mrs. Carl Johan (Sigrid Posse)\", \" Mrs. (Alice Frances)\", \" Mr. Frederic Oakley\", \" Mr. Abraham\", \" Master. William Arthur Willie\\\"\\\"\", \" Mr. Frederick R\", \" Mrs. J Frank (Claire Bennett)\", \" Mr. James Vivian\", \" Mrs. Stephen (Annie Margaret Hill)\", \" Mrs. Betros (Zahie Maria\\\" Elias)\\\"\", \" Miss. Barbara J\", \" Mr. Abraham August Johannes\", \" Mr. Walter Miller\", \" Mr. Karl Johan\", \" Mr. Linhart\", \" Mr. George William\", \" Mr. John\", \" Mr. Samuel\", \" Miss. Lilian W\", \" Mr. Karl Albert\", \" Mr. Guillaume Joseph\", \" Mr. August Ferdinand\", \" Mrs. Arthur Henry (Addie\\\" Dart Trevaskis)\\\"\", \" Miss. Gertrud Emilia\", \" Mr. Emilio Ilario Giuseppe\", \" Mr. Stanko\", \" Mr. Roderick Robert Crispin\", \" Mr. Charles William\", \" Miss. May Elizabeth\", \" Mr. Mate\", \" Mr. Thomas Francis\", \" Mr. Patrick\", \" Mrs. Walter Miller (Virginia McDowell)\", \" Miss. Mary\", \" Mr. Jean Nassr\", \" Miss. Dagmar Jenny Ingeborg \", \" Mr. Clifford Richard\", \" Mr. Harry\", \" Mr. John James\", \" Mr. Percy Thomas\", \" Miss. Jelka\", \" Master. Alfred Edward\", \" Miss. Honora\", \" Miss. Maria Youssef\", \" Miss. Salli Helena\", \" Mr. William\", \" Mr. Charles (Charles Fardon)\", \" Mr. John Pillsbury\", \" Mr. Sarkis\", \" Mr. Arthur\", \" Mr. George Alexander Lucien\", \" Miss. Margaret Marcella Maggie\\\"\\\"\", \" Mr. Mustafa\", \" Dr. Washington\", \" Mr. Camille\", \" Mr. Minko\", \" Miss. Louise\", \" Mr. Hanna\", \" Mr. Joseph Holland\", \" Mr. Nils\", \" Mr. Oscar Wilhelm\", \" Mr. Noel\", \" Mr. Escott Robert\", \" Mr. Tome\", \" Miss. Catherine Katie\\\"\\\"\", \" Mrs. Edward Gifford (Catherine Elizabeth Halstead)\", \" Mr. Hudson Joshua Creighton\", \" Master. Philip Frank\", \" Mr. Charles Melville\", \" Mrs. Claus Peter (Jennie L Howard)\", \" Mr. Jego Grga\", \" Mr. David\", \" Mr. Harry\", \" Miss. Jeannie\", \" Mrs. John Stuart (Ella Holmes)\", \" Miss. Kate\", \" Mr. William Augustus\", \" Mr. Reginald Harry\", \" Mr. Nils Hilding\", \" Mr. Ernest Wilfred\", \" Mr. Johan Samuel\", \" Mr. Neshan\", \" Mr. Israel\", \" Mr. Alfred G\", \" Miss. Emilie\", \" Mr. Ali\", \" Miss. Ruth Elizabeth\", \" Mr. George (Mr George Thorne\\\")\\\"\", \" Mr. Charles Valentine\", \" Mr. Ingvar\", \" Mrs. John Morgan (Elizabeth Agnes Mary White) \", \" Mr. William Crothers\", \" Mr. Tannous\", \" Mrs. Said (Waika Mary\\\" Mowad)\\\"\", \" Mr. Ivan\", \" Mr. John Edward\", \" Mr. Jose Joaquim\", \" Mr. Joseph\", \" Mr. Herbert\", \" Master. Seman\", \" Mr. Joseph Charles\", \" Mr. Thure Edvin\", \" Mr. John George\", \" Mrs. James Warburton Martinez (Charlotte Wardle Drake)\", \" Master. James William\", \" Miss. Karen Marie\", \" Mr. William Hull\", \" Mrs. George Joseph (Shawneene Abi-Saab)\", \" Mr. Ralph\", \" Miss. Nellie\", \" Mrs. Leo David (Blanche Strouse)\", \" Mr. Philip Joseph\", \" Mr. William\", \" Mr. Samuel\", \" Miss. Elizabeth Gladys Millvina\\\"\\\"\", \" Mr. Henry Forbes\", \" Mrs. John Murray (Caroline Lane Lamson)\", \" Mr. Edward\", \" Mr. Patrick\", \" Mrs. Edvard Bengtsson (Elin Gerda Persson)\", \" Master. William Henry\", \" Mrs. Albert (Antoinette Magnin)\", \" Mrs. John James (Florence Louise Long)\", \" Mr. Ivan\", \" Mrs. George Achilles (Dorothy Annan)\", \" Mrs. John (Annie Bullen)\", \" Mr. Joseph\", \" Miss. Susanna Juhantytar Sanni\\\"\\\"\", \" Mrs. Leonard (Pauline C Boeson)\", \" Mr. Emilio\", \" Mr. Edgar\", \" Miss. Helen Alice\", \" Mr. Joseph Bruce\", \" Mr. William H\", \" Mrs. Washington (Ruth Vidaver)\", \" Miss. Grace Scott\", \" Miss. Maria\", \" Mr. Henry Harry\\\"\\\"\", \" Mr. William Edward\", \" Master. Carl Edgar\", \" Mr. Patrick\", \" Mr. Joseph\", \" Mrs. Samuel (Emma)\", \" Mrs. Neal (Eileen O'Leary)\", \" Mr. Edwin Frederick\\\"\\\"\", \" Miss. Kate\", \" Mr. Ernst Axel Algot\", \" Mr. John\", \" Mr. Patrick\", \" Master. Paul Folke\", \" Mr. Vivian Ponsonby\", \" Mrs. Ernest H (Elizabeth Lindsey James)\", \" Master. Eugene Joseph\", \" Mr. William\", \" Mr. Anton\", \" Mrs. Lucien Philip (Mary Eloise Hughes)\", \" Mr. Patrick\", \" Mrs. Maxmillian (Margaretha Emerentia Stehli)\", \" Mr. Edvard A\", \" Mr. Thomas Henry\", \" Miss. Caroline\", \" Mr. Harry\", \" Miss. Dorothy Winifred\", \" Mr. Jose Pedro\", \" Mr. Isaac Gerald\", \" Mr. Alfred (Baron von Drachstedt\\\")\\\"\", \" Mr. William Jeffery\", \" Mr. George Dunton\", \" Miss. Johanna Hannah\\\"\\\"\", \" Miss. Treasteall\", \" Miss. Hannah\", \" Mrs. William Edward (Lillian E Thorpe)\", \" Miss. Jenny Lovisa\", \" Mr. Woolf\", \" Dona. Fermina\", \" Mr. Simon Sivertsen\", \" Mr. Frederick\", \" Master. Michael J\"], \"yaxis\": \"y\"}],                        {\"height\": 500, \"legend\": {\"title\": {\"text\": \"Survived\"}, \"tracegroupgap\": 0}, \"margin\": {\"t\": 60}, \"template\": {\"data\": {\"bar\": [{\"error_x\": {\"color\": \"#2a3f5f\"}, \"error_y\": {\"color\": \"#2a3f5f\"}, \"marker\": {\"line\": {\"color\": \"#E5ECF6\", \"width\": 0.5}}, \"type\": \"bar\"}], \"barpolar\": [{\"marker\": {\"line\": {\"color\": \"#E5ECF6\", \"width\": 0.5}}, \"type\": \"barpolar\"}], \"carpet\": [{\"aaxis\": {\"endlinecolor\": \"#2a3f5f\", \"gridcolor\": \"white\", \"linecolor\": \"white\", \"minorgridcolor\": \"white\", \"startlinecolor\": \"#2a3f5f\"}, \"baxis\": {\"endlinecolor\": \"#2a3f5f\", \"gridcolor\": \"white\", \"linecolor\": \"white\", \"minorgridcolor\": \"white\", \"startlinecolor\": \"#2a3f5f\"}, \"type\": \"carpet\"}], \"choropleth\": [{\"colorbar\": {\"outlinewidth\": 0, \"ticks\": \"\"}, \"type\": \"choropleth\"}], \"contour\": [{\"colorbar\": {\"outlinewidth\": 0, \"ticks\": \"\"}, \"colorscale\": [[0.0, \"#0d0887\"], [0.1111111111111111, \"#46039f\"], [0.2222222222222222, \"#7201a8\"], [0.3333333333333333, \"#9c179e\"], [0.4444444444444444, \"#bd3786\"], [0.5555555555555556, \"#d8576b\"], [0.6666666666666666, \"#ed7953\"], [0.7777777777777778, \"#fb9f3a\"], [0.8888888888888888, \"#fdca26\"], [1.0, \"#f0f921\"]], \"type\": \"contour\"}], \"contourcarpet\": [{\"colorbar\": {\"outlinewidth\": 0, \"ticks\": \"\"}, \"type\": \"contourcarpet\"}], \"heatmap\": [{\"colorbar\": {\"outlinewidth\": 0, \"ticks\": \"\"}, \"colorscale\": [[0.0, \"#0d0887\"], [0.1111111111111111, \"#46039f\"], [0.2222222222222222, \"#7201a8\"], [0.3333333333333333, \"#9c179e\"], [0.4444444444444444, \"#bd3786\"], [0.5555555555555556, \"#d8576b\"], [0.6666666666666666, \"#ed7953\"], [0.7777777777777778, \"#fb9f3a\"], [0.8888888888888888, \"#fdca26\"], [1.0, \"#f0f921\"]], \"type\": \"heatmap\"}], \"heatmapgl\": [{\"colorbar\": {\"outlinewidth\": 0, \"ticks\": \"\"}, \"colorscale\": [[0.0, \"#0d0887\"], [0.1111111111111111, \"#46039f\"], [0.2222222222222222, \"#7201a8\"], [0.3333333333333333, \"#9c179e\"], [0.4444444444444444, \"#bd3786\"], [0.5555555555555556, \"#d8576b\"], [0.6666666666666666, \"#ed7953\"], [0.7777777777777778, \"#fb9f3a\"], [0.8888888888888888, \"#fdca26\"], [1.0, \"#f0f921\"]], \"type\": \"heatmapgl\"}], \"histogram\": [{\"marker\": {\"colorbar\": {\"outlinewidth\": 0, \"ticks\": \"\"}}, \"type\": \"histogram\"}], \"histogram2d\": [{\"colorbar\": {\"outlinewidth\": 0, \"ticks\": \"\"}, \"colorscale\": [[0.0, \"#0d0887\"], [0.1111111111111111, \"#46039f\"], [0.2222222222222222, \"#7201a8\"], [0.3333333333333333, \"#9c179e\"], [0.4444444444444444, \"#bd3786\"], [0.5555555555555556, \"#d8576b\"], [0.6666666666666666, \"#ed7953\"], [0.7777777777777778, \"#fb9f3a\"], [0.8888888888888888, \"#fdca26\"], [1.0, \"#f0f921\"]], \"type\": \"histogram2d\"}], \"histogram2dcontour\": [{\"colorbar\": {\"outlinewidth\": 0, \"ticks\": \"\"}, \"colorscale\": [[0.0, \"#0d0887\"], [0.1111111111111111, \"#46039f\"], [0.2222222222222222, \"#7201a8\"], [0.3333333333333333, \"#9c179e\"], [0.4444444444444444, \"#bd3786\"], [0.5555555555555556, \"#d8576b\"], [0.6666666666666666, \"#ed7953\"], [0.7777777777777778, \"#fb9f3a\"], [0.8888888888888888, \"#fdca26\"], [1.0, \"#f0f921\"]], \"type\": \"histogram2dcontour\"}], \"mesh3d\": [{\"colorbar\": {\"outlinewidth\": 0, \"ticks\": \"\"}, \"type\": \"mesh3d\"}], \"parcoords\": [{\"line\": {\"colorbar\": {\"outlinewidth\": 0, \"ticks\": \"\"}}, \"type\": \"parcoords\"}], \"pie\": [{\"automargin\": true, \"type\": \"pie\"}], \"scatter\": [{\"marker\": {\"colorbar\": {\"outlinewidth\": 0, \"ticks\": \"\"}}, \"type\": \"scatter\"}], \"scatter3d\": [{\"line\": {\"colorbar\": {\"outlinewidth\": 0, \"ticks\": \"\"}}, \"marker\": {\"colorbar\": {\"outlinewidth\": 0, \"ticks\": \"\"}}, \"type\": \"scatter3d\"}], \"scattercarpet\": [{\"marker\": {\"colorbar\": {\"outlinewidth\": 0, \"ticks\": \"\"}}, \"type\": \"scattercarpet\"}], \"scattergeo\": [{\"marker\": {\"colorbar\": {\"outlinewidth\": 0, \"ticks\": \"\"}}, \"type\": \"scattergeo\"}], \"scattergl\": [{\"marker\": {\"colorbar\": {\"outlinewidth\": 0, \"ticks\": \"\"}}, \"type\": \"scattergl\"}], \"scattermapbox\": [{\"marker\": {\"colorbar\": {\"outlinewidth\": 0, \"ticks\": \"\"}}, \"type\": \"scattermapbox\"}], \"scatterpolar\": [{\"marker\": {\"colorbar\": {\"outlinewidth\": 0, \"ticks\": \"\"}}, \"type\": \"scatterpolar\"}], \"scatterpolargl\": [{\"marker\": {\"colorbar\": {\"outlinewidth\": 0, \"ticks\": \"\"}}, \"type\": \"scatterpolargl\"}], \"scatterternary\": [{\"marker\": {\"colorbar\": {\"outlinewidth\": 0, \"ticks\": \"\"}}, \"type\": \"scatterternary\"}], \"surface\": [{\"colorbar\": {\"outlinewidth\": 0, \"ticks\": \"\"}, \"colorscale\": [[0.0, \"#0d0887\"], [0.1111111111111111, \"#46039f\"], [0.2222222222222222, \"#7201a8\"], [0.3333333333333333, \"#9c179e\"], [0.4444444444444444, \"#bd3786\"], [0.5555555555555556, \"#d8576b\"], [0.6666666666666666, \"#ed7953\"], [0.7777777777777778, \"#fb9f3a\"], [0.8888888888888888, \"#fdca26\"], [1.0, \"#f0f921\"]], \"type\": \"surface\"}], \"table\": [{\"cells\": {\"fill\": {\"color\": \"#EBF0F8\"}, \"line\": {\"color\": \"white\"}}, \"header\": {\"fill\": {\"color\": \"#C8D4E3\"}, \"line\": {\"color\": \"white\"}}, \"type\": \"table\"}]}, \"layout\": {\"annotationdefaults\": {\"arrowcolor\": \"#2a3f5f\", \"arrowhead\": 0, \"arrowwidth\": 1}, \"autotypenumbers\": \"strict\", \"coloraxis\": {\"colorbar\": {\"outlinewidth\": 0, \"ticks\": \"\"}}, \"colorscale\": {\"diverging\": [[0, \"#8e0152\"], [0.1, \"#c51b7d\"], [0.2, \"#de77ae\"], [0.3, \"#f1b6da\"], [0.4, \"#fde0ef\"], [0.5, \"#f7f7f7\"], [0.6, \"#e6f5d0\"], [0.7, \"#b8e186\"], [0.8, \"#7fbc41\"], [0.9, \"#4d9221\"], [1, \"#276419\"]], \"sequential\": [[0.0, \"#0d0887\"], [0.1111111111111111, \"#46039f\"], [0.2222222222222222, \"#7201a8\"], [0.3333333333333333, \"#9c179e\"], [0.4444444444444444, \"#bd3786\"], [0.5555555555555556, \"#d8576b\"], [0.6666666666666666, \"#ed7953\"], [0.7777777777777778, \"#fb9f3a\"], [0.8888888888888888, \"#fdca26\"], [1.0, \"#f0f921\"]], \"sequentialminus\": [[0.0, \"#0d0887\"], [0.1111111111111111, \"#46039f\"], [0.2222222222222222, \"#7201a8\"], [0.3333333333333333, \"#9c179e\"], [0.4444444444444444, \"#bd3786\"], [0.5555555555555556, \"#d8576b\"], [0.6666666666666666, \"#ed7953\"], [0.7777777777777778, \"#fb9f3a\"], [0.8888888888888888, \"#fdca26\"], [1.0, \"#f0f921\"]]}, \"colorway\": [\"#636efa\", \"#EF553B\", \"#00cc96\", \"#ab63fa\", \"#FFA15A\", \"#19d3f3\", \"#FF6692\", \"#B6E880\", \"#FF97FF\", \"#FECB52\"], \"font\": {\"color\": \"#2a3f5f\"}, \"geo\": {\"bgcolor\": \"white\", \"lakecolor\": \"white\", \"landcolor\": \"#E5ECF6\", \"showlakes\": true, \"showland\": true, \"subunitcolor\": \"white\"}, \"hoverlabel\": {\"align\": \"left\"}, \"hovermode\": \"closest\", \"mapbox\": {\"style\": \"light\"}, \"paper_bgcolor\": \"white\", \"plot_bgcolor\": \"#E5ECF6\", \"polar\": {\"angularaxis\": {\"gridcolor\": \"white\", \"linecolor\": \"white\", \"ticks\": \"\"}, \"bgcolor\": \"#E5ECF6\", \"radialaxis\": {\"gridcolor\": \"white\", \"linecolor\": \"white\", \"ticks\": \"\"}}, \"scene\": {\"xaxis\": {\"backgroundcolor\": \"#E5ECF6\", \"gridcolor\": \"white\", \"gridwidth\": 2, \"linecolor\": \"white\", \"showbackground\": true, \"ticks\": \"\", \"zerolinecolor\": \"white\"}, \"yaxis\": {\"backgroundcolor\": \"#E5ECF6\", \"gridcolor\": \"white\", \"gridwidth\": 2, \"linecolor\": \"white\", \"showbackground\": true, \"ticks\": \"\", \"zerolinecolor\": \"white\"}, \"zaxis\": {\"backgroundcolor\": \"#E5ECF6\", \"gridcolor\": \"white\", \"gridwidth\": 2, \"linecolor\": \"white\", \"showbackground\": true, \"ticks\": \"\", \"zerolinecolor\": \"white\"}}, \"shapedefaults\": {\"line\": {\"color\": \"#2a3f5f\"}}, \"ternary\": {\"aaxis\": {\"gridcolor\": \"white\", \"linecolor\": \"white\", \"ticks\": \"\"}, \"baxis\": {\"gridcolor\": \"white\", \"linecolor\": \"white\", \"ticks\": \"\"}, \"bgcolor\": \"#E5ECF6\", \"caxis\": {\"gridcolor\": \"white\", \"linecolor\": \"white\", \"ticks\": \"\"}}, \"title\": {\"x\": 0.05}, \"xaxis\": {\"automargin\": true, \"gridcolor\": \"white\", \"linecolor\": \"white\", \"ticks\": \"\", \"title\": {\"standoff\": 15}, \"zerolinecolor\": \"white\", \"zerolinewidth\": 2}, \"yaxis\": {\"automargin\": true, \"gridcolor\": \"white\", \"linecolor\": \"white\", \"ticks\": \"\", \"title\": {\"standoff\": 15}, \"zerolinecolor\": \"white\", \"zerolinewidth\": 2}}}, \"width\": 1200, \"xaxis\": {\"anchor\": \"y\", \"domain\": [0.0, 1.0], \"title\": {\"text\": \"Age\"}}, \"yaxis\": {\"anchor\": \"x\", \"domain\": [0.0, 1.0], \"title\": {\"text\": \"Name\"}}},                        {\"responsive\": true}                    ).then(function(){\n",
       "                            \n",
       "var gd = document.getElementById('4230dfd3-4148-4343-bdb2-23ab4eb1200a');\n",
       "var x = new MutationObserver(function (mutations, observer) {{\n",
       "        var display = window.getComputedStyle(gd).display;\n",
       "        if (!display || display === 'none') {{\n",
       "            console.log([gd, 'removed!']);\n",
       "            Plotly.purge(gd);\n",
       "            observer.disconnect();\n",
       "        }}\n",
       "}});\n",
       "\n",
       "// Listen for the removal of the full notebook cells\n",
       "var notebookContainer = gd.closest('#notebook-container');\n",
       "if (notebookContainer) {{\n",
       "    x.observe(notebookContainer, {childList: true});\n",
       "}}\n",
       "\n",
       "// Listen for the clearing of the current output cell\n",
       "var outputEl = gd.closest('.output');\n",
       "if (outputEl) {{\n",
       "    x.observe(outputEl, {childList: true});\n",
       "}}\n",
       "\n",
       "                        })                };                });            </script>        </div>"
      ]
     },
     "metadata": {},
     "output_type": "display_data"
    }
   ],
   "source": [
    "dfplt = df.copy(deep=True)\n",
    "dfplt[\"Survived\"] = dfplt[\"Survived\"].astype(str)\n",
    "fig = px.scatter(dfplt, x=\"Age\", y=\"Name\", color = \"Survived\", size_max=6,\n",
    "                 width=1200, height=500,color_discrete_sequence=cm)\n",
    "fig.show()"
   ]
  },
  {
   "cell_type": "markdown",
   "metadata": {
    "_cell_guid": "a3c3236b-6766-4263-a71b-09be078c95a7",
    "_uuid": "e2120264-33ea-48ec-8983-e52d8dad2b19",
    "papermill": {
     "duration": 0.083459,
     "end_time": "2022-07-11T06:08:25.155867",
     "exception": false,
     "start_time": "2022-07-11T06:08:25.072408",
     "status": "completed"
    },
    "tags": []
   },
   "source": [
    "### <a class=\"anchor\" id=\"2.1.2_bullet\" style=\"color:#3B61A3\">  2.1.2 Filling \"Fare\" feature\n",
    "I will manually fill None value with the mean value for passanger class.\n",
    "After that we can replace Fare with a rank, because i assume that the value of difference is not important."
   ]
  },
  {
   "cell_type": "code",
   "execution_count": 42,
   "metadata": {
    "_cell_guid": "9ffb1dfc-ac94-4ad5-9224-e8c5dd6a86a3",
    "_uuid": "63d789be-4e77-4225-a6c1-751d26ad39af",
    "collapsed": false,
    "execution": {
     "iopub.execute_input": "2022-07-11T06:08:25.334475Z",
     "iopub.status.busy": "2022-07-11T06:08:25.333116Z",
     "iopub.status.idle": "2022-07-11T06:08:25.338465Z",
     "shell.execute_reply": "2022-07-11T06:08:25.339356Z"
    },
    "jupyter": {
     "outputs_hidden": false
    },
    "papermill": {
     "duration": 0.099905,
     "end_time": "2022-07-11T06:08:25.339598",
     "exception": false,
     "start_time": "2022-07-11T06:08:25.239693",
     "status": "completed"
    },
    "tags": []
   },
   "outputs": [
    {
     "name": "stdout",
     "output_type": "stream",
     "text": [
      "Survived             NaN\n",
      "Pclass                 3\n",
      "Name          Mr. Thomas\n",
      "Sex                 male\n",
      "Age                 60.5\n",
      "SibSp                  0\n",
      "Parch                  0\n",
      "Ticket              3701\n",
      "Fare                 NaN\n",
      "Cabin                 -1\n",
      "Embarked               S\n",
      "Deck                 N/A\n",
      "Side                 0.0\n",
      "Ticket_p             N/A\n",
      "Surname            Other\n",
      "Namesakes              0\n",
      "Title                 Mr\n",
      "Kid                    0\n",
      "Old                    1\n",
      "Alone                  1\n",
      "Name: 1044, dtype: object\n"
     ]
    }
   ],
   "source": [
    "print(df.loc[1044])\n",
    "df.loc[1044,\"Fare\"] = df[df[\"Pclass\"]==3][\"Fare\"].mean()"
   ]
  },
  {
   "cell_type": "code",
   "execution_count": 43,
   "metadata": {
    "_cell_guid": "b0c72175-2ec3-4fc7-ae66-e0ed14d86b8f",
    "_uuid": "98052483-20f1-41ca-a8c6-e13119d08402",
    "collapsed": false,
    "execution": {
     "iopub.execute_input": "2022-07-11T06:08:25.513229Z",
     "iopub.status.busy": "2022-07-11T06:08:25.512263Z",
     "iopub.status.idle": "2022-07-11T06:08:25.520898Z",
     "shell.execute_reply": "2022-07-11T06:08:25.521512Z"
    },
    "jupyter": {
     "outputs_hidden": false
    },
    "papermill": {
     "duration": 0.096977,
     "end_time": "2022-07-11T06:08:25.521711",
     "exception": false,
     "start_time": "2022-07-11T06:08:25.424734",
     "status": "completed"
    },
    "tags": []
   },
   "outputs": [],
   "source": [
    "df[\"Fare\"] = df[\"Fare\"].rank(method='max')"
   ]
  },
  {
   "cell_type": "code",
   "execution_count": 44,
   "metadata": {
    "_cell_guid": "3c07ea5f-fbc9-4625-ae56-772f7dd27875",
    "_uuid": "167ed852-4705-4a7a-b505-1dd50d743280",
    "collapsed": false,
    "execution": {
     "iopub.execute_input": "2022-07-11T06:08:25.695516Z",
     "iopub.status.busy": "2022-07-11T06:08:25.694576Z",
     "iopub.status.idle": "2022-07-11T06:08:25.781639Z",
     "shell.execute_reply": "2022-07-11T06:08:25.782111Z"
    },
    "jupyter": {
     "outputs_hidden": false
    },
    "papermill": {
     "duration": 0.175289,
     "end_time": "2022-07-11T06:08:25.782299",
     "exception": false,
     "start_time": "2022-07-11T06:08:25.607010",
     "status": "completed"
    },
    "tags": []
   },
   "outputs": [
    {
     "data": {
      "text/html": [
       "<div>                            <div id=\"db69a983-64de-4184-bd76-be8f3ac30abf\" class=\"plotly-graph-div\" style=\"height:500px; width:1200px;\"></div>            <script type=\"text/javascript\">                require([\"plotly\"], function(Plotly) {                    window.PLOTLYENV=window.PLOTLYENV || {};                                    if (document.getElementById(\"db69a983-64de-4184-bd76-be8f3ac30abf\")) {                    Plotly.newPlot(                        \"db69a983-64de-4184-bd76-be8f3ac30abf\",                        [{\"hovertemplate\": \"Survived=0.0<br>Fare=%{x}<br>Name=%{y}<extra></extra>\", \"legendgroup\": \"0.0\", \"marker\": {\"color\": \"#273176\", \"symbol\": \"circle\"}, \"mode\": \"markers\", \"name\": \"0.0\", \"showlegend\": true, \"type\": \"scattergl\", \"x\": [117.0, 421.0, 430.0, 1077.0, 785.0, 421.0, 986.0, 275.0, 954.0, 740.0, 883.0, 785.0, 75.0, 1305.0, 337.0, 930.0, 529.0, 1199.0, 1085.0, 421.0, 740.0, 470.0, 780.0, 337.0, 421.0, 700.0, 788.0, 736.0, 1045.0, 249.0, 1131.0, 99.0, 1062.0, 99.0, 1209.0, 941.0, 930.0, 425.0, 454.0, 529.0, 1062.0, 1164.0, 658.0, 141.0, 337.0, 421.0, 461.0, 1064.0, 1012.0, 421.0, 421.0, 421.0, 275.0, 1127.0, 766.0, 117.0, 421.0, 1013.0, 883.0, 337.0, 337.0, 1175.0, 433.0, 360.0, 337.0, 337.0, 1085.0, 658.0, 421.0, 488.0, 662.0, 360.0, 210.0, 780.0, 1292.0, 986.0, 1164.0, 421.0, 968.0, 1175.0, 210.0, 35.0, 337.0, 47.0, 673.0, 621.0, 678.0, 1095.0, 462.0, 1189.0, 690.0, 30.0, 542.0, 1022.0, 1012.0, 883.0, 621.0, 558.0, 421.0, 673.0, 119.0, 1129.0, 421.0, 454.0, 1153.0, 729.0, 236.0, 454.0, 1045.0, 941.0, 831.0, 1111.0, 1006.0, 954.0, 360.0, 976.0, 275.0, 827.0, 945.0, 621.0, 17.0, 1153.0, 679.0, 993.0, 1069.0, 700.0, 337.0, 621.0, 210.0, 428.0, 621.0, 483.0, 1153.0, 28.0, 75.0, 494.0, 712.0, 47.0, 117.0, 621.0, 210.0, 918.0, 529.0, 621.0, 421.0, 337.0, 469.0, 117.0, 621.0, 827.0, 236.0, 631.0, 529.0, 131.0, 883.0, 529.0, 546.0, 658.0, 529.0, 53.0, 75.0, 1219.0, 236.0, 883.0, 117.0, 494.0, 916.0, 729.0, 756.0, 210.0, 1192.0, 17.0, 210.0, 529.0, 1045.0, 979.0, 959.0, 210.0, 17.0, 954.0, 210.0, 275.0, 483.0, 883.0, 454.0, 337.0, 562.0, 458.0, 337.0, 930.0, 99.0, 1264.0, 17.0, 421.0, 813.0, 883.0, 337.0, 889.0, 643.0, 117.0, 337.0, 1153.0, 21.0, 943.0, 1267.0, 740.0, 337.0, 1140.0, 1018.0, 621.0, 621.0, 621.0, 454.0, 465.0, 1014.0, 99.0, 736.0, 75.0, 483.0, 621.0, 941.0, 930.0, 658.0, 47.0, 700.0, 117.0, 28.0, 421.0, 1253.0, 785.0, 1280.0, 19.0, 236.0, 360.0, 337.0, 1164.0, 1062.0, 145.0, 360.0, 248.0, 275.0, 883.0, 529.0, 421.0, 488.0, 712.0, 454.0, 780.0, 210.0, 236.0, 827.0, 337.0, 31.0, 17.0, 421.0, 621.0, 822.0, 337.0, 152.0, 276.0, 648.0, 756.0, 117.0, 210.0, 53.0, 1103.0, 1012.0, 1305.0, 529.0, 483.0, 236.0, 935.0, 753.0, 935.0, 421.0, 916.0, 210.0, 421.0, 1026.0, 621.0, 421.0, 47.0, 17.0, 916.0, 144.0, 117.0, 454.0, 489.0, 1085.0, 780.0, 38.0, 123.0, 1062.0, 17.0, 421.0, 827.0, 959.0, 421.0, 753.0, 117.0, 974.0, 1067.0, 421.0, 662.0, 681.0, 1264.0, 248.0, 454.0, 210.0, 135.0, 485.0, 1231.0, 797.0, 421.0, 122.0, 1007.0, 822.0, 337.0, 337.0, 75.0, 99.0, 210.0, 1284.0, 360.0, 542.0, 99.0, 99.0, 454.0, 916.0, 673.0, 986.0, 986.0, 1228.0, 883.0, 762.0, 883.0, 253.0, 916.0, 1289.0, 210.0, 337.0, 631.0, 421.0, 421.0, 822.0, 337.0, 785.0, 99.0, 421.0, 673.0, 662.0, 883.0, 1046.0, 457.0, 674.0, 421.0, 421.0, 53.0, 117.0, 210.0, 883.0, 822.0, 17.0, 75.0, 337.0, 1052.0, 421.0, 702.0, 337.0, 986.0, 47.0, 210.0, 421.0, 648.0, 729.0, 529.0, 658.0, 275.0, 729.0, 999.0, 553.0, 337.0, 152.0, 49.0, 17.0, 941.0, 360.0, 889.0, 1045.0, 729.0, 275.0, 941.0, 337.0, 131.0, 337.0, 429.0, 30.0, 1164.0, 337.0, 700.0, 621.0, 1238.0, 75.0, 828.0, 122.0, 1164.0, 621.0, 236.0, 421.0, 1085.0, 529.0, 17.0, 236.0, 421.0, 1062.0, 424.0, 465.0, 1062.0, 1033.0, 1050.0, 1045.0, 492.0, 248.0, 75.0, 916.0, 631.0, 421.0, 1235.0, 141.0, 658.0, 155.0, 275.0, 883.0, 916.0, 471.0, 621.0, 141.0, 700.0, 236.0, 49.0, 621.0, 621.0, 454.0, 883.0, 360.0, 745.0, 17.0, 621.0, 621.0, 729.0, 1012.0, 337.0, 337.0, 1183.0, 729.0, 1155.0, 759.0, 1095.0, 210.0, 483.0, 337.0, 248.0, 542.0, 421.0, 673.0, 53.0, 236.0, 1038.0, 210.0, 822.0, 427.0, 483.0, 275.0, 529.0, 75.0, 210.0, 210.0, 154.0, 966.0, 811.0, 47.0, 117.0, 954.0, 1189.0, 210.0, 883.0, 1153.0, 976.0, 337.0, 621.0, 99.0, 822.0, 621.0, 236.0, 17.0, 236.0, 621.0, 288.0, 822.0, 529.0, 986.0, 421.0, 17.0, 360.0, 1025.0, 25.0, 941.0, 17.0, 1045.0, 33.0, 1111.0, 99.0, 275.0, 426.0, 454.0, 421.0, 360.0, 529.0, 24.0, 454.0, 131.0, 1153.0, 337.0, 1005.0, 986.0, 236.0, 690.0, 883.0, 99.0, 645.0, 542.0, 1153.0, 621.0, 1071.0, 483.0, 337.0, 20.0, 461.0, 491.0, 337.0, 337.0, 337.0, 530.0, 529.0, 47.0, 954.0, 621.0, 811.0, 210.0], \"xaxis\": \"x\", \"y\": [\" Mr. Owen Harris\", \" Mr. William Henry\", \" Mr. James\", \" Mr. Timothy J\", \" Master. Gosta Leonard\", \" Mr. William Henry\", \" Mr. Anders Johan\", \" Miss. Hulda Amanda Adolfina\", \" Master. Eugene\", \" Mrs. Julius (Emelia Maria Vandemoortele)\", \" Mr. Joseph J\", \" Miss. Torborg Danira\", \" Mr. Farred Chehab\", \" Mr. Charles Alexander\", \" Mr. Lalio\", \" Don. Manuel E\", \" Mr. Edward H\", \" Mr. Edgar Joseph\", \" Mr. Alexander Oskar\", \" Mr. Ernest Charles\", \" Miss. Augusta Maria\", \" Mrs. Johan (Johanna Persdotter Larsson)\", \" Mrs. William John Robert (Dorothy Ann Wonnacott)\", \" Mr. Theodor\", \" Mr. William John\", \" Mr. Denis\", \" Mr. Youssef\", \" Mrs. Josef (Josefine Franchi)\", \" Master. Juha Niilo\", \" Mr. Richard Cater\", \" Mr. Engelhart Cornelius\", \" Mr. Mansouer\", \" Master. William Frederick\", \" Mr. Orsen\", \" Mr. Henry Birkhardt\", \" Master. Harald\", \" Mr. Albert A\", \" Mr. Ernest James\", \" Mr. Vincenz\", \" Mr. Stephen Curnow\", \" Miss. Lillian Amy\", \" Mr. Ambrose Jr\", \" Mr. Apostolos\", \" Mr. Sigurd Hansen\", \" Mr. Ivan\", \" Mr. Rahamin Haim\", \" Mr. Achille\", \" Mr. Francisco M\", \" Mr. William Neal\", \" Mr. Selman Francis\", \" Mr. Francesco\", \" Mr. Emil\", \" Mr. Paul Edvin\", \" Mr. Herbert Fuller\", \" Mr. Bertram Frank\", \" Mr. Daniel\", \" Mr. Charles Joseph\", \" Mr. George B\", \" Mr. Sinai\", \" Miss. Matilda\", \" Mr. Pastcho (\\\"Pentcho\\\")\", \" Mr. Richard Frasar\", \" Mr. Gustaf Joel\", \" Mr. Anders Vilhelm\", \" Mr. Stoytcho\", \" Mr. Tido\", \" Mr. Walter Chamberlain\", \" Miss. Hileni\", \" Mr. David John\", \" Miss. Katriina\", \" Miss. Malake\", \" Mr. Edvard\", \" Mr. Patrick\", \" Mr. William John Robert\", \" Mr. Quigg Edmond\", \" Miss. Ellis Anna Maria\", \" Mr. Stanley George\", \" Mr. Leonard Charles\", \" Mr. Nicholas\", \" Mr. Percival Wayland\", \" Mr. Martin\", \" Mr. Johan\", \" Mr. Jozef\", \" Mr. Domingos Fernandeo\", \" Mrs. Alexander A (Grace Charity Laury)\", \" Mr. Samuel James Hayden\", \" Mr. Emile\", \" Mr. Jacques Heath\", \" Mr. Olaf Elon\", \" Mr. Victor\", \" Mrs. Joseph (Sultana)\", \" Mr. Jeremiah\", \" Mr. Edgardo Samuel\", \" Mr. Joseph Charles\", \" Miss. Robina Maggie \\\"Ruby\\\"\", \" Mr. Michel (\\\"Louis M Hoffman\\\")\", \" Rev. Thomas Roussel Davids\", \" Rev. Robert James\", \" Mr. Alfonzo\", \" Mr. Austin Blyler\", \" Mr. Ole Martin\", \" Mr. Charles Duane\", \" Mr. Harry\", \" Mr. Mile\", \" Master. Thomas Henry\", \" Mr. John Hatfield\", \" Mr. John Viktor\", \" Mr. Jovo\", \" Master. Eino Viljami\", \" Mrs. William (Anna Bernhardina Karlsson)\", \" Mr. John D\", \" Mr. Lee\", \" Mr. Wyckoff\", \" Master. Arthur\", \" Mr. Antti Wilhelm\", \" Mr. James Clinch\", \" Mr. Klas Albin\", \" Master. Henry Forbes\", \" Miss. Ann Elizabeth\", \" Mr. Reginald\", \" Mr. Lionel\", \" Miss. Constance Gladys\", \" Mr. Rene\", \" Master. Clarence Gustaf Hugo\", \" Mr. Hugh Roscoe\", \" Mr. John\", \" Mr. Stjepan\", \" Mr. William\", \" Mr. Robert\", \" Mr. Karl Siegwart Andreas\", \" Miss. Henriette (\\\"Mrs Harbeck\\\")\", \" Mr. Nestor Cyriel\", \" Mr. Frederick\", \" Mr. Jakob Alfred\", \" Mr. Gerious\", \" Miss. Telma Matilda\", \" Mr. Karl Alfred\", \" Mr. Ahmed\", \" Mr. John Henry\", \" Mr. Hans Kristensen\", \" Mr. Philip\", \" Mr. Sidney Samuel\", \" Mr. Walter\", \" Mr. James H\", \" Mr. George Henry\", \" Mr. Christo\", \" Mr. Karl Ivar Sven\", \" Mr. John Hall (\\\"Henry\\\")\", \" Mr. Arne Jonas\", \" Miss. Mathilde\", \" Mr. Bengt Edvin\", \" Mr. Ernst Adolf\", \" Mr. Robert William Norman\", \" Miss. Alice Phoebe\", \" Mr. Stephen\", \" Mr. Frederick William\", \" Mr. George Henry\", \" Miss. Thamine\", \" Mr. Reginald Charles\", \" Mr. Matti Alexanteri\", \" Mr. Sleiman\", \" Dr. William Edward\", \" Miss. Agda Thorilda Viktoria\", \" Rev. Ernest Courtenay\", \" Mr. James George\", \" Mrs. Wilhelm (Elna Matilda Persson)\", \" Mr. William Thomas\", \" Mr. William Arthur\", \" Mrs. Viktor (Helena Wilhelmina)\", \" Mr. Thomas\", \" Mr. Emil\", \" Mr. William\", \" Miss. Delia\", \" Mr. David\", \" Mr. Ernesti Arvid\", \" Mr. Alexander\", \" Mr. Charles H\", \" Miss. Augusta Charlotta\", \" Mr. Francis \\\"Frank\\\"\", \" Master. Eric\", \" Mr. Frank\", \" Mr. Nils Johan Goransson\", \" Mr. Alfons\", \" Mr. Richard William\", \" Mr. Ivan\", \" Mr. Penko\", \" Mr. Rene Jacques\", \" Miss. Aloisia\", \" Mr. Ivan\", \" Mr. Ervin G\", \" Mr. Mansour\", \" Miss. Helen Loraine\", \" Mr. William Cahoone Jr\", \" Mr. Howard Hugh \\\"Harry\\\"\", \" Mr. Samuel\", \" Mrs. William (Anna Sylfven)\", \" Mr. Ignjac\", \" Mr. Benjamin\", \" Dr. Ernest\", \" Mr. Samuel\", \" Mr. Yoto\", \" Mr. George John Jr\", \" Mr. Johan Hansen\", \" Mr. Austen\", \" Mr. George Edward\", \" Mr. Leo Edmondus\", \" Mr. Mitto\", \" Mr. Thomas Clinton\", \" Mr. Stephen Weart\", \" Mr. Erik Gustaf\", \" Mr. Charles Frederick Waddington\", \" Mr. Stanley Hubert\", \" Mr. Jovan\", \" Mr. Nils Martin\", \" Mr. Fletcher Fellows\", \" Mr. Tannous\", \" Mr. Josef\", \" Mr. Wazli\", \" Mr. Leo Peter\", \" Miss. Annie Clemmer\", \" Mr. Wilhelm\", \" Mr. Sebastiano\", \" Mrs. (Catherine David)\", \" Mr. Adola\", \" Mr. Thomas\", \" Mr. Mauritz Nils Martin\", \" Mr. Jakob Alfred\", \" Mr. William Thomas\", \" Mr. Sante\", \" Miss. Stina Viola\", \" Mr. Harry Elkins\", \" Mr. Tannous\", \" Mr. Karl Gideon\", \" Mr. Juho\", \" Mr. Vasil\", \" Mr. Charles Henry\", \" Master. Sidney Leonard\", \" Mr. Matthew\", \" Mr. Johan Birger\", \" Mr. Erik\", \" Miss. Elina\", \" Mr. Peter David\", \" Dr. Alfred\", \" Mr. John\", \" Miss. Mari Aina\", \" Mr. Pekka Pietari\", \" Miss. Marija\", \" Mr. Shadrach\", \" Mr. Carl/Charles Peter\", \" Mr. Hans Martin Monsen\", \" Miss. Ida\", \" Mr. Todor\", \" Mr. Henry\", \" Mr. Alfred Fleming\", \" Mrs. Thomas (Annie Louise Rowley)\", \" Mr. William John\", \" Miss. Catharina\", \" Mr. Stanio\", \" Mr. David\", \" Mr. Leo\", \" Mrs. Ernst Gilbert (Anna Sigrid Maria Brogren)\", \" Mr. Viktor Richard\", \" Mr. Phillippe\", \" Mr. James\", \" Mr. Nikolai Erland\", \" Mr. William Baird\", \" Miss. Doolina Margaret \\\"Daisy\\\"\", \" Mr. Mark\", \" Mr. Johan Henrik Johannesson\", \" Mr. Leon\", \" Mr. Johan Emil\", \" Mr. Edwy Arthur\", \" Mr. Ingvald Olai Olsen\", \" Mr. Benjamin Laventall\", \" Mr. Joseph\", \" Mr. Francis Davis\", \" Mr. Maurice\", \" Mr. William\", \" Mr. Arthur H\", \" Mr. Jacob Christian\", \" Mr. Simon\", \" Mr. Manuel Estanslas\", \" Mr. William\", \" Mr. John Montgomery\", \" Mr. James\", \" Mr. Arthur\", \" Mr. Luka\", \" Miss. Ida Sofia\", \" Mr. George Quincy\", \" Mr. Peter Henry\", \" Mr. Lewis Richard\", \" Mr. Nils August\", \" Master. Harold Victor\", \" Mr. Anthony Wood \\\"Archie\\\"\", \" Mr. Richard Henry\", \" Miss. Jeannie\", \" Mr. Edward Austin\", \" Mr. Francis William\", \" Mr. Konrad Mathias Reiersen\", \" Mr. Einar\", \" Mr. Harry Markland\", \" Mr. Ramon\", \" Mr. Edward Roland\", \" Mr. Gerious\", \" Mr. Frederick William\", \" Mrs. Hudson J C (Bessie Waldo Daniels)\", \" Mr. Olof\", \" Mr. Petar\", \" Miss. Mary\", \" Miss. Bridget Mary\", \" Miss. Kristina Sofia\", \" Mr. Victor de Satode\", \" Mr. Henry Margido\", \" Mr. James\", \" Mr. Satio\", \" Mr. William Anderson\", \" Mr. Patrick\", \" Mr. Stefo\", \" Mr. Janko\", \" Mr. Sarkis\", \" Mr. Fared\", \" Mr. James\", \" Mr. John\", \" Mr. Johan Werner\", \" Mr. Richard George\", \" Mr. Nakli\", \" Mr. Joseph Jr\", \" Miss. Marija\", \" Major. Archibald Willingham\", \" Mr. Samuel Beard\", \" Miss. Ingeborg Constanzia\", \" Miss. Sigrid Elisabeth\", \" Mr. Walter Donald\", \" Mr. Arthur Ernest\", \" Mr. Frank John\", \" Mr. Percival James R\", \" Mr. Timothy\", \" Mr. George\", \" Mr. Victor\", \" Mr. Thomas Rowan\", \" Mr. Husein\", \" Mr. Robert Douglas\", \" Mr. John\", \" Miss. (Marion Ogden)\", \" Mr. Alfred J\", \" Mr. Ilia\", \" Mrs. Nils (Alma Cornelia Berglund)\", \" Mr. Tannous\", \" Mr. Alfred George John\", \" Mr. George\", \" Mrs. Joseph (Maria Elias)\", \" Mr. William James\", \" Mr. John Hugo\", \" Mr. Uscher\", \" Mr. John Denzil\", \" Mr. Eliezer\", \" Mr. Joseph\", \" Mr. Matti\", \" Mr. William James\", \" Miss. Mary\", \" Mr. John Henry\", \" Mr. Jean Baptiste\", \" Mr. Alfred\", \" Mr. Hanna\", \" Mr. Petco\", \" Mr. Charles H\", \" Mr. Ernst William\", \" Mr. Edvard Bengtsson\", \" Mr. Milan\", \" Mrs. Anders Johan (Alfrida Konstantia Brogren)\", \" Mr. Jose Neto\", \" Mr. John\", \" Mr. William Alfred\", \" Mr. Ernst Gilbert\", \" Mrs. William Arthur (Cordelia K Stanlick)\", \" Mr. Lawrence\", \" Mr. Antoni\", \" Mr. Henry Damsgaard\", \" Mr. David John \\\"Dai\\\"\", \" Mr. Frederick\", \" Rev. Charles Leonard\", \" Mr. Guentcho\", \" Mr. Patrick D\", \" Mr. Johan Svensson\", \" Mr. William Henry Marsh\", \" Miss. Mabel\", \" Mr. Antti Gustaf\", \" Mr. Harvey\", \" Mrs. Juha (Maria Emilia Ojala)\", \" Mr. Percival\", \" Mr. Hans Peder\", \" Miss. Margit Elizabeth\", \" Mr. Liudevit\", \" Mr. Edward\", \" Mr. Mito\", \" Mr. Johannes Halvorsen\", \" Miss. Hanora \\\"Nora\\\"\", \" Mr. Leonard Mark\", \" Mr. Alexander\", \" Mrs. John (Catherine)\", \" Mr. George Floyd\", \" Mr. Arthur Webster\", \" Mr. Mohamed\", \" Mr. Edward Pomeroy\", \" Mr. Peju\", \" Mr. Lewis\", \" Mr. Reginald Fenton\", \" Mr. Knud Paust\", \" Mr. Jacob\", \" Mr. Thornton\", \" Mr. Henry Michael\", \" Mr. Ennis Hastings\", \" Mr. Gustaf Hjalmar\", \" Mr. Frederick Charles\", \" Mrs. Frederick (Augusta Tyler)\", \" Miss. Katie\", \" Mr. Thor Anderson\", \" Mr. Charles Edward\", \" Mr. Thomas William Solomon\", \" Mr. Joseph Philippe Lemercier\", \" Mr. Jaako Arnold\", \" Mr. Branko\", \" Mr. Eberhard Thelander\", \" Mr. Khalil\", \" Col. John\", \" Mr. Charles Henry\", \" Mr. James\", \" Mr. John Borland\", \" Mr. Adolf Mathias Nicolai Olsen\", \" Miss. Saiide\", \" Mr. Martin\", \" Mr. Henrik Juul\", \" Mr. Henry Samuel (\\\"Mr Henry Marshall\\\")\", \" Mr. Herman\", \" Mr. August Viktor\", \" Mr. Samuel\", \" Mr. Peter Andreas Lauritz Andersen\", \" Mr. Michael\", \" Mr. Malkolm Joackim\", \" Mr. Svend Lauritz\", \" Mr. William Henry\", \" Mr. Henry Price\", \" Mr. Luka\", \" Mr. Kurt Arnold Gottfrid\", \" Miss. Pieta Sofia\", \" Mr. Houssein G N\", \" Mr. Robert J\", \" Mr. William John\", \" Mr. Moses Aaron\", \" Mr. Leslie\", \" Mrs. Edward (Margaret Ann Watson)\", \" Mr. Kanio\", \" Mr. Minko\", \" Mr. Tyrell William\", \" Mr. Neal\", \" Capt. Edward Gifford\", \" Mr. Rossmore Edward\", \" Mr. Daniel Warner\", \" Mr. Michael\", \" Mr. Johannes Joseph\", \" Mr. Lalio\", \" Mr. August Sigfrid\", \" Mr. Percy Andrew\", \" Mr. Thomas Leonard\", \" Mr. John\", \" Mr. Iisakki Antino Aijo\", \" Mr. Hans Linus\", \" Dr. Arthur Jackson\", \" Miss. Mary\", \" Mr. Daniel J\", \" Mr. Daniel Danielsen\", \" Mr. Rene Aime\", \" Mr. Niels Peder\", \" Mrs. (Mary)\", \" Mr. Dibo\", \" Mr. Pehr Fabian Oliver Malkolm\", \" Mr. Roger\", \" Mr. Thomas J\", \" Mr. Milton Clyde\", \" Mr. Andrew G\", \" Mr. William\", \" Mr. Abraham (David Lishin)\", \" Master. George Hugh\", \" Mr. Benjamin\", \" Mr. Andrew \\\"Andy\\\"\", \" Mr. Alfred\", \" Miss. Stella Anna\", \" Mr. William Fisher\", \" Mr. Ristiu\", \" Mr. Richard\", \" Mr. Yousseff\", \" Mrs. Jean Baptiste (Rosalie Paula Govaert)\", \" Mr. Martin\", \" Mr. Karl Johan\", \" Mr. Thomas Jr\", \" Miss. Ellen Natalia\", \" Mr. August\", \" Mr. William\", \" Mr. James\", \" Mr. Richard James\", \" Miss. Ebba Iris Alfrida\", \" Mr. Ernest Portage\", \" Mr. Richard\", \" Miss. Wendla Maria\", \" Mr. Albert\", \" Mr. John Fredrik Alexander\", \" Master. Karl Thorsten\", \" Jonkheer. John George\", \" Master. Urho Abraham\", \" Mr. John\", \" Mr. Len\", \" Mr. Amin\", \" Mr. Albert\", \" Mr. Owen George\", \" Mr. Jakob\", \" Mr. Maurice\", \" Mr. Ilmari Rudolf\", \" Mr. Thomas Charles\", \" Mr. Peter L\", \" Mr. Jeso\", \" Mr. Anthony\", \" Mr. Douglas Bullen\", \" Mr. Marin\", \" Rev. John\", \" Master. Sigvard Harald Elias\", \" Mr. Johan\", \" Miss. Nourelain\", \" Mrs. Ernest Courtenay (Lilian Hughes)\", \" Mr. Raihed\", \" Mr. Claus Peter\", \" Mr. Frederick Edward\", \" Miss. Dorothy Edith \\\"Dolly\\\"\", \" Mr. John William\", \" Mr. Washington Augustus II\", \" Mr. Philemon\", \" Mr. Cerin\", \" Mr. Frans Olof\", \" Mr. Victor\", \" Mr. Alfred Ossian\", \" Mr. Nedelio\", \" Mr. Kristo\", \" Mr. Johann\", \" Miss. Gerda Ulrika\", \" Mr. Frederick James\", \" Mr. Henry Jr\", \" Mrs. William (Margaret Norton)\", \" Rev. Juozas\", \" Miss. Catherine Helen \\\"Carrie\\\"\", \" Mr. Patrick\"], \"yaxis\": \"y\"}, {\"hovertemplate\": \"Survived=1.0<br>Fare=%{x}<br>Name=%{y}<extra></extra>\", \"legendgroup\": \"1.0\", \"marker\": {\"color\": \"#3B61A3\", \"symbol\": \"circle\"}, \"mode\": \"markers\", \"name\": \"1.0\", \"showlegend\": true, \"type\": \"scattergl\", \"x\": [1157.0, 360.0, 1095.0, 534.0, 968.0, 732.0, 916.0, 717.0, 621.0, 75.0, 621.0, 361.0, 1018.0, 993.0, 286.0, 1258.0, 210.0, 99.0, 536.0, 1050.0, 286.0, 210.0, 1173.0, 883.0, 1018.0, 529.0, 935.0, 1194.0, 690.0, 529.0, 360.0, 1111.0, 948.0, 557.0, 483.0, 238.0, 529.0, 712.0, 1305.0, 1133.0, 804.0, 141.0, 236.0, 822.0, 621.0, 536.0, 54.0, 794.0, 883.0, 890.0, 210.0, 712.0, 248.0, 1140.0, 152.0, 708.0, 762.0, 1097.0, 534.0, 1033.0, 791.0, 700.0, 916.0, 621.0, 275.0, 883.0, 930.0, 1258.0, 210.0, 421.0, 745.0, 210.0, 979.0, 780.0, 1238.0, 360.0, 1170.0, 421.0, 1219.0, 529.0, 1209.0, 993.0, 889.0, 700.0, 673.0, 1089.0, 690.0, 1189.0, 1212.0, 1309.0, 883.0, 993.0, 236.0, 1267.0, 1253.0, 17.0, 751.0, 210.0, 1178.0, 759.0, 421.0, 483.0, 621.0, 210.0, 1183.0, 1221.0, 974.0, 1292.0, 210.0, 807.0, 553.0, 1264.0, 1235.0, 1231.0, 1113.0, 1207.0, 1299.0, 275.0, 883.0, 1271.0, 1249.0, 553.0, 948.0, 1253.0, 621.0, 762.0, 1119.0, 807.0, 1244.0, 1249.0, 421.0, 883.0, 1305.0, 621.0, 621.0, 729.0, 715.0, 1097.0, 286.0, 286.0, 1168.0, 99.0, 210.0, 1142.0, 1101.0, 1199.0, 117.0, 1289.0, 706.0, 1085.0, 621.0, 543.0, 1242.0, 248.0, 1238.0, 732.0, 559.0, 360.0, 743.0, 1219.0, 360.0, 1002.0, 621.0, 883.0, 883.0, 421.0, 916.0, 729.0, 883.0, 1242.0, 743.0, 889.0, 621.0, 423.0, 1197.0, 751.0, 916.0, 749.0, 974.0, 1214.0, 337.0, 1077.0, 529.0, 916.0, 749.0, 935.0, 635.0, 548.0, 485.0, 1221.0, 1219.0, 715.0, 1180.0, 1212.0, 883.0, 916.0, 1111.0, 210.0, 893.0, 1123.0, 529.0, 883.0, 1225.0, 1119.0, 529.0, 883.0, 794.0, 889.0, 1228.0, 1065.0, 1155.0, 883.0, 883.0, 640.0, 1022.0, 1235.0, 75.0, 236.0, 1038.0, 1192.0, 734.0, 275.0, 529.0, 1073.0, 894.0, 210.0, 621.0, 1103.0, 360.0, 966.0, 1235.0, 1192.0, 1189.0, 1180.0, 1005.0, 1113.0, 918.0, 916.0, 974.0, 1050.0, 1267.0, 700.0, 1138.0, 1033.0, 1089.0, 706.0, 1178.0, 966.0, 974.0, 621.0, 1142.0, 1111.0, 749.0, 1173.0, 1018.0, 131.0, 804.0, 253.0, 1244.0, 360.0, 1085.0, 1033.0, 621.0, 490.0, 1309.0, 1173.0, 1275.0, 1115.0, 624.0, 1111.0, 152.0, 1289.0, 893.0, 631.0, 893.0, 1264.0, 690.0, 1067.0, 1085.0, 1289.0, 529.0, 1005.0, 1095.0, 780.0, 154.0, 1275.0, 1309.0, 966.0, 1299.0, 360.0, 621.0, 804.0, 557.0, 1138.0, 673.0, 1212.0, 99.0, 1242.0, 1178.0, 804.0, 557.0, 1275.0, 99.0, 1115.0, 122.0, 766.0, 833.0, 455.0, 889.0, 1242.0, 432.0, 35.0, 1095.0, 1225.0, 454.0, 557.0, 1025.0, 210.0, 1194.0, 658.0, 743.0, 1207.0, 1111.0, 959.0, 979.0, 1214.0, 1035.0, 469.0, 1271.0, 916.0, 749.0, 833.0, 621.0, 638.0, 534.0, 1089.0, 813.0, 75.0, 1207.0, 883.0, 966.0, 966.0], \"xaxis\": \"x\", \"y\": [\" Mrs. John Bradley (Florence Briggs Thayer)\", \" Miss. Laina\", \" Mrs. Jacques Heath (Lily May Peel)\", \" Mrs. Oscar W (Elisabeth Vilhelmina Berg)\", \" Mrs. Nicholas (Adele Achem)\", \" Miss. Marguerite Rut\", \" Miss. Elizabeth\", \" Mrs. (Mary D Kingcome) \", \" Mr. Charles Eugene\", \" Mrs. Fatima\", \" Mr. Lawrence\", \" Miss. Anna \\\"Annie\\\"\", \" Mr. William Thompson\", \" Mrs. Carl Oscar (Selma Augusta Emilia Johansson)\", \" Miss. Ellen \\\"Nellie\\\"\", \" Mrs. William Augustus (Marie Eugenie)\", \" Miss. Mary Agatha\", \" Mr. Hanna\", \" Miss. Jamila\", \" Miss. Simonne Marie Anne Andree\", \" Miss. Margaret Delia\", \" Miss. Bridget\", \" Mrs. Henry Sleeper (Myna Haxtun)\", \" Mrs. Lizzie (Elizabeth Anne Wilkinson)\", \" Mr. Hugh\", \" Miss. Emily\", \" Miss. Constance Mirium\", \" Miss. Amelie\", \" Master. Gerios\", \" Mrs. (Elizabeth Ramell)\", \" Miss. Erna Alexandra\", \" Mr. Lee\", \" Master. Alden Gates\", \" Miss. Elizabeth\", \" Mr. Jan Baptist\", \" Miss. Brigdet Delia\", \" Miss. Bertha\", \" Mrs. Karl Alfred (Maria Mathilda Gustafsson)\", \" Miss. Mabel Helen\", \" Mr. William Bertram\", \" Mrs. John T (Ada Julia Bone)\", \" Miss. Anna Kristine\", \" Mr. Albert Johan\", \" Miss. Bertha\", \" Miss. Susan\", \" Master. Elias\", \" Mr. Fridtjof Arne\", \" Miss. Anna\", \" Mrs. Leopold (Mathilde Francoise Pede)\", \" Miss. Helen Monypeny\", \" Miss. Anna Sofia\", \" Mrs. Pekka Pietari (Elin Matilda Dolck)\", \" Mr. August Edvard (\\\"Wennerstrom\\\")\", \" Mrs. Thomas (Edith Wearne)\", \" Miss. Katherine \\\"Katie\\\"\", \" Mrs. James (Elizabeth \\\"Bessie\\\" Inglis Milne)\", \" Master. Frank John William \\\"Frankie\\\"\", \" Mrs. (Edith Martha Bowerman)\", \" Miss. Eleanor Ileen\", \" Master. Richard F\", \" Miss. Luise Gretchen\", \" Mrs. Thomas (Johanna \\\"Hannah\\\" Godfrey)\", \" Mr. Charles Hallace (\\\"Mr C Rolmane\\\")\", \" Mrs. (Rosa)\", \" Miss. Carla Christine Nielsine\", \" Master. Michel M\", \" Mrs. James Joseph (Margaret Tobin)\", \" Miss. Elise\", \" Miss. Margaret \\\"Maggie\\\"\", \" Mr. Gurshon \\\"Gus\\\"\", \" Mr. Nassef Cassem\", \" Miss. Helen \\\"Ellen\\\"\", \" Mr. Henry\", \" Miss. Clear Annie\", \" Miss. Madeleine\", \" Miss. Eliina\", \" Miss. Albina\", \" Mr. Victor Francis\", \" Mr. Frederick Maxfield\", \" Mr. William John\", \" Mrs. Henry Birkhardt (Irene Wallach)\", \" Miss. Lillian Gertrud\", \" Miss. Marjorie \\\"Lottie\\\"\", \" Miss. Katherine \\\"Kate\\\"\", \" Mrs. William (Anna)\", \" Mr. Richard Leonard\", \" Mrs. Darwis (Hanne Youssef Razi)\", \" Mrs. Gertrude Maybelle\", \" Miss. Gladys\", \" Miss. Anna\", \" Mrs. (Lutie Davis)\", \" Master. Edvin Rojj Felix\", \" Mr. Ernst Ulrik\", \" Mrs. William Thompson (Edith Junkins)\", \" Miss. Amelia\", \" Mr. William Henry\", \" Mrs. (Elizabeth Anne Maidment)\", \" Miss. Hanora \\\"Nora\\\"\", \" Miss. Kornelia Theodosia\", \" Mrs. Stanton (Rosa Hunt)\", \" Mr. Edward Arthur\", \" Mr. Theodore\", \" Mr. Masabumi\", \" Miss. Kate\", \" Miss. Ellen \\\"Nellie\\\"\", \" Mrs. Dickinson H (Helen Walton)\", \" Mr. Adolphe\", \" Mrs. James (Helene DeLaudeniere Chaput)\", \" Miss. Anna Katherine \\\"Annie Kate\\\"\", \" Mr. Bernard\", \" Miss. Nora A\", \" Master. Hudson Trevor\", \" Miss. Margaret\", \" Mrs. Victor de Satode (Maria Josefa Perez de Soto y Vallejo)\", \" Miss. Laura Mabel\", \" Miss. Margaret Bechstein\", \" Miss. Emily Borie\", \" Miss. Helmina Josefina\", \" Mrs. Sinai (Miriam Sternin)\", \" Miss. Mary Natalie\", \" Mrs. Frederic Oakley (Margaretta Corning Stone)\", \" Miss. Hilda Mary\", \" Mrs. Albert Francis (Sylvia Mae Harbaugh)\", \" Miss. Marie Grice\", \" Mrs. (Ada E Hall)\", \" Mrs. Frank John (Emily Alice Brown)\", \" Miss. Jean Gertrude\", \" Miss. Agnes\", \" Mrs. Henry William (Clara Heinsheimer)\", \" Miss. Elizabeth Margaret\", \" Mr. Karl Edwart\", \" Master. Edmond Roger\", \" Miss. Alice Elizabeth\", \" Miss. Amelia \\\"Mildred\\\"\", \" Miss. Marion Elsie\", \" Mrs. Thomas Henry (Mary E Finck)\", \" Master. William Loch \\\"William\\\"\", \" Miss. Elsie Edith\", \" Miss. Mary\", \" Miss. Helen Mary \\\"Ellie\\\"\", \" Mrs. Frank Manley (Anna Sophia Atkinson)\", \" Mrs. (Mantoura Boulos)\", \" Miss. Annie\", \" Mme. Leontine Pauline\", \" Mr. George Achilles\", \" Mrs. Edgar Joseph (Leila Saks)\", \" Miss. Aurora Adelia\", \" Miss. Rosalie\", \" Miss. Maria (\\\"Mary\\\")\", \" Mrs. Alexander Oskar (Mary Aline Towner)\", \" Miss. Kate\", \" Miss. Bertha\", \" Mr. William Ernest\", \" Mr. Carl Olof\", \" Miss. Marjorie\", \" Mrs. Hjalmar (Agnes Charlotta Bengtsson)\", \" Mrs. William H (Jessie L)\", \" Mr. Juha\", \" Master. William Rowe\", \" Miss. Daisy E\", \" Mr. Johan Julian\", \" Mrs. James Vivian (Lulu Thorne Christian)\", \" Miss. Lyyli Karoliina\", \" Mrs. Charles V (Ada Maria Winfield)\", \" Miss. Kate Florence (\\\"Mrs Kate Louise Phillips Marshall\\\")\", \" Mr. Berk (Berk Trembisky)\", \" Mr. Mauritz Hakan\", \" Mrs. Percival (Florence Kate White)\", \" Mrs. Charles Alexander (Alice Adelaide Slow)\", \" Miss. Lucile Polk\", \" Mrs. Sidney (Emily Hocking)\", \" Mrs. Benjamin (Esther Ada Bloomfield)\", \" Ms. Encarnacion\", \" Mr. Bernt\", \" Master. Washington\", \" Miss. Madeleine Violet\", \" Mr. Frederic Kimber\", \" Miss. Marie Catherine\", \" Major. Arthur Godfrey\", \" Mr. Samuel L\", \" Mr. Ivan\", \" Mrs. Frederick R (Marion)\", \" Miss. Ellen\", \" Mr. Harry\", \" Miss. Helene Barbara\", \" Mrs. Edwy Arthur (Ada Mary Worth)\", \" Mrs. Amin S (Marie Marthe Thuillard)\", \" Miss. Hildur E\", \" Mrs. (Hedwig)\", \" Mr. Dickinson H\", \" Mrs. Frederick Maxfield (Jane Anne Forby)\", \" Master. Eden Leslie \\\"Neville\\\"\", \" Miss. Elizabeth Mussey\", \" Miss. Roberta\", \" Mrs. Frederick Charles (Jane Richards)\", \" Mr. George (\\\"George Arthur Brayton\\\")\", \" Mr. Fang\", \" Mr. Eugene Patrick\", \" Mr. James Robert\", \" Mrs. Martin (Elizabeth L. Barrett)\", \" Mrs. (Amelia Milley)\", \" Mrs. William A (Florence \\\"Mary\\\" Agnes Hughes)\", \" Miss. Anne\", \" Mrs. Louis Albert (Ida Sophia Fischer)\", \" Miss. Lucy\", \" Miss. Phyllis May\", \" Mrs. Catherine (Catherine Rizk)\", \" Miss. Eva Miriam\", \" Miss. Bertha\", \" Miss. Hedwig Margaritha\", \" Miss. Harriet R\", \" Mr. Edward\", \" Mrs. Edward (Ethel Clarke)\", \" Mr. Julian\", \" Master. John Morgan Jr\", \" Mr. John Borland Jr\", \" Mr. Fahim (\\\"Philip Zenni\\\")\", \" Miss. Velin\", \" Lady. (Lucille Christiana Sutherland) (\\\"Mrs Morgan\\\")\", \" Mrs. Emil (Tillie Mandelbaum)\", \" Mrs. Guillaume Joseph (Emma)\", \" Mr. Carl\", \" Mr. George\", \" Mrs. Edward Dale (Charlotte Lamson)\", \" Mr. John Irwin (\\\"Irving\\\")\", \" Miss. Mary\", \" Miss. Ethel\", \" Mrs. William Baird (Alice Munger)\", \" Mr. Eiriik\", \" Miss. Julie Rachel\", \" Mrs. John Borland (Marian Longstreth Morris)\", \" Miss. Ruth\", \" Mr. Maxmillian\", \" Mrs. Walter Bertram (Martha Eustis)\", \" Miss. Jessie Wills\", \" Sir. Cosmo Edmund (\\\"Mr Morgan\\\")\", \" Mrs. Sidney Samuel (Amy Frances Christy)\", \" Mr. Harry (\\\"Mr E Haven\\\")\", \" Mr. Robert Williams\", \" Mrs. Joseph (Juliette Marie Louise Lafargue)\", \" Miss. Elizabeth W\", \" Miss. Margaret Jane\", \" Miss. Alice\", \" Miss. Marion Louise\", \" Mr. Edwin Nelson Jr\", \" Mr. Sahid\", \" Miss. Gretchen Fiske\", \" Mr. Algernon Henry Wilson\", \" Dr. Max\", \" Miss. Mary\", \" Mlle. Emma\", \" Mr. Choong\", \" Miss. Eugenie\", \" Mr. Henry Sleeper\", \" Col. Oberst Alfons\", \" Miss. Amy Zillah Elsie\", \" Miss. Elsie\", \" Miss. Hanora \\\"Norah\\\"\", \" Dr. Henry William\", \" Mr. Eino William\", \" Mrs. Elmer Zebley (Juliet Cummins Wright)\", \" Mrs. Thomas William Solomon (Elizabeth Catherine Ford)\", \" Mr. Charles\", \" Miss. Anna Sofia\", \" Mr. Thomas Drake Martinez\", \" Mr. Hammad\", \" Miss. Georgette Alexandra\", \" Mr. Albert Adrian\", \" Miss. Manca\", \" Mr. Ali\", \" Miss. Katherine \\\"Katie\\\"\", \" Mrs. John Jacob (Madeleine Talmadge Force)\", \" Mr. Spencer Victor\", \" Mrs. Florence \\\"Fannie\\\"\", \" Mr. Edward Pennington\", \" Miss. Alice\", \" Master. Halim Gonios (\\\"William George\\\")\", \" Mlle. Berthe Antonine (\\\"Mrs de Villiers\\\")\", \" Mr. Elmer Zebley\", \" Miss. Caroline Louise\", \" Miss. Edwina Celia \\\"Winnie\\\"\", \" Miss. Annie Jessie \\\"Nina\\\"\", \" Mr. Norman Campbell\", \" Mrs. Peter Henry (Lillian Jefferys)\", \" Miss. Margareth\", \" Miss. Elisabeth Walton\", \" Mr. Gustave J\", \" Mr. Walter James\", \" Miss. Susan Parker \\\"Suzette\\\"\", \" Mr. Juho\", \" Miss. Anna\", \" Miss. Joan\", \" Master. Meier\", \" Mrs. Samuel (Jane Laver)\", \" Master. Viljo\", \" the Countess. of (Lucy Noel Martha Dyer-Edwards)\", \" Mr. Hanna Assi\", \" Mrs. William Ernest (Lucile Polk)\", \" Mrs. John C (Anna Andrews)\", \" Mrs. Elizabeth (Eliza Needs)\", \" Miss. Virginia Ethel\", \" Mrs. Edward Scott (Elisabeth Walton McMillan)\", \" Miss. Banoura\", \" Mrs. Albert Adrian (Vera Gillespie)\", \" Miss. Anna Sofia\", \" Master. Bertram Vere\", \" Dr. Alice (Farnham)\", \" Mrs. Mara\", \" Mrs. Harvey (Charlotte Annie Tate)\", \" Master. William Thornton II\", \" Master. Assad Alexander\", \" Mr. Oskar Arvid\", \" Mrs. Norman Campbell (Bertha Griggs)\", \" Mrs. Charles Melville (Clara Jennings Gregg)\", \" Mr. Nikola\", \" Mrs. (Beila)\", \" Master. Andre\", \" Mr. Thomas Joseph\", \" Mrs. George Nelson (Martha Evelyn)\", \" Mrs. Antoni (Selini Alexander)\", \" Master. George Sibley\", \" Miss. Sara Rebecca\", \" Mr. Chang\", \" Mr. Pierre\", \" Miss. Augusta\", \" Mrs. Samuel L (Edwiga Grabowska)\", \" Miss. Mary Conover\", \" Mrs. Sam (Leah Rosen)\", \" Mrs. George Dennick (Mary Hitchcock)\", \" Mr. Peter Denis \", \" Mrs. Solomon (Latifa Qurban)\", \" Mrs. Frederick Joel (Margaret Welles Barron)\", \" Mrs. (Karolina)\", \" Miss. Asuncion\", \" Master. Harold Theodor\", \" Mrs. Richard Leonard (Sallie Monypeny)\", \" Mrs. Samuel (Hannah Wizosky)\", \" Miss. Adele Kiamie \\\"Jane\\\"\", \" Mrs. Thomas Jr (Lily Alexenia Wilson)\", \" Mrs. William (Imanita Parrish Hall)\", \" Miss. Margaret Edith\", \" Mr. Karl Howell\"], \"yaxis\": \"y\"}, {\"hovertemplate\": \"Survived=nan<br>Fare=%{x}<br>Name=%{y}<extra></extra>\", \"legendgroup\": \"nan\", \"marker\": {\"color\": \"#76A4AC\", \"symbol\": \"circle\"}, \"mode\": \"markers\", \"name\": \"nan\", \"showlegend\": true, \"type\": \"scattergl\", \"x\": [253.0, 37.0, 486.0, 454.0, 548.0, 465.0, 135.0, 948.0, 99.0, 822.0, 337.0, 883.0, 1201.0, 883.0, 1127.0, 930.0, 553.0, 75.0, 360.0, 75.0, 1123.0, 18.0, 998.0, 1129.0, 1299.0, 673.0, 1131.0, 75.0, 974.0, 788.0, 883.0, 996.0, 766.0, 811.0, 1117.0, 99.0, 421.0, 454.0, 483.0, 1111.0, 624.0, 916.0, 254.0, 621.0, 1089.0, 360.0, 959.0, 210.0, 1170.0, 715.0, 1125.0, 675.0, 804.0, 1305.0, 703.0, 954.0, 337.0, 141.0, 729.0, 1299.0, 337.0, 631.0, 210.0, 144.0, 1299.0, 780.0, 286.0, 1052.0, 944.0, 1305.0, 210.0, 337.0, 360.0, 930.0, 1280.0, 1280.0, 421.0, 829.0, 621.0, 210.0, 690.0, 1284.0, 883.0, 337.0, 531.0, 658.0, 286.0, 421.0, 210.0, 804.0, 642.0, 236.0, 1085.0, 421.0, 883.0, 248.0, 1183.0, 360.0, 275.0, 421.0, 1101.0, 883.0, 210.0, 236.0, 432.0, 797.0, 250.0, 210.0, 457.0, 621.0, 678.0, 237.0, 997.0, 118.0, 1284.0, 658.0, 24.0, 732.0, 1166.0, 883.0, 708.0, 210.0, 1117.0, 117.0, 210.0, 729.0, 248.0, 807.0, 621.0, 421.0, 421.0, 943.0, 827.0, 24.0, 337.0, 275.0, 75.0, 621.0, 421.0, 1062.0, 1062.0, 1264.0, 1299.0, 883.0, 916.0, 740.0, 1077.0, 421.0, 916.0, 883.0, 1207.0, 337.0, 622.0, 545.0, 993.0, 131.0, 1284.0, 275.0, 916.0, 634.0, 152.0, 690.0, 631.0, 37.0, 621.0, 791.0, 1071.0, 1012.0, 930.0, 459.0, 131.0, 75.0, 642.0, 99.0, 993.0, 1033.0, 1022.0, 1101.0, 1033.0, 1207.0, 621.0, 1207.0, 1095.0, 210.0, 1292.0, 717.0, 780.0, 421.0, 1153.0, 621.0, 883.0, 883.0, 673.0, 553.0, 1002.0, 275.0, 1249.0, 236.0, 529.0, 423.0, 700.0, 648.0, 1289.0, 883.0, 529.0, 830.0, 210.0, 529.0, 930.0, 337.0, 797.0, 47.0, 1164.0, 883.0, 236.0, 1053.0, 286.0, 1271.0, 1280.0, 421.0, 638.0, 421.0, 529.0, 248.0, 919.0, 690.0, 248.0, 210.0, 681.0, 621.0, 1138.0, 916.0, 28.0, 286.0, 1157.0, 275.0, 1168.0, 75.0, 621.0, 1228.0, 930.0, 966.0, 1249.0, 288.0, 811.0, 1077.0, 780.0, 1002.0, 883.0, 658.0, 935.0, 360.0, 1255.0, 466.0, 483.0, 131.0, 210.0, 421.0, 621.0, 236.0, 734.0, 275.0, 804.0, 545.0, 560.0, 337.0, 17.0, 131.0, 421.0, 454.0, 1166.0, 210.0, 1255.0, 700.0, 75.0, 883.0, 529.0, 883.0, 780.0, 529.0, 454.0, 634.0, 210.0, 690.0, 756.0, 117.0, 117.0, 1201.0, 99.0, 421.0, 1038.0, 33.0, 99.0, 1197.0, 483.0, 337.0, 1050.0, 788.0, 1054.0, 275.0, 236.0, 678.0, 780.0, 454.0, 210.0, 916.0, 1264.0, 469.0, 1225.0, 645.0, 454.0, 75.0, 132.0, 210.0, 1253.0, 152.0, 1258.0, 529.0, 275.0, 996.0, 236.0, 99.0, 621.0, 916.0, 1275.0, 47.0, 1033.0, 1189.0, 883.0, 621.0, 1022.0, 959.0, 75.0, 706.0, 337.0, 883.0, 621.0, 99.0, 996.0, 99.0, 529.0, 133.0, 1153.0, 1309.0, 673.0, 141.0, 621.0, 99.0, 631.0, 780.0, 1133.0, 529.0, 1164.0, 1138.0, 766.0, 883.0, 1073.0, 286.0, 210.0, 702.0, 1153.0, 1025.0, 780.0, 454.0, 1101.0, 1153.0, 662.0, 1045.0, 1123.0, 638.0, 542.0, 1249.0, 17.0, 621.0, 1197.0, 1299.0, 454.0, 542.0, 1069.0, 993.0, 210.0, 286.0, 673.0, 729.0, 562.0, 1138.0, 236.0, 621.0, 210.0, 785.0, 1225.0, 1035.0, 759.0, 529.0, 791.0, 1125.0, 117.0, 1189.0, 236.0, 152.0, 1271.0, 780.0, 1123.0, 1064.0, 930.0, 640.0, 529.0, 1280.0, 142.0, 634.0, 210.0, 1219.0, 236.0, 421.0, 1231.0, 117.0, 421.0, 794.0], \"xaxis\": \"x\", \"y\": [\" Mr. James\", \" Mrs. James (Ellen Needs)\", \" Mr. Thomas Francis\", \" Mr. Albert\", \" Mrs. Alexander (Helga E Lindqvist)\", \" Mr. Johan Cervin\", \" Miss. Kate\", \" Mr. Albert Francis\", \" Mrs. Joseph (Sophie Halaut Easu)\", \" Mr. John Samuel\", \" Mr. Ylio\", \" Mr. Charles Cresson\", \" Mrs. John Pillsbury (Nelle Stevenson)\", \" Mr. Benjamin\", \" Mrs. Herbert Fuller (Carrie Constance Toogood)\", \" Mrs. Sebastiano (Argenia Genovesi)\", \" Mr. Daniel\", \" Mr. Gerios\", \" Miss. Ida Livija\", \" Mrs. Mariana (Miriam\\\")\\\"\", \" Mr. Martin\", \" Master. Artur Karl\", \" Mrs. Alfred (Antoinette)\", \" Mr. Richard Norris II\", \" Mrs. Arthur Larned (Emily Maria Borie)\", \" Mr. Alexander A\", \" Miss. Helene Ragnhild\", \" Mr. Shedid\", \" Mr. John Bertram\", \" Mr. Elias\", \" Mr. Charles Alexander\", \" Mr. Clifford Thomas\", \" Mrs. Bertram (Eva Georgetta Light)\", \" Mrs. Andrew G (Elizabeth Lily\\\" Watson)\\\"\", \" Mr. Philipp Edmund\", \" Mr. Vassilios (Catavelas Vassilios\\\")\\\"\", \" Miss. Sarah A\", \" Miss. Manda\", \" Mr. Julius\", \" Mr. Ling\", \" Mr. Franz\", \" Mr. Thomas Parham\", \" Mr. Nathan\", \" Mrs. Walter H (Irene Colvin)\", \" Mrs. Edwin Nelson Jr (Gertrude Parsons)\", \" Mr. Nikolai Johannes\", \" Mr. Paul Romaine\", \" Mr. Patrick\", \" Mrs. William Robert (Emma Eliza Ward)\", \" Mrs. William (Winnie Minnie\\\" Treanor)\\\"\", \" Mr. Lucien Philip\", \" Mr. Franz\", \" Miss. Ellen Nellie\\\"\\\"\", \" Miss. Ethel Flora\", \" Mr. Serafino Emilio\", \" Master. Albert\", \" Mr. Bartol\", \" Mr. Olaus Jorgensen\", \" Mr. Thomas Henry\", \" Miss. Victorine\", \" Mr. Mirko\", \" Mr. Arthur Gordon\", \" Mr. Ernst Herbert\", \" Miss. Bridget Delia\", \" Master. John Borie\", \" Mrs. Percy C (Mary Phyllis Elizabeth Miller)\", \" Miss. Mary Delia\", \" Mr. Clarence Bloomfield\", \" Mr. Gilbert Milligan Jr\", \" Mrs. Mark (Mary McDougald)\", \" Miss. Bertha E\", \" Mr. Lazar\", \" Miss. Manta Josefina\", \" Mr. Servando\", \" Miss. Amalie\", \" Mr. Edwin\", \" Mr. Frank\", \" Mrs. Robert Clifford (Malvina Helen Lamson)\", \" Mr. Charles Augustus\", \" Miss. Elizabeth\", \" Master. Akar\", \" Mr. Isidor\", \" Mr. Howard Brown\", \" Mr. Marinko\", \" Mr. John Joseph\", \" Mr. Betros\", \" Miss. Julia\", \" Miss. Emily Louisa\", \" Ms. Bridget\", \" Master. Ralph Lester\", \" Mrs. Adolf Fredrik (Anna Elisabeth Judith Andersson)\", \" Mr. Olaf\", \" Mrs. Thornton (Orian Hays)\", \" Mr. Robert\", \" Mr. Jakob\", \" Mr. Gunnar Isidor\", \" Mrs. Tyrell William (Julia Florence Siegel)\", \" Mr. Kalle Edvard\", \" Miss. Elin Ester Maria\", \" Mr. William Henry\", \" Mrs. Charles Emil Henry (Annie May Morris)\", \" Mr. Leopold\", \" Mr. William\", \" Mr. Oskar Leander\", \" Mrs. Alexander (Thamine Thelma\\\")\\\"\", \" Mr. Johan Martin\", \" Mr. Daniel\", \" Mr. Edward\", \" Mr. Aaron (Abi Weller\\\")\\\"\", \" Mr. George\", \" Mr. Samuel Ward\", \" Miss. Ellen Natalia\", \" Miss. Edith Corse\", \" Miss. Katherine\", \" Mrs. Isidor (Rosalie Ida Blun)\", \" Mr. Demetrios\", \" Mr. John\", \" Miss. Beatrice Irene\", \" Mr. Thomson\", \" Mrs. John Henry (Sara Elizabeth Lawry)\", \" Miss. Bertha J\", \" Mr. John\", \" Mrs. Paul (Emma Mock)\", \" Mr. Alfred John\", \" Mr. John\", \" Miss. Laura Alice\", \" Mr. Karl Rudolf\", \" Miss. Alicia\", \" Mr. Solomon\", \" Mr. Marius\", \" Mr. Henry John\", \" Col. Archibald IV\", \" Mrs. Frank (Frances)\", \" Mr. Charles P\", \" Mr. Valtcho\", \" Mr. Carl Robert\", \" Mr. Mapriededer\", \" Mr. August\", \" Miss. Jennie\", \" Mr. Charles Frederick\", \" Miss. Jessie Allis\", \" Miss. Sarah\", \" Mr. Arthur Larned\", \" Mr. Henry James\", \" Mr. Erik Gustaf (Mr Edward Lingrey\\\")\\\"\", \" Mr. Julius\", \" Mr. Herbert Henry\", \" Mr. Evan\", \" Mr. John Bertram\", \" Rev. William\", \" Mrs. Boulton (Olive Potter)\", \" Mr. Nicola\", \" Mr. Thomas\", \" Mrs. (Hulda Kristina Eugenia Lofqvist)\", \" Master. Filip Oscar\", \" Mr. Joseph\", \" Miss. Ellen\", \" Miss. Olga Elida\", \" Mr. John James\", \" Mrs. Benjamin (Edith Nile)\", \" Miss. Julia\", \" Master. Georges Youssef\", \" Miss. Marion\", \" Mr. Ernest\", \" Rev. Joseph Maria\", \" Mrs. Anton (Luise Heilmann)\", \" Mr. Emil\", \" Mr. Edward Watson\", \" Mrs. Henry Arthur Jr (Eleanor Genevieve Fosdick)\", \" Miss. Hilda Maria\", \" Mr. Simon\", \" Mr. Ortin\", \" Mr. Adolf Fredrik\", \" Mr. Assad\", \" Mr. Carl Oscar Vilhelm Gustafsson\", \" Miss. Edith Eileen\", \" Miss. Maude\", \" Mr. Charles Emil Henry\", \" Mrs. Allen Oliver (Nellie E Baumgardner)\", \" Mrs. Alexander Taylor (Mary Eliza Ingersoll)\", \" Mr. James Matthew\", \" Mr. Alexander Taylor Jr\", \" Mrs. Daniel Warner (Mary Graham Carmichael Farquarson)\", \" Mr. Patrick\", \" Mrs. Frederick Charles (Mary Helene Baxter)\", \" Mr. Frank Hubert\", \" Miss. Alice Frances Louisa\", \" Mr. Joseph\", \" Miss. Ada\", \" Mr. James\", \" Mr. William A\", \" Mr. Abraham L\", \" Master. Walter John\", \" Mr. John\", \" Master. Marshall Brines\", \" Mr. Julius Konrad Eugen\", \" Master. Robert Douglas\", \" Miss. Berta Olivia\", \" Mr. Charles Robert\", \" Mrs. (Lena Jacobsen Solvang)\", \" Miss. Nora\", \" Master. Gilbert Sigvard Emanuel\", \" Col. John Jacob\", \" Miss. Winifred Vera\", \" Mr. Frank Thomas\", \" Mr. Alfred Fernand\", \" Miss. Katherine\", \" Mr. Sidney C Stuart\", \" Miss. Edith Louise\", \" Mr. Redjo\", \" Mr. Albert Karvin\", \" Mr. Luigi\", \" Mr. Percy William\", \" Mrs. Benjamin (Ellen Truelove Arman)\", \" Miss. Ida Augusta Margareta\", \" Mr. Christopher\", \" Miss. Bridget Delia\", \" Mr. George Dennick\", \" Mrs. George Dunton (Eleanor Elkins)\", \" Mr. Alexander Morrison\", \" Miss. Florentina\", \" Mr. Harold J\", \" Mrs. (Selena Rogers)\", \" Mr. Einar Gervasius\", \" Mrs. Edward (Helen Churchill Hungerford)\", \" Mrs. George (Omine Amenia\\\" Alexander)\\\"\", \" Mr. Johan Charles\", \" Miss. Bridget\", \" Mr. Thomas James\", \" Mr. Samuel James Metcalfe\", \" Mr. George Frederick\", \" Miss. Constance\", \" Mr. Karl Johan\", \" Mr. Michael\", \" Mr. John Bradley\", \" Mr. Olof Edvin\", \" Mr. Frank Manley\", \" Mr. Raffull\", \" Miss. Marta\", \" Mrs. Walter Donald (Mahala Dutton)\", \" Mrs. Carl Johan (Sigrid Posse)\", \" Mrs. (Alice Frances)\", \" Mr. Frederic Oakley\", \" Mr. Abraham\", \" Master. William Arthur Willie\\\"\\\"\", \" Mr. Frederick R\", \" Mrs. J Frank (Claire Bennett)\", \" Mr. James Vivian\", \" Mrs. Stephen (Annie Margaret Hill)\", \" Mrs. Betros (Zahie Maria\\\" Elias)\\\"\", \" Miss. Barbara J\", \" Mr. Abraham August Johannes\", \" Mr. Walter Miller\", \" Mr. Karl Johan\", \" Mr. Linhart\", \" Mr. George William\", \" Mr. John\", \" Mr. Samuel\", \" Miss. Lilian W\", \" Mr. Karl Albert\", \" Mr. Guillaume Joseph\", \" Mr. August Ferdinand\", \" Mrs. Arthur Henry (Addie\\\" Dart Trevaskis)\\\"\", \" Miss. Gertrud Emilia\", \" Mr. Emilio Ilario Giuseppe\", \" Mr. Stanko\", \" Mr. Roderick Robert Crispin\", \" Mr. Charles William\", \" Miss. May Elizabeth\", \" Mr. Mate\", \" Mr. Thomas Francis\", \" Mr. Patrick\", \" Mrs. Walter Miller (Virginia McDowell)\", \" Miss. Mary\", \" Mr. Jean Nassr\", \" Miss. Dagmar Jenny Ingeborg \", \" Mr. Clifford Richard\", \" Mr. Harry\", \" Mr. John James\", \" Mr. Percy Thomas\", \" Miss. Jelka\", \" Master. Alfred Edward\", \" Miss. Honora\", \" Miss. Maria Youssef\", \" Miss. Salli Helena\", \" Mr. William\", \" Mr. Charles (Charles Fardon)\", \" Mr. John Pillsbury\", \" Mr. Sarkis\", \" Mr. Arthur\", \" Mr. George Alexander Lucien\", \" Miss. Margaret Marcella Maggie\\\"\\\"\", \" Mr. Mustafa\", \" Dr. Washington\", \" Mr. Camille\", \" Mr. Minko\", \" Miss. Louise\", \" Mr. Hanna\", \" Mr. Joseph Holland\", \" Mr. Nils\", \" Mr. Oscar Wilhelm\", \" Mr. Noel\", \" Mr. Escott Robert\", \" Mr. Tome\", \" Miss. Catherine Katie\\\"\\\"\", \" Mrs. Edward Gifford (Catherine Elizabeth Halstead)\", \" Mr. Hudson Joshua Creighton\", \" Master. Philip Frank\", \" Mr. Charles Melville\", \" Mrs. Claus Peter (Jennie L Howard)\", \" Mr. Jego Grga\", \" Mr. David\", \" Mr. Harry\", \" Miss. Jeannie\", \" Mrs. John Stuart (Ella Holmes)\", \" Miss. Kate\", \" Mr. William Augustus\", \" Mr. Reginald Harry\", \" Mr. Nils Hilding\", \" Mr. Ernest Wilfred\", \" Mr. Johan Samuel\", \" Mr. Neshan\", \" Mr. Israel\", \" Mr. Alfred G\", \" Miss. Emilie\", \" Mr. Ali\", \" Miss. Ruth Elizabeth\", \" Mr. George (Mr George Thorne\\\")\\\"\", \" Mr. Charles Valentine\", \" Mr. Ingvar\", \" Mrs. John Morgan (Elizabeth Agnes Mary White) \", \" Mr. William Crothers\", \" Mr. Tannous\", \" Mrs. Said (Waika Mary\\\" Mowad)\\\"\", \" Mr. Ivan\", \" Mr. John Edward\", \" Mr. Jose Joaquim\", \" Mr. Joseph\", \" Mr. Herbert\", \" Master. Seman\", \" Mr. Joseph Charles\", \" Mr. Thure Edvin\", \" Mr. John George\", \" Mrs. James Warburton Martinez (Charlotte Wardle Drake)\", \" Master. James William\", \" Miss. Karen Marie\", \" Mr. William Hull\", \" Mrs. George Joseph (Shawneene Abi-Saab)\", \" Mr. Ralph\", \" Miss. Nellie\", \" Mrs. Leo David (Blanche Strouse)\", \" Mr. Philip Joseph\", \" Mr. William\", \" Mr. Samuel\", \" Miss. Elizabeth Gladys Millvina\\\"\\\"\", \" Mr. Henry Forbes\", \" Mrs. John Murray (Caroline Lane Lamson)\", \" Mr. Edward\", \" Mr. Patrick\", \" Mrs. Edvard Bengtsson (Elin Gerda Persson)\", \" Master. William Henry\", \" Mrs. Albert (Antoinette Magnin)\", \" Mrs. John James (Florence Louise Long)\", \" Mr. Ivan\", \" Mrs. George Achilles (Dorothy Annan)\", \" Mrs. John (Annie Bullen)\", \" Mr. Joseph\", \" Miss. Susanna Juhantytar Sanni\\\"\\\"\", \" Mrs. Leonard (Pauline C Boeson)\", \" Mr. Emilio\", \" Mr. Edgar\", \" Miss. Helen Alice\", \" Mr. Joseph Bruce\", \" Mr. William H\", \" Mrs. Washington (Ruth Vidaver)\", \" Miss. Grace Scott\", \" Miss. Maria\", \" Mr. Henry Harry\\\"\\\"\", \" Mr. William Edward\", \" Master. Carl Edgar\", \" Mr. Patrick\", \" Mr. Joseph\", \" Mrs. Samuel (Emma)\", \" Mrs. Neal (Eileen O'Leary)\", \" Mr. Edwin Frederick\\\"\\\"\", \" Miss. Kate\", \" Mr. Ernst Axel Algot\", \" Mr. John\", \" Mr. Patrick\", \" Master. Paul Folke\", \" Mr. Vivian Ponsonby\", \" Mrs. Ernest H (Elizabeth Lindsey James)\", \" Master. Eugene Joseph\", \" Mr. William\", \" Mr. Anton\", \" Mrs. Lucien Philip (Mary Eloise Hughes)\", \" Mr. Patrick\", \" Mrs. Maxmillian (Margaretha Emerentia Stehli)\", \" Mr. Edvard A\", \" Mr. Thomas Henry\", \" Miss. Caroline\", \" Mr. Harry\", \" Miss. Dorothy Winifred\", \" Mr. Jose Pedro\", \" Mr. Isaac Gerald\", \" Mr. Alfred (Baron von Drachstedt\\\")\\\"\", \" Mr. William Jeffery\", \" Mr. George Dunton\", \" Miss. Johanna Hannah\\\"\\\"\", \" Miss. Treasteall\", \" Miss. Hannah\", \" Mrs. William Edward (Lillian E Thorpe)\", \" Miss. Jenny Lovisa\", \" Mr. Woolf\", \" Dona. Fermina\", \" Mr. Simon Sivertsen\", \" Mr. Frederick\", \" Master. Michael J\"], \"yaxis\": \"y\"}],                        {\"height\": 500, \"legend\": {\"title\": {\"text\": \"Survived\"}, \"tracegroupgap\": 0}, \"margin\": {\"t\": 60}, \"template\": {\"data\": {\"bar\": [{\"error_x\": {\"color\": \"#2a3f5f\"}, \"error_y\": {\"color\": \"#2a3f5f\"}, \"marker\": {\"line\": {\"color\": \"#E5ECF6\", \"width\": 0.5}}, \"type\": \"bar\"}], \"barpolar\": [{\"marker\": {\"line\": {\"color\": \"#E5ECF6\", \"width\": 0.5}}, \"type\": \"barpolar\"}], \"carpet\": [{\"aaxis\": {\"endlinecolor\": \"#2a3f5f\", \"gridcolor\": \"white\", \"linecolor\": \"white\", \"minorgridcolor\": \"white\", \"startlinecolor\": \"#2a3f5f\"}, \"baxis\": {\"endlinecolor\": \"#2a3f5f\", \"gridcolor\": \"white\", \"linecolor\": \"white\", \"minorgridcolor\": \"white\", \"startlinecolor\": \"#2a3f5f\"}, \"type\": \"carpet\"}], \"choropleth\": [{\"colorbar\": {\"outlinewidth\": 0, \"ticks\": \"\"}, \"type\": \"choropleth\"}], \"contour\": [{\"colorbar\": {\"outlinewidth\": 0, \"ticks\": \"\"}, \"colorscale\": [[0.0, \"#0d0887\"], [0.1111111111111111, \"#46039f\"], [0.2222222222222222, \"#7201a8\"], [0.3333333333333333, \"#9c179e\"], [0.4444444444444444, \"#bd3786\"], [0.5555555555555556, \"#d8576b\"], [0.6666666666666666, \"#ed7953\"], [0.7777777777777778, \"#fb9f3a\"], [0.8888888888888888, \"#fdca26\"], [1.0, \"#f0f921\"]], \"type\": \"contour\"}], \"contourcarpet\": [{\"colorbar\": {\"outlinewidth\": 0, \"ticks\": \"\"}, \"type\": \"contourcarpet\"}], \"heatmap\": [{\"colorbar\": {\"outlinewidth\": 0, \"ticks\": \"\"}, \"colorscale\": [[0.0, \"#0d0887\"], [0.1111111111111111, \"#46039f\"], [0.2222222222222222, \"#7201a8\"], [0.3333333333333333, \"#9c179e\"], [0.4444444444444444, \"#bd3786\"], [0.5555555555555556, \"#d8576b\"], [0.6666666666666666, \"#ed7953\"], [0.7777777777777778, \"#fb9f3a\"], [0.8888888888888888, \"#fdca26\"], [1.0, \"#f0f921\"]], \"type\": \"heatmap\"}], \"heatmapgl\": [{\"colorbar\": {\"outlinewidth\": 0, \"ticks\": \"\"}, \"colorscale\": [[0.0, \"#0d0887\"], [0.1111111111111111, \"#46039f\"], [0.2222222222222222, \"#7201a8\"], [0.3333333333333333, \"#9c179e\"], [0.4444444444444444, \"#bd3786\"], [0.5555555555555556, \"#d8576b\"], [0.6666666666666666, \"#ed7953\"], [0.7777777777777778, \"#fb9f3a\"], [0.8888888888888888, \"#fdca26\"], [1.0, \"#f0f921\"]], \"type\": \"heatmapgl\"}], \"histogram\": [{\"marker\": {\"colorbar\": {\"outlinewidth\": 0, \"ticks\": \"\"}}, \"type\": \"histogram\"}], \"histogram2d\": [{\"colorbar\": {\"outlinewidth\": 0, \"ticks\": \"\"}, \"colorscale\": [[0.0, \"#0d0887\"], [0.1111111111111111, \"#46039f\"], [0.2222222222222222, \"#7201a8\"], [0.3333333333333333, \"#9c179e\"], [0.4444444444444444, \"#bd3786\"], [0.5555555555555556, \"#d8576b\"], [0.6666666666666666, \"#ed7953\"], [0.7777777777777778, \"#fb9f3a\"], [0.8888888888888888, \"#fdca26\"], [1.0, \"#f0f921\"]], \"type\": \"histogram2d\"}], \"histogram2dcontour\": [{\"colorbar\": {\"outlinewidth\": 0, \"ticks\": \"\"}, \"colorscale\": [[0.0, \"#0d0887\"], [0.1111111111111111, \"#46039f\"], [0.2222222222222222, \"#7201a8\"], [0.3333333333333333, \"#9c179e\"], [0.4444444444444444, \"#bd3786\"], [0.5555555555555556, \"#d8576b\"], [0.6666666666666666, \"#ed7953\"], [0.7777777777777778, \"#fb9f3a\"], [0.8888888888888888, \"#fdca26\"], [1.0, \"#f0f921\"]], \"type\": \"histogram2dcontour\"}], \"mesh3d\": [{\"colorbar\": {\"outlinewidth\": 0, \"ticks\": \"\"}, \"type\": \"mesh3d\"}], \"parcoords\": [{\"line\": {\"colorbar\": {\"outlinewidth\": 0, \"ticks\": \"\"}}, \"type\": \"parcoords\"}], \"pie\": [{\"automargin\": true, \"type\": \"pie\"}], \"scatter\": [{\"marker\": {\"colorbar\": {\"outlinewidth\": 0, \"ticks\": \"\"}}, \"type\": \"scatter\"}], \"scatter3d\": [{\"line\": {\"colorbar\": {\"outlinewidth\": 0, \"ticks\": \"\"}}, \"marker\": {\"colorbar\": {\"outlinewidth\": 0, \"ticks\": \"\"}}, \"type\": \"scatter3d\"}], \"scattercarpet\": [{\"marker\": {\"colorbar\": {\"outlinewidth\": 0, \"ticks\": \"\"}}, \"type\": \"scattercarpet\"}], \"scattergeo\": [{\"marker\": {\"colorbar\": {\"outlinewidth\": 0, \"ticks\": \"\"}}, \"type\": \"scattergeo\"}], \"scattergl\": [{\"marker\": {\"colorbar\": {\"outlinewidth\": 0, \"ticks\": \"\"}}, \"type\": \"scattergl\"}], \"scattermapbox\": [{\"marker\": {\"colorbar\": {\"outlinewidth\": 0, \"ticks\": \"\"}}, \"type\": \"scattermapbox\"}], \"scatterpolar\": [{\"marker\": {\"colorbar\": {\"outlinewidth\": 0, \"ticks\": \"\"}}, \"type\": \"scatterpolar\"}], \"scatterpolargl\": [{\"marker\": {\"colorbar\": {\"outlinewidth\": 0, \"ticks\": \"\"}}, \"type\": \"scatterpolargl\"}], \"scatterternary\": [{\"marker\": {\"colorbar\": {\"outlinewidth\": 0, \"ticks\": \"\"}}, \"type\": \"scatterternary\"}], \"surface\": [{\"colorbar\": {\"outlinewidth\": 0, \"ticks\": \"\"}, \"colorscale\": [[0.0, \"#0d0887\"], [0.1111111111111111, \"#46039f\"], [0.2222222222222222, \"#7201a8\"], [0.3333333333333333, \"#9c179e\"], [0.4444444444444444, \"#bd3786\"], [0.5555555555555556, \"#d8576b\"], [0.6666666666666666, \"#ed7953\"], [0.7777777777777778, \"#fb9f3a\"], [0.8888888888888888, \"#fdca26\"], [1.0, \"#f0f921\"]], \"type\": \"surface\"}], \"table\": [{\"cells\": {\"fill\": {\"color\": \"#EBF0F8\"}, \"line\": {\"color\": \"white\"}}, \"header\": {\"fill\": {\"color\": \"#C8D4E3\"}, \"line\": {\"color\": \"white\"}}, \"type\": \"table\"}]}, \"layout\": {\"annotationdefaults\": {\"arrowcolor\": \"#2a3f5f\", \"arrowhead\": 0, \"arrowwidth\": 1}, \"autotypenumbers\": \"strict\", \"coloraxis\": {\"colorbar\": {\"outlinewidth\": 0, \"ticks\": \"\"}}, \"colorscale\": {\"diverging\": [[0, \"#8e0152\"], [0.1, \"#c51b7d\"], [0.2, \"#de77ae\"], [0.3, \"#f1b6da\"], [0.4, \"#fde0ef\"], [0.5, \"#f7f7f7\"], [0.6, \"#e6f5d0\"], [0.7, \"#b8e186\"], [0.8, \"#7fbc41\"], [0.9, \"#4d9221\"], [1, \"#276419\"]], \"sequential\": [[0.0, \"#0d0887\"], [0.1111111111111111, \"#46039f\"], [0.2222222222222222, \"#7201a8\"], [0.3333333333333333, \"#9c179e\"], [0.4444444444444444, \"#bd3786\"], [0.5555555555555556, \"#d8576b\"], [0.6666666666666666, \"#ed7953\"], [0.7777777777777778, \"#fb9f3a\"], [0.8888888888888888, \"#fdca26\"], [1.0, \"#f0f921\"]], \"sequentialminus\": [[0.0, \"#0d0887\"], [0.1111111111111111, \"#46039f\"], [0.2222222222222222, \"#7201a8\"], [0.3333333333333333, \"#9c179e\"], [0.4444444444444444, \"#bd3786\"], [0.5555555555555556, \"#d8576b\"], [0.6666666666666666, \"#ed7953\"], [0.7777777777777778, \"#fb9f3a\"], [0.8888888888888888, \"#fdca26\"], [1.0, \"#f0f921\"]]}, \"colorway\": [\"#636efa\", \"#EF553B\", \"#00cc96\", \"#ab63fa\", \"#FFA15A\", \"#19d3f3\", \"#FF6692\", \"#B6E880\", \"#FF97FF\", \"#FECB52\"], \"font\": {\"color\": \"#2a3f5f\"}, \"geo\": {\"bgcolor\": \"white\", \"lakecolor\": \"white\", \"landcolor\": \"#E5ECF6\", \"showlakes\": true, \"showland\": true, \"subunitcolor\": \"white\"}, \"hoverlabel\": {\"align\": \"left\"}, \"hovermode\": \"closest\", \"mapbox\": {\"style\": \"light\"}, \"paper_bgcolor\": \"white\", \"plot_bgcolor\": \"#E5ECF6\", \"polar\": {\"angularaxis\": {\"gridcolor\": \"white\", \"linecolor\": \"white\", \"ticks\": \"\"}, \"bgcolor\": \"#E5ECF6\", \"radialaxis\": {\"gridcolor\": \"white\", \"linecolor\": \"white\", \"ticks\": \"\"}}, \"scene\": {\"xaxis\": {\"backgroundcolor\": \"#E5ECF6\", \"gridcolor\": \"white\", \"gridwidth\": 2, \"linecolor\": \"white\", \"showbackground\": true, \"ticks\": \"\", \"zerolinecolor\": \"white\"}, \"yaxis\": {\"backgroundcolor\": \"#E5ECF6\", \"gridcolor\": \"white\", \"gridwidth\": 2, \"linecolor\": \"white\", \"showbackground\": true, \"ticks\": \"\", \"zerolinecolor\": \"white\"}, \"zaxis\": {\"backgroundcolor\": \"#E5ECF6\", \"gridcolor\": \"white\", \"gridwidth\": 2, \"linecolor\": \"white\", \"showbackground\": true, \"ticks\": \"\", \"zerolinecolor\": \"white\"}}, \"shapedefaults\": {\"line\": {\"color\": \"#2a3f5f\"}}, \"ternary\": {\"aaxis\": {\"gridcolor\": \"white\", \"linecolor\": \"white\", \"ticks\": \"\"}, \"baxis\": {\"gridcolor\": \"white\", \"linecolor\": \"white\", \"ticks\": \"\"}, \"bgcolor\": \"#E5ECF6\", \"caxis\": {\"gridcolor\": \"white\", \"linecolor\": \"white\", \"ticks\": \"\"}}, \"title\": {\"x\": 0.05}, \"xaxis\": {\"automargin\": true, \"gridcolor\": \"white\", \"linecolor\": \"white\", \"ticks\": \"\", \"title\": {\"standoff\": 15}, \"zerolinecolor\": \"white\", \"zerolinewidth\": 2}, \"yaxis\": {\"automargin\": true, \"gridcolor\": \"white\", \"linecolor\": \"white\", \"ticks\": \"\", \"title\": {\"standoff\": 15}, \"zerolinecolor\": \"white\", \"zerolinewidth\": 2}}}, \"width\": 1200, \"xaxis\": {\"anchor\": \"y\", \"domain\": [0.0, 1.0], \"title\": {\"text\": \"Fare\"}}, \"yaxis\": {\"anchor\": \"x\", \"domain\": [0.0, 1.0], \"title\": {\"text\": \"Name\"}}},                        {\"responsive\": true}                    ).then(function(){\n",
       "                            \n",
       "var gd = document.getElementById('db69a983-64de-4184-bd76-be8f3ac30abf');\n",
       "var x = new MutationObserver(function (mutations, observer) {{\n",
       "        var display = window.getComputedStyle(gd).display;\n",
       "        if (!display || display === 'none') {{\n",
       "            console.log([gd, 'removed!']);\n",
       "            Plotly.purge(gd);\n",
       "            observer.disconnect();\n",
       "        }}\n",
       "}});\n",
       "\n",
       "// Listen for the removal of the full notebook cells\n",
       "var notebookContainer = gd.closest('#notebook-container');\n",
       "if (notebookContainer) {{\n",
       "    x.observe(notebookContainer, {childList: true});\n",
       "}}\n",
       "\n",
       "// Listen for the clearing of the current output cell\n",
       "var outputEl = gd.closest('.output');\n",
       "if (outputEl) {{\n",
       "    x.observe(outputEl, {childList: true});\n",
       "}}\n",
       "\n",
       "                        })                };                });            </script>        </div>"
      ]
     },
     "metadata": {},
     "output_type": "display_data"
    }
   ],
   "source": [
    "dfplt = df.copy(deep=True)\n",
    "dfplt[\"Survived\"] = dfplt[\"Survived\"].astype(str)\n",
    "fig = px.scatter(dfplt, x=\"Fare\", y=\"Name\", color = \"Survived\", size_max=6,\n",
    "                 width=1200, height=500,color_discrete_sequence=cm)\n",
    "fig.show()"
   ]
  },
  {
   "cell_type": "markdown",
   "metadata": {
    "_cell_guid": "01496d42-f552-48b5-a9de-13ce8bbb66bb",
    "_uuid": "a992670c-47e3-4373-ab2d-9ee53f058c27",
    "papermill": {
     "duration": 0.088155,
     "end_time": "2022-07-11T06:08:25.957660",
     "exception": false,
     "start_time": "2022-07-11T06:08:25.869505",
     "status": "completed"
    },
    "tags": []
   },
   "source": [
    "### <a class=\"anchor\" id=\"2.1.3_bullet\" style=\"color:#3B61A3\">  2.1.3 Filling \"Embarked\" feature\n",
    "We have two passangers, whose \"Embarked\" information is unknown"
   ]
  },
  {
   "cell_type": "code",
   "execution_count": 45,
   "metadata": {
    "_cell_guid": "35740500-4e16-4769-9537-f7d220b74e0a",
    "_uuid": "ca5beac8-adc1-4aba-a41e-2100cc1f8d79",
    "collapsed": false,
    "execution": {
     "iopub.execute_input": "2022-07-11T06:08:26.137446Z",
     "iopub.status.busy": "2022-07-11T06:08:26.136778Z",
     "iopub.status.idle": "2022-07-11T06:08:26.157178Z",
     "shell.execute_reply": "2022-07-11T06:08:26.157760Z"
    },
    "jupyter": {
     "outputs_hidden": false
    },
    "papermill": {
     "duration": 0.111862,
     "end_time": "2022-07-11T06:08:26.157941",
     "exception": false,
     "start_time": "2022-07-11T06:08:26.046079",
     "status": "completed"
    },
    "tags": []
   },
   "outputs": [
    {
     "data": {
      "text/html": [
       "<div>\n",
       "<style scoped>\n",
       "    .dataframe tbody tr th:only-of-type {\n",
       "        vertical-align: middle;\n",
       "    }\n",
       "\n",
       "    .dataframe tbody tr th {\n",
       "        vertical-align: top;\n",
       "    }\n",
       "\n",
       "    .dataframe thead th {\n",
       "        text-align: right;\n",
       "    }\n",
       "</style>\n",
       "<table border=\"1\" class=\"dataframe\">\n",
       "  <thead>\n",
       "    <tr style=\"text-align: right;\">\n",
       "      <th></th>\n",
       "      <th>Survived</th>\n",
       "      <th>Pclass</th>\n",
       "      <th>Name</th>\n",
       "      <th>Sex</th>\n",
       "      <th>Age</th>\n",
       "      <th>SibSp</th>\n",
       "      <th>Parch</th>\n",
       "      <th>Ticket</th>\n",
       "      <th>Fare</th>\n",
       "      <th>Cabin</th>\n",
       "      <th>Embarked</th>\n",
       "      <th>Deck</th>\n",
       "      <th>Side</th>\n",
       "      <th>Ticket_p</th>\n",
       "      <th>Surname</th>\n",
       "      <th>Namesakes</th>\n",
       "      <th>Title</th>\n",
       "      <th>Kid</th>\n",
       "      <th>Old</th>\n",
       "      <th>Alone</th>\n",
       "    </tr>\n",
       "    <tr>\n",
       "      <th>PassengerId</th>\n",
       "      <th></th>\n",
       "      <th></th>\n",
       "      <th></th>\n",
       "      <th></th>\n",
       "      <th></th>\n",
       "      <th></th>\n",
       "      <th></th>\n",
       "      <th></th>\n",
       "      <th></th>\n",
       "      <th></th>\n",
       "      <th></th>\n",
       "      <th></th>\n",
       "      <th></th>\n",
       "      <th></th>\n",
       "      <th></th>\n",
       "      <th></th>\n",
       "      <th></th>\n",
       "      <th></th>\n",
       "      <th></th>\n",
       "      <th></th>\n",
       "    </tr>\n",
       "  </thead>\n",
       "  <tbody>\n",
       "    <tr>\n",
       "      <th>62</th>\n",
       "      <td>1.0</td>\n",
       "      <td>1</td>\n",
       "      <td>Miss. Amelie</td>\n",
       "      <td>female</td>\n",
       "      <td>38.0</td>\n",
       "      <td>0</td>\n",
       "      <td>0</td>\n",
       "      <td>113572</td>\n",
       "      <td>1194.0</td>\n",
       "      <td>14</td>\n",
       "      <td>NaN</td>\n",
       "      <td>B</td>\n",
       "      <td>-1.0</td>\n",
       "      <td>N/A</td>\n",
       "      <td>Other</td>\n",
       "      <td>0</td>\n",
       "      <td>Miss</td>\n",
       "      <td>0</td>\n",
       "      <td>0</td>\n",
       "      <td>1</td>\n",
       "    </tr>\n",
       "    <tr>\n",
       "      <th>830</th>\n",
       "      <td>1.0</td>\n",
       "      <td>1</td>\n",
       "      <td>Mrs. George Nelson (Martha Evelyn)</td>\n",
       "      <td>female</td>\n",
       "      <td>62.0</td>\n",
       "      <td>0</td>\n",
       "      <td>0</td>\n",
       "      <td>113572</td>\n",
       "      <td>1194.0</td>\n",
       "      <td>14</td>\n",
       "      <td>NaN</td>\n",
       "      <td>B</td>\n",
       "      <td>-1.0</td>\n",
       "      <td>N/A</td>\n",
       "      <td>Other</td>\n",
       "      <td>0</td>\n",
       "      <td>Mrs</td>\n",
       "      <td>0</td>\n",
       "      <td>1</td>\n",
       "      <td>1</td>\n",
       "    </tr>\n",
       "  </tbody>\n",
       "</table>\n",
       "</div>"
      ],
      "text/plain": [
       "             Survived  Pclass                                 Name     Sex   Age  SibSp  Parch  Ticket    Fare  Cabin Embarked Deck  Side Ticket_p Surname  Namesakes Title  Kid  Old  Alone\n",
       "PassengerId                                                                                                                                                                                 \n",
       "62                1.0       1                         Miss. Amelie  female  38.0      0      0  113572  1194.0     14      NaN    B  -1.0      N/A   Other          0  Miss    0    0      1\n",
       "830               1.0       1   Mrs. George Nelson (Martha Evelyn)  female  62.0      0      0  113572  1194.0     14      NaN    B  -1.0      N/A   Other          0   Mrs    0    1      1"
      ]
     },
     "execution_count": 45,
     "metadata": {},
     "output_type": "execute_result"
    }
   ],
   "source": [
    "df[df[\"Embarked\"].isna()]"
   ]
  },
  {
   "cell_type": "markdown",
   "metadata": {
    "_cell_guid": "1d7f9d52-7e69-426f-8260-63e904a9dbd8",
    "_uuid": "abc79687-4bc2-49e5-a25b-e57ce87d7ffc",
    "papermill": {
     "duration": 0.088946,
     "end_time": "2022-07-11T06:08:26.335974",
     "exception": false,
     "start_time": "2022-07-11T06:08:26.247028",
     "status": "completed"
    },
    "tags": []
   },
   "source": [
    "According to https://www.encyclopedia-titanica.org/titanic-survivor/amelia-icard.html we can fill nan values with \"S\""
   ]
  },
  {
   "cell_type": "code",
   "execution_count": 46,
   "metadata": {
    "_cell_guid": "23149575-ae80-4e4d-82dd-22586c09848e",
    "_uuid": "170ff031-6e80-47d7-9523-984a5206df0d",
    "collapsed": false,
    "execution": {
     "iopub.execute_input": "2022-07-11T06:08:26.519489Z",
     "iopub.status.busy": "2022-07-11T06:08:26.518846Z",
     "iopub.status.idle": "2022-07-11T06:08:26.524338Z",
     "shell.execute_reply": "2022-07-11T06:08:26.524859Z"
    },
    "jupyter": {
     "outputs_hidden": false
    },
    "papermill": {
     "duration": 0.099202,
     "end_time": "2022-07-11T06:08:26.525030",
     "exception": false,
     "start_time": "2022-07-11T06:08:26.425828",
     "status": "completed"
    },
    "tags": []
   },
   "outputs": [],
   "source": [
    "df.loc[df[\"Embarked\"].isna(),\"Embarked\"] = \"S\""
   ]
  },
  {
   "cell_type": "markdown",
   "metadata": {
    "_cell_guid": "db49fdb9-d9f3-42f7-861a-84910dea0f90",
    "_uuid": "4cf6f7fe-dead-4266-943b-b19396a86ff0",
    "papermill": {
     "duration": 0.090656,
     "end_time": "2022-07-11T06:08:26.705716",
     "exception": false,
     "start_time": "2022-07-11T06:08:26.615060",
     "status": "completed"
    },
    "tags": []
   },
   "source": [
    "## <a class=\"anchor\" id=\"2.2_bullet\" style=\"color:#3B61A3\">  2.2 Encoding features and droping unnecessary"
   ]
  },
  {
   "cell_type": "markdown",
   "metadata": {
    "_cell_guid": "dfd1141a-c893-4153-ab1e-c1fd15d565c8",
    "_uuid": "fa48b2ba-9d88-4a7e-90d9-b1e21b4f640b",
    "papermill": {
     "duration": 0.091393,
     "end_time": "2022-07-11T06:08:26.888927",
     "exception": false,
     "start_time": "2022-07-11T06:08:26.797534",
     "status": "completed"
    },
    "tags": []
   },
   "source": [
    "We can try to apply OneHot encoder for all columns to see how spars will be the matrix"
   ]
  },
  {
   "cell_type": "code",
   "execution_count": 47,
   "metadata": {
    "_cell_guid": "741ab149-49a4-4e42-90ee-7e9446c5ad4d",
    "_uuid": "195eeae4-3849-4c78-986f-1fb067302623",
    "collapsed": false,
    "execution": {
     "iopub.execute_input": "2022-07-11T06:08:27.081340Z",
     "iopub.status.busy": "2022-07-11T06:08:27.080689Z",
     "iopub.status.idle": "2022-07-11T06:08:27.108650Z",
     "shell.execute_reply": "2022-07-11T06:08:27.109152Z"
    },
    "jupyter": {
     "outputs_hidden": false
    },
    "papermill": {
     "duration": 0.127616,
     "end_time": "2022-07-11T06:08:27.109361",
     "exception": false,
     "start_time": "2022-07-11T06:08:26.981745",
     "status": "completed"
    },
    "tags": []
   },
   "outputs": [],
   "source": [
    "onehot_df = pd.DataFrame(index=df.index)\n",
    "\n",
    "for c in [\"Pclass\",\"Sex\",\"Embarked\",\"Deck\",\"Ticket_p\",\"Surname\",\"Title\"]:\n",
    "    encoded = OneHotEncoder().fit_transform(df[c].to_numpy().reshape(-1,1)).toarray()\n",
    "    columns = [f\"{c}_{i}\" for i in range(encoded.shape[1])]\n",
    "    _df =pd.DataFrame(data=encoded, columns=columns, index=df.index)\n",
    "    onehot_df = pd.concat([_df,onehot_df], axis=1)\n",
    "    \n",
    "onehot_df = pd.concat([onehot_df,df[[\"Survived\",\"Age\",\"SibSp\",\"Parch\",\"Fare\",\"Cabin\",\"Namesakes\",\"Kid\",\"Alone\",\"Side\"]]], axis=1)\n",
    "\n",
    "for c in [\"Age\",\"Fare\",\"Cabin\",\"SibSp\",\"Parch\"]:\n",
    "    onehot_df[c] = MinMaxScaler().fit_transform(onehot_df[c].to_numpy().reshape(-1,1))"
   ]
  },
  {
   "cell_type": "code",
   "execution_count": 48,
   "metadata": {
    "_cell_guid": "21dec68b-ecda-42fb-860e-93bcf2d12e26",
    "_uuid": "d64e0ab9-8ec0-42f9-b10d-0ad92384a2f6",
    "collapsed": false,
    "execution": {
     "iopub.execute_input": "2022-07-11T06:08:27.291331Z",
     "iopub.status.busy": "2022-07-11T06:08:27.290659Z",
     "iopub.status.idle": "2022-07-11T06:08:27.756107Z",
     "shell.execute_reply": "2022-07-11T06:08:27.756629Z"
    },
    "jupyter": {
     "outputs_hidden": false
    },
    "papermill": {
     "duration": 0.557651,
     "end_time": "2022-07-11T06:08:27.756807",
     "exception": false,
     "start_time": "2022-07-11T06:08:27.199156",
     "status": "completed"
    },
    "tags": []
   },
   "outputs": [
    {
     "data": {
      "text/html": [
       "<style  type=\"text/css\" >\n",
       "#T_d1907_row0_col0,#T_d1907_row0_col1,#T_d1907_row0_col3,#T_d1907_row0_col4,#T_d1907_row0_col5,#T_d1907_row0_col6,#T_d1907_row0_col7,#T_d1907_row0_col8,#T_d1907_row0_col9,#T_d1907_row0_col10,#T_d1907_row0_col11,#T_d1907_row0_col12,#T_d1907_row0_col13,#T_d1907_row0_col14,#T_d1907_row0_col15,#T_d1907_row0_col16,#T_d1907_row0_col17,#T_d1907_row0_col18,#T_d1907_row0_col19,#T_d1907_row0_col20,#T_d1907_row0_col21,#T_d1907_row0_col22,#T_d1907_row0_col23,#T_d1907_row0_col24,#T_d1907_row0_col25,#T_d1907_row0_col26,#T_d1907_row0_col27,#T_d1907_row0_col28,#T_d1907_row0_col29,#T_d1907_row0_col30,#T_d1907_row0_col31,#T_d1907_row0_col32,#T_d1907_row0_col33,#T_d1907_row0_col34,#T_d1907_row0_col35,#T_d1907_row0_col36,#T_d1907_row0_col37,#T_d1907_row0_col38,#T_d1907_row0_col39,#T_d1907_row0_col40,#T_d1907_row0_col41,#T_d1907_row0_col42,#T_d1907_row0_col43,#T_d1907_row0_col44,#T_d1907_row0_col45,#T_d1907_row0_col46,#T_d1907_row0_col47,#T_d1907_row0_col48,#T_d1907_row0_col49,#T_d1907_row0_col50,#T_d1907_row0_col51,#T_d1907_row0_col52,#T_d1907_row0_col53,#T_d1907_row0_col54,#T_d1907_row0_col55,#T_d1907_row0_col56,#T_d1907_row0_col57,#T_d1907_row0_col58,#T_d1907_row0_col59,#T_d1907_row0_col60,#T_d1907_row0_col61,#T_d1907_row0_col62,#T_d1907_row0_col63,#T_d1907_row0_col64,#T_d1907_row0_col65,#T_d1907_row0_col66,#T_d1907_row0_col67,#T_d1907_row0_col68,#T_d1907_row0_col69,#T_d1907_row0_col70,#T_d1907_row0_col71,#T_d1907_row0_col72,#T_d1907_row0_col73,#T_d1907_row0_col74,#T_d1907_row0_col75,#T_d1907_row0_col76,#T_d1907_row0_col77,#T_d1907_row0_col78,#T_d1907_row0_col79,#T_d1907_row0_col80,#T_d1907_row0_col81,#T_d1907_row0_col82,#T_d1907_row0_col83,#T_d1907_row0_col84,#T_d1907_row0_col85,#T_d1907_row0_col86,#T_d1907_row0_col87,#T_d1907_row0_col88,#T_d1907_row0_col89,#T_d1907_row0_col90,#T_d1907_row0_col91,#T_d1907_row0_col92,#T_d1907_row0_col93,#T_d1907_row0_col94,#T_d1907_row0_col95,#T_d1907_row0_col96,#T_d1907_row0_col97,#T_d1907_row0_col98,#T_d1907_row0_col99,#T_d1907_row0_col100,#T_d1907_row0_col101,#T_d1907_row0_col102,#T_d1907_row0_col103,#T_d1907_row0_col104,#T_d1907_row0_col105,#T_d1907_row0_col107,#T_d1907_row0_col108,#T_d1907_row0_col109,#T_d1907_row0_col110,#T_d1907_row0_col111,#T_d1907_row0_col112,#T_d1907_row0_col113,#T_d1907_row0_col114,#T_d1907_row0_col115,#T_d1907_row0_col116,#T_d1907_row0_col117,#T_d1907_row0_col118,#T_d1907_row0_col119,#T_d1907_row0_col120,#T_d1907_row0_col121,#T_d1907_row0_col122,#T_d1907_row0_col123,#T_d1907_row0_col124,#T_d1907_row0_col125,#T_d1907_row0_col126,#T_d1907_row0_col127,#T_d1907_row0_col128,#T_d1907_row0_col129,#T_d1907_row0_col130,#T_d1907_row0_col131,#T_d1907_row0_col132,#T_d1907_row0_col133,#T_d1907_row0_col134,#T_d1907_row0_col135,#T_d1907_row0_col136,#T_d1907_row0_col137,#T_d1907_row0_col138,#T_d1907_row0_col139,#T_d1907_row0_col140,#T_d1907_row0_col141,#T_d1907_row0_col142,#T_d1907_row0_col143,#T_d1907_row0_col145,#T_d1907_row0_col146,#T_d1907_row0_col147,#T_d1907_row0_col148,#T_d1907_row0_col149,#T_d1907_row0_col150,#T_d1907_row0_col151,#T_d1907_row0_col152,#T_d1907_row0_col153,#T_d1907_row0_col154,#T_d1907_row0_col155,#T_d1907_row0_col156,#T_d1907_row0_col157,#T_d1907_row0_col158,#T_d1907_row0_col159,#T_d1907_row0_col160,#T_d1907_row0_col161,#T_d1907_row0_col162,#T_d1907_row0_col163,#T_d1907_row0_col164,#T_d1907_row0_col165,#T_d1907_row0_col166,#T_d1907_row0_col167,#T_d1907_row0_col168,#T_d1907_row0_col169,#T_d1907_row0_col170,#T_d1907_row0_col172,#T_d1907_row0_col173,#T_d1907_row0_col175,#T_d1907_row0_col177,#T_d1907_row0_col178,#T_d1907_row0_col180,#T_d1907_row0_col183,#T_d1907_row0_col184,#T_d1907_row0_col185,#T_d1907_row0_col187,#T_d1907_row0_col188,#T_d1907_row1_col0,#T_d1907_row1_col1,#T_d1907_row1_col2,#T_d1907_row1_col4,#T_d1907_row1_col5,#T_d1907_row1_col6,#T_d1907_row1_col7,#T_d1907_row1_col8,#T_d1907_row1_col9,#T_d1907_row1_col10,#T_d1907_row1_col11,#T_d1907_row1_col12,#T_d1907_row1_col13,#T_d1907_row1_col14,#T_d1907_row1_col15,#T_d1907_row1_col16,#T_d1907_row1_col17,#T_d1907_row1_col18,#T_d1907_row1_col19,#T_d1907_row1_col20,#T_d1907_row1_col21,#T_d1907_row1_col22,#T_d1907_row1_col23,#T_d1907_row1_col24,#T_d1907_row1_col25,#T_d1907_row1_col26,#T_d1907_row1_col27,#T_d1907_row1_col28,#T_d1907_row1_col29,#T_d1907_row1_col30,#T_d1907_row1_col31,#T_d1907_row1_col32,#T_d1907_row1_col33,#T_d1907_row1_col34,#T_d1907_row1_col35,#T_d1907_row1_col36,#T_d1907_row1_col37,#T_d1907_row1_col38,#T_d1907_row1_col39,#T_d1907_row1_col40,#T_d1907_row1_col42,#T_d1907_row1_col43,#T_d1907_row1_col44,#T_d1907_row1_col45,#T_d1907_row1_col46,#T_d1907_row1_col47,#T_d1907_row1_col48,#T_d1907_row1_col49,#T_d1907_row1_col50,#T_d1907_row1_col51,#T_d1907_row1_col52,#T_d1907_row1_col53,#T_d1907_row1_col54,#T_d1907_row1_col55,#T_d1907_row1_col56,#T_d1907_row1_col57,#T_d1907_row1_col58,#T_d1907_row1_col59,#T_d1907_row1_col60,#T_d1907_row1_col61,#T_d1907_row1_col62,#T_d1907_row1_col63,#T_d1907_row1_col64,#T_d1907_row1_col65,#T_d1907_row1_col66,#T_d1907_row1_col67,#T_d1907_row1_col68,#T_d1907_row1_col69,#T_d1907_row1_col70,#T_d1907_row1_col71,#T_d1907_row1_col72,#T_d1907_row1_col73,#T_d1907_row1_col74,#T_d1907_row1_col75,#T_d1907_row1_col76,#T_d1907_row1_col77,#T_d1907_row1_col78,#T_d1907_row1_col79,#T_d1907_row1_col80,#T_d1907_row1_col81,#T_d1907_row1_col82,#T_d1907_row1_col83,#T_d1907_row1_col84,#T_d1907_row1_col85,#T_d1907_row1_col86,#T_d1907_row1_col87,#T_d1907_row1_col88,#T_d1907_row1_col89,#T_d1907_row1_col90,#T_d1907_row1_col91,#T_d1907_row1_col92,#T_d1907_row1_col93,#T_d1907_row1_col94,#T_d1907_row1_col95,#T_d1907_row1_col96,#T_d1907_row1_col97,#T_d1907_row1_col98,#T_d1907_row1_col99,#T_d1907_row1_col100,#T_d1907_row1_col101,#T_d1907_row1_col102,#T_d1907_row1_col103,#T_d1907_row1_col104,#T_d1907_row1_col105,#T_d1907_row1_col106,#T_d1907_row1_col107,#T_d1907_row1_col108,#T_d1907_row1_col109,#T_d1907_row1_col110,#T_d1907_row1_col111,#T_d1907_row1_col112,#T_d1907_row1_col113,#T_d1907_row1_col114,#T_d1907_row1_col115,#T_d1907_row1_col116,#T_d1907_row1_col117,#T_d1907_row1_col118,#T_d1907_row1_col119,#T_d1907_row1_col120,#T_d1907_row1_col121,#T_d1907_row1_col122,#T_d1907_row1_col123,#T_d1907_row1_col124,#T_d1907_row1_col125,#T_d1907_row1_col126,#T_d1907_row1_col127,#T_d1907_row1_col128,#T_d1907_row1_col129,#T_d1907_row1_col130,#T_d1907_row1_col131,#T_d1907_row1_col132,#T_d1907_row1_col133,#T_d1907_row1_col134,#T_d1907_row1_col135,#T_d1907_row1_col136,#T_d1907_row1_col137,#T_d1907_row1_col138,#T_d1907_row1_col139,#T_d1907_row1_col140,#T_d1907_row1_col141,#T_d1907_row1_col142,#T_d1907_row1_col143,#T_d1907_row1_col144,#T_d1907_row1_col145,#T_d1907_row1_col146,#T_d1907_row1_col147,#T_d1907_row1_col148,#T_d1907_row1_col149,#T_d1907_row1_col151,#T_d1907_row1_col152,#T_d1907_row1_col153,#T_d1907_row1_col154,#T_d1907_row1_col155,#T_d1907_row1_col156,#T_d1907_row1_col157,#T_d1907_row1_col158,#T_d1907_row1_col159,#T_d1907_row1_col160,#T_d1907_row1_col161,#T_d1907_row1_col162,#T_d1907_row1_col163,#T_d1907_row1_col164,#T_d1907_row1_col165,#T_d1907_row1_col167,#T_d1907_row1_col168,#T_d1907_row1_col169,#T_d1907_row1_col170,#T_d1907_row1_col171,#T_d1907_row1_col173,#T_d1907_row1_col174,#T_d1907_row1_col176,#T_d1907_row1_col178,#T_d1907_row1_col179,#T_d1907_row1_col183,#T_d1907_row1_col187,#T_d1907_row1_col188,#T_d1907_row2_col0,#T_d1907_row2_col2,#T_d1907_row2_col3,#T_d1907_row2_col4,#T_d1907_row2_col5,#T_d1907_row2_col6,#T_d1907_row2_col7,#T_d1907_row2_col8,#T_d1907_row2_col9,#T_d1907_row2_col10,#T_d1907_row2_col11,#T_d1907_row2_col12,#T_d1907_row2_col13,#T_d1907_row2_col14,#T_d1907_row2_col15,#T_d1907_row2_col16,#T_d1907_row2_col17,#T_d1907_row2_col18,#T_d1907_row2_col19,#T_d1907_row2_col20,#T_d1907_row2_col21,#T_d1907_row2_col22,#T_d1907_row2_col23,#T_d1907_row2_col24,#T_d1907_row2_col25,#T_d1907_row2_col26,#T_d1907_row2_col27,#T_d1907_row2_col28,#T_d1907_row2_col29,#T_d1907_row2_col30,#T_d1907_row2_col31,#T_d1907_row2_col32,#T_d1907_row2_col33,#T_d1907_row2_col34,#T_d1907_row2_col35,#T_d1907_row2_col36,#T_d1907_row2_col37,#T_d1907_row2_col38,#T_d1907_row2_col39,#T_d1907_row2_col40,#T_d1907_row2_col41,#T_d1907_row2_col42,#T_d1907_row2_col43,#T_d1907_row2_col44,#T_d1907_row2_col45,#T_d1907_row2_col46,#T_d1907_row2_col47,#T_d1907_row2_col48,#T_d1907_row2_col49,#T_d1907_row2_col50,#T_d1907_row2_col51,#T_d1907_row2_col52,#T_d1907_row2_col53,#T_d1907_row2_col54,#T_d1907_row2_col55,#T_d1907_row2_col56,#T_d1907_row2_col57,#T_d1907_row2_col58,#T_d1907_row2_col59,#T_d1907_row2_col60,#T_d1907_row2_col61,#T_d1907_row2_col62,#T_d1907_row2_col63,#T_d1907_row2_col64,#T_d1907_row2_col65,#T_d1907_row2_col66,#T_d1907_row2_col67,#T_d1907_row2_col68,#T_d1907_row2_col69,#T_d1907_row2_col70,#T_d1907_row2_col71,#T_d1907_row2_col72,#T_d1907_row2_col73,#T_d1907_row2_col74,#T_d1907_row2_col75,#T_d1907_row2_col76,#T_d1907_row2_col77,#T_d1907_row2_col78,#T_d1907_row2_col79,#T_d1907_row2_col80,#T_d1907_row2_col81,#T_d1907_row2_col82,#T_d1907_row2_col83,#T_d1907_row2_col84,#T_d1907_row2_col85,#T_d1907_row2_col86,#T_d1907_row2_col87,#T_d1907_row2_col88,#T_d1907_row2_col89,#T_d1907_row2_col90,#T_d1907_row2_col91,#T_d1907_row2_col92,#T_d1907_row2_col93,#T_d1907_row2_col94,#T_d1907_row2_col95,#T_d1907_row2_col96,#T_d1907_row2_col97,#T_d1907_row2_col98,#T_d1907_row2_col99,#T_d1907_row2_col100,#T_d1907_row2_col101,#T_d1907_row2_col102,#T_d1907_row2_col103,#T_d1907_row2_col104,#T_d1907_row2_col105,#T_d1907_row2_col107,#T_d1907_row2_col108,#T_d1907_row2_col109,#T_d1907_row2_col110,#T_d1907_row2_col111,#T_d1907_row2_col112,#T_d1907_row2_col113,#T_d1907_row2_col114,#T_d1907_row2_col115,#T_d1907_row2_col116,#T_d1907_row2_col117,#T_d1907_row2_col118,#T_d1907_row2_col119,#T_d1907_row2_col120,#T_d1907_row2_col121,#T_d1907_row2_col122,#T_d1907_row2_col123,#T_d1907_row2_col124,#T_d1907_row2_col125,#T_d1907_row2_col126,#T_d1907_row2_col127,#T_d1907_row2_col128,#T_d1907_row2_col129,#T_d1907_row2_col130,#T_d1907_row2_col131,#T_d1907_row2_col132,#T_d1907_row2_col133,#T_d1907_row2_col134,#T_d1907_row2_col135,#T_d1907_row2_col136,#T_d1907_row2_col137,#T_d1907_row2_col138,#T_d1907_row2_col139,#T_d1907_row2_col140,#T_d1907_row2_col141,#T_d1907_row2_col142,#T_d1907_row2_col143,#T_d1907_row2_col144,#T_d1907_row2_col145,#T_d1907_row2_col146,#T_d1907_row2_col147,#T_d1907_row2_col148,#T_d1907_row2_col149,#T_d1907_row2_col150,#T_d1907_row2_col151,#T_d1907_row2_col152,#T_d1907_row2_col153,#T_d1907_row2_col154,#T_d1907_row2_col155,#T_d1907_row2_col156,#T_d1907_row2_col157,#T_d1907_row2_col158,#T_d1907_row2_col159,#T_d1907_row2_col160,#T_d1907_row2_col162,#T_d1907_row2_col163,#T_d1907_row2_col164,#T_d1907_row2_col165,#T_d1907_row2_col166,#T_d1907_row2_col167,#T_d1907_row2_col168,#T_d1907_row2_col169,#T_d1907_row2_col170,#T_d1907_row2_col172,#T_d1907_row2_col173,#T_d1907_row2_col176,#T_d1907_row2_col177,#T_d1907_row2_col178,#T_d1907_row2_col182,#T_d1907_row2_col183,#T_d1907_row2_col185,#T_d1907_row2_col186,#T_d1907_row2_col187,#T_d1907_row3_col0,#T_d1907_row3_col1,#T_d1907_row3_col2,#T_d1907_row3_col4,#T_d1907_row3_col5,#T_d1907_row3_col6,#T_d1907_row3_col7,#T_d1907_row3_col8,#T_d1907_row3_col9,#T_d1907_row3_col10,#T_d1907_row3_col11,#T_d1907_row3_col12,#T_d1907_row3_col13,#T_d1907_row3_col14,#T_d1907_row3_col15,#T_d1907_row3_col16,#T_d1907_row3_col17,#T_d1907_row3_col18,#T_d1907_row3_col19,#T_d1907_row3_col20,#T_d1907_row3_col21,#T_d1907_row3_col22,#T_d1907_row3_col23,#T_d1907_row3_col24,#T_d1907_row3_col25,#T_d1907_row3_col26,#T_d1907_row3_col27,#T_d1907_row3_col28,#T_d1907_row3_col29,#T_d1907_row3_col30,#T_d1907_row3_col31,#T_d1907_row3_col32,#T_d1907_row3_col33,#T_d1907_row3_col34,#T_d1907_row3_col35,#T_d1907_row3_col36,#T_d1907_row3_col37,#T_d1907_row3_col38,#T_d1907_row3_col39,#T_d1907_row3_col40,#T_d1907_row3_col41,#T_d1907_row3_col42,#T_d1907_row3_col43,#T_d1907_row3_col44,#T_d1907_row3_col45,#T_d1907_row3_col46,#T_d1907_row3_col47,#T_d1907_row3_col48,#T_d1907_row3_col49,#T_d1907_row3_col50,#T_d1907_row3_col51,#T_d1907_row3_col52,#T_d1907_row3_col53,#T_d1907_row3_col54,#T_d1907_row3_col55,#T_d1907_row3_col56,#T_d1907_row3_col57,#T_d1907_row3_col58,#T_d1907_row3_col59,#T_d1907_row3_col60,#T_d1907_row3_col61,#T_d1907_row3_col62,#T_d1907_row3_col63,#T_d1907_row3_col64,#T_d1907_row3_col65,#T_d1907_row3_col66,#T_d1907_row3_col67,#T_d1907_row3_col68,#T_d1907_row3_col69,#T_d1907_row3_col70,#T_d1907_row3_col71,#T_d1907_row3_col72,#T_d1907_row3_col73,#T_d1907_row3_col74,#T_d1907_row3_col75,#T_d1907_row3_col76,#T_d1907_row3_col77,#T_d1907_row3_col78,#T_d1907_row3_col79,#T_d1907_row3_col80,#T_d1907_row3_col81,#T_d1907_row3_col82,#T_d1907_row3_col83,#T_d1907_row3_col84,#T_d1907_row3_col85,#T_d1907_row3_col86,#T_d1907_row3_col87,#T_d1907_row3_col88,#T_d1907_row3_col89,#T_d1907_row3_col90,#T_d1907_row3_col91,#T_d1907_row3_col92,#T_d1907_row3_col93,#T_d1907_row3_col94,#T_d1907_row3_col95,#T_d1907_row3_col96,#T_d1907_row3_col97,#T_d1907_row3_col98,#T_d1907_row3_col99,#T_d1907_row3_col100,#T_d1907_row3_col101,#T_d1907_row3_col102,#T_d1907_row3_col103,#T_d1907_row3_col104,#T_d1907_row3_col105,#T_d1907_row3_col107,#T_d1907_row3_col108,#T_d1907_row3_col109,#T_d1907_row3_col110,#T_d1907_row3_col111,#T_d1907_row3_col112,#T_d1907_row3_col113,#T_d1907_row3_col114,#T_d1907_row3_col115,#T_d1907_row3_col116,#T_d1907_row3_col117,#T_d1907_row3_col118,#T_d1907_row3_col119,#T_d1907_row3_col120,#T_d1907_row3_col121,#T_d1907_row3_col122,#T_d1907_row3_col123,#T_d1907_row3_col124,#T_d1907_row3_col125,#T_d1907_row3_col126,#T_d1907_row3_col127,#T_d1907_row3_col128,#T_d1907_row3_col129,#T_d1907_row3_col130,#T_d1907_row3_col131,#T_d1907_row3_col132,#T_d1907_row3_col133,#T_d1907_row3_col134,#T_d1907_row3_col135,#T_d1907_row3_col136,#T_d1907_row3_col137,#T_d1907_row3_col138,#T_d1907_row3_col139,#T_d1907_row3_col140,#T_d1907_row3_col141,#T_d1907_row3_col142,#T_d1907_row3_col143,#T_d1907_row3_col144,#T_d1907_row3_col145,#T_d1907_row3_col146,#T_d1907_row3_col147,#T_d1907_row3_col148,#T_d1907_row3_col150,#T_d1907_row3_col151,#T_d1907_row3_col152,#T_d1907_row3_col153,#T_d1907_row3_col154,#T_d1907_row3_col155,#T_d1907_row3_col156,#T_d1907_row3_col157,#T_d1907_row3_col158,#T_d1907_row3_col159,#T_d1907_row3_col160,#T_d1907_row3_col161,#T_d1907_row3_col162,#T_d1907_row3_col163,#T_d1907_row3_col164,#T_d1907_row3_col165,#T_d1907_row3_col167,#T_d1907_row3_col168,#T_d1907_row3_col169,#T_d1907_row3_col170,#T_d1907_row3_col171,#T_d1907_row3_col172,#T_d1907_row3_col173,#T_d1907_row3_col176,#T_d1907_row3_col178,#T_d1907_row3_col179,#T_d1907_row3_col183,#T_d1907_row3_col187,#T_d1907_row3_col188,#T_d1907_row4_col0,#T_d1907_row4_col1,#T_d1907_row4_col3,#T_d1907_row4_col4,#T_d1907_row4_col5,#T_d1907_row4_col6,#T_d1907_row4_col7,#T_d1907_row4_col8,#T_d1907_row4_col9,#T_d1907_row4_col10,#T_d1907_row4_col11,#T_d1907_row4_col12,#T_d1907_row4_col13,#T_d1907_row4_col14,#T_d1907_row4_col15,#T_d1907_row4_col16,#T_d1907_row4_col17,#T_d1907_row4_col18,#T_d1907_row4_col19,#T_d1907_row4_col20,#T_d1907_row4_col21,#T_d1907_row4_col22,#T_d1907_row4_col23,#T_d1907_row4_col24,#T_d1907_row4_col25,#T_d1907_row4_col26,#T_d1907_row4_col27,#T_d1907_row4_col28,#T_d1907_row4_col29,#T_d1907_row4_col30,#T_d1907_row4_col31,#T_d1907_row4_col32,#T_d1907_row4_col33,#T_d1907_row4_col34,#T_d1907_row4_col35,#T_d1907_row4_col36,#T_d1907_row4_col37,#T_d1907_row4_col38,#T_d1907_row4_col39,#T_d1907_row4_col40,#T_d1907_row4_col41,#T_d1907_row4_col42,#T_d1907_row4_col43,#T_d1907_row4_col44,#T_d1907_row4_col45,#T_d1907_row4_col46,#T_d1907_row4_col47,#T_d1907_row4_col48,#T_d1907_row4_col49,#T_d1907_row4_col50,#T_d1907_row4_col51,#T_d1907_row4_col52,#T_d1907_row4_col53,#T_d1907_row4_col54,#T_d1907_row4_col55,#T_d1907_row4_col56,#T_d1907_row4_col57,#T_d1907_row4_col58,#T_d1907_row4_col59,#T_d1907_row4_col60,#T_d1907_row4_col61,#T_d1907_row4_col62,#T_d1907_row4_col63,#T_d1907_row4_col64,#T_d1907_row4_col65,#T_d1907_row4_col66,#T_d1907_row4_col67,#T_d1907_row4_col68,#T_d1907_row4_col69,#T_d1907_row4_col70,#T_d1907_row4_col71,#T_d1907_row4_col72,#T_d1907_row4_col73,#T_d1907_row4_col74,#T_d1907_row4_col75,#T_d1907_row4_col76,#T_d1907_row4_col77,#T_d1907_row4_col78,#T_d1907_row4_col79,#T_d1907_row4_col80,#T_d1907_row4_col81,#T_d1907_row4_col82,#T_d1907_row4_col83,#T_d1907_row4_col84,#T_d1907_row4_col85,#T_d1907_row4_col86,#T_d1907_row4_col87,#T_d1907_row4_col88,#T_d1907_row4_col89,#T_d1907_row4_col90,#T_d1907_row4_col91,#T_d1907_row4_col92,#T_d1907_row4_col93,#T_d1907_row4_col94,#T_d1907_row4_col95,#T_d1907_row4_col96,#T_d1907_row4_col97,#T_d1907_row4_col98,#T_d1907_row4_col99,#T_d1907_row4_col100,#T_d1907_row4_col101,#T_d1907_row4_col102,#T_d1907_row4_col103,#T_d1907_row4_col104,#T_d1907_row4_col105,#T_d1907_row4_col107,#T_d1907_row4_col108,#T_d1907_row4_col109,#T_d1907_row4_col110,#T_d1907_row4_col111,#T_d1907_row4_col112,#T_d1907_row4_col113,#T_d1907_row4_col114,#T_d1907_row4_col115,#T_d1907_row4_col116,#T_d1907_row4_col117,#T_d1907_row4_col118,#T_d1907_row4_col119,#T_d1907_row4_col120,#T_d1907_row4_col121,#T_d1907_row4_col122,#T_d1907_row4_col123,#T_d1907_row4_col124,#T_d1907_row4_col125,#T_d1907_row4_col126,#T_d1907_row4_col127,#T_d1907_row4_col128,#T_d1907_row4_col129,#T_d1907_row4_col130,#T_d1907_row4_col131,#T_d1907_row4_col132,#T_d1907_row4_col133,#T_d1907_row4_col134,#T_d1907_row4_col135,#T_d1907_row4_col136,#T_d1907_row4_col137,#T_d1907_row4_col138,#T_d1907_row4_col139,#T_d1907_row4_col140,#T_d1907_row4_col141,#T_d1907_row4_col142,#T_d1907_row4_col143,#T_d1907_row4_col144,#T_d1907_row4_col145,#T_d1907_row4_col146,#T_d1907_row4_col147,#T_d1907_row4_col148,#T_d1907_row4_col150,#T_d1907_row4_col151,#T_d1907_row4_col152,#T_d1907_row4_col153,#T_d1907_row4_col154,#T_d1907_row4_col155,#T_d1907_row4_col156,#T_d1907_row4_col157,#T_d1907_row4_col158,#T_d1907_row4_col159,#T_d1907_row4_col160,#T_d1907_row4_col161,#T_d1907_row4_col162,#T_d1907_row4_col163,#T_d1907_row4_col164,#T_d1907_row4_col165,#T_d1907_row4_col166,#T_d1907_row4_col167,#T_d1907_row4_col168,#T_d1907_row4_col169,#T_d1907_row4_col170,#T_d1907_row4_col172,#T_d1907_row4_col173,#T_d1907_row4_col175,#T_d1907_row4_col177,#T_d1907_row4_col178,#T_d1907_row4_col180,#T_d1907_row4_col182,#T_d1907_row4_col183,#T_d1907_row4_col185,#T_d1907_row4_col187,#T_d1907_row5_col0,#T_d1907_row5_col1,#T_d1907_row5_col3,#T_d1907_row5_col4,#T_d1907_row5_col5,#T_d1907_row5_col6,#T_d1907_row5_col7,#T_d1907_row5_col8,#T_d1907_row5_col9,#T_d1907_row5_col10,#T_d1907_row5_col11,#T_d1907_row5_col12,#T_d1907_row5_col13,#T_d1907_row5_col14,#T_d1907_row5_col15,#T_d1907_row5_col16,#T_d1907_row5_col17,#T_d1907_row5_col18,#T_d1907_row5_col19,#T_d1907_row5_col20,#T_d1907_row5_col21,#T_d1907_row5_col22,#T_d1907_row5_col23,#T_d1907_row5_col24,#T_d1907_row5_col25,#T_d1907_row5_col26,#T_d1907_row5_col27,#T_d1907_row5_col28,#T_d1907_row5_col29,#T_d1907_row5_col30,#T_d1907_row5_col31,#T_d1907_row5_col32,#T_d1907_row5_col33,#T_d1907_row5_col34,#T_d1907_row5_col35,#T_d1907_row5_col36,#T_d1907_row5_col37,#T_d1907_row5_col38,#T_d1907_row5_col39,#T_d1907_row5_col40,#T_d1907_row5_col41,#T_d1907_row5_col42,#T_d1907_row5_col43,#T_d1907_row5_col44,#T_d1907_row5_col45,#T_d1907_row5_col46,#T_d1907_row5_col47,#T_d1907_row5_col48,#T_d1907_row5_col49,#T_d1907_row5_col50,#T_d1907_row5_col51,#T_d1907_row5_col52,#T_d1907_row5_col53,#T_d1907_row5_col54,#T_d1907_row5_col55,#T_d1907_row5_col56,#T_d1907_row5_col57,#T_d1907_row5_col58,#T_d1907_row5_col59,#T_d1907_row5_col60,#T_d1907_row5_col61,#T_d1907_row5_col62,#T_d1907_row5_col63,#T_d1907_row5_col64,#T_d1907_row5_col65,#T_d1907_row5_col66,#T_d1907_row5_col67,#T_d1907_row5_col68,#T_d1907_row5_col69,#T_d1907_row5_col70,#T_d1907_row5_col71,#T_d1907_row5_col72,#T_d1907_row5_col73,#T_d1907_row5_col74,#T_d1907_row5_col75,#T_d1907_row5_col76,#T_d1907_row5_col77,#T_d1907_row5_col78,#T_d1907_row5_col79,#T_d1907_row5_col80,#T_d1907_row5_col81,#T_d1907_row5_col82,#T_d1907_row5_col83,#T_d1907_row5_col84,#T_d1907_row5_col85,#T_d1907_row5_col86,#T_d1907_row5_col87,#T_d1907_row5_col88,#T_d1907_row5_col89,#T_d1907_row5_col90,#T_d1907_row5_col91,#T_d1907_row5_col92,#T_d1907_row5_col93,#T_d1907_row5_col94,#T_d1907_row5_col95,#T_d1907_row5_col96,#T_d1907_row5_col97,#T_d1907_row5_col98,#T_d1907_row5_col99,#T_d1907_row5_col100,#T_d1907_row5_col101,#T_d1907_row5_col102,#T_d1907_row5_col103,#T_d1907_row5_col104,#T_d1907_row5_col105,#T_d1907_row5_col107,#T_d1907_row5_col108,#T_d1907_row5_col109,#T_d1907_row5_col110,#T_d1907_row5_col111,#T_d1907_row5_col112,#T_d1907_row5_col113,#T_d1907_row5_col114,#T_d1907_row5_col115,#T_d1907_row5_col116,#T_d1907_row5_col117,#T_d1907_row5_col118,#T_d1907_row5_col119,#T_d1907_row5_col120,#T_d1907_row5_col121,#T_d1907_row5_col122,#T_d1907_row5_col123,#T_d1907_row5_col124,#T_d1907_row5_col125,#T_d1907_row5_col126,#T_d1907_row5_col127,#T_d1907_row5_col128,#T_d1907_row5_col129,#T_d1907_row5_col130,#T_d1907_row5_col131,#T_d1907_row5_col132,#T_d1907_row5_col133,#T_d1907_row5_col134,#T_d1907_row5_col135,#T_d1907_row5_col136,#T_d1907_row5_col137,#T_d1907_row5_col138,#T_d1907_row5_col139,#T_d1907_row5_col140,#T_d1907_row5_col141,#T_d1907_row5_col142,#T_d1907_row5_col143,#T_d1907_row5_col144,#T_d1907_row5_col145,#T_d1907_row5_col146,#T_d1907_row5_col147,#T_d1907_row5_col148,#T_d1907_row5_col150,#T_d1907_row5_col151,#T_d1907_row5_col152,#T_d1907_row5_col153,#T_d1907_row5_col154,#T_d1907_row5_col155,#T_d1907_row5_col156,#T_d1907_row5_col157,#T_d1907_row5_col158,#T_d1907_row5_col159,#T_d1907_row5_col160,#T_d1907_row5_col161,#T_d1907_row5_col162,#T_d1907_row5_col163,#T_d1907_row5_col164,#T_d1907_row5_col165,#T_d1907_row5_col166,#T_d1907_row5_col167,#T_d1907_row5_col168,#T_d1907_row5_col169,#T_d1907_row5_col170,#T_d1907_row5_col172,#T_d1907_row5_col174,#T_d1907_row5_col175,#T_d1907_row5_col177,#T_d1907_row5_col178,#T_d1907_row5_col180,#T_d1907_row5_col182,#T_d1907_row5_col183,#T_d1907_row5_col185,#T_d1907_row5_col187,#T_d1907_row6_col0,#T_d1907_row6_col1,#T_d1907_row6_col3,#T_d1907_row6_col4,#T_d1907_row6_col5,#T_d1907_row6_col6,#T_d1907_row6_col7,#T_d1907_row6_col8,#T_d1907_row6_col9,#T_d1907_row6_col10,#T_d1907_row6_col11,#T_d1907_row6_col12,#T_d1907_row6_col13,#T_d1907_row6_col14,#T_d1907_row6_col15,#T_d1907_row6_col16,#T_d1907_row6_col17,#T_d1907_row6_col18,#T_d1907_row6_col19,#T_d1907_row6_col20,#T_d1907_row6_col21,#T_d1907_row6_col22,#T_d1907_row6_col23,#T_d1907_row6_col24,#T_d1907_row6_col25,#T_d1907_row6_col26,#T_d1907_row6_col27,#T_d1907_row6_col28,#T_d1907_row6_col29,#T_d1907_row6_col30,#T_d1907_row6_col31,#T_d1907_row6_col32,#T_d1907_row6_col33,#T_d1907_row6_col34,#T_d1907_row6_col35,#T_d1907_row6_col36,#T_d1907_row6_col37,#T_d1907_row6_col38,#T_d1907_row6_col39,#T_d1907_row6_col40,#T_d1907_row6_col41,#T_d1907_row6_col42,#T_d1907_row6_col43,#T_d1907_row6_col44,#T_d1907_row6_col45,#T_d1907_row6_col46,#T_d1907_row6_col47,#T_d1907_row6_col48,#T_d1907_row6_col49,#T_d1907_row6_col50,#T_d1907_row6_col51,#T_d1907_row6_col52,#T_d1907_row6_col53,#T_d1907_row6_col54,#T_d1907_row6_col55,#T_d1907_row6_col56,#T_d1907_row6_col57,#T_d1907_row6_col58,#T_d1907_row6_col59,#T_d1907_row6_col60,#T_d1907_row6_col61,#T_d1907_row6_col62,#T_d1907_row6_col63,#T_d1907_row6_col64,#T_d1907_row6_col65,#T_d1907_row6_col66,#T_d1907_row6_col67,#T_d1907_row6_col68,#T_d1907_row6_col69,#T_d1907_row6_col70,#T_d1907_row6_col71,#T_d1907_row6_col72,#T_d1907_row6_col73,#T_d1907_row6_col74,#T_d1907_row6_col75,#T_d1907_row6_col76,#T_d1907_row6_col77,#T_d1907_row6_col78,#T_d1907_row6_col79,#T_d1907_row6_col80,#T_d1907_row6_col81,#T_d1907_row6_col82,#T_d1907_row6_col83,#T_d1907_row6_col84,#T_d1907_row6_col85,#T_d1907_row6_col86,#T_d1907_row6_col87,#T_d1907_row6_col88,#T_d1907_row6_col89,#T_d1907_row6_col90,#T_d1907_row6_col91,#T_d1907_row6_col93,#T_d1907_row6_col94,#T_d1907_row6_col95,#T_d1907_row6_col96,#T_d1907_row6_col97,#T_d1907_row6_col98,#T_d1907_row6_col99,#T_d1907_row6_col100,#T_d1907_row6_col101,#T_d1907_row6_col102,#T_d1907_row6_col103,#T_d1907_row6_col104,#T_d1907_row6_col105,#T_d1907_row6_col106,#T_d1907_row6_col107,#T_d1907_row6_col108,#T_d1907_row6_col109,#T_d1907_row6_col110,#T_d1907_row6_col111,#T_d1907_row6_col112,#T_d1907_row6_col113,#T_d1907_row6_col114,#T_d1907_row6_col115,#T_d1907_row6_col116,#T_d1907_row6_col117,#T_d1907_row6_col118,#T_d1907_row6_col119,#T_d1907_row6_col120,#T_d1907_row6_col121,#T_d1907_row6_col122,#T_d1907_row6_col123,#T_d1907_row6_col124,#T_d1907_row6_col125,#T_d1907_row6_col126,#T_d1907_row6_col127,#T_d1907_row6_col128,#T_d1907_row6_col129,#T_d1907_row6_col130,#T_d1907_row6_col131,#T_d1907_row6_col132,#T_d1907_row6_col133,#T_d1907_row6_col134,#T_d1907_row6_col135,#T_d1907_row6_col136,#T_d1907_row6_col137,#T_d1907_row6_col138,#T_d1907_row6_col139,#T_d1907_row6_col140,#T_d1907_row6_col141,#T_d1907_row6_col142,#T_d1907_row6_col143,#T_d1907_row6_col144,#T_d1907_row6_col145,#T_d1907_row6_col146,#T_d1907_row6_col147,#T_d1907_row6_col148,#T_d1907_row6_col150,#T_d1907_row6_col151,#T_d1907_row6_col152,#T_d1907_row6_col153,#T_d1907_row6_col154,#T_d1907_row6_col155,#T_d1907_row6_col156,#T_d1907_row6_col157,#T_d1907_row6_col158,#T_d1907_row6_col159,#T_d1907_row6_col160,#T_d1907_row6_col161,#T_d1907_row6_col162,#T_d1907_row6_col163,#T_d1907_row6_col164,#T_d1907_row6_col165,#T_d1907_row6_col166,#T_d1907_row6_col167,#T_d1907_row6_col169,#T_d1907_row6_col170,#T_d1907_row6_col171,#T_d1907_row6_col172,#T_d1907_row6_col173,#T_d1907_row6_col175,#T_d1907_row6_col178,#T_d1907_row6_col179,#T_d1907_row6_col180,#T_d1907_row6_col182,#T_d1907_row6_col183,#T_d1907_row6_col187,#T_d1907_row6_col189,#T_d1907_row7_col1,#T_d1907_row7_col2,#T_d1907_row7_col3,#T_d1907_row7_col4,#T_d1907_row7_col5,#T_d1907_row7_col6,#T_d1907_row7_col7,#T_d1907_row7_col8,#T_d1907_row7_col9,#T_d1907_row7_col10,#T_d1907_row7_col11,#T_d1907_row7_col12,#T_d1907_row7_col13,#T_d1907_row7_col14,#T_d1907_row7_col15,#T_d1907_row7_col16,#T_d1907_row7_col17,#T_d1907_row7_col18,#T_d1907_row7_col19,#T_d1907_row7_col20,#T_d1907_row7_col21,#T_d1907_row7_col22,#T_d1907_row7_col23,#T_d1907_row7_col24,#T_d1907_row7_col25,#T_d1907_row7_col26,#T_d1907_row7_col27,#T_d1907_row7_col28,#T_d1907_row7_col29,#T_d1907_row7_col30,#T_d1907_row7_col31,#T_d1907_row7_col32,#T_d1907_row7_col33,#T_d1907_row7_col34,#T_d1907_row7_col35,#T_d1907_row7_col36,#T_d1907_row7_col37,#T_d1907_row7_col38,#T_d1907_row7_col39,#T_d1907_row7_col40,#T_d1907_row7_col41,#T_d1907_row7_col42,#T_d1907_row7_col43,#T_d1907_row7_col44,#T_d1907_row7_col45,#T_d1907_row7_col46,#T_d1907_row7_col47,#T_d1907_row7_col48,#T_d1907_row7_col49,#T_d1907_row7_col50,#T_d1907_row7_col51,#T_d1907_row7_col52,#T_d1907_row7_col53,#T_d1907_row7_col54,#T_d1907_row7_col55,#T_d1907_row7_col56,#T_d1907_row7_col57,#T_d1907_row7_col58,#T_d1907_row7_col59,#T_d1907_row7_col60,#T_d1907_row7_col61,#T_d1907_row7_col62,#T_d1907_row7_col63,#T_d1907_row7_col64,#T_d1907_row7_col65,#T_d1907_row7_col66,#T_d1907_row7_col67,#T_d1907_row7_col68,#T_d1907_row7_col69,#T_d1907_row7_col70,#T_d1907_row7_col71,#T_d1907_row7_col72,#T_d1907_row7_col73,#T_d1907_row7_col74,#T_d1907_row7_col75,#T_d1907_row7_col76,#T_d1907_row7_col77,#T_d1907_row7_col78,#T_d1907_row7_col79,#T_d1907_row7_col80,#T_d1907_row7_col81,#T_d1907_row7_col82,#T_d1907_row7_col83,#T_d1907_row7_col84,#T_d1907_row7_col85,#T_d1907_row7_col86,#T_d1907_row7_col87,#T_d1907_row7_col88,#T_d1907_row7_col89,#T_d1907_row7_col90,#T_d1907_row7_col91,#T_d1907_row7_col92,#T_d1907_row7_col93,#T_d1907_row7_col94,#T_d1907_row7_col95,#T_d1907_row7_col96,#T_d1907_row7_col97,#T_d1907_row7_col98,#T_d1907_row7_col99,#T_d1907_row7_col100,#T_d1907_row7_col101,#T_d1907_row7_col102,#T_d1907_row7_col103,#T_d1907_row7_col104,#T_d1907_row7_col105,#T_d1907_row7_col106,#T_d1907_row7_col108,#T_d1907_row7_col109,#T_d1907_row7_col110,#T_d1907_row7_col111,#T_d1907_row7_col112,#T_d1907_row7_col113,#T_d1907_row7_col114,#T_d1907_row7_col115,#T_d1907_row7_col116,#T_d1907_row7_col117,#T_d1907_row7_col118,#T_d1907_row7_col119,#T_d1907_row7_col120,#T_d1907_row7_col121,#T_d1907_row7_col122,#T_d1907_row7_col123,#T_d1907_row7_col124,#T_d1907_row7_col125,#T_d1907_row7_col126,#T_d1907_row7_col127,#T_d1907_row7_col128,#T_d1907_row7_col129,#T_d1907_row7_col130,#T_d1907_row7_col131,#T_d1907_row7_col132,#T_d1907_row7_col133,#T_d1907_row7_col134,#T_d1907_row7_col135,#T_d1907_row7_col136,#T_d1907_row7_col137,#T_d1907_row7_col138,#T_d1907_row7_col139,#T_d1907_row7_col140,#T_d1907_row7_col141,#T_d1907_row7_col142,#T_d1907_row7_col143,#T_d1907_row7_col144,#T_d1907_row7_col145,#T_d1907_row7_col146,#T_d1907_row7_col147,#T_d1907_row7_col148,#T_d1907_row7_col150,#T_d1907_row7_col151,#T_d1907_row7_col152,#T_d1907_row7_col153,#T_d1907_row7_col154,#T_d1907_row7_col155,#T_d1907_row7_col156,#T_d1907_row7_col157,#T_d1907_row7_col158,#T_d1907_row7_col159,#T_d1907_row7_col160,#T_d1907_row7_col161,#T_d1907_row7_col162,#T_d1907_row7_col163,#T_d1907_row7_col164,#T_d1907_row7_col165,#T_d1907_row7_col166,#T_d1907_row7_col167,#T_d1907_row7_col168,#T_d1907_row7_col169,#T_d1907_row7_col170,#T_d1907_row7_col172,#T_d1907_row7_col173,#T_d1907_row7_col175,#T_d1907_row7_col177,#T_d1907_row7_col178,#T_d1907_row7_col180,#T_d1907_row7_col181,#T_d1907_row7_col185,#T_d1907_row7_col188,#T_d1907_row8_col0,#T_d1907_row8_col1,#T_d1907_row8_col2,#T_d1907_row8_col4,#T_d1907_row8_col5,#T_d1907_row8_col6,#T_d1907_row8_col7,#T_d1907_row8_col8,#T_d1907_row8_col9,#T_d1907_row8_col10,#T_d1907_row8_col11,#T_d1907_row8_col12,#T_d1907_row8_col13,#T_d1907_row8_col14,#T_d1907_row8_col15,#T_d1907_row8_col16,#T_d1907_row8_col17,#T_d1907_row8_col18,#T_d1907_row8_col19,#T_d1907_row8_col20,#T_d1907_row8_col21,#T_d1907_row8_col22,#T_d1907_row8_col23,#T_d1907_row8_col24,#T_d1907_row8_col25,#T_d1907_row8_col26,#T_d1907_row8_col27,#T_d1907_row8_col28,#T_d1907_row8_col29,#T_d1907_row8_col30,#T_d1907_row8_col31,#T_d1907_row8_col32,#T_d1907_row8_col33,#T_d1907_row8_col34,#T_d1907_row8_col35,#T_d1907_row8_col36,#T_d1907_row8_col37,#T_d1907_row8_col38,#T_d1907_row8_col39,#T_d1907_row8_col40,#T_d1907_row8_col41,#T_d1907_row8_col42,#T_d1907_row8_col43,#T_d1907_row8_col44,#T_d1907_row8_col45,#T_d1907_row8_col46,#T_d1907_row8_col47,#T_d1907_row8_col48,#T_d1907_row8_col49,#T_d1907_row8_col50,#T_d1907_row8_col51,#T_d1907_row8_col52,#T_d1907_row8_col53,#T_d1907_row8_col54,#T_d1907_row8_col55,#T_d1907_row8_col56,#T_d1907_row8_col57,#T_d1907_row8_col58,#T_d1907_row8_col59,#T_d1907_row8_col60,#T_d1907_row8_col61,#T_d1907_row8_col62,#T_d1907_row8_col63,#T_d1907_row8_col64,#T_d1907_row8_col65,#T_d1907_row8_col66,#T_d1907_row8_col67,#T_d1907_row8_col68,#T_d1907_row8_col69,#T_d1907_row8_col70,#T_d1907_row8_col71,#T_d1907_row8_col72,#T_d1907_row8_col73,#T_d1907_row8_col74,#T_d1907_row8_col75,#T_d1907_row8_col76,#T_d1907_row8_col77,#T_d1907_row8_col78,#T_d1907_row8_col79,#T_d1907_row8_col80,#T_d1907_row8_col81,#T_d1907_row8_col82,#T_d1907_row8_col83,#T_d1907_row8_col84,#T_d1907_row8_col85,#T_d1907_row8_col86,#T_d1907_row8_col87,#T_d1907_row8_col88,#T_d1907_row8_col89,#T_d1907_row8_col90,#T_d1907_row8_col91,#T_d1907_row8_col92,#T_d1907_row8_col93,#T_d1907_row8_col94,#T_d1907_row8_col95,#T_d1907_row8_col96,#T_d1907_row8_col97,#T_d1907_row8_col98,#T_d1907_row8_col99,#T_d1907_row8_col100,#T_d1907_row8_col101,#T_d1907_row8_col102,#T_d1907_row8_col103,#T_d1907_row8_col104,#T_d1907_row8_col105,#T_d1907_row8_col107,#T_d1907_row8_col108,#T_d1907_row8_col109,#T_d1907_row8_col110,#T_d1907_row8_col111,#T_d1907_row8_col112,#T_d1907_row8_col113,#T_d1907_row8_col114,#T_d1907_row8_col115,#T_d1907_row8_col116,#T_d1907_row8_col117,#T_d1907_row8_col118,#T_d1907_row8_col119,#T_d1907_row8_col120,#T_d1907_row8_col121,#T_d1907_row8_col122,#T_d1907_row8_col123,#T_d1907_row8_col124,#T_d1907_row8_col125,#T_d1907_row8_col126,#T_d1907_row8_col127,#T_d1907_row8_col128,#T_d1907_row8_col129,#T_d1907_row8_col130,#T_d1907_row8_col131,#T_d1907_row8_col132,#T_d1907_row8_col133,#T_d1907_row8_col134,#T_d1907_row8_col135,#T_d1907_row8_col136,#T_d1907_row8_col137,#T_d1907_row8_col138,#T_d1907_row8_col139,#T_d1907_row8_col140,#T_d1907_row8_col141,#T_d1907_row8_col142,#T_d1907_row8_col143,#T_d1907_row8_col144,#T_d1907_row8_col145,#T_d1907_row8_col146,#T_d1907_row8_col147,#T_d1907_row8_col148,#T_d1907_row8_col150,#T_d1907_row8_col151,#T_d1907_row8_col152,#T_d1907_row8_col153,#T_d1907_row8_col154,#T_d1907_row8_col155,#T_d1907_row8_col156,#T_d1907_row8_col157,#T_d1907_row8_col158,#T_d1907_row8_col159,#T_d1907_row8_col160,#T_d1907_row8_col161,#T_d1907_row8_col162,#T_d1907_row8_col163,#T_d1907_row8_col164,#T_d1907_row8_col165,#T_d1907_row8_col166,#T_d1907_row8_col167,#T_d1907_row8_col168,#T_d1907_row8_col169,#T_d1907_row8_col170,#T_d1907_row8_col172,#T_d1907_row8_col173,#T_d1907_row8_col176,#T_d1907_row8_col177,#T_d1907_row8_col178,#T_d1907_row8_col182,#T_d1907_row8_col185,#T_d1907_row8_col187,#T_d1907_row8_col188,#T_d1907_row9_col0,#T_d1907_row9_col1,#T_d1907_row9_col2,#T_d1907_row9_col4,#T_d1907_row9_col5,#T_d1907_row9_col6,#T_d1907_row9_col7,#T_d1907_row9_col8,#T_d1907_row9_col9,#T_d1907_row9_col10,#T_d1907_row9_col11,#T_d1907_row9_col12,#T_d1907_row9_col13,#T_d1907_row9_col14,#T_d1907_row9_col15,#T_d1907_row9_col16,#T_d1907_row9_col17,#T_d1907_row9_col18,#T_d1907_row9_col19,#T_d1907_row9_col20,#T_d1907_row9_col21,#T_d1907_row9_col22,#T_d1907_row9_col23,#T_d1907_row9_col24,#T_d1907_row9_col25,#T_d1907_row9_col26,#T_d1907_row9_col27,#T_d1907_row9_col28,#T_d1907_row9_col29,#T_d1907_row9_col30,#T_d1907_row9_col31,#T_d1907_row9_col32,#T_d1907_row9_col33,#T_d1907_row9_col34,#T_d1907_row9_col35,#T_d1907_row9_col36,#T_d1907_row9_col37,#T_d1907_row9_col38,#T_d1907_row9_col39,#T_d1907_row9_col40,#T_d1907_row9_col41,#T_d1907_row9_col42,#T_d1907_row9_col43,#T_d1907_row9_col44,#T_d1907_row9_col45,#T_d1907_row9_col46,#T_d1907_row9_col47,#T_d1907_row9_col48,#T_d1907_row9_col49,#T_d1907_row9_col50,#T_d1907_row9_col51,#T_d1907_row9_col52,#T_d1907_row9_col53,#T_d1907_row9_col54,#T_d1907_row9_col55,#T_d1907_row9_col56,#T_d1907_row9_col57,#T_d1907_row9_col58,#T_d1907_row9_col59,#T_d1907_row9_col60,#T_d1907_row9_col61,#T_d1907_row9_col62,#T_d1907_row9_col63,#T_d1907_row9_col64,#T_d1907_row9_col65,#T_d1907_row9_col66,#T_d1907_row9_col67,#T_d1907_row9_col68,#T_d1907_row9_col69,#T_d1907_row9_col70,#T_d1907_row9_col71,#T_d1907_row9_col72,#T_d1907_row9_col73,#T_d1907_row9_col74,#T_d1907_row9_col75,#T_d1907_row9_col76,#T_d1907_row9_col77,#T_d1907_row9_col78,#T_d1907_row9_col79,#T_d1907_row9_col80,#T_d1907_row9_col81,#T_d1907_row9_col82,#T_d1907_row9_col83,#T_d1907_row9_col84,#T_d1907_row9_col85,#T_d1907_row9_col86,#T_d1907_row9_col87,#T_d1907_row9_col88,#T_d1907_row9_col89,#T_d1907_row9_col90,#T_d1907_row9_col91,#T_d1907_row9_col92,#T_d1907_row9_col93,#T_d1907_row9_col94,#T_d1907_row9_col95,#T_d1907_row9_col96,#T_d1907_row9_col97,#T_d1907_row9_col98,#T_d1907_row9_col99,#T_d1907_row9_col100,#T_d1907_row9_col101,#T_d1907_row9_col102,#T_d1907_row9_col103,#T_d1907_row9_col104,#T_d1907_row9_col105,#T_d1907_row9_col107,#T_d1907_row9_col108,#T_d1907_row9_col109,#T_d1907_row9_col110,#T_d1907_row9_col111,#T_d1907_row9_col112,#T_d1907_row9_col113,#T_d1907_row9_col114,#T_d1907_row9_col115,#T_d1907_row9_col116,#T_d1907_row9_col117,#T_d1907_row9_col118,#T_d1907_row9_col119,#T_d1907_row9_col120,#T_d1907_row9_col121,#T_d1907_row9_col122,#T_d1907_row9_col123,#T_d1907_row9_col124,#T_d1907_row9_col125,#T_d1907_row9_col126,#T_d1907_row9_col127,#T_d1907_row9_col128,#T_d1907_row9_col129,#T_d1907_row9_col130,#T_d1907_row9_col131,#T_d1907_row9_col132,#T_d1907_row9_col133,#T_d1907_row9_col134,#T_d1907_row9_col135,#T_d1907_row9_col136,#T_d1907_row9_col137,#T_d1907_row9_col138,#T_d1907_row9_col139,#T_d1907_row9_col140,#T_d1907_row9_col141,#T_d1907_row9_col142,#T_d1907_row9_col143,#T_d1907_row9_col144,#T_d1907_row9_col145,#T_d1907_row9_col146,#T_d1907_row9_col147,#T_d1907_row9_col148,#T_d1907_row9_col150,#T_d1907_row9_col151,#T_d1907_row9_col152,#T_d1907_row9_col153,#T_d1907_row9_col154,#T_d1907_row9_col155,#T_d1907_row9_col156,#T_d1907_row9_col157,#T_d1907_row9_col158,#T_d1907_row9_col159,#T_d1907_row9_col160,#T_d1907_row9_col161,#T_d1907_row9_col162,#T_d1907_row9_col163,#T_d1907_row9_col164,#T_d1907_row9_col165,#T_d1907_row9_col166,#T_d1907_row9_col167,#T_d1907_row9_col168,#T_d1907_row9_col169,#T_d1907_row9_col170,#T_d1907_row9_col173,#T_d1907_row9_col174,#T_d1907_row9_col176,#T_d1907_row9_col177,#T_d1907_row9_col179,#T_d1907_row9_col183,#T_d1907_row9_col185,#T_d1907_row9_col188{\n",
       "            background-color:  #f7fbff;\n",
       "            color:  #000000;\n",
       "        }#T_d1907_row0_col2,#T_d1907_row0_col106,#T_d1907_row0_col144,#T_d1907_row0_col171,#T_d1907_row0_col174,#T_d1907_row0_col176,#T_d1907_row0_col179,#T_d1907_row0_col186,#T_d1907_row1_col3,#T_d1907_row1_col41,#T_d1907_row1_col150,#T_d1907_row1_col166,#T_d1907_row1_col172,#T_d1907_row1_col175,#T_d1907_row1_col177,#T_d1907_row1_col180,#T_d1907_row1_col184,#T_d1907_row1_col186,#T_d1907_row1_col189,#T_d1907_row2_col1,#T_d1907_row2_col106,#T_d1907_row2_col161,#T_d1907_row2_col171,#T_d1907_row2_col174,#T_d1907_row2_col175,#T_d1907_row2_col179,#T_d1907_row2_col180,#T_d1907_row2_col188,#T_d1907_row3_col3,#T_d1907_row3_col106,#T_d1907_row3_col149,#T_d1907_row3_col166,#T_d1907_row3_col174,#T_d1907_row3_col175,#T_d1907_row3_col177,#T_d1907_row3_col180,#T_d1907_row3_col185,#T_d1907_row3_col186,#T_d1907_row3_col189,#T_d1907_row4_col2,#T_d1907_row4_col106,#T_d1907_row4_col149,#T_d1907_row4_col171,#T_d1907_row4_col174,#T_d1907_row4_col176,#T_d1907_row4_col179,#T_d1907_row4_col186,#T_d1907_row4_col188,#T_d1907_row5_col2,#T_d1907_row5_col106,#T_d1907_row5_col149,#T_d1907_row5_col171,#T_d1907_row5_col173,#T_d1907_row5_col176,#T_d1907_row5_col179,#T_d1907_row5_col186,#T_d1907_row5_col188,#T_d1907_row6_col2,#T_d1907_row6_col92,#T_d1907_row6_col149,#T_d1907_row6_col168,#T_d1907_row6_col174,#T_d1907_row6_col176,#T_d1907_row6_col177,#T_d1907_row6_col181,#T_d1907_row6_col186,#T_d1907_row6_col188,#T_d1907_row7_col0,#T_d1907_row7_col107,#T_d1907_row7_col149,#T_d1907_row7_col171,#T_d1907_row7_col174,#T_d1907_row7_col176,#T_d1907_row7_col179,#T_d1907_row7_col182,#T_d1907_row7_col186,#T_d1907_row7_col187,#T_d1907_row8_col3,#T_d1907_row8_col106,#T_d1907_row8_col149,#T_d1907_row8_col171,#T_d1907_row8_col174,#T_d1907_row8_col175,#T_d1907_row8_col179,#T_d1907_row8_col180,#T_d1907_row8_col183,#T_d1907_row8_col186,#T_d1907_row9_col3,#T_d1907_row9_col106,#T_d1907_row9_col149,#T_d1907_row9_col171,#T_d1907_row9_col172,#T_d1907_row9_col175,#T_d1907_row9_col178,#T_d1907_row9_col180,#T_d1907_row9_col186,#T_d1907_row9_col187{\n",
       "            background-color:  #08306b;\n",
       "            color:  #f1f1f1;\n",
       "        }#T_d1907_row0_col181{\n",
       "            background-color:  #9ac8e0;\n",
       "            color:  #000000;\n",
       "        }#T_d1907_row0_col182,#T_d1907_row1_col182,#T_d1907_row3_col182,#T_d1907_row9_col182{\n",
       "            background-color:  #abd0e6;\n",
       "            color:  #000000;\n",
       "        }#T_d1907_row0_col189,#T_d1907_row2_col189,#T_d1907_row4_col189,#T_d1907_row5_col189,#T_d1907_row7_col183,#T_d1907_row7_col189,#T_d1907_row8_col189,#T_d1907_row9_col189{\n",
       "            background-color:  #6aaed6;\n",
       "            color:  #000000;\n",
       "        }#T_d1907_row1_col181,#T_d1907_row1_col185{\n",
       "            background-color:  #3080bd;\n",
       "            color:  #000000;\n",
       "        }#T_d1907_row2_col181{\n",
       "            background-color:  #7ab6d9;\n",
       "            color:  #000000;\n",
       "        }#T_d1907_row2_col184,#T_d1907_row9_col181{\n",
       "            background-color:  #caddf0;\n",
       "            color:  #000000;\n",
       "        }#T_d1907_row3_col181,#T_d1907_row4_col181{\n",
       "            background-color:  #3f8fc5;\n",
       "            color:  #000000;\n",
       "        }#T_d1907_row3_col184{\n",
       "            background-color:  #084082;\n",
       "            color:  #f1f1f1;\n",
       "        }#T_d1907_row4_col184{\n",
       "            background-color:  #b9d6ea;\n",
       "            color:  #000000;\n",
       "        }#T_d1907_row5_col181{\n",
       "            background-color:  #82bbdb;\n",
       "            color:  #000000;\n",
       "        }#T_d1907_row5_col184{\n",
       "            background-color:  #b5d4e9;\n",
       "            color:  #000000;\n",
       "        }#T_d1907_row6_col184{\n",
       "            background-color:  #084488;\n",
       "            color:  #f1f1f1;\n",
       "        }#T_d1907_row6_col185{\n",
       "            background-color:  #99c7e0;\n",
       "            color:  #000000;\n",
       "        }#T_d1907_row7_col184{\n",
       "            background-color:  #3d8dc4;\n",
       "            color:  #000000;\n",
       "        }#T_d1907_row8_col181{\n",
       "            background-color:  #72b2d8;\n",
       "            color:  #000000;\n",
       "        }#T_d1907_row8_col184{\n",
       "            background-color:  #94c4df;\n",
       "            color:  #000000;\n",
       "        }#T_d1907_row9_col184{\n",
       "            background-color:  #135fa7;\n",
       "            color:  #f1f1f1;\n",
       "        }</style><table id=\"T_d1907_\" ><thead>    <tr>        <th class=\"blank level0\" ></th>        <th class=\"col_heading level0 col0\" >Title_0</th>        <th class=\"col_heading level0 col1\" >Title_1</th>        <th class=\"col_heading level0 col2\" >Title_2</th>        <th class=\"col_heading level0 col3\" >Title_3</th>        <th class=\"col_heading level0 col4\" >Title_4</th>        <th class=\"col_heading level0 col5\" >Surname_0</th>        <th class=\"col_heading level0 col6\" >Surname_1</th>        <th class=\"col_heading level0 col7\" >Surname_2</th>        <th class=\"col_heading level0 col8\" >Surname_3</th>        <th class=\"col_heading level0 col9\" >Surname_4</th>        <th class=\"col_heading level0 col10\" >Surname_5</th>        <th class=\"col_heading level0 col11\" >Surname_6</th>        <th class=\"col_heading level0 col12\" >Surname_7</th>        <th class=\"col_heading level0 col13\" >Surname_8</th>        <th class=\"col_heading level0 col14\" >Surname_9</th>        <th class=\"col_heading level0 col15\" >Surname_10</th>        <th class=\"col_heading level0 col16\" >Surname_11</th>        <th class=\"col_heading level0 col17\" >Surname_12</th>        <th class=\"col_heading level0 col18\" >Surname_13</th>        <th class=\"col_heading level0 col19\" >Surname_14</th>        <th class=\"col_heading level0 col20\" >Surname_15</th>        <th class=\"col_heading level0 col21\" >Surname_16</th>        <th class=\"col_heading level0 col22\" >Surname_17</th>        <th class=\"col_heading level0 col23\" >Surname_18</th>        <th class=\"col_heading level0 col24\" >Surname_19</th>        <th class=\"col_heading level0 col25\" >Surname_20</th>        <th class=\"col_heading level0 col26\" >Surname_21</th>        <th class=\"col_heading level0 col27\" >Surname_22</th>        <th class=\"col_heading level0 col28\" >Surname_23</th>        <th class=\"col_heading level0 col29\" >Surname_24</th>        <th class=\"col_heading level0 col30\" >Surname_25</th>        <th class=\"col_heading level0 col31\" >Surname_26</th>        <th class=\"col_heading level0 col32\" >Surname_27</th>        <th class=\"col_heading level0 col33\" >Surname_28</th>        <th class=\"col_heading level0 col34\" >Surname_29</th>        <th class=\"col_heading level0 col35\" >Surname_30</th>        <th class=\"col_heading level0 col36\" >Surname_31</th>        <th class=\"col_heading level0 col37\" >Surname_32</th>        <th class=\"col_heading level0 col38\" >Surname_33</th>        <th class=\"col_heading level0 col39\" >Surname_34</th>        <th class=\"col_heading level0 col40\" >Surname_35</th>        <th class=\"col_heading level0 col41\" >Surname_36</th>        <th class=\"col_heading level0 col42\" >Surname_37</th>        <th class=\"col_heading level0 col43\" >Surname_38</th>        <th class=\"col_heading level0 col44\" >Surname_39</th>        <th class=\"col_heading level0 col45\" >Surname_40</th>        <th class=\"col_heading level0 col46\" >Surname_41</th>        <th class=\"col_heading level0 col47\" >Surname_42</th>        <th class=\"col_heading level0 col48\" >Surname_43</th>        <th class=\"col_heading level0 col49\" >Surname_44</th>        <th class=\"col_heading level0 col50\" >Surname_45</th>        <th class=\"col_heading level0 col51\" >Surname_46</th>        <th class=\"col_heading level0 col52\" >Surname_47</th>        <th class=\"col_heading level0 col53\" >Surname_48</th>        <th class=\"col_heading level0 col54\" >Surname_49</th>        <th class=\"col_heading level0 col55\" >Surname_50</th>        <th class=\"col_heading level0 col56\" >Surname_51</th>        <th class=\"col_heading level0 col57\" >Surname_52</th>        <th class=\"col_heading level0 col58\" >Surname_53</th>        <th class=\"col_heading level0 col59\" >Surname_54</th>        <th class=\"col_heading level0 col60\" >Surname_55</th>        <th class=\"col_heading level0 col61\" >Surname_56</th>        <th class=\"col_heading level0 col62\" >Surname_57</th>        <th class=\"col_heading level0 col63\" >Surname_58</th>        <th class=\"col_heading level0 col64\" >Surname_59</th>        <th class=\"col_heading level0 col65\" >Surname_60</th>        <th class=\"col_heading level0 col66\" >Surname_61</th>        <th class=\"col_heading level0 col67\" >Surname_62</th>        <th class=\"col_heading level0 col68\" >Surname_63</th>        <th class=\"col_heading level0 col69\" >Surname_64</th>        <th class=\"col_heading level0 col70\" >Surname_65</th>        <th class=\"col_heading level0 col71\" >Surname_66</th>        <th class=\"col_heading level0 col72\" >Surname_67</th>        <th class=\"col_heading level0 col73\" >Surname_68</th>        <th class=\"col_heading level0 col74\" >Surname_69</th>        <th class=\"col_heading level0 col75\" >Surname_70</th>        <th class=\"col_heading level0 col76\" >Surname_71</th>        <th class=\"col_heading level0 col77\" >Surname_72</th>        <th class=\"col_heading level0 col78\" >Surname_73</th>        <th class=\"col_heading level0 col79\" >Surname_74</th>        <th class=\"col_heading level0 col80\" >Surname_75</th>        <th class=\"col_heading level0 col81\" >Surname_76</th>        <th class=\"col_heading level0 col82\" >Surname_77</th>        <th class=\"col_heading level0 col83\" >Surname_78</th>        <th class=\"col_heading level0 col84\" >Surname_79</th>        <th class=\"col_heading level0 col85\" >Surname_80</th>        <th class=\"col_heading level0 col86\" >Surname_81</th>        <th class=\"col_heading level0 col87\" >Surname_82</th>        <th class=\"col_heading level0 col88\" >Surname_83</th>        <th class=\"col_heading level0 col89\" >Surname_84</th>        <th class=\"col_heading level0 col90\" >Surname_85</th>        <th class=\"col_heading level0 col91\" >Surname_86</th>        <th class=\"col_heading level0 col92\" >Surname_87</th>        <th class=\"col_heading level0 col93\" >Surname_88</th>        <th class=\"col_heading level0 col94\" >Surname_89</th>        <th class=\"col_heading level0 col95\" >Surname_90</th>        <th class=\"col_heading level0 col96\" >Surname_91</th>        <th class=\"col_heading level0 col97\" >Surname_92</th>        <th class=\"col_heading level0 col98\" >Surname_93</th>        <th class=\"col_heading level0 col99\" >Surname_94</th>        <th class=\"col_heading level0 col100\" >Surname_95</th>        <th class=\"col_heading level0 col101\" >Surname_96</th>        <th class=\"col_heading level0 col102\" >Surname_97</th>        <th class=\"col_heading level0 col103\" >Surname_98</th>        <th class=\"col_heading level0 col104\" >Surname_99</th>        <th class=\"col_heading level0 col105\" >Surname_100</th>        <th class=\"col_heading level0 col106\" >Surname_101</th>        <th class=\"col_heading level0 col107\" >Surname_102</th>        <th class=\"col_heading level0 col108\" >Surname_103</th>        <th class=\"col_heading level0 col109\" >Surname_104</th>        <th class=\"col_heading level0 col110\" >Surname_105</th>        <th class=\"col_heading level0 col111\" >Surname_106</th>        <th class=\"col_heading level0 col112\" >Surname_107</th>        <th class=\"col_heading level0 col113\" >Surname_108</th>        <th class=\"col_heading level0 col114\" >Surname_109</th>        <th class=\"col_heading level0 col115\" >Surname_110</th>        <th class=\"col_heading level0 col116\" >Surname_111</th>        <th class=\"col_heading level0 col117\" >Surname_112</th>        <th class=\"col_heading level0 col118\" >Surname_113</th>        <th class=\"col_heading level0 col119\" >Surname_114</th>        <th class=\"col_heading level0 col120\" >Surname_115</th>        <th class=\"col_heading level0 col121\" >Surname_116</th>        <th class=\"col_heading level0 col122\" >Surname_117</th>        <th class=\"col_heading level0 col123\" >Surname_118</th>        <th class=\"col_heading level0 col124\" >Surname_119</th>        <th class=\"col_heading level0 col125\" >Surname_120</th>        <th class=\"col_heading level0 col126\" >Surname_121</th>        <th class=\"col_heading level0 col127\" >Surname_122</th>        <th class=\"col_heading level0 col128\" >Surname_123</th>        <th class=\"col_heading level0 col129\" >Surname_124</th>        <th class=\"col_heading level0 col130\" >Surname_125</th>        <th class=\"col_heading level0 col131\" >Surname_126</th>        <th class=\"col_heading level0 col132\" >Surname_127</th>        <th class=\"col_heading level0 col133\" >Surname_128</th>        <th class=\"col_heading level0 col134\" >Surname_129</th>        <th class=\"col_heading level0 col135\" >Surname_130</th>        <th class=\"col_heading level0 col136\" >Surname_131</th>        <th class=\"col_heading level0 col137\" >Surname_132</th>        <th class=\"col_heading level0 col138\" >Surname_133</th>        <th class=\"col_heading level0 col139\" >Surname_134</th>        <th class=\"col_heading level0 col140\" >Surname_135</th>        <th class=\"col_heading level0 col141\" >Surname_136</th>        <th class=\"col_heading level0 col142\" >Surname_137</th>        <th class=\"col_heading level0 col143\" >Ticket_p_0</th>        <th class=\"col_heading level0 col144\" >Ticket_p_1</th>        <th class=\"col_heading level0 col145\" >Ticket_p_2</th>        <th class=\"col_heading level0 col146\" >Ticket_p_3</th>        <th class=\"col_heading level0 col147\" >Ticket_p_4</th>        <th class=\"col_heading level0 col148\" >Ticket_p_5</th>        <th class=\"col_heading level0 col149\" >Ticket_p_6</th>        <th class=\"col_heading level0 col150\" >Ticket_p_7</th>        <th class=\"col_heading level0 col151\" >Ticket_p_8</th>        <th class=\"col_heading level0 col152\" >Ticket_p_9</th>        <th class=\"col_heading level0 col153\" >Ticket_p_10</th>        <th class=\"col_heading level0 col154\" >Ticket_p_11</th>        <th class=\"col_heading level0 col155\" >Ticket_p_12</th>        <th class=\"col_heading level0 col156\" >Ticket_p_13</th>        <th class=\"col_heading level0 col157\" >Ticket_p_14</th>        <th class=\"col_heading level0 col158\" >Ticket_p_15</th>        <th class=\"col_heading level0 col159\" >Ticket_p_16</th>        <th class=\"col_heading level0 col160\" >Ticket_p_17</th>        <th class=\"col_heading level0 col161\" >Ticket_p_18</th>        <th class=\"col_heading level0 col162\" >Ticket_p_19</th>        <th class=\"col_heading level0 col163\" >Ticket_p_20</th>        <th class=\"col_heading level0 col164\" >Deck_0</th>        <th class=\"col_heading level0 col165\" >Deck_1</th>        <th class=\"col_heading level0 col166\" >Deck_2</th>        <th class=\"col_heading level0 col167\" >Deck_3</th>        <th class=\"col_heading level0 col168\" >Deck_4</th>        <th class=\"col_heading level0 col169\" >Deck_5</th>        <th class=\"col_heading level0 col170\" >Deck_6</th>        <th class=\"col_heading level0 col171\" >Deck_7</th>        <th class=\"col_heading level0 col172\" >Embarked_0</th>        <th class=\"col_heading level0 col173\" >Embarked_1</th>        <th class=\"col_heading level0 col174\" >Embarked_2</th>        <th class=\"col_heading level0 col175\" >Sex_0</th>        <th class=\"col_heading level0 col176\" >Sex_1</th>        <th class=\"col_heading level0 col177\" >Pclass_0</th>        <th class=\"col_heading level0 col178\" >Pclass_1</th>        <th class=\"col_heading level0 col179\" >Pclass_2</th>        <th class=\"col_heading level0 col180\" >Survived</th>        <th class=\"col_heading level0 col181\" >Age</th>        <th class=\"col_heading level0 col182\" >SibSp</th>        <th class=\"col_heading level0 col183\" >Parch</th>        <th class=\"col_heading level0 col184\" >Fare</th>        <th class=\"col_heading level0 col185\" >Cabin</th>        <th class=\"col_heading level0 col186\" >Namesakes</th>        <th class=\"col_heading level0 col187\" >Kid</th>        <th class=\"col_heading level0 col188\" >Alone</th>        <th class=\"col_heading level0 col189\" >Side</th>    </tr>    <tr>        <th class=\"index_name level0\" >PassengerId</th>        <th class=\"blank\" ></th>        <th class=\"blank\" ></th>        <th class=\"blank\" ></th>        <th class=\"blank\" ></th>        <th class=\"blank\" ></th>        <th class=\"blank\" ></th>        <th class=\"blank\" ></th>        <th class=\"blank\" ></th>        <th class=\"blank\" ></th>        <th class=\"blank\" ></th>        <th class=\"blank\" ></th>        <th class=\"blank\" ></th>        <th class=\"blank\" ></th>        <th class=\"blank\" ></th>        <th class=\"blank\" ></th>        <th class=\"blank\" ></th>        <th class=\"blank\" ></th>        <th class=\"blank\" ></th>        <th class=\"blank\" ></th>        <th class=\"blank\" ></th>        <th class=\"blank\" ></th>        <th class=\"blank\" ></th>        <th class=\"blank\" ></th>        <th class=\"blank\" ></th>        <th class=\"blank\" ></th>        <th class=\"blank\" ></th>        <th class=\"blank\" ></th>        <th class=\"blank\" ></th>        <th class=\"blank\" ></th>        <th class=\"blank\" ></th>        <th class=\"blank\" ></th>        <th class=\"blank\" ></th>        <th class=\"blank\" ></th>        <th class=\"blank\" ></th>        <th class=\"blank\" ></th>        <th class=\"blank\" ></th>        <th class=\"blank\" ></th>        <th class=\"blank\" ></th>        <th class=\"blank\" ></th>        <th class=\"blank\" ></th>        <th class=\"blank\" ></th>        <th class=\"blank\" ></th>        <th class=\"blank\" ></th>        <th class=\"blank\" ></th>        <th class=\"blank\" ></th>        <th class=\"blank\" ></th>        <th class=\"blank\" ></th>        <th class=\"blank\" ></th>        <th class=\"blank\" ></th>        <th class=\"blank\" ></th>        <th class=\"blank\" ></th>        <th class=\"blank\" ></th>        <th class=\"blank\" ></th>        <th class=\"blank\" ></th>        <th class=\"blank\" ></th>        <th class=\"blank\" ></th>        <th class=\"blank\" ></th>        <th class=\"blank\" ></th>        <th class=\"blank\" ></th>        <th class=\"blank\" ></th>        <th class=\"blank\" ></th>        <th class=\"blank\" ></th>        <th class=\"blank\" ></th>        <th class=\"blank\" ></th>        <th class=\"blank\" ></th>        <th class=\"blank\" ></th>        <th class=\"blank\" ></th>        <th class=\"blank\" ></th>        <th class=\"blank\" ></th>        <th class=\"blank\" ></th>        <th class=\"blank\" ></th>        <th class=\"blank\" ></th>        <th class=\"blank\" ></th>        <th class=\"blank\" ></th>        <th class=\"blank\" ></th>        <th class=\"blank\" ></th>        <th class=\"blank\" ></th>        <th class=\"blank\" ></th>        <th class=\"blank\" ></th>        <th class=\"blank\" ></th>        <th class=\"blank\" ></th>        <th class=\"blank\" ></th>        <th class=\"blank\" ></th>        <th class=\"blank\" ></th>        <th class=\"blank\" ></th>        <th class=\"blank\" ></th>        <th class=\"blank\" ></th>        <th class=\"blank\" ></th>        <th class=\"blank\" ></th>        <th class=\"blank\" ></th>        <th class=\"blank\" ></th>        <th class=\"blank\" ></th>        <th class=\"blank\" ></th>        <th class=\"blank\" ></th>        <th class=\"blank\" ></th>        <th class=\"blank\" ></th>        <th class=\"blank\" ></th>        <th class=\"blank\" ></th>        <th class=\"blank\" ></th>        <th class=\"blank\" ></th>        <th class=\"blank\" ></th>        <th class=\"blank\" ></th>        <th class=\"blank\" ></th>        <th class=\"blank\" ></th>        <th class=\"blank\" ></th>        <th class=\"blank\" ></th>        <th class=\"blank\" ></th>        <th class=\"blank\" ></th>        <th class=\"blank\" ></th>        <th class=\"blank\" ></th>        <th class=\"blank\" ></th>        <th class=\"blank\" ></th>        <th class=\"blank\" ></th>        <th class=\"blank\" ></th>        <th class=\"blank\" ></th>        <th class=\"blank\" ></th>        <th class=\"blank\" ></th>        <th class=\"blank\" ></th>        <th class=\"blank\" ></th>        <th class=\"blank\" ></th>        <th class=\"blank\" ></th>        <th class=\"blank\" ></th>        <th class=\"blank\" ></th>        <th class=\"blank\" ></th>        <th class=\"blank\" ></th>        <th class=\"blank\" ></th>        <th class=\"blank\" ></th>        <th class=\"blank\" ></th>        <th class=\"blank\" ></th>        <th class=\"blank\" ></th>        <th class=\"blank\" ></th>        <th class=\"blank\" ></th>        <th class=\"blank\" ></th>        <th class=\"blank\" ></th>        <th class=\"blank\" ></th>        <th class=\"blank\" ></th>        <th class=\"blank\" ></th>        <th class=\"blank\" ></th>        <th class=\"blank\" ></th>        <th class=\"blank\" ></th>        <th class=\"blank\" ></th>        <th class=\"blank\" ></th>        <th class=\"blank\" ></th>        <th class=\"blank\" ></th>        <th class=\"blank\" ></th>        <th class=\"blank\" ></th>        <th class=\"blank\" ></th>        <th class=\"blank\" ></th>        <th class=\"blank\" ></th>        <th class=\"blank\" ></th>        <th class=\"blank\" ></th>        <th class=\"blank\" ></th>        <th class=\"blank\" ></th>        <th class=\"blank\" ></th>        <th class=\"blank\" ></th>        <th class=\"blank\" ></th>        <th class=\"blank\" ></th>        <th class=\"blank\" ></th>        <th class=\"blank\" ></th>        <th class=\"blank\" ></th>        <th class=\"blank\" ></th>        <th class=\"blank\" ></th>        <th class=\"blank\" ></th>        <th class=\"blank\" ></th>        <th class=\"blank\" ></th>        <th class=\"blank\" ></th>        <th class=\"blank\" ></th>        <th class=\"blank\" ></th>        <th class=\"blank\" ></th>        <th class=\"blank\" ></th>        <th class=\"blank\" ></th>        <th class=\"blank\" ></th>        <th class=\"blank\" ></th>        <th class=\"blank\" ></th>        <th class=\"blank\" ></th>        <th class=\"blank\" ></th>        <th class=\"blank\" ></th>        <th class=\"blank\" ></th>        <th class=\"blank\" ></th>        <th class=\"blank\" ></th>        <th class=\"blank\" ></th>        <th class=\"blank\" ></th>        <th class=\"blank\" ></th>        <th class=\"blank\" ></th>        <th class=\"blank\" ></th>        <th class=\"blank\" ></th>        <th class=\"blank\" ></th>        <th class=\"blank\" ></th>        <th class=\"blank\" ></th>        <th class=\"blank\" ></th>    </tr></thead><tbody>\n",
       "                <tr>\n",
       "                        <th id=\"T_d1907_level0_row0\" class=\"row_heading level0 row0\" >1</th>\n",
       "                        <td id=\"T_d1907_row0_col0\" class=\"data row0 col0\" >0.000000</td>\n",
       "                        <td id=\"T_d1907_row0_col1\" class=\"data row0 col1\" >0.000000</td>\n",
       "                        <td id=\"T_d1907_row0_col2\" class=\"data row0 col2\" >1.000000</td>\n",
       "                        <td id=\"T_d1907_row0_col3\" class=\"data row0 col3\" >0.000000</td>\n",
       "                        <td id=\"T_d1907_row0_col4\" class=\"data row0 col4\" >0.000000</td>\n",
       "                        <td id=\"T_d1907_row0_col5\" class=\"data row0 col5\" >0.000000</td>\n",
       "                        <td id=\"T_d1907_row0_col6\" class=\"data row0 col6\" >0.000000</td>\n",
       "                        <td id=\"T_d1907_row0_col7\" class=\"data row0 col7\" >0.000000</td>\n",
       "                        <td id=\"T_d1907_row0_col8\" class=\"data row0 col8\" >0.000000</td>\n",
       "                        <td id=\"T_d1907_row0_col9\" class=\"data row0 col9\" >0.000000</td>\n",
       "                        <td id=\"T_d1907_row0_col10\" class=\"data row0 col10\" >0.000000</td>\n",
       "                        <td id=\"T_d1907_row0_col11\" class=\"data row0 col11\" >0.000000</td>\n",
       "                        <td id=\"T_d1907_row0_col12\" class=\"data row0 col12\" >0.000000</td>\n",
       "                        <td id=\"T_d1907_row0_col13\" class=\"data row0 col13\" >0.000000</td>\n",
       "                        <td id=\"T_d1907_row0_col14\" class=\"data row0 col14\" >0.000000</td>\n",
       "                        <td id=\"T_d1907_row0_col15\" class=\"data row0 col15\" >0.000000</td>\n",
       "                        <td id=\"T_d1907_row0_col16\" class=\"data row0 col16\" >0.000000</td>\n",
       "                        <td id=\"T_d1907_row0_col17\" class=\"data row0 col17\" >0.000000</td>\n",
       "                        <td id=\"T_d1907_row0_col18\" class=\"data row0 col18\" >0.000000</td>\n",
       "                        <td id=\"T_d1907_row0_col19\" class=\"data row0 col19\" >0.000000</td>\n",
       "                        <td id=\"T_d1907_row0_col20\" class=\"data row0 col20\" >0.000000</td>\n",
       "                        <td id=\"T_d1907_row0_col21\" class=\"data row0 col21\" >0.000000</td>\n",
       "                        <td id=\"T_d1907_row0_col22\" class=\"data row0 col22\" >0.000000</td>\n",
       "                        <td id=\"T_d1907_row0_col23\" class=\"data row0 col23\" >0.000000</td>\n",
       "                        <td id=\"T_d1907_row0_col24\" class=\"data row0 col24\" >0.000000</td>\n",
       "                        <td id=\"T_d1907_row0_col25\" class=\"data row0 col25\" >0.000000</td>\n",
       "                        <td id=\"T_d1907_row0_col26\" class=\"data row0 col26\" >0.000000</td>\n",
       "                        <td id=\"T_d1907_row0_col27\" class=\"data row0 col27\" >0.000000</td>\n",
       "                        <td id=\"T_d1907_row0_col28\" class=\"data row0 col28\" >0.000000</td>\n",
       "                        <td id=\"T_d1907_row0_col29\" class=\"data row0 col29\" >0.000000</td>\n",
       "                        <td id=\"T_d1907_row0_col30\" class=\"data row0 col30\" >0.000000</td>\n",
       "                        <td id=\"T_d1907_row0_col31\" class=\"data row0 col31\" >0.000000</td>\n",
       "                        <td id=\"T_d1907_row0_col32\" class=\"data row0 col32\" >0.000000</td>\n",
       "                        <td id=\"T_d1907_row0_col33\" class=\"data row0 col33\" >0.000000</td>\n",
       "                        <td id=\"T_d1907_row0_col34\" class=\"data row0 col34\" >0.000000</td>\n",
       "                        <td id=\"T_d1907_row0_col35\" class=\"data row0 col35\" >0.000000</td>\n",
       "                        <td id=\"T_d1907_row0_col36\" class=\"data row0 col36\" >0.000000</td>\n",
       "                        <td id=\"T_d1907_row0_col37\" class=\"data row0 col37\" >0.000000</td>\n",
       "                        <td id=\"T_d1907_row0_col38\" class=\"data row0 col38\" >0.000000</td>\n",
       "                        <td id=\"T_d1907_row0_col39\" class=\"data row0 col39\" >0.000000</td>\n",
       "                        <td id=\"T_d1907_row0_col40\" class=\"data row0 col40\" >0.000000</td>\n",
       "                        <td id=\"T_d1907_row0_col41\" class=\"data row0 col41\" >0.000000</td>\n",
       "                        <td id=\"T_d1907_row0_col42\" class=\"data row0 col42\" >0.000000</td>\n",
       "                        <td id=\"T_d1907_row0_col43\" class=\"data row0 col43\" >0.000000</td>\n",
       "                        <td id=\"T_d1907_row0_col44\" class=\"data row0 col44\" >0.000000</td>\n",
       "                        <td id=\"T_d1907_row0_col45\" class=\"data row0 col45\" >0.000000</td>\n",
       "                        <td id=\"T_d1907_row0_col46\" class=\"data row0 col46\" >0.000000</td>\n",
       "                        <td id=\"T_d1907_row0_col47\" class=\"data row0 col47\" >0.000000</td>\n",
       "                        <td id=\"T_d1907_row0_col48\" class=\"data row0 col48\" >0.000000</td>\n",
       "                        <td id=\"T_d1907_row0_col49\" class=\"data row0 col49\" >0.000000</td>\n",
       "                        <td id=\"T_d1907_row0_col50\" class=\"data row0 col50\" >0.000000</td>\n",
       "                        <td id=\"T_d1907_row0_col51\" class=\"data row0 col51\" >0.000000</td>\n",
       "                        <td id=\"T_d1907_row0_col52\" class=\"data row0 col52\" >0.000000</td>\n",
       "                        <td id=\"T_d1907_row0_col53\" class=\"data row0 col53\" >0.000000</td>\n",
       "                        <td id=\"T_d1907_row0_col54\" class=\"data row0 col54\" >0.000000</td>\n",
       "                        <td id=\"T_d1907_row0_col55\" class=\"data row0 col55\" >0.000000</td>\n",
       "                        <td id=\"T_d1907_row0_col56\" class=\"data row0 col56\" >0.000000</td>\n",
       "                        <td id=\"T_d1907_row0_col57\" class=\"data row0 col57\" >0.000000</td>\n",
       "                        <td id=\"T_d1907_row0_col58\" class=\"data row0 col58\" >0.000000</td>\n",
       "                        <td id=\"T_d1907_row0_col59\" class=\"data row0 col59\" >0.000000</td>\n",
       "                        <td id=\"T_d1907_row0_col60\" class=\"data row0 col60\" >0.000000</td>\n",
       "                        <td id=\"T_d1907_row0_col61\" class=\"data row0 col61\" >0.000000</td>\n",
       "                        <td id=\"T_d1907_row0_col62\" class=\"data row0 col62\" >0.000000</td>\n",
       "                        <td id=\"T_d1907_row0_col63\" class=\"data row0 col63\" >0.000000</td>\n",
       "                        <td id=\"T_d1907_row0_col64\" class=\"data row0 col64\" >0.000000</td>\n",
       "                        <td id=\"T_d1907_row0_col65\" class=\"data row0 col65\" >0.000000</td>\n",
       "                        <td id=\"T_d1907_row0_col66\" class=\"data row0 col66\" >0.000000</td>\n",
       "                        <td id=\"T_d1907_row0_col67\" class=\"data row0 col67\" >0.000000</td>\n",
       "                        <td id=\"T_d1907_row0_col68\" class=\"data row0 col68\" >0.000000</td>\n",
       "                        <td id=\"T_d1907_row0_col69\" class=\"data row0 col69\" >0.000000</td>\n",
       "                        <td id=\"T_d1907_row0_col70\" class=\"data row0 col70\" >0.000000</td>\n",
       "                        <td id=\"T_d1907_row0_col71\" class=\"data row0 col71\" >0.000000</td>\n",
       "                        <td id=\"T_d1907_row0_col72\" class=\"data row0 col72\" >0.000000</td>\n",
       "                        <td id=\"T_d1907_row0_col73\" class=\"data row0 col73\" >0.000000</td>\n",
       "                        <td id=\"T_d1907_row0_col74\" class=\"data row0 col74\" >0.000000</td>\n",
       "                        <td id=\"T_d1907_row0_col75\" class=\"data row0 col75\" >0.000000</td>\n",
       "                        <td id=\"T_d1907_row0_col76\" class=\"data row0 col76\" >0.000000</td>\n",
       "                        <td id=\"T_d1907_row0_col77\" class=\"data row0 col77\" >0.000000</td>\n",
       "                        <td id=\"T_d1907_row0_col78\" class=\"data row0 col78\" >0.000000</td>\n",
       "                        <td id=\"T_d1907_row0_col79\" class=\"data row0 col79\" >0.000000</td>\n",
       "                        <td id=\"T_d1907_row0_col80\" class=\"data row0 col80\" >0.000000</td>\n",
       "                        <td id=\"T_d1907_row0_col81\" class=\"data row0 col81\" >0.000000</td>\n",
       "                        <td id=\"T_d1907_row0_col82\" class=\"data row0 col82\" >0.000000</td>\n",
       "                        <td id=\"T_d1907_row0_col83\" class=\"data row0 col83\" >0.000000</td>\n",
       "                        <td id=\"T_d1907_row0_col84\" class=\"data row0 col84\" >0.000000</td>\n",
       "                        <td id=\"T_d1907_row0_col85\" class=\"data row0 col85\" >0.000000</td>\n",
       "                        <td id=\"T_d1907_row0_col86\" class=\"data row0 col86\" >0.000000</td>\n",
       "                        <td id=\"T_d1907_row0_col87\" class=\"data row0 col87\" >0.000000</td>\n",
       "                        <td id=\"T_d1907_row0_col88\" class=\"data row0 col88\" >0.000000</td>\n",
       "                        <td id=\"T_d1907_row0_col89\" class=\"data row0 col89\" >0.000000</td>\n",
       "                        <td id=\"T_d1907_row0_col90\" class=\"data row0 col90\" >0.000000</td>\n",
       "                        <td id=\"T_d1907_row0_col91\" class=\"data row0 col91\" >0.000000</td>\n",
       "                        <td id=\"T_d1907_row0_col92\" class=\"data row0 col92\" >0.000000</td>\n",
       "                        <td id=\"T_d1907_row0_col93\" class=\"data row0 col93\" >0.000000</td>\n",
       "                        <td id=\"T_d1907_row0_col94\" class=\"data row0 col94\" >0.000000</td>\n",
       "                        <td id=\"T_d1907_row0_col95\" class=\"data row0 col95\" >0.000000</td>\n",
       "                        <td id=\"T_d1907_row0_col96\" class=\"data row0 col96\" >0.000000</td>\n",
       "                        <td id=\"T_d1907_row0_col97\" class=\"data row0 col97\" >0.000000</td>\n",
       "                        <td id=\"T_d1907_row0_col98\" class=\"data row0 col98\" >0.000000</td>\n",
       "                        <td id=\"T_d1907_row0_col99\" class=\"data row0 col99\" >0.000000</td>\n",
       "                        <td id=\"T_d1907_row0_col100\" class=\"data row0 col100\" >0.000000</td>\n",
       "                        <td id=\"T_d1907_row0_col101\" class=\"data row0 col101\" >0.000000</td>\n",
       "                        <td id=\"T_d1907_row0_col102\" class=\"data row0 col102\" >0.000000</td>\n",
       "                        <td id=\"T_d1907_row0_col103\" class=\"data row0 col103\" >0.000000</td>\n",
       "                        <td id=\"T_d1907_row0_col104\" class=\"data row0 col104\" >0.000000</td>\n",
       "                        <td id=\"T_d1907_row0_col105\" class=\"data row0 col105\" >0.000000</td>\n",
       "                        <td id=\"T_d1907_row0_col106\" class=\"data row0 col106\" >1.000000</td>\n",
       "                        <td id=\"T_d1907_row0_col107\" class=\"data row0 col107\" >0.000000</td>\n",
       "                        <td id=\"T_d1907_row0_col108\" class=\"data row0 col108\" >0.000000</td>\n",
       "                        <td id=\"T_d1907_row0_col109\" class=\"data row0 col109\" >0.000000</td>\n",
       "                        <td id=\"T_d1907_row0_col110\" class=\"data row0 col110\" >0.000000</td>\n",
       "                        <td id=\"T_d1907_row0_col111\" class=\"data row0 col111\" >0.000000</td>\n",
       "                        <td id=\"T_d1907_row0_col112\" class=\"data row0 col112\" >0.000000</td>\n",
       "                        <td id=\"T_d1907_row0_col113\" class=\"data row0 col113\" >0.000000</td>\n",
       "                        <td id=\"T_d1907_row0_col114\" class=\"data row0 col114\" >0.000000</td>\n",
       "                        <td id=\"T_d1907_row0_col115\" class=\"data row0 col115\" >0.000000</td>\n",
       "                        <td id=\"T_d1907_row0_col116\" class=\"data row0 col116\" >0.000000</td>\n",
       "                        <td id=\"T_d1907_row0_col117\" class=\"data row0 col117\" >0.000000</td>\n",
       "                        <td id=\"T_d1907_row0_col118\" class=\"data row0 col118\" >0.000000</td>\n",
       "                        <td id=\"T_d1907_row0_col119\" class=\"data row0 col119\" >0.000000</td>\n",
       "                        <td id=\"T_d1907_row0_col120\" class=\"data row0 col120\" >0.000000</td>\n",
       "                        <td id=\"T_d1907_row0_col121\" class=\"data row0 col121\" >0.000000</td>\n",
       "                        <td id=\"T_d1907_row0_col122\" class=\"data row0 col122\" >0.000000</td>\n",
       "                        <td id=\"T_d1907_row0_col123\" class=\"data row0 col123\" >0.000000</td>\n",
       "                        <td id=\"T_d1907_row0_col124\" class=\"data row0 col124\" >0.000000</td>\n",
       "                        <td id=\"T_d1907_row0_col125\" class=\"data row0 col125\" >0.000000</td>\n",
       "                        <td id=\"T_d1907_row0_col126\" class=\"data row0 col126\" >0.000000</td>\n",
       "                        <td id=\"T_d1907_row0_col127\" class=\"data row0 col127\" >0.000000</td>\n",
       "                        <td id=\"T_d1907_row0_col128\" class=\"data row0 col128\" >0.000000</td>\n",
       "                        <td id=\"T_d1907_row0_col129\" class=\"data row0 col129\" >0.000000</td>\n",
       "                        <td id=\"T_d1907_row0_col130\" class=\"data row0 col130\" >0.000000</td>\n",
       "                        <td id=\"T_d1907_row0_col131\" class=\"data row0 col131\" >0.000000</td>\n",
       "                        <td id=\"T_d1907_row0_col132\" class=\"data row0 col132\" >0.000000</td>\n",
       "                        <td id=\"T_d1907_row0_col133\" class=\"data row0 col133\" >0.000000</td>\n",
       "                        <td id=\"T_d1907_row0_col134\" class=\"data row0 col134\" >0.000000</td>\n",
       "                        <td id=\"T_d1907_row0_col135\" class=\"data row0 col135\" >0.000000</td>\n",
       "                        <td id=\"T_d1907_row0_col136\" class=\"data row0 col136\" >0.000000</td>\n",
       "                        <td id=\"T_d1907_row0_col137\" class=\"data row0 col137\" >0.000000</td>\n",
       "                        <td id=\"T_d1907_row0_col138\" class=\"data row0 col138\" >0.000000</td>\n",
       "                        <td id=\"T_d1907_row0_col139\" class=\"data row0 col139\" >0.000000</td>\n",
       "                        <td id=\"T_d1907_row0_col140\" class=\"data row0 col140\" >0.000000</td>\n",
       "                        <td id=\"T_d1907_row0_col141\" class=\"data row0 col141\" >0.000000</td>\n",
       "                        <td id=\"T_d1907_row0_col142\" class=\"data row0 col142\" >0.000000</td>\n",
       "                        <td id=\"T_d1907_row0_col143\" class=\"data row0 col143\" >0.000000</td>\n",
       "                        <td id=\"T_d1907_row0_col144\" class=\"data row0 col144\" >1.000000</td>\n",
       "                        <td id=\"T_d1907_row0_col145\" class=\"data row0 col145\" >0.000000</td>\n",
       "                        <td id=\"T_d1907_row0_col146\" class=\"data row0 col146\" >0.000000</td>\n",
       "                        <td id=\"T_d1907_row0_col147\" class=\"data row0 col147\" >0.000000</td>\n",
       "                        <td id=\"T_d1907_row0_col148\" class=\"data row0 col148\" >0.000000</td>\n",
       "                        <td id=\"T_d1907_row0_col149\" class=\"data row0 col149\" >0.000000</td>\n",
       "                        <td id=\"T_d1907_row0_col150\" class=\"data row0 col150\" >0.000000</td>\n",
       "                        <td id=\"T_d1907_row0_col151\" class=\"data row0 col151\" >0.000000</td>\n",
       "                        <td id=\"T_d1907_row0_col152\" class=\"data row0 col152\" >0.000000</td>\n",
       "                        <td id=\"T_d1907_row0_col153\" class=\"data row0 col153\" >0.000000</td>\n",
       "                        <td id=\"T_d1907_row0_col154\" class=\"data row0 col154\" >0.000000</td>\n",
       "                        <td id=\"T_d1907_row0_col155\" class=\"data row0 col155\" >0.000000</td>\n",
       "                        <td id=\"T_d1907_row0_col156\" class=\"data row0 col156\" >0.000000</td>\n",
       "                        <td id=\"T_d1907_row0_col157\" class=\"data row0 col157\" >0.000000</td>\n",
       "                        <td id=\"T_d1907_row0_col158\" class=\"data row0 col158\" >0.000000</td>\n",
       "                        <td id=\"T_d1907_row0_col159\" class=\"data row0 col159\" >0.000000</td>\n",
       "                        <td id=\"T_d1907_row0_col160\" class=\"data row0 col160\" >0.000000</td>\n",
       "                        <td id=\"T_d1907_row0_col161\" class=\"data row0 col161\" >0.000000</td>\n",
       "                        <td id=\"T_d1907_row0_col162\" class=\"data row0 col162\" >0.000000</td>\n",
       "                        <td id=\"T_d1907_row0_col163\" class=\"data row0 col163\" >0.000000</td>\n",
       "                        <td id=\"T_d1907_row0_col164\" class=\"data row0 col164\" >0.000000</td>\n",
       "                        <td id=\"T_d1907_row0_col165\" class=\"data row0 col165\" >0.000000</td>\n",
       "                        <td id=\"T_d1907_row0_col166\" class=\"data row0 col166\" >0.000000</td>\n",
       "                        <td id=\"T_d1907_row0_col167\" class=\"data row0 col167\" >0.000000</td>\n",
       "                        <td id=\"T_d1907_row0_col168\" class=\"data row0 col168\" >0.000000</td>\n",
       "                        <td id=\"T_d1907_row0_col169\" class=\"data row0 col169\" >0.000000</td>\n",
       "                        <td id=\"T_d1907_row0_col170\" class=\"data row0 col170\" >0.000000</td>\n",
       "                        <td id=\"T_d1907_row0_col171\" class=\"data row0 col171\" >1.000000</td>\n",
       "                        <td id=\"T_d1907_row0_col172\" class=\"data row0 col172\" >0.000000</td>\n",
       "                        <td id=\"T_d1907_row0_col173\" class=\"data row0 col173\" >0.000000</td>\n",
       "                        <td id=\"T_d1907_row0_col174\" class=\"data row0 col174\" >1.000000</td>\n",
       "                        <td id=\"T_d1907_row0_col175\" class=\"data row0 col175\" >0.000000</td>\n",
       "                        <td id=\"T_d1907_row0_col176\" class=\"data row0 col176\" >1.000000</td>\n",
       "                        <td id=\"T_d1907_row0_col177\" class=\"data row0 col177\" >0.000000</td>\n",
       "                        <td id=\"T_d1907_row0_col178\" class=\"data row0 col178\" >0.000000</td>\n",
       "                        <td id=\"T_d1907_row0_col179\" class=\"data row0 col179\" >1.000000</td>\n",
       "                        <td id=\"T_d1907_row0_col180\" class=\"data row0 col180\" >0.000000</td>\n",
       "                        <td id=\"T_d1907_row0_col181\" class=\"data row0 col181\" >0.273456</td>\n",
       "                        <td id=\"T_d1907_row0_col182\" class=\"data row0 col182\" >0.125000</td>\n",
       "                        <td id=\"T_d1907_row0_col183\" class=\"data row0 col183\" >0.000000</td>\n",
       "                        <td id=\"T_d1907_row0_col184\" class=\"data row0 col184\" >0.077399</td>\n",
       "                        <td id=\"T_d1907_row0_col185\" class=\"data row0 col185\" >0.000000</td>\n",
       "                        <td id=\"T_d1907_row0_col186\" class=\"data row0 col186\" >1</td>\n",
       "                        <td id=\"T_d1907_row0_col187\" class=\"data row0 col187\" >0</td>\n",
       "                        <td id=\"T_d1907_row0_col188\" class=\"data row0 col188\" >0</td>\n",
       "                        <td id=\"T_d1907_row0_col189\" class=\"data row0 col189\" >0.000000</td>\n",
       "            </tr>\n",
       "            <tr>\n",
       "                        <th id=\"T_d1907_level0_row1\" class=\"row_heading level0 row1\" >2</th>\n",
       "                        <td id=\"T_d1907_row1_col0\" class=\"data row1 col0\" >0.000000</td>\n",
       "                        <td id=\"T_d1907_row1_col1\" class=\"data row1 col1\" >0.000000</td>\n",
       "                        <td id=\"T_d1907_row1_col2\" class=\"data row1 col2\" >0.000000</td>\n",
       "                        <td id=\"T_d1907_row1_col3\" class=\"data row1 col3\" >1.000000</td>\n",
       "                        <td id=\"T_d1907_row1_col4\" class=\"data row1 col4\" >0.000000</td>\n",
       "                        <td id=\"T_d1907_row1_col5\" class=\"data row1 col5\" >0.000000</td>\n",
       "                        <td id=\"T_d1907_row1_col6\" class=\"data row1 col6\" >0.000000</td>\n",
       "                        <td id=\"T_d1907_row1_col7\" class=\"data row1 col7\" >0.000000</td>\n",
       "                        <td id=\"T_d1907_row1_col8\" class=\"data row1 col8\" >0.000000</td>\n",
       "                        <td id=\"T_d1907_row1_col9\" class=\"data row1 col9\" >0.000000</td>\n",
       "                        <td id=\"T_d1907_row1_col10\" class=\"data row1 col10\" >0.000000</td>\n",
       "                        <td id=\"T_d1907_row1_col11\" class=\"data row1 col11\" >0.000000</td>\n",
       "                        <td id=\"T_d1907_row1_col12\" class=\"data row1 col12\" >0.000000</td>\n",
       "                        <td id=\"T_d1907_row1_col13\" class=\"data row1 col13\" >0.000000</td>\n",
       "                        <td id=\"T_d1907_row1_col14\" class=\"data row1 col14\" >0.000000</td>\n",
       "                        <td id=\"T_d1907_row1_col15\" class=\"data row1 col15\" >0.000000</td>\n",
       "                        <td id=\"T_d1907_row1_col16\" class=\"data row1 col16\" >0.000000</td>\n",
       "                        <td id=\"T_d1907_row1_col17\" class=\"data row1 col17\" >0.000000</td>\n",
       "                        <td id=\"T_d1907_row1_col18\" class=\"data row1 col18\" >0.000000</td>\n",
       "                        <td id=\"T_d1907_row1_col19\" class=\"data row1 col19\" >0.000000</td>\n",
       "                        <td id=\"T_d1907_row1_col20\" class=\"data row1 col20\" >0.000000</td>\n",
       "                        <td id=\"T_d1907_row1_col21\" class=\"data row1 col21\" >0.000000</td>\n",
       "                        <td id=\"T_d1907_row1_col22\" class=\"data row1 col22\" >0.000000</td>\n",
       "                        <td id=\"T_d1907_row1_col23\" class=\"data row1 col23\" >0.000000</td>\n",
       "                        <td id=\"T_d1907_row1_col24\" class=\"data row1 col24\" >0.000000</td>\n",
       "                        <td id=\"T_d1907_row1_col25\" class=\"data row1 col25\" >0.000000</td>\n",
       "                        <td id=\"T_d1907_row1_col26\" class=\"data row1 col26\" >0.000000</td>\n",
       "                        <td id=\"T_d1907_row1_col27\" class=\"data row1 col27\" >0.000000</td>\n",
       "                        <td id=\"T_d1907_row1_col28\" class=\"data row1 col28\" >0.000000</td>\n",
       "                        <td id=\"T_d1907_row1_col29\" class=\"data row1 col29\" >0.000000</td>\n",
       "                        <td id=\"T_d1907_row1_col30\" class=\"data row1 col30\" >0.000000</td>\n",
       "                        <td id=\"T_d1907_row1_col31\" class=\"data row1 col31\" >0.000000</td>\n",
       "                        <td id=\"T_d1907_row1_col32\" class=\"data row1 col32\" >0.000000</td>\n",
       "                        <td id=\"T_d1907_row1_col33\" class=\"data row1 col33\" >0.000000</td>\n",
       "                        <td id=\"T_d1907_row1_col34\" class=\"data row1 col34\" >0.000000</td>\n",
       "                        <td id=\"T_d1907_row1_col35\" class=\"data row1 col35\" >0.000000</td>\n",
       "                        <td id=\"T_d1907_row1_col36\" class=\"data row1 col36\" >0.000000</td>\n",
       "                        <td id=\"T_d1907_row1_col37\" class=\"data row1 col37\" >0.000000</td>\n",
       "                        <td id=\"T_d1907_row1_col38\" class=\"data row1 col38\" >0.000000</td>\n",
       "                        <td id=\"T_d1907_row1_col39\" class=\"data row1 col39\" >0.000000</td>\n",
       "                        <td id=\"T_d1907_row1_col40\" class=\"data row1 col40\" >0.000000</td>\n",
       "                        <td id=\"T_d1907_row1_col41\" class=\"data row1 col41\" >1.000000</td>\n",
       "                        <td id=\"T_d1907_row1_col42\" class=\"data row1 col42\" >0.000000</td>\n",
       "                        <td id=\"T_d1907_row1_col43\" class=\"data row1 col43\" >0.000000</td>\n",
       "                        <td id=\"T_d1907_row1_col44\" class=\"data row1 col44\" >0.000000</td>\n",
       "                        <td id=\"T_d1907_row1_col45\" class=\"data row1 col45\" >0.000000</td>\n",
       "                        <td id=\"T_d1907_row1_col46\" class=\"data row1 col46\" >0.000000</td>\n",
       "                        <td id=\"T_d1907_row1_col47\" class=\"data row1 col47\" >0.000000</td>\n",
       "                        <td id=\"T_d1907_row1_col48\" class=\"data row1 col48\" >0.000000</td>\n",
       "                        <td id=\"T_d1907_row1_col49\" class=\"data row1 col49\" >0.000000</td>\n",
       "                        <td id=\"T_d1907_row1_col50\" class=\"data row1 col50\" >0.000000</td>\n",
       "                        <td id=\"T_d1907_row1_col51\" class=\"data row1 col51\" >0.000000</td>\n",
       "                        <td id=\"T_d1907_row1_col52\" class=\"data row1 col52\" >0.000000</td>\n",
       "                        <td id=\"T_d1907_row1_col53\" class=\"data row1 col53\" >0.000000</td>\n",
       "                        <td id=\"T_d1907_row1_col54\" class=\"data row1 col54\" >0.000000</td>\n",
       "                        <td id=\"T_d1907_row1_col55\" class=\"data row1 col55\" >0.000000</td>\n",
       "                        <td id=\"T_d1907_row1_col56\" class=\"data row1 col56\" >0.000000</td>\n",
       "                        <td id=\"T_d1907_row1_col57\" class=\"data row1 col57\" >0.000000</td>\n",
       "                        <td id=\"T_d1907_row1_col58\" class=\"data row1 col58\" >0.000000</td>\n",
       "                        <td id=\"T_d1907_row1_col59\" class=\"data row1 col59\" >0.000000</td>\n",
       "                        <td id=\"T_d1907_row1_col60\" class=\"data row1 col60\" >0.000000</td>\n",
       "                        <td id=\"T_d1907_row1_col61\" class=\"data row1 col61\" >0.000000</td>\n",
       "                        <td id=\"T_d1907_row1_col62\" class=\"data row1 col62\" >0.000000</td>\n",
       "                        <td id=\"T_d1907_row1_col63\" class=\"data row1 col63\" >0.000000</td>\n",
       "                        <td id=\"T_d1907_row1_col64\" class=\"data row1 col64\" >0.000000</td>\n",
       "                        <td id=\"T_d1907_row1_col65\" class=\"data row1 col65\" >0.000000</td>\n",
       "                        <td id=\"T_d1907_row1_col66\" class=\"data row1 col66\" >0.000000</td>\n",
       "                        <td id=\"T_d1907_row1_col67\" class=\"data row1 col67\" >0.000000</td>\n",
       "                        <td id=\"T_d1907_row1_col68\" class=\"data row1 col68\" >0.000000</td>\n",
       "                        <td id=\"T_d1907_row1_col69\" class=\"data row1 col69\" >0.000000</td>\n",
       "                        <td id=\"T_d1907_row1_col70\" class=\"data row1 col70\" >0.000000</td>\n",
       "                        <td id=\"T_d1907_row1_col71\" class=\"data row1 col71\" >0.000000</td>\n",
       "                        <td id=\"T_d1907_row1_col72\" class=\"data row1 col72\" >0.000000</td>\n",
       "                        <td id=\"T_d1907_row1_col73\" class=\"data row1 col73\" >0.000000</td>\n",
       "                        <td id=\"T_d1907_row1_col74\" class=\"data row1 col74\" >0.000000</td>\n",
       "                        <td id=\"T_d1907_row1_col75\" class=\"data row1 col75\" >0.000000</td>\n",
       "                        <td id=\"T_d1907_row1_col76\" class=\"data row1 col76\" >0.000000</td>\n",
       "                        <td id=\"T_d1907_row1_col77\" class=\"data row1 col77\" >0.000000</td>\n",
       "                        <td id=\"T_d1907_row1_col78\" class=\"data row1 col78\" >0.000000</td>\n",
       "                        <td id=\"T_d1907_row1_col79\" class=\"data row1 col79\" >0.000000</td>\n",
       "                        <td id=\"T_d1907_row1_col80\" class=\"data row1 col80\" >0.000000</td>\n",
       "                        <td id=\"T_d1907_row1_col81\" class=\"data row1 col81\" >0.000000</td>\n",
       "                        <td id=\"T_d1907_row1_col82\" class=\"data row1 col82\" >0.000000</td>\n",
       "                        <td id=\"T_d1907_row1_col83\" class=\"data row1 col83\" >0.000000</td>\n",
       "                        <td id=\"T_d1907_row1_col84\" class=\"data row1 col84\" >0.000000</td>\n",
       "                        <td id=\"T_d1907_row1_col85\" class=\"data row1 col85\" >0.000000</td>\n",
       "                        <td id=\"T_d1907_row1_col86\" class=\"data row1 col86\" >0.000000</td>\n",
       "                        <td id=\"T_d1907_row1_col87\" class=\"data row1 col87\" >0.000000</td>\n",
       "                        <td id=\"T_d1907_row1_col88\" class=\"data row1 col88\" >0.000000</td>\n",
       "                        <td id=\"T_d1907_row1_col89\" class=\"data row1 col89\" >0.000000</td>\n",
       "                        <td id=\"T_d1907_row1_col90\" class=\"data row1 col90\" >0.000000</td>\n",
       "                        <td id=\"T_d1907_row1_col91\" class=\"data row1 col91\" >0.000000</td>\n",
       "                        <td id=\"T_d1907_row1_col92\" class=\"data row1 col92\" >0.000000</td>\n",
       "                        <td id=\"T_d1907_row1_col93\" class=\"data row1 col93\" >0.000000</td>\n",
       "                        <td id=\"T_d1907_row1_col94\" class=\"data row1 col94\" >0.000000</td>\n",
       "                        <td id=\"T_d1907_row1_col95\" class=\"data row1 col95\" >0.000000</td>\n",
       "                        <td id=\"T_d1907_row1_col96\" class=\"data row1 col96\" >0.000000</td>\n",
       "                        <td id=\"T_d1907_row1_col97\" class=\"data row1 col97\" >0.000000</td>\n",
       "                        <td id=\"T_d1907_row1_col98\" class=\"data row1 col98\" >0.000000</td>\n",
       "                        <td id=\"T_d1907_row1_col99\" class=\"data row1 col99\" >0.000000</td>\n",
       "                        <td id=\"T_d1907_row1_col100\" class=\"data row1 col100\" >0.000000</td>\n",
       "                        <td id=\"T_d1907_row1_col101\" class=\"data row1 col101\" >0.000000</td>\n",
       "                        <td id=\"T_d1907_row1_col102\" class=\"data row1 col102\" >0.000000</td>\n",
       "                        <td id=\"T_d1907_row1_col103\" class=\"data row1 col103\" >0.000000</td>\n",
       "                        <td id=\"T_d1907_row1_col104\" class=\"data row1 col104\" >0.000000</td>\n",
       "                        <td id=\"T_d1907_row1_col105\" class=\"data row1 col105\" >0.000000</td>\n",
       "                        <td id=\"T_d1907_row1_col106\" class=\"data row1 col106\" >0.000000</td>\n",
       "                        <td id=\"T_d1907_row1_col107\" class=\"data row1 col107\" >0.000000</td>\n",
       "                        <td id=\"T_d1907_row1_col108\" class=\"data row1 col108\" >0.000000</td>\n",
       "                        <td id=\"T_d1907_row1_col109\" class=\"data row1 col109\" >0.000000</td>\n",
       "                        <td id=\"T_d1907_row1_col110\" class=\"data row1 col110\" >0.000000</td>\n",
       "                        <td id=\"T_d1907_row1_col111\" class=\"data row1 col111\" >0.000000</td>\n",
       "                        <td id=\"T_d1907_row1_col112\" class=\"data row1 col112\" >0.000000</td>\n",
       "                        <td id=\"T_d1907_row1_col113\" class=\"data row1 col113\" >0.000000</td>\n",
       "                        <td id=\"T_d1907_row1_col114\" class=\"data row1 col114\" >0.000000</td>\n",
       "                        <td id=\"T_d1907_row1_col115\" class=\"data row1 col115\" >0.000000</td>\n",
       "                        <td id=\"T_d1907_row1_col116\" class=\"data row1 col116\" >0.000000</td>\n",
       "                        <td id=\"T_d1907_row1_col117\" class=\"data row1 col117\" >0.000000</td>\n",
       "                        <td id=\"T_d1907_row1_col118\" class=\"data row1 col118\" >0.000000</td>\n",
       "                        <td id=\"T_d1907_row1_col119\" class=\"data row1 col119\" >0.000000</td>\n",
       "                        <td id=\"T_d1907_row1_col120\" class=\"data row1 col120\" >0.000000</td>\n",
       "                        <td id=\"T_d1907_row1_col121\" class=\"data row1 col121\" >0.000000</td>\n",
       "                        <td id=\"T_d1907_row1_col122\" class=\"data row1 col122\" >0.000000</td>\n",
       "                        <td id=\"T_d1907_row1_col123\" class=\"data row1 col123\" >0.000000</td>\n",
       "                        <td id=\"T_d1907_row1_col124\" class=\"data row1 col124\" >0.000000</td>\n",
       "                        <td id=\"T_d1907_row1_col125\" class=\"data row1 col125\" >0.000000</td>\n",
       "                        <td id=\"T_d1907_row1_col126\" class=\"data row1 col126\" >0.000000</td>\n",
       "                        <td id=\"T_d1907_row1_col127\" class=\"data row1 col127\" >0.000000</td>\n",
       "                        <td id=\"T_d1907_row1_col128\" class=\"data row1 col128\" >0.000000</td>\n",
       "                        <td id=\"T_d1907_row1_col129\" class=\"data row1 col129\" >0.000000</td>\n",
       "                        <td id=\"T_d1907_row1_col130\" class=\"data row1 col130\" >0.000000</td>\n",
       "                        <td id=\"T_d1907_row1_col131\" class=\"data row1 col131\" >0.000000</td>\n",
       "                        <td id=\"T_d1907_row1_col132\" class=\"data row1 col132\" >0.000000</td>\n",
       "                        <td id=\"T_d1907_row1_col133\" class=\"data row1 col133\" >0.000000</td>\n",
       "                        <td id=\"T_d1907_row1_col134\" class=\"data row1 col134\" >0.000000</td>\n",
       "                        <td id=\"T_d1907_row1_col135\" class=\"data row1 col135\" >0.000000</td>\n",
       "                        <td id=\"T_d1907_row1_col136\" class=\"data row1 col136\" >0.000000</td>\n",
       "                        <td id=\"T_d1907_row1_col137\" class=\"data row1 col137\" >0.000000</td>\n",
       "                        <td id=\"T_d1907_row1_col138\" class=\"data row1 col138\" >0.000000</td>\n",
       "                        <td id=\"T_d1907_row1_col139\" class=\"data row1 col139\" >0.000000</td>\n",
       "                        <td id=\"T_d1907_row1_col140\" class=\"data row1 col140\" >0.000000</td>\n",
       "                        <td id=\"T_d1907_row1_col141\" class=\"data row1 col141\" >0.000000</td>\n",
       "                        <td id=\"T_d1907_row1_col142\" class=\"data row1 col142\" >0.000000</td>\n",
       "                        <td id=\"T_d1907_row1_col143\" class=\"data row1 col143\" >0.000000</td>\n",
       "                        <td id=\"T_d1907_row1_col144\" class=\"data row1 col144\" >0.000000</td>\n",
       "                        <td id=\"T_d1907_row1_col145\" class=\"data row1 col145\" >0.000000</td>\n",
       "                        <td id=\"T_d1907_row1_col146\" class=\"data row1 col146\" >0.000000</td>\n",
       "                        <td id=\"T_d1907_row1_col147\" class=\"data row1 col147\" >0.000000</td>\n",
       "                        <td id=\"T_d1907_row1_col148\" class=\"data row1 col148\" >0.000000</td>\n",
       "                        <td id=\"T_d1907_row1_col149\" class=\"data row1 col149\" >0.000000</td>\n",
       "                        <td id=\"T_d1907_row1_col150\" class=\"data row1 col150\" >1.000000</td>\n",
       "                        <td id=\"T_d1907_row1_col151\" class=\"data row1 col151\" >0.000000</td>\n",
       "                        <td id=\"T_d1907_row1_col152\" class=\"data row1 col152\" >0.000000</td>\n",
       "                        <td id=\"T_d1907_row1_col153\" class=\"data row1 col153\" >0.000000</td>\n",
       "                        <td id=\"T_d1907_row1_col154\" class=\"data row1 col154\" >0.000000</td>\n",
       "                        <td id=\"T_d1907_row1_col155\" class=\"data row1 col155\" >0.000000</td>\n",
       "                        <td id=\"T_d1907_row1_col156\" class=\"data row1 col156\" >0.000000</td>\n",
       "                        <td id=\"T_d1907_row1_col157\" class=\"data row1 col157\" >0.000000</td>\n",
       "                        <td id=\"T_d1907_row1_col158\" class=\"data row1 col158\" >0.000000</td>\n",
       "                        <td id=\"T_d1907_row1_col159\" class=\"data row1 col159\" >0.000000</td>\n",
       "                        <td id=\"T_d1907_row1_col160\" class=\"data row1 col160\" >0.000000</td>\n",
       "                        <td id=\"T_d1907_row1_col161\" class=\"data row1 col161\" >0.000000</td>\n",
       "                        <td id=\"T_d1907_row1_col162\" class=\"data row1 col162\" >0.000000</td>\n",
       "                        <td id=\"T_d1907_row1_col163\" class=\"data row1 col163\" >0.000000</td>\n",
       "                        <td id=\"T_d1907_row1_col164\" class=\"data row1 col164\" >0.000000</td>\n",
       "                        <td id=\"T_d1907_row1_col165\" class=\"data row1 col165\" >0.000000</td>\n",
       "                        <td id=\"T_d1907_row1_col166\" class=\"data row1 col166\" >1.000000</td>\n",
       "                        <td id=\"T_d1907_row1_col167\" class=\"data row1 col167\" >0.000000</td>\n",
       "                        <td id=\"T_d1907_row1_col168\" class=\"data row1 col168\" >0.000000</td>\n",
       "                        <td id=\"T_d1907_row1_col169\" class=\"data row1 col169\" >0.000000</td>\n",
       "                        <td id=\"T_d1907_row1_col170\" class=\"data row1 col170\" >0.000000</td>\n",
       "                        <td id=\"T_d1907_row1_col171\" class=\"data row1 col171\" >0.000000</td>\n",
       "                        <td id=\"T_d1907_row1_col172\" class=\"data row1 col172\" >1.000000</td>\n",
       "                        <td id=\"T_d1907_row1_col173\" class=\"data row1 col173\" >0.000000</td>\n",
       "                        <td id=\"T_d1907_row1_col174\" class=\"data row1 col174\" >0.000000</td>\n",
       "                        <td id=\"T_d1907_row1_col175\" class=\"data row1 col175\" >1.000000</td>\n",
       "                        <td id=\"T_d1907_row1_col176\" class=\"data row1 col176\" >0.000000</td>\n",
       "                        <td id=\"T_d1907_row1_col177\" class=\"data row1 col177\" >1.000000</td>\n",
       "                        <td id=\"T_d1907_row1_col178\" class=\"data row1 col178\" >0.000000</td>\n",
       "                        <td id=\"T_d1907_row1_col179\" class=\"data row1 col179\" >0.000000</td>\n",
       "                        <td id=\"T_d1907_row1_col180\" class=\"data row1 col180\" >1.000000</td>\n",
       "                        <td id=\"T_d1907_row1_col181\" class=\"data row1 col181\" >0.473882</td>\n",
       "                        <td id=\"T_d1907_row1_col182\" class=\"data row1 col182\" >0.125000</td>\n",
       "                        <td id=\"T_d1907_row1_col183\" class=\"data row1 col183\" >0.000000</td>\n",
       "                        <td id=\"T_d1907_row1_col184\" class=\"data row1 col184\" >0.882353</td>\n",
       "                        <td id=\"T_d1907_row1_col185\" class=\"data row1 col185\" >0.573333</td>\n",
       "                        <td id=\"T_d1907_row1_col186\" class=\"data row1 col186\" >1</td>\n",
       "                        <td id=\"T_d1907_row1_col187\" class=\"data row1 col187\" >0</td>\n",
       "                        <td id=\"T_d1907_row1_col188\" class=\"data row1 col188\" >0</td>\n",
       "                        <td id=\"T_d1907_row1_col189\" class=\"data row1 col189\" >1.000000</td>\n",
       "            </tr>\n",
       "            <tr>\n",
       "                        <th id=\"T_d1907_level0_row2\" class=\"row_heading level0 row2\" >3</th>\n",
       "                        <td id=\"T_d1907_row2_col0\" class=\"data row2 col0\" >0.000000</td>\n",
       "                        <td id=\"T_d1907_row2_col1\" class=\"data row2 col1\" >1.000000</td>\n",
       "                        <td id=\"T_d1907_row2_col2\" class=\"data row2 col2\" >0.000000</td>\n",
       "                        <td id=\"T_d1907_row2_col3\" class=\"data row2 col3\" >0.000000</td>\n",
       "                        <td id=\"T_d1907_row2_col4\" class=\"data row2 col4\" >0.000000</td>\n",
       "                        <td id=\"T_d1907_row2_col5\" class=\"data row2 col5\" >0.000000</td>\n",
       "                        <td id=\"T_d1907_row2_col6\" class=\"data row2 col6\" >0.000000</td>\n",
       "                        <td id=\"T_d1907_row2_col7\" class=\"data row2 col7\" >0.000000</td>\n",
       "                        <td id=\"T_d1907_row2_col8\" class=\"data row2 col8\" >0.000000</td>\n",
       "                        <td id=\"T_d1907_row2_col9\" class=\"data row2 col9\" >0.000000</td>\n",
       "                        <td id=\"T_d1907_row2_col10\" class=\"data row2 col10\" >0.000000</td>\n",
       "                        <td id=\"T_d1907_row2_col11\" class=\"data row2 col11\" >0.000000</td>\n",
       "                        <td id=\"T_d1907_row2_col12\" class=\"data row2 col12\" >0.000000</td>\n",
       "                        <td id=\"T_d1907_row2_col13\" class=\"data row2 col13\" >0.000000</td>\n",
       "                        <td id=\"T_d1907_row2_col14\" class=\"data row2 col14\" >0.000000</td>\n",
       "                        <td id=\"T_d1907_row2_col15\" class=\"data row2 col15\" >0.000000</td>\n",
       "                        <td id=\"T_d1907_row2_col16\" class=\"data row2 col16\" >0.000000</td>\n",
       "                        <td id=\"T_d1907_row2_col17\" class=\"data row2 col17\" >0.000000</td>\n",
       "                        <td id=\"T_d1907_row2_col18\" class=\"data row2 col18\" >0.000000</td>\n",
       "                        <td id=\"T_d1907_row2_col19\" class=\"data row2 col19\" >0.000000</td>\n",
       "                        <td id=\"T_d1907_row2_col20\" class=\"data row2 col20\" >0.000000</td>\n",
       "                        <td id=\"T_d1907_row2_col21\" class=\"data row2 col21\" >0.000000</td>\n",
       "                        <td id=\"T_d1907_row2_col22\" class=\"data row2 col22\" >0.000000</td>\n",
       "                        <td id=\"T_d1907_row2_col23\" class=\"data row2 col23\" >0.000000</td>\n",
       "                        <td id=\"T_d1907_row2_col24\" class=\"data row2 col24\" >0.000000</td>\n",
       "                        <td id=\"T_d1907_row2_col25\" class=\"data row2 col25\" >0.000000</td>\n",
       "                        <td id=\"T_d1907_row2_col26\" class=\"data row2 col26\" >0.000000</td>\n",
       "                        <td id=\"T_d1907_row2_col27\" class=\"data row2 col27\" >0.000000</td>\n",
       "                        <td id=\"T_d1907_row2_col28\" class=\"data row2 col28\" >0.000000</td>\n",
       "                        <td id=\"T_d1907_row2_col29\" class=\"data row2 col29\" >0.000000</td>\n",
       "                        <td id=\"T_d1907_row2_col30\" class=\"data row2 col30\" >0.000000</td>\n",
       "                        <td id=\"T_d1907_row2_col31\" class=\"data row2 col31\" >0.000000</td>\n",
       "                        <td id=\"T_d1907_row2_col32\" class=\"data row2 col32\" >0.000000</td>\n",
       "                        <td id=\"T_d1907_row2_col33\" class=\"data row2 col33\" >0.000000</td>\n",
       "                        <td id=\"T_d1907_row2_col34\" class=\"data row2 col34\" >0.000000</td>\n",
       "                        <td id=\"T_d1907_row2_col35\" class=\"data row2 col35\" >0.000000</td>\n",
       "                        <td id=\"T_d1907_row2_col36\" class=\"data row2 col36\" >0.000000</td>\n",
       "                        <td id=\"T_d1907_row2_col37\" class=\"data row2 col37\" >0.000000</td>\n",
       "                        <td id=\"T_d1907_row2_col38\" class=\"data row2 col38\" >0.000000</td>\n",
       "                        <td id=\"T_d1907_row2_col39\" class=\"data row2 col39\" >0.000000</td>\n",
       "                        <td id=\"T_d1907_row2_col40\" class=\"data row2 col40\" >0.000000</td>\n",
       "                        <td id=\"T_d1907_row2_col41\" class=\"data row2 col41\" >0.000000</td>\n",
       "                        <td id=\"T_d1907_row2_col42\" class=\"data row2 col42\" >0.000000</td>\n",
       "                        <td id=\"T_d1907_row2_col43\" class=\"data row2 col43\" >0.000000</td>\n",
       "                        <td id=\"T_d1907_row2_col44\" class=\"data row2 col44\" >0.000000</td>\n",
       "                        <td id=\"T_d1907_row2_col45\" class=\"data row2 col45\" >0.000000</td>\n",
       "                        <td id=\"T_d1907_row2_col46\" class=\"data row2 col46\" >0.000000</td>\n",
       "                        <td id=\"T_d1907_row2_col47\" class=\"data row2 col47\" >0.000000</td>\n",
       "                        <td id=\"T_d1907_row2_col48\" class=\"data row2 col48\" >0.000000</td>\n",
       "                        <td id=\"T_d1907_row2_col49\" class=\"data row2 col49\" >0.000000</td>\n",
       "                        <td id=\"T_d1907_row2_col50\" class=\"data row2 col50\" >0.000000</td>\n",
       "                        <td id=\"T_d1907_row2_col51\" class=\"data row2 col51\" >0.000000</td>\n",
       "                        <td id=\"T_d1907_row2_col52\" class=\"data row2 col52\" >0.000000</td>\n",
       "                        <td id=\"T_d1907_row2_col53\" class=\"data row2 col53\" >0.000000</td>\n",
       "                        <td id=\"T_d1907_row2_col54\" class=\"data row2 col54\" >0.000000</td>\n",
       "                        <td id=\"T_d1907_row2_col55\" class=\"data row2 col55\" >0.000000</td>\n",
       "                        <td id=\"T_d1907_row2_col56\" class=\"data row2 col56\" >0.000000</td>\n",
       "                        <td id=\"T_d1907_row2_col57\" class=\"data row2 col57\" >0.000000</td>\n",
       "                        <td id=\"T_d1907_row2_col58\" class=\"data row2 col58\" >0.000000</td>\n",
       "                        <td id=\"T_d1907_row2_col59\" class=\"data row2 col59\" >0.000000</td>\n",
       "                        <td id=\"T_d1907_row2_col60\" class=\"data row2 col60\" >0.000000</td>\n",
       "                        <td id=\"T_d1907_row2_col61\" class=\"data row2 col61\" >0.000000</td>\n",
       "                        <td id=\"T_d1907_row2_col62\" class=\"data row2 col62\" >0.000000</td>\n",
       "                        <td id=\"T_d1907_row2_col63\" class=\"data row2 col63\" >0.000000</td>\n",
       "                        <td id=\"T_d1907_row2_col64\" class=\"data row2 col64\" >0.000000</td>\n",
       "                        <td id=\"T_d1907_row2_col65\" class=\"data row2 col65\" >0.000000</td>\n",
       "                        <td id=\"T_d1907_row2_col66\" class=\"data row2 col66\" >0.000000</td>\n",
       "                        <td id=\"T_d1907_row2_col67\" class=\"data row2 col67\" >0.000000</td>\n",
       "                        <td id=\"T_d1907_row2_col68\" class=\"data row2 col68\" >0.000000</td>\n",
       "                        <td id=\"T_d1907_row2_col69\" class=\"data row2 col69\" >0.000000</td>\n",
       "                        <td id=\"T_d1907_row2_col70\" class=\"data row2 col70\" >0.000000</td>\n",
       "                        <td id=\"T_d1907_row2_col71\" class=\"data row2 col71\" >0.000000</td>\n",
       "                        <td id=\"T_d1907_row2_col72\" class=\"data row2 col72\" >0.000000</td>\n",
       "                        <td id=\"T_d1907_row2_col73\" class=\"data row2 col73\" >0.000000</td>\n",
       "                        <td id=\"T_d1907_row2_col74\" class=\"data row2 col74\" >0.000000</td>\n",
       "                        <td id=\"T_d1907_row2_col75\" class=\"data row2 col75\" >0.000000</td>\n",
       "                        <td id=\"T_d1907_row2_col76\" class=\"data row2 col76\" >0.000000</td>\n",
       "                        <td id=\"T_d1907_row2_col77\" class=\"data row2 col77\" >0.000000</td>\n",
       "                        <td id=\"T_d1907_row2_col78\" class=\"data row2 col78\" >0.000000</td>\n",
       "                        <td id=\"T_d1907_row2_col79\" class=\"data row2 col79\" >0.000000</td>\n",
       "                        <td id=\"T_d1907_row2_col80\" class=\"data row2 col80\" >0.000000</td>\n",
       "                        <td id=\"T_d1907_row2_col81\" class=\"data row2 col81\" >0.000000</td>\n",
       "                        <td id=\"T_d1907_row2_col82\" class=\"data row2 col82\" >0.000000</td>\n",
       "                        <td id=\"T_d1907_row2_col83\" class=\"data row2 col83\" >0.000000</td>\n",
       "                        <td id=\"T_d1907_row2_col84\" class=\"data row2 col84\" >0.000000</td>\n",
       "                        <td id=\"T_d1907_row2_col85\" class=\"data row2 col85\" >0.000000</td>\n",
       "                        <td id=\"T_d1907_row2_col86\" class=\"data row2 col86\" >0.000000</td>\n",
       "                        <td id=\"T_d1907_row2_col87\" class=\"data row2 col87\" >0.000000</td>\n",
       "                        <td id=\"T_d1907_row2_col88\" class=\"data row2 col88\" >0.000000</td>\n",
       "                        <td id=\"T_d1907_row2_col89\" class=\"data row2 col89\" >0.000000</td>\n",
       "                        <td id=\"T_d1907_row2_col90\" class=\"data row2 col90\" >0.000000</td>\n",
       "                        <td id=\"T_d1907_row2_col91\" class=\"data row2 col91\" >0.000000</td>\n",
       "                        <td id=\"T_d1907_row2_col92\" class=\"data row2 col92\" >0.000000</td>\n",
       "                        <td id=\"T_d1907_row2_col93\" class=\"data row2 col93\" >0.000000</td>\n",
       "                        <td id=\"T_d1907_row2_col94\" class=\"data row2 col94\" >0.000000</td>\n",
       "                        <td id=\"T_d1907_row2_col95\" class=\"data row2 col95\" >0.000000</td>\n",
       "                        <td id=\"T_d1907_row2_col96\" class=\"data row2 col96\" >0.000000</td>\n",
       "                        <td id=\"T_d1907_row2_col97\" class=\"data row2 col97\" >0.000000</td>\n",
       "                        <td id=\"T_d1907_row2_col98\" class=\"data row2 col98\" >0.000000</td>\n",
       "                        <td id=\"T_d1907_row2_col99\" class=\"data row2 col99\" >0.000000</td>\n",
       "                        <td id=\"T_d1907_row2_col100\" class=\"data row2 col100\" >0.000000</td>\n",
       "                        <td id=\"T_d1907_row2_col101\" class=\"data row2 col101\" >0.000000</td>\n",
       "                        <td id=\"T_d1907_row2_col102\" class=\"data row2 col102\" >0.000000</td>\n",
       "                        <td id=\"T_d1907_row2_col103\" class=\"data row2 col103\" >0.000000</td>\n",
       "                        <td id=\"T_d1907_row2_col104\" class=\"data row2 col104\" >0.000000</td>\n",
       "                        <td id=\"T_d1907_row2_col105\" class=\"data row2 col105\" >0.000000</td>\n",
       "                        <td id=\"T_d1907_row2_col106\" class=\"data row2 col106\" >1.000000</td>\n",
       "                        <td id=\"T_d1907_row2_col107\" class=\"data row2 col107\" >0.000000</td>\n",
       "                        <td id=\"T_d1907_row2_col108\" class=\"data row2 col108\" >0.000000</td>\n",
       "                        <td id=\"T_d1907_row2_col109\" class=\"data row2 col109\" >0.000000</td>\n",
       "                        <td id=\"T_d1907_row2_col110\" class=\"data row2 col110\" >0.000000</td>\n",
       "                        <td id=\"T_d1907_row2_col111\" class=\"data row2 col111\" >0.000000</td>\n",
       "                        <td id=\"T_d1907_row2_col112\" class=\"data row2 col112\" >0.000000</td>\n",
       "                        <td id=\"T_d1907_row2_col113\" class=\"data row2 col113\" >0.000000</td>\n",
       "                        <td id=\"T_d1907_row2_col114\" class=\"data row2 col114\" >0.000000</td>\n",
       "                        <td id=\"T_d1907_row2_col115\" class=\"data row2 col115\" >0.000000</td>\n",
       "                        <td id=\"T_d1907_row2_col116\" class=\"data row2 col116\" >0.000000</td>\n",
       "                        <td id=\"T_d1907_row2_col117\" class=\"data row2 col117\" >0.000000</td>\n",
       "                        <td id=\"T_d1907_row2_col118\" class=\"data row2 col118\" >0.000000</td>\n",
       "                        <td id=\"T_d1907_row2_col119\" class=\"data row2 col119\" >0.000000</td>\n",
       "                        <td id=\"T_d1907_row2_col120\" class=\"data row2 col120\" >0.000000</td>\n",
       "                        <td id=\"T_d1907_row2_col121\" class=\"data row2 col121\" >0.000000</td>\n",
       "                        <td id=\"T_d1907_row2_col122\" class=\"data row2 col122\" >0.000000</td>\n",
       "                        <td id=\"T_d1907_row2_col123\" class=\"data row2 col123\" >0.000000</td>\n",
       "                        <td id=\"T_d1907_row2_col124\" class=\"data row2 col124\" >0.000000</td>\n",
       "                        <td id=\"T_d1907_row2_col125\" class=\"data row2 col125\" >0.000000</td>\n",
       "                        <td id=\"T_d1907_row2_col126\" class=\"data row2 col126\" >0.000000</td>\n",
       "                        <td id=\"T_d1907_row2_col127\" class=\"data row2 col127\" >0.000000</td>\n",
       "                        <td id=\"T_d1907_row2_col128\" class=\"data row2 col128\" >0.000000</td>\n",
       "                        <td id=\"T_d1907_row2_col129\" class=\"data row2 col129\" >0.000000</td>\n",
       "                        <td id=\"T_d1907_row2_col130\" class=\"data row2 col130\" >0.000000</td>\n",
       "                        <td id=\"T_d1907_row2_col131\" class=\"data row2 col131\" >0.000000</td>\n",
       "                        <td id=\"T_d1907_row2_col132\" class=\"data row2 col132\" >0.000000</td>\n",
       "                        <td id=\"T_d1907_row2_col133\" class=\"data row2 col133\" >0.000000</td>\n",
       "                        <td id=\"T_d1907_row2_col134\" class=\"data row2 col134\" >0.000000</td>\n",
       "                        <td id=\"T_d1907_row2_col135\" class=\"data row2 col135\" >0.000000</td>\n",
       "                        <td id=\"T_d1907_row2_col136\" class=\"data row2 col136\" >0.000000</td>\n",
       "                        <td id=\"T_d1907_row2_col137\" class=\"data row2 col137\" >0.000000</td>\n",
       "                        <td id=\"T_d1907_row2_col138\" class=\"data row2 col138\" >0.000000</td>\n",
       "                        <td id=\"T_d1907_row2_col139\" class=\"data row2 col139\" >0.000000</td>\n",
       "                        <td id=\"T_d1907_row2_col140\" class=\"data row2 col140\" >0.000000</td>\n",
       "                        <td id=\"T_d1907_row2_col141\" class=\"data row2 col141\" >0.000000</td>\n",
       "                        <td id=\"T_d1907_row2_col142\" class=\"data row2 col142\" >0.000000</td>\n",
       "                        <td id=\"T_d1907_row2_col143\" class=\"data row2 col143\" >0.000000</td>\n",
       "                        <td id=\"T_d1907_row2_col144\" class=\"data row2 col144\" >0.000000</td>\n",
       "                        <td id=\"T_d1907_row2_col145\" class=\"data row2 col145\" >0.000000</td>\n",
       "                        <td id=\"T_d1907_row2_col146\" class=\"data row2 col146\" >0.000000</td>\n",
       "                        <td id=\"T_d1907_row2_col147\" class=\"data row2 col147\" >0.000000</td>\n",
       "                        <td id=\"T_d1907_row2_col148\" class=\"data row2 col148\" >0.000000</td>\n",
       "                        <td id=\"T_d1907_row2_col149\" class=\"data row2 col149\" >0.000000</td>\n",
       "                        <td id=\"T_d1907_row2_col150\" class=\"data row2 col150\" >0.000000</td>\n",
       "                        <td id=\"T_d1907_row2_col151\" class=\"data row2 col151\" >0.000000</td>\n",
       "                        <td id=\"T_d1907_row2_col152\" class=\"data row2 col152\" >0.000000</td>\n",
       "                        <td id=\"T_d1907_row2_col153\" class=\"data row2 col153\" >0.000000</td>\n",
       "                        <td id=\"T_d1907_row2_col154\" class=\"data row2 col154\" >0.000000</td>\n",
       "                        <td id=\"T_d1907_row2_col155\" class=\"data row2 col155\" >0.000000</td>\n",
       "                        <td id=\"T_d1907_row2_col156\" class=\"data row2 col156\" >0.000000</td>\n",
       "                        <td id=\"T_d1907_row2_col157\" class=\"data row2 col157\" >0.000000</td>\n",
       "                        <td id=\"T_d1907_row2_col158\" class=\"data row2 col158\" >0.000000</td>\n",
       "                        <td id=\"T_d1907_row2_col159\" class=\"data row2 col159\" >0.000000</td>\n",
       "                        <td id=\"T_d1907_row2_col160\" class=\"data row2 col160\" >0.000000</td>\n",
       "                        <td id=\"T_d1907_row2_col161\" class=\"data row2 col161\" >1.000000</td>\n",
       "                        <td id=\"T_d1907_row2_col162\" class=\"data row2 col162\" >0.000000</td>\n",
       "                        <td id=\"T_d1907_row2_col163\" class=\"data row2 col163\" >0.000000</td>\n",
       "                        <td id=\"T_d1907_row2_col164\" class=\"data row2 col164\" >0.000000</td>\n",
       "                        <td id=\"T_d1907_row2_col165\" class=\"data row2 col165\" >0.000000</td>\n",
       "                        <td id=\"T_d1907_row2_col166\" class=\"data row2 col166\" >0.000000</td>\n",
       "                        <td id=\"T_d1907_row2_col167\" class=\"data row2 col167\" >0.000000</td>\n",
       "                        <td id=\"T_d1907_row2_col168\" class=\"data row2 col168\" >0.000000</td>\n",
       "                        <td id=\"T_d1907_row2_col169\" class=\"data row2 col169\" >0.000000</td>\n",
       "                        <td id=\"T_d1907_row2_col170\" class=\"data row2 col170\" >0.000000</td>\n",
       "                        <td id=\"T_d1907_row2_col171\" class=\"data row2 col171\" >1.000000</td>\n",
       "                        <td id=\"T_d1907_row2_col172\" class=\"data row2 col172\" >0.000000</td>\n",
       "                        <td id=\"T_d1907_row2_col173\" class=\"data row2 col173\" >0.000000</td>\n",
       "                        <td id=\"T_d1907_row2_col174\" class=\"data row2 col174\" >1.000000</td>\n",
       "                        <td id=\"T_d1907_row2_col175\" class=\"data row2 col175\" >1.000000</td>\n",
       "                        <td id=\"T_d1907_row2_col176\" class=\"data row2 col176\" >0.000000</td>\n",
       "                        <td id=\"T_d1907_row2_col177\" class=\"data row2 col177\" >0.000000</td>\n",
       "                        <td id=\"T_d1907_row2_col178\" class=\"data row2 col178\" >0.000000</td>\n",
       "                        <td id=\"T_d1907_row2_col179\" class=\"data row2 col179\" >1.000000</td>\n",
       "                        <td id=\"T_d1907_row2_col180\" class=\"data row2 col180\" >1.000000</td>\n",
       "                        <td id=\"T_d1907_row2_col181\" class=\"data row2 col181\" >0.323563</td>\n",
       "                        <td id=\"T_d1907_row2_col182\" class=\"data row2 col182\" >0.000000</td>\n",
       "                        <td id=\"T_d1907_row2_col183\" class=\"data row2 col183\" >0.000000</td>\n",
       "                        <td id=\"T_d1907_row2_col184\" class=\"data row2 col184\" >0.265480</td>\n",
       "                        <td id=\"T_d1907_row2_col185\" class=\"data row2 col185\" >0.000000</td>\n",
       "                        <td id=\"T_d1907_row2_col186\" class=\"data row2 col186\" >0</td>\n",
       "                        <td id=\"T_d1907_row2_col187\" class=\"data row2 col187\" >0</td>\n",
       "                        <td id=\"T_d1907_row2_col188\" class=\"data row2 col188\" >1</td>\n",
       "                        <td id=\"T_d1907_row2_col189\" class=\"data row2 col189\" >0.000000</td>\n",
       "            </tr>\n",
       "            <tr>\n",
       "                        <th id=\"T_d1907_level0_row3\" class=\"row_heading level0 row3\" >4</th>\n",
       "                        <td id=\"T_d1907_row3_col0\" class=\"data row3 col0\" >0.000000</td>\n",
       "                        <td id=\"T_d1907_row3_col1\" class=\"data row3 col1\" >0.000000</td>\n",
       "                        <td id=\"T_d1907_row3_col2\" class=\"data row3 col2\" >0.000000</td>\n",
       "                        <td id=\"T_d1907_row3_col3\" class=\"data row3 col3\" >1.000000</td>\n",
       "                        <td id=\"T_d1907_row3_col4\" class=\"data row3 col4\" >0.000000</td>\n",
       "                        <td id=\"T_d1907_row3_col5\" class=\"data row3 col5\" >0.000000</td>\n",
       "                        <td id=\"T_d1907_row3_col6\" class=\"data row3 col6\" >0.000000</td>\n",
       "                        <td id=\"T_d1907_row3_col7\" class=\"data row3 col7\" >0.000000</td>\n",
       "                        <td id=\"T_d1907_row3_col8\" class=\"data row3 col8\" >0.000000</td>\n",
       "                        <td id=\"T_d1907_row3_col9\" class=\"data row3 col9\" >0.000000</td>\n",
       "                        <td id=\"T_d1907_row3_col10\" class=\"data row3 col10\" >0.000000</td>\n",
       "                        <td id=\"T_d1907_row3_col11\" class=\"data row3 col11\" >0.000000</td>\n",
       "                        <td id=\"T_d1907_row3_col12\" class=\"data row3 col12\" >0.000000</td>\n",
       "                        <td id=\"T_d1907_row3_col13\" class=\"data row3 col13\" >0.000000</td>\n",
       "                        <td id=\"T_d1907_row3_col14\" class=\"data row3 col14\" >0.000000</td>\n",
       "                        <td id=\"T_d1907_row3_col15\" class=\"data row3 col15\" >0.000000</td>\n",
       "                        <td id=\"T_d1907_row3_col16\" class=\"data row3 col16\" >0.000000</td>\n",
       "                        <td id=\"T_d1907_row3_col17\" class=\"data row3 col17\" >0.000000</td>\n",
       "                        <td id=\"T_d1907_row3_col18\" class=\"data row3 col18\" >0.000000</td>\n",
       "                        <td id=\"T_d1907_row3_col19\" class=\"data row3 col19\" >0.000000</td>\n",
       "                        <td id=\"T_d1907_row3_col20\" class=\"data row3 col20\" >0.000000</td>\n",
       "                        <td id=\"T_d1907_row3_col21\" class=\"data row3 col21\" >0.000000</td>\n",
       "                        <td id=\"T_d1907_row3_col22\" class=\"data row3 col22\" >0.000000</td>\n",
       "                        <td id=\"T_d1907_row3_col23\" class=\"data row3 col23\" >0.000000</td>\n",
       "                        <td id=\"T_d1907_row3_col24\" class=\"data row3 col24\" >0.000000</td>\n",
       "                        <td id=\"T_d1907_row3_col25\" class=\"data row3 col25\" >0.000000</td>\n",
       "                        <td id=\"T_d1907_row3_col26\" class=\"data row3 col26\" >0.000000</td>\n",
       "                        <td id=\"T_d1907_row3_col27\" class=\"data row3 col27\" >0.000000</td>\n",
       "                        <td id=\"T_d1907_row3_col28\" class=\"data row3 col28\" >0.000000</td>\n",
       "                        <td id=\"T_d1907_row3_col29\" class=\"data row3 col29\" >0.000000</td>\n",
       "                        <td id=\"T_d1907_row3_col30\" class=\"data row3 col30\" >0.000000</td>\n",
       "                        <td id=\"T_d1907_row3_col31\" class=\"data row3 col31\" >0.000000</td>\n",
       "                        <td id=\"T_d1907_row3_col32\" class=\"data row3 col32\" >0.000000</td>\n",
       "                        <td id=\"T_d1907_row3_col33\" class=\"data row3 col33\" >0.000000</td>\n",
       "                        <td id=\"T_d1907_row3_col34\" class=\"data row3 col34\" >0.000000</td>\n",
       "                        <td id=\"T_d1907_row3_col35\" class=\"data row3 col35\" >0.000000</td>\n",
       "                        <td id=\"T_d1907_row3_col36\" class=\"data row3 col36\" >0.000000</td>\n",
       "                        <td id=\"T_d1907_row3_col37\" class=\"data row3 col37\" >0.000000</td>\n",
       "                        <td id=\"T_d1907_row3_col38\" class=\"data row3 col38\" >0.000000</td>\n",
       "                        <td id=\"T_d1907_row3_col39\" class=\"data row3 col39\" >0.000000</td>\n",
       "                        <td id=\"T_d1907_row3_col40\" class=\"data row3 col40\" >0.000000</td>\n",
       "                        <td id=\"T_d1907_row3_col41\" class=\"data row3 col41\" >0.000000</td>\n",
       "                        <td id=\"T_d1907_row3_col42\" class=\"data row3 col42\" >0.000000</td>\n",
       "                        <td id=\"T_d1907_row3_col43\" class=\"data row3 col43\" >0.000000</td>\n",
       "                        <td id=\"T_d1907_row3_col44\" class=\"data row3 col44\" >0.000000</td>\n",
       "                        <td id=\"T_d1907_row3_col45\" class=\"data row3 col45\" >0.000000</td>\n",
       "                        <td id=\"T_d1907_row3_col46\" class=\"data row3 col46\" >0.000000</td>\n",
       "                        <td id=\"T_d1907_row3_col47\" class=\"data row3 col47\" >0.000000</td>\n",
       "                        <td id=\"T_d1907_row3_col48\" class=\"data row3 col48\" >0.000000</td>\n",
       "                        <td id=\"T_d1907_row3_col49\" class=\"data row3 col49\" >0.000000</td>\n",
       "                        <td id=\"T_d1907_row3_col50\" class=\"data row3 col50\" >0.000000</td>\n",
       "                        <td id=\"T_d1907_row3_col51\" class=\"data row3 col51\" >0.000000</td>\n",
       "                        <td id=\"T_d1907_row3_col52\" class=\"data row3 col52\" >0.000000</td>\n",
       "                        <td id=\"T_d1907_row3_col53\" class=\"data row3 col53\" >0.000000</td>\n",
       "                        <td id=\"T_d1907_row3_col54\" class=\"data row3 col54\" >0.000000</td>\n",
       "                        <td id=\"T_d1907_row3_col55\" class=\"data row3 col55\" >0.000000</td>\n",
       "                        <td id=\"T_d1907_row3_col56\" class=\"data row3 col56\" >0.000000</td>\n",
       "                        <td id=\"T_d1907_row3_col57\" class=\"data row3 col57\" >0.000000</td>\n",
       "                        <td id=\"T_d1907_row3_col58\" class=\"data row3 col58\" >0.000000</td>\n",
       "                        <td id=\"T_d1907_row3_col59\" class=\"data row3 col59\" >0.000000</td>\n",
       "                        <td id=\"T_d1907_row3_col60\" class=\"data row3 col60\" >0.000000</td>\n",
       "                        <td id=\"T_d1907_row3_col61\" class=\"data row3 col61\" >0.000000</td>\n",
       "                        <td id=\"T_d1907_row3_col62\" class=\"data row3 col62\" >0.000000</td>\n",
       "                        <td id=\"T_d1907_row3_col63\" class=\"data row3 col63\" >0.000000</td>\n",
       "                        <td id=\"T_d1907_row3_col64\" class=\"data row3 col64\" >0.000000</td>\n",
       "                        <td id=\"T_d1907_row3_col65\" class=\"data row3 col65\" >0.000000</td>\n",
       "                        <td id=\"T_d1907_row3_col66\" class=\"data row3 col66\" >0.000000</td>\n",
       "                        <td id=\"T_d1907_row3_col67\" class=\"data row3 col67\" >0.000000</td>\n",
       "                        <td id=\"T_d1907_row3_col68\" class=\"data row3 col68\" >0.000000</td>\n",
       "                        <td id=\"T_d1907_row3_col69\" class=\"data row3 col69\" >0.000000</td>\n",
       "                        <td id=\"T_d1907_row3_col70\" class=\"data row3 col70\" >0.000000</td>\n",
       "                        <td id=\"T_d1907_row3_col71\" class=\"data row3 col71\" >0.000000</td>\n",
       "                        <td id=\"T_d1907_row3_col72\" class=\"data row3 col72\" >0.000000</td>\n",
       "                        <td id=\"T_d1907_row3_col73\" class=\"data row3 col73\" >0.000000</td>\n",
       "                        <td id=\"T_d1907_row3_col74\" class=\"data row3 col74\" >0.000000</td>\n",
       "                        <td id=\"T_d1907_row3_col75\" class=\"data row3 col75\" >0.000000</td>\n",
       "                        <td id=\"T_d1907_row3_col76\" class=\"data row3 col76\" >0.000000</td>\n",
       "                        <td id=\"T_d1907_row3_col77\" class=\"data row3 col77\" >0.000000</td>\n",
       "                        <td id=\"T_d1907_row3_col78\" class=\"data row3 col78\" >0.000000</td>\n",
       "                        <td id=\"T_d1907_row3_col79\" class=\"data row3 col79\" >0.000000</td>\n",
       "                        <td id=\"T_d1907_row3_col80\" class=\"data row3 col80\" >0.000000</td>\n",
       "                        <td id=\"T_d1907_row3_col81\" class=\"data row3 col81\" >0.000000</td>\n",
       "                        <td id=\"T_d1907_row3_col82\" class=\"data row3 col82\" >0.000000</td>\n",
       "                        <td id=\"T_d1907_row3_col83\" class=\"data row3 col83\" >0.000000</td>\n",
       "                        <td id=\"T_d1907_row3_col84\" class=\"data row3 col84\" >0.000000</td>\n",
       "                        <td id=\"T_d1907_row3_col85\" class=\"data row3 col85\" >0.000000</td>\n",
       "                        <td id=\"T_d1907_row3_col86\" class=\"data row3 col86\" >0.000000</td>\n",
       "                        <td id=\"T_d1907_row3_col87\" class=\"data row3 col87\" >0.000000</td>\n",
       "                        <td id=\"T_d1907_row3_col88\" class=\"data row3 col88\" >0.000000</td>\n",
       "                        <td id=\"T_d1907_row3_col89\" class=\"data row3 col89\" >0.000000</td>\n",
       "                        <td id=\"T_d1907_row3_col90\" class=\"data row3 col90\" >0.000000</td>\n",
       "                        <td id=\"T_d1907_row3_col91\" class=\"data row3 col91\" >0.000000</td>\n",
       "                        <td id=\"T_d1907_row3_col92\" class=\"data row3 col92\" >0.000000</td>\n",
       "                        <td id=\"T_d1907_row3_col93\" class=\"data row3 col93\" >0.000000</td>\n",
       "                        <td id=\"T_d1907_row3_col94\" class=\"data row3 col94\" >0.000000</td>\n",
       "                        <td id=\"T_d1907_row3_col95\" class=\"data row3 col95\" >0.000000</td>\n",
       "                        <td id=\"T_d1907_row3_col96\" class=\"data row3 col96\" >0.000000</td>\n",
       "                        <td id=\"T_d1907_row3_col97\" class=\"data row3 col97\" >0.000000</td>\n",
       "                        <td id=\"T_d1907_row3_col98\" class=\"data row3 col98\" >0.000000</td>\n",
       "                        <td id=\"T_d1907_row3_col99\" class=\"data row3 col99\" >0.000000</td>\n",
       "                        <td id=\"T_d1907_row3_col100\" class=\"data row3 col100\" >0.000000</td>\n",
       "                        <td id=\"T_d1907_row3_col101\" class=\"data row3 col101\" >0.000000</td>\n",
       "                        <td id=\"T_d1907_row3_col102\" class=\"data row3 col102\" >0.000000</td>\n",
       "                        <td id=\"T_d1907_row3_col103\" class=\"data row3 col103\" >0.000000</td>\n",
       "                        <td id=\"T_d1907_row3_col104\" class=\"data row3 col104\" >0.000000</td>\n",
       "                        <td id=\"T_d1907_row3_col105\" class=\"data row3 col105\" >0.000000</td>\n",
       "                        <td id=\"T_d1907_row3_col106\" class=\"data row3 col106\" >1.000000</td>\n",
       "                        <td id=\"T_d1907_row3_col107\" class=\"data row3 col107\" >0.000000</td>\n",
       "                        <td id=\"T_d1907_row3_col108\" class=\"data row3 col108\" >0.000000</td>\n",
       "                        <td id=\"T_d1907_row3_col109\" class=\"data row3 col109\" >0.000000</td>\n",
       "                        <td id=\"T_d1907_row3_col110\" class=\"data row3 col110\" >0.000000</td>\n",
       "                        <td id=\"T_d1907_row3_col111\" class=\"data row3 col111\" >0.000000</td>\n",
       "                        <td id=\"T_d1907_row3_col112\" class=\"data row3 col112\" >0.000000</td>\n",
       "                        <td id=\"T_d1907_row3_col113\" class=\"data row3 col113\" >0.000000</td>\n",
       "                        <td id=\"T_d1907_row3_col114\" class=\"data row3 col114\" >0.000000</td>\n",
       "                        <td id=\"T_d1907_row3_col115\" class=\"data row3 col115\" >0.000000</td>\n",
       "                        <td id=\"T_d1907_row3_col116\" class=\"data row3 col116\" >0.000000</td>\n",
       "                        <td id=\"T_d1907_row3_col117\" class=\"data row3 col117\" >0.000000</td>\n",
       "                        <td id=\"T_d1907_row3_col118\" class=\"data row3 col118\" >0.000000</td>\n",
       "                        <td id=\"T_d1907_row3_col119\" class=\"data row3 col119\" >0.000000</td>\n",
       "                        <td id=\"T_d1907_row3_col120\" class=\"data row3 col120\" >0.000000</td>\n",
       "                        <td id=\"T_d1907_row3_col121\" class=\"data row3 col121\" >0.000000</td>\n",
       "                        <td id=\"T_d1907_row3_col122\" class=\"data row3 col122\" >0.000000</td>\n",
       "                        <td id=\"T_d1907_row3_col123\" class=\"data row3 col123\" >0.000000</td>\n",
       "                        <td id=\"T_d1907_row3_col124\" class=\"data row3 col124\" >0.000000</td>\n",
       "                        <td id=\"T_d1907_row3_col125\" class=\"data row3 col125\" >0.000000</td>\n",
       "                        <td id=\"T_d1907_row3_col126\" class=\"data row3 col126\" >0.000000</td>\n",
       "                        <td id=\"T_d1907_row3_col127\" class=\"data row3 col127\" >0.000000</td>\n",
       "                        <td id=\"T_d1907_row3_col128\" class=\"data row3 col128\" >0.000000</td>\n",
       "                        <td id=\"T_d1907_row3_col129\" class=\"data row3 col129\" >0.000000</td>\n",
       "                        <td id=\"T_d1907_row3_col130\" class=\"data row3 col130\" >0.000000</td>\n",
       "                        <td id=\"T_d1907_row3_col131\" class=\"data row3 col131\" >0.000000</td>\n",
       "                        <td id=\"T_d1907_row3_col132\" class=\"data row3 col132\" >0.000000</td>\n",
       "                        <td id=\"T_d1907_row3_col133\" class=\"data row3 col133\" >0.000000</td>\n",
       "                        <td id=\"T_d1907_row3_col134\" class=\"data row3 col134\" >0.000000</td>\n",
       "                        <td id=\"T_d1907_row3_col135\" class=\"data row3 col135\" >0.000000</td>\n",
       "                        <td id=\"T_d1907_row3_col136\" class=\"data row3 col136\" >0.000000</td>\n",
       "                        <td id=\"T_d1907_row3_col137\" class=\"data row3 col137\" >0.000000</td>\n",
       "                        <td id=\"T_d1907_row3_col138\" class=\"data row3 col138\" >0.000000</td>\n",
       "                        <td id=\"T_d1907_row3_col139\" class=\"data row3 col139\" >0.000000</td>\n",
       "                        <td id=\"T_d1907_row3_col140\" class=\"data row3 col140\" >0.000000</td>\n",
       "                        <td id=\"T_d1907_row3_col141\" class=\"data row3 col141\" >0.000000</td>\n",
       "                        <td id=\"T_d1907_row3_col142\" class=\"data row3 col142\" >0.000000</td>\n",
       "                        <td id=\"T_d1907_row3_col143\" class=\"data row3 col143\" >0.000000</td>\n",
       "                        <td id=\"T_d1907_row3_col144\" class=\"data row3 col144\" >0.000000</td>\n",
       "                        <td id=\"T_d1907_row3_col145\" class=\"data row3 col145\" >0.000000</td>\n",
       "                        <td id=\"T_d1907_row3_col146\" class=\"data row3 col146\" >0.000000</td>\n",
       "                        <td id=\"T_d1907_row3_col147\" class=\"data row3 col147\" >0.000000</td>\n",
       "                        <td id=\"T_d1907_row3_col148\" class=\"data row3 col148\" >0.000000</td>\n",
       "                        <td id=\"T_d1907_row3_col149\" class=\"data row3 col149\" >1.000000</td>\n",
       "                        <td id=\"T_d1907_row3_col150\" class=\"data row3 col150\" >0.000000</td>\n",
       "                        <td id=\"T_d1907_row3_col151\" class=\"data row3 col151\" >0.000000</td>\n",
       "                        <td id=\"T_d1907_row3_col152\" class=\"data row3 col152\" >0.000000</td>\n",
       "                        <td id=\"T_d1907_row3_col153\" class=\"data row3 col153\" >0.000000</td>\n",
       "                        <td id=\"T_d1907_row3_col154\" class=\"data row3 col154\" >0.000000</td>\n",
       "                        <td id=\"T_d1907_row3_col155\" class=\"data row3 col155\" >0.000000</td>\n",
       "                        <td id=\"T_d1907_row3_col156\" class=\"data row3 col156\" >0.000000</td>\n",
       "                        <td id=\"T_d1907_row3_col157\" class=\"data row3 col157\" >0.000000</td>\n",
       "                        <td id=\"T_d1907_row3_col158\" class=\"data row3 col158\" >0.000000</td>\n",
       "                        <td id=\"T_d1907_row3_col159\" class=\"data row3 col159\" >0.000000</td>\n",
       "                        <td id=\"T_d1907_row3_col160\" class=\"data row3 col160\" >0.000000</td>\n",
       "                        <td id=\"T_d1907_row3_col161\" class=\"data row3 col161\" >0.000000</td>\n",
       "                        <td id=\"T_d1907_row3_col162\" class=\"data row3 col162\" >0.000000</td>\n",
       "                        <td id=\"T_d1907_row3_col163\" class=\"data row3 col163\" >0.000000</td>\n",
       "                        <td id=\"T_d1907_row3_col164\" class=\"data row3 col164\" >0.000000</td>\n",
       "                        <td id=\"T_d1907_row3_col165\" class=\"data row3 col165\" >0.000000</td>\n",
       "                        <td id=\"T_d1907_row3_col166\" class=\"data row3 col166\" >1.000000</td>\n",
       "                        <td id=\"T_d1907_row3_col167\" class=\"data row3 col167\" >0.000000</td>\n",
       "                        <td id=\"T_d1907_row3_col168\" class=\"data row3 col168\" >0.000000</td>\n",
       "                        <td id=\"T_d1907_row3_col169\" class=\"data row3 col169\" >0.000000</td>\n",
       "                        <td id=\"T_d1907_row3_col170\" class=\"data row3 col170\" >0.000000</td>\n",
       "                        <td id=\"T_d1907_row3_col171\" class=\"data row3 col171\" >0.000000</td>\n",
       "                        <td id=\"T_d1907_row3_col172\" class=\"data row3 col172\" >0.000000</td>\n",
       "                        <td id=\"T_d1907_row3_col173\" class=\"data row3 col173\" >0.000000</td>\n",
       "                        <td id=\"T_d1907_row3_col174\" class=\"data row3 col174\" >1.000000</td>\n",
       "                        <td id=\"T_d1907_row3_col175\" class=\"data row3 col175\" >1.000000</td>\n",
       "                        <td id=\"T_d1907_row3_col176\" class=\"data row3 col176\" >0.000000</td>\n",
       "                        <td id=\"T_d1907_row3_col177\" class=\"data row3 col177\" >1.000000</td>\n",
       "                        <td id=\"T_d1907_row3_col178\" class=\"data row3 col178\" >0.000000</td>\n",
       "                        <td id=\"T_d1907_row3_col179\" class=\"data row3 col179\" >0.000000</td>\n",
       "                        <td id=\"T_d1907_row3_col180\" class=\"data row3 col180\" >1.000000</td>\n",
       "                        <td id=\"T_d1907_row3_col181\" class=\"data row3 col181\" >0.436302</td>\n",
       "                        <td id=\"T_d1907_row3_col182\" class=\"data row3 col182\" >0.125000</td>\n",
       "                        <td id=\"T_d1907_row3_col183\" class=\"data row3 col183\" >0.000000</td>\n",
       "                        <td id=\"T_d1907_row3_col184\" class=\"data row3 col184\" >0.834365</td>\n",
       "                        <td id=\"T_d1907_row3_col185\" class=\"data row3 col185\" >0.826667</td>\n",
       "                        <td id=\"T_d1907_row3_col186\" class=\"data row3 col186\" >1</td>\n",
       "                        <td id=\"T_d1907_row3_col187\" class=\"data row3 col187\" >0</td>\n",
       "                        <td id=\"T_d1907_row3_col188\" class=\"data row3 col188\" >0</td>\n",
       "                        <td id=\"T_d1907_row3_col189\" class=\"data row3 col189\" >1.000000</td>\n",
       "            </tr>\n",
       "            <tr>\n",
       "                        <th id=\"T_d1907_level0_row4\" class=\"row_heading level0 row4\" >5</th>\n",
       "                        <td id=\"T_d1907_row4_col0\" class=\"data row4 col0\" >0.000000</td>\n",
       "                        <td id=\"T_d1907_row4_col1\" class=\"data row4 col1\" >0.000000</td>\n",
       "                        <td id=\"T_d1907_row4_col2\" class=\"data row4 col2\" >1.000000</td>\n",
       "                        <td id=\"T_d1907_row4_col3\" class=\"data row4 col3\" >0.000000</td>\n",
       "                        <td id=\"T_d1907_row4_col4\" class=\"data row4 col4\" >0.000000</td>\n",
       "                        <td id=\"T_d1907_row4_col5\" class=\"data row4 col5\" >0.000000</td>\n",
       "                        <td id=\"T_d1907_row4_col6\" class=\"data row4 col6\" >0.000000</td>\n",
       "                        <td id=\"T_d1907_row4_col7\" class=\"data row4 col7\" >0.000000</td>\n",
       "                        <td id=\"T_d1907_row4_col8\" class=\"data row4 col8\" >0.000000</td>\n",
       "                        <td id=\"T_d1907_row4_col9\" class=\"data row4 col9\" >0.000000</td>\n",
       "                        <td id=\"T_d1907_row4_col10\" class=\"data row4 col10\" >0.000000</td>\n",
       "                        <td id=\"T_d1907_row4_col11\" class=\"data row4 col11\" >0.000000</td>\n",
       "                        <td id=\"T_d1907_row4_col12\" class=\"data row4 col12\" >0.000000</td>\n",
       "                        <td id=\"T_d1907_row4_col13\" class=\"data row4 col13\" >0.000000</td>\n",
       "                        <td id=\"T_d1907_row4_col14\" class=\"data row4 col14\" >0.000000</td>\n",
       "                        <td id=\"T_d1907_row4_col15\" class=\"data row4 col15\" >0.000000</td>\n",
       "                        <td id=\"T_d1907_row4_col16\" class=\"data row4 col16\" >0.000000</td>\n",
       "                        <td id=\"T_d1907_row4_col17\" class=\"data row4 col17\" >0.000000</td>\n",
       "                        <td id=\"T_d1907_row4_col18\" class=\"data row4 col18\" >0.000000</td>\n",
       "                        <td id=\"T_d1907_row4_col19\" class=\"data row4 col19\" >0.000000</td>\n",
       "                        <td id=\"T_d1907_row4_col20\" class=\"data row4 col20\" >0.000000</td>\n",
       "                        <td id=\"T_d1907_row4_col21\" class=\"data row4 col21\" >0.000000</td>\n",
       "                        <td id=\"T_d1907_row4_col22\" class=\"data row4 col22\" >0.000000</td>\n",
       "                        <td id=\"T_d1907_row4_col23\" class=\"data row4 col23\" >0.000000</td>\n",
       "                        <td id=\"T_d1907_row4_col24\" class=\"data row4 col24\" >0.000000</td>\n",
       "                        <td id=\"T_d1907_row4_col25\" class=\"data row4 col25\" >0.000000</td>\n",
       "                        <td id=\"T_d1907_row4_col26\" class=\"data row4 col26\" >0.000000</td>\n",
       "                        <td id=\"T_d1907_row4_col27\" class=\"data row4 col27\" >0.000000</td>\n",
       "                        <td id=\"T_d1907_row4_col28\" class=\"data row4 col28\" >0.000000</td>\n",
       "                        <td id=\"T_d1907_row4_col29\" class=\"data row4 col29\" >0.000000</td>\n",
       "                        <td id=\"T_d1907_row4_col30\" class=\"data row4 col30\" >0.000000</td>\n",
       "                        <td id=\"T_d1907_row4_col31\" class=\"data row4 col31\" >0.000000</td>\n",
       "                        <td id=\"T_d1907_row4_col32\" class=\"data row4 col32\" >0.000000</td>\n",
       "                        <td id=\"T_d1907_row4_col33\" class=\"data row4 col33\" >0.000000</td>\n",
       "                        <td id=\"T_d1907_row4_col34\" class=\"data row4 col34\" >0.000000</td>\n",
       "                        <td id=\"T_d1907_row4_col35\" class=\"data row4 col35\" >0.000000</td>\n",
       "                        <td id=\"T_d1907_row4_col36\" class=\"data row4 col36\" >0.000000</td>\n",
       "                        <td id=\"T_d1907_row4_col37\" class=\"data row4 col37\" >0.000000</td>\n",
       "                        <td id=\"T_d1907_row4_col38\" class=\"data row4 col38\" >0.000000</td>\n",
       "                        <td id=\"T_d1907_row4_col39\" class=\"data row4 col39\" >0.000000</td>\n",
       "                        <td id=\"T_d1907_row4_col40\" class=\"data row4 col40\" >0.000000</td>\n",
       "                        <td id=\"T_d1907_row4_col41\" class=\"data row4 col41\" >0.000000</td>\n",
       "                        <td id=\"T_d1907_row4_col42\" class=\"data row4 col42\" >0.000000</td>\n",
       "                        <td id=\"T_d1907_row4_col43\" class=\"data row4 col43\" >0.000000</td>\n",
       "                        <td id=\"T_d1907_row4_col44\" class=\"data row4 col44\" >0.000000</td>\n",
       "                        <td id=\"T_d1907_row4_col45\" class=\"data row4 col45\" >0.000000</td>\n",
       "                        <td id=\"T_d1907_row4_col46\" class=\"data row4 col46\" >0.000000</td>\n",
       "                        <td id=\"T_d1907_row4_col47\" class=\"data row4 col47\" >0.000000</td>\n",
       "                        <td id=\"T_d1907_row4_col48\" class=\"data row4 col48\" >0.000000</td>\n",
       "                        <td id=\"T_d1907_row4_col49\" class=\"data row4 col49\" >0.000000</td>\n",
       "                        <td id=\"T_d1907_row4_col50\" class=\"data row4 col50\" >0.000000</td>\n",
       "                        <td id=\"T_d1907_row4_col51\" class=\"data row4 col51\" >0.000000</td>\n",
       "                        <td id=\"T_d1907_row4_col52\" class=\"data row4 col52\" >0.000000</td>\n",
       "                        <td id=\"T_d1907_row4_col53\" class=\"data row4 col53\" >0.000000</td>\n",
       "                        <td id=\"T_d1907_row4_col54\" class=\"data row4 col54\" >0.000000</td>\n",
       "                        <td id=\"T_d1907_row4_col55\" class=\"data row4 col55\" >0.000000</td>\n",
       "                        <td id=\"T_d1907_row4_col56\" class=\"data row4 col56\" >0.000000</td>\n",
       "                        <td id=\"T_d1907_row4_col57\" class=\"data row4 col57\" >0.000000</td>\n",
       "                        <td id=\"T_d1907_row4_col58\" class=\"data row4 col58\" >0.000000</td>\n",
       "                        <td id=\"T_d1907_row4_col59\" class=\"data row4 col59\" >0.000000</td>\n",
       "                        <td id=\"T_d1907_row4_col60\" class=\"data row4 col60\" >0.000000</td>\n",
       "                        <td id=\"T_d1907_row4_col61\" class=\"data row4 col61\" >0.000000</td>\n",
       "                        <td id=\"T_d1907_row4_col62\" class=\"data row4 col62\" >0.000000</td>\n",
       "                        <td id=\"T_d1907_row4_col63\" class=\"data row4 col63\" >0.000000</td>\n",
       "                        <td id=\"T_d1907_row4_col64\" class=\"data row4 col64\" >0.000000</td>\n",
       "                        <td id=\"T_d1907_row4_col65\" class=\"data row4 col65\" >0.000000</td>\n",
       "                        <td id=\"T_d1907_row4_col66\" class=\"data row4 col66\" >0.000000</td>\n",
       "                        <td id=\"T_d1907_row4_col67\" class=\"data row4 col67\" >0.000000</td>\n",
       "                        <td id=\"T_d1907_row4_col68\" class=\"data row4 col68\" >0.000000</td>\n",
       "                        <td id=\"T_d1907_row4_col69\" class=\"data row4 col69\" >0.000000</td>\n",
       "                        <td id=\"T_d1907_row4_col70\" class=\"data row4 col70\" >0.000000</td>\n",
       "                        <td id=\"T_d1907_row4_col71\" class=\"data row4 col71\" >0.000000</td>\n",
       "                        <td id=\"T_d1907_row4_col72\" class=\"data row4 col72\" >0.000000</td>\n",
       "                        <td id=\"T_d1907_row4_col73\" class=\"data row4 col73\" >0.000000</td>\n",
       "                        <td id=\"T_d1907_row4_col74\" class=\"data row4 col74\" >0.000000</td>\n",
       "                        <td id=\"T_d1907_row4_col75\" class=\"data row4 col75\" >0.000000</td>\n",
       "                        <td id=\"T_d1907_row4_col76\" class=\"data row4 col76\" >0.000000</td>\n",
       "                        <td id=\"T_d1907_row4_col77\" class=\"data row4 col77\" >0.000000</td>\n",
       "                        <td id=\"T_d1907_row4_col78\" class=\"data row4 col78\" >0.000000</td>\n",
       "                        <td id=\"T_d1907_row4_col79\" class=\"data row4 col79\" >0.000000</td>\n",
       "                        <td id=\"T_d1907_row4_col80\" class=\"data row4 col80\" >0.000000</td>\n",
       "                        <td id=\"T_d1907_row4_col81\" class=\"data row4 col81\" >0.000000</td>\n",
       "                        <td id=\"T_d1907_row4_col82\" class=\"data row4 col82\" >0.000000</td>\n",
       "                        <td id=\"T_d1907_row4_col83\" class=\"data row4 col83\" >0.000000</td>\n",
       "                        <td id=\"T_d1907_row4_col84\" class=\"data row4 col84\" >0.000000</td>\n",
       "                        <td id=\"T_d1907_row4_col85\" class=\"data row4 col85\" >0.000000</td>\n",
       "                        <td id=\"T_d1907_row4_col86\" class=\"data row4 col86\" >0.000000</td>\n",
       "                        <td id=\"T_d1907_row4_col87\" class=\"data row4 col87\" >0.000000</td>\n",
       "                        <td id=\"T_d1907_row4_col88\" class=\"data row4 col88\" >0.000000</td>\n",
       "                        <td id=\"T_d1907_row4_col89\" class=\"data row4 col89\" >0.000000</td>\n",
       "                        <td id=\"T_d1907_row4_col90\" class=\"data row4 col90\" >0.000000</td>\n",
       "                        <td id=\"T_d1907_row4_col91\" class=\"data row4 col91\" >0.000000</td>\n",
       "                        <td id=\"T_d1907_row4_col92\" class=\"data row4 col92\" >0.000000</td>\n",
       "                        <td id=\"T_d1907_row4_col93\" class=\"data row4 col93\" >0.000000</td>\n",
       "                        <td id=\"T_d1907_row4_col94\" class=\"data row4 col94\" >0.000000</td>\n",
       "                        <td id=\"T_d1907_row4_col95\" class=\"data row4 col95\" >0.000000</td>\n",
       "                        <td id=\"T_d1907_row4_col96\" class=\"data row4 col96\" >0.000000</td>\n",
       "                        <td id=\"T_d1907_row4_col97\" class=\"data row4 col97\" >0.000000</td>\n",
       "                        <td id=\"T_d1907_row4_col98\" class=\"data row4 col98\" >0.000000</td>\n",
       "                        <td id=\"T_d1907_row4_col99\" class=\"data row4 col99\" >0.000000</td>\n",
       "                        <td id=\"T_d1907_row4_col100\" class=\"data row4 col100\" >0.000000</td>\n",
       "                        <td id=\"T_d1907_row4_col101\" class=\"data row4 col101\" >0.000000</td>\n",
       "                        <td id=\"T_d1907_row4_col102\" class=\"data row4 col102\" >0.000000</td>\n",
       "                        <td id=\"T_d1907_row4_col103\" class=\"data row4 col103\" >0.000000</td>\n",
       "                        <td id=\"T_d1907_row4_col104\" class=\"data row4 col104\" >0.000000</td>\n",
       "                        <td id=\"T_d1907_row4_col105\" class=\"data row4 col105\" >0.000000</td>\n",
       "                        <td id=\"T_d1907_row4_col106\" class=\"data row4 col106\" >1.000000</td>\n",
       "                        <td id=\"T_d1907_row4_col107\" class=\"data row4 col107\" >0.000000</td>\n",
       "                        <td id=\"T_d1907_row4_col108\" class=\"data row4 col108\" >0.000000</td>\n",
       "                        <td id=\"T_d1907_row4_col109\" class=\"data row4 col109\" >0.000000</td>\n",
       "                        <td id=\"T_d1907_row4_col110\" class=\"data row4 col110\" >0.000000</td>\n",
       "                        <td id=\"T_d1907_row4_col111\" class=\"data row4 col111\" >0.000000</td>\n",
       "                        <td id=\"T_d1907_row4_col112\" class=\"data row4 col112\" >0.000000</td>\n",
       "                        <td id=\"T_d1907_row4_col113\" class=\"data row4 col113\" >0.000000</td>\n",
       "                        <td id=\"T_d1907_row4_col114\" class=\"data row4 col114\" >0.000000</td>\n",
       "                        <td id=\"T_d1907_row4_col115\" class=\"data row4 col115\" >0.000000</td>\n",
       "                        <td id=\"T_d1907_row4_col116\" class=\"data row4 col116\" >0.000000</td>\n",
       "                        <td id=\"T_d1907_row4_col117\" class=\"data row4 col117\" >0.000000</td>\n",
       "                        <td id=\"T_d1907_row4_col118\" class=\"data row4 col118\" >0.000000</td>\n",
       "                        <td id=\"T_d1907_row4_col119\" class=\"data row4 col119\" >0.000000</td>\n",
       "                        <td id=\"T_d1907_row4_col120\" class=\"data row4 col120\" >0.000000</td>\n",
       "                        <td id=\"T_d1907_row4_col121\" class=\"data row4 col121\" >0.000000</td>\n",
       "                        <td id=\"T_d1907_row4_col122\" class=\"data row4 col122\" >0.000000</td>\n",
       "                        <td id=\"T_d1907_row4_col123\" class=\"data row4 col123\" >0.000000</td>\n",
       "                        <td id=\"T_d1907_row4_col124\" class=\"data row4 col124\" >0.000000</td>\n",
       "                        <td id=\"T_d1907_row4_col125\" class=\"data row4 col125\" >0.000000</td>\n",
       "                        <td id=\"T_d1907_row4_col126\" class=\"data row4 col126\" >0.000000</td>\n",
       "                        <td id=\"T_d1907_row4_col127\" class=\"data row4 col127\" >0.000000</td>\n",
       "                        <td id=\"T_d1907_row4_col128\" class=\"data row4 col128\" >0.000000</td>\n",
       "                        <td id=\"T_d1907_row4_col129\" class=\"data row4 col129\" >0.000000</td>\n",
       "                        <td id=\"T_d1907_row4_col130\" class=\"data row4 col130\" >0.000000</td>\n",
       "                        <td id=\"T_d1907_row4_col131\" class=\"data row4 col131\" >0.000000</td>\n",
       "                        <td id=\"T_d1907_row4_col132\" class=\"data row4 col132\" >0.000000</td>\n",
       "                        <td id=\"T_d1907_row4_col133\" class=\"data row4 col133\" >0.000000</td>\n",
       "                        <td id=\"T_d1907_row4_col134\" class=\"data row4 col134\" >0.000000</td>\n",
       "                        <td id=\"T_d1907_row4_col135\" class=\"data row4 col135\" >0.000000</td>\n",
       "                        <td id=\"T_d1907_row4_col136\" class=\"data row4 col136\" >0.000000</td>\n",
       "                        <td id=\"T_d1907_row4_col137\" class=\"data row4 col137\" >0.000000</td>\n",
       "                        <td id=\"T_d1907_row4_col138\" class=\"data row4 col138\" >0.000000</td>\n",
       "                        <td id=\"T_d1907_row4_col139\" class=\"data row4 col139\" >0.000000</td>\n",
       "                        <td id=\"T_d1907_row4_col140\" class=\"data row4 col140\" >0.000000</td>\n",
       "                        <td id=\"T_d1907_row4_col141\" class=\"data row4 col141\" >0.000000</td>\n",
       "                        <td id=\"T_d1907_row4_col142\" class=\"data row4 col142\" >0.000000</td>\n",
       "                        <td id=\"T_d1907_row4_col143\" class=\"data row4 col143\" >0.000000</td>\n",
       "                        <td id=\"T_d1907_row4_col144\" class=\"data row4 col144\" >0.000000</td>\n",
       "                        <td id=\"T_d1907_row4_col145\" class=\"data row4 col145\" >0.000000</td>\n",
       "                        <td id=\"T_d1907_row4_col146\" class=\"data row4 col146\" >0.000000</td>\n",
       "                        <td id=\"T_d1907_row4_col147\" class=\"data row4 col147\" >0.000000</td>\n",
       "                        <td id=\"T_d1907_row4_col148\" class=\"data row4 col148\" >0.000000</td>\n",
       "                        <td id=\"T_d1907_row4_col149\" class=\"data row4 col149\" >1.000000</td>\n",
       "                        <td id=\"T_d1907_row4_col150\" class=\"data row4 col150\" >0.000000</td>\n",
       "                        <td id=\"T_d1907_row4_col151\" class=\"data row4 col151\" >0.000000</td>\n",
       "                        <td id=\"T_d1907_row4_col152\" class=\"data row4 col152\" >0.000000</td>\n",
       "                        <td id=\"T_d1907_row4_col153\" class=\"data row4 col153\" >0.000000</td>\n",
       "                        <td id=\"T_d1907_row4_col154\" class=\"data row4 col154\" >0.000000</td>\n",
       "                        <td id=\"T_d1907_row4_col155\" class=\"data row4 col155\" >0.000000</td>\n",
       "                        <td id=\"T_d1907_row4_col156\" class=\"data row4 col156\" >0.000000</td>\n",
       "                        <td id=\"T_d1907_row4_col157\" class=\"data row4 col157\" >0.000000</td>\n",
       "                        <td id=\"T_d1907_row4_col158\" class=\"data row4 col158\" >0.000000</td>\n",
       "                        <td id=\"T_d1907_row4_col159\" class=\"data row4 col159\" >0.000000</td>\n",
       "                        <td id=\"T_d1907_row4_col160\" class=\"data row4 col160\" >0.000000</td>\n",
       "                        <td id=\"T_d1907_row4_col161\" class=\"data row4 col161\" >0.000000</td>\n",
       "                        <td id=\"T_d1907_row4_col162\" class=\"data row4 col162\" >0.000000</td>\n",
       "                        <td id=\"T_d1907_row4_col163\" class=\"data row4 col163\" >0.000000</td>\n",
       "                        <td id=\"T_d1907_row4_col164\" class=\"data row4 col164\" >0.000000</td>\n",
       "                        <td id=\"T_d1907_row4_col165\" class=\"data row4 col165\" >0.000000</td>\n",
       "                        <td id=\"T_d1907_row4_col166\" class=\"data row4 col166\" >0.000000</td>\n",
       "                        <td id=\"T_d1907_row4_col167\" class=\"data row4 col167\" >0.000000</td>\n",
       "                        <td id=\"T_d1907_row4_col168\" class=\"data row4 col168\" >0.000000</td>\n",
       "                        <td id=\"T_d1907_row4_col169\" class=\"data row4 col169\" >0.000000</td>\n",
       "                        <td id=\"T_d1907_row4_col170\" class=\"data row4 col170\" >0.000000</td>\n",
       "                        <td id=\"T_d1907_row4_col171\" class=\"data row4 col171\" >1.000000</td>\n",
       "                        <td id=\"T_d1907_row4_col172\" class=\"data row4 col172\" >0.000000</td>\n",
       "                        <td id=\"T_d1907_row4_col173\" class=\"data row4 col173\" >0.000000</td>\n",
       "                        <td id=\"T_d1907_row4_col174\" class=\"data row4 col174\" >1.000000</td>\n",
       "                        <td id=\"T_d1907_row4_col175\" class=\"data row4 col175\" >0.000000</td>\n",
       "                        <td id=\"T_d1907_row4_col176\" class=\"data row4 col176\" >1.000000</td>\n",
       "                        <td id=\"T_d1907_row4_col177\" class=\"data row4 col177\" >0.000000</td>\n",
       "                        <td id=\"T_d1907_row4_col178\" class=\"data row4 col178\" >0.000000</td>\n",
       "                        <td id=\"T_d1907_row4_col179\" class=\"data row4 col179\" >1.000000</td>\n",
       "                        <td id=\"T_d1907_row4_col180\" class=\"data row4 col180\" >0.000000</td>\n",
       "                        <td id=\"T_d1907_row4_col181\" class=\"data row4 col181\" >0.436302</td>\n",
       "                        <td id=\"T_d1907_row4_col182\" class=\"data row4 col182\" >0.000000</td>\n",
       "                        <td id=\"T_d1907_row4_col183\" class=\"data row4 col183\" >0.000000</td>\n",
       "                        <td id=\"T_d1907_row4_col184\" class=\"data row4 col184\" >0.312693</td>\n",
       "                        <td id=\"T_d1907_row4_col185\" class=\"data row4 col185\" >0.000000</td>\n",
       "                        <td id=\"T_d1907_row4_col186\" class=\"data row4 col186\" >1</td>\n",
       "                        <td id=\"T_d1907_row4_col187\" class=\"data row4 col187\" >0</td>\n",
       "                        <td id=\"T_d1907_row4_col188\" class=\"data row4 col188\" >1</td>\n",
       "                        <td id=\"T_d1907_row4_col189\" class=\"data row4 col189\" >0.000000</td>\n",
       "            </tr>\n",
       "            <tr>\n",
       "                        <th id=\"T_d1907_level0_row5\" class=\"row_heading level0 row5\" >6</th>\n",
       "                        <td id=\"T_d1907_row5_col0\" class=\"data row5 col0\" >0.000000</td>\n",
       "                        <td id=\"T_d1907_row5_col1\" class=\"data row5 col1\" >0.000000</td>\n",
       "                        <td id=\"T_d1907_row5_col2\" class=\"data row5 col2\" >1.000000</td>\n",
       "                        <td id=\"T_d1907_row5_col3\" class=\"data row5 col3\" >0.000000</td>\n",
       "                        <td id=\"T_d1907_row5_col4\" class=\"data row5 col4\" >0.000000</td>\n",
       "                        <td id=\"T_d1907_row5_col5\" class=\"data row5 col5\" >0.000000</td>\n",
       "                        <td id=\"T_d1907_row5_col6\" class=\"data row5 col6\" >0.000000</td>\n",
       "                        <td id=\"T_d1907_row5_col7\" class=\"data row5 col7\" >0.000000</td>\n",
       "                        <td id=\"T_d1907_row5_col8\" class=\"data row5 col8\" >0.000000</td>\n",
       "                        <td id=\"T_d1907_row5_col9\" class=\"data row5 col9\" >0.000000</td>\n",
       "                        <td id=\"T_d1907_row5_col10\" class=\"data row5 col10\" >0.000000</td>\n",
       "                        <td id=\"T_d1907_row5_col11\" class=\"data row5 col11\" >0.000000</td>\n",
       "                        <td id=\"T_d1907_row5_col12\" class=\"data row5 col12\" >0.000000</td>\n",
       "                        <td id=\"T_d1907_row5_col13\" class=\"data row5 col13\" >0.000000</td>\n",
       "                        <td id=\"T_d1907_row5_col14\" class=\"data row5 col14\" >0.000000</td>\n",
       "                        <td id=\"T_d1907_row5_col15\" class=\"data row5 col15\" >0.000000</td>\n",
       "                        <td id=\"T_d1907_row5_col16\" class=\"data row5 col16\" >0.000000</td>\n",
       "                        <td id=\"T_d1907_row5_col17\" class=\"data row5 col17\" >0.000000</td>\n",
       "                        <td id=\"T_d1907_row5_col18\" class=\"data row5 col18\" >0.000000</td>\n",
       "                        <td id=\"T_d1907_row5_col19\" class=\"data row5 col19\" >0.000000</td>\n",
       "                        <td id=\"T_d1907_row5_col20\" class=\"data row5 col20\" >0.000000</td>\n",
       "                        <td id=\"T_d1907_row5_col21\" class=\"data row5 col21\" >0.000000</td>\n",
       "                        <td id=\"T_d1907_row5_col22\" class=\"data row5 col22\" >0.000000</td>\n",
       "                        <td id=\"T_d1907_row5_col23\" class=\"data row5 col23\" >0.000000</td>\n",
       "                        <td id=\"T_d1907_row5_col24\" class=\"data row5 col24\" >0.000000</td>\n",
       "                        <td id=\"T_d1907_row5_col25\" class=\"data row5 col25\" >0.000000</td>\n",
       "                        <td id=\"T_d1907_row5_col26\" class=\"data row5 col26\" >0.000000</td>\n",
       "                        <td id=\"T_d1907_row5_col27\" class=\"data row5 col27\" >0.000000</td>\n",
       "                        <td id=\"T_d1907_row5_col28\" class=\"data row5 col28\" >0.000000</td>\n",
       "                        <td id=\"T_d1907_row5_col29\" class=\"data row5 col29\" >0.000000</td>\n",
       "                        <td id=\"T_d1907_row5_col30\" class=\"data row5 col30\" >0.000000</td>\n",
       "                        <td id=\"T_d1907_row5_col31\" class=\"data row5 col31\" >0.000000</td>\n",
       "                        <td id=\"T_d1907_row5_col32\" class=\"data row5 col32\" >0.000000</td>\n",
       "                        <td id=\"T_d1907_row5_col33\" class=\"data row5 col33\" >0.000000</td>\n",
       "                        <td id=\"T_d1907_row5_col34\" class=\"data row5 col34\" >0.000000</td>\n",
       "                        <td id=\"T_d1907_row5_col35\" class=\"data row5 col35\" >0.000000</td>\n",
       "                        <td id=\"T_d1907_row5_col36\" class=\"data row5 col36\" >0.000000</td>\n",
       "                        <td id=\"T_d1907_row5_col37\" class=\"data row5 col37\" >0.000000</td>\n",
       "                        <td id=\"T_d1907_row5_col38\" class=\"data row5 col38\" >0.000000</td>\n",
       "                        <td id=\"T_d1907_row5_col39\" class=\"data row5 col39\" >0.000000</td>\n",
       "                        <td id=\"T_d1907_row5_col40\" class=\"data row5 col40\" >0.000000</td>\n",
       "                        <td id=\"T_d1907_row5_col41\" class=\"data row5 col41\" >0.000000</td>\n",
       "                        <td id=\"T_d1907_row5_col42\" class=\"data row5 col42\" >0.000000</td>\n",
       "                        <td id=\"T_d1907_row5_col43\" class=\"data row5 col43\" >0.000000</td>\n",
       "                        <td id=\"T_d1907_row5_col44\" class=\"data row5 col44\" >0.000000</td>\n",
       "                        <td id=\"T_d1907_row5_col45\" class=\"data row5 col45\" >0.000000</td>\n",
       "                        <td id=\"T_d1907_row5_col46\" class=\"data row5 col46\" >0.000000</td>\n",
       "                        <td id=\"T_d1907_row5_col47\" class=\"data row5 col47\" >0.000000</td>\n",
       "                        <td id=\"T_d1907_row5_col48\" class=\"data row5 col48\" >0.000000</td>\n",
       "                        <td id=\"T_d1907_row5_col49\" class=\"data row5 col49\" >0.000000</td>\n",
       "                        <td id=\"T_d1907_row5_col50\" class=\"data row5 col50\" >0.000000</td>\n",
       "                        <td id=\"T_d1907_row5_col51\" class=\"data row5 col51\" >0.000000</td>\n",
       "                        <td id=\"T_d1907_row5_col52\" class=\"data row5 col52\" >0.000000</td>\n",
       "                        <td id=\"T_d1907_row5_col53\" class=\"data row5 col53\" >0.000000</td>\n",
       "                        <td id=\"T_d1907_row5_col54\" class=\"data row5 col54\" >0.000000</td>\n",
       "                        <td id=\"T_d1907_row5_col55\" class=\"data row5 col55\" >0.000000</td>\n",
       "                        <td id=\"T_d1907_row5_col56\" class=\"data row5 col56\" >0.000000</td>\n",
       "                        <td id=\"T_d1907_row5_col57\" class=\"data row5 col57\" >0.000000</td>\n",
       "                        <td id=\"T_d1907_row5_col58\" class=\"data row5 col58\" >0.000000</td>\n",
       "                        <td id=\"T_d1907_row5_col59\" class=\"data row5 col59\" >0.000000</td>\n",
       "                        <td id=\"T_d1907_row5_col60\" class=\"data row5 col60\" >0.000000</td>\n",
       "                        <td id=\"T_d1907_row5_col61\" class=\"data row5 col61\" >0.000000</td>\n",
       "                        <td id=\"T_d1907_row5_col62\" class=\"data row5 col62\" >0.000000</td>\n",
       "                        <td id=\"T_d1907_row5_col63\" class=\"data row5 col63\" >0.000000</td>\n",
       "                        <td id=\"T_d1907_row5_col64\" class=\"data row5 col64\" >0.000000</td>\n",
       "                        <td id=\"T_d1907_row5_col65\" class=\"data row5 col65\" >0.000000</td>\n",
       "                        <td id=\"T_d1907_row5_col66\" class=\"data row5 col66\" >0.000000</td>\n",
       "                        <td id=\"T_d1907_row5_col67\" class=\"data row5 col67\" >0.000000</td>\n",
       "                        <td id=\"T_d1907_row5_col68\" class=\"data row5 col68\" >0.000000</td>\n",
       "                        <td id=\"T_d1907_row5_col69\" class=\"data row5 col69\" >0.000000</td>\n",
       "                        <td id=\"T_d1907_row5_col70\" class=\"data row5 col70\" >0.000000</td>\n",
       "                        <td id=\"T_d1907_row5_col71\" class=\"data row5 col71\" >0.000000</td>\n",
       "                        <td id=\"T_d1907_row5_col72\" class=\"data row5 col72\" >0.000000</td>\n",
       "                        <td id=\"T_d1907_row5_col73\" class=\"data row5 col73\" >0.000000</td>\n",
       "                        <td id=\"T_d1907_row5_col74\" class=\"data row5 col74\" >0.000000</td>\n",
       "                        <td id=\"T_d1907_row5_col75\" class=\"data row5 col75\" >0.000000</td>\n",
       "                        <td id=\"T_d1907_row5_col76\" class=\"data row5 col76\" >0.000000</td>\n",
       "                        <td id=\"T_d1907_row5_col77\" class=\"data row5 col77\" >0.000000</td>\n",
       "                        <td id=\"T_d1907_row5_col78\" class=\"data row5 col78\" >0.000000</td>\n",
       "                        <td id=\"T_d1907_row5_col79\" class=\"data row5 col79\" >0.000000</td>\n",
       "                        <td id=\"T_d1907_row5_col80\" class=\"data row5 col80\" >0.000000</td>\n",
       "                        <td id=\"T_d1907_row5_col81\" class=\"data row5 col81\" >0.000000</td>\n",
       "                        <td id=\"T_d1907_row5_col82\" class=\"data row5 col82\" >0.000000</td>\n",
       "                        <td id=\"T_d1907_row5_col83\" class=\"data row5 col83\" >0.000000</td>\n",
       "                        <td id=\"T_d1907_row5_col84\" class=\"data row5 col84\" >0.000000</td>\n",
       "                        <td id=\"T_d1907_row5_col85\" class=\"data row5 col85\" >0.000000</td>\n",
       "                        <td id=\"T_d1907_row5_col86\" class=\"data row5 col86\" >0.000000</td>\n",
       "                        <td id=\"T_d1907_row5_col87\" class=\"data row5 col87\" >0.000000</td>\n",
       "                        <td id=\"T_d1907_row5_col88\" class=\"data row5 col88\" >0.000000</td>\n",
       "                        <td id=\"T_d1907_row5_col89\" class=\"data row5 col89\" >0.000000</td>\n",
       "                        <td id=\"T_d1907_row5_col90\" class=\"data row5 col90\" >0.000000</td>\n",
       "                        <td id=\"T_d1907_row5_col91\" class=\"data row5 col91\" >0.000000</td>\n",
       "                        <td id=\"T_d1907_row5_col92\" class=\"data row5 col92\" >0.000000</td>\n",
       "                        <td id=\"T_d1907_row5_col93\" class=\"data row5 col93\" >0.000000</td>\n",
       "                        <td id=\"T_d1907_row5_col94\" class=\"data row5 col94\" >0.000000</td>\n",
       "                        <td id=\"T_d1907_row5_col95\" class=\"data row5 col95\" >0.000000</td>\n",
       "                        <td id=\"T_d1907_row5_col96\" class=\"data row5 col96\" >0.000000</td>\n",
       "                        <td id=\"T_d1907_row5_col97\" class=\"data row5 col97\" >0.000000</td>\n",
       "                        <td id=\"T_d1907_row5_col98\" class=\"data row5 col98\" >0.000000</td>\n",
       "                        <td id=\"T_d1907_row5_col99\" class=\"data row5 col99\" >0.000000</td>\n",
       "                        <td id=\"T_d1907_row5_col100\" class=\"data row5 col100\" >0.000000</td>\n",
       "                        <td id=\"T_d1907_row5_col101\" class=\"data row5 col101\" >0.000000</td>\n",
       "                        <td id=\"T_d1907_row5_col102\" class=\"data row5 col102\" >0.000000</td>\n",
       "                        <td id=\"T_d1907_row5_col103\" class=\"data row5 col103\" >0.000000</td>\n",
       "                        <td id=\"T_d1907_row5_col104\" class=\"data row5 col104\" >0.000000</td>\n",
       "                        <td id=\"T_d1907_row5_col105\" class=\"data row5 col105\" >0.000000</td>\n",
       "                        <td id=\"T_d1907_row5_col106\" class=\"data row5 col106\" >1.000000</td>\n",
       "                        <td id=\"T_d1907_row5_col107\" class=\"data row5 col107\" >0.000000</td>\n",
       "                        <td id=\"T_d1907_row5_col108\" class=\"data row5 col108\" >0.000000</td>\n",
       "                        <td id=\"T_d1907_row5_col109\" class=\"data row5 col109\" >0.000000</td>\n",
       "                        <td id=\"T_d1907_row5_col110\" class=\"data row5 col110\" >0.000000</td>\n",
       "                        <td id=\"T_d1907_row5_col111\" class=\"data row5 col111\" >0.000000</td>\n",
       "                        <td id=\"T_d1907_row5_col112\" class=\"data row5 col112\" >0.000000</td>\n",
       "                        <td id=\"T_d1907_row5_col113\" class=\"data row5 col113\" >0.000000</td>\n",
       "                        <td id=\"T_d1907_row5_col114\" class=\"data row5 col114\" >0.000000</td>\n",
       "                        <td id=\"T_d1907_row5_col115\" class=\"data row5 col115\" >0.000000</td>\n",
       "                        <td id=\"T_d1907_row5_col116\" class=\"data row5 col116\" >0.000000</td>\n",
       "                        <td id=\"T_d1907_row5_col117\" class=\"data row5 col117\" >0.000000</td>\n",
       "                        <td id=\"T_d1907_row5_col118\" class=\"data row5 col118\" >0.000000</td>\n",
       "                        <td id=\"T_d1907_row5_col119\" class=\"data row5 col119\" >0.000000</td>\n",
       "                        <td id=\"T_d1907_row5_col120\" class=\"data row5 col120\" >0.000000</td>\n",
       "                        <td id=\"T_d1907_row5_col121\" class=\"data row5 col121\" >0.000000</td>\n",
       "                        <td id=\"T_d1907_row5_col122\" class=\"data row5 col122\" >0.000000</td>\n",
       "                        <td id=\"T_d1907_row5_col123\" class=\"data row5 col123\" >0.000000</td>\n",
       "                        <td id=\"T_d1907_row5_col124\" class=\"data row5 col124\" >0.000000</td>\n",
       "                        <td id=\"T_d1907_row5_col125\" class=\"data row5 col125\" >0.000000</td>\n",
       "                        <td id=\"T_d1907_row5_col126\" class=\"data row5 col126\" >0.000000</td>\n",
       "                        <td id=\"T_d1907_row5_col127\" class=\"data row5 col127\" >0.000000</td>\n",
       "                        <td id=\"T_d1907_row5_col128\" class=\"data row5 col128\" >0.000000</td>\n",
       "                        <td id=\"T_d1907_row5_col129\" class=\"data row5 col129\" >0.000000</td>\n",
       "                        <td id=\"T_d1907_row5_col130\" class=\"data row5 col130\" >0.000000</td>\n",
       "                        <td id=\"T_d1907_row5_col131\" class=\"data row5 col131\" >0.000000</td>\n",
       "                        <td id=\"T_d1907_row5_col132\" class=\"data row5 col132\" >0.000000</td>\n",
       "                        <td id=\"T_d1907_row5_col133\" class=\"data row5 col133\" >0.000000</td>\n",
       "                        <td id=\"T_d1907_row5_col134\" class=\"data row5 col134\" >0.000000</td>\n",
       "                        <td id=\"T_d1907_row5_col135\" class=\"data row5 col135\" >0.000000</td>\n",
       "                        <td id=\"T_d1907_row5_col136\" class=\"data row5 col136\" >0.000000</td>\n",
       "                        <td id=\"T_d1907_row5_col137\" class=\"data row5 col137\" >0.000000</td>\n",
       "                        <td id=\"T_d1907_row5_col138\" class=\"data row5 col138\" >0.000000</td>\n",
       "                        <td id=\"T_d1907_row5_col139\" class=\"data row5 col139\" >0.000000</td>\n",
       "                        <td id=\"T_d1907_row5_col140\" class=\"data row5 col140\" >0.000000</td>\n",
       "                        <td id=\"T_d1907_row5_col141\" class=\"data row5 col141\" >0.000000</td>\n",
       "                        <td id=\"T_d1907_row5_col142\" class=\"data row5 col142\" >0.000000</td>\n",
       "                        <td id=\"T_d1907_row5_col143\" class=\"data row5 col143\" >0.000000</td>\n",
       "                        <td id=\"T_d1907_row5_col144\" class=\"data row5 col144\" >0.000000</td>\n",
       "                        <td id=\"T_d1907_row5_col145\" class=\"data row5 col145\" >0.000000</td>\n",
       "                        <td id=\"T_d1907_row5_col146\" class=\"data row5 col146\" >0.000000</td>\n",
       "                        <td id=\"T_d1907_row5_col147\" class=\"data row5 col147\" >0.000000</td>\n",
       "                        <td id=\"T_d1907_row5_col148\" class=\"data row5 col148\" >0.000000</td>\n",
       "                        <td id=\"T_d1907_row5_col149\" class=\"data row5 col149\" >1.000000</td>\n",
       "                        <td id=\"T_d1907_row5_col150\" class=\"data row5 col150\" >0.000000</td>\n",
       "                        <td id=\"T_d1907_row5_col151\" class=\"data row5 col151\" >0.000000</td>\n",
       "                        <td id=\"T_d1907_row5_col152\" class=\"data row5 col152\" >0.000000</td>\n",
       "                        <td id=\"T_d1907_row5_col153\" class=\"data row5 col153\" >0.000000</td>\n",
       "                        <td id=\"T_d1907_row5_col154\" class=\"data row5 col154\" >0.000000</td>\n",
       "                        <td id=\"T_d1907_row5_col155\" class=\"data row5 col155\" >0.000000</td>\n",
       "                        <td id=\"T_d1907_row5_col156\" class=\"data row5 col156\" >0.000000</td>\n",
       "                        <td id=\"T_d1907_row5_col157\" class=\"data row5 col157\" >0.000000</td>\n",
       "                        <td id=\"T_d1907_row5_col158\" class=\"data row5 col158\" >0.000000</td>\n",
       "                        <td id=\"T_d1907_row5_col159\" class=\"data row5 col159\" >0.000000</td>\n",
       "                        <td id=\"T_d1907_row5_col160\" class=\"data row5 col160\" >0.000000</td>\n",
       "                        <td id=\"T_d1907_row5_col161\" class=\"data row5 col161\" >0.000000</td>\n",
       "                        <td id=\"T_d1907_row5_col162\" class=\"data row5 col162\" >0.000000</td>\n",
       "                        <td id=\"T_d1907_row5_col163\" class=\"data row5 col163\" >0.000000</td>\n",
       "                        <td id=\"T_d1907_row5_col164\" class=\"data row5 col164\" >0.000000</td>\n",
       "                        <td id=\"T_d1907_row5_col165\" class=\"data row5 col165\" >0.000000</td>\n",
       "                        <td id=\"T_d1907_row5_col166\" class=\"data row5 col166\" >0.000000</td>\n",
       "                        <td id=\"T_d1907_row5_col167\" class=\"data row5 col167\" >0.000000</td>\n",
       "                        <td id=\"T_d1907_row5_col168\" class=\"data row5 col168\" >0.000000</td>\n",
       "                        <td id=\"T_d1907_row5_col169\" class=\"data row5 col169\" >0.000000</td>\n",
       "                        <td id=\"T_d1907_row5_col170\" class=\"data row5 col170\" >0.000000</td>\n",
       "                        <td id=\"T_d1907_row5_col171\" class=\"data row5 col171\" >1.000000</td>\n",
       "                        <td id=\"T_d1907_row5_col172\" class=\"data row5 col172\" >0.000000</td>\n",
       "                        <td id=\"T_d1907_row5_col173\" class=\"data row5 col173\" >1.000000</td>\n",
       "                        <td id=\"T_d1907_row5_col174\" class=\"data row5 col174\" >0.000000</td>\n",
       "                        <td id=\"T_d1907_row5_col175\" class=\"data row5 col175\" >0.000000</td>\n",
       "                        <td id=\"T_d1907_row5_col176\" class=\"data row5 col176\" >1.000000</td>\n",
       "                        <td id=\"T_d1907_row5_col177\" class=\"data row5 col177\" >0.000000</td>\n",
       "                        <td id=\"T_d1907_row5_col178\" class=\"data row5 col178\" >0.000000</td>\n",
       "                        <td id=\"T_d1907_row5_col179\" class=\"data row5 col179\" >1.000000</td>\n",
       "                        <td id=\"T_d1907_row5_col180\" class=\"data row5 col180\" >0.000000</td>\n",
       "                        <td id=\"T_d1907_row5_col181\" class=\"data row5 col181\" >0.311036</td>\n",
       "                        <td id=\"T_d1907_row5_col182\" class=\"data row5 col182\" >0.000000</td>\n",
       "                        <td id=\"T_d1907_row5_col183\" class=\"data row5 col183\" >0.000000</td>\n",
       "                        <td id=\"T_d1907_row5_col184\" class=\"data row5 col184\" >0.319659</td>\n",
       "                        <td id=\"T_d1907_row5_col185\" class=\"data row5 col185\" >0.000000</td>\n",
       "                        <td id=\"T_d1907_row5_col186\" class=\"data row5 col186\" >1</td>\n",
       "                        <td id=\"T_d1907_row5_col187\" class=\"data row5 col187\" >0</td>\n",
       "                        <td id=\"T_d1907_row5_col188\" class=\"data row5 col188\" >1</td>\n",
       "                        <td id=\"T_d1907_row5_col189\" class=\"data row5 col189\" >0.000000</td>\n",
       "            </tr>\n",
       "            <tr>\n",
       "                        <th id=\"T_d1907_level0_row6\" class=\"row_heading level0 row6\" >7</th>\n",
       "                        <td id=\"T_d1907_row6_col0\" class=\"data row6 col0\" >0.000000</td>\n",
       "                        <td id=\"T_d1907_row6_col1\" class=\"data row6 col1\" >0.000000</td>\n",
       "                        <td id=\"T_d1907_row6_col2\" class=\"data row6 col2\" >1.000000</td>\n",
       "                        <td id=\"T_d1907_row6_col3\" class=\"data row6 col3\" >0.000000</td>\n",
       "                        <td id=\"T_d1907_row6_col4\" class=\"data row6 col4\" >0.000000</td>\n",
       "                        <td id=\"T_d1907_row6_col5\" class=\"data row6 col5\" >0.000000</td>\n",
       "                        <td id=\"T_d1907_row6_col6\" class=\"data row6 col6\" >0.000000</td>\n",
       "                        <td id=\"T_d1907_row6_col7\" class=\"data row6 col7\" >0.000000</td>\n",
       "                        <td id=\"T_d1907_row6_col8\" class=\"data row6 col8\" >0.000000</td>\n",
       "                        <td id=\"T_d1907_row6_col9\" class=\"data row6 col9\" >0.000000</td>\n",
       "                        <td id=\"T_d1907_row6_col10\" class=\"data row6 col10\" >0.000000</td>\n",
       "                        <td id=\"T_d1907_row6_col11\" class=\"data row6 col11\" >0.000000</td>\n",
       "                        <td id=\"T_d1907_row6_col12\" class=\"data row6 col12\" >0.000000</td>\n",
       "                        <td id=\"T_d1907_row6_col13\" class=\"data row6 col13\" >0.000000</td>\n",
       "                        <td id=\"T_d1907_row6_col14\" class=\"data row6 col14\" >0.000000</td>\n",
       "                        <td id=\"T_d1907_row6_col15\" class=\"data row6 col15\" >0.000000</td>\n",
       "                        <td id=\"T_d1907_row6_col16\" class=\"data row6 col16\" >0.000000</td>\n",
       "                        <td id=\"T_d1907_row6_col17\" class=\"data row6 col17\" >0.000000</td>\n",
       "                        <td id=\"T_d1907_row6_col18\" class=\"data row6 col18\" >0.000000</td>\n",
       "                        <td id=\"T_d1907_row6_col19\" class=\"data row6 col19\" >0.000000</td>\n",
       "                        <td id=\"T_d1907_row6_col20\" class=\"data row6 col20\" >0.000000</td>\n",
       "                        <td id=\"T_d1907_row6_col21\" class=\"data row6 col21\" >0.000000</td>\n",
       "                        <td id=\"T_d1907_row6_col22\" class=\"data row6 col22\" >0.000000</td>\n",
       "                        <td id=\"T_d1907_row6_col23\" class=\"data row6 col23\" >0.000000</td>\n",
       "                        <td id=\"T_d1907_row6_col24\" class=\"data row6 col24\" >0.000000</td>\n",
       "                        <td id=\"T_d1907_row6_col25\" class=\"data row6 col25\" >0.000000</td>\n",
       "                        <td id=\"T_d1907_row6_col26\" class=\"data row6 col26\" >0.000000</td>\n",
       "                        <td id=\"T_d1907_row6_col27\" class=\"data row6 col27\" >0.000000</td>\n",
       "                        <td id=\"T_d1907_row6_col28\" class=\"data row6 col28\" >0.000000</td>\n",
       "                        <td id=\"T_d1907_row6_col29\" class=\"data row6 col29\" >0.000000</td>\n",
       "                        <td id=\"T_d1907_row6_col30\" class=\"data row6 col30\" >0.000000</td>\n",
       "                        <td id=\"T_d1907_row6_col31\" class=\"data row6 col31\" >0.000000</td>\n",
       "                        <td id=\"T_d1907_row6_col32\" class=\"data row6 col32\" >0.000000</td>\n",
       "                        <td id=\"T_d1907_row6_col33\" class=\"data row6 col33\" >0.000000</td>\n",
       "                        <td id=\"T_d1907_row6_col34\" class=\"data row6 col34\" >0.000000</td>\n",
       "                        <td id=\"T_d1907_row6_col35\" class=\"data row6 col35\" >0.000000</td>\n",
       "                        <td id=\"T_d1907_row6_col36\" class=\"data row6 col36\" >0.000000</td>\n",
       "                        <td id=\"T_d1907_row6_col37\" class=\"data row6 col37\" >0.000000</td>\n",
       "                        <td id=\"T_d1907_row6_col38\" class=\"data row6 col38\" >0.000000</td>\n",
       "                        <td id=\"T_d1907_row6_col39\" class=\"data row6 col39\" >0.000000</td>\n",
       "                        <td id=\"T_d1907_row6_col40\" class=\"data row6 col40\" >0.000000</td>\n",
       "                        <td id=\"T_d1907_row6_col41\" class=\"data row6 col41\" >0.000000</td>\n",
       "                        <td id=\"T_d1907_row6_col42\" class=\"data row6 col42\" >0.000000</td>\n",
       "                        <td id=\"T_d1907_row6_col43\" class=\"data row6 col43\" >0.000000</td>\n",
       "                        <td id=\"T_d1907_row6_col44\" class=\"data row6 col44\" >0.000000</td>\n",
       "                        <td id=\"T_d1907_row6_col45\" class=\"data row6 col45\" >0.000000</td>\n",
       "                        <td id=\"T_d1907_row6_col46\" class=\"data row6 col46\" >0.000000</td>\n",
       "                        <td id=\"T_d1907_row6_col47\" class=\"data row6 col47\" >0.000000</td>\n",
       "                        <td id=\"T_d1907_row6_col48\" class=\"data row6 col48\" >0.000000</td>\n",
       "                        <td id=\"T_d1907_row6_col49\" class=\"data row6 col49\" >0.000000</td>\n",
       "                        <td id=\"T_d1907_row6_col50\" class=\"data row6 col50\" >0.000000</td>\n",
       "                        <td id=\"T_d1907_row6_col51\" class=\"data row6 col51\" >0.000000</td>\n",
       "                        <td id=\"T_d1907_row6_col52\" class=\"data row6 col52\" >0.000000</td>\n",
       "                        <td id=\"T_d1907_row6_col53\" class=\"data row6 col53\" >0.000000</td>\n",
       "                        <td id=\"T_d1907_row6_col54\" class=\"data row6 col54\" >0.000000</td>\n",
       "                        <td id=\"T_d1907_row6_col55\" class=\"data row6 col55\" >0.000000</td>\n",
       "                        <td id=\"T_d1907_row6_col56\" class=\"data row6 col56\" >0.000000</td>\n",
       "                        <td id=\"T_d1907_row6_col57\" class=\"data row6 col57\" >0.000000</td>\n",
       "                        <td id=\"T_d1907_row6_col58\" class=\"data row6 col58\" >0.000000</td>\n",
       "                        <td id=\"T_d1907_row6_col59\" class=\"data row6 col59\" >0.000000</td>\n",
       "                        <td id=\"T_d1907_row6_col60\" class=\"data row6 col60\" >0.000000</td>\n",
       "                        <td id=\"T_d1907_row6_col61\" class=\"data row6 col61\" >0.000000</td>\n",
       "                        <td id=\"T_d1907_row6_col62\" class=\"data row6 col62\" >0.000000</td>\n",
       "                        <td id=\"T_d1907_row6_col63\" class=\"data row6 col63\" >0.000000</td>\n",
       "                        <td id=\"T_d1907_row6_col64\" class=\"data row6 col64\" >0.000000</td>\n",
       "                        <td id=\"T_d1907_row6_col65\" class=\"data row6 col65\" >0.000000</td>\n",
       "                        <td id=\"T_d1907_row6_col66\" class=\"data row6 col66\" >0.000000</td>\n",
       "                        <td id=\"T_d1907_row6_col67\" class=\"data row6 col67\" >0.000000</td>\n",
       "                        <td id=\"T_d1907_row6_col68\" class=\"data row6 col68\" >0.000000</td>\n",
       "                        <td id=\"T_d1907_row6_col69\" class=\"data row6 col69\" >0.000000</td>\n",
       "                        <td id=\"T_d1907_row6_col70\" class=\"data row6 col70\" >0.000000</td>\n",
       "                        <td id=\"T_d1907_row6_col71\" class=\"data row6 col71\" >0.000000</td>\n",
       "                        <td id=\"T_d1907_row6_col72\" class=\"data row6 col72\" >0.000000</td>\n",
       "                        <td id=\"T_d1907_row6_col73\" class=\"data row6 col73\" >0.000000</td>\n",
       "                        <td id=\"T_d1907_row6_col74\" class=\"data row6 col74\" >0.000000</td>\n",
       "                        <td id=\"T_d1907_row6_col75\" class=\"data row6 col75\" >0.000000</td>\n",
       "                        <td id=\"T_d1907_row6_col76\" class=\"data row6 col76\" >0.000000</td>\n",
       "                        <td id=\"T_d1907_row6_col77\" class=\"data row6 col77\" >0.000000</td>\n",
       "                        <td id=\"T_d1907_row6_col78\" class=\"data row6 col78\" >0.000000</td>\n",
       "                        <td id=\"T_d1907_row6_col79\" class=\"data row6 col79\" >0.000000</td>\n",
       "                        <td id=\"T_d1907_row6_col80\" class=\"data row6 col80\" >0.000000</td>\n",
       "                        <td id=\"T_d1907_row6_col81\" class=\"data row6 col81\" >0.000000</td>\n",
       "                        <td id=\"T_d1907_row6_col82\" class=\"data row6 col82\" >0.000000</td>\n",
       "                        <td id=\"T_d1907_row6_col83\" class=\"data row6 col83\" >0.000000</td>\n",
       "                        <td id=\"T_d1907_row6_col84\" class=\"data row6 col84\" >0.000000</td>\n",
       "                        <td id=\"T_d1907_row6_col85\" class=\"data row6 col85\" >0.000000</td>\n",
       "                        <td id=\"T_d1907_row6_col86\" class=\"data row6 col86\" >0.000000</td>\n",
       "                        <td id=\"T_d1907_row6_col87\" class=\"data row6 col87\" >0.000000</td>\n",
       "                        <td id=\"T_d1907_row6_col88\" class=\"data row6 col88\" >0.000000</td>\n",
       "                        <td id=\"T_d1907_row6_col89\" class=\"data row6 col89\" >0.000000</td>\n",
       "                        <td id=\"T_d1907_row6_col90\" class=\"data row6 col90\" >0.000000</td>\n",
       "                        <td id=\"T_d1907_row6_col91\" class=\"data row6 col91\" >0.000000</td>\n",
       "                        <td id=\"T_d1907_row6_col92\" class=\"data row6 col92\" >1.000000</td>\n",
       "                        <td id=\"T_d1907_row6_col93\" class=\"data row6 col93\" >0.000000</td>\n",
       "                        <td id=\"T_d1907_row6_col94\" class=\"data row6 col94\" >0.000000</td>\n",
       "                        <td id=\"T_d1907_row6_col95\" class=\"data row6 col95\" >0.000000</td>\n",
       "                        <td id=\"T_d1907_row6_col96\" class=\"data row6 col96\" >0.000000</td>\n",
       "                        <td id=\"T_d1907_row6_col97\" class=\"data row6 col97\" >0.000000</td>\n",
       "                        <td id=\"T_d1907_row6_col98\" class=\"data row6 col98\" >0.000000</td>\n",
       "                        <td id=\"T_d1907_row6_col99\" class=\"data row6 col99\" >0.000000</td>\n",
       "                        <td id=\"T_d1907_row6_col100\" class=\"data row6 col100\" >0.000000</td>\n",
       "                        <td id=\"T_d1907_row6_col101\" class=\"data row6 col101\" >0.000000</td>\n",
       "                        <td id=\"T_d1907_row6_col102\" class=\"data row6 col102\" >0.000000</td>\n",
       "                        <td id=\"T_d1907_row6_col103\" class=\"data row6 col103\" >0.000000</td>\n",
       "                        <td id=\"T_d1907_row6_col104\" class=\"data row6 col104\" >0.000000</td>\n",
       "                        <td id=\"T_d1907_row6_col105\" class=\"data row6 col105\" >0.000000</td>\n",
       "                        <td id=\"T_d1907_row6_col106\" class=\"data row6 col106\" >0.000000</td>\n",
       "                        <td id=\"T_d1907_row6_col107\" class=\"data row6 col107\" >0.000000</td>\n",
       "                        <td id=\"T_d1907_row6_col108\" class=\"data row6 col108\" >0.000000</td>\n",
       "                        <td id=\"T_d1907_row6_col109\" class=\"data row6 col109\" >0.000000</td>\n",
       "                        <td id=\"T_d1907_row6_col110\" class=\"data row6 col110\" >0.000000</td>\n",
       "                        <td id=\"T_d1907_row6_col111\" class=\"data row6 col111\" >0.000000</td>\n",
       "                        <td id=\"T_d1907_row6_col112\" class=\"data row6 col112\" >0.000000</td>\n",
       "                        <td id=\"T_d1907_row6_col113\" class=\"data row6 col113\" >0.000000</td>\n",
       "                        <td id=\"T_d1907_row6_col114\" class=\"data row6 col114\" >0.000000</td>\n",
       "                        <td id=\"T_d1907_row6_col115\" class=\"data row6 col115\" >0.000000</td>\n",
       "                        <td id=\"T_d1907_row6_col116\" class=\"data row6 col116\" >0.000000</td>\n",
       "                        <td id=\"T_d1907_row6_col117\" class=\"data row6 col117\" >0.000000</td>\n",
       "                        <td id=\"T_d1907_row6_col118\" class=\"data row6 col118\" >0.000000</td>\n",
       "                        <td id=\"T_d1907_row6_col119\" class=\"data row6 col119\" >0.000000</td>\n",
       "                        <td id=\"T_d1907_row6_col120\" class=\"data row6 col120\" >0.000000</td>\n",
       "                        <td id=\"T_d1907_row6_col121\" class=\"data row6 col121\" >0.000000</td>\n",
       "                        <td id=\"T_d1907_row6_col122\" class=\"data row6 col122\" >0.000000</td>\n",
       "                        <td id=\"T_d1907_row6_col123\" class=\"data row6 col123\" >0.000000</td>\n",
       "                        <td id=\"T_d1907_row6_col124\" class=\"data row6 col124\" >0.000000</td>\n",
       "                        <td id=\"T_d1907_row6_col125\" class=\"data row6 col125\" >0.000000</td>\n",
       "                        <td id=\"T_d1907_row6_col126\" class=\"data row6 col126\" >0.000000</td>\n",
       "                        <td id=\"T_d1907_row6_col127\" class=\"data row6 col127\" >0.000000</td>\n",
       "                        <td id=\"T_d1907_row6_col128\" class=\"data row6 col128\" >0.000000</td>\n",
       "                        <td id=\"T_d1907_row6_col129\" class=\"data row6 col129\" >0.000000</td>\n",
       "                        <td id=\"T_d1907_row6_col130\" class=\"data row6 col130\" >0.000000</td>\n",
       "                        <td id=\"T_d1907_row6_col131\" class=\"data row6 col131\" >0.000000</td>\n",
       "                        <td id=\"T_d1907_row6_col132\" class=\"data row6 col132\" >0.000000</td>\n",
       "                        <td id=\"T_d1907_row6_col133\" class=\"data row6 col133\" >0.000000</td>\n",
       "                        <td id=\"T_d1907_row6_col134\" class=\"data row6 col134\" >0.000000</td>\n",
       "                        <td id=\"T_d1907_row6_col135\" class=\"data row6 col135\" >0.000000</td>\n",
       "                        <td id=\"T_d1907_row6_col136\" class=\"data row6 col136\" >0.000000</td>\n",
       "                        <td id=\"T_d1907_row6_col137\" class=\"data row6 col137\" >0.000000</td>\n",
       "                        <td id=\"T_d1907_row6_col138\" class=\"data row6 col138\" >0.000000</td>\n",
       "                        <td id=\"T_d1907_row6_col139\" class=\"data row6 col139\" >0.000000</td>\n",
       "                        <td id=\"T_d1907_row6_col140\" class=\"data row6 col140\" >0.000000</td>\n",
       "                        <td id=\"T_d1907_row6_col141\" class=\"data row6 col141\" >0.000000</td>\n",
       "                        <td id=\"T_d1907_row6_col142\" class=\"data row6 col142\" >0.000000</td>\n",
       "                        <td id=\"T_d1907_row6_col143\" class=\"data row6 col143\" >0.000000</td>\n",
       "                        <td id=\"T_d1907_row6_col144\" class=\"data row6 col144\" >0.000000</td>\n",
       "                        <td id=\"T_d1907_row6_col145\" class=\"data row6 col145\" >0.000000</td>\n",
       "                        <td id=\"T_d1907_row6_col146\" class=\"data row6 col146\" >0.000000</td>\n",
       "                        <td id=\"T_d1907_row6_col147\" class=\"data row6 col147\" >0.000000</td>\n",
       "                        <td id=\"T_d1907_row6_col148\" class=\"data row6 col148\" >0.000000</td>\n",
       "                        <td id=\"T_d1907_row6_col149\" class=\"data row6 col149\" >1.000000</td>\n",
       "                        <td id=\"T_d1907_row6_col150\" class=\"data row6 col150\" >0.000000</td>\n",
       "                        <td id=\"T_d1907_row6_col151\" class=\"data row6 col151\" >0.000000</td>\n",
       "                        <td id=\"T_d1907_row6_col152\" class=\"data row6 col152\" >0.000000</td>\n",
       "                        <td id=\"T_d1907_row6_col153\" class=\"data row6 col153\" >0.000000</td>\n",
       "                        <td id=\"T_d1907_row6_col154\" class=\"data row6 col154\" >0.000000</td>\n",
       "                        <td id=\"T_d1907_row6_col155\" class=\"data row6 col155\" >0.000000</td>\n",
       "                        <td id=\"T_d1907_row6_col156\" class=\"data row6 col156\" >0.000000</td>\n",
       "                        <td id=\"T_d1907_row6_col157\" class=\"data row6 col157\" >0.000000</td>\n",
       "                        <td id=\"T_d1907_row6_col158\" class=\"data row6 col158\" >0.000000</td>\n",
       "                        <td id=\"T_d1907_row6_col159\" class=\"data row6 col159\" >0.000000</td>\n",
       "                        <td id=\"T_d1907_row6_col160\" class=\"data row6 col160\" >0.000000</td>\n",
       "                        <td id=\"T_d1907_row6_col161\" class=\"data row6 col161\" >0.000000</td>\n",
       "                        <td id=\"T_d1907_row6_col162\" class=\"data row6 col162\" >0.000000</td>\n",
       "                        <td id=\"T_d1907_row6_col163\" class=\"data row6 col163\" >0.000000</td>\n",
       "                        <td id=\"T_d1907_row6_col164\" class=\"data row6 col164\" >0.000000</td>\n",
       "                        <td id=\"T_d1907_row6_col165\" class=\"data row6 col165\" >0.000000</td>\n",
       "                        <td id=\"T_d1907_row6_col166\" class=\"data row6 col166\" >0.000000</td>\n",
       "                        <td id=\"T_d1907_row6_col167\" class=\"data row6 col167\" >0.000000</td>\n",
       "                        <td id=\"T_d1907_row6_col168\" class=\"data row6 col168\" >1.000000</td>\n",
       "                        <td id=\"T_d1907_row6_col169\" class=\"data row6 col169\" >0.000000</td>\n",
       "                        <td id=\"T_d1907_row6_col170\" class=\"data row6 col170\" >0.000000</td>\n",
       "                        <td id=\"T_d1907_row6_col171\" class=\"data row6 col171\" >0.000000</td>\n",
       "                        <td id=\"T_d1907_row6_col172\" class=\"data row6 col172\" >0.000000</td>\n",
       "                        <td id=\"T_d1907_row6_col173\" class=\"data row6 col173\" >0.000000</td>\n",
       "                        <td id=\"T_d1907_row6_col174\" class=\"data row6 col174\" >1.000000</td>\n",
       "                        <td id=\"T_d1907_row6_col175\" class=\"data row6 col175\" >0.000000</td>\n",
       "                        <td id=\"T_d1907_row6_col176\" class=\"data row6 col176\" >1.000000</td>\n",
       "                        <td id=\"T_d1907_row6_col177\" class=\"data row6 col177\" >1.000000</td>\n",
       "                        <td id=\"T_d1907_row6_col178\" class=\"data row6 col178\" >0.000000</td>\n",
       "                        <td id=\"T_d1907_row6_col179\" class=\"data row6 col179\" >0.000000</td>\n",
       "                        <td id=\"T_d1907_row6_col180\" class=\"data row6 col180\" >0.000000</td>\n",
       "                        <td id=\"T_d1907_row6_col181\" class=\"data row6 col181\" >0.674308</td>\n",
       "                        <td id=\"T_d1907_row6_col182\" class=\"data row6 col182\" >0.000000</td>\n",
       "                        <td id=\"T_d1907_row6_col183\" class=\"data row6 col183\" >0.000000</td>\n",
       "                        <td id=\"T_d1907_row6_col184\" class=\"data row6 col184\" >0.820433</td>\n",
       "                        <td id=\"T_d1907_row6_col185\" class=\"data row6 col185\" >0.320000</td>\n",
       "                        <td id=\"T_d1907_row6_col186\" class=\"data row6 col186\" >1</td>\n",
       "                        <td id=\"T_d1907_row6_col187\" class=\"data row6 col187\" >0</td>\n",
       "                        <td id=\"T_d1907_row6_col188\" class=\"data row6 col188\" >1</td>\n",
       "                        <td id=\"T_d1907_row6_col189\" class=\"data row6 col189\" >-1.000000</td>\n",
       "            </tr>\n",
       "            <tr>\n",
       "                        <th id=\"T_d1907_level0_row7\" class=\"row_heading level0 row7\" >8</th>\n",
       "                        <td id=\"T_d1907_row7_col0\" class=\"data row7 col0\" >1.000000</td>\n",
       "                        <td id=\"T_d1907_row7_col1\" class=\"data row7 col1\" >0.000000</td>\n",
       "                        <td id=\"T_d1907_row7_col2\" class=\"data row7 col2\" >0.000000</td>\n",
       "                        <td id=\"T_d1907_row7_col3\" class=\"data row7 col3\" >0.000000</td>\n",
       "                        <td id=\"T_d1907_row7_col4\" class=\"data row7 col4\" >0.000000</td>\n",
       "                        <td id=\"T_d1907_row7_col5\" class=\"data row7 col5\" >0.000000</td>\n",
       "                        <td id=\"T_d1907_row7_col6\" class=\"data row7 col6\" >0.000000</td>\n",
       "                        <td id=\"T_d1907_row7_col7\" class=\"data row7 col7\" >0.000000</td>\n",
       "                        <td id=\"T_d1907_row7_col8\" class=\"data row7 col8\" >0.000000</td>\n",
       "                        <td id=\"T_d1907_row7_col9\" class=\"data row7 col9\" >0.000000</td>\n",
       "                        <td id=\"T_d1907_row7_col10\" class=\"data row7 col10\" >0.000000</td>\n",
       "                        <td id=\"T_d1907_row7_col11\" class=\"data row7 col11\" >0.000000</td>\n",
       "                        <td id=\"T_d1907_row7_col12\" class=\"data row7 col12\" >0.000000</td>\n",
       "                        <td id=\"T_d1907_row7_col13\" class=\"data row7 col13\" >0.000000</td>\n",
       "                        <td id=\"T_d1907_row7_col14\" class=\"data row7 col14\" >0.000000</td>\n",
       "                        <td id=\"T_d1907_row7_col15\" class=\"data row7 col15\" >0.000000</td>\n",
       "                        <td id=\"T_d1907_row7_col16\" class=\"data row7 col16\" >0.000000</td>\n",
       "                        <td id=\"T_d1907_row7_col17\" class=\"data row7 col17\" >0.000000</td>\n",
       "                        <td id=\"T_d1907_row7_col18\" class=\"data row7 col18\" >0.000000</td>\n",
       "                        <td id=\"T_d1907_row7_col19\" class=\"data row7 col19\" >0.000000</td>\n",
       "                        <td id=\"T_d1907_row7_col20\" class=\"data row7 col20\" >0.000000</td>\n",
       "                        <td id=\"T_d1907_row7_col21\" class=\"data row7 col21\" >0.000000</td>\n",
       "                        <td id=\"T_d1907_row7_col22\" class=\"data row7 col22\" >0.000000</td>\n",
       "                        <td id=\"T_d1907_row7_col23\" class=\"data row7 col23\" >0.000000</td>\n",
       "                        <td id=\"T_d1907_row7_col24\" class=\"data row7 col24\" >0.000000</td>\n",
       "                        <td id=\"T_d1907_row7_col25\" class=\"data row7 col25\" >0.000000</td>\n",
       "                        <td id=\"T_d1907_row7_col26\" class=\"data row7 col26\" >0.000000</td>\n",
       "                        <td id=\"T_d1907_row7_col27\" class=\"data row7 col27\" >0.000000</td>\n",
       "                        <td id=\"T_d1907_row7_col28\" class=\"data row7 col28\" >0.000000</td>\n",
       "                        <td id=\"T_d1907_row7_col29\" class=\"data row7 col29\" >0.000000</td>\n",
       "                        <td id=\"T_d1907_row7_col30\" class=\"data row7 col30\" >0.000000</td>\n",
       "                        <td id=\"T_d1907_row7_col31\" class=\"data row7 col31\" >0.000000</td>\n",
       "                        <td id=\"T_d1907_row7_col32\" class=\"data row7 col32\" >0.000000</td>\n",
       "                        <td id=\"T_d1907_row7_col33\" class=\"data row7 col33\" >0.000000</td>\n",
       "                        <td id=\"T_d1907_row7_col34\" class=\"data row7 col34\" >0.000000</td>\n",
       "                        <td id=\"T_d1907_row7_col35\" class=\"data row7 col35\" >0.000000</td>\n",
       "                        <td id=\"T_d1907_row7_col36\" class=\"data row7 col36\" >0.000000</td>\n",
       "                        <td id=\"T_d1907_row7_col37\" class=\"data row7 col37\" >0.000000</td>\n",
       "                        <td id=\"T_d1907_row7_col38\" class=\"data row7 col38\" >0.000000</td>\n",
       "                        <td id=\"T_d1907_row7_col39\" class=\"data row7 col39\" >0.000000</td>\n",
       "                        <td id=\"T_d1907_row7_col40\" class=\"data row7 col40\" >0.000000</td>\n",
       "                        <td id=\"T_d1907_row7_col41\" class=\"data row7 col41\" >0.000000</td>\n",
       "                        <td id=\"T_d1907_row7_col42\" class=\"data row7 col42\" >0.000000</td>\n",
       "                        <td id=\"T_d1907_row7_col43\" class=\"data row7 col43\" >0.000000</td>\n",
       "                        <td id=\"T_d1907_row7_col44\" class=\"data row7 col44\" >0.000000</td>\n",
       "                        <td id=\"T_d1907_row7_col45\" class=\"data row7 col45\" >0.000000</td>\n",
       "                        <td id=\"T_d1907_row7_col46\" class=\"data row7 col46\" >0.000000</td>\n",
       "                        <td id=\"T_d1907_row7_col47\" class=\"data row7 col47\" >0.000000</td>\n",
       "                        <td id=\"T_d1907_row7_col48\" class=\"data row7 col48\" >0.000000</td>\n",
       "                        <td id=\"T_d1907_row7_col49\" class=\"data row7 col49\" >0.000000</td>\n",
       "                        <td id=\"T_d1907_row7_col50\" class=\"data row7 col50\" >0.000000</td>\n",
       "                        <td id=\"T_d1907_row7_col51\" class=\"data row7 col51\" >0.000000</td>\n",
       "                        <td id=\"T_d1907_row7_col52\" class=\"data row7 col52\" >0.000000</td>\n",
       "                        <td id=\"T_d1907_row7_col53\" class=\"data row7 col53\" >0.000000</td>\n",
       "                        <td id=\"T_d1907_row7_col54\" class=\"data row7 col54\" >0.000000</td>\n",
       "                        <td id=\"T_d1907_row7_col55\" class=\"data row7 col55\" >0.000000</td>\n",
       "                        <td id=\"T_d1907_row7_col56\" class=\"data row7 col56\" >0.000000</td>\n",
       "                        <td id=\"T_d1907_row7_col57\" class=\"data row7 col57\" >0.000000</td>\n",
       "                        <td id=\"T_d1907_row7_col58\" class=\"data row7 col58\" >0.000000</td>\n",
       "                        <td id=\"T_d1907_row7_col59\" class=\"data row7 col59\" >0.000000</td>\n",
       "                        <td id=\"T_d1907_row7_col60\" class=\"data row7 col60\" >0.000000</td>\n",
       "                        <td id=\"T_d1907_row7_col61\" class=\"data row7 col61\" >0.000000</td>\n",
       "                        <td id=\"T_d1907_row7_col62\" class=\"data row7 col62\" >0.000000</td>\n",
       "                        <td id=\"T_d1907_row7_col63\" class=\"data row7 col63\" >0.000000</td>\n",
       "                        <td id=\"T_d1907_row7_col64\" class=\"data row7 col64\" >0.000000</td>\n",
       "                        <td id=\"T_d1907_row7_col65\" class=\"data row7 col65\" >0.000000</td>\n",
       "                        <td id=\"T_d1907_row7_col66\" class=\"data row7 col66\" >0.000000</td>\n",
       "                        <td id=\"T_d1907_row7_col67\" class=\"data row7 col67\" >0.000000</td>\n",
       "                        <td id=\"T_d1907_row7_col68\" class=\"data row7 col68\" >0.000000</td>\n",
       "                        <td id=\"T_d1907_row7_col69\" class=\"data row7 col69\" >0.000000</td>\n",
       "                        <td id=\"T_d1907_row7_col70\" class=\"data row7 col70\" >0.000000</td>\n",
       "                        <td id=\"T_d1907_row7_col71\" class=\"data row7 col71\" >0.000000</td>\n",
       "                        <td id=\"T_d1907_row7_col72\" class=\"data row7 col72\" >0.000000</td>\n",
       "                        <td id=\"T_d1907_row7_col73\" class=\"data row7 col73\" >0.000000</td>\n",
       "                        <td id=\"T_d1907_row7_col74\" class=\"data row7 col74\" >0.000000</td>\n",
       "                        <td id=\"T_d1907_row7_col75\" class=\"data row7 col75\" >0.000000</td>\n",
       "                        <td id=\"T_d1907_row7_col76\" class=\"data row7 col76\" >0.000000</td>\n",
       "                        <td id=\"T_d1907_row7_col77\" class=\"data row7 col77\" >0.000000</td>\n",
       "                        <td id=\"T_d1907_row7_col78\" class=\"data row7 col78\" >0.000000</td>\n",
       "                        <td id=\"T_d1907_row7_col79\" class=\"data row7 col79\" >0.000000</td>\n",
       "                        <td id=\"T_d1907_row7_col80\" class=\"data row7 col80\" >0.000000</td>\n",
       "                        <td id=\"T_d1907_row7_col81\" class=\"data row7 col81\" >0.000000</td>\n",
       "                        <td id=\"T_d1907_row7_col82\" class=\"data row7 col82\" >0.000000</td>\n",
       "                        <td id=\"T_d1907_row7_col83\" class=\"data row7 col83\" >0.000000</td>\n",
       "                        <td id=\"T_d1907_row7_col84\" class=\"data row7 col84\" >0.000000</td>\n",
       "                        <td id=\"T_d1907_row7_col85\" class=\"data row7 col85\" >0.000000</td>\n",
       "                        <td id=\"T_d1907_row7_col86\" class=\"data row7 col86\" >0.000000</td>\n",
       "                        <td id=\"T_d1907_row7_col87\" class=\"data row7 col87\" >0.000000</td>\n",
       "                        <td id=\"T_d1907_row7_col88\" class=\"data row7 col88\" >0.000000</td>\n",
       "                        <td id=\"T_d1907_row7_col89\" class=\"data row7 col89\" >0.000000</td>\n",
       "                        <td id=\"T_d1907_row7_col90\" class=\"data row7 col90\" >0.000000</td>\n",
       "                        <td id=\"T_d1907_row7_col91\" class=\"data row7 col91\" >0.000000</td>\n",
       "                        <td id=\"T_d1907_row7_col92\" class=\"data row7 col92\" >0.000000</td>\n",
       "                        <td id=\"T_d1907_row7_col93\" class=\"data row7 col93\" >0.000000</td>\n",
       "                        <td id=\"T_d1907_row7_col94\" class=\"data row7 col94\" >0.000000</td>\n",
       "                        <td id=\"T_d1907_row7_col95\" class=\"data row7 col95\" >0.000000</td>\n",
       "                        <td id=\"T_d1907_row7_col96\" class=\"data row7 col96\" >0.000000</td>\n",
       "                        <td id=\"T_d1907_row7_col97\" class=\"data row7 col97\" >0.000000</td>\n",
       "                        <td id=\"T_d1907_row7_col98\" class=\"data row7 col98\" >0.000000</td>\n",
       "                        <td id=\"T_d1907_row7_col99\" class=\"data row7 col99\" >0.000000</td>\n",
       "                        <td id=\"T_d1907_row7_col100\" class=\"data row7 col100\" >0.000000</td>\n",
       "                        <td id=\"T_d1907_row7_col101\" class=\"data row7 col101\" >0.000000</td>\n",
       "                        <td id=\"T_d1907_row7_col102\" class=\"data row7 col102\" >0.000000</td>\n",
       "                        <td id=\"T_d1907_row7_col103\" class=\"data row7 col103\" >0.000000</td>\n",
       "                        <td id=\"T_d1907_row7_col104\" class=\"data row7 col104\" >0.000000</td>\n",
       "                        <td id=\"T_d1907_row7_col105\" class=\"data row7 col105\" >0.000000</td>\n",
       "                        <td id=\"T_d1907_row7_col106\" class=\"data row7 col106\" >0.000000</td>\n",
       "                        <td id=\"T_d1907_row7_col107\" class=\"data row7 col107\" >1.000000</td>\n",
       "                        <td id=\"T_d1907_row7_col108\" class=\"data row7 col108\" >0.000000</td>\n",
       "                        <td id=\"T_d1907_row7_col109\" class=\"data row7 col109\" >0.000000</td>\n",
       "                        <td id=\"T_d1907_row7_col110\" class=\"data row7 col110\" >0.000000</td>\n",
       "                        <td id=\"T_d1907_row7_col111\" class=\"data row7 col111\" >0.000000</td>\n",
       "                        <td id=\"T_d1907_row7_col112\" class=\"data row7 col112\" >0.000000</td>\n",
       "                        <td id=\"T_d1907_row7_col113\" class=\"data row7 col113\" >0.000000</td>\n",
       "                        <td id=\"T_d1907_row7_col114\" class=\"data row7 col114\" >0.000000</td>\n",
       "                        <td id=\"T_d1907_row7_col115\" class=\"data row7 col115\" >0.000000</td>\n",
       "                        <td id=\"T_d1907_row7_col116\" class=\"data row7 col116\" >0.000000</td>\n",
       "                        <td id=\"T_d1907_row7_col117\" class=\"data row7 col117\" >0.000000</td>\n",
       "                        <td id=\"T_d1907_row7_col118\" class=\"data row7 col118\" >0.000000</td>\n",
       "                        <td id=\"T_d1907_row7_col119\" class=\"data row7 col119\" >0.000000</td>\n",
       "                        <td id=\"T_d1907_row7_col120\" class=\"data row7 col120\" >0.000000</td>\n",
       "                        <td id=\"T_d1907_row7_col121\" class=\"data row7 col121\" >0.000000</td>\n",
       "                        <td id=\"T_d1907_row7_col122\" class=\"data row7 col122\" >0.000000</td>\n",
       "                        <td id=\"T_d1907_row7_col123\" class=\"data row7 col123\" >0.000000</td>\n",
       "                        <td id=\"T_d1907_row7_col124\" class=\"data row7 col124\" >0.000000</td>\n",
       "                        <td id=\"T_d1907_row7_col125\" class=\"data row7 col125\" >0.000000</td>\n",
       "                        <td id=\"T_d1907_row7_col126\" class=\"data row7 col126\" >0.000000</td>\n",
       "                        <td id=\"T_d1907_row7_col127\" class=\"data row7 col127\" >0.000000</td>\n",
       "                        <td id=\"T_d1907_row7_col128\" class=\"data row7 col128\" >0.000000</td>\n",
       "                        <td id=\"T_d1907_row7_col129\" class=\"data row7 col129\" >0.000000</td>\n",
       "                        <td id=\"T_d1907_row7_col130\" class=\"data row7 col130\" >0.000000</td>\n",
       "                        <td id=\"T_d1907_row7_col131\" class=\"data row7 col131\" >0.000000</td>\n",
       "                        <td id=\"T_d1907_row7_col132\" class=\"data row7 col132\" >0.000000</td>\n",
       "                        <td id=\"T_d1907_row7_col133\" class=\"data row7 col133\" >0.000000</td>\n",
       "                        <td id=\"T_d1907_row7_col134\" class=\"data row7 col134\" >0.000000</td>\n",
       "                        <td id=\"T_d1907_row7_col135\" class=\"data row7 col135\" >0.000000</td>\n",
       "                        <td id=\"T_d1907_row7_col136\" class=\"data row7 col136\" >0.000000</td>\n",
       "                        <td id=\"T_d1907_row7_col137\" class=\"data row7 col137\" >0.000000</td>\n",
       "                        <td id=\"T_d1907_row7_col138\" class=\"data row7 col138\" >0.000000</td>\n",
       "                        <td id=\"T_d1907_row7_col139\" class=\"data row7 col139\" >0.000000</td>\n",
       "                        <td id=\"T_d1907_row7_col140\" class=\"data row7 col140\" >0.000000</td>\n",
       "                        <td id=\"T_d1907_row7_col141\" class=\"data row7 col141\" >0.000000</td>\n",
       "                        <td id=\"T_d1907_row7_col142\" class=\"data row7 col142\" >0.000000</td>\n",
       "                        <td id=\"T_d1907_row7_col143\" class=\"data row7 col143\" >0.000000</td>\n",
       "                        <td id=\"T_d1907_row7_col144\" class=\"data row7 col144\" >0.000000</td>\n",
       "                        <td id=\"T_d1907_row7_col145\" class=\"data row7 col145\" >0.000000</td>\n",
       "                        <td id=\"T_d1907_row7_col146\" class=\"data row7 col146\" >0.000000</td>\n",
       "                        <td id=\"T_d1907_row7_col147\" class=\"data row7 col147\" >0.000000</td>\n",
       "                        <td id=\"T_d1907_row7_col148\" class=\"data row7 col148\" >0.000000</td>\n",
       "                        <td id=\"T_d1907_row7_col149\" class=\"data row7 col149\" >1.000000</td>\n",
       "                        <td id=\"T_d1907_row7_col150\" class=\"data row7 col150\" >0.000000</td>\n",
       "                        <td id=\"T_d1907_row7_col151\" class=\"data row7 col151\" >0.000000</td>\n",
       "                        <td id=\"T_d1907_row7_col152\" class=\"data row7 col152\" >0.000000</td>\n",
       "                        <td id=\"T_d1907_row7_col153\" class=\"data row7 col153\" >0.000000</td>\n",
       "                        <td id=\"T_d1907_row7_col154\" class=\"data row7 col154\" >0.000000</td>\n",
       "                        <td id=\"T_d1907_row7_col155\" class=\"data row7 col155\" >0.000000</td>\n",
       "                        <td id=\"T_d1907_row7_col156\" class=\"data row7 col156\" >0.000000</td>\n",
       "                        <td id=\"T_d1907_row7_col157\" class=\"data row7 col157\" >0.000000</td>\n",
       "                        <td id=\"T_d1907_row7_col158\" class=\"data row7 col158\" >0.000000</td>\n",
       "                        <td id=\"T_d1907_row7_col159\" class=\"data row7 col159\" >0.000000</td>\n",
       "                        <td id=\"T_d1907_row7_col160\" class=\"data row7 col160\" >0.000000</td>\n",
       "                        <td id=\"T_d1907_row7_col161\" class=\"data row7 col161\" >0.000000</td>\n",
       "                        <td id=\"T_d1907_row7_col162\" class=\"data row7 col162\" >0.000000</td>\n",
       "                        <td id=\"T_d1907_row7_col163\" class=\"data row7 col163\" >0.000000</td>\n",
       "                        <td id=\"T_d1907_row7_col164\" class=\"data row7 col164\" >0.000000</td>\n",
       "                        <td id=\"T_d1907_row7_col165\" class=\"data row7 col165\" >0.000000</td>\n",
       "                        <td id=\"T_d1907_row7_col166\" class=\"data row7 col166\" >0.000000</td>\n",
       "                        <td id=\"T_d1907_row7_col167\" class=\"data row7 col167\" >0.000000</td>\n",
       "                        <td id=\"T_d1907_row7_col168\" class=\"data row7 col168\" >0.000000</td>\n",
       "                        <td id=\"T_d1907_row7_col169\" class=\"data row7 col169\" >0.000000</td>\n",
       "                        <td id=\"T_d1907_row7_col170\" class=\"data row7 col170\" >0.000000</td>\n",
       "                        <td id=\"T_d1907_row7_col171\" class=\"data row7 col171\" >1.000000</td>\n",
       "                        <td id=\"T_d1907_row7_col172\" class=\"data row7 col172\" >0.000000</td>\n",
       "                        <td id=\"T_d1907_row7_col173\" class=\"data row7 col173\" >0.000000</td>\n",
       "                        <td id=\"T_d1907_row7_col174\" class=\"data row7 col174\" >1.000000</td>\n",
       "                        <td id=\"T_d1907_row7_col175\" class=\"data row7 col175\" >0.000000</td>\n",
       "                        <td id=\"T_d1907_row7_col176\" class=\"data row7 col176\" >1.000000</td>\n",
       "                        <td id=\"T_d1907_row7_col177\" class=\"data row7 col177\" >0.000000</td>\n",
       "                        <td id=\"T_d1907_row7_col178\" class=\"data row7 col178\" >0.000000</td>\n",
       "                        <td id=\"T_d1907_row7_col179\" class=\"data row7 col179\" >1.000000</td>\n",
       "                        <td id=\"T_d1907_row7_col180\" class=\"data row7 col180\" >0.000000</td>\n",
       "                        <td id=\"T_d1907_row7_col181\" class=\"data row7 col181\" >0.022924</td>\n",
       "                        <td id=\"T_d1907_row7_col182\" class=\"data row7 col182\" >0.375000</td>\n",
       "                        <td id=\"T_d1907_row7_col183\" class=\"data row7 col183\" >0.111111</td>\n",
       "                        <td id=\"T_d1907_row7_col184\" class=\"data row7 col184\" >0.594427</td>\n",
       "                        <td id=\"T_d1907_row7_col185\" class=\"data row7 col185\" >0.000000</td>\n",
       "                        <td id=\"T_d1907_row7_col186\" class=\"data row7 col186\" >1</td>\n",
       "                        <td id=\"T_d1907_row7_col187\" class=\"data row7 col187\" >1</td>\n",
       "                        <td id=\"T_d1907_row7_col188\" class=\"data row7 col188\" >0</td>\n",
       "                        <td id=\"T_d1907_row7_col189\" class=\"data row7 col189\" >0.000000</td>\n",
       "            </tr>\n",
       "            <tr>\n",
       "                        <th id=\"T_d1907_level0_row8\" class=\"row_heading level0 row8\" >9</th>\n",
       "                        <td id=\"T_d1907_row8_col0\" class=\"data row8 col0\" >0.000000</td>\n",
       "                        <td id=\"T_d1907_row8_col1\" class=\"data row8 col1\" >0.000000</td>\n",
       "                        <td id=\"T_d1907_row8_col2\" class=\"data row8 col2\" >0.000000</td>\n",
       "                        <td id=\"T_d1907_row8_col3\" class=\"data row8 col3\" >1.000000</td>\n",
       "                        <td id=\"T_d1907_row8_col4\" class=\"data row8 col4\" >0.000000</td>\n",
       "                        <td id=\"T_d1907_row8_col5\" class=\"data row8 col5\" >0.000000</td>\n",
       "                        <td id=\"T_d1907_row8_col6\" class=\"data row8 col6\" >0.000000</td>\n",
       "                        <td id=\"T_d1907_row8_col7\" class=\"data row8 col7\" >0.000000</td>\n",
       "                        <td id=\"T_d1907_row8_col8\" class=\"data row8 col8\" >0.000000</td>\n",
       "                        <td id=\"T_d1907_row8_col9\" class=\"data row8 col9\" >0.000000</td>\n",
       "                        <td id=\"T_d1907_row8_col10\" class=\"data row8 col10\" >0.000000</td>\n",
       "                        <td id=\"T_d1907_row8_col11\" class=\"data row8 col11\" >0.000000</td>\n",
       "                        <td id=\"T_d1907_row8_col12\" class=\"data row8 col12\" >0.000000</td>\n",
       "                        <td id=\"T_d1907_row8_col13\" class=\"data row8 col13\" >0.000000</td>\n",
       "                        <td id=\"T_d1907_row8_col14\" class=\"data row8 col14\" >0.000000</td>\n",
       "                        <td id=\"T_d1907_row8_col15\" class=\"data row8 col15\" >0.000000</td>\n",
       "                        <td id=\"T_d1907_row8_col16\" class=\"data row8 col16\" >0.000000</td>\n",
       "                        <td id=\"T_d1907_row8_col17\" class=\"data row8 col17\" >0.000000</td>\n",
       "                        <td id=\"T_d1907_row8_col18\" class=\"data row8 col18\" >0.000000</td>\n",
       "                        <td id=\"T_d1907_row8_col19\" class=\"data row8 col19\" >0.000000</td>\n",
       "                        <td id=\"T_d1907_row8_col20\" class=\"data row8 col20\" >0.000000</td>\n",
       "                        <td id=\"T_d1907_row8_col21\" class=\"data row8 col21\" >0.000000</td>\n",
       "                        <td id=\"T_d1907_row8_col22\" class=\"data row8 col22\" >0.000000</td>\n",
       "                        <td id=\"T_d1907_row8_col23\" class=\"data row8 col23\" >0.000000</td>\n",
       "                        <td id=\"T_d1907_row8_col24\" class=\"data row8 col24\" >0.000000</td>\n",
       "                        <td id=\"T_d1907_row8_col25\" class=\"data row8 col25\" >0.000000</td>\n",
       "                        <td id=\"T_d1907_row8_col26\" class=\"data row8 col26\" >0.000000</td>\n",
       "                        <td id=\"T_d1907_row8_col27\" class=\"data row8 col27\" >0.000000</td>\n",
       "                        <td id=\"T_d1907_row8_col28\" class=\"data row8 col28\" >0.000000</td>\n",
       "                        <td id=\"T_d1907_row8_col29\" class=\"data row8 col29\" >0.000000</td>\n",
       "                        <td id=\"T_d1907_row8_col30\" class=\"data row8 col30\" >0.000000</td>\n",
       "                        <td id=\"T_d1907_row8_col31\" class=\"data row8 col31\" >0.000000</td>\n",
       "                        <td id=\"T_d1907_row8_col32\" class=\"data row8 col32\" >0.000000</td>\n",
       "                        <td id=\"T_d1907_row8_col33\" class=\"data row8 col33\" >0.000000</td>\n",
       "                        <td id=\"T_d1907_row8_col34\" class=\"data row8 col34\" >0.000000</td>\n",
       "                        <td id=\"T_d1907_row8_col35\" class=\"data row8 col35\" >0.000000</td>\n",
       "                        <td id=\"T_d1907_row8_col36\" class=\"data row8 col36\" >0.000000</td>\n",
       "                        <td id=\"T_d1907_row8_col37\" class=\"data row8 col37\" >0.000000</td>\n",
       "                        <td id=\"T_d1907_row8_col38\" class=\"data row8 col38\" >0.000000</td>\n",
       "                        <td id=\"T_d1907_row8_col39\" class=\"data row8 col39\" >0.000000</td>\n",
       "                        <td id=\"T_d1907_row8_col40\" class=\"data row8 col40\" >0.000000</td>\n",
       "                        <td id=\"T_d1907_row8_col41\" class=\"data row8 col41\" >0.000000</td>\n",
       "                        <td id=\"T_d1907_row8_col42\" class=\"data row8 col42\" >0.000000</td>\n",
       "                        <td id=\"T_d1907_row8_col43\" class=\"data row8 col43\" >0.000000</td>\n",
       "                        <td id=\"T_d1907_row8_col44\" class=\"data row8 col44\" >0.000000</td>\n",
       "                        <td id=\"T_d1907_row8_col45\" class=\"data row8 col45\" >0.000000</td>\n",
       "                        <td id=\"T_d1907_row8_col46\" class=\"data row8 col46\" >0.000000</td>\n",
       "                        <td id=\"T_d1907_row8_col47\" class=\"data row8 col47\" >0.000000</td>\n",
       "                        <td id=\"T_d1907_row8_col48\" class=\"data row8 col48\" >0.000000</td>\n",
       "                        <td id=\"T_d1907_row8_col49\" class=\"data row8 col49\" >0.000000</td>\n",
       "                        <td id=\"T_d1907_row8_col50\" class=\"data row8 col50\" >0.000000</td>\n",
       "                        <td id=\"T_d1907_row8_col51\" class=\"data row8 col51\" >0.000000</td>\n",
       "                        <td id=\"T_d1907_row8_col52\" class=\"data row8 col52\" >0.000000</td>\n",
       "                        <td id=\"T_d1907_row8_col53\" class=\"data row8 col53\" >0.000000</td>\n",
       "                        <td id=\"T_d1907_row8_col54\" class=\"data row8 col54\" >0.000000</td>\n",
       "                        <td id=\"T_d1907_row8_col55\" class=\"data row8 col55\" >0.000000</td>\n",
       "                        <td id=\"T_d1907_row8_col56\" class=\"data row8 col56\" >0.000000</td>\n",
       "                        <td id=\"T_d1907_row8_col57\" class=\"data row8 col57\" >0.000000</td>\n",
       "                        <td id=\"T_d1907_row8_col58\" class=\"data row8 col58\" >0.000000</td>\n",
       "                        <td id=\"T_d1907_row8_col59\" class=\"data row8 col59\" >0.000000</td>\n",
       "                        <td id=\"T_d1907_row8_col60\" class=\"data row8 col60\" >0.000000</td>\n",
       "                        <td id=\"T_d1907_row8_col61\" class=\"data row8 col61\" >0.000000</td>\n",
       "                        <td id=\"T_d1907_row8_col62\" class=\"data row8 col62\" >0.000000</td>\n",
       "                        <td id=\"T_d1907_row8_col63\" class=\"data row8 col63\" >0.000000</td>\n",
       "                        <td id=\"T_d1907_row8_col64\" class=\"data row8 col64\" >0.000000</td>\n",
       "                        <td id=\"T_d1907_row8_col65\" class=\"data row8 col65\" >0.000000</td>\n",
       "                        <td id=\"T_d1907_row8_col66\" class=\"data row8 col66\" >0.000000</td>\n",
       "                        <td id=\"T_d1907_row8_col67\" class=\"data row8 col67\" >0.000000</td>\n",
       "                        <td id=\"T_d1907_row8_col68\" class=\"data row8 col68\" >0.000000</td>\n",
       "                        <td id=\"T_d1907_row8_col69\" class=\"data row8 col69\" >0.000000</td>\n",
       "                        <td id=\"T_d1907_row8_col70\" class=\"data row8 col70\" >0.000000</td>\n",
       "                        <td id=\"T_d1907_row8_col71\" class=\"data row8 col71\" >0.000000</td>\n",
       "                        <td id=\"T_d1907_row8_col72\" class=\"data row8 col72\" >0.000000</td>\n",
       "                        <td id=\"T_d1907_row8_col73\" class=\"data row8 col73\" >0.000000</td>\n",
       "                        <td id=\"T_d1907_row8_col74\" class=\"data row8 col74\" >0.000000</td>\n",
       "                        <td id=\"T_d1907_row8_col75\" class=\"data row8 col75\" >0.000000</td>\n",
       "                        <td id=\"T_d1907_row8_col76\" class=\"data row8 col76\" >0.000000</td>\n",
       "                        <td id=\"T_d1907_row8_col77\" class=\"data row8 col77\" >0.000000</td>\n",
       "                        <td id=\"T_d1907_row8_col78\" class=\"data row8 col78\" >0.000000</td>\n",
       "                        <td id=\"T_d1907_row8_col79\" class=\"data row8 col79\" >0.000000</td>\n",
       "                        <td id=\"T_d1907_row8_col80\" class=\"data row8 col80\" >0.000000</td>\n",
       "                        <td id=\"T_d1907_row8_col81\" class=\"data row8 col81\" >0.000000</td>\n",
       "                        <td id=\"T_d1907_row8_col82\" class=\"data row8 col82\" >0.000000</td>\n",
       "                        <td id=\"T_d1907_row8_col83\" class=\"data row8 col83\" >0.000000</td>\n",
       "                        <td id=\"T_d1907_row8_col84\" class=\"data row8 col84\" >0.000000</td>\n",
       "                        <td id=\"T_d1907_row8_col85\" class=\"data row8 col85\" >0.000000</td>\n",
       "                        <td id=\"T_d1907_row8_col86\" class=\"data row8 col86\" >0.000000</td>\n",
       "                        <td id=\"T_d1907_row8_col87\" class=\"data row8 col87\" >0.000000</td>\n",
       "                        <td id=\"T_d1907_row8_col88\" class=\"data row8 col88\" >0.000000</td>\n",
       "                        <td id=\"T_d1907_row8_col89\" class=\"data row8 col89\" >0.000000</td>\n",
       "                        <td id=\"T_d1907_row8_col90\" class=\"data row8 col90\" >0.000000</td>\n",
       "                        <td id=\"T_d1907_row8_col91\" class=\"data row8 col91\" >0.000000</td>\n",
       "                        <td id=\"T_d1907_row8_col92\" class=\"data row8 col92\" >0.000000</td>\n",
       "                        <td id=\"T_d1907_row8_col93\" class=\"data row8 col93\" >0.000000</td>\n",
       "                        <td id=\"T_d1907_row8_col94\" class=\"data row8 col94\" >0.000000</td>\n",
       "                        <td id=\"T_d1907_row8_col95\" class=\"data row8 col95\" >0.000000</td>\n",
       "                        <td id=\"T_d1907_row8_col96\" class=\"data row8 col96\" >0.000000</td>\n",
       "                        <td id=\"T_d1907_row8_col97\" class=\"data row8 col97\" >0.000000</td>\n",
       "                        <td id=\"T_d1907_row8_col98\" class=\"data row8 col98\" >0.000000</td>\n",
       "                        <td id=\"T_d1907_row8_col99\" class=\"data row8 col99\" >0.000000</td>\n",
       "                        <td id=\"T_d1907_row8_col100\" class=\"data row8 col100\" >0.000000</td>\n",
       "                        <td id=\"T_d1907_row8_col101\" class=\"data row8 col101\" >0.000000</td>\n",
       "                        <td id=\"T_d1907_row8_col102\" class=\"data row8 col102\" >0.000000</td>\n",
       "                        <td id=\"T_d1907_row8_col103\" class=\"data row8 col103\" >0.000000</td>\n",
       "                        <td id=\"T_d1907_row8_col104\" class=\"data row8 col104\" >0.000000</td>\n",
       "                        <td id=\"T_d1907_row8_col105\" class=\"data row8 col105\" >0.000000</td>\n",
       "                        <td id=\"T_d1907_row8_col106\" class=\"data row8 col106\" >1.000000</td>\n",
       "                        <td id=\"T_d1907_row8_col107\" class=\"data row8 col107\" >0.000000</td>\n",
       "                        <td id=\"T_d1907_row8_col108\" class=\"data row8 col108\" >0.000000</td>\n",
       "                        <td id=\"T_d1907_row8_col109\" class=\"data row8 col109\" >0.000000</td>\n",
       "                        <td id=\"T_d1907_row8_col110\" class=\"data row8 col110\" >0.000000</td>\n",
       "                        <td id=\"T_d1907_row8_col111\" class=\"data row8 col111\" >0.000000</td>\n",
       "                        <td id=\"T_d1907_row8_col112\" class=\"data row8 col112\" >0.000000</td>\n",
       "                        <td id=\"T_d1907_row8_col113\" class=\"data row8 col113\" >0.000000</td>\n",
       "                        <td id=\"T_d1907_row8_col114\" class=\"data row8 col114\" >0.000000</td>\n",
       "                        <td id=\"T_d1907_row8_col115\" class=\"data row8 col115\" >0.000000</td>\n",
       "                        <td id=\"T_d1907_row8_col116\" class=\"data row8 col116\" >0.000000</td>\n",
       "                        <td id=\"T_d1907_row8_col117\" class=\"data row8 col117\" >0.000000</td>\n",
       "                        <td id=\"T_d1907_row8_col118\" class=\"data row8 col118\" >0.000000</td>\n",
       "                        <td id=\"T_d1907_row8_col119\" class=\"data row8 col119\" >0.000000</td>\n",
       "                        <td id=\"T_d1907_row8_col120\" class=\"data row8 col120\" >0.000000</td>\n",
       "                        <td id=\"T_d1907_row8_col121\" class=\"data row8 col121\" >0.000000</td>\n",
       "                        <td id=\"T_d1907_row8_col122\" class=\"data row8 col122\" >0.000000</td>\n",
       "                        <td id=\"T_d1907_row8_col123\" class=\"data row8 col123\" >0.000000</td>\n",
       "                        <td id=\"T_d1907_row8_col124\" class=\"data row8 col124\" >0.000000</td>\n",
       "                        <td id=\"T_d1907_row8_col125\" class=\"data row8 col125\" >0.000000</td>\n",
       "                        <td id=\"T_d1907_row8_col126\" class=\"data row8 col126\" >0.000000</td>\n",
       "                        <td id=\"T_d1907_row8_col127\" class=\"data row8 col127\" >0.000000</td>\n",
       "                        <td id=\"T_d1907_row8_col128\" class=\"data row8 col128\" >0.000000</td>\n",
       "                        <td id=\"T_d1907_row8_col129\" class=\"data row8 col129\" >0.000000</td>\n",
       "                        <td id=\"T_d1907_row8_col130\" class=\"data row8 col130\" >0.000000</td>\n",
       "                        <td id=\"T_d1907_row8_col131\" class=\"data row8 col131\" >0.000000</td>\n",
       "                        <td id=\"T_d1907_row8_col132\" class=\"data row8 col132\" >0.000000</td>\n",
       "                        <td id=\"T_d1907_row8_col133\" class=\"data row8 col133\" >0.000000</td>\n",
       "                        <td id=\"T_d1907_row8_col134\" class=\"data row8 col134\" >0.000000</td>\n",
       "                        <td id=\"T_d1907_row8_col135\" class=\"data row8 col135\" >0.000000</td>\n",
       "                        <td id=\"T_d1907_row8_col136\" class=\"data row8 col136\" >0.000000</td>\n",
       "                        <td id=\"T_d1907_row8_col137\" class=\"data row8 col137\" >0.000000</td>\n",
       "                        <td id=\"T_d1907_row8_col138\" class=\"data row8 col138\" >0.000000</td>\n",
       "                        <td id=\"T_d1907_row8_col139\" class=\"data row8 col139\" >0.000000</td>\n",
       "                        <td id=\"T_d1907_row8_col140\" class=\"data row8 col140\" >0.000000</td>\n",
       "                        <td id=\"T_d1907_row8_col141\" class=\"data row8 col141\" >0.000000</td>\n",
       "                        <td id=\"T_d1907_row8_col142\" class=\"data row8 col142\" >0.000000</td>\n",
       "                        <td id=\"T_d1907_row8_col143\" class=\"data row8 col143\" >0.000000</td>\n",
       "                        <td id=\"T_d1907_row8_col144\" class=\"data row8 col144\" >0.000000</td>\n",
       "                        <td id=\"T_d1907_row8_col145\" class=\"data row8 col145\" >0.000000</td>\n",
       "                        <td id=\"T_d1907_row8_col146\" class=\"data row8 col146\" >0.000000</td>\n",
       "                        <td id=\"T_d1907_row8_col147\" class=\"data row8 col147\" >0.000000</td>\n",
       "                        <td id=\"T_d1907_row8_col148\" class=\"data row8 col148\" >0.000000</td>\n",
       "                        <td id=\"T_d1907_row8_col149\" class=\"data row8 col149\" >1.000000</td>\n",
       "                        <td id=\"T_d1907_row8_col150\" class=\"data row8 col150\" >0.000000</td>\n",
       "                        <td id=\"T_d1907_row8_col151\" class=\"data row8 col151\" >0.000000</td>\n",
       "                        <td id=\"T_d1907_row8_col152\" class=\"data row8 col152\" >0.000000</td>\n",
       "                        <td id=\"T_d1907_row8_col153\" class=\"data row8 col153\" >0.000000</td>\n",
       "                        <td id=\"T_d1907_row8_col154\" class=\"data row8 col154\" >0.000000</td>\n",
       "                        <td id=\"T_d1907_row8_col155\" class=\"data row8 col155\" >0.000000</td>\n",
       "                        <td id=\"T_d1907_row8_col156\" class=\"data row8 col156\" >0.000000</td>\n",
       "                        <td id=\"T_d1907_row8_col157\" class=\"data row8 col157\" >0.000000</td>\n",
       "                        <td id=\"T_d1907_row8_col158\" class=\"data row8 col158\" >0.000000</td>\n",
       "                        <td id=\"T_d1907_row8_col159\" class=\"data row8 col159\" >0.000000</td>\n",
       "                        <td id=\"T_d1907_row8_col160\" class=\"data row8 col160\" >0.000000</td>\n",
       "                        <td id=\"T_d1907_row8_col161\" class=\"data row8 col161\" >0.000000</td>\n",
       "                        <td id=\"T_d1907_row8_col162\" class=\"data row8 col162\" >0.000000</td>\n",
       "                        <td id=\"T_d1907_row8_col163\" class=\"data row8 col163\" >0.000000</td>\n",
       "                        <td id=\"T_d1907_row8_col164\" class=\"data row8 col164\" >0.000000</td>\n",
       "                        <td id=\"T_d1907_row8_col165\" class=\"data row8 col165\" >0.000000</td>\n",
       "                        <td id=\"T_d1907_row8_col166\" class=\"data row8 col166\" >0.000000</td>\n",
       "                        <td id=\"T_d1907_row8_col167\" class=\"data row8 col167\" >0.000000</td>\n",
       "                        <td id=\"T_d1907_row8_col168\" class=\"data row8 col168\" >0.000000</td>\n",
       "                        <td id=\"T_d1907_row8_col169\" class=\"data row8 col169\" >0.000000</td>\n",
       "                        <td id=\"T_d1907_row8_col170\" class=\"data row8 col170\" >0.000000</td>\n",
       "                        <td id=\"T_d1907_row8_col171\" class=\"data row8 col171\" >1.000000</td>\n",
       "                        <td id=\"T_d1907_row8_col172\" class=\"data row8 col172\" >0.000000</td>\n",
       "                        <td id=\"T_d1907_row8_col173\" class=\"data row8 col173\" >0.000000</td>\n",
       "                        <td id=\"T_d1907_row8_col174\" class=\"data row8 col174\" >1.000000</td>\n",
       "                        <td id=\"T_d1907_row8_col175\" class=\"data row8 col175\" >1.000000</td>\n",
       "                        <td id=\"T_d1907_row8_col176\" class=\"data row8 col176\" >0.000000</td>\n",
       "                        <td id=\"T_d1907_row8_col177\" class=\"data row8 col177\" >0.000000</td>\n",
       "                        <td id=\"T_d1907_row8_col178\" class=\"data row8 col178\" >0.000000</td>\n",
       "                        <td id=\"T_d1907_row8_col179\" class=\"data row8 col179\" >1.000000</td>\n",
       "                        <td id=\"T_d1907_row8_col180\" class=\"data row8 col180\" >1.000000</td>\n",
       "                        <td id=\"T_d1907_row8_col181\" class=\"data row8 col181\" >0.336089</td>\n",
       "                        <td id=\"T_d1907_row8_col182\" class=\"data row8 col182\" >0.000000</td>\n",
       "                        <td id=\"T_d1907_row8_col183\" class=\"data row8 col183\" >0.222222</td>\n",
       "                        <td id=\"T_d1907_row8_col184\" class=\"data row8 col184\" >0.400155</td>\n",
       "                        <td id=\"T_d1907_row8_col185\" class=\"data row8 col185\" >0.000000</td>\n",
       "                        <td id=\"T_d1907_row8_col186\" class=\"data row8 col186\" >1</td>\n",
       "                        <td id=\"T_d1907_row8_col187\" class=\"data row8 col187\" >0</td>\n",
       "                        <td id=\"T_d1907_row8_col188\" class=\"data row8 col188\" >0</td>\n",
       "                        <td id=\"T_d1907_row8_col189\" class=\"data row8 col189\" >0.000000</td>\n",
       "            </tr>\n",
       "            <tr>\n",
       "                        <th id=\"T_d1907_level0_row9\" class=\"row_heading level0 row9\" >10</th>\n",
       "                        <td id=\"T_d1907_row9_col0\" class=\"data row9 col0\" >0.000000</td>\n",
       "                        <td id=\"T_d1907_row9_col1\" class=\"data row9 col1\" >0.000000</td>\n",
       "                        <td id=\"T_d1907_row9_col2\" class=\"data row9 col2\" >0.000000</td>\n",
       "                        <td id=\"T_d1907_row9_col3\" class=\"data row9 col3\" >1.000000</td>\n",
       "                        <td id=\"T_d1907_row9_col4\" class=\"data row9 col4\" >0.000000</td>\n",
       "                        <td id=\"T_d1907_row9_col5\" class=\"data row9 col5\" >0.000000</td>\n",
       "                        <td id=\"T_d1907_row9_col6\" class=\"data row9 col6\" >0.000000</td>\n",
       "                        <td id=\"T_d1907_row9_col7\" class=\"data row9 col7\" >0.000000</td>\n",
       "                        <td id=\"T_d1907_row9_col8\" class=\"data row9 col8\" >0.000000</td>\n",
       "                        <td id=\"T_d1907_row9_col9\" class=\"data row9 col9\" >0.000000</td>\n",
       "                        <td id=\"T_d1907_row9_col10\" class=\"data row9 col10\" >0.000000</td>\n",
       "                        <td id=\"T_d1907_row9_col11\" class=\"data row9 col11\" >0.000000</td>\n",
       "                        <td id=\"T_d1907_row9_col12\" class=\"data row9 col12\" >0.000000</td>\n",
       "                        <td id=\"T_d1907_row9_col13\" class=\"data row9 col13\" >0.000000</td>\n",
       "                        <td id=\"T_d1907_row9_col14\" class=\"data row9 col14\" >0.000000</td>\n",
       "                        <td id=\"T_d1907_row9_col15\" class=\"data row9 col15\" >0.000000</td>\n",
       "                        <td id=\"T_d1907_row9_col16\" class=\"data row9 col16\" >0.000000</td>\n",
       "                        <td id=\"T_d1907_row9_col17\" class=\"data row9 col17\" >0.000000</td>\n",
       "                        <td id=\"T_d1907_row9_col18\" class=\"data row9 col18\" >0.000000</td>\n",
       "                        <td id=\"T_d1907_row9_col19\" class=\"data row9 col19\" >0.000000</td>\n",
       "                        <td id=\"T_d1907_row9_col20\" class=\"data row9 col20\" >0.000000</td>\n",
       "                        <td id=\"T_d1907_row9_col21\" class=\"data row9 col21\" >0.000000</td>\n",
       "                        <td id=\"T_d1907_row9_col22\" class=\"data row9 col22\" >0.000000</td>\n",
       "                        <td id=\"T_d1907_row9_col23\" class=\"data row9 col23\" >0.000000</td>\n",
       "                        <td id=\"T_d1907_row9_col24\" class=\"data row9 col24\" >0.000000</td>\n",
       "                        <td id=\"T_d1907_row9_col25\" class=\"data row9 col25\" >0.000000</td>\n",
       "                        <td id=\"T_d1907_row9_col26\" class=\"data row9 col26\" >0.000000</td>\n",
       "                        <td id=\"T_d1907_row9_col27\" class=\"data row9 col27\" >0.000000</td>\n",
       "                        <td id=\"T_d1907_row9_col28\" class=\"data row9 col28\" >0.000000</td>\n",
       "                        <td id=\"T_d1907_row9_col29\" class=\"data row9 col29\" >0.000000</td>\n",
       "                        <td id=\"T_d1907_row9_col30\" class=\"data row9 col30\" >0.000000</td>\n",
       "                        <td id=\"T_d1907_row9_col31\" class=\"data row9 col31\" >0.000000</td>\n",
       "                        <td id=\"T_d1907_row9_col32\" class=\"data row9 col32\" >0.000000</td>\n",
       "                        <td id=\"T_d1907_row9_col33\" class=\"data row9 col33\" >0.000000</td>\n",
       "                        <td id=\"T_d1907_row9_col34\" class=\"data row9 col34\" >0.000000</td>\n",
       "                        <td id=\"T_d1907_row9_col35\" class=\"data row9 col35\" >0.000000</td>\n",
       "                        <td id=\"T_d1907_row9_col36\" class=\"data row9 col36\" >0.000000</td>\n",
       "                        <td id=\"T_d1907_row9_col37\" class=\"data row9 col37\" >0.000000</td>\n",
       "                        <td id=\"T_d1907_row9_col38\" class=\"data row9 col38\" >0.000000</td>\n",
       "                        <td id=\"T_d1907_row9_col39\" class=\"data row9 col39\" >0.000000</td>\n",
       "                        <td id=\"T_d1907_row9_col40\" class=\"data row9 col40\" >0.000000</td>\n",
       "                        <td id=\"T_d1907_row9_col41\" class=\"data row9 col41\" >0.000000</td>\n",
       "                        <td id=\"T_d1907_row9_col42\" class=\"data row9 col42\" >0.000000</td>\n",
       "                        <td id=\"T_d1907_row9_col43\" class=\"data row9 col43\" >0.000000</td>\n",
       "                        <td id=\"T_d1907_row9_col44\" class=\"data row9 col44\" >0.000000</td>\n",
       "                        <td id=\"T_d1907_row9_col45\" class=\"data row9 col45\" >0.000000</td>\n",
       "                        <td id=\"T_d1907_row9_col46\" class=\"data row9 col46\" >0.000000</td>\n",
       "                        <td id=\"T_d1907_row9_col47\" class=\"data row9 col47\" >0.000000</td>\n",
       "                        <td id=\"T_d1907_row9_col48\" class=\"data row9 col48\" >0.000000</td>\n",
       "                        <td id=\"T_d1907_row9_col49\" class=\"data row9 col49\" >0.000000</td>\n",
       "                        <td id=\"T_d1907_row9_col50\" class=\"data row9 col50\" >0.000000</td>\n",
       "                        <td id=\"T_d1907_row9_col51\" class=\"data row9 col51\" >0.000000</td>\n",
       "                        <td id=\"T_d1907_row9_col52\" class=\"data row9 col52\" >0.000000</td>\n",
       "                        <td id=\"T_d1907_row9_col53\" class=\"data row9 col53\" >0.000000</td>\n",
       "                        <td id=\"T_d1907_row9_col54\" class=\"data row9 col54\" >0.000000</td>\n",
       "                        <td id=\"T_d1907_row9_col55\" class=\"data row9 col55\" >0.000000</td>\n",
       "                        <td id=\"T_d1907_row9_col56\" class=\"data row9 col56\" >0.000000</td>\n",
       "                        <td id=\"T_d1907_row9_col57\" class=\"data row9 col57\" >0.000000</td>\n",
       "                        <td id=\"T_d1907_row9_col58\" class=\"data row9 col58\" >0.000000</td>\n",
       "                        <td id=\"T_d1907_row9_col59\" class=\"data row9 col59\" >0.000000</td>\n",
       "                        <td id=\"T_d1907_row9_col60\" class=\"data row9 col60\" >0.000000</td>\n",
       "                        <td id=\"T_d1907_row9_col61\" class=\"data row9 col61\" >0.000000</td>\n",
       "                        <td id=\"T_d1907_row9_col62\" class=\"data row9 col62\" >0.000000</td>\n",
       "                        <td id=\"T_d1907_row9_col63\" class=\"data row9 col63\" >0.000000</td>\n",
       "                        <td id=\"T_d1907_row9_col64\" class=\"data row9 col64\" >0.000000</td>\n",
       "                        <td id=\"T_d1907_row9_col65\" class=\"data row9 col65\" >0.000000</td>\n",
       "                        <td id=\"T_d1907_row9_col66\" class=\"data row9 col66\" >0.000000</td>\n",
       "                        <td id=\"T_d1907_row9_col67\" class=\"data row9 col67\" >0.000000</td>\n",
       "                        <td id=\"T_d1907_row9_col68\" class=\"data row9 col68\" >0.000000</td>\n",
       "                        <td id=\"T_d1907_row9_col69\" class=\"data row9 col69\" >0.000000</td>\n",
       "                        <td id=\"T_d1907_row9_col70\" class=\"data row9 col70\" >0.000000</td>\n",
       "                        <td id=\"T_d1907_row9_col71\" class=\"data row9 col71\" >0.000000</td>\n",
       "                        <td id=\"T_d1907_row9_col72\" class=\"data row9 col72\" >0.000000</td>\n",
       "                        <td id=\"T_d1907_row9_col73\" class=\"data row9 col73\" >0.000000</td>\n",
       "                        <td id=\"T_d1907_row9_col74\" class=\"data row9 col74\" >0.000000</td>\n",
       "                        <td id=\"T_d1907_row9_col75\" class=\"data row9 col75\" >0.000000</td>\n",
       "                        <td id=\"T_d1907_row9_col76\" class=\"data row9 col76\" >0.000000</td>\n",
       "                        <td id=\"T_d1907_row9_col77\" class=\"data row9 col77\" >0.000000</td>\n",
       "                        <td id=\"T_d1907_row9_col78\" class=\"data row9 col78\" >0.000000</td>\n",
       "                        <td id=\"T_d1907_row9_col79\" class=\"data row9 col79\" >0.000000</td>\n",
       "                        <td id=\"T_d1907_row9_col80\" class=\"data row9 col80\" >0.000000</td>\n",
       "                        <td id=\"T_d1907_row9_col81\" class=\"data row9 col81\" >0.000000</td>\n",
       "                        <td id=\"T_d1907_row9_col82\" class=\"data row9 col82\" >0.000000</td>\n",
       "                        <td id=\"T_d1907_row9_col83\" class=\"data row9 col83\" >0.000000</td>\n",
       "                        <td id=\"T_d1907_row9_col84\" class=\"data row9 col84\" >0.000000</td>\n",
       "                        <td id=\"T_d1907_row9_col85\" class=\"data row9 col85\" >0.000000</td>\n",
       "                        <td id=\"T_d1907_row9_col86\" class=\"data row9 col86\" >0.000000</td>\n",
       "                        <td id=\"T_d1907_row9_col87\" class=\"data row9 col87\" >0.000000</td>\n",
       "                        <td id=\"T_d1907_row9_col88\" class=\"data row9 col88\" >0.000000</td>\n",
       "                        <td id=\"T_d1907_row9_col89\" class=\"data row9 col89\" >0.000000</td>\n",
       "                        <td id=\"T_d1907_row9_col90\" class=\"data row9 col90\" >0.000000</td>\n",
       "                        <td id=\"T_d1907_row9_col91\" class=\"data row9 col91\" >0.000000</td>\n",
       "                        <td id=\"T_d1907_row9_col92\" class=\"data row9 col92\" >0.000000</td>\n",
       "                        <td id=\"T_d1907_row9_col93\" class=\"data row9 col93\" >0.000000</td>\n",
       "                        <td id=\"T_d1907_row9_col94\" class=\"data row9 col94\" >0.000000</td>\n",
       "                        <td id=\"T_d1907_row9_col95\" class=\"data row9 col95\" >0.000000</td>\n",
       "                        <td id=\"T_d1907_row9_col96\" class=\"data row9 col96\" >0.000000</td>\n",
       "                        <td id=\"T_d1907_row9_col97\" class=\"data row9 col97\" >0.000000</td>\n",
       "                        <td id=\"T_d1907_row9_col98\" class=\"data row9 col98\" >0.000000</td>\n",
       "                        <td id=\"T_d1907_row9_col99\" class=\"data row9 col99\" >0.000000</td>\n",
       "                        <td id=\"T_d1907_row9_col100\" class=\"data row9 col100\" >0.000000</td>\n",
       "                        <td id=\"T_d1907_row9_col101\" class=\"data row9 col101\" >0.000000</td>\n",
       "                        <td id=\"T_d1907_row9_col102\" class=\"data row9 col102\" >0.000000</td>\n",
       "                        <td id=\"T_d1907_row9_col103\" class=\"data row9 col103\" >0.000000</td>\n",
       "                        <td id=\"T_d1907_row9_col104\" class=\"data row9 col104\" >0.000000</td>\n",
       "                        <td id=\"T_d1907_row9_col105\" class=\"data row9 col105\" >0.000000</td>\n",
       "                        <td id=\"T_d1907_row9_col106\" class=\"data row9 col106\" >1.000000</td>\n",
       "                        <td id=\"T_d1907_row9_col107\" class=\"data row9 col107\" >0.000000</td>\n",
       "                        <td id=\"T_d1907_row9_col108\" class=\"data row9 col108\" >0.000000</td>\n",
       "                        <td id=\"T_d1907_row9_col109\" class=\"data row9 col109\" >0.000000</td>\n",
       "                        <td id=\"T_d1907_row9_col110\" class=\"data row9 col110\" >0.000000</td>\n",
       "                        <td id=\"T_d1907_row9_col111\" class=\"data row9 col111\" >0.000000</td>\n",
       "                        <td id=\"T_d1907_row9_col112\" class=\"data row9 col112\" >0.000000</td>\n",
       "                        <td id=\"T_d1907_row9_col113\" class=\"data row9 col113\" >0.000000</td>\n",
       "                        <td id=\"T_d1907_row9_col114\" class=\"data row9 col114\" >0.000000</td>\n",
       "                        <td id=\"T_d1907_row9_col115\" class=\"data row9 col115\" >0.000000</td>\n",
       "                        <td id=\"T_d1907_row9_col116\" class=\"data row9 col116\" >0.000000</td>\n",
       "                        <td id=\"T_d1907_row9_col117\" class=\"data row9 col117\" >0.000000</td>\n",
       "                        <td id=\"T_d1907_row9_col118\" class=\"data row9 col118\" >0.000000</td>\n",
       "                        <td id=\"T_d1907_row9_col119\" class=\"data row9 col119\" >0.000000</td>\n",
       "                        <td id=\"T_d1907_row9_col120\" class=\"data row9 col120\" >0.000000</td>\n",
       "                        <td id=\"T_d1907_row9_col121\" class=\"data row9 col121\" >0.000000</td>\n",
       "                        <td id=\"T_d1907_row9_col122\" class=\"data row9 col122\" >0.000000</td>\n",
       "                        <td id=\"T_d1907_row9_col123\" class=\"data row9 col123\" >0.000000</td>\n",
       "                        <td id=\"T_d1907_row9_col124\" class=\"data row9 col124\" >0.000000</td>\n",
       "                        <td id=\"T_d1907_row9_col125\" class=\"data row9 col125\" >0.000000</td>\n",
       "                        <td id=\"T_d1907_row9_col126\" class=\"data row9 col126\" >0.000000</td>\n",
       "                        <td id=\"T_d1907_row9_col127\" class=\"data row9 col127\" >0.000000</td>\n",
       "                        <td id=\"T_d1907_row9_col128\" class=\"data row9 col128\" >0.000000</td>\n",
       "                        <td id=\"T_d1907_row9_col129\" class=\"data row9 col129\" >0.000000</td>\n",
       "                        <td id=\"T_d1907_row9_col130\" class=\"data row9 col130\" >0.000000</td>\n",
       "                        <td id=\"T_d1907_row9_col131\" class=\"data row9 col131\" >0.000000</td>\n",
       "                        <td id=\"T_d1907_row9_col132\" class=\"data row9 col132\" >0.000000</td>\n",
       "                        <td id=\"T_d1907_row9_col133\" class=\"data row9 col133\" >0.000000</td>\n",
       "                        <td id=\"T_d1907_row9_col134\" class=\"data row9 col134\" >0.000000</td>\n",
       "                        <td id=\"T_d1907_row9_col135\" class=\"data row9 col135\" >0.000000</td>\n",
       "                        <td id=\"T_d1907_row9_col136\" class=\"data row9 col136\" >0.000000</td>\n",
       "                        <td id=\"T_d1907_row9_col137\" class=\"data row9 col137\" >0.000000</td>\n",
       "                        <td id=\"T_d1907_row9_col138\" class=\"data row9 col138\" >0.000000</td>\n",
       "                        <td id=\"T_d1907_row9_col139\" class=\"data row9 col139\" >0.000000</td>\n",
       "                        <td id=\"T_d1907_row9_col140\" class=\"data row9 col140\" >0.000000</td>\n",
       "                        <td id=\"T_d1907_row9_col141\" class=\"data row9 col141\" >0.000000</td>\n",
       "                        <td id=\"T_d1907_row9_col142\" class=\"data row9 col142\" >0.000000</td>\n",
       "                        <td id=\"T_d1907_row9_col143\" class=\"data row9 col143\" >0.000000</td>\n",
       "                        <td id=\"T_d1907_row9_col144\" class=\"data row9 col144\" >0.000000</td>\n",
       "                        <td id=\"T_d1907_row9_col145\" class=\"data row9 col145\" >0.000000</td>\n",
       "                        <td id=\"T_d1907_row9_col146\" class=\"data row9 col146\" >0.000000</td>\n",
       "                        <td id=\"T_d1907_row9_col147\" class=\"data row9 col147\" >0.000000</td>\n",
       "                        <td id=\"T_d1907_row9_col148\" class=\"data row9 col148\" >0.000000</td>\n",
       "                        <td id=\"T_d1907_row9_col149\" class=\"data row9 col149\" >1.000000</td>\n",
       "                        <td id=\"T_d1907_row9_col150\" class=\"data row9 col150\" >0.000000</td>\n",
       "                        <td id=\"T_d1907_row9_col151\" class=\"data row9 col151\" >0.000000</td>\n",
       "                        <td id=\"T_d1907_row9_col152\" class=\"data row9 col152\" >0.000000</td>\n",
       "                        <td id=\"T_d1907_row9_col153\" class=\"data row9 col153\" >0.000000</td>\n",
       "                        <td id=\"T_d1907_row9_col154\" class=\"data row9 col154\" >0.000000</td>\n",
       "                        <td id=\"T_d1907_row9_col155\" class=\"data row9 col155\" >0.000000</td>\n",
       "                        <td id=\"T_d1907_row9_col156\" class=\"data row9 col156\" >0.000000</td>\n",
       "                        <td id=\"T_d1907_row9_col157\" class=\"data row9 col157\" >0.000000</td>\n",
       "                        <td id=\"T_d1907_row9_col158\" class=\"data row9 col158\" >0.000000</td>\n",
       "                        <td id=\"T_d1907_row9_col159\" class=\"data row9 col159\" >0.000000</td>\n",
       "                        <td id=\"T_d1907_row9_col160\" class=\"data row9 col160\" >0.000000</td>\n",
       "                        <td id=\"T_d1907_row9_col161\" class=\"data row9 col161\" >0.000000</td>\n",
       "                        <td id=\"T_d1907_row9_col162\" class=\"data row9 col162\" >0.000000</td>\n",
       "                        <td id=\"T_d1907_row9_col163\" class=\"data row9 col163\" >0.000000</td>\n",
       "                        <td id=\"T_d1907_row9_col164\" class=\"data row9 col164\" >0.000000</td>\n",
       "                        <td id=\"T_d1907_row9_col165\" class=\"data row9 col165\" >0.000000</td>\n",
       "                        <td id=\"T_d1907_row9_col166\" class=\"data row9 col166\" >0.000000</td>\n",
       "                        <td id=\"T_d1907_row9_col167\" class=\"data row9 col167\" >0.000000</td>\n",
       "                        <td id=\"T_d1907_row9_col168\" class=\"data row9 col168\" >0.000000</td>\n",
       "                        <td id=\"T_d1907_row9_col169\" class=\"data row9 col169\" >0.000000</td>\n",
       "                        <td id=\"T_d1907_row9_col170\" class=\"data row9 col170\" >0.000000</td>\n",
       "                        <td id=\"T_d1907_row9_col171\" class=\"data row9 col171\" >1.000000</td>\n",
       "                        <td id=\"T_d1907_row9_col172\" class=\"data row9 col172\" >1.000000</td>\n",
       "                        <td id=\"T_d1907_row9_col173\" class=\"data row9 col173\" >0.000000</td>\n",
       "                        <td id=\"T_d1907_row9_col174\" class=\"data row9 col174\" >0.000000</td>\n",
       "                        <td id=\"T_d1907_row9_col175\" class=\"data row9 col175\" >1.000000</td>\n",
       "                        <td id=\"T_d1907_row9_col176\" class=\"data row9 col176\" >0.000000</td>\n",
       "                        <td id=\"T_d1907_row9_col177\" class=\"data row9 col177\" >0.000000</td>\n",
       "                        <td id=\"T_d1907_row9_col178\" class=\"data row9 col178\" >1.000000</td>\n",
       "                        <td id=\"T_d1907_row9_col179\" class=\"data row9 col179\" >0.000000</td>\n",
       "                        <td id=\"T_d1907_row9_col180\" class=\"data row9 col180\" >1.000000</td>\n",
       "                        <td id=\"T_d1907_row9_col181\" class=\"data row9 col181\" >0.173243</td>\n",
       "                        <td id=\"T_d1907_row9_col182\" class=\"data row9 col182\" >0.125000</td>\n",
       "                        <td id=\"T_d1907_row9_col183\" class=\"data row9 col183\" >0.000000</td>\n",
       "                        <td id=\"T_d1907_row9_col184\" class=\"data row9 col184\" >0.736068</td>\n",
       "                        <td id=\"T_d1907_row9_col185\" class=\"data row9 col185\" >0.000000</td>\n",
       "                        <td id=\"T_d1907_row9_col186\" class=\"data row9 col186\" >1</td>\n",
       "                        <td id=\"T_d1907_row9_col187\" class=\"data row9 col187\" >1</td>\n",
       "                        <td id=\"T_d1907_row9_col188\" class=\"data row9 col188\" >0</td>\n",
       "                        <td id=\"T_d1907_row9_col189\" class=\"data row9 col189\" >0.000000</td>\n",
       "            </tr>\n",
       "    </tbody></table>"
      ],
      "text/plain": [
       "<pandas.io.formats.style.Styler at 0x7f5589137350>"
      ]
     },
     "execution_count": 48,
     "metadata": {},
     "output_type": "execute_result"
    }
   ],
   "source": [
    "onehot_df.head(10).style.background_gradient(cmap=\"Blues\")"
   ]
  },
  {
   "cell_type": "markdown",
   "metadata": {
    "_cell_guid": "1d0d9573-65ff-4c3f-ad8f-003a86d9332a",
    "_uuid": "e82c090e-cfe3-45be-9955-4cd44eda79de",
    "papermill": {
     "duration": 0.093865,
     "end_time": "2022-07-11T06:08:27.946475",
     "exception": false,
     "start_time": "2022-07-11T06:08:27.852610",
     "status": "completed"
    },
    "tags": []
   },
   "source": [
    "Resulting matrix looks like too spars, because of Surnames features, which should provide us some groups of survivals.\n",
    "Now we gonna try to use it for the baseline. In the next versions, i'll try some other configurations"
   ]
  },
  {
   "cell_type": "markdown",
   "metadata": {
    "_cell_guid": "f371a517-365b-4bd6-901b-216b8b7ddc57",
    "_uuid": "cac35a7f-7e66-4bf1-9bc3-a9323df4e029",
    "papermill": {
     "duration": 0.095867,
     "end_time": "2022-07-11T06:08:28.137756",
     "exception": false,
     "start_time": "2022-07-11T06:08:28.041889",
     "status": "completed"
    },
    "tags": []
   },
   "source": [
    "# <a class=\"anchor\" id=\"3_bullet\" style=\"color:#292F55\">  3. Model development"
   ]
  },
  {
   "cell_type": "code",
   "execution_count": 49,
   "metadata": {
    "_cell_guid": "cae6f771-7cc4-4a45-9def-a0af1a3e9fb7",
    "_uuid": "372d7b8a-4901-4d3d-ad75-58b7ff0c5ca9",
    "collapsed": false,
    "execution": {
     "iopub.execute_input": "2022-07-11T06:08:28.338409Z",
     "iopub.status.busy": "2022-07-11T06:08:28.337753Z",
     "iopub.status.idle": "2022-07-11T06:08:28.348956Z",
     "shell.execute_reply": "2022-07-11T06:08:28.349433Z"
    },
    "jupyter": {
     "outputs_hidden": false
    },
    "papermill": {
     "duration": 0.116854,
     "end_time": "2022-07-11T06:08:28.349629",
     "exception": false,
     "start_time": "2022-07-11T06:08:28.232775",
     "status": "completed"
    },
    "tags": []
   },
   "outputs": [
    {
     "name": "stderr",
     "output_type": "stream",
     "text": [
      "/opt/conda/lib/python3.7/site-packages/pandas/core/indexing.py:1675: SettingWithCopyWarning:\n",
      "\n",
      "\n",
      "A value is trying to be set on a copy of a slice from a DataFrame.\n",
      "Try using .loc[row_indexer,col_indexer] = value instead\n",
      "\n",
      "See the caveats in the documentation: https://pandas.pydata.org/pandas-docs/stable/user_guide/indexing.html#returning-a-view-versus-a-copy\n",
      "\n"
     ]
    }
   ],
   "source": [
    "df_train = onehot_df.copy(deep=True)\n",
    "mask = df_train[\"Survived\"].isna()\n",
    "train, deploy = df_train[~mask], df_train[mask]\n",
    "deploy = deploy.drop(\"Survived\", axis=1)\n",
    "train.loc[:,\"Survived\"] = train.loc[:,\"Survived\"].astype(bool)\n",
    "x_train, y_train = train.drop(\"Survived\", axis=1), train[\"Survived\"].astype(int)"
   ]
  },
  {
   "cell_type": "markdown",
   "metadata": {
    "_cell_guid": "7ec678c2-9cdb-4916-bf99-7ee97ef30d02",
    "_uuid": "32d4dcbc-9174-4d5c-8ac3-c218846ade32",
    "papermill": {
     "duration": 0.093581,
     "end_time": "2022-07-11T06:08:28.537567",
     "exception": false,
     "start_time": "2022-07-11T06:08:28.443986",
     "status": "completed"
    },
    "tags": []
   },
   "source": [
    "## <a class=\"anchor\" id=\"3.1_bullet\" style=\"color:#3B61A3\">  3.1 Models baselines"
   ]
  },
  {
   "cell_type": "markdown",
   "metadata": {
    "papermill": {
     "duration": 0.093403,
     "end_time": "2022-07-11T06:08:28.725168",
     "exception": false,
     "start_time": "2022-07-11T06:08:28.631765",
     "status": "completed"
    },
    "tags": []
   },
   "source": [
    "We will define the method, which fits the given model and puts all the neccesery data into different structures to use them further:\n",
    "\n",
    "* deploy_acc  - model accuracy for deploy dataset\n",
    "* train_acc   - model accuracy after the validation\n",
    "* models_dict - dictionary of the models\n"
   ]
  },
  {
   "cell_type": "code",
   "execution_count": 50,
   "metadata": {
    "_cell_guid": "d8a87f4f-f972-464a-9d28-c482878d48be",
    "_uuid": "e3a1d109-d844-4dfe-afd9-d846ecd8b996",
    "collapsed": false,
    "execution": {
     "iopub.execute_input": "2022-07-11T06:08:28.920546Z",
     "iopub.status.busy": "2022-07-11T06:08:28.919909Z",
     "iopub.status.idle": "2022-07-11T06:08:28.926116Z",
     "shell.execute_reply": "2022-07-11T06:08:28.926663Z"
    },
    "jupyter": {
     "outputs_hidden": false
    },
    "papermill": {
     "duration": 0.104905,
     "end_time": "2022-07-11T06:08:28.926880",
     "exception": false,
     "start_time": "2022-07-11T06:08:28.821975",
     "status": "completed"
    },
    "tags": []
   },
   "outputs": [],
   "source": [
    "deploy_acc, train_acc, models_dict= {},{},{}\n",
    "\n",
    "def baseline(name, model, verbose=True):\n",
    "    models_dict[name] = model\n",
    "    models_dict[name].fit(x_train,y_train)\n",
    "    y_train_hat = models_dict[name].predict(x_train)\n",
    "    train_acc[name] = accuracy_score(y_train,y_train_hat)\n",
    "    if verbose:\n",
    "        skplt.metrics.plot_confusion_matrix(y_train, y_train_hat, normalize=True, figsize=(5,5))\n",
    "    submition = pd.DataFrame(models_dict[name].predict(deploy), index= deploy.index,columns = [\"Survived\"]).astype(int)\n",
    "    submition.to_csv(f'{name}.csv')"
   ]
  },
  {
   "cell_type": "markdown",
   "metadata": {
    "_cell_guid": "803c1c5c-f248-4f4a-8ba8-7ac0a210a7d6",
    "_uuid": "596e662e-0691-49c7-bbd6-e9c6bec6c28e",
    "papermill": {
     "duration": 0.096962,
     "end_time": "2022-07-11T06:08:29.119356",
     "exception": false,
     "start_time": "2022-07-11T06:08:29.022394",
     "status": "completed"
    },
    "tags": []
   },
   "source": [
    "I've tried several Gridsearches for CVs with Kfold. And after a bunch of deploys, i chose those models.\n",
    "I chose models which gave me the best deploy accuracy. This models gonna be not \"Best model for Survival prediction\" , but \"The best model to predict the test set\", which is not the exect solution for the task."
   ]
  },
  {
   "cell_type": "code",
   "execution_count": 51,
   "metadata": {
    "_cell_guid": "61e0bb7c-72ac-4372-a7e4-64ace9513b52",
    "_uuid": "53c36f6c-fbf3-4fe9-bd3a-54e6d02961ba",
    "collapsed": false,
    "execution": {
     "iopub.execute_input": "2022-07-11T06:08:29.311504Z",
     "iopub.status.busy": "2022-07-11T06:08:29.310842Z",
     "iopub.status.idle": "2022-07-11T06:08:30.733910Z",
     "shell.execute_reply": "2022-07-11T06:08:30.733288Z"
    },
    "jupyter": {
     "outputs_hidden": false
    },
    "papermill": {
     "duration": 1.520146,
     "end_time": "2022-07-11T06:08:30.734065",
     "exception": false,
     "start_time": "2022-07-11T06:08:29.213919",
     "status": "completed"
    },
    "tags": []
   },
   "outputs": [
    {
     "name": "stderr",
     "output_type": "stream",
     "text": [
      "/opt/conda/lib/python3.7/site-packages/xgboost/sklearn.py:888: UserWarning:\n",
      "\n",
      "The use of label encoder in XGBClassifier is deprecated and will be removed in a future release. To remove this warning, do the following: 1) Pass option use_label_encoder=False when constructing XGBClassifier object; and 2) Encode your labels (y) as integers starting with 0, i.e. 0, 1, 2, ..., [num_class - 1].\n",
      "\n"
     ]
    },
    {
     "name": "stdout",
     "output_type": "stream",
     "text": [
      "[06:08:29] WARNING: ../src/learner.cc:1061: Starting in XGBoost 1.3.0, the default evaluation metric used with the objective 'binary:logistic' was changed from 'error' to 'logloss'. Explicitly set eval_metric if you'd like to restore the old behavior.\n"
     ]
    }
   ],
   "source": [
    "params = {\"penalty\":\"l2\",\"solver\": \"liblinear\",\"C\":0.2,}\n",
    "name, model = \"lr_baseline\", LogisticRegression(**params)\n",
    "baseline(name, model, verbose=False)\n",
    "\n",
    "name, model = \"svm_baseline\", SVC(**{'C': 5, 'degree': 2, 'gamma': 0.1, 'kernel': 'poly'})\n",
    "baseline(name, model, verbose=False)\n",
    "\n",
    "params = {\"eta\":0.1,\"gamma\":0,\"max_depth\":6,\"lambda\":0.1,\"alpha\":10}\n",
    "name, model = \"xg_baseline\", XGBClassifier(**params)\n",
    "baseline(name, model, verbose=False)\n",
    "\n",
    "params = {\"rsm\":0.1, \"learning_rate\":0.005,\"iterations\":500,\"l2_leaf_reg\":5,\"verbose\":False}\n",
    "name, model = \"cb_baseline\", CatBoostClassifier(**params)\n",
    "baseline(name, model, verbose=False)"
   ]
  },
  {
   "cell_type": "code",
   "execution_count": 52,
   "metadata": {
    "_cell_guid": "4350c146-dfbd-47ff-a463-6f868515222a",
    "_uuid": "5a56d86c-253d-40f2-9e2f-8bb85e1e044e",
    "collapsed": false,
    "execution": {
     "iopub.execute_input": "2022-07-11T06:08:30.952127Z",
     "iopub.status.busy": "2022-07-11T06:08:30.951066Z",
     "iopub.status.idle": "2022-07-11T06:08:31.830133Z",
     "shell.execute_reply": "2022-07-11T06:08:31.829134Z"
    },
    "jupyter": {
     "outputs_hidden": false
    },
    "papermill": {
     "duration": 0.999493,
     "end_time": "2022-07-11T06:08:31.830370",
     "exception": false,
     "start_time": "2022-07-11T06:08:30.830877",
     "status": "completed"
    },
    "tags": []
   },
   "outputs": [
    {
     "data": {
      "image/png": "[encoded data removed]",
      "text/plain": [
       "<Figure size 2520x720 with 8 Axes>"
      ]
     },
     "metadata": {
      "needs_background": "light"
     },
     "output_type": "display_data"
    }
   ],
   "source": [
    "fig = plt.figure(figsize=(35,10))\n",
    "count=1\n",
    "for k in models_dict:\n",
    "    ax = fig.add_subplot(1,len(models_dict),count)\n",
    "    count+=1\n",
    "    skplt.metrics.plot_confusion_matrix(y_train, models_dict[k].predict(x_train), normalize=True, figsize=(5,5),ax=ax, cmap=\"Blues\")\n",
    "    ax.set_title(k)\n",
    "plt.show()"
   ]
  },
  {
   "cell_type": "code",
   "execution_count": 53,
   "metadata": {
    "_cell_guid": "df1dd3c2-e8d6-4d05-930a-edd816dc6b9e",
    "_uuid": "a9da422e-d5bb-4ab1-abb2-5a33dfd8f7da",
    "collapsed": false,
    "execution": {
     "iopub.execute_input": "2022-07-11T06:08:32.062678Z",
     "iopub.status.busy": "2022-07-11T06:08:32.062022Z",
     "iopub.status.idle": "2022-07-11T06:08:32.065913Z",
     "shell.execute_reply": "2022-07-11T06:08:32.065367Z"
    },
    "jupyter": {
     "outputs_hidden": false
    },
    "papermill": {
     "duration": 0.119108,
     "end_time": "2022-07-11T06:08:32.066059",
     "exception": false,
     "start_time": "2022-07-11T06:08:31.946951",
     "status": "completed"
    },
    "tags": []
   },
   "outputs": [
    {
     "name": "stdout",
     "output_type": "stream",
     "text": [
      "Accuracy on the deployment set:\n",
      "lr_baseline\t:\t0.79904\n",
      "svm_baseline\t:\t0.80382\n",
      "xg_baseline\t:\t0.78947\n",
      "cb_baseline\t:\t0.79425\n"
     ]
    }
   ],
   "source": [
    "deploy_acc[\"lr_baseline\"]  = 0.79904\n",
    "deploy_acc[\"svm_baseline\"] = 0.80382\n",
    "deploy_acc[\"xg_baseline\"]  = 0.78947\n",
    "deploy_acc[\"cb_baseline\"]  = 0.79425 \n",
    "print(\"Accuracy on the deployment set:\")\n",
    "for k in deploy_acc:\n",
    "    print(f\"{k}\\t:\\t{deploy_acc[k]}\")"
   ]
  },
  {
   "cell_type": "code",
   "execution_count": 54,
   "metadata": {
    "_cell_guid": "aa6b9012-0d91-4e79-9db5-d038ab503fd2",
    "_uuid": "65abf3ed-70f8-4214-b727-a36f96f6eb41",
    "collapsed": false,
    "execution": {
     "iopub.execute_input": "2022-07-11T06:08:32.275546Z",
     "iopub.status.busy": "2022-07-11T06:08:32.274630Z",
     "iopub.status.idle": "2022-07-11T06:08:32.279919Z",
     "shell.execute_reply": "2022-07-11T06:08:32.278891Z"
    },
    "jupyter": {
     "outputs_hidden": false
    },
    "papermill": {
     "duration": 0.110759,
     "end_time": "2022-07-11T06:08:32.280076",
     "exception": false,
     "start_time": "2022-07-11T06:08:32.169317",
     "status": "completed"
    },
    "tags": []
   },
   "outputs": [
    {
     "name": "stdout",
     "output_type": "stream",
     "text": [
      "Accuracy on the training set:\n",
      "lr_baseline\t:\t0.8417508417508418\n",
      "svm_baseline\t:\t0.8911335578002245\n",
      "xg_baseline\t:\t0.8552188552188552\n",
      "cb_baseline\t:\t0.8451178451178452\n"
     ]
    }
   ],
   "source": [
    "print(\"Accuracy on the training set:\")\n",
    "for k in train_acc:\n",
    "    print(f\"{k}\\t:\\t{train_acc[k]}\")"
   ]
  },
  {
   "cell_type": "markdown",
   "metadata": {
    "_cell_guid": "9ac22ede-a999-4e1a-9bd7-1b1a02bd6549",
    "_uuid": "b10c79cf-8ce9-4ac9-a178-dd02af01ecc4",
    "papermill": {
     "duration": 0.104912,
     "end_time": "2022-07-11T06:08:32.491882",
     "exception": false,
     "start_time": "2022-07-11T06:08:32.386970",
     "status": "completed"
    },
    "tags": []
   },
   "source": [
    "### <a class=\"anchor\" id=\"3.2_bullet\" style=\"color:#3B61A3\"> 3.2 Ensemble models"
   ]
  },
  {
   "cell_type": "code",
   "execution_count": 55,
   "metadata": {
    "execution": {
     "iopub.execute_input": "2022-07-11T06:08:32.711900Z",
     "iopub.status.busy": "2022-07-11T06:08:32.711247Z",
     "iopub.status.idle": "2022-07-11T06:08:34.168508Z",
     "shell.execute_reply": "2022-07-11T06:08:34.169148Z"
    },
    "papermill": {
     "duration": 1.570743,
     "end_time": "2022-07-11T06:08:34.169371",
     "exception": false,
     "start_time": "2022-07-11T06:08:32.598628",
     "status": "completed"
    },
    "tags": []
   },
   "outputs": [
    {
     "name": "stderr",
     "output_type": "stream",
     "text": [
      "/opt/conda/lib/python3.7/site-packages/xgboost/sklearn.py:888: UserWarning:\n",
      "\n",
      "The use of label encoder in XGBClassifier is deprecated and will be removed in a future release. To remove this warning, do the following: 1) Pass option use_label_encoder=False when constructing XGBClassifier object; and 2) Encode your labels (y) as integers starting with 0, i.e. 0, 1, 2, ..., [num_class - 1].\n",
      "\n"
     ]
    },
    {
     "name": "stdout",
     "output_type": "stream",
     "text": [
      "[06:08:32] WARNING: ../src/learner.cc:1061: Starting in XGBoost 1.3.0, the default evaluation metric used with the objective 'binary:logistic' was changed from 'error' to 'logloss'. Explicitly set eval_metric if you'd like to restore the old behavior.\n"
     ]
    }
   ],
   "source": [
    "name, model = \"ensemble\", StackingClassifier(classifiers=(models_dict[\"svm_baseline\"],models_dict[\"lr_baseline\"],\n",
    "                                                                    models_dict[\"xg_baseline\"], models_dict[\"cb_baseline\"]),\n",
    "                                               meta_classifier=LogisticRegression(**{\"penalty\":\"l2\",\"solver\": \"liblinear\",\"C\":0.2,}),\n",
    "                                               use_features_in_secondary=True)\n",
    "baseline(name, model, verbose=False)"
   ]
  },
  {
   "cell_type": "code",
   "execution_count": 56,
   "metadata": {
    "execution": {
     "iopub.execute_input": "2022-07-11T06:08:34.378564Z",
     "iopub.status.busy": "2022-07-11T06:08:34.377856Z",
     "iopub.status.idle": "2022-07-11T06:08:34.381060Z",
     "shell.execute_reply": "2022-07-11T06:08:34.380441Z"
    },
    "papermill": {
     "duration": 0.108405,
     "end_time": "2022-07-11T06:08:34.381202",
     "exception": false,
     "start_time": "2022-07-11T06:08:34.272797",
     "status": "completed"
    },
    "tags": []
   },
   "outputs": [],
   "source": [
    "deploy_acc[\"ensemble\"]  = 0.80622"
   ]
  },
  {
   "cell_type": "markdown",
   "metadata": {
    "_cell_guid": "44599150-a833-4e1f-84a2-a2ae3e8746e7",
    "_uuid": "20cda916-1671-4cd8-8318-c8c31e5f9620",
    "papermill": {
     "duration": 0.099504,
     "end_time": "2022-07-11T06:08:34.581283",
     "exception": false,
     "start_time": "2022-07-11T06:08:34.481779",
     "status": "completed"
    },
    "tags": []
   },
   "source": [
    "We see, that all 5 models has different sepations on the data (even on the trains set)\n",
    "Now we gonna combine this models into peculiar ensemble.\n",
    "We gonna put som waights, according to there deploy results."
   ]
  },
  {
   "cell_type": "code",
   "execution_count": 57,
   "metadata": {
    "_cell_guid": "098c489a-2ac5-4b43-b459-6fcc5032dc58",
    "_uuid": "2b1f1ed5-35ba-41a8-8435-58dbee39beca",
    "collapsed": false,
    "execution": {
     "iopub.execute_input": "2022-07-11T06:08:34.792715Z",
     "iopub.status.busy": "2022-07-11T06:08:34.792055Z",
     "iopub.status.idle": "2022-07-11T06:08:35.024281Z",
     "shell.execute_reply": "2022-07-11T06:08:35.023587Z"
    },
    "jupyter": {
     "outputs_hidden": false
    },
    "papermill": {
     "duration": 0.342707,
     "end_time": "2022-07-11T06:08:35.024432",
     "exception": false,
     "start_time": "2022-07-11T06:08:34.681725",
     "status": "completed"
    },
    "tags": []
   },
   "outputs": [],
   "source": [
    "ens_train, ens_deploy = {}, {}\n",
    "for k in models_dict:\n",
    "    ens_train[k] = models_dict[k].predict(x_train) * deploy_acc[k]\n",
    "    ens_deploy[k] = models_dict[k].predict(deploy) * deploy_acc[k]\n",
    "x_train = pd.concat([pd.DataFrame(ens_train, index=x_train.index),x_train], axis=1)        \n",
    "deploy = pd.concat([pd.DataFrame(ens_deploy, index=deploy.index),deploy], axis=1)"
   ]
  },
  {
   "cell_type": "code",
   "execution_count": 58,
   "metadata": {
    "_cell_guid": "6c11288c-b221-4f04-809f-27482fdafda8",
    "_uuid": "7da65375-1506-49d1-a4a7-ec6d5baed188",
    "collapsed": false,
    "execution": {
     "iopub.execute_input": "2022-07-11T06:08:35.228604Z",
     "iopub.status.busy": "2022-07-11T06:08:35.227928Z",
     "iopub.status.idle": "2022-07-11T06:08:35.342303Z",
     "shell.execute_reply": "2022-07-11T06:08:35.341581Z"
    },
    "jupyter": {
     "outputs_hidden": false
    },
    "papermill": {
     "duration": 0.218789,
     "end_time": "2022-07-11T06:08:35.342450",
     "exception": false,
     "start_time": "2022-07-11T06:08:35.123661",
     "status": "completed"
    },
    "tags": []
   },
   "outputs": [],
   "source": [
    "model = SVC()\n",
    "model.fit(x_train,y_train)\n",
    "submition = pd.DataFrame({\"PassengerId\":deploy.index,\"Survived\":model.predict(deploy)}).astype(int)"
   ]
  },
  {
   "cell_type": "code",
   "execution_count": 59,
   "metadata": {
    "_cell_guid": "fb680e71-e00e-4f85-b763-ea12d6450190",
    "_uuid": "4828e092-33fb-418b-8771-5abba83a2a35",
    "collapsed": false,
    "execution": {
     "iopub.execute_input": "2022-07-11T06:08:35.549380Z",
     "iopub.status.busy": "2022-07-11T06:08:35.548641Z",
     "iopub.status.idle": "2022-07-11T06:08:35.551639Z",
     "shell.execute_reply": "2022-07-11T06:08:35.552202Z"
    },
    "jupyter": {
     "outputs_hidden": false
    },
    "papermill": {
     "duration": 0.110781,
     "end_time": "2022-07-11T06:08:35.552408",
     "exception": false,
     "start_time": "2022-07-11T06:08:35.441627",
     "status": "completed"
    },
    "tags": []
   },
   "outputs": [],
   "source": [
    "submition.to_csv(\"mixture.csv\",index=False) #0.81100"
   ]
  },
  {
   "cell_type": "markdown",
   "metadata": {
    "papermill": {
     "duration": 0.10271,
     "end_time": "2022-07-11T06:08:35.757529",
     "exception": false,
     "start_time": "2022-07-11T06:08:35.654819",
     "status": "completed"
    },
    "tags": []
   },
   "source": [
    "![Upvote!](https://img.shields.io/badge/Upvote-If%20you%20like%20my%20work-07b3c8?style=for-the-badge&logo=kaggle)"
   ]
  }
 ],
 "metadata": {
  "kernelspec": {
   "display_name": "Python 3",
   "language": "python",
   "name": "python3"
  },
  "language_info": {
   "codemirror_mode": {
    "name": "ipython",
    "version": 3
   },
   "file_extension": ".py",
   "mimetype": "text/x-python",
   "name": "python",
   "nbconvert_exporter": "python",
   "pygments_lexer": "ipython3",
   "version": "3.7.9"
  },
  "papermill": {
   "default_parameters": {},
   "duration": 35.366564,
   "end_time": "2022-07-11T06:08:36.667232",
   "environment_variables": {},
   "exception": null,
   "input_path": "__notebook__.ipynb",
   "output_path": "__notebook__.ipynb",
   "parameters": {},
   "start_time": "2022-07-11T06:08:01.300668",
   "version": "2.2.2"
  }
 },
 "nbformat": 4,
 "nbformat_minor": 4
}
