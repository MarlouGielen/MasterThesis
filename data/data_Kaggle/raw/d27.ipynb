{
 "cells": [
  {
   "cell_type": "code",
   "execution_count": 1,
   "id": "5bd7bd46",
   "metadata": {
    "execution": {
     "iopub.execute_input": "2023-11-29T03:02:14.565609Z",
     "iopub.status.busy": "2023-11-29T03:02:14.564701Z",
     "iopub.status.idle": "2023-11-29T03:02:50.315923Z",
     "shell.execute_reply": "2023-11-29T03:02:50.314116Z"
    },
    "papermill": {
     "duration": 35.777737,
     "end_time": "2023-11-29T03:02:50.319618",
     "exception": false,
     "start_time": "2023-11-29T03:02:14.541881",
     "status": "completed"
    },
    "tags": []
   },
   "outputs": [
    {
     "name": "stdout",
     "output_type": "stream",
     "text": [
      "Requirement already satisfied: optuna in /opt/conda/lib/python3.10/site-packages (3.4.0)\r\n",
      "Requirement already satisfied: alembic>=1.5.0 in /opt/conda/lib/python3.10/site-packages (from optuna) (1.12.1)\r\n",
      "Requirement already satisfied: colorlog in /opt/conda/lib/python3.10/site-packages (from optuna) (6.7.0)\r\n",
      "Requirement already satisfied: numpy in /opt/conda/lib/python3.10/site-packages (from optuna) (1.24.3)\r\n",
      "Requirement already satisfied: packaging>=20.0 in /opt/conda/lib/python3.10/site-packages (from optuna) (21.3)\r\n",
      "Requirement already satisfied: sqlalchemy>=1.3.0 in /opt/conda/lib/python3.10/site-packages (from optuna) (2.0.20)\r\n",
      "Requirement already satisfied: tqdm in /opt/conda/lib/python3.10/site-packages (from optuna) (4.66.1)\r\n",
      "Requirement already satisfied: PyYAML in /opt/conda/lib/python3.10/site-packages (from optuna) (6.0.1)\r\n",
      "Requirement already satisfied: Mako in /opt/conda/lib/python3.10/site-packages (from alembic>=1.5.0->optuna) (1.3.0)\r\n",
      "Requirement already satisfied: typing-extensions>=4 in /opt/conda/lib/python3.10/site-packages (from alembic>=1.5.0->optuna) (4.5.0)\r\n",
      "Requirement already satisfied: pyparsing!=3.0.5,>=2.0.2 in /opt/conda/lib/python3.10/site-packages (from packaging>=20.0->optuna) (3.0.9)\r\n",
      "Requirement already satisfied: greenlet!=0.4.17 in /opt/conda/lib/python3.10/site-packages (from sqlalchemy>=1.3.0->optuna) (2.0.2)\r\n",
      "Requirement already satisfied: MarkupSafe>=0.9.2 in /opt/conda/lib/python3.10/site-packages (from Mako->alembic>=1.5.0->optuna) (2.1.3)\r\n",
      "Requirement already satisfied: catboost in /opt/conda/lib/python3.10/site-packages (1.2.2)\r\n",
      "Requirement already satisfied: graphviz in /opt/conda/lib/python3.10/site-packages (from catboost) (0.20.1)\r\n",
      "Requirement already satisfied: matplotlib in /opt/conda/lib/python3.10/site-packages (from catboost) (3.7.3)\r\n",
      "Requirement already satisfied: numpy>=1.16.0 in /opt/conda/lib/python3.10/site-packages (from catboost) (1.24.3)\r\n",
      "Requirement already satisfied: pandas>=0.24 in /opt/conda/lib/python3.10/site-packages (from catboost) (2.0.3)\r\n",
      "Requirement already satisfied: scipy in /opt/conda/lib/python3.10/site-packages (from catboost) (1.11.3)\r\n",
      "Requirement already satisfied: plotly in /opt/conda/lib/python3.10/site-packages (from catboost) (5.16.1)\r\n",
      "Requirement already satisfied: six in /opt/conda/lib/python3.10/site-packages (from catboost) (1.16.0)\r\n",
      "Requirement already satisfied: python-dateutil>=2.8.2 in /opt/conda/lib/python3.10/site-packages (from pandas>=0.24->catboost) (2.8.2)\r\n",
      "Requirement already satisfied: pytz>=2020.1 in /opt/conda/lib/python3.10/site-packages (from pandas>=0.24->catboost) (2023.3)\r\n",
      "Requirement already satisfied: tzdata>=2022.1 in /opt/conda/lib/python3.10/site-packages (from pandas>=0.24->catboost) (2023.3)\r\n",
      "Requirement already satisfied: contourpy>=1.0.1 in /opt/conda/lib/python3.10/site-packages (from matplotlib->catboost) (1.1.0)\r\n",
      "Requirement already satisfied: cycler>=0.10 in /opt/conda/lib/python3.10/site-packages (from matplotlib->catboost) (0.11.0)\r\n",
      "Requirement already satisfied: fonttools>=4.22.0 in /opt/conda/lib/python3.10/site-packages (from matplotlib->catboost) (4.42.1)\r\n",
      "Requirement already satisfied: kiwisolver>=1.0.1 in /opt/conda/lib/python3.10/site-packages (from matplotlib->catboost) (1.4.4)\r\n",
      "Requirement already satisfied: packaging>=20.0 in /opt/conda/lib/python3.10/site-packages (from matplotlib->catboost) (21.3)\r\n",
      "Requirement already satisfied: pillow>=6.2.0 in /opt/conda/lib/python3.10/site-packages (from matplotlib->catboost) (10.1.0)\r\n",
      "Requirement already satisfied: pyparsing>=2.3.1 in /opt/conda/lib/python3.10/site-packages (from matplotlib->catboost) (3.0.9)\r\n",
      "Requirement already satisfied: tenacity>=6.2.0 in /opt/conda/lib/python3.10/site-packages (from plotly->catboost) (8.2.3)\r\n"
     ]
    }
   ],
   "source": [
    "import seaborn as sns\n",
    "import pandas as pd\n",
    "import matplotlib.pyplot as plt\n",
    "import numpy as np\n",
    "import scipy.stats as stats\n",
    "\n",
    "from sklearn.preprocessing import FunctionTransformer\n",
    "from sklearn.compose import ColumnTransformer\n",
    "\n",
    "from sklearn.preprocessing import PowerTransformer\n",
    "from sklearn.preprocessing import FunctionTransformer\n",
    "from sklearn.compose import ColumnTransformer\n",
    "from sklearn.preprocessing import PowerTransformer\n",
    "from sklearn.preprocessing import StandardScaler\n",
    "\n",
    "import seaborn as sns\n",
    "import warnings\n",
    "warnings.filterwarnings('ignore')\n",
    "from sklearn.impute import SimpleImputer\n",
    "from sklearn import metrics\n",
    "\n",
    "from sklearn.metrics import mean_absolute_error\n",
    "import xgboost as xgb\n",
    "from sklearn.model_selection import train_test_split, cross_val_score, GridSearchCV, cross_validate, StratifiedKFold, RepeatedStratifiedKFold, RepeatedKFold\n",
    "from sklearn.metrics import mean_squared_error\n",
    "from sklearn.metrics import r2_score\n",
    "%matplotlib inline\n",
    "!pip install optuna\n",
    "import optuna\n",
    "\n",
    "from sklearn.linear_model import LinearRegression, LogisticRegression\n",
    "from sklearn.neighbors import KNeighborsClassifier\n",
    "from sklearn.svm import SVC\n",
    "from sklearn.tree import DecisionTreeClassifier\n",
    "from sklearn.ensemble import RandomForestClassifier\n",
    "from xgboost import XGBClassifier\n",
    "from lightgbm import LGBMClassifier\n",
    "!pip3 install catboost\n",
    "from catboost import CatBoostClassifier\n",
    "from sklearn.naive_bayes import GaussianNB\n",
    "import time"
   ]
  },
  {
   "cell_type": "code",
   "execution_count": 2,
   "id": "213fa466",
   "metadata": {
    "execution": {
     "iopub.execute_input": "2023-11-29T03:02:50.365857Z",
     "iopub.status.busy": "2023-11-29T03:02:50.365362Z",
     "iopub.status.idle": "2023-11-29T03:02:50.483140Z",
     "shell.execute_reply": "2023-11-29T03:02:50.481286Z"
    },
    "papermill": {
     "duration": 0.145283,
     "end_time": "2023-11-29T03:02:50.486645",
     "exception": false,
     "start_time": "2023-11-29T03:02:50.341362",
     "status": "completed"
    },
    "tags": []
   },
   "outputs": [
    {
     "name": "stdout",
     "output_type": "stream",
     "text": [
      "Index(['passengerid', 'survived', 'pclass', 'name', 'sex', 'age', 'sibsp',\n",
      "       'parch', 'ticket', 'fare', 'cabin', 'embarked'],\n",
      "      dtype='object')\n",
      "(891, 12)\n",
      "<class 'pandas.core.frame.DataFrame'>\n",
      "RangeIndex: 891 entries, 0 to 890\n",
      "Data columns (total 12 columns):\n",
      " #   Column       Non-Null Count  Dtype  \n",
      "---  ------       --------------  -----  \n",
      " 0   passengerid  891 non-null    int64  \n",
      " 1   survived     891 non-null    int64  \n",
      " 2   pclass       891 non-null    int64  \n",
      " 3   name         891 non-null    object \n",
      " 4   sex          891 non-null    object \n",
      " 5   age          714 non-null    float64\n",
      " 6   sibsp        891 non-null    int64  \n",
      " 7   parch        891 non-null    int64  \n",
      " 8   ticket       891 non-null    object \n",
      " 9   fare         891 non-null    float64\n",
      " 10  cabin        204 non-null    object \n",
      " 11  embarked     889 non-null    object \n",
      "dtypes: float64(2), int64(5), object(5)\n",
      "memory usage: 83.7+ KB\n",
      "None\n",
      "(418, 11)\n",
      "<class 'pandas.core.frame.DataFrame'>\n",
      "RangeIndex: 418 entries, 0 to 417\n",
      "Data columns (total 11 columns):\n",
      " #   Column       Non-Null Count  Dtype  \n",
      "---  ------       --------------  -----  \n",
      " 0   passengerid  418 non-null    int64  \n",
      " 1   pclass       418 non-null    int64  \n",
      " 2   name         418 non-null    object \n",
      " 3   sex          418 non-null    object \n",
      " 4   age          332 non-null    float64\n",
      " 5   sibsp        418 non-null    int64  \n",
      " 6   parch        418 non-null    int64  \n",
      " 7   ticket       418 non-null    object \n",
      " 8   fare         417 non-null    float64\n",
      " 9   cabin        91 non-null     object \n",
      " 10  embarked     418 non-null    object \n",
      "dtypes: float64(2), int64(4), object(5)\n",
      "memory usage: 36.0+ KB\n",
      "None\n"
     ]
    },
    {
     "data": {
      "text/html": [
       "<div>\n",
       "<style scoped>\n",
       "    .dataframe tbody tr th:only-of-type {\n",
       "        vertical-align: middle;\n",
       "    }\n",
       "\n",
       "    .dataframe tbody tr th {\n",
       "        vertical-align: top;\n",
       "    }\n",
       "\n",
       "    .dataframe thead th {\n",
       "        text-align: right;\n",
       "    }\n",
       "</style>\n",
       "<table border=\"1\" class=\"dataframe\">\n",
       "  <thead>\n",
       "    <tr style=\"text-align: right;\">\n",
       "      <th></th>\n",
       "      <th>passengerid</th>\n",
       "      <th>survived</th>\n",
       "      <th>pclass</th>\n",
       "      <th>name</th>\n",
       "      <th>sex</th>\n",
       "      <th>age</th>\n",
       "      <th>sibsp</th>\n",
       "      <th>parch</th>\n",
       "      <th>ticket</th>\n",
       "      <th>fare</th>\n",
       "      <th>cabin</th>\n",
       "      <th>embarked</th>\n",
       "    </tr>\n",
       "  </thead>\n",
       "  <tbody>\n",
       "    <tr>\n",
       "      <th>444</th>\n",
       "      <td>445</td>\n",
       "      <td>1</td>\n",
       "      <td>3</td>\n",
       "      <td>Johannesen-Bratthammer, Mr. Bernt</td>\n",
       "      <td>male</td>\n",
       "      <td>NaN</td>\n",
       "      <td>0</td>\n",
       "      <td>0</td>\n",
       "      <td>65306</td>\n",
       "      <td>8.1125</td>\n",
       "      <td>NaN</td>\n",
       "      <td>S</td>\n",
       "    </tr>\n",
       "    <tr>\n",
       "      <th>31</th>\n",
       "      <td>32</td>\n",
       "      <td>1</td>\n",
       "      <td>1</td>\n",
       "      <td>Spencer, Mrs. William Augustus (Marie Eugenie)</td>\n",
       "      <td>female</td>\n",
       "      <td>NaN</td>\n",
       "      <td>1</td>\n",
       "      <td>0</td>\n",
       "      <td>PC 17569</td>\n",
       "      <td>146.5208</td>\n",
       "      <td>B78</td>\n",
       "      <td>C</td>\n",
       "    </tr>\n",
       "    <tr>\n",
       "      <th>157</th>\n",
       "      <td>158</td>\n",
       "      <td>0</td>\n",
       "      <td>3</td>\n",
       "      <td>Corn, Mr. Harry</td>\n",
       "      <td>male</td>\n",
       "      <td>30.0</td>\n",
       "      <td>0</td>\n",
       "      <td>0</td>\n",
       "      <td>SOTON/OQ 392090</td>\n",
       "      <td>8.0500</td>\n",
       "      <td>NaN</td>\n",
       "      <td>S</td>\n",
       "    </tr>\n",
       "    <tr>\n",
       "      <th>119</th>\n",
       "      <td>120</td>\n",
       "      <td>0</td>\n",
       "      <td>3</td>\n",
       "      <td>Andersson, Miss. Ellis Anna Maria</td>\n",
       "      <td>female</td>\n",
       "      <td>2.0</td>\n",
       "      <td>4</td>\n",
       "      <td>2</td>\n",
       "      <td>347082</td>\n",
       "      <td>31.2750</td>\n",
       "      <td>NaN</td>\n",
       "      <td>S</td>\n",
       "    </tr>\n",
       "    <tr>\n",
       "      <th>853</th>\n",
       "      <td>854</td>\n",
       "      <td>1</td>\n",
       "      <td>1</td>\n",
       "      <td>Lines, Miss. Mary Conover</td>\n",
       "      <td>female</td>\n",
       "      <td>16.0</td>\n",
       "      <td>0</td>\n",
       "      <td>1</td>\n",
       "      <td>PC 17592</td>\n",
       "      <td>39.4000</td>\n",
       "      <td>D28</td>\n",
       "      <td>S</td>\n",
       "    </tr>\n",
       "    <tr>\n",
       "      <th>393</th>\n",
       "      <td>394</td>\n",
       "      <td>1</td>\n",
       "      <td>1</td>\n",
       "      <td>Newell, Miss. Marjorie</td>\n",
       "      <td>female</td>\n",
       "      <td>23.0</td>\n",
       "      <td>1</td>\n",
       "      <td>0</td>\n",
       "      <td>35273</td>\n",
       "      <td>113.2750</td>\n",
       "      <td>D36</td>\n",
       "      <td>C</td>\n",
       "    </tr>\n",
       "    <tr>\n",
       "      <th>603</th>\n",
       "      <td>604</td>\n",
       "      <td>0</td>\n",
       "      <td>3</td>\n",
       "      <td>Torber, Mr. Ernst William</td>\n",
       "      <td>male</td>\n",
       "      <td>44.0</td>\n",
       "      <td>0</td>\n",
       "      <td>0</td>\n",
       "      <td>364511</td>\n",
       "      <td>8.0500</td>\n",
       "      <td>NaN</td>\n",
       "      <td>S</td>\n",
       "    </tr>\n",
       "    <tr>\n",
       "      <th>667</th>\n",
       "      <td>668</td>\n",
       "      <td>0</td>\n",
       "      <td>3</td>\n",
       "      <td>Rommetvedt, Mr. Knud Paust</td>\n",
       "      <td>male</td>\n",
       "      <td>NaN</td>\n",
       "      <td>0</td>\n",
       "      <td>0</td>\n",
       "      <td>312993</td>\n",
       "      <td>7.7750</td>\n",
       "      <td>NaN</td>\n",
       "      <td>S</td>\n",
       "    </tr>\n",
       "    <tr>\n",
       "      <th>885</th>\n",
       "      <td>886</td>\n",
       "      <td>0</td>\n",
       "      <td>3</td>\n",
       "      <td>Rice, Mrs. William (Margaret Norton)</td>\n",
       "      <td>female</td>\n",
       "      <td>39.0</td>\n",
       "      <td>0</td>\n",
       "      <td>5</td>\n",
       "      <td>382652</td>\n",
       "      <td>29.1250</td>\n",
       "      <td>NaN</td>\n",
       "      <td>Q</td>\n",
       "    </tr>\n",
       "    <tr>\n",
       "      <th>169</th>\n",
       "      <td>170</td>\n",
       "      <td>0</td>\n",
       "      <td>3</td>\n",
       "      <td>Ling, Mr. Lee</td>\n",
       "      <td>male</td>\n",
       "      <td>28.0</td>\n",
       "      <td>0</td>\n",
       "      <td>0</td>\n",
       "      <td>1601</td>\n",
       "      <td>56.4958</td>\n",
       "      <td>NaN</td>\n",
       "      <td>S</td>\n",
       "    </tr>\n",
       "    <tr>\n",
       "      <th>662</th>\n",
       "      <td>663</td>\n",
       "      <td>0</td>\n",
       "      <td>1</td>\n",
       "      <td>Colley, Mr. Edward Pomeroy</td>\n",
       "      <td>male</td>\n",
       "      <td>47.0</td>\n",
       "      <td>0</td>\n",
       "      <td>0</td>\n",
       "      <td>5727</td>\n",
       "      <td>25.5875</td>\n",
       "      <td>E58</td>\n",
       "      <td>S</td>\n",
       "    </tr>\n",
       "    <tr>\n",
       "      <th>526</th>\n",
       "      <td>527</td>\n",
       "      <td>1</td>\n",
       "      <td>2</td>\n",
       "      <td>Ridsdale, Miss. Lucy</td>\n",
       "      <td>female</td>\n",
       "      <td>50.0</td>\n",
       "      <td>0</td>\n",
       "      <td>0</td>\n",
       "      <td>W./C. 14258</td>\n",
       "      <td>10.5000</td>\n",
       "      <td>NaN</td>\n",
       "      <td>S</td>\n",
       "    </tr>\n",
       "    <tr>\n",
       "      <th>335</th>\n",
       "      <td>336</td>\n",
       "      <td>0</td>\n",
       "      <td>3</td>\n",
       "      <td>Denkoff, Mr. Mitto</td>\n",
       "      <td>male</td>\n",
       "      <td>NaN</td>\n",
       "      <td>0</td>\n",
       "      <td>0</td>\n",
       "      <td>349225</td>\n",
       "      <td>7.8958</td>\n",
       "      <td>NaN</td>\n",
       "      <td>S</td>\n",
       "    </tr>\n",
       "    <tr>\n",
       "      <th>647</th>\n",
       "      <td>648</td>\n",
       "      <td>1</td>\n",
       "      <td>1</td>\n",
       "      <td>Simonius-Blumer, Col. Oberst Alfons</td>\n",
       "      <td>male</td>\n",
       "      <td>56.0</td>\n",
       "      <td>0</td>\n",
       "      <td>0</td>\n",
       "      <td>13213</td>\n",
       "      <td>35.5000</td>\n",
       "      <td>A26</td>\n",
       "      <td>C</td>\n",
       "    </tr>\n",
       "    <tr>\n",
       "      <th>571</th>\n",
       "      <td>572</td>\n",
       "      <td>1</td>\n",
       "      <td>1</td>\n",
       "      <td>Appleton, Mrs. Edward Dale (Charlotte Lamson)</td>\n",
       "      <td>female</td>\n",
       "      <td>53.0</td>\n",
       "      <td>2</td>\n",
       "      <td>0</td>\n",
       "      <td>11769</td>\n",
       "      <td>51.4792</td>\n",
       "      <td>C101</td>\n",
       "      <td>S</td>\n",
       "    </tr>\n",
       "    <tr>\n",
       "      <th>60</th>\n",
       "      <td>61</td>\n",
       "      <td>0</td>\n",
       "      <td>3</td>\n",
       "      <td>Sirayanian, Mr. Orsen</td>\n",
       "      <td>male</td>\n",
       "      <td>22.0</td>\n",
       "      <td>0</td>\n",
       "      <td>0</td>\n",
       "      <td>2669</td>\n",
       "      <td>7.2292</td>\n",
       "      <td>NaN</td>\n",
       "      <td>C</td>\n",
       "    </tr>\n",
       "    <tr>\n",
       "      <th>409</th>\n",
       "      <td>410</td>\n",
       "      <td>0</td>\n",
       "      <td>3</td>\n",
       "      <td>Lefebre, Miss. Ida</td>\n",
       "      <td>female</td>\n",
       "      <td>NaN</td>\n",
       "      <td>3</td>\n",
       "      <td>1</td>\n",
       "      <td>4133</td>\n",
       "      <td>25.4667</td>\n",
       "      <td>NaN</td>\n",
       "      <td>S</td>\n",
       "    </tr>\n",
       "    <tr>\n",
       "      <th>260</th>\n",
       "      <td>261</td>\n",
       "      <td>0</td>\n",
       "      <td>3</td>\n",
       "      <td>Smith, Mr. Thomas</td>\n",
       "      <td>male</td>\n",
       "      <td>NaN</td>\n",
       "      <td>0</td>\n",
       "      <td>0</td>\n",
       "      <td>384461</td>\n",
       "      <td>7.7500</td>\n",
       "      <td>NaN</td>\n",
       "      <td>Q</td>\n",
       "    </tr>\n",
       "    <tr>\n",
       "      <th>600</th>\n",
       "      <td>601</td>\n",
       "      <td>1</td>\n",
       "      <td>2</td>\n",
       "      <td>Jacobsohn, Mrs. Sidney Samuel (Amy Frances Chr...</td>\n",
       "      <td>female</td>\n",
       "      <td>24.0</td>\n",
       "      <td>2</td>\n",
       "      <td>1</td>\n",
       "      <td>243847</td>\n",
       "      <td>27.0000</td>\n",
       "      <td>NaN</td>\n",
       "      <td>S</td>\n",
       "    </tr>\n",
       "    <tr>\n",
       "      <th>867</th>\n",
       "      <td>868</td>\n",
       "      <td>0</td>\n",
       "      <td>1</td>\n",
       "      <td>Roebling, Mr. Washington Augustus II</td>\n",
       "      <td>male</td>\n",
       "      <td>31.0</td>\n",
       "      <td>0</td>\n",
       "      <td>0</td>\n",
       "      <td>PC 17590</td>\n",
       "      <td>50.4958</td>\n",
       "      <td>A24</td>\n",
       "      <td>S</td>\n",
       "    </tr>\n",
       "    <tr>\n",
       "      <th>706</th>\n",
       "      <td>707</td>\n",
       "      <td>1</td>\n",
       "      <td>2</td>\n",
       "      <td>Kelly, Mrs. Florence \"Fannie\"</td>\n",
       "      <td>female</td>\n",
       "      <td>45.0</td>\n",
       "      <td>0</td>\n",
       "      <td>0</td>\n",
       "      <td>223596</td>\n",
       "      <td>13.5000</td>\n",
       "      <td>NaN</td>\n",
       "      <td>S</td>\n",
       "    </tr>\n",
       "    <tr>\n",
       "      <th>194</th>\n",
       "      <td>195</td>\n",
       "      <td>1</td>\n",
       "      <td>1</td>\n",
       "      <td>Brown, Mrs. James Joseph (Margaret Tobin)</td>\n",
       "      <td>female</td>\n",
       "      <td>44.0</td>\n",
       "      <td>0</td>\n",
       "      <td>0</td>\n",
       "      <td>PC 17610</td>\n",
       "      <td>27.7208</td>\n",
       "      <td>B4</td>\n",
       "      <td>C</td>\n",
       "    </tr>\n",
       "    <tr>\n",
       "      <th>246</th>\n",
       "      <td>247</td>\n",
       "      <td>0</td>\n",
       "      <td>3</td>\n",
       "      <td>Lindahl, Miss. Agda Thorilda Viktoria</td>\n",
       "      <td>female</td>\n",
       "      <td>25.0</td>\n",
       "      <td>0</td>\n",
       "      <td>0</td>\n",
       "      <td>347071</td>\n",
       "      <td>7.7750</td>\n",
       "      <td>NaN</td>\n",
       "      <td>S</td>\n",
       "    </tr>\n",
       "    <tr>\n",
       "      <th>392</th>\n",
       "      <td>393</td>\n",
       "      <td>0</td>\n",
       "      <td>3</td>\n",
       "      <td>Gustafsson, Mr. Johan Birger</td>\n",
       "      <td>male</td>\n",
       "      <td>28.0</td>\n",
       "      <td>2</td>\n",
       "      <td>0</td>\n",
       "      <td>3101277</td>\n",
       "      <td>7.9250</td>\n",
       "      <td>NaN</td>\n",
       "      <td>S</td>\n",
       "    </tr>\n",
       "    <tr>\n",
       "      <th>623</th>\n",
       "      <td>624</td>\n",
       "      <td>0</td>\n",
       "      <td>3</td>\n",
       "      <td>Hansen, Mr. Henry Damsgaard</td>\n",
       "      <td>male</td>\n",
       "      <td>21.0</td>\n",
       "      <td>0</td>\n",
       "      <td>0</td>\n",
       "      <td>350029</td>\n",
       "      <td>7.8542</td>\n",
       "      <td>NaN</td>\n",
       "      <td>S</td>\n",
       "    </tr>\n",
       "    <tr>\n",
       "      <th>123</th>\n",
       "      <td>124</td>\n",
       "      <td>1</td>\n",
       "      <td>2</td>\n",
       "      <td>Webber, Miss. Susan</td>\n",
       "      <td>female</td>\n",
       "      <td>32.5</td>\n",
       "      <td>0</td>\n",
       "      <td>0</td>\n",
       "      <td>27267</td>\n",
       "      <td>13.0000</td>\n",
       "      <td>E101</td>\n",
       "      <td>S</td>\n",
       "    </tr>\n",
       "    <tr>\n",
       "      <th>287</th>\n",
       "      <td>288</td>\n",
       "      <td>0</td>\n",
       "      <td>3</td>\n",
       "      <td>Naidenoff, Mr. Penko</td>\n",
       "      <td>male</td>\n",
       "      <td>22.0</td>\n",
       "      <td>0</td>\n",
       "      <td>0</td>\n",
       "      <td>349206</td>\n",
       "      <td>7.8958</td>\n",
       "      <td>NaN</td>\n",
       "      <td>S</td>\n",
       "    </tr>\n",
       "    <tr>\n",
       "      <th>881</th>\n",
       "      <td>882</td>\n",
       "      <td>0</td>\n",
       "      <td>3</td>\n",
       "      <td>Markun, Mr. Johann</td>\n",
       "      <td>male</td>\n",
       "      <td>33.0</td>\n",
       "      <td>0</td>\n",
       "      <td>0</td>\n",
       "      <td>349257</td>\n",
       "      <td>7.8958</td>\n",
       "      <td>NaN</td>\n",
       "      <td>S</td>\n",
       "    </tr>\n",
       "    <tr>\n",
       "      <th>772</th>\n",
       "      <td>773</td>\n",
       "      <td>0</td>\n",
       "      <td>2</td>\n",
       "      <td>Mack, Mrs. (Mary)</td>\n",
       "      <td>female</td>\n",
       "      <td>57.0</td>\n",
       "      <td>0</td>\n",
       "      <td>0</td>\n",
       "      <td>S.O./P.P. 3</td>\n",
       "      <td>10.5000</td>\n",
       "      <td>E77</td>\n",
       "      <td>S</td>\n",
       "    </tr>\n",
       "    <tr>\n",
       "      <th>435</th>\n",
       "      <td>436</td>\n",
       "      <td>1</td>\n",
       "      <td>1</td>\n",
       "      <td>Carter, Miss. Lucile Polk</td>\n",
       "      <td>female</td>\n",
       "      <td>14.0</td>\n",
       "      <td>1</td>\n",
       "      <td>2</td>\n",
       "      <td>113760</td>\n",
       "      <td>120.0000</td>\n",
       "      <td>B96 B98</td>\n",
       "      <td>S</td>\n",
       "    </tr>\n",
       "  </tbody>\n",
       "</table>\n",
       "</div>"
      ],
      "text/plain": [
       "     passengerid  survived  pclass  \\\n",
       "444          445         1       3   \n",
       "31            32         1       1   \n",
       "157          158         0       3   \n",
       "119          120         0       3   \n",
       "853          854         1       1   \n",
       "393          394         1       1   \n",
       "603          604         0       3   \n",
       "667          668         0       3   \n",
       "885          886         0       3   \n",
       "169          170         0       3   \n",
       "662          663         0       1   \n",
       "526          527         1       2   \n",
       "335          336         0       3   \n",
       "647          648         1       1   \n",
       "571          572         1       1   \n",
       "60            61         0       3   \n",
       "409          410         0       3   \n",
       "260          261         0       3   \n",
       "600          601         1       2   \n",
       "867          868         0       1   \n",
       "706          707         1       2   \n",
       "194          195         1       1   \n",
       "246          247         0       3   \n",
       "392          393         0       3   \n",
       "623          624         0       3   \n",
       "123          124         1       2   \n",
       "287          288         0       3   \n",
       "881          882         0       3   \n",
       "772          773         0       2   \n",
       "435          436         1       1   \n",
       "\n",
       "                                                  name     sex   age  sibsp  \\\n",
       "444                  Johannesen-Bratthammer, Mr. Bernt    male   NaN      0   \n",
       "31      Spencer, Mrs. William Augustus (Marie Eugenie)  female   NaN      1   \n",
       "157                                    Corn, Mr. Harry    male  30.0      0   \n",
       "119                  Andersson, Miss. Ellis Anna Maria  female   2.0      4   \n",
       "853                          Lines, Miss. Mary Conover  female  16.0      0   \n",
       "393                             Newell, Miss. Marjorie  female  23.0      1   \n",
       "603                          Torber, Mr. Ernst William    male  44.0      0   \n",
       "667                         Rommetvedt, Mr. Knud Paust    male   NaN      0   \n",
       "885               Rice, Mrs. William (Margaret Norton)  female  39.0      0   \n",
       "169                                      Ling, Mr. Lee    male  28.0      0   \n",
       "662                         Colley, Mr. Edward Pomeroy    male  47.0      0   \n",
       "526                               Ridsdale, Miss. Lucy  female  50.0      0   \n",
       "335                                 Denkoff, Mr. Mitto    male   NaN      0   \n",
       "647                Simonius-Blumer, Col. Oberst Alfons    male  56.0      0   \n",
       "571      Appleton, Mrs. Edward Dale (Charlotte Lamson)  female  53.0      2   \n",
       "60                               Sirayanian, Mr. Orsen    male  22.0      0   \n",
       "409                                 Lefebre, Miss. Ida  female   NaN      3   \n",
       "260                                  Smith, Mr. Thomas    male   NaN      0   \n",
       "600  Jacobsohn, Mrs. Sidney Samuel (Amy Frances Chr...  female  24.0      2   \n",
       "867               Roebling, Mr. Washington Augustus II    male  31.0      0   \n",
       "706                      Kelly, Mrs. Florence \"Fannie\"  female  45.0      0   \n",
       "194          Brown, Mrs. James Joseph (Margaret Tobin)  female  44.0      0   \n",
       "246              Lindahl, Miss. Agda Thorilda Viktoria  female  25.0      0   \n",
       "392                       Gustafsson, Mr. Johan Birger    male  28.0      2   \n",
       "623                        Hansen, Mr. Henry Damsgaard    male  21.0      0   \n",
       "123                                Webber, Miss. Susan  female  32.5      0   \n",
       "287                               Naidenoff, Mr. Penko    male  22.0      0   \n",
       "881                                 Markun, Mr. Johann    male  33.0      0   \n",
       "772                                  Mack, Mrs. (Mary)  female  57.0      0   \n",
       "435                          Carter, Miss. Lucile Polk  female  14.0      1   \n",
       "\n",
       "     parch           ticket      fare    cabin embarked  \n",
       "444      0            65306    8.1125      NaN        S  \n",
       "31       0         PC 17569  146.5208      B78        C  \n",
       "157      0  SOTON/OQ 392090    8.0500      NaN        S  \n",
       "119      2           347082   31.2750      NaN        S  \n",
       "853      1         PC 17592   39.4000      D28        S  \n",
       "393      0            35273  113.2750      D36        C  \n",
       "603      0           364511    8.0500      NaN        S  \n",
       "667      0           312993    7.7750      NaN        S  \n",
       "885      5           382652   29.1250      NaN        Q  \n",
       "169      0             1601   56.4958      NaN        S  \n",
       "662      0             5727   25.5875      E58        S  \n",
       "526      0      W./C. 14258   10.5000      NaN        S  \n",
       "335      0           349225    7.8958      NaN        S  \n",
       "647      0            13213   35.5000      A26        C  \n",
       "571      0            11769   51.4792     C101        S  \n",
       "60       0             2669    7.2292      NaN        C  \n",
       "409      1             4133   25.4667      NaN        S  \n",
       "260      0           384461    7.7500      NaN        Q  \n",
       "600      1           243847   27.0000      NaN        S  \n",
       "867      0         PC 17590   50.4958      A24        S  \n",
       "706      0           223596   13.5000      NaN        S  \n",
       "194      0         PC 17610   27.7208       B4        C  \n",
       "246      0           347071    7.7750      NaN        S  \n",
       "392      0          3101277    7.9250      NaN        S  \n",
       "623      0           350029    7.8542      NaN        S  \n",
       "123      0            27267   13.0000     E101        S  \n",
       "287      0           349206    7.8958      NaN        S  \n",
       "881      0           349257    7.8958      NaN        S  \n",
       "772      0      S.O./P.P. 3   10.5000      E77        S  \n",
       "435      2           113760  120.0000  B96 B98        S  "
      ]
     },
     "execution_count": 2,
     "metadata": {},
     "output_type": "execute_result"
    }
   ],
   "source": [
    "df_train = pd.read_csv('/kaggle/input/titanic/train.csv')\n",
    "df_train.columns = df_train.columns.str.lower().str.replace(' ', '_')\n",
    "print(df_train.columns)\n",
    "train_ids=df_train['passengerid'].values\n",
    "print(df_train.shape)\n",
    "print(df_train.info())\n",
    "\n",
    "df_test = pd.read_csv('/kaggle/input/titanic/test.csv')\n",
    "df_test.columns = df_test.columns.str.lower().str.replace(' ', '_')\n",
    "test_ids=df_test['passengerid'].values\n",
    "print(df_test.shape)\n",
    "print(df_test.info())\n",
    "\n",
    "df_train.sample(30)"
   ]
  },
  {
   "cell_type": "code",
   "execution_count": 3,
   "id": "21206032",
   "metadata": {
    "execution": {
     "iopub.execute_input": "2023-11-29T03:02:50.536560Z",
     "iopub.status.busy": "2023-11-29T03:02:50.535349Z",
     "iopub.status.idle": "2023-11-29T03:02:50.542928Z",
     "shell.execute_reply": "2023-11-29T03:02:50.541547Z"
    },
    "papermill": {
     "duration": 0.035288,
     "end_time": "2023-11-29T03:02:50.546326",
     "exception": false,
     "start_time": "2023-11-29T03:02:50.511038",
     "status": "completed"
    },
    "tags": []
   },
   "outputs": [],
   "source": [
    "def null_count_with_percent(df):\n",
    "  total = df.isnull().sum().sort_values(ascending=False)\n",
    "  percent = (df.isnull().sum()/df.isnull().count()).sort_values(ascending=False)\n",
    "  missing_data = pd.concat([total, percent], axis=1, keys=['Total', 'Percent'])\n",
    "  return missing_data"
   ]
  },
  {
   "cell_type": "code",
   "execution_count": 4,
   "id": "532b90d0",
   "metadata": {
    "execution": {
     "iopub.execute_input": "2023-11-29T03:02:50.595125Z",
     "iopub.status.busy": "2023-11-29T03:02:50.594674Z",
     "iopub.status.idle": "2023-11-29T03:02:50.617230Z",
     "shell.execute_reply": "2023-11-29T03:02:50.615259Z"
    },
    "papermill": {
     "duration": 0.049169,
     "end_time": "2023-11-29T03:02:50.619842",
     "exception": false,
     "start_time": "2023-11-29T03:02:50.570673",
     "status": "completed"
    },
    "tags": []
   },
   "outputs": [
    {
     "name": "stdout",
     "output_type": "stream",
     "text": [
      "             Total   Percent\n",
      "cabin          687  0.771044\n",
      "age            177  0.198653\n",
      "embarked         2  0.002245\n",
      "passengerid      0  0.000000\n",
      "survived         0  0.000000\n",
      "pclass           0  0.000000\n",
      "name             0  0.000000\n",
      "sex              0  0.000000\n",
      "sibsp            0  0.000000\n",
      "parch            0  0.000000\n",
      "ticket           0  0.000000\n",
      "fare             0  0.000000\n",
      "             Total   Percent\n",
      "cabin          327  0.782297\n",
      "age             86  0.205742\n",
      "fare             1  0.002392\n",
      "passengerid      0  0.000000\n",
      "pclass           0  0.000000\n",
      "name             0  0.000000\n",
      "sex              0  0.000000\n",
      "sibsp            0  0.000000\n",
      "parch            0  0.000000\n",
      "ticket           0  0.000000\n",
      "embarked         0  0.000000\n"
     ]
    }
   ],
   "source": [
    "print(null_count_with_percent(df_train))\n",
    "print(null_count_with_percent(df_test))"
   ]
  },
  {
   "cell_type": "markdown",
   "id": "c0d9862d",
   "metadata": {
    "papermill": {
     "duration": 0.023485,
     "end_time": "2023-11-29T03:02:50.665273",
     "exception": false,
     "start_time": "2023-11-29T03:02:50.641788",
     "status": "completed"
    },
    "tags": []
   },
   "source": [
    "**i'll drop capin because the null values are more than 40%**"
   ]
  },
  {
   "cell_type": "code",
   "execution_count": 5,
   "id": "6170ef59",
   "metadata": {
    "execution": {
     "iopub.execute_input": "2023-11-29T03:02:50.712048Z",
     "iopub.status.busy": "2023-11-29T03:02:50.711585Z",
     "iopub.status.idle": "2023-11-29T03:02:50.723168Z",
     "shell.execute_reply": "2023-11-29T03:02:50.721929Z"
    },
    "papermill": {
     "duration": 0.038199,
     "end_time": "2023-11-29T03:02:50.725746",
     "exception": false,
     "start_time": "2023-11-29T03:02:50.687547",
     "status": "completed"
    },
    "tags": []
   },
   "outputs": [],
   "source": [
    "df_train=df_train.drop(columns='cabin')\n",
    "df_test=df_test.drop(columns='cabin')"
   ]
  },
  {
   "cell_type": "markdown",
   "id": "85a2ba9c",
   "metadata": {
    "papermill": {
     "duration": 0.021714,
     "end_time": "2023-11-29T03:02:50.769751",
     "exception": false,
     "start_time": "2023-11-29T03:02:50.748037",
     "status": "completed"
    },
    "tags": []
   },
   "source": [
    "**handle age null values**"
   ]
  },
  {
   "cell_type": "code",
   "execution_count": 6,
   "id": "b9ff07e7",
   "metadata": {
    "execution": {
     "iopub.execute_input": "2023-11-29T03:02:50.816117Z",
     "iopub.status.busy": "2023-11-29T03:02:50.815099Z",
     "iopub.status.idle": "2023-11-29T03:02:50.830855Z",
     "shell.execute_reply": "2023-11-29T03:02:50.829544Z"
    },
    "papermill": {
     "duration": 0.04203,
     "end_time": "2023-11-29T03:02:50.833807",
     "exception": false,
     "start_time": "2023-11-29T03:02:50.791777",
     "status": "completed"
    },
    "tags": []
   },
   "outputs": [],
   "source": [
    "ImputedModule = SimpleImputer(strategy='mean').set_output(transform=\"pandas\")\n",
    "X=df_train['age'].values.reshape(-1, 1)\n",
    "ImputedX = ImputedModule.fit(X)\n",
    "X = ImputedX.transform(X)\n",
    "df_train['age']=X\n",
    "\n",
    "ImputedModule = SimpleImputer(strategy='mean').set_output(transform=\"pandas\")\n",
    "X=df_test['age'].values.reshape(-1, 1)\n",
    "ImputedX = ImputedModule.fit(X)\n",
    "X = ImputedX.transform(X)\n",
    "df_test['age']=X"
   ]
  },
  {
   "cell_type": "markdown",
   "id": "a0d764a0",
   "metadata": {
    "papermill": {
     "duration": 0.021498,
     "end_time": "2023-11-29T03:02:50.877140",
     "exception": false,
     "start_time": "2023-11-29T03:02:50.855642",
     "status": "completed"
    },
    "tags": []
   },
   "source": [
    "**handle embarked null values on train data**"
   ]
  },
  {
   "cell_type": "code",
   "execution_count": 7,
   "id": "1494c797",
   "metadata": {
    "execution": {
     "iopub.execute_input": "2023-11-29T03:02:50.922963Z",
     "iopub.status.busy": "2023-11-29T03:02:50.922505Z",
     "iopub.status.idle": "2023-11-29T03:02:50.931360Z",
     "shell.execute_reply": "2023-11-29T03:02:50.930074Z"
    },
    "papermill": {
     "duration": 0.035267,
     "end_time": "2023-11-29T03:02:50.934411",
     "exception": false,
     "start_time": "2023-11-29T03:02:50.899144",
     "status": "completed"
    },
    "tags": []
   },
   "outputs": [
    {
     "name": "stdout",
     "output_type": "stream",
     "text": [
      "embarked\n",
      "S    644\n",
      "C    168\n",
      "Q     77\n",
      "Name: count, dtype: int64\n"
     ]
    }
   ],
   "source": [
    "print(df_train.embarked.value_counts())"
   ]
  },
  {
   "cell_type": "code",
   "execution_count": 8,
   "id": "218cb3b2",
   "metadata": {
    "execution": {
     "iopub.execute_input": "2023-11-29T03:02:50.980780Z",
     "iopub.status.busy": "2023-11-29T03:02:50.980313Z",
     "iopub.status.idle": "2023-11-29T03:02:50.990082Z",
     "shell.execute_reply": "2023-11-29T03:02:50.988816Z"
    },
    "papermill": {
     "duration": 0.036583,
     "end_time": "2023-11-29T03:02:50.992663",
     "exception": false,
     "start_time": "2023-11-29T03:02:50.956080",
     "status": "completed"
    },
    "tags": []
   },
   "outputs": [],
   "source": [
    "ImputedModule = SimpleImputer(strategy='constant', fill_value='messing').set_output(transform=\"pandas\")\n",
    "X=df_train['embarked'].values.reshape(-1, 1)\n",
    "ImputedX = ImputedModule.fit(X)\n",
    "X = ImputedX.transform(X)\n",
    "df_train['embarked']=X"
   ]
  },
  {
   "cell_type": "markdown",
   "id": "38ca49dd",
   "metadata": {
    "papermill": {
     "duration": 0.021602,
     "end_time": "2023-11-29T03:02:51.098581",
     "exception": false,
     "start_time": "2023-11-29T03:02:51.076979",
     "status": "completed"
    },
    "tags": []
   },
   "source": [
    "**handle fare null on test data**"
   ]
  },
  {
   "cell_type": "code",
   "execution_count": 9,
   "id": "1b2fdc20",
   "metadata": {
    "execution": {
     "iopub.execute_input": "2023-11-29T03:02:51.145152Z",
     "iopub.status.busy": "2023-11-29T03:02:51.144740Z",
     "iopub.status.idle": "2023-11-29T03:02:51.153752Z",
     "shell.execute_reply": "2023-11-29T03:02:51.152420Z"
    },
    "papermill": {
     "duration": 0.036345,
     "end_time": "2023-11-29T03:02:51.157130",
     "exception": false,
     "start_time": "2023-11-29T03:02:51.120785",
     "status": "completed"
    },
    "tags": []
   },
   "outputs": [
    {
     "name": "stdout",
     "output_type": "stream",
     "text": [
      "fare\n",
      "7.7500     21\n",
      "26.0000    19\n",
      "13.0000    17\n",
      "8.0500     17\n",
      "7.8958     11\n",
      "           ..\n",
      "7.8208      1\n",
      "8.5167      1\n",
      "78.8500     1\n",
      "52.0000     1\n",
      "22.3583     1\n",
      "Name: count, Length: 169, dtype: int64\n"
     ]
    }
   ],
   "source": [
    "print(df_test.fare.value_counts())"
   ]
  },
  {
   "cell_type": "code",
   "execution_count": 10,
   "id": "edcd147a",
   "metadata": {
    "execution": {
     "iopub.execute_input": "2023-11-29T03:02:51.203650Z",
     "iopub.status.busy": "2023-11-29T03:02:51.203270Z",
     "iopub.status.idle": "2023-11-29T03:02:51.212207Z",
     "shell.execute_reply": "2023-11-29T03:02:51.210759Z"
    },
    "papermill": {
     "duration": 0.035227,
     "end_time": "2023-11-29T03:02:51.214481",
     "exception": false,
     "start_time": "2023-11-29T03:02:51.179254",
     "status": "completed"
    },
    "tags": []
   },
   "outputs": [],
   "source": [
    "ImputedModule = SimpleImputer(strategy='mean').set_output(transform=\"pandas\")\n",
    "X=df_test['fare'].values.reshape(-1, 1)\n",
    "ImputedX = ImputedModule.fit(X)\n",
    "X = ImputedX.transform(X)\n",
    "df_test['fare']=X"
   ]
  },
  {
   "cell_type": "code",
   "execution_count": 11,
   "id": "f2939fab",
   "metadata": {
    "execution": {
     "iopub.execute_input": "2023-11-29T03:02:51.261026Z",
     "iopub.status.busy": "2023-11-29T03:02:51.260576Z",
     "iopub.status.idle": "2023-11-29T03:02:51.284277Z",
     "shell.execute_reply": "2023-11-29T03:02:51.283257Z"
    },
    "papermill": {
     "duration": 0.050153,
     "end_time": "2023-11-29T03:02:51.286699",
     "exception": false,
     "start_time": "2023-11-29T03:02:51.236546",
     "status": "completed"
    },
    "tags": []
   },
   "outputs": [
    {
     "name": "stdout",
     "output_type": "stream",
     "text": [
      "             Total  Percent\n",
      "passengerid      0      0.0\n",
      "survived         0      0.0\n",
      "pclass           0      0.0\n",
      "name             0      0.0\n",
      "sex              0      0.0\n",
      "age              0      0.0\n",
      "sibsp            0      0.0\n",
      "parch            0      0.0\n",
      "ticket           0      0.0\n",
      "fare             0      0.0\n",
      "embarked         0      0.0\n",
      "             Total  Percent\n",
      "passengerid      0      0.0\n",
      "pclass           0      0.0\n",
      "name             0      0.0\n",
      "sex              0      0.0\n",
      "age              0      0.0\n",
      "sibsp            0      0.0\n",
      "parch            0      0.0\n",
      "ticket           0      0.0\n",
      "fare             0      0.0\n",
      "embarked         0      0.0\n"
     ]
    }
   ],
   "source": [
    "print(null_count_with_percent(df_train))\n",
    "print(null_count_with_percent(df_test))"
   ]
  },
  {
   "cell_type": "markdown",
   "id": "2cab664e",
   "metadata": {
    "papermill": {
     "duration": 0.021914,
     "end_time": "2023-11-29T03:02:51.331594",
     "exception": false,
     "start_time": "2023-11-29T03:02:51.309680",
     "status": "completed"
    },
    "tags": []
   },
   "source": [
    "**no more null data !!**"
   ]
  },
  {
   "cell_type": "markdown",
   "id": "f1e60b6d",
   "metadata": {
    "papermill": {
     "duration": 0.021838,
     "end_time": "2023-11-29T03:02:51.375990",
     "exception": false,
     "start_time": "2023-11-29T03:02:51.354152",
     "status": "completed"
    },
    "tags": []
   },
   "source": [
    "# **EDA**"
   ]
  },
  {
   "cell_type": "code",
   "execution_count": 12,
   "id": "c52ac3d3",
   "metadata": {
    "execution": {
     "iopub.execute_input": "2023-11-29T03:02:51.423126Z",
     "iopub.status.busy": "2023-11-29T03:02:51.422672Z",
     "iopub.status.idle": "2023-11-29T03:02:51.428269Z",
     "shell.execute_reply": "2023-11-29T03:02:51.427004Z"
    },
    "papermill": {
     "duration": 0.032734,
     "end_time": "2023-11-29T03:02:51.430995",
     "exception": false,
     "start_time": "2023-11-29T03:02:51.398261",
     "status": "completed"
    },
    "tags": []
   },
   "outputs": [],
   "source": [
    "target='survived'"
   ]
  },
  {
   "cell_type": "code",
   "execution_count": 13,
   "id": "669f38aa",
   "metadata": {
    "execution": {
     "iopub.execute_input": "2023-11-29T03:02:51.481140Z",
     "iopub.status.busy": "2023-11-29T03:02:51.480367Z",
     "iopub.status.idle": "2023-11-29T03:02:51.972785Z",
     "shell.execute_reply": "2023-11-29T03:02:51.971431Z"
    },
    "papermill": {
     "duration": 0.521239,
     "end_time": "2023-11-29T03:02:51.975622",
     "exception": false,
     "start_time": "2023-11-29T03:02:51.454383",
     "status": "completed"
    },
    "tags": []
   },
   "outputs": [
    {
     "data": {
      "image/png": "[encoded data removed]",
      "text/plain": [
       "<Figure size 800x400 with 1 Axes>"
      ]
     },
     "metadata": {},
     "output_type": "display_data"
    }
   ],
   "source": [
    "class_counts = df_train[target].value_counts()\n",
    "class_proportions = class_counts / df_train.shape[0]\n",
    "class_proportions = class_proportions.values.tolist()\n",
    "class_proportions_str = [f'{prop:.2%}' for prop in class_proportions]\n",
    "\n",
    "# Set the color palette\n",
    "colors = sns.color_palette('pastel')[0:len(class_counts)]\n",
    "\n",
    "# Plot the distribution of the target variable\n",
    "plt.figure(figsize=(8, 4))\n",
    "sns.countplot(x=target, data=df_train, palette=colors)\n",
    "plt.title('Distribution of Target Variable', fontsize=16)\n",
    "plt.xlabel(target, fontsize=14)\n",
    "plt.ylabel('Count', fontsize=14)\n",
    "plt.ylim([0, len(df_train)])\n",
    "for i, count in enumerate(class_counts):\n",
    "    plt.text(i, count + 50, class_proportions_str[i], ha='center', fontsize=14, color='black')\n",
    "plt.xticks(fontsize=14)\n",
    "plt.yticks(fontsize=14)\n",
    "sns.despine()\n",
    "plt.show()"
   ]
  },
  {
   "cell_type": "code",
   "execution_count": 14,
   "id": "9cce240a",
   "metadata": {
    "execution": {
     "iopub.execute_input": "2023-11-29T03:02:52.027207Z",
     "iopub.status.busy": "2023-11-29T03:02:52.026776Z",
     "iopub.status.idle": "2023-11-29T03:02:52.036797Z",
     "shell.execute_reply": "2023-11-29T03:02:52.035690Z"
    },
    "papermill": {
     "duration": 0.039133,
     "end_time": "2023-11-29T03:02:52.039213",
     "exception": false,
     "start_time": "2023-11-29T03:02:52.000080",
     "status": "completed"
    },
    "tags": []
   },
   "outputs": [],
   "source": [
    "def survived_bar_plot(feature):\n",
    "    plt.figure(figsize = (6,4))\n",
    "    sns.barplot(data = df_train , x = feature , y = target).set_title(f\"{feature}  \")\n",
    "    plt.show()\n",
    "    \n",
    "def survived_table(feature):\n",
    "    return df_train[[feature, target]].groupby([feature], as_index=False).mean().sort_values(by=target, ascending=False).style.background_gradient(low=0.75,high=1)\n",
    "\n",
    "def survived_hist_plot(feature):\n",
    "    plt.figure(figsize = (10,10))\n",
    "    sns.histplot(data = df_train , x = feature , hue = target,binwidth=5,palette = sns.color_palette([\"yellow\" , \"green\"]) ,multiple = \"stack\" ).set_title(f\"{feature} Vs \")\n",
    "    plt.show()"
   ]
  },
  {
   "cell_type": "code",
   "execution_count": 15,
   "id": "34475d07",
   "metadata": {
    "execution": {
     "iopub.execute_input": "2023-11-29T03:02:52.090485Z",
     "iopub.status.busy": "2023-11-29T03:02:52.089765Z",
     "iopub.status.idle": "2023-11-29T03:02:52.097419Z",
     "shell.execute_reply": "2023-11-29T03:02:52.096129Z"
    },
    "papermill": {
     "duration": 0.036767,
     "end_time": "2023-11-29T03:02:52.100024",
     "exception": false,
     "start_time": "2023-11-29T03:02:52.063257",
     "status": "completed"
    },
    "tags": []
   },
   "outputs": [
    {
     "data": {
      "text/plain": [
       "Index(['passengerid', 'survived', 'pclass', 'name', 'sex', 'age', 'sibsp',\n",
       "       'parch', 'ticket', 'fare', 'embarked'],\n",
       "      dtype='object')"
      ]
     },
     "execution_count": 15,
     "metadata": {},
     "output_type": "execute_result"
    }
   ],
   "source": [
    "df_train.columns"
   ]
  },
  {
   "cell_type": "code",
   "execution_count": 16,
   "id": "bd57e5e1",
   "metadata": {
    "execution": {
     "iopub.execute_input": "2023-11-29T03:02:52.150876Z",
     "iopub.status.busy": "2023-11-29T03:02:52.150470Z",
     "iopub.status.idle": "2023-11-29T03:02:52.505128Z",
     "shell.execute_reply": "2023-11-29T03:02:52.503630Z"
    },
    "papermill": {
     "duration": 0.383632,
     "end_time": "2023-11-29T03:02:52.508285",
     "exception": false,
     "start_time": "2023-11-29T03:02:52.124653",
     "status": "completed"
    },
    "tags": []
   },
   "outputs": [
    {
     "data": {
      "image/png": "[encoded data removed]",
      "text/plain": [
       "<Figure size 600x400 with 1 Axes>"
      ]
     },
     "metadata": {},
     "output_type": "display_data"
    }
   ],
   "source": [
    "survived_bar_plot('sex')"
   ]
  },
  {
   "cell_type": "code",
   "execution_count": 17,
   "id": "543665fe",
   "metadata": {
    "execution": {
     "iopub.execute_input": "2023-11-29T03:02:52.560497Z",
     "iopub.status.busy": "2023-11-29T03:02:52.560078Z",
     "iopub.status.idle": "2023-11-29T03:02:52.636868Z",
     "shell.execute_reply": "2023-11-29T03:02:52.635457Z"
    },
    "papermill": {
     "duration": 0.106709,
     "end_time": "2023-11-29T03:02:52.639812",
     "exception": false,
     "start_time": "2023-11-29T03:02:52.533103",
     "status": "completed"
    },
    "tags": []
   },
   "outputs": [
    {
     "data": {
      "text/html": [
       "<style type=\"text/css\">\n",
       "#T_a2750_row0_col1 {\n",
       "  background-color: #328dbf;\n",
       "  color: #f1f1f1;\n",
       "}\n",
       "#T_a2750_row1_col1 {\n",
       "  background-color: #c9cee4;\n",
       "  color: #000000;\n",
       "}\n",
       "</style>\n",
       "<table id=\"T_a2750\">\n",
       "  <thead>\n",
       "    <tr>\n",
       "      <th class=\"blank level0\" >&nbsp;</th>\n",
       "      <th id=\"T_a2750_level0_col0\" class=\"col_heading level0 col0\" >sex</th>\n",
       "      <th id=\"T_a2750_level0_col1\" class=\"col_heading level0 col1\" >survived</th>\n",
       "    </tr>\n",
       "  </thead>\n",
       "  <tbody>\n",
       "    <tr>\n",
       "      <th id=\"T_a2750_level0_row0\" class=\"row_heading level0 row0\" >0</th>\n",
       "      <td id=\"T_a2750_row0_col0\" class=\"data row0 col0\" >female</td>\n",
       "      <td id=\"T_a2750_row0_col1\" class=\"data row0 col1\" >0.742038</td>\n",
       "    </tr>\n",
       "    <tr>\n",
       "      <th id=\"T_a2750_level0_row1\" class=\"row_heading level0 row1\" >1</th>\n",
       "      <td id=\"T_a2750_row1_col0\" class=\"data row1 col0\" >male</td>\n",
       "      <td id=\"T_a2750_row1_col1\" class=\"data row1 col1\" >0.188908</td>\n",
       "    </tr>\n",
       "  </tbody>\n",
       "</table>\n"
      ],
      "text/plain": [
       "<pandas.io.formats.style.Styler at 0x7eea22147820>"
      ]
     },
     "execution_count": 17,
     "metadata": {},
     "output_type": "execute_result"
    }
   ],
   "source": [
    "survived_table('sex')"
   ]
  },
  {
   "cell_type": "code",
   "execution_count": 18,
   "id": "1b4dc58c",
   "metadata": {
    "execution": {
     "iopub.execute_input": "2023-11-29T03:02:52.694604Z",
     "iopub.status.busy": "2023-11-29T03:02:52.694166Z",
     "iopub.status.idle": "2023-11-29T03:02:53.076293Z",
     "shell.execute_reply": "2023-11-29T03:02:53.074898Z"
    },
    "papermill": {
     "duration": 0.414773,
     "end_time": "2023-11-29T03:02:53.079189",
     "exception": false,
     "start_time": "2023-11-29T03:02:52.664416",
     "status": "completed"
    },
    "tags": []
   },
   "outputs": [
    {
     "data": {
      "image/png": "[encoded data removed]",
      "text/plain": [
       "<Figure size 600x400 with 1 Axes>"
      ]
     },
     "metadata": {},
     "output_type": "display_data"
    }
   ],
   "source": [
    "survived_bar_plot('pclass')"
   ]
  },
  {
   "cell_type": "code",
   "execution_count": 19,
   "id": "cf311ddb",
   "metadata": {
    "execution": {
     "iopub.execute_input": "2023-11-29T03:02:53.131184Z",
     "iopub.status.busy": "2023-11-29T03:02:53.130761Z",
     "iopub.status.idle": "2023-11-29T03:02:53.147499Z",
     "shell.execute_reply": "2023-11-29T03:02:53.146406Z"
    },
    "papermill": {
     "duration": 0.046171,
     "end_time": "2023-11-29T03:02:53.150262",
     "exception": false,
     "start_time": "2023-11-29T03:02:53.104091",
     "status": "completed"
    },
    "tags": []
   },
   "outputs": [
    {
     "data": {
      "text/html": [
       "<style type=\"text/css\">\n",
       "#T_cff98_row0_col0, #T_cff98_row2_col1 {\n",
       "  background-color: #c9cee4;\n",
       "  color: #000000;\n",
       "}\n",
       "#T_cff98_row0_col1, #T_cff98_row2_col0 {\n",
       "  background-color: #328dbf;\n",
       "  color: #f1f1f1;\n",
       "}\n",
       "#T_cff98_row1_col0 {\n",
       "  background-color: #86b0d3;\n",
       "  color: #000000;\n",
       "}\n",
       "#T_cff98_row1_col1 {\n",
       "  background-color: #78abd0;\n",
       "  color: #f1f1f1;\n",
       "}\n",
       "</style>\n",
       "<table id=\"T_cff98\">\n",
       "  <thead>\n",
       "    <tr>\n",
       "      <th class=\"blank level0\" >&nbsp;</th>\n",
       "      <th id=\"T_cff98_level0_col0\" class=\"col_heading level0 col0\" >pclass</th>\n",
       "      <th id=\"T_cff98_level0_col1\" class=\"col_heading level0 col1\" >survived</th>\n",
       "    </tr>\n",
       "  </thead>\n",
       "  <tbody>\n",
       "    <tr>\n",
       "      <th id=\"T_cff98_level0_row0\" class=\"row_heading level0 row0\" >0</th>\n",
       "      <td id=\"T_cff98_row0_col0\" class=\"data row0 col0\" >1</td>\n",
       "      <td id=\"T_cff98_row0_col1\" class=\"data row0 col1\" >0.629630</td>\n",
       "    </tr>\n",
       "    <tr>\n",
       "      <th id=\"T_cff98_level0_row1\" class=\"row_heading level0 row1\" >1</th>\n",
       "      <td id=\"T_cff98_row1_col0\" class=\"data row1 col0\" >2</td>\n",
       "      <td id=\"T_cff98_row1_col1\" class=\"data row1 col1\" >0.472826</td>\n",
       "    </tr>\n",
       "    <tr>\n",
       "      <th id=\"T_cff98_level0_row2\" class=\"row_heading level0 row2\" >2</th>\n",
       "      <td id=\"T_cff98_row2_col0\" class=\"data row2 col0\" >3</td>\n",
       "      <td id=\"T_cff98_row2_col1\" class=\"data row2 col1\" >0.242363</td>\n",
       "    </tr>\n",
       "  </tbody>\n",
       "</table>\n"
      ],
      "text/plain": [
       "<pandas.io.formats.style.Styler at 0x7eea58a73eb0>"
      ]
     },
     "execution_count": 19,
     "metadata": {},
     "output_type": "execute_result"
    }
   ],
   "source": [
    "survived_table('pclass')"
   ]
  },
  {
   "cell_type": "code",
   "execution_count": 20,
   "id": "6602e3e3",
   "metadata": {
    "execution": {
     "iopub.execute_input": "2023-11-29T03:02:53.202035Z",
     "iopub.status.busy": "2023-11-29T03:02:53.201420Z",
     "iopub.status.idle": "2023-11-29T03:02:53.608968Z",
     "shell.execute_reply": "2023-11-29T03:02:53.607826Z"
    },
    "papermill": {
     "duration": 0.436261,
     "end_time": "2023-11-29T03:02:53.611792",
     "exception": false,
     "start_time": "2023-11-29T03:02:53.175531",
     "status": "completed"
    },
    "tags": []
   },
   "outputs": [
    {
     "data": {
      "image/png": "[encoded data removed]",
      "text/plain": [
       "<Figure size 600x400 with 1 Axes>"
      ]
     },
     "metadata": {},
     "output_type": "display_data"
    }
   ],
   "source": [
    "survived_bar_plot('embarked')"
   ]
  },
  {
   "cell_type": "code",
   "execution_count": 21,
   "id": "64fb34f8",
   "metadata": {
    "execution": {
     "iopub.execute_input": "2023-11-29T03:02:53.662170Z",
     "iopub.status.busy": "2023-11-29T03:02:53.661797Z",
     "iopub.status.idle": "2023-11-29T03:02:53.682157Z",
     "shell.execute_reply": "2023-11-29T03:02:53.680899Z"
    },
    "papermill": {
     "duration": 0.048875,
     "end_time": "2023-11-29T03:02:53.684901",
     "exception": false,
     "start_time": "2023-11-29T03:02:53.636026",
     "status": "completed"
    },
    "tags": []
   },
   "outputs": [
    {
     "data": {
      "text/html": [
       "<style type=\"text/css\">\n",
       "#T_64bca_row0_col1 {\n",
       "  background-color: #328dbf;\n",
       "  color: #f1f1f1;\n",
       "}\n",
       "#T_64bca_row1_col1 {\n",
       "  background-color: #9fbad9;\n",
       "  color: #000000;\n",
       "}\n",
       "#T_64bca_row2_col1 {\n",
       "  background-color: #bfc9e1;\n",
       "  color: #000000;\n",
       "}\n",
       "#T_64bca_row3_col1 {\n",
       "  background-color: #c9cee4;\n",
       "  color: #000000;\n",
       "}\n",
       "</style>\n",
       "<table id=\"T_64bca\">\n",
       "  <thead>\n",
       "    <tr>\n",
       "      <th class=\"blank level0\" >&nbsp;</th>\n",
       "      <th id=\"T_64bca_level0_col0\" class=\"col_heading level0 col0\" >embarked</th>\n",
       "      <th id=\"T_64bca_level0_col1\" class=\"col_heading level0 col1\" >survived</th>\n",
       "    </tr>\n",
       "  </thead>\n",
       "  <tbody>\n",
       "    <tr>\n",
       "      <th id=\"T_64bca_level0_row0\" class=\"row_heading level0 row0\" >3</th>\n",
       "      <td id=\"T_64bca_row0_col0\" class=\"data row0 col0\" >messing</td>\n",
       "      <td id=\"T_64bca_row0_col1\" class=\"data row0 col1\" >1.000000</td>\n",
       "    </tr>\n",
       "    <tr>\n",
       "      <th id=\"T_64bca_level0_row1\" class=\"row_heading level0 row1\" >0</th>\n",
       "      <td id=\"T_64bca_row1_col0\" class=\"data row1 col0\" >C</td>\n",
       "      <td id=\"T_64bca_row1_col1\" class=\"data row1 col1\" >0.553571</td>\n",
       "    </tr>\n",
       "    <tr>\n",
       "      <th id=\"T_64bca_level0_row2\" class=\"row_heading level0 row2\" >1</th>\n",
       "      <td id=\"T_64bca_row2_col0\" class=\"data row2 col0\" >Q</td>\n",
       "      <td id=\"T_64bca_row2_col1\" class=\"data row2 col1\" >0.389610</td>\n",
       "    </tr>\n",
       "    <tr>\n",
       "      <th id=\"T_64bca_level0_row3\" class=\"row_heading level0 row3\" >2</th>\n",
       "      <td id=\"T_64bca_row3_col0\" class=\"data row3 col0\" >S</td>\n",
       "      <td id=\"T_64bca_row3_col1\" class=\"data row3 col1\" >0.336957</td>\n",
       "    </tr>\n",
       "  </tbody>\n",
       "</table>\n"
      ],
      "text/plain": [
       "<pandas.io.formats.style.Styler at 0x7eea58fd54b0>"
      ]
     },
     "execution_count": 21,
     "metadata": {},
     "output_type": "execute_result"
    }
   ],
   "source": [
    "survived_table('embarked')"
   ]
  },
  {
   "cell_type": "code",
   "execution_count": 22,
   "id": "53cbdeba",
   "metadata": {
    "execution": {
     "iopub.execute_input": "2023-11-29T03:02:53.736731Z",
     "iopub.status.busy": "2023-11-29T03:02:53.736219Z",
     "iopub.status.idle": "2023-11-29T03:02:54.305498Z",
     "shell.execute_reply": "2023-11-29T03:02:54.304222Z"
    },
    "papermill": {
     "duration": 0.59902,
     "end_time": "2023-11-29T03:02:54.308683",
     "exception": false,
     "start_time": "2023-11-29T03:02:53.709663",
     "status": "completed"
    },
    "tags": []
   },
   "outputs": [
    {
     "data": {
      "image/png": "[encoded data removed]",
      "text/plain": [
       "<Figure size 600x400 with 1 Axes>"
      ]
     },
     "metadata": {},
     "output_type": "display_data"
    }
   ],
   "source": [
    "survived_bar_plot('sibsp')"
   ]
  },
  {
   "cell_type": "code",
   "execution_count": 23,
   "id": "15b59138",
   "metadata": {
    "execution": {
     "iopub.execute_input": "2023-11-29T03:02:54.361497Z",
     "iopub.status.busy": "2023-11-29T03:02:54.360386Z",
     "iopub.status.idle": "2023-11-29T03:02:54.381721Z",
     "shell.execute_reply": "2023-11-29T03:02:54.380421Z"
    },
    "papermill": {
     "duration": 0.050458,
     "end_time": "2023-11-29T03:02:54.384153",
     "exception": false,
     "start_time": "2023-11-29T03:02:54.333695",
     "status": "completed"
    },
    "tags": []
   },
   "outputs": [
    {
     "data": {
      "text/html": [
       "<style type=\"text/css\">\n",
       "#T_52449_row0_col0 {\n",
       "  background-color: #b9c6e0;\n",
       "  color: #000000;\n",
       "}\n",
       "#T_52449_row0_col1, #T_52449_row6_col0 {\n",
       "  background-color: #328dbf;\n",
       "  color: #f1f1f1;\n",
       "}\n",
       "#T_52449_row1_col0 {\n",
       "  background-color: #a9bfdc;\n",
       "  color: #000000;\n",
       "}\n",
       "#T_52449_row1_col1 {\n",
       "  background-color: #4897c4;\n",
       "  color: #f1f1f1;\n",
       "}\n",
       "#T_52449_row2_col0, #T_52449_row5_col1, #T_52449_row6_col1 {\n",
       "  background-color: #c9cee4;\n",
       "  color: #000000;\n",
       "}\n",
       "#T_52449_row2_col1 {\n",
       "  background-color: #71a8ce;\n",
       "  color: #f1f1f1;\n",
       "}\n",
       "#T_52449_row3_col0 {\n",
       "  background-color: #99b8d8;\n",
       "  color: #000000;\n",
       "}\n",
       "#T_52449_row3_col1 {\n",
       "  background-color: #8bb2d4;\n",
       "  color: #000000;\n",
       "}\n",
       "#T_52449_row4_col0 {\n",
       "  background-color: #86b0d3;\n",
       "  color: #000000;\n",
       "}\n",
       "#T_52449_row4_col1 {\n",
       "  background-color: #a2bcda;\n",
       "  color: #000000;\n",
       "}\n",
       "#T_52449_row5_col0 {\n",
       "  background-color: #73a9cf;\n",
       "  color: #f1f1f1;\n",
       "}\n",
       "</style>\n",
       "<table id=\"T_52449\">\n",
       "  <thead>\n",
       "    <tr>\n",
       "      <th class=\"blank level0\" >&nbsp;</th>\n",
       "      <th id=\"T_52449_level0_col0\" class=\"col_heading level0 col0\" >sibsp</th>\n",
       "      <th id=\"T_52449_level0_col1\" class=\"col_heading level0 col1\" >survived</th>\n",
       "    </tr>\n",
       "  </thead>\n",
       "  <tbody>\n",
       "    <tr>\n",
       "      <th id=\"T_52449_level0_row0\" class=\"row_heading level0 row0\" >1</th>\n",
       "      <td id=\"T_52449_row0_col0\" class=\"data row0 col0\" >1</td>\n",
       "      <td id=\"T_52449_row0_col1\" class=\"data row0 col1\" >0.535885</td>\n",
       "    </tr>\n",
       "    <tr>\n",
       "      <th id=\"T_52449_level0_row1\" class=\"row_heading level0 row1\" >2</th>\n",
       "      <td id=\"T_52449_row1_col0\" class=\"data row1 col0\" >2</td>\n",
       "      <td id=\"T_52449_row1_col1\" class=\"data row1 col1\" >0.464286</td>\n",
       "    </tr>\n",
       "    <tr>\n",
       "      <th id=\"T_52449_level0_row2\" class=\"row_heading level0 row2\" >0</th>\n",
       "      <td id=\"T_52449_row2_col0\" class=\"data row2 col0\" >0</td>\n",
       "      <td id=\"T_52449_row2_col1\" class=\"data row2 col1\" >0.345395</td>\n",
       "    </tr>\n",
       "    <tr>\n",
       "      <th id=\"T_52449_level0_row3\" class=\"row_heading level0 row3\" >3</th>\n",
       "      <td id=\"T_52449_row3_col0\" class=\"data row3 col0\" >3</td>\n",
       "      <td id=\"T_52449_row3_col1\" class=\"data row3 col1\" >0.250000</td>\n",
       "    </tr>\n",
       "    <tr>\n",
       "      <th id=\"T_52449_level0_row4\" class=\"row_heading level0 row4\" >4</th>\n",
       "      <td id=\"T_52449_row4_col0\" class=\"data row4 col0\" >4</td>\n",
       "      <td id=\"T_52449_row4_col1\" class=\"data row4 col1\" >0.166667</td>\n",
       "    </tr>\n",
       "    <tr>\n",
       "      <th id=\"T_52449_level0_row5\" class=\"row_heading level0 row5\" >5</th>\n",
       "      <td id=\"T_52449_row5_col0\" class=\"data row5 col0\" >5</td>\n",
       "      <td id=\"T_52449_row5_col1\" class=\"data row5 col1\" >0.000000</td>\n",
       "    </tr>\n",
       "    <tr>\n",
       "      <th id=\"T_52449_level0_row6\" class=\"row_heading level0 row6\" >6</th>\n",
       "      <td id=\"T_52449_row6_col0\" class=\"data row6 col0\" >8</td>\n",
       "      <td id=\"T_52449_row6_col1\" class=\"data row6 col1\" >0.000000</td>\n",
       "    </tr>\n",
       "  </tbody>\n",
       "</table>\n"
      ],
      "text/plain": [
       "<pandas.io.formats.style.Styler at 0x7eea221f4fa0>"
      ]
     },
     "execution_count": 23,
     "metadata": {},
     "output_type": "execute_result"
    }
   ],
   "source": [
    "survived_table('sibsp')"
   ]
  },
  {
   "cell_type": "code",
   "execution_count": 24,
   "id": "bb065e00",
   "metadata": {
    "execution": {
     "iopub.execute_input": "2023-11-29T03:02:54.438523Z",
     "iopub.status.busy": "2023-11-29T03:02:54.437159Z",
     "iopub.status.idle": "2023-11-29T03:02:54.961677Z",
     "shell.execute_reply": "2023-11-29T03:02:54.960791Z"
    },
    "papermill": {
     "duration": 0.554153,
     "end_time": "2023-11-29T03:02:54.964062",
     "exception": false,
     "start_time": "2023-11-29T03:02:54.409909",
     "status": "completed"
    },
    "tags": []
   },
   "outputs": [
    {
     "data": {
      "image/png": "[encoded data removed]",
      "text/plain": [
       "<Figure size 600x400 with 1 Axes>"
      ]
     },
     "metadata": {},
     "output_type": "display_data"
    }
   ],
   "source": [
    "survived_bar_plot('parch')"
   ]
  },
  {
   "cell_type": "code",
   "execution_count": 25,
   "id": "455bad9b",
   "metadata": {
    "execution": {
     "iopub.execute_input": "2023-11-29T03:02:55.019466Z",
     "iopub.status.busy": "2023-11-29T03:02:55.018976Z",
     "iopub.status.idle": "2023-11-29T03:02:55.038438Z",
     "shell.execute_reply": "2023-11-29T03:02:55.037214Z"
    },
    "papermill": {
     "duration": 0.051057,
     "end_time": "2023-11-29T03:02:55.040856",
     "exception": false,
     "start_time": "2023-11-29T03:02:54.989799",
     "status": "completed"
    },
    "tags": []
   },
   "outputs": [
    {
     "data": {
      "text/html": [
       "<style type=\"text/css\">\n",
       "#T_d5a71_row0_col0 {\n",
       "  background-color: #86b0d3;\n",
       "  color: #000000;\n",
       "}\n",
       "#T_d5a71_row0_col1, #T_d5a71_row6_col0 {\n",
       "  background-color: #328dbf;\n",
       "  color: #f1f1f1;\n",
       "}\n",
       "#T_d5a71_row1_col0 {\n",
       "  background-color: #b4c4df;\n",
       "  color: #000000;\n",
       "}\n",
       "#T_d5a71_row1_col1 {\n",
       "  background-color: #3f93c2;\n",
       "  color: #f1f1f1;\n",
       "}\n",
       "#T_d5a71_row2_col0, #T_d5a71_row4_col1 {\n",
       "  background-color: #9fbad9;\n",
       "  color: #000000;\n",
       "}\n",
       "#T_d5a71_row2_col1, #T_d5a71_row4_col0 {\n",
       "  background-color: #4e9ac6;\n",
       "  color: #f1f1f1;\n",
       "}\n",
       "#T_d5a71_row3_col0, #T_d5a71_row5_col1, #T_d5a71_row6_col1 {\n",
       "  background-color: #c9cee4;\n",
       "  color: #000000;\n",
       "}\n",
       "#T_d5a71_row3_col1 {\n",
       "  background-color: #7bacd1;\n",
       "  color: #f1f1f1;\n",
       "}\n",
       "#T_d5a71_row5_col0 {\n",
       "  background-color: #6da6cd;\n",
       "  color: #f1f1f1;\n",
       "}\n",
       "</style>\n",
       "<table id=\"T_d5a71\">\n",
       "  <thead>\n",
       "    <tr>\n",
       "      <th class=\"blank level0\" >&nbsp;</th>\n",
       "      <th id=\"T_d5a71_level0_col0\" class=\"col_heading level0 col0\" >parch</th>\n",
       "      <th id=\"T_d5a71_level0_col1\" class=\"col_heading level0 col1\" >survived</th>\n",
       "    </tr>\n",
       "  </thead>\n",
       "  <tbody>\n",
       "    <tr>\n",
       "      <th id=\"T_d5a71_level0_row0\" class=\"row_heading level0 row0\" >3</th>\n",
       "      <td id=\"T_d5a71_row0_col0\" class=\"data row0 col0\" >3</td>\n",
       "      <td id=\"T_d5a71_row0_col1\" class=\"data row0 col1\" >0.600000</td>\n",
       "    </tr>\n",
       "    <tr>\n",
       "      <th id=\"T_d5a71_level0_row1\" class=\"row_heading level0 row1\" >1</th>\n",
       "      <td id=\"T_d5a71_row1_col0\" class=\"data row1 col0\" >1</td>\n",
       "      <td id=\"T_d5a71_row1_col1\" class=\"data row1 col1\" >0.550847</td>\n",
       "    </tr>\n",
       "    <tr>\n",
       "      <th id=\"T_d5a71_level0_row2\" class=\"row_heading level0 row2\" >2</th>\n",
       "      <td id=\"T_d5a71_row2_col0\" class=\"data row2 col0\" >2</td>\n",
       "      <td id=\"T_d5a71_row2_col1\" class=\"data row2 col1\" >0.500000</td>\n",
       "    </tr>\n",
       "    <tr>\n",
       "      <th id=\"T_d5a71_level0_row3\" class=\"row_heading level0 row3\" >0</th>\n",
       "      <td id=\"T_d5a71_row3_col0\" class=\"data row3 col0\" >0</td>\n",
       "      <td id=\"T_d5a71_row3_col1\" class=\"data row3 col1\" >0.343658</td>\n",
       "    </tr>\n",
       "    <tr>\n",
       "      <th id=\"T_d5a71_level0_row4\" class=\"row_heading level0 row4\" >5</th>\n",
       "      <td id=\"T_d5a71_row4_col0\" class=\"data row4 col0\" >5</td>\n",
       "      <td id=\"T_d5a71_row4_col1\" class=\"data row4 col1\" >0.200000</td>\n",
       "    </tr>\n",
       "    <tr>\n",
       "      <th id=\"T_d5a71_level0_row5\" class=\"row_heading level0 row5\" >4</th>\n",
       "      <td id=\"T_d5a71_row5_col0\" class=\"data row5 col0\" >4</td>\n",
       "      <td id=\"T_d5a71_row5_col1\" class=\"data row5 col1\" >0.000000</td>\n",
       "    </tr>\n",
       "    <tr>\n",
       "      <th id=\"T_d5a71_level0_row6\" class=\"row_heading level0 row6\" >6</th>\n",
       "      <td id=\"T_d5a71_row6_col0\" class=\"data row6 col0\" >6</td>\n",
       "      <td id=\"T_d5a71_row6_col1\" class=\"data row6 col1\" >0.000000</td>\n",
       "    </tr>\n",
       "  </tbody>\n",
       "</table>\n"
      ],
      "text/plain": [
       "<pandas.io.formats.style.Styler at 0x7eea201157e0>"
      ]
     },
     "execution_count": 25,
     "metadata": {},
     "output_type": "execute_result"
    }
   ],
   "source": [
    "survived_table('parch')"
   ]
  },
  {
   "cell_type": "code",
   "execution_count": 26,
   "id": "70db7ea2",
   "metadata": {
    "execution": {
     "iopub.execute_input": "2023-11-29T03:02:55.095080Z",
     "iopub.status.busy": "2023-11-29T03:02:55.094579Z",
     "iopub.status.idle": "2023-11-29T03:02:55.936860Z",
     "shell.execute_reply": "2023-11-29T03:02:55.935449Z"
    },
    "papermill": {
     "duration": 0.873473,
     "end_time": "2023-11-29T03:02:55.940056",
     "exception": false,
     "start_time": "2023-11-29T03:02:55.066583",
     "status": "completed"
    },
    "tags": []
   },
   "outputs": [
    {
     "data": {
      "image/png": "[encoded data removed]",
      "text/plain": [
       "<Figure size 1000x1000 with 1 Axes>"
      ]
     },
     "metadata": {},
     "output_type": "display_data"
    }
   ],
   "source": [
    "survived_hist_plot('fare')"
   ]
  },
  {
   "cell_type": "code",
   "execution_count": 27,
   "id": "de58f4be",
   "metadata": {
    "execution": {
     "iopub.execute_input": "2023-11-29T03:02:55.999176Z",
     "iopub.status.busy": "2023-11-29T03:02:55.998751Z",
     "iopub.status.idle": "2023-11-29T03:02:56.470154Z",
     "shell.execute_reply": "2023-11-29T03:02:56.469290Z"
    },
    "papermill": {
     "duration": 0.505322,
     "end_time": "2023-11-29T03:02:56.472695",
     "exception": false,
     "start_time": "2023-11-29T03:02:55.967373",
     "status": "completed"
    },
    "tags": []
   },
   "outputs": [
    {
     "data": {
      "image/png": "[encoded data removed]",
      "text/plain": [
       "<Figure size 1000x1000 with 1 Axes>"
      ]
     },
     "metadata": {},
     "output_type": "display_data"
    }
   ],
   "source": [
    "survived_hist_plot('age')"
   ]
  },
  {
   "cell_type": "markdown",
   "id": "bb64c900",
   "metadata": {
    "papermill": {
     "duration": 0.026703,
     "end_time": "2023-11-29T03:02:56.526111",
     "exception": false,
     "start_time": "2023-11-29T03:02:56.499408",
     "status": "completed"
    },
    "tags": []
   },
   "source": [
    "**age vs pclass vs target**"
   ]
  },
  {
   "cell_type": "code",
   "execution_count": 28,
   "id": "0247a6c8",
   "metadata": {
    "execution": {
     "iopub.execute_input": "2023-11-29T03:02:56.583084Z",
     "iopub.status.busy": "2023-11-29T03:02:56.581800Z",
     "iopub.status.idle": "2023-11-29T03:02:57.651518Z",
     "shell.execute_reply": "2023-11-29T03:02:57.650018Z"
    },
    "papermill": {
     "duration": 1.101492,
     "end_time": "2023-11-29T03:02:57.654440",
     "exception": false,
     "start_time": "2023-11-29T03:02:56.552948",
     "status": "completed"
    },
    "tags": []
   },
   "outputs": [
    {
     "data": {
      "image/png": "[encoded data removed]",
      "text/plain": [
       "<Figure size 1400x400 with 3 Axes>"
      ]
     },
     "metadata": {},
     "output_type": "display_data"
    }
   ],
   "source": [
    "plot , ax = plt.subplots(1 , 3 , figsize=(14,4))\n",
    "sns.histplot(data = df_train.loc[df_train[\"pclass\"]==1] , x = \"age\" , hue = target,binwidth=5,ax = ax[0],palette = sns.color_palette([\"yellow\" , \"green\"]),multiple = \"stack\").set_title(\"1-Pclass\")\n",
    "sns.histplot(data = df_train.loc[df_train[\"pclass\"]==2] , x = \"age\" , hue = target,binwidth=5,ax = ax[1],palette = sns.color_palette([\"yellow\" , \"green\"]),multiple = \"stack\").set_title(\"2-Pclass\")\n",
    "sns.histplot(data = df_train.loc[df_train[\"pclass\"]==3] , x = \"age\" , hue = target,binwidth=5,ax = ax[2],palette = sns.color_palette([\"yellow\" , \"green\"]),multiple = \"stack\").set_title(\"3-Pclass\")\n",
    "plt.show()"
   ]
  },
  {
   "cell_type": "code",
   "execution_count": 29,
   "id": "4620c07e",
   "metadata": {
    "execution": {
     "iopub.execute_input": "2023-11-29T03:02:57.716861Z",
     "iopub.status.busy": "2023-11-29T03:02:57.716438Z",
     "iopub.status.idle": "2023-11-29T03:02:58.509292Z",
     "shell.execute_reply": "2023-11-29T03:02:58.508281Z"
    },
    "papermill": {
     "duration": 0.828718,
     "end_time": "2023-11-29T03:02:58.511782",
     "exception": false,
     "start_time": "2023-11-29T03:02:57.683064",
     "status": "completed"
    },
    "tags": []
   },
   "outputs": [
    {
     "data": {
      "image/png": "[encoded data removed]",
      "text/plain": [
       "<Figure size 1400x400 with 2 Axes>"
      ]
     },
     "metadata": {},
     "output_type": "display_data"
    }
   ],
   "source": [
    "plot , ax = plt.subplots(1 ,2 , figsize=(14,4))\n",
    "sns.histplot(data = df_train.loc[df_train[\"sex\"]=='male'] , x = \"age\" , hue = target,binwidth=5,ax = ax[0],palette = sns.color_palette([\"yellow\" , \"green\"]),multiple = \"stack\").set_title(\"1-male\")\n",
    "sns.histplot(data = df_train.loc[df_train[\"sex\"]=='female'] , x = \"age\" , hue = target,binwidth=5,ax = ax[1],palette = sns.color_palette([\"yellow\" , \"green\"]),multiple = \"stack\").set_title(\"2-female\")\n",
    "plt.show()"
   ]
  },
  {
   "cell_type": "markdown",
   "id": "e432ad1f",
   "metadata": {
    "papermill": {
     "duration": 0.028774,
     "end_time": "2023-11-29T03:02:58.569660",
     "exception": false,
     "start_time": "2023-11-29T03:02:58.540886",
     "status": "completed"
    },
    "tags": []
   },
   "source": [
    "# **Feature Engineering**"
   ]
  },
  {
   "cell_type": "code",
   "execution_count": 30,
   "id": "ae045783",
   "metadata": {
    "execution": {
     "iopub.execute_input": "2023-11-29T03:02:58.631069Z",
     "iopub.status.busy": "2023-11-29T03:02:58.630337Z",
     "iopub.status.idle": "2023-11-29T03:02:58.637721Z",
     "shell.execute_reply": "2023-11-29T03:02:58.636670Z"
    },
    "papermill": {
     "duration": 0.041022,
     "end_time": "2023-11-29T03:02:58.640486",
     "exception": false,
     "start_time": "2023-11-29T03:02:58.599464",
     "status": "completed"
    },
    "tags": []
   },
   "outputs": [],
   "source": [
    "df_train['family_size'] = df_train['sibsp'] + df_train['parch'] + 1\n",
    "df_test['family_size'] = df_test['sibsp'] + df_test['parch'] + 1"
   ]
  },
  {
   "cell_type": "code",
   "execution_count": 31,
   "id": "b9c8f639",
   "metadata": {
    "execution": {
     "iopub.execute_input": "2023-11-29T03:02:58.702123Z",
     "iopub.status.busy": "2023-11-29T03:02:58.701654Z",
     "iopub.status.idle": "2023-11-29T03:02:58.724181Z",
     "shell.execute_reply": "2023-11-29T03:02:58.723116Z"
    },
    "papermill": {
     "duration": 0.057036,
     "end_time": "2023-11-29T03:02:58.726420",
     "exception": false,
     "start_time": "2023-11-29T03:02:58.669384",
     "status": "completed"
    },
    "tags": []
   },
   "outputs": [
    {
     "data": {
      "text/html": [
       "<style type=\"text/css\">\n",
       "#T_81a08_row0_col0 {\n",
       "  background-color: #a4bcda;\n",
       "  color: #000000;\n",
       "}\n",
       "#T_81a08_row0_col1, #T_81a08_row8_col0 {\n",
       "  background-color: #328dbf;\n",
       "  color: #f1f1f1;\n",
       "}\n",
       "#T_81a08_row1_col0 {\n",
       "  background-color: #b0c2de;\n",
       "  color: #000000;\n",
       "}\n",
       "#T_81a08_row1_col1 {\n",
       "  background-color: #549cc7;\n",
       "  color: #f1f1f1;\n",
       "}\n",
       "#T_81a08_row2_col0 {\n",
       "  background-color: #bcc7e1;\n",
       "  color: #000000;\n",
       "}\n",
       "#T_81a08_row2_col1 {\n",
       "  background-color: #5c9fc9;\n",
       "  color: #f1f1f1;\n",
       "}\n",
       "#T_81a08_row3_col0 {\n",
       "  background-color: #78abd0;\n",
       "  color: #f1f1f1;\n",
       "}\n",
       "#T_81a08_row3_col1 {\n",
       "  background-color: #8cb3d5;\n",
       "  color: #000000;\n",
       "}\n",
       "#T_81a08_row4_col0, #T_81a08_row7_col1, #T_81a08_row8_col1 {\n",
       "  background-color: #c9cee4;\n",
       "  color: #000000;\n",
       "}\n",
       "#T_81a08_row4_col1 {\n",
       "  background-color: #93b5d6;\n",
       "  color: #000000;\n",
       "}\n",
       "#T_81a08_row5_col0 {\n",
       "  background-color: #94b6d7;\n",
       "  color: #000000;\n",
       "}\n",
       "#T_81a08_row5_col1 {\n",
       "  background-color: #a7bddb;\n",
       "  color: #000000;\n",
       "}\n",
       "#T_81a08_row6_col0 {\n",
       "  background-color: #86b0d3;\n",
       "  color: #000000;\n",
       "}\n",
       "#T_81a08_row6_col1 {\n",
       "  background-color: #b1c2de;\n",
       "  color: #000000;\n",
       "}\n",
       "#T_81a08_row7_col0 {\n",
       "  background-color: #67a4cc;\n",
       "  color: #f1f1f1;\n",
       "}\n",
       "</style>\n",
       "<table id=\"T_81a08\">\n",
       "  <thead>\n",
       "    <tr>\n",
       "      <th class=\"blank level0\" >&nbsp;</th>\n",
       "      <th id=\"T_81a08_level0_col0\" class=\"col_heading level0 col0\" >family_size</th>\n",
       "      <th id=\"T_81a08_level0_col1\" class=\"col_heading level0 col1\" >survived</th>\n",
       "    </tr>\n",
       "  </thead>\n",
       "  <tbody>\n",
       "    <tr>\n",
       "      <th id=\"T_81a08_level0_row0\" class=\"row_heading level0 row0\" >3</th>\n",
       "      <td id=\"T_81a08_row0_col0\" class=\"data row0 col0\" >4</td>\n",
       "      <td id=\"T_81a08_row0_col1\" class=\"data row0 col1\" >0.724138</td>\n",
       "    </tr>\n",
       "    <tr>\n",
       "      <th id=\"T_81a08_level0_row1\" class=\"row_heading level0 row1\" >2</th>\n",
       "      <td id=\"T_81a08_row1_col0\" class=\"data row1 col0\" >3</td>\n",
       "      <td id=\"T_81a08_row1_col1\" class=\"data row1 col1\" >0.578431</td>\n",
       "    </tr>\n",
       "    <tr>\n",
       "      <th id=\"T_81a08_level0_row2\" class=\"row_heading level0 row2\" >1</th>\n",
       "      <td id=\"T_81a08_row2_col0\" class=\"data row2 col0\" >2</td>\n",
       "      <td id=\"T_81a08_row2_col1\" class=\"data row2 col1\" >0.552795</td>\n",
       "    </tr>\n",
       "    <tr>\n",
       "      <th id=\"T_81a08_level0_row3\" class=\"row_heading level0 row3\" >6</th>\n",
       "      <td id=\"T_81a08_row3_col0\" class=\"data row3 col0\" >7</td>\n",
       "      <td id=\"T_81a08_row3_col1\" class=\"data row3 col1\" >0.333333</td>\n",
       "    </tr>\n",
       "    <tr>\n",
       "      <th id=\"T_81a08_level0_row4\" class=\"row_heading level0 row4\" >0</th>\n",
       "      <td id=\"T_81a08_row4_col0\" class=\"data row4 col0\" >1</td>\n",
       "      <td id=\"T_81a08_row4_col1\" class=\"data row4 col1\" >0.303538</td>\n",
       "    </tr>\n",
       "    <tr>\n",
       "      <th id=\"T_81a08_level0_row5\" class=\"row_heading level0 row5\" >4</th>\n",
       "      <td id=\"T_81a08_row5_col0\" class=\"data row5 col0\" >5</td>\n",
       "      <td id=\"T_81a08_row5_col1\" class=\"data row5 col1\" >0.200000</td>\n",
       "    </tr>\n",
       "    <tr>\n",
       "      <th id=\"T_81a08_level0_row6\" class=\"row_heading level0 row6\" >5</th>\n",
       "      <td id=\"T_81a08_row6_col0\" class=\"data row6 col0\" >6</td>\n",
       "      <td id=\"T_81a08_row6_col1\" class=\"data row6 col1\" >0.136364</td>\n",
       "    </tr>\n",
       "    <tr>\n",
       "      <th id=\"T_81a08_level0_row7\" class=\"row_heading level0 row7\" >7</th>\n",
       "      <td id=\"T_81a08_row7_col0\" class=\"data row7 col0\" >8</td>\n",
       "      <td id=\"T_81a08_row7_col1\" class=\"data row7 col1\" >0.000000</td>\n",
       "    </tr>\n",
       "    <tr>\n",
       "      <th id=\"T_81a08_level0_row8\" class=\"row_heading level0 row8\" >8</th>\n",
       "      <td id=\"T_81a08_row8_col0\" class=\"data row8 col0\" >11</td>\n",
       "      <td id=\"T_81a08_row8_col1\" class=\"data row8 col1\" >0.000000</td>\n",
       "    </tr>\n",
       "  </tbody>\n",
       "</table>\n"
      ],
      "text/plain": [
       "<pandas.io.formats.style.Styler at 0x7eea1fb96800>"
      ]
     },
     "execution_count": 31,
     "metadata": {},
     "output_type": "execute_result"
    }
   ],
   "source": [
    "survived_table('family_size')"
   ]
  },
  {
   "cell_type": "code",
   "execution_count": 32,
   "id": "d3e33592",
   "metadata": {
    "execution": {
     "iopub.execute_input": "2023-11-29T03:02:58.788014Z",
     "iopub.status.busy": "2023-11-29T03:02:58.787291Z",
     "iopub.status.idle": "2023-11-29T03:02:58.809262Z",
     "shell.execute_reply": "2023-11-29T03:02:58.807974Z"
    },
    "papermill": {
     "duration": 0.056439,
     "end_time": "2023-11-29T03:02:58.812568",
     "exception": false,
     "start_time": "2023-11-29T03:02:58.756129",
     "status": "completed"
    },
    "tags": []
   },
   "outputs": [],
   "source": [
    "df_train['is_alone'] = df_train['family_size'].map(lambda x: 1 if x == 1 else 0).astype(bool)\n",
    "df_train['family_small'] = df_train['family_size'].map(lambda x: 1 if x == 2 else 0)\n",
    "df_train['family_med'] = df_train['family_size'].map(lambda x: 1 if 3 <= x <= 4 else 0)\n",
    "df_train['family_big'] = df_train['family_size'].map(lambda x: 1 if x >= 5 else 0)\n",
    "\n",
    "\n",
    "\n",
    "df_test['is_alone'] = df_test['family_size'].map(lambda x: 1 if x == 1 else 0).astype(bool)\n",
    "df_test['family_small'] = df_test['family_size'].map(lambda x: 1 if x == 2 else 0)\n",
    "df_test['family_med'] = df_test['family_size'].map(lambda x: 1 if 3 <= x <= 4 else 0)\n",
    "df_test['family_big'] = df_test['family_size'].map(lambda x: 1 if x >= 5 else 0)\n",
    "\n",
    "\n",
    "df_train=df_train.drop(columns=['family_size','parch','sibsp'])\n",
    "df_test=df_test.drop(columns=['family_size','parch','sibsp'])\n",
    "\n"
   ]
  },
  {
   "cell_type": "code",
   "execution_count": 33,
   "id": "d5c36331",
   "metadata": {
    "execution": {
     "iopub.execute_input": "2023-11-29T03:02:58.873116Z",
     "iopub.status.busy": "2023-11-29T03:02:58.872681Z",
     "iopub.status.idle": "2023-11-29T03:02:58.931591Z",
     "shell.execute_reply": "2023-11-29T03:02:58.930010Z"
    },
    "papermill": {
     "duration": 0.092413,
     "end_time": "2023-11-29T03:02:58.934097",
     "exception": false,
     "start_time": "2023-11-29T03:02:58.841684",
     "status": "completed"
    },
    "tags": []
   },
   "outputs": [
    {
     "data": {
      "text/html": [
       "<style type=\"text/css\">\n",
       "#T_8c03a_row0_col1 {\n",
       "  background-color: #328dbf;\n",
       "  color: #f1f1f1;\n",
       "}\n",
       "#T_8c03a_row1_col1 {\n",
       "  background-color: #4697c4;\n",
       "  color: #f1f1f1;\n",
       "}\n",
       "#T_8c03a_row2_col1 {\n",
       "  background-color: #529bc7;\n",
       "  color: #f1f1f1;\n",
       "}\n",
       "#T_8c03a_row3_col1 {\n",
       "  background-color: #62a2cb;\n",
       "  color: #f1f1f1;\n",
       "}\n",
       "#T_8c03a_row4_col1 {\n",
       "  background-color: #80aed2;\n",
       "  color: #f1f1f1;\n",
       "}\n",
       "#T_8c03a_row5_col1 {\n",
       "  background-color: #b0c2de;\n",
       "  color: #000000;\n",
       "}\n",
       "#T_8c03a_row6_col1 {\n",
       "  background-color: #c9cee4;\n",
       "  color: #000000;\n",
       "}\n",
       "</style>\n",
       "<table id=\"T_8c03a\">\n",
       "  <thead>\n",
       "    <tr>\n",
       "      <th class=\"blank level0\" >&nbsp;</th>\n",
       "      <th id=\"T_8c03a_level0_col0\" class=\"col_heading level0 col0\" >title</th>\n",
       "      <th id=\"T_8c03a_level0_col1\" class=\"col_heading level0 col1\" >survived</th>\n",
       "    </tr>\n",
       "  </thead>\n",
       "  <tbody>\n",
       "    <tr>\n",
       "      <th id=\"T_8c03a_level0_row0\" class=\"row_heading level0 row0\" >4</th>\n",
       "      <td id=\"T_8c03a_row0_col0\" class=\"data row0 col0\" >Mrs</td>\n",
       "      <td id=\"T_8c03a_row0_col1\" class=\"data row0 col1\" >0.792000</td>\n",
       "    </tr>\n",
       "    <tr>\n",
       "      <th id=\"T_8c03a_level0_row1\" class=\"row_heading level0 row1\" >2</th>\n",
       "      <td id=\"T_8c03a_row1_col0\" class=\"data row1 col0\" >Miss</td>\n",
       "      <td id=\"T_8c03a_row1_col1\" class=\"data row1 col1\" >0.697802</td>\n",
       "    </tr>\n",
       "    <tr>\n",
       "      <th id=\"T_8c03a_level0_row2\" class=\"row_heading level0 row2\" >6</th>\n",
       "      <td id=\"T_8c03a_row2_col0\" class=\"data row2 col0\" >rare</td>\n",
       "      <td id=\"T_8c03a_row2_col1\" class=\"data row2 col1\" >0.642857</td>\n",
       "    </tr>\n",
       "    <tr>\n",
       "      <th id=\"T_8c03a_level0_row3\" class=\"row_heading level0 row3\" >1</th>\n",
       "      <td id=\"T_8c03a_row3_col0\" class=\"data row3 col0\" >Master</td>\n",
       "      <td id=\"T_8c03a_row3_col1\" class=\"data row3 col1\" >0.575000</td>\n",
       "    </tr>\n",
       "    <tr>\n",
       "      <th id=\"T_8c03a_level0_row4\" class=\"row_heading level0 row4\" >0</th>\n",
       "      <td id=\"T_8c03a_row4_col0\" class=\"data row4 col0\" >Dr</td>\n",
       "      <td id=\"T_8c03a_row4_col1\" class=\"data row4 col1\" >0.428571</td>\n",
       "    </tr>\n",
       "    <tr>\n",
       "      <th id=\"T_8c03a_level0_row5\" class=\"row_heading level0 row5\" >3</th>\n",
       "      <td id=\"T_8c03a_row5_col0\" class=\"data row5 col0\" >Mr</td>\n",
       "      <td id=\"T_8c03a_row5_col1\" class=\"data row5 col1\" >0.156673</td>\n",
       "    </tr>\n",
       "    <tr>\n",
       "      <th id=\"T_8c03a_level0_row6\" class=\"row_heading level0 row6\" >5</th>\n",
       "      <td id=\"T_8c03a_row6_col0\" class=\"data row6 col0\" >Rev</td>\n",
       "      <td id=\"T_8c03a_row6_col1\" class=\"data row6 col1\" >0.000000</td>\n",
       "    </tr>\n",
       "  </tbody>\n",
       "</table>\n"
      ],
      "text/plain": [
       "<pandas.io.formats.style.Styler at 0x7eea1fadef50>"
      ]
     },
     "execution_count": 33,
     "metadata": {},
     "output_type": "execute_result"
    }
   ],
   "source": [
    "df_train['title']=df_train.name.str.extract(' ([A-Za-z]+)\\.', expand=False)\n",
    "title_names = (df_train['title'].value_counts() < 5)\n",
    "df_train['title'] = df_train['title'].apply(lambda x: 'rare' if title_names.loc[x] == True else x)\n",
    "\n",
    "df_test['title']=df_test.name.str.extract(' ([A-Za-z]+)\\.', expand=False)\n",
    "title_names = (df_test['title'].value_counts() < 5)\n",
    "df_test['title'] = df_test['title'].apply(lambda x: 'rare' if title_names.loc[x] == True else x)\n",
    "\n",
    "\n",
    "survived_table('title')"
   ]
  },
  {
   "cell_type": "code",
   "execution_count": 34,
   "id": "20da70dc",
   "metadata": {
    "execution": {
     "iopub.execute_input": "2023-11-29T03:02:58.993975Z",
     "iopub.status.busy": "2023-11-29T03:02:58.993553Z",
     "iopub.status.idle": "2023-11-29T03:02:59.012296Z",
     "shell.execute_reply": "2023-11-29T03:02:59.011450Z"
    },
    "papermill": {
     "duration": 0.051369,
     "end_time": "2023-11-29T03:02:59.014772",
     "exception": false,
     "start_time": "2023-11-29T03:02:58.963403",
     "status": "completed"
    },
    "tags": []
   },
   "outputs": [],
   "source": [
    "df_train['is_mrs'] = df_train['title'].map(lambda x: 1 if x == 'Mrs' else 0)\n",
    "df_train['is_miss'] = df_train['title'].map(lambda x: 1 if x == 'Miss' else 0)\n",
    "df_train['is_master'] = df_train['title'].map(lambda x: 1 if x == 'Master' else 0)\n",
    "\n",
    "\n",
    "\n",
    "df_test['is_mrs'] = df_test['title'].map(lambda x: 1 if x == 'Mrs' else 0)\n",
    "df_test['is_miss'] = df_test['title'].map(lambda x: 1 if x == 'Miss' else 0)\n",
    "df_test['is_master'] = df_test['title'].map(lambda x: 1 if x == 'Master' else 0)\n",
    "\n",
    "\n",
    "df_train=df_train.drop(columns=['title','name'])\n",
    "df_test=df_test.drop(columns=['title','name'])\n",
    "\n",
    "\n"
   ]
  },
  {
   "cell_type": "code",
   "execution_count": 35,
   "id": "e6a18bb8",
   "metadata": {
    "execution": {
     "iopub.execute_input": "2023-11-29T03:02:59.074245Z",
     "iopub.status.busy": "2023-11-29T03:02:59.073571Z",
     "iopub.status.idle": "2023-11-29T03:02:59.100260Z",
     "shell.execute_reply": "2023-11-29T03:02:59.099129Z"
    },
    "papermill": {
     "duration": 0.059873,
     "end_time": "2023-11-29T03:02:59.102702",
     "exception": false,
     "start_time": "2023-11-29T03:02:59.042829",
     "status": "completed"
    },
    "tags": []
   },
   "outputs": [
    {
     "data": {
      "text/html": [
       "<div>\n",
       "<style scoped>\n",
       "    .dataframe tbody tr th:only-of-type {\n",
       "        vertical-align: middle;\n",
       "    }\n",
       "\n",
       "    .dataframe tbody tr th {\n",
       "        vertical-align: top;\n",
       "    }\n",
       "\n",
       "    .dataframe thead th {\n",
       "        text-align: right;\n",
       "    }\n",
       "</style>\n",
       "<table border=\"1\" class=\"dataframe\">\n",
       "  <thead>\n",
       "    <tr style=\"text-align: right;\">\n",
       "      <th></th>\n",
       "      <th>passengerid</th>\n",
       "      <th>survived</th>\n",
       "      <th>pclass</th>\n",
       "      <th>sex</th>\n",
       "      <th>age</th>\n",
       "      <th>fare</th>\n",
       "      <th>embarked</th>\n",
       "      <th>is_alone</th>\n",
       "      <th>family_small</th>\n",
       "      <th>family_med</th>\n",
       "      <th>family_big</th>\n",
       "      <th>is_mrs</th>\n",
       "      <th>is_miss</th>\n",
       "      <th>is_master</th>\n",
       "    </tr>\n",
       "  </thead>\n",
       "  <tbody>\n",
       "    <tr>\n",
       "      <th>0</th>\n",
       "      <td>1</td>\n",
       "      <td>0</td>\n",
       "      <td>3</td>\n",
       "      <td>male</td>\n",
       "      <td>22.000000</td>\n",
       "      <td>7.2500</td>\n",
       "      <td>S</td>\n",
       "      <td>False</td>\n",
       "      <td>1</td>\n",
       "      <td>0</td>\n",
       "      <td>0</td>\n",
       "      <td>0</td>\n",
       "      <td>0</td>\n",
       "      <td>0</td>\n",
       "    </tr>\n",
       "    <tr>\n",
       "      <th>1</th>\n",
       "      <td>2</td>\n",
       "      <td>1</td>\n",
       "      <td>1</td>\n",
       "      <td>female</td>\n",
       "      <td>38.000000</td>\n",
       "      <td>71.2833</td>\n",
       "      <td>C</td>\n",
       "      <td>False</td>\n",
       "      <td>1</td>\n",
       "      <td>0</td>\n",
       "      <td>0</td>\n",
       "      <td>1</td>\n",
       "      <td>0</td>\n",
       "      <td>0</td>\n",
       "    </tr>\n",
       "    <tr>\n",
       "      <th>2</th>\n",
       "      <td>3</td>\n",
       "      <td>1</td>\n",
       "      <td>3</td>\n",
       "      <td>female</td>\n",
       "      <td>26.000000</td>\n",
       "      <td>7.9250</td>\n",
       "      <td>S</td>\n",
       "      <td>True</td>\n",
       "      <td>0</td>\n",
       "      <td>0</td>\n",
       "      <td>0</td>\n",
       "      <td>0</td>\n",
       "      <td>1</td>\n",
       "      <td>0</td>\n",
       "    </tr>\n",
       "    <tr>\n",
       "      <th>3</th>\n",
       "      <td>4</td>\n",
       "      <td>1</td>\n",
       "      <td>1</td>\n",
       "      <td>female</td>\n",
       "      <td>35.000000</td>\n",
       "      <td>53.1000</td>\n",
       "      <td>S</td>\n",
       "      <td>False</td>\n",
       "      <td>1</td>\n",
       "      <td>0</td>\n",
       "      <td>0</td>\n",
       "      <td>1</td>\n",
       "      <td>0</td>\n",
       "      <td>0</td>\n",
       "    </tr>\n",
       "    <tr>\n",
       "      <th>4</th>\n",
       "      <td>5</td>\n",
       "      <td>0</td>\n",
       "      <td>3</td>\n",
       "      <td>male</td>\n",
       "      <td>35.000000</td>\n",
       "      <td>8.0500</td>\n",
       "      <td>S</td>\n",
       "      <td>True</td>\n",
       "      <td>0</td>\n",
       "      <td>0</td>\n",
       "      <td>0</td>\n",
       "      <td>0</td>\n",
       "      <td>0</td>\n",
       "      <td>0</td>\n",
       "    </tr>\n",
       "    <tr>\n",
       "      <th>...</th>\n",
       "      <td>...</td>\n",
       "      <td>...</td>\n",
       "      <td>...</td>\n",
       "      <td>...</td>\n",
       "      <td>...</td>\n",
       "      <td>...</td>\n",
       "      <td>...</td>\n",
       "      <td>...</td>\n",
       "      <td>...</td>\n",
       "      <td>...</td>\n",
       "      <td>...</td>\n",
       "      <td>...</td>\n",
       "      <td>...</td>\n",
       "      <td>...</td>\n",
       "    </tr>\n",
       "    <tr>\n",
       "      <th>886</th>\n",
       "      <td>887</td>\n",
       "      <td>0</td>\n",
       "      <td>2</td>\n",
       "      <td>male</td>\n",
       "      <td>27.000000</td>\n",
       "      <td>13.0000</td>\n",
       "      <td>S</td>\n",
       "      <td>True</td>\n",
       "      <td>0</td>\n",
       "      <td>0</td>\n",
       "      <td>0</td>\n",
       "      <td>0</td>\n",
       "      <td>0</td>\n",
       "      <td>0</td>\n",
       "    </tr>\n",
       "    <tr>\n",
       "      <th>887</th>\n",
       "      <td>888</td>\n",
       "      <td>1</td>\n",
       "      <td>1</td>\n",
       "      <td>female</td>\n",
       "      <td>19.000000</td>\n",
       "      <td>30.0000</td>\n",
       "      <td>S</td>\n",
       "      <td>True</td>\n",
       "      <td>0</td>\n",
       "      <td>0</td>\n",
       "      <td>0</td>\n",
       "      <td>0</td>\n",
       "      <td>1</td>\n",
       "      <td>0</td>\n",
       "    </tr>\n",
       "    <tr>\n",
       "      <th>888</th>\n",
       "      <td>889</td>\n",
       "      <td>0</td>\n",
       "      <td>3</td>\n",
       "      <td>female</td>\n",
       "      <td>29.699118</td>\n",
       "      <td>23.4500</td>\n",
       "      <td>S</td>\n",
       "      <td>False</td>\n",
       "      <td>0</td>\n",
       "      <td>1</td>\n",
       "      <td>0</td>\n",
       "      <td>0</td>\n",
       "      <td>1</td>\n",
       "      <td>0</td>\n",
       "    </tr>\n",
       "    <tr>\n",
       "      <th>889</th>\n",
       "      <td>890</td>\n",
       "      <td>1</td>\n",
       "      <td>1</td>\n",
       "      <td>male</td>\n",
       "      <td>26.000000</td>\n",
       "      <td>30.0000</td>\n",
       "      <td>C</td>\n",
       "      <td>True</td>\n",
       "      <td>0</td>\n",
       "      <td>0</td>\n",
       "      <td>0</td>\n",
       "      <td>0</td>\n",
       "      <td>0</td>\n",
       "      <td>0</td>\n",
       "    </tr>\n",
       "    <tr>\n",
       "      <th>890</th>\n",
       "      <td>891</td>\n",
       "      <td>0</td>\n",
       "      <td>3</td>\n",
       "      <td>male</td>\n",
       "      <td>32.000000</td>\n",
       "      <td>7.7500</td>\n",
       "      <td>Q</td>\n",
       "      <td>True</td>\n",
       "      <td>0</td>\n",
       "      <td>0</td>\n",
       "      <td>0</td>\n",
       "      <td>0</td>\n",
       "      <td>0</td>\n",
       "      <td>0</td>\n",
       "    </tr>\n",
       "  </tbody>\n",
       "</table>\n",
       "<p>891 rows × 14 columns</p>\n",
       "</div>"
      ],
      "text/plain": [
       "     passengerid  survived  pclass     sex        age     fare embarked  \\\n",
       "0              1         0       3    male  22.000000   7.2500        S   \n",
       "1              2         1       1  female  38.000000  71.2833        C   \n",
       "2              3         1       3  female  26.000000   7.9250        S   \n",
       "3              4         1       1  female  35.000000  53.1000        S   \n",
       "4              5         0       3    male  35.000000   8.0500        S   \n",
       "..           ...       ...     ...     ...        ...      ...      ...   \n",
       "886          887         0       2    male  27.000000  13.0000        S   \n",
       "887          888         1       1  female  19.000000  30.0000        S   \n",
       "888          889         0       3  female  29.699118  23.4500        S   \n",
       "889          890         1       1    male  26.000000  30.0000        C   \n",
       "890          891         0       3    male  32.000000   7.7500        Q   \n",
       "\n",
       "     is_alone  family_small  family_med  family_big  is_mrs  is_miss  \\\n",
       "0       False             1           0           0       0        0   \n",
       "1       False             1           0           0       1        0   \n",
       "2        True             0           0           0       0        1   \n",
       "3       False             1           0           0       1        0   \n",
       "4        True             0           0           0       0        0   \n",
       "..        ...           ...         ...         ...     ...      ...   \n",
       "886      True             0           0           0       0        0   \n",
       "887      True             0           0           0       0        1   \n",
       "888     False             0           1           0       0        1   \n",
       "889      True             0           0           0       0        0   \n",
       "890      True             0           0           0       0        0   \n",
       "\n",
       "     is_master  \n",
       "0            0  \n",
       "1            0  \n",
       "2            0  \n",
       "3            0  \n",
       "4            0  \n",
       "..         ...  \n",
       "886          0  \n",
       "887          0  \n",
       "888          0  \n",
       "889          0  \n",
       "890          0  \n",
       "\n",
       "[891 rows x 14 columns]"
      ]
     },
     "execution_count": 35,
     "metadata": {},
     "output_type": "execute_result"
    }
   ],
   "source": [
    "df_train=df_train.drop(columns=['ticket'])\n",
    "df_test=df_test.drop(columns=['ticket'])\n",
    "\n",
    "df_train"
   ]
  },
  {
   "cell_type": "code",
   "execution_count": 36,
   "id": "fbb1d4a4",
   "metadata": {
    "execution": {
     "iopub.execute_input": "2023-11-29T03:02:59.163460Z",
     "iopub.status.busy": "2023-11-29T03:02:59.162797Z",
     "iopub.status.idle": "2023-11-29T03:02:59.186679Z",
     "shell.execute_reply": "2023-11-29T03:02:59.185558Z"
    },
    "papermill": {
     "duration": 0.057219,
     "end_time": "2023-11-29T03:02:59.189254",
     "exception": false,
     "start_time": "2023-11-29T03:02:59.132035",
     "status": "completed"
    },
    "tags": []
   },
   "outputs": [
    {
     "data": {
      "text/html": [
       "<div>\n",
       "<style scoped>\n",
       "    .dataframe tbody tr th:only-of-type {\n",
       "        vertical-align: middle;\n",
       "    }\n",
       "\n",
       "    .dataframe tbody tr th {\n",
       "        vertical-align: top;\n",
       "    }\n",
       "\n",
       "    .dataframe thead th {\n",
       "        text-align: right;\n",
       "    }\n",
       "</style>\n",
       "<table border=\"1\" class=\"dataframe\">\n",
       "  <thead>\n",
       "    <tr style=\"text-align: right;\">\n",
       "      <th></th>\n",
       "      <th>fare_band</th>\n",
       "      <th>survived</th>\n",
       "    </tr>\n",
       "  </thead>\n",
       "  <tbody>\n",
       "    <tr>\n",
       "      <th>3</th>\n",
       "      <td>(31.0, 512.329]</td>\n",
       "      <td>0.581081</td>\n",
       "    </tr>\n",
       "    <tr>\n",
       "      <th>2</th>\n",
       "      <td>(14.454, 31.0]</td>\n",
       "      <td>0.454955</td>\n",
       "    </tr>\n",
       "    <tr>\n",
       "      <th>1</th>\n",
       "      <td>(7.91, 14.454]</td>\n",
       "      <td>0.303571</td>\n",
       "    </tr>\n",
       "    <tr>\n",
       "      <th>0</th>\n",
       "      <td>(-0.001, 7.91]</td>\n",
       "      <td>0.197309</td>\n",
       "    </tr>\n",
       "  </tbody>\n",
       "</table>\n",
       "</div>"
      ],
      "text/plain": [
       "         fare_band  survived\n",
       "3  (31.0, 512.329]  0.581081\n",
       "2   (14.454, 31.0]  0.454955\n",
       "1   (7.91, 14.454]  0.303571\n",
       "0   (-0.001, 7.91]  0.197309"
      ]
     },
     "execution_count": 36,
     "metadata": {},
     "output_type": "execute_result"
    }
   ],
   "source": [
    "df_train['fare_band'] = pd.qcut(df_train['fare'], 4)\n",
    "df_train[['fare_band', target]].groupby(['fare_band'], as_index=False).mean().sort_values(by='fare_band', ascending=False)"
   ]
  },
  {
   "cell_type": "code",
   "execution_count": 37,
   "id": "d759f1b4",
   "metadata": {
    "execution": {
     "iopub.execute_input": "2023-11-29T03:02:59.250269Z",
     "iopub.status.busy": "2023-11-29T03:02:59.249827Z",
     "iopub.status.idle": "2023-11-29T03:02:59.284367Z",
     "shell.execute_reply": "2023-11-29T03:02:59.283254Z"
    },
    "papermill": {
     "duration": 0.068064,
     "end_time": "2023-11-29T03:02:59.286777",
     "exception": false,
     "start_time": "2023-11-29T03:02:59.218713",
     "status": "completed"
    },
    "tags": []
   },
   "outputs": [
    {
     "data": {
      "text/html": [
       "<div>\n",
       "<style scoped>\n",
       "    .dataframe tbody tr th:only-of-type {\n",
       "        vertical-align: middle;\n",
       "    }\n",
       "\n",
       "    .dataframe tbody tr th {\n",
       "        vertical-align: top;\n",
       "    }\n",
       "\n",
       "    .dataframe thead th {\n",
       "        text-align: right;\n",
       "    }\n",
       "</style>\n",
       "<table border=\"1\" class=\"dataframe\">\n",
       "  <thead>\n",
       "    <tr style=\"text-align: right;\">\n",
       "      <th></th>\n",
       "      <th>passengerid</th>\n",
       "      <th>survived</th>\n",
       "      <th>pclass</th>\n",
       "      <th>sex</th>\n",
       "      <th>age</th>\n",
       "      <th>fare</th>\n",
       "      <th>embarked</th>\n",
       "      <th>is_alone</th>\n",
       "      <th>family_small</th>\n",
       "      <th>family_med</th>\n",
       "      <th>family_big</th>\n",
       "      <th>is_mrs</th>\n",
       "      <th>is_miss</th>\n",
       "      <th>is_master</th>\n",
       "    </tr>\n",
       "  </thead>\n",
       "  <tbody>\n",
       "    <tr>\n",
       "      <th>0</th>\n",
       "      <td>1</td>\n",
       "      <td>0</td>\n",
       "      <td>3</td>\n",
       "      <td>male</td>\n",
       "      <td>22.000000</td>\n",
       "      <td>0</td>\n",
       "      <td>S</td>\n",
       "      <td>False</td>\n",
       "      <td>1</td>\n",
       "      <td>0</td>\n",
       "      <td>0</td>\n",
       "      <td>0</td>\n",
       "      <td>0</td>\n",
       "      <td>0</td>\n",
       "    </tr>\n",
       "    <tr>\n",
       "      <th>1</th>\n",
       "      <td>2</td>\n",
       "      <td>1</td>\n",
       "      <td>1</td>\n",
       "      <td>female</td>\n",
       "      <td>38.000000</td>\n",
       "      <td>3</td>\n",
       "      <td>C</td>\n",
       "      <td>False</td>\n",
       "      <td>1</td>\n",
       "      <td>0</td>\n",
       "      <td>0</td>\n",
       "      <td>1</td>\n",
       "      <td>0</td>\n",
       "      <td>0</td>\n",
       "    </tr>\n",
       "    <tr>\n",
       "      <th>2</th>\n",
       "      <td>3</td>\n",
       "      <td>1</td>\n",
       "      <td>3</td>\n",
       "      <td>female</td>\n",
       "      <td>26.000000</td>\n",
       "      <td>1</td>\n",
       "      <td>S</td>\n",
       "      <td>True</td>\n",
       "      <td>0</td>\n",
       "      <td>0</td>\n",
       "      <td>0</td>\n",
       "      <td>0</td>\n",
       "      <td>1</td>\n",
       "      <td>0</td>\n",
       "    </tr>\n",
       "    <tr>\n",
       "      <th>3</th>\n",
       "      <td>4</td>\n",
       "      <td>1</td>\n",
       "      <td>1</td>\n",
       "      <td>female</td>\n",
       "      <td>35.000000</td>\n",
       "      <td>3</td>\n",
       "      <td>S</td>\n",
       "      <td>False</td>\n",
       "      <td>1</td>\n",
       "      <td>0</td>\n",
       "      <td>0</td>\n",
       "      <td>1</td>\n",
       "      <td>0</td>\n",
       "      <td>0</td>\n",
       "    </tr>\n",
       "    <tr>\n",
       "      <th>4</th>\n",
       "      <td>5</td>\n",
       "      <td>0</td>\n",
       "      <td>3</td>\n",
       "      <td>male</td>\n",
       "      <td>35.000000</td>\n",
       "      <td>1</td>\n",
       "      <td>S</td>\n",
       "      <td>True</td>\n",
       "      <td>0</td>\n",
       "      <td>0</td>\n",
       "      <td>0</td>\n",
       "      <td>0</td>\n",
       "      <td>0</td>\n",
       "      <td>0</td>\n",
       "    </tr>\n",
       "    <tr>\n",
       "      <th>...</th>\n",
       "      <td>...</td>\n",
       "      <td>...</td>\n",
       "      <td>...</td>\n",
       "      <td>...</td>\n",
       "      <td>...</td>\n",
       "      <td>...</td>\n",
       "      <td>...</td>\n",
       "      <td>...</td>\n",
       "      <td>...</td>\n",
       "      <td>...</td>\n",
       "      <td>...</td>\n",
       "      <td>...</td>\n",
       "      <td>...</td>\n",
       "      <td>...</td>\n",
       "    </tr>\n",
       "    <tr>\n",
       "      <th>886</th>\n",
       "      <td>887</td>\n",
       "      <td>0</td>\n",
       "      <td>2</td>\n",
       "      <td>male</td>\n",
       "      <td>27.000000</td>\n",
       "      <td>1</td>\n",
       "      <td>S</td>\n",
       "      <td>True</td>\n",
       "      <td>0</td>\n",
       "      <td>0</td>\n",
       "      <td>0</td>\n",
       "      <td>0</td>\n",
       "      <td>0</td>\n",
       "      <td>0</td>\n",
       "    </tr>\n",
       "    <tr>\n",
       "      <th>887</th>\n",
       "      <td>888</td>\n",
       "      <td>1</td>\n",
       "      <td>1</td>\n",
       "      <td>female</td>\n",
       "      <td>19.000000</td>\n",
       "      <td>2</td>\n",
       "      <td>S</td>\n",
       "      <td>True</td>\n",
       "      <td>0</td>\n",
       "      <td>0</td>\n",
       "      <td>0</td>\n",
       "      <td>0</td>\n",
       "      <td>1</td>\n",
       "      <td>0</td>\n",
       "    </tr>\n",
       "    <tr>\n",
       "      <th>888</th>\n",
       "      <td>889</td>\n",
       "      <td>0</td>\n",
       "      <td>3</td>\n",
       "      <td>female</td>\n",
       "      <td>29.699118</td>\n",
       "      <td>2</td>\n",
       "      <td>S</td>\n",
       "      <td>False</td>\n",
       "      <td>0</td>\n",
       "      <td>1</td>\n",
       "      <td>0</td>\n",
       "      <td>0</td>\n",
       "      <td>1</td>\n",
       "      <td>0</td>\n",
       "    </tr>\n",
       "    <tr>\n",
       "      <th>889</th>\n",
       "      <td>890</td>\n",
       "      <td>1</td>\n",
       "      <td>1</td>\n",
       "      <td>male</td>\n",
       "      <td>26.000000</td>\n",
       "      <td>2</td>\n",
       "      <td>C</td>\n",
       "      <td>True</td>\n",
       "      <td>0</td>\n",
       "      <td>0</td>\n",
       "      <td>0</td>\n",
       "      <td>0</td>\n",
       "      <td>0</td>\n",
       "      <td>0</td>\n",
       "    </tr>\n",
       "    <tr>\n",
       "      <th>890</th>\n",
       "      <td>891</td>\n",
       "      <td>0</td>\n",
       "      <td>3</td>\n",
       "      <td>male</td>\n",
       "      <td>32.000000</td>\n",
       "      <td>0</td>\n",
       "      <td>Q</td>\n",
       "      <td>True</td>\n",
       "      <td>0</td>\n",
       "      <td>0</td>\n",
       "      <td>0</td>\n",
       "      <td>0</td>\n",
       "      <td>0</td>\n",
       "      <td>0</td>\n",
       "    </tr>\n",
       "  </tbody>\n",
       "</table>\n",
       "<p>891 rows × 14 columns</p>\n",
       "</div>"
      ],
      "text/plain": [
       "     passengerid  survived  pclass     sex        age  fare embarked  \\\n",
       "0              1         0       3    male  22.000000     0        S   \n",
       "1              2         1       1  female  38.000000     3        C   \n",
       "2              3         1       3  female  26.000000     1        S   \n",
       "3              4         1       1  female  35.000000     3        S   \n",
       "4              5         0       3    male  35.000000     1        S   \n",
       "..           ...       ...     ...     ...        ...   ...      ...   \n",
       "886          887         0       2    male  27.000000     1        S   \n",
       "887          888         1       1  female  19.000000     2        S   \n",
       "888          889         0       3  female  29.699118     2        S   \n",
       "889          890         1       1    male  26.000000     2        C   \n",
       "890          891         0       3    male  32.000000     0        Q   \n",
       "\n",
       "     is_alone  family_small  family_med  family_big  is_mrs  is_miss  \\\n",
       "0       False             1           0           0       0        0   \n",
       "1       False             1           0           0       1        0   \n",
       "2        True             0           0           0       0        1   \n",
       "3       False             1           0           0       1        0   \n",
       "4        True             0           0           0       0        0   \n",
       "..        ...           ...         ...         ...     ...      ...   \n",
       "886      True             0           0           0       0        0   \n",
       "887      True             0           0           0       0        1   \n",
       "888     False             0           1           0       0        1   \n",
       "889      True             0           0           0       0        0   \n",
       "890      True             0           0           0       0        0   \n",
       "\n",
       "     is_master  \n",
       "0            0  \n",
       "1            0  \n",
       "2            0  \n",
       "3            0  \n",
       "4            0  \n",
       "..         ...  \n",
       "886          0  \n",
       "887          0  \n",
       "888          0  \n",
       "889          0  \n",
       "890          0  \n",
       "\n",
       "[891 rows x 14 columns]"
      ]
     },
     "execution_count": 37,
     "metadata": {},
     "output_type": "execute_result"
    }
   ],
   "source": [
    "df_train.loc[ df_train['fare'] <= 7.91, 'fare'] = 0\n",
    "df_train.loc[(df_train['fare'] > 7.91) & (df_train['fare'] <= 14.454), 'fare'] = 1\n",
    "df_train.loc[(df_train['fare'] > 14.454) & (df_train['fare'] <= 31), 'fare']   = 2\n",
    "df_train.loc[ df_train['fare'] > 31, 'fare'] = 3\n",
    "df_train['fare'] = df_train['fare'].astype(int)\n",
    "\n",
    "\n",
    "\n",
    "df_test.loc[ df_test['fare'] <= 7.91, 'fare'] = 0\n",
    "df_test.loc[(df_test['fare'] > 7.91) & (df_test['fare'] <= 14.454), 'fare'] = 1\n",
    "df_test.loc[(df_test['fare'] > 14.454) & (df_test['fare'] <= 31), 'fare']   = 2\n",
    "df_test.loc[ df_test['fare'] > 31, 'fare'] = 3\n",
    "df_test['fare'] = df_test['fare'].astype(int)\n",
    "\n",
    "\n",
    "df_train=df_train.drop(columns=['fare_band'])\n",
    "df_train"
   ]
  },
  {
   "cell_type": "code",
   "execution_count": 38,
   "id": "d12e7ab2",
   "metadata": {
    "execution": {
     "iopub.execute_input": "2023-11-29T03:02:59.349058Z",
     "iopub.status.busy": "2023-11-29T03:02:59.348165Z",
     "iopub.status.idle": "2023-11-29T03:02:59.367362Z",
     "shell.execute_reply": "2023-11-29T03:02:59.366249Z"
    },
    "papermill": {
     "duration": 0.053319,
     "end_time": "2023-11-29T03:02:59.369912",
     "exception": false,
     "start_time": "2023-11-29T03:02:59.316593",
     "status": "completed"
    },
    "tags": []
   },
   "outputs": [
    {
     "data": {
      "text/html": [
       "<div>\n",
       "<style scoped>\n",
       "    .dataframe tbody tr th:only-of-type {\n",
       "        vertical-align: middle;\n",
       "    }\n",
       "\n",
       "    .dataframe tbody tr th {\n",
       "        vertical-align: top;\n",
       "    }\n",
       "\n",
       "    .dataframe thead th {\n",
       "        text-align: right;\n",
       "    }\n",
       "</style>\n",
       "<table border=\"1\" class=\"dataframe\">\n",
       "  <thead>\n",
       "    <tr style=\"text-align: right;\">\n",
       "      <th></th>\n",
       "      <th>age_band</th>\n",
       "      <th>survived</th>\n",
       "    </tr>\n",
       "  </thead>\n",
       "  <tbody>\n",
       "    <tr>\n",
       "      <th>0</th>\n",
       "      <td>(0.34, 16.336]</td>\n",
       "      <td>0.550000</td>\n",
       "    </tr>\n",
       "    <tr>\n",
       "      <th>1</th>\n",
       "      <td>(16.336, 32.252]</td>\n",
       "      <td>0.344168</td>\n",
       "    </tr>\n",
       "    <tr>\n",
       "      <th>2</th>\n",
       "      <td>(32.252, 48.168]</td>\n",
       "      <td>0.404255</td>\n",
       "    </tr>\n",
       "    <tr>\n",
       "      <th>3</th>\n",
       "      <td>(48.168, 64.084]</td>\n",
       "      <td>0.434783</td>\n",
       "    </tr>\n",
       "    <tr>\n",
       "      <th>4</th>\n",
       "      <td>(64.084, 80.0]</td>\n",
       "      <td>0.090909</td>\n",
       "    </tr>\n",
       "  </tbody>\n",
       "</table>\n",
       "</div>"
      ],
      "text/plain": [
       "           age_band  survived\n",
       "0    (0.34, 16.336]  0.550000\n",
       "1  (16.336, 32.252]  0.344168\n",
       "2  (32.252, 48.168]  0.404255\n",
       "3  (48.168, 64.084]  0.434783\n",
       "4    (64.084, 80.0]  0.090909"
      ]
     },
     "execution_count": 38,
     "metadata": {},
     "output_type": "execute_result"
    }
   ],
   "source": [
    "df_train['age_band'] = pd.cut(df_train['age'], 5)\n",
    "df_train[['age_band', target]].groupby(['age_band'], as_index=False).mean().sort_values(by='age_band', ascending=True)"
   ]
  },
  {
   "cell_type": "code",
   "execution_count": 39,
   "id": "e0b255a0",
   "metadata": {
    "execution": {
     "iopub.execute_input": "2023-11-29T03:02:59.433209Z",
     "iopub.status.busy": "2023-11-29T03:02:59.432552Z",
     "iopub.status.idle": "2023-11-29T03:02:59.452079Z",
     "shell.execute_reply": "2023-11-29T03:02:59.450619Z"
    },
    "papermill": {
     "duration": 0.055204,
     "end_time": "2023-11-29T03:02:59.455160",
     "exception": false,
     "start_time": "2023-11-29T03:02:59.399956",
     "status": "completed"
    },
    "tags": []
   },
   "outputs": [],
   "source": [
    "df_train.loc[ df_train['age'] <= 16, 'age'] = 0\n",
    "df_train.loc[(df_train['age'] > 16) & (df_train['age'] <= 32), 'age'] = 1\n",
    "df_train.loc[(df_train['age'] > 32) & (df_train['age'] <= 48), 'age'] = 2\n",
    "df_train.loc[(df_train['age'] > 48) & (df_train['age'] <= 64), 'age'] = 3\n",
    "df_train.loc[ df_train['age'] > 64, 'age']\n",
    "\n",
    "df_test.loc[ df_test['age'] <= 16, 'age'] = 0\n",
    "df_test.loc[(df_test['age'] > 16) & (df_test['age'] <= 32), 'age'] = 1\n",
    "df_test.loc[(df_test['age'] > 32) & (df_test['age'] <= 48), 'age'] = 2\n",
    "df_test.loc[(df_test['age'] > 48) & (df_test['age'] <= 64), 'age'] = 3\n",
    "df_test.loc[ df_test['age'] > 64, 'age']\n",
    "\n",
    "df_train=df_train.drop(columns=['age_band'])"
   ]
  },
  {
   "cell_type": "code",
   "execution_count": 40,
   "id": "9be8651d",
   "metadata": {
    "execution": {
     "iopub.execute_input": "2023-11-29T03:02:59.519834Z",
     "iopub.status.busy": "2023-11-29T03:02:59.519453Z",
     "iopub.status.idle": "2023-11-29T03:02:59.538921Z",
     "shell.execute_reply": "2023-11-29T03:02:59.537720Z"
    },
    "papermill": {
     "duration": 0.054987,
     "end_time": "2023-11-29T03:02:59.541784",
     "exception": false,
     "start_time": "2023-11-29T03:02:59.486797",
     "status": "completed"
    },
    "tags": []
   },
   "outputs": [],
   "source": [
    "df_train.to_csv('train_backup.csv')\n",
    "df_test.to_csv('test_backup.csv')"
   ]
  },
  {
   "cell_type": "markdown",
   "id": "beecefb7",
   "metadata": {
    "papermill": {
     "duration": 0.03065,
     "end_time": "2023-11-29T03:02:59.602542",
     "exception": false,
     "start_time": "2023-11-29T03:02:59.571892",
     "status": "completed"
    },
    "tags": []
   },
   "source": [
    "**One Hot Encoding**"
   ]
  },
  {
   "cell_type": "code",
   "execution_count": 41,
   "id": "929b0649",
   "metadata": {
    "execution": {
     "iopub.execute_input": "2023-11-29T03:02:59.673503Z",
     "iopub.status.busy": "2023-11-29T03:02:59.673041Z",
     "iopub.status.idle": "2023-11-29T03:02:59.723219Z",
     "shell.execute_reply": "2023-11-29T03:02:59.721544Z"
    },
    "papermill": {
     "duration": 0.09314,
     "end_time": "2023-11-29T03:02:59.725879",
     "exception": false,
     "start_time": "2023-11-29T03:02:59.632739",
     "status": "completed"
    },
    "tags": []
   },
   "outputs": [
    {
     "name": "stdout",
     "output_type": "stream",
     "text": [
      "(891, 20)\n",
      "Index(['passengerid', 'survived', 'age', 'fare', 'is_alone', 'family_small',\n",
      "       'family_med', 'family_big', 'is_mrs', 'is_miss', 'is_master',\n",
      "       'sex_encoded_0', 'sex_encoded_1', 'embarked_encoded_0',\n",
      "       'embarked_encoded_1', 'embarked_encoded_2', 'embarked_encoded_3',\n",
      "       'pclass_encoded_0', 'pclass_encoded_1', 'pclass_encoded_2'],\n",
      "      dtype='object')\n",
      "(418, 18)\n",
      "Index(['passengerid', 'age', 'fare', 'is_alone', 'family_small', 'family_med',\n",
      "       'family_big', 'is_mrs', 'is_miss', 'is_master', 'sex_encoded_0',\n",
      "       'sex_encoded_1', 'embarked_encoded_0', 'embarked_encoded_1',\n",
      "       'embarked_encoded_2', 'pclass_encoded_0', 'pclass_encoded_1',\n",
      "       'pclass_encoded_2'],\n",
      "      dtype='object')\n"
     ]
    }
   ],
   "source": [
    "cat_feat=['sex','embarked','pclass']\n",
    "\n",
    "cats_encoded=[]\n",
    "\n",
    "for cat in cat_feat:\n",
    "  df_train[cat]= df_train[cat].astype('category')\n",
    "  df_train[cat+'_encoded'] = df_train[cat].cat.codes\n",
    "    \n",
    "  df_test[cat]= df_test[cat].astype('category')\n",
    "  df_test[cat+'_encoded'] = df_test[cat].cat.codes\n",
    "    \n",
    "  cats_encoded.append(cat+\"_encoded\")\n",
    "\n",
    "\n",
    "one_hot_encoded_data = pd.get_dummies(df_train[cats_encoded], columns =cats_encoded)\n",
    "df_train[one_hot_encoded_data.columns]=one_hot_encoded_data.values\n",
    "df_train=df_train.drop(columns=cat_feat)\n",
    "df_train=df_train.drop(columns=cats_encoded)\n",
    "\n",
    "one_hot_encoded_data_test = pd.get_dummies(df_test[cats_encoded], columns =cats_encoded)\n",
    "df_test[one_hot_encoded_data_test.columns]=one_hot_encoded_data_test.values\n",
    "df_test=df_test.drop(columns=cat_feat)\n",
    "df_test=df_test.drop(columns=cats_encoded)\n",
    "\n",
    "\n",
    "\n",
    "print(df_train.shape)\n",
    "print(df_train.columns)\n",
    "\n",
    "print(df_test.shape)\n",
    "print(df_test.columns)\n"
   ]
  },
  {
   "cell_type": "code",
   "execution_count": 42,
   "id": "dd276afb",
   "metadata": {
    "execution": {
     "iopub.execute_input": "2023-11-29T03:02:59.789925Z",
     "iopub.status.busy": "2023-11-29T03:02:59.788662Z",
     "iopub.status.idle": "2023-11-29T03:02:59.799780Z",
     "shell.execute_reply": "2023-11-29T03:02:59.798455Z"
    },
    "papermill": {
     "duration": 0.045767,
     "end_time": "2023-11-29T03:02:59.802407",
     "exception": false,
     "start_time": "2023-11-29T03:02:59.756640",
     "status": "completed"
    },
    "tags": []
   },
   "outputs": [
    {
     "data": {
      "text/plain": [
       "embarked_encoded_3\n",
       "False    889\n",
       "True       2\n",
       "Name: count, dtype: int64"
      ]
     },
     "execution_count": 42,
     "metadata": {},
     "output_type": "execute_result"
    }
   ],
   "source": [
    "df_train.embarked_encoded_3.value_counts()"
   ]
  },
  {
   "cell_type": "markdown",
   "id": "0636da80",
   "metadata": {
    "papermill": {
     "duration": 0.030373,
     "end_time": "2023-11-29T03:02:59.863447",
     "exception": false,
     "start_time": "2023-11-29T03:02:59.833074",
     "status": "completed"
    },
    "tags": []
   },
   "source": [
    "**embarked_encoded_3 in train data is the null values i handled ,ill drop it**"
   ]
  },
  {
   "cell_type": "code",
   "execution_count": 43,
   "id": "2ab47b2e",
   "metadata": {
    "execution": {
     "iopub.execute_input": "2023-11-29T03:02:59.927914Z",
     "iopub.status.busy": "2023-11-29T03:02:59.927449Z",
     "iopub.status.idle": "2023-11-29T03:02:59.938845Z",
     "shell.execute_reply": "2023-11-29T03:02:59.937278Z"
    },
    "papermill": {
     "duration": 0.046661,
     "end_time": "2023-11-29T03:02:59.941231",
     "exception": false,
     "start_time": "2023-11-29T03:02:59.894570",
     "status": "completed"
    },
    "tags": []
   },
   "outputs": [
    {
     "name": "stdout",
     "output_type": "stream",
     "text": [
      "(891, 19)\n",
      "(418, 18)\n"
     ]
    }
   ],
   "source": [
    "df_train=df_train.drop(columns='embarked_encoded_3')\n",
    "\n",
    "print(df_train.shape)\n",
    "\n",
    "print(df_test.shape)\n"
   ]
  },
  {
   "cell_type": "code",
   "execution_count": 44,
   "id": "4658a464",
   "metadata": {
    "execution": {
     "iopub.execute_input": "2023-11-29T03:03:00.005970Z",
     "iopub.status.busy": "2023-11-29T03:03:00.004181Z",
     "iopub.status.idle": "2023-11-29T03:03:00.033412Z",
     "shell.execute_reply": "2023-11-29T03:03:00.032292Z"
    },
    "papermill": {
     "duration": 0.064291,
     "end_time": "2023-11-29T03:03:00.035980",
     "exception": false,
     "start_time": "2023-11-29T03:02:59.971689",
     "status": "completed"
    },
    "tags": []
   },
   "outputs": [
    {
     "data": {
      "text/html": [
       "<div>\n",
       "<style scoped>\n",
       "    .dataframe tbody tr th:only-of-type {\n",
       "        vertical-align: middle;\n",
       "    }\n",
       "\n",
       "    .dataframe tbody tr th {\n",
       "        vertical-align: top;\n",
       "    }\n",
       "\n",
       "    .dataframe thead th {\n",
       "        text-align: right;\n",
       "    }\n",
       "</style>\n",
       "<table border=\"1\" class=\"dataframe\">\n",
       "  <thead>\n",
       "    <tr style=\"text-align: right;\">\n",
       "      <th></th>\n",
       "      <th>passengerid</th>\n",
       "      <th>survived</th>\n",
       "      <th>age</th>\n",
       "      <th>fare</th>\n",
       "      <th>is_alone</th>\n",
       "      <th>family_small</th>\n",
       "      <th>family_med</th>\n",
       "      <th>family_big</th>\n",
       "      <th>is_mrs</th>\n",
       "      <th>is_miss</th>\n",
       "      <th>is_master</th>\n",
       "      <th>sex_encoded_0</th>\n",
       "      <th>sex_encoded_1</th>\n",
       "      <th>embarked_encoded_0</th>\n",
       "      <th>embarked_encoded_1</th>\n",
       "      <th>embarked_encoded_2</th>\n",
       "      <th>pclass_encoded_0</th>\n",
       "      <th>pclass_encoded_1</th>\n",
       "      <th>pclass_encoded_2</th>\n",
       "    </tr>\n",
       "  </thead>\n",
       "  <tbody>\n",
       "    <tr>\n",
       "      <th>0</th>\n",
       "      <td>1</td>\n",
       "      <td>0</td>\n",
       "      <td>1.0</td>\n",
       "      <td>0</td>\n",
       "      <td>False</td>\n",
       "      <td>1</td>\n",
       "      <td>0</td>\n",
       "      <td>0</td>\n",
       "      <td>0</td>\n",
       "      <td>0</td>\n",
       "      <td>0</td>\n",
       "      <td>False</td>\n",
       "      <td>True</td>\n",
       "      <td>False</td>\n",
       "      <td>False</td>\n",
       "      <td>True</td>\n",
       "      <td>False</td>\n",
       "      <td>False</td>\n",
       "      <td>True</td>\n",
       "    </tr>\n",
       "    <tr>\n",
       "      <th>1</th>\n",
       "      <td>2</td>\n",
       "      <td>1</td>\n",
       "      <td>2.0</td>\n",
       "      <td>3</td>\n",
       "      <td>False</td>\n",
       "      <td>1</td>\n",
       "      <td>0</td>\n",
       "      <td>0</td>\n",
       "      <td>1</td>\n",
       "      <td>0</td>\n",
       "      <td>0</td>\n",
       "      <td>True</td>\n",
       "      <td>False</td>\n",
       "      <td>True</td>\n",
       "      <td>False</td>\n",
       "      <td>False</td>\n",
       "      <td>True</td>\n",
       "      <td>False</td>\n",
       "      <td>False</td>\n",
       "    </tr>\n",
       "    <tr>\n",
       "      <th>2</th>\n",
       "      <td>3</td>\n",
       "      <td>1</td>\n",
       "      <td>1.0</td>\n",
       "      <td>1</td>\n",
       "      <td>True</td>\n",
       "      <td>0</td>\n",
       "      <td>0</td>\n",
       "      <td>0</td>\n",
       "      <td>0</td>\n",
       "      <td>1</td>\n",
       "      <td>0</td>\n",
       "      <td>True</td>\n",
       "      <td>False</td>\n",
       "      <td>False</td>\n",
       "      <td>False</td>\n",
       "      <td>True</td>\n",
       "      <td>False</td>\n",
       "      <td>False</td>\n",
       "      <td>True</td>\n",
       "    </tr>\n",
       "    <tr>\n",
       "      <th>3</th>\n",
       "      <td>4</td>\n",
       "      <td>1</td>\n",
       "      <td>2.0</td>\n",
       "      <td>3</td>\n",
       "      <td>False</td>\n",
       "      <td>1</td>\n",
       "      <td>0</td>\n",
       "      <td>0</td>\n",
       "      <td>1</td>\n",
       "      <td>0</td>\n",
       "      <td>0</td>\n",
       "      <td>True</td>\n",
       "      <td>False</td>\n",
       "      <td>False</td>\n",
       "      <td>False</td>\n",
       "      <td>True</td>\n",
       "      <td>True</td>\n",
       "      <td>False</td>\n",
       "      <td>False</td>\n",
       "    </tr>\n",
       "    <tr>\n",
       "      <th>4</th>\n",
       "      <td>5</td>\n",
       "      <td>0</td>\n",
       "      <td>2.0</td>\n",
       "      <td>1</td>\n",
       "      <td>True</td>\n",
       "      <td>0</td>\n",
       "      <td>0</td>\n",
       "      <td>0</td>\n",
       "      <td>0</td>\n",
       "      <td>0</td>\n",
       "      <td>0</td>\n",
       "      <td>False</td>\n",
       "      <td>True</td>\n",
       "      <td>False</td>\n",
       "      <td>False</td>\n",
       "      <td>True</td>\n",
       "      <td>False</td>\n",
       "      <td>False</td>\n",
       "      <td>True</td>\n",
       "    </tr>\n",
       "    <tr>\n",
       "      <th>...</th>\n",
       "      <td>...</td>\n",
       "      <td>...</td>\n",
       "      <td>...</td>\n",
       "      <td>...</td>\n",
       "      <td>...</td>\n",
       "      <td>...</td>\n",
       "      <td>...</td>\n",
       "      <td>...</td>\n",
       "      <td>...</td>\n",
       "      <td>...</td>\n",
       "      <td>...</td>\n",
       "      <td>...</td>\n",
       "      <td>...</td>\n",
       "      <td>...</td>\n",
       "      <td>...</td>\n",
       "      <td>...</td>\n",
       "      <td>...</td>\n",
       "      <td>...</td>\n",
       "      <td>...</td>\n",
       "    </tr>\n",
       "    <tr>\n",
       "      <th>886</th>\n",
       "      <td>887</td>\n",
       "      <td>0</td>\n",
       "      <td>1.0</td>\n",
       "      <td>1</td>\n",
       "      <td>True</td>\n",
       "      <td>0</td>\n",
       "      <td>0</td>\n",
       "      <td>0</td>\n",
       "      <td>0</td>\n",
       "      <td>0</td>\n",
       "      <td>0</td>\n",
       "      <td>False</td>\n",
       "      <td>True</td>\n",
       "      <td>False</td>\n",
       "      <td>False</td>\n",
       "      <td>True</td>\n",
       "      <td>False</td>\n",
       "      <td>True</td>\n",
       "      <td>False</td>\n",
       "    </tr>\n",
       "    <tr>\n",
       "      <th>887</th>\n",
       "      <td>888</td>\n",
       "      <td>1</td>\n",
       "      <td>1.0</td>\n",
       "      <td>2</td>\n",
       "      <td>True</td>\n",
       "      <td>0</td>\n",
       "      <td>0</td>\n",
       "      <td>0</td>\n",
       "      <td>0</td>\n",
       "      <td>1</td>\n",
       "      <td>0</td>\n",
       "      <td>True</td>\n",
       "      <td>False</td>\n",
       "      <td>False</td>\n",
       "      <td>False</td>\n",
       "      <td>True</td>\n",
       "      <td>True</td>\n",
       "      <td>False</td>\n",
       "      <td>False</td>\n",
       "    </tr>\n",
       "    <tr>\n",
       "      <th>888</th>\n",
       "      <td>889</td>\n",
       "      <td>0</td>\n",
       "      <td>1.0</td>\n",
       "      <td>2</td>\n",
       "      <td>False</td>\n",
       "      <td>0</td>\n",
       "      <td>1</td>\n",
       "      <td>0</td>\n",
       "      <td>0</td>\n",
       "      <td>1</td>\n",
       "      <td>0</td>\n",
       "      <td>True</td>\n",
       "      <td>False</td>\n",
       "      <td>False</td>\n",
       "      <td>False</td>\n",
       "      <td>True</td>\n",
       "      <td>False</td>\n",
       "      <td>False</td>\n",
       "      <td>True</td>\n",
       "    </tr>\n",
       "    <tr>\n",
       "      <th>889</th>\n",
       "      <td>890</td>\n",
       "      <td>1</td>\n",
       "      <td>1.0</td>\n",
       "      <td>2</td>\n",
       "      <td>True</td>\n",
       "      <td>0</td>\n",
       "      <td>0</td>\n",
       "      <td>0</td>\n",
       "      <td>0</td>\n",
       "      <td>0</td>\n",
       "      <td>0</td>\n",
       "      <td>False</td>\n",
       "      <td>True</td>\n",
       "      <td>True</td>\n",
       "      <td>False</td>\n",
       "      <td>False</td>\n",
       "      <td>True</td>\n",
       "      <td>False</td>\n",
       "      <td>False</td>\n",
       "    </tr>\n",
       "    <tr>\n",
       "      <th>890</th>\n",
       "      <td>891</td>\n",
       "      <td>0</td>\n",
       "      <td>1.0</td>\n",
       "      <td>0</td>\n",
       "      <td>True</td>\n",
       "      <td>0</td>\n",
       "      <td>0</td>\n",
       "      <td>0</td>\n",
       "      <td>0</td>\n",
       "      <td>0</td>\n",
       "      <td>0</td>\n",
       "      <td>False</td>\n",
       "      <td>True</td>\n",
       "      <td>False</td>\n",
       "      <td>True</td>\n",
       "      <td>False</td>\n",
       "      <td>False</td>\n",
       "      <td>False</td>\n",
       "      <td>True</td>\n",
       "    </tr>\n",
       "  </tbody>\n",
       "</table>\n",
       "<p>891 rows × 19 columns</p>\n",
       "</div>"
      ],
      "text/plain": [
       "     passengerid  survived  age  fare  is_alone  family_small  family_med  \\\n",
       "0              1         0  1.0     0     False             1           0   \n",
       "1              2         1  2.0     3     False             1           0   \n",
       "2              3         1  1.0     1      True             0           0   \n",
       "3              4         1  2.0     3     False             1           0   \n",
       "4              5         0  2.0     1      True             0           0   \n",
       "..           ...       ...  ...   ...       ...           ...         ...   \n",
       "886          887         0  1.0     1      True             0           0   \n",
       "887          888         1  1.0     2      True             0           0   \n",
       "888          889         0  1.0     2     False             0           1   \n",
       "889          890         1  1.0     2      True             0           0   \n",
       "890          891         0  1.0     0      True             0           0   \n",
       "\n",
       "     family_big  is_mrs  is_miss  is_master  sex_encoded_0  sex_encoded_1  \\\n",
       "0             0       0        0          0          False           True   \n",
       "1             0       1        0          0           True          False   \n",
       "2             0       0        1          0           True          False   \n",
       "3             0       1        0          0           True          False   \n",
       "4             0       0        0          0          False           True   \n",
       "..          ...     ...      ...        ...            ...            ...   \n",
       "886           0       0        0          0          False           True   \n",
       "887           0       0        1          0           True          False   \n",
       "888           0       0        1          0           True          False   \n",
       "889           0       0        0          0          False           True   \n",
       "890           0       0        0          0          False           True   \n",
       "\n",
       "     embarked_encoded_0  embarked_encoded_1  embarked_encoded_2  \\\n",
       "0                 False               False                True   \n",
       "1                  True               False               False   \n",
       "2                 False               False                True   \n",
       "3                 False               False                True   \n",
       "4                 False               False                True   \n",
       "..                  ...                 ...                 ...   \n",
       "886               False               False                True   \n",
       "887               False               False                True   \n",
       "888               False               False                True   \n",
       "889                True               False               False   \n",
       "890               False                True               False   \n",
       "\n",
       "     pclass_encoded_0  pclass_encoded_1  pclass_encoded_2  \n",
       "0               False             False              True  \n",
       "1                True             False             False  \n",
       "2               False             False              True  \n",
       "3                True             False             False  \n",
       "4               False             False              True  \n",
       "..                ...               ...               ...  \n",
       "886             False              True             False  \n",
       "887              True             False             False  \n",
       "888             False             False              True  \n",
       "889              True             False             False  \n",
       "890             False             False              True  \n",
       "\n",
       "[891 rows x 19 columns]"
      ]
     },
     "execution_count": 44,
     "metadata": {},
     "output_type": "execute_result"
    }
   ],
   "source": [
    "df_train"
   ]
  },
  {
   "cell_type": "markdown",
   "id": "978c9b8e",
   "metadata": {
    "papermill": {
     "duration": 0.031264,
     "end_time": "2023-11-29T03:03:00.098570",
     "exception": false,
     "start_time": "2023-11-29T03:03:00.067306",
     "status": "completed"
    },
    "tags": []
   },
   "source": [
    "**Correlation between data and target**"
   ]
  },
  {
   "cell_type": "code",
   "execution_count": 45,
   "id": "7fc2499d",
   "metadata": {
    "execution": {
     "iopub.execute_input": "2023-11-29T03:03:00.163777Z",
     "iopub.status.busy": "2023-11-29T03:03:00.163353Z",
     "iopub.status.idle": "2023-11-29T03:03:01.871376Z",
     "shell.execute_reply": "2023-11-29T03:03:01.870324Z"
    },
    "papermill": {
     "duration": 1.74716,
     "end_time": "2023-11-29T03:03:01.877374",
     "exception": false,
     "start_time": "2023-11-29T03:03:00.130214",
     "status": "completed"
    },
    "tags": []
   },
   "outputs": [
    {
     "data": {
      "image/png": "[encoded data removed]",
      "text/plain": [
       "<Figure size 1500x1300 with 2 Axes>"
      ]
     },
     "metadata": {},
     "output_type": "display_data"
    }
   ],
   "source": [
    "plt.figure(figsize=(15,13))\n",
    "cor = df_train.corr()\n",
    "sns.heatmap(cor, annot=True, cmap=plt.cm.CMRmap_r)\n",
    "plt.show()"
   ]
  },
  {
   "cell_type": "code",
   "execution_count": 46,
   "id": "dc6aacdf",
   "metadata": {
    "execution": {
     "iopub.execute_input": "2023-11-29T03:03:01.955984Z",
     "iopub.status.busy": "2023-11-29T03:03:01.955240Z",
     "iopub.status.idle": "2023-11-29T03:03:01.960490Z",
     "shell.execute_reply": "2023-11-29T03:03:01.959626Z"
    },
    "papermill": {
     "duration": 0.047581,
     "end_time": "2023-11-29T03:03:01.962962",
     "exception": false,
     "start_time": "2023-11-29T03:03:01.915381",
     "status": "completed"
    },
    "tags": []
   },
   "outputs": [],
   "source": [
    "# selected \n",
    "df_tra=df_train.copy()"
   ]
  },
  {
   "cell_type": "markdown",
   "id": "dfa312ef",
   "metadata": {
    "papermill": {
     "duration": 0.037662,
     "end_time": "2023-11-29T03:03:02.039795",
     "exception": false,
     "start_time": "2023-11-29T03:03:02.002133",
     "status": "completed"
    },
    "tags": []
   },
   "source": [
    "**VERY GOOD !! I have good correlations with the target**"
   ]
  },
  {
   "cell_type": "markdown",
   "id": "f41c0bda",
   "metadata": {
    "papermill": {
     "duration": 0.037869,
     "end_time": "2023-11-29T03:03:02.115185",
     "exception": false,
     "start_time": "2023-11-29T03:03:02.077316",
     "status": "completed"
    },
    "tags": []
   },
   "source": [
    "# **Split data to train and test**"
   ]
  },
  {
   "cell_type": "code",
   "execution_count": 47,
   "id": "6f6d9c68",
   "metadata": {
    "execution": {
     "iopub.execute_input": "2023-11-29T03:03:02.193473Z",
     "iopub.status.busy": "2023-11-29T03:03:02.192691Z",
     "iopub.status.idle": "2023-11-29T03:03:02.201890Z",
     "shell.execute_reply": "2023-11-29T03:03:02.201034Z"
    },
    "papermill": {
     "duration": 0.052085,
     "end_time": "2023-11-29T03:03:02.205114",
     "exception": false,
     "start_time": "2023-11-29T03:03:02.153029",
     "status": "completed"
    },
    "tags": []
   },
   "outputs": [
    {
     "name": "stdout",
     "output_type": "stream",
     "text": [
      "(891, 17)\n",
      "(891,)\n"
     ]
    }
   ],
   "source": [
    "X=df_train[df_train.columns.difference(['passengerid',target])].values\n",
    "print(X.shape)\n",
    "Y=df_train[target].values\n",
    "print(Y.shape)"
   ]
  },
  {
   "cell_type": "markdown",
   "id": "75d97ea7",
   "metadata": {
    "papermill": {
     "duration": 0.037974,
     "end_time": "2023-11-29T03:03:02.280992",
     "exception": false,
     "start_time": "2023-11-29T03:03:02.243018",
     "status": "completed"
    },
    "tags": []
   },
   "source": [
    "# Modelling"
   ]
  },
  {
   "cell_type": "code",
   "execution_count": 48,
   "id": "76e8d0e3",
   "metadata": {
    "execution": {
     "iopub.execute_input": "2023-11-29T03:03:02.358142Z",
     "iopub.status.busy": "2023-11-29T03:03:02.357677Z",
     "iopub.status.idle": "2023-11-29T03:03:02.377167Z",
     "shell.execute_reply": "2023-11-29T03:03:02.375730Z"
    },
    "papermill": {
     "duration": 0.061775,
     "end_time": "2023-11-29T03:03:02.380130",
     "exception": false,
     "start_time": "2023-11-29T03:03:02.318355",
     "status": "completed"
    },
    "tags": []
   },
   "outputs": [],
   "source": [
    "from sklearn.metrics import confusion_matrix, ConfusionMatrixDisplay,roc_auc_score\n",
    "\n",
    "param ={'lambda': 1.2475525176000515,\n",
    "        'learning_rate': 0.05,\n",
    "        \"objective\": \"binary:logistic\",\n",
    "        'colsample_bytree': 0.9,\n",
    "        'subsample': 1.0, \n",
    "        'max_depth': 2,\n",
    "        'min_child_weight': 3,\n",
    "        \"eval_metric\": \"auc\"\n",
    "        \n",
    "       }\n",
    "\n",
    "\n",
    "\n",
    "\n",
    "def xgboost_bin_classif(X, y, test_size=0.2, random_state=42, num_round=100):\n",
    "\n",
    "    # Split the data into training and testing sets\n",
    "    X_train, X_test, y_train, y_test = train_test_split(X, y, test_size=test_size, random_state=random_state)\n",
    "\n",
    "    # Create DMatrix for XGBoost\n",
    "    dtrain = xgb.DMatrix(X_train, label=y_train)\n",
    "    dtest = xgb.DMatrix(X_test, label=y_test)\n",
    "\n",
    "    watchlist = [(dtrain, 'train'), (dtest, 'eval')]\n",
    "\n",
    "\n",
    "    num_round = 5000\n",
    "    evals_result = {}\n",
    "    bst = xgb.train(params=param, dtrain=dtrain, num_boost_round=num_round,\n",
    "                    evals_result=evals_result,\n",
    "                    maximize=False, obj=None,\n",
    "                    evals=watchlist, verbose_eval=200)\n",
    "    y_pred = bst.predict(dtest)\n",
    "    test_auc = roc_auc_score(y_test, y_pred)\n",
    "    print(f\"auc: {test_auc}\")\n",
    "    percentiles = np.arange(1, 100, 1)\n",
    "    base_rate = (y == 1).sum() / y.shape[0]\n",
    "    \n",
    "    \n",
    "    results = []\n",
    "    for i,percentile in enumerate(percentiles):\n",
    "        cutoff = np.percentile(y_pred, percentile)\n",
    "        predictions = np.where(y_pred >= cutoff, 1, 0)\n",
    "        cm = confusion_matrix(y_test, predictions, labels=[0,1]).copy()\n",
    "\n",
    "        tp = cm[0,0]\n",
    "        precision = tp / cm[:,0].sum()\n",
    "        recall = tp / cm[0,:].sum()\n",
    "        accuracy = cm.diagonal().sum() / cm.sum()\n",
    "        f1score = 2 * (precision * recall) / (precision + recall)\n",
    "        lift = precision/base_rate\n",
    "\n",
    "        res = dict(\n",
    "            percentile=percentile,\n",
    "            cutoff = cutoff,\n",
    "            precision=precision,\n",
    "            recall=recall,\n",
    "            lift=lift,\n",
    "            f1score=f1score,\n",
    "            accuracy=accuracy,\n",
    "        )\n",
    "\n",
    "        results.append(res)\n",
    "    \n",
    "    results = pd.DataFrame(results)\n",
    "    cut_off=0.415098\n",
    "    predictions = np.where(y_pred > cut_off, 1, 0)\n",
    "    cm = confusion_matrix(y_test, predictions, labels=[1,0])\n",
    "\n",
    "    # df_result = pd.DataFrame({\n",
    "    # 'target': y_test,\n",
    "    # 'predected': y_pred\n",
    "    #  })\n",
    "\n",
    "\n",
    "\n",
    "\n",
    "    return bst,test_auc,results,cm "
   ]
  },
  {
   "cell_type": "code",
   "execution_count": 49,
   "id": "aa5231c0",
   "metadata": {
    "execution": {
     "iopub.execute_input": "2023-11-29T03:03:02.457786Z",
     "iopub.status.busy": "2023-11-29T03:03:02.457374Z",
     "iopub.status.idle": "2023-11-29T03:03:05.741234Z",
     "shell.execute_reply": "2023-11-29T03:03:05.740103Z"
    },
    "papermill": {
     "duration": 3.325908,
     "end_time": "2023-11-29T03:03:05.743813",
     "exception": false,
     "start_time": "2023-11-29T03:03:02.417905",
     "status": "completed"
    },
    "tags": []
   },
   "outputs": [
    {
     "name": "stdout",
     "output_type": "stream",
     "text": [
      "[0]\ttrain-auc:0.81699\teval-auc:0.80631\n",
      "[200]\ttrain-auc:0.88732\teval-auc:0.89607\n",
      "[400]\ttrain-auc:0.89328\teval-auc:0.89846\n",
      "[600]\ttrain-auc:0.89659\teval-auc:0.89575\n",
      "[800]\ttrain-auc:0.89872\teval-auc:0.89344\n",
      "[1000]\ttrain-auc:0.89889\teval-auc:0.89408\n",
      "[1200]\ttrain-auc:0.90186\teval-auc:0.89858\n",
      "[1400]\ttrain-auc:0.90352\teval-auc:0.89923\n",
      "[1600]\ttrain-auc:0.90372\teval-auc:0.89910\n",
      "[1800]\ttrain-auc:0.90467\teval-auc:0.89910\n",
      "[2000]\ttrain-auc:0.90562\teval-auc:0.90013\n",
      "[2200]\ttrain-auc:0.90644\teval-auc:0.90167\n",
      "[2400]\ttrain-auc:0.90779\teval-auc:0.90296\n",
      "[2600]\ttrain-auc:0.90856\teval-auc:0.90245\n",
      "[2800]\ttrain-auc:0.90904\teval-auc:0.90322\n",
      "[3000]\ttrain-auc:0.90904\teval-auc:0.90347\n",
      "[3200]\ttrain-auc:0.90961\teval-auc:0.90322\n",
      "[3400]\ttrain-auc:0.90967\teval-auc:0.90438\n",
      "[3600]\ttrain-auc:0.91050\teval-auc:0.90257\n",
      "[3800]\ttrain-auc:0.91073\teval-auc:0.90283\n",
      "[4000]\ttrain-auc:0.91125\teval-auc:0.90347\n",
      "[4200]\ttrain-auc:0.91132\teval-auc:0.90347\n",
      "[4400]\ttrain-auc:0.91175\teval-auc:0.90167\n",
      "[4600]\ttrain-auc:0.91231\teval-auc:0.90193\n",
      "[4800]\ttrain-auc:0.91245\teval-auc:0.90206\n",
      "[4999]\ttrain-auc:0.91261\teval-auc:0.90219\n",
      "auc: 0.9021879021879022\n"
     ]
    }
   ],
   "source": [
    "bst,auc,results,cm=xgboost_bin_classif(X,Y)"
   ]
  },
  {
   "cell_type": "code",
   "execution_count": 50,
   "id": "92dc68fa",
   "metadata": {
    "execution": {
     "iopub.execute_input": "2023-11-29T03:03:05.824290Z",
     "iopub.status.busy": "2023-11-29T03:03:05.823078Z",
     "iopub.status.idle": "2023-11-29T03:03:06.163265Z",
     "shell.execute_reply": "2023-11-29T03:03:06.162002Z"
    },
    "papermill": {
     "duration": 0.383401,
     "end_time": "2023-11-29T03:03:06.166275",
     "exception": false,
     "start_time": "2023-11-29T03:03:05.782874",
     "status": "completed"
    },
    "tags": []
   },
   "outputs": [
    {
     "data": {
      "text/plain": [
       "<sklearn.metrics._plot.confusion_matrix.ConfusionMatrixDisplay at 0x7eea1ea41ae0>"
      ]
     },
     "execution_count": 50,
     "metadata": {},
     "output_type": "execute_result"
    },
    {
     "data": {
      "image/png": "[encoded data removed]",
      "text/plain": [
       "<Figure size 640x480 with 2 Axes>"
      ]
     },
     "metadata": {},
     "output_type": "display_data"
    }
   ],
   "source": [
    "disp = ConfusionMatrixDisplay(confusion_matrix=cm,\n",
    "                              display_labels=[1,0])\n",
    "disp.plot()"
   ]
  },
  {
   "cell_type": "code",
   "execution_count": 51,
   "id": "ddbadf16",
   "metadata": {
    "execution": {
     "iopub.execute_input": "2023-11-29T03:03:06.251366Z",
     "iopub.status.busy": "2023-11-29T03:03:06.250925Z",
     "iopub.status.idle": "2023-11-29T03:03:06.273663Z",
     "shell.execute_reply": "2023-11-29T03:03:06.272443Z"
    },
    "papermill": {
     "duration": 0.069289,
     "end_time": "2023-11-29T03:03:06.276349",
     "exception": false,
     "start_time": "2023-11-29T03:03:06.207060",
     "status": "completed"
    },
    "tags": []
   },
   "outputs": [
    {
     "data": {
      "text/html": [
       "<div>\n",
       "<style scoped>\n",
       "    .dataframe tbody tr th:only-of-type {\n",
       "        vertical-align: middle;\n",
       "    }\n",
       "\n",
       "    .dataframe tbody tr th {\n",
       "        vertical-align: top;\n",
       "    }\n",
       "\n",
       "    .dataframe thead th {\n",
       "        text-align: right;\n",
       "    }\n",
       "</style>\n",
       "<table border=\"1\" class=\"dataframe\">\n",
       "  <thead>\n",
       "    <tr style=\"text-align: right;\">\n",
       "      <th></th>\n",
       "      <th>cutoff</th>\n",
       "      <th>precision</th>\n",
       "      <th>recall</th>\n",
       "      <th>lift</th>\n",
       "      <th>f1score</th>\n",
       "      <th>accuracy</th>\n",
       "    </tr>\n",
       "    <tr>\n",
       "      <th>percentile</th>\n",
       "      <th></th>\n",
       "      <th></th>\n",
       "      <th></th>\n",
       "      <th></th>\n",
       "      <th></th>\n",
       "      <th></th>\n",
       "    </tr>\n",
       "  </thead>\n",
       "  <tbody>\n",
       "    <tr>\n",
       "      <th>5</th>\n",
       "      <td>0.017676</td>\n",
       "      <td>1.000000</td>\n",
       "      <td>0.076190</td>\n",
       "      <td>2.605263</td>\n",
       "      <td>0.141593</td>\n",
       "      <td>0.458101</td>\n",
       "    </tr>\n",
       "    <tr>\n",
       "      <th>10</th>\n",
       "      <td>0.069727</td>\n",
       "      <td>1.000000</td>\n",
       "      <td>0.161905</td>\n",
       "      <td>2.605263</td>\n",
       "      <td>0.278689</td>\n",
       "      <td>0.508380</td>\n",
       "    </tr>\n",
       "    <tr>\n",
       "      <th>15</th>\n",
       "      <td>0.095428</td>\n",
       "      <td>0.961538</td>\n",
       "      <td>0.238095</td>\n",
       "      <td>2.505061</td>\n",
       "      <td>0.381679</td>\n",
       "      <td>0.547486</td>\n",
       "    </tr>\n",
       "    <tr>\n",
       "      <th>20</th>\n",
       "      <td>0.105130</td>\n",
       "      <td>0.967742</td>\n",
       "      <td>0.285714</td>\n",
       "      <td>2.521222</td>\n",
       "      <td>0.441176</td>\n",
       "      <td>0.575419</td>\n",
       "    </tr>\n",
       "    <tr>\n",
       "      <th>25</th>\n",
       "      <td>0.107818</td>\n",
       "      <td>0.947368</td>\n",
       "      <td>0.342857</td>\n",
       "      <td>2.468144</td>\n",
       "      <td>0.503497</td>\n",
       "      <td>0.603352</td>\n",
       "    </tr>\n",
       "    <tr>\n",
       "      <th>30</th>\n",
       "      <td>0.107818</td>\n",
       "      <td>0.947368</td>\n",
       "      <td>0.342857</td>\n",
       "      <td>2.468144</td>\n",
       "      <td>0.503497</td>\n",
       "      <td>0.603352</td>\n",
       "    </tr>\n",
       "    <tr>\n",
       "      <th>35</th>\n",
       "      <td>0.160297</td>\n",
       "      <td>0.952381</td>\n",
       "      <td>0.571429</td>\n",
       "      <td>2.481203</td>\n",
       "      <td>0.714286</td>\n",
       "      <td>0.731844</td>\n",
       "    </tr>\n",
       "    <tr>\n",
       "      <th>40</th>\n",
       "      <td>0.180408</td>\n",
       "      <td>0.952381</td>\n",
       "      <td>0.571429</td>\n",
       "      <td>2.481203</td>\n",
       "      <td>0.714286</td>\n",
       "      <td>0.731844</td>\n",
       "    </tr>\n",
       "    <tr>\n",
       "      <th>45</th>\n",
       "      <td>0.228289</td>\n",
       "      <td>0.925926</td>\n",
       "      <td>0.714286</td>\n",
       "      <td>2.412281</td>\n",
       "      <td>0.806452</td>\n",
       "      <td>0.798883</td>\n",
       "    </tr>\n",
       "    <tr>\n",
       "      <th>50</th>\n",
       "      <td>0.298299</td>\n",
       "      <td>0.921348</td>\n",
       "      <td>0.780952</td>\n",
       "      <td>2.400355</td>\n",
       "      <td>0.845361</td>\n",
       "      <td>0.832402</td>\n",
       "    </tr>\n",
       "    <tr>\n",
       "      <th>55</th>\n",
       "      <td>0.378290</td>\n",
       "      <td>0.896907</td>\n",
       "      <td>0.828571</td>\n",
       "      <td>2.336679</td>\n",
       "      <td>0.861386</td>\n",
       "      <td>0.843575</td>\n",
       "    </tr>\n",
       "    <tr>\n",
       "      <th>60</th>\n",
       "      <td>0.454721</td>\n",
       "      <td>0.867925</td>\n",
       "      <td>0.876190</td>\n",
       "      <td>2.261172</td>\n",
       "      <td>0.872038</td>\n",
       "      <td>0.849162</td>\n",
       "    </tr>\n",
       "    <tr>\n",
       "      <th>65</th>\n",
       "      <td>0.599188</td>\n",
       "      <td>0.818966</td>\n",
       "      <td>0.904762</td>\n",
       "      <td>2.133621</td>\n",
       "      <td>0.859729</td>\n",
       "      <td>0.826816</td>\n",
       "    </tr>\n",
       "    <tr>\n",
       "      <th>70</th>\n",
       "      <td>0.740452</td>\n",
       "      <td>0.808333</td>\n",
       "      <td>0.923810</td>\n",
       "      <td>2.105921</td>\n",
       "      <td>0.862222</td>\n",
       "      <td>0.826816</td>\n",
       "    </tr>\n",
       "    <tr>\n",
       "      <th>75</th>\n",
       "      <td>0.890651</td>\n",
       "      <td>0.746269</td>\n",
       "      <td>0.952381</td>\n",
       "      <td>1.944226</td>\n",
       "      <td>0.836820</td>\n",
       "      <td>0.782123</td>\n",
       "    </tr>\n",
       "    <tr>\n",
       "      <th>80</th>\n",
       "      <td>0.944830</td>\n",
       "      <td>0.706294</td>\n",
       "      <td>0.961905</td>\n",
       "      <td>1.840081</td>\n",
       "      <td>0.814516</td>\n",
       "      <td>0.743017</td>\n",
       "    </tr>\n",
       "    <tr>\n",
       "      <th>85</th>\n",
       "      <td>0.953873</td>\n",
       "      <td>0.680000</td>\n",
       "      <td>0.971429</td>\n",
       "      <td>1.771579</td>\n",
       "      <td>0.800000</td>\n",
       "      <td>0.715084</td>\n",
       "    </tr>\n",
       "    <tr>\n",
       "      <th>90</th>\n",
       "      <td>0.967649</td>\n",
       "      <td>0.639752</td>\n",
       "      <td>0.980952</td>\n",
       "      <td>1.666721</td>\n",
       "      <td>0.774436</td>\n",
       "      <td>0.664804</td>\n",
       "    </tr>\n",
       "    <tr>\n",
       "      <th>95</th>\n",
       "      <td>0.986942</td>\n",
       "      <td>0.611765</td>\n",
       "      <td>0.990476</td>\n",
       "      <td>1.593808</td>\n",
       "      <td>0.756364</td>\n",
       "      <td>0.625698</td>\n",
       "    </tr>\n",
       "  </tbody>\n",
       "</table>\n",
       "</div>"
      ],
      "text/plain": [
       "              cutoff  precision    recall      lift   f1score  accuracy\n",
       "percentile                                                             \n",
       "5           0.017676   1.000000  0.076190  2.605263  0.141593  0.458101\n",
       "10          0.069727   1.000000  0.161905  2.605263  0.278689  0.508380\n",
       "15          0.095428   0.961538  0.238095  2.505061  0.381679  0.547486\n",
       "20          0.105130   0.967742  0.285714  2.521222  0.441176  0.575419\n",
       "25          0.107818   0.947368  0.342857  2.468144  0.503497  0.603352\n",
       "30          0.107818   0.947368  0.342857  2.468144  0.503497  0.603352\n",
       "35          0.160297   0.952381  0.571429  2.481203  0.714286  0.731844\n",
       "40          0.180408   0.952381  0.571429  2.481203  0.714286  0.731844\n",
       "45          0.228289   0.925926  0.714286  2.412281  0.806452  0.798883\n",
       "50          0.298299   0.921348  0.780952  2.400355  0.845361  0.832402\n",
       "55          0.378290   0.896907  0.828571  2.336679  0.861386  0.843575\n",
       "60          0.454721   0.867925  0.876190  2.261172  0.872038  0.849162\n",
       "65          0.599188   0.818966  0.904762  2.133621  0.859729  0.826816\n",
       "70          0.740452   0.808333  0.923810  2.105921  0.862222  0.826816\n",
       "75          0.890651   0.746269  0.952381  1.944226  0.836820  0.782123\n",
       "80          0.944830   0.706294  0.961905  1.840081  0.814516  0.743017\n",
       "85          0.953873   0.680000  0.971429  1.771579  0.800000  0.715084\n",
       "90          0.967649   0.639752  0.980952  1.666721  0.774436  0.664804\n",
       "95          0.986942   0.611765  0.990476  1.593808  0.756364  0.625698"
      ]
     },
     "execution_count": 51,
     "metadata": {},
     "output_type": "execute_result"
    }
   ],
   "source": [
    "x = results[results.percentile.isin( np.arange(0, 100, 5) )]\n",
    "x.set_index(\"percentile\")"
   ]
  },
  {
   "cell_type": "code",
   "execution_count": 52,
   "id": "bdee8810",
   "metadata": {
    "execution": {
     "iopub.execute_input": "2023-11-29T03:03:06.364759Z",
     "iopub.status.busy": "2023-11-29T03:03:06.363345Z",
     "iopub.status.idle": "2023-11-29T03:03:06.390324Z",
     "shell.execute_reply": "2023-11-29T03:03:06.382915Z"
    },
    "papermill": {
     "duration": 0.07486,
     "end_time": "2023-11-29T03:03:06.393562",
     "exception": false,
     "start_time": "2023-11-29T03:03:06.318702",
     "status": "completed"
    },
    "tags": []
   },
   "outputs": [],
   "source": [
    "submission_test =bst.predict(xgb.DMatrix(df_test[df_test.columns.difference(['passengerid'])].values))\n"
   ]
  },
  {
   "cell_type": "code",
   "execution_count": 53,
   "id": "b7a5ef5a",
   "metadata": {
    "execution": {
     "iopub.execute_input": "2023-11-29T03:03:06.479039Z",
     "iopub.status.busy": "2023-11-29T03:03:06.477539Z",
     "iopub.status.idle": "2023-11-29T03:03:06.484745Z",
     "shell.execute_reply": "2023-11-29T03:03:06.483277Z"
    },
    "papermill": {
     "duration": 0.051677,
     "end_time": "2023-11-29T03:03:06.487475",
     "exception": false,
     "start_time": "2023-11-29T03:03:06.435798",
     "status": "completed"
    },
    "tags": []
   },
   "outputs": [],
   "source": [
    "cut_off=0.415098\n",
    "predictions = np.where(submission_test > cut_off, 1, 0)\n"
   ]
  },
  {
   "cell_type": "code",
   "execution_count": 54,
   "id": "f3642492",
   "metadata": {
    "execution": {
     "iopub.execute_input": "2023-11-29T03:03:06.573670Z",
     "iopub.status.busy": "2023-11-29T03:03:06.573041Z",
     "iopub.status.idle": "2023-11-29T03:03:06.582367Z",
     "shell.execute_reply": "2023-11-29T03:03:06.581162Z"
    },
    "papermill": {
     "duration": 0.05612,
     "end_time": "2023-11-29T03:03:06.585436",
     "exception": false,
     "start_time": "2023-11-29T03:03:06.529316",
     "status": "completed"
    },
    "tags": []
   },
   "outputs": [
    {
     "data": {
      "text/plain": [
       "0    252\n",
       "1    166\n",
       "Name: count, dtype: int64"
      ]
     },
     "execution_count": 54,
     "metadata": {},
     "output_type": "execute_result"
    }
   ],
   "source": [
    "pd.Series(predictions).value_counts()"
   ]
  },
  {
   "cell_type": "markdown",
   "id": "69a7a5b0",
   "metadata": {
    "papermill": {
     "duration": 0.040957,
     "end_time": "2023-11-29T03:03:06.668024",
     "exception": false,
     "start_time": "2023-11-29T03:03:06.627067",
     "status": "completed"
    },
    "tags": []
   },
   "source": [
    "# Submission"
   ]
  },
  {
   "cell_type": "code",
   "execution_count": 55,
   "id": "72da115b",
   "metadata": {
    "execution": {
     "iopub.execute_input": "2023-11-29T03:03:06.753284Z",
     "iopub.status.busy": "2023-11-29T03:03:06.752844Z",
     "iopub.status.idle": "2023-11-29T03:03:06.768044Z",
     "shell.execute_reply": "2023-11-29T03:03:06.766622Z"
    },
    "papermill": {
     "duration": 0.061856,
     "end_time": "2023-11-29T03:03:06.770630",
     "exception": false,
     "start_time": "2023-11-29T03:03:06.708774",
     "status": "completed"
    },
    "tags": []
   },
   "outputs": [
    {
     "name": "stdout",
     "output_type": "stream",
     "text": [
      "(418,)\n"
     ]
    }
   ],
   "source": [
    "print(predictions.shape)\n",
    "\n",
    "sub=pd.read_csv('/kaggle/input/titanic/gender_submission.csv')\n",
    "\n",
    "# Add predictions\n",
    "sub['Survived']=predictions\n",
    "\n",
    "sub.to_csv('submission.csv', index=False)"
   ]
  }
 ],
 "metadata": {
  "kaggle": {
   "accelerator": "none",
   "dataSources": [
    {
     "databundleVersionId": 26502,
     "sourceId": 3136,
     "sourceType": "competition"
    }
   ],
   "dockerImageVersionId": 30587,
   "isGpuEnabled": false,
   "isInternetEnabled": true,
   "language": "python",
   "sourceType": "notebook"
  },
  "kernelspec": {
   "display_name": "Python 3",
   "language": "python",
   "name": "python3"
  },
  "language_info": {
   "codemirror_mode": {
    "name": "ipython",
    "version": 3
   },
   "file_extension": ".py",
   "mimetype": "text/x-python",
   "name": "python",
   "nbconvert_exporter": "python",
   "pygments_lexer": "ipython3",
   "version": "3.10.12"
  },
  "papermill": {
   "default_parameters": {},
   "duration": 56.804249,
   "end_time": "2023-11-29T03:03:07.833669",
   "environment_variables": {},
   "exception": null,
   "input_path": "__notebook__.ipynb",
   "output_path": "__notebook__.ipynb",
   "parameters": {},
   "start_time": "2023-11-29T03:02:11.029420",
   "version": "2.4.0"
  }
 },
 "nbformat": 4,
 "nbformat_minor": 5
}
